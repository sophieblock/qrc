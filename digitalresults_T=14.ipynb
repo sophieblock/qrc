{
 "cells": [
  {
   "cell_type": "code",
   "execution_count": 1,
   "metadata": {},
   "outputs": [],
   "source": [
    "import pickle\n",
    "from pathlib import Path\n",
    "import numpy as np\n",
    "import statistics\n",
    "import numpy as np\n",
    "import sympy\n",
    "import matplotlib.pyplot as plt\n",
    "import base64\n",
    "import pickle\n",
    "from sympy import symbols, MatrixSymbol, lambdify, Matrix, pprint\n",
    "\n",
    "from scipy.optimize import minimize\n",
    "from matplotlib.ticker import FuncFormatter\n",
    "from sympy import symbols, MatrixSymbol, lambdify\n",
    "from matplotlib import cm\n",
    "import random\n",
    "import matplotlib.colors as mcolors\n",
    "import scipy\n",
    "import time\n",
    "from pathlib import Path\n",
    "import os\n",
    "import ast\n",
    "import pandas as pd\n",
    "from pathlib import Path\n",
    "from matplotlib.ticker import ScalarFormatter\n",
    "\n",
    "\n",
    "import pennylane as qml\n",
    "from functools import partial\n",
    "from qiskit.circuit.library import *\n",
    "from qiskit import *\n",
    "from qiskit.quantum_info import *\n",
    "import autograd\n",
    "from pennylane.wires import Wires\n",
    "import matplotlib.cm as cm\n",
    "import base64\n",
    "from qiskit import *\n",
    "import math\n",
    "from qiskit.quantum_info import *"
   ]
  },
  {
   "cell_type": "code",
   "execution_count": 2,
   "metadata": {},
   "outputs": [],
   "source": [
    "import numpy as np\n",
    "import numpy.ma as ma\n",
    "from ANALYSIS_SPECIFIC_CONFIG import is_valid_pickle_file,spread_per_sample_vectorized,spread_pooling_vectorized, load_and_clean_pickle, extract_Nr, extract_trotter_step\n",
    "\n",
    "def process_data_dqfim(df, threshold, by_test, Nc, N_R, trot, print_bool=False):\n",
    "    \"\"\"\n",
    "    Create a list of dictionaries, each representing one (fixed_params_key, test_key) row.\n",
    "    Returns a list of row-dicts for direct DataFrame construction.\n",
    "    \"\"\"\n",
    "    rows = []\n",
    "    for fixed_params_key, test_dict in df.items():\n",
    "        for test_key, results in test_dict.items():\n",
    "            qfim_eigvals = results.get('qfim_eigvals', None)\n",
    "            qfim_mat = results.get('qfim',None)\n",
    "            # print(f\"qfim_mat.shape: {qfim_mat.shape}\")\n",
    "            entropies      = results.get('entropies', None)\n",
    "            input_states = results.get('L',None)\n",
    "            n_reserv = results.get('n_reserv',None)\n",
    "            # assert n_reserv == N_R, f'{N_R}. Actual: {n_reserv}'\n",
    "            T = results.get('time_steps',None)\n",
    "            # assert T == trot, f'{trot}. Actual: {T}'\n",
    "            row = {\n",
    "                \"N_ctrl\": Nc,\n",
    "                \"N_reserv\": n_reserv,\n",
    "                \"Trotter_Step\": T,\n",
    "                \"fixed_params_key\": fixed_params_key,\n",
    "                \"test_key\": test_key,\n",
    "                \"qfim_eigvals\": qfim_eigvals,\n",
    "                \"qfim_mat\":qfim_mat,\n",
    "                \"entropies\": entropies,\n",
    "                \"input_states\":input_states,\n",
    "                \"num_inputs\":len(input_states)\n",
    "                # Add any other fields you might need later\n",
    "            }\n",
    "            rows.append(row)\n",
    "    return rows\n",
    "def build_df_expanded_DQFIM(base_path, sample_range, model_type, N_ctrls, K_str,datasize, threshold, by_test):\n",
    "    \"\"\"\n",
    "   \n",
    "    \"\"\"\n",
    "    from pathlib import Path\n",
    "    import os\n",
    "    import pandas as pd\n",
    "\n",
    "    all_expanded_rows = []\n",
    "    processed_files = []\n",
    "    \n",
    "    # Iterate over each N_ctrl value\n",
    "    for N_ctrl in N_ctrls:\n",
    "        model_path = Path(base_path) / \"QFIM_global_results\" / f\"{model_type}_model_DQFIM\" / f\"Nc_{N_ctrl}\" / f\"sample_{sample_range}/{K_str}xK\"\n",
    "        if not model_path.exists():\n",
    "            print(f\"[WARN] Model path {model_path} does not exist for N_ctrl={N_ctrl}.\")\n",
    "            continue\n",
    "        \n",
    "        # Iterate over each Nr directory\n",
    "        for Nr in sorted(os.listdir(model_path)):\n",
    "            Nr_path = model_path / Nr\n",
    "            if not Nr_path.is_dir():\n",
    "                continue\n",
    "            \n",
    "            # Iterate over each trotter step directory\n",
    "            print(sorted(os.listdir(Nr_path)))\n",
    "            for trotter_step_dir in sorted(os.listdir(Nr_path)):\n",
    "                trotter_step_path = Nr_path / trotter_step_dir\n",
    "                if not trotter_step_path.is_dir():\n",
    "                    continue\n",
    "                \n",
    "                data_file = trotter_step_path / f\"L_{datasize}/data.pickle\"\n",
    "                if not data_file.exists():\n",
    "                    continue\n",
    "                processed_files.append(data_file)\n",
    "                # Validate the pickle file without using cached results\n",
    "                if not is_valid_pickle_file(data_file):\n",
    "                    continue\n",
    "                \n",
    "                # Load the raw pickle data\n",
    "                raw_data = load_and_clean_pickle(data_file)\n",
    "                # Extract trotter step and reservoir count from the directory structure\n",
    "                try:\n",
    "                    trotter_step_num = extract_trotter_step(data_file)\n",
    "                    reservoir_count = extract_Nr(data_file)\n",
    "                except Exception as e:\n",
    "                    print(f\"[ERROR] Could not extract parameters from {data_file}: {e}\")\n",
    "                    continue\n",
    "\n",
    "                # Process raw data using your expanded function (do not use cached expanded rows)\n",
    "                expanded_rows = process_data_dqfim(raw_data, threshold, by_test, N_ctrl, reservoir_count, trotter_step_num)\n",
    "                all_expanded_rows.extend(expanded_rows)\n",
    "\n",
    "    return pd.DataFrame(all_expanded_rows),processed_files\n",
    "import numpy as np\n",
    "import numpy.ma as ma\n",
    "#############################################\n",
    "# Revised compute_single_draw_stats function #\n",
    "#############################################\n",
    "def compute_single_draw_stats(\n",
    "    eigvals,\n",
    "    full_qfim_mat,\n",
    "    threshold=1e-10,\n",
    "    spread_methods=(\"variance\", \"mad\"),\n",
    "    ddof=1,\n",
    "    scale=\"normal\",\n",
    "    gamma=1.0,\n",
    "    n=1,\n",
    "    V_theta=1.0,\n",
    "    n_ctrl=None,\n",
    "    n_reserv=None,\n",
    "    trotter_step=None,\n",
    "):\n",
    "    \"\"\"\n",
    "    Compute QFIM (or DQFIM) statistics for a SINGLE set of eigenvalues (one draw),\n",
    "    and also compute an effective dimension from the provided full QFIM matrix.\n",
    "    \n",
    "    Returned dictionary includes:\n",
    "      - \"draw_rank\"\n",
    "      - \"var_all_eigenvalues\"\n",
    "      - \"var_nonzero_eigenvalues\"\n",
    "      - \"trace_eigenvalues\"\n",
    "      - \"var_all_normalized_by_param_count\"\n",
    "      - \"trace_normalized_by_rank\"\n",
    "      - \"var_nonzero_log\"\n",
    "      - \"trace_normalized_by_param_count\"\n",
    "      - \"ipr_deff_raw\"        (raw IPR measure)\n",
    "      - \"ipr_deff_norm\"       (IPR computed on trace-normalized eigenvalues)\n",
    "      - \"abbas_deff_raw\"      (sum(log(1 + alpha*λ)) on raw eigenvalues)\n",
    "      - \"abbas_deff_norm\"     (sum(log(1 + alpha*λ)) on trace-normalized eigenvalues)\n",
    "      - \"effective_dimension\" (computed from the trace-normalized full QFIM)\n",
    "      - \"spread_metric_{method}\" for each method in spread_methods.\n",
    "    \n",
    "    Parameters\n",
    "    ----------\n",
    "    eigvals : array-like\n",
    "        Eigenvalues for this single QFIM (or DQFIM) draw.\n",
    "    full_qfim_mat : array-like (2D)\n",
    "        The full QFIM matrix for this draw.\n",
    "    threshold : float\n",
    "        Zero out eigenvalues below this threshold.\n",
    "    spread_methods : tuple of str\n",
    "        Methods for \"spread-of-log\" metrics.\n",
    "    ddof : int\n",
    "        Degrees of freedom for variance computations.\n",
    "    scale : str\n",
    "        Scale indicator for spread metrics.\n",
    "    gamma : float\n",
    "        Scaling parameter in the Abbas formula (typically in (0,1]).\n",
    "    n : int\n",
    "        Number of data samples used in the Abbas formula.\n",
    "    V_theta : float\n",
    "        Volume factor (typically 1.0).\n",
    "    n_ctrl, n_reserv, trotter_step : optional\n",
    "        Additional metadata.\n",
    "    \n",
    "    Returns\n",
    "    -------\n",
    "    stats_dict : dict\n",
    "        Dictionary of computed statistics.\n",
    "    \"\"\"\n",
    "    # Ensure eigvals is a 1D NumPy array.\n",
    "    arr = np.array(eigvals, dtype=float)\n",
    "    if arr.ndim != 1:\n",
    "        arr = arr.flatten()\n",
    "    # Zero out small eigenvalues.\n",
    "    arr = np.where(arr < threshold, 0.0, arr)\n",
    "    \n",
    "    # --- 1) Basic stats ---\n",
    "    draw_rank = np.count_nonzero(arr)\n",
    "    var_all_eigenvalues = np.var(arr, ddof=ddof)\n",
    "    # Variance on nonzero values using Boolean indexing.\n",
    "    nonzero = arr[arr > threshold]\n",
    "    var_nonzero_eigenvalues = np.var(nonzero, ddof=ddof) if nonzero.size > 1 else 0.0\n",
    "    var_nonzero_log = np.log(var_nonzero_eigenvalues) if var_nonzero_eigenvalues > 0 else -np.inf\n",
    "    trace_eigenvalues = np.sum(arr)\n",
    "    \n",
    "    var_normalized_by_param_count = var_all_eigenvalues / len(arr)\n",
    "    var_nonzero_normalized_by_rank = var_nonzero_eigenvalues / draw_rank\n",
    "    var_normalized_by_rank = var_all_eigenvalues / draw_rank\n",
    "    trace_normalized_by_rank = (trace_eigenvalues / draw_rank) if draw_rank > 0 else 0.0\n",
    "    trace_normalized_by_param_count = trace_eigenvalues / len(arr)\n",
    "    \n",
    "    # --- 2) IPR-based dimensions ---\n",
    "    # Raw IPR: (trace^2) / (sum of squares)\n",
    "    sum_of_squares = np.sum(arr**2)\n",
    "    ipr_deff_raw = (trace_eigenvalues**2) / sum_of_squares if sum_of_squares > 0 else 0.0\n",
    "    \n",
    "    # Normalized IPR: using normalized eigenvalues (p = λ/trace)\n",
    "    if trace_eigenvalues > 0:\n",
    "        arr_norm = arr / trace_eigenvalues\n",
    "        sum_norm_sq = np.sum(arr_norm**2)\n",
    "        ipr_deff_norm = 1.0 / sum_norm_sq if sum_norm_sq > 0 else 0.0\n",
    "    else:\n",
    "        arr_norm = None\n",
    "        ipr_deff_norm = 0.0\n",
    "    \n",
    "    # --- 3) Abbas-based dimensions ---\n",
    "    # Compute alpha = (gamma * n) / (2*log(n)) if n>1, else use limit.\n",
    "    if n > 1 and math.log(n) != 0.0:\n",
    "        alpha = (gamma * n) / (2.0 * math.log(n))\n",
    "    else:\n",
    "        alpha = 0.0\n",
    "    # Raw Abbas: computed on original eigenvalues.\n",
    "    abbas_deff_raw = np.sum(np.log(np.maximum(1.0 + alpha * arr, 1e-15)))\n",
    "    # Normalized Abbas: computed on trace-normalized eigenvalues.\n",
    "    if arr_norm is not None:\n",
    "        abbas_deff_norm = np.sum(np.log(np.maximum(1.0 + alpha * arr_norm, 1e-15)))\n",
    "    else:\n",
    "        abbas_deff_norm = 0.0\n",
    "    \n",
    "    # --- 4) Effective dimension from the full QFIM ---\n",
    "    # Normalize the full QFIM by its trace BEFORE diagonalizing.\n",
    "    F = np.array(full_qfim_mat, dtype=float)\n",
    "    trF = np.trace(F)\n",
    "    if trF > 0:\n",
    "        F_hat = F / trF\n",
    "        eigs_F = np.linalg.eigvalsh(F_hat)  # Eigenvalues of the normalized full QFIM.\n",
    "        eps = 1e-12\n",
    "        # Here, effective dimension is computed from the normalized spectrum p_i.\n",
    "        # If n > 1, use the standard formula; if n == 1, use the limit:\n",
    "        if n > 1 and math.log(n) != 0.0:\n",
    "            z = 0.5 * np.sum(np.log(1.0 + n * eigs_F + eps))\n",
    "            effective_dimension = (2.0 / np.log(n)) * z\n",
    "        else:\n",
    "            # For n == 1, define effective dimension as the sum_i p_i/(1+p_i)\n",
    "            effective_dimension = np.sum(eigs_F / (1.0 + eigs_F))\n",
    "    else:\n",
    "        effective_dimension = 0.0\n",
    "    \n",
    "    # --- 5) Spread-of-log metrics ---\n",
    "    # Reshape arr into a 1-row 2D array for external functions.\n",
    "    arr_2d = arr.reshape(1, -1)\n",
    "    spread_metrics = {}\n",
    "    for method in spread_methods:\n",
    "        per_draw = spread_per_sample_vectorized(arr_2d, method=method, threshold=threshold, ddof=ddof, scale=scale)\n",
    "        spread_metrics[f\"spread_metric_{method}\"] = per_draw[0] if per_draw.size > 0 else 0.0\n",
    "    \n",
    "    # --- 6) Build final dictionary ---\n",
    "    stats_dict = {\n",
    "        # Basic stats\n",
    "        \"draw_rank\": draw_rank,\n",
    "        \"var_all_eigenvalues\": var_all_eigenvalues,\n",
    "        \"var_nonzero_eigenvalues\": var_nonzero_eigenvalues,\n",
    "        \"trace_eigenvalues\": trace_eigenvalues,\n",
    "        \"var_all_normalized_by_param_count\": var_normalized_by_param_count,\n",
    "        \"var_all_normalized_by_rank\": var_normalized_by_rank,\n",
    "        \"var_nonzero_normalized_by_rank\":var_nonzero_normalized_by_rank,\n",
    "        \"trace_normalized_by_rank\": trace_normalized_by_rank,\n",
    "        \"trace_normalized_by_param_count\": trace_normalized_by_param_count,\n",
    "        \"var_nonzero_log\": var_nonzero_log,\n",
    "        \n",
    "        # IPR-based dimensions\n",
    "        \"ipr_deff_raw\": ipr_deff_raw,\n",
    "        \"ipr_deff_norm\": ipr_deff_norm,\n",
    "        \n",
    "        # Abbas-based dimensions\n",
    "        \"abbas_deff_raw\": abbas_deff_raw,\n",
    "        \"abbas_deff_norm\": abbas_deff_norm,\n",
    "        \n",
    "        # Effective dimension computed from the full QFIM (trace-normalized)\n",
    "        \"d_eff\": effective_dimension,\n",
    "    }\n",
    "    stats_dict.update(spread_metrics)\n",
    "    \n",
    "    return stats_dict"
   ]
  },
  {
   "cell_type": "code",
   "execution_count": 109,
   "metadata": {},
   "outputs": [
    {
     "name": "stdout",
     "output_type": "stream",
     "text": [
      "df_results shape: (120, 26)\n"
     ]
    }
   ],
   "source": [
    "import os\n",
    "import pickle\n",
    "import numpy as np\n",
    "import pandas as pd\n",
    "from IPython.display import display  # Ensure this is not overwritten elsewhere\n",
    "\n",
    "\n",
    "def clean_array(data):\n",
    "    \"\"\"Helper function to clean any deprecated JAX arrays.\"\"\"\n",
    "    if isinstance(data, np.ndarray):\n",
    "        return np.array(data)  # Ensure the array doesn't have deprecated attributes\n",
    "    elif isinstance(data, dict):\n",
    "        return {k: clean_array(v) for k, v in data.items()}\n",
    "    elif isinstance(data, list):\n",
    "        return [clean_array(v) for v in data]\n",
    "    else:\n",
    "        return data\n",
    "\n",
    "def get_dqfim_full_from_storage(num_L,N_R,N_C, T,test_key,fixed_param_dict_key=\"fixed_params0\"):\n",
    "\n",
    "    file_path = (\n",
    "        f\"/Users/sophieblock/QRCcapstone/parameter_analysis_directory/\"\n",
    "        f\"QFIM_global_results/gate_model_DQFIM/Nc_{N_C}/sample_pi/1bbxK/\"\n",
    "        f\"Nr_{N_R}/trotter_step_{T}/L_{num_L}/data.pickle\"\n",
    "    )\n",
    "    # print(file_path)\n",
    "    with open(file_path, 'rb') as f:\n",
    "        all_tests_data = pickle.load(f)\n",
    "\n",
    "\n",
    "    results = all_tests_data[fixed_param_dict_key][test_key]\n",
    "    return results.get('qfim',None)\n",
    "def read_jax_file(file_path, gate_name,test_key):\n",
    "    \"\"\"\n",
    "   \n",
    "    \"\"\"\n",
    "    with open(file_path, 'rb') as f:\n",
    "        df = pickle.load(f)\n",
    "    df = clean_array(df)\n",
    "    # print(df.keys())\n",
    "    # print(df.get('controls', None), df.get('controls', None)[0])\n",
    "    try:\n",
    "        costs = np.asarray([float(i) for i in df['costs'][0]], dtype=np.float64)\n",
    "    except Exception as e:\n",
    "        print(f\"Error reading costs from {file_path}: {e}\")\n",
    "        costs = None\n",
    "        \n",
    "    try:\n",
    "        grads_per_epoch = [np.asarray(i, dtype=np.float64) for i in df['grads_per_epoch'][0]]\n",
    "    except Exception as e:\n",
    "        print(f\"Error reading grads_per_epoch from {file_path}: {e}\")\n",
    "        grads_per_epoch = None\n",
    "        \n",
    "    try:\n",
    "        fidelity = float(df['avg_fidelity'][0])\n",
    "    except Exception as e:\n",
    "        print(f\"Error reading avg_fidelity from {file_path}: {e}\")\n",
    "        fidelity = None\n",
    "        \n",
    "    try:\n",
    "        num_params = 3 + int(df['controls'][0]) * int(df['reservoirs'][0]) * int(df['trotter_step'][0])\n",
    "    except Exception as e:\n",
    "        print(f\"Error computing num_params from {file_path}: {e}\")\n",
    "        num_params = None\n",
    "        \n",
    "    try:\n",
    "        test_results = np.asarray(df['testing_results'][0], dtype=np.float64)\n",
    "    except Exception as e:\n",
    "        print(f\"Error reading testing_results from {file_path}: {e}\")\n",
    "        test_results = None\n",
    "        \n",
    "    # Read QFIM Results (GHZ initial state)\n",
    "    qfim_stats_dict_GHZ = df.get('QFIM Results', [None])[0]\n",
    "    if qfim_stats_dict_GHZ is None:\n",
    "        print(f\"Warning: 'QFIM Results' not found in {file_path}\")\n",
    "        qfim_eigvals_GHZ = qfim_full_GHZ = entropy_GHZ = None\n",
    "    else:\n",
    "        qfim_eigvals_GHZ = qfim_stats_dict_GHZ.get('qfim_eigvals', None)\n",
    "        if qfim_eigvals_GHZ is None:\n",
    "            print(f\"Warning: 'qfim_eigvals' not found in QFIM Results in {file_path}\")\n",
    "        qfim_full_GHZ = qfim_stats_dict_GHZ.get('qfim', None)\n",
    "        entropy_GHZ = qfim_stats_dict_GHZ.get('entropy', None)\n",
    "    \n",
    "    # Read QFIM Basis State stats\n",
    "    qfim_stats_dict_basis = df.get('QFIM_basis_state', [None])[0]\n",
    "    if qfim_stats_dict_basis is None:\n",
    "        print(f\"Warning: 'QFIM_basis_state' not found in {file_path}\")\n",
    "        qfim_eigvals = qfim_full = entropy = None\n",
    "    else:\n",
    "        qfim_eigvals = qfim_stats_dict_basis.get('qfim_eigvals', None)\n",
    "        if qfim_eigvals is None:\n",
    "            print(f\"Warning: 'qfim_eigvals' not found in QFIM_basis_state in {file_path}\")\n",
    "        qfim_full = qfim_stats_dict_basis.get('qfim', None)\n",
    "        entropy = qfim_stats_dict_basis.get('entropy', None)\n",
    "    \n",
    "    # Read DQFIM stats\n",
    "    dqfim_stats_dict = df.get('DQFIM_stats', [None])[0]\n",
    "    if dqfim_stats_dict is None:\n",
    "        print(f\"Warning: 'DQFIM_stats' not found in {file_path}\")\n",
    "        dqfim_eigvals = dqfim_full = dqfim_entropies = L_val = None\n",
    "    else:\n",
    "        dqfim_eigvals = dqfim_stats_dict.get('dqfim_eigvals', None)\n",
    "        if dqfim_eigvals is None:\n",
    "            print(f\"Warning: 'qfim_eigvals' not found in DQFIM_stats in {file_path}\")\n",
    "        dqfim_full = dqfim_stats_dict.get('dqfim', None)\n",
    "        L = dqfim_stats_dict.get('L', None)\n",
    "        if dqfim_full is None:\n",
    "            # extract from raw file\n",
    "            dqfim_full = get_dqfim_full_from_storage(num_L=len(L),N_R=df.get('reservoirs', None)[0],N_C= df.get('controls', None)[0], T = df.get('trotter_step', None)[0], test_key=test_key)\n",
    "        dqfim_entropies = dqfim_stats_dict.get('entropies', None)\n",
    "    \n",
    "\n",
    "\n",
    "    # Read target DQFIM stats\n",
    "    target_dqfim_stats_dict = df.get(\"target DQFIM stats\", [None])[0]\n",
    "    if target_dqfim_stats_dict is None:\n",
    "        print(f\"Warning: 'target DQFIM stats' not found in {file_path}\")\n",
    "        target_dqfim_eigvals = target_dqfim_full = target_dqfim_entropies = None\n",
    "    else:\n",
    "        target_dqfim_eigvals = target_dqfim_stats_dict.get('dqfim_eigvals', None)\n",
    "        target_dqfim_full = target_dqfim_stats_dict.get('DQFIM', None)\n",
    "        target_dqfim_entropies = target_dqfim_stats_dict.get('entropies', None)\n",
    "    \n",
    "    result = {\n",
    "        \"costs\": costs,\n",
    "        \"fidelity\": fidelity,\n",
    "        \"num_params\": num_params,\n",
    "        \"test_results\": test_results,\n",
    "        \"qfim_eigvals_GHZ\": qfim_eigvals_GHZ,\n",
    "        \"qfim_full_GHZ\": qfim_full_GHZ,\n",
    "        \"entropy_GHZ\": entropy_GHZ,\n",
    "        \"qfim_eigvals\": qfim_eigvals,\n",
    "        \"qfim_full\": qfim_full,\n",
    "        \"entropy\": entropy,\n",
    "        \"dqfim_eigvals\": dqfim_eigvals,\n",
    "        \"dqfim_full\": dqfim_full,\n",
    "        \"dqfim_entropies\": dqfim_entropies,\n",
    "        \"L\": L,\n",
    "        \"num_sampled_states\": len(L) if L is not None else 0,\n",
    "        \"target_dqfim_eigvals\": target_dqfim_eigvals,\n",
    "        \"target_dqfim_full\": target_dqfim_full,\n",
    "        \"target_dqfim_entropies\": target_dqfim_entropies,\n",
    "        \"num_train\": len(L) if len(L) == len(target_dqfim_entropies) else len(target_dqfim_entropies),\n",
    "        \"N_ctrl\": df.get('controls', None)[0],\n",
    "        \"Trotter_Step\": df.get('trotter_step', None)[0],\n",
    "        \"N_R\": df.get('reservoirs', None)[0],\n",
    "        \"gate\": gate_name\n",
    "    }\n",
    "    return result\n",
    "def build_df_results(fixed_param_folder, base_folder,N_C = 2):\n",
    "    \"\"\"\n",
    "    Build a DataFrame by reading pickle files stored in the following hierarchy:\n",
    "    \n",
    "    base_folder/\n",
    "        trainsize_{train_size}/\n",
    "            sample_pi/\n",
    "                {fixed_param_folder}/\n",
    "                    {test_key}/\n",
    "                        {gate_folder}/\n",
    "                            data_run_0.pickle\n",
    "\n",
    "    For each pickle file, this function calls read_jax_file to extract relevant fields,\n",
    "    and adds additional columns for 'test_key' and 'gate_folder'.\n",
    "\n",
    "    Parameters\n",
    "    ----------\n",
    "    fixed_param_folder : str\n",
    "        The folder name for fixed parameters (e.g. 'fixed_params0').\n",
    "    base_folder : str\n",
    "        The base directory for the experiment results. For example:\n",
    "        \"/Users/sophieblock/QRCCapstone/parameter_analysis_directory/param_initialization_final/digital_results/Nc_2/reservoirs_1/trotter_8/trainsize_10/sample_pi\"\n",
    "\n",
    "    Returns\n",
    "    -------\n",
    "    pd.DataFrame\n",
    "        A DataFrame where each row corresponds to one pickle file's extracted data,\n",
    "        augmented with the test key and gate folder.\n",
    "    \"\"\"\n",
    "    rows = []\n",
    "    full_path = os.path.join(base_folder, fixed_param_folder)\n",
    "    # print(f\"Scanning results in: {full_path}\")\n",
    "    \n",
    "    # Loop over test key folders.\n",
    "    for test_key in os.listdir(full_path):\n",
    "        test_key_path = os.path.join(full_path, test_key)\n",
    "        if not os.path.isdir(test_key_path):\n",
    "            print(f\"Skipping non-directory: {test_key_path}\")\n",
    "            continue\n",
    "        \n",
    "        # Loop over gate folders inside each test key folder.\n",
    "        for gate_folder in os.listdir(test_key_path):\n",
    "            # Enforce expected naming.\n",
    "            if not gate_folder.startswith(f\"U{N_C}_\"):\n",
    "                # print(f\"Skipping gate folder {gate_folder} as it does not match expected pattern.\")\n",
    "                continue\n",
    "            gate_folder_path = os.path.join(test_key_path, gate_folder)\n",
    "            if not os.path.isdir(gate_folder_path):\n",
    "                print(f\"Skipping non-directory: {gate_folder_path}\")\n",
    "                continue\n",
    "            pickle_file = os.path.join(gate_folder_path, \"data_run_0.pickle\")\n",
    "            # print(f\"Looking for pickle file: {pickle_file}\")\n",
    "            if os.path.isfile(pickle_file):\n",
    "                try:\n",
    "                    # Use read_jax_file to extract the data.\n",
    "                    data = read_jax_file(pickle_file, gate_folder,test_key)\n",
    "                    # Add metadata.\n",
    "                    data[\"test_key\"] = test_key\n",
    "                    data[\"gate_folder\"] = gate_folder\n",
    "                    data[\"file_path\"] = pickle_file\n",
    "                    rows.append(data)\n",
    "                    # print(f\"Loaded data from {pickle_file}\")\n",
    "                except Exception as ex:\n",
    "                    print(f\"Error processing {pickle_file}: {ex}\")\n",
    "            else:\n",
    "                print(f\"Pickle file does not exist: {pickle_file}\")\n",
    "    \n",
    "    df_results = pd.DataFrame(rows)\n",
    "    return df_results\n",
    "\n",
    "\n",
    "trotter_Step = 14\n",
    "fixed_param_folder = \"fixed_params0\"\n",
    "num_epochs = 1500\n",
    "train_size = 20\n",
    "base_folder = f\"/Users/sophieblock/QRCCapstone/parameter_analysis_directory/param_initialization_final/digital_results_res2/Nc_2//epochs_{num_epochs}/reservoirs_1/trotter_{trotter_Step}/trainsize_{train_size}/sample_pi\"\n",
    "df_results = build_df_results(fixed_param_folder, base_folder)\n",
    "\n",
    "print(\"df_results shape:\", df_results.shape)\n",
    "\n",
    "#  /Users/sophieblock/QRCCapstone/parameter_analysis_directory/param_initialization_final/digital_results/Nc_2/epochs_1000/reservoirs_1/trotter_12/trainsize_20/sample_positive_pi/fixed_params0/test0\n",
    "# IMPORTANT: If you get an error saying \"TypeError: 'list' object is not callable\" when calling display(df_results.head()),\n",
    "# ensure that you haven't overwritten the built-in 'display' function (e.g., by assigning a list to display).\n",
    "# display(df_results.head())"
   ]
  },
  {
   "cell_type": "code",
   "execution_count": 26,
   "metadata": {},
   "outputs": [
    {
     "data": {
      "text/plain": [
       "array(['test18', 'test104', 'test7', 'test175', 'test129', 'test79',\n",
       "       'test197', 'test122'], dtype=object)"
      ]
     },
     "execution_count": 26,
     "metadata": {},
     "output_type": "execute_result"
    }
   ],
   "source": [
    "df_results['test_key'].unique()"
   ]
  },
  {
   "cell_type": "code",
   "execution_count": 33,
   "metadata": {},
   "outputs": [
    {
     "data": {
      "text/plain": [
       "Index(['costs', 'fidelity', 'num_params', 'test_results', 'qfim_eigvals',\n",
       "       'qfim_full', 'entropy', 'N_ctrl', 'Trotter_Step', 'N_R', 'gate',\n",
       "       'test_key', 'gate_folder', 'file_path'],\n",
       "      dtype='object')"
      ]
     },
     "execution_count": 33,
     "metadata": {},
     "output_type": "execute_result"
    }
   ],
   "source": [
    "df_results.keys()"
   ]
  },
  {
   "cell_type": "code",
   "execution_count": 111,
   "metadata": {},
   "outputs": [
    {
     "name": "stdout",
     "output_type": "stream",
     "text": [
      "Aggregated DataFrame shape: (120, 23)\n"
     ]
    },
    {
     "data": {
      "text/plain": [
       "Index(['test_key', 'gate', 'fidelities_list', 'avg_fidelity', 'error',\n",
       "       'qfim_eigvals_GHZ', 'qfim_full_GHZ', 'entropy_GHZ', 'qfim_eigvals',\n",
       "       'qfim_full', 'entropy', 'dqfim_eigvals', 'dqfim_full',\n",
       "       'dqfim_entropies', 'target_dqfim_eigvals', 'target_dqfim_full',\n",
       "       'target_dqfim_entropies', 'N_ctrl', 'N_R', 'Trotter_Step', 'L',\n",
       "       'num_sampled_states', 'num_train'],\n",
       "      dtype='object')"
      ]
     },
     "metadata": {},
     "output_type": "display_data"
    },
    {
     "name": "stderr",
     "output_type": "stream",
     "text": [
      "/var/folders/xx/w2tzbky134bg3g8mct87xb8c0000gn/T/ipykernel_82297/2990458844.py:210: ComplexWarning:\n",
      "\n",
      "Casting complex values to real discards the imaginary part\n",
      "\n"
     ]
    },
    {
     "data": {
      "text/plain": [
       "(120, 91)"
      ]
     },
     "execution_count": 111,
     "metadata": {},
     "output_type": "execute_result"
    }
   ],
   "source": [
    "import numpy as np\n",
    "import pandas as pd\n",
    "def aggregate_results(df):\n",
    "    \"\"\"\n",
    "    Aggregate the DataFrame by test_key and gate.\n",
    "    For each test_key/gate combination, aggregate key columns.\n",
    "    \"\"\"\n",
    "    aggregated = df.groupby([\"test_key\", \"gate\"]).agg(\n",
    "        fidelities_list=(\"fidelity\", list),\n",
    "        avg_fidelity=(\"fidelity\", \"mean\"),\n",
    "        error=(\"fidelity\", lambda x: np.mean(np.log(1 - x))),\n",
    "        qfim_eigvals_GHZ=(\"qfim_eigvals_GHZ\", \"first\"),\n",
    "        qfim_full_GHZ=(\"qfim_full_GHZ\", \"first\"),\n",
    "        entropy_GHZ=(\"entropy_GHZ\", \"first\"),\n",
    "        qfim_eigvals=(\"qfim_eigvals\", \"first\"),\n",
    "        qfim_full=(\"qfim_full\", \"first\"),\n",
    "        entropy=(\"entropy\", \"first\"),\n",
    "        dqfim_eigvals=(\"dqfim_eigvals\", \"first\"),\n",
    "        dqfim_full=(\"dqfim_full\", \"first\"),\n",
    "        dqfim_entropies=(\"dqfim_entropies\", \"first\"),\n",
    "        target_dqfim_eigvals=(\"target_dqfim_eigvals\", \"first\"),\n",
    "        target_dqfim_full=(\"target_dqfim_full\", \"first\"),\n",
    "        target_dqfim_entropies=(\"target_dqfim_entropies\", \"first\"),\n",
    "        N_ctrl=(\"N_ctrl\", \"first\"),\n",
    "        N_R=(\"N_R\", \"first\"),\n",
    "        Trotter_Step=(\"Trotter_Step\", \"first\"),\n",
    "        L=(\"L\", \"first\"),\n",
    "        num_sampled_states=(\"num_sampled_states\", \"first\"),\n",
    "        num_train = (\"num_train\",\"first\")\n",
    "    ).reset_index()\n",
    "    \n",
    "    return aggregated\n",
    "\n",
    "\n",
    "def update_with_all_qfim_metrics(df, threshold=1e-12, spread_methods=(\"variance\", \"mad\"),\n",
    "                                 ddof=1, scale=\"normal\", gamma=0.1, n=1, V_theta=1.0):\n",
    "    \"\"\"\n",
    "    For each row (one test_key/gate combination), compute derived metrics for all four QFIM variants:\n",
    "      - GHZ QFIM (from \"qfim_eigvals_GHZ\" and \"qfim_full_GHZ\")\n",
    "      - Basis QFIM (from \"qfim_eigvals\" and \"qfim_full\")\n",
    "      - DQFIM (from \"dqfim_eigvals\"; note: if you don’t store a full DQFIM matrix, you may need to pass a dummy matrix)\n",
    "      - Target DQFIM (from \"target_dqfim_eigvals\" and \"target_dqfim_full\")\n",
    "    \n",
    "    Returns a new DataFrame with the computed stats added with suffixes.\n",
    "    \"\"\"\n",
    "    new_rows = []\n",
    "    for _, row in df.iterrows():\n",
    "        # GHZ QFIM metrics:\n",
    "        ghz_stats = compute_single_draw_stats(\n",
    "            row[\"qfim_eigvals_GHZ\"],\n",
    "            row[\"qfim_full_GHZ\"],\n",
    "            threshold=threshold,\n",
    "            spread_methods=spread_methods,\n",
    "            ddof=ddof,\n",
    "            scale=scale,\n",
    "            gamma=gamma,\n",
    "            n=n,\n",
    "            V_theta=V_theta,\n",
    "            n_ctrl=row[\"N_ctrl\"],\n",
    "            n_reserv=row[\"N_R\"],\n",
    "            trotter_step=row[\"Trotter_Step\"]\n",
    "        )\n",
    "        # Basis QFIM metrics:\n",
    "        basis_stats = compute_single_draw_stats(\n",
    "            row[\"qfim_eigvals\"],\n",
    "            row[\"qfim_full\"],\n",
    "            threshold=threshold,\n",
    "            spread_methods=spread_methods,\n",
    "            ddof=ddof,\n",
    "            scale=scale,\n",
    "            gamma=gamma,\n",
    "            n=n,\n",
    "            V_theta=V_theta,\n",
    "            n_ctrl=row[\"N_ctrl\"],\n",
    "            n_reserv=row[\"N_R\"],\n",
    "            trotter_step=row[\"Trotter_Step\"]\n",
    "        )\n",
    "        # DQFIM metrics:\n",
    "     \n",
    "        assert isinstance(row['num_sampled_states'],int)\n",
    "        dqfim_stats = compute_single_draw_stats(\n",
    "            row[\"dqfim_eigvals\"],\n",
    "            row[\"dqfim_full\"],\n",
    "            threshold=threshold,\n",
    "            spread_methods=spread_methods,\n",
    "            ddof=ddof,\n",
    "            scale=scale,\n",
    "            gamma=gamma,\n",
    "            n=row['num_sampled_states'],\n",
    "            V_theta=V_theta,\n",
    "            n_ctrl=row[\"N_ctrl\"],\n",
    "            n_reserv=row[\"N_R\"],\n",
    "            trotter_step=row[\"Trotter_Step\"]\n",
    "        )\n",
    "       \n",
    "        # Target DQFIM metrics:\n",
    "        target_stats = compute_single_draw_stats(\n",
    "            row[\"target_dqfim_eigvals\"],\n",
    "            row[\"target_dqfim_full\"],\n",
    "            threshold=threshold,\n",
    "            spread_methods=spread_methods,\n",
    "            ddof=ddof,\n",
    "            scale=scale,\n",
    "            gamma=gamma,\n",
    "            n=row['num_train'],\n",
    "            V_theta=V_theta,\n",
    "            n_ctrl=row[\"N_ctrl\"],\n",
    "            n_reserv=row[\"N_R\"],\n",
    "            trotter_step=row[\"Trotter_Step\"]\n",
    "        )\n",
    "        \n",
    "        updated_row = row.to_dict()\n",
    "        # Add the computed stats with suffixes to distinguish them.\n",
    "        updated_row.update({f\"GHZ_{k}\": v for k, v in ghz_stats.items()})\n",
    "        updated_row.update({f\"basis_{k}\": v for k, v in basis_stats.items()})\n",
    "        updated_row.update({f\"dqfim_{k}\": v for k, v in dqfim_stats.items()})\n",
    "        updated_row.update({f\"target_{k}\": v for k, v in target_stats.items()})\n",
    "        new_rows.append(updated_row)\n",
    "    return pd.DataFrame(new_rows)\n",
    "\n",
    "df_agg = aggregate_results(df_results)\n",
    "print(\"Aggregated DataFrame shape:\", df_agg.shape)\n",
    "display(df_agg.keys())\n",
    "\n",
    "\n",
    "df_final = update_with_all_qfim_metrics(df_agg)\n",
    "df_final.shape\n"
   ]
  },
  {
   "cell_type": "code",
   "execution_count": 116,
   "metadata": {},
   "outputs": [
    {
     "data": {
      "text/html": [
       "<div>\n",
       "<style scoped>\n",
       "    .dataframe tbody tr th:only-of-type {\n",
       "        vertical-align: middle;\n",
       "    }\n",
       "\n",
       "    .dataframe tbody tr th {\n",
       "        vertical-align: top;\n",
       "    }\n",
       "\n",
       "    .dataframe thead th {\n",
       "        text-align: right;\n",
       "    }\n",
       "</style>\n",
       "<table border=\"1\" class=\"dataframe\">\n",
       "  <thead>\n",
       "    <tr style=\"text-align: right;\">\n",
       "      <th></th>\n",
       "      <th>gate</th>\n",
       "      <th>test_key</th>\n",
       "      <th>target_dqfim_eigvals</th>\n",
       "      <th>qfim_eigvals_GHZ</th>\n",
       "    </tr>\n",
       "  </thead>\n",
       "  <tbody>\n",
       "    <tr>\n",
       "      <th>0</th>\n",
       "      <td>U2_0</td>\n",
       "      <td>test104</td>\n",
       "      <td>[-1.2358426e-16, -7.742247e-17, -4.27567e-17, ...</td>\n",
       "      <td>[-2.3746058e-16, -1.9421301e-16, -1.174653e-16...</td>\n",
       "    </tr>\n",
       "    <tr>\n",
       "      <th>1</th>\n",
       "      <td>U2_1</td>\n",
       "      <td>test104</td>\n",
       "      <td>[-8.9524295e-17, -5.0148797e-17, -3.8625023e-1...</td>\n",
       "      <td>[-2.3746058e-16, -1.9421301e-16, -1.174653e-16...</td>\n",
       "    </tr>\n",
       "  </tbody>\n",
       "</table>\n",
       "</div>"
      ],
      "text/plain": [
       "   gate test_key                               target_dqfim_eigvals  \\\n",
       "0  U2_0  test104  [-1.2358426e-16, -7.742247e-17, -4.27567e-17, ...   \n",
       "1  U2_1  test104  [-8.9524295e-17, -5.0148797e-17, -3.8625023e-1...   \n",
       "\n",
       "                                    qfim_eigvals_GHZ  \n",
       "0  [-2.3746058e-16, -1.9421301e-16, -1.174653e-16...  \n",
       "1  [-2.3746058e-16, -1.9421301e-16, -1.174653e-16...  "
      ]
     },
     "metadata": {},
     "output_type": "display_data"
    }
   ],
   "source": [
    "# Filter for test_key 'test104' and gates 'U2_0' or 'U2_1'\n",
    "subset_df = df_agg[\n",
    "    (df_agg[\"test_key\"] == \"test104\") & \n",
    "    (df_agg[\"gate\"].isin([\"U2_0\", \"U2_1\"]))\n",
    "][[\"gate\", \"test_key\", \"target_dqfim_eigvals\", \"qfim_eigvals_GHZ\"]]\n",
    "\n",
    "display(subset_df)"
   ]
  },
  {
   "cell_type": "code",
   "execution_count": 117,
   "metadata": {},
   "outputs": [
    {
     "data": {
      "text/html": [
       "<div>\n",
       "<style scoped>\n",
       "    .dataframe tbody tr th:only-of-type {\n",
       "        vertical-align: middle;\n",
       "    }\n",
       "\n",
       "    .dataframe tbody tr th {\n",
       "        vertical-align: top;\n",
       "    }\n",
       "\n",
       "    .dataframe thead th {\n",
       "        text-align: right;\n",
       "    }\n",
       "</style>\n",
       "<table border=\"1\" class=\"dataframe\">\n",
       "  <thead>\n",
       "    <tr style=\"text-align: right;\">\n",
       "      <th></th>\n",
       "      <th>gate</th>\n",
       "      <th>test_key</th>\n",
       "      <th>target_dqfim_eigvals</th>\n",
       "      <th>target_trace_normalized_by_rank</th>\n",
       "      <th>qfim_eigvals_GHZ</th>\n",
       "      <th>GHZ_trace_normalized_by_rank</th>\n",
       "    </tr>\n",
       "  </thead>\n",
       "  <tbody>\n",
       "    <tr>\n",
       "      <th>0</th>\n",
       "      <td>U2_0</td>\n",
       "      <td>test104</td>\n",
       "      <td>[-1.2358426e-16, -7.742247e-17, -4.27567e-17, ...</td>\n",
       "      <td>1.167499</td>\n",
       "      <td>[-2.3746058e-16, -1.9421301e-16, -1.174653e-16...</td>\n",
       "      <td>5.227454</td>\n",
       "    </tr>\n",
       "    <tr>\n",
       "      <th>1</th>\n",
       "      <td>U2_1</td>\n",
       "      <td>test104</td>\n",
       "      <td>[-8.9524295e-17, -5.0148797e-17, -3.8625023e-1...</td>\n",
       "      <td>1.301251</td>\n",
       "      <td>[-2.3746058e-16, -1.9421301e-16, -1.174653e-16...</td>\n",
       "      <td>5.227454</td>\n",
       "    </tr>\n",
       "  </tbody>\n",
       "</table>\n",
       "</div>"
      ],
      "text/plain": [
       "   gate test_key                               target_dqfim_eigvals  \\\n",
       "0  U2_0  test104  [-1.2358426e-16, -7.742247e-17, -4.27567e-17, ...   \n",
       "1  U2_1  test104  [-8.9524295e-17, -5.0148797e-17, -3.8625023e-1...   \n",
       "\n",
       "   target_trace_normalized_by_rank  \\\n",
       "0                         1.167499   \n",
       "1                         1.301251   \n",
       "\n",
       "                                    qfim_eigvals_GHZ  \\\n",
       "0  [-2.3746058e-16, -1.9421301e-16, -1.174653e-16...   \n",
       "1  [-2.3746058e-16, -1.9421301e-16, -1.174653e-16...   \n",
       "\n",
       "   GHZ_trace_normalized_by_rank  \n",
       "0                      5.227454  \n",
       "1                      5.227454  "
      ]
     },
     "metadata": {},
     "output_type": "display_data"
    }
   ],
   "source": [
    "# Filter for test_key 'test104' and gates 'U2_0' or 'U2_1'\n",
    "subset_df = df_final[\n",
    "    (df_final[\"test_key\"] == \"test104\") & \n",
    "    (df_final[\"gate\"].isin([\"U2_0\", \"U2_1\"]))\n",
    "][[\"gate\", \"test_key\", \"target_dqfim_eigvals\",'target_trace_normalized_by_rank', \"qfim_eigvals_GHZ\",'GHZ_trace_normalized_by_rank']]\n",
    "\n",
    "display(subset_df)"
   ]
  },
  {
   "cell_type": "code",
   "execution_count": null,
   "metadata": {},
   "outputs": [],
   "source": [
    "df_final"
   ]
  },
  {
   "cell_type": "code",
   "execution_count": 113,
   "metadata": {},
   "outputs": [
    {
     "data": {
      "text/plain": [
       "Index(['test_key', 'gate', 'fidelities_list', 'avg_fidelity', 'error',\n",
       "       'qfim_eigvals_GHZ', 'qfim_full_GHZ', 'entropy_GHZ', 'qfim_eigvals',\n",
       "       'qfim_full', 'entropy', 'dqfim_eigvals', 'dqfim_full',\n",
       "       'dqfim_entropies', 'target_dqfim_eigvals', 'target_dqfim_full',\n",
       "       'target_dqfim_entropies', 'N_ctrl', 'N_R', 'Trotter_Step', 'L',\n",
       "       'num_sampled_states', 'num_train', 'GHZ_draw_rank',\n",
       "       'GHZ_var_all_eigenvalues', 'GHZ_var_nonzero_eigenvalues',\n",
       "       'GHZ_trace_eigenvalues', 'GHZ_var_all_normalized_by_param_count',\n",
       "       'GHZ_var_all_normalized_by_rank', 'GHZ_var_nonzero_normalized_by_rank',\n",
       "       'GHZ_trace_normalized_by_rank', 'GHZ_trace_normalized_by_param_count',\n",
       "       'GHZ_var_nonzero_log', 'GHZ_ipr_deff_raw', 'GHZ_ipr_deff_norm',\n",
       "       'GHZ_abbas_deff_raw', 'GHZ_abbas_deff_norm', 'GHZ_d_eff',\n",
       "       'GHZ_spread_metric_variance', 'GHZ_spread_metric_mad',\n",
       "       'basis_draw_rank', 'basis_var_all_eigenvalues',\n",
       "       'basis_var_nonzero_eigenvalues', 'basis_trace_eigenvalues',\n",
       "       'basis_var_all_normalized_by_param_count',\n",
       "       'basis_var_all_normalized_by_rank',\n",
       "       'basis_var_nonzero_normalized_by_rank',\n",
       "       'basis_trace_normalized_by_rank',\n",
       "       'basis_trace_normalized_by_param_count', 'basis_var_nonzero_log',\n",
       "       'basis_ipr_deff_raw', 'basis_ipr_deff_norm', 'basis_abbas_deff_raw',\n",
       "       'basis_abbas_deff_norm', 'basis_d_eff', 'basis_spread_metric_variance',\n",
       "       'basis_spread_metric_mad', 'dqfim_draw_rank',\n",
       "       'dqfim_var_all_eigenvalues', 'dqfim_var_nonzero_eigenvalues',\n",
       "       'dqfim_trace_eigenvalues', 'dqfim_var_all_normalized_by_param_count',\n",
       "       'dqfim_var_all_normalized_by_rank',\n",
       "       'dqfim_var_nonzero_normalized_by_rank',\n",
       "       'dqfim_trace_normalized_by_rank',\n",
       "       'dqfim_trace_normalized_by_param_count', 'dqfim_var_nonzero_log',\n",
       "       'dqfim_ipr_deff_raw', 'dqfim_ipr_deff_norm', 'dqfim_abbas_deff_raw',\n",
       "       'dqfim_abbas_deff_norm', 'dqfim_d_eff', 'dqfim_spread_metric_variance',\n",
       "       'dqfim_spread_metric_mad', 'target_draw_rank',\n",
       "       'target_var_all_eigenvalues', 'target_var_nonzero_eigenvalues',\n",
       "       'target_trace_eigenvalues', 'target_var_all_normalized_by_param_count',\n",
       "       'target_var_all_normalized_by_rank',\n",
       "       'target_var_nonzero_normalized_by_rank',\n",
       "       'target_trace_normalized_by_rank',\n",
       "       'target_trace_normalized_by_param_count', 'target_var_nonzero_log',\n",
       "       'target_ipr_deff_raw', 'target_ipr_deff_norm', 'target_abbas_deff_raw',\n",
       "       'target_abbas_deff_norm', 'target_d_eff',\n",
       "       'target_spread_metric_variance', 'target_spread_metric_mad'],\n",
       "      dtype='object')"
      ]
     },
     "execution_count": 113,
     "metadata": {},
     "output_type": "execute_result"
    }
   ],
   "source": [
    "df_final.columns"
   ]
  },
  {
   "cell_type": "code",
   "execution_count": 114,
   "metadata": {},
   "outputs": [],
   "source": [
    "import pingouin as pg\n",
    "\n",
    "def analyze_correlations(df_merged, x_metric, metrics_of_interest, corr_threshold=0.2, p_threshold=0.05):\n",
    "    \"\"\"\n",
    "    Analyze pairwise correlations between a given x_metric and each metric in metrics_of_interest.\n",
    "    \n",
    "    Parameters\n",
    "    ----------\n",
    "    df_merged : pd.DataFrame\n",
    "        The merged DataFrame containing the columns of interest.\n",
    "    x_metric : str\n",
    "        The column name for the independent variable (e.g., \"avg_fidelity\").\n",
    "    metrics_of_interest : list of str\n",
    "        List of column names whose correlations with x_metric will be computed.\n",
    "    corr_threshold : float, optional\n",
    "        Minimum absolute correlation coefficient to report (default 0.2).\n",
    "    p_threshold : float, optional\n",
    "        Maximum p-value threshold to report (default 0.05).\n",
    "        \n",
    "    Returns\n",
    "    -------\n",
    "    pearson_results : dict\n",
    "        Dictionary mapping each metric to its Pearson correlation coefficient and p-value.\n",
    "    spearman_results : dict\n",
    "        Dictionary mapping each metric to its Spearman correlation coefficient and p-value.\n",
    "    \"\"\"\n",
    "    # Create a new DataFrame with the columns of interest and drop rows with NaN values.\n",
    "    df_corr = df_merged[[x_metric] + metrics_of_interest].copy()\n",
    "    df_corr = df_corr.dropna(subset=[x_metric] + metrics_of_interest)\n",
    "    # print(\"Columns in df_corr:\", df_corr.columns)\n",
    "    # print(\"Number of rows after dropna:\", len(df_corr))\n",
    "    \n",
    "    # Ensure that each metric column contains float values (e.g., convert from JAX arrays if needed)\n",
    "    for col in metrics_of_interest:\n",
    "        df_corr[col] = df_corr[col].apply(\n",
    "            lambda val: float(val.item()) if hasattr(val, \"item\") else float(val)\n",
    "        )\n",
    "    \n",
    "    # Compute Pearson correlations for each metric.\n",
    "    pearson_results = {}\n",
    "    for col in metrics_of_interest:\n",
    "        res_df = pg.corr(x=df_corr[x_metric], y=df_corr[col], method=\"pearson\")\n",
    "        r_val = res_df[\"r\"].iloc[0]\n",
    "        p_val = res_df[\"p-val\"].iloc[0]\n",
    "        pearson_results[col] = {\"pearson_r\": r_val, \"p_value\": p_val}\n",
    "    \n",
    "    # Compute Spearman correlations for each metric.\n",
    "    spearman_results = {}\n",
    "    for col in metrics_of_interest:\n",
    "        sp_df = pg.corr(x=df_corr[x_metric], y=df_corr[col], method=\"spearman\")\n",
    "        rho_val = sp_df[\"r\"].iloc[0]\n",
    "        p_val = sp_df[\"p-val\"].iloc[0]\n",
    "        spearman_results[col] = {\"spearman_rho\": rho_val, \"p_value\": p_val}\n",
    "    \n",
    "    # Print out the correlations that meet the filtering thresholds.\n",
    "    print(f\"\\nPairwise correlations vs. {x_metric} (Pearson):\")\n",
    "    for metric, vals in pearson_results.items():\n",
    "        if abs(vals[\"pearson_r\"]) > corr_threshold and vals[\"p_value\"] < p_threshold:\n",
    "            print(f\"{metric}: r={vals['pearson_r']:.3f}, p={vals['p_value']:.3g}\")\n",
    "    \n",
    "    print(f\"\\nPairwise correlations vs. {x_metric} (Spearman):\")\n",
    "    for metric, vals in spearman_results.items():\n",
    "        if abs(vals[\"spearman_rho\"]) > corr_threshold and vals[\"p_value\"] < p_threshold:\n",
    "            print(f\"{metric}: rho={vals['spearman_rho']:.3f}, p={vals['p_value']:.3g}\")\n",
    "    \n",
    "    return pearson_results, spearman_results\n"
   ]
  },
  {
   "cell_type": "code",
   "execution_count": 119,
   "metadata": {},
   "outputs": [
    {
     "name": "stdout",
     "output_type": "stream",
     "text": [
      "\n",
      "Pairwise correlations vs. avg_fidelity (Pearson):\n",
      "\n",
      "Pairwise correlations vs. avg_fidelity (Spearman):\n",
      "\n",
      "Pairwise correlations vs. avg_fidelity (Pearson):\n",
      "\n",
      "Pairwise correlations vs. avg_fidelity (Spearman):\n",
      "\n",
      "Pairwise correlations vs. avg_fidelity (Pearson):\n",
      "dqfim_abbas_deff_norm: r=0.205, p=0.0246\n",
      "\n",
      "Pairwise correlations vs. avg_fidelity (Spearman):\n",
      "\n",
      "Pairwise correlations vs. avg_fidelity (Pearson):\n",
      "target_ipr_deff_norm: r=0.207, p=0.0233\n",
      "target_abbas_deff_norm: r=0.221, p=0.0153\n",
      "\n",
      "Pairwise correlations vs. avg_fidelity (Spearman):\n",
      "target_spread_metric_mad: rho=0.295, p=0.00105\n"
     ]
    },
    {
     "name": "stderr",
     "output_type": "stream",
     "text": [
      "/Users/sophieblock/miniforge3/envs/torch_env/lib/python3.11/site-packages/pingouin/correlation.py:604: ConstantInputWarning:\n",
      "\n",
      "An input array is constant; the correlation coefficient is not defined.\n",
      "\n",
      "/Users/sophieblock/miniforge3/envs/torch_env/lib/python3.11/site-packages/pingouin/correlation.py:606: ConstantInputWarning:\n",
      "\n",
      "An input array is constant; the correlation coefficient is not defined.\n",
      "\n",
      "/Users/sophieblock/miniforge3/envs/torch_env/lib/python3.11/site-packages/pingouin/correlation.py:604: ConstantInputWarning:\n",
      "\n",
      "An input array is constant; the correlation coefficient is not defined.\n",
      "\n",
      "/Users/sophieblock/miniforge3/envs/torch_env/lib/python3.11/site-packages/pingouin/correlation.py:606: ConstantInputWarning:\n",
      "\n",
      "An input array is constant; the correlation coefficient is not defined.\n",
      "\n"
     ]
    }
   ],
   "source": [
    "CORR_THRESHOLD = 0.2\n",
    "P_THRESHOLD = 0.05\n",
    "x_metric = \"avg_fidelity\"\n",
    "metrics_of_interest_ghz = [\n",
    "\n",
    "  \n",
    "       'GHZ_var_all_normalized_by_rank', 'GHZ_var_nonzero_normalized_by_rank',\n",
    "       'GHZ_trace_normalized_by_rank', \n",
    "       'GHZ_var_nonzero_log',  'GHZ_ipr_deff_norm',\n",
    "       'GHZ_abbas_deff_raw', 'GHZ_abbas_deff_norm', 'GHZ_d_eff',\n",
    "       'GHZ_spread_metric_variance', 'GHZ_spread_metric_mad',\n",
    "]\n",
    "# Now you can use these common thresholds in your calls:\n",
    "pearson_corrs_ghz, spearman_corrs_ghz = analyze_correlations(\n",
    "    df_final, x_metric, metrics_of_interest_ghz,\n",
    "    corr_threshold=CORR_THRESHOLD, p_threshold=P_THRESHOLD\n",
    ")\n",
    "\n",
    "\n",
    "metrics_of_interest_basis = [\n",
    "\n",
    "\n",
    "  \n",
    "       'basis_var_all_normalized_by_rank',\n",
    "       'basis_var_nonzero_normalized_by_rank',\n",
    "       'basis_trace_normalized_by_rank',\n",
    "        'basis_var_nonzero_log',\n",
    "      'basis_ipr_deff_norm', 'basis_abbas_deff_raw',\n",
    "       'basis_abbas_deff_norm', 'basis_d_eff', 'basis_spread_metric_variance',\n",
    "       'basis_spread_metric_mad'\n",
    "]\n",
    "pearson_corrs_basis, spearman_corrs_basis = analyze_correlations(\n",
    "    df_final, x_metric, metrics_of_interest_basis,\n",
    "    corr_threshold=CORR_THRESHOLD, p_threshold=P_THRESHOLD\n",
    ")\n",
    "\n",
    "\n",
    "metrics_of_interest_dqfim = [\n",
    "\n",
    "     \n",
    "       'dqfim_var_all_normalized_by_rank',\n",
    "       'dqfim_var_nonzero_normalized_by_rank',\n",
    "       'dqfim_trace_normalized_by_rank',\n",
    "       'dqfim_var_nonzero_log',\n",
    "     'dqfim_ipr_deff_norm', 'dqfim_abbas_deff_raw',\n",
    "       'dqfim_abbas_deff_norm', 'dqfim_d_eff', 'dqfim_spread_metric_variance',\n",
    "       'dqfim_spread_metric_mad'\n",
    "]\n",
    "pearson_corrs_dqfim, spearman_corrs_dqfim = analyze_correlations(\n",
    "    df_final, x_metric, metrics_of_interest_dqfim,\n",
    "    corr_threshold=CORR_THRESHOLD, p_threshold=P_THRESHOLD\n",
    ")\n",
    "\n",
    "\n",
    "metrics_of_interest_targ_dqfim = [\n",
    "    \n",
    "       'target_var_all_normalized_by_rank',\n",
    "       'target_var_nonzero_normalized_by_rank',\n",
    "       'target_trace_normalized_by_rank',\n",
    "       'target_var_nonzero_log',\n",
    "      'target_ipr_deff_norm', 'target_abbas_deff_raw',\n",
    "       'target_abbas_deff_norm', 'target_d_eff',\n",
    "       'target_spread_metric_variance', 'target_spread_metric_mad']\n",
    "pearson_corrs_targ, spearman_corrs_targ = analyze_correlations(\n",
    "    df_final, x_metric, metrics_of_interest_targ_dqfim,\n",
    "    corr_threshold=CORR_THRESHOLD, p_threshold=P_THRESHOLD\n",
    ")\n",
    "# print(f\"\\nPairwise correlations vs. {x_metric} (Pearson):\")\n",
    "# for metric, vals in pearson_corrs.items():\n",
    "    \n",
    "#     print(f\"{metric}: r={vals['pearson_r']:.3f}, p={vals['p_value']:.3g}\")"
   ]
  },
  {
   "cell_type": "code",
   "execution_count": null,
   "metadata": {},
   "outputs": [],
   "source": [
    "selected_metrics = ['basis_var_nonzero_normalized_by_rank', 'basis_trace_normalized_by_rank', 'dqfim_ipr_deff_raw', 'dqfim_abbas_deff_norm','target_spread_metric_mad']"
   ]
  },
  {
   "cell_type": "code",
   "execution_count": 120,
   "metadata": {},
   "outputs": [
    {
     "data": {
      "application/vnd.plotly.v1+json": {
       "config": {
        "plotlyServerURL": "https://plot.ly"
       },
       "data": [
        {
         "customdata": [
          [
           "test104"
          ],
          [
           "test104"
          ],
          [
           "test104"
          ],
          [
           "test104"
          ],
          [
           "test104"
          ],
          [
           "test104"
          ],
          [
           "test104"
          ],
          [
           "test104"
          ],
          [
           "test104"
          ],
          [
           "test104"
          ],
          [
           "test104"
          ],
          [
           "test104"
          ],
          [
           "test104"
          ],
          [
           "test104"
          ],
          [
           "test104"
          ],
          [
           "test122"
          ],
          [
           "test122"
          ],
          [
           "test122"
          ],
          [
           "test122"
          ],
          [
           "test122"
          ],
          [
           "test122"
          ],
          [
           "test122"
          ],
          [
           "test122"
          ],
          [
           "test122"
          ],
          [
           "test122"
          ],
          [
           "test122"
          ],
          [
           "test122"
          ],
          [
           "test122"
          ],
          [
           "test122"
          ],
          [
           "test122"
          ],
          [
           "test129"
          ],
          [
           "test129"
          ],
          [
           "test129"
          ],
          [
           "test129"
          ],
          [
           "test129"
          ],
          [
           "test129"
          ],
          [
           "test129"
          ],
          [
           "test129"
          ],
          [
           "test129"
          ],
          [
           "test129"
          ],
          [
           "test129"
          ],
          [
           "test129"
          ],
          [
           "test129"
          ],
          [
           "test129"
          ],
          [
           "test129"
          ],
          [
           "test175"
          ],
          [
           "test175"
          ],
          [
           "test175"
          ],
          [
           "test175"
          ],
          [
           "test175"
          ],
          [
           "test175"
          ],
          [
           "test175"
          ],
          [
           "test175"
          ],
          [
           "test175"
          ],
          [
           "test175"
          ],
          [
           "test175"
          ],
          [
           "test175"
          ],
          [
           "test175"
          ],
          [
           "test175"
          ],
          [
           "test175"
          ],
          [
           "test18"
          ],
          [
           "test18"
          ],
          [
           "test18"
          ],
          [
           "test18"
          ],
          [
           "test18"
          ],
          [
           "test18"
          ],
          [
           "test18"
          ],
          [
           "test18"
          ],
          [
           "test18"
          ],
          [
           "test18"
          ],
          [
           "test18"
          ],
          [
           "test18"
          ],
          [
           "test18"
          ],
          [
           "test18"
          ],
          [
           "test18"
          ],
          [
           "test197"
          ],
          [
           "test197"
          ],
          [
           "test197"
          ],
          [
           "test197"
          ],
          [
           "test197"
          ],
          [
           "test197"
          ],
          [
           "test197"
          ],
          [
           "test197"
          ],
          [
           "test197"
          ],
          [
           "test197"
          ],
          [
           "test197"
          ],
          [
           "test197"
          ],
          [
           "test197"
          ],
          [
           "test197"
          ],
          [
           "test197"
          ],
          [
           "test7"
          ],
          [
           "test7"
          ],
          [
           "test7"
          ],
          [
           "test7"
          ],
          [
           "test7"
          ],
          [
           "test7"
          ],
          [
           "test7"
          ],
          [
           "test7"
          ],
          [
           "test7"
          ],
          [
           "test7"
          ],
          [
           "test7"
          ],
          [
           "test7"
          ],
          [
           "test7"
          ],
          [
           "test7"
          ],
          [
           "test7"
          ],
          [
           "test79"
          ],
          [
           "test79"
          ],
          [
           "test79"
          ],
          [
           "test79"
          ],
          [
           "test79"
          ],
          [
           "test79"
          ],
          [
           "test79"
          ],
          [
           "test79"
          ],
          [
           "test79"
          ],
          [
           "test79"
          ],
          [
           "test79"
          ],
          [
           "test79"
          ],
          [
           "test79"
          ],
          [
           "test79"
          ],
          [
           "test79"
          ]
         ],
         "dimensions": [
          {
           "axis": {
            "matches": true
           },
           "label": "dqfim_abbas_deff_norm",
           "values": [
            0.8113653412112268,
            0.8113653412112268,
            0.8113653412112268,
            0.8113653412112268,
            0.8113653412112268,
            0.8113653412112268,
            0.8113653412112268,
            0.8113653412112268,
            0.8113653412112268,
            0.8113653412112268,
            0.8113653412112268,
            0.8113653412112268,
            0.8113653412112268,
            0.8113653412112268,
            0.8113653412112268,
            0.850301179389688,
            0.850301179389688,
            0.850301179389688,
            0.850301179389688,
            0.850301179389688,
            0.850301179389688,
            0.850301179389688,
            0.850301179389688,
            0.850301179389688,
            0.850301179389688,
            0.850301179389688,
            0.850301179389688,
            0.850301179389688,
            0.850301179389688,
            0.850301179389688,
            0.9026534227984755,
            0.9026534227984755,
            0.9026534227984755,
            0.9026534227984755,
            0.9026534227984755,
            0.9026534227984755,
            0.9026534227984755,
            0.9026534227984755,
            0.9026534227984755,
            0.9026534227984755,
            0.9026534227984755,
            0.9026534227984755,
            0.9026534227984755,
            0.9026534227984755,
            0.9026534227984755,
            0.9163782527616106,
            0.9163782527616106,
            0.9163782527616106,
            0.9163782527616106,
            0.9163782527616106,
            0.9163782527616106,
            0.9163782527616106,
            0.9163782527616106,
            0.9163782527616106,
            0.9163782527616106,
            0.9163782527616106,
            0.9163782527616106,
            0.9163782527616106,
            0.9163782527616106,
            0.9163782527616106,
            0.9685502518571184,
            0.9685502518571184,
            0.9685502518571184,
            0.9685502518571184,
            0.9685502518571184,
            0.9685502518571184,
            0.9685502518571184,
            0.9685502518571184,
            0.9685502518571184,
            0.9685502518571184,
            0.9685502518571184,
            0.9685502518571184,
            0.9685502518571184,
            0.9685502518571184,
            0.9685502518571184,
            0.8735078816721448,
            0.8735078816721448,
            0.8735078816721448,
            0.8735078816721448,
            0.8735078816721448,
            0.8735078816721448,
            0.8735078816721448,
            0.8735078816721448,
            0.8735078816721448,
            0.8735078816721448,
            0.8735078816721448,
            0.8735078816721448,
            0.8735078816721448,
            0.8735078816721448,
            0.8735078816721448,
            0.9105471266041114,
            0.9105471266041114,
            0.9105471266041114,
            0.9105471266041114,
            0.9105471266041114,
            0.9105471266041114,
            0.9105471266041114,
            0.9105471266041114,
            0.9105471266041114,
            0.9105471266041114,
            0.9105471266041114,
            0.9105471266041114,
            0.9105471266041114,
            0.9105471266041114,
            0.9105471266041114,
            0.8707174730921328,
            0.8707174730921328,
            0.8707174730921328,
            0.8707174730921328,
            0.8707174730921328,
            0.8707174730921328,
            0.8707174730921328,
            0.8707174730921328,
            0.8707174730921328,
            0.8707174730921328,
            0.8707174730921328,
            0.8707174730921328,
            0.8707174730921328,
            0.8707174730921328,
            0.8707174730921328
           ]
          },
          {
           "axis": {
            "matches": true
           },
           "label": "target_ipr_deff_raw",
           "values": [
            1.5631184554507311,
            1.2701078957122636,
            1.4485737309731985,
            1.5843032224647036,
            1.4230222747283736,
            1.6581693433842837,
            1.3636648728821485,
            1.271382299505506,
            1.6017371280941797,
            1.4551024372073127,
            1.3762187701977977,
            1.4917233116898188,
            1.3164281301841572,
            1.455134088438927,
            1.2785562777764978,
            1.4409913030765378,
            2.086889710860806,
            1.7243953146354525,
            1.9011060608168253,
            1.5206362437690737,
            1.4541844756086992,
            1.6451213445182788,
            1.4714246604273298,
            1.6546437501231677,
            1.4725096963872075,
            1.680599982427394,
            1.5212737386492186,
            1.7962083705525627,
            1.4707519943182086,
            1.5022787436774834,
            2.9380005311390707,
            3.2322132203681684,
            2.4072125416607104,
            2.920365653952346,
            2.3739775099645724,
            2.509927152863725,
            2.4618915746527614,
            2.8355627684054228,
            2.3941093073129682,
            2.3946840144141994,
            2.980551648693265,
            2.434863912125467,
            2.266982393777543,
            2.53307177517962,
            2.9995606521666365,
            2.175641069020431,
            1.891477755176377,
            2.6186075954466106,
            2.334373867859302,
            2.498119488199759,
            3.246853308811881,
            2.216975625877357,
            2.0848449918063636,
            2.533249696871084,
            2.413823764088104,
            2.3085920878878654,
            2.652067976129674,
            2.428739703626518,
            2.5269031844505485,
            2.4236334264529864,
            4.6123654491100465,
            5.170264399491749,
            4.515907501246147,
            4.331677497739849,
            4.471576364180354,
            4.147054571788275,
            4.18725719990014,
            5.047858489620575,
            4.558476361433359,
            4.246398052690565,
            4.774672456392328,
            4.559410159515689,
            4.348426520910638,
            4.467038751344076,
            4.519933927767204,
            2.522003056725726,
            2.367264438419852,
            2.7123869219050634,
            2.3070717791384485,
            2.659416157051705,
            2.5755552884259383,
            2.4974815346068517,
            2.6657719568078777,
            2.379390388085076,
            2.0632971006989327,
            1.8887408807292758,
            2.6049681230352912,
            2.364760052142407,
            2.5009918778569653,
            2.552433579662118,
            2.6427197565292238,
            2.429563923902793,
            2.603100387516857,
            2.385311694480542,
            2.6277578775554966,
            2.9719363189090355,
            2.6776223233410987,
            2.700803888407641,
            3.1650094066705674,
            2.6881662165635696,
            2.8850068193195346,
            3.287049715310428,
            2.3749166904869696,
            2.9292311549111147,
            2.751285999760179,
            1.790688453770396,
            2.0971380141323173,
            1.7036739475239115,
            2.02414198746351,
            1.9388626277261676,
            1.8125335307625976,
            1.9058349959918157,
            1.9499031258393749,
            1.503028627925914,
            1.8313083780923936,
            2.034849219881412,
            1.6978683406597055,
            2.005285023181413,
            1.7123673610467867,
            2.5226032860409355
           ]
          },
          {
           "axis": {
            "matches": true
           },
           "label": "target_abbas_deff_norm",
           "values": [
            0.3032721961953954,
            0.2970015315985339,
            0.3011472059128187,
            0.30366440388394594,
            0.30060782675843584,
            0.30491344222574057,
            0.29927527376353885,
            0.2970395838925423,
            0.3039325331007917,
            0.3012529693455922,
            0.29957394140472016,
            0.3020008325039968,
            0.29817840755050873,
            0.30128546663598293,
            0.29722674595285786,
            0.3010235789419531,
            0.3103683271787985,
            0.30596657566731894,
            0.30832846709908623,
            0.3025881302817774,
            0.3012937041086273,
            0.3047569404190442,
            0.3016291340239048,
            0.304897369746676,
            0.3016583723310226,
            0.3052741214124205,
            0.3025860714688556,
            0.30697529899928067,
            0.3016268902370486,
            0.30223867362424084,
            0.3166034131024231,
            0.31804353703175026,
            0.3132338301778942,
            0.31653980742318016,
            0.31295323641950895,
            0.31402688671677825,
            0.3136073097261841,
            0.3161118077896424,
            0.3130997876055324,
            0.3130894349756511,
            0.31682638357202103,
            0.31340063449040734,
            0.3120991784973289,
            0.3141528306983825,
            0.31694385890629273,
            0.31124124000392667,
            0.3081879702386115,
            0.31468157185500445,
            0.3126482510601527,
            0.3138533613718966,
            0.3180113175457108,
            0.3115588888255714,
            0.310389041337758,
            0.31403996725690486,
            0.31314715782153785,
            0.3123806069283975,
            0.31481355713357795,
            0.31338791877742156,
            0.3140688561657263,
            0.3133447687594344,
            0.3224061943532925,
            0.3235588392339186,
            0.3222284608498173,
            0.32174600291259176,
            0.32208815508089816,
            0.3212281397156953,
            0.32136100507413123,
            0.3233223738653714,
            0.32230570191823726,
            0.3214909632012269,
            0.3227771363076497,
            0.32226635404359827,
            0.3217367819079712,
            0.32206051341959974,
            0.3221820137048744,
            0.3138364648306575,
            0.31271792124086506,
            0.3151219817627229,
            0.31230158343036707,
            0.31465474395280746,
            0.31421659317021566,
            0.31358871134946614,
            0.3147847912862714,
            0.3127400899090996,
            0.31001943124434783,
            0.30809198849767605,
            0.3144281387327776,
            0.31272485968441355,
            0.31380150294293735,
            0.31403816312675925,
            0.31483245864641873,
            0.3134233471281255,
            0.31460210054197724,
            0.3130330201866905,
            0.31474410425288035,
            0.31674860288803314,
            0.31506431940542695,
            0.31525087998358386,
            0.31767842208192465,
            0.31512267953097095,
            0.3162842061790597,
            0.3182112115744302,
            0.312907821993459,
            0.31648743502461474,
            0.3155592618156152,
            0.30673065136768396,
            0.3101862959088568,
            0.3055183753182324,
            0.3094312006104417,
            0.3085059388354465,
            0.3070026924993832,
            0.3081303626528554,
            0.30866350900407213,
            0.302157250290169,
            0.3072224929085724,
            0.30956444635744135,
            0.30538557630119045,
            0.30924729246513877,
            0.3055937371685483,
            0.31370622963463257
           ]
          },
          {
           "axis": {
            "matches": true
           },
           "label": "target_spread_metric_mad",
           "values": [
            2.656751127834143,
            2.301488909565047,
            2.371610802592688,
            2.737515521825402,
            2.594091948797455,
            2.3457577407131613,
            2.4915669732219468,
            2.511776683204707,
            2.4492241176324594,
            2.688292697700184,
            2.680044638174234,
            2.3460235747741414,
            2.550108076878067,
            2.7299758086515853,
            2.547911984020604,
            2.0342932531650884,
            1.8936504489179038,
            1.5810982457359688,
            2.274190219890704,
            2.5581211677332614,
            1.98306155958089,
            2.758853364083406,
            1.7878677273257777,
            2.11622583412218,
            2.629212612865307,
            2.596293922613375,
            2.315467074937643,
            2.265940828799871,
            2.4953975329009634,
            2.234060305736458,
            2.5446235265307013,
            2.8939106641354604,
            2.3902191481317523,
            2.9043861654725855,
            2.9548234404736187,
            2.785043042760149,
            3.3779924570382964,
            2.4688809390874558,
            2.128566719069009,
            2.3649554694788124,
            2.4914864538847494,
            2.3068867740243353,
            2.793850766952499,
            2.5103576831133187,
            2.4671662836657253,
            1.8375899445528248,
            2.504130727241866,
            2.026034336397589,
            2.655284076430092,
            2.4402096519935523,
            2.16630744176685,
            2.1399963996714026,
            2.1415558555674075,
            2.345550540300532,
            2.087517363191549,
            2.9193883947286206,
            2.363356934545039,
            2.517250744693591,
            1.9321442389588193,
            2.084822460575572,
            2.8685210770359295,
            2.685794621739968,
            2.5891346833182864,
            3.2847231513240938,
            3.192040688908208,
            2.428173443751212,
            3.1501567785457967,
            2.6864991632764545,
            2.6987127161649265,
            2.4169208548246472,
            3.0839440155915376,
            2.6442464133249826,
            2.6562508395855415,
            3.05038726685859,
            2.904390195487906,
            3.731731519963099,
            4.541050013351007,
            3.828610290662266,
            4.532852628777446,
            3.5172312517336355,
            3.3995946147395646,
            4.651179799275461,
            4.437258855009619,
            3.909663190306932,
            4.885361645793198,
            4.483818056107006,
            4.875009188329223,
            4.35938706153555,
            3.001862800653958,
            3.914924014899109,
            2.07289611510053,
            2.6231635090268637,
            2.5383371673970623,
            2.9946006411445376,
            2.807648024172223,
            3.03191837508866,
            2.9897934700320987,
            2.7285655985456314,
            2.5965866011951633,
            2.952860574794078,
            3.0105654564602213,
            3.013496933248038,
            2.765479888246786,
            2.610283082785968,
            2.572185843752606,
            2.2741176845711597,
            2.160957093872272,
            2.3533409297524743,
            2.9112016179040405,
            2.789331792588027,
            2.1287756606939534,
            2.753587270258281,
            2.6948627051930916,
            2.491884187776129,
            2.496144244644073,
            2.7758628083299066,
            2.657481435508616,
            2.1416386155410465,
            2.13078912894414,
            2.6439585493539957
           ]
          }
         ],
         "hovertemplate": "%{xaxis.title.text}=%{x}<br>%{yaxis.title.text}=%{y}<br>test_key=%{customdata[0]}<br>avg_fidelity=%{marker.color}<extra></extra>",
         "legendgroup": "",
         "marker": {
          "color": [
           0.9969393133956119,
           0.9948556010647092,
           0.9999561611844561,
           0.9998721633827081,
           0.9932813541632779,
           0.9903222210225227,
           0.9995292633728495,
           0.9978817413286931,
           0.987631013353358,
           0.9875220218141337,
           0.9967490486215989,
           0.9992543066263475,
           0.9995865574515542,
           0.9992348824200368,
           0.9899785005703782,
           0.9857840940859774,
           0.9925879402040522,
           0.9965492607351887,
           0.9966250139621639,
           0.9973682574534669,
           0.9954320377017284,
           0.9994570789438132,
           0.9972491626735525,
           0.9965134724387491,
           0.9995138010025374,
           0.9971013745384278,
           0.9991304783848551,
           0.9997512934654108,
           0.9935908194262416,
           0.9953670143899351,
           0.9976527838258156,
           0.99713664848997,
           0.9978756377760828,
           0.9988588860484822,
           0.9993824891299161,
           0.9991404281362068,
           0.9949842424447852,
           0.9988099406809814,
           0.9937665964742098,
           0.9986602533023068,
           0.9942824467894091,
           0.994965964640958,
           0.9992719570926291,
           0.999889589586411,
           0.9971262067187804,
           0.9987471287559517,
           0.9977945105751838,
           0.9988013084141149,
           0.9990401481896594,
           0.9952371648704719,
           0.998146330975131,
           0.9999657660942826,
           0.9958394153259813,
           0.9992399739569123,
           0.9939507655460667,
           0.9974408463819241,
           0.998879073097876,
           0.9855010094395132,
           0.9973142626516053,
           0.9957150766252078,
           0.996860978118755,
           0.9988243326952638,
           0.9967584755454878,
           0.9994095530215003,
           0.9994102010412949,
           0.999166370986273,
           0.9977530332042812,
           0.9976889740683464,
           0.9945218187147948,
           0.9976896938092789,
           0.9993945590010923,
           0.9991442654714413,
           0.9979602624092208,
           0.9996729260420284,
           0.9993561795455671,
           0.9916378069127816,
           0.9979278544224562,
           0.9997399898754747,
           0.9854872763305261,
           0.9984756921213707,
           0.9992957619701295,
           0.9995143838250778,
           0.9904383396305251,
           0.9960709853279069,
           0.9997884913621982,
           0.9983250149224475,
           0.9996204414392866,
           0.9988401683767146,
           0.9983126111477866,
           0.9998982489673901,
           0.999382633389948,
           0.989327817372673,
           0.998139310366387,
           0.9983818513713731,
           0.9853537745453639,
           0.9991533508995056,
           0.9993075672302045,
           0.999517293241814,
           0.9974256719942532,
           0.9992232050935245,
           0.9998079065073665,
           0.9986311618024396,
           0.9984305909310269,
           0.999498782065673,
           0.9991967792842688,
           0.9992154029913584,
           0.9984971697473017,
           0.9964559930329965,
           0.9993666108965787,
           0.9998688047886433,
           0.9933594296549392,
           0.9988367495158869,
           0.9998701366890328,
           0.9917993357110886,
           0.996864523169975,
           0.9996118333894463,
           0.9943376419691172,
           0.9959802776819934,
           0.9988803705672806,
           0.9986697345341887
          ],
          "coloraxis": "coloraxis",
          "symbol": "circle"
         },
         "name": "",
         "showlegend": false,
         "type": "splom"
        }
       ],
       "layout": {
        "coloraxis": {
         "colorbar": {
          "title": {
           "text": "avg_fidelity"
          }
         },
         "colorscale": [
          [
           0,
           "#0d0887"
          ],
          [
           0.1111111111111111,
           "#46039f"
          ],
          [
           0.2222222222222222,
           "#7201a8"
          ],
          [
           0.3333333333333333,
           "#9c179e"
          ],
          [
           0.4444444444444444,
           "#bd3786"
          ],
          [
           0.5555555555555556,
           "#d8576b"
          ],
          [
           0.6666666666666666,
           "#ed7953"
          ],
          [
           0.7777777777777778,
           "#fb9f3a"
          ],
          [
           0.8888888888888888,
           "#fdca26"
          ],
          [
           1,
           "#f0f921"
          ]
         ]
        },
        "dragmode": "select",
        "height": 1000,
        "legend": {
         "tracegroupgap": 0
        },
        "template": {
         "data": {
          "bar": [
           {
            "error_x": {
             "color": "#2a3f5f"
            },
            "error_y": {
             "color": "#2a3f5f"
            },
            "marker": {
             "line": {
              "color": "#E5ECF6",
              "width": 0.5
             },
             "pattern": {
              "fillmode": "overlay",
              "size": 10,
              "solidity": 0.2
             }
            },
            "type": "bar"
           }
          ],
          "barpolar": [
           {
            "marker": {
             "line": {
              "color": "#E5ECF6",
              "width": 0.5
             },
             "pattern": {
              "fillmode": "overlay",
              "size": 10,
              "solidity": 0.2
             }
            },
            "type": "barpolar"
           }
          ],
          "carpet": [
           {
            "aaxis": {
             "endlinecolor": "#2a3f5f",
             "gridcolor": "white",
             "linecolor": "white",
             "minorgridcolor": "white",
             "startlinecolor": "#2a3f5f"
            },
            "baxis": {
             "endlinecolor": "#2a3f5f",
             "gridcolor": "white",
             "linecolor": "white",
             "minorgridcolor": "white",
             "startlinecolor": "#2a3f5f"
            },
            "type": "carpet"
           }
          ],
          "choropleth": [
           {
            "colorbar": {
             "outlinewidth": 0,
             "ticks": ""
            },
            "type": "choropleth"
           }
          ],
          "contour": [
           {
            "colorbar": {
             "outlinewidth": 0,
             "ticks": ""
            },
            "colorscale": [
             [
              0,
              "#0d0887"
             ],
             [
              0.1111111111111111,
              "#46039f"
             ],
             [
              0.2222222222222222,
              "#7201a8"
             ],
             [
              0.3333333333333333,
              "#9c179e"
             ],
             [
              0.4444444444444444,
              "#bd3786"
             ],
             [
              0.5555555555555556,
              "#d8576b"
             ],
             [
              0.6666666666666666,
              "#ed7953"
             ],
             [
              0.7777777777777778,
              "#fb9f3a"
             ],
             [
              0.8888888888888888,
              "#fdca26"
             ],
             [
              1,
              "#f0f921"
             ]
            ],
            "type": "contour"
           }
          ],
          "contourcarpet": [
           {
            "colorbar": {
             "outlinewidth": 0,
             "ticks": ""
            },
            "type": "contourcarpet"
           }
          ],
          "heatmap": [
           {
            "colorbar": {
             "outlinewidth": 0,
             "ticks": ""
            },
            "colorscale": [
             [
              0,
              "#0d0887"
             ],
             [
              0.1111111111111111,
              "#46039f"
             ],
             [
              0.2222222222222222,
              "#7201a8"
             ],
             [
              0.3333333333333333,
              "#9c179e"
             ],
             [
              0.4444444444444444,
              "#bd3786"
             ],
             [
              0.5555555555555556,
              "#d8576b"
             ],
             [
              0.6666666666666666,
              "#ed7953"
             ],
             [
              0.7777777777777778,
              "#fb9f3a"
             ],
             [
              0.8888888888888888,
              "#fdca26"
             ],
             [
              1,
              "#f0f921"
             ]
            ],
            "type": "heatmap"
           }
          ],
          "heatmapgl": [
           {
            "colorbar": {
             "outlinewidth": 0,
             "ticks": ""
            },
            "colorscale": [
             [
              0,
              "#0d0887"
             ],
             [
              0.1111111111111111,
              "#46039f"
             ],
             [
              0.2222222222222222,
              "#7201a8"
             ],
             [
              0.3333333333333333,
              "#9c179e"
             ],
             [
              0.4444444444444444,
              "#bd3786"
             ],
             [
              0.5555555555555556,
              "#d8576b"
             ],
             [
              0.6666666666666666,
              "#ed7953"
             ],
             [
              0.7777777777777778,
              "#fb9f3a"
             ],
             [
              0.8888888888888888,
              "#fdca26"
             ],
             [
              1,
              "#f0f921"
             ]
            ],
            "type": "heatmapgl"
           }
          ],
          "histogram": [
           {
            "marker": {
             "pattern": {
              "fillmode": "overlay",
              "size": 10,
              "solidity": 0.2
             }
            },
            "type": "histogram"
           }
          ],
          "histogram2d": [
           {
            "colorbar": {
             "outlinewidth": 0,
             "ticks": ""
            },
            "colorscale": [
             [
              0,
              "#0d0887"
             ],
             [
              0.1111111111111111,
              "#46039f"
             ],
             [
              0.2222222222222222,
              "#7201a8"
             ],
             [
              0.3333333333333333,
              "#9c179e"
             ],
             [
              0.4444444444444444,
              "#bd3786"
             ],
             [
              0.5555555555555556,
              "#d8576b"
             ],
             [
              0.6666666666666666,
              "#ed7953"
             ],
             [
              0.7777777777777778,
              "#fb9f3a"
             ],
             [
              0.8888888888888888,
              "#fdca26"
             ],
             [
              1,
              "#f0f921"
             ]
            ],
            "type": "histogram2d"
           }
          ],
          "histogram2dcontour": [
           {
            "colorbar": {
             "outlinewidth": 0,
             "ticks": ""
            },
            "colorscale": [
             [
              0,
              "#0d0887"
             ],
             [
              0.1111111111111111,
              "#46039f"
             ],
             [
              0.2222222222222222,
              "#7201a8"
             ],
             [
              0.3333333333333333,
              "#9c179e"
             ],
             [
              0.4444444444444444,
              "#bd3786"
             ],
             [
              0.5555555555555556,
              "#d8576b"
             ],
             [
              0.6666666666666666,
              "#ed7953"
             ],
             [
              0.7777777777777778,
              "#fb9f3a"
             ],
             [
              0.8888888888888888,
              "#fdca26"
             ],
             [
              1,
              "#f0f921"
             ]
            ],
            "type": "histogram2dcontour"
           }
          ],
          "mesh3d": [
           {
            "colorbar": {
             "outlinewidth": 0,
             "ticks": ""
            },
            "type": "mesh3d"
           }
          ],
          "parcoords": [
           {
            "line": {
             "colorbar": {
              "outlinewidth": 0,
              "ticks": ""
             }
            },
            "type": "parcoords"
           }
          ],
          "pie": [
           {
            "automargin": true,
            "type": "pie"
           }
          ],
          "scatter": [
           {
            "fillpattern": {
             "fillmode": "overlay",
             "size": 10,
             "solidity": 0.2
            },
            "type": "scatter"
           }
          ],
          "scatter3d": [
           {
            "line": {
             "colorbar": {
              "outlinewidth": 0,
              "ticks": ""
             }
            },
            "marker": {
             "colorbar": {
              "outlinewidth": 0,
              "ticks": ""
             }
            },
            "type": "scatter3d"
           }
          ],
          "scattercarpet": [
           {
            "marker": {
             "colorbar": {
              "outlinewidth": 0,
              "ticks": ""
             }
            },
            "type": "scattercarpet"
           }
          ],
          "scattergeo": [
           {
            "marker": {
             "colorbar": {
              "outlinewidth": 0,
              "ticks": ""
             }
            },
            "type": "scattergeo"
           }
          ],
          "scattergl": [
           {
            "marker": {
             "colorbar": {
              "outlinewidth": 0,
              "ticks": ""
             }
            },
            "type": "scattergl"
           }
          ],
          "scattermapbox": [
           {
            "marker": {
             "colorbar": {
              "outlinewidth": 0,
              "ticks": ""
             }
            },
            "type": "scattermapbox"
           }
          ],
          "scatterpolar": [
           {
            "marker": {
             "colorbar": {
              "outlinewidth": 0,
              "ticks": ""
             }
            },
            "type": "scatterpolar"
           }
          ],
          "scatterpolargl": [
           {
            "marker": {
             "colorbar": {
              "outlinewidth": 0,
              "ticks": ""
             }
            },
            "type": "scatterpolargl"
           }
          ],
          "scatterternary": [
           {
            "marker": {
             "colorbar": {
              "outlinewidth": 0,
              "ticks": ""
             }
            },
            "type": "scatterternary"
           }
          ],
          "surface": [
           {
            "colorbar": {
             "outlinewidth": 0,
             "ticks": ""
            },
            "colorscale": [
             [
              0,
              "#0d0887"
             ],
             [
              0.1111111111111111,
              "#46039f"
             ],
             [
              0.2222222222222222,
              "#7201a8"
             ],
             [
              0.3333333333333333,
              "#9c179e"
             ],
             [
              0.4444444444444444,
              "#bd3786"
             ],
             [
              0.5555555555555556,
              "#d8576b"
             ],
             [
              0.6666666666666666,
              "#ed7953"
             ],
             [
              0.7777777777777778,
              "#fb9f3a"
             ],
             [
              0.8888888888888888,
              "#fdca26"
             ],
             [
              1,
              "#f0f921"
             ]
            ],
            "type": "surface"
           }
          ],
          "table": [
           {
            "cells": {
             "fill": {
              "color": "#EBF0F8"
             },
             "line": {
              "color": "white"
             }
            },
            "header": {
             "fill": {
              "color": "#C8D4E3"
             },
             "line": {
              "color": "white"
             }
            },
            "type": "table"
           }
          ]
         },
         "layout": {
          "annotationdefaults": {
           "arrowcolor": "#2a3f5f",
           "arrowhead": 0,
           "arrowwidth": 1
          },
          "autotypenumbers": "strict",
          "coloraxis": {
           "colorbar": {
            "outlinewidth": 0,
            "ticks": ""
           }
          },
          "colorscale": {
           "diverging": [
            [
             0,
             "#8e0152"
            ],
            [
             0.1,
             "#c51b7d"
            ],
            [
             0.2,
             "#de77ae"
            ],
            [
             0.3,
             "#f1b6da"
            ],
            [
             0.4,
             "#fde0ef"
            ],
            [
             0.5,
             "#f7f7f7"
            ],
            [
             0.6,
             "#e6f5d0"
            ],
            [
             0.7,
             "#b8e186"
            ],
            [
             0.8,
             "#7fbc41"
            ],
            [
             0.9,
             "#4d9221"
            ],
            [
             1,
             "#276419"
            ]
           ],
           "sequential": [
            [
             0,
             "#0d0887"
            ],
            [
             0.1111111111111111,
             "#46039f"
            ],
            [
             0.2222222222222222,
             "#7201a8"
            ],
            [
             0.3333333333333333,
             "#9c179e"
            ],
            [
             0.4444444444444444,
             "#bd3786"
            ],
            [
             0.5555555555555556,
             "#d8576b"
            ],
            [
             0.6666666666666666,
             "#ed7953"
            ],
            [
             0.7777777777777778,
             "#fb9f3a"
            ],
            [
             0.8888888888888888,
             "#fdca26"
            ],
            [
             1,
             "#f0f921"
            ]
           ],
           "sequentialminus": [
            [
             0,
             "#0d0887"
            ],
            [
             0.1111111111111111,
             "#46039f"
            ],
            [
             0.2222222222222222,
             "#7201a8"
            ],
            [
             0.3333333333333333,
             "#9c179e"
            ],
            [
             0.4444444444444444,
             "#bd3786"
            ],
            [
             0.5555555555555556,
             "#d8576b"
            ],
            [
             0.6666666666666666,
             "#ed7953"
            ],
            [
             0.7777777777777778,
             "#fb9f3a"
            ],
            [
             0.8888888888888888,
             "#fdca26"
            ],
            [
             1,
             "#f0f921"
            ]
           ]
          },
          "colorway": [
           "#636efa",
           "#EF553B",
           "#00cc96",
           "#ab63fa",
           "#FFA15A",
           "#19d3f3",
           "#FF6692",
           "#B6E880",
           "#FF97FF",
           "#FECB52"
          ],
          "font": {
           "color": "#2a3f5f"
          },
          "geo": {
           "bgcolor": "white",
           "lakecolor": "white",
           "landcolor": "#E5ECF6",
           "showlakes": true,
           "showland": true,
           "subunitcolor": "white"
          },
          "hoverlabel": {
           "align": "left"
          },
          "hovermode": "closest",
          "mapbox": {
           "style": "light"
          },
          "paper_bgcolor": "white",
          "plot_bgcolor": "#E5ECF6",
          "polar": {
           "angularaxis": {
            "gridcolor": "white",
            "linecolor": "white",
            "ticks": ""
           },
           "bgcolor": "#E5ECF6",
           "radialaxis": {
            "gridcolor": "white",
            "linecolor": "white",
            "ticks": ""
           }
          },
          "scene": {
           "xaxis": {
            "backgroundcolor": "#E5ECF6",
            "gridcolor": "white",
            "gridwidth": 2,
            "linecolor": "white",
            "showbackground": true,
            "ticks": "",
            "zerolinecolor": "white"
           },
           "yaxis": {
            "backgroundcolor": "#E5ECF6",
            "gridcolor": "white",
            "gridwidth": 2,
            "linecolor": "white",
            "showbackground": true,
            "ticks": "",
            "zerolinecolor": "white"
           },
           "zaxis": {
            "backgroundcolor": "#E5ECF6",
            "gridcolor": "white",
            "gridwidth": 2,
            "linecolor": "white",
            "showbackground": true,
            "ticks": "",
            "zerolinecolor": "white"
           }
          },
          "shapedefaults": {
           "line": {
            "color": "#2a3f5f"
           }
          },
          "ternary": {
           "aaxis": {
            "gridcolor": "white",
            "linecolor": "white",
            "ticks": ""
           },
           "baxis": {
            "gridcolor": "white",
            "linecolor": "white",
            "ticks": ""
           },
           "bgcolor": "#E5ECF6",
           "caxis": {
            "gridcolor": "white",
            "linecolor": "white",
            "ticks": ""
           }
          },
          "title": {
           "x": 0.05
          },
          "xaxis": {
           "automargin": true,
           "gridcolor": "white",
           "linecolor": "white",
           "ticks": "",
           "title": {
            "standoff": 15
           },
           "zerolinecolor": "white",
           "zerolinewidth": 2
          },
          "yaxis": {
           "automargin": true,
           "gridcolor": "white",
           "linecolor": "white",
           "ticks": "",
           "title": {
            "standoff": 15
           },
           "zerolinecolor": "white",
           "zerolinewidth": 2
          }
         }
        },
        "title": {
         "text": "Scatter Matrix of Predictors with Fidelity as Color"
        },
        "width": 1000
       }
      }
     },
     "metadata": {},
     "output_type": "display_data"
    }
   ],
   "source": [
    "import plotly.express as px\n",
    "predictor_metrics = [\n",
    " \n",
    "    # 'error',\n",
    "   'dqfim_abbas_deff_norm','target_ipr_deff_raw','target_abbas_deff_norm','target_spread_metric_mad'\n",
    "\n",
    "]\n",
    "metrics_to_visualize = [\n",
    "    \"test_key\",\n",
    "    'avg_fidelity',\n",
    "    \n",
    "]\n",
    "metrics_to_visualize.extend(predictor_metrics)\n",
    "df_viz = df_final[metrics_to_visualize].dropna()\n",
    "\n",
    "fig = px.scatter_matrix(\n",
    "    df_viz,\n",
    "    dimensions=predictor_metrics,\n",
    "    color=\"avg_fidelity\",        # Use fidelity as the color dimension\n",
    "    hover_data=[\"test_key\"],      # Show test_key on hover\n",
    "    title=\"Scatter Matrix of Predictors with Fidelity as Color\"\n",
    ")\n",
    "fig.update_layout(width=1000, height=1000)\n",
    "fig.show()\n",
    "\n",
    "\n"
   ]
  },
  {
   "cell_type": "code",
   "execution_count": null,
   "metadata": {},
   "outputs": [],
   "source": []
  },
  {
   "cell_type": "code",
   "execution_count": null,
   "metadata": {},
   "outputs": [],
   "source": []
  },
  {
   "cell_type": "code",
   "execution_count": 13,
   "metadata": {},
   "outputs": [
    {
     "data": {
      "text/plain": [
       "Index(['test_key', 'gate', 'fidelities_list', 'avg_fidelity', 'error',\n",
       "       'qfim_eigvals_GHZ', 'qfim_full_GHZ', 'entropy_GHZ', 'qfim_eigvals',\n",
       "       'qfim_full', 'entropy', 'dqfim_eigvals', 'dqfim_full',\n",
       "       'dqfim_entropies', 'target_dqfim_eigvals', 'target_dqfim_full',\n",
       "       'target_dqfim_entropies', 'N_ctrl', 'N_R', 'Trotter_Step', 'L',\n",
       "       'num_sampled_states', 'GHZ_draw_rank', 'GHZ_var_all_eigenvalues',\n",
       "       'GHZ_var_nonzero_eigenvalues', 'GHZ_trace_eigenvalues',\n",
       "       'GHZ_var_all_normalized_by_param_count',\n",
       "       'GHZ_var_all_normalized_by_rank', 'GHZ_var_nonzero_normalized_by_rank',\n",
       "       'GHZ_trace_normalized_by_rank', 'GHZ_trace_normalized_by_param_count',\n",
       "       'GHZ_var_nonzero_log', 'GHZ_ipr_deff_raw', 'GHZ_ipr_deff_norm',\n",
       "       'GHZ_abbas_deff_raw', 'GHZ_abbas_deff_norm', 'GHZ_d_eff',\n",
       "       'GHZ_spread_metric_variance', 'GHZ_spread_metric_mad',\n",
       "       'basis_draw_rank', 'basis_var_all_eigenvalues',\n",
       "       'basis_var_nonzero_eigenvalues', 'basis_trace_eigenvalues',\n",
       "       'basis_var_all_normalized_by_param_count',\n",
       "       'basis_var_all_normalized_by_rank',\n",
       "       'basis_var_nonzero_normalized_by_rank',\n",
       "       'basis_trace_normalized_by_rank',\n",
       "       'basis_trace_normalized_by_param_count', 'basis_var_nonzero_log',\n",
       "       'basis_ipr_deff_raw', 'basis_ipr_deff_norm', 'basis_abbas_deff_raw',\n",
       "       'basis_abbas_deff_norm', 'basis_d_eff', 'basis_spread_metric_variance',\n",
       "       'basis_spread_metric_mad', 'dqfim_draw_rank',\n",
       "       'dqfim_var_all_eigenvalues', 'dqfim_var_nonzero_eigenvalues',\n",
       "       'dqfim_trace_eigenvalues', 'dqfim_var_all_normalized_by_param_count',\n",
       "       'dqfim_var_all_normalized_by_rank',\n",
       "       'dqfim_var_nonzero_normalized_by_rank',\n",
       "       'dqfim_trace_normalized_by_rank',\n",
       "       'dqfim_trace_normalized_by_param_count', 'dqfim_var_nonzero_log',\n",
       "       'dqfim_ipr_deff_raw', 'dqfim_ipr_deff_norm', 'dqfim_abbas_deff_raw',\n",
       "       'dqfim_abbas_deff_norm', 'dqfim_d_eff', 'dqfim_spread_metric_variance',\n",
       "       'dqfim_spread_metric_mad', 'target_draw_rank',\n",
       "       'target_var_all_eigenvalues', 'target_var_nonzero_eigenvalues',\n",
       "       'target_trace_eigenvalues', 'target_var_all_normalized_by_param_count',\n",
       "       'target_var_all_normalized_by_rank',\n",
       "       'target_var_nonzero_normalized_by_rank',\n",
       "       'target_trace_normalized_by_rank',\n",
       "       'target_trace_normalized_by_param_count', 'target_var_nonzero_log',\n",
       "       'target_ipr_deff_raw', 'target_ipr_deff_norm', 'target_abbas_deff_raw',\n",
       "       'target_abbas_deff_norm', 'target_d_eff',\n",
       "       'target_spread_metric_variance', 'target_spread_metric_mad'],\n",
       "      dtype='object')"
      ]
     },
     "execution_count": 13,
     "metadata": {},
     "output_type": "execute_result"
    }
   ],
   "source": [
    "df_final.columns"
   ]
  },
  {
   "cell_type": "code",
   "execution_count": 17,
   "metadata": {},
   "outputs": [
    {
     "data": {
      "text/html": [
       "<div>\n",
       "<style scoped>\n",
       "    .dataframe tbody tr th:only-of-type {\n",
       "        vertical-align: middle;\n",
       "    }\n",
       "\n",
       "    .dataframe tbody tr th {\n",
       "        vertical-align: top;\n",
       "    }\n",
       "\n",
       "    .dataframe thead th {\n",
       "        text-align: right;\n",
       "    }\n",
       "</style>\n",
       "<table border=\"1\" class=\"dataframe\">\n",
       "  <thead>\n",
       "    <tr style=\"text-align: right;\">\n",
       "      <th></th>\n",
       "      <th>gate</th>\n",
       "      <th>test_key</th>\n",
       "      <th>target_dqfim_eigvals</th>\n",
       "      <th>target_trace_normalized_by_rank</th>\n",
       "      <th>qfim_eigvals_GHZ</th>\n",
       "      <th>GHZ_trace_normalized_by_rank</th>\n",
       "    </tr>\n",
       "  </thead>\n",
       "  <tbody>\n",
       "    <tr>\n",
       "      <th>0</th>\n",
       "      <td>U2_0</td>\n",
       "      <td>test104</td>\n",
       "      <td>[-1.2358426e-16, -7.742247e-17, -4.27567e-17, ...</td>\n",
       "      <td>1.167499</td>\n",
       "      <td>[-2.3746058e-16, -1.9421301e-16, -1.174653e-16...</td>\n",
       "      <td>5.227454</td>\n",
       "    </tr>\n",
       "    <tr>\n",
       "      <th>1</th>\n",
       "      <td>U2_1</td>\n",
       "      <td>test104</td>\n",
       "      <td>[-8.9524295e-17, -5.0148797e-17, -3.8625023e-1...</td>\n",
       "      <td>1.301251</td>\n",
       "      <td>[-2.3746058e-16, -1.9421301e-16, -1.174653e-16...</td>\n",
       "      <td>5.227454</td>\n",
       "    </tr>\n",
       "  </tbody>\n",
       "</table>\n",
       "</div>"
      ],
      "text/plain": [
       "   gate test_key                               target_dqfim_eigvals  \\\n",
       "0  U2_0  test104  [-1.2358426e-16, -7.742247e-17, -4.27567e-17, ...   \n",
       "1  U2_1  test104  [-8.9524295e-17, -5.0148797e-17, -3.8625023e-1...   \n",
       "\n",
       "   target_trace_normalized_by_rank  \\\n",
       "0                         1.167499   \n",
       "1                         1.301251   \n",
       "\n",
       "                                    qfim_eigvals_GHZ  \\\n",
       "0  [-2.3746058e-16, -1.9421301e-16, -1.174653e-16...   \n",
       "1  [-2.3746058e-16, -1.9421301e-16, -1.174653e-16...   \n",
       "\n",
       "   GHZ_trace_normalized_by_rank  \n",
       "0                      5.227454  \n",
       "1                      5.227454  "
      ]
     },
     "metadata": {},
     "output_type": "display_data"
    }
   ],
   "source": [
    "# Filter for test_key 'test104' and gates 'U2_0' or 'U2_1'\n",
    "subset_df = df_final[\n",
    "    (df_final[\"test_key\"] == \"test104\") & \n",
    "    (df_final[\"gate\"].isin([\"U2_0\", \"U2_1\"]))\n",
    "][[\"gate\", \"test_key\", \"target_dqfim_eigvals\",'target_trace_normalized_by_rank', \"qfim_eigvals_GHZ\",'GHZ_trace_normalized_by_rank']]\n",
    "\n",
    "display(subset_df)"
   ]
  },
  {
   "cell_type": "code",
   "execution_count": 121,
   "metadata": {},
   "outputs": [
    {
     "name": "stdout",
     "output_type": "stream",
     "text": [
      "Aggregated DataFrame (one row per test_key):\n",
      "Index(['test_key', 'avg_fidelity', 'error', 'N_ctrl', 'N_R', 'Trotter_Step',\n",
      "       'num_sampled_states', 'num_train', 'GHZ_draw_rank',\n",
      "       'GHZ_var_all_eigenvalues', 'GHZ_var_nonzero_eigenvalues',\n",
      "       'GHZ_trace_eigenvalues', 'GHZ_var_all_normalized_by_param_count',\n",
      "       'GHZ_var_all_normalized_by_rank', 'GHZ_var_nonzero_normalized_by_rank',\n",
      "       'GHZ_trace_normalized_by_rank', 'GHZ_trace_normalized_by_param_count',\n",
      "       'GHZ_var_nonzero_log', 'GHZ_ipr_deff_raw', 'GHZ_ipr_deff_norm',\n",
      "       'GHZ_abbas_deff_raw', 'GHZ_abbas_deff_norm', 'GHZ_d_eff',\n",
      "       'GHZ_spread_metric_variance', 'GHZ_spread_metric_mad',\n",
      "       'basis_draw_rank', 'basis_var_all_eigenvalues',\n",
      "       'basis_var_nonzero_eigenvalues', 'basis_trace_eigenvalues',\n",
      "       'basis_var_all_normalized_by_param_count',\n",
      "       'basis_var_all_normalized_by_rank',\n",
      "       'basis_var_nonzero_normalized_by_rank',\n",
      "       'basis_trace_normalized_by_rank',\n",
      "       'basis_trace_normalized_by_param_count', 'basis_var_nonzero_log',\n",
      "       'basis_ipr_deff_raw', 'basis_ipr_deff_norm', 'basis_abbas_deff_raw',\n",
      "       'basis_abbas_deff_norm', 'basis_d_eff', 'basis_spread_metric_variance',\n",
      "       'basis_spread_metric_mad', 'dqfim_draw_rank',\n",
      "       'dqfim_var_all_eigenvalues', 'dqfim_var_nonzero_eigenvalues',\n",
      "       'dqfim_trace_eigenvalues', 'dqfim_var_all_normalized_by_param_count',\n",
      "       'dqfim_var_all_normalized_by_rank',\n",
      "       'dqfim_var_nonzero_normalized_by_rank',\n",
      "       'dqfim_trace_normalized_by_rank',\n",
      "       'dqfim_trace_normalized_by_param_count', 'dqfim_var_nonzero_log',\n",
      "       'dqfim_ipr_deff_raw', 'dqfim_ipr_deff_norm', 'dqfim_abbas_deff_raw',\n",
      "       'dqfim_abbas_deff_norm', 'dqfim_d_eff', 'dqfim_spread_metric_variance',\n",
      "       'dqfim_spread_metric_mad', 'target_draw_rank',\n",
      "       'target_var_all_eigenvalues', 'target_var_nonzero_eigenvalues',\n",
      "       'target_trace_eigenvalues', 'target_var_all_normalized_by_param_count',\n",
      "       'target_var_all_normalized_by_rank',\n",
      "       'target_var_nonzero_normalized_by_rank',\n",
      "       'target_trace_normalized_by_rank',\n",
      "       'target_trace_normalized_by_param_count', 'target_var_nonzero_log',\n",
      "       'target_ipr_deff_raw', 'target_ipr_deff_norm', 'target_abbas_deff_raw',\n",
      "       'target_abbas_deff_norm', 'target_d_eff',\n",
      "       'target_spread_metric_variance', 'target_spread_metric_mad'],\n",
      "      dtype='object')\n"
     ]
    },
    {
     "data": {
      "text/html": [
       "<div>\n",
       "<style scoped>\n",
       "    .dataframe tbody tr th:only-of-type {\n",
       "        vertical-align: middle;\n",
       "    }\n",
       "\n",
       "    .dataframe tbody tr th {\n",
       "        vertical-align: top;\n",
       "    }\n",
       "\n",
       "    .dataframe thead th {\n",
       "        text-align: right;\n",
       "    }\n",
       "</style>\n",
       "<table border=\"1\" class=\"dataframe\">\n",
       "  <thead>\n",
       "    <tr style=\"text-align: right;\">\n",
       "      <th></th>\n",
       "      <th>test_key</th>\n",
       "      <th>target_trace_normalized_by_rank</th>\n",
       "      <th>GHZ_trace_normalized_by_rank</th>\n",
       "    </tr>\n",
       "  </thead>\n",
       "  <tbody>\n",
       "    <tr>\n",
       "      <th>0</th>\n",
       "      <td>test104</td>\n",
       "      <td>1.127361</td>\n",
       "      <td>5.227454</td>\n",
       "    </tr>\n",
       "  </tbody>\n",
       "</table>\n",
       "</div>"
      ],
      "text/plain": [
       "  test_key  target_trace_normalized_by_rank  GHZ_trace_normalized_by_rank\n",
       "0  test104                         1.127361                      5.227454"
      ]
     },
     "metadata": {},
     "output_type": "display_data"
    }
   ],
   "source": [
    "numeric_cols = []\n",
    "for col in df_final.columns:\n",
    "    if pd.api.types.is_numeric_dtype(df_final[col]):\n",
    "        numeric_cols.append(col)\n",
    "\n",
    "# 2) Group by test_key and compute the mean for these numeric columns.\n",
    "#    numeric_only=True ensures that Pandas only attempts to average numeric data.\n",
    "df_agg_by_test_key = (\n",
    "    df_final\n",
    "    .groupby(\"test_key\")[numeric_cols]\n",
    "    .mean(numeric_only=True)  # or just .mean() if you're on older Pandas versions\n",
    "    .reset_index()\n",
    ")\n",
    "\n",
    "print(\"Aggregated DataFrame (one row per test_key):\")\n",
    "print(df_agg_by_test_key.columns)\n",
    "# df_agg_by_test_key.head()\n",
    "subset_df_new = df_agg_by_test_key[df_agg_by_test_key[\"test_key\"] == \"test104\"][[\"test_key\",'target_trace_normalized_by_rank', 'GHZ_trace_normalized_by_rank']]\n",
    "\n",
    "display(subset_df_new)"
   ]
  },
  {
   "cell_type": "code",
   "execution_count": 21,
   "metadata": {},
   "outputs": [
    {
     "data": {
      "text/html": [
       "<div>\n",
       "<style scoped>\n",
       "    .dataframe tbody tr th:only-of-type {\n",
       "        vertical-align: middle;\n",
       "    }\n",
       "\n",
       "    .dataframe tbody tr th {\n",
       "        vertical-align: top;\n",
       "    }\n",
       "\n",
       "    .dataframe thead th {\n",
       "        text-align: right;\n",
       "    }\n",
       "</style>\n",
       "<table border=\"1\" class=\"dataframe\">\n",
       "  <thead>\n",
       "    <tr style=\"text-align: right;\">\n",
       "      <th></th>\n",
       "      <th>test_key</th>\n",
       "      <th>avg_fidelity</th>\n",
       "      <th>error</th>\n",
       "      <th>N_ctrl</th>\n",
       "      <th>N_R</th>\n",
       "      <th>Trotter_Step</th>\n",
       "      <th>num_sampled_states</th>\n",
       "      <th>GHZ_draw_rank</th>\n",
       "      <th>GHZ_var_all_eigenvalues</th>\n",
       "      <th>GHZ_var_nonzero_eigenvalues</th>\n",
       "      <th>...</th>\n",
       "      <th>target_trace_normalized_by_rank</th>\n",
       "      <th>target_trace_normalized_by_param_count</th>\n",
       "      <th>target_var_nonzero_log</th>\n",
       "      <th>target_ipr_deff_raw</th>\n",
       "      <th>target_ipr_deff_norm</th>\n",
       "      <th>target_abbas_deff_raw</th>\n",
       "      <th>target_abbas_deff_norm</th>\n",
       "      <th>target_d_eff</th>\n",
       "      <th>target_spread_metric_variance</th>\n",
       "      <th>target_spread_metric_mad</th>\n",
       "    </tr>\n",
       "  </thead>\n",
       "  <tbody>\n",
       "    <tr>\n",
       "      <th>0</th>\n",
       "      <td>test104</td>\n",
       "      <td>0.995506</td>\n",
       "      <td>-6.319582</td>\n",
       "      <td>2.0</td>\n",
       "      <td>1.0</td>\n",
       "      <td>14.0</td>\n",
       "      <td>100.0</td>\n",
       "      <td>15.0</td>\n",
       "      <td>135.964760</td>\n",
       "      <td>276.241755</td>\n",
       "      <td>...</td>\n",
       "      <td>1.127361</td>\n",
       "      <td>0.545497</td>\n",
       "      <td>2.526072</td>\n",
       "      <td>1.437149</td>\n",
       "      <td>1.437149</td>\n",
       "      <td>4.947428</td>\n",
       "      <td>0.821075</td>\n",
       "      <td>2.467806</td>\n",
       "      <td>6.666071</td>\n",
       "      <td>2.533476</td>\n",
       "    </tr>\n",
       "    <tr>\n",
       "      <th>1</th>\n",
       "      <td>test122</td>\n",
       "      <td>0.996135</td>\n",
       "      <td>-6.010960</td>\n",
       "      <td>2.0</td>\n",
       "      <td>1.0</td>\n",
       "      <td>14.0</td>\n",
       "      <td>100.0</td>\n",
       "      <td>15.0</td>\n",
       "      <td>147.737848</td>\n",
       "      <td>300.070239</td>\n",
       "      <td>...</td>\n",
       "      <td>0.637075</td>\n",
       "      <td>0.308262</td>\n",
       "      <td>1.245983</td>\n",
       "      <td>1.622868</td>\n",
       "      <td>1.622868</td>\n",
       "      <td>4.008202</td>\n",
       "      <td>0.845148</td>\n",
       "      <td>2.974297</td>\n",
       "      <td>4.707227</td>\n",
       "      <td>2.234916</td>\n",
       "    </tr>\n",
       "    <tr>\n",
       "      <th>2</th>\n",
       "      <td>test129</td>\n",
       "      <td>0.997454</td>\n",
       "      <td>-6.377038</td>\n",
       "      <td>2.0</td>\n",
       "      <td>1.0</td>\n",
       "      <td>14.0</td>\n",
       "      <td>100.0</td>\n",
       "      <td>15.0</td>\n",
       "      <td>3.334791</td>\n",
       "      <td>6.182687</td>\n",
       "      <td>...</td>\n",
       "      <td>0.337989</td>\n",
       "      <td>0.163543</td>\n",
       "      <td>-0.560077</td>\n",
       "      <td>2.645532</td>\n",
       "      <td>2.645532</td>\n",
       "      <td>3.275069</td>\n",
       "      <td>0.920214</td>\n",
       "      <td>3.585424</td>\n",
       "      <td>5.566216</td>\n",
       "      <td>2.625543</td>\n",
       "    </tr>\n",
       "    <tr>\n",
       "      <th>3</th>\n",
       "      <td>test175</td>\n",
       "      <td>0.996774</td>\n",
       "      <td>-6.302271</td>\n",
       "      <td>2.0</td>\n",
       "      <td>1.0</td>\n",
       "      <td>14.0</td>\n",
       "      <td>100.0</td>\n",
       "      <td>15.0</td>\n",
       "      <td>3.620316</td>\n",
       "      <td>6.239774</td>\n",
       "      <td>...</td>\n",
       "      <td>0.487924</td>\n",
       "      <td>0.236092</td>\n",
       "      <td>0.272318</td>\n",
       "      <td>2.423594</td>\n",
       "      <td>2.423594</td>\n",
       "      <td>4.042034</td>\n",
       "      <td>0.907585</td>\n",
       "      <td>3.507252</td>\n",
       "      <td>4.455317</td>\n",
       "      <td>2.277409</td>\n",
       "    </tr>\n",
       "    <tr>\n",
       "      <th>4</th>\n",
       "      <td>test18</td>\n",
       "      <td>0.998241</td>\n",
       "      <td>-6.645907</td>\n",
       "      <td>2.0</td>\n",
       "      <td>1.0</td>\n",
       "      <td>14.0</td>\n",
       "      <td>100.0</td>\n",
       "      <td>15.0</td>\n",
       "      <td>3.815765</td>\n",
       "      <td>6.809314</td>\n",
       "      <td>...</td>\n",
       "      <td>0.278918</td>\n",
       "      <td>0.134961</td>\n",
       "      <td>-1.651836</td>\n",
       "      <td>4.530555</td>\n",
       "      <td>4.530555</td>\n",
       "      <td>3.236409</td>\n",
       "      <td>0.976508</td>\n",
       "      <td>4.121240</td>\n",
       "      <td>5.419548</td>\n",
       "      <td>2.822660</td>\n",
       "    </tr>\n",
       "  </tbody>\n",
       "</table>\n",
       "<p>5 rows × 75 columns</p>\n",
       "</div>"
      ],
      "text/plain": [
       "  test_key  avg_fidelity     error  N_ctrl  N_R  Trotter_Step  \\\n",
       "0  test104      0.995506 -6.319582     2.0  1.0          14.0   \n",
       "1  test122      0.996135 -6.010960     2.0  1.0          14.0   \n",
       "2  test129      0.997454 -6.377038     2.0  1.0          14.0   \n",
       "3  test175      0.996774 -6.302271     2.0  1.0          14.0   \n",
       "4   test18      0.998241 -6.645907     2.0  1.0          14.0   \n",
       "\n",
       "   num_sampled_states  GHZ_draw_rank  GHZ_var_all_eigenvalues  \\\n",
       "0               100.0           15.0               135.964760   \n",
       "1               100.0           15.0               147.737848   \n",
       "2               100.0           15.0                 3.334791   \n",
       "3               100.0           15.0                 3.620316   \n",
       "4               100.0           15.0                 3.815765   \n",
       "\n",
       "   GHZ_var_nonzero_eigenvalues  ...  target_trace_normalized_by_rank  \\\n",
       "0                   276.241755  ...                         1.127361   \n",
       "1                   300.070239  ...                         0.637075   \n",
       "2                     6.182687  ...                         0.337989   \n",
       "3                     6.239774  ...                         0.487924   \n",
       "4                     6.809314  ...                         0.278918   \n",
       "\n",
       "   target_trace_normalized_by_param_count  target_var_nonzero_log  \\\n",
       "0                                0.545497                2.526072   \n",
       "1                                0.308262                1.245983   \n",
       "2                                0.163543               -0.560077   \n",
       "3                                0.236092                0.272318   \n",
       "4                                0.134961               -1.651836   \n",
       "\n",
       "   target_ipr_deff_raw  target_ipr_deff_norm  target_abbas_deff_raw  \\\n",
       "0             1.437149              1.437149               4.947428   \n",
       "1             1.622868              1.622868               4.008202   \n",
       "2             2.645532              2.645532               3.275069   \n",
       "3             2.423594              2.423594               4.042034   \n",
       "4             4.530555              4.530555               3.236409   \n",
       "\n",
       "   target_abbas_deff_norm  target_d_eff  target_spread_metric_variance  \\\n",
       "0                0.821075      2.467806                       6.666071   \n",
       "1                0.845148      2.974297                       4.707227   \n",
       "2                0.920214      3.585424                       5.566216   \n",
       "3                0.907585      3.507252                       4.455317   \n",
       "4                0.976508      4.121240                       5.419548   \n",
       "\n",
       "   target_spread_metric_mad  \n",
       "0                  2.533476  \n",
       "1                  2.234916  \n",
       "2                  2.625543  \n",
       "3                  2.277409  \n",
       "4                  2.822660  \n",
       "\n",
       "[5 rows x 75 columns]"
      ]
     },
     "execution_count": 21,
     "metadata": {},
     "output_type": "execute_result"
    }
   ],
   "source": [
    "df_agg_by_test_key.head()"
   ]
  },
  {
   "cell_type": "code",
   "execution_count": 122,
   "metadata": {},
   "outputs": [
    {
     "name": "stdout",
     "output_type": "stream",
     "text": [
      "\n",
      "Pairwise correlations vs. error (Pearson):\n",
      "\n",
      "Pairwise correlations vs. error (Spearman):\n",
      "GHZ_spread_metric_mad: rho=-0.881, p=0.00385\n",
      "\n",
      "Pairwise correlations vs. error (Pearson):\n",
      "\n",
      "Pairwise correlations vs. error (Spearman):\n",
      "basis_spread_metric_mad: rho=-0.857, p=0.00653\n",
      "\n",
      "Pairwise correlations vs. error (Pearson):\n",
      "\n",
      "Pairwise correlations vs. error (Spearman):\n",
      "\n",
      "Pairwise correlations vs. error (Pearson):\n",
      "\n",
      "Pairwise correlations vs. error (Spearman):\n",
      "target_spread_metric_mad: rho=-0.857, p=0.00653\n"
     ]
    },
    {
     "name": "stderr",
     "output_type": "stream",
     "text": [
      "/Users/sophieblock/miniforge3/envs/torch_env/lib/python3.11/site-packages/pingouin/correlation.py:604: ConstantInputWarning:\n",
      "\n",
      "An input array is constant; the correlation coefficient is not defined.\n",
      "\n",
      "/Users/sophieblock/miniforge3/envs/torch_env/lib/python3.11/site-packages/pingouin/correlation.py:606: ConstantInputWarning:\n",
      "\n",
      "An input array is constant; the correlation coefficient is not defined.\n",
      "\n",
      "/Users/sophieblock/miniforge3/envs/torch_env/lib/python3.11/site-packages/pingouin/correlation.py:604: ConstantInputWarning:\n",
      "\n",
      "An input array is constant; the correlation coefficient is not defined.\n",
      "\n",
      "/Users/sophieblock/miniforge3/envs/torch_env/lib/python3.11/site-packages/pingouin/correlation.py:606: ConstantInputWarning:\n",
      "\n",
      "An input array is constant; the correlation coefficient is not defined.\n",
      "\n"
     ]
    }
   ],
   "source": [
    "CORR_THRESHOLD = 0.2\n",
    "P_THRESHOLD = 0.02\n",
    "x_metric = \"error\"\n",
    "metrics_of_interest_ghz = [\n",
    "\n",
    "  \n",
    "       'GHZ_var_all_normalized_by_rank', 'GHZ_var_nonzero_normalized_by_rank',\n",
    "       'GHZ_trace_normalized_by_rank', \n",
    "       'GHZ_var_nonzero_log',  'GHZ_ipr_deff_norm',\n",
    "       'GHZ_abbas_deff_raw', 'GHZ_abbas_deff_norm', 'GHZ_d_eff',\n",
    "       'GHZ_spread_metric_variance', 'GHZ_spread_metric_mad',\n",
    "]\n",
    "# Now you can use these common thresholds in your calls:\n",
    "pearson_corrs_ghz, spearman_corrs_ghz = analyze_correlations(\n",
    "    df_agg_by_test_key, x_metric, metrics_of_interest_ghz,\n",
    "    corr_threshold=CORR_THRESHOLD, p_threshold=P_THRESHOLD\n",
    ")\n",
    "\n",
    "\n",
    "metrics_of_interest_basis = [\n",
    "\n",
    "\n",
    "  \n",
    "       'basis_var_all_normalized_by_rank',\n",
    "       'basis_var_nonzero_normalized_by_rank',\n",
    "       'basis_trace_normalized_by_rank',\n",
    "        'basis_var_nonzero_log',\n",
    "      'basis_ipr_deff_norm', 'basis_abbas_deff_raw',\n",
    "       'basis_abbas_deff_norm', 'basis_d_eff', 'basis_spread_metric_variance',\n",
    "       'basis_spread_metric_mad'\n",
    "]\n",
    "pearson_corrs_basis, spearman_corrs_basis = analyze_correlations(\n",
    "    df_agg_by_test_key, x_metric, metrics_of_interest_basis,\n",
    "    corr_threshold=CORR_THRESHOLD, p_threshold=P_THRESHOLD\n",
    ")\n",
    "\n",
    "\n",
    "metrics_of_interest_dqfim = [\n",
    "\n",
    "     \n",
    "       'dqfim_var_all_normalized_by_rank',\n",
    "       'dqfim_var_nonzero_normalized_by_rank',\n",
    "       'dqfim_trace_normalized_by_rank',\n",
    "       'dqfim_var_nonzero_log',\n",
    "     'dqfim_ipr_deff_norm', 'dqfim_abbas_deff_raw',\n",
    "       'dqfim_abbas_deff_norm', 'dqfim_d_eff', 'dqfim_spread_metric_variance',\n",
    "       'dqfim_spread_metric_mad'\n",
    "]\n",
    "pearson_corrs_dqfim, spearman_corrs_dqfim = analyze_correlations(\n",
    "    df_agg_by_test_key, x_metric, metrics_of_interest_dqfim,\n",
    "    corr_threshold=CORR_THRESHOLD, p_threshold=P_THRESHOLD\n",
    ")\n",
    "\n",
    "\n",
    "metrics_of_interest_targ_dqfim = [\n",
    "    \n",
    "       'target_var_all_normalized_by_rank',\n",
    "       'target_var_nonzero_normalized_by_rank',\n",
    "       'target_trace_normalized_by_rank',\n",
    "       'target_var_nonzero_log',\n",
    "      'target_ipr_deff_norm', 'target_abbas_deff_raw',\n",
    "       'target_abbas_deff_norm', 'target_d_eff',\n",
    "       'target_spread_metric_variance', 'target_spread_metric_mad']\n",
    "pearson_corrs_targ, spearman_corrs_targ = analyze_correlations(\n",
    "    df_agg_by_test_key, x_metric, metrics_of_interest_targ_dqfim,\n",
    "    corr_threshold=CORR_THRESHOLD, p_threshold=P_THRESHOLD\n",
    ")"
   ]
  },
  {
   "cell_type": "code",
   "execution_count": 143,
   "metadata": {},
   "outputs": [
    {
     "name": "stdout",
     "output_type": "stream",
     "text": [
      "0.9955062766514824\n",
      "0.9982407749116418\n"
     ]
    },
    {
     "data": {
      "application/vnd.plotly.v1+json": {
       "config": {
        "plotlyServerURL": "https://plot.ly"
       },
       "data": [
        {
         "customdata": [
          [
           "test104"
          ],
          [
           "test122"
          ],
          [
           "test129"
          ],
          [
           "test175"
          ],
          [
           "test18"
          ],
          [
           "test197"
          ],
          [
           "test7"
          ],
          [
           "test79"
          ]
         ],
         "dimensions": [
          {
           "axis": {
            "matches": true
           },
           "label": "error",
           "values": [
            -6.319581841723606,
            -6.010960495295507,
            -6.37703793092588,
            -6.302270799028966,
            -6.645906968060805,
            -6.672101244141758,
            -6.687257954108281,
            -6.589786449986551
           ]
          },
          {
           "axis": {
            "matches": true
           },
           "label": "GHZ_spread_metric_mad",
           "values": [
            2.356646169994806,
            1.3389123031834553,
            2.2909719770021533,
            1.368028285237036,
            2.51550774549501,
            5.6450707154084485,
            3.668735643076754,
            1.7097542267755506
           ]
          },
          {
           "axis": {
            "matches": true
           },
           "label": "basis_spread_metric_mad",
           "values": [
            2.5606907006341753,
            1.780170858027327,
            2.386335869785516,
            1.4521311525603904,
            2.787437097429217,
            7.509278950517657,
            4.102100970611833,
            1.8243576210595316
           ]
          },
          {
           "axis": {
            "matches": true
           },
           "label": "target_spread_metric_mad",
           "values": [
            2.533476040372388,
            2.234915606560586,
            2.6255433022545644,
            2.2774092740410206,
            2.8226597273158722,
            4.137968995409138,
            2.7538920853993645,
            2.4935955816620803
           ]
          }
         ],
         "hovertemplate": "%{xaxis.title.text}=%{x}<br>%{yaxis.title.text}=%{y}<br>test_key=%{customdata[0]}<br>avg_fidelity=%{marker.color}<extra></extra>",
         "legendgroup": "",
         "marker": {
          "color": [
           0.9955062766514824,
           0.9961347399604067,
           0.9974536047424629,
           0.9967741853933255,
           0.9982407749116418,
           0.9968915377754715,
           0.9973851797397214,
           0.9974409342893219
          ],
          "coloraxis": "coloraxis",
          "symbol": "circle"
         },
         "name": "",
         "showlegend": false,
         "type": "splom"
        }
       ],
       "layout": {
        "coloraxis": {
         "colorbar": {
          "title": {
           "text": "avg_fidelity"
          }
         },
         "colorscale": [
          [
           0,
           "#5e4fa2"
          ],
          [
           0.010101010101010102,
           "#5b53a4"
          ],
          [
           0.020202020202020204,
           "#555aa7"
          ],
          [
           0.030303030303030304,
           "#525fa9"
          ],
          [
           0.04040404040404041,
           "#4d65ad"
          ],
          [
           0.050505050505050504,
           "#496aaf"
          ],
          [
           0.06060606060606061,
           "#4471b2"
          ],
          [
           0.0707070707070707,
           "#3f77b5"
          ],
          [
           0.08080808080808081,
           "#3b7cb7"
          ],
          [
           0.09090909090909091,
           "#3682ba"
          ],
          [
           0.10101010101010101,
           "#3387bc"
          ],
          [
           0.1111111111111111,
           "#378ebb"
          ],
          [
           0.12121212121212122,
           "#3b92b9"
          ],
          [
           0.13131313131313133,
           "#4199b6"
          ],
          [
           0.1414141414141414,
           "#47a0b3"
          ],
          [
           0.15151515151515152,
           "#4ba4b1"
          ],
          [
           0.16161616161616163,
           "#52abae"
          ],
          [
           0.1717171717171717,
           "#56b0ad"
          ],
          [
           0.18181818181818182,
           "#5cb7aa"
          ],
          [
           0.1919191919191919,
           "#60bba8"
          ],
          [
           0.20202020202020202,
           "#66c2a5"
          ],
          [
           0.21212121212121213,
           "#6ec5a5"
          ],
          [
           0.2222222222222222,
           "#74c7a5"
          ],
          [
           0.23232323232323232,
           "#7ccaa5"
          ],
          [
           0.24242424242424243,
           "#81cda5"
          ],
          [
           0.25252525252525254,
           "#89d0a4"
          ],
          [
           0.26262626262626265,
           "#91d3a4"
          ],
          [
           0.2727272727272727,
           "#97d5a4"
          ],
          [
           0.2828282828282828,
           "#9fd8a4"
          ],
          [
           0.29292929292929293,
           "#a4daa4"
          ],
          [
           0.30303030303030304,
           "#acdda4"
          ],
          [
           0.31313131313131315,
           "#b1dfa3"
          ],
          [
           0.32323232323232326,
           "#b8e2a1"
          ],
          [
           0.3333333333333333,
           "#bfe5a0"
          ],
          [
           0.3434343434343434,
           "#c3e79f"
          ],
          [
           0.35353535353535354,
           "#caea9e"
          ],
          [
           0.36363636363636365,
           "#cfec9d"
          ],
          [
           0.37373737373737376,
           "#d6ee9b"
          ],
          [
           0.3838383838383838,
           "#ddf19a"
          ],
          [
           0.3939393939393939,
           "#e1f399"
          ],
          [
           0.40404040404040403,
           "#e7f59a"
          ],
          [
           0.41414141414141414,
           "#e9f69d"
          ],
          [
           0.42424242424242425,
           "#ecf7a1"
          ],
          [
           0.43434343434343436,
           "#eef8a4"
          ],
          [
           0.4444444444444444,
           "#f1f9a9"
          ],
          [
           0.45454545454545453,
           "#f4faad"
          ],
          [
           0.46464646464646464,
           "#f6fbb0"
          ],
          [
           0.47474747474747475,
           "#f9fcb5"
          ],
          [
           0.48484848484848486,
           "#fbfdb8"
          ],
          [
           0.494949494949495,
           "#fefebd"
          ],
          [
           0.5050505050505051,
           "#fffdbc"
          ],
          [
           0.5151515151515151,
           "#fffbb8"
          ],
          [
           0.5252525252525253,
           "#fff7b2"
          ],
          [
           0.5353535353535354,
           "#fff5ae"
          ],
          [
           0.5454545454545454,
           "#fff1a8"
          ],
          [
           0.5555555555555556,
           "#feefa3"
          ],
          [
           0.5656565656565656,
           "#feeb9d"
          ],
          [
           0.5757575757575758,
           "#fee797"
          ],
          [
           0.5858585858585859,
           "#fee593"
          ],
          [
           0.5959595959595959,
           "#fee18d"
          ],
          [
           0.6060606060606061,
           "#fede89"
          ],
          [
           0.6161616161616161,
           "#fed884"
          ],
          [
           0.6262626262626263,
           "#fed27f"
          ],
          [
           0.6363636363636364,
           "#fece7c"
          ],
          [
           0.6464646464646465,
           "#fec877"
          ],
          [
           0.6565656565656566,
           "#fdc574"
          ],
          [
           0.6666666666666666,
           "#fdbf6f"
          ],
          [
           0.6767676767676768,
           "#fdb96a"
          ],
          [
           0.6868686868686869,
           "#fdb567"
          ],
          [
           0.696969696969697,
           "#fdaf62"
          ],
          [
           0.7070707070707071,
           "#fcaa5f"
          ],
          [
           0.7171717171717171,
           "#fba35c"
          ],
          [
           0.7272727272727273,
           "#fb9d59"
          ],
          [
           0.7373737373737373,
           "#fa9656"
          ],
          [
           0.7474747474747475,
           "#f98e52"
          ],
          [
           0.7575757575757576,
           "#f88950"
          ],
          [
           0.7676767676767676,
           "#f7814c"
          ],
          [
           0.7777777777777778,
           "#f67c4a"
          ],
          [
           0.7878787878787878,
           "#f57547"
          ],
          [
           0.797979797979798,
           "#f46d43"
          ],
          [
           0.8080808080808081,
           "#f26944"
          ],
          [
           0.8181818181818182,
           "#ee6445"
          ],
          [
           0.8282828282828283,
           "#eb6046"
          ],
          [
           0.8383838383838383,
           "#e85b48"
          ],
          [
           0.8484848484848485,
           "#e45549"
          ],
          [
           0.8585858585858586,
           "#e2514a"
          ],
          [
           0.8686868686868687,
           "#de4c4b"
          ],
          [
           0.8787878787878788,
           "#dc484c"
          ],
          [
           0.8888888888888888,
           "#d8434e"
          ],
          [
           0.898989898989899,
           "#d43d4f"
          ],
          [
           0.9090909090909091,
           "#d0384e"
          ],
          [
           0.9191919191919192,
           "#c9314c"
          ],
          [
           0.9292929292929293,
           "#c52c4b"
          ],
          [
           0.9393939393939394,
           "#be254a"
          ],
          [
           0.9494949494949495,
           "#b81e48"
          ],
          [
           0.9595959595959596,
           "#b41947"
          ],
          [
           0.9696969696969697,
           "#ad1246"
          ],
          [
           0.9797979797979798,
           "#a90d45"
          ],
          [
           0.98989898989899,
           "#a20643"
          ],
          [
           1,
           "#9e0142"
          ]
         ]
        },
        "dragmode": "select",
        "height": 1000,
        "legend": {
         "tracegroupgap": 0
        },
        "template": {
         "data": {
          "bar": [
           {
            "error_x": {
             "color": "#2a3f5f"
            },
            "error_y": {
             "color": "#2a3f5f"
            },
            "marker": {
             "line": {
              "color": "#E5ECF6",
              "width": 0.5
             },
             "pattern": {
              "fillmode": "overlay",
              "size": 10,
              "solidity": 0.2
             }
            },
            "type": "bar"
           }
          ],
          "barpolar": [
           {
            "marker": {
             "line": {
              "color": "#E5ECF6",
              "width": 0.5
             },
             "pattern": {
              "fillmode": "overlay",
              "size": 10,
              "solidity": 0.2
             }
            },
            "type": "barpolar"
           }
          ],
          "carpet": [
           {
            "aaxis": {
             "endlinecolor": "#2a3f5f",
             "gridcolor": "white",
             "linecolor": "white",
             "minorgridcolor": "white",
             "startlinecolor": "#2a3f5f"
            },
            "baxis": {
             "endlinecolor": "#2a3f5f",
             "gridcolor": "white",
             "linecolor": "white",
             "minorgridcolor": "white",
             "startlinecolor": "#2a3f5f"
            },
            "type": "carpet"
           }
          ],
          "choropleth": [
           {
            "colorbar": {
             "outlinewidth": 0,
             "ticks": ""
            },
            "type": "choropleth"
           }
          ],
          "contour": [
           {
            "colorbar": {
             "outlinewidth": 0,
             "ticks": ""
            },
            "colorscale": [
             [
              0,
              "#0d0887"
             ],
             [
              0.1111111111111111,
              "#46039f"
             ],
             [
              0.2222222222222222,
              "#7201a8"
             ],
             [
              0.3333333333333333,
              "#9c179e"
             ],
             [
              0.4444444444444444,
              "#bd3786"
             ],
             [
              0.5555555555555556,
              "#d8576b"
             ],
             [
              0.6666666666666666,
              "#ed7953"
             ],
             [
              0.7777777777777778,
              "#fb9f3a"
             ],
             [
              0.8888888888888888,
              "#fdca26"
             ],
             [
              1,
              "#f0f921"
             ]
            ],
            "type": "contour"
           }
          ],
          "contourcarpet": [
           {
            "colorbar": {
             "outlinewidth": 0,
             "ticks": ""
            },
            "type": "contourcarpet"
           }
          ],
          "heatmap": [
           {
            "colorbar": {
             "outlinewidth": 0,
             "ticks": ""
            },
            "colorscale": [
             [
              0,
              "#0d0887"
             ],
             [
              0.1111111111111111,
              "#46039f"
             ],
             [
              0.2222222222222222,
              "#7201a8"
             ],
             [
              0.3333333333333333,
              "#9c179e"
             ],
             [
              0.4444444444444444,
              "#bd3786"
             ],
             [
              0.5555555555555556,
              "#d8576b"
             ],
             [
              0.6666666666666666,
              "#ed7953"
             ],
             [
              0.7777777777777778,
              "#fb9f3a"
             ],
             [
              0.8888888888888888,
              "#fdca26"
             ],
             [
              1,
              "#f0f921"
             ]
            ],
            "type": "heatmap"
           }
          ],
          "heatmapgl": [
           {
            "colorbar": {
             "outlinewidth": 0,
             "ticks": ""
            },
            "colorscale": [
             [
              0,
              "#0d0887"
             ],
             [
              0.1111111111111111,
              "#46039f"
             ],
             [
              0.2222222222222222,
              "#7201a8"
             ],
             [
              0.3333333333333333,
              "#9c179e"
             ],
             [
              0.4444444444444444,
              "#bd3786"
             ],
             [
              0.5555555555555556,
              "#d8576b"
             ],
             [
              0.6666666666666666,
              "#ed7953"
             ],
             [
              0.7777777777777778,
              "#fb9f3a"
             ],
             [
              0.8888888888888888,
              "#fdca26"
             ],
             [
              1,
              "#f0f921"
             ]
            ],
            "type": "heatmapgl"
           }
          ],
          "histogram": [
           {
            "marker": {
             "pattern": {
              "fillmode": "overlay",
              "size": 10,
              "solidity": 0.2
             }
            },
            "type": "histogram"
           }
          ],
          "histogram2d": [
           {
            "colorbar": {
             "outlinewidth": 0,
             "ticks": ""
            },
            "colorscale": [
             [
              0,
              "#0d0887"
             ],
             [
              0.1111111111111111,
              "#46039f"
             ],
             [
              0.2222222222222222,
              "#7201a8"
             ],
             [
              0.3333333333333333,
              "#9c179e"
             ],
             [
              0.4444444444444444,
              "#bd3786"
             ],
             [
              0.5555555555555556,
              "#d8576b"
             ],
             [
              0.6666666666666666,
              "#ed7953"
             ],
             [
              0.7777777777777778,
              "#fb9f3a"
             ],
             [
              0.8888888888888888,
              "#fdca26"
             ],
             [
              1,
              "#f0f921"
             ]
            ],
            "type": "histogram2d"
           }
          ],
          "histogram2dcontour": [
           {
            "colorbar": {
             "outlinewidth": 0,
             "ticks": ""
            },
            "colorscale": [
             [
              0,
              "#0d0887"
             ],
             [
              0.1111111111111111,
              "#46039f"
             ],
             [
              0.2222222222222222,
              "#7201a8"
             ],
             [
              0.3333333333333333,
              "#9c179e"
             ],
             [
              0.4444444444444444,
              "#bd3786"
             ],
             [
              0.5555555555555556,
              "#d8576b"
             ],
             [
              0.6666666666666666,
              "#ed7953"
             ],
             [
              0.7777777777777778,
              "#fb9f3a"
             ],
             [
              0.8888888888888888,
              "#fdca26"
             ],
             [
              1,
              "#f0f921"
             ]
            ],
            "type": "histogram2dcontour"
           }
          ],
          "mesh3d": [
           {
            "colorbar": {
             "outlinewidth": 0,
             "ticks": ""
            },
            "type": "mesh3d"
           }
          ],
          "parcoords": [
           {
            "line": {
             "colorbar": {
              "outlinewidth": 0,
              "ticks": ""
             }
            },
            "type": "parcoords"
           }
          ],
          "pie": [
           {
            "automargin": true,
            "type": "pie"
           }
          ],
          "scatter": [
           {
            "fillpattern": {
             "fillmode": "overlay",
             "size": 10,
             "solidity": 0.2
            },
            "type": "scatter"
           }
          ],
          "scatter3d": [
           {
            "line": {
             "colorbar": {
              "outlinewidth": 0,
              "ticks": ""
             }
            },
            "marker": {
             "colorbar": {
              "outlinewidth": 0,
              "ticks": ""
             }
            },
            "type": "scatter3d"
           }
          ],
          "scattercarpet": [
           {
            "marker": {
             "colorbar": {
              "outlinewidth": 0,
              "ticks": ""
             }
            },
            "type": "scattercarpet"
           }
          ],
          "scattergeo": [
           {
            "marker": {
             "colorbar": {
              "outlinewidth": 0,
              "ticks": ""
             }
            },
            "type": "scattergeo"
           }
          ],
          "scattergl": [
           {
            "marker": {
             "colorbar": {
              "outlinewidth": 0,
              "ticks": ""
             }
            },
            "type": "scattergl"
           }
          ],
          "scattermapbox": [
           {
            "marker": {
             "colorbar": {
              "outlinewidth": 0,
              "ticks": ""
             }
            },
            "type": "scattermapbox"
           }
          ],
          "scatterpolar": [
           {
            "marker": {
             "colorbar": {
              "outlinewidth": 0,
              "ticks": ""
             }
            },
            "type": "scatterpolar"
           }
          ],
          "scatterpolargl": [
           {
            "marker": {
             "colorbar": {
              "outlinewidth": 0,
              "ticks": ""
             }
            },
            "type": "scatterpolargl"
           }
          ],
          "scatterternary": [
           {
            "marker": {
             "colorbar": {
              "outlinewidth": 0,
              "ticks": ""
             }
            },
            "type": "scatterternary"
           }
          ],
          "surface": [
           {
            "colorbar": {
             "outlinewidth": 0,
             "ticks": ""
            },
            "colorscale": [
             [
              0,
              "#0d0887"
             ],
             [
              0.1111111111111111,
              "#46039f"
             ],
             [
              0.2222222222222222,
              "#7201a8"
             ],
             [
              0.3333333333333333,
              "#9c179e"
             ],
             [
              0.4444444444444444,
              "#bd3786"
             ],
             [
              0.5555555555555556,
              "#d8576b"
             ],
             [
              0.6666666666666666,
              "#ed7953"
             ],
             [
              0.7777777777777778,
              "#fb9f3a"
             ],
             [
              0.8888888888888888,
              "#fdca26"
             ],
             [
              1,
              "#f0f921"
             ]
            ],
            "type": "surface"
           }
          ],
          "table": [
           {
            "cells": {
             "fill": {
              "color": "#EBF0F8"
             },
             "line": {
              "color": "white"
             }
            },
            "header": {
             "fill": {
              "color": "#C8D4E3"
             },
             "line": {
              "color": "white"
             }
            },
            "type": "table"
           }
          ]
         },
         "layout": {
          "annotationdefaults": {
           "arrowcolor": "#2a3f5f",
           "arrowhead": 0,
           "arrowwidth": 1
          },
          "autotypenumbers": "strict",
          "coloraxis": {
           "colorbar": {
            "outlinewidth": 0,
            "ticks": ""
           }
          },
          "colorscale": {
           "diverging": [
            [
             0,
             "#8e0152"
            ],
            [
             0.1,
             "#c51b7d"
            ],
            [
             0.2,
             "#de77ae"
            ],
            [
             0.3,
             "#f1b6da"
            ],
            [
             0.4,
             "#fde0ef"
            ],
            [
             0.5,
             "#f7f7f7"
            ],
            [
             0.6,
             "#e6f5d0"
            ],
            [
             0.7,
             "#b8e186"
            ],
            [
             0.8,
             "#7fbc41"
            ],
            [
             0.9,
             "#4d9221"
            ],
            [
             1,
             "#276419"
            ]
           ],
           "sequential": [
            [
             0,
             "#0d0887"
            ],
            [
             0.1111111111111111,
             "#46039f"
            ],
            [
             0.2222222222222222,
             "#7201a8"
            ],
            [
             0.3333333333333333,
             "#9c179e"
            ],
            [
             0.4444444444444444,
             "#bd3786"
            ],
            [
             0.5555555555555556,
             "#d8576b"
            ],
            [
             0.6666666666666666,
             "#ed7953"
            ],
            [
             0.7777777777777778,
             "#fb9f3a"
            ],
            [
             0.8888888888888888,
             "#fdca26"
            ],
            [
             1,
             "#f0f921"
            ]
           ],
           "sequentialminus": [
            [
             0,
             "#0d0887"
            ],
            [
             0.1111111111111111,
             "#46039f"
            ],
            [
             0.2222222222222222,
             "#7201a8"
            ],
            [
             0.3333333333333333,
             "#9c179e"
            ],
            [
             0.4444444444444444,
             "#bd3786"
            ],
            [
             0.5555555555555556,
             "#d8576b"
            ],
            [
             0.6666666666666666,
             "#ed7953"
            ],
            [
             0.7777777777777778,
             "#fb9f3a"
            ],
            [
             0.8888888888888888,
             "#fdca26"
            ],
            [
             1,
             "#f0f921"
            ]
           ]
          },
          "colorway": [
           "#636efa",
           "#EF553B",
           "#00cc96",
           "#ab63fa",
           "#FFA15A",
           "#19d3f3",
           "#FF6692",
           "#B6E880",
           "#FF97FF",
           "#FECB52"
          ],
          "font": {
           "color": "#2a3f5f"
          },
          "geo": {
           "bgcolor": "white",
           "lakecolor": "white",
           "landcolor": "#E5ECF6",
           "showlakes": true,
           "showland": true,
           "subunitcolor": "white"
          },
          "hoverlabel": {
           "align": "left"
          },
          "hovermode": "closest",
          "mapbox": {
           "style": "light"
          },
          "paper_bgcolor": "white",
          "plot_bgcolor": "#E5ECF6",
          "polar": {
           "angularaxis": {
            "gridcolor": "white",
            "linecolor": "white",
            "ticks": ""
           },
           "bgcolor": "#E5ECF6",
           "radialaxis": {
            "gridcolor": "white",
            "linecolor": "white",
            "ticks": ""
           }
          },
          "scene": {
           "xaxis": {
            "backgroundcolor": "#E5ECF6",
            "gridcolor": "white",
            "gridwidth": 2,
            "linecolor": "white",
            "showbackground": true,
            "ticks": "",
            "zerolinecolor": "white"
           },
           "yaxis": {
            "backgroundcolor": "#E5ECF6",
            "gridcolor": "white",
            "gridwidth": 2,
            "linecolor": "white",
            "showbackground": true,
            "ticks": "",
            "zerolinecolor": "white"
           },
           "zaxis": {
            "backgroundcolor": "#E5ECF6",
            "gridcolor": "white",
            "gridwidth": 2,
            "linecolor": "white",
            "showbackground": true,
            "ticks": "",
            "zerolinecolor": "white"
           }
          },
          "shapedefaults": {
           "line": {
            "color": "#2a3f5f"
           }
          },
          "ternary": {
           "aaxis": {
            "gridcolor": "white",
            "linecolor": "white",
            "ticks": ""
           },
           "baxis": {
            "gridcolor": "white",
            "linecolor": "white",
            "ticks": ""
           },
           "bgcolor": "#E5ECF6",
           "caxis": {
            "gridcolor": "white",
            "linecolor": "white",
            "ticks": ""
           }
          },
          "title": {
           "x": 0.05
          },
          "xaxis": {
           "automargin": true,
           "gridcolor": "white",
           "linecolor": "white",
           "ticks": "",
           "title": {
            "standoff": 15
           },
           "zerolinecolor": "white",
           "zerolinewidth": 2
          },
          "yaxis": {
           "automargin": true,
           "gridcolor": "white",
           "linecolor": "white",
           "ticks": "",
           "title": {
            "standoff": 15
           },
           "zerolinecolor": "white",
           "zerolinewidth": 2
          }
         }
        },
        "title": {
         "text": "Scatter Matrix of Predictors with Fidelity as Color"
        },
        "width": 1000
       }
      }
     },
     "metadata": {},
     "output_type": "display_data"
    }
   ],
   "source": [
    "import plotly.express as px\n",
    "import seaborn as sns\n",
    "from matplotlib.colors import LinearSegmentedColormap\n",
    "predictor_metrics = [\n",
    " \n",
    "    'error',\n",
    "   'GHZ_spread_metric_mad','basis_spread_metric_mad','target_spread_metric_mad'\n",
    "# 'basis_spread_metric_mad','basis_trace_normalized_by_rank','basis_var_all_normalized_by_rank'\n",
    "\n",
    "]\n",
    "metrics_to_visualize = [\n",
    "    \"test_key\",\n",
    "    'avg_fidelity',\n",
    "    \n",
    "]\n",
    "\n",
    "color_col =\"avg_fidelity\"\n",
    "n_colors = 100\n",
    "metrics_to_visualize.extend(predictor_metrics)\n",
    "df_viz = df_agg_by_test_key[metrics_to_visualize].dropna()\n",
    "data_min = df_viz[color_col].min()\n",
    "data_max = df_viz[color_col].max()\n",
    "\n",
    "# If data_min == data_max, we can shift slightly or skip\n",
    "if np.isclose(data_min, data_max):\n",
    "    data_max = data_min + 1e-12\n",
    "print(data_min)\n",
    "print(data_max)\n",
    "values = np.linspace(data_min, data_max, n_colors) ** 4\n",
    "\n",
    "# base_colormap is a reversed Spectral colormap from seaborn\n",
    "base_colormap = sns.color_palette(\"Spectral\", as_cmap=True).reversed()\n",
    "# Convert the floating color values into RGBA arrays\n",
    "colors_rgba = base_colormap((values - values.min()) / (values.max() - values.min()))\n",
    "# Build a Matplotlib colormap from these RGBA values\n",
    "custom_colormap = LinearSegmentedColormap.from_list('vibrant', colors_rgba, N=n_colors)\n",
    "# Convert the Matplotlib colormap to a list of hex strings for Plotly\n",
    "plotly_color_scale = [mcolors.to_hex(custom_colormap(i)) for i in np.linspace(0, 1, n_colors)]\n",
    "fig = px.scatter_matrix(\n",
    "    df_viz,\n",
    "    dimensions=predictor_metrics,\n",
    "    color_continuous_scale=plotly_color_scale,\n",
    "    color=color_col,        # Use fidelity as the color dimension\n",
    "    hover_data=[\"test_key\"],      # Show test_key on hover\n",
    "    title=\"Scatter Matrix of Predictors with Fidelity as Color\"\n",
    ")\n",
    "fig.update_layout(width=1000, height=1000)\n",
    "fig.show()\n",
    "\n"
   ]
  },
  {
   "cell_type": "code",
   "execution_count": 37,
   "metadata": {},
   "outputs": [
    {
     "data": {
      "image/png": "[encoded data removed]",
      "text/plain": [
       "<Figure size 1200x1000 with 2 Axes>"
      ]
     },
     "metadata": {},
     "output_type": "display_data"
    }
   ],
   "source": [
    "import seaborn as sns\n",
    "predictors = ['avg_fidelity','GHZ_var_all_normalized_by_rank','basis_var_all_normalized_by_rank','target_ipr_deff_norm','basis_ipr_deff_norm','dqfim_ipr_deff_norm','dqfim_abbas_deff_norm']\n",
    "corr_matrix = df_agg_by_test_key[predictors].corr()\n",
    "\n",
    "plt.figure(figsize=(12, 10))\n",
    "sns.heatmap(corr_matrix, annot=True, fmt=\".2f\", cmap=\"coolwarm\")\n",
    "plt.title(\"Correlation Matrix of QFIM Metrics and Avg Fidelity\")\n",
    "plt.show()"
   ]
  },
  {
   "cell_type": "code",
   "execution_count": 129,
   "metadata": {},
   "outputs": [
    {
     "data": {
      "application/vnd.plotly.v1+json": {
       "config": {
        "plotlyServerURL": "https://plot.ly"
       },
       "data": [
        {
         "customdata": [
          [
           "test104"
          ],
          [
           "test122"
          ],
          [
           "test129"
          ],
          [
           "test175"
          ],
          [
           "test18"
          ],
          [
           "test197"
          ],
          [
           "test7"
          ],
          [
           "test79"
          ]
         ],
         "dimensions": [
          {
           "axis": {
            "matches": true
           },
           "label": "basis_var_all_normalized_by_rank",
           "values": [
            5.05913909755286,
            5.475514479286705,
            0.1984110009438366,
            1.311702448931419,
            0.0719243566763846,
            0.44850532780665125,
            0.8824132410471691,
            2.0429122691677297
           ]
          },
          {
           "axis": {
            "matches": true
           },
           "label": "basis_ipr_deff_norm",
           "values": [
            1.4981200757010502,
            1.6227869011072278,
            3.772132069117141,
            2.2317783251185563,
            3.5649586461542486,
            1.118040980670723,
            2.473404804974215,
            2.5936866851118854
           ]
          },
          {
           "axis": {
            "matches": true
           },
           "label": "dqfim_ipr_deff_norm",
           "values": [
            1.363105628093056,
            1.6546638481079368,
            2.3158712973394717,
            2.5986477759287183,
            4.196456446099192,
            1.9184110561221144,
            2.4802878275749216,
            1.9304376979110096
           ]
          },
          {
           "axis": {
            "matches": true
           },
           "label": "target_ipr_deff_norm",
           "values": [
            1.4371494825793265,
            1.6228676926565495,
            2.645531643778432,
            2.423593569446991,
            4.530554513542067,
            2.444102209019435,
            2.74129881157767,
            1.9020057946692435
           ]
          }
         ],
         "hovertemplate": "%{xaxis.title.text}=%{x}<br>%{yaxis.title.text}=%{y}<br>test_key=%{customdata[0]}<br>avg_fidelity=%{marker.color}<extra></extra>",
         "legendgroup": "",
         "marker": {
          "color": [
           0.9955062766514824,
           0.9961347399604067,
           0.9974536047424629,
           0.9967741853933255,
           0.9982407749116418,
           0.9968915377754715,
           0.9973851797397214,
           0.9974409342893219
          ],
          "coloraxis": "coloraxis",
          "symbol": "circle"
         },
         "name": "",
         "showlegend": false,
         "type": "splom"
        }
       ],
       "layout": {
        "coloraxis": {
         "colorbar": {
          "title": {
           "text": "avg_fidelity"
          }
         },
         "colorscale": [
          [
           0,
           "#0d0887"
          ],
          [
           0.1111111111111111,
           "#46039f"
          ],
          [
           0.2222222222222222,
           "#7201a8"
          ],
          [
           0.3333333333333333,
           "#9c179e"
          ],
          [
           0.4444444444444444,
           "#bd3786"
          ],
          [
           0.5555555555555556,
           "#d8576b"
          ],
          [
           0.6666666666666666,
           "#ed7953"
          ],
          [
           0.7777777777777778,
           "#fb9f3a"
          ],
          [
           0.8888888888888888,
           "#fdca26"
          ],
          [
           1,
           "#f0f921"
          ]
         ]
        },
        "dragmode": "select",
        "height": 1000,
        "legend": {
         "tracegroupgap": 0
        },
        "template": {
         "data": {
          "bar": [
           {
            "error_x": {
             "color": "#2a3f5f"
            },
            "error_y": {
             "color": "#2a3f5f"
            },
            "marker": {
             "line": {
              "color": "#E5ECF6",
              "width": 0.5
             },
             "pattern": {
              "fillmode": "overlay",
              "size": 10,
              "solidity": 0.2
             }
            },
            "type": "bar"
           }
          ],
          "barpolar": [
           {
            "marker": {
             "line": {
              "color": "#E5ECF6",
              "width": 0.5
             },
             "pattern": {
              "fillmode": "overlay",
              "size": 10,
              "solidity": 0.2
             }
            },
            "type": "barpolar"
           }
          ],
          "carpet": [
           {
            "aaxis": {
             "endlinecolor": "#2a3f5f",
             "gridcolor": "white",
             "linecolor": "white",
             "minorgridcolor": "white",
             "startlinecolor": "#2a3f5f"
            },
            "baxis": {
             "endlinecolor": "#2a3f5f",
             "gridcolor": "white",
             "linecolor": "white",
             "minorgridcolor": "white",
             "startlinecolor": "#2a3f5f"
            },
            "type": "carpet"
           }
          ],
          "choropleth": [
           {
            "colorbar": {
             "outlinewidth": 0,
             "ticks": ""
            },
            "type": "choropleth"
           }
          ],
          "contour": [
           {
            "colorbar": {
             "outlinewidth": 0,
             "ticks": ""
            },
            "colorscale": [
             [
              0,
              "#0d0887"
             ],
             [
              0.1111111111111111,
              "#46039f"
             ],
             [
              0.2222222222222222,
              "#7201a8"
             ],
             [
              0.3333333333333333,
              "#9c179e"
             ],
             [
              0.4444444444444444,
              "#bd3786"
             ],
             [
              0.5555555555555556,
              "#d8576b"
             ],
             [
              0.6666666666666666,
              "#ed7953"
             ],
             [
              0.7777777777777778,
              "#fb9f3a"
             ],
             [
              0.8888888888888888,
              "#fdca26"
             ],
             [
              1,
              "#f0f921"
             ]
            ],
            "type": "contour"
           }
          ],
          "contourcarpet": [
           {
            "colorbar": {
             "outlinewidth": 0,
             "ticks": ""
            },
            "type": "contourcarpet"
           }
          ],
          "heatmap": [
           {
            "colorbar": {
             "outlinewidth": 0,
             "ticks": ""
            },
            "colorscale": [
             [
              0,
              "#0d0887"
             ],
             [
              0.1111111111111111,
              "#46039f"
             ],
             [
              0.2222222222222222,
              "#7201a8"
             ],
             [
              0.3333333333333333,
              "#9c179e"
             ],
             [
              0.4444444444444444,
              "#bd3786"
             ],
             [
              0.5555555555555556,
              "#d8576b"
             ],
             [
              0.6666666666666666,
              "#ed7953"
             ],
             [
              0.7777777777777778,
              "#fb9f3a"
             ],
             [
              0.8888888888888888,
              "#fdca26"
             ],
             [
              1,
              "#f0f921"
             ]
            ],
            "type": "heatmap"
           }
          ],
          "heatmapgl": [
           {
            "colorbar": {
             "outlinewidth": 0,
             "ticks": ""
            },
            "colorscale": [
             [
              0,
              "#0d0887"
             ],
             [
              0.1111111111111111,
              "#46039f"
             ],
             [
              0.2222222222222222,
              "#7201a8"
             ],
             [
              0.3333333333333333,
              "#9c179e"
             ],
             [
              0.4444444444444444,
              "#bd3786"
             ],
             [
              0.5555555555555556,
              "#d8576b"
             ],
             [
              0.6666666666666666,
              "#ed7953"
             ],
             [
              0.7777777777777778,
              "#fb9f3a"
             ],
             [
              0.8888888888888888,
              "#fdca26"
             ],
             [
              1,
              "#f0f921"
             ]
            ],
            "type": "heatmapgl"
           }
          ],
          "histogram": [
           {
            "marker": {
             "pattern": {
              "fillmode": "overlay",
              "size": 10,
              "solidity": 0.2
             }
            },
            "type": "histogram"
           }
          ],
          "histogram2d": [
           {
            "colorbar": {
             "outlinewidth": 0,
             "ticks": ""
            },
            "colorscale": [
             [
              0,
              "#0d0887"
             ],
             [
              0.1111111111111111,
              "#46039f"
             ],
             [
              0.2222222222222222,
              "#7201a8"
             ],
             [
              0.3333333333333333,
              "#9c179e"
             ],
             [
              0.4444444444444444,
              "#bd3786"
             ],
             [
              0.5555555555555556,
              "#d8576b"
             ],
             [
              0.6666666666666666,
              "#ed7953"
             ],
             [
              0.7777777777777778,
              "#fb9f3a"
             ],
             [
              0.8888888888888888,
              "#fdca26"
             ],
             [
              1,
              "#f0f921"
             ]
            ],
            "type": "histogram2d"
           }
          ],
          "histogram2dcontour": [
           {
            "colorbar": {
             "outlinewidth": 0,
             "ticks": ""
            },
            "colorscale": [
             [
              0,
              "#0d0887"
             ],
             [
              0.1111111111111111,
              "#46039f"
             ],
             [
              0.2222222222222222,
              "#7201a8"
             ],
             [
              0.3333333333333333,
              "#9c179e"
             ],
             [
              0.4444444444444444,
              "#bd3786"
             ],
             [
              0.5555555555555556,
              "#d8576b"
             ],
             [
              0.6666666666666666,
              "#ed7953"
             ],
             [
              0.7777777777777778,
              "#fb9f3a"
             ],
             [
              0.8888888888888888,
              "#fdca26"
             ],
             [
              1,
              "#f0f921"
             ]
            ],
            "type": "histogram2dcontour"
           }
          ],
          "mesh3d": [
           {
            "colorbar": {
             "outlinewidth": 0,
             "ticks": ""
            },
            "type": "mesh3d"
           }
          ],
          "parcoords": [
           {
            "line": {
             "colorbar": {
              "outlinewidth": 0,
              "ticks": ""
             }
            },
            "type": "parcoords"
           }
          ],
          "pie": [
           {
            "automargin": true,
            "type": "pie"
           }
          ],
          "scatter": [
           {
            "fillpattern": {
             "fillmode": "overlay",
             "size": 10,
             "solidity": 0.2
            },
            "type": "scatter"
           }
          ],
          "scatter3d": [
           {
            "line": {
             "colorbar": {
              "outlinewidth": 0,
              "ticks": ""
             }
            },
            "marker": {
             "colorbar": {
              "outlinewidth": 0,
              "ticks": ""
             }
            },
            "type": "scatter3d"
           }
          ],
          "scattercarpet": [
           {
            "marker": {
             "colorbar": {
              "outlinewidth": 0,
              "ticks": ""
             }
            },
            "type": "scattercarpet"
           }
          ],
          "scattergeo": [
           {
            "marker": {
             "colorbar": {
              "outlinewidth": 0,
              "ticks": ""
             }
            },
            "type": "scattergeo"
           }
          ],
          "scattergl": [
           {
            "marker": {
             "colorbar": {
              "outlinewidth": 0,
              "ticks": ""
             }
            },
            "type": "scattergl"
           }
          ],
          "scattermapbox": [
           {
            "marker": {
             "colorbar": {
              "outlinewidth": 0,
              "ticks": ""
             }
            },
            "type": "scattermapbox"
           }
          ],
          "scatterpolar": [
           {
            "marker": {
             "colorbar": {
              "outlinewidth": 0,
              "ticks": ""
             }
            },
            "type": "scatterpolar"
           }
          ],
          "scatterpolargl": [
           {
            "marker": {
             "colorbar": {
              "outlinewidth": 0,
              "ticks": ""
             }
            },
            "type": "scatterpolargl"
           }
          ],
          "scatterternary": [
           {
            "marker": {
             "colorbar": {
              "outlinewidth": 0,
              "ticks": ""
             }
            },
            "type": "scatterternary"
           }
          ],
          "surface": [
           {
            "colorbar": {
             "outlinewidth": 0,
             "ticks": ""
            },
            "colorscale": [
             [
              0,
              "#0d0887"
             ],
             [
              0.1111111111111111,
              "#46039f"
             ],
             [
              0.2222222222222222,
              "#7201a8"
             ],
             [
              0.3333333333333333,
              "#9c179e"
             ],
             [
              0.4444444444444444,
              "#bd3786"
             ],
             [
              0.5555555555555556,
              "#d8576b"
             ],
             [
              0.6666666666666666,
              "#ed7953"
             ],
             [
              0.7777777777777778,
              "#fb9f3a"
             ],
             [
              0.8888888888888888,
              "#fdca26"
             ],
             [
              1,
              "#f0f921"
             ]
            ],
            "type": "surface"
           }
          ],
          "table": [
           {
            "cells": {
             "fill": {
              "color": "#EBF0F8"
             },
             "line": {
              "color": "white"
             }
            },
            "header": {
             "fill": {
              "color": "#C8D4E3"
             },
             "line": {
              "color": "white"
             }
            },
            "type": "table"
           }
          ]
         },
         "layout": {
          "annotationdefaults": {
           "arrowcolor": "#2a3f5f",
           "arrowhead": 0,
           "arrowwidth": 1
          },
          "autotypenumbers": "strict",
          "coloraxis": {
           "colorbar": {
            "outlinewidth": 0,
            "ticks": ""
           }
          },
          "colorscale": {
           "diverging": [
            [
             0,
             "#8e0152"
            ],
            [
             0.1,
             "#c51b7d"
            ],
            [
             0.2,
             "#de77ae"
            ],
            [
             0.3,
             "#f1b6da"
            ],
            [
             0.4,
             "#fde0ef"
            ],
            [
             0.5,
             "#f7f7f7"
            ],
            [
             0.6,
             "#e6f5d0"
            ],
            [
             0.7,
             "#b8e186"
            ],
            [
             0.8,
             "#7fbc41"
            ],
            [
             0.9,
             "#4d9221"
            ],
            [
             1,
             "#276419"
            ]
           ],
           "sequential": [
            [
             0,
             "#0d0887"
            ],
            [
             0.1111111111111111,
             "#46039f"
            ],
            [
             0.2222222222222222,
             "#7201a8"
            ],
            [
             0.3333333333333333,
             "#9c179e"
            ],
            [
             0.4444444444444444,
             "#bd3786"
            ],
            [
             0.5555555555555556,
             "#d8576b"
            ],
            [
             0.6666666666666666,
             "#ed7953"
            ],
            [
             0.7777777777777778,
             "#fb9f3a"
            ],
            [
             0.8888888888888888,
             "#fdca26"
            ],
            [
             1,
             "#f0f921"
            ]
           ],
           "sequentialminus": [
            [
             0,
             "#0d0887"
            ],
            [
             0.1111111111111111,
             "#46039f"
            ],
            [
             0.2222222222222222,
             "#7201a8"
            ],
            [
             0.3333333333333333,
             "#9c179e"
            ],
            [
             0.4444444444444444,
             "#bd3786"
            ],
            [
             0.5555555555555556,
             "#d8576b"
            ],
            [
             0.6666666666666666,
             "#ed7953"
            ],
            [
             0.7777777777777778,
             "#fb9f3a"
            ],
            [
             0.8888888888888888,
             "#fdca26"
            ],
            [
             1,
             "#f0f921"
            ]
           ]
          },
          "colorway": [
           "#636efa",
           "#EF553B",
           "#00cc96",
           "#ab63fa",
           "#FFA15A",
           "#19d3f3",
           "#FF6692",
           "#B6E880",
           "#FF97FF",
           "#FECB52"
          ],
          "font": {
           "color": "#2a3f5f"
          },
          "geo": {
           "bgcolor": "white",
           "lakecolor": "white",
           "landcolor": "#E5ECF6",
           "showlakes": true,
           "showland": true,
           "subunitcolor": "white"
          },
          "hoverlabel": {
           "align": "left"
          },
          "hovermode": "closest",
          "mapbox": {
           "style": "light"
          },
          "paper_bgcolor": "white",
          "plot_bgcolor": "#E5ECF6",
          "polar": {
           "angularaxis": {
            "gridcolor": "white",
            "linecolor": "white",
            "ticks": ""
           },
           "bgcolor": "#E5ECF6",
           "radialaxis": {
            "gridcolor": "white",
            "linecolor": "white",
            "ticks": ""
           }
          },
          "scene": {
           "xaxis": {
            "backgroundcolor": "#E5ECF6",
            "gridcolor": "white",
            "gridwidth": 2,
            "linecolor": "white",
            "showbackground": true,
            "ticks": "",
            "zerolinecolor": "white"
           },
           "yaxis": {
            "backgroundcolor": "#E5ECF6",
            "gridcolor": "white",
            "gridwidth": 2,
            "linecolor": "white",
            "showbackground": true,
            "ticks": "",
            "zerolinecolor": "white"
           },
           "zaxis": {
            "backgroundcolor": "#E5ECF6",
            "gridcolor": "white",
            "gridwidth": 2,
            "linecolor": "white",
            "showbackground": true,
            "ticks": "",
            "zerolinecolor": "white"
           }
          },
          "shapedefaults": {
           "line": {
            "color": "#2a3f5f"
           }
          },
          "ternary": {
           "aaxis": {
            "gridcolor": "white",
            "linecolor": "white",
            "ticks": ""
           },
           "baxis": {
            "gridcolor": "white",
            "linecolor": "white",
            "ticks": ""
           },
           "bgcolor": "#E5ECF6",
           "caxis": {
            "gridcolor": "white",
            "linecolor": "white",
            "ticks": ""
           }
          },
          "title": {
           "x": 0.05
          },
          "xaxis": {
           "automargin": true,
           "gridcolor": "white",
           "linecolor": "white",
           "ticks": "",
           "title": {
            "standoff": 15
           },
           "zerolinecolor": "white",
           "zerolinewidth": 2
          },
          "yaxis": {
           "automargin": true,
           "gridcolor": "white",
           "linecolor": "white",
           "ticks": "",
           "title": {
            "standoff": 15
           },
           "zerolinecolor": "white",
           "zerolinewidth": 2
          }
         }
        },
        "title": {
         "text": "Scatter Matrix of Predictors with Fidelity as Color"
        },
        "width": 1000
       }
      }
     },
     "metadata": {},
     "output_type": "display_data"
    }
   ],
   "source": [
    "import plotly.express as px\n",
    "predictor_metrics = [\n",
    " \n",
    "    # 'error',\n",
    "   'basis_var_all_normalized_by_rank','basis_ipr_deff_norm','dqfim_ipr_deff_norm','target_ipr_deff_norm'\n",
    "\n",
    "]\n",
    "metrics_to_visualize = [\n",
    "    \"test_key\",\n",
    "    'avg_fidelity',\n",
    "    \n",
    "]\n",
    "metrics_to_visualize.extend(predictor_metrics)\n",
    "df_viz = df_agg_by_test_key[metrics_to_visualize].dropna()\n",
    "\n",
    "fig = px.scatter_matrix(\n",
    "    df_viz,\n",
    "    dimensions=predictor_metrics,\n",
    "    color=\"avg_fidelity\",        # Use fidelity as the color dimension\n",
    "    hover_data=[\"test_key\"],      # Show test_key on hover\n",
    "    title=\"Scatter Matrix of Predictors with Fidelity as Color\",\n",
    "    # template=\"plotly_white\"  # sets white background\n",
    ")\n",
    "fig.update_layout(width=1000, height=1000)\n",
    "fig.show()\n",
    "\n"
   ]
  },
  {
   "cell_type": "code",
   "execution_count": 89,
   "metadata": {},
   "outputs": [
    {
     "data": {
      "image/png": "[encoded data removed]",
      "text/plain": [
       "<Figure size 800x600 with 1 Axes>"
      ]
     },
     "metadata": {},
     "output_type": "display_data"
    },
    {
     "data": {
      "image/png": "[encoded data removed]",
      "text/plain": [
       "<Figure size 800x600 with 1 Axes>"
      ]
     },
     "metadata": {},
     "output_type": "display_data"
    },
    {
     "data": {
      "image/png": "[encoded data removed]",
      "text/plain": [
       "<Figure size 800x600 with 1 Axes>"
      ]
     },
     "metadata": {},
     "output_type": "display_data"
    }
   ],
   "source": [
    "import matplotlib.pyplot as plt\n",
    "\n",
    "def plot_metric_vs_error(df, qfim_type, x_metric, error_col=\"error\", title=None):\n",
    "    \"\"\"\n",
    "    Plots a scatter plot for a given quantum fisher representation.\n",
    "    \n",
    "    Parameters\n",
    "    ----------\n",
    "    df : pd.DataFrame\n",
    "        Aggregated DataFrame (one row per test_key) that contains the computed QFIM metrics \n",
    "        and the error (e.g., computed as np.mean(np.log(1 - fidelity))).\n",
    "    qfim_type : str\n",
    "        The type of QFIM representation. Must be one of \"GHZ\", \"basis\", \"dqfim\", or \"target\".\n",
    "    x_metric : str\n",
    "        The metric (without prefix) to plot on the x-axis. For example, \"abbas_deff_norm\".\n",
    "        The function will look for a column named f\"{qfim_type}_{x_metric}\".\n",
    "    error_col : str, default \"error\"\n",
    "        The column name to use for the error values on the y-axis.\n",
    "    title : str, optional\n",
    "        A title for the plot. If not provided, a default title will be generated.\n",
    "    \n",
    "    Returns\n",
    "    -------\n",
    "    None. Displays the plot.\n",
    "    \"\"\"\n",
    "    \n",
    "    # Construct the full column name for the metric.\n",
    "    full_x_col = f\"{qfim_type}_{x_metric}\"\n",
    "    if full_x_col not in df.columns:\n",
    "        raise ValueError(f\"Column {full_x_col} not found in the DataFrame.\")\n",
    "    \n",
    "    # Extract the data.\n",
    "    x_data = df[full_x_col]\n",
    "    y_data = df[error_col]\n",
    "    \n",
    "    plt.figure(figsize=(8, 6))\n",
    "    plt.scatter(x_data, y_data, alpha=0.75)\n",
    "    plt.xlabel(full_x_col, fontsize=12)\n",
    "    plt.ylabel(error_col, fontsize=12)\n",
    "    if title is None:\n",
    "        title = f\"{qfim_type} {x_metric} vs. {error_col}\"\n",
    "    plt.title(title, fontsize=14)\n",
    "    plt.grid(True)\n",
    "    plt.show()\n",
    "\n",
    "\n",
    "# Example usage:\n",
    "# Assume df_agg_by_test_key is your aggregated DataFrame (one row per test_key)'GHZ_spread_metric_mad','basis_spread_metric_mad','target_spread_metric_mad'\n",
    "# and you want to plot, for example, \"abbas_deff_norm\" (without prefix) for the target DQFIM.\n",
    "plot_metric_vs_error(df_agg_by_test_key, qfim_type=\"GHZ\", x_metric=\"spread_metric_mad\")\n",
    "plot_metric_vs_error(df_agg_by_test_key, qfim_type=\"basis\", x_metric=\"spread_metric_mad\")\n",
    "plot_metric_vs_error(df_agg_by_test_key, qfim_type=\"target\", x_metric=\"spread_metric_mad\")"
   ]
  },
  {
   "cell_type": "code",
   "execution_count": 157,
   "metadata": {},
   "outputs": [
    {
     "data": {
      "application/vnd.plotly.v1+json": {
       "config": {
        "plotlyServerURL": "https://plot.ly"
       },
       "data": [
        {
         "customdata": [
          [
           "test104"
          ],
          [
           "test122"
          ],
          [
           "test129"
          ],
          [
           "test175"
          ],
          [
           "test18"
          ],
          [
           "test197"
          ],
          [
           "test7"
          ],
          [
           "test79"
          ]
         ],
         "hovertemplate": "GHZ_spread_metric_mad=%{x}<br>error=%{marker.color}<br>test_key=%{customdata[0]}<extra></extra>",
         "legendgroup": "",
         "marker": {
          "color": [
           -6.319581841723606,
           -6.010960495295507,
           -6.37703793092588,
           -6.302270799028966,
           -6.645906968060805,
           -6.672101244141758,
           -6.687257954108281,
           -6.589786449986551
          ],
          "coloraxis": "coloraxis",
          "line": {
           "color": "black",
           "width": 1
          },
          "size": 12,
          "symbol": "circle"
         },
         "mode": "markers",
         "name": "",
         "orientation": "v",
         "showlegend": false,
         "type": "scatter",
         "x": [
          2.356646169994806,
          1.3389123031834553,
          2.2909719770021533,
          1.368028285237036,
          2.51550774549501,
          5.6450707154084485,
          3.668735643076754,
          1.7097542267755506
         ],
         "xaxis": "x",
         "y": [
          -6.319581841723606,
          -6.010960495295507,
          -6.37703793092588,
          -6.302270799028966,
          -6.645906968060805,
          -6.672101244141758,
          -6.687257954108281,
          -6.589786449986551
         ],
         "yaxis": "y"
        }
       ],
       "layout": {
        "coloraxis": {
         "colorbar": {
          "len": 0.9,
          "thickness": 30,
          "title": {
           "text": "error"
          },
          "x": 1.03,
          "y": 0.5,
          "yanchor": "middle"
         },
         "colorscale": [
          [
           0,
           "#fde725"
          ],
          [
           0.010101010101010102,
           "#f6e620"
          ],
          [
           0.020202020202020204,
           "#efe51c"
          ],
          [
           0.030303030303030304,
           "#eae51a"
          ],
          [
           0.04040404040404041,
           "#e2e418"
          ],
          [
           0.050505050505050504,
           "#dae319"
          ],
          [
           0.06060606060606061,
           "#d2e21b"
          ],
          [
           0.0707070707070707,
           "#cae11f"
          ],
          [
           0.08080808080808081,
           "#c2df23"
          ],
          [
           0.09090909090909091,
           "#bade28"
          ],
          [
           0.10101010101010101,
           "#b2dd2d"
          ],
          [
           0.1111111111111111,
           "#aadc32"
          ],
          [
           0.12121212121212122,
           "#a2da37"
          ],
          [
           0.13131313131313133,
           "#9bd93c"
          ],
          [
           0.1414141414141414,
           "#93d741"
          ],
          [
           0.15151515151515152,
           "#8bd646"
          ],
          [
           0.16161616161616163,
           "#84d44b"
          ],
          [
           0.1717171717171717,
           "#7fd34e"
          ],
          [
           0.18181818181818182,
           "#77d153"
          ],
          [
           0.1919191919191919,
           "#70cf57"
          ],
          [
           0.20202020202020202,
           "#69cd5b"
          ],
          [
           0.21212121212121213,
           "#63cb5f"
          ],
          [
           0.2222222222222222,
           "#5cc863"
          ],
          [
           0.23232323232323232,
           "#58c765"
          ],
          [
           0.24242424242424243,
           "#52c569"
          ],
          [
           0.25252525252525254,
           "#4cc26c"
          ],
          [
           0.26262626262626265,
           "#46c06f"
          ],
          [
           0.2727272727272727,
           "#40bd72"
          ],
          [
           0.2828282828282828,
           "#3dbc74"
          ],
          [
           0.29292929292929293,
           "#38b977"
          ],
          [
           0.30303030303030304,
           "#34b679"
          ],
          [
           0.31313131313131315,
           "#2fb47c"
          ],
          [
           0.32323232323232326,
           "#2db27d"
          ],
          [
           0.3333333333333333,
           "#29af7f"
          ],
          [
           0.3434343434343434,
           "#26ad81"
          ],
          [
           0.35353535353535354,
           "#25ab82"
          ],
          [
           0.36363636363636365,
           "#22a884"
          ],
          [
           0.37373737373737376,
           "#21a585"
          ],
          [
           0.3838383838383838,
           "#20a386"
          ],
          [
           0.3939393939393939,
           "#1fa188"
          ],
          [
           0.40404040404040403,
           "#1f9e89"
          ],
          [
           0.41414141414141414,
           "#1e9c89"
          ],
          [
           0.42424242424242425,
           "#1f998a"
          ],
          [
           0.43434343434343436,
           "#1f968b"
          ],
          [
           0.4444444444444444,
           "#1f948c"
          ],
          [
           0.45454545454545453,
           "#20928c"
          ],
          [
           0.46464646464646464,
           "#218f8d"
          ],
          [
           0.47474747474747475,
           "#228d8d"
          ],
          [
           0.48484848484848486,
           "#238a8d"
          ],
          [
           0.494949494949495,
           "#23888e"
          ],
          [
           0.5050505050505051,
           "#25858e"
          ],
          [
           0.5151515151515151,
           "#26828e"
          ],
          [
           0.5252525252525253,
           "#26818e"
          ],
          [
           0.5353535353535354,
           "#277e8e"
          ],
          [
           0.5454545454545454,
           "#287c8e"
          ],
          [
           0.5555555555555556,
           "#29798e"
          ],
          [
           0.5656565656565656,
           "#2a778e"
          ],
          [
           0.5757575757575758,
           "#2b748e"
          ],
          [
           0.5858585858585859,
           "#2c728e"
          ],
          [
           0.5959595959595959,
           "#2d708e"
          ],
          [
           0.6060606060606061,
           "#2e6e8e"
          ],
          [
           0.6161616161616161,
           "#2f6b8e"
          ],
          [
           0.6262626262626263,
           "#30698e"
          ],
          [
           0.6363636363636364,
           "#31668e"
          ],
          [
           0.6464646464646465,
           "#32648e"
          ],
          [
           0.6565656565656566,
           "#34618d"
          ],
          [
           0.6666666666666666,
           "#355f8d"
          ],
          [
           0.6767676767676768,
           "#365c8d"
          ],
          [
           0.6868686868686869,
           "#375a8c"
          ],
          [
           0.696969696969697,
           "#38588c"
          ],
          [
           0.7070707070707071,
           "#3a548c"
          ],
          [
           0.7171717171717171,
           "#3b528b"
          ],
          [
           0.7272727272727273,
           "#3c4f8a"
          ],
          [
           0.7373737373737373,
           "#3d4d8a"
          ],
          [
           0.7474747474747475,
           "#3e4a89"
          ],
          [
           0.7575757575757576,
           "#3f4788"
          ],
          [
           0.7676767676767676,
           "#404588"
          ],
          [
           0.7777777777777778,
           "#424186"
          ],
          [
           0.7878787878787878,
           "#423f85"
          ],
          [
           0.797979797979798,
           "#433d84"
          ],
          [
           0.8080808080808081,
           "#443983"
          ],
          [
           0.8181818181818182,
           "#453781"
          ],
          [
           0.8282828282828283,
           "#463480"
          ],
          [
           0.8383838383838383,
           "#46307e"
          ],
          [
           0.8484848484848485,
           "#472e7c"
          ],
          [
           0.8585858585858586,
           "#472c7a"
          ],
          [
           0.8686868686868687,
           "#482979"
          ],
          [
           0.8787878787878788,
           "#482576"
          ],
          [
           0.8888888888888888,
           "#482374"
          ],
          [
           0.898989898989899,
           "#482071"
          ],
          [
           0.9090909090909091,
           "#481c6e"
          ],
          [
           0.9191919191919192,
           "#481a6c"
          ],
          [
           0.9292929292929293,
           "#481769"
          ],
          [
           0.9393939393939394,
           "#481467"
          ],
          [
           0.9494949494949495,
           "#471164"
          ],
          [
           0.9595959595959596,
           "#470d60"
          ],
          [
           0.9696969696969697,
           "#460a5d"
          ],
          [
           0.9797979797979798,
           "#46075a"
          ],
          [
           0.98989898989899,
           "#450457"
          ],
          [
           1,
           "#440154"
          ]
         ]
        },
        "height": 600,
        "legend": {
         "tracegroupgap": 0
        },
        "shapes": [
         {
          "layer": "below",
          "line": {
           "color": "black",
           "width": 2
          },
          "type": "rect",
          "x0": 0,
          "x1": 1,
          "xref": "paper",
          "y0": 0,
          "y1": 1,
          "yref": "paper"
         }
        ],
        "template": {
         "data": {
          "bar": [
           {
            "error_x": {
             "color": "#2a3f5f"
            },
            "error_y": {
             "color": "#2a3f5f"
            },
            "marker": {
             "line": {
              "color": "white",
              "width": 0.5
             },
             "pattern": {
              "fillmode": "overlay",
              "size": 10,
              "solidity": 0.2
             }
            },
            "type": "bar"
           }
          ],
          "barpolar": [
           {
            "marker": {
             "line": {
              "color": "white",
              "width": 0.5
             },
             "pattern": {
              "fillmode": "overlay",
              "size": 10,
              "solidity": 0.2
             }
            },
            "type": "barpolar"
           }
          ],
          "carpet": [
           {
            "aaxis": {
             "endlinecolor": "#2a3f5f",
             "gridcolor": "#C8D4E3",
             "linecolor": "#C8D4E3",
             "minorgridcolor": "#C8D4E3",
             "startlinecolor": "#2a3f5f"
            },
            "baxis": {
             "endlinecolor": "#2a3f5f",
             "gridcolor": "#C8D4E3",
             "linecolor": "#C8D4E3",
             "minorgridcolor": "#C8D4E3",
             "startlinecolor": "#2a3f5f"
            },
            "type": "carpet"
           }
          ],
          "choropleth": [
           {
            "colorbar": {
             "outlinewidth": 0,
             "ticks": ""
            },
            "type": "choropleth"
           }
          ],
          "contour": [
           {
            "colorbar": {
             "outlinewidth": 0,
             "ticks": ""
            },
            "colorscale": [
             [
              0,
              "#0d0887"
             ],
             [
              0.1111111111111111,
              "#46039f"
             ],
             [
              0.2222222222222222,
              "#7201a8"
             ],
             [
              0.3333333333333333,
              "#9c179e"
             ],
             [
              0.4444444444444444,
              "#bd3786"
             ],
             [
              0.5555555555555556,
              "#d8576b"
             ],
             [
              0.6666666666666666,
              "#ed7953"
             ],
             [
              0.7777777777777778,
              "#fb9f3a"
             ],
             [
              0.8888888888888888,
              "#fdca26"
             ],
             [
              1,
              "#f0f921"
             ]
            ],
            "type": "contour"
           }
          ],
          "contourcarpet": [
           {
            "colorbar": {
             "outlinewidth": 0,
             "ticks": ""
            },
            "type": "contourcarpet"
           }
          ],
          "heatmap": [
           {
            "colorbar": {
             "outlinewidth": 0,
             "ticks": ""
            },
            "colorscale": [
             [
              0,
              "#0d0887"
             ],
             [
              0.1111111111111111,
              "#46039f"
             ],
             [
              0.2222222222222222,
              "#7201a8"
             ],
             [
              0.3333333333333333,
              "#9c179e"
             ],
             [
              0.4444444444444444,
              "#bd3786"
             ],
             [
              0.5555555555555556,
              "#d8576b"
             ],
             [
              0.6666666666666666,
              "#ed7953"
             ],
             [
              0.7777777777777778,
              "#fb9f3a"
             ],
             [
              0.8888888888888888,
              "#fdca26"
             ],
             [
              1,
              "#f0f921"
             ]
            ],
            "type": "heatmap"
           }
          ],
          "heatmapgl": [
           {
            "colorbar": {
             "outlinewidth": 0,
             "ticks": ""
            },
            "colorscale": [
             [
              0,
              "#0d0887"
             ],
             [
              0.1111111111111111,
              "#46039f"
             ],
             [
              0.2222222222222222,
              "#7201a8"
             ],
             [
              0.3333333333333333,
              "#9c179e"
             ],
             [
              0.4444444444444444,
              "#bd3786"
             ],
             [
              0.5555555555555556,
              "#d8576b"
             ],
             [
              0.6666666666666666,
              "#ed7953"
             ],
             [
              0.7777777777777778,
              "#fb9f3a"
             ],
             [
              0.8888888888888888,
              "#fdca26"
             ],
             [
              1,
              "#f0f921"
             ]
            ],
            "type": "heatmapgl"
           }
          ],
          "histogram": [
           {
            "marker": {
             "pattern": {
              "fillmode": "overlay",
              "size": 10,
              "solidity": 0.2
             }
            },
            "type": "histogram"
           }
          ],
          "histogram2d": [
           {
            "colorbar": {
             "outlinewidth": 0,
             "ticks": ""
            },
            "colorscale": [
             [
              0,
              "#0d0887"
             ],
             [
              0.1111111111111111,
              "#46039f"
             ],
             [
              0.2222222222222222,
              "#7201a8"
             ],
             [
              0.3333333333333333,
              "#9c179e"
             ],
             [
              0.4444444444444444,
              "#bd3786"
             ],
             [
              0.5555555555555556,
              "#d8576b"
             ],
             [
              0.6666666666666666,
              "#ed7953"
             ],
             [
              0.7777777777777778,
              "#fb9f3a"
             ],
             [
              0.8888888888888888,
              "#fdca26"
             ],
             [
              1,
              "#f0f921"
             ]
            ],
            "type": "histogram2d"
           }
          ],
          "histogram2dcontour": [
           {
            "colorbar": {
             "outlinewidth": 0,
             "ticks": ""
            },
            "colorscale": [
             [
              0,
              "#0d0887"
             ],
             [
              0.1111111111111111,
              "#46039f"
             ],
             [
              0.2222222222222222,
              "#7201a8"
             ],
             [
              0.3333333333333333,
              "#9c179e"
             ],
             [
              0.4444444444444444,
              "#bd3786"
             ],
             [
              0.5555555555555556,
              "#d8576b"
             ],
             [
              0.6666666666666666,
              "#ed7953"
             ],
             [
              0.7777777777777778,
              "#fb9f3a"
             ],
             [
              0.8888888888888888,
              "#fdca26"
             ],
             [
              1,
              "#f0f921"
             ]
            ],
            "type": "histogram2dcontour"
           }
          ],
          "mesh3d": [
           {
            "colorbar": {
             "outlinewidth": 0,
             "ticks": ""
            },
            "type": "mesh3d"
           }
          ],
          "parcoords": [
           {
            "line": {
             "colorbar": {
              "outlinewidth": 0,
              "ticks": ""
             }
            },
            "type": "parcoords"
           }
          ],
          "pie": [
           {
            "automargin": true,
            "type": "pie"
           }
          ],
          "scatter": [
           {
            "fillpattern": {
             "fillmode": "overlay",
             "size": 10,
             "solidity": 0.2
            },
            "type": "scatter"
           }
          ],
          "scatter3d": [
           {
            "line": {
             "colorbar": {
              "outlinewidth": 0,
              "ticks": ""
             }
            },
            "marker": {
             "colorbar": {
              "outlinewidth": 0,
              "ticks": ""
             }
            },
            "type": "scatter3d"
           }
          ],
          "scattercarpet": [
           {
            "marker": {
             "colorbar": {
              "outlinewidth": 0,
              "ticks": ""
             }
            },
            "type": "scattercarpet"
           }
          ],
          "scattergeo": [
           {
            "marker": {
             "colorbar": {
              "outlinewidth": 0,
              "ticks": ""
             }
            },
            "type": "scattergeo"
           }
          ],
          "scattergl": [
           {
            "marker": {
             "colorbar": {
              "outlinewidth": 0,
              "ticks": ""
             }
            },
            "type": "scattergl"
           }
          ],
          "scattermapbox": [
           {
            "marker": {
             "colorbar": {
              "outlinewidth": 0,
              "ticks": ""
             }
            },
            "type": "scattermapbox"
           }
          ],
          "scatterpolar": [
           {
            "marker": {
             "colorbar": {
              "outlinewidth": 0,
              "ticks": ""
             }
            },
            "type": "scatterpolar"
           }
          ],
          "scatterpolargl": [
           {
            "marker": {
             "colorbar": {
              "outlinewidth": 0,
              "ticks": ""
             }
            },
            "type": "scatterpolargl"
           }
          ],
          "scatterternary": [
           {
            "marker": {
             "colorbar": {
              "outlinewidth": 0,
              "ticks": ""
             }
            },
            "type": "scatterternary"
           }
          ],
          "surface": [
           {
            "colorbar": {
             "outlinewidth": 0,
             "ticks": ""
            },
            "colorscale": [
             [
              0,
              "#0d0887"
             ],
             [
              0.1111111111111111,
              "#46039f"
             ],
             [
              0.2222222222222222,
              "#7201a8"
             ],
             [
              0.3333333333333333,
              "#9c179e"
             ],
             [
              0.4444444444444444,
              "#bd3786"
             ],
             [
              0.5555555555555556,
              "#d8576b"
             ],
             [
              0.6666666666666666,
              "#ed7953"
             ],
             [
              0.7777777777777778,
              "#fb9f3a"
             ],
             [
              0.8888888888888888,
              "#fdca26"
             ],
             [
              1,
              "#f0f921"
             ]
            ],
            "type": "surface"
           }
          ],
          "table": [
           {
            "cells": {
             "fill": {
              "color": "#EBF0F8"
             },
             "line": {
              "color": "white"
             }
            },
            "header": {
             "fill": {
              "color": "#C8D4E3"
             },
             "line": {
              "color": "white"
             }
            },
            "type": "table"
           }
          ]
         },
         "layout": {
          "annotationdefaults": {
           "arrowcolor": "#2a3f5f",
           "arrowhead": 0,
           "arrowwidth": 1
          },
          "autotypenumbers": "strict",
          "coloraxis": {
           "colorbar": {
            "outlinewidth": 0,
            "ticks": ""
           }
          },
          "colorscale": {
           "diverging": [
            [
             0,
             "#8e0152"
            ],
            [
             0.1,
             "#c51b7d"
            ],
            [
             0.2,
             "#de77ae"
            ],
            [
             0.3,
             "#f1b6da"
            ],
            [
             0.4,
             "#fde0ef"
            ],
            [
             0.5,
             "#f7f7f7"
            ],
            [
             0.6,
             "#e6f5d0"
            ],
            [
             0.7,
             "#b8e186"
            ],
            [
             0.8,
             "#7fbc41"
            ],
            [
             0.9,
             "#4d9221"
            ],
            [
             1,
             "#276419"
            ]
           ],
           "sequential": [
            [
             0,
             "#0d0887"
            ],
            [
             0.1111111111111111,
             "#46039f"
            ],
            [
             0.2222222222222222,
             "#7201a8"
            ],
            [
             0.3333333333333333,
             "#9c179e"
            ],
            [
             0.4444444444444444,
             "#bd3786"
            ],
            [
             0.5555555555555556,
             "#d8576b"
            ],
            [
             0.6666666666666666,
             "#ed7953"
            ],
            [
             0.7777777777777778,
             "#fb9f3a"
            ],
            [
             0.8888888888888888,
             "#fdca26"
            ],
            [
             1,
             "#f0f921"
            ]
           ],
           "sequentialminus": [
            [
             0,
             "#0d0887"
            ],
            [
             0.1111111111111111,
             "#46039f"
            ],
            [
             0.2222222222222222,
             "#7201a8"
            ],
            [
             0.3333333333333333,
             "#9c179e"
            ],
            [
             0.4444444444444444,
             "#bd3786"
            ],
            [
             0.5555555555555556,
             "#d8576b"
            ],
            [
             0.6666666666666666,
             "#ed7953"
            ],
            [
             0.7777777777777778,
             "#fb9f3a"
            ],
            [
             0.8888888888888888,
             "#fdca26"
            ],
            [
             1,
             "#f0f921"
            ]
           ]
          },
          "colorway": [
           "#636efa",
           "#EF553B",
           "#00cc96",
           "#ab63fa",
           "#FFA15A",
           "#19d3f3",
           "#FF6692",
           "#B6E880",
           "#FF97FF",
           "#FECB52"
          ],
          "font": {
           "color": "#2a3f5f"
          },
          "geo": {
           "bgcolor": "white",
           "lakecolor": "white",
           "landcolor": "white",
           "showlakes": true,
           "showland": true,
           "subunitcolor": "#C8D4E3"
          },
          "hoverlabel": {
           "align": "left"
          },
          "hovermode": "closest",
          "mapbox": {
           "style": "light"
          },
          "paper_bgcolor": "white",
          "plot_bgcolor": "white",
          "polar": {
           "angularaxis": {
            "gridcolor": "#EBF0F8",
            "linecolor": "#EBF0F8",
            "ticks": ""
           },
           "bgcolor": "white",
           "radialaxis": {
            "gridcolor": "#EBF0F8",
            "linecolor": "#EBF0F8",
            "ticks": ""
           }
          },
          "scene": {
           "xaxis": {
            "backgroundcolor": "white",
            "gridcolor": "#DFE8F3",
            "gridwidth": 2,
            "linecolor": "#EBF0F8",
            "showbackground": true,
            "ticks": "",
            "zerolinecolor": "#EBF0F8"
           },
           "yaxis": {
            "backgroundcolor": "white",
            "gridcolor": "#DFE8F3",
            "gridwidth": 2,
            "linecolor": "#EBF0F8",
            "showbackground": true,
            "ticks": "",
            "zerolinecolor": "#EBF0F8"
           },
           "zaxis": {
            "backgroundcolor": "white",
            "gridcolor": "#DFE8F3",
            "gridwidth": 2,
            "linecolor": "#EBF0F8",
            "showbackground": true,
            "ticks": "",
            "zerolinecolor": "#EBF0F8"
           }
          },
          "shapedefaults": {
           "line": {
            "color": "#2a3f5f"
           }
          },
          "ternary": {
           "aaxis": {
            "gridcolor": "#DFE8F3",
            "linecolor": "#A2B1C6",
            "ticks": ""
           },
           "baxis": {
            "gridcolor": "#DFE8F3",
            "linecolor": "#A2B1C6",
            "ticks": ""
           },
           "bgcolor": "white",
           "caxis": {
            "gridcolor": "#DFE8F3",
            "linecolor": "#A2B1C6",
            "ticks": ""
           }
          },
          "title": {
           "x": 0.05
          },
          "xaxis": {
           "automargin": true,
           "gridcolor": "#EBF0F8",
           "linecolor": "#EBF0F8",
           "ticks": "",
           "title": {
            "standoff": 15
           },
           "zerolinecolor": "#EBF0F8",
           "zerolinewidth": 2
          },
          "yaxis": {
           "automargin": true,
           "gridcolor": "#EBF0F8",
           "linecolor": "#EBF0F8",
           "ticks": "",
           "title": {
            "standoff": 15
           },
           "zerolinecolor": "#EBF0F8",
           "zerolinewidth": 2
          }
         }
        },
        "title": {
         "text": "GHZ_spread_metric_mad vs error colored by error"
        },
        "width": 800,
        "xaxis": {
         "anchor": "y",
         "domain": [
          0,
          1
         ],
         "title": {
          "text": "GHZ_spread_metric_mad"
         }
        },
        "yaxis": {
         "anchor": "x",
         "domain": [
          0,
          1
         ],
         "title": {
          "text": "error"
         }
        }
       }
      }
     },
     "metadata": {},
     "output_type": "display_data"
    }
   ],
   "source": [
    "def plot_metric_vs_error_plotly(\n",
    "    df,\n",
    "    qfim_type,\n",
    "    x_metric,\n",
    "    error_col=\"error\",\n",
    "    title=None,\n",
    "    add_trendline=False,\n",
    "    n_colors=100,\n",
    "    width=800,\n",
    "    height=600\n",
    "):\n",
    "    \"\"\"\n",
    "    Plot a scatter of one QFIM metric vs. error, with the points colored by the same error.\n",
    "    This is useful to visualize how error changes with the metric, and the color scale \n",
    "    helps distinguish overlapping points.\n",
    "\n",
    "    Parameters\n",
    "    ----------\n",
    "    df : pd.DataFrame\n",
    "        DataFrame with columns for the QFIM metrics and an error column.\n",
    "    qfim_type : str\n",
    "        The QFIM type (e.g. \"GHZ\", \"basis\", \"dqfim\", \"target\").\n",
    "        If None, x_metric is assumed to be a direct column name in df.\n",
    "    x_metric : str\n",
    "        The base name of the metric for the x-axis (without prefix if qfim_type is None).\n",
    "    error_col : str, default \"error\"\n",
    "        The column name for the error values (y-axis and color).\n",
    "    title : str, optional\n",
    "        Plot title. If None, a default is generated.\n",
    "    add_trendline : bool, optional\n",
    "        If True, add an OLS trendline across all points.\n",
    "    n_colors : int, optional\n",
    "        Number of color steps in the custom colormap.\n",
    "    width, height : int\n",
    "        Plot width and height in pixels.\n",
    "\n",
    "    Returns\n",
    "    -------\n",
    "    fig : plotly.graph_objects.Figure\n",
    "        A scatter plot with a bounding box, black marker borders, \n",
    "        and a color bar for the error values.\n",
    "    \"\"\"\n",
    "    import plotly.express as px\n",
    "    import numpy as np\n",
    "    import seaborn as sns\n",
    "    import matplotlib.colors as mcolors\n",
    "    from matplotlib.colors import LinearSegmentedColormap\n",
    "\n",
    "    # 1) Construct x_col\n",
    "    if qfim_type is not None:\n",
    "        x_col = f\"{qfim_type}_{x_metric}\"\n",
    "    else:\n",
    "        x_col = x_metric\n",
    "\n",
    "    # Check columns\n",
    "    for col in [x_col, error_col]:\n",
    "        if col not in df.columns:\n",
    "            raise ValueError(f\"Column '{col}' not found in the DataFrame.\")\n",
    "\n",
    "    # 2) Build a custom color scale from the error range\n",
    "    data_min = df[error_col].min()\n",
    "    data_max = df[error_col].max()\n",
    "    if np.isclose(data_min, data_max):\n",
    "        data_max = data_min + 1e-12\n",
    "\n",
    "    values = np.linspace(data_min, data_max, n_colors) ** 4\n",
    "    base_colormap = plt.cm.viridis\n",
    "    # base_colormap = sns.color_palette(\"Spectral\", as_cmap=True).reversed()\n",
    "    # base_colormap = sns.color_palette(\"YlGn\", as_cmap=True).reversed()\n",
    "    colors_rgba = base_colormap((values - values.min()) / (values.max() - values.min()))\n",
    "    # 'YlGn'\n",
    "    custom_cmap = LinearSegmentedColormap.from_list('vibrant', colors_rgba, N=n_colors)\n",
    "    plotly_color_scale = [mcolors.to_hex(custom_cmap(i)) for i in np.linspace(0, 1, n_colors)]\n",
    "\n",
    "    # 3) Trend line options\n",
    "    trendline_option = \"ols\" if add_trendline else None\n",
    "\n",
    "    # 4) Create the scatter plot\n",
    "    fig = px.scatter(\n",
    "        df,\n",
    "        x=x_col,\n",
    "        y=error_col,\n",
    "        color=error_col,\n",
    "        color_continuous_scale=plotly_color_scale,\n",
    "        title=title if title else f\"{x_col} vs {error_col} colored by {error_col}\",\n",
    "        hover_data=[\"test_key\"],\n",
    "        template=\"plotly_white\",\n",
    "        trendline=trendline_option,\n",
    "        trendline_scope=\"overall\",\n",
    "        trendline_color_override=\"red\",\n",
    "        width=width,\n",
    "        height=height\n",
    "    )\n",
    "\n",
    "    # 5) Marker styling\n",
    "    fig.update_traces(\n",
    "        marker=dict(\n",
    "            size=12,\n",
    "            line=dict(width=1, color=\"black\"),\n",
    "            symbol=\"circle\"\n",
    "        )\n",
    "    )\n",
    "\n",
    "    # 6) Adjust color bar and bounding box\n",
    "    fig.update_layout(\n",
    "        coloraxis_colorbar=dict(\n",
    "            title=error_col,\n",
    "            len=0.9,\n",
    "            thickness=30,\n",
    "            y=0.5,\n",
    "            yanchor=\"middle\",\n",
    "            x=1.03\n",
    "        ),\n",
    "        shapes=[\n",
    "            dict(\n",
    "                type=\"rect\",\n",
    "                xref=\"paper\", yref=\"paper\",\n",
    "                x0=0, y0=0, x1=1, y1=1,\n",
    "                line=dict(color=\"black\", width=2),\n",
    "                layer=\"below\"\n",
    "            )\n",
    "        ]\n",
    "    )\n",
    "\n",
    "    return fig\n",
    "fig =plot_metric_vs_error_plotly(df_agg_by_test_key, qfim_type=\"GHZ\", x_metric=\"spread_metric_mad\")\n",
    "fig.show()"
   ]
  },
  {
   "cell_type": "code",
   "execution_count": null,
   "metadata": {},
   "outputs": [
    {
     "name": "stdout",
     "output_type": "stream",
     "text": [
      "data_min: 0.9955062766514824\n",
      "[0.99103275 0.99108774 0.99114274 0.99119774 0.99125274 0.99130774\n",
      " 0.99136274 0.99141774 0.99147275 0.99152776 0.99158276 0.99163777\n",
      " 0.99169279 0.9917478  0.99180281 0.99185783 0.99191285 0.99196787\n",
      " 0.99202289 0.99207791 0.99213293 0.99218796 0.99224299 0.99229802\n",
      " 0.99235305 0.99240808 0.99246311 0.99251814 0.99257318 0.99262822\n",
      " 0.99268326 0.9927383  0.99279334 0.99284838 0.99290343 0.99295848\n",
      " 0.99301352 0.99306857 0.99312363 0.99317868 0.99323373 0.99328879\n",
      " 0.99334385 0.99339891 0.99345397 0.99350903 0.99356409 0.99361916\n",
      " 0.99367422 0.99372929 0.99378436 0.99383943 0.99389451 0.99394958\n",
      " 0.99400466 0.99405973 0.99411481 0.99416989 0.99422497 0.99428006\n",
      " 0.99433514 0.99439023 0.99444532 0.99450041 0.9945555  0.99461059\n",
      " 0.99466568 0.99472078 0.99477588 0.99483098 0.99488608 0.99494118\n",
      " 0.99499628 0.99505139 0.99510649 0.9951616  0.99521671 0.99527182\n",
      " 0.99532693 0.99538205 0.99543716 0.99549228 0.9955474  0.99560252\n",
      " 0.99565764 0.99571276 0.99576789 0.99582301 0.99587814 0.99593327\n",
      " 0.9959884  0.99604353 0.99609867 0.9961538  0.99620894 0.99626408\n",
      " 0.99631922 0.99637436 0.9964295  0.99648464]\n"
     ]
    },
    {
     "data": {
      "application/vnd.plotly.v1+json": {
       "config": {
        "plotlyServerURL": "https://plot.ly"
       },
       "data": [
        {
         "customdata": [
          [
           "test104"
          ],
          [
           "test122"
          ],
          [
           "test129"
          ],
          [
           "test175"
          ],
          [
           "test18"
          ],
          [
           "test197"
          ],
          [
           "test7"
          ],
          [
           "test79"
          ]
         ],
         "hovertemplate": "target_abbas_deff_norm=%{x}<br>target_d_eff=%{y}<br>test_key=%{customdata[0]}<br>avg_fidelity=%{marker.color}<extra></extra>",
         "legendgroup": "",
         "marker": {
          "color": [
           0.9955062766514824,
           0.9961347399604067,
           0.9974536047424629,
           0.9967741853933255,
           0.9982407749116418,
           0.9968915377754715,
           0.9973851797397214,
           0.9974409342893219
          ],
          "coloraxis": "coloraxis",
          "line": {
           "color": "black",
           "width": 0.75
          },
          "size": 12,
          "symbol": "circle"
         },
         "mode": "markers",
         "name": "",
         "orientation": "v",
         "showlegend": false,
         "type": "scatter",
         "x": [
          0.30069149071502677,
          0.30408077703600367,
          0.31471546247553184,
          0.3130502983387755,
          0.32218390903925825,
          0.3131377976774256,
          0.31532999141554735,
          0.3078030700881777
         ],
         "xaxis": "x",
         "y": [
          1.7469872476445212,
          1.9894451747069213,
          2.4739404045773767,
          2.3791464562960707,
          2.88625319852189,
          2.199370153405979,
          2.4524241302783407,
          1.949713165427291
         ],
         "yaxis": "y"
        }
       ],
       "layout": {
        "coloraxis": {
         "colorbar": {
          "len": 1.1,
          "thickness": 35,
          "title": {
           "text": "avg_fidelity"
          },
          "x": 1,
          "y": 0.53,
          "yanchor": "middle"
         },
         "colorscale": [
          [
           0,
           "#5e4fa2"
          ],
          [
           0.010101010101010102,
           "#5b53a4"
          ],
          [
           0.020202020202020204,
           "#555aa7"
          ],
          [
           0.030303030303030304,
           "#525fa9"
          ],
          [
           0.04040404040404041,
           "#4d65ad"
          ],
          [
           0.050505050505050504,
           "#496aaf"
          ],
          [
           0.06060606060606061,
           "#4471b2"
          ],
          [
           0.0707070707070707,
           "#3f77b5"
          ],
          [
           0.08080808080808081,
           "#3b7cb7"
          ],
          [
           0.09090909090909091,
           "#3682ba"
          ],
          [
           0.10101010101010101,
           "#3387bc"
          ],
          [
           0.1111111111111111,
           "#378ebb"
          ],
          [
           0.12121212121212122,
           "#3b92b9"
          ],
          [
           0.13131313131313133,
           "#4199b6"
          ],
          [
           0.1414141414141414,
           "#47a0b3"
          ],
          [
           0.15151515151515152,
           "#4ba4b1"
          ],
          [
           0.16161616161616163,
           "#52abae"
          ],
          [
           0.1717171717171717,
           "#56b0ad"
          ],
          [
           0.18181818181818182,
           "#5cb7aa"
          ],
          [
           0.1919191919191919,
           "#62bda7"
          ],
          [
           0.20202020202020202,
           "#66c2a5"
          ],
          [
           0.21212121212121213,
           "#6ec5a5"
          ],
          [
           0.2222222222222222,
           "#74c7a5"
          ],
          [
           0.23232323232323232,
           "#7ccaa5"
          ],
          [
           0.24242424242424243,
           "#81cda5"
          ],
          [
           0.25252525252525254,
           "#89d0a4"
          ],
          [
           0.26262626262626265,
           "#91d3a4"
          ],
          [
           0.2727272727272727,
           "#97d5a4"
          ],
          [
           0.2828282828282828,
           "#9fd8a4"
          ],
          [
           0.29292929292929293,
           "#a4daa4"
          ],
          [
           0.30303030303030304,
           "#acdda4"
          ],
          [
           0.31313131313131315,
           "#b3e0a2"
          ],
          [
           0.32323232323232326,
           "#b8e2a1"
          ],
          [
           0.3333333333333333,
           "#bfe5a0"
          ],
          [
           0.3434343434343434,
           "#c3e79f"
          ],
          [
           0.35353535353535354,
           "#caea9e"
          ],
          [
           0.36363636363636365,
           "#d1ed9c"
          ],
          [
           0.37373737373737376,
           "#d6ee9b"
          ],
          [
           0.3838383838383838,
           "#ddf19a"
          ],
          [
           0.3939393939393939,
           "#e1f399"
          ],
          [
           0.40404040404040403,
           "#e7f59a"
          ],
          [
           0.41414141414141414,
           "#e9f69d"
          ],
          [
           0.42424242424242425,
           "#ecf7a1"
          ],
          [
           0.43434343434343436,
           "#eff9a6"
          ],
          [
           0.4444444444444444,
           "#f1f9a9"
          ],
          [
           0.45454545454545453,
           "#f4faad"
          ],
          [
           0.46464646464646464,
           "#f6fbb0"
          ],
          [
           0.47474747474747475,
           "#f9fcb5"
          ],
          [
           0.48484848484848486,
           "#fcfeba"
          ],
          [
           0.494949494949495,
           "#fefebd"
          ],
          [
           0.5050505050505051,
           "#fffdbc"
          ],
          [
           0.5151515151515151,
           "#fffbb8"
          ],
          [
           0.5252525252525253,
           "#fff7b2"
          ],
          [
           0.5353535353535354,
           "#fff5ae"
          ],
          [
           0.5454545454545454,
           "#fff1a8"
          ],
          [
           0.5555555555555556,
           "#feeda1"
          ],
          [
           0.5656565656565656,
           "#feeb9d"
          ],
          [
           0.5757575757575758,
           "#fee797"
          ],
          [
           0.5858585858585859,
           "#fee593"
          ],
          [
           0.5959595959595959,
           "#fee18d"
          ],
          [
           0.6060606060606061,
           "#fedc88"
          ],
          [
           0.6161616161616161,
           "#fed884"
          ],
          [
           0.6262626262626263,
           "#fed27f"
          ],
          [
           0.6363636363636364,
           "#fece7c"
          ],
          [
           0.6464646464646465,
           "#fec877"
          ],
          [
           0.6565656565656566,
           "#fdc372"
          ],
          [
           0.6666666666666666,
           "#fdbf6f"
          ],
          [
           0.6767676767676768,
           "#fdb96a"
          ],
          [
           0.6868686868686869,
           "#fdb567"
          ],
          [
           0.696969696969697,
           "#fdaf62"
          ],
          [
           0.7070707070707071,
           "#fcaa5f"
          ],
          [
           0.7171717171717171,
           "#fba35c"
          ],
          [
           0.7272727272727273,
           "#fa9b58"
          ],
          [
           0.7373737373737373,
           "#fa9656"
          ],
          [
           0.7474747474747475,
           "#f98e52"
          ],
          [
           0.7575757575757576,
           "#f88950"
          ],
          [
           0.7676767676767676,
           "#f7814c"
          ],
          [
           0.7777777777777778,
           "#f67a49"
          ],
          [
           0.7878787878787878,
           "#f57547"
          ],
          [
           0.797979797979798,
           "#f46d43"
          ],
          [
           0.8080808080808081,
           "#f26944"
          ],
          [
           0.8181818181818182,
           "#ee6445"
          ],
          [
           0.8282828282828283,
           "#eb6046"
          ],
          [
           0.8383838383838383,
           "#e85b48"
          ],
          [
           0.8484848484848485,
           "#e45549"
          ],
          [
           0.8585858585858586,
           "#e2514a"
          ],
          [
           0.8686868686868687,
           "#de4c4b"
          ],
          [
           0.8787878787878788,
           "#dc484c"
          ],
          [
           0.8888888888888888,
           "#d8434e"
          ],
          [
           0.898989898989899,
           "#d43d4f"
          ],
          [
           0.9090909090909091,
           "#d0384e"
          ],
          [
           0.9191919191919192,
           "#c9314c"
          ],
          [
           0.9292929292929293,
           "#c52c4b"
          ],
          [
           0.9393939393939394,
           "#be254a"
          ],
          [
           0.9494949494949495,
           "#b81e48"
          ],
          [
           0.9595959595959596,
           "#b41947"
          ],
          [
           0.9696969696969697,
           "#ad1246"
          ],
          [
           0.9797979797979798,
           "#a90d45"
          ],
          [
           0.98989898989899,
           "#a20643"
          ],
          [
           1,
           "#9e0142"
          ]
         ]
        },
        "height": 600,
        "legend": {
         "tracegroupgap": 0
        },
        "shapes": [
         {
          "layer": "below",
          "line": {
           "color": "black",
           "width": 2
          },
          "type": "rect",
          "x0": 0,
          "x1": 1,
          "xref": "paper",
          "y0": 0,
          "y1": 1,
          "yref": "paper"
         }
        ],
        "template": {
         "data": {
          "bar": [
           {
            "error_x": {
             "color": "#2a3f5f"
            },
            "error_y": {
             "color": "#2a3f5f"
            },
            "marker": {
             "line": {
              "color": "white",
              "width": 0.5
             },
             "pattern": {
              "fillmode": "overlay",
              "size": 10,
              "solidity": 0.2
             }
            },
            "type": "bar"
           }
          ],
          "barpolar": [
           {
            "marker": {
             "line": {
              "color": "white",
              "width": 0.5
             },
             "pattern": {
              "fillmode": "overlay",
              "size": 10,
              "solidity": 0.2
             }
            },
            "type": "barpolar"
           }
          ],
          "carpet": [
           {
            "aaxis": {
             "endlinecolor": "#2a3f5f",
             "gridcolor": "#C8D4E3",
             "linecolor": "#C8D4E3",
             "minorgridcolor": "#C8D4E3",
             "startlinecolor": "#2a3f5f"
            },
            "baxis": {
             "endlinecolor": "#2a3f5f",
             "gridcolor": "#C8D4E3",
             "linecolor": "#C8D4E3",
             "minorgridcolor": "#C8D4E3",
             "startlinecolor": "#2a3f5f"
            },
            "type": "carpet"
           }
          ],
          "choropleth": [
           {
            "colorbar": {
             "outlinewidth": 0,
             "ticks": ""
            },
            "type": "choropleth"
           }
          ],
          "contour": [
           {
            "colorbar": {
             "outlinewidth": 0,
             "ticks": ""
            },
            "colorscale": [
             [
              0,
              "#0d0887"
             ],
             [
              0.1111111111111111,
              "#46039f"
             ],
             [
              0.2222222222222222,
              "#7201a8"
             ],
             [
              0.3333333333333333,
              "#9c179e"
             ],
             [
              0.4444444444444444,
              "#bd3786"
             ],
             [
              0.5555555555555556,
              "#d8576b"
             ],
             [
              0.6666666666666666,
              "#ed7953"
             ],
             [
              0.7777777777777778,
              "#fb9f3a"
             ],
             [
              0.8888888888888888,
              "#fdca26"
             ],
             [
              1,
              "#f0f921"
             ]
            ],
            "type": "contour"
           }
          ],
          "contourcarpet": [
           {
            "colorbar": {
             "outlinewidth": 0,
             "ticks": ""
            },
            "type": "contourcarpet"
           }
          ],
          "heatmap": [
           {
            "colorbar": {
             "outlinewidth": 0,
             "ticks": ""
            },
            "colorscale": [
             [
              0,
              "#0d0887"
             ],
             [
              0.1111111111111111,
              "#46039f"
             ],
             [
              0.2222222222222222,
              "#7201a8"
             ],
             [
              0.3333333333333333,
              "#9c179e"
             ],
             [
              0.4444444444444444,
              "#bd3786"
             ],
             [
              0.5555555555555556,
              "#d8576b"
             ],
             [
              0.6666666666666666,
              "#ed7953"
             ],
             [
              0.7777777777777778,
              "#fb9f3a"
             ],
             [
              0.8888888888888888,
              "#fdca26"
             ],
             [
              1,
              "#f0f921"
             ]
            ],
            "type": "heatmap"
           }
          ],
          "heatmapgl": [
           {
            "colorbar": {
             "outlinewidth": 0,
             "ticks": ""
            },
            "colorscale": [
             [
              0,
              "#0d0887"
             ],
             [
              0.1111111111111111,
              "#46039f"
             ],
             [
              0.2222222222222222,
              "#7201a8"
             ],
             [
              0.3333333333333333,
              "#9c179e"
             ],
             [
              0.4444444444444444,
              "#bd3786"
             ],
             [
              0.5555555555555556,
              "#d8576b"
             ],
             [
              0.6666666666666666,
              "#ed7953"
             ],
             [
              0.7777777777777778,
              "#fb9f3a"
             ],
             [
              0.8888888888888888,
              "#fdca26"
             ],
             [
              1,
              "#f0f921"
             ]
            ],
            "type": "heatmapgl"
           }
          ],
          "histogram": [
           {
            "marker": {
             "pattern": {
              "fillmode": "overlay",
              "size": 10,
              "solidity": 0.2
             }
            },
            "type": "histogram"
           }
          ],
          "histogram2d": [
           {
            "colorbar": {
             "outlinewidth": 0,
             "ticks": ""
            },
            "colorscale": [
             [
              0,
              "#0d0887"
             ],
             [
              0.1111111111111111,
              "#46039f"
             ],
             [
              0.2222222222222222,
              "#7201a8"
             ],
             [
              0.3333333333333333,
              "#9c179e"
             ],
             [
              0.4444444444444444,
              "#bd3786"
             ],
             [
              0.5555555555555556,
              "#d8576b"
             ],
             [
              0.6666666666666666,
              "#ed7953"
             ],
             [
              0.7777777777777778,
              "#fb9f3a"
             ],
             [
              0.8888888888888888,
              "#fdca26"
             ],
             [
              1,
              "#f0f921"
             ]
            ],
            "type": "histogram2d"
           }
          ],
          "histogram2dcontour": [
           {
            "colorbar": {
             "outlinewidth": 0,
             "ticks": ""
            },
            "colorscale": [
             [
              0,
              "#0d0887"
             ],
             [
              0.1111111111111111,
              "#46039f"
             ],
             [
              0.2222222222222222,
              "#7201a8"
             ],
             [
              0.3333333333333333,
              "#9c179e"
             ],
             [
              0.4444444444444444,
              "#bd3786"
             ],
             [
              0.5555555555555556,
              "#d8576b"
             ],
             [
              0.6666666666666666,
              "#ed7953"
             ],
             [
              0.7777777777777778,
              "#fb9f3a"
             ],
             [
              0.8888888888888888,
              "#fdca26"
             ],
             [
              1,
              "#f0f921"
             ]
            ],
            "type": "histogram2dcontour"
           }
          ],
          "mesh3d": [
           {
            "colorbar": {
             "outlinewidth": 0,
             "ticks": ""
            },
            "type": "mesh3d"
           }
          ],
          "parcoords": [
           {
            "line": {
             "colorbar": {
              "outlinewidth": 0,
              "ticks": ""
             }
            },
            "type": "parcoords"
           }
          ],
          "pie": [
           {
            "automargin": true,
            "type": "pie"
           }
          ],
          "scatter": [
           {
            "fillpattern": {
             "fillmode": "overlay",
             "size": 10,
             "solidity": 0.2
            },
            "type": "scatter"
           }
          ],
          "scatter3d": [
           {
            "line": {
             "colorbar": {
              "outlinewidth": 0,
              "ticks": ""
             }
            },
            "marker": {
             "colorbar": {
              "outlinewidth": 0,
              "ticks": ""
             }
            },
            "type": "scatter3d"
           }
          ],
          "scattercarpet": [
           {
            "marker": {
             "colorbar": {
              "outlinewidth": 0,
              "ticks": ""
             }
            },
            "type": "scattercarpet"
           }
          ],
          "scattergeo": [
           {
            "marker": {
             "colorbar": {
              "outlinewidth": 0,
              "ticks": ""
             }
            },
            "type": "scattergeo"
           }
          ],
          "scattergl": [
           {
            "marker": {
             "colorbar": {
              "outlinewidth": 0,
              "ticks": ""
             }
            },
            "type": "scattergl"
           }
          ],
          "scattermapbox": [
           {
            "marker": {
             "colorbar": {
              "outlinewidth": 0,
              "ticks": ""
             }
            },
            "type": "scattermapbox"
           }
          ],
          "scatterpolar": [
           {
            "marker": {
             "colorbar": {
              "outlinewidth": 0,
              "ticks": ""
             }
            },
            "type": "scatterpolar"
           }
          ],
          "scatterpolargl": [
           {
            "marker": {
             "colorbar": {
              "outlinewidth": 0,
              "ticks": ""
             }
            },
            "type": "scatterpolargl"
           }
          ],
          "scatterternary": [
           {
            "marker": {
             "colorbar": {
              "outlinewidth": 0,
              "ticks": ""
             }
            },
            "type": "scatterternary"
           }
          ],
          "surface": [
           {
            "colorbar": {
             "outlinewidth": 0,
             "ticks": ""
            },
            "colorscale": [
             [
              0,
              "#0d0887"
             ],
             [
              0.1111111111111111,
              "#46039f"
             ],
             [
              0.2222222222222222,
              "#7201a8"
             ],
             [
              0.3333333333333333,
              "#9c179e"
             ],
             [
              0.4444444444444444,
              "#bd3786"
             ],
             [
              0.5555555555555556,
              "#d8576b"
             ],
             [
              0.6666666666666666,
              "#ed7953"
             ],
             [
              0.7777777777777778,
              "#fb9f3a"
             ],
             [
              0.8888888888888888,
              "#fdca26"
             ],
             [
              1,
              "#f0f921"
             ]
            ],
            "type": "surface"
           }
          ],
          "table": [
           {
            "cells": {
             "fill": {
              "color": "#EBF0F8"
             },
             "line": {
              "color": "white"
             }
            },
            "header": {
             "fill": {
              "color": "#C8D4E3"
             },
             "line": {
              "color": "white"
             }
            },
            "type": "table"
           }
          ]
         },
         "layout": {
          "annotationdefaults": {
           "arrowcolor": "#2a3f5f",
           "arrowhead": 0,
           "arrowwidth": 1
          },
          "autotypenumbers": "strict",
          "coloraxis": {
           "colorbar": {
            "outlinewidth": 0,
            "ticks": ""
           }
          },
          "colorscale": {
           "diverging": [
            [
             0,
             "#8e0152"
            ],
            [
             0.1,
             "#c51b7d"
            ],
            [
             0.2,
             "#de77ae"
            ],
            [
             0.3,
             "#f1b6da"
            ],
            [
             0.4,
             "#fde0ef"
            ],
            [
             0.5,
             "#f7f7f7"
            ],
            [
             0.6,
             "#e6f5d0"
            ],
            [
             0.7,
             "#b8e186"
            ],
            [
             0.8,
             "#7fbc41"
            ],
            [
             0.9,
             "#4d9221"
            ],
            [
             1,
             "#276419"
            ]
           ],
           "sequential": [
            [
             0,
             "#0d0887"
            ],
            [
             0.1111111111111111,
             "#46039f"
            ],
            [
             0.2222222222222222,
             "#7201a8"
            ],
            [
             0.3333333333333333,
             "#9c179e"
            ],
            [
             0.4444444444444444,
             "#bd3786"
            ],
            [
             0.5555555555555556,
             "#d8576b"
            ],
            [
             0.6666666666666666,
             "#ed7953"
            ],
            [
             0.7777777777777778,
             "#fb9f3a"
            ],
            [
             0.8888888888888888,
             "#fdca26"
            ],
            [
             1,
             "#f0f921"
            ]
           ],
           "sequentialminus": [
            [
             0,
             "#0d0887"
            ],
            [
             0.1111111111111111,
             "#46039f"
            ],
            [
             0.2222222222222222,
             "#7201a8"
            ],
            [
             0.3333333333333333,
             "#9c179e"
            ],
            [
             0.4444444444444444,
             "#bd3786"
            ],
            [
             0.5555555555555556,
             "#d8576b"
            ],
            [
             0.6666666666666666,
             "#ed7953"
            ],
            [
             0.7777777777777778,
             "#fb9f3a"
            ],
            [
             0.8888888888888888,
             "#fdca26"
            ],
            [
             1,
             "#f0f921"
            ]
           ]
          },
          "colorway": [
           "#636efa",
           "#EF553B",
           "#00cc96",
           "#ab63fa",
           "#FFA15A",
           "#19d3f3",
           "#FF6692",
           "#B6E880",
           "#FF97FF",
           "#FECB52"
          ],
          "font": {
           "color": "#2a3f5f"
          },
          "geo": {
           "bgcolor": "white",
           "lakecolor": "white",
           "landcolor": "white",
           "showlakes": true,
           "showland": true,
           "subunitcolor": "#C8D4E3"
          },
          "hoverlabel": {
           "align": "left"
          },
          "hovermode": "closest",
          "mapbox": {
           "style": "light"
          },
          "paper_bgcolor": "white",
          "plot_bgcolor": "white",
          "polar": {
           "angularaxis": {
            "gridcolor": "#EBF0F8",
            "linecolor": "#EBF0F8",
            "ticks": ""
           },
           "bgcolor": "white",
           "radialaxis": {
            "gridcolor": "#EBF0F8",
            "linecolor": "#EBF0F8",
            "ticks": ""
           }
          },
          "scene": {
           "xaxis": {
            "backgroundcolor": "white",
            "gridcolor": "#DFE8F3",
            "gridwidth": 2,
            "linecolor": "#EBF0F8",
            "showbackground": true,
            "ticks": "",
            "zerolinecolor": "#EBF0F8"
           },
           "yaxis": {
            "backgroundcolor": "white",
            "gridcolor": "#DFE8F3",
            "gridwidth": 2,
            "linecolor": "#EBF0F8",
            "showbackground": true,
            "ticks": "",
            "zerolinecolor": "#EBF0F8"
           },
           "zaxis": {
            "backgroundcolor": "white",
            "gridcolor": "#DFE8F3",
            "gridwidth": 2,
            "linecolor": "#EBF0F8",
            "showbackground": true,
            "ticks": "",
            "zerolinecolor": "#EBF0F8"
           }
          },
          "shapedefaults": {
           "line": {
            "color": "#2a3f5f"
           }
          },
          "ternary": {
           "aaxis": {
            "gridcolor": "#DFE8F3",
            "linecolor": "#A2B1C6",
            "ticks": ""
           },
           "baxis": {
            "gridcolor": "#DFE8F3",
            "linecolor": "#A2B1C6",
            "ticks": ""
           },
           "bgcolor": "white",
           "caxis": {
            "gridcolor": "#DFE8F3",
            "linecolor": "#A2B1C6",
            "ticks": ""
           }
          },
          "title": {
           "x": 0.05
          },
          "xaxis": {
           "automargin": true,
           "gridcolor": "#EBF0F8",
           "linecolor": "#EBF0F8",
           "ticks": "",
           "title": {
            "standoff": 15
           },
           "zerolinecolor": "#EBF0F8",
           "zerolinewidth": 2
          },
          "yaxis": {
           "automargin": true,
           "gridcolor": "#EBF0F8",
           "linecolor": "#EBF0F8",
           "ticks": "",
           "title": {
            "standoff": 15
           },
           "zerolinecolor": "#EBF0F8",
           "zerolinewidth": 2
          }
         }
        },
        "title": {
         "text": "target_abbas_deff_norm vs target_d_eff colored by avg_fidelity"
        },
        "width": 1000,
        "xaxis": {
         "anchor": "y",
         "domain": [
          0,
          1
         ],
         "title": {
          "text": "target_abbas_deff_norm"
         }
        },
        "yaxis": {
         "anchor": "x",
         "domain": [
          0,
          1
         ],
         "title": {
          "text": "target_d_eff"
         }
        }
       }
      }
     },
     "metadata": {},
     "output_type": "display_data"
    }
   ],
   "source": [
    "import plotly.express as px\n",
    "from matplotlib.colors import LinearSegmentedColormap\n",
    "# Example of building a custom colormap\n",
    "n_colors = 100\n",
    "\n",
    "def plot_two_metrics_with_color(\n",
    "    df,\n",
    "    x_qfim_type,\n",
    "    x_metric,\n",
    "    y_qfim_type,\n",
    "    y_metric,\n",
    "    color_metric,\n",
    "    title=None,\n",
    "    add_trendline=True,\n",
    "    n_colors=100,\n",
    "    width=1000,\n",
    "    height=600\n",
    "):\n",
    "    \"\"\"\n",
    "    Create a scatter plot comparing two metrics (x and y axes), potentially from \n",
    "    different QFIM types, with points colored by a third metric.\n",
    "    \n",
    "    If x_qfim_type or y_qfim_type is None, we assume that x_metric or y_metric\n",
    "    is already a column in df (e.g. \"error\", \"avg_fidelity\").\n",
    "\n",
    "    Parameters\n",
    "    ----------\n",
    "    df : pd.DataFrame\n",
    "        DataFrame with one row per test_key (or per gate) containing QFIM metrics.\n",
    "    x_qfim_type : str or None\n",
    "        QFIM type for the x-axis metric (e.g. \"GHZ\", \"basis\", \"dqfim\", \"target\") \n",
    "        or None if x_metric is already a column in df with no prefix.\n",
    "    x_metric : str\n",
    "        The metric name for the x-axis (no prefix if x_qfim_type is None).\n",
    "    y_qfim_type : str or None\n",
    "        QFIM type for the y-axis metric, or None if y_metric is already a column in df.\n",
    "    y_metric : str\n",
    "        The metric name for the y-axis (no prefix if y_qfim_type is None).\n",
    "    color_metric : str\n",
    "        The column name (or QFIM metric name) used for coloring the points.\n",
    "        (If you want to color by a QFIM metric with a prefix, pass the full col name.)\n",
    "    title : str, optional\n",
    "        Custom title for the plot. If None, a default is generated.\n",
    "    add_trendline : bool, optional\n",
    "        If True, add an Ordinary Least Squares (OLS) trendline across all points.\n",
    "    n_colors : int, optional\n",
    "        Number of steps in the custom colormap.\n",
    "    width, height : int\n",
    "        Plot width and height in pixels.\n",
    "\n",
    "    Returns\n",
    "    -------\n",
    "    fig : plotly.graph_objects.Figure\n",
    "        Scatter plot with custom color scale, bounding box, black marker borders, \n",
    "        and optional OLS trend line.\n",
    "    \"\"\"\n",
    "    # 1) Construct the full column names for x and y\n",
    "    if x_qfim_type is not None:\n",
    "        x_col = f\"{x_qfim_type}_{x_metric}\"\n",
    "    else:\n",
    "        x_col = x_metric  # no prefix\n",
    "\n",
    "    if y_qfim_type is not None:\n",
    "        y_col = f\"{y_qfim_type}_{y_metric}\"\n",
    "    else:\n",
    "        y_col = y_metric  # no prefix\n",
    "\n",
    "    color_col = color_metric  # e.g., \"avg_fidelity\", or \"target_abbas_deff_norm\", etc.\n",
    "\n",
    "    # Check that the columns exist\n",
    "    for col in [x_col, y_col, color_col]:\n",
    "        if col not in df.columns:\n",
    "            raise ValueError(f\"Column '{col}' not found in the DataFrame.\")\n",
    "\n",
    "    # 2) Build a custom color scale based on the data range of color_col\n",
    "    data_min = df[color_col].min()\n",
    "    adj_min = data_min + 0.1 * abs(data_min)\n",
    "    print(f\"data_min: {data_min}\")\n",
    "    data_max = df[color_col].max()\n",
    "    if np.isclose(data_min, data_max):\n",
    "        data_max = data_min + 1e-12\n",
    "\n",
    "    values = np.linspace(data_min, data_max, n_colors) ** 2\n",
    "    base_colormap = sns.color_palette(\"Spectral\", as_cmap=True).reversed()\n",
    "    colors_rgba = base_colormap((values - values.min()) / (values.max() - values.min()))\n",
    "    custom_cmap = LinearSegmentedColormap.from_list('vibrant', colors_rgba, N=n_colors)\n",
    "    plotly_color_scale = [mcolors.to_hex(custom_cmap(i)) for i in np.linspace(0, 1, n_colors)]\n",
    "    print(values)\n",
    "    # 3) Trend line options\n",
    "    trendline_option = \"ols\" if add_trendline else None\n",
    "    # 4. Create the scatter plot\n",
    "    #    trendline_scope=\"overall\" forces a single line across the entire dataset.\n",
    "    fig = px.scatter(\n",
    "        df,\n",
    "        x=x_col,\n",
    "        y=y_col,\n",
    "        color=color_col,\n",
    "        color_continuous_scale=plotly_color_scale,\n",
    "        range_color=[adj_min, data_max],\n",
    "        title=title if title else f\"{x_col} vs {y_col} colored by {color_col}\",\n",
    "        hover_data=[\"test_key\"],\n",
    "        template=\"plotly_white\",\n",
    "        trendline=trendline_option,\n",
    "        trendline_scope=\"overall\",\n",
    "        trendline_color_override=\"red\",\n",
    "        width=width,\n",
    "        height=height\n",
    "    )\n",
    "\n",
    "\n",
    "    # 5. Marker styling: bigger, black border\n",
    "    fig.update_traces(\n",
    "        marker=dict(\n",
    "            size=12,\n",
    "            line=dict(width=0.75, color=\"black\"),\n",
    "            symbol=\"circle\"\n",
    "        )\n",
    "    )\n",
    "\n",
    "    # 6. Adjust color bar: make it the full height of the plot\n",
    "    fig.update_layout(\n",
    "        coloraxis_colorbar=dict(\n",
    "            title=color_col,\n",
    "            len=1.1,            # 100% of plot height\n",
    "            thickness=35,       # adjust width of the color bar\n",
    "            yanchor=\"middle\",   # center it vertically\n",
    "            x=1.0,             # shift slightly to the right\n",
    "            y=0.53\n",
    "        ),\n",
    "        shapes=[\n",
    "            dict(\n",
    "                type=\"rect\",\n",
    "                xref=\"paper\", yref=\"paper\",\n",
    "                x0=0, y0=0, x1=1, y1=1,\n",
    "                line=dict(color=\"black\", width=2),\n",
    "                layer=\"below\"\n",
    "            )\n",
    "        ]\n",
    "    )\n",
    "    # fig.update_layout(\n",
    "    #     coloraxis_colorbar=dict(\n",
    "    #         title=color_col,\n",
    "    #         len=1.1,\n",
    "    #         thickness=35,\n",
    "    #         y=0.53,            # center vertically\n",
    "    #         # yanchor=\"middle\",\n",
    "    #         x=1.0           # shift to the right\n",
    "    #     ),\n",
    "    #     shapes=[\n",
    "    #         dict(\n",
    "    #             type=\"rect\",\n",
    "    #             xref=\"paper\", yref=\"paper\",\n",
    "    #             x0=0, y0=0, x1=1, y1=1,\n",
    "    #             line=dict(color=\"black\", width=2),\n",
    "    #             layer=\"below\"\n",
    "    #         )\n",
    "    #     ]\n",
    "    # )\n",
    "\n",
    "    return fig\n",
    "\n",
    "\n",
    "\n",
    "fig = plot_two_metrics_with_color(\n",
    "    df_agg_by_test_key,\n",
    "    x_qfim_type=\"target\",\n",
    "   \n",
    "    x_metric=\"abbas_deff_norm\",\n",
    "    y_qfim_type=\"target\",\n",
    "    y_metric=\"d_eff\",\n",
    "    color_metric=\"avg_fidelity\",\n",
    "    add_trendline=False\n",
    ")\n",
    "fig.show() \n",
    "\n",
    "\n",
    "\n",
    "# 'basis_spread_metric_mad','basis_trace_normalized_by_rank','basis_var_all_normalized_by_rank'"
   ]
  },
  {
   "cell_type": "code",
   "execution_count": null,
   "metadata": {},
   "outputs": [],
   "source": []
  },
  {
   "cell_type": "code",
   "execution_count": 84,
   "metadata": {},
   "outputs": [
    {
     "data": {
      "application/vnd.plotly.v1+json": {
       "config": {
        "plotlyServerURL": "https://plot.ly"
       },
       "data": [
        {
         "customdata": [
          [
           "test104"
          ],
          [
           "test122"
          ],
          [
           "test129"
          ],
          [
           "test175"
          ],
          [
           "test18"
          ],
          [
           "test197"
          ],
          [
           "test7"
          ],
          [
           "test79"
          ]
         ],
         "hovertemplate": "basis_trace_normalized_by_rank=%{x}<br>basis_var_all_normalized_by_rank=%{y}<br>test_key=%{customdata[0]}<br>avg_fidelity=%{marker.color}<extra></extra>",
         "legendgroup": "",
         "marker": {
          "color": [
           0.9955062766514824,
           0.9961347399604067,
           0.9974536047424629,
           0.9967741853933255,
           0.9982407749116418,
           0.9968915377754715,
           0.9973851797397214,
           0.9974409342893219
          ],
          "coloraxis": "coloraxis",
          "line": {
           "color": "black",
           "width": 1
          },
          "size": 12,
          "symbol": "circle"
         },
         "mode": "markers",
         "name": "",
         "orientation": "v",
         "showlegend": false,
         "type": "scatter",
         "x": [
          3.9910082106451226,
          4.330457299193465,
          1.3054653403900678,
          2.5117853834851,
          0.761216645421185,
          1.0200089354720807,
          2.177982988456195,
          3.400728984439047
         ],
         "xaxis": "x",
         "y": [
          5.05913909755286,
          5.475514479286705,
          0.1984110009438366,
          1.311702448931419,
          0.0719243566763846,
          0.44850532780665125,
          0.8824132410471691,
          2.0429122691677297
         ],
         "yaxis": "y"
        }
       ],
       "layout": {
        "coloraxis": {
         "colorbar": {
          "title": {
           "text": "avg_fidelity"
          }
         },
         "colorscale": [
          [
           0,
           "rgb(94,79,162)"
          ],
          [
           0.1,
           "rgb(50,136,189)"
          ],
          [
           0.2,
           "rgb(102,194,165)"
          ],
          [
           0.3,
           "rgb(171,221,164)"
          ],
          [
           0.4,
           "rgb(230,245,152)"
          ],
          [
           0.5,
           "rgb(255,255,191)"
          ],
          [
           0.6,
           "rgb(254,224,139)"
          ],
          [
           0.7,
           "rgb(253,174,97)"
          ],
          [
           0.8,
           "rgb(244,109,67)"
          ],
          [
           0.9,
           "rgb(213,62,79)"
          ],
          [
           1,
           "rgb(158,1,66)"
          ]
         ]
        },
        "height": 600,
        "legend": {
         "tracegroupgap": 0
        },
        "shapes": [
         {
          "layer": "below",
          "line": {
           "color": "black",
           "width": 2
          },
          "type": "rect",
          "x0": 0,
          "x1": 1,
          "xref": "paper",
          "y0": 0,
          "y1": 1,
          "yref": "paper"
         }
        ],
        "template": {
         "data": {
          "bar": [
           {
            "error_x": {
             "color": "#2a3f5f"
            },
            "error_y": {
             "color": "#2a3f5f"
            },
            "marker": {
             "line": {
              "color": "white",
              "width": 0.5
             },
             "pattern": {
              "fillmode": "overlay",
              "size": 10,
              "solidity": 0.2
             }
            },
            "type": "bar"
           }
          ],
          "barpolar": [
           {
            "marker": {
             "line": {
              "color": "white",
              "width": 0.5
             },
             "pattern": {
              "fillmode": "overlay",
              "size": 10,
              "solidity": 0.2
             }
            },
            "type": "barpolar"
           }
          ],
          "carpet": [
           {
            "aaxis": {
             "endlinecolor": "#2a3f5f",
             "gridcolor": "#C8D4E3",
             "linecolor": "#C8D4E3",
             "minorgridcolor": "#C8D4E3",
             "startlinecolor": "#2a3f5f"
            },
            "baxis": {
             "endlinecolor": "#2a3f5f",
             "gridcolor": "#C8D4E3",
             "linecolor": "#C8D4E3",
             "minorgridcolor": "#C8D4E3",
             "startlinecolor": "#2a3f5f"
            },
            "type": "carpet"
           }
          ],
          "choropleth": [
           {
            "colorbar": {
             "outlinewidth": 0,
             "ticks": ""
            },
            "type": "choropleth"
           }
          ],
          "contour": [
           {
            "colorbar": {
             "outlinewidth": 0,
             "ticks": ""
            },
            "colorscale": [
             [
              0,
              "#0d0887"
             ],
             [
              0.1111111111111111,
              "#46039f"
             ],
             [
              0.2222222222222222,
              "#7201a8"
             ],
             [
              0.3333333333333333,
              "#9c179e"
             ],
             [
              0.4444444444444444,
              "#bd3786"
             ],
             [
              0.5555555555555556,
              "#d8576b"
             ],
             [
              0.6666666666666666,
              "#ed7953"
             ],
             [
              0.7777777777777778,
              "#fb9f3a"
             ],
             [
              0.8888888888888888,
              "#fdca26"
             ],
             [
              1,
              "#f0f921"
             ]
            ],
            "type": "contour"
           }
          ],
          "contourcarpet": [
           {
            "colorbar": {
             "outlinewidth": 0,
             "ticks": ""
            },
            "type": "contourcarpet"
           }
          ],
          "heatmap": [
           {
            "colorbar": {
             "outlinewidth": 0,
             "ticks": ""
            },
            "colorscale": [
             [
              0,
              "#0d0887"
             ],
             [
              0.1111111111111111,
              "#46039f"
             ],
             [
              0.2222222222222222,
              "#7201a8"
             ],
             [
              0.3333333333333333,
              "#9c179e"
             ],
             [
              0.4444444444444444,
              "#bd3786"
             ],
             [
              0.5555555555555556,
              "#d8576b"
             ],
             [
              0.6666666666666666,
              "#ed7953"
             ],
             [
              0.7777777777777778,
              "#fb9f3a"
             ],
             [
              0.8888888888888888,
              "#fdca26"
             ],
             [
              1,
              "#f0f921"
             ]
            ],
            "type": "heatmap"
           }
          ],
          "heatmapgl": [
           {
            "colorbar": {
             "outlinewidth": 0,
             "ticks": ""
            },
            "colorscale": [
             [
              0,
              "#0d0887"
             ],
             [
              0.1111111111111111,
              "#46039f"
             ],
             [
              0.2222222222222222,
              "#7201a8"
             ],
             [
              0.3333333333333333,
              "#9c179e"
             ],
             [
              0.4444444444444444,
              "#bd3786"
             ],
             [
              0.5555555555555556,
              "#d8576b"
             ],
             [
              0.6666666666666666,
              "#ed7953"
             ],
             [
              0.7777777777777778,
              "#fb9f3a"
             ],
             [
              0.8888888888888888,
              "#fdca26"
             ],
             [
              1,
              "#f0f921"
             ]
            ],
            "type": "heatmapgl"
           }
          ],
          "histogram": [
           {
            "marker": {
             "pattern": {
              "fillmode": "overlay",
              "size": 10,
              "solidity": 0.2
             }
            },
            "type": "histogram"
           }
          ],
          "histogram2d": [
           {
            "colorbar": {
             "outlinewidth": 0,
             "ticks": ""
            },
            "colorscale": [
             [
              0,
              "#0d0887"
             ],
             [
              0.1111111111111111,
              "#46039f"
             ],
             [
              0.2222222222222222,
              "#7201a8"
             ],
             [
              0.3333333333333333,
              "#9c179e"
             ],
             [
              0.4444444444444444,
              "#bd3786"
             ],
             [
              0.5555555555555556,
              "#d8576b"
             ],
             [
              0.6666666666666666,
              "#ed7953"
             ],
             [
              0.7777777777777778,
              "#fb9f3a"
             ],
             [
              0.8888888888888888,
              "#fdca26"
             ],
             [
              1,
              "#f0f921"
             ]
            ],
            "type": "histogram2d"
           }
          ],
          "histogram2dcontour": [
           {
            "colorbar": {
             "outlinewidth": 0,
             "ticks": ""
            },
            "colorscale": [
             [
              0,
              "#0d0887"
             ],
             [
              0.1111111111111111,
              "#46039f"
             ],
             [
              0.2222222222222222,
              "#7201a8"
             ],
             [
              0.3333333333333333,
              "#9c179e"
             ],
             [
              0.4444444444444444,
              "#bd3786"
             ],
             [
              0.5555555555555556,
              "#d8576b"
             ],
             [
              0.6666666666666666,
              "#ed7953"
             ],
             [
              0.7777777777777778,
              "#fb9f3a"
             ],
             [
              0.8888888888888888,
              "#fdca26"
             ],
             [
              1,
              "#f0f921"
             ]
            ],
            "type": "histogram2dcontour"
           }
          ],
          "mesh3d": [
           {
            "colorbar": {
             "outlinewidth": 0,
             "ticks": ""
            },
            "type": "mesh3d"
           }
          ],
          "parcoords": [
           {
            "line": {
             "colorbar": {
              "outlinewidth": 0,
              "ticks": ""
             }
            },
            "type": "parcoords"
           }
          ],
          "pie": [
           {
            "automargin": true,
            "type": "pie"
           }
          ],
          "scatter": [
           {
            "fillpattern": {
             "fillmode": "overlay",
             "size": 10,
             "solidity": 0.2
            },
            "type": "scatter"
           }
          ],
          "scatter3d": [
           {
            "line": {
             "colorbar": {
              "outlinewidth": 0,
              "ticks": ""
             }
            },
            "marker": {
             "colorbar": {
              "outlinewidth": 0,
              "ticks": ""
             }
            },
            "type": "scatter3d"
           }
          ],
          "scattercarpet": [
           {
            "marker": {
             "colorbar": {
              "outlinewidth": 0,
              "ticks": ""
             }
            },
            "type": "scattercarpet"
           }
          ],
          "scattergeo": [
           {
            "marker": {
             "colorbar": {
              "outlinewidth": 0,
              "ticks": ""
             }
            },
            "type": "scattergeo"
           }
          ],
          "scattergl": [
           {
            "marker": {
             "colorbar": {
              "outlinewidth": 0,
              "ticks": ""
             }
            },
            "type": "scattergl"
           }
          ],
          "scattermapbox": [
           {
            "marker": {
             "colorbar": {
              "outlinewidth": 0,
              "ticks": ""
             }
            },
            "type": "scattermapbox"
           }
          ],
          "scatterpolar": [
           {
            "marker": {
             "colorbar": {
              "outlinewidth": 0,
              "ticks": ""
             }
            },
            "type": "scatterpolar"
           }
          ],
          "scatterpolargl": [
           {
            "marker": {
             "colorbar": {
              "outlinewidth": 0,
              "ticks": ""
             }
            },
            "type": "scatterpolargl"
           }
          ],
          "scatterternary": [
           {
            "marker": {
             "colorbar": {
              "outlinewidth": 0,
              "ticks": ""
             }
            },
            "type": "scatterternary"
           }
          ],
          "surface": [
           {
            "colorbar": {
             "outlinewidth": 0,
             "ticks": ""
            },
            "colorscale": [
             [
              0,
              "#0d0887"
             ],
             [
              0.1111111111111111,
              "#46039f"
             ],
             [
              0.2222222222222222,
              "#7201a8"
             ],
             [
              0.3333333333333333,
              "#9c179e"
             ],
             [
              0.4444444444444444,
              "#bd3786"
             ],
             [
              0.5555555555555556,
              "#d8576b"
             ],
             [
              0.6666666666666666,
              "#ed7953"
             ],
             [
              0.7777777777777778,
              "#fb9f3a"
             ],
             [
              0.8888888888888888,
              "#fdca26"
             ],
             [
              1,
              "#f0f921"
             ]
            ],
            "type": "surface"
           }
          ],
          "table": [
           {
            "cells": {
             "fill": {
              "color": "#EBF0F8"
             },
             "line": {
              "color": "white"
             }
            },
            "header": {
             "fill": {
              "color": "#C8D4E3"
             },
             "line": {
              "color": "white"
             }
            },
            "type": "table"
           }
          ]
         },
         "layout": {
          "annotationdefaults": {
           "arrowcolor": "#2a3f5f",
           "arrowhead": 0,
           "arrowwidth": 1
          },
          "autotypenumbers": "strict",
          "coloraxis": {
           "colorbar": {
            "outlinewidth": 0,
            "ticks": ""
           }
          },
          "colorscale": {
           "diverging": [
            [
             0,
             "#8e0152"
            ],
            [
             0.1,
             "#c51b7d"
            ],
            [
             0.2,
             "#de77ae"
            ],
            [
             0.3,
             "#f1b6da"
            ],
            [
             0.4,
             "#fde0ef"
            ],
            [
             0.5,
             "#f7f7f7"
            ],
            [
             0.6,
             "#e6f5d0"
            ],
            [
             0.7,
             "#b8e186"
            ],
            [
             0.8,
             "#7fbc41"
            ],
            [
             0.9,
             "#4d9221"
            ],
            [
             1,
             "#276419"
            ]
           ],
           "sequential": [
            [
             0,
             "#0d0887"
            ],
            [
             0.1111111111111111,
             "#46039f"
            ],
            [
             0.2222222222222222,
             "#7201a8"
            ],
            [
             0.3333333333333333,
             "#9c179e"
            ],
            [
             0.4444444444444444,
             "#bd3786"
            ],
            [
             0.5555555555555556,
             "#d8576b"
            ],
            [
             0.6666666666666666,
             "#ed7953"
            ],
            [
             0.7777777777777778,
             "#fb9f3a"
            ],
            [
             0.8888888888888888,
             "#fdca26"
            ],
            [
             1,
             "#f0f921"
            ]
           ],
           "sequentialminus": [
            [
             0,
             "#0d0887"
            ],
            [
             0.1111111111111111,
             "#46039f"
            ],
            [
             0.2222222222222222,
             "#7201a8"
            ],
            [
             0.3333333333333333,
             "#9c179e"
            ],
            [
             0.4444444444444444,
             "#bd3786"
            ],
            [
             0.5555555555555556,
             "#d8576b"
            ],
            [
             0.6666666666666666,
             "#ed7953"
            ],
            [
             0.7777777777777778,
             "#fb9f3a"
            ],
            [
             0.8888888888888888,
             "#fdca26"
            ],
            [
             1,
             "#f0f921"
            ]
           ]
          },
          "colorway": [
           "#636efa",
           "#EF553B",
           "#00cc96",
           "#ab63fa",
           "#FFA15A",
           "#19d3f3",
           "#FF6692",
           "#B6E880",
           "#FF97FF",
           "#FECB52"
          ],
          "font": {
           "color": "#2a3f5f"
          },
          "geo": {
           "bgcolor": "white",
           "lakecolor": "white",
           "landcolor": "white",
           "showlakes": true,
           "showland": true,
           "subunitcolor": "#C8D4E3"
          },
          "hoverlabel": {
           "align": "left"
          },
          "hovermode": "closest",
          "mapbox": {
           "style": "light"
          },
          "paper_bgcolor": "white",
          "plot_bgcolor": "white",
          "polar": {
           "angularaxis": {
            "gridcolor": "#EBF0F8",
            "linecolor": "#EBF0F8",
            "ticks": ""
           },
           "bgcolor": "white",
           "radialaxis": {
            "gridcolor": "#EBF0F8",
            "linecolor": "#EBF0F8",
            "ticks": ""
           }
          },
          "scene": {
           "xaxis": {
            "backgroundcolor": "white",
            "gridcolor": "#DFE8F3",
            "gridwidth": 2,
            "linecolor": "#EBF0F8",
            "showbackground": true,
            "ticks": "",
            "zerolinecolor": "#EBF0F8"
           },
           "yaxis": {
            "backgroundcolor": "white",
            "gridcolor": "#DFE8F3",
            "gridwidth": 2,
            "linecolor": "#EBF0F8",
            "showbackground": true,
            "ticks": "",
            "zerolinecolor": "#EBF0F8"
           },
           "zaxis": {
            "backgroundcolor": "white",
            "gridcolor": "#DFE8F3",
            "gridwidth": 2,
            "linecolor": "#EBF0F8",
            "showbackground": true,
            "ticks": "",
            "zerolinecolor": "#EBF0F8"
           }
          },
          "shapedefaults": {
           "line": {
            "color": "#2a3f5f"
           }
          },
          "ternary": {
           "aaxis": {
            "gridcolor": "#DFE8F3",
            "linecolor": "#A2B1C6",
            "ticks": ""
           },
           "baxis": {
            "gridcolor": "#DFE8F3",
            "linecolor": "#A2B1C6",
            "ticks": ""
           },
           "bgcolor": "white",
           "caxis": {
            "gridcolor": "#DFE8F3",
            "linecolor": "#A2B1C6",
            "ticks": ""
           }
          },
          "title": {
           "x": 0.05
          },
          "xaxis": {
           "automargin": true,
           "gridcolor": "#EBF0F8",
           "linecolor": "#EBF0F8",
           "ticks": "",
           "title": {
            "standoff": 15
           },
           "zerolinecolor": "#EBF0F8",
           "zerolinewidth": 2
          },
          "yaxis": {
           "automargin": true,
           "gridcolor": "#EBF0F8",
           "linecolor": "#EBF0F8",
           "ticks": "",
           "title": {
            "standoff": 15
           },
           "zerolinecolor": "#EBF0F8",
           "zerolinewidth": 2
          }
         }
        },
        "title": {
         "text": "basis: trace_normalized_by_rank vs var_all_normalized_by_rank colored by avg_fidelity"
        },
        "width": 1000,
        "xaxis": {
         "anchor": "y",
         "domain": [
          0,
          1
         ],
         "title": {
          "text": "basis_trace_normalized_by_rank"
         }
        },
        "yaxis": {
         "anchor": "x",
         "domain": [
          0,
          1
         ],
         "title": {
          "text": "basis_var_all_normalized_by_rank"
         }
        }
       }
      }
     },
     "metadata": {},
     "output_type": "display_data"
    }
   ],
   "source": [
    "\n",
    "fig = plot_two_metrics_with_color(\n",
    "    df_agg_by_test_key,\n",
    "    qfim_type=\"basis\",\n",
    "    x_metric=\"trace_normalized_by_rank\",\n",
    "    y_metric=\"var_all_normalized_by_rank\",\n",
    "    color_metric=\"avg_fidelity\",\n",
    "    add_trendline=False\n",
    ")\n",
    "fig.show() "
   ]
  },
  {
   "cell_type": "code",
   "execution_count": null,
   "metadata": {},
   "outputs": [],
   "source": [
    "\n",
    "fig = plot_two_metrics_with_color(\n",
    "    df_agg_by_test_key,\n",
    "    qfim_type=\"basis\",\n",
    "    x_metric=\"trace_normalized_by_rank\",\n",
    "    y_metric=\"var_all_normalized_by_rank\",\n",
    "    color_metric=\"avg_fidelity\",\n",
    "    add_trendline=False\n",
    ")\n",
    "fig.show() "
   ]
  },
  {
   "cell_type": "code",
   "execution_count": 11,
   "metadata": {},
   "outputs": [
    {
     "ename": "TypeError",
     "evalue": "agg function failed [how->mean,dtype->object]",
     "output_type": "error",
     "traceback": [
      "\u001b[0;31m---------------------------------------------------------------------------\u001b[0m",
      "\u001b[0;31mTypeError\u001b[0m                                 Traceback (most recent call last)",
      "File \u001b[0;32m~/miniforge3/envs/torch_env/lib/python3.11/site-packages/pandas/core/nanops.py:1703\u001b[0m, in \u001b[0;36m_ensure_numeric\u001b[0;34m(x)\u001b[0m\n\u001b[1;32m   1702\u001b[0m \u001b[38;5;28;01mtry\u001b[39;00m:\n\u001b[0;32m-> 1703\u001b[0m     x \u001b[38;5;241m=\u001b[39m \u001b[38;5;28mfloat\u001b[39m(x)\n\u001b[1;32m   1704\u001b[0m \u001b[38;5;28;01mexcept\u001b[39;00m (\u001b[38;5;167;01mTypeError\u001b[39;00m, \u001b[38;5;167;01mValueError\u001b[39;00m):\n\u001b[1;32m   1705\u001b[0m     \u001b[38;5;66;03m# e.g. \"1+1j\" or \"foo\"\u001b[39;00m\n",
      "File \u001b[0;32m~/miniforge3/envs/torch_env/lib/python3.11/site-packages/jax/_src/array.py:297\u001b[0m, in \u001b[0;36mArrayImpl.__float__\u001b[0;34m(self)\u001b[0m\n\u001b[1;32m    296\u001b[0m \u001b[38;5;28;01mdef\u001b[39;00m \u001b[38;5;21m__float__\u001b[39m(\u001b[38;5;28mself\u001b[39m):\n\u001b[0;32m--> 297\u001b[0m   \u001b[43mcore\u001b[49m\u001b[38;5;241;43m.\u001b[39;49m\u001b[43mcheck_scalar_conversion\u001b[49m\u001b[43m(\u001b[49m\u001b[38;5;28;43mself\u001b[39;49m\u001b[43m)\u001b[49m\n\u001b[1;32m    298\u001b[0m   \u001b[38;5;28;01mreturn\u001b[39;00m \u001b[38;5;28mself\u001b[39m\u001b[38;5;241m.\u001b[39m_value\u001b[38;5;241m.\u001b[39m\u001b[38;5;21m__float__\u001b[39m()\n",
      "File \u001b[0;32m~/miniforge3/envs/torch_env/lib/python3.11/site-packages/jax/_src/core.py:662\u001b[0m, in \u001b[0;36mcheck_scalar_conversion\u001b[0;34m(arr)\u001b[0m\n\u001b[1;32m    661\u001b[0m \u001b[38;5;28;01mif\u001b[39;00m arr\u001b[38;5;241m.\u001b[39mndim \u001b[38;5;241m>\u001b[39m \u001b[38;5;241m0\u001b[39m:\n\u001b[0;32m--> 662\u001b[0m   \u001b[38;5;28;01mraise\u001b[39;00m \u001b[38;5;167;01mTypeError\u001b[39;00m(\u001b[38;5;124m\"\u001b[39m\u001b[38;5;124mOnly scalar arrays can be converted to Python scalars; \u001b[39m\u001b[38;5;124m\"\u001b[39m\n\u001b[1;32m    663\u001b[0m                   \u001b[38;5;124mf\u001b[39m\u001b[38;5;124m\"\u001b[39m\u001b[38;5;124mgot \u001b[39m\u001b[38;5;132;01m{\u001b[39;00marr\u001b[38;5;241m.\u001b[39mndim\u001b[38;5;132;01m=}\u001b[39;00m\u001b[38;5;124m\"\u001b[39m)\n",
      "\u001b[0;31mTypeError\u001b[0m: Only scalar arrays can be converted to Python scalars; got arr.ndim=1",
      "\nDuring handling of the above exception, another exception occurred:\n",
      "\u001b[0;31mTypeError\u001b[0m                                 Traceback (most recent call last)",
      "File \u001b[0;32m~/miniforge3/envs/torch_env/lib/python3.11/site-packages/pandas/core/groupby/groupby.py:1942\u001b[0m, in \u001b[0;36mGroupBy._agg_py_fallback\u001b[0;34m(self, how, values, ndim, alt)\u001b[0m\n\u001b[1;32m   1941\u001b[0m \u001b[38;5;28;01mtry\u001b[39;00m:\n\u001b[0;32m-> 1942\u001b[0m     res_values \u001b[38;5;241m=\u001b[39m \u001b[38;5;28;43mself\u001b[39;49m\u001b[38;5;241;43m.\u001b[39;49m\u001b[43m_grouper\u001b[49m\u001b[38;5;241;43m.\u001b[39;49m\u001b[43magg_series\u001b[49m\u001b[43m(\u001b[49m\u001b[43mser\u001b[49m\u001b[43m,\u001b[49m\u001b[43m \u001b[49m\u001b[43malt\u001b[49m\u001b[43m,\u001b[49m\u001b[43m \u001b[49m\u001b[43mpreserve_dtype\u001b[49m\u001b[38;5;241;43m=\u001b[39;49m\u001b[38;5;28;43;01mTrue\u001b[39;49;00m\u001b[43m)\u001b[49m\n\u001b[1;32m   1943\u001b[0m \u001b[38;5;28;01mexcept\u001b[39;00m \u001b[38;5;167;01mException\u001b[39;00m \u001b[38;5;28;01mas\u001b[39;00m err:\n",
      "File \u001b[0;32m~/miniforge3/envs/torch_env/lib/python3.11/site-packages/pandas/core/groupby/ops.py:864\u001b[0m, in \u001b[0;36mBaseGrouper.agg_series\u001b[0;34m(self, obj, func, preserve_dtype)\u001b[0m\n\u001b[1;32m    862\u001b[0m     preserve_dtype \u001b[38;5;241m=\u001b[39m \u001b[38;5;28;01mTrue\u001b[39;00m\n\u001b[0;32m--> 864\u001b[0m result \u001b[38;5;241m=\u001b[39m \u001b[38;5;28;43mself\u001b[39;49m\u001b[38;5;241;43m.\u001b[39;49m\u001b[43m_aggregate_series_pure_python\u001b[49m\u001b[43m(\u001b[49m\u001b[43mobj\u001b[49m\u001b[43m,\u001b[49m\u001b[43m \u001b[49m\u001b[43mfunc\u001b[49m\u001b[43m)\u001b[49m\n\u001b[1;32m    866\u001b[0m npvalues \u001b[38;5;241m=\u001b[39m lib\u001b[38;5;241m.\u001b[39mmaybe_convert_objects(result, try_float\u001b[38;5;241m=\u001b[39m\u001b[38;5;28;01mFalse\u001b[39;00m)\n",
      "File \u001b[0;32m~/miniforge3/envs/torch_env/lib/python3.11/site-packages/pandas/core/groupby/ops.py:885\u001b[0m, in \u001b[0;36mBaseGrouper._aggregate_series_pure_python\u001b[0;34m(self, obj, func)\u001b[0m\n\u001b[1;32m    884\u001b[0m \u001b[38;5;28;01mfor\u001b[39;00m i, group \u001b[38;5;129;01min\u001b[39;00m \u001b[38;5;28menumerate\u001b[39m(splitter):\n\u001b[0;32m--> 885\u001b[0m     res \u001b[38;5;241m=\u001b[39m \u001b[43mfunc\u001b[49m\u001b[43m(\u001b[49m\u001b[43mgroup\u001b[49m\u001b[43m)\u001b[49m\n\u001b[1;32m    886\u001b[0m     res \u001b[38;5;241m=\u001b[39m extract_result(res)\n",
      "File \u001b[0;32m~/miniforge3/envs/torch_env/lib/python3.11/site-packages/pandas/core/groupby/groupby.py:2454\u001b[0m, in \u001b[0;36mGroupBy.mean.<locals>.<lambda>\u001b[0;34m(x)\u001b[0m\n\u001b[1;32m   2451\u001b[0m \u001b[38;5;28;01melse\u001b[39;00m:\n\u001b[1;32m   2452\u001b[0m     result \u001b[38;5;241m=\u001b[39m \u001b[38;5;28mself\u001b[39m\u001b[38;5;241m.\u001b[39m_cython_agg_general(\n\u001b[1;32m   2453\u001b[0m         \u001b[38;5;124m\"\u001b[39m\u001b[38;5;124mmean\u001b[39m\u001b[38;5;124m\"\u001b[39m,\n\u001b[0;32m-> 2454\u001b[0m         alt\u001b[38;5;241m=\u001b[39m\u001b[38;5;28;01mlambda\u001b[39;00m x: \u001b[43mSeries\u001b[49m\u001b[43m(\u001b[49m\u001b[43mx\u001b[49m\u001b[43m,\u001b[49m\u001b[43m \u001b[49m\u001b[43mcopy\u001b[49m\u001b[38;5;241;43m=\u001b[39;49m\u001b[38;5;28;43;01mFalse\u001b[39;49;00m\u001b[43m)\u001b[49m\u001b[38;5;241;43m.\u001b[39;49m\u001b[43mmean\u001b[49m\u001b[43m(\u001b[49m\u001b[43mnumeric_only\u001b[49m\u001b[38;5;241;43m=\u001b[39;49m\u001b[43mnumeric_only\u001b[49m\u001b[43m)\u001b[49m,\n\u001b[1;32m   2455\u001b[0m         numeric_only\u001b[38;5;241m=\u001b[39mnumeric_only,\n\u001b[1;32m   2456\u001b[0m     )\n\u001b[1;32m   2457\u001b[0m     \u001b[38;5;28;01mreturn\u001b[39;00m result\u001b[38;5;241m.\u001b[39m__finalize__(\u001b[38;5;28mself\u001b[39m\u001b[38;5;241m.\u001b[39mobj, method\u001b[38;5;241m=\u001b[39m\u001b[38;5;124m\"\u001b[39m\u001b[38;5;124mgroupby\u001b[39m\u001b[38;5;124m\"\u001b[39m)\n",
      "File \u001b[0;32m~/miniforge3/envs/torch_env/lib/python3.11/site-packages/pandas/core/series.py:6549\u001b[0m, in \u001b[0;36mSeries.mean\u001b[0;34m(self, axis, skipna, numeric_only, **kwargs)\u001b[0m\n\u001b[1;32m   6541\u001b[0m \u001b[38;5;129m@doc\u001b[39m(make_doc(\u001b[38;5;124m\"\u001b[39m\u001b[38;5;124mmean\u001b[39m\u001b[38;5;124m\"\u001b[39m, ndim\u001b[38;5;241m=\u001b[39m\u001b[38;5;241m1\u001b[39m))\n\u001b[1;32m   6542\u001b[0m \u001b[38;5;28;01mdef\u001b[39;00m \u001b[38;5;21mmean\u001b[39m(\n\u001b[1;32m   6543\u001b[0m     \u001b[38;5;28mself\u001b[39m,\n\u001b[0;32m   (...)\u001b[0m\n\u001b[1;32m   6547\u001b[0m     \u001b[38;5;241m*\u001b[39m\u001b[38;5;241m*\u001b[39mkwargs,\n\u001b[1;32m   6548\u001b[0m ):\n\u001b[0;32m-> 6549\u001b[0m     \u001b[38;5;28;01mreturn\u001b[39;00m \u001b[43mNDFrame\u001b[49m\u001b[38;5;241;43m.\u001b[39;49m\u001b[43mmean\u001b[49m\u001b[43m(\u001b[49m\u001b[38;5;28;43mself\u001b[39;49m\u001b[43m,\u001b[49m\u001b[43m \u001b[49m\u001b[43maxis\u001b[49m\u001b[43m,\u001b[49m\u001b[43m \u001b[49m\u001b[43mskipna\u001b[49m\u001b[43m,\u001b[49m\u001b[43m \u001b[49m\u001b[43mnumeric_only\u001b[49m\u001b[43m,\u001b[49m\u001b[43m \u001b[49m\u001b[38;5;241;43m*\u001b[39;49m\u001b[38;5;241;43m*\u001b[39;49m\u001b[43mkwargs\u001b[49m\u001b[43m)\u001b[49m\n",
      "File \u001b[0;32m~/miniforge3/envs/torch_env/lib/python3.11/site-packages/pandas/core/generic.py:12420\u001b[0m, in \u001b[0;36mNDFrame.mean\u001b[0;34m(self, axis, skipna, numeric_only, **kwargs)\u001b[0m\n\u001b[1;32m  12413\u001b[0m \u001b[38;5;28;01mdef\u001b[39;00m \u001b[38;5;21mmean\u001b[39m(\n\u001b[1;32m  12414\u001b[0m     \u001b[38;5;28mself\u001b[39m,\n\u001b[1;32m  12415\u001b[0m     axis: Axis \u001b[38;5;241m|\u001b[39m \u001b[38;5;28;01mNone\u001b[39;00m \u001b[38;5;241m=\u001b[39m \u001b[38;5;241m0\u001b[39m,\n\u001b[0;32m   (...)\u001b[0m\n\u001b[1;32m  12418\u001b[0m     \u001b[38;5;241m*\u001b[39m\u001b[38;5;241m*\u001b[39mkwargs,\n\u001b[1;32m  12419\u001b[0m ) \u001b[38;5;241m-\u001b[39m\u001b[38;5;241m>\u001b[39m Series \u001b[38;5;241m|\u001b[39m \u001b[38;5;28mfloat\u001b[39m:\n\u001b[0;32m> 12420\u001b[0m     \u001b[38;5;28;01mreturn\u001b[39;00m \u001b[38;5;28;43mself\u001b[39;49m\u001b[38;5;241;43m.\u001b[39;49m\u001b[43m_stat_function\u001b[49m\u001b[43m(\u001b[49m\n\u001b[1;32m  12421\u001b[0m \u001b[43m        \u001b[49m\u001b[38;5;124;43m\"\u001b[39;49m\u001b[38;5;124;43mmean\u001b[39;49m\u001b[38;5;124;43m\"\u001b[39;49m\u001b[43m,\u001b[49m\u001b[43m \u001b[49m\u001b[43mnanops\u001b[49m\u001b[38;5;241;43m.\u001b[39;49m\u001b[43mnanmean\u001b[49m\u001b[43m,\u001b[49m\u001b[43m \u001b[49m\u001b[43maxis\u001b[49m\u001b[43m,\u001b[49m\u001b[43m \u001b[49m\u001b[43mskipna\u001b[49m\u001b[43m,\u001b[49m\u001b[43m \u001b[49m\u001b[43mnumeric_only\u001b[49m\u001b[43m,\u001b[49m\u001b[43m \u001b[49m\u001b[38;5;241;43m*\u001b[39;49m\u001b[38;5;241;43m*\u001b[39;49m\u001b[43mkwargs\u001b[49m\n\u001b[1;32m  12422\u001b[0m \u001b[43m    \u001b[49m\u001b[43m)\u001b[49m\n",
      "File \u001b[0;32m~/miniforge3/envs/torch_env/lib/python3.11/site-packages/pandas/core/generic.py:12377\u001b[0m, in \u001b[0;36mNDFrame._stat_function\u001b[0;34m(self, name, func, axis, skipna, numeric_only, **kwargs)\u001b[0m\n\u001b[1;32m  12375\u001b[0m validate_bool_kwarg(skipna, \u001b[38;5;124m\"\u001b[39m\u001b[38;5;124mskipna\u001b[39m\u001b[38;5;124m\"\u001b[39m, none_allowed\u001b[38;5;241m=\u001b[39m\u001b[38;5;28;01mFalse\u001b[39;00m)\n\u001b[0;32m> 12377\u001b[0m \u001b[38;5;28;01mreturn\u001b[39;00m \u001b[38;5;28;43mself\u001b[39;49m\u001b[38;5;241;43m.\u001b[39;49m\u001b[43m_reduce\u001b[49m\u001b[43m(\u001b[49m\n\u001b[1;32m  12378\u001b[0m \u001b[43m    \u001b[49m\u001b[43mfunc\u001b[49m\u001b[43m,\u001b[49m\u001b[43m \u001b[49m\u001b[43mname\u001b[49m\u001b[38;5;241;43m=\u001b[39;49m\u001b[43mname\u001b[49m\u001b[43m,\u001b[49m\u001b[43m \u001b[49m\u001b[43maxis\u001b[49m\u001b[38;5;241;43m=\u001b[39;49m\u001b[43maxis\u001b[49m\u001b[43m,\u001b[49m\u001b[43m \u001b[49m\u001b[43mskipna\u001b[49m\u001b[38;5;241;43m=\u001b[39;49m\u001b[43mskipna\u001b[49m\u001b[43m,\u001b[49m\u001b[43m \u001b[49m\u001b[43mnumeric_only\u001b[49m\u001b[38;5;241;43m=\u001b[39;49m\u001b[43mnumeric_only\u001b[49m\n\u001b[1;32m  12379\u001b[0m \u001b[43m\u001b[49m\u001b[43m)\u001b[49m\n",
      "File \u001b[0;32m~/miniforge3/envs/torch_env/lib/python3.11/site-packages/pandas/core/series.py:6457\u001b[0m, in \u001b[0;36mSeries._reduce\u001b[0;34m(self, op, name, axis, skipna, numeric_only, filter_type, **kwds)\u001b[0m\n\u001b[1;32m   6453\u001b[0m     \u001b[38;5;28;01mraise\u001b[39;00m \u001b[38;5;167;01mTypeError\u001b[39;00m(\n\u001b[1;32m   6454\u001b[0m         \u001b[38;5;124mf\u001b[39m\u001b[38;5;124m\"\u001b[39m\u001b[38;5;124mSeries.\u001b[39m\u001b[38;5;132;01m{\u001b[39;00mname\u001b[38;5;132;01m}\u001b[39;00m\u001b[38;5;124m does not allow \u001b[39m\u001b[38;5;132;01m{\u001b[39;00mkwd_name\u001b[38;5;132;01m}\u001b[39;00m\u001b[38;5;124m=\u001b[39m\u001b[38;5;132;01m{\u001b[39;00mnumeric_only\u001b[38;5;132;01m}\u001b[39;00m\u001b[38;5;124m \u001b[39m\u001b[38;5;124m\"\u001b[39m\n\u001b[1;32m   6455\u001b[0m         \u001b[38;5;124m\"\u001b[39m\u001b[38;5;124mwith non-numeric dtypes.\u001b[39m\u001b[38;5;124m\"\u001b[39m\n\u001b[1;32m   6456\u001b[0m     )\n\u001b[0;32m-> 6457\u001b[0m \u001b[38;5;28;01mreturn\u001b[39;00m \u001b[43mop\u001b[49m\u001b[43m(\u001b[49m\u001b[43mdelegate\u001b[49m\u001b[43m,\u001b[49m\u001b[43m \u001b[49m\u001b[43mskipna\u001b[49m\u001b[38;5;241;43m=\u001b[39;49m\u001b[43mskipna\u001b[49m\u001b[43m,\u001b[49m\u001b[43m \u001b[49m\u001b[38;5;241;43m*\u001b[39;49m\u001b[38;5;241;43m*\u001b[39;49m\u001b[43mkwds\u001b[49m\u001b[43m)\u001b[49m\n",
      "File \u001b[0;32m~/miniforge3/envs/torch_env/lib/python3.11/site-packages/pandas/core/nanops.py:147\u001b[0m, in \u001b[0;36mbottleneck_switch.__call__.<locals>.f\u001b[0;34m(values, axis, skipna, **kwds)\u001b[0m\n\u001b[1;32m    146\u001b[0m \u001b[38;5;28;01melse\u001b[39;00m:\n\u001b[0;32m--> 147\u001b[0m     result \u001b[38;5;241m=\u001b[39m \u001b[43malt\u001b[49m\u001b[43m(\u001b[49m\u001b[43mvalues\u001b[49m\u001b[43m,\u001b[49m\u001b[43m \u001b[49m\u001b[43maxis\u001b[49m\u001b[38;5;241;43m=\u001b[39;49m\u001b[43maxis\u001b[49m\u001b[43m,\u001b[49m\u001b[43m \u001b[49m\u001b[43mskipna\u001b[49m\u001b[38;5;241;43m=\u001b[39;49m\u001b[43mskipna\u001b[49m\u001b[43m,\u001b[49m\u001b[43m \u001b[49m\u001b[38;5;241;43m*\u001b[39;49m\u001b[38;5;241;43m*\u001b[39;49m\u001b[43mkwds\u001b[49m\u001b[43m)\u001b[49m\n\u001b[1;32m    149\u001b[0m \u001b[38;5;28;01mreturn\u001b[39;00m result\n",
      "File \u001b[0;32m~/miniforge3/envs/torch_env/lib/python3.11/site-packages/pandas/core/nanops.py:404\u001b[0m, in \u001b[0;36m_datetimelike_compat.<locals>.new_func\u001b[0;34m(values, axis, skipna, mask, **kwargs)\u001b[0m\n\u001b[1;32m    402\u001b[0m     mask \u001b[38;5;241m=\u001b[39m isna(values)\n\u001b[0;32m--> 404\u001b[0m result \u001b[38;5;241m=\u001b[39m \u001b[43mfunc\u001b[49m\u001b[43m(\u001b[49m\u001b[43mvalues\u001b[49m\u001b[43m,\u001b[49m\u001b[43m \u001b[49m\u001b[43maxis\u001b[49m\u001b[38;5;241;43m=\u001b[39;49m\u001b[43maxis\u001b[49m\u001b[43m,\u001b[49m\u001b[43m \u001b[49m\u001b[43mskipna\u001b[49m\u001b[38;5;241;43m=\u001b[39;49m\u001b[43mskipna\u001b[49m\u001b[43m,\u001b[49m\u001b[43m \u001b[49m\u001b[43mmask\u001b[49m\u001b[38;5;241;43m=\u001b[39;49m\u001b[43mmask\u001b[49m\u001b[43m,\u001b[49m\u001b[43m \u001b[49m\u001b[38;5;241;43m*\u001b[39;49m\u001b[38;5;241;43m*\u001b[39;49m\u001b[43mkwargs\u001b[49m\u001b[43m)\u001b[49m\n\u001b[1;32m    406\u001b[0m \u001b[38;5;28;01mif\u001b[39;00m datetimelike:\n",
      "File \u001b[0;32m~/miniforge3/envs/torch_env/lib/python3.11/site-packages/pandas/core/nanops.py:720\u001b[0m, in \u001b[0;36mnanmean\u001b[0;34m(values, axis, skipna, mask)\u001b[0m\n\u001b[1;32m    719\u001b[0m the_sum \u001b[38;5;241m=\u001b[39m values\u001b[38;5;241m.\u001b[39msum(axis, dtype\u001b[38;5;241m=\u001b[39mdtype_sum)\n\u001b[0;32m--> 720\u001b[0m the_sum \u001b[38;5;241m=\u001b[39m \u001b[43m_ensure_numeric\u001b[49m\u001b[43m(\u001b[49m\u001b[43mthe_sum\u001b[49m\u001b[43m)\u001b[49m\n\u001b[1;32m    722\u001b[0m \u001b[38;5;28;01mif\u001b[39;00m axis \u001b[38;5;129;01mis\u001b[39;00m \u001b[38;5;129;01mnot\u001b[39;00m \u001b[38;5;28;01mNone\u001b[39;00m \u001b[38;5;129;01mand\u001b[39;00m \u001b[38;5;28mgetattr\u001b[39m(the_sum, \u001b[38;5;124m\"\u001b[39m\u001b[38;5;124mndim\u001b[39m\u001b[38;5;124m\"\u001b[39m, \u001b[38;5;28;01mFalse\u001b[39;00m):\n",
      "File \u001b[0;32m~/miniforge3/envs/torch_env/lib/python3.11/site-packages/pandas/core/nanops.py:1707\u001b[0m, in \u001b[0;36m_ensure_numeric\u001b[0;34m(x)\u001b[0m\n\u001b[1;32m   1706\u001b[0m \u001b[38;5;28;01mtry\u001b[39;00m:\n\u001b[0;32m-> 1707\u001b[0m     x \u001b[38;5;241m=\u001b[39m \u001b[38;5;28;43mcomplex\u001b[39;49m\u001b[43m(\u001b[49m\u001b[43mx\u001b[49m\u001b[43m)\u001b[49m\n\u001b[1;32m   1708\u001b[0m \u001b[38;5;28;01mexcept\u001b[39;00m \u001b[38;5;167;01mValueError\u001b[39;00m \u001b[38;5;28;01mas\u001b[39;00m err:\n\u001b[1;32m   1709\u001b[0m     \u001b[38;5;66;03m# e.g. \"foo\"\u001b[39;00m\n",
      "File \u001b[0;32m~/miniforge3/envs/torch_env/lib/python3.11/site-packages/jax/_src/array.py:305\u001b[0m, in \u001b[0;36mArrayImpl.__complex__\u001b[0;34m(self)\u001b[0m\n\u001b[1;32m    304\u001b[0m \u001b[38;5;28;01mdef\u001b[39;00m \u001b[38;5;21m__complex__\u001b[39m(\u001b[38;5;28mself\u001b[39m):\n\u001b[0;32m--> 305\u001b[0m   \u001b[43mcore\u001b[49m\u001b[38;5;241;43m.\u001b[39;49m\u001b[43mcheck_scalar_conversion\u001b[49m\u001b[43m(\u001b[49m\u001b[38;5;28;43mself\u001b[39;49m\u001b[43m)\u001b[49m\n\u001b[1;32m    306\u001b[0m   \u001b[38;5;28;01mreturn\u001b[39;00m \u001b[38;5;28mself\u001b[39m\u001b[38;5;241m.\u001b[39m_value\u001b[38;5;241m.\u001b[39m\u001b[38;5;21m__complex__\u001b[39m()\n",
      "File \u001b[0;32m~/miniforge3/envs/torch_env/lib/python3.11/site-packages/jax/_src/core.py:662\u001b[0m, in \u001b[0;36mcheck_scalar_conversion\u001b[0;34m(arr)\u001b[0m\n\u001b[1;32m    661\u001b[0m \u001b[38;5;28;01mif\u001b[39;00m arr\u001b[38;5;241m.\u001b[39mndim \u001b[38;5;241m>\u001b[39m \u001b[38;5;241m0\u001b[39m:\n\u001b[0;32m--> 662\u001b[0m   \u001b[38;5;28;01mraise\u001b[39;00m \u001b[38;5;167;01mTypeError\u001b[39;00m(\u001b[38;5;124m\"\u001b[39m\u001b[38;5;124mOnly scalar arrays can be converted to Python scalars; \u001b[39m\u001b[38;5;124m\"\u001b[39m\n\u001b[1;32m    663\u001b[0m                   \u001b[38;5;124mf\u001b[39m\u001b[38;5;124m\"\u001b[39m\u001b[38;5;124mgot \u001b[39m\u001b[38;5;132;01m{\u001b[39;00marr\u001b[38;5;241m.\u001b[39mndim\u001b[38;5;132;01m=}\u001b[39;00m\u001b[38;5;124m\"\u001b[39m)\n",
      "\u001b[0;31mTypeError\u001b[0m: Only scalar arrays can be converted to Python scalars; got arr.ndim=1",
      "\nThe above exception was the direct cause of the following exception:\n",
      "\u001b[0;31mTypeError\u001b[0m                                 Traceback (most recent call last)",
      "Cell \u001b[0;32mIn[11], line 23\u001b[0m\n\u001b[1;32m     21\u001b[0m \u001b[38;5;66;03m# For example, starting with your final DataFrame that has one row per test_key/gate:\u001b[39;00m\n\u001b[1;32m     22\u001b[0m df_by_gate \u001b[38;5;241m=\u001b[39m df_final  \u001b[38;5;66;03m# your existing per-gate DataFrame\u001b[39;00m\n\u001b[0;32m---> 23\u001b[0m df_aggregated \u001b[38;5;241m=\u001b[39m \u001b[43maggregate_by_test_key_only\u001b[49m\u001b[43m(\u001b[49m\u001b[43mdf_by_gate\u001b[49m\u001b[43m)\u001b[49m\n\u001b[1;32m     24\u001b[0m \u001b[38;5;28mprint\u001b[39m(\u001b[38;5;124m\"\u001b[39m\u001b[38;5;124mAggregated DataFrame (one row per test_key):\u001b[39m\u001b[38;5;124m\"\u001b[39m, df_aggregated\u001b[38;5;241m.\u001b[39mshape)\n",
      "Cell \u001b[0;32mIn[11], line 18\u001b[0m, in \u001b[0;36maggregate_by_test_key_only\u001b[0;34m(df)\u001b[0m\n\u001b[1;32m     14\u001b[0m cols_to_avg \u001b[38;5;241m=\u001b[39m [col \u001b[38;5;28;01mfor\u001b[39;00m col \u001b[38;5;129;01min\u001b[39;00m df\u001b[38;5;241m.\u001b[39mcolumns \n\u001b[1;32m     15\u001b[0m                \u001b[38;5;28;01mif\u001b[39;00m col \u001b[38;5;129;01mnot\u001b[39;00m \u001b[38;5;129;01min\u001b[39;00m [\u001b[38;5;124m'\u001b[39m\u001b[38;5;124mgate\u001b[39m\u001b[38;5;124m'\u001b[39m, \u001b[38;5;124m'\u001b[39m\u001b[38;5;124mfidelities_list\u001b[39m\u001b[38;5;124m'\u001b[39m, \u001b[38;5;124m'\u001b[39m\u001b[38;5;124mfile_path\u001b[39m\u001b[38;5;124m'\u001b[39m, \u001b[38;5;124m'\u001b[39m\u001b[38;5;124mtest_key\u001b[39m\u001b[38;5;124m'\u001b[39m]]\n\u001b[1;32m     17\u001b[0m \u001b[38;5;66;03m# Group by test_key and compute the mean of all numeric columns.\u001b[39;00m\n\u001b[0;32m---> 18\u001b[0m aggregated \u001b[38;5;241m=\u001b[39m \u001b[43mdf\u001b[49m\u001b[38;5;241;43m.\u001b[39;49m\u001b[43mgroupby\u001b[49m\u001b[43m(\u001b[49m\u001b[38;5;124;43m\"\u001b[39;49m\u001b[38;5;124;43mtest_key\u001b[39;49m\u001b[38;5;124;43m\"\u001b[39;49m\u001b[43m)\u001b[49m\u001b[43m[\u001b[49m\u001b[43mcols_to_avg\u001b[49m\u001b[43m]\u001b[49m\u001b[38;5;241;43m.\u001b[39;49m\u001b[43mmean\u001b[49m\u001b[43m(\u001b[49m\u001b[43m)\u001b[49m\u001b[38;5;241m.\u001b[39mreset_index()\n\u001b[1;32m     19\u001b[0m \u001b[38;5;28;01mreturn\u001b[39;00m aggregated\n",
      "File \u001b[0;32m~/miniforge3/envs/torch_env/lib/python3.11/site-packages/pandas/core/groupby/groupby.py:2452\u001b[0m, in \u001b[0;36mGroupBy.mean\u001b[0;34m(self, numeric_only, engine, engine_kwargs)\u001b[0m\n\u001b[1;32m   2445\u001b[0m     \u001b[38;5;28;01mreturn\u001b[39;00m \u001b[38;5;28mself\u001b[39m\u001b[38;5;241m.\u001b[39m_numba_agg_general(\n\u001b[1;32m   2446\u001b[0m         grouped_mean,\n\u001b[1;32m   2447\u001b[0m         executor\u001b[38;5;241m.\u001b[39mfloat_dtype_mapping,\n\u001b[1;32m   2448\u001b[0m         engine_kwargs,\n\u001b[1;32m   2449\u001b[0m         min_periods\u001b[38;5;241m=\u001b[39m\u001b[38;5;241m0\u001b[39m,\n\u001b[1;32m   2450\u001b[0m     )\n\u001b[1;32m   2451\u001b[0m \u001b[38;5;28;01melse\u001b[39;00m:\n\u001b[0;32m-> 2452\u001b[0m     result \u001b[38;5;241m=\u001b[39m \u001b[38;5;28;43mself\u001b[39;49m\u001b[38;5;241;43m.\u001b[39;49m\u001b[43m_cython_agg_general\u001b[49m\u001b[43m(\u001b[49m\n\u001b[1;32m   2453\u001b[0m \u001b[43m        \u001b[49m\u001b[38;5;124;43m\"\u001b[39;49m\u001b[38;5;124;43mmean\u001b[39;49m\u001b[38;5;124;43m\"\u001b[39;49m\u001b[43m,\u001b[49m\n\u001b[1;32m   2454\u001b[0m \u001b[43m        \u001b[49m\u001b[43malt\u001b[49m\u001b[38;5;241;43m=\u001b[39;49m\u001b[38;5;28;43;01mlambda\u001b[39;49;00m\u001b[43m \u001b[49m\u001b[43mx\u001b[49m\u001b[43m:\u001b[49m\u001b[43m \u001b[49m\u001b[43mSeries\u001b[49m\u001b[43m(\u001b[49m\u001b[43mx\u001b[49m\u001b[43m,\u001b[49m\u001b[43m \u001b[49m\u001b[43mcopy\u001b[49m\u001b[38;5;241;43m=\u001b[39;49m\u001b[38;5;28;43;01mFalse\u001b[39;49;00m\u001b[43m)\u001b[49m\u001b[38;5;241;43m.\u001b[39;49m\u001b[43mmean\u001b[49m\u001b[43m(\u001b[49m\u001b[43mnumeric_only\u001b[49m\u001b[38;5;241;43m=\u001b[39;49m\u001b[43mnumeric_only\u001b[49m\u001b[43m)\u001b[49m\u001b[43m,\u001b[49m\n\u001b[1;32m   2455\u001b[0m \u001b[43m        \u001b[49m\u001b[43mnumeric_only\u001b[49m\u001b[38;5;241;43m=\u001b[39;49m\u001b[43mnumeric_only\u001b[49m\u001b[43m,\u001b[49m\n\u001b[1;32m   2456\u001b[0m \u001b[43m    \u001b[49m\u001b[43m)\u001b[49m\n\u001b[1;32m   2457\u001b[0m     \u001b[38;5;28;01mreturn\u001b[39;00m result\u001b[38;5;241m.\u001b[39m__finalize__(\u001b[38;5;28mself\u001b[39m\u001b[38;5;241m.\u001b[39mobj, method\u001b[38;5;241m=\u001b[39m\u001b[38;5;124m\"\u001b[39m\u001b[38;5;124mgroupby\u001b[39m\u001b[38;5;124m\"\u001b[39m)\n",
      "File \u001b[0;32m~/miniforge3/envs/torch_env/lib/python3.11/site-packages/pandas/core/groupby/groupby.py:1998\u001b[0m, in \u001b[0;36mGroupBy._cython_agg_general\u001b[0;34m(self, how, alt, numeric_only, min_count, **kwargs)\u001b[0m\n\u001b[1;32m   1995\u001b[0m     result \u001b[38;5;241m=\u001b[39m \u001b[38;5;28mself\u001b[39m\u001b[38;5;241m.\u001b[39m_agg_py_fallback(how, values, ndim\u001b[38;5;241m=\u001b[39mdata\u001b[38;5;241m.\u001b[39mndim, alt\u001b[38;5;241m=\u001b[39malt)\n\u001b[1;32m   1996\u001b[0m     \u001b[38;5;28;01mreturn\u001b[39;00m result\n\u001b[0;32m-> 1998\u001b[0m new_mgr \u001b[38;5;241m=\u001b[39m \u001b[43mdata\u001b[49m\u001b[38;5;241;43m.\u001b[39;49m\u001b[43mgrouped_reduce\u001b[49m\u001b[43m(\u001b[49m\u001b[43marray_func\u001b[49m\u001b[43m)\u001b[49m\n\u001b[1;32m   1999\u001b[0m res \u001b[38;5;241m=\u001b[39m \u001b[38;5;28mself\u001b[39m\u001b[38;5;241m.\u001b[39m_wrap_agged_manager(new_mgr)\n\u001b[1;32m   2000\u001b[0m \u001b[38;5;28;01mif\u001b[39;00m how \u001b[38;5;129;01min\u001b[39;00m [\u001b[38;5;124m\"\u001b[39m\u001b[38;5;124midxmin\u001b[39m\u001b[38;5;124m\"\u001b[39m, \u001b[38;5;124m\"\u001b[39m\u001b[38;5;124midxmax\u001b[39m\u001b[38;5;124m\"\u001b[39m]:\n",
      "File \u001b[0;32m~/miniforge3/envs/torch_env/lib/python3.11/site-packages/pandas/core/internals/managers.py:1469\u001b[0m, in \u001b[0;36mBlockManager.grouped_reduce\u001b[0;34m(self, func)\u001b[0m\n\u001b[1;32m   1465\u001b[0m \u001b[38;5;28;01mif\u001b[39;00m blk\u001b[38;5;241m.\u001b[39mis_object:\n\u001b[1;32m   1466\u001b[0m     \u001b[38;5;66;03m# split on object-dtype blocks bc some columns may raise\u001b[39;00m\n\u001b[1;32m   1467\u001b[0m     \u001b[38;5;66;03m#  while others do not.\u001b[39;00m\n\u001b[1;32m   1468\u001b[0m     \u001b[38;5;28;01mfor\u001b[39;00m sb \u001b[38;5;129;01min\u001b[39;00m blk\u001b[38;5;241m.\u001b[39m_split():\n\u001b[0;32m-> 1469\u001b[0m         applied \u001b[38;5;241m=\u001b[39m \u001b[43msb\u001b[49m\u001b[38;5;241;43m.\u001b[39;49m\u001b[43mapply\u001b[49m\u001b[43m(\u001b[49m\u001b[43mfunc\u001b[49m\u001b[43m)\u001b[49m\n\u001b[1;32m   1470\u001b[0m         result_blocks \u001b[38;5;241m=\u001b[39m extend_blocks(applied, result_blocks)\n\u001b[1;32m   1471\u001b[0m \u001b[38;5;28;01melse\u001b[39;00m:\n",
      "File \u001b[0;32m~/miniforge3/envs/torch_env/lib/python3.11/site-packages/pandas/core/internals/blocks.py:393\u001b[0m, in \u001b[0;36mBlock.apply\u001b[0;34m(self, func, **kwargs)\u001b[0m\n\u001b[1;32m    387\u001b[0m \u001b[38;5;129m@final\u001b[39m\n\u001b[1;32m    388\u001b[0m \u001b[38;5;28;01mdef\u001b[39;00m \u001b[38;5;21mapply\u001b[39m(\u001b[38;5;28mself\u001b[39m, func, \u001b[38;5;241m*\u001b[39m\u001b[38;5;241m*\u001b[39mkwargs) \u001b[38;5;241m-\u001b[39m\u001b[38;5;241m>\u001b[39m \u001b[38;5;28mlist\u001b[39m[Block]:\n\u001b[1;32m    389\u001b[0m \u001b[38;5;250m    \u001b[39m\u001b[38;5;124;03m\"\"\"\u001b[39;00m\n\u001b[1;32m    390\u001b[0m \u001b[38;5;124;03m    apply the function to my values; return a block if we are not\u001b[39;00m\n\u001b[1;32m    391\u001b[0m \u001b[38;5;124;03m    one\u001b[39;00m\n\u001b[1;32m    392\u001b[0m \u001b[38;5;124;03m    \"\"\"\u001b[39;00m\n\u001b[0;32m--> 393\u001b[0m     result \u001b[38;5;241m=\u001b[39m \u001b[43mfunc\u001b[49m\u001b[43m(\u001b[49m\u001b[38;5;28;43mself\u001b[39;49m\u001b[38;5;241;43m.\u001b[39;49m\u001b[43mvalues\u001b[49m\u001b[43m,\u001b[49m\u001b[43m \u001b[49m\u001b[38;5;241;43m*\u001b[39;49m\u001b[38;5;241;43m*\u001b[39;49m\u001b[43mkwargs\u001b[49m\u001b[43m)\u001b[49m\n\u001b[1;32m    395\u001b[0m     result \u001b[38;5;241m=\u001b[39m maybe_coerce_values(result)\n\u001b[1;32m    396\u001b[0m     \u001b[38;5;28;01mreturn\u001b[39;00m \u001b[38;5;28mself\u001b[39m\u001b[38;5;241m.\u001b[39m_split_op_result(result)\n",
      "File \u001b[0;32m~/miniforge3/envs/torch_env/lib/python3.11/site-packages/pandas/core/groupby/groupby.py:1995\u001b[0m, in \u001b[0;36mGroupBy._cython_agg_general.<locals>.array_func\u001b[0;34m(values)\u001b[0m\n\u001b[1;32m   1992\u001b[0m     \u001b[38;5;28;01mreturn\u001b[39;00m result\n\u001b[1;32m   1994\u001b[0m \u001b[38;5;28;01massert\u001b[39;00m alt \u001b[38;5;129;01mis\u001b[39;00m \u001b[38;5;129;01mnot\u001b[39;00m \u001b[38;5;28;01mNone\u001b[39;00m\n\u001b[0;32m-> 1995\u001b[0m result \u001b[38;5;241m=\u001b[39m \u001b[38;5;28;43mself\u001b[39;49m\u001b[38;5;241;43m.\u001b[39;49m\u001b[43m_agg_py_fallback\u001b[49m\u001b[43m(\u001b[49m\u001b[43mhow\u001b[49m\u001b[43m,\u001b[49m\u001b[43m \u001b[49m\u001b[43mvalues\u001b[49m\u001b[43m,\u001b[49m\u001b[43m \u001b[49m\u001b[43mndim\u001b[49m\u001b[38;5;241;43m=\u001b[39;49m\u001b[43mdata\u001b[49m\u001b[38;5;241;43m.\u001b[39;49m\u001b[43mndim\u001b[49m\u001b[43m,\u001b[49m\u001b[43m \u001b[49m\u001b[43malt\u001b[49m\u001b[38;5;241;43m=\u001b[39;49m\u001b[43malt\u001b[49m\u001b[43m)\u001b[49m\n\u001b[1;32m   1996\u001b[0m \u001b[38;5;28;01mreturn\u001b[39;00m result\n",
      "File \u001b[0;32m~/miniforge3/envs/torch_env/lib/python3.11/site-packages/pandas/core/groupby/groupby.py:1946\u001b[0m, in \u001b[0;36mGroupBy._agg_py_fallback\u001b[0;34m(self, how, values, ndim, alt)\u001b[0m\n\u001b[1;32m   1944\u001b[0m     msg \u001b[38;5;241m=\u001b[39m \u001b[38;5;124mf\u001b[39m\u001b[38;5;124m\"\u001b[39m\u001b[38;5;124magg function failed [how->\u001b[39m\u001b[38;5;132;01m{\u001b[39;00mhow\u001b[38;5;132;01m}\u001b[39;00m\u001b[38;5;124m,dtype->\u001b[39m\u001b[38;5;132;01m{\u001b[39;00mser\u001b[38;5;241m.\u001b[39mdtype\u001b[38;5;132;01m}\u001b[39;00m\u001b[38;5;124m]\u001b[39m\u001b[38;5;124m\"\u001b[39m\n\u001b[1;32m   1945\u001b[0m     \u001b[38;5;66;03m# preserve the kind of exception that raised\u001b[39;00m\n\u001b[0;32m-> 1946\u001b[0m     \u001b[38;5;28;01mraise\u001b[39;00m \u001b[38;5;28mtype\u001b[39m(err)(msg) \u001b[38;5;28;01mfrom\u001b[39;00m \u001b[38;5;21;01merr\u001b[39;00m\n\u001b[1;32m   1948\u001b[0m \u001b[38;5;28;01mif\u001b[39;00m ser\u001b[38;5;241m.\u001b[39mdtype \u001b[38;5;241m==\u001b[39m \u001b[38;5;28mobject\u001b[39m:\n\u001b[1;32m   1949\u001b[0m     res_values \u001b[38;5;241m=\u001b[39m res_values\u001b[38;5;241m.\u001b[39mastype(\u001b[38;5;28mobject\u001b[39m, copy\u001b[38;5;241m=\u001b[39m\u001b[38;5;28;01mFalse\u001b[39;00m)\n",
      "\u001b[0;31mTypeError\u001b[0m: agg function failed [how->mean,dtype->object]"
     ]
    }
   ],
   "source": [
    "def aggregate_by_test_key_only(df):\n",
    "    print(df.keys())\n",
    "    aggregated = df.groupby(\"test_key\").agg(\n",
    "       \n",
    "        avg_fidelity=(\"avg_fidelity\", \"mean\"),\n",
    "        avg_infidelity=(\"avg_fidelity\", lambda x: np.mean(1-x)),\n",
    "        avg_error=(\"avg_fidelity\", lambda x: np.mean(np.log(1 - x))),\n",
    "        qfim_eigvals_GHZ=(\"qfim_eigvals\", \"first\"),\n",
    "        qfim_full=(\"qfim_full\", \"first\"),\n",
    "        entropy=(\"entropy\", \"first\"),\n",
    "        N_ctrl=(\"N_ctrl\", \"first\"),\n",
    "        N_reserv=(\"N_R\", \"first\"),\n",
    "        Trotter_Step=(\"Trotter_Step\", \"first\")\n",
    "    ).reset_index()\n",
    "    cols_to_avg = [col for col in df.columns \n",
    "                   if col not in ['gate', 'fidelities_list', 'file_path', 'test_key']]\n",
    "    \n",
    "    # Group by test_key and compute the mean of all numeric columns.\n",
    "    aggregated = df.groupby(\"test_key\")[cols_to_avg].mean().reset_index()\n",
    "    return aggregated\n",
    "\n",
    "# For example, starting with your final DataFrame that has one row per test_key/gate:\n",
    "df_by_gate = df_final  # your existing per-gate DataFrame\n",
    "df_aggregated = aggregate_by_test_key_only(df_by_gate)\n",
    "print(\"Aggregated DataFrame (one row per test_key):\", df_aggregated.shape)\n",
    "\n"
   ]
  },
  {
   "cell_type": "code",
   "execution_count": 17,
   "metadata": {},
   "outputs": [
    {
     "name": "stdout",
     "output_type": "stream",
     "text": [
      "Index(['costs', 'fidelity', 'num_params', 'test_results', 'qfim_eigvals',\n",
      "       'qfim_full', 'entropy', 'N_ctrl', 'Trotter_Step', 'N_R', 'gate',\n",
      "       'test_key', 'gate_folder', 'file_path'],\n",
      "      dtype='object')\n",
      "Aggregated DataFrame shape: (8, 10)\n"
     ]
    },
    {
     "data": {
      "text/plain": [
       "Index(['test_key', 'fidelities_list', 'avg_fidelity', 'error', 'qfim_eigvals',\n",
       "       'qfim_full', 'entropy', 'N_ctrl', 'N_reserv', 'Trotter_Step'],\n",
       "      dtype='object')"
      ]
     },
     "metadata": {},
     "output_type": "display_data"
    },
    {
     "name": "stderr",
     "output_type": "stream",
     "text": [
      "/var/folders/xx/w2tzbky134bg3g8mct87xb8c0000gn/T/ipykernel_76635/2990458844.py:210: ComplexWarning:\n",
      "\n",
      "Casting complex values to real discards the imaginary part\n",
      "\n"
     ]
    }
   ],
   "source": [
    "import numpy as np\n",
    "import pandas as pd\n",
    "def aggregate_results_list(df):\n",
    "    \"\"\"\n",
    "    Aggregate the DataFrame by test_key.\n",
    "    For each test key:\n",
    "      - fidelities_list: a list of fidelity values (one per gate).\n",
    "      - avg_fidelity: the mean fidelity (using the pandas mean).\n",
    "      - error: aggregated error computed as the mean of log(1 - fidelity).\n",
    "      - qfim_eigvals: taken from the first row.\n",
    "      - entropy: extracted from the first row's qfim_stats.\n",
    "    \n",
    "    Returns a new DataFrame with one row per test key.\n",
    "    \"\"\"\n",
    "    print(df.keys())\n",
    "    aggregated = df.groupby(\"test_key\").agg(\n",
    "        fidelities_list=(\"fidelity\", list),\n",
    "        avg_fidelity=(\"fidelity\", \"mean\"),\n",
    "        error=(\"fidelity\", lambda x: np.mean(np.log(1 - x))),\n",
    "        qfim_eigvals=(\"qfim_eigvals\", \"first\"),\n",
    "        qfim_full=(\"qfim_full\", \"first\"),\n",
    "        entropy=(\"entropy\", \"first\"),\n",
    "        N_ctrl=(\"N_ctrl\", \"first\"),\n",
    "        N_reserv=(\"N_R\", \"first\"),\n",
    "        Trotter_Step=(\"Trotter_Step\", \"first\")\n",
    "    ).reset_index()\n",
    "    \n",
    "    return aggregated\n",
    "\n",
    "df_agg = aggregate_results_list(df_results)\n",
    "print(\"Aggregated DataFrame shape:\", df_agg.shape)\n",
    "display(df_agg.keys())\n",
    "\n",
    "\n",
    "\n",
    "# Update with computed QFIM metrics for each variant.\n",
    "df_final = update_with_all_qfim_metrics(df_agg, threshold=1e-12, spread_methods=(\"variance\", \"mad\"),\n",
    "                                        ddof=1, scale=\"normal\", gamma=0.1, n=1, V_theta=1.0)\n",
    "\n",
    "\n"
   ]
  },
  {
   "cell_type": "code",
   "execution_count": null,
   "metadata": {},
   "outputs": [],
   "source": [
    "\n",
    "# Then update with QFIM metrics as before:\n",
    "def update_with_qfim_metrics(df, threshold=1e-12, spread_methods=(\"variance\", \"mad\"),\n",
    "                             ddof=1, scale=\"normal\", \n",
    "                             gamma=0.1, n=1, V_theta=1.0):\n",
    "    \"\"\"\n",
    "    For each row in df (representing one test key), call compute_single_draw_stats \n",
    "    with the provided parameters.\n",
    "    \"\"\"\n",
    "    new_rows = []\n",
    "    for _, row in df.iterrows():\n",
    "        eigvals = row[\"qfim_eigvals\"]\n",
    "        full_qfim_mat = row['qfim_full']\n",
    "        qfim_metrics = compute_single_draw_stats(\n",
    "            eigvals,\n",
    "            full_qfim_mat,\n",
    "            threshold=threshold,\n",
    "            spread_methods=spread_methods,\n",
    "            ddof=ddof,\n",
    "            scale=scale,\n",
    "            gamma=gamma,\n",
    "            n=n,\n",
    "            V_theta=V_theta,\n",
    "            n_ctrl=row[\"N_ctrl\"],\n",
    "            n_reserv=row[\"N_reserv\"],\n",
    "            trotter_step=row[\"Trotter_Step\"]\n",
    "        )\n",
    "        updated_row = row.to_dict()\n",
    "        updated_row.update(qfim_metrics)\n",
    "        new_rows.append(updated_row)\n",
    "    return pd.DataFrame(new_rows)\n",
    "\n",
    "df_final = update_with_qfim_metrics(df_agg)\n",
    "\n"
   ]
  },
  {
   "cell_type": "code",
   "execution_count": null,
   "metadata": {},
   "outputs": [],
   "source": [
    "import pingouin as pg\n",
    "\n",
    "def analyze_correlations(df_merged, x_metric, metrics_of_interest, corr_threshold=0.2, p_threshold=0.05):\n",
    "    \"\"\"\n",
    "    Analyze pairwise correlations between a given x_metric and each metric in metrics_of_interest.\n",
    "    \n",
    "    Parameters\n",
    "    ----------\n",
    "    df_merged : pd.DataFrame\n",
    "        The merged DataFrame containing the columns of interest.\n",
    "    x_metric : str\n",
    "        The column name for the independent variable (e.g., \"avg_fidelity\").\n",
    "    metrics_of_interest : list of str\n",
    "        List of column names whose correlations with x_metric will be computed.\n",
    "    corr_threshold : float, optional\n",
    "        Minimum absolute correlation coefficient to report (default 0.2).\n",
    "    p_threshold : float, optional\n",
    "        Maximum p-value threshold to report (default 0.05).\n",
    "        \n",
    "    Returns\n",
    "    -------\n",
    "    pearson_results : dict\n",
    "        Dictionary mapping each metric to its Pearson correlation coefficient and p-value.\n",
    "    spearman_results : dict\n",
    "        Dictionary mapping each metric to its Spearman correlation coefficient and p-value.\n",
    "    \"\"\"\n",
    "    # Create a new DataFrame with the columns of interest and drop rows with NaN values.\n",
    "    df_corr = df_merged[[x_metric] + metrics_of_interest].copy()\n",
    "    df_corr = df_corr.dropna(subset=[x_metric] + metrics_of_interest)\n",
    "    # print(\"Columns in df_corr:\", df_corr.columns)\n",
    "    # print(\"Number of rows after dropna:\", len(df_corr))\n",
    "    \n",
    "    # Ensure that each metric column contains float values (e.g., convert from JAX arrays if needed)\n",
    "    for col in metrics_of_interest:\n",
    "        df_corr[col] = df_corr[col].apply(\n",
    "            lambda val: float(val.item()) if hasattr(val, \"item\") else float(val)\n",
    "        )\n",
    "    \n",
    "    # Compute Pearson correlations for each metric.\n",
    "    pearson_results = {}\n",
    "    for col in metrics_of_interest:\n",
    "        res_df = pg.corr(x=df_corr[x_metric], y=df_corr[col], method=\"pearson\")\n",
    "        r_val = res_df[\"r\"].iloc[0]\n",
    "        p_val = res_df[\"p-val\"].iloc[0]\n",
    "        pearson_results[col] = {\"pearson_r\": r_val, \"p_value\": p_val}\n",
    "    \n",
    "    # Compute Spearman correlations for each metric.\n",
    "    spearman_results = {}\n",
    "    for col in metrics_of_interest:\n",
    "        sp_df = pg.corr(x=df_corr[x_metric], y=df_corr[col], method=\"spearman\")\n",
    "        rho_val = sp_df[\"r\"].iloc[0]\n",
    "        p_val = sp_df[\"p-val\"].iloc[0]\n",
    "        spearman_results[col] = {\"spearman_rho\": rho_val, \"p_value\": p_val}\n",
    "    \n",
    "    # Print out the correlations that meet the filtering thresholds.\n",
    "    print(f\"\\nPairwise correlations vs. {x_metric} (Pearson):\")\n",
    "    for metric, vals in pearson_results.items():\n",
    "        if abs(vals[\"pearson_r\"]) > corr_threshold and vals[\"p_value\"] < p_threshold:\n",
    "            print(f\"{metric}: r={vals['pearson_r']:.3f}, p={vals['p_value']:.3g}\")\n",
    "    \n",
    "    print(f\"\\nPairwise correlations vs. {x_metric} (Spearman):\")\n",
    "    for metric, vals in spearman_results.items():\n",
    "        if abs(vals[\"spearman_rho\"]) > corr_threshold and vals[\"p_value\"] < p_threshold:\n",
    "            print(f\"{metric}: rho={vals['spearman_rho']:.3f}, p={vals['p_value']:.3g}\")\n",
    "    \n",
    "    return pearson_results, spearman_results\n",
    "x_metric = \"error\"\n",
    "metrics_of_interest = [\n",
    "    'trace_normalized_by_rank',                # Trace of QFIM\n",
    "    'trace_normalized_by_rank_dqfim',\n",
    "    'var_all_eigenvalues',\n",
    "   'var_all_eigenvalues_dqfim',  \n",
    "    'spread_metric_mad',\n",
    "    'spread_metric_mad_dqfim', \n",
    "    'spread_metric_variance', \n",
    "    \"spread_metric_variance_dqfim\", \n",
    "    \"d_eff\", \"d_eff_dqfim\"\n",
    "]\n",
    "metrics_of_interest = [\n",
    "    \"entropy\",\"var_all_eigenvalues\", \"var_nonzero_eigenvalues\", \"trace_eigenvalues\",\n",
    "    \"var_nonzero_log\", \"var_nonzero_normalized_by_rank\",\n",
    "    \"trace_normalized_by_rank\",\n",
    "    \"ipr_deff_raw\", \"ipr_deff_norm\",\n",
    "    \"spread_metric_variance\", \"spread_metric_mad\",\n",
    "    \"trace_dqfim\",\"trace_normalized_by_param_count_dqfim\",\n",
    "   \"var_all_eigenvalues_dqfim\",\"var_nonzero_log_dqfim\",\n",
    "    \"var_nonzero_eigenvalues_dqfim\", \"var_all_normalized_by_param_count_dqfim\",\n",
    "    \"var_nonzero_normalized_by_rank_dqfim\", \"ipr_deff_raw_dqfim\",\n",
    "    \"ipr_deff_norm_dqfim\", \"abbas_deff_raw_dqfim\", \"abbas_deff_norm_dqfim\",\n",
    "    \"spread_metric_variance_dqfim\", \"spread_metric_mad_dqfim\",\n",
    "    \"d_eff\", \"d_eff_dqfim\"\n",
    "]\n",
    "pearson_corrs, spearman_corrs = analyze_correlations(\n",
    "    df_merged, x_metric, metrics_of_interest,\n",
    "    corr_threshold=0.1, p_threshold=0.05\n",
    ")"
   ]
  },
  {
   "cell_type": "code",
   "execution_count": null,
   "metadata": {},
   "outputs": [],
   "source": []
  },
  {
   "cell_type": "code",
   "execution_count": null,
   "metadata": {},
   "outputs": [],
   "source": []
  },
  {
   "cell_type": "code",
   "execution_count": null,
   "metadata": {},
   "outputs": [],
   "source": []
  },
  {
   "cell_type": "code",
   "execution_count": 16,
   "metadata": {},
   "outputs": [
    {
     "name": "stdout",
     "output_type": "stream",
     "text": [
      "/Users/sophieblock/QRCcapstone/parameter_analysis_directory/QFIM_global_results/gate_model_DQFIM/Nc_2/sample_pi/1bbxK/Nr_1/trotter_step_14/L_100/data.pickle\n"
     ]
    },
    {
     "name": "stderr",
     "output_type": "stream",
     "text": [
      "/var/folders/xx/w2tzbky134bg3g8mct87xb8c0000gn/T/ipykernel_76635/2990458844.py:210: ComplexWarning:\n",
      "\n",
      "Casting complex values to real discards the imaginary part\n",
      "\n"
     ]
    },
    {
     "data": {
      "text/plain": [
       "array(['test104', 'test122', 'test129', 'test175', 'test18', 'test197',\n",
       "       'test7', 'test79'], dtype=object)"
      ]
     },
     "execution_count": 16,
     "metadata": {},
     "output_type": "execute_result"
    }
   ],
   "source": [
    "import math\n",
    "\n",
    "def collect_dqfim_stats(all_tests_data, fixed_params_key, threshold=1e-12, gamma=0.1, n=100):\n",
    "    \"\"\"\n",
    "    Build a single dictionary-of-dicts for the DQFIM stats keyed by test_key.\n",
    "\n",
    "    Returns a dict:\n",
    "\n",
    "        {\n",
    "           test_key1: {\n",
    "               \"draw_rank\": ...,\n",
    "               \"trace_eigenvalues\": ...,\n",
    "               \"ipr_deff_raw_dqfim\": ...,\n",
    "               ... all metrics ...\n",
    "           },\n",
    "           test_key2: {...},\n",
    "           ...\n",
    "        }\n",
    "\n",
    "    Then we can convert to a DataFrame and merge.\n",
    "    \"\"\"\n",
    "    dqfim_stats_dict = {}\n",
    "    test_data = all_tests_data[fixed_params_key]\n",
    "\n",
    "    for test_key, results in test_data.items():\n",
    "        qfi_eigvals = results[\"qfim_eigvals\"]\n",
    "        qfim_mat = results[\"qfim\"]\n",
    "        # call your single-draw function\n",
    "        stats = compute_single_draw_stats(\n",
    "            qfi_eigvals,\n",
    "            qfim_mat,\n",
    "            threshold=threshold,\n",
    "            gamma=gamma,\n",
    "            n=n,           # number of data-based states\n",
    "        )\n",
    "      \n",
    "        # rename or store with distinct suffix (e.g. \"_dqfim\") if you want\n",
    "        # so they don’t collide with existing columns\n",
    "        dqfim_stats_dict[test_key] = {\n",
    "            \"draw_rank_dqfim\": stats[\"draw_rank\"],\n",
    "            \"trace_dqfim\": stats[\"trace_eigenvalues\"],\n",
    "            \"trace_normalized_by_rank_dqfim\": stats[\"trace_normalized_by_rank\"],\n",
    "            \"trace_normalized_by_param_count_dqfim\": stats[\"trace_normalized_by_param_count\"],\n",
    "            \"var_all_eigenvalues_dqfim\": stats[\"var_all_eigenvalues\"],\n",
    "            \"var_nonzero_eigenvalues_dqfim\": stats[\"var_nonzero_eigenvalues\"],\n",
    "            \"var_all_normalized_by_param_count_dqfim\": stats[\"var_all_normalized_by_param_count\"],\n",
    "            \"var_all_normalized_by_rank_dqfim\": stats[\"var_all_normalized_by_rank\"],\n",
    "            \"var_nonzero_normalized_by_rank_dqfim\": stats[\"var_nonzero_normalized_by_rank\"],\n",
    "             \"var_nonzero_log_dqfim\": stats[\"var_nonzero_log\"],\n",
    "            \"ipr_deff_raw_dqfim\": stats[\"ipr_deff_raw\"],\n",
    "            \"ipr_deff_norm_dqfim\": stats[\"ipr_deff_norm\"],\n",
    "            \"abbas_deff_raw_dqfim\": stats[\"abbas_deff_raw\"],\n",
    "            \"abbas_deff_norm_dqfim\": stats[\"abbas_deff_norm\"],\n",
    "            # And the spread-of-log results:\n",
    "            \"spread_metric_variance_dqfim\": stats.get(\"spread_metric_variance\", 0.0),\n",
    "            \"spread_metric_mad_dqfim\": stats.get(\"spread_metric_mad\", 0.0),\n",
    "            \"d_eff_dqfim\": stats.get(\"d_eff\",0.0)\n",
    "        }\n",
    "    return dqfim_stats_dict\n",
    "\n",
    "\n",
    "L = 100\n",
    "T = 14\n",
    "file_path = (\n",
    "    f\"/Users/sophieblock/QRCcapstone/parameter_analysis_directory/\"\n",
    "    f\"QFIM_global_results/gate_model_DQFIM/Nc_2/sample_pi/1bbxK/\"\n",
    "    f\"Nr_1/trotter_step_{T}/L_{L}/data.pickle\"\n",
    ")\n",
    "print(file_path)\n",
    "with open(file_path, 'rb') as f:\n",
    "    all_tests_data = pickle.load(f)\n",
    "\n",
    "fixed_params_key = \"fixed_params0\"\n",
    "dqfim_stats_dict = collect_dqfim_stats(\n",
    "    all_tests_data,\n",
    "    fixed_params_key,\n",
    "    threshold=1e-12,\n",
    "    gamma=1.0,\n",
    "    n=L\n",
    ")\n",
    "\n",
    "\n",
    "# Convert the dictionary-of-dicts to a DataFrame, keyed by test_key\n",
    "df_dqfim = pd.DataFrame.from_dict(dqfim_stats_dict, orient=\"index\")\n",
    "df_dqfim.reset_index(inplace=True)\n",
    "df_dqfim.rename(columns={\"index\": \"test_key\"}, inplace=True)\n",
    "\n",
    "# Now df_dqfim has columns like:\n",
    "#   test_key, trace_dqfim, var_all_eigenvalues_dqfim, ...\n",
    "# Merge onto df_final on 'test_key'\n",
    "df_merged = pd.merge(df_final, df_dqfim, on=\"test_key\", how=\"left\")\n",
    "\n",
    "# print(\"df_merged columns:\", df_merged.columns)\n",
    "\n",
    "df_merged['test_key'].unique()\n"
   ]
  },
  {
   "cell_type": "code",
   "execution_count": 11,
   "metadata": {},
   "outputs": [
    {
     "name": "stdout",
     "output_type": "stream",
     "text": [
      "\n",
      "Pairwise correlations vs. error (Pearson):\n",
      "\n",
      "Pairwise correlations vs. error (Spearman):\n"
     ]
    }
   ],
   "source": [
    "import pingouin as pg\n",
    "\n",
    "def analyze_correlations(df_merged, x_metric, metrics_of_interest, corr_threshold=0.2, p_threshold=0.05):\n",
    "    \"\"\"\n",
    "    Analyze pairwise correlations between a given x_metric and each metric in metrics_of_interest.\n",
    "    \n",
    "    Parameters\n",
    "    ----------\n",
    "    df_merged : pd.DataFrame\n",
    "        The merged DataFrame containing the columns of interest.\n",
    "    x_metric : str\n",
    "        The column name for the independent variable (e.g., \"avg_fidelity\").\n",
    "    metrics_of_interest : list of str\n",
    "        List of column names whose correlations with x_metric will be computed.\n",
    "    corr_threshold : float, optional\n",
    "        Minimum absolute correlation coefficient to report (default 0.2).\n",
    "    p_threshold : float, optional\n",
    "        Maximum p-value threshold to report (default 0.05).\n",
    "        \n",
    "    Returns\n",
    "    -------\n",
    "    pearson_results : dict\n",
    "        Dictionary mapping each metric to its Pearson correlation coefficient and p-value.\n",
    "    spearman_results : dict\n",
    "        Dictionary mapping each metric to its Spearman correlation coefficient and p-value.\n",
    "    \"\"\"\n",
    "    # Create a new DataFrame with the columns of interest and drop rows with NaN values.\n",
    "    df_corr = df_merged[[x_metric] + metrics_of_interest].copy()\n",
    "    df_corr = df_corr.dropna(subset=[x_metric] + metrics_of_interest)\n",
    "    # print(\"Columns in df_corr:\", df_corr.columns)\n",
    "    # print(\"Number of rows after dropna:\", len(df_corr))\n",
    "    \n",
    "    # Ensure that each metric column contains float values (e.g., convert from JAX arrays if needed)\n",
    "    for col in metrics_of_interest:\n",
    "        df_corr[col] = df_corr[col].apply(\n",
    "            lambda val: float(val.item()) if hasattr(val, \"item\") else float(val)\n",
    "        )\n",
    "    \n",
    "    # Compute Pearson correlations for each metric.\n",
    "    pearson_results = {}\n",
    "    for col in metrics_of_interest:\n",
    "        res_df = pg.corr(x=df_corr[x_metric], y=df_corr[col], method=\"pearson\")\n",
    "        r_val = res_df[\"r\"].iloc[0]\n",
    "        p_val = res_df[\"p-val\"].iloc[0]\n",
    "        pearson_results[col] = {\"pearson_r\": r_val, \"p_value\": p_val}\n",
    "    \n",
    "    # Compute Spearman correlations for each metric.\n",
    "    spearman_results = {}\n",
    "    for col in metrics_of_interest:\n",
    "        sp_df = pg.corr(x=df_corr[x_metric], y=df_corr[col], method=\"spearman\")\n",
    "        rho_val = sp_df[\"r\"].iloc[0]\n",
    "        p_val = sp_df[\"p-val\"].iloc[0]\n",
    "        spearman_results[col] = {\"spearman_rho\": rho_val, \"p_value\": p_val}\n",
    "    \n",
    "    # Print out the correlations that meet the filtering thresholds.\n",
    "    print(f\"\\nPairwise correlations vs. {x_metric} (Pearson):\")\n",
    "    for metric, vals in pearson_results.items():\n",
    "        if abs(vals[\"pearson_r\"]) > corr_threshold and vals[\"p_value\"] < p_threshold:\n",
    "            print(f\"{metric}: r={vals['pearson_r']:.3f}, p={vals['p_value']:.3g}\")\n",
    "    \n",
    "    print(f\"\\nPairwise correlations vs. {x_metric} (Spearman):\")\n",
    "    for metric, vals in spearman_results.items():\n",
    "        if abs(vals[\"spearman_rho\"]) > corr_threshold and vals[\"p_value\"] < p_threshold:\n",
    "            print(f\"{metric}: rho={vals['spearman_rho']:.3f}, p={vals['p_value']:.3g}\")\n",
    "    \n",
    "    return pearson_results, spearman_results\n",
    "x_metric = \"error\"\n",
    "metrics_of_interest = [\n",
    "    'trace_normalized_by_rank',                # Trace of QFIM\n",
    "    'trace_normalized_by_rank_dqfim',\n",
    "    'var_all_eigenvalues',\n",
    "   'var_all_eigenvalues_dqfim',  \n",
    "    'spread_metric_mad',\n",
    "    'spread_metric_mad_dqfim', \n",
    "    'spread_metric_variance', \n",
    "    \"spread_metric_variance_dqfim\", \n",
    "    \"d_eff\", \"d_eff_dqfim\"\n",
    "]\n",
    "metrics_of_interest = [\n",
    "    \"entropy\",\"var_all_eigenvalues\", \"var_nonzero_eigenvalues\", \"trace_eigenvalues\",\n",
    "    \"var_nonzero_log\", \"var_nonzero_normalized_by_rank\",\n",
    "    \"trace_normalized_by_rank\",\n",
    "    \"ipr_deff_raw\", \"ipr_deff_norm\",\n",
    "    \"spread_metric_variance\", \"spread_metric_mad\",\n",
    "    \"trace_dqfim\",\"trace_normalized_by_param_count_dqfim\",\n",
    "   \"var_all_eigenvalues_dqfim\",\"var_nonzero_log_dqfim\",\n",
    "    \"var_nonzero_eigenvalues_dqfim\", \"var_all_normalized_by_param_count_dqfim\",\n",
    "    \"var_nonzero_normalized_by_rank_dqfim\", \"ipr_deff_raw_dqfim\",\n",
    "    \"ipr_deff_norm_dqfim\", \"abbas_deff_raw_dqfim\", \"abbas_deff_norm_dqfim\",\n",
    "    \"spread_metric_variance_dqfim\", \"spread_metric_mad_dqfim\",\n",
    "    \"d_eff\", \"d_eff_dqfim\"\n",
    "]\n",
    "pearson_corrs, spearman_corrs = analyze_correlations(\n",
    "    df_merged, x_metric, metrics_of_interest,\n",
    "    corr_threshold=0.1, p_threshold=0.05\n",
    ")"
   ]
  },
  {
   "cell_type": "code",
   "execution_count": 12,
   "metadata": {},
   "outputs": [
    {
     "name": "stdout",
     "output_type": "stream",
     "text": [
      "\n",
      "Pairwise correlations vs. error (Pearson):\n",
      "entropy: r=0.328, p=0.428\n",
      "var_all_eigenvalues: r=0.487, p=0.221\n",
      "var_nonzero_eigenvalues: r=0.490, p=0.217\n",
      "trace_eigenvalues: r=0.331, p=0.423\n",
      "var_nonzero_log: r=0.237, p=0.572\n",
      "var_nonzero_normalized_by_rank: r=0.490, p=0.217\n",
      "trace_normalized_by_rank: r=0.331, p=0.423\n",
      "ipr_deff_raw: r=-0.177, p=0.675\n",
      "ipr_deff_norm: r=-0.177, p=0.675\n",
      "spread_metric_variance: r=-0.186, p=0.659\n",
      "spread_metric_mad: r=-0.296, p=0.476\n",
      "trace_dqfim: r=0.108, p=0.8\n",
      "trace_normalized_by_param_count_dqfim: r=0.108, p=0.8\n",
      "var_all_eigenvalues_dqfim: r=0.176, p=0.676\n",
      "var_nonzero_log_dqfim: r=0.333, p=0.42\n",
      "var_nonzero_eigenvalues_dqfim: r=0.185, p=0.661\n",
      "var_all_normalized_by_param_count_dqfim: r=0.176, p=0.676\n",
      "var_nonzero_normalized_by_rank_dqfim: r=0.185, p=0.661\n",
      "ipr_deff_raw_dqfim: r=-0.578, p=0.133\n",
      "ipr_deff_norm_dqfim: r=-0.578, p=0.133\n",
      "abbas_deff_raw_dqfim: r=-0.087, p=0.838\n",
      "abbas_deff_norm_dqfim: r=-0.510, p=0.197\n",
      "spread_metric_variance_dqfim: r=-0.243, p=0.562\n",
      "spread_metric_mad_dqfim: r=-0.108, p=0.799\n",
      "d_eff: r=-0.326, p=0.431\n",
      "d_eff_dqfim: r=-0.374, p=0.361\n"
     ]
    }
   ],
   "source": [
    "print(f\"\\nPairwise correlations vs. {x_metric} (Pearson):\")\n",
    "for metric, vals in pearson_corrs.items():\n",
    "    # if abs(vals[\"pearson_r\"]) > corr_threshold and vals[\"p_value\"] < p_threshold:\n",
    "    print(f\"{metric}: r={vals['pearson_r']:.3f}, p={vals['p_value']:.3g}\")\n"
   ]
  },
  {
   "cell_type": "code",
   "execution_count": 13,
   "metadata": {},
   "outputs": [
    {
     "data": {
      "image/png": "[encoded data removed]",
      "text/plain": [
       "<Figure size 1000x1000 with 20 Axes>"
      ]
     },
     "metadata": {},
     "output_type": "display_data"
    }
   ],
   "source": [
    "import seaborn as sns\n",
    "import matplotlib.pyplot as plt\n",
    "import pandas as pd\n",
    "# Define the list of columns (metrics) you wish to examine.\n",
    "# Adjust these names if your columns have different names.\n",
    "metrics_to_plot = [\n",
    "    # 'avg_fidelity',         # Averaged fidelity from test results\n",
    "    \"trace_eigenvalues\",\n",
    "    'trace_normalized_by_rank',                # Trace of QFIM\n",
    "    # 'trace_normalized_by_rank_dqfim',\n",
    "    'var_all_eigenvalues',\n",
    "#    'var_all_eigenvalues_dqfim',  \n",
    "   'var_all_normalized_by_rank',\n",
    "#    'var_all_normalized_by_rank_dqfim'\n",
    "    # 'spread_metric_mad',\n",
    "    # 'spread_metric_mad_dqfim', \n",
    "    # 'spread_metric_variance',\n",
    "    # 'spread_metric_variance_dqfim',      \n",
    "     \n",
    "   \n",
    "\n",
    "    # 'ipr_deff_raw_dqfim',  # Effective dimension computed via the paper's formula\n",
    "   \n",
    "]\n",
    "\n",
    "\n",
    "# # 2. Pair Plot\n",
    "sns.pairplot(df_merged[metrics_to_plot])\n",
    "plt.suptitle(\"Pairplot of QFIM Metrics and Fidelity\", y=1.02)\n",
    "plt.show()"
   ]
  },
  {
   "cell_type": "code",
   "execution_count": 14,
   "metadata": {},
   "outputs": [
    {
     "data": {
      "application/vnd.plotly.v1+json": {
       "config": {
        "plotlyServerURL": "https://plot.ly"
       },
       "data": [
        {
         "customdata": [
          [
           "test104"
          ],
          [
           "test122"
          ],
          [
           "test129"
          ],
          [
           "test175"
          ],
          [
           "test18"
          ],
          [
           "test197"
          ],
          [
           "test7"
          ],
          [
           "test79"
          ]
         ],
         "dimensions": [
          {
           "axis": {
            "matches": true
           },
           "label": "error",
           "values": [
            -5.3300042014712385,
            -5.414585229770524,
            -5.51070005712947,
            -5.483841621834328,
            -6.070450022685729,
            -5.730713561831541,
            -6.062832081395495,
            -6.0312196475872275
           ]
          },
          {
           "axis": {
            "matches": true
           },
           "label": "trace_normalized_by_rank",
           "values": [
            5.227453601890253,
            5.464169324667697,
            1.3198327437108068,
            1.6568440768684014,
            1.572443571441545,
            5.375373491297736,
            2.7600320472369577,
            3.5275182281618376
           ]
          },
          {
           "axis": {
            "matches": true
           },
           "label": "var_all_normalized_by_rank",
           "values": [
            9.064317336211165,
            9.849189892654497,
            0.22231943044808994,
            0.24135439218276963,
            0.2543843056820188,
            9.071372852902591,
            1.576695765965766,
            2.290821758018865
           ]
          }
         ],
         "hovertemplate": "%{xaxis.title.text}=%{x}<br>%{yaxis.title.text}=%{y}<br>test_key=%{customdata[0]}<br>avg_fidelity=%{marker.color}<extra></extra>",
         "legendgroup": "",
         "marker": {
          "color": [
           0.9922314216626884,
           0.9907408185956496,
           0.9933308284480394,
           0.994884837752299,
           0.9971930633016309,
           0.9953034540362586,
           0.9952535256069079,
           0.996252251751077
          ],
          "coloraxis": "coloraxis",
          "symbol": "circle"
         },
         "name": "",
         "showlegend": false,
         "type": "splom"
        }
       ],
       "layout": {
        "coloraxis": {
         "colorbar": {
          "title": {
           "text": "avg_fidelity"
          }
         },
         "colorscale": [
          [
           0,
           "#0d0887"
          ],
          [
           0.1111111111111111,
           "#46039f"
          ],
          [
           0.2222222222222222,
           "#7201a8"
          ],
          [
           0.3333333333333333,
           "#9c179e"
          ],
          [
           0.4444444444444444,
           "#bd3786"
          ],
          [
           0.5555555555555556,
           "#d8576b"
          ],
          [
           0.6666666666666666,
           "#ed7953"
          ],
          [
           0.7777777777777778,
           "#fb9f3a"
          ],
          [
           0.8888888888888888,
           "#fdca26"
          ],
          [
           1,
           "#f0f921"
          ]
         ]
        },
        "dragmode": "select",
        "height": 1000,
        "legend": {
         "tracegroupgap": 0
        },
        "template": {
         "data": {
          "bar": [
           {
            "error_x": {
             "color": "#2a3f5f"
            },
            "error_y": {
             "color": "#2a3f5f"
            },
            "marker": {
             "line": {
              "color": "#E5ECF6",
              "width": 0.5
             },
             "pattern": {
              "fillmode": "overlay",
              "size": 10,
              "solidity": 0.2
             }
            },
            "type": "bar"
           }
          ],
          "barpolar": [
           {
            "marker": {
             "line": {
              "color": "#E5ECF6",
              "width": 0.5
             },
             "pattern": {
              "fillmode": "overlay",
              "size": 10,
              "solidity": 0.2
             }
            },
            "type": "barpolar"
           }
          ],
          "carpet": [
           {
            "aaxis": {
             "endlinecolor": "#2a3f5f",
             "gridcolor": "white",
             "linecolor": "white",
             "minorgridcolor": "white",
             "startlinecolor": "#2a3f5f"
            },
            "baxis": {
             "endlinecolor": "#2a3f5f",
             "gridcolor": "white",
             "linecolor": "white",
             "minorgridcolor": "white",
             "startlinecolor": "#2a3f5f"
            },
            "type": "carpet"
           }
          ],
          "choropleth": [
           {
            "colorbar": {
             "outlinewidth": 0,
             "ticks": ""
            },
            "type": "choropleth"
           }
          ],
          "contour": [
           {
            "colorbar": {
             "outlinewidth": 0,
             "ticks": ""
            },
            "colorscale": [
             [
              0,
              "#0d0887"
             ],
             [
              0.1111111111111111,
              "#46039f"
             ],
             [
              0.2222222222222222,
              "#7201a8"
             ],
             [
              0.3333333333333333,
              "#9c179e"
             ],
             [
              0.4444444444444444,
              "#bd3786"
             ],
             [
              0.5555555555555556,
              "#d8576b"
             ],
             [
              0.6666666666666666,
              "#ed7953"
             ],
             [
              0.7777777777777778,
              "#fb9f3a"
             ],
             [
              0.8888888888888888,
              "#fdca26"
             ],
             [
              1,
              "#f0f921"
             ]
            ],
            "type": "contour"
           }
          ],
          "contourcarpet": [
           {
            "colorbar": {
             "outlinewidth": 0,
             "ticks": ""
            },
            "type": "contourcarpet"
           }
          ],
          "heatmap": [
           {
            "colorbar": {
             "outlinewidth": 0,
             "ticks": ""
            },
            "colorscale": [
             [
              0,
              "#0d0887"
             ],
             [
              0.1111111111111111,
              "#46039f"
             ],
             [
              0.2222222222222222,
              "#7201a8"
             ],
             [
              0.3333333333333333,
              "#9c179e"
             ],
             [
              0.4444444444444444,
              "#bd3786"
             ],
             [
              0.5555555555555556,
              "#d8576b"
             ],
             [
              0.6666666666666666,
              "#ed7953"
             ],
             [
              0.7777777777777778,
              "#fb9f3a"
             ],
             [
              0.8888888888888888,
              "#fdca26"
             ],
             [
              1,
              "#f0f921"
             ]
            ],
            "type": "heatmap"
           }
          ],
          "heatmapgl": [
           {
            "colorbar": {
             "outlinewidth": 0,
             "ticks": ""
            },
            "colorscale": [
             [
              0,
              "#0d0887"
             ],
             [
              0.1111111111111111,
              "#46039f"
             ],
             [
              0.2222222222222222,
              "#7201a8"
             ],
             [
              0.3333333333333333,
              "#9c179e"
             ],
             [
              0.4444444444444444,
              "#bd3786"
             ],
             [
              0.5555555555555556,
              "#d8576b"
             ],
             [
              0.6666666666666666,
              "#ed7953"
             ],
             [
              0.7777777777777778,
              "#fb9f3a"
             ],
             [
              0.8888888888888888,
              "#fdca26"
             ],
             [
              1,
              "#f0f921"
             ]
            ],
            "type": "heatmapgl"
           }
          ],
          "histogram": [
           {
            "marker": {
             "pattern": {
              "fillmode": "overlay",
              "size": 10,
              "solidity": 0.2
             }
            },
            "type": "histogram"
           }
          ],
          "histogram2d": [
           {
            "colorbar": {
             "outlinewidth": 0,
             "ticks": ""
            },
            "colorscale": [
             [
              0,
              "#0d0887"
             ],
             [
              0.1111111111111111,
              "#46039f"
             ],
             [
              0.2222222222222222,
              "#7201a8"
             ],
             [
              0.3333333333333333,
              "#9c179e"
             ],
             [
              0.4444444444444444,
              "#bd3786"
             ],
             [
              0.5555555555555556,
              "#d8576b"
             ],
             [
              0.6666666666666666,
              "#ed7953"
             ],
             [
              0.7777777777777778,
              "#fb9f3a"
             ],
             [
              0.8888888888888888,
              "#fdca26"
             ],
             [
              1,
              "#f0f921"
             ]
            ],
            "type": "histogram2d"
           }
          ],
          "histogram2dcontour": [
           {
            "colorbar": {
             "outlinewidth": 0,
             "ticks": ""
            },
            "colorscale": [
             [
              0,
              "#0d0887"
             ],
             [
              0.1111111111111111,
              "#46039f"
             ],
             [
              0.2222222222222222,
              "#7201a8"
             ],
             [
              0.3333333333333333,
              "#9c179e"
             ],
             [
              0.4444444444444444,
              "#bd3786"
             ],
             [
              0.5555555555555556,
              "#d8576b"
             ],
             [
              0.6666666666666666,
              "#ed7953"
             ],
             [
              0.7777777777777778,
              "#fb9f3a"
             ],
             [
              0.8888888888888888,
              "#fdca26"
             ],
             [
              1,
              "#f0f921"
             ]
            ],
            "type": "histogram2dcontour"
           }
          ],
          "mesh3d": [
           {
            "colorbar": {
             "outlinewidth": 0,
             "ticks": ""
            },
            "type": "mesh3d"
           }
          ],
          "parcoords": [
           {
            "line": {
             "colorbar": {
              "outlinewidth": 0,
              "ticks": ""
             }
            },
            "type": "parcoords"
           }
          ],
          "pie": [
           {
            "automargin": true,
            "type": "pie"
           }
          ],
          "scatter": [
           {
            "fillpattern": {
             "fillmode": "overlay",
             "size": 10,
             "solidity": 0.2
            },
            "type": "scatter"
           }
          ],
          "scatter3d": [
           {
            "line": {
             "colorbar": {
              "outlinewidth": 0,
              "ticks": ""
             }
            },
            "marker": {
             "colorbar": {
              "outlinewidth": 0,
              "ticks": ""
             }
            },
            "type": "scatter3d"
           }
          ],
          "scattercarpet": [
           {
            "marker": {
             "colorbar": {
              "outlinewidth": 0,
              "ticks": ""
             }
            },
            "type": "scattercarpet"
           }
          ],
          "scattergeo": [
           {
            "marker": {
             "colorbar": {
              "outlinewidth": 0,
              "ticks": ""
             }
            },
            "type": "scattergeo"
           }
          ],
          "scattergl": [
           {
            "marker": {
             "colorbar": {
              "outlinewidth": 0,
              "ticks": ""
             }
            },
            "type": "scattergl"
           }
          ],
          "scattermapbox": [
           {
            "marker": {
             "colorbar": {
              "outlinewidth": 0,
              "ticks": ""
             }
            },
            "type": "scattermapbox"
           }
          ],
          "scatterpolar": [
           {
            "marker": {
             "colorbar": {
              "outlinewidth": 0,
              "ticks": ""
             }
            },
            "type": "scatterpolar"
           }
          ],
          "scatterpolargl": [
           {
            "marker": {
             "colorbar": {
              "outlinewidth": 0,
              "ticks": ""
             }
            },
            "type": "scatterpolargl"
           }
          ],
          "scatterternary": [
           {
            "marker": {
             "colorbar": {
              "outlinewidth": 0,
              "ticks": ""
             }
            },
            "type": "scatterternary"
           }
          ],
          "surface": [
           {
            "colorbar": {
             "outlinewidth": 0,
             "ticks": ""
            },
            "colorscale": [
             [
              0,
              "#0d0887"
             ],
             [
              0.1111111111111111,
              "#46039f"
             ],
             [
              0.2222222222222222,
              "#7201a8"
             ],
             [
              0.3333333333333333,
              "#9c179e"
             ],
             [
              0.4444444444444444,
              "#bd3786"
             ],
             [
              0.5555555555555556,
              "#d8576b"
             ],
             [
              0.6666666666666666,
              "#ed7953"
             ],
             [
              0.7777777777777778,
              "#fb9f3a"
             ],
             [
              0.8888888888888888,
              "#fdca26"
             ],
             [
              1,
              "#f0f921"
             ]
            ],
            "type": "surface"
           }
          ],
          "table": [
           {
            "cells": {
             "fill": {
              "color": "#EBF0F8"
             },
             "line": {
              "color": "white"
             }
            },
            "header": {
             "fill": {
              "color": "#C8D4E3"
             },
             "line": {
              "color": "white"
             }
            },
            "type": "table"
           }
          ]
         },
         "layout": {
          "annotationdefaults": {
           "arrowcolor": "#2a3f5f",
           "arrowhead": 0,
           "arrowwidth": 1
          },
          "autotypenumbers": "strict",
          "coloraxis": {
           "colorbar": {
            "outlinewidth": 0,
            "ticks": ""
           }
          },
          "colorscale": {
           "diverging": [
            [
             0,
             "#8e0152"
            ],
            [
             0.1,
             "#c51b7d"
            ],
            [
             0.2,
             "#de77ae"
            ],
            [
             0.3,
             "#f1b6da"
            ],
            [
             0.4,
             "#fde0ef"
            ],
            [
             0.5,
             "#f7f7f7"
            ],
            [
             0.6,
             "#e6f5d0"
            ],
            [
             0.7,
             "#b8e186"
            ],
            [
             0.8,
             "#7fbc41"
            ],
            [
             0.9,
             "#4d9221"
            ],
            [
             1,
             "#276419"
            ]
           ],
           "sequential": [
            [
             0,
             "#0d0887"
            ],
            [
             0.1111111111111111,
             "#46039f"
            ],
            [
             0.2222222222222222,
             "#7201a8"
            ],
            [
             0.3333333333333333,
             "#9c179e"
            ],
            [
             0.4444444444444444,
             "#bd3786"
            ],
            [
             0.5555555555555556,
             "#d8576b"
            ],
            [
             0.6666666666666666,
             "#ed7953"
            ],
            [
             0.7777777777777778,
             "#fb9f3a"
            ],
            [
             0.8888888888888888,
             "#fdca26"
            ],
            [
             1,
             "#f0f921"
            ]
           ],
           "sequentialminus": [
            [
             0,
             "#0d0887"
            ],
            [
             0.1111111111111111,
             "#46039f"
            ],
            [
             0.2222222222222222,
             "#7201a8"
            ],
            [
             0.3333333333333333,
             "#9c179e"
            ],
            [
             0.4444444444444444,
             "#bd3786"
            ],
            [
             0.5555555555555556,
             "#d8576b"
            ],
            [
             0.6666666666666666,
             "#ed7953"
            ],
            [
             0.7777777777777778,
             "#fb9f3a"
            ],
            [
             0.8888888888888888,
             "#fdca26"
            ],
            [
             1,
             "#f0f921"
            ]
           ]
          },
          "colorway": [
           "#636efa",
           "#EF553B",
           "#00cc96",
           "#ab63fa",
           "#FFA15A",
           "#19d3f3",
           "#FF6692",
           "#B6E880",
           "#FF97FF",
           "#FECB52"
          ],
          "font": {
           "color": "#2a3f5f"
          },
          "geo": {
           "bgcolor": "white",
           "lakecolor": "white",
           "landcolor": "#E5ECF6",
           "showlakes": true,
           "showland": true,
           "subunitcolor": "white"
          },
          "hoverlabel": {
           "align": "left"
          },
          "hovermode": "closest",
          "mapbox": {
           "style": "light"
          },
          "paper_bgcolor": "white",
          "plot_bgcolor": "#E5ECF6",
          "polar": {
           "angularaxis": {
            "gridcolor": "white",
            "linecolor": "white",
            "ticks": ""
           },
           "bgcolor": "#E5ECF6",
           "radialaxis": {
            "gridcolor": "white",
            "linecolor": "white",
            "ticks": ""
           }
          },
          "scene": {
           "xaxis": {
            "backgroundcolor": "#E5ECF6",
            "gridcolor": "white",
            "gridwidth": 2,
            "linecolor": "white",
            "showbackground": true,
            "ticks": "",
            "zerolinecolor": "white"
           },
           "yaxis": {
            "backgroundcolor": "#E5ECF6",
            "gridcolor": "white",
            "gridwidth": 2,
            "linecolor": "white",
            "showbackground": true,
            "ticks": "",
            "zerolinecolor": "white"
           },
           "zaxis": {
            "backgroundcolor": "#E5ECF6",
            "gridcolor": "white",
            "gridwidth": 2,
            "linecolor": "white",
            "showbackground": true,
            "ticks": "",
            "zerolinecolor": "white"
           }
          },
          "shapedefaults": {
           "line": {
            "color": "#2a3f5f"
           }
          },
          "ternary": {
           "aaxis": {
            "gridcolor": "white",
            "linecolor": "white",
            "ticks": ""
           },
           "baxis": {
            "gridcolor": "white",
            "linecolor": "white",
            "ticks": ""
           },
           "bgcolor": "#E5ECF6",
           "caxis": {
            "gridcolor": "white",
            "linecolor": "white",
            "ticks": ""
           }
          },
          "title": {
           "x": 0.05
          },
          "xaxis": {
           "automargin": true,
           "gridcolor": "white",
           "linecolor": "white",
           "ticks": "",
           "title": {
            "standoff": 15
           },
           "zerolinecolor": "white",
           "zerolinewidth": 2
          },
          "yaxis": {
           "automargin": true,
           "gridcolor": "white",
           "linecolor": "white",
           "ticks": "",
           "title": {
            "standoff": 15
           },
           "zerolinecolor": "white",
           "zerolinewidth": 2
          }
         }
        },
        "title": {
         "text": "Scatter Matrix of Predictors with Fidelity as Color"
        },
        "width": 1000
       }
      }
     },
     "metadata": {},
     "output_type": "display_data"
    }
   ],
   "source": [
    "import plotly.express as px\n",
    "predictor_metrics = [\n",
    " \n",
    "    'error',\n",
    "    'trace_normalized_by_rank',                # Trace of QFIM\n",
    "    # 'trace_normalized_by_rank_dqfim',\n",
    "    'var_all_normalized_by_rank',\n",
    "#    'var_all_eigenvalues_dqfim',  \n",
    "    # 'spread_metric_mad',\n",
    "    # 'spread_metric_mad_dqfim', \n",
    "    # 'spread_metric_variance', \n",
    "    # \"spread_metric_variance_dqfim\", \n",
    "    # \"d_eff\", \"d_eff_dqfim\"\n",
    "\n",
    "]\n",
    "metrics_to_visualize = [\n",
    "    \"test_key\",\n",
    "    'avg_fidelity',\n",
    "    \n",
    "]\n",
    "metrics_to_visualize.extend(predictor_metrics)\n",
    "df_viz = df_merged[metrics_to_visualize].dropna()\n",
    "\n",
    "fig = px.scatter_matrix(\n",
    "    df_viz,\n",
    "    dimensions=predictor_metrics,\n",
    "    color=\"avg_fidelity\",        # Use fidelity as the color dimension\n",
    "    hover_data=[\"test_key\"],      # Show test_key on hover\n",
    "    title=\"Scatter Matrix of Predictors with Fidelity as Color\"\n",
    ")\n",
    "fig.update_layout(width=1000, height=1000)\n",
    "fig.show()"
   ]
  },
  {
   "cell_type": "code",
   "execution_count": null,
   "metadata": {},
   "outputs": [],
   "source": []
  },
  {
   "cell_type": "code",
   "execution_count": 31,
   "metadata": {},
   "outputs": [
    {
     "data": {
      "application/vnd.plotly.v1+json": {
       "config": {
        "plotlyServerURL": "https://plot.ly"
       },
       "data": [
        {
         "customdata": [
          [
           "test0"
          ],
          [
           "test1"
          ],
          [
           "test100"
          ],
          [
           "test109"
          ],
          [
           "test110"
          ],
          [
           "test146"
          ],
          [
           "test152"
          ],
          [
           "test160"
          ],
          [
           "test189"
          ],
          [
           "test192"
          ],
          [
           "test195"
          ],
          [
           "test198"
          ],
          [
           "test199"
          ],
          [
           "test26"
          ],
          [
           "test43"
          ],
          [
           "test62"
          ],
          [
           "test64"
          ],
          [
           "test8"
          ],
          [
           "test80"
          ],
          [
           "test96"
          ]
         ],
         "dimensions": [
          {
           "axis": {
            "matches": true
           },
           "label": "error",
           "values": [
            -3.815638471520879,
            -4.10710709469426,
            -3.997551690061115,
            -3.9974267651357547,
            -3.950189165560304,
            -4.296283834814207,
            -3.999768952664097,
            -3.825230210214769,
            -4.597098550030021,
            -3.70573140787898,
            -3.78952025502139,
            -4.155787365470228,
            -4.254970359520625,
            -4.041287380541516,
            -4.441191689664767,
            -4.154951863168347,
            -4.192751901982245,
            -4.448110913155101,
            -4.055572560615993,
            -4.086187310118112
           ]
          },
          {
           "axis": {
            "matches": true
           },
           "label": "trace_normalized_by_rank_dqfim",
           "values": [
            0.5583202708667765,
            0.4821664999384666,
            0.453150714772346,
            0.24607410308284064,
            0.5719703325373605,
            0.49781996096329145,
            0.25342173864288875,
            0.31747917480145893,
            0.29857348136526224,
            0.41827552059354883,
            0.8225059212185443,
            0.9208426373855522,
            0.7016436606626182,
            0.5372734842317489,
            0.3488913186437761,
            0.35847309600406635,
            0.7034405959459643,
            1.0953556992889693,
            0.5254021312614593,
            0.8203058042718718
           ]
          },
          {
           "axis": {
            "matches": true
           },
           "label": "var_all_normalized_by_rank_dqfim",
           "values": [
            0.07897770586559155,
            0.04217134193294509,
            0.05243328905894488,
            0.007375466988840165,
            0.06522470662642485,
            0.05865368369542103,
            0.008521486738138292,
            0.017374226966654097,
            0.011670852083377434,
            0.023541270375857196,
            0.13165633985418046,
            0.29115769027887534,
            0.1379128667970288,
            0.07040064885334447,
            0.01681552315004026,
            0.01781988916022794,
            0.13413949105427825,
            0.41926043049459705,
            0.07587431254840922,
            0.22182412453565173
           ]
          }
         ],
         "hovertemplate": "%{xaxis.title.text}=%{x}<br>%{yaxis.title.text}=%{y}<br>test_key=%{customdata[0]}<br>avg_fidelity=%{marker.color}<extra></extra>",
         "legendgroup": "",
         "marker": {
          "color": [
           0.9711588305389934,
           0.9816096742254196,
           0.9790599813821766,
           0.978912330756439,
           0.9749344864860535,
           0.9835448892668092,
           0.9783600197006561,
           0.9733344020530065,
           0.984255117273402,
           0.9701533041364601,
           0.9747782851986024,
           0.981923963104491,
           0.9813354969227569,
           0.9798014638790614,
           0.9853591932919258,
           0.9817677887735781,
           0.9824638430457928,
           0.9794759274154868,
           0.9780637012185708,
           0.9802325993475459
          ],
          "coloraxis": "coloraxis",
          "symbol": "circle"
         },
         "name": "",
         "showlegend": false,
         "type": "splom"
        }
       ],
       "layout": {
        "coloraxis": {
         "colorbar": {
          "title": {
           "text": "avg_fidelity"
          }
         },
         "colorscale": [
          [
           0,
           "#0d0887"
          ],
          [
           0.1111111111111111,
           "#46039f"
          ],
          [
           0.2222222222222222,
           "#7201a8"
          ],
          [
           0.3333333333333333,
           "#9c179e"
          ],
          [
           0.4444444444444444,
           "#bd3786"
          ],
          [
           0.5555555555555556,
           "#d8576b"
          ],
          [
           0.6666666666666666,
           "#ed7953"
          ],
          [
           0.7777777777777778,
           "#fb9f3a"
          ],
          [
           0.8888888888888888,
           "#fdca26"
          ],
          [
           1,
           "#f0f921"
          ]
         ]
        },
        "dragmode": "select",
        "height": 1000,
        "legend": {
         "tracegroupgap": 0
        },
        "template": {
         "data": {
          "bar": [
           {
            "error_x": {
             "color": "#2a3f5f"
            },
            "error_y": {
             "color": "#2a3f5f"
            },
            "marker": {
             "line": {
              "color": "#E5ECF6",
              "width": 0.5
             },
             "pattern": {
              "fillmode": "overlay",
              "size": 10,
              "solidity": 0.2
             }
            },
            "type": "bar"
           }
          ],
          "barpolar": [
           {
            "marker": {
             "line": {
              "color": "#E5ECF6",
              "width": 0.5
             },
             "pattern": {
              "fillmode": "overlay",
              "size": 10,
              "solidity": 0.2
             }
            },
            "type": "barpolar"
           }
          ],
          "carpet": [
           {
            "aaxis": {
             "endlinecolor": "#2a3f5f",
             "gridcolor": "white",
             "linecolor": "white",
             "minorgridcolor": "white",
             "startlinecolor": "#2a3f5f"
            },
            "baxis": {
             "endlinecolor": "#2a3f5f",
             "gridcolor": "white",
             "linecolor": "white",
             "minorgridcolor": "white",
             "startlinecolor": "#2a3f5f"
            },
            "type": "carpet"
           }
          ],
          "choropleth": [
           {
            "colorbar": {
             "outlinewidth": 0,
             "ticks": ""
            },
            "type": "choropleth"
           }
          ],
          "contour": [
           {
            "colorbar": {
             "outlinewidth": 0,
             "ticks": ""
            },
            "colorscale": [
             [
              0,
              "#0d0887"
             ],
             [
              0.1111111111111111,
              "#46039f"
             ],
             [
              0.2222222222222222,
              "#7201a8"
             ],
             [
              0.3333333333333333,
              "#9c179e"
             ],
             [
              0.4444444444444444,
              "#bd3786"
             ],
             [
              0.5555555555555556,
              "#d8576b"
             ],
             [
              0.6666666666666666,
              "#ed7953"
             ],
             [
              0.7777777777777778,
              "#fb9f3a"
             ],
             [
              0.8888888888888888,
              "#fdca26"
             ],
             [
              1,
              "#f0f921"
             ]
            ],
            "type": "contour"
           }
          ],
          "contourcarpet": [
           {
            "colorbar": {
             "outlinewidth": 0,
             "ticks": ""
            },
            "type": "contourcarpet"
           }
          ],
          "heatmap": [
           {
            "colorbar": {
             "outlinewidth": 0,
             "ticks": ""
            },
            "colorscale": [
             [
              0,
              "#0d0887"
             ],
             [
              0.1111111111111111,
              "#46039f"
             ],
             [
              0.2222222222222222,
              "#7201a8"
             ],
             [
              0.3333333333333333,
              "#9c179e"
             ],
             [
              0.4444444444444444,
              "#bd3786"
             ],
             [
              0.5555555555555556,
              "#d8576b"
             ],
             [
              0.6666666666666666,
              "#ed7953"
             ],
             [
              0.7777777777777778,
              "#fb9f3a"
             ],
             [
              0.8888888888888888,
              "#fdca26"
             ],
             [
              1,
              "#f0f921"
             ]
            ],
            "type": "heatmap"
           }
          ],
          "heatmapgl": [
           {
            "colorbar": {
             "outlinewidth": 0,
             "ticks": ""
            },
            "colorscale": [
             [
              0,
              "#0d0887"
             ],
             [
              0.1111111111111111,
              "#46039f"
             ],
             [
              0.2222222222222222,
              "#7201a8"
             ],
             [
              0.3333333333333333,
              "#9c179e"
             ],
             [
              0.4444444444444444,
              "#bd3786"
             ],
             [
              0.5555555555555556,
              "#d8576b"
             ],
             [
              0.6666666666666666,
              "#ed7953"
             ],
             [
              0.7777777777777778,
              "#fb9f3a"
             ],
             [
              0.8888888888888888,
              "#fdca26"
             ],
             [
              1,
              "#f0f921"
             ]
            ],
            "type": "heatmapgl"
           }
          ],
          "histogram": [
           {
            "marker": {
             "pattern": {
              "fillmode": "overlay",
              "size": 10,
              "solidity": 0.2
             }
            },
            "type": "histogram"
           }
          ],
          "histogram2d": [
           {
            "colorbar": {
             "outlinewidth": 0,
             "ticks": ""
            },
            "colorscale": [
             [
              0,
              "#0d0887"
             ],
             [
              0.1111111111111111,
              "#46039f"
             ],
             [
              0.2222222222222222,
              "#7201a8"
             ],
             [
              0.3333333333333333,
              "#9c179e"
             ],
             [
              0.4444444444444444,
              "#bd3786"
             ],
             [
              0.5555555555555556,
              "#d8576b"
             ],
             [
              0.6666666666666666,
              "#ed7953"
             ],
             [
              0.7777777777777778,
              "#fb9f3a"
             ],
             [
              0.8888888888888888,
              "#fdca26"
             ],
             [
              1,
              "#f0f921"
             ]
            ],
            "type": "histogram2d"
           }
          ],
          "histogram2dcontour": [
           {
            "colorbar": {
             "outlinewidth": 0,
             "ticks": ""
            },
            "colorscale": [
             [
              0,
              "#0d0887"
             ],
             [
              0.1111111111111111,
              "#46039f"
             ],
             [
              0.2222222222222222,
              "#7201a8"
             ],
             [
              0.3333333333333333,
              "#9c179e"
             ],
             [
              0.4444444444444444,
              "#bd3786"
             ],
             [
              0.5555555555555556,
              "#d8576b"
             ],
             [
              0.6666666666666666,
              "#ed7953"
             ],
             [
              0.7777777777777778,
              "#fb9f3a"
             ],
             [
              0.8888888888888888,
              "#fdca26"
             ],
             [
              1,
              "#f0f921"
             ]
            ],
            "type": "histogram2dcontour"
           }
          ],
          "mesh3d": [
           {
            "colorbar": {
             "outlinewidth": 0,
             "ticks": ""
            },
            "type": "mesh3d"
           }
          ],
          "parcoords": [
           {
            "line": {
             "colorbar": {
              "outlinewidth": 0,
              "ticks": ""
             }
            },
            "type": "parcoords"
           }
          ],
          "pie": [
           {
            "automargin": true,
            "type": "pie"
           }
          ],
          "scatter": [
           {
            "fillpattern": {
             "fillmode": "overlay",
             "size": 10,
             "solidity": 0.2
            },
            "type": "scatter"
           }
          ],
          "scatter3d": [
           {
            "line": {
             "colorbar": {
              "outlinewidth": 0,
              "ticks": ""
             }
            },
            "marker": {
             "colorbar": {
              "outlinewidth": 0,
              "ticks": ""
             }
            },
            "type": "scatter3d"
           }
          ],
          "scattercarpet": [
           {
            "marker": {
             "colorbar": {
              "outlinewidth": 0,
              "ticks": ""
             }
            },
            "type": "scattercarpet"
           }
          ],
          "scattergeo": [
           {
            "marker": {
             "colorbar": {
              "outlinewidth": 0,
              "ticks": ""
             }
            },
            "type": "scattergeo"
           }
          ],
          "scattergl": [
           {
            "marker": {
             "colorbar": {
              "outlinewidth": 0,
              "ticks": ""
             }
            },
            "type": "scattergl"
           }
          ],
          "scattermapbox": [
           {
            "marker": {
             "colorbar": {
              "outlinewidth": 0,
              "ticks": ""
             }
            },
            "type": "scattermapbox"
           }
          ],
          "scatterpolar": [
           {
            "marker": {
             "colorbar": {
              "outlinewidth": 0,
              "ticks": ""
             }
            },
            "type": "scatterpolar"
           }
          ],
          "scatterpolargl": [
           {
            "marker": {
             "colorbar": {
              "outlinewidth": 0,
              "ticks": ""
             }
            },
            "type": "scatterpolargl"
           }
          ],
          "scatterternary": [
           {
            "marker": {
             "colorbar": {
              "outlinewidth": 0,
              "ticks": ""
             }
            },
            "type": "scatterternary"
           }
          ],
          "surface": [
           {
            "colorbar": {
             "outlinewidth": 0,
             "ticks": ""
            },
            "colorscale": [
             [
              0,
              "#0d0887"
             ],
             [
              0.1111111111111111,
              "#46039f"
             ],
             [
              0.2222222222222222,
              "#7201a8"
             ],
             [
              0.3333333333333333,
              "#9c179e"
             ],
             [
              0.4444444444444444,
              "#bd3786"
             ],
             [
              0.5555555555555556,
              "#d8576b"
             ],
             [
              0.6666666666666666,
              "#ed7953"
             ],
             [
              0.7777777777777778,
              "#fb9f3a"
             ],
             [
              0.8888888888888888,
              "#fdca26"
             ],
             [
              1,
              "#f0f921"
             ]
            ],
            "type": "surface"
           }
          ],
          "table": [
           {
            "cells": {
             "fill": {
              "color": "#EBF0F8"
             },
             "line": {
              "color": "white"
             }
            },
            "header": {
             "fill": {
              "color": "#C8D4E3"
             },
             "line": {
              "color": "white"
             }
            },
            "type": "table"
           }
          ]
         },
         "layout": {
          "annotationdefaults": {
           "arrowcolor": "#2a3f5f",
           "arrowhead": 0,
           "arrowwidth": 1
          },
          "autotypenumbers": "strict",
          "coloraxis": {
           "colorbar": {
            "outlinewidth": 0,
            "ticks": ""
           }
          },
          "colorscale": {
           "diverging": [
            [
             0,
             "#8e0152"
            ],
            [
             0.1,
             "#c51b7d"
            ],
            [
             0.2,
             "#de77ae"
            ],
            [
             0.3,
             "#f1b6da"
            ],
            [
             0.4,
             "#fde0ef"
            ],
            [
             0.5,
             "#f7f7f7"
            ],
            [
             0.6,
             "#e6f5d0"
            ],
            [
             0.7,
             "#b8e186"
            ],
            [
             0.8,
             "#7fbc41"
            ],
            [
             0.9,
             "#4d9221"
            ],
            [
             1,
             "#276419"
            ]
           ],
           "sequential": [
            [
             0,
             "#0d0887"
            ],
            [
             0.1111111111111111,
             "#46039f"
            ],
            [
             0.2222222222222222,
             "#7201a8"
            ],
            [
             0.3333333333333333,
             "#9c179e"
            ],
            [
             0.4444444444444444,
             "#bd3786"
            ],
            [
             0.5555555555555556,
             "#d8576b"
            ],
            [
             0.6666666666666666,
             "#ed7953"
            ],
            [
             0.7777777777777778,
             "#fb9f3a"
            ],
            [
             0.8888888888888888,
             "#fdca26"
            ],
            [
             1,
             "#f0f921"
            ]
           ],
           "sequentialminus": [
            [
             0,
             "#0d0887"
            ],
            [
             0.1111111111111111,
             "#46039f"
            ],
            [
             0.2222222222222222,
             "#7201a8"
            ],
            [
             0.3333333333333333,
             "#9c179e"
            ],
            [
             0.4444444444444444,
             "#bd3786"
            ],
            [
             0.5555555555555556,
             "#d8576b"
            ],
            [
             0.6666666666666666,
             "#ed7953"
            ],
            [
             0.7777777777777778,
             "#fb9f3a"
            ],
            [
             0.8888888888888888,
             "#fdca26"
            ],
            [
             1,
             "#f0f921"
            ]
           ]
          },
          "colorway": [
           "#636efa",
           "#EF553B",
           "#00cc96",
           "#ab63fa",
           "#FFA15A",
           "#19d3f3",
           "#FF6692",
           "#B6E880",
           "#FF97FF",
           "#FECB52"
          ],
          "font": {
           "color": "#2a3f5f"
          },
          "geo": {
           "bgcolor": "white",
           "lakecolor": "white",
           "landcolor": "#E5ECF6",
           "showlakes": true,
           "showland": true,
           "subunitcolor": "white"
          },
          "hoverlabel": {
           "align": "left"
          },
          "hovermode": "closest",
          "mapbox": {
           "style": "light"
          },
          "paper_bgcolor": "white",
          "plot_bgcolor": "#E5ECF6",
          "polar": {
           "angularaxis": {
            "gridcolor": "white",
            "linecolor": "white",
            "ticks": ""
           },
           "bgcolor": "#E5ECF6",
           "radialaxis": {
            "gridcolor": "white",
            "linecolor": "white",
            "ticks": ""
           }
          },
          "scene": {
           "xaxis": {
            "backgroundcolor": "#E5ECF6",
            "gridcolor": "white",
            "gridwidth": 2,
            "linecolor": "white",
            "showbackground": true,
            "ticks": "",
            "zerolinecolor": "white"
           },
           "yaxis": {
            "backgroundcolor": "#E5ECF6",
            "gridcolor": "white",
            "gridwidth": 2,
            "linecolor": "white",
            "showbackground": true,
            "ticks": "",
            "zerolinecolor": "white"
           },
           "zaxis": {
            "backgroundcolor": "#E5ECF6",
            "gridcolor": "white",
            "gridwidth": 2,
            "linecolor": "white",
            "showbackground": true,
            "ticks": "",
            "zerolinecolor": "white"
           }
          },
          "shapedefaults": {
           "line": {
            "color": "#2a3f5f"
           }
          },
          "ternary": {
           "aaxis": {
            "gridcolor": "white",
            "linecolor": "white",
            "ticks": ""
           },
           "baxis": {
            "gridcolor": "white",
            "linecolor": "white",
            "ticks": ""
           },
           "bgcolor": "#E5ECF6",
           "caxis": {
            "gridcolor": "white",
            "linecolor": "white",
            "ticks": ""
           }
          },
          "title": {
           "x": 0.05
          },
          "xaxis": {
           "automargin": true,
           "gridcolor": "white",
           "linecolor": "white",
           "ticks": "",
           "title": {
            "standoff": 15
           },
           "zerolinecolor": "white",
           "zerolinewidth": 2
          },
          "yaxis": {
           "automargin": true,
           "gridcolor": "white",
           "linecolor": "white",
           "ticks": "",
           "title": {
            "standoff": 15
           },
           "zerolinecolor": "white",
           "zerolinewidth": 2
          }
         }
        },
        "title": {
         "text": "Scatter Matrix of Predictors with Fidelity as Color"
        },
        "width": 1000
       }
      }
     },
     "metadata": {},
     "output_type": "display_data"
    }
   ],
   "source": [
    "predictor_metrics = [\n",
    " \n",
    "    'error',\n",
    "    'trace_normalized_by_rank_dqfim', \n",
    "    'var_all_normalized_by_rank_dqfim',\n",
    "#    'var_all_eigenvalues_dqfim',  \n",
    "    # 'spread_metric_mad',\n",
    "    # 'spread_metric_mad_dqfim', \n",
    "    # 'spread_metric_variance', \n",
    "    # \"spread_metric_variance_dqfim\", \n",
    "    # \"d_eff\", \"d_eff_dqfim\"\n",
    "\n",
    "]\n",
    "metrics_to_visualize = [\n",
    "    \"test_key\",\n",
    "    'avg_fidelity',\n",
    "    \n",
    "]\n",
    "metrics_to_visualize.extend(predictor_metrics)\n",
    "df_viz = df_merged[metrics_to_visualize].dropna()\n",
    "\n",
    "fig = px.scatter_matrix(\n",
    "    df_viz,\n",
    "    dimensions=predictor_metrics,\n",
    "    color=\"avg_fidelity\",        # Use fidelity as the color dimension\n",
    "    hover_data=[\"test_key\"],      # Show test_key on hover\n",
    "    title=\"Scatter Matrix of Predictors with Fidelity as Color\"\n",
    ")\n",
    "fig.update_layout(width=1000, height=1000)\n",
    "fig.show()"
   ]
  },
  {
   "cell_type": "code",
   "execution_count": null,
   "metadata": {},
   "outputs": [
    {
     "data": {
      "application/vnd.plotly.v1+json": {
       "config": {
        "plotlyServerURL": "https://plot.ly"
       },
       "data": [
        {
         "customdata": [
          [
           "test0"
          ],
          [
           "test100"
          ],
          [
           "test112"
          ],
          [
           "test172"
          ],
          [
           "test182"
          ],
          [
           "test190"
          ],
          [
           "test199"
          ],
          [
           "test20"
          ],
          [
           "test34"
          ],
          [
           "test43"
          ],
          [
           "test46"
          ],
          [
           "test49"
          ]
         ],
         "dimensions": [
          {
           "axis": {
            "matches": true
           },
           "label": "error",
           "values": [
            -7.071867590933122,
            -5.6585954132922085,
            -6.293804422690063,
            -6.2846691851674485,
            -5.908944302124466,
            -7.023425399696336,
            -6.233574094657852,
            -6.230848208447703,
            -5.871947759433557,
            -5.997036673457182,
            -6.574581873042177,
            -6.6679912251357365
           ]
          },
          {
           "axis": {
            "matches": true
           },
           "label": "var_nonzero_eigenvalues_dqfim",
           "values": [
            2.208442647007359,
            1.4670138612916042,
            0.4578621838114542,
            2.1714982459400054,
            0.2187943177837609,
            1.9311540425895426,
            3.883293706337682,
            1.9900915169969764,
            1.3664507296820818,
            0.44163980948185644,
            4.028271906551156,
            4.740761875607324
           ]
          },
          {
           "axis": {
            "matches": true
           },
           "label": "abbas_deff_norm_dqfim",
           "values": [
            2.0617220897556248,
            2.0455850017690387,
            2.3721905838255712,
            2.1162130054195973,
            2.476440045028645,
            2.003386868768592,
            1.9969828874143434,
            2.072310685840678,
            2.1791457365875804,
            2.408644440029838,
            1.8890128762261216,
            2.1682245029958773
           ]
          },
          {
           "axis": {
            "matches": true
           },
           "label": "abbas_deff_raw_dqfim",
           "values": [
            7.627700439674657,
            6.557681392825421,
            7.150685699257009,
            8.008115118942115,
            6.6232817741751795,
            6.821786721274161,
            8.317086483504967,
            7.722955133923068,
            7.783301354596464,
            7.453897764824342,
            7.2998849685986205,
            9.859758398167616
           ]
          }
         ],
         "hovertemplate": "%{xaxis.title.text}=%{x}<br>%{yaxis.title.text}=%{y}<br>test_key=%{customdata[0]}<br>avg_fidelity=%{marker.color}<extra></extra>",
         "legendgroup": "",
         "marker": {
          "color": [
           0.997253034179552,
           0.9950256363810162,
           0.9927418670772202,
           0.9932183170101424,
           0.9948754739220368,
           0.9980499430776255,
           0.9956392609818177,
           0.9939849256435842,
           0.9928823500604,
           0.9933726690941654,
           0.9968490312706922,
           0.9972242493178328
          ],
          "coloraxis": "coloraxis",
          "symbol": "circle"
         },
         "name": "",
         "showlegend": false,
         "type": "splom"
        }
       ],
       "layout": {
        "coloraxis": {
         "colorbar": {
          "title": {
           "text": "avg_fidelity"
          }
         },
         "colorscale": [
          [
           0,
           "#0d0887"
          ],
          [
           0.1111111111111111,
           "#46039f"
          ],
          [
           0.2222222222222222,
           "#7201a8"
          ],
          [
           0.3333333333333333,
           "#9c179e"
          ],
          [
           0.4444444444444444,
           "#bd3786"
          ],
          [
           0.5555555555555556,
           "#d8576b"
          ],
          [
           0.6666666666666666,
           "#ed7953"
          ],
          [
           0.7777777777777778,
           "#fb9f3a"
          ],
          [
           0.8888888888888888,
           "#fdca26"
          ],
          [
           1,
           "#f0f921"
          ]
         ]
        },
        "dragmode": "select",
        "height": 1000,
        "legend": {
         "tracegroupgap": 0
        },
        "template": {
         "data": {
          "bar": [
           {
            "error_x": {
             "color": "#2a3f5f"
            },
            "error_y": {
             "color": "#2a3f5f"
            },
            "marker": {
             "line": {
              "color": "#E5ECF6",
              "width": 0.5
             },
             "pattern": {
              "fillmode": "overlay",
              "size": 10,
              "solidity": 0.2
             }
            },
            "type": "bar"
           }
          ],
          "barpolar": [
           {
            "marker": {
             "line": {
              "color": "#E5ECF6",
              "width": 0.5
             },
             "pattern": {
              "fillmode": "overlay",
              "size": 10,
              "solidity": 0.2
             }
            },
            "type": "barpolar"
           }
          ],
          "carpet": [
           {
            "aaxis": {
             "endlinecolor": "#2a3f5f",
             "gridcolor": "white",
             "linecolor": "white",
             "minorgridcolor": "white",
             "startlinecolor": "#2a3f5f"
            },
            "baxis": {
             "endlinecolor": "#2a3f5f",
             "gridcolor": "white",
             "linecolor": "white",
             "minorgridcolor": "white",
             "startlinecolor": "#2a3f5f"
            },
            "type": "carpet"
           }
          ],
          "choropleth": [
           {
            "colorbar": {
             "outlinewidth": 0,
             "ticks": ""
            },
            "type": "choropleth"
           }
          ],
          "contour": [
           {
            "colorbar": {
             "outlinewidth": 0,
             "ticks": ""
            },
            "colorscale": [
             [
              0,
              "#0d0887"
             ],
             [
              0.1111111111111111,
              "#46039f"
             ],
             [
              0.2222222222222222,
              "#7201a8"
             ],
             [
              0.3333333333333333,
              "#9c179e"
             ],
             [
              0.4444444444444444,
              "#bd3786"
             ],
             [
              0.5555555555555556,
              "#d8576b"
             ],
             [
              0.6666666666666666,
              "#ed7953"
             ],
             [
              0.7777777777777778,
              "#fb9f3a"
             ],
             [
              0.8888888888888888,
              "#fdca26"
             ],
             [
              1,
              "#f0f921"
             ]
            ],
            "type": "contour"
           }
          ],
          "contourcarpet": [
           {
            "colorbar": {
             "outlinewidth": 0,
             "ticks": ""
            },
            "type": "contourcarpet"
           }
          ],
          "heatmap": [
           {
            "colorbar": {
             "outlinewidth": 0,
             "ticks": ""
            },
            "colorscale": [
             [
              0,
              "#0d0887"
             ],
             [
              0.1111111111111111,
              "#46039f"
             ],
             [
              0.2222222222222222,
              "#7201a8"
             ],
             [
              0.3333333333333333,
              "#9c179e"
             ],
             [
              0.4444444444444444,
              "#bd3786"
             ],
             [
              0.5555555555555556,
              "#d8576b"
             ],
             [
              0.6666666666666666,
              "#ed7953"
             ],
             [
              0.7777777777777778,
              "#fb9f3a"
             ],
             [
              0.8888888888888888,
              "#fdca26"
             ],
             [
              1,
              "#f0f921"
             ]
            ],
            "type": "heatmap"
           }
          ],
          "heatmapgl": [
           {
            "colorbar": {
             "outlinewidth": 0,
             "ticks": ""
            },
            "colorscale": [
             [
              0,
              "#0d0887"
             ],
             [
              0.1111111111111111,
              "#46039f"
             ],
             [
              0.2222222222222222,
              "#7201a8"
             ],
             [
              0.3333333333333333,
              "#9c179e"
             ],
             [
              0.4444444444444444,
              "#bd3786"
             ],
             [
              0.5555555555555556,
              "#d8576b"
             ],
             [
              0.6666666666666666,
              "#ed7953"
             ],
             [
              0.7777777777777778,
              "#fb9f3a"
             ],
             [
              0.8888888888888888,
              "#fdca26"
             ],
             [
              1,
              "#f0f921"
             ]
            ],
            "type": "heatmapgl"
           }
          ],
          "histogram": [
           {
            "marker": {
             "pattern": {
              "fillmode": "overlay",
              "size": 10,
              "solidity": 0.2
             }
            },
            "type": "histogram"
           }
          ],
          "histogram2d": [
           {
            "colorbar": {
             "outlinewidth": 0,
             "ticks": ""
            },
            "colorscale": [
             [
              0,
              "#0d0887"
             ],
             [
              0.1111111111111111,
              "#46039f"
             ],
             [
              0.2222222222222222,
              "#7201a8"
             ],
             [
              0.3333333333333333,
              "#9c179e"
             ],
             [
              0.4444444444444444,
              "#bd3786"
             ],
             [
              0.5555555555555556,
              "#d8576b"
             ],
             [
              0.6666666666666666,
              "#ed7953"
             ],
             [
              0.7777777777777778,
              "#fb9f3a"
             ],
             [
              0.8888888888888888,
              "#fdca26"
             ],
             [
              1,
              "#f0f921"
             ]
            ],
            "type": "histogram2d"
           }
          ],
          "histogram2dcontour": [
           {
            "colorbar": {
             "outlinewidth": 0,
             "ticks": ""
            },
            "colorscale": [
             [
              0,
              "#0d0887"
             ],
             [
              0.1111111111111111,
              "#46039f"
             ],
             [
              0.2222222222222222,
              "#7201a8"
             ],
             [
              0.3333333333333333,
              "#9c179e"
             ],
             [
              0.4444444444444444,
              "#bd3786"
             ],
             [
              0.5555555555555556,
              "#d8576b"
             ],
             [
              0.6666666666666666,
              "#ed7953"
             ],
             [
              0.7777777777777778,
              "#fb9f3a"
             ],
             [
              0.8888888888888888,
              "#fdca26"
             ],
             [
              1,
              "#f0f921"
             ]
            ],
            "type": "histogram2dcontour"
           }
          ],
          "mesh3d": [
           {
            "colorbar": {
             "outlinewidth": 0,
             "ticks": ""
            },
            "type": "mesh3d"
           }
          ],
          "parcoords": [
           {
            "line": {
             "colorbar": {
              "outlinewidth": 0,
              "ticks": ""
             }
            },
            "type": "parcoords"
           }
          ],
          "pie": [
           {
            "automargin": true,
            "type": "pie"
           }
          ],
          "scatter": [
           {
            "fillpattern": {
             "fillmode": "overlay",
             "size": 10,
             "solidity": 0.2
            },
            "type": "scatter"
           }
          ],
          "scatter3d": [
           {
            "line": {
             "colorbar": {
              "outlinewidth": 0,
              "ticks": ""
             }
            },
            "marker": {
             "colorbar": {
              "outlinewidth": 0,
              "ticks": ""
             }
            },
            "type": "scatter3d"
           }
          ],
          "scattercarpet": [
           {
            "marker": {
             "colorbar": {
              "outlinewidth": 0,
              "ticks": ""
             }
            },
            "type": "scattercarpet"
           }
          ],
          "scattergeo": [
           {
            "marker": {
             "colorbar": {
              "outlinewidth": 0,
              "ticks": ""
             }
            },
            "type": "scattergeo"
           }
          ],
          "scattergl": [
           {
            "marker": {
             "colorbar": {
              "outlinewidth": 0,
              "ticks": ""
             }
            },
            "type": "scattergl"
           }
          ],
          "scattermapbox": [
           {
            "marker": {
             "colorbar": {
              "outlinewidth": 0,
              "ticks": ""
             }
            },
            "type": "scattermapbox"
           }
          ],
          "scatterpolar": [
           {
            "marker": {
             "colorbar": {
              "outlinewidth": 0,
              "ticks": ""
             }
            },
            "type": "scatterpolar"
           }
          ],
          "scatterpolargl": [
           {
            "marker": {
             "colorbar": {
              "outlinewidth": 0,
              "ticks": ""
             }
            },
            "type": "scatterpolargl"
           }
          ],
          "scatterternary": [
           {
            "marker": {
             "colorbar": {
              "outlinewidth": 0,
              "ticks": ""
             }
            },
            "type": "scatterternary"
           }
          ],
          "surface": [
           {
            "colorbar": {
             "outlinewidth": 0,
             "ticks": ""
            },
            "colorscale": [
             [
              0,
              "#0d0887"
             ],
             [
              0.1111111111111111,
              "#46039f"
             ],
             [
              0.2222222222222222,
              "#7201a8"
             ],
             [
              0.3333333333333333,
              "#9c179e"
             ],
             [
              0.4444444444444444,
              "#bd3786"
             ],
             [
              0.5555555555555556,
              "#d8576b"
             ],
             [
              0.6666666666666666,
              "#ed7953"
             ],
             [
              0.7777777777777778,
              "#fb9f3a"
             ],
             [
              0.8888888888888888,
              "#fdca26"
             ],
             [
              1,
              "#f0f921"
             ]
            ],
            "type": "surface"
           }
          ],
          "table": [
           {
            "cells": {
             "fill": {
              "color": "#EBF0F8"
             },
             "line": {
              "color": "white"
             }
            },
            "header": {
             "fill": {
              "color": "#C8D4E3"
             },
             "line": {
              "color": "white"
             }
            },
            "type": "table"
           }
          ]
         },
         "layout": {
          "annotationdefaults": {
           "arrowcolor": "#2a3f5f",
           "arrowhead": 0,
           "arrowwidth": 1
          },
          "autotypenumbers": "strict",
          "coloraxis": {
           "colorbar": {
            "outlinewidth": 0,
            "ticks": ""
           }
          },
          "colorscale": {
           "diverging": [
            [
             0,
             "#8e0152"
            ],
            [
             0.1,
             "#c51b7d"
            ],
            [
             0.2,
             "#de77ae"
            ],
            [
             0.3,
             "#f1b6da"
            ],
            [
             0.4,
             "#fde0ef"
            ],
            [
             0.5,
             "#f7f7f7"
            ],
            [
             0.6,
             "#e6f5d0"
            ],
            [
             0.7,
             "#b8e186"
            ],
            [
             0.8,
             "#7fbc41"
            ],
            [
             0.9,
             "#4d9221"
            ],
            [
             1,
             "#276419"
            ]
           ],
           "sequential": [
            [
             0,
             "#0d0887"
            ],
            [
             0.1111111111111111,
             "#46039f"
            ],
            [
             0.2222222222222222,
             "#7201a8"
            ],
            [
             0.3333333333333333,
             "#9c179e"
            ],
            [
             0.4444444444444444,
             "#bd3786"
            ],
            [
             0.5555555555555556,
             "#d8576b"
            ],
            [
             0.6666666666666666,
             "#ed7953"
            ],
            [
             0.7777777777777778,
             "#fb9f3a"
            ],
            [
             0.8888888888888888,
             "#fdca26"
            ],
            [
             1,
             "#f0f921"
            ]
           ],
           "sequentialminus": [
            [
             0,
             "#0d0887"
            ],
            [
             0.1111111111111111,
             "#46039f"
            ],
            [
             0.2222222222222222,
             "#7201a8"
            ],
            [
             0.3333333333333333,
             "#9c179e"
            ],
            [
             0.4444444444444444,
             "#bd3786"
            ],
            [
             0.5555555555555556,
             "#d8576b"
            ],
            [
             0.6666666666666666,
             "#ed7953"
            ],
            [
             0.7777777777777778,
             "#fb9f3a"
            ],
            [
             0.8888888888888888,
             "#fdca26"
            ],
            [
             1,
             "#f0f921"
            ]
           ]
          },
          "colorway": [
           "#636efa",
           "#EF553B",
           "#00cc96",
           "#ab63fa",
           "#FFA15A",
           "#19d3f3",
           "#FF6692",
           "#B6E880",
           "#FF97FF",
           "#FECB52"
          ],
          "font": {
           "color": "#2a3f5f"
          },
          "geo": {
           "bgcolor": "white",
           "lakecolor": "white",
           "landcolor": "#E5ECF6",
           "showlakes": true,
           "showland": true,
           "subunitcolor": "white"
          },
          "hoverlabel": {
           "align": "left"
          },
          "hovermode": "closest",
          "mapbox": {
           "style": "light"
          },
          "paper_bgcolor": "white",
          "plot_bgcolor": "#E5ECF6",
          "polar": {
           "angularaxis": {
            "gridcolor": "white",
            "linecolor": "white",
            "ticks": ""
           },
           "bgcolor": "#E5ECF6",
           "radialaxis": {
            "gridcolor": "white",
            "linecolor": "white",
            "ticks": ""
           }
          },
          "scene": {
           "xaxis": {
            "backgroundcolor": "#E5ECF6",
            "gridcolor": "white",
            "gridwidth": 2,
            "linecolor": "white",
            "showbackground": true,
            "ticks": "",
            "zerolinecolor": "white"
           },
           "yaxis": {
            "backgroundcolor": "#E5ECF6",
            "gridcolor": "white",
            "gridwidth": 2,
            "linecolor": "white",
            "showbackground": true,
            "ticks": "",
            "zerolinecolor": "white"
           },
           "zaxis": {
            "backgroundcolor": "#E5ECF6",
            "gridcolor": "white",
            "gridwidth": 2,
            "linecolor": "white",
            "showbackground": true,
            "ticks": "",
            "zerolinecolor": "white"
           }
          },
          "shapedefaults": {
           "line": {
            "color": "#2a3f5f"
           }
          },
          "ternary": {
           "aaxis": {
            "gridcolor": "white",
            "linecolor": "white",
            "ticks": ""
           },
           "baxis": {
            "gridcolor": "white",
            "linecolor": "white",
            "ticks": ""
           },
           "bgcolor": "#E5ECF6",
           "caxis": {
            "gridcolor": "white",
            "linecolor": "white",
            "ticks": ""
           }
          },
          "title": {
           "x": 0.05
          },
          "xaxis": {
           "automargin": true,
           "gridcolor": "white",
           "linecolor": "white",
           "ticks": "",
           "title": {
            "standoff": 15
           },
           "zerolinecolor": "white",
           "zerolinewidth": 2
          },
          "yaxis": {
           "automargin": true,
           "gridcolor": "white",
           "linecolor": "white",
           "ticks": "",
           "title": {
            "standoff": 15
           },
           "zerolinecolor": "white",
           "zerolinewidth": 2
          }
         }
        },
        "title": {
         "text": "Scatter Matrix of Predictors with Fidelity as Color"
        },
        "width": 1000
       }
      }
     },
     "metadata": {},
     "output_type": "display_data"
    }
   ],
   "source": [
    "import plotly.express as px\n",
    "predictor_metrics = [\n",
    "    \n",
    "    # 'trace_normalized_by_rank',\n",
    "    # 'error',\n",
    "    'var_nonzero_eigenvalues_dqfim',\n",
    "    \n",
    "    # 'trace_normalized_by_rank',\n",
    "    # 'spread_metric_variance',\n",
    "    # 'spread_metric_mad',\n",
    "    # 'spread_metric_variance_dqfim',\n",
    "    # \"spread_metric_variance_dqfim\"\n",
    "    # \"trace_normalized_by_rank\"\n",
    "    'abbas_deff_norm_dqfim',\n",
    "    \"abbas_deff_raw_dqfim\",\n",
    "    # \"ipr_deff_raw_dqfim\"\n",
    "]\n",
    "metrics_to_visualize = [\n",
    "    \"test_key\",\n",
    "    'avg_fidelity',\n",
    "    'error',\n",
    "    'trace_eigenvalues',\n",
    "    'trace_normalized_by_rank',\n",
    "    'var_nonzero_eigenvalues_dqfim',\n",
    "    'var_nonzero_normalized_by_rank',\n",
    "    'var_nonzero_log',\n",
    "    'var_nonzero_normalized_by_rank_dqfim',\n",
    "    'spread_metric_mad',\n",
    "    'spread_metric_variance',\n",
    "    'spread_metric_variance_dqfim',\n",
    "    \"spread_metric_mad_dqfim\",\n",
    "    \"abbas_deff_raw_dqfim\",\n",
    "    \"abbas_deff_norm_dqfim\",\n",
    "    \"ipr_deff_raw_dqfim\"\n",
    "]\n",
    "\n",
    "df_viz = df_merged[metrics_to_visualize].dropna()\n",
    "\n",
    "fig = px.scatter_matrix(\n",
    "    df_viz,\n",
    "    dimensions=predictor_metrics,\n",
    "    color=\"avg_fidelity\",        # Use fidelity as the color dimension\n",
    "    hover_data=[\"test_key\"],      # Show test_key on hover\n",
    "    title=\"Scatter Matrix of Predictors with Fidelity as Color\"\n",
    ")\n",
    "fig.update_layout(width=1000, height=1000)\n",
    "fig.show()"
   ]
  },
  {
   "cell_type": "code",
   "execution_count": 12,
   "metadata": {},
   "outputs": [
    {
     "data": {
      "application/vnd.plotly.v1+json": {
       "config": {
        "plotlyServerURL": "https://plot.ly"
       },
       "data": [
        {
         "customdata": [
          [
           "test0"
          ],
          [
           "test100"
          ],
          [
           "test112"
          ],
          [
           "test172"
          ],
          [
           "test182"
          ],
          [
           "test190"
          ],
          [
           "test199"
          ],
          [
           "test20"
          ],
          [
           "test34"
          ],
          [
           "test43"
          ],
          [
           "test46"
          ],
          [
           "test49"
          ]
         ],
         "dimensions": [
          {
           "axis": {
            "matches": true
           },
           "label": "error",
           "values": [
            -7.071867590933122,
            -5.6585954132922085,
            -6.293804422690063,
            -6.2846691851674485,
            -5.908944302124466,
            -7.023425399696336,
            -6.233574094657852,
            -6.230848208447703,
            -5.871947759433557,
            -5.997036673457182,
            -6.574581873042177,
            -6.6679912251357365
           ]
          },
          {
           "axis": {
            "matches": true
           },
           "label": "var_nonzero_normalized_by_rank",
           "values": [
            2.6207214563001258,
            2.38881729764484,
            0.26829288541399793,
            0.5055458746202581,
            6.77703750293072,
            0.22910268337038586,
            2.085785080309775,
            2.233528469503487,
            2.2902558363445467,
            18.986149885447087,
            3.0173860342353254,
            17.233464444812554
           ]
          },
          {
           "axis": {
            "matches": true
           },
           "label": "trace_normalized_by_rank",
           "values": [
            2.725949400410415,
            3.414814826033156,
            1.4270514828422771,
            1.4634195886849133,
            4.2197013194626685,
            1.1307548592230583,
            2.8389138497649884,
            2.589880788228887,
            2.7402020314386997,
            6.545727999519598,
            3.3053454929574704,
            5.370224128475123
           ]
          }
         ],
         "hovertemplate": "%{xaxis.title.text}=%{x}<br>%{yaxis.title.text}=%{y}<br>test_key=%{customdata[0]}<br>avg_fidelity=%{marker.color}<extra></extra>",
         "legendgroup": "",
         "marker": {
          "color": [
           0.997253034179552,
           0.9950256363810162,
           0.9927418670772202,
           0.9932183170101424,
           0.9948754739220368,
           0.9980499430776255,
           0.9956392609818177,
           0.9939849256435842,
           0.9928823500604,
           0.9933726690941654,
           0.9968490312706922,
           0.9972242493178328
          ],
          "coloraxis": "coloraxis",
          "symbol": "circle"
         },
         "name": "",
         "showlegend": false,
         "type": "splom"
        }
       ],
       "layout": {
        "coloraxis": {
         "colorbar": {
          "title": {
           "text": "avg_fidelity"
          }
         },
         "colorscale": [
          [
           0,
           "#0d0887"
          ],
          [
           0.1111111111111111,
           "#46039f"
          ],
          [
           0.2222222222222222,
           "#7201a8"
          ],
          [
           0.3333333333333333,
           "#9c179e"
          ],
          [
           0.4444444444444444,
           "#bd3786"
          ],
          [
           0.5555555555555556,
           "#d8576b"
          ],
          [
           0.6666666666666666,
           "#ed7953"
          ],
          [
           0.7777777777777778,
           "#fb9f3a"
          ],
          [
           0.8888888888888888,
           "#fdca26"
          ],
          [
           1,
           "#f0f921"
          ]
         ]
        },
        "dragmode": "select",
        "height": 1000,
        "legend": {
         "tracegroupgap": 0
        },
        "template": {
         "data": {
          "bar": [
           {
            "error_x": {
             "color": "#2a3f5f"
            },
            "error_y": {
             "color": "#2a3f5f"
            },
            "marker": {
             "line": {
              "color": "#E5ECF6",
              "width": 0.5
             },
             "pattern": {
              "fillmode": "overlay",
              "size": 10,
              "solidity": 0.2
             }
            },
            "type": "bar"
           }
          ],
          "barpolar": [
           {
            "marker": {
             "line": {
              "color": "#E5ECF6",
              "width": 0.5
             },
             "pattern": {
              "fillmode": "overlay",
              "size": 10,
              "solidity": 0.2
             }
            },
            "type": "barpolar"
           }
          ],
          "carpet": [
           {
            "aaxis": {
             "endlinecolor": "#2a3f5f",
             "gridcolor": "white",
             "linecolor": "white",
             "minorgridcolor": "white",
             "startlinecolor": "#2a3f5f"
            },
            "baxis": {
             "endlinecolor": "#2a3f5f",
             "gridcolor": "white",
             "linecolor": "white",
             "minorgridcolor": "white",
             "startlinecolor": "#2a3f5f"
            },
            "type": "carpet"
           }
          ],
          "choropleth": [
           {
            "colorbar": {
             "outlinewidth": 0,
             "ticks": ""
            },
            "type": "choropleth"
           }
          ],
          "contour": [
           {
            "colorbar": {
             "outlinewidth": 0,
             "ticks": ""
            },
            "colorscale": [
             [
              0,
              "#0d0887"
             ],
             [
              0.1111111111111111,
              "#46039f"
             ],
             [
              0.2222222222222222,
              "#7201a8"
             ],
             [
              0.3333333333333333,
              "#9c179e"
             ],
             [
              0.4444444444444444,
              "#bd3786"
             ],
             [
              0.5555555555555556,
              "#d8576b"
             ],
             [
              0.6666666666666666,
              "#ed7953"
             ],
             [
              0.7777777777777778,
              "#fb9f3a"
             ],
             [
              0.8888888888888888,
              "#fdca26"
             ],
             [
              1,
              "#f0f921"
             ]
            ],
            "type": "contour"
           }
          ],
          "contourcarpet": [
           {
            "colorbar": {
             "outlinewidth": 0,
             "ticks": ""
            },
            "type": "contourcarpet"
           }
          ],
          "heatmap": [
           {
            "colorbar": {
             "outlinewidth": 0,
             "ticks": ""
            },
            "colorscale": [
             [
              0,
              "#0d0887"
             ],
             [
              0.1111111111111111,
              "#46039f"
             ],
             [
              0.2222222222222222,
              "#7201a8"
             ],
             [
              0.3333333333333333,
              "#9c179e"
             ],
             [
              0.4444444444444444,
              "#bd3786"
             ],
             [
              0.5555555555555556,
              "#d8576b"
             ],
             [
              0.6666666666666666,
              "#ed7953"
             ],
             [
              0.7777777777777778,
              "#fb9f3a"
             ],
             [
              0.8888888888888888,
              "#fdca26"
             ],
             [
              1,
              "#f0f921"
             ]
            ],
            "type": "heatmap"
           }
          ],
          "heatmapgl": [
           {
            "colorbar": {
             "outlinewidth": 0,
             "ticks": ""
            },
            "colorscale": [
             [
              0,
              "#0d0887"
             ],
             [
              0.1111111111111111,
              "#46039f"
             ],
             [
              0.2222222222222222,
              "#7201a8"
             ],
             [
              0.3333333333333333,
              "#9c179e"
             ],
             [
              0.4444444444444444,
              "#bd3786"
             ],
             [
              0.5555555555555556,
              "#d8576b"
             ],
             [
              0.6666666666666666,
              "#ed7953"
             ],
             [
              0.7777777777777778,
              "#fb9f3a"
             ],
             [
              0.8888888888888888,
              "#fdca26"
             ],
             [
              1,
              "#f0f921"
             ]
            ],
            "type": "heatmapgl"
           }
          ],
          "histogram": [
           {
            "marker": {
             "pattern": {
              "fillmode": "overlay",
              "size": 10,
              "solidity": 0.2
             }
            },
            "type": "histogram"
           }
          ],
          "histogram2d": [
           {
            "colorbar": {
             "outlinewidth": 0,
             "ticks": ""
            },
            "colorscale": [
             [
              0,
              "#0d0887"
             ],
             [
              0.1111111111111111,
              "#46039f"
             ],
             [
              0.2222222222222222,
              "#7201a8"
             ],
             [
              0.3333333333333333,
              "#9c179e"
             ],
             [
              0.4444444444444444,
              "#bd3786"
             ],
             [
              0.5555555555555556,
              "#d8576b"
             ],
             [
              0.6666666666666666,
              "#ed7953"
             ],
             [
              0.7777777777777778,
              "#fb9f3a"
             ],
             [
              0.8888888888888888,
              "#fdca26"
             ],
             [
              1,
              "#f0f921"
             ]
            ],
            "type": "histogram2d"
           }
          ],
          "histogram2dcontour": [
           {
            "colorbar": {
             "outlinewidth": 0,
             "ticks": ""
            },
            "colorscale": [
             [
              0,
              "#0d0887"
             ],
             [
              0.1111111111111111,
              "#46039f"
             ],
             [
              0.2222222222222222,
              "#7201a8"
             ],
             [
              0.3333333333333333,
              "#9c179e"
             ],
             [
              0.4444444444444444,
              "#bd3786"
             ],
             [
              0.5555555555555556,
              "#d8576b"
             ],
             [
              0.6666666666666666,
              "#ed7953"
             ],
             [
              0.7777777777777778,
              "#fb9f3a"
             ],
             [
              0.8888888888888888,
              "#fdca26"
             ],
             [
              1,
              "#f0f921"
             ]
            ],
            "type": "histogram2dcontour"
           }
          ],
          "mesh3d": [
           {
            "colorbar": {
             "outlinewidth": 0,
             "ticks": ""
            },
            "type": "mesh3d"
           }
          ],
          "parcoords": [
           {
            "line": {
             "colorbar": {
              "outlinewidth": 0,
              "ticks": ""
             }
            },
            "type": "parcoords"
           }
          ],
          "pie": [
           {
            "automargin": true,
            "type": "pie"
           }
          ],
          "scatter": [
           {
            "fillpattern": {
             "fillmode": "overlay",
             "size": 10,
             "solidity": 0.2
            },
            "type": "scatter"
           }
          ],
          "scatter3d": [
           {
            "line": {
             "colorbar": {
              "outlinewidth": 0,
              "ticks": ""
             }
            },
            "marker": {
             "colorbar": {
              "outlinewidth": 0,
              "ticks": ""
             }
            },
            "type": "scatter3d"
           }
          ],
          "scattercarpet": [
           {
            "marker": {
             "colorbar": {
              "outlinewidth": 0,
              "ticks": ""
             }
            },
            "type": "scattercarpet"
           }
          ],
          "scattergeo": [
           {
            "marker": {
             "colorbar": {
              "outlinewidth": 0,
              "ticks": ""
             }
            },
            "type": "scattergeo"
           }
          ],
          "scattergl": [
           {
            "marker": {
             "colorbar": {
              "outlinewidth": 0,
              "ticks": ""
             }
            },
            "type": "scattergl"
           }
          ],
          "scattermapbox": [
           {
            "marker": {
             "colorbar": {
              "outlinewidth": 0,
              "ticks": ""
             }
            },
            "type": "scattermapbox"
           }
          ],
          "scatterpolar": [
           {
            "marker": {
             "colorbar": {
              "outlinewidth": 0,
              "ticks": ""
             }
            },
            "type": "scatterpolar"
           }
          ],
          "scatterpolargl": [
           {
            "marker": {
             "colorbar": {
              "outlinewidth": 0,
              "ticks": ""
             }
            },
            "type": "scatterpolargl"
           }
          ],
          "scatterternary": [
           {
            "marker": {
             "colorbar": {
              "outlinewidth": 0,
              "ticks": ""
             }
            },
            "type": "scatterternary"
           }
          ],
          "surface": [
           {
            "colorbar": {
             "outlinewidth": 0,
             "ticks": ""
            },
            "colorscale": [
             [
              0,
              "#0d0887"
             ],
             [
              0.1111111111111111,
              "#46039f"
             ],
             [
              0.2222222222222222,
              "#7201a8"
             ],
             [
              0.3333333333333333,
              "#9c179e"
             ],
             [
              0.4444444444444444,
              "#bd3786"
             ],
             [
              0.5555555555555556,
              "#d8576b"
             ],
             [
              0.6666666666666666,
              "#ed7953"
             ],
             [
              0.7777777777777778,
              "#fb9f3a"
             ],
             [
              0.8888888888888888,
              "#fdca26"
             ],
             [
              1,
              "#f0f921"
             ]
            ],
            "type": "surface"
           }
          ],
          "table": [
           {
            "cells": {
             "fill": {
              "color": "#EBF0F8"
             },
             "line": {
              "color": "white"
             }
            },
            "header": {
             "fill": {
              "color": "#C8D4E3"
             },
             "line": {
              "color": "white"
             }
            },
            "type": "table"
           }
          ]
         },
         "layout": {
          "annotationdefaults": {
           "arrowcolor": "#2a3f5f",
           "arrowhead": 0,
           "arrowwidth": 1
          },
          "autotypenumbers": "strict",
          "coloraxis": {
           "colorbar": {
            "outlinewidth": 0,
            "ticks": ""
           }
          },
          "colorscale": {
           "diverging": [
            [
             0,
             "#8e0152"
            ],
            [
             0.1,
             "#c51b7d"
            ],
            [
             0.2,
             "#de77ae"
            ],
            [
             0.3,
             "#f1b6da"
            ],
            [
             0.4,
             "#fde0ef"
            ],
            [
             0.5,
             "#f7f7f7"
            ],
            [
             0.6,
             "#e6f5d0"
            ],
            [
             0.7,
             "#b8e186"
            ],
            [
             0.8,
             "#7fbc41"
            ],
            [
             0.9,
             "#4d9221"
            ],
            [
             1,
             "#276419"
            ]
           ],
           "sequential": [
            [
             0,
             "#0d0887"
            ],
            [
             0.1111111111111111,
             "#46039f"
            ],
            [
             0.2222222222222222,
             "#7201a8"
            ],
            [
             0.3333333333333333,
             "#9c179e"
            ],
            [
             0.4444444444444444,
             "#bd3786"
            ],
            [
             0.5555555555555556,
             "#d8576b"
            ],
            [
             0.6666666666666666,
             "#ed7953"
            ],
            [
             0.7777777777777778,
             "#fb9f3a"
            ],
            [
             0.8888888888888888,
             "#fdca26"
            ],
            [
             1,
             "#f0f921"
            ]
           ],
           "sequentialminus": [
            [
             0,
             "#0d0887"
            ],
            [
             0.1111111111111111,
             "#46039f"
            ],
            [
             0.2222222222222222,
             "#7201a8"
            ],
            [
             0.3333333333333333,
             "#9c179e"
            ],
            [
             0.4444444444444444,
             "#bd3786"
            ],
            [
             0.5555555555555556,
             "#d8576b"
            ],
            [
             0.6666666666666666,
             "#ed7953"
            ],
            [
             0.7777777777777778,
             "#fb9f3a"
            ],
            [
             0.8888888888888888,
             "#fdca26"
            ],
            [
             1,
             "#f0f921"
            ]
           ]
          },
          "colorway": [
           "#636efa",
           "#EF553B",
           "#00cc96",
           "#ab63fa",
           "#FFA15A",
           "#19d3f3",
           "#FF6692",
           "#B6E880",
           "#FF97FF",
           "#FECB52"
          ],
          "font": {
           "color": "#2a3f5f"
          },
          "geo": {
           "bgcolor": "white",
           "lakecolor": "white",
           "landcolor": "#E5ECF6",
           "showlakes": true,
           "showland": true,
           "subunitcolor": "white"
          },
          "hoverlabel": {
           "align": "left"
          },
          "hovermode": "closest",
          "mapbox": {
           "style": "light"
          },
          "paper_bgcolor": "white",
          "plot_bgcolor": "#E5ECF6",
          "polar": {
           "angularaxis": {
            "gridcolor": "white",
            "linecolor": "white",
            "ticks": ""
           },
           "bgcolor": "#E5ECF6",
           "radialaxis": {
            "gridcolor": "white",
            "linecolor": "white",
            "ticks": ""
           }
          },
          "scene": {
           "xaxis": {
            "backgroundcolor": "#E5ECF6",
            "gridcolor": "white",
            "gridwidth": 2,
            "linecolor": "white",
            "showbackground": true,
            "ticks": "",
            "zerolinecolor": "white"
           },
           "yaxis": {
            "backgroundcolor": "#E5ECF6",
            "gridcolor": "white",
            "gridwidth": 2,
            "linecolor": "white",
            "showbackground": true,
            "ticks": "",
            "zerolinecolor": "white"
           },
           "zaxis": {
            "backgroundcolor": "#E5ECF6",
            "gridcolor": "white",
            "gridwidth": 2,
            "linecolor": "white",
            "showbackground": true,
            "ticks": "",
            "zerolinecolor": "white"
           }
          },
          "shapedefaults": {
           "line": {
            "color": "#2a3f5f"
           }
          },
          "ternary": {
           "aaxis": {
            "gridcolor": "white",
            "linecolor": "white",
            "ticks": ""
           },
           "baxis": {
            "gridcolor": "white",
            "linecolor": "white",
            "ticks": ""
           },
           "bgcolor": "#E5ECF6",
           "caxis": {
            "gridcolor": "white",
            "linecolor": "white",
            "ticks": ""
           }
          },
          "title": {
           "x": 0.05
          },
          "xaxis": {
           "automargin": true,
           "gridcolor": "white",
           "linecolor": "white",
           "ticks": "",
           "title": {
            "standoff": 15
           },
           "zerolinecolor": "white",
           "zerolinewidth": 2
          },
          "yaxis": {
           "automargin": true,
           "gridcolor": "white",
           "linecolor": "white",
           "ticks": "",
           "title": {
            "standoff": 15
           },
           "zerolinecolor": "white",
           "zerolinewidth": 2
          }
         }
        },
        "title": {
         "text": "Scatter Matrix of Predictors with Fidelity as Color"
        },
        "width": 1000
       }
      }
     },
     "metadata": {},
     "output_type": "display_data"
    }
   ],
   "source": [
    "import plotly.express as px\n",
    "predictor_metrics = [\n",
    "    \n",
    "    # 'trace_normalized_by_rank',\n",
    "    'error',\n",
    "    'var_nonzero_normalized_by_rank',\n",
    "    \n",
    "    'trace_normalized_by_rank',\n",
    "    # 'spread_metric_variance',\n",
    "    # 'spread_metric_mad',\n",
    "    # 'spread_metric_variance_dqfim',\n",
    "    # \"spread_metric_variance_dqfim\"\n",
    "    # \"trace_normalized_by_rank\"\n",
    "    # 'spread_metric_variance_dqfim',\n",
    "    # \"abbas_deff_raw_dqfim\",\n",
    "    # \"ipr_deff_raw_dqfim\"\n",
    "]\n",
    "metrics_to_visualize = [\n",
    "    \"test_key\",\n",
    "    'avg_fidelity',\n",
    "    'error',\n",
    "    'trace_eigenvalues',\n",
    "    'trace_normalized_by_rank',\n",
    "    'var_nonzero_normalized_by_rank',\n",
    "    'var_nonzero_log',\n",
    "    'var_nonzero_normalized_by_rank_dqfim',\n",
    "    'spread_metric_mad',\n",
    "    'spread_metric_variance',\n",
    "    'spread_metric_variance_dqfim',\n",
    "    \"spread_metric_mad_dqfim\",\n",
    "    \"abbas_deff_raw_dqfim\",\n",
    "    \"abbas_deff_norm_dqfim\",\n",
    "    \"ipr_deff_raw_dqfim\"\n",
    "]\n",
    "\n",
    "df_viz = df_merged[metrics_to_visualize].dropna()\n",
    "\n",
    "fig = px.scatter_matrix(\n",
    "    df_viz,\n",
    "    dimensions=predictor_metrics,\n",
    "    color=\"avg_fidelity\",        # Use fidelity as the color dimension\n",
    "    hover_data=[\"test_key\"],      # Show test_key on hover\n",
    "    title=\"Scatter Matrix of Predictors with Fidelity as Color\"\n",
    ")\n",
    "fig.update_layout(width=1000, height=1000)\n",
    "fig.show()"
   ]
  },
  {
   "cell_type": "code",
   "execution_count": null,
   "metadata": {},
   "outputs": [],
   "source": []
  }
 ],
 "metadata": {
  "kernelspec": {
   "display_name": "torch env (v3.11.10)",
   "language": "python",
   "name": "torch_en"
  },
  "language_info": {
   "codemirror_mode": {
    "name": "ipython",
    "version": 3
   },
   "file_extension": ".py",
   "mimetype": "text/x-python",
   "name": "python",
   "nbconvert_exporter": "python",
   "pygments_lexer": "ipython3",
   "version": "3.11.10"
  }
 },
 "nbformat": 4,
 "nbformat_minor": 2
}
