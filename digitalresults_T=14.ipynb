{
 "cells": [
  {
   "cell_type": "code",
   "execution_count": 1,
   "metadata": {},
   "outputs": [],
   "source": [
    "import pickle\n",
    "from pathlib import Path\n",
    "import numpy as np\n",
    "import statistics\n",
    "import numpy as np\n",
    "import sympy\n",
    "import matplotlib.pyplot as plt\n",
    "import base64\n",
    "import pickle\n",
    "from sympy import symbols, MatrixSymbol, lambdify, Matrix, pprint\n",
    "\n",
    "from scipy.optimize import minimize\n",
    "from matplotlib.ticker import FuncFormatter\n",
    "from sympy import symbols, MatrixSymbol, lambdify\n",
    "from matplotlib import cm\n",
    "import random\n",
    "import matplotlib.colors as mcolors\n",
    "import scipy\n",
    "import time\n",
    "from pathlib import Path\n",
    "import os\n",
    "import ast\n",
    "import pandas as pd\n",
    "from pathlib import Path\n",
    "from matplotlib.ticker import ScalarFormatter\n",
    "\n",
    "\n",
    "import pennylane as qml\n",
    "from functools import partial\n",
    "from qiskit.circuit.library import *\n",
    "from qiskit import *\n",
    "from qiskit.quantum_info import *\n",
    "import autograd\n",
    "from pennylane.wires import Wires\n",
    "import matplotlib.cm as cm\n",
    "import base64\n",
    "from qiskit import *\n",
    "import math\n",
    "from qiskit.quantum_info import *"
   ]
  },
  {
   "cell_type": "code",
   "execution_count": 2,
   "metadata": {},
   "outputs": [],
   "source": [
    "import numpy as np\n",
    "import numpy.ma as ma\n",
    "from ANALYSIS_SPECIFIC_CONFIG import is_valid_pickle_file,spread_per_sample_vectorized,spread_pooling_vectorized, load_and_clean_pickle, extract_Nr, extract_trotter_step\n",
    "\n",
    "def process_data_dqfim(df, threshold, by_test, Nc, N_R, trot, print_bool=False):\n",
    "    \"\"\"\n",
    "    Create a list of dictionaries, each representing one (fixed_params_key, test_key) row.\n",
    "    Returns a list of row-dicts for direct DataFrame construction.\n",
    "    \"\"\"\n",
    "    rows = []\n",
    "    for fixed_params_key, test_dict in df.items():\n",
    "        for test_key, results in test_dict.items():\n",
    "            qfim_eigvals = results.get('qfim_eigvals', None)\n",
    "            qfim_mat = results.get('qfim',None)\n",
    "            # print(f\"qfim_mat.shape: {qfim_mat.shape}\")\n",
    "            entropies      = results.get('entropies', None)\n",
    "            input_states = results.get('L',None)\n",
    "            n_reserv = results.get('n_reserv',None)\n",
    "            # assert n_reserv == N_R, f'{N_R}. Actual: {n_reserv}'\n",
    "            T = results.get('time_steps',None)\n",
    "            # assert T == trot, f'{trot}. Actual: {T}'\n",
    "            row = {\n",
    "                \"N_ctrl\": Nc,\n",
    "                \"N_reserv\": n_reserv,\n",
    "                \"Trotter_Step\": T,\n",
    "                \"fixed_params_key\": fixed_params_key,\n",
    "                \"test_key\": test_key,\n",
    "                \"qfim_eigvals\": qfim_eigvals,\n",
    "                \"qfim_mat\":qfim_mat,\n",
    "                \"entropies\": entropies,\n",
    "                \"input_states\":input_states,\n",
    "                \"num_inputs\":len(input_states)\n",
    "                # Add any other fields you might need later\n",
    "            }\n",
    "            rows.append(row)\n",
    "    return rows\n",
    "def build_df_expanded_DQFIM(base_path, sample_range, model_type, N_ctrls, K_str,datasize, threshold, by_test):\n",
    "    \"\"\"\n",
    "   \n",
    "    \"\"\"\n",
    "    from pathlib import Path\n",
    "    import os\n",
    "    import pandas as pd\n",
    "\n",
    "    all_expanded_rows = []\n",
    "    processed_files = []\n",
    "    \n",
    "    # Iterate over each N_ctrl value\n",
    "    for N_ctrl in N_ctrls:\n",
    "        model_path = Path(base_path) / \"QFIM_global_results\" / f\"{model_type}_model_DQFIM\" / f\"Nc_{N_ctrl}\" / f\"sample_{sample_range}/{K_str}xK\"\n",
    "        if not model_path.exists():\n",
    "            print(f\"[WARN] Model path {model_path} does not exist for N_ctrl={N_ctrl}.\")\n",
    "            continue\n",
    "        \n",
    "        # Iterate over each Nr directory\n",
    "        for Nr in sorted(os.listdir(model_path)):\n",
    "            Nr_path = model_path / Nr\n",
    "            if not Nr_path.is_dir():\n",
    "                continue\n",
    "            \n",
    "            # Iterate over each trotter step directory\n",
    "            print(sorted(os.listdir(Nr_path)))\n",
    "            for trotter_step_dir in sorted(os.listdir(Nr_path)):\n",
    "                trotter_step_path = Nr_path / trotter_step_dir\n",
    "                if not trotter_step_path.is_dir():\n",
    "                    continue\n",
    "                \n",
    "                data_file = trotter_step_path / f\"L_{datasize}/data.pickle\"\n",
    "                if not data_file.exists():\n",
    "                    continue\n",
    "                processed_files.append(data_file)\n",
    "                # Validate the pickle file without using cached results\n",
    "                if not is_valid_pickle_file(data_file):\n",
    "                    continue\n",
    "                \n",
    "                # Load the raw pickle data\n",
    "                raw_data = load_and_clean_pickle(data_file)\n",
    "                # Extract trotter step and reservoir count from the directory structure\n",
    "                try:\n",
    "                    trotter_step_num = extract_trotter_step(data_file)\n",
    "                    reservoir_count = extract_Nr(data_file)\n",
    "                except Exception as e:\n",
    "                    print(f\"[ERROR] Could not extract parameters from {data_file}: {e}\")\n",
    "                    continue\n",
    "\n",
    "                # Process raw data using your expanded function (do not use cached expanded rows)\n",
    "                expanded_rows = process_data_dqfim(raw_data, threshold, by_test, N_ctrl, reservoir_count, trotter_step_num)\n",
    "                all_expanded_rows.extend(expanded_rows)\n",
    "\n",
    "    return pd.DataFrame(all_expanded_rows),processed_files\n",
    "import numpy as np\n",
    "import numpy.ma as ma\n",
    "#############################################\n",
    "# Revised compute_single_draw_stats function #\n",
    "#############################################\n",
    "def compute_single_draw_stats(\n",
    "    eigvals,\n",
    "    full_qfim_mat,\n",
    "    threshold=1e-10,\n",
    "    spread_methods=(\"variance\", \"mad\"),\n",
    "    ddof=1,\n",
    "    scale=\"normal\",\n",
    "    gamma=1.0,\n",
    "    n=1,\n",
    "    V_theta=1.0,\n",
    "    n_ctrl=None,\n",
    "    n_reserv=None,\n",
    "    trotter_step=None,\n",
    "):\n",
    "    \"\"\"\n",
    "    Compute QFIM (or DQFIM) statistics for a SINGLE set of eigenvalues (one draw),\n",
    "    and also compute an effective dimension from the provided full QFIM matrix.\n",
    "    \n",
    "    Returned dictionary includes:\n",
    "      - \"draw_rank\"\n",
    "      - \"var_all_eigenvalues\"\n",
    "      - \"var_nonzero_eigenvalues\"\n",
    "      - \"trace_eigenvalues\"\n",
    "      - \"var_all_normalized_by_param_count\"\n",
    "      - \"trace_normalized_by_rank\"\n",
    "      - \"var_nonzero_log\"\n",
    "      - \"trace_normalized_by_param_count\"\n",
    "      - \"ipr_deff_raw\"        (raw IPR measure)\n",
    "      - \"ipr_deff_norm\"       (IPR computed on trace-normalized eigenvalues)\n",
    "      - \"abbas_deff_raw\"      (sum(log(1 + alpha*λ)) on raw eigenvalues)\n",
    "      - \"abbas_deff_norm\"     (sum(log(1 + alpha*λ)) on trace-normalized eigenvalues)\n",
    "      - \"effective_dimension\" (computed from the trace-normalized full QFIM)\n",
    "      - \"spread_metric_{method}\" for each method in spread_methods.\n",
    "    \n",
    "    Parameters\n",
    "    ----------\n",
    "    eigvals : array-like\n",
    "        Eigenvalues for this single QFIM (or DQFIM) draw.\n",
    "    full_qfim_mat : array-like (2D)\n",
    "        The full QFIM matrix for this draw.\n",
    "    threshold : float\n",
    "        Zero out eigenvalues below this threshold.\n",
    "    spread_methods : tuple of str\n",
    "        Methods for \"spread-of-log\" metrics.\n",
    "    ddof : int\n",
    "        Degrees of freedom for variance computations.\n",
    "    scale : str\n",
    "        Scale indicator for spread metrics.\n",
    "    gamma : float\n",
    "        Scaling parameter in the Abbas formula (typically in (0,1]).\n",
    "    n : int\n",
    "        Number of data samples used in the Abbas formula.\n",
    "    V_theta : float\n",
    "        Volume factor (typically 1.0).\n",
    "    n_ctrl, n_reserv, trotter_step : optional\n",
    "        Additional metadata.\n",
    "    \n",
    "    Returns\n",
    "    -------\n",
    "    stats_dict : dict\n",
    "        Dictionary of computed statistics.\n",
    "    \"\"\"\n",
    "    # Ensure eigvals is a 1D NumPy array.\n",
    "    arr = np.array(eigvals, dtype=float)\n",
    "    if arr.ndim != 1:\n",
    "        arr = arr.flatten()\n",
    "    # Zero out small eigenvalues.\n",
    "    arr = np.where(arr < threshold, 0.0, arr)\n",
    "    \n",
    "    # --- 1) Basic stats ---\n",
    "    draw_rank = np.count_nonzero(arr)\n",
    "    var_all_eigenvalues = np.var(arr, ddof=ddof)\n",
    "    # Variance on nonzero values using Boolean indexing.\n",
    "    nonzero = arr[arr > threshold]\n",
    "    var_nonzero_eigenvalues = np.var(nonzero, ddof=ddof) if nonzero.size > 1 else 0.0\n",
    "    var_nonzero_log = np.log(var_nonzero_eigenvalues) if var_nonzero_eigenvalues > 0 else -np.inf\n",
    "    trace_eigenvalues = np.sum(arr)\n",
    "    \n",
    "    var_normalized_by_param_count = var_all_eigenvalues / len(arr)\n",
    "    var_nonzero_normalized_by_rank = var_nonzero_eigenvalues / draw_rank\n",
    "    var_normalized_by_rank = var_all_eigenvalues / draw_rank\n",
    "    trace_normalized_by_rank = (trace_eigenvalues / draw_rank) if draw_rank > 0 else 0.0\n",
    "    trace_normalized_by_param_count = trace_eigenvalues / len(arr)\n",
    "    \n",
    "    # --- 2) IPR-based dimensions ---\n",
    "    # Raw IPR: (trace^2) / (sum of squares)\n",
    "    sum_of_squares = np.sum(arr**2)\n",
    "    ipr_deff_raw = (trace_eigenvalues**2) / sum_of_squares if sum_of_squares > 0 else 0.0\n",
    "    \n",
    "    # Normalized IPR: using normalized eigenvalues (p = λ/trace)\n",
    "    if trace_eigenvalues > 0:\n",
    "        arr_norm = arr / trace_eigenvalues\n",
    "        sum_norm_sq = np.sum(arr_norm**2)\n",
    "        ipr_deff_norm = 1.0 / sum_norm_sq if sum_norm_sq > 0 else 0.0\n",
    "    else:\n",
    "        arr_norm = None\n",
    "        ipr_deff_norm = 0.0\n",
    "    \n",
    "    # --- 3) Abbas-based dimensions ---\n",
    "    # Compute alpha = (gamma * n) / (2*log(n)) if n>1, else use limit.\n",
    "    if n > 1 and math.log(n) != 0.0:\n",
    "        alpha = (gamma * n) / (2.0 * math.log(n))\n",
    "    else:\n",
    "        alpha = 0.0\n",
    "    # Raw Abbas: computed on original eigenvalues.\n",
    "    abbas_deff_raw = np.sum(np.log(np.maximum(1.0 + alpha * arr, 1e-15)))\n",
    "    # Normalized Abbas: computed on trace-normalized eigenvalues.\n",
    "    if arr_norm is not None:\n",
    "        abbas_deff_norm = np.sum(np.log(np.maximum(1.0 + alpha * arr_norm, 1e-15)))\n",
    "    else:\n",
    "        abbas_deff_norm = 0.0\n",
    "    \n",
    "    # --- 4) Effective dimension from the full QFIM ---\n",
    "    # Normalize the full QFIM by its trace BEFORE diagonalizing.\n",
    "    F = np.array(full_qfim_mat, dtype=float)\n",
    "    trF = np.trace(F)\n",
    "    if trF > 0:\n",
    "        F_hat = F / trF\n",
    "        eigs_F = np.linalg.eigvalsh(F_hat)  # Eigenvalues of the normalized full QFIM.\n",
    "        eps = 1e-12\n",
    "        # Here, effective dimension is computed from the normalized spectrum p_i.\n",
    "        # If n > 1, use the standard formula; if n == 1, use the limit:\n",
    "        if n > 1 and math.log(n) != 0.0:\n",
    "            z = 0.5 * np.sum(np.log(1.0 + n * eigs_F + eps))\n",
    "            effective_dimension = (2.0 / np.log(n)) * z\n",
    "        else:\n",
    "            # For n == 1, define effective dimension as the sum_i p_i/(1+p_i)\n",
    "            effective_dimension = np.sum(eigs_F / (1.0 + eigs_F))\n",
    "    else:\n",
    "        effective_dimension = 0.0\n",
    "    \n",
    "    # --- 5) Spread-of-log metrics ---\n",
    "    # Reshape arr into a 1-row 2D array for external functions.\n",
    "    arr_2d = arr.reshape(1, -1)\n",
    "    spread_metrics = {}\n",
    "    for method in spread_methods:\n",
    "        per_draw = spread_per_sample_vectorized(arr_2d, method=method, threshold=threshold, ddof=ddof, scale=scale)\n",
    "        spread_metrics[f\"spread_metric_{method}\"] = per_draw[0] if per_draw.size > 0 else 0.0\n",
    "    \n",
    "    # --- 6) Build final dictionary ---\n",
    "    stats_dict = {\n",
    "        # Basic stats\n",
    "        \"draw_rank\": draw_rank,\n",
    "        \"var_all_eigenvalues\": var_all_eigenvalues,\n",
    "        \"var_nonzero_eigenvalues\": var_nonzero_eigenvalues,\n",
    "        \"trace_eigenvalues\": trace_eigenvalues,\n",
    "        \"var_all_normalized_by_param_count\": var_normalized_by_param_count,\n",
    "        \"var_all_normalized_by_rank\": var_normalized_by_rank,\n",
    "        \"var_nonzero_normalized_by_rank\":var_nonzero_normalized_by_rank,\n",
    "        \"trace_normalized_by_rank\": trace_normalized_by_rank,\n",
    "        \"trace_normalized_by_param_count\": trace_normalized_by_param_count,\n",
    "        \"var_nonzero_log\": var_nonzero_log,\n",
    "        \n",
    "        # IPR-based dimensions\n",
    "        \"ipr_deff_raw\": ipr_deff_raw,\n",
    "        \"ipr_deff_norm\": ipr_deff_norm,\n",
    "        \n",
    "        # Abbas-based dimensions\n",
    "        \"abbas_deff_raw\": abbas_deff_raw,\n",
    "        \"abbas_deff_norm\": abbas_deff_norm,\n",
    "        \n",
    "        # Effective dimension computed from the full QFIM (trace-normalized)\n",
    "        \"d_eff\": effective_dimension,\n",
    "    }\n",
    "    stats_dict.update(spread_metrics)\n",
    "    \n",
    "    return stats_dict"
   ]
  },
  {
   "cell_type": "code",
   "execution_count": 266,
   "metadata": {},
   "outputs": [
    {
     "name": "stdout",
     "output_type": "stream",
     "text": [
      "df_results shape: (780, 26)\n"
     ]
    }
   ],
   "source": [
    "import os\n",
    "import pickle\n",
    "import numpy as np\n",
    "import pandas as pd\n",
    "from IPython.display import display  # Ensure this is not overwritten elsewhere\n",
    "\n",
    "\n",
    "def clean_array(data):\n",
    "    \"\"\"Helper function to clean any deprecated JAX arrays.\"\"\"\n",
    "    if isinstance(data, np.ndarray):\n",
    "        return np.array(data)  # Ensure the array doesn't have deprecated attributes\n",
    "    elif isinstance(data, dict):\n",
    "        return {k: clean_array(v) for k, v in data.items()}\n",
    "    elif isinstance(data, list):\n",
    "        return [clean_array(v) for v in data]\n",
    "    else:\n",
    "        return data\n",
    "\n",
    "def get_dqfim_full_from_storage(num_L,N_R,N_C, T,test_key,fixed_param_dict_key=\"fixed_params0\"):\n",
    "\n",
    "    file_path = (\n",
    "        f\"/Users/sophieblock/QRCcapstone/parameter_analysis_directory/\"\n",
    "        f\"QFIM_global_results/gate_model_DQFIM/Nc_{N_C}/sample_pi/1bbxK/\"\n",
    "        f\"Nr_{N_R}/trotter_step_{T}/L_{num_L}/data.pickle\"\n",
    "    )\n",
    "    # print(file_path)\n",
    "    with open(file_path, 'rb') as f:\n",
    "        all_tests_data = pickle.load(f)\n",
    "\n",
    "\n",
    "    results = all_tests_data[fixed_param_dict_key][test_key]\n",
    "    return results.get('qfim',None)\n",
    "def read_jax_file(file_path, gate_name,test_key):\n",
    "    \"\"\"\n",
    "   \n",
    "    \"\"\"\n",
    "    with open(file_path, 'rb') as f:\n",
    "        df = pickle.load(f)\n",
    "    df = clean_array(df)\n",
    "    # print(df.keys())\n",
    "    # print(df.get('controls', None), df.get('controls', None)[0])\n",
    "    try:\n",
    "        costs = np.asarray([float(i) for i in df['costs'][0]], dtype=np.float64)\n",
    "    except Exception as e:\n",
    "        print(f\"Error reading costs from {file_path}: {e}\")\n",
    "        costs = None\n",
    "        \n",
    "    try:\n",
    "        grads_per_epoch = [np.asarray(i, dtype=np.float64) for i in df['grads_per_epoch'][0]]\n",
    "    except Exception as e:\n",
    "        print(f\"Error reading grads_per_epoch from {file_path}: {e}\")\n",
    "        grads_per_epoch = None\n",
    "        \n",
    "    try:\n",
    "        fidelity = float(df['avg_fidelity'][0])\n",
    "    except Exception as e:\n",
    "        print(f\"Error reading avg_fidelity from {file_path}: {e}\")\n",
    "        fidelity = None\n",
    "        \n",
    "    try:\n",
    "        num_params = 3 + int(df['controls'][0]) * int(df['reservoirs'][0]) * int(df['trotter_step'][0])\n",
    "    except Exception as e:\n",
    "        print(f\"Error computing num_params from {file_path}: {e}\")\n",
    "        num_params = None\n",
    "        \n",
    "    try:\n",
    "        test_results = np.asarray(df['testing_results'][0], dtype=np.float64)\n",
    "    except Exception as e:\n",
    "        print(f\"Error reading testing_results from {file_path}: {e}\")\n",
    "        test_results = None\n",
    "        \n",
    "    # Read QFIM Results (GHZ initial state)\n",
    "    qfim_stats_dict_GHZ = df.get('QFIM Results', [None])[0]\n",
    "    if qfim_stats_dict_GHZ is None:\n",
    "        print(f\"Warning: 'QFIM Results' not found in {file_path}\")\n",
    "        qfim_eigvals_GHZ = qfim_full_GHZ = entropy_GHZ = None\n",
    "    else:\n",
    "        qfim_eigvals_GHZ = qfim_stats_dict_GHZ.get('qfim_eigvals', None)\n",
    "        if qfim_eigvals_GHZ is None:\n",
    "            print(f\"Warning: 'qfim_eigvals' not found in QFIM Results in {file_path}\")\n",
    "        qfim_full_GHZ = qfim_stats_dict_GHZ.get('qfim', None)\n",
    "        entropy_GHZ = qfim_stats_dict_GHZ.get('entropy', None)\n",
    "    \n",
    "    # Read QFIM Basis State stats\n",
    "    qfim_stats_dict_basis = df.get('QFIM_basis_state', [None])[0]\n",
    "    if qfim_stats_dict_basis is None:\n",
    "        print(f\"Warning: 'QFIM_basis_state' not found in {file_path}\")\n",
    "        qfim_eigvals = qfim_full = entropy = None\n",
    "    else:\n",
    "        qfim_eigvals = qfim_stats_dict_basis.get('qfim_eigvals', None)\n",
    "        if qfim_eigvals is None:\n",
    "            print(f\"Warning: 'qfim_eigvals' not found in QFIM_basis_state in {file_path}\")\n",
    "        qfim_full = qfim_stats_dict_basis.get('qfim', None)\n",
    "        entropy = qfim_stats_dict_basis.get('entropy', None)\n",
    "    \n",
    "    # Read DQFIM stats\n",
    "    dqfim_stats_dict = df.get('DQFIM_stats', [None])[0]\n",
    "    if dqfim_stats_dict is None:\n",
    "        print(f\"Warning: 'DQFIM_stats' not found in {file_path}\")\n",
    "        dqfim_eigvals = dqfim_full = dqfim_entropies = L_val = None\n",
    "    else:\n",
    "        dqfim_eigvals = dqfim_stats_dict.get('dqfim_eigvals', None)\n",
    "        if dqfim_eigvals is None:\n",
    "            print(f\"Warning: 'qfim_eigvals' not found in DQFIM_stats in {file_path}\")\n",
    "        dqfim_full = dqfim_stats_dict.get('dqfim', None)\n",
    "        L = dqfim_stats_dict.get('L', None)\n",
    "        if dqfim_full is None:\n",
    "            # extract from raw file\n",
    "            dqfim_full = get_dqfim_full_from_storage(num_L=len(L),N_R=df.get('reservoirs', None)[0],N_C= df.get('controls', None)[0], T = df.get('trotter_step', None)[0], test_key=test_key)\n",
    "        dqfim_entropies = dqfim_stats_dict.get('entropies', None)\n",
    "    \n",
    "\n",
    "\n",
    "    # Read target DQFIM stats\n",
    "    target_dqfim_stats_dict = df.get(\"target DQFIM stats\", [None])[0]\n",
    "    if target_dqfim_stats_dict is None:\n",
    "        print(f\"Warning: 'target DQFIM stats' not found in {file_path}\")\n",
    "        target_dqfim_eigvals = target_dqfim_full = target_dqfim_entropies = None\n",
    "    else:\n",
    "        target_dqfim_eigvals = target_dqfim_stats_dict.get('dqfim_eigvals', None)\n",
    "        target_dqfim_full = target_dqfim_stats_dict.get('DQFIM', None)\n",
    "        target_dqfim_entropies = target_dqfim_stats_dict.get('entropies', None)\n",
    "    \n",
    "    result = {\n",
    "        \"costs\": costs,\n",
    "        \"fidelity\": fidelity,\n",
    "        \"num_params\": num_params,\n",
    "        \"test_results\": test_results,\n",
    "        \"qfim_eigvals_GHZ\": qfim_eigvals_GHZ,\n",
    "        \"qfim_full_GHZ\": qfim_full_GHZ,\n",
    "        \"entropy_GHZ\": entropy_GHZ,\n",
    "        \"qfim_eigvals\": qfim_eigvals,\n",
    "        \"qfim_full\": qfim_full,\n",
    "        \"entropy\": entropy,\n",
    "        \"dqfim_eigvals\": dqfim_eigvals,\n",
    "        \"dqfim_full\": dqfim_full,\n",
    "        \"dqfim_entropies\": dqfim_entropies,\n",
    "        \"L\": L,\n",
    "        \"num_sampled_states\": len(L) if L is not None else 0,\n",
    "        \"target_dqfim_eigvals\": target_dqfim_eigvals,\n",
    "        \"target_dqfim_full\": target_dqfim_full,\n",
    "        \"target_dqfim_entropies\": target_dqfim_entropies,\n",
    "        \"num_train\": len(L) if len(L) == len(target_dqfim_entropies) else len(target_dqfim_entropies),\n",
    "        \"N_ctrl\": df.get('controls', None)[0],\n",
    "        \"Trotter_Step\": df.get('trotter_step', None)[0],\n",
    "        \"N_R\": df.get('reservoirs', None)[0],\n",
    "        \"gate\": gate_name\n",
    "    }\n",
    "    return result\n",
    "def build_df_results(fixed_param_folder, base_folder,N_C = 2):\n",
    "    \"\"\"\n",
    "    Build a DataFrame by reading pickle files stored in the following hierarchy:\n",
    "    \n",
    "    base_folder/\n",
    "        trainsize_{train_size}/\n",
    "            sample_pi/\n",
    "                {fixed_param_folder}/\n",
    "                    {test_key}/\n",
    "                        {gate_folder}/\n",
    "                            data_run_0.pickle\n",
    "\n",
    "    For each pickle file, this function calls read_jax_file to extract relevant fields,\n",
    "    and adds additional columns for 'test_key' and 'gate_folder'.\n",
    "\n",
    "    Parameters\n",
    "    ----------\n",
    "    fixed_param_folder : str\n",
    "        The folder name for fixed parameters (e.g. 'fixed_params0').\n",
    "    base_folder : str\n",
    "        The base directory for the experiment results. For example:\n",
    "        \"/Users/sophieblock/QRCCapstone/parameter_analysis_directory/param_initialization_final/digital_results/Nc_2/reservoirs_1/trotter_8/trainsize_10/sample_pi\"\n",
    "\n",
    "    Returns\n",
    "    -------\n",
    "    pd.DataFrame\n",
    "        A DataFrame where each row corresponds to one pickle file's extracted data,\n",
    "        augmented with the test key and gate folder.\n",
    "    \"\"\"\n",
    "    rows = []\n",
    "    full_path = os.path.join(base_folder, fixed_param_folder)\n",
    "    # print(f\"Scanning results in: {full_path}\")\n",
    "    \n",
    "    # Loop over test key folders.\n",
    "    for test_key in os.listdir(full_path):\n",
    "        test_key_path = os.path.join(full_path, test_key)\n",
    "        if not os.path.isdir(test_key_path):\n",
    "            print(f\"Skipping non-directory: {test_key_path}\")\n",
    "            continue\n",
    "        \n",
    "        # Loop over gate folders inside each test key folder.\n",
    "        for gate_folder in os.listdir(test_key_path):\n",
    "            # Enforce expected naming.\n",
    "            if not gate_folder.startswith(f\"U{N_C}_\"):\n",
    "                # print(f\"Skipping gate folder {gate_folder} as it does not match expected pattern.\")\n",
    "                continue\n",
    "            gate_folder_path = os.path.join(test_key_path, gate_folder)\n",
    "            if not os.path.isdir(gate_folder_path):\n",
    "                print(f\"Skipping non-directory: {gate_folder_path}\")\n",
    "                continue\n",
    "            pickle_file = os.path.join(gate_folder_path, \"data_run_0.pickle\")\n",
    "            # print(f\"Looking for pickle file: {pickle_file}\")\n",
    "            if os.path.isfile(pickle_file):\n",
    "                try:\n",
    "                    # Use read_jax_file to extract the data.\n",
    "                    data = read_jax_file(pickle_file, gate_folder,test_key)\n",
    "                    # Add metadata.\n",
    "                    data[\"test_key\"] = test_key\n",
    "                    data[\"gate_folder\"] = gate_folder\n",
    "                    data[\"file_path\"] = pickle_file\n",
    "                    rows.append(data)\n",
    "                    # print(f\"Loaded data from {pickle_file}\")\n",
    "                except Exception as ex:\n",
    "                    print(f\"Error processing {pickle_file}: {ex}\")\n",
    "            else:\n",
    "                print(f\"Pickle file does not exist: {pickle_file}\")\n",
    "    \n",
    "    df_results = pd.DataFrame(rows)\n",
    "    return df_results\n",
    "\n",
    "\n",
    "trotter_Step = 14\n",
    "fixed_param_folder = \"fixed_params0\"\n",
    "num_epochs = 1500\n",
    "train_size = 10\n",
    "base_folder = f\"/Users/sophieblock/QRCCapstone/parameter_analysis_directory/param_initialization_final/digital_results_res2/Nc_2//epochs_{num_epochs}/reservoirs_1/trotter_{trotter_Step}/trainsize_{train_size}/sample_pi\"\n",
    "df_results = build_df_results(fixed_param_folder, base_folder)\n",
    "\n",
    "print(\"df_results shape:\", df_results.shape)\n",
    "\n",
    "#  /Users/sophieblock/QRCCapstone/parameter_analysis_directory/param_initialization_final/digital_results/Nc_2/epochs_1000/reservoirs_1/trotter_12/trainsize_20/sample_positive_pi/fixed_params0/test0\n",
    "# IMPORTANT: If you get an error saying \"TypeError: 'list' object is not callable\" when calling display(df_results.head()),\n",
    "# ensure that you haven't overwritten the built-in 'display' function (e.g., by assigning a list to display).\n",
    "# display(df_results.head())"
   ]
  },
  {
   "cell_type": "code",
   "execution_count": 209,
   "metadata": {},
   "outputs": [
    {
     "data": {
      "text/plain": [
       "array(['test399', 'test18', 'test352', 'test398', 'test104', 'test300',\n",
       "       'test275', 'test288', 'test0', 'test7', 'test235', 'test6',\n",
       "       'test261', 'test1', 'test110', 'test322', 'test128', 'test325',\n",
       "       'test175', 'test129', 'test139', 'test79', 'test12', 'test197',\n",
       "       'test276', 'test270', 'test277', 'test255', 'test252', 'test262',\n",
       "       'test298', 'test200', 'test176', 'test375', 'test319', 'test122',\n",
       "       'test146', 'test170', 'test124'], dtype=object)"
      ]
     },
     "execution_count": 209,
     "metadata": {},
     "output_type": "execute_result"
    }
   ],
   "source": [
    "df_results['test_key'].unique()"
   ]
  },
  {
   "cell_type": "code",
   "execution_count": 33,
   "metadata": {},
   "outputs": [
    {
     "data": {
      "text/plain": [
       "Index(['costs', 'fidelity', 'num_params', 'test_results', 'qfim_eigvals',\n",
       "       'qfim_full', 'entropy', 'N_ctrl', 'Trotter_Step', 'N_R', 'gate',\n",
       "       'test_key', 'gate_folder', 'file_path'],\n",
       "      dtype='object')"
      ]
     },
     "execution_count": 33,
     "metadata": {},
     "output_type": "execute_result"
    }
   ],
   "source": [
    "df_results.keys()"
   ]
  },
  {
   "cell_type": "code",
   "execution_count": 220,
   "metadata": {},
   "outputs": [
    {
     "name": "stdout",
     "output_type": "stream",
     "text": [
      "Aggregated DataFrame shape: (620, 24)\n"
     ]
    },
    {
     "data": {
      "text/plain": [
       "Index(['test_key', 'gate', 'fidelities_list', 'avg_fidelity', 'error',\n",
       "       'avg_infidelity', 'qfim_eigvals_GHZ', 'qfim_full_GHZ', 'entropy_GHZ',\n",
       "       'qfim_eigvals', 'qfim_full', 'entropy', 'dqfim_eigvals', 'dqfim_full',\n",
       "       'dqfim_entropies', 'target_dqfim_eigvals', 'target_dqfim_full',\n",
       "       'target_dqfim_entropies', 'N_ctrl', 'N_R', 'Trotter_Step', 'L',\n",
       "       'num_sampled_states', 'num_train'],\n",
       "      dtype='object')"
      ]
     },
     "metadata": {},
     "output_type": "display_data"
    },
    {
     "name": "stderr",
     "output_type": "stream",
     "text": [
      "/var/folders/xx/w2tzbky134bg3g8mct87xb8c0000gn/T/ipykernel_82297/2990458844.py:210: ComplexWarning:\n",
      "\n",
      "Casting complex values to real discards the imaginary part\n",
      "\n"
     ]
    },
    {
     "data": {
      "text/plain": [
       "(620, 92)"
      ]
     },
     "execution_count": 220,
     "metadata": {},
     "output_type": "execute_result"
    }
   ],
   "source": [
    "import numpy as np\n",
    "import pandas as pd\n",
    "def aggregate_results(df):\n",
    "    \"\"\"\n",
    "    Aggregate the DataFrame by test_key and gate.\n",
    "    For each test_key/gate combination, aggregate key columns.\n",
    "    \"\"\"\n",
    "    aggregated = df.groupby([\"test_key\", \"gate\"]).agg(\n",
    "        fidelities_list=(\"fidelity\", list),\n",
    "        avg_fidelity=(\"fidelity\", \"mean\"),\n",
    "        error=(\"fidelity\", lambda x: np.mean(np.log(1 - x))),\n",
    "        avg_infidelity=(\"fidelity\", lambda x: np.mean(1 - x)),\n",
    "        qfim_eigvals_GHZ=(\"qfim_eigvals_GHZ\", \"first\"),\n",
    "        qfim_full_GHZ=(\"qfim_full_GHZ\", \"first\"),\n",
    "        entropy_GHZ=(\"entropy_GHZ\", \"first\"),\n",
    "        qfim_eigvals=(\"qfim_eigvals\", \"first\"),\n",
    "        qfim_full=(\"qfim_full\", \"first\"),\n",
    "        entropy=(\"entropy\", \"first\"),\n",
    "        dqfim_eigvals=(\"dqfim_eigvals\", \"first\"),\n",
    "        dqfim_full=(\"dqfim_full\", \"first\"),\n",
    "        dqfim_entropies=(\"dqfim_entropies\", \"first\"),\n",
    "        target_dqfim_eigvals=(\"target_dqfim_eigvals\", \"first\"),\n",
    "        target_dqfim_full=(\"target_dqfim_full\", \"first\"),\n",
    "        target_dqfim_entropies=(\"target_dqfim_entropies\", \"first\"),\n",
    "        N_ctrl=(\"N_ctrl\", \"first\"),\n",
    "        N_R=(\"N_R\", \"first\"),\n",
    "        Trotter_Step=(\"Trotter_Step\", \"first\"),\n",
    "        L=(\"L\", \"first\"),\n",
    "        num_sampled_states=(\"num_sampled_states\", \"first\"),\n",
    "        num_train = (\"num_train\",\"first\")\n",
    "    ).reset_index()\n",
    "    \n",
    "    return aggregated\n",
    "\n",
    "\n",
    "def update_with_all_qfim_metrics(df, threshold=1e-12, spread_methods=(\"variance\", \"mad\"),\n",
    "                                 ddof=1, scale=\"normal\", gamma=0.1, n=1, V_theta=1.0):\n",
    "    \"\"\"\n",
    "    For each row (one test_key/gate combination), compute derived metrics for all four QFIM variants:\n",
    "      - GHZ QFIM (from \"qfim_eigvals_GHZ\" and \"qfim_full_GHZ\")\n",
    "      - Basis QFIM (from \"qfim_eigvals\" and \"qfim_full\")\n",
    "      - DQFIM (from \"dqfim_eigvals\"; note: if you don’t store a full DQFIM matrix, you may need to pass a dummy matrix)\n",
    "      - Target DQFIM (from \"target_dqfim_eigvals\" and \"target_dqfim_full\")\n",
    "    \n",
    "    Returns a new DataFrame with the computed stats added with suffixes.\n",
    "    \"\"\"\n",
    "    new_rows = []\n",
    "    for _, row in df.iterrows():\n",
    "        # GHZ QFIM metrics:\n",
    "        ghz_stats = compute_single_draw_stats(\n",
    "            row[\"qfim_eigvals_GHZ\"],\n",
    "            row[\"qfim_full_GHZ\"],\n",
    "            threshold=threshold,\n",
    "            spread_methods=spread_methods,\n",
    "            ddof=ddof,\n",
    "            scale=scale,\n",
    "            gamma=gamma,\n",
    "            n=n,\n",
    "            V_theta=V_theta,\n",
    "            n_ctrl=row[\"N_ctrl\"],\n",
    "            n_reserv=row[\"N_R\"],\n",
    "            trotter_step=row[\"Trotter_Step\"]\n",
    "        )\n",
    "        # Basis QFIM metrics:\n",
    "        basis_stats = compute_single_draw_stats(\n",
    "            row[\"qfim_eigvals\"],\n",
    "            row[\"qfim_full\"],\n",
    "            threshold=threshold,\n",
    "            spread_methods=spread_methods,\n",
    "            ddof=ddof,\n",
    "            scale=scale,\n",
    "            gamma=gamma,\n",
    "            n=n,\n",
    "            V_theta=V_theta,\n",
    "            n_ctrl=row[\"N_ctrl\"],\n",
    "            n_reserv=row[\"N_R\"],\n",
    "            trotter_step=row[\"Trotter_Step\"]\n",
    "        )\n",
    "        # DQFIM metrics:\n",
    "     \n",
    "        assert isinstance(row['num_sampled_states'],int)\n",
    "        dqfim_stats = compute_single_draw_stats(\n",
    "            row[\"dqfim_eigvals\"],\n",
    "            row[\"dqfim_full\"],\n",
    "            threshold=threshold,\n",
    "            spread_methods=spread_methods,\n",
    "            ddof=ddof,\n",
    "            scale=scale,\n",
    "            gamma=gamma,\n",
    "            n=row['num_sampled_states'],\n",
    "            V_theta=V_theta,\n",
    "            n_ctrl=row[\"N_ctrl\"],\n",
    "            n_reserv=row[\"N_R\"],\n",
    "            trotter_step=row[\"Trotter_Step\"]\n",
    "        )\n",
    "       \n",
    "        # Target DQFIM metrics:\n",
    "        target_stats = compute_single_draw_stats(\n",
    "            row[\"target_dqfim_eigvals\"],\n",
    "            row[\"target_dqfim_full\"],\n",
    "            threshold=threshold,\n",
    "            spread_methods=spread_methods,\n",
    "            ddof=ddof,\n",
    "            scale=scale,\n",
    "            gamma=gamma,\n",
    "            n=row['num_train'],\n",
    "            V_theta=V_theta,\n",
    "            n_ctrl=row[\"N_ctrl\"],\n",
    "            n_reserv=row[\"N_R\"],\n",
    "            trotter_step=row[\"Trotter_Step\"]\n",
    "        )\n",
    "        \n",
    "        updated_row = row.to_dict()\n",
    "        # Add the computed stats with suffixes to distinguish them.\n",
    "        updated_row.update({f\"GHZ_{k}\": v for k, v in ghz_stats.items()})\n",
    "        updated_row.update({f\"basis_{k}\": v for k, v in basis_stats.items()})\n",
    "        updated_row.update({f\"dqfim_{k}\": v for k, v in dqfim_stats.items()})\n",
    "        updated_row.update({f\"target_{k}\": v for k, v in target_stats.items()})\n",
    "        new_rows.append(updated_row)\n",
    "    return pd.DataFrame(new_rows)\n",
    "\n",
    "df_agg = aggregate_results(df_results)\n",
    "print(\"Aggregated DataFrame shape:\", df_agg.shape)\n",
    "display(df_agg.keys())\n",
    "\n",
    "\n",
    "df_final = update_with_all_qfim_metrics(df_agg)\n",
    "df_final.shape\n"
   ]
  },
  {
   "cell_type": "code",
   "execution_count": 114,
   "metadata": {},
   "outputs": [],
   "source": [
    "import pingouin as pg\n",
    "\n",
    "def analyze_correlations(df_merged, x_metric, metrics_of_interest, corr_threshold=0.2, p_threshold=0.05):\n",
    "    \"\"\"\n",
    "    Analyze pairwise correlations between a given x_metric and each metric in metrics_of_interest.\n",
    "    \n",
    "    Parameters\n",
    "    ----------\n",
    "    df_merged : pd.DataFrame\n",
    "        The merged DataFrame containing the columns of interest.\n",
    "    x_metric : str\n",
    "        The column name for the independent variable (e.g., \"avg_fidelity\").\n",
    "    metrics_of_interest : list of str\n",
    "        List of column names whose correlations with x_metric will be computed.\n",
    "    corr_threshold : float, optional\n",
    "        Minimum absolute correlation coefficient to report (default 0.2).\n",
    "    p_threshold : float, optional\n",
    "        Maximum p-value threshold to report (default 0.05).\n",
    "        \n",
    "    Returns\n",
    "    -------\n",
    "    pearson_results : dict\n",
    "        Dictionary mapping each metric to its Pearson correlation coefficient and p-value.\n",
    "    spearman_results : dict\n",
    "        Dictionary mapping each metric to its Spearman correlation coefficient and p-value.\n",
    "    \"\"\"\n",
    "    # Create a new DataFrame with the columns of interest and drop rows with NaN values.\n",
    "    df_corr = df_merged[[x_metric] + metrics_of_interest].copy()\n",
    "    df_corr = df_corr.dropna(subset=[x_metric] + metrics_of_interest)\n",
    "    # print(\"Columns in df_corr:\", df_corr.columns)\n",
    "    # print(\"Number of rows after dropna:\", len(df_corr))\n",
    "    \n",
    "    # Ensure that each metric column contains float values (e.g., convert from JAX arrays if needed)\n",
    "    for col in metrics_of_interest:\n",
    "        df_corr[col] = df_corr[col].apply(\n",
    "            lambda val: float(val.item()) if hasattr(val, \"item\") else float(val)\n",
    "        )\n",
    "    \n",
    "    # Compute Pearson correlations for each metric.\n",
    "    pearson_results = {}\n",
    "    for col in metrics_of_interest:\n",
    "        res_df = pg.corr(x=df_corr[x_metric], y=df_corr[col], method=\"pearson\")\n",
    "        r_val = res_df[\"r\"].iloc[0]\n",
    "        p_val = res_df[\"p-val\"].iloc[0]\n",
    "        pearson_results[col] = {\"pearson_r\": r_val, \"p_value\": p_val}\n",
    "    \n",
    "    # Compute Spearman correlations for each metric.\n",
    "    spearman_results = {}\n",
    "    for col in metrics_of_interest:\n",
    "        sp_df = pg.corr(x=df_corr[x_metric], y=df_corr[col], method=\"spearman\")\n",
    "        rho_val = sp_df[\"r\"].iloc[0]\n",
    "        p_val = sp_df[\"p-val\"].iloc[0]\n",
    "        spearman_results[col] = {\"spearman_rho\": rho_val, \"p_value\": p_val}\n",
    "    \n",
    "    # Print out the correlations that meet the filtering thresholds.\n",
    "    print(f\"\\nPairwise correlations vs. {x_metric} (Pearson):\")\n",
    "    for metric, vals in pearson_results.items():\n",
    "        if abs(vals[\"pearson_r\"]) > corr_threshold and vals[\"p_value\"] < p_threshold:\n",
    "            print(f\"{metric}: r={vals['pearson_r']:.3f}, p={vals['p_value']:.3g}\")\n",
    "    \n",
    "    print(f\"\\nPairwise correlations vs. {x_metric} (Spearman):\")\n",
    "    for metric, vals in spearman_results.items():\n",
    "        if abs(vals[\"spearman_rho\"]) > corr_threshold and vals[\"p_value\"] < p_threshold:\n",
    "            print(f\"{metric}: rho={vals['spearman_rho']:.3f}, p={vals['p_value']:.3g}\")\n",
    "    \n",
    "    return pearson_results, spearman_results\n"
   ]
  },
  {
   "cell_type": "code",
   "execution_count": 234,
   "metadata": {},
   "outputs": [
    {
     "name": "stdout",
     "output_type": "stream",
     "text": [
      "\n",
      "Pairwise correlations vs. avg_fidelity (Pearson):\n",
      "\n",
      "Pairwise correlations vs. avg_fidelity (Spearman):\n",
      "\n",
      "Pairwise correlations vs. avg_fidelity (Pearson):\n",
      "\n",
      "Pairwise correlations vs. avg_fidelity (Spearman):\n",
      "\n",
      "Pairwise correlations vs. avg_fidelity (Pearson):\n",
      "\n",
      "Pairwise correlations vs. avg_fidelity (Spearman):\n",
      "\n",
      "Pairwise correlations vs. avg_fidelity (Pearson):\n",
      "target_trace_normalized_by_rank: r=-0.107, p=0.00745\n",
      "target_abbas_deff_raw: r=-0.143, p=0.000366\n",
      "\n",
      "Pairwise correlations vs. avg_fidelity (Spearman):\n"
     ]
    },
    {
     "name": "stderr",
     "output_type": "stream",
     "text": [
      "/Users/sophieblock/miniforge3/envs/torch_env/lib/python3.11/site-packages/pingouin/correlation.py:604: ConstantInputWarning:\n",
      "\n",
      "An input array is constant; the correlation coefficient is not defined.\n",
      "\n",
      "/Users/sophieblock/miniforge3/envs/torch_env/lib/python3.11/site-packages/pingouin/correlation.py:606: ConstantInputWarning:\n",
      "\n",
      "An input array is constant; the correlation coefficient is not defined.\n",
      "\n",
      "/Users/sophieblock/miniforge3/envs/torch_env/lib/python3.11/site-packages/pingouin/correlation.py:604: ConstantInputWarning:\n",
      "\n",
      "An input array is constant; the correlation coefficient is not defined.\n",
      "\n",
      "/Users/sophieblock/miniforge3/envs/torch_env/lib/python3.11/site-packages/pingouin/correlation.py:606: ConstantInputWarning:\n",
      "\n",
      "An input array is constant; the correlation coefficient is not defined.\n",
      "\n"
     ]
    }
   ],
   "source": [
    "CORR_THRESHOLD = 0.1\n",
    "P_THRESHOLD = 0.05\n",
    "x_metric = \"avg_fidelity\"\n",
    "metrics_of_interest_ghz = [\n",
    "\n",
    "  \n",
    "       'GHZ_var_all_normalized_by_rank', 'GHZ_var_nonzero_normalized_by_rank',\n",
    "       'GHZ_trace_normalized_by_rank', \n",
    "       'GHZ_var_nonzero_log',  'GHZ_ipr_deff_norm',\n",
    "       'GHZ_abbas_deff_raw', 'GHZ_abbas_deff_norm', 'GHZ_d_eff',\n",
    "       'GHZ_spread_metric_variance', 'GHZ_spread_metric_mad',\n",
    "]\n",
    "# Now you can use these common thresholds in your calls:\n",
    "pearson_corrs_ghz, spearman_corrs_ghz = analyze_correlations(\n",
    "    df_final, x_metric, metrics_of_interest_ghz,\n",
    "    corr_threshold=CORR_THRESHOLD, p_threshold=P_THRESHOLD\n",
    ")\n",
    "\n",
    "\n",
    "metrics_of_interest_basis = [\n",
    "\n",
    "\n",
    "  \n",
    "       'basis_var_all_normalized_by_rank',\n",
    "       'basis_var_nonzero_normalized_by_rank',\n",
    "       'basis_trace_normalized_by_rank',\n",
    "        'basis_var_nonzero_log',\n",
    "      'basis_ipr_deff_norm', 'basis_abbas_deff_raw',\n",
    "       'basis_abbas_deff_norm', 'basis_d_eff', 'basis_spread_metric_variance',\n",
    "       'basis_spread_metric_mad'\n",
    "]\n",
    "pearson_corrs_basis, spearman_corrs_basis = analyze_correlations(\n",
    "    df_final, x_metric, metrics_of_interest_basis,\n",
    "    corr_threshold=CORR_THRESHOLD, p_threshold=P_THRESHOLD\n",
    ")\n",
    "\n",
    "\n",
    "metrics_of_interest_dqfim = [\n",
    "\n",
    "     \n",
    "       'dqfim_var_all_normalized_by_rank',\n",
    "       'dqfim_var_nonzero_normalized_by_rank',\n",
    "       'dqfim_trace_normalized_by_rank',\n",
    "       'dqfim_var_nonzero_log',\n",
    "     'dqfim_ipr_deff_norm', 'dqfim_abbas_deff_raw',\n",
    "       'dqfim_abbas_deff_norm', 'dqfim_d_eff', 'dqfim_spread_metric_variance',\n",
    "       'dqfim_spread_metric_mad'\n",
    "]\n",
    "pearson_corrs_dqfim, spearman_corrs_dqfim = analyze_correlations(\n",
    "    df_final, x_metric, metrics_of_interest_dqfim,\n",
    "    corr_threshold=CORR_THRESHOLD, p_threshold=P_THRESHOLD\n",
    ")\n",
    "\n",
    "\n",
    "metrics_of_interest_targ_dqfim = [\n",
    "    \n",
    "       'target_var_all_normalized_by_rank',\n",
    "       'target_var_nonzero_normalized_by_rank',\n",
    "       'target_trace_normalized_by_rank',\n",
    "       'target_var_nonzero_log',\n",
    "      'target_ipr_deff_norm', 'target_abbas_deff_raw',\n",
    "       'target_abbas_deff_norm', 'target_d_eff',\n",
    "       'target_spread_metric_variance', 'target_spread_metric_mad']\n",
    "pearson_corrs_targ, spearman_corrs_targ = analyze_correlations(\n",
    "    df_final, x_metric, metrics_of_interest_targ_dqfim,\n",
    "    corr_threshold=CORR_THRESHOLD, p_threshold=P_THRESHOLD\n",
    ")\n",
    "# print(f\"\\nPairwise correlations vs. {x_metric} (Pearson):\")\n",
    "# for metric, vals in pearson_corrs.items():\n",
    "    \n",
    "#     print(f\"{metric}: r={vals['pearson_r']:.3f}, p={vals['p_value']:.3g}\")"
   ]
  },
  {
   "cell_type": "code",
   "execution_count": null,
   "metadata": {},
   "outputs": [],
   "source": [
    "selected_metrics = ['basis_var_nonzero_normalized_by_rank', 'basis_trace_normalized_by_rank', 'dqfim_ipr_deff_raw', 'dqfim_abbas_deff_norm','target_spread_metric_mad']"
   ]
  },
  {
   "cell_type": "code",
   "execution_count": 213,
   "metadata": {},
   "outputs": [
    {
     "data": {
      "image/png": "[encoded data removed]",
      "text/plain": [
       "<Figure size 1200x1000 with 2 Axes>"
      ]
     },
     "metadata": {},
     "output_type": "display_data"
    }
   ],
   "source": [
    "import seaborn as sns\n",
    "predictors = ['avg_fidelity','GHZ_var_all_normalized_by_rank','basis_var_all_normalized_by_rank','target_ipr_deff_norm','basis_ipr_deff_norm','dqfim_ipr_deff_norm','dqfim_abbas_deff_norm']\n",
    "predictors = ['error','dqfim_trace_normalized_by_rank','dqfim_abbas_deff_raw','basis_spread_metric_variance']\n",
    "predictors = ['error','target_trace_normalized_by_rank','target_abbas_deff_raw','target_var_all_normalized_by_rank']\n",
    "corr_matrix = df_final[predictors].corr()\n",
    "\n",
    "plt.figure(figsize=(12, 10))\n",
    "sns.heatmap(corr_matrix, annot=True, fmt=\".2f\", cmap=\"coolwarm\",center=0)\n",
    "plt.title(\"Correlation Matrix of QFIM Metrics and Avg Fidelity\")\n",
    "plt.show()"
   ]
  },
  {
   "cell_type": "code",
   "execution_count": 204,
   "metadata": {},
   "outputs": [
    {
     "data": {
      "image/png": "[encoded data removed]",
      "text/plain": [
       "<Figure size 1200x1000 with 2 Axes>"
      ]
     },
     "metadata": {},
     "output_type": "display_data"
    }
   ],
   "source": [
    "\n",
    "predictors = ['error','dqfim_trace_normalized_by_rank','dqfim_abbas_deff_raw','dqfim_var_all_normalized_by_rank']\n",
    "corr_matrix = df_final[predictors].corr()\n",
    "\n",
    "plt.figure(figsize=(12, 10))\n",
    "sns.heatmap(corr_matrix, annot=True, fmt=\".2f\", cmap=\"coolwarm\",center=0)\n",
    "plt.title(\"Correlation Matrix of QFIM Metrics and Avg Fidelity\")\n",
    "plt.show()"
   ]
  },
  {
   "cell_type": "code",
   "execution_count": null,
   "metadata": {},
   "outputs": [],
   "source": []
  },
  {
   "cell_type": "code",
   "execution_count": 13,
   "metadata": {},
   "outputs": [
    {
     "data": {
      "text/plain": [
       "Index(['test_key', 'gate', 'fidelities_list', 'avg_fidelity', 'error',\n",
       "       'qfim_eigvals_GHZ', 'qfim_full_GHZ', 'entropy_GHZ', 'qfim_eigvals',\n",
       "       'qfim_full', 'entropy', 'dqfim_eigvals', 'dqfim_full',\n",
       "       'dqfim_entropies', 'target_dqfim_eigvals', 'target_dqfim_full',\n",
       "       'target_dqfim_entropies', 'N_ctrl', 'N_R', 'Trotter_Step', 'L',\n",
       "       'num_sampled_states', 'GHZ_draw_rank', 'GHZ_var_all_eigenvalues',\n",
       "       'GHZ_var_nonzero_eigenvalues', 'GHZ_trace_eigenvalues',\n",
       "       'GHZ_var_all_normalized_by_param_count',\n",
       "       'GHZ_var_all_normalized_by_rank', 'GHZ_var_nonzero_normalized_by_rank',\n",
       "       'GHZ_trace_normalized_by_rank', 'GHZ_trace_normalized_by_param_count',\n",
       "       'GHZ_var_nonzero_log', 'GHZ_ipr_deff_raw', 'GHZ_ipr_deff_norm',\n",
       "       'GHZ_abbas_deff_raw', 'GHZ_abbas_deff_norm', 'GHZ_d_eff',\n",
       "       'GHZ_spread_metric_variance', 'GHZ_spread_metric_mad',\n",
       "       'basis_draw_rank', 'basis_var_all_eigenvalues',\n",
       "       'basis_var_nonzero_eigenvalues', 'basis_trace_eigenvalues',\n",
       "       'basis_var_all_normalized_by_param_count',\n",
       "       'basis_var_all_normalized_by_rank',\n",
       "       'basis_var_nonzero_normalized_by_rank',\n",
       "       'basis_trace_normalized_by_rank',\n",
       "       'basis_trace_normalized_by_param_count', 'basis_var_nonzero_log',\n",
       "       'basis_ipr_deff_raw', 'basis_ipr_deff_norm', 'basis_abbas_deff_raw',\n",
       "       'basis_abbas_deff_norm', 'basis_d_eff', 'basis_spread_metric_variance',\n",
       "       'basis_spread_metric_mad', 'dqfim_draw_rank',\n",
       "       'dqfim_var_all_eigenvalues', 'dqfim_var_nonzero_eigenvalues',\n",
       "       'dqfim_trace_eigenvalues', 'dqfim_var_all_normalized_by_param_count',\n",
       "       'dqfim_var_all_normalized_by_rank',\n",
       "       'dqfim_var_nonzero_normalized_by_rank',\n",
       "       'dqfim_trace_normalized_by_rank',\n",
       "       'dqfim_trace_normalized_by_param_count', 'dqfim_var_nonzero_log',\n",
       "       'dqfim_ipr_deff_raw', 'dqfim_ipr_deff_norm', 'dqfim_abbas_deff_raw',\n",
       "       'dqfim_abbas_deff_norm', 'dqfim_d_eff', 'dqfim_spread_metric_variance',\n",
       "       'dqfim_spread_metric_mad', 'target_draw_rank',\n",
       "       'target_var_all_eigenvalues', 'target_var_nonzero_eigenvalues',\n",
       "       'target_trace_eigenvalues', 'target_var_all_normalized_by_param_count',\n",
       "       'target_var_all_normalized_by_rank',\n",
       "       'target_var_nonzero_normalized_by_rank',\n",
       "       'target_trace_normalized_by_rank',\n",
       "       'target_trace_normalized_by_param_count', 'target_var_nonzero_log',\n",
       "       'target_ipr_deff_raw', 'target_ipr_deff_norm', 'target_abbas_deff_raw',\n",
       "       'target_abbas_deff_norm', 'target_d_eff',\n",
       "       'target_spread_metric_variance', 'target_spread_metric_mad'],\n",
       "      dtype='object')"
      ]
     },
     "execution_count": 13,
     "metadata": {},
     "output_type": "execute_result"
    }
   ],
   "source": [
    "df_final.columns"
   ]
  },
  {
   "cell_type": "code",
   "execution_count": 17,
   "metadata": {},
   "outputs": [
    {
     "data": {
      "text/html": [
       "<div>\n",
       "<style scoped>\n",
       "    .dataframe tbody tr th:only-of-type {\n",
       "        vertical-align: middle;\n",
       "    }\n",
       "\n",
       "    .dataframe tbody tr th {\n",
       "        vertical-align: top;\n",
       "    }\n",
       "\n",
       "    .dataframe thead th {\n",
       "        text-align: right;\n",
       "    }\n",
       "</style>\n",
       "<table border=\"1\" class=\"dataframe\">\n",
       "  <thead>\n",
       "    <tr style=\"text-align: right;\">\n",
       "      <th></th>\n",
       "      <th>gate</th>\n",
       "      <th>test_key</th>\n",
       "      <th>target_dqfim_eigvals</th>\n",
       "      <th>target_trace_normalized_by_rank</th>\n",
       "      <th>qfim_eigvals_GHZ</th>\n",
       "      <th>GHZ_trace_normalized_by_rank</th>\n",
       "    </tr>\n",
       "  </thead>\n",
       "  <tbody>\n",
       "    <tr>\n",
       "      <th>0</th>\n",
       "      <td>U2_0</td>\n",
       "      <td>test104</td>\n",
       "      <td>[-1.2358426e-16, -7.742247e-17, -4.27567e-17, ...</td>\n",
       "      <td>1.167499</td>\n",
       "      <td>[-2.3746058e-16, -1.9421301e-16, -1.174653e-16...</td>\n",
       "      <td>5.227454</td>\n",
       "    </tr>\n",
       "    <tr>\n",
       "      <th>1</th>\n",
       "      <td>U2_1</td>\n",
       "      <td>test104</td>\n",
       "      <td>[-8.9524295e-17, -5.0148797e-17, -3.8625023e-1...</td>\n",
       "      <td>1.301251</td>\n",
       "      <td>[-2.3746058e-16, -1.9421301e-16, -1.174653e-16...</td>\n",
       "      <td>5.227454</td>\n",
       "    </tr>\n",
       "  </tbody>\n",
       "</table>\n",
       "</div>"
      ],
      "text/plain": [
       "   gate test_key                               target_dqfim_eigvals  \\\n",
       "0  U2_0  test104  [-1.2358426e-16, -7.742247e-17, -4.27567e-17, ...   \n",
       "1  U2_1  test104  [-8.9524295e-17, -5.0148797e-17, -3.8625023e-1...   \n",
       "\n",
       "   target_trace_normalized_by_rank  \\\n",
       "0                         1.167499   \n",
       "1                         1.301251   \n",
       "\n",
       "                                    qfim_eigvals_GHZ  \\\n",
       "0  [-2.3746058e-16, -1.9421301e-16, -1.174653e-16...   \n",
       "1  [-2.3746058e-16, -1.9421301e-16, -1.174653e-16...   \n",
       "\n",
       "   GHZ_trace_normalized_by_rank  \n",
       "0                      5.227454  \n",
       "1                      5.227454  "
      ]
     },
     "metadata": {},
     "output_type": "display_data"
    }
   ],
   "source": [
    "# Filter for test_key 'test104' and gates 'U2_0' or 'U2_1'\n",
    "subset_df = df_final[\n",
    "    (df_final[\"test_key\"] == \"test104\") & \n",
    "    (df_final[\"gate\"].isin([\"U2_0\", \"U2_1\"]))\n",
    "][[\"gate\", \"test_key\", \"target_dqfim_eigvals\",'target_trace_normalized_by_rank', \"qfim_eigvals_GHZ\",'GHZ_trace_normalized_by_rank']]\n",
    "\n",
    "display(subset_df)"
   ]
  },
  {
   "cell_type": "code",
   "execution_count": 235,
   "metadata": {},
   "outputs": [
    {
     "name": "stdout",
     "output_type": "stream",
     "text": [
      "Aggregated DataFrame (one row per test_key):\n",
      "Index(['test_key', 'avg_fidelity', 'error', 'avg_infidelity', 'N_ctrl', 'N_R',\n",
      "       'Trotter_Step', 'num_sampled_states', 'num_train', 'GHZ_draw_rank',\n",
      "       'GHZ_var_all_eigenvalues', 'GHZ_var_nonzero_eigenvalues',\n",
      "       'GHZ_trace_eigenvalues', 'GHZ_var_all_normalized_by_param_count',\n",
      "       'GHZ_var_all_normalized_by_rank', 'GHZ_var_nonzero_normalized_by_rank',\n",
      "       'GHZ_trace_normalized_by_rank', 'GHZ_trace_normalized_by_param_count',\n",
      "       'GHZ_var_nonzero_log', 'GHZ_ipr_deff_raw', 'GHZ_ipr_deff_norm',\n",
      "       'GHZ_abbas_deff_raw', 'GHZ_abbas_deff_norm', 'GHZ_d_eff',\n",
      "       'GHZ_spread_metric_variance', 'GHZ_spread_metric_mad',\n",
      "       'basis_draw_rank', 'basis_var_all_eigenvalues',\n",
      "       'basis_var_nonzero_eigenvalues', 'basis_trace_eigenvalues',\n",
      "       'basis_var_all_normalized_by_param_count',\n",
      "       'basis_var_all_normalized_by_rank',\n",
      "       'basis_var_nonzero_normalized_by_rank',\n",
      "       'basis_trace_normalized_by_rank',\n",
      "       'basis_trace_normalized_by_param_count', 'basis_var_nonzero_log',\n",
      "       'basis_ipr_deff_raw', 'basis_ipr_deff_norm', 'basis_abbas_deff_raw',\n",
      "       'basis_abbas_deff_norm', 'basis_d_eff', 'basis_spread_metric_variance',\n",
      "       'basis_spread_metric_mad', 'dqfim_draw_rank',\n",
      "       'dqfim_var_all_eigenvalues', 'dqfim_var_nonzero_eigenvalues',\n",
      "       'dqfim_trace_eigenvalues', 'dqfim_var_all_normalized_by_param_count',\n",
      "       'dqfim_var_all_normalized_by_rank',\n",
      "       'dqfim_var_nonzero_normalized_by_rank',\n",
      "       'dqfim_trace_normalized_by_rank',\n",
      "       'dqfim_trace_normalized_by_param_count', 'dqfim_var_nonzero_log',\n",
      "       'dqfim_ipr_deff_raw', 'dqfim_ipr_deff_norm', 'dqfim_abbas_deff_raw',\n",
      "       'dqfim_abbas_deff_norm', 'dqfim_d_eff', 'dqfim_spread_metric_variance',\n",
      "       'dqfim_spread_metric_mad', 'target_draw_rank',\n",
      "       'target_var_all_eigenvalues', 'target_var_nonzero_eigenvalues',\n",
      "       'target_trace_eigenvalues', 'target_var_all_normalized_by_param_count',\n",
      "       'target_var_all_normalized_by_rank',\n",
      "       'target_var_nonzero_normalized_by_rank',\n",
      "       'target_trace_normalized_by_rank',\n",
      "       'target_trace_normalized_by_param_count', 'target_var_nonzero_log',\n",
      "       'target_ipr_deff_raw', 'target_ipr_deff_norm', 'target_abbas_deff_raw',\n",
      "       'target_abbas_deff_norm', 'target_d_eff',\n",
      "       'target_spread_metric_variance', 'target_spread_metric_mad'],\n",
      "      dtype='object')\n"
     ]
    },
    {
     "data": {
      "text/html": [
       "<div>\n",
       "<style scoped>\n",
       "    .dataframe tbody tr th:only-of-type {\n",
       "        vertical-align: middle;\n",
       "    }\n",
       "\n",
       "    .dataframe tbody tr th {\n",
       "        vertical-align: top;\n",
       "    }\n",
       "\n",
       "    .dataframe thead th {\n",
       "        text-align: right;\n",
       "    }\n",
       "</style>\n",
       "<table border=\"1\" class=\"dataframe\">\n",
       "  <thead>\n",
       "    <tr style=\"text-align: right;\">\n",
       "      <th></th>\n",
       "      <th>test_key</th>\n",
       "      <th>target_trace_normalized_by_rank</th>\n",
       "      <th>GHZ_trace_normalized_by_rank</th>\n",
       "    </tr>\n",
       "  </thead>\n",
       "  <tbody>\n",
       "    <tr>\n",
       "      <th>2</th>\n",
       "      <td>test104</td>\n",
       "      <td>1.31618</td>\n",
       "      <td>5.227454</td>\n",
       "    </tr>\n",
       "  </tbody>\n",
       "</table>\n",
       "</div>"
      ],
      "text/plain": [
       "  test_key  target_trace_normalized_by_rank  GHZ_trace_normalized_by_rank\n",
       "2  test104                          1.31618                      5.227454"
      ]
     },
     "metadata": {},
     "output_type": "display_data"
    }
   ],
   "source": [
    "numeric_cols = []\n",
    "for col in df_final.columns:\n",
    "    if pd.api.types.is_numeric_dtype(df_final[col]):\n",
    "        numeric_cols.append(col)\n",
    "\n",
    "# 2) Group by test_key and compute the mean for these numeric columns.\n",
    "#    numeric_only=True ensures that Pandas only attempts to average numeric data.\n",
    "df_agg_by_test_key = (\n",
    "    df_final\n",
    "    .groupby(\"test_key\")[numeric_cols]\n",
    "    .mean(numeric_only=True)  # or just .mean() if you're on older Pandas versions\n",
    "    .reset_index()\n",
    ")\n",
    "\n",
    "print(\"Aggregated DataFrame (one row per test_key):\")\n",
    "print(df_agg_by_test_key.columns)\n",
    "# df_agg_by_test_key.head()\n",
    "subset_df_new = df_agg_by_test_key[df_agg_by_test_key[\"test_key\"] == \"test104\"][[\"test_key\",'target_trace_normalized_by_rank', 'GHZ_trace_normalized_by_rank']]\n",
    "\n",
    "display(subset_df_new)"
   ]
  },
  {
   "cell_type": "code",
   "execution_count": 21,
   "metadata": {},
   "outputs": [
    {
     "data": {
      "text/html": [
       "<div>\n",
       "<style scoped>\n",
       "    .dataframe tbody tr th:only-of-type {\n",
       "        vertical-align: middle;\n",
       "    }\n",
       "\n",
       "    .dataframe tbody tr th {\n",
       "        vertical-align: top;\n",
       "    }\n",
       "\n",
       "    .dataframe thead th {\n",
       "        text-align: right;\n",
       "    }\n",
       "</style>\n",
       "<table border=\"1\" class=\"dataframe\">\n",
       "  <thead>\n",
       "    <tr style=\"text-align: right;\">\n",
       "      <th></th>\n",
       "      <th>test_key</th>\n",
       "      <th>avg_fidelity</th>\n",
       "      <th>error</th>\n",
       "      <th>N_ctrl</th>\n",
       "      <th>N_R</th>\n",
       "      <th>Trotter_Step</th>\n",
       "      <th>num_sampled_states</th>\n",
       "      <th>GHZ_draw_rank</th>\n",
       "      <th>GHZ_var_all_eigenvalues</th>\n",
       "      <th>GHZ_var_nonzero_eigenvalues</th>\n",
       "      <th>...</th>\n",
       "      <th>target_trace_normalized_by_rank</th>\n",
       "      <th>target_trace_normalized_by_param_count</th>\n",
       "      <th>target_var_nonzero_log</th>\n",
       "      <th>target_ipr_deff_raw</th>\n",
       "      <th>target_ipr_deff_norm</th>\n",
       "      <th>target_abbas_deff_raw</th>\n",
       "      <th>target_abbas_deff_norm</th>\n",
       "      <th>target_d_eff</th>\n",
       "      <th>target_spread_metric_variance</th>\n",
       "      <th>target_spread_metric_mad</th>\n",
       "    </tr>\n",
       "  </thead>\n",
       "  <tbody>\n",
       "    <tr>\n",
       "      <th>0</th>\n",
       "      <td>test104</td>\n",
       "      <td>0.995506</td>\n",
       "      <td>-6.319582</td>\n",
       "      <td>2.0</td>\n",
       "      <td>1.0</td>\n",
       "      <td>14.0</td>\n",
       "      <td>100.0</td>\n",
       "      <td>15.0</td>\n",
       "      <td>135.964760</td>\n",
       "      <td>276.241755</td>\n",
       "      <td>...</td>\n",
       "      <td>1.127361</td>\n",
       "      <td>0.545497</td>\n",
       "      <td>2.526072</td>\n",
       "      <td>1.437149</td>\n",
       "      <td>1.437149</td>\n",
       "      <td>4.947428</td>\n",
       "      <td>0.821075</td>\n",
       "      <td>2.467806</td>\n",
       "      <td>6.666071</td>\n",
       "      <td>2.533476</td>\n",
       "    </tr>\n",
       "    <tr>\n",
       "      <th>1</th>\n",
       "      <td>test122</td>\n",
       "      <td>0.996135</td>\n",
       "      <td>-6.010960</td>\n",
       "      <td>2.0</td>\n",
       "      <td>1.0</td>\n",
       "      <td>14.0</td>\n",
       "      <td>100.0</td>\n",
       "      <td>15.0</td>\n",
       "      <td>147.737848</td>\n",
       "      <td>300.070239</td>\n",
       "      <td>...</td>\n",
       "      <td>0.637075</td>\n",
       "      <td>0.308262</td>\n",
       "      <td>1.245983</td>\n",
       "      <td>1.622868</td>\n",
       "      <td>1.622868</td>\n",
       "      <td>4.008202</td>\n",
       "      <td>0.845148</td>\n",
       "      <td>2.974297</td>\n",
       "      <td>4.707227</td>\n",
       "      <td>2.234916</td>\n",
       "    </tr>\n",
       "    <tr>\n",
       "      <th>2</th>\n",
       "      <td>test129</td>\n",
       "      <td>0.997454</td>\n",
       "      <td>-6.377038</td>\n",
       "      <td>2.0</td>\n",
       "      <td>1.0</td>\n",
       "      <td>14.0</td>\n",
       "      <td>100.0</td>\n",
       "      <td>15.0</td>\n",
       "      <td>3.334791</td>\n",
       "      <td>6.182687</td>\n",
       "      <td>...</td>\n",
       "      <td>0.337989</td>\n",
       "      <td>0.163543</td>\n",
       "      <td>-0.560077</td>\n",
       "      <td>2.645532</td>\n",
       "      <td>2.645532</td>\n",
       "      <td>3.275069</td>\n",
       "      <td>0.920214</td>\n",
       "      <td>3.585424</td>\n",
       "      <td>5.566216</td>\n",
       "      <td>2.625543</td>\n",
       "    </tr>\n",
       "    <tr>\n",
       "      <th>3</th>\n",
       "      <td>test175</td>\n",
       "      <td>0.996774</td>\n",
       "      <td>-6.302271</td>\n",
       "      <td>2.0</td>\n",
       "      <td>1.0</td>\n",
       "      <td>14.0</td>\n",
       "      <td>100.0</td>\n",
       "      <td>15.0</td>\n",
       "      <td>3.620316</td>\n",
       "      <td>6.239774</td>\n",
       "      <td>...</td>\n",
       "      <td>0.487924</td>\n",
       "      <td>0.236092</td>\n",
       "      <td>0.272318</td>\n",
       "      <td>2.423594</td>\n",
       "      <td>2.423594</td>\n",
       "      <td>4.042034</td>\n",
       "      <td>0.907585</td>\n",
       "      <td>3.507252</td>\n",
       "      <td>4.455317</td>\n",
       "      <td>2.277409</td>\n",
       "    </tr>\n",
       "    <tr>\n",
       "      <th>4</th>\n",
       "      <td>test18</td>\n",
       "      <td>0.998241</td>\n",
       "      <td>-6.645907</td>\n",
       "      <td>2.0</td>\n",
       "      <td>1.0</td>\n",
       "      <td>14.0</td>\n",
       "      <td>100.0</td>\n",
       "      <td>15.0</td>\n",
       "      <td>3.815765</td>\n",
       "      <td>6.809314</td>\n",
       "      <td>...</td>\n",
       "      <td>0.278918</td>\n",
       "      <td>0.134961</td>\n",
       "      <td>-1.651836</td>\n",
       "      <td>4.530555</td>\n",
       "      <td>4.530555</td>\n",
       "      <td>3.236409</td>\n",
       "      <td>0.976508</td>\n",
       "      <td>4.121240</td>\n",
       "      <td>5.419548</td>\n",
       "      <td>2.822660</td>\n",
       "    </tr>\n",
       "  </tbody>\n",
       "</table>\n",
       "<p>5 rows × 75 columns</p>\n",
       "</div>"
      ],
      "text/plain": [
       "  test_key  avg_fidelity     error  N_ctrl  N_R  Trotter_Step  \\\n",
       "0  test104      0.995506 -6.319582     2.0  1.0          14.0   \n",
       "1  test122      0.996135 -6.010960     2.0  1.0          14.0   \n",
       "2  test129      0.997454 -6.377038     2.0  1.0          14.0   \n",
       "3  test175      0.996774 -6.302271     2.0  1.0          14.0   \n",
       "4   test18      0.998241 -6.645907     2.0  1.0          14.0   \n",
       "\n",
       "   num_sampled_states  GHZ_draw_rank  GHZ_var_all_eigenvalues  \\\n",
       "0               100.0           15.0               135.964760   \n",
       "1               100.0           15.0               147.737848   \n",
       "2               100.0           15.0                 3.334791   \n",
       "3               100.0           15.0                 3.620316   \n",
       "4               100.0           15.0                 3.815765   \n",
       "\n",
       "   GHZ_var_nonzero_eigenvalues  ...  target_trace_normalized_by_rank  \\\n",
       "0                   276.241755  ...                         1.127361   \n",
       "1                   300.070239  ...                         0.637075   \n",
       "2                     6.182687  ...                         0.337989   \n",
       "3                     6.239774  ...                         0.487924   \n",
       "4                     6.809314  ...                         0.278918   \n",
       "\n",
       "   target_trace_normalized_by_param_count  target_var_nonzero_log  \\\n",
       "0                                0.545497                2.526072   \n",
       "1                                0.308262                1.245983   \n",
       "2                                0.163543               -0.560077   \n",
       "3                                0.236092                0.272318   \n",
       "4                                0.134961               -1.651836   \n",
       "\n",
       "   target_ipr_deff_raw  target_ipr_deff_norm  target_abbas_deff_raw  \\\n",
       "0             1.437149              1.437149               4.947428   \n",
       "1             1.622868              1.622868               4.008202   \n",
       "2             2.645532              2.645532               3.275069   \n",
       "3             2.423594              2.423594               4.042034   \n",
       "4             4.530555              4.530555               3.236409   \n",
       "\n",
       "   target_abbas_deff_norm  target_d_eff  target_spread_metric_variance  \\\n",
       "0                0.821075      2.467806                       6.666071   \n",
       "1                0.845148      2.974297                       4.707227   \n",
       "2                0.920214      3.585424                       5.566216   \n",
       "3                0.907585      3.507252                       4.455317   \n",
       "4                0.976508      4.121240                       5.419548   \n",
       "\n",
       "   target_spread_metric_mad  \n",
       "0                  2.533476  \n",
       "1                  2.234916  \n",
       "2                  2.625543  \n",
       "3                  2.277409  \n",
       "4                  2.822660  \n",
       "\n",
       "[5 rows x 75 columns]"
      ]
     },
     "execution_count": 21,
     "metadata": {},
     "output_type": "execute_result"
    }
   ],
   "source": [
    "df_agg_by_test_key.head()"
   ]
  },
  {
   "cell_type": "code",
   "execution_count": 238,
   "metadata": {},
   "outputs": [
    {
     "name": "stdout",
     "output_type": "stream",
     "text": [
      "\n",
      "Pairwise correlations vs. avg_fidelity (Pearson):\n",
      "\n",
      "Pairwise correlations vs. avg_fidelity (Spearman):\n",
      "GHZ_spread_metric_mad: rho=-0.396, p=0.0125\n",
      "\n",
      "Pairwise correlations vs. avg_fidelity (Pearson):\n",
      "basis_var_all_normalized_by_rank: r=-0.215, p=0.189\n",
      "basis_var_nonzero_normalized_by_rank: r=-0.211, p=0.196\n",
      "basis_trace_normalized_by_rank: r=-0.268, p=0.0989\n",
      "basis_var_nonzero_log: r=-0.267, p=0.101\n",
      "basis_ipr_deff_norm: r=0.264, p=0.105\n",
      "basis_d_eff: r=0.236, p=0.148\n",
      "basis_spread_metric_mad: r=-0.284, p=0.0795\n",
      "\n",
      "Pairwise correlations vs. avg_fidelity (Spearman):\n",
      "basis_var_all_normalized_by_rank: rho=-0.214, p=0.19\n",
      "basis_var_nonzero_normalized_by_rank: rho=-0.212, p=0.196\n",
      "basis_var_nonzero_log: rho=-0.212, p=0.196\n",
      "basis_d_eff: rho=0.235, p=0.149\n",
      "basis_spread_metric_mad: rho=-0.261, p=0.108\n",
      "\n",
      "Pairwise correlations vs. avg_fidelity (Pearson):\n",
      "dqfim_abbas_deff_raw: r=-0.210, p=0.2\n",
      "\n",
      "Pairwise correlations vs. avg_fidelity (Spearman):\n",
      "dqfim_spread_metric_variance: rho=-0.218, p=0.183\n",
      "\n",
      "Pairwise correlations vs. avg_fidelity (Pearson):\n",
      "target_abbas_deff_raw: r=-0.285, p=0.0785\n",
      "target_spread_metric_variance: r=-0.280, p=0.0848\n",
      "target_spread_metric_mad: r=-0.290, p=0.0731\n",
      "\n",
      "Pairwise correlations vs. avg_fidelity (Spearman):\n",
      "target_spread_metric_variance: rho=-0.394, p=0.0131\n",
      "target_spread_metric_mad: rho=-0.334, p=0.0378\n"
     ]
    },
    {
     "name": "stderr",
     "output_type": "stream",
     "text": [
      "/Users/sophieblock/miniforge3/envs/torch_env/lib/python3.11/site-packages/pingouin/correlation.py:604: ConstantInputWarning:\n",
      "\n",
      "An input array is constant; the correlation coefficient is not defined.\n",
      "\n",
      "/Users/sophieblock/miniforge3/envs/torch_env/lib/python3.11/site-packages/pingouin/correlation.py:606: ConstantInputWarning:\n",
      "\n",
      "An input array is constant; the correlation coefficient is not defined.\n",
      "\n",
      "/Users/sophieblock/miniforge3/envs/torch_env/lib/python3.11/site-packages/pingouin/correlation.py:604: ConstantInputWarning:\n",
      "\n",
      "An input array is constant; the correlation coefficient is not defined.\n",
      "\n",
      "/Users/sophieblock/miniforge3/envs/torch_env/lib/python3.11/site-packages/pingouin/correlation.py:606: ConstantInputWarning:\n",
      "\n",
      "An input array is constant; the correlation coefficient is not defined.\n",
      "\n"
     ]
    }
   ],
   "source": [
    "CORR_THRESHOLD = 0.1\n",
    "P_THRESHOLD = 0.2\n",
    "x_metric = \"avg_fidelity\"\n",
    "metrics_of_interest_ghz = [\n",
    "\n",
    "  \n",
    "       'GHZ_var_all_normalized_by_rank', 'GHZ_var_nonzero_normalized_by_rank',\n",
    "       'GHZ_trace_normalized_by_rank', \n",
    "       'GHZ_var_nonzero_log',  'GHZ_ipr_deff_norm',\n",
    "       'GHZ_abbas_deff_raw', 'GHZ_abbas_deff_norm', 'GHZ_d_eff',\n",
    "       'GHZ_spread_metric_variance', 'GHZ_spread_metric_mad',\n",
    "]\n",
    "# Now you can use these common thresholds in your calls:\n",
    "pearson_corrs_ghz, spearman_corrs_ghz = analyze_correlations(\n",
    "    df_agg_by_test_key, x_metric, metrics_of_interest_ghz,\n",
    "    corr_threshold=CORR_THRESHOLD, p_threshold=P_THRESHOLD\n",
    ")\n",
    "\n",
    "\n",
    "metrics_of_interest_basis = [\n",
    "\n",
    "\n",
    "  \n",
    "       'basis_var_all_normalized_by_rank',\n",
    "       'basis_var_nonzero_normalized_by_rank',\n",
    "       'basis_trace_normalized_by_rank',\n",
    "        'basis_var_nonzero_log',\n",
    "      'basis_ipr_deff_norm', 'basis_abbas_deff_raw',\n",
    "       'basis_abbas_deff_norm', 'basis_d_eff', 'basis_spread_metric_variance',\n",
    "       'basis_spread_metric_mad'\n",
    "]\n",
    "pearson_corrs_basis, spearman_corrs_basis = analyze_correlations(\n",
    "    df_agg_by_test_key, x_metric, metrics_of_interest_basis,\n",
    "    corr_threshold=CORR_THRESHOLD, p_threshold=P_THRESHOLD\n",
    ")\n",
    "\n",
    "\n",
    "metrics_of_interest_dqfim = [\n",
    "\n",
    "     \n",
    "       'dqfim_var_all_normalized_by_rank',\n",
    "       'dqfim_var_nonzero_normalized_by_rank',\n",
    "       'dqfim_trace_normalized_by_rank',\n",
    "       'dqfim_var_nonzero_log',\n",
    "     'dqfim_ipr_deff_norm', 'dqfim_abbas_deff_raw',\n",
    "       'dqfim_abbas_deff_norm', 'dqfim_d_eff', 'dqfim_spread_metric_variance',\n",
    "       'dqfim_spread_metric_mad'\n",
    "]\n",
    "pearson_corrs_dqfim, spearman_corrs_dqfim = analyze_correlations(\n",
    "    df_agg_by_test_key, x_metric, metrics_of_interest_dqfim,\n",
    "    corr_threshold=CORR_THRESHOLD, p_threshold=P_THRESHOLD\n",
    ")\n",
    "\n",
    "\n",
    "metrics_of_interest_targ_dqfim = [\n",
    "    \n",
    "       'target_var_all_normalized_by_rank',\n",
    "       'target_var_nonzero_normalized_by_rank',\n",
    "       'target_trace_normalized_by_rank',\n",
    "       'target_var_nonzero_log',\n",
    "      'target_ipr_deff_norm', 'target_abbas_deff_raw',\n",
    "       'target_abbas_deff_norm', 'target_d_eff',\n",
    "       'target_spread_metric_variance', 'target_spread_metric_mad']\n",
    "pearson_corrs_targ, spearman_corrs_targ = analyze_correlations(\n",
    "    df_agg_by_test_key, x_metric, metrics_of_interest_targ_dqfim,\n",
    "    corr_threshold=CORR_THRESHOLD, p_threshold=P_THRESHOLD\n",
    ")"
   ]
  },
  {
   "cell_type": "code",
   "execution_count": 218,
   "metadata": {},
   "outputs": [
    {
     "name": "stdout",
     "output_type": "stream",
     "text": [
      "\n",
      "Pairwise correlations vs. avg_fidelity (Pearson):\n",
      "target_abbas_deff_raw: r=-0.323, p=0.0448\n",
      "\n",
      "Pairwise correlations vs. avg_fidelity (Spearman):\n",
      "target_spread_metric_variance: rho=-0.272, p=0.0938\n"
     ]
    }
   ],
   "source": [
    "\n",
    "metrics_of_interest_targ_dqfim = [\n",
    "    \n",
    "       'target_var_all_normalized_by_rank',\n",
    "       'target_var_nonzero_normalized_by_rank',\n",
    "       'target_trace_normalized_by_rank',\n",
    "       'target_var_nonzero_log',\n",
    "      'target_ipr_deff_norm', 'target_abbas_deff_raw',\n",
    "       'target_abbas_deff_norm', 'target_d_eff',\n",
    "       'target_spread_metric_variance', 'target_spread_metric_mad']\n",
    "pearson_corrs_targ, spearman_corrs_targ = analyze_correlations(\n",
    "    df_agg_by_test_key, x_metric, metrics_of_interest_targ_dqfim,\n",
    "    corr_threshold=CORR_THRESHOLD, p_threshold=P_THRESHOLD\n",
    ")"
   ]
  },
  {
   "cell_type": "code",
   "execution_count": 193,
   "metadata": {},
   "outputs": [
    {
     "name": "stdout",
     "output_type": "stream",
     "text": [
      "0.9955062766514824\n",
      "0.9982407749116418\n"
     ]
    },
    {
     "data": {
      "application/vnd.plotly.v1+json": {
       "config": {
        "plotlyServerURL": "https://plot.ly"
       },
       "data": [
        {
         "customdata": [
          [
           "test104"
          ],
          [
           "test122"
          ],
          [
           "test129"
          ],
          [
           "test175"
          ],
          [
           "test18"
          ],
          [
           "test197"
          ],
          [
           "test7"
          ],
          [
           "test79"
          ]
         ],
         "dimensions": [
          {
           "axis": {
            "matches": true
           },
           "label": "error",
           "values": [
            -6.319581841723606,
            -6.010960495295507,
            -6.37703793092588,
            -6.302270799028966,
            -6.645906968060805,
            -6.672101244141758,
            -6.687257954108281,
            -6.589786449986551
           ]
          },
          {
           "axis": {
            "matches": true
           },
           "label": "dqfim_ipr_deff_norm",
           "values": [
            1.363105628093056,
            1.6546638481079368,
            2.3158712973394717,
            2.5986477759287183,
            4.196456446099192,
            1.9184110561221144,
            2.4802878275749216,
            1.9304376979110096
           ]
          },
          {
           "axis": {
            "matches": true
           },
           "label": "dqfim_abbas_deff_raw",
           "values": [
            4.314143118869462,
            3.4381993955301198,
            2.8465334115456837,
            3.3654047254676556,
            2.71279229180245,
            2.8331226792842013,
            3.1783736638521582,
            5.221684518293809
           ]
          },
          {
           "axis": {
            "matches": true
           },
           "label": "dqfim_abbas_deff_norm",
           "values": [
            0.8113653412112268,
            0.8503011793896879,
            0.9026534227984755,
            0.9163782527616106,
            0.9685502518571184,
            0.8735078816721448,
            0.9105471266041114,
            0.8707174730921328
           ]
          },
          {
           "axis": {
            "matches": true
           },
           "label": "dqfim_d_eff",
           "values": [
            2.2654100878573766,
            2.8021299021647357,
            3.096662619087033,
            3.1956386085252055,
            3.6347140224499515,
            2.685528805559385,
            3.0252038777979506,
            2.526993164846588
           ]
          }
         ],
         "hovertemplate": "%{xaxis.title.text}=%{x}<br>%{yaxis.title.text}=%{y}<br>test_key=%{customdata[0]}<br>avg_fidelity=%{marker.color}<extra></extra>",
         "legendgroup": "",
         "marker": {
          "color": [
           0.9955062766514824,
           0.9961347399604067,
           0.9974536047424629,
           0.9967741853933255,
           0.9982407749116418,
           0.9968915377754715,
           0.9973851797397214,
           0.9974409342893219
          ],
          "coloraxis": "coloraxis",
          "symbol": "circle"
         },
         "name": "",
         "showlegend": false,
         "type": "splom"
        }
       ],
       "layout": {
        "coloraxis": {
         "colorbar": {
          "title": {
           "text": "avg_fidelity"
          }
         },
         "colorscale": [
          [
           0,
           "#5e4fa2"
          ],
          [
           0.010101010101010102,
           "#5b53a4"
          ],
          [
           0.020202020202020204,
           "#555aa7"
          ],
          [
           0.030303030303030304,
           "#525fa9"
          ],
          [
           0.04040404040404041,
           "#4d65ad"
          ],
          [
           0.050505050505050504,
           "#496aaf"
          ],
          [
           0.06060606060606061,
           "#4471b2"
          ],
          [
           0.0707070707070707,
           "#3f77b5"
          ],
          [
           0.08080808080808081,
           "#3b7cb7"
          ],
          [
           0.09090909090909091,
           "#3682ba"
          ],
          [
           0.10101010101010101,
           "#3387bc"
          ],
          [
           0.1111111111111111,
           "#378ebb"
          ],
          [
           0.12121212121212122,
           "#3b92b9"
          ],
          [
           0.13131313131313133,
           "#4199b6"
          ],
          [
           0.1414141414141414,
           "#47a0b3"
          ],
          [
           0.15151515151515152,
           "#4ba4b1"
          ],
          [
           0.16161616161616163,
           "#52abae"
          ],
          [
           0.1717171717171717,
           "#56b0ad"
          ],
          [
           0.18181818181818182,
           "#5cb7aa"
          ],
          [
           0.1919191919191919,
           "#60bba8"
          ],
          [
           0.20202020202020202,
           "#66c2a5"
          ],
          [
           0.21212121212121213,
           "#6ec5a5"
          ],
          [
           0.2222222222222222,
           "#74c7a5"
          ],
          [
           0.23232323232323232,
           "#7ccaa5"
          ],
          [
           0.24242424242424243,
           "#81cda5"
          ],
          [
           0.25252525252525254,
           "#89d0a4"
          ],
          [
           0.26262626262626265,
           "#91d3a4"
          ],
          [
           0.2727272727272727,
           "#97d5a4"
          ],
          [
           0.2828282828282828,
           "#9fd8a4"
          ],
          [
           0.29292929292929293,
           "#a4daa4"
          ],
          [
           0.30303030303030304,
           "#acdda4"
          ],
          [
           0.31313131313131315,
           "#b1dfa3"
          ],
          [
           0.32323232323232326,
           "#b8e2a1"
          ],
          [
           0.3333333333333333,
           "#bfe5a0"
          ],
          [
           0.3434343434343434,
           "#c3e79f"
          ],
          [
           0.35353535353535354,
           "#caea9e"
          ],
          [
           0.36363636363636365,
           "#cfec9d"
          ],
          [
           0.37373737373737376,
           "#d6ee9b"
          ],
          [
           0.3838383838383838,
           "#ddf19a"
          ],
          [
           0.3939393939393939,
           "#e1f399"
          ],
          [
           0.40404040404040403,
           "#e7f59a"
          ],
          [
           0.41414141414141414,
           "#e9f69d"
          ],
          [
           0.42424242424242425,
           "#ecf7a1"
          ],
          [
           0.43434343434343436,
           "#eef8a4"
          ],
          [
           0.4444444444444444,
           "#f1f9a9"
          ],
          [
           0.45454545454545453,
           "#f4faad"
          ],
          [
           0.46464646464646464,
           "#f6fbb0"
          ],
          [
           0.47474747474747475,
           "#f9fcb5"
          ],
          [
           0.48484848484848486,
           "#fbfdb8"
          ],
          [
           0.494949494949495,
           "#fefebd"
          ],
          [
           0.5050505050505051,
           "#fffdbc"
          ],
          [
           0.5151515151515151,
           "#fffbb8"
          ],
          [
           0.5252525252525253,
           "#fff7b2"
          ],
          [
           0.5353535353535354,
           "#fff5ae"
          ],
          [
           0.5454545454545454,
           "#fff1a8"
          ],
          [
           0.5555555555555556,
           "#feefa3"
          ],
          [
           0.5656565656565656,
           "#feeb9d"
          ],
          [
           0.5757575757575758,
           "#fee797"
          ],
          [
           0.5858585858585859,
           "#fee593"
          ],
          [
           0.5959595959595959,
           "#fee18d"
          ],
          [
           0.6060606060606061,
           "#fede89"
          ],
          [
           0.6161616161616161,
           "#fed884"
          ],
          [
           0.6262626262626263,
           "#fed27f"
          ],
          [
           0.6363636363636364,
           "#fece7c"
          ],
          [
           0.6464646464646465,
           "#fec877"
          ],
          [
           0.6565656565656566,
           "#fdc574"
          ],
          [
           0.6666666666666666,
           "#fdbf6f"
          ],
          [
           0.6767676767676768,
           "#fdb96a"
          ],
          [
           0.6868686868686869,
           "#fdb567"
          ],
          [
           0.696969696969697,
           "#fdaf62"
          ],
          [
           0.7070707070707071,
           "#fcaa5f"
          ],
          [
           0.7171717171717171,
           "#fba35c"
          ],
          [
           0.7272727272727273,
           "#fb9d59"
          ],
          [
           0.7373737373737373,
           "#fa9656"
          ],
          [
           0.7474747474747475,
           "#f98e52"
          ],
          [
           0.7575757575757576,
           "#f88950"
          ],
          [
           0.7676767676767676,
           "#f7814c"
          ],
          [
           0.7777777777777778,
           "#f67c4a"
          ],
          [
           0.7878787878787878,
           "#f57547"
          ],
          [
           0.797979797979798,
           "#f46d43"
          ],
          [
           0.8080808080808081,
           "#f26944"
          ],
          [
           0.8181818181818182,
           "#ee6445"
          ],
          [
           0.8282828282828283,
           "#eb6046"
          ],
          [
           0.8383838383838383,
           "#e85b48"
          ],
          [
           0.8484848484848485,
           "#e45549"
          ],
          [
           0.8585858585858586,
           "#e2514a"
          ],
          [
           0.8686868686868687,
           "#de4c4b"
          ],
          [
           0.8787878787878788,
           "#dc484c"
          ],
          [
           0.8888888888888888,
           "#d8434e"
          ],
          [
           0.898989898989899,
           "#d43d4f"
          ],
          [
           0.9090909090909091,
           "#d0384e"
          ],
          [
           0.9191919191919192,
           "#c9314c"
          ],
          [
           0.9292929292929293,
           "#c52c4b"
          ],
          [
           0.9393939393939394,
           "#be254a"
          ],
          [
           0.9494949494949495,
           "#b81e48"
          ],
          [
           0.9595959595959596,
           "#b41947"
          ],
          [
           0.9696969696969697,
           "#ad1246"
          ],
          [
           0.9797979797979798,
           "#a90d45"
          ],
          [
           0.98989898989899,
           "#a20643"
          ],
          [
           1,
           "#9e0142"
          ]
         ]
        },
        "dragmode": "select",
        "height": 1000,
        "legend": {
         "tracegroupgap": 0
        },
        "template": {
         "data": {
          "bar": [
           {
            "error_x": {
             "color": "#2a3f5f"
            },
            "error_y": {
             "color": "#2a3f5f"
            },
            "marker": {
             "line": {
              "color": "#E5ECF6",
              "width": 0.5
             },
             "pattern": {
              "fillmode": "overlay",
              "size": 10,
              "solidity": 0.2
             }
            },
            "type": "bar"
           }
          ],
          "barpolar": [
           {
            "marker": {
             "line": {
              "color": "#E5ECF6",
              "width": 0.5
             },
             "pattern": {
              "fillmode": "overlay",
              "size": 10,
              "solidity": 0.2
             }
            },
            "type": "barpolar"
           }
          ],
          "carpet": [
           {
            "aaxis": {
             "endlinecolor": "#2a3f5f",
             "gridcolor": "white",
             "linecolor": "white",
             "minorgridcolor": "white",
             "startlinecolor": "#2a3f5f"
            },
            "baxis": {
             "endlinecolor": "#2a3f5f",
             "gridcolor": "white",
             "linecolor": "white",
             "minorgridcolor": "white",
             "startlinecolor": "#2a3f5f"
            },
            "type": "carpet"
           }
          ],
          "choropleth": [
           {
            "colorbar": {
             "outlinewidth": 0,
             "ticks": ""
            },
            "type": "choropleth"
           }
          ],
          "contour": [
           {
            "colorbar": {
             "outlinewidth": 0,
             "ticks": ""
            },
            "colorscale": [
             [
              0,
              "#0d0887"
             ],
             [
              0.1111111111111111,
              "#46039f"
             ],
             [
              0.2222222222222222,
              "#7201a8"
             ],
             [
              0.3333333333333333,
              "#9c179e"
             ],
             [
              0.4444444444444444,
              "#bd3786"
             ],
             [
              0.5555555555555556,
              "#d8576b"
             ],
             [
              0.6666666666666666,
              "#ed7953"
             ],
             [
              0.7777777777777778,
              "#fb9f3a"
             ],
             [
              0.8888888888888888,
              "#fdca26"
             ],
             [
              1,
              "#f0f921"
             ]
            ],
            "type": "contour"
           }
          ],
          "contourcarpet": [
           {
            "colorbar": {
             "outlinewidth": 0,
             "ticks": ""
            },
            "type": "contourcarpet"
           }
          ],
          "heatmap": [
           {
            "colorbar": {
             "outlinewidth": 0,
             "ticks": ""
            },
            "colorscale": [
             [
              0,
              "#0d0887"
             ],
             [
              0.1111111111111111,
              "#46039f"
             ],
             [
              0.2222222222222222,
              "#7201a8"
             ],
             [
              0.3333333333333333,
              "#9c179e"
             ],
             [
              0.4444444444444444,
              "#bd3786"
             ],
             [
              0.5555555555555556,
              "#d8576b"
             ],
             [
              0.6666666666666666,
              "#ed7953"
             ],
             [
              0.7777777777777778,
              "#fb9f3a"
             ],
             [
              0.8888888888888888,
              "#fdca26"
             ],
             [
              1,
              "#f0f921"
             ]
            ],
            "type": "heatmap"
           }
          ],
          "heatmapgl": [
           {
            "colorbar": {
             "outlinewidth": 0,
             "ticks": ""
            },
            "colorscale": [
             [
              0,
              "#0d0887"
             ],
             [
              0.1111111111111111,
              "#46039f"
             ],
             [
              0.2222222222222222,
              "#7201a8"
             ],
             [
              0.3333333333333333,
              "#9c179e"
             ],
             [
              0.4444444444444444,
              "#bd3786"
             ],
             [
              0.5555555555555556,
              "#d8576b"
             ],
             [
              0.6666666666666666,
              "#ed7953"
             ],
             [
              0.7777777777777778,
              "#fb9f3a"
             ],
             [
              0.8888888888888888,
              "#fdca26"
             ],
             [
              1,
              "#f0f921"
             ]
            ],
            "type": "heatmapgl"
           }
          ],
          "histogram": [
           {
            "marker": {
             "pattern": {
              "fillmode": "overlay",
              "size": 10,
              "solidity": 0.2
             }
            },
            "type": "histogram"
           }
          ],
          "histogram2d": [
           {
            "colorbar": {
             "outlinewidth": 0,
             "ticks": ""
            },
            "colorscale": [
             [
              0,
              "#0d0887"
             ],
             [
              0.1111111111111111,
              "#46039f"
             ],
             [
              0.2222222222222222,
              "#7201a8"
             ],
             [
              0.3333333333333333,
              "#9c179e"
             ],
             [
              0.4444444444444444,
              "#bd3786"
             ],
             [
              0.5555555555555556,
              "#d8576b"
             ],
             [
              0.6666666666666666,
              "#ed7953"
             ],
             [
              0.7777777777777778,
              "#fb9f3a"
             ],
             [
              0.8888888888888888,
              "#fdca26"
             ],
             [
              1,
              "#f0f921"
             ]
            ],
            "type": "histogram2d"
           }
          ],
          "histogram2dcontour": [
           {
            "colorbar": {
             "outlinewidth": 0,
             "ticks": ""
            },
            "colorscale": [
             [
              0,
              "#0d0887"
             ],
             [
              0.1111111111111111,
              "#46039f"
             ],
             [
              0.2222222222222222,
              "#7201a8"
             ],
             [
              0.3333333333333333,
              "#9c179e"
             ],
             [
              0.4444444444444444,
              "#bd3786"
             ],
             [
              0.5555555555555556,
              "#d8576b"
             ],
             [
              0.6666666666666666,
              "#ed7953"
             ],
             [
              0.7777777777777778,
              "#fb9f3a"
             ],
             [
              0.8888888888888888,
              "#fdca26"
             ],
             [
              1,
              "#f0f921"
             ]
            ],
            "type": "histogram2dcontour"
           }
          ],
          "mesh3d": [
           {
            "colorbar": {
             "outlinewidth": 0,
             "ticks": ""
            },
            "type": "mesh3d"
           }
          ],
          "parcoords": [
           {
            "line": {
             "colorbar": {
              "outlinewidth": 0,
              "ticks": ""
             }
            },
            "type": "parcoords"
           }
          ],
          "pie": [
           {
            "automargin": true,
            "type": "pie"
           }
          ],
          "scatter": [
           {
            "fillpattern": {
             "fillmode": "overlay",
             "size": 10,
             "solidity": 0.2
            },
            "type": "scatter"
           }
          ],
          "scatter3d": [
           {
            "line": {
             "colorbar": {
              "outlinewidth": 0,
              "ticks": ""
             }
            },
            "marker": {
             "colorbar": {
              "outlinewidth": 0,
              "ticks": ""
             }
            },
            "type": "scatter3d"
           }
          ],
          "scattercarpet": [
           {
            "marker": {
             "colorbar": {
              "outlinewidth": 0,
              "ticks": ""
             }
            },
            "type": "scattercarpet"
           }
          ],
          "scattergeo": [
           {
            "marker": {
             "colorbar": {
              "outlinewidth": 0,
              "ticks": ""
             }
            },
            "type": "scattergeo"
           }
          ],
          "scattergl": [
           {
            "marker": {
             "colorbar": {
              "outlinewidth": 0,
              "ticks": ""
             }
            },
            "type": "scattergl"
           }
          ],
          "scattermapbox": [
           {
            "marker": {
             "colorbar": {
              "outlinewidth": 0,
              "ticks": ""
             }
            },
            "type": "scattermapbox"
           }
          ],
          "scatterpolar": [
           {
            "marker": {
             "colorbar": {
              "outlinewidth": 0,
              "ticks": ""
             }
            },
            "type": "scatterpolar"
           }
          ],
          "scatterpolargl": [
           {
            "marker": {
             "colorbar": {
              "outlinewidth": 0,
              "ticks": ""
             }
            },
            "type": "scatterpolargl"
           }
          ],
          "scatterternary": [
           {
            "marker": {
             "colorbar": {
              "outlinewidth": 0,
              "ticks": ""
             }
            },
            "type": "scatterternary"
           }
          ],
          "surface": [
           {
            "colorbar": {
             "outlinewidth": 0,
             "ticks": ""
            },
            "colorscale": [
             [
              0,
              "#0d0887"
             ],
             [
              0.1111111111111111,
              "#46039f"
             ],
             [
              0.2222222222222222,
              "#7201a8"
             ],
             [
              0.3333333333333333,
              "#9c179e"
             ],
             [
              0.4444444444444444,
              "#bd3786"
             ],
             [
              0.5555555555555556,
              "#d8576b"
             ],
             [
              0.6666666666666666,
              "#ed7953"
             ],
             [
              0.7777777777777778,
              "#fb9f3a"
             ],
             [
              0.8888888888888888,
              "#fdca26"
             ],
             [
              1,
              "#f0f921"
             ]
            ],
            "type": "surface"
           }
          ],
          "table": [
           {
            "cells": {
             "fill": {
              "color": "#EBF0F8"
             },
             "line": {
              "color": "white"
             }
            },
            "header": {
             "fill": {
              "color": "#C8D4E3"
             },
             "line": {
              "color": "white"
             }
            },
            "type": "table"
           }
          ]
         },
         "layout": {
          "annotationdefaults": {
           "arrowcolor": "#2a3f5f",
           "arrowhead": 0,
           "arrowwidth": 1
          },
          "autotypenumbers": "strict",
          "coloraxis": {
           "colorbar": {
            "outlinewidth": 0,
            "ticks": ""
           }
          },
          "colorscale": {
           "diverging": [
            [
             0,
             "#8e0152"
            ],
            [
             0.1,
             "#c51b7d"
            ],
            [
             0.2,
             "#de77ae"
            ],
            [
             0.3,
             "#f1b6da"
            ],
            [
             0.4,
             "#fde0ef"
            ],
            [
             0.5,
             "#f7f7f7"
            ],
            [
             0.6,
             "#e6f5d0"
            ],
            [
             0.7,
             "#b8e186"
            ],
            [
             0.8,
             "#7fbc41"
            ],
            [
             0.9,
             "#4d9221"
            ],
            [
             1,
             "#276419"
            ]
           ],
           "sequential": [
            [
             0,
             "#0d0887"
            ],
            [
             0.1111111111111111,
             "#46039f"
            ],
            [
             0.2222222222222222,
             "#7201a8"
            ],
            [
             0.3333333333333333,
             "#9c179e"
            ],
            [
             0.4444444444444444,
             "#bd3786"
            ],
            [
             0.5555555555555556,
             "#d8576b"
            ],
            [
             0.6666666666666666,
             "#ed7953"
            ],
            [
             0.7777777777777778,
             "#fb9f3a"
            ],
            [
             0.8888888888888888,
             "#fdca26"
            ],
            [
             1,
             "#f0f921"
            ]
           ],
           "sequentialminus": [
            [
             0,
             "#0d0887"
            ],
            [
             0.1111111111111111,
             "#46039f"
            ],
            [
             0.2222222222222222,
             "#7201a8"
            ],
            [
             0.3333333333333333,
             "#9c179e"
            ],
            [
             0.4444444444444444,
             "#bd3786"
            ],
            [
             0.5555555555555556,
             "#d8576b"
            ],
            [
             0.6666666666666666,
             "#ed7953"
            ],
            [
             0.7777777777777778,
             "#fb9f3a"
            ],
            [
             0.8888888888888888,
             "#fdca26"
            ],
            [
             1,
             "#f0f921"
            ]
           ]
          },
          "colorway": [
           "#636efa",
           "#EF553B",
           "#00cc96",
           "#ab63fa",
           "#FFA15A",
           "#19d3f3",
           "#FF6692",
           "#B6E880",
           "#FF97FF",
           "#FECB52"
          ],
          "font": {
           "color": "#2a3f5f"
          },
          "geo": {
           "bgcolor": "white",
           "lakecolor": "white",
           "landcolor": "#E5ECF6",
           "showlakes": true,
           "showland": true,
           "subunitcolor": "white"
          },
          "hoverlabel": {
           "align": "left"
          },
          "hovermode": "closest",
          "mapbox": {
           "style": "light"
          },
          "paper_bgcolor": "white",
          "plot_bgcolor": "#E5ECF6",
          "polar": {
           "angularaxis": {
            "gridcolor": "white",
            "linecolor": "white",
            "ticks": ""
           },
           "bgcolor": "#E5ECF6",
           "radialaxis": {
            "gridcolor": "white",
            "linecolor": "white",
            "ticks": ""
           }
          },
          "scene": {
           "xaxis": {
            "backgroundcolor": "#E5ECF6",
            "gridcolor": "white",
            "gridwidth": 2,
            "linecolor": "white",
            "showbackground": true,
            "ticks": "",
            "zerolinecolor": "white"
           },
           "yaxis": {
            "backgroundcolor": "#E5ECF6",
            "gridcolor": "white",
            "gridwidth": 2,
            "linecolor": "white",
            "showbackground": true,
            "ticks": "",
            "zerolinecolor": "white"
           },
           "zaxis": {
            "backgroundcolor": "#E5ECF6",
            "gridcolor": "white",
            "gridwidth": 2,
            "linecolor": "white",
            "showbackground": true,
            "ticks": "",
            "zerolinecolor": "white"
           }
          },
          "shapedefaults": {
           "line": {
            "color": "#2a3f5f"
           }
          },
          "ternary": {
           "aaxis": {
            "gridcolor": "white",
            "linecolor": "white",
            "ticks": ""
           },
           "baxis": {
            "gridcolor": "white",
            "linecolor": "white",
            "ticks": ""
           },
           "bgcolor": "#E5ECF6",
           "caxis": {
            "gridcolor": "white",
            "linecolor": "white",
            "ticks": ""
           }
          },
          "title": {
           "x": 0.05
          },
          "xaxis": {
           "automargin": true,
           "gridcolor": "white",
           "linecolor": "white",
           "ticks": "",
           "title": {
            "standoff": 15
           },
           "zerolinecolor": "white",
           "zerolinewidth": 2
          },
          "yaxis": {
           "automargin": true,
           "gridcolor": "white",
           "linecolor": "white",
           "ticks": "",
           "title": {
            "standoff": 15
           },
           "zerolinecolor": "white",
           "zerolinewidth": 2
          }
         }
        },
        "title": {
         "text": "Scatter Matrix of Predictors with Fidelity as Color"
        },
        "width": 1000
       }
      }
     },
     "metadata": {},
     "output_type": "display_data"
    }
   ],
   "source": [
    "import plotly.express as px\n",
    "import seaborn as sns\n",
    "from matplotlib.colors import LinearSegmentedColormap\n",
    "predictor_metrics = [\n",
    " \n",
    "    'error',\n",
    "#    'GHZ_spread_metric_mad','basis_spread_metric_mad','target_spread_metric_mad'\n",
    "'dqfim_ipr_deff_norm','dqfim_abbas_deff_raw','dqfim_abbas_deff_norm','dqfim_d_eff'\n",
    "# 'basis_spread_metric_mad','basis_trace_normalized_by_rank','basis_var_all_normalized_by_rank'\n",
    "\n",
    "]\n",
    "metrics_to_visualize = [\n",
    "    \"test_key\",\n",
    "    'avg_fidelity',\n",
    "    \n",
    "]\n",
    "\n",
    "color_col =\"avg_fidelity\"\n",
    "n_colors = 100\n",
    "metrics_to_visualize.extend(predictor_metrics)\n",
    "df_viz = df_agg_by_test_key[metrics_to_visualize].dropna()\n",
    "data_min = df_viz[color_col].min()\n",
    "data_max = df_viz[color_col].max()\n",
    "\n",
    "# If data_min == data_max, we can shift slightly or skip\n",
    "if np.isclose(data_min, data_max):\n",
    "    data_max = data_min + 1e-12\n",
    "print(data_min)\n",
    "print(data_max)\n",
    "values = np.linspace(data_min, data_max, n_colors) ** 4\n",
    "\n",
    "# base_colormap is a reversed Spectral colormap from seaborn\n",
    "base_colormap = sns.color_palette(\"Spectral\", as_cmap=True).reversed()\n",
    "# Convert the floating color values into RGBA arrays\n",
    "colors_rgba = base_colormap((values - values.min()) / (values.max() - values.min()))\n",
    "# Build a Matplotlib colormap from these RGBA values\n",
    "custom_colormap = LinearSegmentedColormap.from_list('vibrant', colors_rgba, N=n_colors)\n",
    "# Convert the Matplotlib colormap to a list of hex strings for Plotly\n",
    "plotly_color_scale = [mcolors.to_hex(custom_colormap(i)) for i in np.linspace(0, 1, n_colors)]\n",
    "fig = px.scatter_matrix(\n",
    "    df_viz,\n",
    "    dimensions=predictor_metrics,\n",
    "    color_continuous_scale=plotly_color_scale,\n",
    "    color=color_col,        # Use fidelity as the color dimension\n",
    "    hover_data=[\"test_key\"],      # Show test_key on hover\n",
    "    title=\"Scatter Matrix of Predictors with Fidelity as Color\"\n",
    ")\n",
    "fig.update_layout(width=1000, height=1000)\n",
    "fig.show()\n",
    "\n"
   ]
  },
  {
   "cell_type": "code",
   "execution_count": 249,
   "metadata": {},
   "outputs": [
    {
     "data": {
      "image/png": "[encoded data removed]",
      "text/plain": [
       "<Figure size 1200x1000 with 2 Axes>"
      ]
     },
     "metadata": {},
     "output_type": "display_data"
    }
   ],
   "source": [
    "import seaborn as sns\n",
    "predictors = ['avg_fidelity','GHZ_var_all_normalized_by_rank','basis_var_all_normalized_by_rank','target_ipr_deff_norm','basis_ipr_deff_norm','dqfim_ipr_deff_norm','dqfim_abbas_deff_norm']\n",
    "predictors = ['error','basis_trace_normalized_by_rank','dqfim_abbas_deff_norm','dqfim_d_eff', 'dqfim_spread_metric_variance']\n",
    "corr_matrix = df_agg_by_test_key[predictors].corr()\n",
    "\n",
    "plt.figure(figsize=(12, 10))\n",
    "sns.heatmap(corr_matrix, annot=True, fmt=\".2f\", cmap=\"coolwarm\")\n",
    "plt.title(\"Correlation Matrix of QFIM Metrics and Avg Fidelity\")\n",
    "plt.show()"
   ]
  },
  {
   "cell_type": "code",
   "execution_count": 129,
   "metadata": {},
   "outputs": [
    {
     "data": {
      "application/vnd.plotly.v1+json": {
       "config": {
        "plotlyServerURL": "https://plot.ly"
       },
       "data": [
        {
         "customdata": [
          [
           "test104"
          ],
          [
           "test122"
          ],
          [
           "test129"
          ],
          [
           "test175"
          ],
          [
           "test18"
          ],
          [
           "test197"
          ],
          [
           "test7"
          ],
          [
           "test79"
          ]
         ],
         "dimensions": [
          {
           "axis": {
            "matches": true
           },
           "label": "basis_var_all_normalized_by_rank",
           "values": [
            5.05913909755286,
            5.475514479286705,
            0.1984110009438366,
            1.311702448931419,
            0.0719243566763846,
            0.44850532780665125,
            0.8824132410471691,
            2.0429122691677297
           ]
          },
          {
           "axis": {
            "matches": true
           },
           "label": "basis_ipr_deff_norm",
           "values": [
            1.4981200757010502,
            1.6227869011072278,
            3.772132069117141,
            2.2317783251185563,
            3.5649586461542486,
            1.118040980670723,
            2.473404804974215,
            2.5936866851118854
           ]
          },
          {
           "axis": {
            "matches": true
           },
           "label": "dqfim_ipr_deff_norm",
           "values": [
            1.363105628093056,
            1.6546638481079368,
            2.3158712973394717,
            2.5986477759287183,
            4.196456446099192,
            1.9184110561221144,
            2.4802878275749216,
            1.9304376979110096
           ]
          },
          {
           "axis": {
            "matches": true
           },
           "label": "target_ipr_deff_norm",
           "values": [
            1.4371494825793265,
            1.6228676926565495,
            2.645531643778432,
            2.423593569446991,
            4.530554513542067,
            2.444102209019435,
            2.74129881157767,
            1.9020057946692435
           ]
          }
         ],
         "hovertemplate": "%{xaxis.title.text}=%{x}<br>%{yaxis.title.text}=%{y}<br>test_key=%{customdata[0]}<br>avg_fidelity=%{marker.color}<extra></extra>",
         "legendgroup": "",
         "marker": {
          "color": [
           0.9955062766514824,
           0.9961347399604067,
           0.9974536047424629,
           0.9967741853933255,
           0.9982407749116418,
           0.9968915377754715,
           0.9973851797397214,
           0.9974409342893219
          ],
          "coloraxis": "coloraxis",
          "symbol": "circle"
         },
         "name": "",
         "showlegend": false,
         "type": "splom"
        }
       ],
       "layout": {
        "coloraxis": {
         "colorbar": {
          "title": {
           "text": "avg_fidelity"
          }
         },
         "colorscale": [
          [
           0,
           "#0d0887"
          ],
          [
           0.1111111111111111,
           "#46039f"
          ],
          [
           0.2222222222222222,
           "#7201a8"
          ],
          [
           0.3333333333333333,
           "#9c179e"
          ],
          [
           0.4444444444444444,
           "#bd3786"
          ],
          [
           0.5555555555555556,
           "#d8576b"
          ],
          [
           0.6666666666666666,
           "#ed7953"
          ],
          [
           0.7777777777777778,
           "#fb9f3a"
          ],
          [
           0.8888888888888888,
           "#fdca26"
          ],
          [
           1,
           "#f0f921"
          ]
         ]
        },
        "dragmode": "select",
        "height": 1000,
        "legend": {
         "tracegroupgap": 0
        },
        "template": {
         "data": {
          "bar": [
           {
            "error_x": {
             "color": "#2a3f5f"
            },
            "error_y": {
             "color": "#2a3f5f"
            },
            "marker": {
             "line": {
              "color": "#E5ECF6",
              "width": 0.5
             },
             "pattern": {
              "fillmode": "overlay",
              "size": 10,
              "solidity": 0.2
             }
            },
            "type": "bar"
           }
          ],
          "barpolar": [
           {
            "marker": {
             "line": {
              "color": "#E5ECF6",
              "width": 0.5
             },
             "pattern": {
              "fillmode": "overlay",
              "size": 10,
              "solidity": 0.2
             }
            },
            "type": "barpolar"
           }
          ],
          "carpet": [
           {
            "aaxis": {
             "endlinecolor": "#2a3f5f",
             "gridcolor": "white",
             "linecolor": "white",
             "minorgridcolor": "white",
             "startlinecolor": "#2a3f5f"
            },
            "baxis": {
             "endlinecolor": "#2a3f5f",
             "gridcolor": "white",
             "linecolor": "white",
             "minorgridcolor": "white",
             "startlinecolor": "#2a3f5f"
            },
            "type": "carpet"
           }
          ],
          "choropleth": [
           {
            "colorbar": {
             "outlinewidth": 0,
             "ticks": ""
            },
            "type": "choropleth"
           }
          ],
          "contour": [
           {
            "colorbar": {
             "outlinewidth": 0,
             "ticks": ""
            },
            "colorscale": [
             [
              0,
              "#0d0887"
             ],
             [
              0.1111111111111111,
              "#46039f"
             ],
             [
              0.2222222222222222,
              "#7201a8"
             ],
             [
              0.3333333333333333,
              "#9c179e"
             ],
             [
              0.4444444444444444,
              "#bd3786"
             ],
             [
              0.5555555555555556,
              "#d8576b"
             ],
             [
              0.6666666666666666,
              "#ed7953"
             ],
             [
              0.7777777777777778,
              "#fb9f3a"
             ],
             [
              0.8888888888888888,
              "#fdca26"
             ],
             [
              1,
              "#f0f921"
             ]
            ],
            "type": "contour"
           }
          ],
          "contourcarpet": [
           {
            "colorbar": {
             "outlinewidth": 0,
             "ticks": ""
            },
            "type": "contourcarpet"
           }
          ],
          "heatmap": [
           {
            "colorbar": {
             "outlinewidth": 0,
             "ticks": ""
            },
            "colorscale": [
             [
              0,
              "#0d0887"
             ],
             [
              0.1111111111111111,
              "#46039f"
             ],
             [
              0.2222222222222222,
              "#7201a8"
             ],
             [
              0.3333333333333333,
              "#9c179e"
             ],
             [
              0.4444444444444444,
              "#bd3786"
             ],
             [
              0.5555555555555556,
              "#d8576b"
             ],
             [
              0.6666666666666666,
              "#ed7953"
             ],
             [
              0.7777777777777778,
              "#fb9f3a"
             ],
             [
              0.8888888888888888,
              "#fdca26"
             ],
             [
              1,
              "#f0f921"
             ]
            ],
            "type": "heatmap"
           }
          ],
          "heatmapgl": [
           {
            "colorbar": {
             "outlinewidth": 0,
             "ticks": ""
            },
            "colorscale": [
             [
              0,
              "#0d0887"
             ],
             [
              0.1111111111111111,
              "#46039f"
             ],
             [
              0.2222222222222222,
              "#7201a8"
             ],
             [
              0.3333333333333333,
              "#9c179e"
             ],
             [
              0.4444444444444444,
              "#bd3786"
             ],
             [
              0.5555555555555556,
              "#d8576b"
             ],
             [
              0.6666666666666666,
              "#ed7953"
             ],
             [
              0.7777777777777778,
              "#fb9f3a"
             ],
             [
              0.8888888888888888,
              "#fdca26"
             ],
             [
              1,
              "#f0f921"
             ]
            ],
            "type": "heatmapgl"
           }
          ],
          "histogram": [
           {
            "marker": {
             "pattern": {
              "fillmode": "overlay",
              "size": 10,
              "solidity": 0.2
             }
            },
            "type": "histogram"
           }
          ],
          "histogram2d": [
           {
            "colorbar": {
             "outlinewidth": 0,
             "ticks": ""
            },
            "colorscale": [
             [
              0,
              "#0d0887"
             ],
             [
              0.1111111111111111,
              "#46039f"
             ],
             [
              0.2222222222222222,
              "#7201a8"
             ],
             [
              0.3333333333333333,
              "#9c179e"
             ],
             [
              0.4444444444444444,
              "#bd3786"
             ],
             [
              0.5555555555555556,
              "#d8576b"
             ],
             [
              0.6666666666666666,
              "#ed7953"
             ],
             [
              0.7777777777777778,
              "#fb9f3a"
             ],
             [
              0.8888888888888888,
              "#fdca26"
             ],
             [
              1,
              "#f0f921"
             ]
            ],
            "type": "histogram2d"
           }
          ],
          "histogram2dcontour": [
           {
            "colorbar": {
             "outlinewidth": 0,
             "ticks": ""
            },
            "colorscale": [
             [
              0,
              "#0d0887"
             ],
             [
              0.1111111111111111,
              "#46039f"
             ],
             [
              0.2222222222222222,
              "#7201a8"
             ],
             [
              0.3333333333333333,
              "#9c179e"
             ],
             [
              0.4444444444444444,
              "#bd3786"
             ],
             [
              0.5555555555555556,
              "#d8576b"
             ],
             [
              0.6666666666666666,
              "#ed7953"
             ],
             [
              0.7777777777777778,
              "#fb9f3a"
             ],
             [
              0.8888888888888888,
              "#fdca26"
             ],
             [
              1,
              "#f0f921"
             ]
            ],
            "type": "histogram2dcontour"
           }
          ],
          "mesh3d": [
           {
            "colorbar": {
             "outlinewidth": 0,
             "ticks": ""
            },
            "type": "mesh3d"
           }
          ],
          "parcoords": [
           {
            "line": {
             "colorbar": {
              "outlinewidth": 0,
              "ticks": ""
             }
            },
            "type": "parcoords"
           }
          ],
          "pie": [
           {
            "automargin": true,
            "type": "pie"
           }
          ],
          "scatter": [
           {
            "fillpattern": {
             "fillmode": "overlay",
             "size": 10,
             "solidity": 0.2
            },
            "type": "scatter"
           }
          ],
          "scatter3d": [
           {
            "line": {
             "colorbar": {
              "outlinewidth": 0,
              "ticks": ""
             }
            },
            "marker": {
             "colorbar": {
              "outlinewidth": 0,
              "ticks": ""
             }
            },
            "type": "scatter3d"
           }
          ],
          "scattercarpet": [
           {
            "marker": {
             "colorbar": {
              "outlinewidth": 0,
              "ticks": ""
             }
            },
            "type": "scattercarpet"
           }
          ],
          "scattergeo": [
           {
            "marker": {
             "colorbar": {
              "outlinewidth": 0,
              "ticks": ""
             }
            },
            "type": "scattergeo"
           }
          ],
          "scattergl": [
           {
            "marker": {
             "colorbar": {
              "outlinewidth": 0,
              "ticks": ""
             }
            },
            "type": "scattergl"
           }
          ],
          "scattermapbox": [
           {
            "marker": {
             "colorbar": {
              "outlinewidth": 0,
              "ticks": ""
             }
            },
            "type": "scattermapbox"
           }
          ],
          "scatterpolar": [
           {
            "marker": {
             "colorbar": {
              "outlinewidth": 0,
              "ticks": ""
             }
            },
            "type": "scatterpolar"
           }
          ],
          "scatterpolargl": [
           {
            "marker": {
             "colorbar": {
              "outlinewidth": 0,
              "ticks": ""
             }
            },
            "type": "scatterpolargl"
           }
          ],
          "scatterternary": [
           {
            "marker": {
             "colorbar": {
              "outlinewidth": 0,
              "ticks": ""
             }
            },
            "type": "scatterternary"
           }
          ],
          "surface": [
           {
            "colorbar": {
             "outlinewidth": 0,
             "ticks": ""
            },
            "colorscale": [
             [
              0,
              "#0d0887"
             ],
             [
              0.1111111111111111,
              "#46039f"
             ],
             [
              0.2222222222222222,
              "#7201a8"
             ],
             [
              0.3333333333333333,
              "#9c179e"
             ],
             [
              0.4444444444444444,
              "#bd3786"
             ],
             [
              0.5555555555555556,
              "#d8576b"
             ],
             [
              0.6666666666666666,
              "#ed7953"
             ],
             [
              0.7777777777777778,
              "#fb9f3a"
             ],
             [
              0.8888888888888888,
              "#fdca26"
             ],
             [
              1,
              "#f0f921"
             ]
            ],
            "type": "surface"
           }
          ],
          "table": [
           {
            "cells": {
             "fill": {
              "color": "#EBF0F8"
             },
             "line": {
              "color": "white"
             }
            },
            "header": {
             "fill": {
              "color": "#C8D4E3"
             },
             "line": {
              "color": "white"
             }
            },
            "type": "table"
           }
          ]
         },
         "layout": {
          "annotationdefaults": {
           "arrowcolor": "#2a3f5f",
           "arrowhead": 0,
           "arrowwidth": 1
          },
          "autotypenumbers": "strict",
          "coloraxis": {
           "colorbar": {
            "outlinewidth": 0,
            "ticks": ""
           }
          },
          "colorscale": {
           "diverging": [
            [
             0,
             "#8e0152"
            ],
            [
             0.1,
             "#c51b7d"
            ],
            [
             0.2,
             "#de77ae"
            ],
            [
             0.3,
             "#f1b6da"
            ],
            [
             0.4,
             "#fde0ef"
            ],
            [
             0.5,
             "#f7f7f7"
            ],
            [
             0.6,
             "#e6f5d0"
            ],
            [
             0.7,
             "#b8e186"
            ],
            [
             0.8,
             "#7fbc41"
            ],
            [
             0.9,
             "#4d9221"
            ],
            [
             1,
             "#276419"
            ]
           ],
           "sequential": [
            [
             0,
             "#0d0887"
            ],
            [
             0.1111111111111111,
             "#46039f"
            ],
            [
             0.2222222222222222,
             "#7201a8"
            ],
            [
             0.3333333333333333,
             "#9c179e"
            ],
            [
             0.4444444444444444,
             "#bd3786"
            ],
            [
             0.5555555555555556,
             "#d8576b"
            ],
            [
             0.6666666666666666,
             "#ed7953"
            ],
            [
             0.7777777777777778,
             "#fb9f3a"
            ],
            [
             0.8888888888888888,
             "#fdca26"
            ],
            [
             1,
             "#f0f921"
            ]
           ],
           "sequentialminus": [
            [
             0,
             "#0d0887"
            ],
            [
             0.1111111111111111,
             "#46039f"
            ],
            [
             0.2222222222222222,
             "#7201a8"
            ],
            [
             0.3333333333333333,
             "#9c179e"
            ],
            [
             0.4444444444444444,
             "#bd3786"
            ],
            [
             0.5555555555555556,
             "#d8576b"
            ],
            [
             0.6666666666666666,
             "#ed7953"
            ],
            [
             0.7777777777777778,
             "#fb9f3a"
            ],
            [
             0.8888888888888888,
             "#fdca26"
            ],
            [
             1,
             "#f0f921"
            ]
           ]
          },
          "colorway": [
           "#636efa",
           "#EF553B",
           "#00cc96",
           "#ab63fa",
           "#FFA15A",
           "#19d3f3",
           "#FF6692",
           "#B6E880",
           "#FF97FF",
           "#FECB52"
          ],
          "font": {
           "color": "#2a3f5f"
          },
          "geo": {
           "bgcolor": "white",
           "lakecolor": "white",
           "landcolor": "#E5ECF6",
           "showlakes": true,
           "showland": true,
           "subunitcolor": "white"
          },
          "hoverlabel": {
           "align": "left"
          },
          "hovermode": "closest",
          "mapbox": {
           "style": "light"
          },
          "paper_bgcolor": "white",
          "plot_bgcolor": "#E5ECF6",
          "polar": {
           "angularaxis": {
            "gridcolor": "white",
            "linecolor": "white",
            "ticks": ""
           },
           "bgcolor": "#E5ECF6",
           "radialaxis": {
            "gridcolor": "white",
            "linecolor": "white",
            "ticks": ""
           }
          },
          "scene": {
           "xaxis": {
            "backgroundcolor": "#E5ECF6",
            "gridcolor": "white",
            "gridwidth": 2,
            "linecolor": "white",
            "showbackground": true,
            "ticks": "",
            "zerolinecolor": "white"
           },
           "yaxis": {
            "backgroundcolor": "#E5ECF6",
            "gridcolor": "white",
            "gridwidth": 2,
            "linecolor": "white",
            "showbackground": true,
            "ticks": "",
            "zerolinecolor": "white"
           },
           "zaxis": {
            "backgroundcolor": "#E5ECF6",
            "gridcolor": "white",
            "gridwidth": 2,
            "linecolor": "white",
            "showbackground": true,
            "ticks": "",
            "zerolinecolor": "white"
           }
          },
          "shapedefaults": {
           "line": {
            "color": "#2a3f5f"
           }
          },
          "ternary": {
           "aaxis": {
            "gridcolor": "white",
            "linecolor": "white",
            "ticks": ""
           },
           "baxis": {
            "gridcolor": "white",
            "linecolor": "white",
            "ticks": ""
           },
           "bgcolor": "#E5ECF6",
           "caxis": {
            "gridcolor": "white",
            "linecolor": "white",
            "ticks": ""
           }
          },
          "title": {
           "x": 0.05
          },
          "xaxis": {
           "automargin": true,
           "gridcolor": "white",
           "linecolor": "white",
           "ticks": "",
           "title": {
            "standoff": 15
           },
           "zerolinecolor": "white",
           "zerolinewidth": 2
          },
          "yaxis": {
           "automargin": true,
           "gridcolor": "white",
           "linecolor": "white",
           "ticks": "",
           "title": {
            "standoff": 15
           },
           "zerolinecolor": "white",
           "zerolinewidth": 2
          }
         }
        },
        "title": {
         "text": "Scatter Matrix of Predictors with Fidelity as Color"
        },
        "width": 1000
       }
      }
     },
     "metadata": {},
     "output_type": "display_data"
    }
   ],
   "source": [
    "import plotly.express as px\n",
    "predictor_metrics = [\n",
    " \n",
    "    # 'error',\n",
    "   'basis_var_all_normalized_by_rank','basis_ipr_deff_norm','dqfim_ipr_deff_norm','target_ipr_deff_norm'\n",
    "\n",
    "]\n",
    "metrics_to_visualize = [\n",
    "    \"test_key\",\n",
    "    'avg_fidelity',\n",
    "    \n",
    "]\n",
    "metrics_to_visualize.extend(predictor_metrics)\n",
    "df_viz = df_agg_by_test_key[metrics_to_visualize].dropna()\n",
    "\n",
    "fig = px.scatter_matrix(\n",
    "    df_viz,\n",
    "    dimensions=predictor_metrics,\n",
    "    color=\"avg_fidelity\",        # Use fidelity as the color dimension\n",
    "    hover_data=[\"test_key\"],      # Show test_key on hover\n",
    "    title=\"Scatter Matrix of Predictors with Fidelity as Color\",\n",
    "    # template=\"plotly_white\"  # sets white background\n",
    ")\n",
    "fig.update_layout(width=1000, height=1000)\n",
    "fig.show()\n",
    "\n"
   ]
  },
  {
   "cell_type": "code",
   "execution_count": 189,
   "metadata": {},
   "outputs": [],
   "source": [
    "import matplotlib.pyplot as plt\n",
    "\n",
    "def plot_metric_vs_error(df, qfim_type, x_metric, error_col=\"error\", title=None):\n",
    "    \"\"\"\n",
    "    Plots a scatter plot for a given quantum fisher representation.\n",
    "    \n",
    "    Parameters\n",
    "    ----------\n",
    "    df : pd.DataFrame\n",
    "        Aggregated DataFrame (one row per test_key) that contains the computed QFIM metrics \n",
    "        and the error (e.g., computed as np.mean(np.log(1 - fidelity))).\n",
    "    qfim_type : str\n",
    "        The type of QFIM representation. Must be one of \"GHZ\", \"basis\", \"dqfim\", or \"target\".\n",
    "    x_metric : str\n",
    "        The metric (without prefix) to plot on the x-axis. For example, \"abbas_deff_norm\".\n",
    "        The function will look for a column named f\"{qfim_type}_{x_metric}\".\n",
    "    error_col : str, default \"error\"\n",
    "        The column name to use for the error values on the y-axis.\n",
    "    title : str, optional\n",
    "        A title for the plot. If not provided, a default title will be generated.\n",
    "    \n",
    "    Returns\n",
    "    -------\n",
    "    None. Displays the plot.\n",
    "    \"\"\"\n",
    "    \n",
    "    # Construct the full column name for the metric.\n",
    "    full_x_col = f\"{qfim_type}_{x_metric}\"\n",
    "    if full_x_col not in df.columns:\n",
    "        raise ValueError(f\"Column {full_x_col} not found in the DataFrame.\")\n",
    "    \n",
    "    # Extract the data.\n",
    "    x_data = df[full_x_col]\n",
    "    y_data = df[error_col]\n",
    "    \n",
    "    plt.figure(figsize=(8, 6))\n",
    "    plt.scatter(x_data, y_data, alpha=0.75)\n",
    "    plt.xlabel(full_x_col, fontsize=12)\n",
    "    plt.ylabel(error_col, fontsize=12)\n",
    "    if title is None:\n",
    "        title = f\"{qfim_type} {x_metric} vs. {error_col}\"\n",
    "    plt.title(title, fontsize=14)\n",
    "    plt.grid(True)\n",
    "    plt.show()\n",
    "\n",
    "\n",
    "# Example usage:\n",
    "# Assume df_agg_by_test_key is your aggregated DataFrame (one row per test_key)'GHZ_spread_metric_mad','basis_spread_metric_mad','target_spread_metric_mad'\n",
    "# and you want to plot, for example, \"abbas_deff_norm\" (without prefix) for the target DQFIM.\n",
    "# plot_metric_vs_error(df_agg_by_test_key, qfim_type=\"GHZ\", x_metric=\"spread_metric_mad\")\n",
    "# plot_metric_vs_error(df_agg_by_test_key, qfim_type=\"basis\", x_metric=\"spread_metric_mad\")\n",
    "# plot_metric_vs_error(df_agg_by_test_key, qfim_type=\"target\", x_metric=\"spread_metric_mad\")"
   ]
  },
  {
   "cell_type": "code",
   "execution_count": 250,
   "metadata": {},
   "outputs": [
    {
     "data": {
      "application/vnd.plotly.v1+json": {
       "config": {
        "plotlyServerURL": "https://plot.ly"
       },
       "data": [
        {
         "customdata": [
          [
           "test0"
          ],
          [
           "test1"
          ],
          [
           "test104"
          ],
          [
           "test110"
          ],
          [
           "test12"
          ],
          [
           "test122"
          ],
          [
           "test124"
          ],
          [
           "test128"
          ],
          [
           "test129"
          ],
          [
           "test139"
          ],
          [
           "test146"
          ],
          [
           "test170"
          ],
          [
           "test175"
          ],
          [
           "test176"
          ],
          [
           "test18"
          ],
          [
           "test197"
          ],
          [
           "test200"
          ],
          [
           "test235"
          ],
          [
           "test252"
          ],
          [
           "test255"
          ],
          [
           "test261"
          ],
          [
           "test262"
          ],
          [
           "test270"
          ],
          [
           "test275"
          ],
          [
           "test276"
          ],
          [
           "test277"
          ],
          [
           "test288"
          ],
          [
           "test298"
          ],
          [
           "test300"
          ],
          [
           "test319"
          ],
          [
           "test322"
          ],
          [
           "test325"
          ],
          [
           "test352"
          ],
          [
           "test375"
          ],
          [
           "test398"
          ],
          [
           "test399"
          ],
          [
           "test6"
          ],
          [
           "test7"
          ],
          [
           "test79"
          ]
         ],
         "hovertemplate": "dqfim_abbas_deff_raw=%{x}<br>error=%{marker.color}<br>test_key=%{customdata[0]}<extra></extra>",
         "legendgroup": "",
         "marker": {
          "color": [
           -6.3513168360166965,
           -6.0882619166268634,
           -6.254279730419226,
           -5.638411931768219,
           -5.562724317005218,
           -6.317745277287406,
           -5.95652694516754,
           -5.617542289634504,
           -6.18048625666267,
           -5.265287123457545,
           -6.803091084141557,
           -5.115830208445283,
           -5.948643224052612,
           -6.209368783029772,
           -6.73271254811384,
           -5.718101857484859,
           -5.594675335839199,
           -6.423558251568147,
           -6.462240091191188,
           -6.172430493264285,
           -5.802208536173566,
           -6.18548086947309,
           -5.973055818140238,
           -5.590638781236348,
           -5.921726043142438,
           -5.701270545505456,
           -5.821028647826737,
           -5.8518921550288265,
           -6.1861485298788965,
           -6.3642483394247815,
           -5.434494665854173,
           -6.057361923816664,
           -5.456891667304219,
           -5.637611996950335,
           -5.655573343531001,
           -5.414946806197656,
           -6.060403522499131,
           -6.287727930283097,
           -6.02464150422345
          ],
          "coloraxis": "coloraxis",
          "line": {
           "color": "black",
           "width": 1
          },
          "size": 12,
          "symbol": "circle"
         },
         "mode": "markers",
         "name": "",
         "orientation": "v",
         "showlegend": false,
         "type": "scatter",
         "x": [
          3.782420202347998,
          3.571697018076576,
          4.314143118869462,
          3.9898176307364177,
          2.7385314803258742,
          3.4381993955301198,
          3.659689215694937,
          3.080779890329854,
          2.8465334115456837,
          3.0211336074288733,
          3.0240319398311803,
          4.8681340497171295,
          3.3654047254676556,
          3.2800424736575247,
          2.71279229180245,
          2.8331226792842013,
          2.35582497276713,
          3.5199787364836546,
          3.616567104329243,
          3.9681473028502277,
          2.908226031925916,
          4.615775204240139,
          3.7906796342465725,
          3.0612472081158977,
          3.2677127816394593,
          4.115391966487339,
          2.8905970909204646,
          2.7395284065458236,
          2.6660599588164606,
          2.8227062242400303,
          4.992700770329941,
          3.4196439242725902,
          3.461252368842953,
          1.7902857768496765,
          3.216905147182934,
          3.900481607252181,
          3.127699251648634,
          3.1783736638521582,
          5.221684518293809
         ],
         "xaxis": "x",
         "y": [
          -6.3513168360166965,
          -6.0882619166268634,
          -6.254279730419226,
          -5.638411931768219,
          -5.562724317005218,
          -6.317745277287406,
          -5.95652694516754,
          -5.617542289634504,
          -6.18048625666267,
          -5.265287123457545,
          -6.803091084141557,
          -5.115830208445283,
          -5.948643224052612,
          -6.209368783029772,
          -6.73271254811384,
          -5.718101857484859,
          -5.594675335839199,
          -6.423558251568147,
          -6.462240091191188,
          -6.172430493264285,
          -5.802208536173566,
          -6.18548086947309,
          -5.973055818140238,
          -5.590638781236348,
          -5.921726043142438,
          -5.701270545505456,
          -5.821028647826737,
          -5.8518921550288265,
          -6.1861485298788965,
          -6.3642483394247815,
          -5.434494665854173,
          -6.057361923816664,
          -5.456891667304219,
          -5.637611996950335,
          -5.655573343531001,
          -5.414946806197656,
          -6.060403522499131,
          -6.287727930283097,
          -6.02464150422345
         ],
         "yaxis": "y"
        }
       ],
       "layout": {
        "coloraxis": {
         "colorbar": {
          "len": 0.9,
          "thickness": 30,
          "title": {
           "text": "error"
          },
          "x": 1.03,
          "y": 0.5,
          "yanchor": "middle"
         },
         "colorscale": [
          [
           0,
           "#fde725"
          ],
          [
           0.010101010101010102,
           "#f6e620"
          ],
          [
           0.020202020202020204,
           "#ece51b"
          ],
          [
           0.030303030303030304,
           "#e2e418"
          ],
          [
           0.04040404040404041,
           "#dae319"
          ],
          [
           0.050505050505050504,
           "#d0e11c"
          ],
          [
           0.06060606060606061,
           "#c5e021"
          ],
          [
           0.0707070707070707,
           "#bddf26"
          ],
          [
           0.08080808080808081,
           "#b2dd2d"
          ],
          [
           0.09090909090909091,
           "#aadc32"
          ],
          [
           0.10101010101010101,
           "#a0da39"
          ],
          [
           0.1111111111111111,
           "#98d83e"
          ],
          [
           0.12121212121212122,
           "#8ed645"
          ],
          [
           0.13131313131313133,
           "#86d549"
          ],
          [
           0.1414141414141414,
           "#7cd250"
          ],
          [
           0.15151515151515152,
           "#75d054"
          ],
          [
           0.16161616161616163,
           "#6ece58"
          ],
          [
           0.1717171717171717,
           "#65cb5e"
          ],
          [
           0.18181818181818182,
           "#5ec962"
          ],
          [
           0.1919191919191919,
           "#58c765"
          ],
          [
           0.20202020202020202,
           "#52c569"
          ],
          [
           0.21212121212121213,
           "#4ac16d"
          ],
          [
           0.2222222222222222,
           "#44bf70"
          ],
          [
           0.23232323232323232,
           "#3fbc73"
          ],
          [
           0.24242424242424243,
           "#3aba76"
          ],
          [
           0.25252525252525254,
           "#35b779"
          ],
          [
           0.26262626262626265,
           "#31b57b"
          ],
          [
           0.2727272727272727,
           "#2db27d"
          ],
          [
           0.2828282828282828,
           "#29af7f"
          ],
          [
           0.29292929292929293,
           "#25ac82"
          ],
          [
           0.30303030303030304,
           "#23a983"
          ],
          [
           0.31313131313131315,
           "#22a785"
          ],
          [
           0.32323232323232326,
           "#20a486"
          ],
          [
           0.3333333333333333,
           "#1fa187"
          ],
          [
           0.3434343434343434,
           "#1f9f88"
          ],
          [
           0.35353535353535354,
           "#1e9c89"
          ],
          [
           0.36363636363636365,
           "#1f998a"
          ],
          [
           0.37373737373737376,
           "#1f968b"
          ],
          [
           0.3838383838383838,
           "#20938c"
          ],
          [
           0.3939393939393939,
           "#20928c"
          ],
          [
           0.40404040404040403,
           "#218f8d"
          ],
          [
           0.41414141414141414,
           "#228c8d"
          ],
          [
           0.42424242424242425,
           "#23898e"
          ],
          [
           0.43434343434343436,
           "#24878e"
          ],
          [
           0.4444444444444444,
           "#25848e"
          ],
          [
           0.45454545454545453,
           "#26828e"
          ],
          [
           0.46464646464646464,
           "#27808e"
          ],
          [
           0.47474747474747475,
           "#287d8e"
          ],
          [
           0.48484848484848486,
           "#297b8e"
          ],
          [
           0.494949494949495,
           "#2a788e"
          ],
          [
           0.5050505050505051,
           "#2a768e"
          ],
          [
           0.5151515151515151,
           "#2c738e"
          ],
          [
           0.5252525252525253,
           "#2d718e"
          ],
          [
           0.5353535353535354,
           "#2e6f8e"
          ],
          [
           0.5454545454545454,
           "#2e6d8e"
          ],
          [
           0.5555555555555556,
           "#306a8e"
          ],
          [
           0.5656565656565656,
           "#31688e"
          ],
          [
           0.5757575757575758,
           "#32658e"
          ],
          [
           0.5858585858585859,
           "#33638d"
          ],
          [
           0.5959595959595959,
           "#34618d"
          ],
          [
           0.6060606060606061,
           "#355e8d"
          ],
          [
           0.6161616161616161,
           "#365c8d"
          ],
          [
           0.6262626262626263,
           "#375a8c"
          ],
          [
           0.6363636363636364,
           "#39568c"
          ],
          [
           0.6464646464646465,
           "#3a548c"
          ],
          [
           0.6565656565656566,
           "#3b528b"
          ],
          [
           0.6666666666666666,
           "#3c508b"
          ],
          [
           0.6767676767676768,
           "#3d4e8a"
          ],
          [
           0.6868686868686869,
           "#3e4a89"
          ],
          [
           0.696969696969697,
           "#3f4889"
          ],
          [
           0.7070707070707071,
           "#404688"
          ],
          [
           0.7171717171717171,
           "#414487"
          ],
          [
           0.7272727272727273,
           "#424186"
          ],
          [
           0.7373737373737373,
           "#423f85"
          ],
          [
           0.7474747474747475,
           "#433d84"
          ],
          [
           0.7575757575757576,
           "#443a83"
          ],
          [
           0.7676767676767676,
           "#453882"
          ],
          [
           0.7777777777777778,
           "#453581"
          ],
          [
           0.7878787878787878,
           "#46337f"
          ],
          [
           0.797979797979798,
           "#46307e"
          ],
          [
           0.8080808080808081,
           "#472e7c"
          ],
          [
           0.8181818181818182,
           "#472c7a"
          ],
          [
           0.8282828282828283,
           "#482979"
          ],
          [
           0.8383838383838383,
           "#482677"
          ],
          [
           0.8484848484848485,
           "#482475"
          ],
          [
           0.8585858585858586,
           "#482374"
          ],
          [
           0.8686868686868687,
           "#482071"
          ],
          [
           0.8787878787878788,
           "#481d6f"
          ],
          [
           0.8888888888888888,
           "#481b6d"
          ],
          [
           0.898989898989899,
           "#48186a"
          ],
          [
           0.9090909090909091,
           "#481769"
          ],
          [
           0.9191919191919192,
           "#481467"
          ],
          [
           0.9292929292929293,
           "#471164"
          ],
          [
           0.9393939393939394,
           "#470e61"
          ],
          [
           0.9494949494949495,
           "#470d60"
          ],
          [
           0.9595959595959596,
           "#460a5d"
          ],
          [
           0.9696969696969697,
           "#46075a"
          ],
          [
           0.9797979797979798,
           "#450559"
          ],
          [
           0.98989898989899,
           "#440256"
          ],
          [
           1,
           "#440154"
          ]
         ]
        },
        "height": 600,
        "legend": {
         "tracegroupgap": 0
        },
        "shapes": [
         {
          "layer": "below",
          "line": {
           "color": "black",
           "width": 2
          },
          "type": "rect",
          "x0": 0,
          "x1": 1,
          "xref": "paper",
          "y0": 0,
          "y1": 1,
          "yref": "paper"
         }
        ],
        "template": {
         "data": {
          "bar": [
           {
            "error_x": {
             "color": "#2a3f5f"
            },
            "error_y": {
             "color": "#2a3f5f"
            },
            "marker": {
             "line": {
              "color": "white",
              "width": 0.5
             },
             "pattern": {
              "fillmode": "overlay",
              "size": 10,
              "solidity": 0.2
             }
            },
            "type": "bar"
           }
          ],
          "barpolar": [
           {
            "marker": {
             "line": {
              "color": "white",
              "width": 0.5
             },
             "pattern": {
              "fillmode": "overlay",
              "size": 10,
              "solidity": 0.2
             }
            },
            "type": "barpolar"
           }
          ],
          "carpet": [
           {
            "aaxis": {
             "endlinecolor": "#2a3f5f",
             "gridcolor": "#C8D4E3",
             "linecolor": "#C8D4E3",
             "minorgridcolor": "#C8D4E3",
             "startlinecolor": "#2a3f5f"
            },
            "baxis": {
             "endlinecolor": "#2a3f5f",
             "gridcolor": "#C8D4E3",
             "linecolor": "#C8D4E3",
             "minorgridcolor": "#C8D4E3",
             "startlinecolor": "#2a3f5f"
            },
            "type": "carpet"
           }
          ],
          "choropleth": [
           {
            "colorbar": {
             "outlinewidth": 0,
             "ticks": ""
            },
            "type": "choropleth"
           }
          ],
          "contour": [
           {
            "colorbar": {
             "outlinewidth": 0,
             "ticks": ""
            },
            "colorscale": [
             [
              0,
              "#0d0887"
             ],
             [
              0.1111111111111111,
              "#46039f"
             ],
             [
              0.2222222222222222,
              "#7201a8"
             ],
             [
              0.3333333333333333,
              "#9c179e"
             ],
             [
              0.4444444444444444,
              "#bd3786"
             ],
             [
              0.5555555555555556,
              "#d8576b"
             ],
             [
              0.6666666666666666,
              "#ed7953"
             ],
             [
              0.7777777777777778,
              "#fb9f3a"
             ],
             [
              0.8888888888888888,
              "#fdca26"
             ],
             [
              1,
              "#f0f921"
             ]
            ],
            "type": "contour"
           }
          ],
          "contourcarpet": [
           {
            "colorbar": {
             "outlinewidth": 0,
             "ticks": ""
            },
            "type": "contourcarpet"
           }
          ],
          "heatmap": [
           {
            "colorbar": {
             "outlinewidth": 0,
             "ticks": ""
            },
            "colorscale": [
             [
              0,
              "#0d0887"
             ],
             [
              0.1111111111111111,
              "#46039f"
             ],
             [
              0.2222222222222222,
              "#7201a8"
             ],
             [
              0.3333333333333333,
              "#9c179e"
             ],
             [
              0.4444444444444444,
              "#bd3786"
             ],
             [
              0.5555555555555556,
              "#d8576b"
             ],
             [
              0.6666666666666666,
              "#ed7953"
             ],
             [
              0.7777777777777778,
              "#fb9f3a"
             ],
             [
              0.8888888888888888,
              "#fdca26"
             ],
             [
              1,
              "#f0f921"
             ]
            ],
            "type": "heatmap"
           }
          ],
          "heatmapgl": [
           {
            "colorbar": {
             "outlinewidth": 0,
             "ticks": ""
            },
            "colorscale": [
             [
              0,
              "#0d0887"
             ],
             [
              0.1111111111111111,
              "#46039f"
             ],
             [
              0.2222222222222222,
              "#7201a8"
             ],
             [
              0.3333333333333333,
              "#9c179e"
             ],
             [
              0.4444444444444444,
              "#bd3786"
             ],
             [
              0.5555555555555556,
              "#d8576b"
             ],
             [
              0.6666666666666666,
              "#ed7953"
             ],
             [
              0.7777777777777778,
              "#fb9f3a"
             ],
             [
              0.8888888888888888,
              "#fdca26"
             ],
             [
              1,
              "#f0f921"
             ]
            ],
            "type": "heatmapgl"
           }
          ],
          "histogram": [
           {
            "marker": {
             "pattern": {
              "fillmode": "overlay",
              "size": 10,
              "solidity": 0.2
             }
            },
            "type": "histogram"
           }
          ],
          "histogram2d": [
           {
            "colorbar": {
             "outlinewidth": 0,
             "ticks": ""
            },
            "colorscale": [
             [
              0,
              "#0d0887"
             ],
             [
              0.1111111111111111,
              "#46039f"
             ],
             [
              0.2222222222222222,
              "#7201a8"
             ],
             [
              0.3333333333333333,
              "#9c179e"
             ],
             [
              0.4444444444444444,
              "#bd3786"
             ],
             [
              0.5555555555555556,
              "#d8576b"
             ],
             [
              0.6666666666666666,
              "#ed7953"
             ],
             [
              0.7777777777777778,
              "#fb9f3a"
             ],
             [
              0.8888888888888888,
              "#fdca26"
             ],
             [
              1,
              "#f0f921"
             ]
            ],
            "type": "histogram2d"
           }
          ],
          "histogram2dcontour": [
           {
            "colorbar": {
             "outlinewidth": 0,
             "ticks": ""
            },
            "colorscale": [
             [
              0,
              "#0d0887"
             ],
             [
              0.1111111111111111,
              "#46039f"
             ],
             [
              0.2222222222222222,
              "#7201a8"
             ],
             [
              0.3333333333333333,
              "#9c179e"
             ],
             [
              0.4444444444444444,
              "#bd3786"
             ],
             [
              0.5555555555555556,
              "#d8576b"
             ],
             [
              0.6666666666666666,
              "#ed7953"
             ],
             [
              0.7777777777777778,
              "#fb9f3a"
             ],
             [
              0.8888888888888888,
              "#fdca26"
             ],
             [
              1,
              "#f0f921"
             ]
            ],
            "type": "histogram2dcontour"
           }
          ],
          "mesh3d": [
           {
            "colorbar": {
             "outlinewidth": 0,
             "ticks": ""
            },
            "type": "mesh3d"
           }
          ],
          "parcoords": [
           {
            "line": {
             "colorbar": {
              "outlinewidth": 0,
              "ticks": ""
             }
            },
            "type": "parcoords"
           }
          ],
          "pie": [
           {
            "automargin": true,
            "type": "pie"
           }
          ],
          "scatter": [
           {
            "fillpattern": {
             "fillmode": "overlay",
             "size": 10,
             "solidity": 0.2
            },
            "type": "scatter"
           }
          ],
          "scatter3d": [
           {
            "line": {
             "colorbar": {
              "outlinewidth": 0,
              "ticks": ""
             }
            },
            "marker": {
             "colorbar": {
              "outlinewidth": 0,
              "ticks": ""
             }
            },
            "type": "scatter3d"
           }
          ],
          "scattercarpet": [
           {
            "marker": {
             "colorbar": {
              "outlinewidth": 0,
              "ticks": ""
             }
            },
            "type": "scattercarpet"
           }
          ],
          "scattergeo": [
           {
            "marker": {
             "colorbar": {
              "outlinewidth": 0,
              "ticks": ""
             }
            },
            "type": "scattergeo"
           }
          ],
          "scattergl": [
           {
            "marker": {
             "colorbar": {
              "outlinewidth": 0,
              "ticks": ""
             }
            },
            "type": "scattergl"
           }
          ],
          "scattermapbox": [
           {
            "marker": {
             "colorbar": {
              "outlinewidth": 0,
              "ticks": ""
             }
            },
            "type": "scattermapbox"
           }
          ],
          "scatterpolar": [
           {
            "marker": {
             "colorbar": {
              "outlinewidth": 0,
              "ticks": ""
             }
            },
            "type": "scatterpolar"
           }
          ],
          "scatterpolargl": [
           {
            "marker": {
             "colorbar": {
              "outlinewidth": 0,
              "ticks": ""
             }
            },
            "type": "scatterpolargl"
           }
          ],
          "scatterternary": [
           {
            "marker": {
             "colorbar": {
              "outlinewidth": 0,
              "ticks": ""
             }
            },
            "type": "scatterternary"
           }
          ],
          "surface": [
           {
            "colorbar": {
             "outlinewidth": 0,
             "ticks": ""
            },
            "colorscale": [
             [
              0,
              "#0d0887"
             ],
             [
              0.1111111111111111,
              "#46039f"
             ],
             [
              0.2222222222222222,
              "#7201a8"
             ],
             [
              0.3333333333333333,
              "#9c179e"
             ],
             [
              0.4444444444444444,
              "#bd3786"
             ],
             [
              0.5555555555555556,
              "#d8576b"
             ],
             [
              0.6666666666666666,
              "#ed7953"
             ],
             [
              0.7777777777777778,
              "#fb9f3a"
             ],
             [
              0.8888888888888888,
              "#fdca26"
             ],
             [
              1,
              "#f0f921"
             ]
            ],
            "type": "surface"
           }
          ],
          "table": [
           {
            "cells": {
             "fill": {
              "color": "#EBF0F8"
             },
             "line": {
              "color": "white"
             }
            },
            "header": {
             "fill": {
              "color": "#C8D4E3"
             },
             "line": {
              "color": "white"
             }
            },
            "type": "table"
           }
          ]
         },
         "layout": {
          "annotationdefaults": {
           "arrowcolor": "#2a3f5f",
           "arrowhead": 0,
           "arrowwidth": 1
          },
          "autotypenumbers": "strict",
          "coloraxis": {
           "colorbar": {
            "outlinewidth": 0,
            "ticks": ""
           }
          },
          "colorscale": {
           "diverging": [
            [
             0,
             "#8e0152"
            ],
            [
             0.1,
             "#c51b7d"
            ],
            [
             0.2,
             "#de77ae"
            ],
            [
             0.3,
             "#f1b6da"
            ],
            [
             0.4,
             "#fde0ef"
            ],
            [
             0.5,
             "#f7f7f7"
            ],
            [
             0.6,
             "#e6f5d0"
            ],
            [
             0.7,
             "#b8e186"
            ],
            [
             0.8,
             "#7fbc41"
            ],
            [
             0.9,
             "#4d9221"
            ],
            [
             1,
             "#276419"
            ]
           ],
           "sequential": [
            [
             0,
             "#0d0887"
            ],
            [
             0.1111111111111111,
             "#46039f"
            ],
            [
             0.2222222222222222,
             "#7201a8"
            ],
            [
             0.3333333333333333,
             "#9c179e"
            ],
            [
             0.4444444444444444,
             "#bd3786"
            ],
            [
             0.5555555555555556,
             "#d8576b"
            ],
            [
             0.6666666666666666,
             "#ed7953"
            ],
            [
             0.7777777777777778,
             "#fb9f3a"
            ],
            [
             0.8888888888888888,
             "#fdca26"
            ],
            [
             1,
             "#f0f921"
            ]
           ],
           "sequentialminus": [
            [
             0,
             "#0d0887"
            ],
            [
             0.1111111111111111,
             "#46039f"
            ],
            [
             0.2222222222222222,
             "#7201a8"
            ],
            [
             0.3333333333333333,
             "#9c179e"
            ],
            [
             0.4444444444444444,
             "#bd3786"
            ],
            [
             0.5555555555555556,
             "#d8576b"
            ],
            [
             0.6666666666666666,
             "#ed7953"
            ],
            [
             0.7777777777777778,
             "#fb9f3a"
            ],
            [
             0.8888888888888888,
             "#fdca26"
            ],
            [
             1,
             "#f0f921"
            ]
           ]
          },
          "colorway": [
           "#636efa",
           "#EF553B",
           "#00cc96",
           "#ab63fa",
           "#FFA15A",
           "#19d3f3",
           "#FF6692",
           "#B6E880",
           "#FF97FF",
           "#FECB52"
          ],
          "font": {
           "color": "#2a3f5f"
          },
          "geo": {
           "bgcolor": "white",
           "lakecolor": "white",
           "landcolor": "white",
           "showlakes": true,
           "showland": true,
           "subunitcolor": "#C8D4E3"
          },
          "hoverlabel": {
           "align": "left"
          },
          "hovermode": "closest",
          "mapbox": {
           "style": "light"
          },
          "paper_bgcolor": "white",
          "plot_bgcolor": "white",
          "polar": {
           "angularaxis": {
            "gridcolor": "#EBF0F8",
            "linecolor": "#EBF0F8",
            "ticks": ""
           },
           "bgcolor": "white",
           "radialaxis": {
            "gridcolor": "#EBF0F8",
            "linecolor": "#EBF0F8",
            "ticks": ""
           }
          },
          "scene": {
           "xaxis": {
            "backgroundcolor": "white",
            "gridcolor": "#DFE8F3",
            "gridwidth": 2,
            "linecolor": "#EBF0F8",
            "showbackground": true,
            "ticks": "",
            "zerolinecolor": "#EBF0F8"
           },
           "yaxis": {
            "backgroundcolor": "white",
            "gridcolor": "#DFE8F3",
            "gridwidth": 2,
            "linecolor": "#EBF0F8",
            "showbackground": true,
            "ticks": "",
            "zerolinecolor": "#EBF0F8"
           },
           "zaxis": {
            "backgroundcolor": "white",
            "gridcolor": "#DFE8F3",
            "gridwidth": 2,
            "linecolor": "#EBF0F8",
            "showbackground": true,
            "ticks": "",
            "zerolinecolor": "#EBF0F8"
           }
          },
          "shapedefaults": {
           "line": {
            "color": "#2a3f5f"
           }
          },
          "ternary": {
           "aaxis": {
            "gridcolor": "#DFE8F3",
            "linecolor": "#A2B1C6",
            "ticks": ""
           },
           "baxis": {
            "gridcolor": "#DFE8F3",
            "linecolor": "#A2B1C6",
            "ticks": ""
           },
           "bgcolor": "white",
           "caxis": {
            "gridcolor": "#DFE8F3",
            "linecolor": "#A2B1C6",
            "ticks": ""
           }
          },
          "title": {
           "x": 0.05
          },
          "xaxis": {
           "automargin": true,
           "gridcolor": "#EBF0F8",
           "linecolor": "#EBF0F8",
           "ticks": "",
           "title": {
            "standoff": 15
           },
           "zerolinecolor": "#EBF0F8",
           "zerolinewidth": 2
          },
          "yaxis": {
           "automargin": true,
           "gridcolor": "#EBF0F8",
           "linecolor": "#EBF0F8",
           "ticks": "",
           "title": {
            "standoff": 15
           },
           "zerolinecolor": "#EBF0F8",
           "zerolinewidth": 2
          }
         }
        },
        "title": {
         "text": "dqfim_abbas_deff_raw vs error colored by error"
        },
        "width": 800,
        "xaxis": {
         "anchor": "y",
         "domain": [
          0,
          1
         ],
         "gridcolor": "lightgray",
         "gridwidth": 1,
         "showgrid": true,
         "title": {
          "text": "dqfim_abbas_deff_raw"
         }
        },
        "yaxis": {
         "anchor": "x",
         "domain": [
          0,
          1
         ],
         "gridcolor": "lightgray",
         "gridwidth": 1,
         "showgrid": true,
         "title": {
          "text": "error"
         }
        }
       }
      }
     },
     "metadata": {},
     "output_type": "display_data"
    },
    {
     "data": {
      "application/vnd.plotly.v1+json": {
       "config": {
        "plotlyServerURL": "https://plot.ly"
       },
       "data": [
        {
         "customdata": [
          [
           "test0"
          ],
          [
           "test1"
          ],
          [
           "test104"
          ],
          [
           "test110"
          ],
          [
           "test12"
          ],
          [
           "test122"
          ],
          [
           "test124"
          ],
          [
           "test128"
          ],
          [
           "test129"
          ],
          [
           "test139"
          ],
          [
           "test146"
          ],
          [
           "test170"
          ],
          [
           "test175"
          ],
          [
           "test176"
          ],
          [
           "test18"
          ],
          [
           "test197"
          ],
          [
           "test200"
          ],
          [
           "test235"
          ],
          [
           "test252"
          ],
          [
           "test255"
          ],
          [
           "test261"
          ],
          [
           "test262"
          ],
          [
           "test270"
          ],
          [
           "test275"
          ],
          [
           "test276"
          ],
          [
           "test277"
          ],
          [
           "test288"
          ],
          [
           "test298"
          ],
          [
           "test300"
          ],
          [
           "test319"
          ],
          [
           "test322"
          ],
          [
           "test325"
          ],
          [
           "test352"
          ],
          [
           "test375"
          ],
          [
           "test398"
          ],
          [
           "test399"
          ],
          [
           "test6"
          ],
          [
           "test7"
          ],
          [
           "test79"
          ]
         ],
         "hovertemplate": "target_trace_normalized_by_rank=%{x}<br>error=%{marker.color}<br>test_key=%{customdata[0]}<extra></extra>",
         "legendgroup": "",
         "marker": {
          "color": [
           -6.3513168360166965,
           -6.0882619166268634,
           -6.254279730419226,
           -5.638411931768219,
           -5.562724317005218,
           -6.317745277287406,
           -5.95652694516754,
           -5.617542289634504,
           -6.18048625666267,
           -5.265287123457545,
           -6.803091084141557,
           -5.115830208445283,
           -5.948643224052612,
           -6.209368783029772,
           -6.73271254811384,
           -5.718101857484859,
           -5.594675335839199,
           -6.423558251568147,
           -6.462240091191188,
           -6.172430493264285,
           -5.802208536173566,
           -6.18548086947309,
           -5.973055818140238,
           -5.590638781236348,
           -5.921726043142438,
           -5.701270545505456,
           -5.821028647826737,
           -5.8518921550288265,
           -6.1861485298788965,
           -6.3642483394247815,
           -5.434494665854173,
           -6.057361923816664,
           -5.456891667304219,
           -5.637611996950335,
           -5.655573343531001,
           -5.414946806197656,
           -6.060403522499131,
           -6.287727930283097,
           -6.02464150422345
          ],
          "coloraxis": "coloraxis",
          "line": {
           "color": "black",
           "width": 1
          },
          "size": 12,
          "symbol": "circle"
         },
         "mode": "markers",
         "name": "",
         "orientation": "v",
         "showlegend": false,
         "type": "scatter",
         "x": [
          0.8501055076918326,
          0.6954407471402262,
          1.3161801354181564,
          0.8365443054953825,
          0.498251249352679,
          0.8372553628395932,
          1.0616854650904497,
          0.5091101770205222,
          0.39677383737056515,
          0.6578166558535303,
          0.5026568036150864,
          0.9425864490468647,
          0.6260744480621846,
          0.5981696145697718,
          0.3424941192431531,
          0.6962326192639254,
          0.5004947442547956,
          0.8421000802800769,
          0.7769729175457906,
          0.7921521435157419,
          0.6937213921670004,
          1.1677650911345459,
          1.1609493682877374,
          0.8043833283348552,
          0.6982914474166353,
          0.8886423834307025,
          0.5017810096420969,
          0.48277904097728125,
          0.4586722134035968,
          0.6246900068223962,
          1.2367918252485255,
          0.4251033307690887,
          0.7419599611994012,
          0.3228503966659385,
          0.563773296820277,
          0.7132378435571722,
          0.6751270380236094,
          0.5270345323940273,
          1.2098088287286617
         ],
         "xaxis": "x",
         "y": [
          -6.3513168360166965,
          -6.0882619166268634,
          -6.254279730419226,
          -5.638411931768219,
          -5.562724317005218,
          -6.317745277287406,
          -5.95652694516754,
          -5.617542289634504,
          -6.18048625666267,
          -5.265287123457545,
          -6.803091084141557,
          -5.115830208445283,
          -5.948643224052612,
          -6.209368783029772,
          -6.73271254811384,
          -5.718101857484859,
          -5.594675335839199,
          -6.423558251568147,
          -6.462240091191188,
          -6.172430493264285,
          -5.802208536173566,
          -6.18548086947309,
          -5.973055818140238,
          -5.590638781236348,
          -5.921726043142438,
          -5.701270545505456,
          -5.821028647826737,
          -5.8518921550288265,
          -6.1861485298788965,
          -6.3642483394247815,
          -5.434494665854173,
          -6.057361923816664,
          -5.456891667304219,
          -5.637611996950335,
          -5.655573343531001,
          -5.414946806197656,
          -6.060403522499131,
          -6.287727930283097,
          -6.02464150422345
         ],
         "yaxis": "y"
        }
       ],
       "layout": {
        "coloraxis": {
         "colorbar": {
          "len": 0.9,
          "thickness": 30,
          "title": {
           "text": "error"
          },
          "x": 1.03,
          "y": 0.5,
          "yanchor": "middle"
         },
         "colorscale": [
          [
           0,
           "#fde725"
          ],
          [
           0.010101010101010102,
           "#f6e620"
          ],
          [
           0.020202020202020204,
           "#ece51b"
          ],
          [
           0.030303030303030304,
           "#e2e418"
          ],
          [
           0.04040404040404041,
           "#dae319"
          ],
          [
           0.050505050505050504,
           "#d0e11c"
          ],
          [
           0.06060606060606061,
           "#c5e021"
          ],
          [
           0.0707070707070707,
           "#bddf26"
          ],
          [
           0.08080808080808081,
           "#b2dd2d"
          ],
          [
           0.09090909090909091,
           "#aadc32"
          ],
          [
           0.10101010101010101,
           "#a0da39"
          ],
          [
           0.1111111111111111,
           "#98d83e"
          ],
          [
           0.12121212121212122,
           "#8ed645"
          ],
          [
           0.13131313131313133,
           "#86d549"
          ],
          [
           0.1414141414141414,
           "#7cd250"
          ],
          [
           0.15151515151515152,
           "#75d054"
          ],
          [
           0.16161616161616163,
           "#6ece58"
          ],
          [
           0.1717171717171717,
           "#65cb5e"
          ],
          [
           0.18181818181818182,
           "#5ec962"
          ],
          [
           0.1919191919191919,
           "#58c765"
          ],
          [
           0.20202020202020202,
           "#52c569"
          ],
          [
           0.21212121212121213,
           "#4ac16d"
          ],
          [
           0.2222222222222222,
           "#44bf70"
          ],
          [
           0.23232323232323232,
           "#3fbc73"
          ],
          [
           0.24242424242424243,
           "#3aba76"
          ],
          [
           0.25252525252525254,
           "#35b779"
          ],
          [
           0.26262626262626265,
           "#31b57b"
          ],
          [
           0.2727272727272727,
           "#2db27d"
          ],
          [
           0.2828282828282828,
           "#29af7f"
          ],
          [
           0.29292929292929293,
           "#25ac82"
          ],
          [
           0.30303030303030304,
           "#23a983"
          ],
          [
           0.31313131313131315,
           "#22a785"
          ],
          [
           0.32323232323232326,
           "#20a486"
          ],
          [
           0.3333333333333333,
           "#1fa187"
          ],
          [
           0.3434343434343434,
           "#1f9f88"
          ],
          [
           0.35353535353535354,
           "#1e9c89"
          ],
          [
           0.36363636363636365,
           "#1f998a"
          ],
          [
           0.37373737373737376,
           "#1f968b"
          ],
          [
           0.3838383838383838,
           "#20938c"
          ],
          [
           0.3939393939393939,
           "#20928c"
          ],
          [
           0.40404040404040403,
           "#218f8d"
          ],
          [
           0.41414141414141414,
           "#228c8d"
          ],
          [
           0.42424242424242425,
           "#23898e"
          ],
          [
           0.43434343434343436,
           "#24878e"
          ],
          [
           0.4444444444444444,
           "#25848e"
          ],
          [
           0.45454545454545453,
           "#26828e"
          ],
          [
           0.46464646464646464,
           "#27808e"
          ],
          [
           0.47474747474747475,
           "#287d8e"
          ],
          [
           0.48484848484848486,
           "#297b8e"
          ],
          [
           0.494949494949495,
           "#2a788e"
          ],
          [
           0.5050505050505051,
           "#2a768e"
          ],
          [
           0.5151515151515151,
           "#2c738e"
          ],
          [
           0.5252525252525253,
           "#2d718e"
          ],
          [
           0.5353535353535354,
           "#2e6f8e"
          ],
          [
           0.5454545454545454,
           "#2e6d8e"
          ],
          [
           0.5555555555555556,
           "#306a8e"
          ],
          [
           0.5656565656565656,
           "#31688e"
          ],
          [
           0.5757575757575758,
           "#32658e"
          ],
          [
           0.5858585858585859,
           "#33638d"
          ],
          [
           0.5959595959595959,
           "#34618d"
          ],
          [
           0.6060606060606061,
           "#355e8d"
          ],
          [
           0.6161616161616161,
           "#365c8d"
          ],
          [
           0.6262626262626263,
           "#375a8c"
          ],
          [
           0.6363636363636364,
           "#39568c"
          ],
          [
           0.6464646464646465,
           "#3a548c"
          ],
          [
           0.6565656565656566,
           "#3b528b"
          ],
          [
           0.6666666666666666,
           "#3c508b"
          ],
          [
           0.6767676767676768,
           "#3d4e8a"
          ],
          [
           0.6868686868686869,
           "#3e4a89"
          ],
          [
           0.696969696969697,
           "#3f4889"
          ],
          [
           0.7070707070707071,
           "#404688"
          ],
          [
           0.7171717171717171,
           "#414487"
          ],
          [
           0.7272727272727273,
           "#424186"
          ],
          [
           0.7373737373737373,
           "#423f85"
          ],
          [
           0.7474747474747475,
           "#433d84"
          ],
          [
           0.7575757575757576,
           "#443a83"
          ],
          [
           0.7676767676767676,
           "#453882"
          ],
          [
           0.7777777777777778,
           "#453581"
          ],
          [
           0.7878787878787878,
           "#46337f"
          ],
          [
           0.797979797979798,
           "#46307e"
          ],
          [
           0.8080808080808081,
           "#472e7c"
          ],
          [
           0.8181818181818182,
           "#472c7a"
          ],
          [
           0.8282828282828283,
           "#482979"
          ],
          [
           0.8383838383838383,
           "#482677"
          ],
          [
           0.8484848484848485,
           "#482475"
          ],
          [
           0.8585858585858586,
           "#482374"
          ],
          [
           0.8686868686868687,
           "#482071"
          ],
          [
           0.8787878787878788,
           "#481d6f"
          ],
          [
           0.8888888888888888,
           "#481b6d"
          ],
          [
           0.898989898989899,
           "#48186a"
          ],
          [
           0.9090909090909091,
           "#481769"
          ],
          [
           0.9191919191919192,
           "#481467"
          ],
          [
           0.9292929292929293,
           "#471164"
          ],
          [
           0.9393939393939394,
           "#470e61"
          ],
          [
           0.9494949494949495,
           "#470d60"
          ],
          [
           0.9595959595959596,
           "#460a5d"
          ],
          [
           0.9696969696969697,
           "#46075a"
          ],
          [
           0.9797979797979798,
           "#450559"
          ],
          [
           0.98989898989899,
           "#440256"
          ],
          [
           1,
           "#440154"
          ]
         ]
        },
        "height": 600,
        "legend": {
         "tracegroupgap": 0
        },
        "shapes": [
         {
          "layer": "below",
          "line": {
           "color": "black",
           "width": 2
          },
          "type": "rect",
          "x0": 0,
          "x1": 1,
          "xref": "paper",
          "y0": 0,
          "y1": 1,
          "yref": "paper"
         }
        ],
        "template": {
         "data": {
          "bar": [
           {
            "error_x": {
             "color": "#2a3f5f"
            },
            "error_y": {
             "color": "#2a3f5f"
            },
            "marker": {
             "line": {
              "color": "white",
              "width": 0.5
             },
             "pattern": {
              "fillmode": "overlay",
              "size": 10,
              "solidity": 0.2
             }
            },
            "type": "bar"
           }
          ],
          "barpolar": [
           {
            "marker": {
             "line": {
              "color": "white",
              "width": 0.5
             },
             "pattern": {
              "fillmode": "overlay",
              "size": 10,
              "solidity": 0.2
             }
            },
            "type": "barpolar"
           }
          ],
          "carpet": [
           {
            "aaxis": {
             "endlinecolor": "#2a3f5f",
             "gridcolor": "#C8D4E3",
             "linecolor": "#C8D4E3",
             "minorgridcolor": "#C8D4E3",
             "startlinecolor": "#2a3f5f"
            },
            "baxis": {
             "endlinecolor": "#2a3f5f",
             "gridcolor": "#C8D4E3",
             "linecolor": "#C8D4E3",
             "minorgridcolor": "#C8D4E3",
             "startlinecolor": "#2a3f5f"
            },
            "type": "carpet"
           }
          ],
          "choropleth": [
           {
            "colorbar": {
             "outlinewidth": 0,
             "ticks": ""
            },
            "type": "choropleth"
           }
          ],
          "contour": [
           {
            "colorbar": {
             "outlinewidth": 0,
             "ticks": ""
            },
            "colorscale": [
             [
              0,
              "#0d0887"
             ],
             [
              0.1111111111111111,
              "#46039f"
             ],
             [
              0.2222222222222222,
              "#7201a8"
             ],
             [
              0.3333333333333333,
              "#9c179e"
             ],
             [
              0.4444444444444444,
              "#bd3786"
             ],
             [
              0.5555555555555556,
              "#d8576b"
             ],
             [
              0.6666666666666666,
              "#ed7953"
             ],
             [
              0.7777777777777778,
              "#fb9f3a"
             ],
             [
              0.8888888888888888,
              "#fdca26"
             ],
             [
              1,
              "#f0f921"
             ]
            ],
            "type": "contour"
           }
          ],
          "contourcarpet": [
           {
            "colorbar": {
             "outlinewidth": 0,
             "ticks": ""
            },
            "type": "contourcarpet"
           }
          ],
          "heatmap": [
           {
            "colorbar": {
             "outlinewidth": 0,
             "ticks": ""
            },
            "colorscale": [
             [
              0,
              "#0d0887"
             ],
             [
              0.1111111111111111,
              "#46039f"
             ],
             [
              0.2222222222222222,
              "#7201a8"
             ],
             [
              0.3333333333333333,
              "#9c179e"
             ],
             [
              0.4444444444444444,
              "#bd3786"
             ],
             [
              0.5555555555555556,
              "#d8576b"
             ],
             [
              0.6666666666666666,
              "#ed7953"
             ],
             [
              0.7777777777777778,
              "#fb9f3a"
             ],
             [
              0.8888888888888888,
              "#fdca26"
             ],
             [
              1,
              "#f0f921"
             ]
            ],
            "type": "heatmap"
           }
          ],
          "heatmapgl": [
           {
            "colorbar": {
             "outlinewidth": 0,
             "ticks": ""
            },
            "colorscale": [
             [
              0,
              "#0d0887"
             ],
             [
              0.1111111111111111,
              "#46039f"
             ],
             [
              0.2222222222222222,
              "#7201a8"
             ],
             [
              0.3333333333333333,
              "#9c179e"
             ],
             [
              0.4444444444444444,
              "#bd3786"
             ],
             [
              0.5555555555555556,
              "#d8576b"
             ],
             [
              0.6666666666666666,
              "#ed7953"
             ],
             [
              0.7777777777777778,
              "#fb9f3a"
             ],
             [
              0.8888888888888888,
              "#fdca26"
             ],
             [
              1,
              "#f0f921"
             ]
            ],
            "type": "heatmapgl"
           }
          ],
          "histogram": [
           {
            "marker": {
             "pattern": {
              "fillmode": "overlay",
              "size": 10,
              "solidity": 0.2
             }
            },
            "type": "histogram"
           }
          ],
          "histogram2d": [
           {
            "colorbar": {
             "outlinewidth": 0,
             "ticks": ""
            },
            "colorscale": [
             [
              0,
              "#0d0887"
             ],
             [
              0.1111111111111111,
              "#46039f"
             ],
             [
              0.2222222222222222,
              "#7201a8"
             ],
             [
              0.3333333333333333,
              "#9c179e"
             ],
             [
              0.4444444444444444,
              "#bd3786"
             ],
             [
              0.5555555555555556,
              "#d8576b"
             ],
             [
              0.6666666666666666,
              "#ed7953"
             ],
             [
              0.7777777777777778,
              "#fb9f3a"
             ],
             [
              0.8888888888888888,
              "#fdca26"
             ],
             [
              1,
              "#f0f921"
             ]
            ],
            "type": "histogram2d"
           }
          ],
          "histogram2dcontour": [
           {
            "colorbar": {
             "outlinewidth": 0,
             "ticks": ""
            },
            "colorscale": [
             [
              0,
              "#0d0887"
             ],
             [
              0.1111111111111111,
              "#46039f"
             ],
             [
              0.2222222222222222,
              "#7201a8"
             ],
             [
              0.3333333333333333,
              "#9c179e"
             ],
             [
              0.4444444444444444,
              "#bd3786"
             ],
             [
              0.5555555555555556,
              "#d8576b"
             ],
             [
              0.6666666666666666,
              "#ed7953"
             ],
             [
              0.7777777777777778,
              "#fb9f3a"
             ],
             [
              0.8888888888888888,
              "#fdca26"
             ],
             [
              1,
              "#f0f921"
             ]
            ],
            "type": "histogram2dcontour"
           }
          ],
          "mesh3d": [
           {
            "colorbar": {
             "outlinewidth": 0,
             "ticks": ""
            },
            "type": "mesh3d"
           }
          ],
          "parcoords": [
           {
            "line": {
             "colorbar": {
              "outlinewidth": 0,
              "ticks": ""
             }
            },
            "type": "parcoords"
           }
          ],
          "pie": [
           {
            "automargin": true,
            "type": "pie"
           }
          ],
          "scatter": [
           {
            "fillpattern": {
             "fillmode": "overlay",
             "size": 10,
             "solidity": 0.2
            },
            "type": "scatter"
           }
          ],
          "scatter3d": [
           {
            "line": {
             "colorbar": {
              "outlinewidth": 0,
              "ticks": ""
             }
            },
            "marker": {
             "colorbar": {
              "outlinewidth": 0,
              "ticks": ""
             }
            },
            "type": "scatter3d"
           }
          ],
          "scattercarpet": [
           {
            "marker": {
             "colorbar": {
              "outlinewidth": 0,
              "ticks": ""
             }
            },
            "type": "scattercarpet"
           }
          ],
          "scattergeo": [
           {
            "marker": {
             "colorbar": {
              "outlinewidth": 0,
              "ticks": ""
             }
            },
            "type": "scattergeo"
           }
          ],
          "scattergl": [
           {
            "marker": {
             "colorbar": {
              "outlinewidth": 0,
              "ticks": ""
             }
            },
            "type": "scattergl"
           }
          ],
          "scattermapbox": [
           {
            "marker": {
             "colorbar": {
              "outlinewidth": 0,
              "ticks": ""
             }
            },
            "type": "scattermapbox"
           }
          ],
          "scatterpolar": [
           {
            "marker": {
             "colorbar": {
              "outlinewidth": 0,
              "ticks": ""
             }
            },
            "type": "scatterpolar"
           }
          ],
          "scatterpolargl": [
           {
            "marker": {
             "colorbar": {
              "outlinewidth": 0,
              "ticks": ""
             }
            },
            "type": "scatterpolargl"
           }
          ],
          "scatterternary": [
           {
            "marker": {
             "colorbar": {
              "outlinewidth": 0,
              "ticks": ""
             }
            },
            "type": "scatterternary"
           }
          ],
          "surface": [
           {
            "colorbar": {
             "outlinewidth": 0,
             "ticks": ""
            },
            "colorscale": [
             [
              0,
              "#0d0887"
             ],
             [
              0.1111111111111111,
              "#46039f"
             ],
             [
              0.2222222222222222,
              "#7201a8"
             ],
             [
              0.3333333333333333,
              "#9c179e"
             ],
             [
              0.4444444444444444,
              "#bd3786"
             ],
             [
              0.5555555555555556,
              "#d8576b"
             ],
             [
              0.6666666666666666,
              "#ed7953"
             ],
             [
              0.7777777777777778,
              "#fb9f3a"
             ],
             [
              0.8888888888888888,
              "#fdca26"
             ],
             [
              1,
              "#f0f921"
             ]
            ],
            "type": "surface"
           }
          ],
          "table": [
           {
            "cells": {
             "fill": {
              "color": "#EBF0F8"
             },
             "line": {
              "color": "white"
             }
            },
            "header": {
             "fill": {
              "color": "#C8D4E3"
             },
             "line": {
              "color": "white"
             }
            },
            "type": "table"
           }
          ]
         },
         "layout": {
          "annotationdefaults": {
           "arrowcolor": "#2a3f5f",
           "arrowhead": 0,
           "arrowwidth": 1
          },
          "autotypenumbers": "strict",
          "coloraxis": {
           "colorbar": {
            "outlinewidth": 0,
            "ticks": ""
           }
          },
          "colorscale": {
           "diverging": [
            [
             0,
             "#8e0152"
            ],
            [
             0.1,
             "#c51b7d"
            ],
            [
             0.2,
             "#de77ae"
            ],
            [
             0.3,
             "#f1b6da"
            ],
            [
             0.4,
             "#fde0ef"
            ],
            [
             0.5,
             "#f7f7f7"
            ],
            [
             0.6,
             "#e6f5d0"
            ],
            [
             0.7,
             "#b8e186"
            ],
            [
             0.8,
             "#7fbc41"
            ],
            [
             0.9,
             "#4d9221"
            ],
            [
             1,
             "#276419"
            ]
           ],
           "sequential": [
            [
             0,
             "#0d0887"
            ],
            [
             0.1111111111111111,
             "#46039f"
            ],
            [
             0.2222222222222222,
             "#7201a8"
            ],
            [
             0.3333333333333333,
             "#9c179e"
            ],
            [
             0.4444444444444444,
             "#bd3786"
            ],
            [
             0.5555555555555556,
             "#d8576b"
            ],
            [
             0.6666666666666666,
             "#ed7953"
            ],
            [
             0.7777777777777778,
             "#fb9f3a"
            ],
            [
             0.8888888888888888,
             "#fdca26"
            ],
            [
             1,
             "#f0f921"
            ]
           ],
           "sequentialminus": [
            [
             0,
             "#0d0887"
            ],
            [
             0.1111111111111111,
             "#46039f"
            ],
            [
             0.2222222222222222,
             "#7201a8"
            ],
            [
             0.3333333333333333,
             "#9c179e"
            ],
            [
             0.4444444444444444,
             "#bd3786"
            ],
            [
             0.5555555555555556,
             "#d8576b"
            ],
            [
             0.6666666666666666,
             "#ed7953"
            ],
            [
             0.7777777777777778,
             "#fb9f3a"
            ],
            [
             0.8888888888888888,
             "#fdca26"
            ],
            [
             1,
             "#f0f921"
            ]
           ]
          },
          "colorway": [
           "#636efa",
           "#EF553B",
           "#00cc96",
           "#ab63fa",
           "#FFA15A",
           "#19d3f3",
           "#FF6692",
           "#B6E880",
           "#FF97FF",
           "#FECB52"
          ],
          "font": {
           "color": "#2a3f5f"
          },
          "geo": {
           "bgcolor": "white",
           "lakecolor": "white",
           "landcolor": "white",
           "showlakes": true,
           "showland": true,
           "subunitcolor": "#C8D4E3"
          },
          "hoverlabel": {
           "align": "left"
          },
          "hovermode": "closest",
          "mapbox": {
           "style": "light"
          },
          "paper_bgcolor": "white",
          "plot_bgcolor": "white",
          "polar": {
           "angularaxis": {
            "gridcolor": "#EBF0F8",
            "linecolor": "#EBF0F8",
            "ticks": ""
           },
           "bgcolor": "white",
           "radialaxis": {
            "gridcolor": "#EBF0F8",
            "linecolor": "#EBF0F8",
            "ticks": ""
           }
          },
          "scene": {
           "xaxis": {
            "backgroundcolor": "white",
            "gridcolor": "#DFE8F3",
            "gridwidth": 2,
            "linecolor": "#EBF0F8",
            "showbackground": true,
            "ticks": "",
            "zerolinecolor": "#EBF0F8"
           },
           "yaxis": {
            "backgroundcolor": "white",
            "gridcolor": "#DFE8F3",
            "gridwidth": 2,
            "linecolor": "#EBF0F8",
            "showbackground": true,
            "ticks": "",
            "zerolinecolor": "#EBF0F8"
           },
           "zaxis": {
            "backgroundcolor": "white",
            "gridcolor": "#DFE8F3",
            "gridwidth": 2,
            "linecolor": "#EBF0F8",
            "showbackground": true,
            "ticks": "",
            "zerolinecolor": "#EBF0F8"
           }
          },
          "shapedefaults": {
           "line": {
            "color": "#2a3f5f"
           }
          },
          "ternary": {
           "aaxis": {
            "gridcolor": "#DFE8F3",
            "linecolor": "#A2B1C6",
            "ticks": ""
           },
           "baxis": {
            "gridcolor": "#DFE8F3",
            "linecolor": "#A2B1C6",
            "ticks": ""
           },
           "bgcolor": "white",
           "caxis": {
            "gridcolor": "#DFE8F3",
            "linecolor": "#A2B1C6",
            "ticks": ""
           }
          },
          "title": {
           "x": 0.05
          },
          "xaxis": {
           "automargin": true,
           "gridcolor": "#EBF0F8",
           "linecolor": "#EBF0F8",
           "ticks": "",
           "title": {
            "standoff": 15
           },
           "zerolinecolor": "#EBF0F8",
           "zerolinewidth": 2
          },
          "yaxis": {
           "automargin": true,
           "gridcolor": "#EBF0F8",
           "linecolor": "#EBF0F8",
           "ticks": "",
           "title": {
            "standoff": 15
           },
           "zerolinecolor": "#EBF0F8",
           "zerolinewidth": 2
          }
         }
        },
        "title": {
         "text": "target_trace_normalized_by_rank vs error colored by error"
        },
        "width": 800,
        "xaxis": {
         "anchor": "y",
         "domain": [
          0,
          1
         ],
         "gridcolor": "lightgray",
         "gridwidth": 1,
         "showgrid": true,
         "title": {
          "text": "target_trace_normalized_by_rank"
         }
        },
        "yaxis": {
         "anchor": "x",
         "domain": [
          0,
          1
         ],
         "gridcolor": "lightgray",
         "gridwidth": 1,
         "showgrid": true,
         "title": {
          "text": "error"
         }
        }
       }
      }
     },
     "metadata": {},
     "output_type": "display_data"
    }
   ],
   "source": [
    "def plot_metric_vs_error_plotly(\n",
    "    df,\n",
    "    qfim_type,\n",
    "    x_metric,\n",
    "    error_col=\"error\",\n",
    "    title=None,\n",
    "    add_trendline=False,\n",
    "    n_colors=100,\n",
    "    width=800,\n",
    "    height=600\n",
    "):\n",
    "    \"\"\"\n",
    "    Plot a scatter of one QFIM metric vs. error, with the points colored by the same error.\n",
    "    This is useful to visualize how error changes with the metric, and the color scale \n",
    "    helps distinguish overlapping points.\n",
    "\n",
    "    Parameters\n",
    "    ----------\n",
    "    df : pd.DataFrame\n",
    "        DataFrame with columns for the QFIM metrics and an error column.\n",
    "    qfim_type : str\n",
    "        The QFIM type (e.g. \"GHZ\", \"basis\", \"dqfim\", \"target\").\n",
    "        If None, x_metric is assumed to be a direct column name in df.\n",
    "    x_metric : str\n",
    "        The base name of the metric for the x-axis (without prefix if qfim_type is None).\n",
    "    error_col : str, default \"error\"\n",
    "        The column name for the error values (y-axis and color).\n",
    "    title : str, optional\n",
    "        Plot title. If None, a default is generated.\n",
    "    add_trendline : bool, optional\n",
    "        If True, add an OLS trendline across all points.\n",
    "    n_colors : int, optional\n",
    "        Number of color steps in the custom colormap.\n",
    "    width, height : int\n",
    "        Plot width and height in pixels.\n",
    "\n",
    "    Returns\n",
    "    -------\n",
    "    fig : plotly.graph_objects.Figure\n",
    "        A scatter plot with a bounding box, black marker borders, \n",
    "        and a color bar for the error values.\n",
    "    \"\"\"\n",
    "    import plotly.express as px\n",
    "    import numpy as np\n",
    "    import seaborn as sns\n",
    "    import matplotlib.colors as mcolors\n",
    "    from matplotlib.colors import LinearSegmentedColormap\n",
    "\n",
    "    # 1) Construct x_col\n",
    "    if qfim_type is not None:\n",
    "        x_col = f\"{qfim_type}_{x_metric}\"\n",
    "    else:\n",
    "        x_col = x_metric\n",
    "\n",
    "    # Check columns\n",
    "    for col in [x_col, error_col]:\n",
    "        if col not in df.columns:\n",
    "            raise ValueError(f\"Column '{col}' not found in the DataFrame.\")\n",
    "\n",
    "    # 2) Build a custom color scale from the error range\n",
    "    data_min = df[error_col].min()\n",
    "    data_max = df[error_col].max()\n",
    "    if np.isclose(data_min, data_max):\n",
    "        data_max = data_min + 1e-12\n",
    "\n",
    "    values = np.linspace(data_min, data_max, n_colors) ** 4\n",
    "    base_colormap = plt.cm.viridis\n",
    "    # base_colormap = sns.color_palette(\"Spectral\", as_cmap=True).reversed()\n",
    "    # base_colormap = sns.color_palette(\"YlGn\", as_cmap=True).reversed()\n",
    "    colors_rgba = base_colormap((values - values.min()) / (values.max() - values.min()))\n",
    "    # 'YlGn'\n",
    "    custom_cmap = LinearSegmentedColormap.from_list('vibrant', colors_rgba, N=n_colors)\n",
    "    plotly_color_scale = [mcolors.to_hex(custom_cmap(i)) for i in np.linspace(0, 1, n_colors)]\n",
    "\n",
    "    # 3) Trend line options\n",
    "    trendline_option = \"ols\" if add_trendline else None\n",
    "\n",
    "    # 4) Create the scatter plot\n",
    "    fig = px.scatter(\n",
    "        df,\n",
    "        x=x_col,\n",
    "        y=error_col,\n",
    "        color=error_col,\n",
    "        color_continuous_scale=plotly_color_scale,\n",
    "        title=title if title else f\"{x_col} vs {error_col} colored by {error_col}\",\n",
    "        hover_data=[\"test_key\"],\n",
    "        template=\"plotly_white\",\n",
    "        trendline=trendline_option,\n",
    "        trendline_scope=\"overall\",\n",
    "        trendline_color_override=\"red\",\n",
    "        width=width,\n",
    "        height=height\n",
    "    )\n",
    "\n",
    "    # 5) Marker styling\n",
    "    fig.update_traces(\n",
    "        marker=dict(\n",
    "            size=12,\n",
    "            line=dict(width=1, color=\"black\"),\n",
    "            symbol=\"circle\"\n",
    "        )\n",
    "    )\n",
    "\n",
    "    # 6) Adjust color bar and bounding box\n",
    "    fig.update_layout(\n",
    "        coloraxis_colorbar=dict(\n",
    "            title=error_col,\n",
    "            len=0.9,\n",
    "            thickness=30,\n",
    "            y=0.5,\n",
    "            yanchor=\"middle\",\n",
    "            x=1.03\n",
    "        ),\n",
    "        shapes=[\n",
    "            dict(\n",
    "                type=\"rect\",\n",
    "                xref=\"paper\", yref=\"paper\",\n",
    "                x0=0, y0=0, x1=1, y1=1,\n",
    "                line=dict(color=\"black\", width=2),\n",
    "                layer=\"below\"\n",
    "            )\n",
    "        ]\n",
    "    )\n",
    "    fig.update_xaxes(\n",
    "    showgrid=True, \n",
    "    gridwidth=1, \n",
    "    gridcolor=\"lightgray\"   # or another color\n",
    ")\n",
    "    fig.update_yaxes(\n",
    "        showgrid=True, \n",
    "        gridwidth=1, \n",
    "        gridcolor=\"lightgray\"\n",
    "    )\n",
    "\n",
    "    return fig\n",
    "\n",
    "fig =plot_metric_vs_error_plotly(df_agg_by_test_key, qfim_type=None, x_metric=\"dqfim_abbas_deff_raw\")\n",
    "fig.show()\n",
    "fig =plot_metric_vs_error_plotly(df_agg_by_test_key, qfim_type=None, x_metric=\"target_trace_normalized_by_rank\")\n",
    "fig.show()"
   ]
  },
  {
   "cell_type": "code",
   "execution_count": 226,
   "metadata": {},
   "outputs": [
    {
     "data": {
      "application/vnd.plotly.v1+json": {
       "config": {
        "plotlyServerURL": "https://plot.ly"
       },
       "data": [
        {
         "customdata": [
          [
           "test0"
          ],
          [
           "test1"
          ],
          [
           "test104"
          ],
          [
           "test110"
          ],
          [
           "test12"
          ],
          [
           "test122"
          ],
          [
           "test124"
          ],
          [
           "test128"
          ],
          [
           "test129"
          ],
          [
           "test139"
          ],
          [
           "test146"
          ],
          [
           "test170"
          ],
          [
           "test175"
          ],
          [
           "test176"
          ],
          [
           "test18"
          ],
          [
           "test197"
          ],
          [
           "test200"
          ],
          [
           "test235"
          ],
          [
           "test252"
          ],
          [
           "test255"
          ],
          [
           "test261"
          ],
          [
           "test262"
          ],
          [
           "test270"
          ],
          [
           "test275"
          ],
          [
           "test276"
          ],
          [
           "test277"
          ],
          [
           "test288"
          ],
          [
           "test298"
          ],
          [
           "test300"
          ],
          [
           "test319"
          ],
          [
           "test322"
          ],
          [
           "test325"
          ],
          [
           "test352"
          ],
          [
           "test375"
          ],
          [
           "test398"
          ],
          [
           "test399"
          ],
          [
           "test6"
          ],
          [
           "test7"
          ],
          [
           "test79"
          ]
         ],
         "hovertemplate": "target_trace_normalized_by_rank=%{x}<br>error=%{marker.color}<br>test_key=%{customdata[0]}<extra></extra>",
         "legendgroup": "",
         "marker": {
          "color": [
           -6.3513168360166965,
           -6.0882619166268634,
           -6.254279730419226,
           -5.638411931768219,
           -5.562724317005218,
           -6.317745277287406,
           -5.95652694516754,
           -5.617542289634504,
           -6.18048625666267,
           -5.265287123457545,
           -6.803091084141557,
           -5.115830208445283,
           -5.948643224052612,
           -6.209368783029772,
           -6.73271254811384,
           -5.718101857484859,
           -5.594675335839199,
           -6.423558251568147,
           -6.462240091191188,
           -6.172430493264285,
           -5.802208536173566,
           -6.18548086947309,
           -5.973055818140238,
           -5.590638781236348,
           -5.921726043142438,
           -5.701270545505456,
           -5.821028647826737,
           -5.8518921550288265,
           -6.1861485298788965,
           -6.3642483394247815,
           -5.434494665854173,
           -6.057361923816664,
           -5.456891667304219,
           -5.637611996950335,
           -5.655573343531001,
           -5.414946806197656,
           -6.060403522499131,
           -6.287727930283097,
           -6.02464150422345
          ],
          "coloraxis": "coloraxis",
          "line": {
           "color": "black",
           "width": 1
          },
          "size": 12,
          "symbol": "circle"
         },
         "mode": "markers",
         "name": "",
         "orientation": "v",
         "showlegend": false,
         "type": "scatter",
         "x": [
          0.8501055076918326,
          0.6954407471402262,
          1.3161801354181564,
          0.8365443054953825,
          0.498251249352679,
          0.8372553628395932,
          1.0616854650904497,
          0.5091101770205222,
          0.39677383737056515,
          0.6578166558535303,
          0.5026568036150864,
          0.9425864490468647,
          0.6260744480621846,
          0.5981696145697718,
          0.3424941192431531,
          0.6962326192639254,
          0.5004947442547956,
          0.8421000802800769,
          0.7769729175457906,
          0.7921521435157419,
          0.6937213921670004,
          1.1677650911345459,
          1.1609493682877374,
          0.8043833283348552,
          0.6982914474166353,
          0.8886423834307025,
          0.5017810096420969,
          0.48277904097728125,
          0.4586722134035968,
          0.6246900068223962,
          1.2367918252485255,
          0.4251033307690887,
          0.7419599611994012,
          0.3228503966659385,
          0.563773296820277,
          0.7132378435571722,
          0.6751270380236094,
          0.5270345323940273,
          1.2098088287286617
         ],
         "xaxis": "x",
         "y": [
          -6.3513168360166965,
          -6.0882619166268634,
          -6.254279730419226,
          -5.638411931768219,
          -5.562724317005218,
          -6.317745277287406,
          -5.95652694516754,
          -5.617542289634504,
          -6.18048625666267,
          -5.265287123457545,
          -6.803091084141557,
          -5.115830208445283,
          -5.948643224052612,
          -6.209368783029772,
          -6.73271254811384,
          -5.718101857484859,
          -5.594675335839199,
          -6.423558251568147,
          -6.462240091191188,
          -6.172430493264285,
          -5.802208536173566,
          -6.18548086947309,
          -5.973055818140238,
          -5.590638781236348,
          -5.921726043142438,
          -5.701270545505456,
          -5.821028647826737,
          -5.8518921550288265,
          -6.1861485298788965,
          -6.3642483394247815,
          -5.434494665854173,
          -6.057361923816664,
          -5.456891667304219,
          -5.637611996950335,
          -5.655573343531001,
          -5.414946806197656,
          -6.060403522499131,
          -6.287727930283097,
          -6.02464150422345
         ],
         "yaxis": "y"
        }
       ],
       "layout": {
        "coloraxis": {
         "colorbar": {
          "len": 0.9,
          "thickness": 30,
          "title": {
           "text": "error"
          },
          "x": 1.03,
          "y": 0.5,
          "yanchor": "middle"
         },
         "colorscale": [
          [
           0,
           "#fde725"
          ],
          [
           0.010101010101010102,
           "#f6e620"
          ],
          [
           0.020202020202020204,
           "#ece51b"
          ],
          [
           0.030303030303030304,
           "#e2e418"
          ],
          [
           0.04040404040404041,
           "#dae319"
          ],
          [
           0.050505050505050504,
           "#d0e11c"
          ],
          [
           0.06060606060606061,
           "#c5e021"
          ],
          [
           0.0707070707070707,
           "#bddf26"
          ],
          [
           0.08080808080808081,
           "#b2dd2d"
          ],
          [
           0.09090909090909091,
           "#aadc32"
          ],
          [
           0.10101010101010101,
           "#a0da39"
          ],
          [
           0.1111111111111111,
           "#98d83e"
          ],
          [
           0.12121212121212122,
           "#8ed645"
          ],
          [
           0.13131313131313133,
           "#86d549"
          ],
          [
           0.1414141414141414,
           "#7cd250"
          ],
          [
           0.15151515151515152,
           "#75d054"
          ],
          [
           0.16161616161616163,
           "#6ece58"
          ],
          [
           0.1717171717171717,
           "#65cb5e"
          ],
          [
           0.18181818181818182,
           "#5ec962"
          ],
          [
           0.1919191919191919,
           "#58c765"
          ],
          [
           0.20202020202020202,
           "#52c569"
          ],
          [
           0.21212121212121213,
           "#4ac16d"
          ],
          [
           0.2222222222222222,
           "#44bf70"
          ],
          [
           0.23232323232323232,
           "#3fbc73"
          ],
          [
           0.24242424242424243,
           "#3aba76"
          ],
          [
           0.25252525252525254,
           "#35b779"
          ],
          [
           0.26262626262626265,
           "#31b57b"
          ],
          [
           0.2727272727272727,
           "#2db27d"
          ],
          [
           0.2828282828282828,
           "#29af7f"
          ],
          [
           0.29292929292929293,
           "#25ac82"
          ],
          [
           0.30303030303030304,
           "#23a983"
          ],
          [
           0.31313131313131315,
           "#22a785"
          ],
          [
           0.32323232323232326,
           "#20a486"
          ],
          [
           0.3333333333333333,
           "#1fa187"
          ],
          [
           0.3434343434343434,
           "#1f9f88"
          ],
          [
           0.35353535353535354,
           "#1e9c89"
          ],
          [
           0.36363636363636365,
           "#1f998a"
          ],
          [
           0.37373737373737376,
           "#1f968b"
          ],
          [
           0.3838383838383838,
           "#20938c"
          ],
          [
           0.3939393939393939,
           "#20928c"
          ],
          [
           0.40404040404040403,
           "#218f8d"
          ],
          [
           0.41414141414141414,
           "#228c8d"
          ],
          [
           0.42424242424242425,
           "#23898e"
          ],
          [
           0.43434343434343436,
           "#24878e"
          ],
          [
           0.4444444444444444,
           "#25848e"
          ],
          [
           0.45454545454545453,
           "#26828e"
          ],
          [
           0.46464646464646464,
           "#27808e"
          ],
          [
           0.47474747474747475,
           "#287d8e"
          ],
          [
           0.48484848484848486,
           "#297b8e"
          ],
          [
           0.494949494949495,
           "#2a788e"
          ],
          [
           0.5050505050505051,
           "#2a768e"
          ],
          [
           0.5151515151515151,
           "#2c738e"
          ],
          [
           0.5252525252525253,
           "#2d718e"
          ],
          [
           0.5353535353535354,
           "#2e6f8e"
          ],
          [
           0.5454545454545454,
           "#2e6d8e"
          ],
          [
           0.5555555555555556,
           "#306a8e"
          ],
          [
           0.5656565656565656,
           "#31688e"
          ],
          [
           0.5757575757575758,
           "#32658e"
          ],
          [
           0.5858585858585859,
           "#33638d"
          ],
          [
           0.5959595959595959,
           "#34618d"
          ],
          [
           0.6060606060606061,
           "#355e8d"
          ],
          [
           0.6161616161616161,
           "#365c8d"
          ],
          [
           0.6262626262626263,
           "#375a8c"
          ],
          [
           0.6363636363636364,
           "#39568c"
          ],
          [
           0.6464646464646465,
           "#3a548c"
          ],
          [
           0.6565656565656566,
           "#3b528b"
          ],
          [
           0.6666666666666666,
           "#3c508b"
          ],
          [
           0.6767676767676768,
           "#3d4e8a"
          ],
          [
           0.6868686868686869,
           "#3e4a89"
          ],
          [
           0.696969696969697,
           "#3f4889"
          ],
          [
           0.7070707070707071,
           "#404688"
          ],
          [
           0.7171717171717171,
           "#414487"
          ],
          [
           0.7272727272727273,
           "#424186"
          ],
          [
           0.7373737373737373,
           "#423f85"
          ],
          [
           0.7474747474747475,
           "#433d84"
          ],
          [
           0.7575757575757576,
           "#443a83"
          ],
          [
           0.7676767676767676,
           "#453882"
          ],
          [
           0.7777777777777778,
           "#453581"
          ],
          [
           0.7878787878787878,
           "#46337f"
          ],
          [
           0.797979797979798,
           "#46307e"
          ],
          [
           0.8080808080808081,
           "#472e7c"
          ],
          [
           0.8181818181818182,
           "#472c7a"
          ],
          [
           0.8282828282828283,
           "#482979"
          ],
          [
           0.8383838383838383,
           "#482677"
          ],
          [
           0.8484848484848485,
           "#482475"
          ],
          [
           0.8585858585858586,
           "#482374"
          ],
          [
           0.8686868686868687,
           "#482071"
          ],
          [
           0.8787878787878788,
           "#481d6f"
          ],
          [
           0.8888888888888888,
           "#481b6d"
          ],
          [
           0.898989898989899,
           "#48186a"
          ],
          [
           0.9090909090909091,
           "#481769"
          ],
          [
           0.9191919191919192,
           "#481467"
          ],
          [
           0.9292929292929293,
           "#471164"
          ],
          [
           0.9393939393939394,
           "#470e61"
          ],
          [
           0.9494949494949495,
           "#470d60"
          ],
          [
           0.9595959595959596,
           "#460a5d"
          ],
          [
           0.9696969696969697,
           "#46075a"
          ],
          [
           0.9797979797979798,
           "#450559"
          ],
          [
           0.98989898989899,
           "#440256"
          ],
          [
           1,
           "#440154"
          ]
         ]
        },
        "height": 600,
        "legend": {
         "tracegroupgap": 0
        },
        "shapes": [
         {
          "layer": "below",
          "line": {
           "color": "black",
           "width": 2
          },
          "type": "rect",
          "x0": 0,
          "x1": 1,
          "xref": "paper",
          "y0": 0,
          "y1": 1,
          "yref": "paper"
         }
        ],
        "template": {
         "data": {
          "bar": [
           {
            "error_x": {
             "color": "#2a3f5f"
            },
            "error_y": {
             "color": "#2a3f5f"
            },
            "marker": {
             "line": {
              "color": "white",
              "width": 0.5
             },
             "pattern": {
              "fillmode": "overlay",
              "size": 10,
              "solidity": 0.2
             }
            },
            "type": "bar"
           }
          ],
          "barpolar": [
           {
            "marker": {
             "line": {
              "color": "white",
              "width": 0.5
             },
             "pattern": {
              "fillmode": "overlay",
              "size": 10,
              "solidity": 0.2
             }
            },
            "type": "barpolar"
           }
          ],
          "carpet": [
           {
            "aaxis": {
             "endlinecolor": "#2a3f5f",
             "gridcolor": "#C8D4E3",
             "linecolor": "#C8D4E3",
             "minorgridcolor": "#C8D4E3",
             "startlinecolor": "#2a3f5f"
            },
            "baxis": {
             "endlinecolor": "#2a3f5f",
             "gridcolor": "#C8D4E3",
             "linecolor": "#C8D4E3",
             "minorgridcolor": "#C8D4E3",
             "startlinecolor": "#2a3f5f"
            },
            "type": "carpet"
           }
          ],
          "choropleth": [
           {
            "colorbar": {
             "outlinewidth": 0,
             "ticks": ""
            },
            "type": "choropleth"
           }
          ],
          "contour": [
           {
            "colorbar": {
             "outlinewidth": 0,
             "ticks": ""
            },
            "colorscale": [
             [
              0,
              "#0d0887"
             ],
             [
              0.1111111111111111,
              "#46039f"
             ],
             [
              0.2222222222222222,
              "#7201a8"
             ],
             [
              0.3333333333333333,
              "#9c179e"
             ],
             [
              0.4444444444444444,
              "#bd3786"
             ],
             [
              0.5555555555555556,
              "#d8576b"
             ],
             [
              0.6666666666666666,
              "#ed7953"
             ],
             [
              0.7777777777777778,
              "#fb9f3a"
             ],
             [
              0.8888888888888888,
              "#fdca26"
             ],
             [
              1,
              "#f0f921"
             ]
            ],
            "type": "contour"
           }
          ],
          "contourcarpet": [
           {
            "colorbar": {
             "outlinewidth": 0,
             "ticks": ""
            },
            "type": "contourcarpet"
           }
          ],
          "heatmap": [
           {
            "colorbar": {
             "outlinewidth": 0,
             "ticks": ""
            },
            "colorscale": [
             [
              0,
              "#0d0887"
             ],
             [
              0.1111111111111111,
              "#46039f"
             ],
             [
              0.2222222222222222,
              "#7201a8"
             ],
             [
              0.3333333333333333,
              "#9c179e"
             ],
             [
              0.4444444444444444,
              "#bd3786"
             ],
             [
              0.5555555555555556,
              "#d8576b"
             ],
             [
              0.6666666666666666,
              "#ed7953"
             ],
             [
              0.7777777777777778,
              "#fb9f3a"
             ],
             [
              0.8888888888888888,
              "#fdca26"
             ],
             [
              1,
              "#f0f921"
             ]
            ],
            "type": "heatmap"
           }
          ],
          "heatmapgl": [
           {
            "colorbar": {
             "outlinewidth": 0,
             "ticks": ""
            },
            "colorscale": [
             [
              0,
              "#0d0887"
             ],
             [
              0.1111111111111111,
              "#46039f"
             ],
             [
              0.2222222222222222,
              "#7201a8"
             ],
             [
              0.3333333333333333,
              "#9c179e"
             ],
             [
              0.4444444444444444,
              "#bd3786"
             ],
             [
              0.5555555555555556,
              "#d8576b"
             ],
             [
              0.6666666666666666,
              "#ed7953"
             ],
             [
              0.7777777777777778,
              "#fb9f3a"
             ],
             [
              0.8888888888888888,
              "#fdca26"
             ],
             [
              1,
              "#f0f921"
             ]
            ],
            "type": "heatmapgl"
           }
          ],
          "histogram": [
           {
            "marker": {
             "pattern": {
              "fillmode": "overlay",
              "size": 10,
              "solidity": 0.2
             }
            },
            "type": "histogram"
           }
          ],
          "histogram2d": [
           {
            "colorbar": {
             "outlinewidth": 0,
             "ticks": ""
            },
            "colorscale": [
             [
              0,
              "#0d0887"
             ],
             [
              0.1111111111111111,
              "#46039f"
             ],
             [
              0.2222222222222222,
              "#7201a8"
             ],
             [
              0.3333333333333333,
              "#9c179e"
             ],
             [
              0.4444444444444444,
              "#bd3786"
             ],
             [
              0.5555555555555556,
              "#d8576b"
             ],
             [
              0.6666666666666666,
              "#ed7953"
             ],
             [
              0.7777777777777778,
              "#fb9f3a"
             ],
             [
              0.8888888888888888,
              "#fdca26"
             ],
             [
              1,
              "#f0f921"
             ]
            ],
            "type": "histogram2d"
           }
          ],
          "histogram2dcontour": [
           {
            "colorbar": {
             "outlinewidth": 0,
             "ticks": ""
            },
            "colorscale": [
             [
              0,
              "#0d0887"
             ],
             [
              0.1111111111111111,
              "#46039f"
             ],
             [
              0.2222222222222222,
              "#7201a8"
             ],
             [
              0.3333333333333333,
              "#9c179e"
             ],
             [
              0.4444444444444444,
              "#bd3786"
             ],
             [
              0.5555555555555556,
              "#d8576b"
             ],
             [
              0.6666666666666666,
              "#ed7953"
             ],
             [
              0.7777777777777778,
              "#fb9f3a"
             ],
             [
              0.8888888888888888,
              "#fdca26"
             ],
             [
              1,
              "#f0f921"
             ]
            ],
            "type": "histogram2dcontour"
           }
          ],
          "mesh3d": [
           {
            "colorbar": {
             "outlinewidth": 0,
             "ticks": ""
            },
            "type": "mesh3d"
           }
          ],
          "parcoords": [
           {
            "line": {
             "colorbar": {
              "outlinewidth": 0,
              "ticks": ""
             }
            },
            "type": "parcoords"
           }
          ],
          "pie": [
           {
            "automargin": true,
            "type": "pie"
           }
          ],
          "scatter": [
           {
            "fillpattern": {
             "fillmode": "overlay",
             "size": 10,
             "solidity": 0.2
            },
            "type": "scatter"
           }
          ],
          "scatter3d": [
           {
            "line": {
             "colorbar": {
              "outlinewidth": 0,
              "ticks": ""
             }
            },
            "marker": {
             "colorbar": {
              "outlinewidth": 0,
              "ticks": ""
             }
            },
            "type": "scatter3d"
           }
          ],
          "scattercarpet": [
           {
            "marker": {
             "colorbar": {
              "outlinewidth": 0,
              "ticks": ""
             }
            },
            "type": "scattercarpet"
           }
          ],
          "scattergeo": [
           {
            "marker": {
             "colorbar": {
              "outlinewidth": 0,
              "ticks": ""
             }
            },
            "type": "scattergeo"
           }
          ],
          "scattergl": [
           {
            "marker": {
             "colorbar": {
              "outlinewidth": 0,
              "ticks": ""
             }
            },
            "type": "scattergl"
           }
          ],
          "scattermapbox": [
           {
            "marker": {
             "colorbar": {
              "outlinewidth": 0,
              "ticks": ""
             }
            },
            "type": "scattermapbox"
           }
          ],
          "scatterpolar": [
           {
            "marker": {
             "colorbar": {
              "outlinewidth": 0,
              "ticks": ""
             }
            },
            "type": "scatterpolar"
           }
          ],
          "scatterpolargl": [
           {
            "marker": {
             "colorbar": {
              "outlinewidth": 0,
              "ticks": ""
             }
            },
            "type": "scatterpolargl"
           }
          ],
          "scatterternary": [
           {
            "marker": {
             "colorbar": {
              "outlinewidth": 0,
              "ticks": ""
             }
            },
            "type": "scatterternary"
           }
          ],
          "surface": [
           {
            "colorbar": {
             "outlinewidth": 0,
             "ticks": ""
            },
            "colorscale": [
             [
              0,
              "#0d0887"
             ],
             [
              0.1111111111111111,
              "#46039f"
             ],
             [
              0.2222222222222222,
              "#7201a8"
             ],
             [
              0.3333333333333333,
              "#9c179e"
             ],
             [
              0.4444444444444444,
              "#bd3786"
             ],
             [
              0.5555555555555556,
              "#d8576b"
             ],
             [
              0.6666666666666666,
              "#ed7953"
             ],
             [
              0.7777777777777778,
              "#fb9f3a"
             ],
             [
              0.8888888888888888,
              "#fdca26"
             ],
             [
              1,
              "#f0f921"
             ]
            ],
            "type": "surface"
           }
          ],
          "table": [
           {
            "cells": {
             "fill": {
              "color": "#EBF0F8"
             },
             "line": {
              "color": "white"
             }
            },
            "header": {
             "fill": {
              "color": "#C8D4E3"
             },
             "line": {
              "color": "white"
             }
            },
            "type": "table"
           }
          ]
         },
         "layout": {
          "annotationdefaults": {
           "arrowcolor": "#2a3f5f",
           "arrowhead": 0,
           "arrowwidth": 1
          },
          "autotypenumbers": "strict",
          "coloraxis": {
           "colorbar": {
            "outlinewidth": 0,
            "ticks": ""
           }
          },
          "colorscale": {
           "diverging": [
            [
             0,
             "#8e0152"
            ],
            [
             0.1,
             "#c51b7d"
            ],
            [
             0.2,
             "#de77ae"
            ],
            [
             0.3,
             "#f1b6da"
            ],
            [
             0.4,
             "#fde0ef"
            ],
            [
             0.5,
             "#f7f7f7"
            ],
            [
             0.6,
             "#e6f5d0"
            ],
            [
             0.7,
             "#b8e186"
            ],
            [
             0.8,
             "#7fbc41"
            ],
            [
             0.9,
             "#4d9221"
            ],
            [
             1,
             "#276419"
            ]
           ],
           "sequential": [
            [
             0,
             "#0d0887"
            ],
            [
             0.1111111111111111,
             "#46039f"
            ],
            [
             0.2222222222222222,
             "#7201a8"
            ],
            [
             0.3333333333333333,
             "#9c179e"
            ],
            [
             0.4444444444444444,
             "#bd3786"
            ],
            [
             0.5555555555555556,
             "#d8576b"
            ],
            [
             0.6666666666666666,
             "#ed7953"
            ],
            [
             0.7777777777777778,
             "#fb9f3a"
            ],
            [
             0.8888888888888888,
             "#fdca26"
            ],
            [
             1,
             "#f0f921"
            ]
           ],
           "sequentialminus": [
            [
             0,
             "#0d0887"
            ],
            [
             0.1111111111111111,
             "#46039f"
            ],
            [
             0.2222222222222222,
             "#7201a8"
            ],
            [
             0.3333333333333333,
             "#9c179e"
            ],
            [
             0.4444444444444444,
             "#bd3786"
            ],
            [
             0.5555555555555556,
             "#d8576b"
            ],
            [
             0.6666666666666666,
             "#ed7953"
            ],
            [
             0.7777777777777778,
             "#fb9f3a"
            ],
            [
             0.8888888888888888,
             "#fdca26"
            ],
            [
             1,
             "#f0f921"
            ]
           ]
          },
          "colorway": [
           "#636efa",
           "#EF553B",
           "#00cc96",
           "#ab63fa",
           "#FFA15A",
           "#19d3f3",
           "#FF6692",
           "#B6E880",
           "#FF97FF",
           "#FECB52"
          ],
          "font": {
           "color": "#2a3f5f"
          },
          "geo": {
           "bgcolor": "white",
           "lakecolor": "white",
           "landcolor": "white",
           "showlakes": true,
           "showland": true,
           "subunitcolor": "#C8D4E3"
          },
          "hoverlabel": {
           "align": "left"
          },
          "hovermode": "closest",
          "mapbox": {
           "style": "light"
          },
          "paper_bgcolor": "white",
          "plot_bgcolor": "white",
          "polar": {
           "angularaxis": {
            "gridcolor": "#EBF0F8",
            "linecolor": "#EBF0F8",
            "ticks": ""
           },
           "bgcolor": "white",
           "radialaxis": {
            "gridcolor": "#EBF0F8",
            "linecolor": "#EBF0F8",
            "ticks": ""
           }
          },
          "scene": {
           "xaxis": {
            "backgroundcolor": "white",
            "gridcolor": "#DFE8F3",
            "gridwidth": 2,
            "linecolor": "#EBF0F8",
            "showbackground": true,
            "ticks": "",
            "zerolinecolor": "#EBF0F8"
           },
           "yaxis": {
            "backgroundcolor": "white",
            "gridcolor": "#DFE8F3",
            "gridwidth": 2,
            "linecolor": "#EBF0F8",
            "showbackground": true,
            "ticks": "",
            "zerolinecolor": "#EBF0F8"
           },
           "zaxis": {
            "backgroundcolor": "white",
            "gridcolor": "#DFE8F3",
            "gridwidth": 2,
            "linecolor": "#EBF0F8",
            "showbackground": true,
            "ticks": "",
            "zerolinecolor": "#EBF0F8"
           }
          },
          "shapedefaults": {
           "line": {
            "color": "#2a3f5f"
           }
          },
          "ternary": {
           "aaxis": {
            "gridcolor": "#DFE8F3",
            "linecolor": "#A2B1C6",
            "ticks": ""
           },
           "baxis": {
            "gridcolor": "#DFE8F3",
            "linecolor": "#A2B1C6",
            "ticks": ""
           },
           "bgcolor": "white",
           "caxis": {
            "gridcolor": "#DFE8F3",
            "linecolor": "#A2B1C6",
            "ticks": ""
           }
          },
          "title": {
           "x": 0.05
          },
          "xaxis": {
           "automargin": true,
           "gridcolor": "#EBF0F8",
           "linecolor": "#EBF0F8",
           "ticks": "",
           "title": {
            "standoff": 15
           },
           "zerolinecolor": "#EBF0F8",
           "zerolinewidth": 2
          },
          "yaxis": {
           "automargin": true,
           "gridcolor": "#EBF0F8",
           "linecolor": "#EBF0F8",
           "ticks": "",
           "title": {
            "standoff": 15
           },
           "zerolinecolor": "#EBF0F8",
           "zerolinewidth": 2
          }
         }
        },
        "title": {
         "text": "target_trace_normalized_by_rank vs error colored by error"
        },
        "width": 800,
        "xaxis": {
         "anchor": "y",
         "domain": [
          0,
          1
         ],
         "gridcolor": "lightgray",
         "gridwidth": 1,
         "showgrid": true,
         "title": {
          "text": "target_trace_normalized_by_rank"
         }
        },
        "yaxis": {
         "anchor": "x",
         "domain": [
          0,
          1
         ],
         "gridcolor": "lightgray",
         "gridwidth": 1,
         "showgrid": true,
         "title": {
          "text": "error"
         }
        }
       }
      }
     },
     "metadata": {},
     "output_type": "display_data"
    }
   ],
   "source": [
    "fig =plot_metric_vs_error_plotly(df_agg_by_test_key, qfim_type=None, x_metric=\"target_trace_normalized_by_rank\", error_col=\"error\")\n",
    "fig.show()"
   ]
  },
  {
   "cell_type": "code",
   "execution_count": 262,
   "metadata": {},
   "outputs": [
    {
     "name": "stdout",
     "output_type": "stream",
     "text": [
      "Color column 'dqfim_d_eff' minimum value: 2.1280667451713593\n",
      "Rows corresponding to minimum value:\n",
      "     target_d_eff     error  dqfim_d_eff test_key\n",
      "93       1.510584 -7.123186     2.128067  test124\n",
      "94       1.699512 -5.444334     2.128067  test124\n",
      "95       1.673567 -5.421090     2.128067  test124\n",
      "96       1.649619 -7.261039     2.128067  test124\n",
      "97       1.553524 -5.462500     2.128067  test124\n",
      "98       1.669913 -5.396832     2.128067  test124\n",
      "99       1.532992 -6.223964     2.128067  test124\n",
      "100      1.593951 -5.602276     2.128067  test124\n",
      "101      1.654418 -5.493888     2.128067  test124\n",
      "102      1.513038 -6.944676     2.128067  test124\n",
      "103      1.647050 -5.571248     2.128067  test124\n",
      "104      1.865822 -7.437674     2.128067  test124\n",
      "105      1.590735 -5.818318     2.128067  test124\n",
      "106      1.661534 -6.091948     2.128067  test124\n",
      "107      1.576313 -4.799508     2.128067  test124\n",
      "108      1.537418 -6.985054     2.128067  test124\n",
      "109      1.527352 -4.248631     2.128067  test124\n",
      "110      1.475514 -5.726187     2.128067  test124\n",
      "111      1.564415 -6.082126     2.128067  test124\n",
      "112      1.639323 -5.996061     2.128067  test124\n",
      "Color column 'dqfim_d_eff' maximum value: 3.634714022449952\n",
      "Rows corresponding to maximum value:\n",
      "     target_d_eff      error  dqfim_d_eff test_key\n",
      "228      2.517038  -6.972444     3.634714   test18\n",
      "229      2.561259  -5.491207     3.634714   test18\n",
      "230      2.500037  -5.499412     3.634714   test18\n",
      "231      2.559722 -10.251683     3.634714   test18\n",
      "232      2.414692  -7.365097     3.634714   test18\n",
      "233      2.457153  -7.647981     3.634714   test18\n",
      "234      2.499574  -9.473133     3.634714   test18\n",
      "235      2.529470  -4.619348     3.634714   test18\n",
      "236      2.623267  -7.709730     3.634714   test18\n",
      "237      2.464935  -4.666709     3.634714   test18\n",
      "238      2.425757  -6.837377     3.634714   test18\n",
      "239      2.463892  -6.524025     3.634714   test18\n",
      "240      2.584691  -6.778096     3.634714   test18\n",
      "241      2.699628  -6.186342     3.634714   test18\n",
      "242      2.471373  -6.974401     3.634714   test18\n",
      "243      2.578947  -5.538025     3.634714   test18\n",
      "244      2.477049  -7.103552     3.634714   test18\n",
      "245      2.497637  -6.482276     3.634714   test18\n",
      "246      2.546797  -6.448487     3.634714   test18\n",
      "247      2.434968  -6.084926     3.634714   test18\n",
      "\n",
      "adj_min: 2.1280667451713593\n"
     ]
    },
    {
     "data": {
      "application/vnd.plotly.v1+json": {
       "config": {
        "plotlyServerURL": "https://plot.ly"
       },
       "data": [
        {
         "customdata": [
          [
           "test0"
          ],
          [
           "test0"
          ],
          [
           "test0"
          ],
          [
           "test0"
          ],
          [
           "test0"
          ],
          [
           "test0"
          ],
          [
           "test0"
          ],
          [
           "test0"
          ],
          [
           "test0"
          ],
          [
           "test0"
          ],
          [
           "test0"
          ],
          [
           "test0"
          ],
          [
           "test0"
          ],
          [
           "test1"
          ],
          [
           "test1"
          ],
          [
           "test1"
          ],
          [
           "test1"
          ],
          [
           "test1"
          ],
          [
           "test1"
          ],
          [
           "test1"
          ],
          [
           "test1"
          ],
          [
           "test1"
          ],
          [
           "test1"
          ],
          [
           "test1"
          ],
          [
           "test1"
          ],
          [
           "test1"
          ],
          [
           "test104"
          ],
          [
           "test104"
          ],
          [
           "test104"
          ],
          [
           "test104"
          ],
          [
           "test104"
          ],
          [
           "test104"
          ],
          [
           "test104"
          ],
          [
           "test104"
          ],
          [
           "test104"
          ],
          [
           "test104"
          ],
          [
           "test104"
          ],
          [
           "test104"
          ],
          [
           "test104"
          ],
          [
           "test104"
          ],
          [
           "test104"
          ],
          [
           "test104"
          ],
          [
           "test104"
          ],
          [
           "test104"
          ],
          [
           "test104"
          ],
          [
           "test104"
          ],
          [
           "test110"
          ],
          [
           "test110"
          ],
          [
           "test110"
          ],
          [
           "test110"
          ],
          [
           "test110"
          ],
          [
           "test110"
          ],
          [
           "test110"
          ],
          [
           "test110"
          ],
          [
           "test110"
          ],
          [
           "test110"
          ],
          [
           "test110"
          ],
          [
           "test110"
          ],
          [
           "test110"
          ],
          [
           "test110"
          ],
          [
           "test12"
          ],
          [
           "test12"
          ],
          [
           "test12"
          ],
          [
           "test12"
          ],
          [
           "test12"
          ],
          [
           "test12"
          ],
          [
           "test12"
          ],
          [
           "test12"
          ],
          [
           "test12"
          ],
          [
           "test12"
          ],
          [
           "test12"
          ],
          [
           "test12"
          ],
          [
           "test12"
          ],
          [
           "test122"
          ],
          [
           "test122"
          ],
          [
           "test122"
          ],
          [
           "test122"
          ],
          [
           "test122"
          ],
          [
           "test122"
          ],
          [
           "test122"
          ],
          [
           "test122"
          ],
          [
           "test122"
          ],
          [
           "test122"
          ],
          [
           "test122"
          ],
          [
           "test122"
          ],
          [
           "test122"
          ],
          [
           "test122"
          ],
          [
           "test122"
          ],
          [
           "test122"
          ],
          [
           "test122"
          ],
          [
           "test122"
          ],
          [
           "test122"
          ],
          [
           "test122"
          ],
          [
           "test124"
          ],
          [
           "test124"
          ],
          [
           "test124"
          ],
          [
           "test124"
          ],
          [
           "test124"
          ],
          [
           "test124"
          ],
          [
           "test124"
          ],
          [
           "test124"
          ],
          [
           "test124"
          ],
          [
           "test124"
          ],
          [
           "test124"
          ],
          [
           "test124"
          ],
          [
           "test124"
          ],
          [
           "test124"
          ],
          [
           "test124"
          ],
          [
           "test124"
          ],
          [
           "test124"
          ],
          [
           "test124"
          ],
          [
           "test124"
          ],
          [
           "test124"
          ],
          [
           "test128"
          ],
          [
           "test128"
          ],
          [
           "test128"
          ],
          [
           "test128"
          ],
          [
           "test128"
          ],
          [
           "test128"
          ],
          [
           "test128"
          ],
          [
           "test128"
          ],
          [
           "test128"
          ],
          [
           "test128"
          ],
          [
           "test128"
          ],
          [
           "test128"
          ],
          [
           "test128"
          ],
          [
           "test128"
          ],
          [
           "test129"
          ],
          [
           "test129"
          ],
          [
           "test129"
          ],
          [
           "test129"
          ],
          [
           "test129"
          ],
          [
           "test129"
          ],
          [
           "test129"
          ],
          [
           "test129"
          ],
          [
           "test129"
          ],
          [
           "test129"
          ],
          [
           "test129"
          ],
          [
           "test129"
          ],
          [
           "test129"
          ],
          [
           "test129"
          ],
          [
           "test129"
          ],
          [
           "test129"
          ],
          [
           "test129"
          ],
          [
           "test129"
          ],
          [
           "test129"
          ],
          [
           "test129"
          ],
          [
           "test139"
          ],
          [
           "test139"
          ],
          [
           "test139"
          ],
          [
           "test139"
          ],
          [
           "test139"
          ],
          [
           "test139"
          ],
          [
           "test139"
          ],
          [
           "test139"
          ],
          [
           "test139"
          ],
          [
           "test139"
          ],
          [
           "test139"
          ],
          [
           "test139"
          ],
          [
           "test139"
          ],
          [
           "test139"
          ],
          [
           "test139"
          ],
          [
           "test139"
          ],
          [
           "test139"
          ],
          [
           "test139"
          ],
          [
           "test139"
          ],
          [
           "test139"
          ],
          [
           "test146"
          ],
          [
           "test146"
          ],
          [
           "test146"
          ],
          [
           "test146"
          ],
          [
           "test146"
          ],
          [
           "test146"
          ],
          [
           "test146"
          ],
          [
           "test146"
          ],
          [
           "test146"
          ],
          [
           "test146"
          ],
          [
           "test146"
          ],
          [
           "test146"
          ],
          [
           "test146"
          ],
          [
           "test146"
          ],
          [
           "test170"
          ],
          [
           "test170"
          ],
          [
           "test170"
          ],
          [
           "test170"
          ],
          [
           "test170"
          ],
          [
           "test170"
          ],
          [
           "test170"
          ],
          [
           "test170"
          ],
          [
           "test170"
          ],
          [
           "test170"
          ],
          [
           "test170"
          ],
          [
           "test170"
          ],
          [
           "test170"
          ],
          [
           "test175"
          ],
          [
           "test175"
          ],
          [
           "test175"
          ],
          [
           "test175"
          ],
          [
           "test175"
          ],
          [
           "test175"
          ],
          [
           "test175"
          ],
          [
           "test175"
          ],
          [
           "test175"
          ],
          [
           "test175"
          ],
          [
           "test175"
          ],
          [
           "test175"
          ],
          [
           "test175"
          ],
          [
           "test175"
          ],
          [
           "test175"
          ],
          [
           "test175"
          ],
          [
           "test175"
          ],
          [
           "test175"
          ],
          [
           "test175"
          ],
          [
           "test175"
          ],
          [
           "test176"
          ],
          [
           "test176"
          ],
          [
           "test176"
          ],
          [
           "test176"
          ],
          [
           "test176"
          ],
          [
           "test176"
          ],
          [
           "test176"
          ],
          [
           "test176"
          ],
          [
           "test176"
          ],
          [
           "test176"
          ],
          [
           "test176"
          ],
          [
           "test176"
          ],
          [
           "test176"
          ],
          [
           "test176"
          ],
          [
           "test18"
          ],
          [
           "test18"
          ],
          [
           "test18"
          ],
          [
           "test18"
          ],
          [
           "test18"
          ],
          [
           "test18"
          ],
          [
           "test18"
          ],
          [
           "test18"
          ],
          [
           "test18"
          ],
          [
           "test18"
          ],
          [
           "test18"
          ],
          [
           "test18"
          ],
          [
           "test18"
          ],
          [
           "test18"
          ],
          [
           "test18"
          ],
          [
           "test18"
          ],
          [
           "test18"
          ],
          [
           "test18"
          ],
          [
           "test18"
          ],
          [
           "test18"
          ],
          [
           "test197"
          ],
          [
           "test197"
          ],
          [
           "test197"
          ],
          [
           "test197"
          ],
          [
           "test197"
          ],
          [
           "test197"
          ],
          [
           "test197"
          ],
          [
           "test197"
          ],
          [
           "test197"
          ],
          [
           "test197"
          ],
          [
           "test197"
          ],
          [
           "test197"
          ],
          [
           "test197"
          ],
          [
           "test197"
          ],
          [
           "test197"
          ],
          [
           "test197"
          ],
          [
           "test197"
          ],
          [
           "test197"
          ],
          [
           "test197"
          ],
          [
           "test197"
          ],
          [
           "test200"
          ],
          [
           "test200"
          ],
          [
           "test200"
          ],
          [
           "test200"
          ],
          [
           "test200"
          ],
          [
           "test200"
          ],
          [
           "test200"
          ],
          [
           "test200"
          ],
          [
           "test200"
          ],
          [
           "test200"
          ],
          [
           "test200"
          ],
          [
           "test200"
          ],
          [
           "test200"
          ],
          [
           "test235"
          ],
          [
           "test235"
          ],
          [
           "test235"
          ],
          [
           "test235"
          ],
          [
           "test235"
          ],
          [
           "test235"
          ],
          [
           "test235"
          ],
          [
           "test235"
          ],
          [
           "test235"
          ],
          [
           "test235"
          ],
          [
           "test235"
          ],
          [
           "test235"
          ],
          [
           "test235"
          ],
          [
           "test235"
          ],
          [
           "test252"
          ],
          [
           "test252"
          ],
          [
           "test252"
          ],
          [
           "test252"
          ],
          [
           "test252"
          ],
          [
           "test252"
          ],
          [
           "test252"
          ],
          [
           "test252"
          ],
          [
           "test252"
          ],
          [
           "test252"
          ],
          [
           "test252"
          ],
          [
           "test252"
          ],
          [
           "test252"
          ],
          [
           "test252"
          ],
          [
           "test252"
          ],
          [
           "test252"
          ],
          [
           "test252"
          ],
          [
           "test252"
          ],
          [
           "test252"
          ],
          [
           "test252"
          ],
          [
           "test255"
          ],
          [
           "test255"
          ],
          [
           "test255"
          ],
          [
           "test255"
          ],
          [
           "test255"
          ],
          [
           "test255"
          ],
          [
           "test255"
          ],
          [
           "test255"
          ],
          [
           "test255"
          ],
          [
           "test255"
          ],
          [
           "test255"
          ],
          [
           "test255"
          ],
          [
           "test255"
          ],
          [
           "test261"
          ],
          [
           "test261"
          ],
          [
           "test261"
          ],
          [
           "test261"
          ],
          [
           "test261"
          ],
          [
           "test261"
          ],
          [
           "test261"
          ],
          [
           "test261"
          ],
          [
           "test261"
          ],
          [
           "test261"
          ],
          [
           "test261"
          ],
          [
           "test261"
          ],
          [
           "test261"
          ],
          [
           "test261"
          ],
          [
           "test262"
          ],
          [
           "test262"
          ],
          [
           "test262"
          ],
          [
           "test262"
          ],
          [
           "test262"
          ],
          [
           "test262"
          ],
          [
           "test262"
          ],
          [
           "test262"
          ],
          [
           "test262"
          ],
          [
           "test262"
          ],
          [
           "test262"
          ],
          [
           "test262"
          ],
          [
           "test262"
          ],
          [
           "test262"
          ],
          [
           "test270"
          ],
          [
           "test270"
          ],
          [
           "test270"
          ],
          [
           "test270"
          ],
          [
           "test270"
          ],
          [
           "test270"
          ],
          [
           "test270"
          ],
          [
           "test270"
          ],
          [
           "test270"
          ],
          [
           "test270"
          ],
          [
           "test270"
          ],
          [
           "test270"
          ],
          [
           "test270"
          ],
          [
           "test275"
          ],
          [
           "test275"
          ],
          [
           "test275"
          ],
          [
           "test275"
          ],
          [
           "test275"
          ],
          [
           "test275"
          ],
          [
           "test275"
          ],
          [
           "test275"
          ],
          [
           "test275"
          ],
          [
           "test275"
          ],
          [
           "test275"
          ],
          [
           "test275"
          ],
          [
           "test275"
          ],
          [
           "test275"
          ],
          [
           "test276"
          ],
          [
           "test276"
          ],
          [
           "test276"
          ],
          [
           "test276"
          ],
          [
           "test276"
          ],
          [
           "test276"
          ],
          [
           "test276"
          ],
          [
           "test276"
          ],
          [
           "test276"
          ],
          [
           "test276"
          ],
          [
           "test276"
          ],
          [
           "test276"
          ],
          [
           "test276"
          ],
          [
           "test276"
          ],
          [
           "test277"
          ],
          [
           "test277"
          ],
          [
           "test277"
          ],
          [
           "test277"
          ],
          [
           "test277"
          ],
          [
           "test277"
          ],
          [
           "test277"
          ],
          [
           "test277"
          ],
          [
           "test277"
          ],
          [
           "test277"
          ],
          [
           "test277"
          ],
          [
           "test277"
          ],
          [
           "test277"
          ],
          [
           "test288"
          ],
          [
           "test288"
          ],
          [
           "test288"
          ],
          [
           "test288"
          ],
          [
           "test288"
          ],
          [
           "test288"
          ],
          [
           "test288"
          ],
          [
           "test288"
          ],
          [
           "test288"
          ],
          [
           "test288"
          ],
          [
           "test288"
          ],
          [
           "test288"
          ],
          [
           "test288"
          ],
          [
           "test288"
          ],
          [
           "test298"
          ],
          [
           "test298"
          ],
          [
           "test298"
          ],
          [
           "test298"
          ],
          [
           "test298"
          ],
          [
           "test298"
          ],
          [
           "test298"
          ],
          [
           "test298"
          ],
          [
           "test298"
          ],
          [
           "test298"
          ],
          [
           "test298"
          ],
          [
           "test298"
          ],
          [
           "test298"
          ],
          [
           "test298"
          ],
          [
           "test300"
          ],
          [
           "test300"
          ],
          [
           "test300"
          ],
          [
           "test300"
          ],
          [
           "test300"
          ],
          [
           "test300"
          ],
          [
           "test300"
          ],
          [
           "test300"
          ],
          [
           "test300"
          ],
          [
           "test300"
          ],
          [
           "test300"
          ],
          [
           "test300"
          ],
          [
           "test300"
          ],
          [
           "test300"
          ],
          [
           "test319"
          ],
          [
           "test319"
          ],
          [
           "test319"
          ],
          [
           "test319"
          ],
          [
           "test319"
          ],
          [
           "test319"
          ],
          [
           "test319"
          ],
          [
           "test319"
          ],
          [
           "test319"
          ],
          [
           "test319"
          ],
          [
           "test319"
          ],
          [
           "test319"
          ],
          [
           "test319"
          ],
          [
           "test319"
          ],
          [
           "test319"
          ],
          [
           "test319"
          ],
          [
           "test319"
          ],
          [
           "test319"
          ],
          [
           "test319"
          ],
          [
           "test319"
          ],
          [
           "test322"
          ],
          [
           "test322"
          ],
          [
           "test322"
          ],
          [
           "test322"
          ],
          [
           "test322"
          ],
          [
           "test322"
          ],
          [
           "test322"
          ],
          [
           "test322"
          ],
          [
           "test322"
          ],
          [
           "test322"
          ],
          [
           "test322"
          ],
          [
           "test322"
          ],
          [
           "test322"
          ],
          [
           "test325"
          ],
          [
           "test325"
          ],
          [
           "test325"
          ],
          [
           "test325"
          ],
          [
           "test325"
          ],
          [
           "test325"
          ],
          [
           "test325"
          ],
          [
           "test325"
          ],
          [
           "test325"
          ],
          [
           "test325"
          ],
          [
           "test325"
          ],
          [
           "test325"
          ],
          [
           "test325"
          ],
          [
           "test325"
          ],
          [
           "test325"
          ],
          [
           "test325"
          ],
          [
           "test325"
          ],
          [
           "test325"
          ],
          [
           "test325"
          ],
          [
           "test325"
          ],
          [
           "test352"
          ],
          [
           "test352"
          ],
          [
           "test352"
          ],
          [
           "test352"
          ],
          [
           "test352"
          ],
          [
           "test352"
          ],
          [
           "test352"
          ],
          [
           "test352"
          ],
          [
           "test352"
          ],
          [
           "test352"
          ],
          [
           "test352"
          ],
          [
           "test352"
          ],
          [
           "test352"
          ],
          [
           "test352"
          ],
          [
           "test375"
          ],
          [
           "test375"
          ],
          [
           "test375"
          ],
          [
           "test375"
          ],
          [
           "test375"
          ],
          [
           "test375"
          ],
          [
           "test375"
          ],
          [
           "test375"
          ],
          [
           "test375"
          ],
          [
           "test375"
          ],
          [
           "test375"
          ],
          [
           "test375"
          ],
          [
           "test375"
          ],
          [
           "test375"
          ],
          [
           "test375"
          ],
          [
           "test375"
          ],
          [
           "test375"
          ],
          [
           "test375"
          ],
          [
           "test375"
          ],
          [
           "test375"
          ],
          [
           "test398"
          ],
          [
           "test398"
          ],
          [
           "test398"
          ],
          [
           "test398"
          ],
          [
           "test398"
          ],
          [
           "test398"
          ],
          [
           "test398"
          ],
          [
           "test398"
          ],
          [
           "test398"
          ],
          [
           "test398"
          ],
          [
           "test398"
          ],
          [
           "test398"
          ],
          [
           "test398"
          ],
          [
           "test398"
          ],
          [
           "test399"
          ],
          [
           "test399"
          ],
          [
           "test399"
          ],
          [
           "test399"
          ],
          [
           "test399"
          ],
          [
           "test399"
          ],
          [
           "test399"
          ],
          [
           "test399"
          ],
          [
           "test399"
          ],
          [
           "test399"
          ],
          [
           "test399"
          ],
          [
           "test399"
          ],
          [
           "test399"
          ],
          [
           "test399"
          ],
          [
           "test6"
          ],
          [
           "test6"
          ],
          [
           "test6"
          ],
          [
           "test6"
          ],
          [
           "test6"
          ],
          [
           "test6"
          ],
          [
           "test6"
          ],
          [
           "test6"
          ],
          [
           "test6"
          ],
          [
           "test6"
          ],
          [
           "test6"
          ],
          [
           "test6"
          ],
          [
           "test6"
          ],
          [
           "test7"
          ],
          [
           "test7"
          ],
          [
           "test7"
          ],
          [
           "test7"
          ],
          [
           "test7"
          ],
          [
           "test7"
          ],
          [
           "test7"
          ],
          [
           "test7"
          ],
          [
           "test7"
          ],
          [
           "test7"
          ],
          [
           "test7"
          ],
          [
           "test7"
          ],
          [
           "test7"
          ],
          [
           "test7"
          ],
          [
           "test7"
          ],
          [
           "test7"
          ],
          [
           "test7"
          ],
          [
           "test7"
          ],
          [
           "test7"
          ],
          [
           "test7"
          ],
          [
           "test79"
          ],
          [
           "test79"
          ],
          [
           "test79"
          ],
          [
           "test79"
          ],
          [
           "test79"
          ],
          [
           "test79"
          ],
          [
           "test79"
          ],
          [
           "test79"
          ],
          [
           "test79"
          ],
          [
           "test79"
          ],
          [
           "test79"
          ],
          [
           "test79"
          ],
          [
           "test79"
          ],
          [
           "test79"
          ],
          [
           "test79"
          ],
          [
           "test79"
          ],
          [
           "test79"
          ],
          [
           "test79"
          ],
          [
           "test79"
          ],
          [
           "test79"
          ]
         ],
         "hovertemplate": "target_d_eff=%{x}<br>error=%{y}<br>test_key=%{customdata[0]}<br>dqfim_d_eff=%{marker.color}<extra></extra>",
         "legendgroup": "",
         "marker": {
          "color": [
           2.5739135793845516,
           2.5739135793845516,
           2.5739135793845516,
           2.5739135793845516,
           2.5739135793845516,
           2.5739135793845516,
           2.5739135793845516,
           2.5739135793845516,
           2.5739135793845516,
           2.5739135793845516,
           2.5739135793845516,
           2.5739135793845516,
           2.5739135793845516,
           3.0190227301111863,
           3.0190227301111863,
           3.0190227301111863,
           3.0190227301111863,
           3.0190227301111863,
           3.0190227301111863,
           3.0190227301111863,
           3.0190227301111863,
           3.0190227301111863,
           3.0190227301111863,
           3.0190227301111863,
           3.0190227301111863,
           3.0190227301111863,
           2.2654100878573766,
           2.2654100878573766,
           2.2654100878573766,
           2.2654100878573766,
           2.2654100878573766,
           2.2654100878573766,
           2.2654100878573766,
           2.2654100878573766,
           2.2654100878573766,
           2.2654100878573766,
           2.2654100878573766,
           2.2654100878573766,
           2.2654100878573766,
           2.2654100878573766,
           2.2654100878573766,
           2.2654100878573766,
           2.2654100878573766,
           2.2654100878573766,
           2.2654100878573766,
           2.2654100878573766,
           2.3851340586249723,
           2.3851340586249723,
           2.3851340586249723,
           2.3851340586249723,
           2.3851340586249723,
           2.3851340586249723,
           2.3851340586249723,
           2.3851340586249723,
           2.3851340586249723,
           2.3851340586249723,
           2.3851340586249723,
           2.3851340586249723,
           2.3851340586249723,
           2.3851340586249723,
           2.8617714352798456,
           2.8617714352798456,
           2.8617714352798456,
           2.8617714352798456,
           2.8617714352798456,
           2.8617714352798456,
           2.8617714352798456,
           2.8617714352798456,
           2.8617714352798456,
           2.8617714352798456,
           2.8617714352798456,
           2.8617714352798456,
           2.8617714352798456,
           2.8021299021647357,
           2.8021299021647357,
           2.8021299021647357,
           2.8021299021647357,
           2.8021299021647357,
           2.8021299021647357,
           2.8021299021647357,
           2.8021299021647357,
           2.8021299021647357,
           2.8021299021647357,
           2.8021299021647357,
           2.8021299021647357,
           2.8021299021647357,
           2.8021299021647357,
           2.8021299021647357,
           2.8021299021647357,
           2.8021299021647357,
           2.8021299021647357,
           2.8021299021647357,
           2.8021299021647357,
           2.1280667451713593,
           2.1280667451713593,
           2.1280667451713593,
           2.1280667451713593,
           2.1280667451713593,
           2.1280667451713593,
           2.1280667451713593,
           2.1280667451713593,
           2.1280667451713593,
           2.1280667451713593,
           2.1280667451713593,
           2.1280667451713593,
           2.1280667451713593,
           2.1280667451713593,
           2.1280667451713593,
           2.1280667451713593,
           2.1280667451713593,
           2.1280667451713593,
           2.1280667451713593,
           2.1280667451713593,
           2.7175705645639208,
           2.7175705645639208,
           2.7175705645639208,
           2.7175705645639208,
           2.7175705645639208,
           2.7175705645639208,
           2.7175705645639208,
           2.7175705645639208,
           2.7175705645639208,
           2.7175705645639208,
           2.7175705645639208,
           2.7175705645639208,
           2.7175705645639208,
           2.7175705645639208,
           3.096662619087033,
           3.096662619087033,
           3.096662619087033,
           3.096662619087033,
           3.096662619087033,
           3.096662619087033,
           3.096662619087033,
           3.096662619087033,
           3.096662619087033,
           3.096662619087033,
           3.096662619087033,
           3.096662619087033,
           3.096662619087033,
           3.096662619087033,
           3.096662619087033,
           3.096662619087033,
           3.096662619087033,
           3.096662619087033,
           3.096662619087033,
           3.096662619087033,
           2.683009689698974,
           2.683009689698974,
           2.683009689698974,
           2.683009689698974,
           2.683009689698974,
           2.683009689698974,
           2.683009689698974,
           2.683009689698974,
           2.683009689698974,
           2.683009689698974,
           2.683009689698974,
           2.683009689698974,
           2.683009689698974,
           2.683009689698974,
           2.683009689698974,
           2.683009689698974,
           2.683009689698974,
           2.683009689698974,
           2.683009689698974,
           2.683009689698974,
           3.2576163126155953,
           3.2576163126155953,
           3.2576163126155953,
           3.2576163126155953,
           3.2576163126155953,
           3.2576163126155953,
           3.2576163126155953,
           3.2576163126155953,
           3.2576163126155953,
           3.2576163126155953,
           3.2576163126155953,
           3.2576163126155953,
           3.2576163126155953,
           3.2576163126155953,
           2.825685501235287,
           2.825685501235287,
           2.825685501235287,
           2.825685501235287,
           2.825685501235287,
           2.825685501235287,
           2.825685501235287,
           2.825685501235287,
           2.825685501235287,
           2.825685501235287,
           2.825685501235287,
           2.825685501235287,
           2.825685501235287,
           3.1956386085252055,
           3.1956386085252055,
           3.1956386085252055,
           3.1956386085252055,
           3.1956386085252055,
           3.1956386085252055,
           3.1956386085252055,
           3.1956386085252055,
           3.1956386085252055,
           3.1956386085252055,
           3.1956386085252055,
           3.1956386085252055,
           3.1956386085252055,
           3.1956386085252055,
           3.1956386085252055,
           3.1956386085252055,
           3.1956386085252055,
           3.1956386085252055,
           3.1956386085252055,
           3.1956386085252055,
           2.9026559840019908,
           2.9026559840019908,
           2.9026559840019908,
           2.9026559840019908,
           2.9026559840019908,
           2.9026559840019908,
           2.9026559840019908,
           2.9026559840019908,
           2.9026559840019908,
           2.9026559840019908,
           2.9026559840019908,
           2.9026559840019908,
           2.9026559840019908,
           2.9026559840019908,
           3.634714022449952,
           3.634714022449952,
           3.634714022449952,
           3.634714022449952,
           3.634714022449952,
           3.634714022449952,
           3.634714022449952,
           3.634714022449952,
           3.634714022449952,
           3.634714022449952,
           3.634714022449952,
           3.634714022449952,
           3.634714022449952,
           3.634714022449952,
           3.634714022449952,
           3.634714022449952,
           3.634714022449952,
           3.634714022449952,
           3.634714022449952,
           3.634714022449952,
           2.685528805559385,
           2.685528805559385,
           2.685528805559385,
           2.685528805559385,
           2.685528805559385,
           2.685528805559385,
           2.685528805559385,
           2.685528805559385,
           2.685528805559385,
           2.685528805559385,
           2.685528805559385,
           2.685528805559385,
           2.685528805559385,
           2.685528805559385,
           2.685528805559385,
           2.685528805559385,
           2.685528805559385,
           2.685528805559385,
           2.685528805559385,
           2.685528805559385,
           3.212214392854475,
           3.212214392854475,
           3.212214392854475,
           3.212214392854475,
           3.212214392854475,
           3.212214392854475,
           3.212214392854475,
           3.212214392854475,
           3.212214392854475,
           3.212214392854475,
           3.212214392854475,
           3.212214392854475,
           3.212214392854475,
           3.11619321214007,
           3.11619321214007,
           3.11619321214007,
           3.11619321214007,
           3.11619321214007,
           3.11619321214007,
           3.11619321214007,
           3.11619321214007,
           3.11619321214007,
           3.11619321214007,
           3.11619321214007,
           3.11619321214007,
           3.11619321214007,
           3.11619321214007,
           3.1335005133131535,
           3.1335005133131535,
           3.1335005133131535,
           3.1335005133131535,
           3.1335005133131535,
           3.1335005133131535,
           3.1335005133131535,
           3.1335005133131535,
           3.1335005133131535,
           3.1335005133131535,
           3.1335005133131535,
           3.1335005133131535,
           3.1335005133131535,
           3.1335005133131535,
           3.1335005133131535,
           3.1335005133131535,
           3.1335005133131535,
           3.1335005133131535,
           3.1335005133131535,
           3.1335005133131535,
           2.718483376456246,
           2.718483376456246,
           2.718483376456246,
           2.718483376456246,
           2.718483376456246,
           2.718483376456246,
           2.718483376456246,
           2.718483376456246,
           2.718483376456246,
           2.718483376456246,
           2.718483376456246,
           2.718483376456246,
           2.718483376456246,
           3.258694283909833,
           3.258694283909833,
           3.258694283909833,
           3.258694283909833,
           3.258694283909833,
           3.258694283909833,
           3.258694283909833,
           3.258694283909833,
           3.258694283909833,
           3.258694283909833,
           3.258694283909833,
           3.258694283909833,
           3.258694283909833,
           3.258694283909833,
           2.414372367384657,
           2.414372367384657,
           2.414372367384657,
           2.414372367384657,
           2.414372367384657,
           2.414372367384657,
           2.414372367384657,
           2.414372367384657,
           2.414372367384657,
           2.414372367384657,
           2.414372367384657,
           2.414372367384657,
           2.414372367384657,
           2.414372367384657,
           2.4229002364861287,
           2.4229002364861287,
           2.4229002364861287,
           2.4229002364861287,
           2.4229002364861287,
           2.4229002364861287,
           2.4229002364861287,
           2.4229002364861287,
           2.4229002364861287,
           2.4229002364861287,
           2.4229002364861287,
           2.4229002364861287,
           2.4229002364861287,
           3.017956221680206,
           3.017956221680206,
           3.017956221680206,
           3.017956221680206,
           3.017956221680206,
           3.017956221680206,
           3.017956221680206,
           3.017956221680206,
           3.017956221680206,
           3.017956221680206,
           3.017956221680206,
           3.017956221680206,
           3.017956221680206,
           3.017956221680206,
           2.761954442495186,
           2.761954442495186,
           2.761954442495186,
           2.761954442495186,
           2.761954442495186,
           2.761954442495186,
           2.761954442495186,
           2.761954442495186,
           2.761954442495186,
           2.761954442495186,
           2.761954442495186,
           2.761954442495186,
           2.761954442495186,
           2.761954442495186,
           2.8202801993162856,
           2.8202801993162856,
           2.8202801993162856,
           2.8202801993162856,
           2.8202801993162856,
           2.8202801993162856,
           2.8202801993162856,
           2.8202801993162856,
           2.8202801993162856,
           2.8202801993162856,
           2.8202801993162856,
           2.8202801993162856,
           2.8202801993162856,
           2.965289736131228,
           2.965289736131228,
           2.965289736131228,
           2.965289736131228,
           2.965289736131228,
           2.965289736131228,
           2.965289736131228,
           2.965289736131228,
           2.965289736131228,
           2.965289736131228,
           2.965289736131228,
           2.965289736131228,
           2.965289736131228,
           2.965289736131228,
           3.5434221641598613,
           3.5434221641598613,
           3.5434221641598613,
           3.5434221641598613,
           3.5434221641598613,
           3.5434221641598613,
           3.5434221641598613,
           3.5434221641598613,
           3.5434221641598613,
           3.5434221641598613,
           3.5434221641598613,
           3.5434221641598613,
           3.5434221641598613,
           3.5434221641598613,
           3.169363799243261,
           3.169363799243261,
           3.169363799243261,
           3.169363799243261,
           3.169363799243261,
           3.169363799243261,
           3.169363799243261,
           3.169363799243261,
           3.169363799243261,
           3.169363799243261,
           3.169363799243261,
           3.169363799243261,
           3.169363799243261,
           3.169363799243261,
           2.650111854616601,
           2.650111854616601,
           2.650111854616601,
           2.650111854616601,
           2.650111854616601,
           2.650111854616601,
           2.650111854616601,
           2.650111854616601,
           2.650111854616601,
           2.650111854616601,
           2.650111854616601,
           2.650111854616601,
           2.650111854616601,
           2.650111854616601,
           2.650111854616601,
           2.650111854616601,
           2.650111854616601,
           2.650111854616601,
           2.650111854616601,
           2.650111854616601,
           2.7287891886083058,
           2.7287891886083058,
           2.7287891886083058,
           2.7287891886083058,
           2.7287891886083058,
           2.7287891886083058,
           2.7287891886083058,
           2.7287891886083058,
           2.7287891886083058,
           2.7287891886083058,
           2.7287891886083058,
           2.7287891886083058,
           2.7287891886083058,
           2.8898449794725045,
           2.8898449794725045,
           2.8898449794725045,
           2.8898449794725045,
           2.8898449794725045,
           2.8898449794725045,
           2.8898449794725045,
           2.8898449794725045,
           2.8898449794725045,
           2.8898449794725045,
           2.8898449794725045,
           2.8898449794725045,
           2.8898449794725045,
           2.8898449794725045,
           2.8898449794725045,
           2.8898449794725045,
           2.8898449794725045,
           2.8898449794725045,
           2.8898449794725045,
           2.8898449794725045,
           2.778177002776829,
           2.778177002776829,
           2.778177002776829,
           2.778177002776829,
           2.778177002776829,
           2.778177002776829,
           2.778177002776829,
           2.778177002776829,
           2.778177002776829,
           2.778177002776829,
           2.778177002776829,
           2.778177002776829,
           2.778177002776829,
           2.778177002776829,
           3.2783558962422887,
           3.2783558962422887,
           3.2783558962422887,
           3.2783558962422887,
           3.2783558962422887,
           3.2783558962422887,
           3.2783558962422887,
           3.2783558962422887,
           3.2783558962422887,
           3.2783558962422887,
           3.2783558962422887,
           3.2783558962422887,
           3.2783558962422887,
           3.2783558962422887,
           3.2783558962422887,
           3.2783558962422887,
           3.2783558962422887,
           3.2783558962422887,
           3.2783558962422887,
           3.2783558962422887,
           3.135171602231171,
           3.135171602231171,
           3.135171602231171,
           3.135171602231171,
           3.135171602231171,
           3.135171602231171,
           3.135171602231171,
           3.135171602231171,
           3.135171602231171,
           3.135171602231171,
           3.135171602231171,
           3.135171602231171,
           3.135171602231171,
           3.135171602231171,
           3.0476474257749824,
           3.0476474257749824,
           3.0476474257749824,
           3.0476474257749824,
           3.0476474257749824,
           3.0476474257749824,
           3.0476474257749824,
           3.0476474257749824,
           3.0476474257749824,
           3.0476474257749824,
           3.0476474257749824,
           3.0476474257749824,
           3.0476474257749824,
           3.0476474257749824,
           2.5379338403239178,
           2.5379338403239178,
           2.5379338403239178,
           2.5379338403239178,
           2.5379338403239178,
           2.5379338403239178,
           2.5379338403239178,
           2.5379338403239178,
           2.5379338403239178,
           2.5379338403239178,
           2.5379338403239178,
           2.5379338403239178,
           2.5379338403239178,
           3.0252038777979506,
           3.0252038777979506,
           3.0252038777979506,
           3.0252038777979506,
           3.0252038777979506,
           3.0252038777979506,
           3.0252038777979506,
           3.0252038777979506,
           3.0252038777979506,
           3.0252038777979506,
           3.0252038777979506,
           3.0252038777979506,
           3.0252038777979506,
           3.0252038777979506,
           3.0252038777979506,
           3.0252038777979506,
           3.0252038777979506,
           3.0252038777979506,
           3.0252038777979506,
           3.0252038777979506,
           2.526993164846588,
           2.526993164846588,
           2.526993164846588,
           2.526993164846588,
           2.526993164846588,
           2.526993164846588,
           2.526993164846588,
           2.526993164846588,
           2.526993164846588,
           2.526993164846588,
           2.526993164846588,
           2.526993164846588,
           2.526993164846588,
           2.526993164846588,
           2.526993164846588,
           2.526993164846588,
           2.526993164846588,
           2.526993164846588,
           2.526993164846588,
           2.526993164846588
          ],
          "coloraxis": "coloraxis",
          "line": {
           "color": "black",
           "width": 0.75
          },
          "size": 12,
          "symbol": "circle"
         },
         "mode": "markers",
         "name": "",
         "orientation": "v",
         "showlegend": false,
         "type": "scatter",
         "x": [
          1.7310319154183038,
          1.806664219306069,
          1.8761627160196006,
          1.710749160649294,
          1.7263731730681575,
          1.7006985089163726,
          1.6834888603972664,
          1.8366370269932646,
          1.7635445901170963,
          1.6324565668591366,
          1.7899121258520407,
          1.8369343983195683,
          1.8375765199019216,
          1.9138112947377037,
          1.7826117738983471,
          2.2333147279757175,
          1.812894858322109,
          2.0380252774306293,
          1.9566378015287662,
          2.243722240778745,
          2.1933483626292443,
          1.818151554359489,
          2.086946275899568,
          2.020787534478181,
          2.014323840349479,
          2.079212325978384,
          1.657665960542829,
          1.5367468725413915,
          1.4796800607279166,
          1.6158144583155436,
          1.5965611423496242,
          1.7695840584678058,
          1.5400102097946837,
          1.7459653516645592,
          1.5137083589688463,
          1.4671410540351937,
          1.701620801914701,
          1.5464035937013858,
          1.5641773913726882,
          1.6841006264357345,
          1.5488323708864657,
          1.535748212969015,
          1.6349885907044654,
          1.5977458139181007,
          1.528424461090405,
          1.5230153275429235,
          1.902693853973861,
          1.972775587230429,
          2.1224926325199585,
          1.8372202318608468,
          1.7535215786914318,
          1.8309392489599623,
          1.6516856650450973,
          1.8269022099590733,
          1.8194164336427112,
          1.8603137068566526,
          1.7897481549022263,
          1.697240777518412,
          1.6594845588888314,
          1.9206370672877624,
          2.189191305809153,
          2.2498425624231406,
          2.1562154366388735,
          2.2929953899953914,
          2.2633899023089996,
          1.9614916504211104,
          2.158911449950671,
          1.9543528597209547,
          2.1604373746263867,
          1.8962362985724432,
          2.0262315446484487,
          2.0467269352203337,
          2.1580680166932966,
          1.6130444567817832,
          1.866647794989561,
          1.8544334037602377,
          1.7910604256922102,
          1.7490023288281884,
          1.8514151213673349,
          2.028325534646349,
          1.7112208963472515,
          1.9539759042710156,
          1.6300737895217483,
          1.8023700090011308,
          1.874322519906038,
          1.634409998783241,
          1.8497831138607315,
          1.8315322671035437,
          1.7532250750729212,
          1.7615573639809288,
          1.6750401144054299,
          1.5633283843662005,
          1.6529037027522586,
          1.5105839948349624,
          1.6995117992985744,
          1.6735672336165335,
          1.6496187352681555,
          1.5535242560343119,
          1.6699127143375447,
          1.532991644077791,
          1.5939507301859173,
          1.654417842574601,
          1.5130375209276237,
          1.6470499545517374,
          1.865821852543626,
          1.590734864347557,
          1.661533687251102,
          1.5763130332720947,
          1.5374176879832606,
          1.5273516684755075,
          1.4755139080434325,
          1.5644150939184944,
          1.6393229799337719,
          2.1909015165807575,
          2.026600338645826,
          1.978564408132118,
          2.0672558201064466,
          2.270352601913797,
          2.067909155427141,
          2.05731037782128,
          2.244047281901575,
          2.0550014196580406,
          2.1764777999091103,
          2.0068029806572443,
          2.1914374072396776,
          1.9937627050516757,
          2.041260079839452,
          2.3488090387674636,
          2.491951055972025,
          2.1662505420724623,
          2.280569894799035,
          2.0960626378749736,
          2.260482842769079,
          2.113795180262898,
          2.00940322223605,
          2.345316476163404,
          2.266661999880983,
          2.1499568315686517,
          2.266248970231871,
          2.3328657432099957,
          2.3120288995304237,
          2.151006642047316,
          2.3882477079661446,
          2.1295713293963296,
          2.2482780734804053,
          2.268815844267525,
          2.218109899971762,
          1.8443773910895491,
          1.9108858937111581,
          1.819535734421933,
          1.6883750685301837,
          1.8027762048684515,
          1.8386903568130344,
          2.010415093514651,
          2.0124582718964636,
          1.6908215359086016,
          1.99566116440985,
          1.7523253308435038,
          2.194234973551099,
          1.9148973735393473,
          2.1746877439797196,
          1.8897283034832313,
          1.7422731842035508,
          1.9736277403340785,
          2.0464609105658957,
          1.758019093356587,
          1.761926982498444,
          2.283610884037994,
          2.1579427593407408,
          2.1994964326967468,
          2.116081495133289,
          2.124203240151724,
          2.0762660326478573,
          2.433132266355958,
          2.327564878445925,
          2.1416202419497643,
          2.4873532505636757,
          2.1482303128543743,
          2.2582625313739575,
          2.3432119857684612,
          2.0153400791761302,
          2.0818032792352015,
          2.0189099831320907,
          1.916283042769825,
          1.9864805266284362,
          2.0802822759525195,
          1.9693763796016017,
          2.067737995929651,
          1.9315187822060467,
          2.1142167573626343,
          2.004499342246269,
          1.9637091973169838,
          1.945650470987856,
          1.9394091203865227,
          2.1949649544963217,
          1.8903263259092913,
          2.0481128195781775,
          1.9768613149418588,
          2.139306072371217,
          2.246656193681093,
          1.9790891100721033,
          2.072647934662833,
          2.0469212158013605,
          2.047893441868383,
          2.5553110078628642,
          2.1716089926187263,
          2.0560390188949946,
          2.06141515164473,
          2.1394946064522893,
          2.0462609092419033,
          2.0311788707958662,
          2.181831489305953,
          2.110877843158663,
          2.1128373346627964,
          2.0154808173613383,
          1.8180416466671108,
          1.780021140741909,
          1.814647245753375,
          2.1125219334841177,
          1.8041942709877974,
          1.9615414999590828,
          1.847101369804125,
          1.9799440470133043,
          1.9799441729123777,
          1.8735070657970783,
          1.9070769074995677,
          1.935120386779301,
          1.9621296061287687,
          2.5170380644253174,
          2.5612585902171707,
          2.5000374136351144,
          2.5597215446199066,
          2.414691663282045,
          2.4571531776008633,
          2.4995738786662893,
          2.5294700629207294,
          2.6232666899891415,
          2.4649346139992048,
          2.4257565616835604,
          2.4638923349809723,
          2.5846908608739523,
          2.699628222051523,
          2.4713725418240413,
          2.5789472070637145,
          2.4770492598671603,
          2.4976371018333934,
          2.546796639268591,
          2.4349678243550295,
          1.8318864134864152,
          1.8487562874364845,
          1.9648573604077832,
          2.107237721580123,
          1.7886523582025486,
          1.9180999956194542,
          1.935917617854258,
          1.8770908595580695,
          2.043112912513684,
          1.9925691135013393,
          1.9361831892216015,
          1.8439829891411652,
          1.9754371343975006,
          1.998699622308422,
          1.9490408245490602,
          1.840609562561557,
          1.9651421506111675,
          1.959025688814616,
          2.0351958645084545,
          1.9206889314413516,
          2.3417865609949775,
          2.071340960333545,
          2.159030804675015,
          2.1580531602047075,
          2.2839004959181963,
          2.278584842470476,
          2.0154232366121074,
          2.203391639270822,
          2.0819276391080557,
          2.2853401472461297,
          2.2415231755056038,
          2.270790842132028,
          2.276213142995546,
          1.9373523692878551,
          1.7977558977468084,
          2.0429871715070997,
          2.2398966743453808,
          2.383447906729832,
          2.054805297234729,
          1.7634445763691398,
          1.907553873438739,
          2.1905883162889124,
          2.0439206779909376,
          1.850139656100562,
          1.943902042630763,
          2.057292666375926,
          1.8945089126007149,
          1.8786490796305504,
          1.7553985134006538,
          1.7417668857922346,
          2.155519955334597,
          1.8783241121985113,
          2.18509668745541,
          1.8530690864126447,
          1.8788811155545089,
          1.8041714865807468,
          1.9731129175704127,
          2.256290226279203,
          1.92409758456498,
          1.813070478876525,
          1.9217411553347772,
          1.8737969083161885,
          1.9737195394764797,
          1.8782361845777338,
          1.8929730317750861,
          1.8371588580893228,
          1.955722858959607,
          2.115091734230003,
          1.9352779287007924,
          1.7333677269720946,
          1.778894161918487,
          1.8235711434981057,
          2.1933397356110254,
          2.037249320853251,
          1.868568813308984,
          1.9683327570071918,
          2.0147066653531405,
          2.0332873607447683,
          1.850405904661211,
          1.7813278187174426,
          1.7698235871808525,
          1.948196966949188,
          1.984035140240307,
          1.86726829529569,
          2.040974648903754,
          1.955813602653949,
          1.8555180539944343,
          2.125383742413178,
          1.9369323300284256,
          1.826690540620882,
          1.9294833236125495,
          2.2574106973975017,
          1.9629298060407332,
          1.9274722675875273,
          1.6245882360936428,
          1.7464747124684443,
          1.8540168903296717,
          1.6715833180279844,
          1.646816498627956,
          1.5739966080194931,
          1.5504277124889008,
          2.193307609539118,
          1.560768430132648,
          1.6210724734527326,
          1.6780175744962122,
          1.6964473545057699,
          1.5240463931728945,
          1.6899263355293235,
          1.6251211948926914,
          1.5562232738687052,
          1.5631821190852235,
          1.5276873984650479,
          1.5852797928453026,
          1.61921157127375,
          1.7003625877442219,
          1.5988451350113149,
          1.5401826884921745,
          1.798569690894146,
          1.4777672496803347,
          1.5269262157232646,
          1.6699772723463964,
          1.8699733810679298,
          1.7823399317980753,
          1.9336910258253683,
          1.6788281261187383,
          1.9078860907477249,
          1.7839026893675893,
          1.9596384561422042,
          1.8825351816843838,
          1.9182523235598656,
          1.5531418642331243,
          1.9296550083927786,
          1.8596671268905225,
          2.034308625655503,
          1.992670868389949,
          1.64216541687846,
          2.0458648289912857,
          2.113152597909464,
          1.9509560371483021,
          1.9305776432952364,
          2.0387631407698095,
          1.7753829507469023,
          2.0584768561901012,
          2.009566245479664,
          1.7792342620503843,
          1.6767192377703268,
          1.7847780703815097,
          1.8789653258153476,
          1.7510551975086597,
          2.0815908202226248,
          2.0153596456541476,
          2.0209436628717508,
          1.9863131348059173,
          2.0048462502002127,
          2.1288067651608116,
          2.0641713858605097,
          1.9717122715827873,
          2.0421132632625727,
          2.007333309209336,
          2.082050793668033,
          1.9867640162939324,
          1.9345542829225342,
          2.202670364375279,
          2.2084518805390863,
          2.226392957703868,
          1.7715446859556319,
          1.8121463076131172,
          1.8555768375934014,
          2.030948002762154,
          2.1958708097170803,
          1.9029831198970002,
          2.1708747638248655,
          1.9353804407664421,
          2.018072567930852,
          2.0561818474814046,
          1.9509923547679449,
          2.426817709461388,
          2.3952649341595396,
          2.292853538131867,
          2.3539181936583486,
          2.460294128870462,
          2.2682369725288254,
          2.4340899566536773,
          2.3198516192203313,
          2.3639292393113105,
          2.5203554958429923,
          2.3870365368552084,
          2.496268375008289,
          2.226548732421191,
          2.3480815725974518,
          2.102291145906874,
          2.390661681769133,
          2.275738786018229,
          2.247794670528099,
          2.137032641141865,
          2.3319076495274245,
          2.2824561974189175,
          2.13625906269566,
          2.245440342304721,
          2.129391991610774,
          2.2639189268030715,
          2.237507453948573,
          2.3104982854888814,
          2.1194659343393454,
          2.0631908245147637,
          1.961609618741713,
          1.7829400557570525,
          1.7259081248389443,
          1.7632072678921262,
          1.640610320898444,
          1.7863457285327364,
          2.0386523972194697,
          1.635143121380779,
          1.7480823163839287,
          1.718163054458279,
          1.8469095773484465,
          2.214618048056287,
          1.768634013394874,
          1.5926790355511236,
          2.12597295433597,
          1.7431038586826424,
          2.080320446741099,
          1.889697105423823,
          1.890149292986581,
          1.785260237811351,
          1.9956565580961019,
          1.958295054864445,
          2.0664815864540524,
          2.0814233829374165,
          1.8443708334196272,
          1.9844805125558065,
          2.016288254746412,
          1.932847344881851,
          1.8721925122535283,
          1.9227487164748551,
          1.8641052296408445,
          1.8826764131177818,
          2.1678858723785455,
          2.2484748370351877,
          2.222770398837027,
          2.1455088035859324,
          2.216594264105173,
          2.2045099707957236,
          2.2469479657395324,
          2.2556982782767734,
          2.383931249741673,
          2.224191658251574,
          2.1525731560062447,
          2.1713985195306305,
          2.182236194976791,
          2.273738557115024,
          2.247839040486619,
          2.2734482093866957,
          2.1795258600659575,
          2.2721256047787723,
          2.193964311078046,
          2.111108203776745,
          2.024864465139065,
          1.718082276455445,
          1.6597857260605173,
          1.69834931585591,
          1.7888365950918717,
          1.6036917754103166,
          1.7901673164053225,
          1.7829466869437764,
          1.6548582514074264,
          2.075319959131553,
          1.706031490731219,
          1.8562443125862205,
          1.7139839364025033,
          1.7415149273354649,
          2.1317614369108306,
          2.1688863757549353,
          2.295325141416557,
          2.3542734943509305,
          2.0958681710761327,
          2.2367034075919388,
          2.152751492301763,
          2.281704401494396,
          2.4958013287477208,
          2.263800537775284,
          2.2313113036747496,
          2.185145736735614,
          2.3244722692100863,
          2.2680259185082123,
          2.239176089050231,
          2.1008653846420104,
          2.2603462749282555,
          2.404900230888209,
          2.2942163368282777,
          2.1747073118262232,
          2.2177601401253386,
          2.1540767770429703,
          2.3392517179778376,
          2.184426832210837,
          2.1649899258555316,
          2.083124233671363,
          2.1438843841979027,
          2.31713014196249,
          2.1788752796680404,
          2.2110737024293017,
          2.2399461410919144,
          2.041102765142344,
          2.2471020554408683,
          2.1992711828606706,
          1.989240114933728,
          2.0747716995566443,
          1.9196049687252232,
          1.965451066785642,
          2.1458666604549563,
          1.8368100756578318,
          2.062268495930248,
          2.1736404608479565,
          2.0050723839646283,
          2.032512583512368,
          2.1805520782035894,
          2.2957695011502044,
          1.9143771825915736,
          1.9962839182281806,
          1.888477702460283,
          2.0076370730187185,
          1.717327661685273,
          1.9660044501548097,
          1.7047961280760442,
          1.8472188963882334,
          1.9050420571122832,
          1.695290007872019,
          1.9440358165202034,
          1.8497193348391012,
          1.885894694840517,
          1.655893868328557,
          1.7383842408956467,
          2.20471148965406,
          2.102336108197526,
          2.069154029067467,
          2.0550273185875954,
          2.3061434793587385,
          2.269416182798197,
          2.0926194021343294,
          2.1632737704937317,
          2.346590330484983,
          2.295413810219498,
          2.039133207953153,
          2.1012365733465566,
          2.2508480557601884,
          2.307963379668889,
          2.2031768574346344,
          2.113999634384782,
          2.2379209428288256,
          2.0494984520768504,
          2.1650955875569307,
          1.9903780176136276,
          1.8745055467565959,
          1.8646372826418833,
          1.90498134429677,
          1.8770045011505085,
          1.7587845410589233,
          1.735757126129021,
          1.7210657021694795,
          1.6600304794358678,
          1.8884944686935967,
          1.8150109827195349,
          1.974202838834236,
          1.8487542414588776,
          1.69992484548508,
          1.6763087677419202,
          1.7869567060151328,
          1.9761495349623839,
          1.6492125213208864,
          1.7785460816622944,
          1.8424431163646071,
          1.9295577577067307
         ],
         "xaxis": "x",
         "y": [
          -4.93449678669518,
          -9.43953013270582,
          -5.614546008763232,
          -6.538471555110427,
          -4.172602458496454,
          -5.234119197328382,
          -3.996711549032726,
          -6.715195233125913,
          -7.536303977997082,
          -6.127746511483964,
          -10.113194133486484,
          -6.700220072494517,
          -5.443981251496876,
          -8.542161111153423,
          -5.177497127445234,
          -4.974469028595754,
          -6.963926850081735,
          -6.256164696898018,
          -7.245324235670306,
          -4.300376874201456,
          -5.323559413704948,
          -6.438440287067968,
          -6.508325944068082,
          -6.3079551199870565,
          -5.02511387303751,
          -6.084090354237743,
          -5.439023105375741,
          -8.150092720765718,
          -7.037285510147915,
          -6.921563354837966,
          -4.282349050036225,
          -8.833318927148735,
          -7.44264241994676,
          -5.586269827532681,
          -3.9998819211363195,
          -8.316612249718375,
          -7.4206581880096385,
          -6.886259245895945,
          -5.97947506831272,
          -3.214120305236172,
          -8.39608838120744,
          -6.298825944088979,
          -5.648370644280363,
          -4.541386425093898,
          -6.504701798224576,
          -4.186669521388348,
          -5.390856673028153,
          -6.238503728003695,
          -6.324717980804177,
          -4.778953605219616,
          -4.3943804966694335,
          -4.260559018010744,
          -6.507356292093616,
          -5.956019643438887,
          -6.245601601226171,
          -4.583635663069541,
          -7.336899114938279,
          -4.87391213258882,
          -5.92303664287395,
          -6.123334452789982,
          -5.61890360907629,
          -6.14179693587347,
          -4.8256513962911605,
          -7.244349729122639,
          -6.344363086192317,
          -5.149693436493577,
          -4.254096068310102,
          -5.421781443064845,
          -5.262495845187908,
          -5.681687389784862,
          -6.5594097962601134,
          -4.698301325991357,
          -5.112886059419179,
          -6.133648908856033,
          -4.14835515650113,
          -4.49810102158931,
          -4.903687271053889,
          -6.963871814665211,
          -11.406891938692274,
          -6.428618222725562,
          -8.6331142153304,
          -9.007345580132329,
          -6.448846785935728,
          -5.149486031002787,
          -5.478420589888867,
          -5.448242324456388,
          -4.6177197032217565,
          -9.548034292461317,
          -6.210001333406567,
          -4.618056321849857,
          -5.388312150826659,
          -5.214581075615459,
          -6.109570807536587,
          -7.123186163446368,
          -5.444334339761374,
          -5.421090239798524,
          -7.261038759438251,
          -5.462500005653605,
          -5.396831711668647,
          -6.223963607401107,
          -5.6022756315123425,
          -5.493887628113881,
          -6.9446764795697975,
          -5.57124768307638,
          -7.437673570800993,
          -5.818317924937971,
          -6.091948112696513,
          -4.799508456403417,
          -6.985053545755177,
          -4.248630809038876,
          -5.726186887119707,
          -6.082126087629718,
          -5.996061259528149,
          -6.979748687476547,
          -4.705674039631808,
          -5.780273861160834,
          -4.33166543552917,
          -5.993532910450109,
          -6.398718922823692,
          -4.823361932563235,
          -3.6091261477541323,
          -6.622671204644587,
          -5.338415613208393,
          -5.580860952492846,
          -5.584160721611729,
          -5.575000953676187,
          -7.3223806718597775,
          -5.549663585527469,
          -6.548602976719327,
          -7.325476727411674,
          -6.038151298897959,
          -5.283767145094816,
          -6.630680711987324,
          -7.376799383563766,
          -8.068216407461327,
          -5.823650350160156,
          -6.141812490746687,
          -5.976076907317705,
          -5.980721453127586,
          -4.706291911055214,
          -4.848006705645752,
          -4.451127238588398,
          -5.082160626142705,
          -5.7247230132251605,
          -5.243250757269014,
          -6.95291345194983,
          -9.857631991361533,
          -4.213024805912563,
          -3.4562929588625604,
          -4.9844899796442315,
          -4.888356628855613,
          -6.132160303911996,
          -3.4487677578674907,
          -6.479210348101146,
          -6.693472828084596,
          -6.3750182709519425,
          -4.369637986024381,
          -5.475519800097324,
          -5.331213204416262,
          -6.490290522468679,
          -3.0384224682824525,
          -4.794275368166577,
          -7.417283198639857,
          -5.126685948740511,
          -5.964835914561024,
          -6.006722653309825,
          -4.620061522251868,
          -8.274995319832465,
          -4.846761008334862,
          -6.689511278759858,
          -7.618810326837468,
          -6.320125577944268,
          -5.6354491835777,
          -6.033645586848596,
          -6.6468931128052455,
          -6.677639282180273,
          -7.541080845908014,
          -8.367218894650646,
          -5.922945851254923,
          -7.024977269296824,
          -7.643221639750656,
          -5.010007120276656,
          -4.755692766523853,
          -5.363463955208328,
          -5.520546389925743,
          -6.1520384383499485,
          -7.276365162547309,
          -3.6815116072716303,
          -5.2772044005666485,
          -4.553061898635909,
          -4.658056817588714,
          -4.047441463725007,
          -5.6515172375314435,
          -4.55888545163749,
          -4.278622989512515,
          -4.709237741130711,
          -5.191338720527367,
          -8.303705359490554,
          -5.440297888140554,
          -6.642326953318636,
          -5.60311728104422,
          -6.540582683006668,
          -6.073635614830362,
          -5.056491918381758,
          -6.575875933091044,
          -6.097648778459984,
          -5.972146463324888,
          -7.464077268094658,
          -5.559324640470842,
          -3.9607667635325194,
          -8.576289808373653,
          -6.342623378307932,
          -5.404705974957449,
          -5.180048323055904,
          -4.584978783875632,
          -5.634086804884465,
          -6.620734445964379,
          -6.807220287548291,
          -5.803180790555354,
          -5.544489574934503,
          -9.908965375675262,
          -4.622423801394893,
          -6.307874747524117,
          -5.295067027117376,
          -7.152653290554981,
          -5.55030184507231,
          -6.014516029564679,
          -7.084670157750569,
          -6.972443572090906,
          -5.4912074255967465,
          -5.499412013645849,
          -10.251683001634301,
          -7.365096863615422,
          -7.647980949753212,
          -9.473132739679496,
          -4.619348205757209,
          -7.709730159271025,
          -4.666709080221066,
          -6.837377211922492,
          -6.524024661123057,
          -6.77809610201727,
          -6.186342083239117,
          -6.9744014146798055,
          -5.538025003587954,
          -7.103551591008148,
          -6.482275762083741,
          -6.448486859030161,
          -6.084926262319801,
          -6.796832336192256,
          -6.113061695378011,
          -4.682000023487695,
          -5.26662962877444,
          -8.34506646551876,
          -6.253490698402016,
          -6.673565155796321,
          -6.4245641989917335,
          -3.5255789717634403,
          -4.379281327600162,
          -5.316801413018092,
          -5.102405241859085,
          -7.2921803986990374,
          -4.9392115985505916,
          -5.966244566600218,
          -4.161499694393766,
          -5.80258754305324,
          -5.077047475701194,
          -5.880687611720998,
          -6.36330110419612,
          -6.076381865579393,
          -6.087739183395895,
          -5.333106343654841,
          -7.684462451889022,
          -3.268817392065235,
          -5.246151227621772,
          -4.911329475048677,
          -5.95818517908688,
          -6.473664331257488,
          -6.160060247835986,
          -4.752104925482582,
          -4.83375647357216,
          -5.945020269419648,
          -5.81908966738195,
          -6.959659139996456,
          -6.5335691359917885,
          -5.950895096460919,
          -6.304177421528485,
          -9.200421315271,
          -7.2882033522321406,
          -6.256244904600937,
          -5.900674239392353,
          -4.5733220117021105,
          -5.460050252049751,
          -6.182541144154531,
          -6.0780686053765915,
          -7.42289923581504,
          -5.299671177445461,
          -5.751783155094335,
          -7.529408426760375,
          -7.118710476441002,
          -5.782428915168131,
          -6.639966237607913,
          -7.127637131987486,
          -6.078832872705631,
          -7.629318002461933,
          -8.905308237851218,
          -5.429219942039667,
          -6.950513935981053,
          -6.089026318595056,
          -6.304633886281975,
          -7.178321836659342,
          -4.824456584381162,
          -5.06984776608349,
          -5.915249524468497,
          -7.657305689493706,
          -5.963161706316343,
          -5.622308008086013,
          -6.864131487111862,
          -6.431764918405881,
          -5.383566969749615,
          -7.577389902226924,
          -6.228058599350672,
          -5.035974278326628,
          -6.768083011825022,
          -5.107818965782155,
          -6.844217615843083,
          -5.832464610201266,
          -6.07196346224701,
          -6.473854583279569,
          -6.841568993225287,
          -6.052715146720996,
          -6.300737476474716,
          -5.826660891794389,
          -4.203466270219737,
          -6.613162069463232,
          -4.998101924987127,
          -4.304135803337067,
          -6.618406287482623,
          -6.095809124579816,
          -6.32271978809376,
          -4.912457785173906,
          -5.490602845915551,
          -6.650375098961724,
          -4.552734926994178,
          -4.949399406869551,
          -5.666382043532925,
          -6.286414998719156,
          -8.21739843648222,
          -6.699646184165594,
          -6.643166125102745,
          -5.600598717222443,
          -5.027788880917101,
          -6.280298108715317,
          -7.563838311433676,
          -7.032227451561291,
          -6.410092834856763,
          -5.666745746050297,
          -5.385975212233054,
          -4.949546958850597,
          -6.5080692655784365,
          -6.621843365565378,
          -4.618610991297292,
          -6.279872300250225,
          -6.252557710739819,
          -6.095030153214679,
          -6.891660912899435,
          -5.385542396998104,
          -6.568606554797036,
          -5.488626765749325,
          -6.603783047649707,
          -4.5536285175741655,
          -8.466074621894277,
          -5.4088556763811315,
          -5.620584757417057,
          -5.763999618302648,
          -4.6409108357156965,
          -5.494320207473497,
          -4.639449092379881,
          -5.370772909129285,
          -4.710509495142514,
          -6.528833640058782,
          -4.394759255077855,
          -8.045570091929635,
          -4.630674218832438,
          -6.298049374890131,
          -5.534157893180343,
          -8.218217417872017,
          -5.528352514483801,
          -6.091680370910921,
          -5.959882339481267,
          -7.117835699857088,
          -4.1928013818712175,
          -4.374185367546178,
          -5.549330090555116,
          -6.488268894129274,
          -6.030302455016708,
          -4.672508389367833,
          -6.848592414832235,
          -4.244374786966953,
          -5.924955600333785,
          -4.404408540860131,
          -5.323666271211444,
          -6.696582899342953,
          -6.320556376983116,
          -3.671570871164228,
          -6.504283442261618,
          -7.0058550288085355,
          -6.1491444002688915,
          -7.120170237321918,
          -5.325001550195775,
          -5.425947085851576,
          -6.92469484889491,
          -4.054884500792442,
          -7.240228361296382,
          -4.691527146994451,
          -4.7976104572260665,
          -7.164284892886564,
          -6.41334749080963,
          -6.529242535194266,
          -6.350209819846965,
          -4.6693713967712895,
          -4.758443047980865,
          -6.001115103672406,
          -7.309067945585936,
          -4.590373521622155,
          -5.935108475259555,
          -5.331943295304685,
          -6.5986605186813465,
          -5.544825006920005,
          -5.337133713882808,
          -6.828302490203391,
          -5.564547758807504,
          -5.5695468124152425,
          -6.558718044015255,
          -5.620373125054837,
          -6.3702075113220324,
          -6.636649394770565,
          -5.94536104326453,
          -4.085112980501817,
          -6.217409736027348,
          -5.558275659294972,
          -7.662214966238599,
          -7.591492080989341,
          -5.583017244004422,
          -7.002766565561301,
          -5.5559274148093145,
          -4.543587832273985,
          -6.763257293226512,
          -5.68641723820431,
          -5.606672505263976,
          -4.506829945941771,
          -8.118724739477026,
          -6.209486196991666,
          -6.640067901240841,
          -5.970950964389519,
          -5.204696790424789,
          -5.391473233363727,
          -6.297483341148646,
          -4.712897216733202,
          -7.769753173945721,
          -5.800941513997714,
          -7.477203359956927,
          -6.315990957156432,
          -6.683265849710532,
          -5.828186878525133,
          -8.249383460564289,
          -7.7498188016082254,
          -5.327478802467252,
          -6.5871039041958195,
          -5.140108428812577,
          -6.614654302333261,
          -5.7981018003428435,
          -7.725406107578178,
          -4.588613575365528,
          -5.582114059027738,
          -7.05281482032667,
          -7.20553795139461,
          -6.661242842334712,
          -6.361612184097346,
          -4.262283190653294,
          -6.947692207915046,
          -4.190131286992255,
          -6.246079914867746,
          -3.851938209251576,
          -3.727674581171236,
          -3.9706958327064794,
          -6.054258785833105,
          -7.456892737045735,
          -6.220407233954786,
          -6.318550266748168,
          -5.4758025732141835,
          -5.136514391658607,
          -6.131316729873627,
          -6.43433726700351,
          -7.189489289048069,
          -4.905973758596994,
          -6.887715871996703,
          -9.627225496043053,
          -6.8416767379019445,
          -4.4428422814226725,
          -6.272462390022879,
          -5.011210540151905,
          -5.226070765583426,
          -4.740781117601817,
          -5.597180485517331,
          -5.176529757114763,
          -5.36843296258382,
          -5.252975175158489,
          -4.990075474847352,
          -5.965964958608218,
          -4.83707491905458,
          -4.564213872285902,
          -5.236418636877273,
          -5.999226722284082,
          -6.2185422607883565,
          -5.42528688942912,
          -5.195388438598618,
          -6.2731417278167845,
          -4.509734815793251,
          -6.560006488133214,
          -4.4917103333201815,
          -4.820225021477447,
          -6.53386820553605,
          -6.049738679861894,
          -6.665943605545169,
          -5.731955658252188,
          -4.873922872371119,
          -4.8166934933221235,
          -4.113680849464706,
          -7.0073846189882065,
          -5.348714329007032,
          -6.1276649852187,
          -6.131665416831614,
          -4.363580064131459,
          -6.357099840288682,
          -5.160861317992188,
          -5.4501535147036,
          -5.557541840307368,
          -7.883255676019636,
          -5.26657961636733,
          -4.29713921766515,
          -4.796683370692203,
          -5.010993572211998,
          -5.435438762282239,
          -4.886094579147758,
          -7.097442582324793,
          -5.325113312323875,
          -6.430573730510909,
          -4.830025333456842,
          -3.605312911727829,
          -5.428446198736726,
          -7.190366122728368,
          -6.81979368261844,
          -8.02460343300689,
          -6.141849400353746,
          -4.1432439243254855,
          -6.785209889250452,
          -5.4296312003610705,
          -5.672094442691113,
          -4.5634315230983855,
          -8.236320400590994,
          -4.431071202145454,
          -4.216003939965809,
          -5.446388221524611,
          -5.792526794946022,
          -4.43499817876388,
          -4.287868305692775,
          -6.228617863057382,
          -4.05473518735768,
          -4.391280357665377,
          -4.534389371174585,
          -8.951038741728244,
          -7.44127780237707,
          -4.856417318820172,
          -6.438508906115563,
          -7.172952763215692,
          -6.1516216450517085,
          -5.955273406881161,
          -6.542905000068356,
          -4.791947024853356,
          -7.502898267179741,
          -7.307058478137802,
          -4.28672085790574,
          -5.693907692666763,
          -6.171979015970494,
          -7.941900035631761,
          -5.404252993484616,
          -8.29997008769952,
          -4.850574857418248,
          -6.717944119849793,
          -7.093699350143712,
          -6.161335016476429,
          -4.9328825713772995,
          -7.786736140170397,
          -6.6249023429134715,
          -5.252161380571859,
          -5.703482024059685,
          -6.9632871258159,
          -6.181114815281854,
          -5.13146183155517,
          -7.249187868531426,
          -4.771038742850131,
          -4.311567438009477,
          -6.102159804353462,
          -7.252819620501457,
          -5.70685956525998,
          -5.555136089676775,
          -5.120460186409287,
          -8.65411774276913,
          -6.936442765023669,
          -5.986849498957527,
          -6.060447220079059,
          -8.318904687124025,
          -6.485776470560248,
          -4.218711004239255,
          -5.769692310789075,
          -5.357422287835259,
          -4.1228987425695305,
          -4.675565364545127,
          -9.305014143124712,
          -5.780946399791806
         ],
         "yaxis": "y"
        }
       ],
       "layout": {
        "coloraxis": {
         "colorbar": {
          "len": 1.1,
          "thickness": 35,
          "title": {
           "text": "dqfim_d_eff"
          },
          "x": 1,
          "y": 0.53,
          "yanchor": "middle"
         },
         "colorscale": [
          [
           0,
           "#5e4fa2"
          ],
          [
           0.00392156862745098,
           "#555aa7"
          ],
          [
           0.00784313725490196,
           "#5061aa"
          ],
          [
           0.011764705882352941,
           "#4b68ae"
          ],
          [
           0.01568627450980392,
           "#486cb0"
          ],
          [
           0.0196078431372549,
           "#4273b3"
          ],
          [
           0.023529411764705882,
           "#3f77b5"
          ],
          [
           0.027450980392156862,
           "#3b7cb7"
          ],
          [
           0.03137254901960784,
           "#3880b9"
          ],
          [
           0.03529411764705882,
           "#3585bb"
          ],
          [
           0.0392156862745098,
           "#3389bd"
          ],
          [
           0.043137254901960784,
           "#378ebb"
          ],
          [
           0.047058823529411764,
           "#3b92b9"
          ],
          [
           0.050980392156862744,
           "#3d95b8"
          ],
          [
           0.054901960784313725,
           "#4199b6"
          ],
          [
           0.058823529411764705,
           "#459eb4"
          ],
          [
           0.06274509803921569,
           "#47a0b3"
          ],
          [
           0.06666666666666667,
           "#4ba4b1"
          ],
          [
           0.07058823529411765,
           "#50a9af"
          ],
          [
           0.07450980392156863,
           "#52abae"
          ],
          [
           0.0784313725490196,
           "#56b0ad"
          ],
          [
           0.08235294117647059,
           "#58b2ac"
          ],
          [
           0.08627450980392157,
           "#5cb7aa"
          ],
          [
           0.09019607843137255,
           "#5eb9a9"
          ],
          [
           0.09411764705882353,
           "#60bba8"
          ],
          [
           0.09803921568627451,
           "#64c0a6"
          ],
          [
           0.10196078431372549,
           "#66c2a5"
          ],
          [
           0.10588235294117647,
           "#6bc4a5"
          ],
          [
           0.10980392156862745,
           "#6ec5a5"
          ],
          [
           0.11372549019607843,
           "#71c6a5"
          ],
          [
           0.11764705882352941,
           "#76c8a5"
          ],
          [
           0.12156862745098039,
           "#79c9a5"
          ],
          [
           0.12549019607843137,
           "#7ccaa5"
          ],
          [
           0.12941176470588237,
           "#81cda5"
          ],
          [
           0.13333333333333333,
           "#84cea5"
          ],
          [
           0.13725490196078433,
           "#86cfa5"
          ],
          [
           0.1411764705882353,
           "#8cd1a4"
          ],
          [
           0.1450980392156863,
           "#8fd2a4"
          ],
          [
           0.14901960784313725,
           "#91d3a4"
          ],
          [
           0.15294117647058825,
           "#94d4a4"
          ],
          [
           0.1568627450980392,
           "#99d6a4"
          ],
          [
           0.1607843137254902,
           "#9cd7a4"
          ],
          [
           0.16470588235294117,
           "#9fd8a4"
          ],
          [
           0.16862745098039217,
           "#a2d9a4"
          ],
          [
           0.17254901960784313,
           "#a4daa4"
          ],
          [
           0.17647058823529413,
           "#aadca4"
          ],
          [
           0.1803921568627451,
           "#acdda4"
          ],
          [
           0.1843137254901961,
           "#aedea3"
          ],
          [
           0.18823529411764706,
           "#b1dfa3"
          ],
          [
           0.19215686274509805,
           "#b3e0a2"
          ],
          [
           0.19607843137254902,
           "#b5e1a2"
          ],
          [
           0.2,
           "#b8e2a1"
          ],
          [
           0.20392156862745098,
           "#bce4a0"
          ],
          [
           0.20784313725490197,
           "#bfe5a0"
          ],
          [
           0.21176470588235294,
           "#c1e6a0"
          ],
          [
           0.21568627450980393,
           "#c3e79f"
          ],
          [
           0.2196078431372549,
           "#c6e89f"
          ],
          [
           0.2235294117647059,
           "#c8e99e"
          ],
          [
           0.22745098039215686,
           "#caea9e"
          ],
          [
           0.23137254901960785,
           "#cdeb9d"
          ],
          [
           0.23529411764705882,
           "#cfec9d"
          ],
          [
           0.23921568627450981,
           "#d3ed9c"
          ],
          [
           0.24313725490196078,
           "#d6ee9b"
          ],
          [
           0.24705882352941178,
           "#d8ef9b"
          ],
          [
           0.25098039215686274,
           "#daf09a"
          ],
          [
           0.2549019607843137,
           "#ddf19a"
          ],
          [
           0.25882352941176473,
           "#dff299"
          ],
          [
           0.2627450980392157,
           "#e1f399"
          ],
          [
           0.26666666666666666,
           "#e4f498"
          ],
          [
           0.27058823529411763,
           "#e6f598"
          ],
          [
           0.27450980392156865,
           "#e7f59a"
          ],
          [
           0.2784313725490196,
           "#e8f69b"
          ],
          [
           0.2823529411764706,
           "#e9f69d"
          ],
          [
           0.28627450980392155,
           "#eaf79e"
          ],
          [
           0.2901960784313726,
           "#ebf7a0"
          ],
          [
           0.29411764705882354,
           "#ecf7a1"
          ],
          [
           0.2980392156862745,
           "#edf8a3"
          ],
          [
           0.30196078431372547,
           "#eef8a4"
          ],
          [
           0.3058823529411765,
           "#eff9a6"
          ],
          [
           0.30980392156862746,
           "#f0f9a7"
          ],
          [
           0.3137254901960784,
           "#f1f9a9"
          ],
          [
           0.3176470588235294,
           "#f2faaa"
          ],
          [
           0.3215686274509804,
           "#f3faac"
          ],
          [
           0.3254901960784314,
           "#f4faad"
          ],
          [
           0.32941176470588235,
           "#f5fbaf"
          ],
          [
           0.3333333333333333,
           "#f6fbb0"
          ],
          [
           0.33725490196078434,
           "#f7fcb2"
          ],
          [
           0.3411764705882353,
           "#f8fcb4"
          ],
          [
           0.34509803921568627,
           "#f9fcb5"
          ],
          [
           0.34901960784313724,
           "#fafdb7"
          ],
          [
           0.35294117647058826,
           "#fbfdb8"
          ],
          [
           0.3568627450980392,
           "#fcfeba"
          ],
          [
           0.3607843137254902,
           "#fdfebb"
          ],
          [
           0.36470588235294116,
           "#fefebd"
          ],
          [
           0.3686274509803922,
           "#ffffbe"
          ],
          [
           0.37254901960784315,
           "#fffebe"
          ],
          [
           0.3764705882352941,
           "#fffdbc"
          ],
          [
           0.3803921568627451,
           "#fffcba"
          ],
          [
           0.3843137254901961,
           "#fffbb8"
          ],
          [
           0.38823529411764707,
           "#fffab6"
          ],
          [
           0.39215686274509803,
           "#fffab6"
          ],
          [
           0.396078431372549,
           "#fff8b4"
          ],
          [
           0.4,
           "#fff7b2"
          ],
          [
           0.403921568627451,
           "#fff6b0"
          ],
          [
           0.40784313725490196,
           "#fff5ae"
          ],
          [
           0.4117647058823529,
           "#fff3ac"
          ],
          [
           0.41568627450980394,
           "#fff2aa"
          ],
          [
           0.4196078431372549,
           "#fff1a8"
          ],
          [
           0.4235294117647059,
           "#fff0a6"
          ],
          [
           0.42745098039215684,
           "#feefa3"
          ],
          [
           0.43137254901960786,
           "#feeda1"
          ],
          [
           0.43529411764705883,
           "#feec9f"
          ],
          [
           0.4392156862745098,
           "#feec9f"
          ],
          [
           0.44313725490196076,
           "#feeb9d"
          ],
          [
           0.4470588235294118,
           "#feea9b"
          ],
          [
           0.45098039215686275,
           "#fee999"
          ],
          [
           0.4549019607843137,
           "#fee797"
          ],
          [
           0.4588235294117647,
           "#fee695"
          ],
          [
           0.4627450980392157,
           "#fee593"
          ],
          [
           0.4666666666666667,
           "#fee491"
          ],
          [
           0.47058823529411764,
           "#fee28f"
          ],
          [
           0.4745098039215686,
           "#fee28f"
          ],
          [
           0.47843137254901963,
           "#fee18d"
          ],
          [
           0.4823529411764706,
           "#fee08b"
          ],
          [
           0.48627450980392156,
           "#fede89"
          ],
          [
           0.49019607843137253,
           "#fedc88"
          ],
          [
           0.49411764705882355,
           "#feda86"
          ],
          [
           0.4980392156862745,
           "#fed884"
          ],
          [
           0.5019607843137255,
           "#fed683"
          ],
          [
           0.5058823529411764,
           "#fed683"
          ],
          [
           0.5098039215686274,
           "#fed481"
          ],
          [
           0.5137254901960784,
           "#fed27f"
          ],
          [
           0.5176470588235295,
           "#fed07e"
          ],
          [
           0.5215686274509804,
           "#fece7c"
          ],
          [
           0.5254901960784314,
           "#fecc7b"
          ],
          [
           0.5294117647058824,
           "#feca79"
          ],
          [
           0.5333333333333333,
           "#feca79"
          ],
          [
           0.5372549019607843,
           "#fec877"
          ],
          [
           0.5411764705882353,
           "#fdc776"
          ],
          [
           0.5450980392156862,
           "#fdc574"
          ],
          [
           0.5490196078431373,
           "#fdc372"
          ],
          [
           0.5529411764705883,
           "#fdc171"
          ],
          [
           0.5568627450980392,
           "#fdc171"
          ],
          [
           0.5607843137254902,
           "#fdbf6f"
          ],
          [
           0.5647058823529412,
           "#fdbd6d"
          ],
          [
           0.5686274509803921,
           "#fdbb6c"
          ],
          [
           0.5725490196078431,
           "#fdb96a"
          ],
          [
           0.5764705882352941,
           "#fdb768"
          ],
          [
           0.5803921568627451,
           "#fdb768"
          ],
          [
           0.5843137254901961,
           "#fdb567"
          ],
          [
           0.5882352941176471,
           "#fdb365"
          ],
          [
           0.592156862745098,
           "#fdb163"
          ],
          [
           0.596078431372549,
           "#fdaf62"
          ],
          [
           0.6,
           "#fdad60"
          ],
          [
           0.6039215686274509,
           "#fdad60"
          ],
          [
           0.6078431372549019,
           "#fcaa5f"
          ],
          [
           0.611764705882353,
           "#fca85e"
          ],
          [
           0.615686274509804,
           "#fca55d"
          ],
          [
           0.6196078431372549,
           "#fba35c"
          ],
          [
           0.6235294117647059,
           "#fba35c"
          ],
          [
           0.6274509803921569,
           "#fba05b"
          ],
          [
           0.6313725490196078,
           "#fb9d59"
          ],
          [
           0.6352941176470588,
           "#fa9b58"
          ],
          [
           0.6392156862745098,
           "#fa9857"
          ],
          [
           0.6431372549019608,
           "#fa9857"
          ],
          [
           0.6470588235294118,
           "#fa9656"
          ],
          [
           0.6509803921568628,
           "#f99355"
          ],
          [
           0.6549019607843137,
           "#f99153"
          ],
          [
           0.6588235294117647,
           "#f98e52"
          ],
          [
           0.6627450980392157,
           "#f98e52"
          ],
          [
           0.6666666666666666,
           "#f88c51"
          ],
          [
           0.6705882352941176,
           "#f88950"
          ],
          [
           0.6745098039215687,
           "#f8864f"
          ],
          [
           0.6784313725490196,
           "#f7844e"
          ],
          [
           0.6823529411764706,
           "#f7844e"
          ],
          [
           0.6862745098039216,
           "#f7814c"
          ],
          [
           0.6901960784313725,
           "#f67f4b"
          ],
          [
           0.6941176470588235,
           "#f67c4a"
          ],
          [
           0.6980392156862745,
           "#f67a49"
          ],
          [
           0.7019607843137254,
           "#f67a49"
          ],
          [
           0.7058823529411765,
           "#f57748"
          ],
          [
           0.7098039215686275,
           "#f57547"
          ],
          [
           0.7137254901960784,
           "#f57245"
          ],
          [
           0.7176470588235294,
           "#f57245"
          ],
          [
           0.7215686274509804,
           "#f47044"
          ],
          [
           0.7254901960784313,
           "#f46d43"
          ],
          [
           0.7294117647058823,
           "#f36b43"
          ],
          [
           0.7333333333333333,
           "#f26944"
          ],
          [
           0.7372549019607844,
           "#f26944"
          ],
          [
           0.7411764705882353,
           "#f06744"
          ],
          [
           0.7450980392156863,
           "#ef6645"
          ],
          [
           0.7490196078431373,
           "#ee6445"
          ],
          [
           0.7529411764705882,
           "#ee6445"
          ],
          [
           0.7568627450980392,
           "#ed6246"
          ],
          [
           0.7607843137254902,
           "#eb6046"
          ],
          [
           0.7647058823529411,
           "#ea5e47"
          ],
          [
           0.7686274509803922,
           "#ea5e47"
          ],
          [
           0.7725490196078432,
           "#e95c47"
          ],
          [
           0.7764705882352941,
           "#e85b48"
          ],
          [
           0.7803921568627451,
           "#e75948"
          ],
          [
           0.7843137254901961,
           "#e75948"
          ],
          [
           0.788235294117647,
           "#e55749"
          ],
          [
           0.792156862745098,
           "#e45549"
          ],
          [
           0.796078431372549,
           "#e3534a"
          ],
          [
           0.8,
           "#e3534a"
          ],
          [
           0.803921568627451,
           "#e2514a"
          ],
          [
           0.807843137254902,
           "#e1504b"
          ],
          [
           0.8117647058823529,
           "#df4e4b"
          ],
          [
           0.8156862745098039,
           "#df4e4b"
          ],
          [
           0.8196078431372549,
           "#de4c4b"
          ],
          [
           0.8235294117647058,
           "#dd4a4c"
          ],
          [
           0.8274509803921568,
           "#dc484c"
          ],
          [
           0.8313725490196079,
           "#dc484c"
          ],
          [
           0.8352941176470589,
           "#da464d"
          ],
          [
           0.8392156862745098,
           "#d9444d"
          ],
          [
           0.8431372549019608,
           "#d8434e"
          ],
          [
           0.8470588235294118,
           "#d8434e"
          ],
          [
           0.8509803921568627,
           "#d7414e"
          ],
          [
           0.8549019607843137,
           "#d63f4f"
          ],
          [
           0.8588235294117647,
           "#d43d4f"
          ],
          [
           0.8627450980392157,
           "#d43d4f"
          ],
          [
           0.8666666666666667,
           "#d23a4e"
          ],
          [
           0.8705882352941177,
           "#d0384e"
          ],
          [
           0.8745098039215686,
           "#cd364d"
          ],
          [
           0.8784313725490196,
           "#cd364d"
          ],
          [
           0.8823529411764706,
           "#cb334d"
          ],
          [
           0.8862745098039215,
           "#c9314c"
          ],
          [
           0.8901960784313725,
           "#c9314c"
          ],
          [
           0.8941176470588236,
           "#c72e4c"
          ],
          [
           0.8980392156862745,
           "#c52c4b"
          ],
          [
           0.9019607843137255,
           "#c32a4b"
          ],
          [
           0.9058823529411765,
           "#c32a4b"
          ],
          [
           0.9098039215686274,
           "#c1274a"
          ],
          [
           0.9137254901960784,
           "#be254a"
          ],
          [
           0.9176470588235294,
           "#bc2249"
          ],
          [
           0.9215686274509803,
           "#bc2249"
          ],
          [
           0.9254901960784314,
           "#ba2049"
          ],
          [
           0.9294117647058824,
           "#b81e48"
          ],
          [
           0.9333333333333333,
           "#b81e48"
          ],
          [
           0.9372549019607843,
           "#b61b48"
          ],
          [
           0.9411764705882353,
           "#b41947"
          ],
          [
           0.9450980392156862,
           "#b11747"
          ],
          [
           0.9490196078431372,
           "#b11747"
          ],
          [
           0.9529411764705882,
           "#af1446"
          ],
          [
           0.9568627450980393,
           "#ad1246"
          ],
          [
           0.9607843137254902,
           "#ad1246"
          ],
          [
           0.9647058823529412,
           "#ab0f45"
          ],
          [
           0.9686274509803922,
           "#a90d45"
          ],
          [
           0.9725490196078431,
           "#a70b44"
          ],
          [
           0.9764705882352941,
           "#a70b44"
          ],
          [
           0.9803921568627451,
           "#a40844"
          ],
          [
           0.984313725490196,
           "#a20643"
          ],
          [
           0.9882352941176471,
           "#a20643"
          ],
          [
           0.9921568627450981,
           "#a00343"
          ],
          [
           0.996078431372549,
           "#9e0142"
          ],
          [
           1,
           "#9e0142"
          ]
         ]
        },
        "height": 600,
        "legend": {
         "tracegroupgap": 0
        },
        "shapes": [
         {
          "layer": "below",
          "line": {
           "color": "black",
           "width": 2
          },
          "type": "rect",
          "x0": 0,
          "x1": 1,
          "xref": "paper",
          "y0": 0,
          "y1": 1,
          "yref": "paper"
         }
        ],
        "template": {
         "data": {
          "bar": [
           {
            "error_x": {
             "color": "#2a3f5f"
            },
            "error_y": {
             "color": "#2a3f5f"
            },
            "marker": {
             "line": {
              "color": "white",
              "width": 0.5
             },
             "pattern": {
              "fillmode": "overlay",
              "size": 10,
              "solidity": 0.2
             }
            },
            "type": "bar"
           }
          ],
          "barpolar": [
           {
            "marker": {
             "line": {
              "color": "white",
              "width": 0.5
             },
             "pattern": {
              "fillmode": "overlay",
              "size": 10,
              "solidity": 0.2
             }
            },
            "type": "barpolar"
           }
          ],
          "carpet": [
           {
            "aaxis": {
             "endlinecolor": "#2a3f5f",
             "gridcolor": "#C8D4E3",
             "linecolor": "#C8D4E3",
             "minorgridcolor": "#C8D4E3",
             "startlinecolor": "#2a3f5f"
            },
            "baxis": {
             "endlinecolor": "#2a3f5f",
             "gridcolor": "#C8D4E3",
             "linecolor": "#C8D4E3",
             "minorgridcolor": "#C8D4E3",
             "startlinecolor": "#2a3f5f"
            },
            "type": "carpet"
           }
          ],
          "choropleth": [
           {
            "colorbar": {
             "outlinewidth": 0,
             "ticks": ""
            },
            "type": "choropleth"
           }
          ],
          "contour": [
           {
            "colorbar": {
             "outlinewidth": 0,
             "ticks": ""
            },
            "colorscale": [
             [
              0,
              "#0d0887"
             ],
             [
              0.1111111111111111,
              "#46039f"
             ],
             [
              0.2222222222222222,
              "#7201a8"
             ],
             [
              0.3333333333333333,
              "#9c179e"
             ],
             [
              0.4444444444444444,
              "#bd3786"
             ],
             [
              0.5555555555555556,
              "#d8576b"
             ],
             [
              0.6666666666666666,
              "#ed7953"
             ],
             [
              0.7777777777777778,
              "#fb9f3a"
             ],
             [
              0.8888888888888888,
              "#fdca26"
             ],
             [
              1,
              "#f0f921"
             ]
            ],
            "type": "contour"
           }
          ],
          "contourcarpet": [
           {
            "colorbar": {
             "outlinewidth": 0,
             "ticks": ""
            },
            "type": "contourcarpet"
           }
          ],
          "heatmap": [
           {
            "colorbar": {
             "outlinewidth": 0,
             "ticks": ""
            },
            "colorscale": [
             [
              0,
              "#0d0887"
             ],
             [
              0.1111111111111111,
              "#46039f"
             ],
             [
              0.2222222222222222,
              "#7201a8"
             ],
             [
              0.3333333333333333,
              "#9c179e"
             ],
             [
              0.4444444444444444,
              "#bd3786"
             ],
             [
              0.5555555555555556,
              "#d8576b"
             ],
             [
              0.6666666666666666,
              "#ed7953"
             ],
             [
              0.7777777777777778,
              "#fb9f3a"
             ],
             [
              0.8888888888888888,
              "#fdca26"
             ],
             [
              1,
              "#f0f921"
             ]
            ],
            "type": "heatmap"
           }
          ],
          "heatmapgl": [
           {
            "colorbar": {
             "outlinewidth": 0,
             "ticks": ""
            },
            "colorscale": [
             [
              0,
              "#0d0887"
             ],
             [
              0.1111111111111111,
              "#46039f"
             ],
             [
              0.2222222222222222,
              "#7201a8"
             ],
             [
              0.3333333333333333,
              "#9c179e"
             ],
             [
              0.4444444444444444,
              "#bd3786"
             ],
             [
              0.5555555555555556,
              "#d8576b"
             ],
             [
              0.6666666666666666,
              "#ed7953"
             ],
             [
              0.7777777777777778,
              "#fb9f3a"
             ],
             [
              0.8888888888888888,
              "#fdca26"
             ],
             [
              1,
              "#f0f921"
             ]
            ],
            "type": "heatmapgl"
           }
          ],
          "histogram": [
           {
            "marker": {
             "pattern": {
              "fillmode": "overlay",
              "size": 10,
              "solidity": 0.2
             }
            },
            "type": "histogram"
           }
          ],
          "histogram2d": [
           {
            "colorbar": {
             "outlinewidth": 0,
             "ticks": ""
            },
            "colorscale": [
             [
              0,
              "#0d0887"
             ],
             [
              0.1111111111111111,
              "#46039f"
             ],
             [
              0.2222222222222222,
              "#7201a8"
             ],
             [
              0.3333333333333333,
              "#9c179e"
             ],
             [
              0.4444444444444444,
              "#bd3786"
             ],
             [
              0.5555555555555556,
              "#d8576b"
             ],
             [
              0.6666666666666666,
              "#ed7953"
             ],
             [
              0.7777777777777778,
              "#fb9f3a"
             ],
             [
              0.8888888888888888,
              "#fdca26"
             ],
             [
              1,
              "#f0f921"
             ]
            ],
            "type": "histogram2d"
           }
          ],
          "histogram2dcontour": [
           {
            "colorbar": {
             "outlinewidth": 0,
             "ticks": ""
            },
            "colorscale": [
             [
              0,
              "#0d0887"
             ],
             [
              0.1111111111111111,
              "#46039f"
             ],
             [
              0.2222222222222222,
              "#7201a8"
             ],
             [
              0.3333333333333333,
              "#9c179e"
             ],
             [
              0.4444444444444444,
              "#bd3786"
             ],
             [
              0.5555555555555556,
              "#d8576b"
             ],
             [
              0.6666666666666666,
              "#ed7953"
             ],
             [
              0.7777777777777778,
              "#fb9f3a"
             ],
             [
              0.8888888888888888,
              "#fdca26"
             ],
             [
              1,
              "#f0f921"
             ]
            ],
            "type": "histogram2dcontour"
           }
          ],
          "mesh3d": [
           {
            "colorbar": {
             "outlinewidth": 0,
             "ticks": ""
            },
            "type": "mesh3d"
           }
          ],
          "parcoords": [
           {
            "line": {
             "colorbar": {
              "outlinewidth": 0,
              "ticks": ""
             }
            },
            "type": "parcoords"
           }
          ],
          "pie": [
           {
            "automargin": true,
            "type": "pie"
           }
          ],
          "scatter": [
           {
            "fillpattern": {
             "fillmode": "overlay",
             "size": 10,
             "solidity": 0.2
            },
            "type": "scatter"
           }
          ],
          "scatter3d": [
           {
            "line": {
             "colorbar": {
              "outlinewidth": 0,
              "ticks": ""
             }
            },
            "marker": {
             "colorbar": {
              "outlinewidth": 0,
              "ticks": ""
             }
            },
            "type": "scatter3d"
           }
          ],
          "scattercarpet": [
           {
            "marker": {
             "colorbar": {
              "outlinewidth": 0,
              "ticks": ""
             }
            },
            "type": "scattercarpet"
           }
          ],
          "scattergeo": [
           {
            "marker": {
             "colorbar": {
              "outlinewidth": 0,
              "ticks": ""
             }
            },
            "type": "scattergeo"
           }
          ],
          "scattergl": [
           {
            "marker": {
             "colorbar": {
              "outlinewidth": 0,
              "ticks": ""
             }
            },
            "type": "scattergl"
           }
          ],
          "scattermapbox": [
           {
            "marker": {
             "colorbar": {
              "outlinewidth": 0,
              "ticks": ""
             }
            },
            "type": "scattermapbox"
           }
          ],
          "scatterpolar": [
           {
            "marker": {
             "colorbar": {
              "outlinewidth": 0,
              "ticks": ""
             }
            },
            "type": "scatterpolar"
           }
          ],
          "scatterpolargl": [
           {
            "marker": {
             "colorbar": {
              "outlinewidth": 0,
              "ticks": ""
             }
            },
            "type": "scatterpolargl"
           }
          ],
          "scatterternary": [
           {
            "marker": {
             "colorbar": {
              "outlinewidth": 0,
              "ticks": ""
             }
            },
            "type": "scatterternary"
           }
          ],
          "surface": [
           {
            "colorbar": {
             "outlinewidth": 0,
             "ticks": ""
            },
            "colorscale": [
             [
              0,
              "#0d0887"
             ],
             [
              0.1111111111111111,
              "#46039f"
             ],
             [
              0.2222222222222222,
              "#7201a8"
             ],
             [
              0.3333333333333333,
              "#9c179e"
             ],
             [
              0.4444444444444444,
              "#bd3786"
             ],
             [
              0.5555555555555556,
              "#d8576b"
             ],
             [
              0.6666666666666666,
              "#ed7953"
             ],
             [
              0.7777777777777778,
              "#fb9f3a"
             ],
             [
              0.8888888888888888,
              "#fdca26"
             ],
             [
              1,
              "#f0f921"
             ]
            ],
            "type": "surface"
           }
          ],
          "table": [
           {
            "cells": {
             "fill": {
              "color": "#EBF0F8"
             },
             "line": {
              "color": "white"
             }
            },
            "header": {
             "fill": {
              "color": "#C8D4E3"
             },
             "line": {
              "color": "white"
             }
            },
            "type": "table"
           }
          ]
         },
         "layout": {
          "annotationdefaults": {
           "arrowcolor": "#2a3f5f",
           "arrowhead": 0,
           "arrowwidth": 1
          },
          "autotypenumbers": "strict",
          "coloraxis": {
           "colorbar": {
            "outlinewidth": 0,
            "ticks": ""
           }
          },
          "colorscale": {
           "diverging": [
            [
             0,
             "#8e0152"
            ],
            [
             0.1,
             "#c51b7d"
            ],
            [
             0.2,
             "#de77ae"
            ],
            [
             0.3,
             "#f1b6da"
            ],
            [
             0.4,
             "#fde0ef"
            ],
            [
             0.5,
             "#f7f7f7"
            ],
            [
             0.6,
             "#e6f5d0"
            ],
            [
             0.7,
             "#b8e186"
            ],
            [
             0.8,
             "#7fbc41"
            ],
            [
             0.9,
             "#4d9221"
            ],
            [
             1,
             "#276419"
            ]
           ],
           "sequential": [
            [
             0,
             "#0d0887"
            ],
            [
             0.1111111111111111,
             "#46039f"
            ],
            [
             0.2222222222222222,
             "#7201a8"
            ],
            [
             0.3333333333333333,
             "#9c179e"
            ],
            [
             0.4444444444444444,
             "#bd3786"
            ],
            [
             0.5555555555555556,
             "#d8576b"
            ],
            [
             0.6666666666666666,
             "#ed7953"
            ],
            [
             0.7777777777777778,
             "#fb9f3a"
            ],
            [
             0.8888888888888888,
             "#fdca26"
            ],
            [
             1,
             "#f0f921"
            ]
           ],
           "sequentialminus": [
            [
             0,
             "#0d0887"
            ],
            [
             0.1111111111111111,
             "#46039f"
            ],
            [
             0.2222222222222222,
             "#7201a8"
            ],
            [
             0.3333333333333333,
             "#9c179e"
            ],
            [
             0.4444444444444444,
             "#bd3786"
            ],
            [
             0.5555555555555556,
             "#d8576b"
            ],
            [
             0.6666666666666666,
             "#ed7953"
            ],
            [
             0.7777777777777778,
             "#fb9f3a"
            ],
            [
             0.8888888888888888,
             "#fdca26"
            ],
            [
             1,
             "#f0f921"
            ]
           ]
          },
          "colorway": [
           "#636efa",
           "#EF553B",
           "#00cc96",
           "#ab63fa",
           "#FFA15A",
           "#19d3f3",
           "#FF6692",
           "#B6E880",
           "#FF97FF",
           "#FECB52"
          ],
          "font": {
           "color": "#2a3f5f"
          },
          "geo": {
           "bgcolor": "white",
           "lakecolor": "white",
           "landcolor": "white",
           "showlakes": true,
           "showland": true,
           "subunitcolor": "#C8D4E3"
          },
          "hoverlabel": {
           "align": "left"
          },
          "hovermode": "closest",
          "mapbox": {
           "style": "light"
          },
          "paper_bgcolor": "white",
          "plot_bgcolor": "white",
          "polar": {
           "angularaxis": {
            "gridcolor": "#EBF0F8",
            "linecolor": "#EBF0F8",
            "ticks": ""
           },
           "bgcolor": "white",
           "radialaxis": {
            "gridcolor": "#EBF0F8",
            "linecolor": "#EBF0F8",
            "ticks": ""
           }
          },
          "scene": {
           "xaxis": {
            "backgroundcolor": "white",
            "gridcolor": "#DFE8F3",
            "gridwidth": 2,
            "linecolor": "#EBF0F8",
            "showbackground": true,
            "ticks": "",
            "zerolinecolor": "#EBF0F8"
           },
           "yaxis": {
            "backgroundcolor": "white",
            "gridcolor": "#DFE8F3",
            "gridwidth": 2,
            "linecolor": "#EBF0F8",
            "showbackground": true,
            "ticks": "",
            "zerolinecolor": "#EBF0F8"
           },
           "zaxis": {
            "backgroundcolor": "white",
            "gridcolor": "#DFE8F3",
            "gridwidth": 2,
            "linecolor": "#EBF0F8",
            "showbackground": true,
            "ticks": "",
            "zerolinecolor": "#EBF0F8"
           }
          },
          "shapedefaults": {
           "line": {
            "color": "#2a3f5f"
           }
          },
          "ternary": {
           "aaxis": {
            "gridcolor": "#DFE8F3",
            "linecolor": "#A2B1C6",
            "ticks": ""
           },
           "baxis": {
            "gridcolor": "#DFE8F3",
            "linecolor": "#A2B1C6",
            "ticks": ""
           },
           "bgcolor": "white",
           "caxis": {
            "gridcolor": "#DFE8F3",
            "linecolor": "#A2B1C6",
            "ticks": ""
           }
          },
          "title": {
           "x": 0.05
          },
          "xaxis": {
           "automargin": true,
           "gridcolor": "#EBF0F8",
           "linecolor": "#EBF0F8",
           "ticks": "",
           "title": {
            "standoff": 15
           },
           "zerolinecolor": "#EBF0F8",
           "zerolinewidth": 2
          },
          "yaxis": {
           "automargin": true,
           "gridcolor": "#EBF0F8",
           "linecolor": "#EBF0F8",
           "ticks": "",
           "title": {
            "standoff": 15
           },
           "zerolinecolor": "#EBF0F8",
           "zerolinewidth": 2
          }
         }
        },
        "title": {
         "text": "target_d_eff vs error colored by dqfim_d_eff"
        },
        "width": 1000,
        "xaxis": {
         "anchor": "y",
         "domain": [
          0,
          1
         ],
         "gridcolor": "lightgray",
         "gridwidth": 1,
         "showgrid": true,
         "title": {
          "text": "target_d_eff"
         }
        },
        "yaxis": {
         "anchor": "x",
         "domain": [
          0,
          1
         ],
         "gridcolor": "lightgray",
         "gridwidth": 1,
         "showgrid": true,
         "title": {
          "text": "error"
         }
        }
       }
      }
     },
     "metadata": {},
     "output_type": "display_data"
    }
   ],
   "source": [
    "import plotly.express as px\n",
    "import seaborn as sns\n",
    "import matplotlib.colors as mcolors\n",
    "from matplotlib.colors import LinearSegmentedColormap, PowerNorm\n",
    "# Example of building a custom colormap\n",
    "n_colors = 100\n",
    "\n",
    "def plot_two_metrics_with_color(\n",
    "    df,\n",
    "    x_qfim_type,\n",
    "    x_metric,\n",
    "    y_qfim_type,\n",
    "    y_metric,\n",
    "    color_metric,\n",
    "    title=None,\n",
    "    add_trendline=True,\n",
    "    n_colors=256,\n",
    "    gamma=0.7,\n",
    "    width=1000,\n",
    "    height=600\n",
    "):\n",
    "    \"\"\"\n",
    "    Create a scatter plot comparing two metrics (x and y axes), potentially from \n",
    "    different QFIM types, with points colored by a third metric.\n",
    "    \n",
    "    If x_qfim_type or y_qfim_type is None, we assume that x_metric or y_metric\n",
    "    is already a column in df (e.g. \"error\", \"avg_fidelity\").\n",
    "\n",
    "    Parameters\n",
    "    ----------\n",
    "    df : pd.DataFrame\n",
    "        DataFrame with one row per test_key (or per gate) containing QFIM metrics.\n",
    "    x_qfim_type : str or None\n",
    "        QFIM type for the x-axis metric (e.g. \"GHZ\", \"basis\", \"dqfim\", \"target\") \n",
    "        or None if x_metric is already a column in df with no prefix.\n",
    "    x_metric : str\n",
    "        The metric name for the x-axis (no prefix if x_qfim_type is None).\n",
    "    y_qfim_type : str or None\n",
    "        QFIM type for the y-axis metric, or None if y_metric is already a column in df.\n",
    "    y_metric : str\n",
    "        The metric name for the y-axis (no prefix if y_qfim_type is None).\n",
    "    color_metric : str\n",
    "        The column name (or QFIM metric name) used for coloring the points.\n",
    "        (If you want to color by a QFIM metric with a prefix, pass the full col name.)\n",
    "    title : str, optional\n",
    "        Custom title for the plot. If None, a default is generated.\n",
    "    add_trendline : bool, optional\n",
    "        If True, add an Ordinary Least Squares (OLS) trendline across all points.\n",
    "    n_colors : int, optional\n",
    "        Number of steps in the custom colormap.\n",
    "    width, height : int\n",
    "        Plot width and height in pixels.\n",
    "\n",
    "    Returns\n",
    "    -------\n",
    "    fig : plotly.graph_objects.Figure\n",
    "        Scatter plot with custom color scale, bounding box, black marker borders, \n",
    "        and optional OLS trend line.\n",
    "    \"\"\"\n",
    "    # 1) Construct the full column names for x and y\n",
    "    if x_qfim_type is not None:\n",
    "        x_col = f\"{x_qfim_type}_{x_metric}\"\n",
    "    else:\n",
    "        x_col = x_metric  # no prefix\n",
    "\n",
    "    if y_qfim_type is not None:\n",
    "        y_col = f\"{y_qfim_type}_{y_metric}\"\n",
    "    else:\n",
    "        y_col = y_metric  # no prefix\n",
    "\n",
    "    color_col = color_metric  # e.g., \"avg_fidelity\", or \"target_abbas_deff_norm\", etc.\n",
    "\n",
    "    # Ensure required columns exist.\n",
    "    for col in [x_col, y_col, color_col]:\n",
    "        if col not in df.columns:\n",
    "            raise ValueError(f\"Column '{col}' not found in the DataFrame.\")\n",
    "\n",
    "    # 2. Subset the DataFrame to only rows that have non-null x and y values.\n",
    "    df_plot = df[[x_col, y_col, color_col, \"test_key\"]].dropna()\n",
    "\n",
    "    # 3. Compute the min and max for the color metric from only the plotted rows.\n",
    "    data_min = df_plot[color_col].min()\n",
    "    data_max = df_plot[color_col].max()\n",
    "    if np.isclose(data_min, data_max):\n",
    "        data_max = data_min + 1e-12\n",
    "\n",
    "    # Optionally adjust the lower bound.\n",
    "    adj_min = data_min - 0.0 * abs(data_min)\n",
    "    # Print the rows corresponding to the minimum and maximum values.\n",
    "    min_rows = df_plot[df_plot[color_col] == data_min]\n",
    "    max_rows = df_plot[df_plot[color_col] == data_max]\n",
    "    print(f\"Color column '{color_col}' minimum value: {data_min}\")\n",
    "    print(\"Rows corresponding to minimum value:\")\n",
    "    print(min_rows)\n",
    "    print(f\"Color column '{color_col}' maximum value: {data_max}\")\n",
    "    print(\"Rows corresponding to maximum value:\")\n",
    "    print(max_rows)\n",
    "\n",
    "    print(f\"\\nadj_min: {adj_min}\")\n",
    "\n",
    "    # Create a PowerNorm based on the adjusted min and data_max.\n",
    "    norm = PowerNorm(gamma=gamma, vmin=adj_min, vmax=data_max)\n",
    "    # Create n_colors evenly spaced values between data_min and data_max.\n",
    "    values = np.linspace(data_min, data_max, n_colors)\n",
    "    normed_values = norm(values)\n",
    "    # Use a reversed Spectral palette from seaborn.\n",
    "    base_colormap = sns.color_palette(\"Spectral\", as_cmap=True).reversed()\n",
    "    colors_rgba = base_colormap(normed_values)\n",
    "    # Build a Matplotlib colormap and convert to a list of hex strings for Plotly.\n",
    "    custom_cmap = LinearSegmentedColormap.from_list('vibrant', colors_rgba, N=n_colors)\n",
    "    plotly_color_scale = [mcolors.to_hex(custom_cmap(i)) for i in np.linspace(0, 1, n_colors)]\n",
    "\n",
    "    # 3) Trend line options\n",
    "    trendline_option = \"ols\" if add_trendline else None\n",
    "    # 4. Create the scatter plot\n",
    "    #    trendline_scope=\"overall\" forces a single line across the entire dataset.\n",
    "    fig = px.scatter(\n",
    "        df,\n",
    "        x=x_col,\n",
    "        y=y_col,\n",
    "        color=color_col,\n",
    "        # color_continuous_scale='viridis_r',\n",
    "        color_continuous_scale = plotly_color_scale,\n",
    "        title=title if title else f\"{x_col} vs {y_col} colored by {color_col}\",\n",
    "        hover_data=[\"test_key\"],\n",
    "        template=\"plotly_white\",\n",
    "        trendline=trendline_option,\n",
    "        trendline_scope=\"overall\",\n",
    "        trendline_color_override=\"red\",\n",
    "        width=width,\n",
    "        height=height\n",
    "    )\n",
    "\n",
    "\n",
    "    # 5. Marker styling: bigger, black border\n",
    "    fig.update_traces(\n",
    "        marker=dict(\n",
    "            size=12,\n",
    "            line=dict(width=0.75, color=\"black\"),\n",
    "            symbol=\"circle\"\n",
    "        )\n",
    "    )\n",
    "\n",
    "    # 6. Adjust color bar: make it the full height of the plot\n",
    "    fig.update_layout(\n",
    "        coloraxis_colorbar=dict(\n",
    "            title=color_col,\n",
    "            len=1.1,            # 100% of plot height\n",
    "            thickness=35,       # adjust width of the color bar\n",
    "            yanchor=\"middle\",   # center it vertically\n",
    "            x=1.0,             # shift slightly to the right\n",
    "            y=0.53\n",
    "        ),\n",
    "        shapes=[\n",
    "            dict(\n",
    "                type=\"rect\",\n",
    "                xref=\"paper\", yref=\"paper\",\n",
    "                x0=0, y0=0, x1=1, y1=1,\n",
    "                line=dict(color=\"black\", width=2),\n",
    "                layer=\"below\"\n",
    "            )\n",
    "        ]\n",
    "    )\n",
    "    fig.update_xaxes(\n",
    "    showgrid=True, \n",
    "    gridwidth=1, \n",
    "    gridcolor=\"lightgray\"   # or another color\n",
    ")\n",
    "    fig.update_yaxes(\n",
    "        showgrid=True, \n",
    "        gridwidth=1, \n",
    "        gridcolor=\"lightgray\"\n",
    "    )\n",
    "    # fig.update_layout(\n",
    "    #     coloraxis_colorbar=dict(\n",
    "    #         title=color_col,\n",
    "    #         len=1.1,\n",
    "    #         thickness=35,\n",
    "    #         y=0.53,            # center vertically\n",
    "    #         # yanchor=\"middle\",\n",
    "    #         x=1.0           # shift to the right\n",
    "    #     ),\n",
    "    #     shapes=[\n",
    "    #         dict(\n",
    "    #             type=\"rect\",\n",
    "    #             xref=\"paper\", yref=\"paper\",\n",
    "    #             x0=0, y0=0, x1=1, y1=1,\n",
    "    #             line=dict(color=\"black\", width=2),\n",
    "    #             layer=\"below\"\n",
    "    #         )\n",
    "    #     ]\n",
    "    # )\n",
    "\n",
    "    return fig\n",
    "\n",
    "\n",
    "\n",
    "fig = plot_two_metrics_with_color(\n",
    "    df_final,\n",
    "    x_qfim_type=\"target\",\n",
    "   \n",
    "    x_metric=\"d_eff\",\n",
    "    y_qfim_type=None,\n",
    "    y_metric=\"error\",\n",
    "    color_metric=\"dqfim_d_eff\",\n",
    "    add_trendline=False\n",
    ")\n",
    "fig.show() \n",
    "\n",
    "\n",
    "\n",
    "# 'basis_spread_metric_mad','basis_trace_normalized_by_rank','basis_var_all_normalized_by_rank'"
   ]
  },
  {
   "cell_type": "code",
   "execution_count": 265,
   "metadata": {},
   "outputs": [
    {
     "name": "stdout",
     "output_type": "stream",
     "text": [
      "Color column 'avg_fidelity' minimum value: 0.9900017156636947\n",
      "Rows corresponding to minimum value:\n",
      "   basis_trace_normalized_by_rank  basis_var_all_normalized_by_rank  \\\n",
      "9                         5.68657                          11.52253   \n",
      "\n",
      "   avg_fidelity test_key  \n",
      "9      0.990002  test139  \n",
      "Color column 'avg_fidelity' maximum value: 0.998216065542773\n",
      "Rows corresponding to maximum value:\n",
      "    basis_trace_normalized_by_rank  basis_var_all_normalized_by_rank  \\\n",
      "10                        1.625241                          0.463889   \n",
      "\n",
      "    avg_fidelity test_key  \n",
      "10      0.998216  test146  \n",
      "\n",
      "adj_min: 0.9900017156636947\n"
     ]
    },
    {
     "data": {
      "application/vnd.plotly.v1+json": {
       "config": {
        "plotlyServerURL": "https://plot.ly"
       },
       "data": [
        {
         "customdata": [
          [
           "test0"
          ],
          [
           "test1"
          ],
          [
           "test104"
          ],
          [
           "test110"
          ],
          [
           "test12"
          ],
          [
           "test122"
          ],
          [
           "test124"
          ],
          [
           "test128"
          ],
          [
           "test129"
          ],
          [
           "test139"
          ],
          [
           "test146"
          ],
          [
           "test170"
          ],
          [
           "test175"
          ],
          [
           "test176"
          ],
          [
           "test18"
          ],
          [
           "test197"
          ],
          [
           "test200"
          ],
          [
           "test235"
          ],
          [
           "test252"
          ],
          [
           "test255"
          ],
          [
           "test261"
          ],
          [
           "test262"
          ],
          [
           "test270"
          ],
          [
           "test275"
          ],
          [
           "test276"
          ],
          [
           "test277"
          ],
          [
           "test288"
          ],
          [
           "test298"
          ],
          [
           "test300"
          ],
          [
           "test319"
          ],
          [
           "test322"
          ],
          [
           "test325"
          ],
          [
           "test352"
          ],
          [
           "test375"
          ],
          [
           "test398"
          ],
          [
           "test399"
          ],
          [
           "test6"
          ],
          [
           "test7"
          ],
          [
           "test79"
          ]
         ],
         "hovertemplate": "basis_trace_normalized_by_rank=%{x}<br>basis_var_all_normalized_by_rank=%{y}<br>test_key=%{customdata[0]}<br>avg_fidelity=%{marker.color}<extra></extra>",
         "legendgroup": "",
         "marker": {
          "color": [
           0.9953073096834041,
           0.9962671574251073,
           0.9939684627710406,
           0.9948164305596187,
           0.9949358075641807,
           0.9955349803502983,
           0.9964562812624257,
           0.9940290557836039,
           0.9964909954921144,
           0.9900017156636947,
           0.998216065542773,
           0.991650243387949,
           0.9955068319215311,
           0.9965850144454615,
           0.9976549503796877,
           0.9942238870884067,
           0.9933856130143153,
           0.9975158272280436,
           0.9976059854451036,
           0.997315965932197,
           0.9955065351967188,
           0.9968300324305538,
           0.9966999925710975,
           0.9940770571884405,
           0.9955991393823564,
           0.9940613765481685,
           0.9947620497073061,
           0.9961579517033786,
           0.9966030674777188,
           0.9973830759387189,
           0.9911672368043564,
           0.9962676593388362,
           0.9948819382852884,
           0.9948206520983145,
           0.993609017503163,
           0.9929105844438204,
           0.994897776497506,
           0.9967950261443178,
           0.9951500023200506
          ],
          "coloraxis": "coloraxis",
          "line": {
           "color": "black",
           "width": 0.75
          },
          "size": 12,
          "symbol": "circle"
         },
         "mode": "markers",
         "name": "",
         "orientation": "v",
         "showlegend": false,
         "type": "scatter",
         "x": [
          1.8949629862638782,
          2.7699612050166857,
          3.9910082106451226,
          2.8876760594041877,
          3.110461395529516,
          4.330457299193465,
          5.6678947856847115,
          2.545018553582001,
          1.3054653403900678,
          5.686570431896143,
          1.625240686393833,
          2.1880849856058773,
          2.5117853834851,
          1.6314802572998208,
          0.761216645421185,
          1.0200089354720807,
          4.010694437406831,
          3.0400776259367075,
          4.916975133008236,
          2.132213631182458,
          1.3532231430064106,
          4.816606862216697,
          3.9025634140862775,
          3.959228192496933,
          2.2447666819938603,
          3.104524650778027,
          1.3234404026882356,
          2.601191866489171,
          1.5652401208832696,
          1.6231428656329325,
          4.681219320217739,
          0.30667710987596053,
          2.1854931799864667,
          0.42705742153554144,
          1.776516634316916,
          1.8426604195112304,
          3.0444420177575315,
          2.177982988456195,
          3.400728984439047
         ],
         "xaxis": "x",
         "y": [
          0.5919117921623835,
          1.458491400576876,
          5.05913909755286,
          1.9320843148542057,
          2.144577858794413,
          5.475514479286705,
          10.522418518466129,
          1.5687267053377807,
          0.1984110009438366,
          11.52253000624612,
          0.4638887903446541,
          0.9439315416952282,
          1.311702448931419,
          0.4734320550436208,
          0.0719243566763846,
          0.44850532780665125,
          4.572777014954131,
          1.6407090091452912,
          8.712247425210137,
          0.7051509137148201,
          0.43074014644730724,
          8.122092114437073,
          4.243018859712572,
          4.238232018260151,
          1.2440017105418115,
          1.4656852842720025,
          0.23140343649800502,
          1.0567371402155523,
          0.3229171530263321,
          0.22677050789184214,
          3.845183659846092,
          0.022489965182484258,
          1.0744203163437929,
          0.027547475759219908,
          0.7906033916420789,
          0.4679609156575953,
          1.7446952346408766,
          0.8824132410471691,
          2.0429122691677297
         ],
         "yaxis": "y"
        }
       ],
       "layout": {
        "coloraxis": {
         "colorbar": {
          "len": 1.1,
          "thickness": 35,
          "title": {
           "text": "avg_fidelity"
          },
          "x": 1,
          "y": 0.53,
          "yanchor": "middle"
         },
         "colorscale": [
          [
           0,
           "#5e4fa2"
          ],
          [
           0.00392156862745098,
           "#555aa7"
          ],
          [
           0.00784313725490196,
           "#5061aa"
          ],
          [
           0.011764705882352941,
           "#4b68ae"
          ],
          [
           0.01568627450980392,
           "#486cb0"
          ],
          [
           0.0196078431372549,
           "#4273b3"
          ],
          [
           0.023529411764705882,
           "#3f77b5"
          ],
          [
           0.027450980392156862,
           "#3b7cb7"
          ],
          [
           0.03137254901960784,
           "#3880b9"
          ],
          [
           0.03529411764705882,
           "#3585bb"
          ],
          [
           0.0392156862745098,
           "#3389bd"
          ],
          [
           0.043137254901960784,
           "#378ebb"
          ],
          [
           0.047058823529411764,
           "#3b92b9"
          ],
          [
           0.050980392156862744,
           "#3d95b8"
          ],
          [
           0.054901960784313725,
           "#4199b6"
          ],
          [
           0.058823529411764705,
           "#459eb4"
          ],
          [
           0.06274509803921569,
           "#47a0b3"
          ],
          [
           0.06666666666666667,
           "#4ba4b1"
          ],
          [
           0.07058823529411765,
           "#50a9af"
          ],
          [
           0.07450980392156863,
           "#52abae"
          ],
          [
           0.0784313725490196,
           "#56b0ad"
          ],
          [
           0.08235294117647059,
           "#58b2ac"
          ],
          [
           0.08627450980392157,
           "#5cb7aa"
          ],
          [
           0.09019607843137255,
           "#5eb9a9"
          ],
          [
           0.09411764705882353,
           "#60bba8"
          ],
          [
           0.09803921568627451,
           "#64c0a6"
          ],
          [
           0.10196078431372549,
           "#66c2a5"
          ],
          [
           0.10588235294117647,
           "#6bc4a5"
          ],
          [
           0.10980392156862745,
           "#6ec5a5"
          ],
          [
           0.11372549019607843,
           "#71c6a5"
          ],
          [
           0.11764705882352941,
           "#76c8a5"
          ],
          [
           0.12156862745098039,
           "#79c9a5"
          ],
          [
           0.12549019607843137,
           "#7ccaa5"
          ],
          [
           0.12941176470588237,
           "#81cda5"
          ],
          [
           0.13333333333333333,
           "#84cea5"
          ],
          [
           0.13725490196078433,
           "#86cfa5"
          ],
          [
           0.1411764705882353,
           "#8cd1a4"
          ],
          [
           0.1450980392156863,
           "#8fd2a4"
          ],
          [
           0.14901960784313725,
           "#91d3a4"
          ],
          [
           0.15294117647058825,
           "#94d4a4"
          ],
          [
           0.1568627450980392,
           "#99d6a4"
          ],
          [
           0.1607843137254902,
           "#9cd7a4"
          ],
          [
           0.16470588235294117,
           "#9fd8a4"
          ],
          [
           0.16862745098039217,
           "#a2d9a4"
          ],
          [
           0.17254901960784313,
           "#a4daa4"
          ],
          [
           0.17647058823529413,
           "#aadca4"
          ],
          [
           0.1803921568627451,
           "#acdda4"
          ],
          [
           0.1843137254901961,
           "#aedea3"
          ],
          [
           0.18823529411764706,
           "#b1dfa3"
          ],
          [
           0.19215686274509805,
           "#b3e0a2"
          ],
          [
           0.19607843137254902,
           "#b5e1a2"
          ],
          [
           0.2,
           "#b8e2a1"
          ],
          [
           0.20392156862745098,
           "#bce4a0"
          ],
          [
           0.20784313725490197,
           "#bfe5a0"
          ],
          [
           0.21176470588235294,
           "#c1e6a0"
          ],
          [
           0.21568627450980393,
           "#c3e79f"
          ],
          [
           0.2196078431372549,
           "#c6e89f"
          ],
          [
           0.2235294117647059,
           "#c8e99e"
          ],
          [
           0.22745098039215686,
           "#caea9e"
          ],
          [
           0.23137254901960785,
           "#cdeb9d"
          ],
          [
           0.23529411764705882,
           "#cfec9d"
          ],
          [
           0.23921568627450981,
           "#d3ed9c"
          ],
          [
           0.24313725490196078,
           "#d6ee9b"
          ],
          [
           0.24705882352941178,
           "#d8ef9b"
          ],
          [
           0.25098039215686274,
           "#daf09a"
          ],
          [
           0.2549019607843137,
           "#ddf19a"
          ],
          [
           0.25882352941176473,
           "#dff299"
          ],
          [
           0.2627450980392157,
           "#e1f399"
          ],
          [
           0.26666666666666666,
           "#e4f498"
          ],
          [
           0.27058823529411763,
           "#e6f598"
          ],
          [
           0.27450980392156865,
           "#e7f59a"
          ],
          [
           0.2784313725490196,
           "#e8f69b"
          ],
          [
           0.2823529411764706,
           "#e9f69d"
          ],
          [
           0.28627450980392155,
           "#eaf79e"
          ],
          [
           0.2901960784313726,
           "#ebf7a0"
          ],
          [
           0.29411764705882354,
           "#ecf7a1"
          ],
          [
           0.2980392156862745,
           "#edf8a3"
          ],
          [
           0.30196078431372547,
           "#eef8a4"
          ],
          [
           0.3058823529411765,
           "#eff9a6"
          ],
          [
           0.30980392156862746,
           "#f0f9a7"
          ],
          [
           0.3137254901960784,
           "#f1f9a9"
          ],
          [
           0.3176470588235294,
           "#f2faaa"
          ],
          [
           0.3215686274509804,
           "#f3faac"
          ],
          [
           0.3254901960784314,
           "#f4faad"
          ],
          [
           0.32941176470588235,
           "#f5fbaf"
          ],
          [
           0.3333333333333333,
           "#f6fbb0"
          ],
          [
           0.33725490196078434,
           "#f7fcb2"
          ],
          [
           0.3411764705882353,
           "#f8fcb4"
          ],
          [
           0.34509803921568627,
           "#f9fcb5"
          ],
          [
           0.34901960784313724,
           "#fafdb7"
          ],
          [
           0.35294117647058826,
           "#fbfdb8"
          ],
          [
           0.3568627450980392,
           "#fcfeba"
          ],
          [
           0.3607843137254902,
           "#fdfebb"
          ],
          [
           0.36470588235294116,
           "#fefebd"
          ],
          [
           0.3686274509803922,
           "#ffffbe"
          ],
          [
           0.37254901960784315,
           "#fffebe"
          ],
          [
           0.3764705882352941,
           "#fffdbc"
          ],
          [
           0.3803921568627451,
           "#fffcba"
          ],
          [
           0.3843137254901961,
           "#fffbb8"
          ],
          [
           0.38823529411764707,
           "#fffab6"
          ],
          [
           0.39215686274509803,
           "#fffab6"
          ],
          [
           0.396078431372549,
           "#fff8b4"
          ],
          [
           0.4,
           "#fff7b2"
          ],
          [
           0.403921568627451,
           "#fff6b0"
          ],
          [
           0.40784313725490196,
           "#fff5ae"
          ],
          [
           0.4117647058823529,
           "#fff3ac"
          ],
          [
           0.41568627450980394,
           "#fff2aa"
          ],
          [
           0.4196078431372549,
           "#fff1a8"
          ],
          [
           0.4235294117647059,
           "#fff0a6"
          ],
          [
           0.42745098039215684,
           "#feefa3"
          ],
          [
           0.43137254901960786,
           "#feeda1"
          ],
          [
           0.43529411764705883,
           "#feec9f"
          ],
          [
           0.4392156862745098,
           "#feec9f"
          ],
          [
           0.44313725490196076,
           "#feeb9d"
          ],
          [
           0.4470588235294118,
           "#feea9b"
          ],
          [
           0.45098039215686275,
           "#fee999"
          ],
          [
           0.4549019607843137,
           "#fee797"
          ],
          [
           0.4588235294117647,
           "#fee695"
          ],
          [
           0.4627450980392157,
           "#fee593"
          ],
          [
           0.4666666666666667,
           "#fee491"
          ],
          [
           0.47058823529411764,
           "#fee28f"
          ],
          [
           0.4745098039215686,
           "#fee28f"
          ],
          [
           0.47843137254901963,
           "#fee18d"
          ],
          [
           0.4823529411764706,
           "#fee08b"
          ],
          [
           0.48627450980392156,
           "#fede89"
          ],
          [
           0.49019607843137253,
           "#fedc88"
          ],
          [
           0.49411764705882355,
           "#feda86"
          ],
          [
           0.4980392156862745,
           "#fed884"
          ],
          [
           0.5019607843137255,
           "#fed683"
          ],
          [
           0.5058823529411764,
           "#fed683"
          ],
          [
           0.5098039215686274,
           "#fed481"
          ],
          [
           0.5137254901960784,
           "#fed27f"
          ],
          [
           0.5176470588235295,
           "#fed07e"
          ],
          [
           0.5215686274509804,
           "#fece7c"
          ],
          [
           0.5254901960784314,
           "#fecc7b"
          ],
          [
           0.5294117647058824,
           "#feca79"
          ],
          [
           0.5333333333333333,
           "#feca79"
          ],
          [
           0.5372549019607843,
           "#fec877"
          ],
          [
           0.5411764705882353,
           "#fdc776"
          ],
          [
           0.5450980392156862,
           "#fdc574"
          ],
          [
           0.5490196078431373,
           "#fdc372"
          ],
          [
           0.5529411764705883,
           "#fdc171"
          ],
          [
           0.5568627450980392,
           "#fdc171"
          ],
          [
           0.5607843137254902,
           "#fdbf6f"
          ],
          [
           0.5647058823529412,
           "#fdbd6d"
          ],
          [
           0.5686274509803921,
           "#fdbb6c"
          ],
          [
           0.5725490196078431,
           "#fdb96a"
          ],
          [
           0.5764705882352941,
           "#fdb768"
          ],
          [
           0.5803921568627451,
           "#fdb768"
          ],
          [
           0.5843137254901961,
           "#fdb567"
          ],
          [
           0.5882352941176471,
           "#fdb365"
          ],
          [
           0.592156862745098,
           "#fdb163"
          ],
          [
           0.596078431372549,
           "#fdaf62"
          ],
          [
           0.6,
           "#fdad60"
          ],
          [
           0.6039215686274509,
           "#fdad60"
          ],
          [
           0.6078431372549019,
           "#fcaa5f"
          ],
          [
           0.611764705882353,
           "#fca85e"
          ],
          [
           0.615686274509804,
           "#fca55d"
          ],
          [
           0.6196078431372549,
           "#fba35c"
          ],
          [
           0.6235294117647059,
           "#fba35c"
          ],
          [
           0.6274509803921569,
           "#fba05b"
          ],
          [
           0.6313725490196078,
           "#fb9d59"
          ],
          [
           0.6352941176470588,
           "#fa9b58"
          ],
          [
           0.6392156862745098,
           "#fa9857"
          ],
          [
           0.6431372549019608,
           "#fa9857"
          ],
          [
           0.6470588235294118,
           "#fa9656"
          ],
          [
           0.6509803921568628,
           "#f99355"
          ],
          [
           0.6549019607843137,
           "#f99153"
          ],
          [
           0.6588235294117647,
           "#f98e52"
          ],
          [
           0.6627450980392157,
           "#f98e52"
          ],
          [
           0.6666666666666666,
           "#f88c51"
          ],
          [
           0.6705882352941176,
           "#f88950"
          ],
          [
           0.6745098039215687,
           "#f8864f"
          ],
          [
           0.6784313725490196,
           "#f7844e"
          ],
          [
           0.6823529411764706,
           "#f7844e"
          ],
          [
           0.6862745098039216,
           "#f7814c"
          ],
          [
           0.6901960784313725,
           "#f67f4b"
          ],
          [
           0.6941176470588235,
           "#f67c4a"
          ],
          [
           0.6980392156862745,
           "#f67a49"
          ],
          [
           0.7019607843137254,
           "#f67a49"
          ],
          [
           0.7058823529411765,
           "#f57748"
          ],
          [
           0.7098039215686275,
           "#f57547"
          ],
          [
           0.7137254901960784,
           "#f57245"
          ],
          [
           0.7176470588235294,
           "#f57245"
          ],
          [
           0.7215686274509804,
           "#f47044"
          ],
          [
           0.7254901960784313,
           "#f46d43"
          ],
          [
           0.7294117647058823,
           "#f36b43"
          ],
          [
           0.7333333333333333,
           "#f26944"
          ],
          [
           0.7372549019607844,
           "#f26944"
          ],
          [
           0.7411764705882353,
           "#f06744"
          ],
          [
           0.7450980392156863,
           "#ef6645"
          ],
          [
           0.7490196078431373,
           "#ee6445"
          ],
          [
           0.7529411764705882,
           "#ee6445"
          ],
          [
           0.7568627450980392,
           "#ed6246"
          ],
          [
           0.7607843137254902,
           "#eb6046"
          ],
          [
           0.7647058823529411,
           "#ea5e47"
          ],
          [
           0.7686274509803922,
           "#ea5e47"
          ],
          [
           0.7725490196078432,
           "#e95c47"
          ],
          [
           0.7764705882352941,
           "#e85b48"
          ],
          [
           0.7803921568627451,
           "#e75948"
          ],
          [
           0.7843137254901961,
           "#e75948"
          ],
          [
           0.788235294117647,
           "#e55749"
          ],
          [
           0.792156862745098,
           "#e45549"
          ],
          [
           0.796078431372549,
           "#e3534a"
          ],
          [
           0.8,
           "#e3534a"
          ],
          [
           0.803921568627451,
           "#e2514a"
          ],
          [
           0.807843137254902,
           "#e1504b"
          ],
          [
           0.8117647058823529,
           "#df4e4b"
          ],
          [
           0.8156862745098039,
           "#df4e4b"
          ],
          [
           0.8196078431372549,
           "#de4c4b"
          ],
          [
           0.8235294117647058,
           "#dd4a4c"
          ],
          [
           0.8274509803921568,
           "#dc484c"
          ],
          [
           0.8313725490196079,
           "#dc484c"
          ],
          [
           0.8352941176470589,
           "#da464d"
          ],
          [
           0.8392156862745098,
           "#d9444d"
          ],
          [
           0.8431372549019608,
           "#d8434e"
          ],
          [
           0.8470588235294118,
           "#d8434e"
          ],
          [
           0.8509803921568627,
           "#d7414e"
          ],
          [
           0.8549019607843137,
           "#d63f4f"
          ],
          [
           0.8588235294117647,
           "#d43d4f"
          ],
          [
           0.8627450980392157,
           "#d43d4f"
          ],
          [
           0.8666666666666667,
           "#d23a4e"
          ],
          [
           0.8705882352941177,
           "#d0384e"
          ],
          [
           0.8745098039215686,
           "#cd364d"
          ],
          [
           0.8784313725490196,
           "#cd364d"
          ],
          [
           0.8823529411764706,
           "#cb334d"
          ],
          [
           0.8862745098039215,
           "#c9314c"
          ],
          [
           0.8901960784313725,
           "#c9314c"
          ],
          [
           0.8941176470588236,
           "#c72e4c"
          ],
          [
           0.8980392156862745,
           "#c52c4b"
          ],
          [
           0.9019607843137255,
           "#c32a4b"
          ],
          [
           0.9058823529411765,
           "#c32a4b"
          ],
          [
           0.9098039215686274,
           "#c1274a"
          ],
          [
           0.9137254901960784,
           "#be254a"
          ],
          [
           0.9176470588235294,
           "#bc2249"
          ],
          [
           0.9215686274509803,
           "#bc2249"
          ],
          [
           0.9254901960784314,
           "#ba2049"
          ],
          [
           0.9294117647058824,
           "#b81e48"
          ],
          [
           0.9333333333333333,
           "#b81e48"
          ],
          [
           0.9372549019607843,
           "#b61b48"
          ],
          [
           0.9411764705882353,
           "#b41947"
          ],
          [
           0.9450980392156862,
           "#b11747"
          ],
          [
           0.9490196078431372,
           "#b11747"
          ],
          [
           0.9529411764705882,
           "#af1446"
          ],
          [
           0.9568627450980393,
           "#ad1246"
          ],
          [
           0.9607843137254902,
           "#ad1246"
          ],
          [
           0.9647058823529412,
           "#ab0f45"
          ],
          [
           0.9686274509803922,
           "#a90d45"
          ],
          [
           0.9725490196078431,
           "#a70b44"
          ],
          [
           0.9764705882352941,
           "#a70b44"
          ],
          [
           0.9803921568627451,
           "#a40844"
          ],
          [
           0.984313725490196,
           "#a20643"
          ],
          [
           0.9882352941176471,
           "#a20643"
          ],
          [
           0.9921568627450981,
           "#a00343"
          ],
          [
           0.996078431372549,
           "#9e0142"
          ],
          [
           1,
           "#9e0142"
          ]
         ]
        },
        "height": 600,
        "legend": {
         "tracegroupgap": 0
        },
        "shapes": [
         {
          "layer": "below",
          "line": {
           "color": "black",
           "width": 2
          },
          "type": "rect",
          "x0": 0,
          "x1": 1,
          "xref": "paper",
          "y0": 0,
          "y1": 1,
          "yref": "paper"
         }
        ],
        "template": {
         "data": {
          "bar": [
           {
            "error_x": {
             "color": "#2a3f5f"
            },
            "error_y": {
             "color": "#2a3f5f"
            },
            "marker": {
             "line": {
              "color": "white",
              "width": 0.5
             },
             "pattern": {
              "fillmode": "overlay",
              "size": 10,
              "solidity": 0.2
             }
            },
            "type": "bar"
           }
          ],
          "barpolar": [
           {
            "marker": {
             "line": {
              "color": "white",
              "width": 0.5
             },
             "pattern": {
              "fillmode": "overlay",
              "size": 10,
              "solidity": 0.2
             }
            },
            "type": "barpolar"
           }
          ],
          "carpet": [
           {
            "aaxis": {
             "endlinecolor": "#2a3f5f",
             "gridcolor": "#C8D4E3",
             "linecolor": "#C8D4E3",
             "minorgridcolor": "#C8D4E3",
             "startlinecolor": "#2a3f5f"
            },
            "baxis": {
             "endlinecolor": "#2a3f5f",
             "gridcolor": "#C8D4E3",
             "linecolor": "#C8D4E3",
             "minorgridcolor": "#C8D4E3",
             "startlinecolor": "#2a3f5f"
            },
            "type": "carpet"
           }
          ],
          "choropleth": [
           {
            "colorbar": {
             "outlinewidth": 0,
             "ticks": ""
            },
            "type": "choropleth"
           }
          ],
          "contour": [
           {
            "colorbar": {
             "outlinewidth": 0,
             "ticks": ""
            },
            "colorscale": [
             [
              0,
              "#0d0887"
             ],
             [
              0.1111111111111111,
              "#46039f"
             ],
             [
              0.2222222222222222,
              "#7201a8"
             ],
             [
              0.3333333333333333,
              "#9c179e"
             ],
             [
              0.4444444444444444,
              "#bd3786"
             ],
             [
              0.5555555555555556,
              "#d8576b"
             ],
             [
              0.6666666666666666,
              "#ed7953"
             ],
             [
              0.7777777777777778,
              "#fb9f3a"
             ],
             [
              0.8888888888888888,
              "#fdca26"
             ],
             [
              1,
              "#f0f921"
             ]
            ],
            "type": "contour"
           }
          ],
          "contourcarpet": [
           {
            "colorbar": {
             "outlinewidth": 0,
             "ticks": ""
            },
            "type": "contourcarpet"
           }
          ],
          "heatmap": [
           {
            "colorbar": {
             "outlinewidth": 0,
             "ticks": ""
            },
            "colorscale": [
             [
              0,
              "#0d0887"
             ],
             [
              0.1111111111111111,
              "#46039f"
             ],
             [
              0.2222222222222222,
              "#7201a8"
             ],
             [
              0.3333333333333333,
              "#9c179e"
             ],
             [
              0.4444444444444444,
              "#bd3786"
             ],
             [
              0.5555555555555556,
              "#d8576b"
             ],
             [
              0.6666666666666666,
              "#ed7953"
             ],
             [
              0.7777777777777778,
              "#fb9f3a"
             ],
             [
              0.8888888888888888,
              "#fdca26"
             ],
             [
              1,
              "#f0f921"
             ]
            ],
            "type": "heatmap"
           }
          ],
          "heatmapgl": [
           {
            "colorbar": {
             "outlinewidth": 0,
             "ticks": ""
            },
            "colorscale": [
             [
              0,
              "#0d0887"
             ],
             [
              0.1111111111111111,
              "#46039f"
             ],
             [
              0.2222222222222222,
              "#7201a8"
             ],
             [
              0.3333333333333333,
              "#9c179e"
             ],
             [
              0.4444444444444444,
              "#bd3786"
             ],
             [
              0.5555555555555556,
              "#d8576b"
             ],
             [
              0.6666666666666666,
              "#ed7953"
             ],
             [
              0.7777777777777778,
              "#fb9f3a"
             ],
             [
              0.8888888888888888,
              "#fdca26"
             ],
             [
              1,
              "#f0f921"
             ]
            ],
            "type": "heatmapgl"
           }
          ],
          "histogram": [
           {
            "marker": {
             "pattern": {
              "fillmode": "overlay",
              "size": 10,
              "solidity": 0.2
             }
            },
            "type": "histogram"
           }
          ],
          "histogram2d": [
           {
            "colorbar": {
             "outlinewidth": 0,
             "ticks": ""
            },
            "colorscale": [
             [
              0,
              "#0d0887"
             ],
             [
              0.1111111111111111,
              "#46039f"
             ],
             [
              0.2222222222222222,
              "#7201a8"
             ],
             [
              0.3333333333333333,
              "#9c179e"
             ],
             [
              0.4444444444444444,
              "#bd3786"
             ],
             [
              0.5555555555555556,
              "#d8576b"
             ],
             [
              0.6666666666666666,
              "#ed7953"
             ],
             [
              0.7777777777777778,
              "#fb9f3a"
             ],
             [
              0.8888888888888888,
              "#fdca26"
             ],
             [
              1,
              "#f0f921"
             ]
            ],
            "type": "histogram2d"
           }
          ],
          "histogram2dcontour": [
           {
            "colorbar": {
             "outlinewidth": 0,
             "ticks": ""
            },
            "colorscale": [
             [
              0,
              "#0d0887"
             ],
             [
              0.1111111111111111,
              "#46039f"
             ],
             [
              0.2222222222222222,
              "#7201a8"
             ],
             [
              0.3333333333333333,
              "#9c179e"
             ],
             [
              0.4444444444444444,
              "#bd3786"
             ],
             [
              0.5555555555555556,
              "#d8576b"
             ],
             [
              0.6666666666666666,
              "#ed7953"
             ],
             [
              0.7777777777777778,
              "#fb9f3a"
             ],
             [
              0.8888888888888888,
              "#fdca26"
             ],
             [
              1,
              "#f0f921"
             ]
            ],
            "type": "histogram2dcontour"
           }
          ],
          "mesh3d": [
           {
            "colorbar": {
             "outlinewidth": 0,
             "ticks": ""
            },
            "type": "mesh3d"
           }
          ],
          "parcoords": [
           {
            "line": {
             "colorbar": {
              "outlinewidth": 0,
              "ticks": ""
             }
            },
            "type": "parcoords"
           }
          ],
          "pie": [
           {
            "automargin": true,
            "type": "pie"
           }
          ],
          "scatter": [
           {
            "fillpattern": {
             "fillmode": "overlay",
             "size": 10,
             "solidity": 0.2
            },
            "type": "scatter"
           }
          ],
          "scatter3d": [
           {
            "line": {
             "colorbar": {
              "outlinewidth": 0,
              "ticks": ""
             }
            },
            "marker": {
             "colorbar": {
              "outlinewidth": 0,
              "ticks": ""
             }
            },
            "type": "scatter3d"
           }
          ],
          "scattercarpet": [
           {
            "marker": {
             "colorbar": {
              "outlinewidth": 0,
              "ticks": ""
             }
            },
            "type": "scattercarpet"
           }
          ],
          "scattergeo": [
           {
            "marker": {
             "colorbar": {
              "outlinewidth": 0,
              "ticks": ""
             }
            },
            "type": "scattergeo"
           }
          ],
          "scattergl": [
           {
            "marker": {
             "colorbar": {
              "outlinewidth": 0,
              "ticks": ""
             }
            },
            "type": "scattergl"
           }
          ],
          "scattermapbox": [
           {
            "marker": {
             "colorbar": {
              "outlinewidth": 0,
              "ticks": ""
             }
            },
            "type": "scattermapbox"
           }
          ],
          "scatterpolar": [
           {
            "marker": {
             "colorbar": {
              "outlinewidth": 0,
              "ticks": ""
             }
            },
            "type": "scatterpolar"
           }
          ],
          "scatterpolargl": [
           {
            "marker": {
             "colorbar": {
              "outlinewidth": 0,
              "ticks": ""
             }
            },
            "type": "scatterpolargl"
           }
          ],
          "scatterternary": [
           {
            "marker": {
             "colorbar": {
              "outlinewidth": 0,
              "ticks": ""
             }
            },
            "type": "scatterternary"
           }
          ],
          "surface": [
           {
            "colorbar": {
             "outlinewidth": 0,
             "ticks": ""
            },
            "colorscale": [
             [
              0,
              "#0d0887"
             ],
             [
              0.1111111111111111,
              "#46039f"
             ],
             [
              0.2222222222222222,
              "#7201a8"
             ],
             [
              0.3333333333333333,
              "#9c179e"
             ],
             [
              0.4444444444444444,
              "#bd3786"
             ],
             [
              0.5555555555555556,
              "#d8576b"
             ],
             [
              0.6666666666666666,
              "#ed7953"
             ],
             [
              0.7777777777777778,
              "#fb9f3a"
             ],
             [
              0.8888888888888888,
              "#fdca26"
             ],
             [
              1,
              "#f0f921"
             ]
            ],
            "type": "surface"
           }
          ],
          "table": [
           {
            "cells": {
             "fill": {
              "color": "#EBF0F8"
             },
             "line": {
              "color": "white"
             }
            },
            "header": {
             "fill": {
              "color": "#C8D4E3"
             },
             "line": {
              "color": "white"
             }
            },
            "type": "table"
           }
          ]
         },
         "layout": {
          "annotationdefaults": {
           "arrowcolor": "#2a3f5f",
           "arrowhead": 0,
           "arrowwidth": 1
          },
          "autotypenumbers": "strict",
          "coloraxis": {
           "colorbar": {
            "outlinewidth": 0,
            "ticks": ""
           }
          },
          "colorscale": {
           "diverging": [
            [
             0,
             "#8e0152"
            ],
            [
             0.1,
             "#c51b7d"
            ],
            [
             0.2,
             "#de77ae"
            ],
            [
             0.3,
             "#f1b6da"
            ],
            [
             0.4,
             "#fde0ef"
            ],
            [
             0.5,
             "#f7f7f7"
            ],
            [
             0.6,
             "#e6f5d0"
            ],
            [
             0.7,
             "#b8e186"
            ],
            [
             0.8,
             "#7fbc41"
            ],
            [
             0.9,
             "#4d9221"
            ],
            [
             1,
             "#276419"
            ]
           ],
           "sequential": [
            [
             0,
             "#0d0887"
            ],
            [
             0.1111111111111111,
             "#46039f"
            ],
            [
             0.2222222222222222,
             "#7201a8"
            ],
            [
             0.3333333333333333,
             "#9c179e"
            ],
            [
             0.4444444444444444,
             "#bd3786"
            ],
            [
             0.5555555555555556,
             "#d8576b"
            ],
            [
             0.6666666666666666,
             "#ed7953"
            ],
            [
             0.7777777777777778,
             "#fb9f3a"
            ],
            [
             0.8888888888888888,
             "#fdca26"
            ],
            [
             1,
             "#f0f921"
            ]
           ],
           "sequentialminus": [
            [
             0,
             "#0d0887"
            ],
            [
             0.1111111111111111,
             "#46039f"
            ],
            [
             0.2222222222222222,
             "#7201a8"
            ],
            [
             0.3333333333333333,
             "#9c179e"
            ],
            [
             0.4444444444444444,
             "#bd3786"
            ],
            [
             0.5555555555555556,
             "#d8576b"
            ],
            [
             0.6666666666666666,
             "#ed7953"
            ],
            [
             0.7777777777777778,
             "#fb9f3a"
            ],
            [
             0.8888888888888888,
             "#fdca26"
            ],
            [
             1,
             "#f0f921"
            ]
           ]
          },
          "colorway": [
           "#636efa",
           "#EF553B",
           "#00cc96",
           "#ab63fa",
           "#FFA15A",
           "#19d3f3",
           "#FF6692",
           "#B6E880",
           "#FF97FF",
           "#FECB52"
          ],
          "font": {
           "color": "#2a3f5f"
          },
          "geo": {
           "bgcolor": "white",
           "lakecolor": "white",
           "landcolor": "white",
           "showlakes": true,
           "showland": true,
           "subunitcolor": "#C8D4E3"
          },
          "hoverlabel": {
           "align": "left"
          },
          "hovermode": "closest",
          "mapbox": {
           "style": "light"
          },
          "paper_bgcolor": "white",
          "plot_bgcolor": "white",
          "polar": {
           "angularaxis": {
            "gridcolor": "#EBF0F8",
            "linecolor": "#EBF0F8",
            "ticks": ""
           },
           "bgcolor": "white",
           "radialaxis": {
            "gridcolor": "#EBF0F8",
            "linecolor": "#EBF0F8",
            "ticks": ""
           }
          },
          "scene": {
           "xaxis": {
            "backgroundcolor": "white",
            "gridcolor": "#DFE8F3",
            "gridwidth": 2,
            "linecolor": "#EBF0F8",
            "showbackground": true,
            "ticks": "",
            "zerolinecolor": "#EBF0F8"
           },
           "yaxis": {
            "backgroundcolor": "white",
            "gridcolor": "#DFE8F3",
            "gridwidth": 2,
            "linecolor": "#EBF0F8",
            "showbackground": true,
            "ticks": "",
            "zerolinecolor": "#EBF0F8"
           },
           "zaxis": {
            "backgroundcolor": "white",
            "gridcolor": "#DFE8F3",
            "gridwidth": 2,
            "linecolor": "#EBF0F8",
            "showbackground": true,
            "ticks": "",
            "zerolinecolor": "#EBF0F8"
           }
          },
          "shapedefaults": {
           "line": {
            "color": "#2a3f5f"
           }
          },
          "ternary": {
           "aaxis": {
            "gridcolor": "#DFE8F3",
            "linecolor": "#A2B1C6",
            "ticks": ""
           },
           "baxis": {
            "gridcolor": "#DFE8F3",
            "linecolor": "#A2B1C6",
            "ticks": ""
           },
           "bgcolor": "white",
           "caxis": {
            "gridcolor": "#DFE8F3",
            "linecolor": "#A2B1C6",
            "ticks": ""
           }
          },
          "title": {
           "x": 0.05
          },
          "xaxis": {
           "automargin": true,
           "gridcolor": "#EBF0F8",
           "linecolor": "#EBF0F8",
           "ticks": "",
           "title": {
            "standoff": 15
           },
           "zerolinecolor": "#EBF0F8",
           "zerolinewidth": 2
          },
          "yaxis": {
           "automargin": true,
           "gridcolor": "#EBF0F8",
           "linecolor": "#EBF0F8",
           "ticks": "",
           "title": {
            "standoff": 15
           },
           "zerolinecolor": "#EBF0F8",
           "zerolinewidth": 2
          }
         }
        },
        "title": {
         "text": "basis_trace_normalized_by_rank vs basis_var_all_normalized_by_rank colored by avg_fidelity"
        },
        "width": 1000,
        "xaxis": {
         "anchor": "y",
         "domain": [
          0,
          1
         ],
         "gridcolor": "lightgray",
         "gridwidth": 1,
         "showgrid": true,
         "title": {
          "text": "basis_trace_normalized_by_rank"
         }
        },
        "yaxis": {
         "anchor": "x",
         "domain": [
          0,
          1
         ],
         "gridcolor": "lightgray",
         "gridwidth": 1,
         "showgrid": true,
         "title": {
          "text": "basis_var_all_normalized_by_rank"
         }
        }
       }
      }
     },
     "metadata": {},
     "output_type": "display_data"
    }
   ],
   "source": [
    "\n",
    "fig = plot_two_metrics_with_color(\n",
    "    df_agg_by_test_key,\n",
    "    x_qfim_type=\"basis\",\n",
    "   \n",
    "    x_metric=\"trace_normalized_by_rank\",\n",
    "    y_qfim_type=None,\n",
    "    y_metric=\"basis_var_all_normalized_by_rank\",\n",
    "    color_metric=\"avg_fidelity\",\n",
    "    add_trendline=False\n",
    ")\n",
    "fig.show() \n"
   ]
  },
  {
   "cell_type": "code",
   "execution_count": 257,
   "metadata": {},
   "outputs": [
    {
     "ename": "TypeError",
     "evalue": "plot_two_metrics_with_color() got an unexpected keyword argument 'qfim_type'",
     "output_type": "error",
     "traceback": [
      "\u001b[0;31m---------------------------------------------------------------------------\u001b[0m",
      "\u001b[0;31mTypeError\u001b[0m                                 Traceback (most recent call last)",
      "Cell \u001b[0;32mIn[257], line 1\u001b[0m\n\u001b[0;32m----> 1\u001b[0m fig \u001b[38;5;241m=\u001b[39m \u001b[43mplot_two_metrics_with_color\u001b[49m\u001b[43m(\u001b[49m\n\u001b[1;32m      2\u001b[0m \u001b[43m    \u001b[49m\u001b[43mdf_agg_by_test_key\u001b[49m\u001b[43m,\u001b[49m\n\u001b[1;32m      3\u001b[0m \u001b[43m    \u001b[49m\u001b[43mqfim_type\u001b[49m\u001b[38;5;241;43m=\u001b[39;49m\u001b[38;5;124;43m\"\u001b[39;49m\u001b[38;5;124;43mbasis\u001b[39;49m\u001b[38;5;124;43m\"\u001b[39;49m\u001b[43m,\u001b[49m\n\u001b[1;32m      4\u001b[0m \u001b[43m    \u001b[49m\u001b[43mx_metric\u001b[49m\u001b[38;5;241;43m=\u001b[39;49m\u001b[38;5;124;43m\"\u001b[39;49m\u001b[38;5;124;43mtrace_normalized_by_rank\u001b[39;49m\u001b[38;5;124;43m\"\u001b[39;49m\u001b[43m,\u001b[49m\n\u001b[1;32m      5\u001b[0m \u001b[43m    \u001b[49m\u001b[43my_metric\u001b[49m\u001b[38;5;241;43m=\u001b[39;49m\u001b[38;5;124;43m\"\u001b[39;49m\u001b[38;5;124;43mvar_all_normalized_by_rank\u001b[39;49m\u001b[38;5;124;43m\"\u001b[39;49m\u001b[43m,\u001b[49m\n\u001b[1;32m      6\u001b[0m \u001b[43m    \u001b[49m\u001b[43mcolor_metric\u001b[49m\u001b[38;5;241;43m=\u001b[39;49m\u001b[38;5;124;43m\"\u001b[39;49m\u001b[38;5;124;43mavg_fidelity\u001b[39;49m\u001b[38;5;124;43m\"\u001b[39;49m\u001b[43m,\u001b[49m\n\u001b[1;32m      7\u001b[0m \u001b[43m    \u001b[49m\u001b[43madd_trendline\u001b[49m\u001b[38;5;241;43m=\u001b[39;49m\u001b[38;5;28;43;01mFalse\u001b[39;49;00m\n\u001b[1;32m      8\u001b[0m \u001b[43m)\u001b[49m\n\u001b[1;32m      9\u001b[0m fig\u001b[38;5;241m.\u001b[39mshow() \n",
      "\u001b[0;31mTypeError\u001b[0m: plot_two_metrics_with_color() got an unexpected keyword argument 'qfim_type'"
     ]
    }
   ],
   "source": [
    "\n",
    "fig = plot_two_metrics_with_color(\n",
    "    df_agg_by_test_key,\n",
    "    qfim_type=\"basis\",\n",
    "    x_metric=\"trace_normalized_by_rank\",\n",
    "    y_metric=\"var_all_normalized_by_rank\",\n",
    "    color_metric=\"avg_fidelity\",\n",
    "    add_trendline=False\n",
    ")\n",
    "fig.show() "
   ]
  },
  {
   "cell_type": "code",
   "execution_count": null,
   "metadata": {},
   "outputs": [],
   "source": [
    "\n",
    "fig = plot_two_metrics_with_color(\n",
    "    df_agg_by_test_key,\n",
    "    qfim_type=\"basis\",\n",
    "    x_metric=\"trace_normalized_by_rank\",\n",
    "    y_metric=\"var_all_normalized_by_rank\",\n",
    "    color_metric=\"avg_fidelity\",\n",
    "    add_trendline=False\n",
    ")\n",
    "fig.show() "
   ]
  },
  {
   "cell_type": "code",
   "execution_count": 11,
   "metadata": {},
   "outputs": [
    {
     "ename": "TypeError",
     "evalue": "agg function failed [how->mean,dtype->object]",
     "output_type": "error",
     "traceback": [
      "\u001b[0;31m---------------------------------------------------------------------------\u001b[0m",
      "\u001b[0;31mTypeError\u001b[0m                                 Traceback (most recent call last)",
      "File \u001b[0;32m~/miniforge3/envs/torch_env/lib/python3.11/site-packages/pandas/core/nanops.py:1703\u001b[0m, in \u001b[0;36m_ensure_numeric\u001b[0;34m(x)\u001b[0m\n\u001b[1;32m   1702\u001b[0m \u001b[38;5;28;01mtry\u001b[39;00m:\n\u001b[0;32m-> 1703\u001b[0m     x \u001b[38;5;241m=\u001b[39m \u001b[38;5;28mfloat\u001b[39m(x)\n\u001b[1;32m   1704\u001b[0m \u001b[38;5;28;01mexcept\u001b[39;00m (\u001b[38;5;167;01mTypeError\u001b[39;00m, \u001b[38;5;167;01mValueError\u001b[39;00m):\n\u001b[1;32m   1705\u001b[0m     \u001b[38;5;66;03m# e.g. \"1+1j\" or \"foo\"\u001b[39;00m\n",
      "File \u001b[0;32m~/miniforge3/envs/torch_env/lib/python3.11/site-packages/jax/_src/array.py:297\u001b[0m, in \u001b[0;36mArrayImpl.__float__\u001b[0;34m(self)\u001b[0m\n\u001b[1;32m    296\u001b[0m \u001b[38;5;28;01mdef\u001b[39;00m \u001b[38;5;21m__float__\u001b[39m(\u001b[38;5;28mself\u001b[39m):\n\u001b[0;32m--> 297\u001b[0m   \u001b[43mcore\u001b[49m\u001b[38;5;241;43m.\u001b[39;49m\u001b[43mcheck_scalar_conversion\u001b[49m\u001b[43m(\u001b[49m\u001b[38;5;28;43mself\u001b[39;49m\u001b[43m)\u001b[49m\n\u001b[1;32m    298\u001b[0m   \u001b[38;5;28;01mreturn\u001b[39;00m \u001b[38;5;28mself\u001b[39m\u001b[38;5;241m.\u001b[39m_value\u001b[38;5;241m.\u001b[39m\u001b[38;5;21m__float__\u001b[39m()\n",
      "File \u001b[0;32m~/miniforge3/envs/torch_env/lib/python3.11/site-packages/jax/_src/core.py:662\u001b[0m, in \u001b[0;36mcheck_scalar_conversion\u001b[0;34m(arr)\u001b[0m\n\u001b[1;32m    661\u001b[0m \u001b[38;5;28;01mif\u001b[39;00m arr\u001b[38;5;241m.\u001b[39mndim \u001b[38;5;241m>\u001b[39m \u001b[38;5;241m0\u001b[39m:\n\u001b[0;32m--> 662\u001b[0m   \u001b[38;5;28;01mraise\u001b[39;00m \u001b[38;5;167;01mTypeError\u001b[39;00m(\u001b[38;5;124m\"\u001b[39m\u001b[38;5;124mOnly scalar arrays can be converted to Python scalars; \u001b[39m\u001b[38;5;124m\"\u001b[39m\n\u001b[1;32m    663\u001b[0m                   \u001b[38;5;124mf\u001b[39m\u001b[38;5;124m\"\u001b[39m\u001b[38;5;124mgot \u001b[39m\u001b[38;5;132;01m{\u001b[39;00marr\u001b[38;5;241m.\u001b[39mndim\u001b[38;5;132;01m=}\u001b[39;00m\u001b[38;5;124m\"\u001b[39m)\n",
      "\u001b[0;31mTypeError\u001b[0m: Only scalar arrays can be converted to Python scalars; got arr.ndim=1",
      "\nDuring handling of the above exception, another exception occurred:\n",
      "\u001b[0;31mTypeError\u001b[0m                                 Traceback (most recent call last)",
      "File \u001b[0;32m~/miniforge3/envs/torch_env/lib/python3.11/site-packages/pandas/core/groupby/groupby.py:1942\u001b[0m, in \u001b[0;36mGroupBy._agg_py_fallback\u001b[0;34m(self, how, values, ndim, alt)\u001b[0m\n\u001b[1;32m   1941\u001b[0m \u001b[38;5;28;01mtry\u001b[39;00m:\n\u001b[0;32m-> 1942\u001b[0m     res_values \u001b[38;5;241m=\u001b[39m \u001b[38;5;28;43mself\u001b[39;49m\u001b[38;5;241;43m.\u001b[39;49m\u001b[43m_grouper\u001b[49m\u001b[38;5;241;43m.\u001b[39;49m\u001b[43magg_series\u001b[49m\u001b[43m(\u001b[49m\u001b[43mser\u001b[49m\u001b[43m,\u001b[49m\u001b[43m \u001b[49m\u001b[43malt\u001b[49m\u001b[43m,\u001b[49m\u001b[43m \u001b[49m\u001b[43mpreserve_dtype\u001b[49m\u001b[38;5;241;43m=\u001b[39;49m\u001b[38;5;28;43;01mTrue\u001b[39;49;00m\u001b[43m)\u001b[49m\n\u001b[1;32m   1943\u001b[0m \u001b[38;5;28;01mexcept\u001b[39;00m \u001b[38;5;167;01mException\u001b[39;00m \u001b[38;5;28;01mas\u001b[39;00m err:\n",
      "File \u001b[0;32m~/miniforge3/envs/torch_env/lib/python3.11/site-packages/pandas/core/groupby/ops.py:864\u001b[0m, in \u001b[0;36mBaseGrouper.agg_series\u001b[0;34m(self, obj, func, preserve_dtype)\u001b[0m\n\u001b[1;32m    862\u001b[0m     preserve_dtype \u001b[38;5;241m=\u001b[39m \u001b[38;5;28;01mTrue\u001b[39;00m\n\u001b[0;32m--> 864\u001b[0m result \u001b[38;5;241m=\u001b[39m \u001b[38;5;28;43mself\u001b[39;49m\u001b[38;5;241;43m.\u001b[39;49m\u001b[43m_aggregate_series_pure_python\u001b[49m\u001b[43m(\u001b[49m\u001b[43mobj\u001b[49m\u001b[43m,\u001b[49m\u001b[43m \u001b[49m\u001b[43mfunc\u001b[49m\u001b[43m)\u001b[49m\n\u001b[1;32m    866\u001b[0m npvalues \u001b[38;5;241m=\u001b[39m lib\u001b[38;5;241m.\u001b[39mmaybe_convert_objects(result, try_float\u001b[38;5;241m=\u001b[39m\u001b[38;5;28;01mFalse\u001b[39;00m)\n",
      "File \u001b[0;32m~/miniforge3/envs/torch_env/lib/python3.11/site-packages/pandas/core/groupby/ops.py:885\u001b[0m, in \u001b[0;36mBaseGrouper._aggregate_series_pure_python\u001b[0;34m(self, obj, func)\u001b[0m\n\u001b[1;32m    884\u001b[0m \u001b[38;5;28;01mfor\u001b[39;00m i, group \u001b[38;5;129;01min\u001b[39;00m \u001b[38;5;28menumerate\u001b[39m(splitter):\n\u001b[0;32m--> 885\u001b[0m     res \u001b[38;5;241m=\u001b[39m \u001b[43mfunc\u001b[49m\u001b[43m(\u001b[49m\u001b[43mgroup\u001b[49m\u001b[43m)\u001b[49m\n\u001b[1;32m    886\u001b[0m     res \u001b[38;5;241m=\u001b[39m extract_result(res)\n",
      "File \u001b[0;32m~/miniforge3/envs/torch_env/lib/python3.11/site-packages/pandas/core/groupby/groupby.py:2454\u001b[0m, in \u001b[0;36mGroupBy.mean.<locals>.<lambda>\u001b[0;34m(x)\u001b[0m\n\u001b[1;32m   2451\u001b[0m \u001b[38;5;28;01melse\u001b[39;00m:\n\u001b[1;32m   2452\u001b[0m     result \u001b[38;5;241m=\u001b[39m \u001b[38;5;28mself\u001b[39m\u001b[38;5;241m.\u001b[39m_cython_agg_general(\n\u001b[1;32m   2453\u001b[0m         \u001b[38;5;124m\"\u001b[39m\u001b[38;5;124mmean\u001b[39m\u001b[38;5;124m\"\u001b[39m,\n\u001b[0;32m-> 2454\u001b[0m         alt\u001b[38;5;241m=\u001b[39m\u001b[38;5;28;01mlambda\u001b[39;00m x: \u001b[43mSeries\u001b[49m\u001b[43m(\u001b[49m\u001b[43mx\u001b[49m\u001b[43m,\u001b[49m\u001b[43m \u001b[49m\u001b[43mcopy\u001b[49m\u001b[38;5;241;43m=\u001b[39;49m\u001b[38;5;28;43;01mFalse\u001b[39;49;00m\u001b[43m)\u001b[49m\u001b[38;5;241;43m.\u001b[39;49m\u001b[43mmean\u001b[49m\u001b[43m(\u001b[49m\u001b[43mnumeric_only\u001b[49m\u001b[38;5;241;43m=\u001b[39;49m\u001b[43mnumeric_only\u001b[49m\u001b[43m)\u001b[49m,\n\u001b[1;32m   2455\u001b[0m         numeric_only\u001b[38;5;241m=\u001b[39mnumeric_only,\n\u001b[1;32m   2456\u001b[0m     )\n\u001b[1;32m   2457\u001b[0m     \u001b[38;5;28;01mreturn\u001b[39;00m result\u001b[38;5;241m.\u001b[39m__finalize__(\u001b[38;5;28mself\u001b[39m\u001b[38;5;241m.\u001b[39mobj, method\u001b[38;5;241m=\u001b[39m\u001b[38;5;124m\"\u001b[39m\u001b[38;5;124mgroupby\u001b[39m\u001b[38;5;124m\"\u001b[39m)\n",
      "File \u001b[0;32m~/miniforge3/envs/torch_env/lib/python3.11/site-packages/pandas/core/series.py:6549\u001b[0m, in \u001b[0;36mSeries.mean\u001b[0;34m(self, axis, skipna, numeric_only, **kwargs)\u001b[0m\n\u001b[1;32m   6541\u001b[0m \u001b[38;5;129m@doc\u001b[39m(make_doc(\u001b[38;5;124m\"\u001b[39m\u001b[38;5;124mmean\u001b[39m\u001b[38;5;124m\"\u001b[39m, ndim\u001b[38;5;241m=\u001b[39m\u001b[38;5;241m1\u001b[39m))\n\u001b[1;32m   6542\u001b[0m \u001b[38;5;28;01mdef\u001b[39;00m \u001b[38;5;21mmean\u001b[39m(\n\u001b[1;32m   6543\u001b[0m     \u001b[38;5;28mself\u001b[39m,\n\u001b[0;32m   (...)\u001b[0m\n\u001b[1;32m   6547\u001b[0m     \u001b[38;5;241m*\u001b[39m\u001b[38;5;241m*\u001b[39mkwargs,\n\u001b[1;32m   6548\u001b[0m ):\n\u001b[0;32m-> 6549\u001b[0m     \u001b[38;5;28;01mreturn\u001b[39;00m \u001b[43mNDFrame\u001b[49m\u001b[38;5;241;43m.\u001b[39;49m\u001b[43mmean\u001b[49m\u001b[43m(\u001b[49m\u001b[38;5;28;43mself\u001b[39;49m\u001b[43m,\u001b[49m\u001b[43m \u001b[49m\u001b[43maxis\u001b[49m\u001b[43m,\u001b[49m\u001b[43m \u001b[49m\u001b[43mskipna\u001b[49m\u001b[43m,\u001b[49m\u001b[43m \u001b[49m\u001b[43mnumeric_only\u001b[49m\u001b[43m,\u001b[49m\u001b[43m \u001b[49m\u001b[38;5;241;43m*\u001b[39;49m\u001b[38;5;241;43m*\u001b[39;49m\u001b[43mkwargs\u001b[49m\u001b[43m)\u001b[49m\n",
      "File \u001b[0;32m~/miniforge3/envs/torch_env/lib/python3.11/site-packages/pandas/core/generic.py:12420\u001b[0m, in \u001b[0;36mNDFrame.mean\u001b[0;34m(self, axis, skipna, numeric_only, **kwargs)\u001b[0m\n\u001b[1;32m  12413\u001b[0m \u001b[38;5;28;01mdef\u001b[39;00m \u001b[38;5;21mmean\u001b[39m(\n\u001b[1;32m  12414\u001b[0m     \u001b[38;5;28mself\u001b[39m,\n\u001b[1;32m  12415\u001b[0m     axis: Axis \u001b[38;5;241m|\u001b[39m \u001b[38;5;28;01mNone\u001b[39;00m \u001b[38;5;241m=\u001b[39m \u001b[38;5;241m0\u001b[39m,\n\u001b[0;32m   (...)\u001b[0m\n\u001b[1;32m  12418\u001b[0m     \u001b[38;5;241m*\u001b[39m\u001b[38;5;241m*\u001b[39mkwargs,\n\u001b[1;32m  12419\u001b[0m ) \u001b[38;5;241m-\u001b[39m\u001b[38;5;241m>\u001b[39m Series \u001b[38;5;241m|\u001b[39m \u001b[38;5;28mfloat\u001b[39m:\n\u001b[0;32m> 12420\u001b[0m     \u001b[38;5;28;01mreturn\u001b[39;00m \u001b[38;5;28;43mself\u001b[39;49m\u001b[38;5;241;43m.\u001b[39;49m\u001b[43m_stat_function\u001b[49m\u001b[43m(\u001b[49m\n\u001b[1;32m  12421\u001b[0m \u001b[43m        \u001b[49m\u001b[38;5;124;43m\"\u001b[39;49m\u001b[38;5;124;43mmean\u001b[39;49m\u001b[38;5;124;43m\"\u001b[39;49m\u001b[43m,\u001b[49m\u001b[43m \u001b[49m\u001b[43mnanops\u001b[49m\u001b[38;5;241;43m.\u001b[39;49m\u001b[43mnanmean\u001b[49m\u001b[43m,\u001b[49m\u001b[43m \u001b[49m\u001b[43maxis\u001b[49m\u001b[43m,\u001b[49m\u001b[43m \u001b[49m\u001b[43mskipna\u001b[49m\u001b[43m,\u001b[49m\u001b[43m \u001b[49m\u001b[43mnumeric_only\u001b[49m\u001b[43m,\u001b[49m\u001b[43m \u001b[49m\u001b[38;5;241;43m*\u001b[39;49m\u001b[38;5;241;43m*\u001b[39;49m\u001b[43mkwargs\u001b[49m\n\u001b[1;32m  12422\u001b[0m \u001b[43m    \u001b[49m\u001b[43m)\u001b[49m\n",
      "File \u001b[0;32m~/miniforge3/envs/torch_env/lib/python3.11/site-packages/pandas/core/generic.py:12377\u001b[0m, in \u001b[0;36mNDFrame._stat_function\u001b[0;34m(self, name, func, axis, skipna, numeric_only, **kwargs)\u001b[0m\n\u001b[1;32m  12375\u001b[0m validate_bool_kwarg(skipna, \u001b[38;5;124m\"\u001b[39m\u001b[38;5;124mskipna\u001b[39m\u001b[38;5;124m\"\u001b[39m, none_allowed\u001b[38;5;241m=\u001b[39m\u001b[38;5;28;01mFalse\u001b[39;00m)\n\u001b[0;32m> 12377\u001b[0m \u001b[38;5;28;01mreturn\u001b[39;00m \u001b[38;5;28;43mself\u001b[39;49m\u001b[38;5;241;43m.\u001b[39;49m\u001b[43m_reduce\u001b[49m\u001b[43m(\u001b[49m\n\u001b[1;32m  12378\u001b[0m \u001b[43m    \u001b[49m\u001b[43mfunc\u001b[49m\u001b[43m,\u001b[49m\u001b[43m \u001b[49m\u001b[43mname\u001b[49m\u001b[38;5;241;43m=\u001b[39;49m\u001b[43mname\u001b[49m\u001b[43m,\u001b[49m\u001b[43m \u001b[49m\u001b[43maxis\u001b[49m\u001b[38;5;241;43m=\u001b[39;49m\u001b[43maxis\u001b[49m\u001b[43m,\u001b[49m\u001b[43m \u001b[49m\u001b[43mskipna\u001b[49m\u001b[38;5;241;43m=\u001b[39;49m\u001b[43mskipna\u001b[49m\u001b[43m,\u001b[49m\u001b[43m \u001b[49m\u001b[43mnumeric_only\u001b[49m\u001b[38;5;241;43m=\u001b[39;49m\u001b[43mnumeric_only\u001b[49m\n\u001b[1;32m  12379\u001b[0m \u001b[43m\u001b[49m\u001b[43m)\u001b[49m\n",
      "File \u001b[0;32m~/miniforge3/envs/torch_env/lib/python3.11/site-packages/pandas/core/series.py:6457\u001b[0m, in \u001b[0;36mSeries._reduce\u001b[0;34m(self, op, name, axis, skipna, numeric_only, filter_type, **kwds)\u001b[0m\n\u001b[1;32m   6453\u001b[0m     \u001b[38;5;28;01mraise\u001b[39;00m \u001b[38;5;167;01mTypeError\u001b[39;00m(\n\u001b[1;32m   6454\u001b[0m         \u001b[38;5;124mf\u001b[39m\u001b[38;5;124m\"\u001b[39m\u001b[38;5;124mSeries.\u001b[39m\u001b[38;5;132;01m{\u001b[39;00mname\u001b[38;5;132;01m}\u001b[39;00m\u001b[38;5;124m does not allow \u001b[39m\u001b[38;5;132;01m{\u001b[39;00mkwd_name\u001b[38;5;132;01m}\u001b[39;00m\u001b[38;5;124m=\u001b[39m\u001b[38;5;132;01m{\u001b[39;00mnumeric_only\u001b[38;5;132;01m}\u001b[39;00m\u001b[38;5;124m \u001b[39m\u001b[38;5;124m\"\u001b[39m\n\u001b[1;32m   6455\u001b[0m         \u001b[38;5;124m\"\u001b[39m\u001b[38;5;124mwith non-numeric dtypes.\u001b[39m\u001b[38;5;124m\"\u001b[39m\n\u001b[1;32m   6456\u001b[0m     )\n\u001b[0;32m-> 6457\u001b[0m \u001b[38;5;28;01mreturn\u001b[39;00m \u001b[43mop\u001b[49m\u001b[43m(\u001b[49m\u001b[43mdelegate\u001b[49m\u001b[43m,\u001b[49m\u001b[43m \u001b[49m\u001b[43mskipna\u001b[49m\u001b[38;5;241;43m=\u001b[39;49m\u001b[43mskipna\u001b[49m\u001b[43m,\u001b[49m\u001b[43m \u001b[49m\u001b[38;5;241;43m*\u001b[39;49m\u001b[38;5;241;43m*\u001b[39;49m\u001b[43mkwds\u001b[49m\u001b[43m)\u001b[49m\n",
      "File \u001b[0;32m~/miniforge3/envs/torch_env/lib/python3.11/site-packages/pandas/core/nanops.py:147\u001b[0m, in \u001b[0;36mbottleneck_switch.__call__.<locals>.f\u001b[0;34m(values, axis, skipna, **kwds)\u001b[0m\n\u001b[1;32m    146\u001b[0m \u001b[38;5;28;01melse\u001b[39;00m:\n\u001b[0;32m--> 147\u001b[0m     result \u001b[38;5;241m=\u001b[39m \u001b[43malt\u001b[49m\u001b[43m(\u001b[49m\u001b[43mvalues\u001b[49m\u001b[43m,\u001b[49m\u001b[43m \u001b[49m\u001b[43maxis\u001b[49m\u001b[38;5;241;43m=\u001b[39;49m\u001b[43maxis\u001b[49m\u001b[43m,\u001b[49m\u001b[43m \u001b[49m\u001b[43mskipna\u001b[49m\u001b[38;5;241;43m=\u001b[39;49m\u001b[43mskipna\u001b[49m\u001b[43m,\u001b[49m\u001b[43m \u001b[49m\u001b[38;5;241;43m*\u001b[39;49m\u001b[38;5;241;43m*\u001b[39;49m\u001b[43mkwds\u001b[49m\u001b[43m)\u001b[49m\n\u001b[1;32m    149\u001b[0m \u001b[38;5;28;01mreturn\u001b[39;00m result\n",
      "File \u001b[0;32m~/miniforge3/envs/torch_env/lib/python3.11/site-packages/pandas/core/nanops.py:404\u001b[0m, in \u001b[0;36m_datetimelike_compat.<locals>.new_func\u001b[0;34m(values, axis, skipna, mask, **kwargs)\u001b[0m\n\u001b[1;32m    402\u001b[0m     mask \u001b[38;5;241m=\u001b[39m isna(values)\n\u001b[0;32m--> 404\u001b[0m result \u001b[38;5;241m=\u001b[39m \u001b[43mfunc\u001b[49m\u001b[43m(\u001b[49m\u001b[43mvalues\u001b[49m\u001b[43m,\u001b[49m\u001b[43m \u001b[49m\u001b[43maxis\u001b[49m\u001b[38;5;241;43m=\u001b[39;49m\u001b[43maxis\u001b[49m\u001b[43m,\u001b[49m\u001b[43m \u001b[49m\u001b[43mskipna\u001b[49m\u001b[38;5;241;43m=\u001b[39;49m\u001b[43mskipna\u001b[49m\u001b[43m,\u001b[49m\u001b[43m \u001b[49m\u001b[43mmask\u001b[49m\u001b[38;5;241;43m=\u001b[39;49m\u001b[43mmask\u001b[49m\u001b[43m,\u001b[49m\u001b[43m \u001b[49m\u001b[38;5;241;43m*\u001b[39;49m\u001b[38;5;241;43m*\u001b[39;49m\u001b[43mkwargs\u001b[49m\u001b[43m)\u001b[49m\n\u001b[1;32m    406\u001b[0m \u001b[38;5;28;01mif\u001b[39;00m datetimelike:\n",
      "File \u001b[0;32m~/miniforge3/envs/torch_env/lib/python3.11/site-packages/pandas/core/nanops.py:720\u001b[0m, in \u001b[0;36mnanmean\u001b[0;34m(values, axis, skipna, mask)\u001b[0m\n\u001b[1;32m    719\u001b[0m the_sum \u001b[38;5;241m=\u001b[39m values\u001b[38;5;241m.\u001b[39msum(axis, dtype\u001b[38;5;241m=\u001b[39mdtype_sum)\n\u001b[0;32m--> 720\u001b[0m the_sum \u001b[38;5;241m=\u001b[39m \u001b[43m_ensure_numeric\u001b[49m\u001b[43m(\u001b[49m\u001b[43mthe_sum\u001b[49m\u001b[43m)\u001b[49m\n\u001b[1;32m    722\u001b[0m \u001b[38;5;28;01mif\u001b[39;00m axis \u001b[38;5;129;01mis\u001b[39;00m \u001b[38;5;129;01mnot\u001b[39;00m \u001b[38;5;28;01mNone\u001b[39;00m \u001b[38;5;129;01mand\u001b[39;00m \u001b[38;5;28mgetattr\u001b[39m(the_sum, \u001b[38;5;124m\"\u001b[39m\u001b[38;5;124mndim\u001b[39m\u001b[38;5;124m\"\u001b[39m, \u001b[38;5;28;01mFalse\u001b[39;00m):\n",
      "File \u001b[0;32m~/miniforge3/envs/torch_env/lib/python3.11/site-packages/pandas/core/nanops.py:1707\u001b[0m, in \u001b[0;36m_ensure_numeric\u001b[0;34m(x)\u001b[0m\n\u001b[1;32m   1706\u001b[0m \u001b[38;5;28;01mtry\u001b[39;00m:\n\u001b[0;32m-> 1707\u001b[0m     x \u001b[38;5;241m=\u001b[39m \u001b[38;5;28;43mcomplex\u001b[39;49m\u001b[43m(\u001b[49m\u001b[43mx\u001b[49m\u001b[43m)\u001b[49m\n\u001b[1;32m   1708\u001b[0m \u001b[38;5;28;01mexcept\u001b[39;00m \u001b[38;5;167;01mValueError\u001b[39;00m \u001b[38;5;28;01mas\u001b[39;00m err:\n\u001b[1;32m   1709\u001b[0m     \u001b[38;5;66;03m# e.g. \"foo\"\u001b[39;00m\n",
      "File \u001b[0;32m~/miniforge3/envs/torch_env/lib/python3.11/site-packages/jax/_src/array.py:305\u001b[0m, in \u001b[0;36mArrayImpl.__complex__\u001b[0;34m(self)\u001b[0m\n\u001b[1;32m    304\u001b[0m \u001b[38;5;28;01mdef\u001b[39;00m \u001b[38;5;21m__complex__\u001b[39m(\u001b[38;5;28mself\u001b[39m):\n\u001b[0;32m--> 305\u001b[0m   \u001b[43mcore\u001b[49m\u001b[38;5;241;43m.\u001b[39;49m\u001b[43mcheck_scalar_conversion\u001b[49m\u001b[43m(\u001b[49m\u001b[38;5;28;43mself\u001b[39;49m\u001b[43m)\u001b[49m\n\u001b[1;32m    306\u001b[0m   \u001b[38;5;28;01mreturn\u001b[39;00m \u001b[38;5;28mself\u001b[39m\u001b[38;5;241m.\u001b[39m_value\u001b[38;5;241m.\u001b[39m\u001b[38;5;21m__complex__\u001b[39m()\n",
      "File \u001b[0;32m~/miniforge3/envs/torch_env/lib/python3.11/site-packages/jax/_src/core.py:662\u001b[0m, in \u001b[0;36mcheck_scalar_conversion\u001b[0;34m(arr)\u001b[0m\n\u001b[1;32m    661\u001b[0m \u001b[38;5;28;01mif\u001b[39;00m arr\u001b[38;5;241m.\u001b[39mndim \u001b[38;5;241m>\u001b[39m \u001b[38;5;241m0\u001b[39m:\n\u001b[0;32m--> 662\u001b[0m   \u001b[38;5;28;01mraise\u001b[39;00m \u001b[38;5;167;01mTypeError\u001b[39;00m(\u001b[38;5;124m\"\u001b[39m\u001b[38;5;124mOnly scalar arrays can be converted to Python scalars; \u001b[39m\u001b[38;5;124m\"\u001b[39m\n\u001b[1;32m    663\u001b[0m                   \u001b[38;5;124mf\u001b[39m\u001b[38;5;124m\"\u001b[39m\u001b[38;5;124mgot \u001b[39m\u001b[38;5;132;01m{\u001b[39;00marr\u001b[38;5;241m.\u001b[39mndim\u001b[38;5;132;01m=}\u001b[39;00m\u001b[38;5;124m\"\u001b[39m)\n",
      "\u001b[0;31mTypeError\u001b[0m: Only scalar arrays can be converted to Python scalars; got arr.ndim=1",
      "\nThe above exception was the direct cause of the following exception:\n",
      "\u001b[0;31mTypeError\u001b[0m                                 Traceback (most recent call last)",
      "Cell \u001b[0;32mIn[11], line 23\u001b[0m\n\u001b[1;32m     21\u001b[0m \u001b[38;5;66;03m# For example, starting with your final DataFrame that has one row per test_key/gate:\u001b[39;00m\n\u001b[1;32m     22\u001b[0m df_by_gate \u001b[38;5;241m=\u001b[39m df_final  \u001b[38;5;66;03m# your existing per-gate DataFrame\u001b[39;00m\n\u001b[0;32m---> 23\u001b[0m df_aggregated \u001b[38;5;241m=\u001b[39m \u001b[43maggregate_by_test_key_only\u001b[49m\u001b[43m(\u001b[49m\u001b[43mdf_by_gate\u001b[49m\u001b[43m)\u001b[49m\n\u001b[1;32m     24\u001b[0m \u001b[38;5;28mprint\u001b[39m(\u001b[38;5;124m\"\u001b[39m\u001b[38;5;124mAggregated DataFrame (one row per test_key):\u001b[39m\u001b[38;5;124m\"\u001b[39m, df_aggregated\u001b[38;5;241m.\u001b[39mshape)\n",
      "Cell \u001b[0;32mIn[11], line 18\u001b[0m, in \u001b[0;36maggregate_by_test_key_only\u001b[0;34m(df)\u001b[0m\n\u001b[1;32m     14\u001b[0m cols_to_avg \u001b[38;5;241m=\u001b[39m [col \u001b[38;5;28;01mfor\u001b[39;00m col \u001b[38;5;129;01min\u001b[39;00m df\u001b[38;5;241m.\u001b[39mcolumns \n\u001b[1;32m     15\u001b[0m                \u001b[38;5;28;01mif\u001b[39;00m col \u001b[38;5;129;01mnot\u001b[39;00m \u001b[38;5;129;01min\u001b[39;00m [\u001b[38;5;124m'\u001b[39m\u001b[38;5;124mgate\u001b[39m\u001b[38;5;124m'\u001b[39m, \u001b[38;5;124m'\u001b[39m\u001b[38;5;124mfidelities_list\u001b[39m\u001b[38;5;124m'\u001b[39m, \u001b[38;5;124m'\u001b[39m\u001b[38;5;124mfile_path\u001b[39m\u001b[38;5;124m'\u001b[39m, \u001b[38;5;124m'\u001b[39m\u001b[38;5;124mtest_key\u001b[39m\u001b[38;5;124m'\u001b[39m]]\n\u001b[1;32m     17\u001b[0m \u001b[38;5;66;03m# Group by test_key and compute the mean of all numeric columns.\u001b[39;00m\n\u001b[0;32m---> 18\u001b[0m aggregated \u001b[38;5;241m=\u001b[39m \u001b[43mdf\u001b[49m\u001b[38;5;241;43m.\u001b[39;49m\u001b[43mgroupby\u001b[49m\u001b[43m(\u001b[49m\u001b[38;5;124;43m\"\u001b[39;49m\u001b[38;5;124;43mtest_key\u001b[39;49m\u001b[38;5;124;43m\"\u001b[39;49m\u001b[43m)\u001b[49m\u001b[43m[\u001b[49m\u001b[43mcols_to_avg\u001b[49m\u001b[43m]\u001b[49m\u001b[38;5;241;43m.\u001b[39;49m\u001b[43mmean\u001b[49m\u001b[43m(\u001b[49m\u001b[43m)\u001b[49m\u001b[38;5;241m.\u001b[39mreset_index()\n\u001b[1;32m     19\u001b[0m \u001b[38;5;28;01mreturn\u001b[39;00m aggregated\n",
      "File \u001b[0;32m~/miniforge3/envs/torch_env/lib/python3.11/site-packages/pandas/core/groupby/groupby.py:2452\u001b[0m, in \u001b[0;36mGroupBy.mean\u001b[0;34m(self, numeric_only, engine, engine_kwargs)\u001b[0m\n\u001b[1;32m   2445\u001b[0m     \u001b[38;5;28;01mreturn\u001b[39;00m \u001b[38;5;28mself\u001b[39m\u001b[38;5;241m.\u001b[39m_numba_agg_general(\n\u001b[1;32m   2446\u001b[0m         grouped_mean,\n\u001b[1;32m   2447\u001b[0m         executor\u001b[38;5;241m.\u001b[39mfloat_dtype_mapping,\n\u001b[1;32m   2448\u001b[0m         engine_kwargs,\n\u001b[1;32m   2449\u001b[0m         min_periods\u001b[38;5;241m=\u001b[39m\u001b[38;5;241m0\u001b[39m,\n\u001b[1;32m   2450\u001b[0m     )\n\u001b[1;32m   2451\u001b[0m \u001b[38;5;28;01melse\u001b[39;00m:\n\u001b[0;32m-> 2452\u001b[0m     result \u001b[38;5;241m=\u001b[39m \u001b[38;5;28;43mself\u001b[39;49m\u001b[38;5;241;43m.\u001b[39;49m\u001b[43m_cython_agg_general\u001b[49m\u001b[43m(\u001b[49m\n\u001b[1;32m   2453\u001b[0m \u001b[43m        \u001b[49m\u001b[38;5;124;43m\"\u001b[39;49m\u001b[38;5;124;43mmean\u001b[39;49m\u001b[38;5;124;43m\"\u001b[39;49m\u001b[43m,\u001b[49m\n\u001b[1;32m   2454\u001b[0m \u001b[43m        \u001b[49m\u001b[43malt\u001b[49m\u001b[38;5;241;43m=\u001b[39;49m\u001b[38;5;28;43;01mlambda\u001b[39;49;00m\u001b[43m \u001b[49m\u001b[43mx\u001b[49m\u001b[43m:\u001b[49m\u001b[43m \u001b[49m\u001b[43mSeries\u001b[49m\u001b[43m(\u001b[49m\u001b[43mx\u001b[49m\u001b[43m,\u001b[49m\u001b[43m \u001b[49m\u001b[43mcopy\u001b[49m\u001b[38;5;241;43m=\u001b[39;49m\u001b[38;5;28;43;01mFalse\u001b[39;49;00m\u001b[43m)\u001b[49m\u001b[38;5;241;43m.\u001b[39;49m\u001b[43mmean\u001b[49m\u001b[43m(\u001b[49m\u001b[43mnumeric_only\u001b[49m\u001b[38;5;241;43m=\u001b[39;49m\u001b[43mnumeric_only\u001b[49m\u001b[43m)\u001b[49m\u001b[43m,\u001b[49m\n\u001b[1;32m   2455\u001b[0m \u001b[43m        \u001b[49m\u001b[43mnumeric_only\u001b[49m\u001b[38;5;241;43m=\u001b[39;49m\u001b[43mnumeric_only\u001b[49m\u001b[43m,\u001b[49m\n\u001b[1;32m   2456\u001b[0m \u001b[43m    \u001b[49m\u001b[43m)\u001b[49m\n\u001b[1;32m   2457\u001b[0m     \u001b[38;5;28;01mreturn\u001b[39;00m result\u001b[38;5;241m.\u001b[39m__finalize__(\u001b[38;5;28mself\u001b[39m\u001b[38;5;241m.\u001b[39mobj, method\u001b[38;5;241m=\u001b[39m\u001b[38;5;124m\"\u001b[39m\u001b[38;5;124mgroupby\u001b[39m\u001b[38;5;124m\"\u001b[39m)\n",
      "File \u001b[0;32m~/miniforge3/envs/torch_env/lib/python3.11/site-packages/pandas/core/groupby/groupby.py:1998\u001b[0m, in \u001b[0;36mGroupBy._cython_agg_general\u001b[0;34m(self, how, alt, numeric_only, min_count, **kwargs)\u001b[0m\n\u001b[1;32m   1995\u001b[0m     result \u001b[38;5;241m=\u001b[39m \u001b[38;5;28mself\u001b[39m\u001b[38;5;241m.\u001b[39m_agg_py_fallback(how, values, ndim\u001b[38;5;241m=\u001b[39mdata\u001b[38;5;241m.\u001b[39mndim, alt\u001b[38;5;241m=\u001b[39malt)\n\u001b[1;32m   1996\u001b[0m     \u001b[38;5;28;01mreturn\u001b[39;00m result\n\u001b[0;32m-> 1998\u001b[0m new_mgr \u001b[38;5;241m=\u001b[39m \u001b[43mdata\u001b[49m\u001b[38;5;241;43m.\u001b[39;49m\u001b[43mgrouped_reduce\u001b[49m\u001b[43m(\u001b[49m\u001b[43marray_func\u001b[49m\u001b[43m)\u001b[49m\n\u001b[1;32m   1999\u001b[0m res \u001b[38;5;241m=\u001b[39m \u001b[38;5;28mself\u001b[39m\u001b[38;5;241m.\u001b[39m_wrap_agged_manager(new_mgr)\n\u001b[1;32m   2000\u001b[0m \u001b[38;5;28;01mif\u001b[39;00m how \u001b[38;5;129;01min\u001b[39;00m [\u001b[38;5;124m\"\u001b[39m\u001b[38;5;124midxmin\u001b[39m\u001b[38;5;124m\"\u001b[39m, \u001b[38;5;124m\"\u001b[39m\u001b[38;5;124midxmax\u001b[39m\u001b[38;5;124m\"\u001b[39m]:\n",
      "File \u001b[0;32m~/miniforge3/envs/torch_env/lib/python3.11/site-packages/pandas/core/internals/managers.py:1469\u001b[0m, in \u001b[0;36mBlockManager.grouped_reduce\u001b[0;34m(self, func)\u001b[0m\n\u001b[1;32m   1465\u001b[0m \u001b[38;5;28;01mif\u001b[39;00m blk\u001b[38;5;241m.\u001b[39mis_object:\n\u001b[1;32m   1466\u001b[0m     \u001b[38;5;66;03m# split on object-dtype blocks bc some columns may raise\u001b[39;00m\n\u001b[1;32m   1467\u001b[0m     \u001b[38;5;66;03m#  while others do not.\u001b[39;00m\n\u001b[1;32m   1468\u001b[0m     \u001b[38;5;28;01mfor\u001b[39;00m sb \u001b[38;5;129;01min\u001b[39;00m blk\u001b[38;5;241m.\u001b[39m_split():\n\u001b[0;32m-> 1469\u001b[0m         applied \u001b[38;5;241m=\u001b[39m \u001b[43msb\u001b[49m\u001b[38;5;241;43m.\u001b[39;49m\u001b[43mapply\u001b[49m\u001b[43m(\u001b[49m\u001b[43mfunc\u001b[49m\u001b[43m)\u001b[49m\n\u001b[1;32m   1470\u001b[0m         result_blocks \u001b[38;5;241m=\u001b[39m extend_blocks(applied, result_blocks)\n\u001b[1;32m   1471\u001b[0m \u001b[38;5;28;01melse\u001b[39;00m:\n",
      "File \u001b[0;32m~/miniforge3/envs/torch_env/lib/python3.11/site-packages/pandas/core/internals/blocks.py:393\u001b[0m, in \u001b[0;36mBlock.apply\u001b[0;34m(self, func, **kwargs)\u001b[0m\n\u001b[1;32m    387\u001b[0m \u001b[38;5;129m@final\u001b[39m\n\u001b[1;32m    388\u001b[0m \u001b[38;5;28;01mdef\u001b[39;00m \u001b[38;5;21mapply\u001b[39m(\u001b[38;5;28mself\u001b[39m, func, \u001b[38;5;241m*\u001b[39m\u001b[38;5;241m*\u001b[39mkwargs) \u001b[38;5;241m-\u001b[39m\u001b[38;5;241m>\u001b[39m \u001b[38;5;28mlist\u001b[39m[Block]:\n\u001b[1;32m    389\u001b[0m \u001b[38;5;250m    \u001b[39m\u001b[38;5;124;03m\"\"\"\u001b[39;00m\n\u001b[1;32m    390\u001b[0m \u001b[38;5;124;03m    apply the function to my values; return a block if we are not\u001b[39;00m\n\u001b[1;32m    391\u001b[0m \u001b[38;5;124;03m    one\u001b[39;00m\n\u001b[1;32m    392\u001b[0m \u001b[38;5;124;03m    \"\"\"\u001b[39;00m\n\u001b[0;32m--> 393\u001b[0m     result \u001b[38;5;241m=\u001b[39m \u001b[43mfunc\u001b[49m\u001b[43m(\u001b[49m\u001b[38;5;28;43mself\u001b[39;49m\u001b[38;5;241;43m.\u001b[39;49m\u001b[43mvalues\u001b[49m\u001b[43m,\u001b[49m\u001b[43m \u001b[49m\u001b[38;5;241;43m*\u001b[39;49m\u001b[38;5;241;43m*\u001b[39;49m\u001b[43mkwargs\u001b[49m\u001b[43m)\u001b[49m\n\u001b[1;32m    395\u001b[0m     result \u001b[38;5;241m=\u001b[39m maybe_coerce_values(result)\n\u001b[1;32m    396\u001b[0m     \u001b[38;5;28;01mreturn\u001b[39;00m \u001b[38;5;28mself\u001b[39m\u001b[38;5;241m.\u001b[39m_split_op_result(result)\n",
      "File \u001b[0;32m~/miniforge3/envs/torch_env/lib/python3.11/site-packages/pandas/core/groupby/groupby.py:1995\u001b[0m, in \u001b[0;36mGroupBy._cython_agg_general.<locals>.array_func\u001b[0;34m(values)\u001b[0m\n\u001b[1;32m   1992\u001b[0m     \u001b[38;5;28;01mreturn\u001b[39;00m result\n\u001b[1;32m   1994\u001b[0m \u001b[38;5;28;01massert\u001b[39;00m alt \u001b[38;5;129;01mis\u001b[39;00m \u001b[38;5;129;01mnot\u001b[39;00m \u001b[38;5;28;01mNone\u001b[39;00m\n\u001b[0;32m-> 1995\u001b[0m result \u001b[38;5;241m=\u001b[39m \u001b[38;5;28;43mself\u001b[39;49m\u001b[38;5;241;43m.\u001b[39;49m\u001b[43m_agg_py_fallback\u001b[49m\u001b[43m(\u001b[49m\u001b[43mhow\u001b[49m\u001b[43m,\u001b[49m\u001b[43m \u001b[49m\u001b[43mvalues\u001b[49m\u001b[43m,\u001b[49m\u001b[43m \u001b[49m\u001b[43mndim\u001b[49m\u001b[38;5;241;43m=\u001b[39;49m\u001b[43mdata\u001b[49m\u001b[38;5;241;43m.\u001b[39;49m\u001b[43mndim\u001b[49m\u001b[43m,\u001b[49m\u001b[43m \u001b[49m\u001b[43malt\u001b[49m\u001b[38;5;241;43m=\u001b[39;49m\u001b[43malt\u001b[49m\u001b[43m)\u001b[49m\n\u001b[1;32m   1996\u001b[0m \u001b[38;5;28;01mreturn\u001b[39;00m result\n",
      "File \u001b[0;32m~/miniforge3/envs/torch_env/lib/python3.11/site-packages/pandas/core/groupby/groupby.py:1946\u001b[0m, in \u001b[0;36mGroupBy._agg_py_fallback\u001b[0;34m(self, how, values, ndim, alt)\u001b[0m\n\u001b[1;32m   1944\u001b[0m     msg \u001b[38;5;241m=\u001b[39m \u001b[38;5;124mf\u001b[39m\u001b[38;5;124m\"\u001b[39m\u001b[38;5;124magg function failed [how->\u001b[39m\u001b[38;5;132;01m{\u001b[39;00mhow\u001b[38;5;132;01m}\u001b[39;00m\u001b[38;5;124m,dtype->\u001b[39m\u001b[38;5;132;01m{\u001b[39;00mser\u001b[38;5;241m.\u001b[39mdtype\u001b[38;5;132;01m}\u001b[39;00m\u001b[38;5;124m]\u001b[39m\u001b[38;5;124m\"\u001b[39m\n\u001b[1;32m   1945\u001b[0m     \u001b[38;5;66;03m# preserve the kind of exception that raised\u001b[39;00m\n\u001b[0;32m-> 1946\u001b[0m     \u001b[38;5;28;01mraise\u001b[39;00m \u001b[38;5;28mtype\u001b[39m(err)(msg) \u001b[38;5;28;01mfrom\u001b[39;00m \u001b[38;5;21;01merr\u001b[39;00m\n\u001b[1;32m   1948\u001b[0m \u001b[38;5;28;01mif\u001b[39;00m ser\u001b[38;5;241m.\u001b[39mdtype \u001b[38;5;241m==\u001b[39m \u001b[38;5;28mobject\u001b[39m:\n\u001b[1;32m   1949\u001b[0m     res_values \u001b[38;5;241m=\u001b[39m res_values\u001b[38;5;241m.\u001b[39mastype(\u001b[38;5;28mobject\u001b[39m, copy\u001b[38;5;241m=\u001b[39m\u001b[38;5;28;01mFalse\u001b[39;00m)\n",
      "\u001b[0;31mTypeError\u001b[0m: agg function failed [how->mean,dtype->object]"
     ]
    }
   ],
   "source": [
    "def aggregate_by_test_key_only(df):\n",
    "    print(df.keys())\n",
    "    aggregated = df.groupby(\"test_key\").agg(\n",
    "       \n",
    "        avg_fidelity=(\"avg_fidelity\", \"mean\"),\n",
    "        avg_infidelity=(\"avg_fidelity\", lambda x: np.mean(1-x)),\n",
    "        avg_error=(\"avg_fidelity\", lambda x: np.mean(np.log(1 - x))),\n",
    "        qfim_eigvals_GHZ=(\"qfim_eigvals\", \"first\"),\n",
    "        qfim_full=(\"qfim_full\", \"first\"),\n",
    "        entropy=(\"entropy\", \"first\"),\n",
    "        N_ctrl=(\"N_ctrl\", \"first\"),\n",
    "        N_reserv=(\"N_R\", \"first\"),\n",
    "        Trotter_Step=(\"Trotter_Step\", \"first\")\n",
    "    ).reset_index()\n",
    "    cols_to_avg = [col for col in df.columns \n",
    "                   if col not in ['gate', 'fidelities_list', 'file_path', 'test_key']]\n",
    "    \n",
    "    # Group by test_key and compute the mean of all numeric columns.\n",
    "    aggregated = df.groupby(\"test_key\")[cols_to_avg].mean().reset_index()\n",
    "    return aggregated\n",
    "\n",
    "# For example, starting with your final DataFrame that has one row per test_key/gate:\n",
    "df_by_gate = df_final  # your existing per-gate DataFrame\n",
    "df_aggregated = aggregate_by_test_key_only(df_by_gate)\n",
    "print(\"Aggregated DataFrame (one row per test_key):\", df_aggregated.shape)\n",
    "\n"
   ]
  },
  {
   "cell_type": "code",
   "execution_count": 17,
   "metadata": {},
   "outputs": [
    {
     "name": "stdout",
     "output_type": "stream",
     "text": [
      "Index(['costs', 'fidelity', 'num_params', 'test_results', 'qfim_eigvals',\n",
      "       'qfim_full', 'entropy', 'N_ctrl', 'Trotter_Step', 'N_R', 'gate',\n",
      "       'test_key', 'gate_folder', 'file_path'],\n",
      "      dtype='object')\n",
      "Aggregated DataFrame shape: (8, 10)\n"
     ]
    },
    {
     "data": {
      "text/plain": [
       "Index(['test_key', 'fidelities_list', 'avg_fidelity', 'error', 'qfim_eigvals',\n",
       "       'qfim_full', 'entropy', 'N_ctrl', 'N_reserv', 'Trotter_Step'],\n",
       "      dtype='object')"
      ]
     },
     "metadata": {},
     "output_type": "display_data"
    },
    {
     "name": "stderr",
     "output_type": "stream",
     "text": [
      "/var/folders/xx/w2tzbky134bg3g8mct87xb8c0000gn/T/ipykernel_76635/2990458844.py:210: ComplexWarning:\n",
      "\n",
      "Casting complex values to real discards the imaginary part\n",
      "\n"
     ]
    }
   ],
   "source": [
    "import numpy as np\n",
    "import pandas as pd\n",
    "def aggregate_results_list(df):\n",
    "    \"\"\"\n",
    "    Aggregate the DataFrame by test_key.\n",
    "    For each test key:\n",
    "      - fidelities_list: a list of fidelity values (one per gate).\n",
    "      - avg_fidelity: the mean fidelity (using the pandas mean).\n",
    "      - error: aggregated error computed as the mean of log(1 - fidelity).\n",
    "      - qfim_eigvals: taken from the first row.\n",
    "      - entropy: extracted from the first row's qfim_stats.\n",
    "    \n",
    "    Returns a new DataFrame with one row per test key.\n",
    "    \"\"\"\n",
    "    print(df.keys())\n",
    "    aggregated = df.groupby(\"test_key\").agg(\n",
    "        fidelities_list=(\"fidelity\", list),\n",
    "        avg_fidelity=(\"fidelity\", \"mean\"),\n",
    "        error=(\"fidelity\", lambda x: np.mean(np.log(1 - x))),\n",
    "        qfim_eigvals=(\"qfim_eigvals\", \"first\"),\n",
    "        qfim_full=(\"qfim_full\", \"first\"),\n",
    "        entropy=(\"entropy\", \"first\"),\n",
    "        N_ctrl=(\"N_ctrl\", \"first\"),\n",
    "        N_reserv=(\"N_R\", \"first\"),\n",
    "        Trotter_Step=(\"Trotter_Step\", \"first\")\n",
    "    ).reset_index()\n",
    "    \n",
    "    return aggregated\n",
    "\n",
    "df_agg = aggregate_results_list(df_results)\n",
    "print(\"Aggregated DataFrame shape:\", df_agg.shape)\n",
    "display(df_agg.keys())\n",
    "\n",
    "\n",
    "\n",
    "# Update with computed QFIM metrics for each variant.\n",
    "df_final = update_with_all_qfim_metrics(df_agg, threshold=1e-12, spread_methods=(\"variance\", \"mad\"),\n",
    "                                        ddof=1, scale=\"normal\", gamma=0.1, n=1, V_theta=1.0)\n",
    "\n",
    "\n"
   ]
  },
  {
   "cell_type": "code",
   "execution_count": null,
   "metadata": {},
   "outputs": [],
   "source": [
    "\n",
    "# Then update with QFIM metrics as before:\n",
    "def update_with_qfim_metrics(df, threshold=1e-12, spread_methods=(\"variance\", \"mad\"),\n",
    "                             ddof=1, scale=\"normal\", \n",
    "                             gamma=0.1, n=1, V_theta=1.0):\n",
    "    \"\"\"\n",
    "    For each row in df (representing one test key), call compute_single_draw_stats \n",
    "    with the provided parameters.\n",
    "    \"\"\"\n",
    "    new_rows = []\n",
    "    for _, row in df.iterrows():\n",
    "        eigvals = row[\"qfim_eigvals\"]\n",
    "        full_qfim_mat = row['qfim_full']\n",
    "        qfim_metrics = compute_single_draw_stats(\n",
    "            eigvals,\n",
    "            full_qfim_mat,\n",
    "            threshold=threshold,\n",
    "            spread_methods=spread_methods,\n",
    "            ddof=ddof,\n",
    "            scale=scale,\n",
    "            gamma=gamma,\n",
    "            n=n,\n",
    "            V_theta=V_theta,\n",
    "            n_ctrl=row[\"N_ctrl\"],\n",
    "            n_reserv=row[\"N_reserv\"],\n",
    "            trotter_step=row[\"Trotter_Step\"]\n",
    "        )\n",
    "        updated_row = row.to_dict()\n",
    "        updated_row.update(qfim_metrics)\n",
    "        new_rows.append(updated_row)\n",
    "    return pd.DataFrame(new_rows)\n",
    "\n",
    "df_final = update_with_qfim_metrics(df_agg)\n",
    "\n"
   ]
  },
  {
   "cell_type": "code",
   "execution_count": null,
   "metadata": {},
   "outputs": [],
   "source": [
    "import pingouin as pg\n",
    "\n",
    "def analyze_correlations(df_merged, x_metric, metrics_of_interest, corr_threshold=0.2, p_threshold=0.05):\n",
    "    \"\"\"\n",
    "    Analyze pairwise correlations between a given x_metric and each metric in metrics_of_interest.\n",
    "    \n",
    "    Parameters\n",
    "    ----------\n",
    "    df_merged : pd.DataFrame\n",
    "        The merged DataFrame containing the columns of interest.\n",
    "    x_metric : str\n",
    "        The column name for the independent variable (e.g., \"avg_fidelity\").\n",
    "    metrics_of_interest : list of str\n",
    "        List of column names whose correlations with x_metric will be computed.\n",
    "    corr_threshold : float, optional\n",
    "        Minimum absolute correlation coefficient to report (default 0.2).\n",
    "    p_threshold : float, optional\n",
    "        Maximum p-value threshold to report (default 0.05).\n",
    "        \n",
    "    Returns\n",
    "    -------\n",
    "    pearson_results : dict\n",
    "        Dictionary mapping each metric to its Pearson correlation coefficient and p-value.\n",
    "    spearman_results : dict\n",
    "        Dictionary mapping each metric to its Spearman correlation coefficient and p-value.\n",
    "    \"\"\"\n",
    "    # Create a new DataFrame with the columns of interest and drop rows with NaN values.\n",
    "    df_corr = df_merged[[x_metric] + metrics_of_interest].copy()\n",
    "    df_corr = df_corr.dropna(subset=[x_metric] + metrics_of_interest)\n",
    "    # print(\"Columns in df_corr:\", df_corr.columns)\n",
    "    # print(\"Number of rows after dropna:\", len(df_corr))\n",
    "    \n",
    "    # Ensure that each metric column contains float values (e.g., convert from JAX arrays if needed)\n",
    "    for col in metrics_of_interest:\n",
    "        df_corr[col] = df_corr[col].apply(\n",
    "            lambda val: float(val.item()) if hasattr(val, \"item\") else float(val)\n",
    "        )\n",
    "    \n",
    "    # Compute Pearson correlations for each metric.\n",
    "    pearson_results = {}\n",
    "    for col in metrics_of_interest:\n",
    "        res_df = pg.corr(x=df_corr[x_metric], y=df_corr[col], method=\"pearson\")\n",
    "        r_val = res_df[\"r\"].iloc[0]\n",
    "        p_val = res_df[\"p-val\"].iloc[0]\n",
    "        pearson_results[col] = {\"pearson_r\": r_val, \"p_value\": p_val}\n",
    "    \n",
    "    # Compute Spearman correlations for each metric.\n",
    "    spearman_results = {}\n",
    "    for col in metrics_of_interest:\n",
    "        sp_df = pg.corr(x=df_corr[x_metric], y=df_corr[col], method=\"spearman\")\n",
    "        rho_val = sp_df[\"r\"].iloc[0]\n",
    "        p_val = sp_df[\"p-val\"].iloc[0]\n",
    "        spearman_results[col] = {\"spearman_rho\": rho_val, \"p_value\": p_val}\n",
    "    \n",
    "    # Print out the correlations that meet the filtering thresholds.\n",
    "    print(f\"\\nPairwise correlations vs. {x_metric} (Pearson):\")\n",
    "    for metric, vals in pearson_results.items():\n",
    "        if abs(vals[\"pearson_r\"]) > corr_threshold and vals[\"p_value\"] < p_threshold:\n",
    "            print(f\"{metric}: r={vals['pearson_r']:.3f}, p={vals['p_value']:.3g}\")\n",
    "    \n",
    "    print(f\"\\nPairwise correlations vs. {x_metric} (Spearman):\")\n",
    "    for metric, vals in spearman_results.items():\n",
    "        if abs(vals[\"spearman_rho\"]) > corr_threshold and vals[\"p_value\"] < p_threshold:\n",
    "            print(f\"{metric}: rho={vals['spearman_rho']:.3f}, p={vals['p_value']:.3g}\")\n",
    "    \n",
    "    return pearson_results, spearman_results\n",
    "x_metric = \"error\"\n",
    "metrics_of_interest = [\n",
    "    'trace_normalized_by_rank',                # Trace of QFIM\n",
    "    'trace_normalized_by_rank_dqfim',\n",
    "    'var_all_eigenvalues',\n",
    "   'var_all_eigenvalues_dqfim',  \n",
    "    'spread_metric_mad',\n",
    "    'spread_metric_mad_dqfim', \n",
    "    'spread_metric_variance', \n",
    "    \"spread_metric_variance_dqfim\", \n",
    "    \"d_eff\", \"d_eff_dqfim\"\n",
    "]\n",
    "metrics_of_interest = [\n",
    "    \"entropy\",\"var_all_eigenvalues\", \"var_nonzero_eigenvalues\", \"trace_eigenvalues\",\n",
    "    \"var_nonzero_log\", \"var_nonzero_normalized_by_rank\",\n",
    "    \"trace_normalized_by_rank\",\n",
    "    \"ipr_deff_raw\", \"ipr_deff_norm\",\n",
    "    \"spread_metric_variance\", \"spread_metric_mad\",\n",
    "    \"trace_dqfim\",\"trace_normalized_by_param_count_dqfim\",\n",
    "   \"var_all_eigenvalues_dqfim\",\"var_nonzero_log_dqfim\",\n",
    "    \"var_nonzero_eigenvalues_dqfim\", \"var_all_normalized_by_param_count_dqfim\",\n",
    "    \"var_nonzero_normalized_by_rank_dqfim\", \"ipr_deff_raw_dqfim\",\n",
    "    \"ipr_deff_norm_dqfim\", \"abbas_deff_raw_dqfim\", \"abbas_deff_norm_dqfim\",\n",
    "    \"spread_metric_variance_dqfim\", \"spread_metric_mad_dqfim\",\n",
    "    \"d_eff\", \"d_eff_dqfim\"\n",
    "]\n",
    "pearson_corrs, spearman_corrs = analyze_correlations(\n",
    "    df_merged, x_metric, metrics_of_interest,\n",
    "    corr_threshold=0.1, p_threshold=0.05\n",
    ")"
   ]
  },
  {
   "cell_type": "code",
   "execution_count": null,
   "metadata": {},
   "outputs": [],
   "source": []
  },
  {
   "cell_type": "code",
   "execution_count": null,
   "metadata": {},
   "outputs": [],
   "source": []
  },
  {
   "cell_type": "code",
   "execution_count": null,
   "metadata": {},
   "outputs": [],
   "source": []
  },
  {
   "cell_type": "code",
   "execution_count": 16,
   "metadata": {},
   "outputs": [
    {
     "name": "stdout",
     "output_type": "stream",
     "text": [
      "/Users/sophieblock/QRCcapstone/parameter_analysis_directory/QFIM_global_results/gate_model_DQFIM/Nc_2/sample_pi/1bbxK/Nr_1/trotter_step_14/L_100/data.pickle\n"
     ]
    },
    {
     "name": "stderr",
     "output_type": "stream",
     "text": [
      "/var/folders/xx/w2tzbky134bg3g8mct87xb8c0000gn/T/ipykernel_76635/2990458844.py:210: ComplexWarning:\n",
      "\n",
      "Casting complex values to real discards the imaginary part\n",
      "\n"
     ]
    },
    {
     "data": {
      "text/plain": [
       "array(['test104', 'test122', 'test129', 'test175', 'test18', 'test197',\n",
       "       'test7', 'test79'], dtype=object)"
      ]
     },
     "execution_count": 16,
     "metadata": {},
     "output_type": "execute_result"
    }
   ],
   "source": [
    "import math\n",
    "\n",
    "def collect_dqfim_stats(all_tests_data, fixed_params_key, threshold=1e-12, gamma=0.1, n=100):\n",
    "    \"\"\"\n",
    "    Build a single dictionary-of-dicts for the DQFIM stats keyed by test_key.\n",
    "\n",
    "    Returns a dict:\n",
    "\n",
    "        {\n",
    "           test_key1: {\n",
    "               \"draw_rank\": ...,\n",
    "               \"trace_eigenvalues\": ...,\n",
    "               \"ipr_deff_raw_dqfim\": ...,\n",
    "               ... all metrics ...\n",
    "           },\n",
    "           test_key2: {...},\n",
    "           ...\n",
    "        }\n",
    "\n",
    "    Then we can convert to a DataFrame and merge.\n",
    "    \"\"\"\n",
    "    dqfim_stats_dict = {}\n",
    "    test_data = all_tests_data[fixed_params_key]\n",
    "\n",
    "    for test_key, results in test_data.items():\n",
    "        qfi_eigvals = results[\"qfim_eigvals\"]\n",
    "        qfim_mat = results[\"qfim\"]\n",
    "        # call your single-draw function\n",
    "        stats = compute_single_draw_stats(\n",
    "            qfi_eigvals,\n",
    "            qfim_mat,\n",
    "            threshold=threshold,\n",
    "            gamma=gamma,\n",
    "            n=n,           # number of data-based states\n",
    "        )\n",
    "      \n",
    "        # rename or store with distinct suffix (e.g. \"_dqfim\") if you want\n",
    "        # so they don’t collide with existing columns\n",
    "        dqfim_stats_dict[test_key] = {\n",
    "            \"draw_rank_dqfim\": stats[\"draw_rank\"],\n",
    "            \"trace_dqfim\": stats[\"trace_eigenvalues\"],\n",
    "            \"trace_normalized_by_rank_dqfim\": stats[\"trace_normalized_by_rank\"],\n",
    "            \"trace_normalized_by_param_count_dqfim\": stats[\"trace_normalized_by_param_count\"],\n",
    "            \"var_all_eigenvalues_dqfim\": stats[\"var_all_eigenvalues\"],\n",
    "            \"var_nonzero_eigenvalues_dqfim\": stats[\"var_nonzero_eigenvalues\"],\n",
    "            \"var_all_normalized_by_param_count_dqfim\": stats[\"var_all_normalized_by_param_count\"],\n",
    "            \"var_all_normalized_by_rank_dqfim\": stats[\"var_all_normalized_by_rank\"],\n",
    "            \"var_nonzero_normalized_by_rank_dqfim\": stats[\"var_nonzero_normalized_by_rank\"],\n",
    "             \"var_nonzero_log_dqfim\": stats[\"var_nonzero_log\"],\n",
    "            \"ipr_deff_raw_dqfim\": stats[\"ipr_deff_raw\"],\n",
    "            \"ipr_deff_norm_dqfim\": stats[\"ipr_deff_norm\"],\n",
    "            \"abbas_deff_raw_dqfim\": stats[\"abbas_deff_raw\"],\n",
    "            \"abbas_deff_norm_dqfim\": stats[\"abbas_deff_norm\"],\n",
    "            # And the spread-of-log results:\n",
    "            \"spread_metric_variance_dqfim\": stats.get(\"spread_metric_variance\", 0.0),\n",
    "            \"spread_metric_mad_dqfim\": stats.get(\"spread_metric_mad\", 0.0),\n",
    "            \"d_eff_dqfim\": stats.get(\"d_eff\",0.0)\n",
    "        }\n",
    "    return dqfim_stats_dict\n",
    "\n",
    "\n",
    "L = 100\n",
    "T = 14\n",
    "file_path = (\n",
    "    f\"/Users/sophieblock/QRCcapstone/parameter_analysis_directory/\"\n",
    "    f\"QFIM_global_results/gate_model_DQFIM/Nc_2/sample_pi/1bbxK/\"\n",
    "    f\"Nr_1/trotter_step_{T}/L_{L}/data.pickle\"\n",
    ")\n",
    "print(file_path)\n",
    "with open(file_path, 'rb') as f:\n",
    "    all_tests_data = pickle.load(f)\n",
    "\n",
    "fixed_params_key = \"fixed_params0\"\n",
    "dqfim_stats_dict = collect_dqfim_stats(\n",
    "    all_tests_data,\n",
    "    fixed_params_key,\n",
    "    threshold=1e-12,\n",
    "    gamma=1.0,\n",
    "    n=L\n",
    ")\n",
    "\n",
    "\n",
    "# Convert the dictionary-of-dicts to a DataFrame, keyed by test_key\n",
    "df_dqfim = pd.DataFrame.from_dict(dqfim_stats_dict, orient=\"index\")\n",
    "df_dqfim.reset_index(inplace=True)\n",
    "df_dqfim.rename(columns={\"index\": \"test_key\"}, inplace=True)\n",
    "\n",
    "# Now df_dqfim has columns like:\n",
    "#   test_key, trace_dqfim, var_all_eigenvalues_dqfim, ...\n",
    "# Merge onto df_final on 'test_key'\n",
    "df_merged = pd.merge(df_final, df_dqfim, on=\"test_key\", how=\"left\")\n",
    "\n",
    "# print(\"df_merged columns:\", df_merged.columns)\n",
    "\n",
    "df_merged['test_key'].unique()\n"
   ]
  },
  {
   "cell_type": "code",
   "execution_count": 11,
   "metadata": {},
   "outputs": [
    {
     "name": "stdout",
     "output_type": "stream",
     "text": [
      "\n",
      "Pairwise correlations vs. error (Pearson):\n",
      "\n",
      "Pairwise correlations vs. error (Spearman):\n"
     ]
    }
   ],
   "source": [
    "import pingouin as pg\n",
    "\n",
    "def analyze_correlations(df_merged, x_metric, metrics_of_interest, corr_threshold=0.2, p_threshold=0.05):\n",
    "    \"\"\"\n",
    "    Analyze pairwise correlations between a given x_metric and each metric in metrics_of_interest.\n",
    "    \n",
    "    Parameters\n",
    "    ----------\n",
    "    df_merged : pd.DataFrame\n",
    "        The merged DataFrame containing the columns of interest.\n",
    "    x_metric : str\n",
    "        The column name for the independent variable (e.g., \"avg_fidelity\").\n",
    "    metrics_of_interest : list of str\n",
    "        List of column names whose correlations with x_metric will be computed.\n",
    "    corr_threshold : float, optional\n",
    "        Minimum absolute correlation coefficient to report (default 0.2).\n",
    "    p_threshold : float, optional\n",
    "        Maximum p-value threshold to report (default 0.05).\n",
    "        \n",
    "    Returns\n",
    "    -------\n",
    "    pearson_results : dict\n",
    "        Dictionary mapping each metric to its Pearson correlation coefficient and p-value.\n",
    "    spearman_results : dict\n",
    "        Dictionary mapping each metric to its Spearman correlation coefficient and p-value.\n",
    "    \"\"\"\n",
    "    # Create a new DataFrame with the columns of interest and drop rows with NaN values.\n",
    "    df_corr = df_merged[[x_metric] + metrics_of_interest].copy()\n",
    "    df_corr = df_corr.dropna(subset=[x_metric] + metrics_of_interest)\n",
    "    # print(\"Columns in df_corr:\", df_corr.columns)\n",
    "    # print(\"Number of rows after dropna:\", len(df_corr))\n",
    "    \n",
    "    # Ensure that each metric column contains float values (e.g., convert from JAX arrays if needed)\n",
    "    for col in metrics_of_interest:\n",
    "        df_corr[col] = df_corr[col].apply(\n",
    "            lambda val: float(val.item()) if hasattr(val, \"item\") else float(val)\n",
    "        )\n",
    "    \n",
    "    # Compute Pearson correlations for each metric.\n",
    "    pearson_results = {}\n",
    "    for col in metrics_of_interest:\n",
    "        res_df = pg.corr(x=df_corr[x_metric], y=df_corr[col], method=\"pearson\")\n",
    "        r_val = res_df[\"r\"].iloc[0]\n",
    "        p_val = res_df[\"p-val\"].iloc[0]\n",
    "        pearson_results[col] = {\"pearson_r\": r_val, \"p_value\": p_val}\n",
    "    \n",
    "    # Compute Spearman correlations for each metric.\n",
    "    spearman_results = {}\n",
    "    for col in metrics_of_interest:\n",
    "        sp_df = pg.corr(x=df_corr[x_metric], y=df_corr[col], method=\"spearman\")\n",
    "        rho_val = sp_df[\"r\"].iloc[0]\n",
    "        p_val = sp_df[\"p-val\"].iloc[0]\n",
    "        spearman_results[col] = {\"spearman_rho\": rho_val, \"p_value\": p_val}\n",
    "    \n",
    "    # Print out the correlations that meet the filtering thresholds.\n",
    "    print(f\"\\nPairwise correlations vs. {x_metric} (Pearson):\")\n",
    "    for metric, vals in pearson_results.items():\n",
    "        if abs(vals[\"pearson_r\"]) > corr_threshold and vals[\"p_value\"] < p_threshold:\n",
    "            print(f\"{metric}: r={vals['pearson_r']:.3f}, p={vals['p_value']:.3g}\")\n",
    "    \n",
    "    print(f\"\\nPairwise correlations vs. {x_metric} (Spearman):\")\n",
    "    for metric, vals in spearman_results.items():\n",
    "        if abs(vals[\"spearman_rho\"]) > corr_threshold and vals[\"p_value\"] < p_threshold:\n",
    "            print(f\"{metric}: rho={vals['spearman_rho']:.3f}, p={vals['p_value']:.3g}\")\n",
    "    \n",
    "    return pearson_results, spearman_results\n",
    "x_metric = \"error\"\n",
    "metrics_of_interest = [\n",
    "    'trace_normalized_by_rank',                # Trace of QFIM\n",
    "    'trace_normalized_by_rank_dqfim',\n",
    "    'var_all_eigenvalues',\n",
    "   'var_all_eigenvalues_dqfim',  \n",
    "    'spread_metric_mad',\n",
    "    'spread_metric_mad_dqfim', \n",
    "    'spread_metric_variance', \n",
    "    \"spread_metric_variance_dqfim\", \n",
    "    \"d_eff\", \"d_eff_dqfim\"\n",
    "]\n",
    "metrics_of_interest = [\n",
    "    \"entropy\",\"var_all_eigenvalues\", \"var_nonzero_eigenvalues\", \"trace_eigenvalues\",\n",
    "    \"var_nonzero_log\", \"var_nonzero_normalized_by_rank\",\n",
    "    \"trace_normalized_by_rank\",\n",
    "    \"ipr_deff_raw\", \"ipr_deff_norm\",\n",
    "    \"spread_metric_variance\", \"spread_metric_mad\",\n",
    "    \"trace_dqfim\",\"trace_normalized_by_param_count_dqfim\",\n",
    "   \"var_all_eigenvalues_dqfim\",\"var_nonzero_log_dqfim\",\n",
    "    \"var_nonzero_eigenvalues_dqfim\", \"var_all_normalized_by_param_count_dqfim\",\n",
    "    \"var_nonzero_normalized_by_rank_dqfim\", \"ipr_deff_raw_dqfim\",\n",
    "    \"ipr_deff_norm_dqfim\", \"abbas_deff_raw_dqfim\", \"abbas_deff_norm_dqfim\",\n",
    "    \"spread_metric_variance_dqfim\", \"spread_metric_mad_dqfim\",\n",
    "    \"d_eff\", \"d_eff_dqfim\"\n",
    "]\n",
    "pearson_corrs, spearman_corrs = analyze_correlations(\n",
    "    df_merged, x_metric, metrics_of_interest,\n",
    "    corr_threshold=0.1, p_threshold=0.05\n",
    ")"
   ]
  },
  {
   "cell_type": "code",
   "execution_count": 12,
   "metadata": {},
   "outputs": [
    {
     "name": "stdout",
     "output_type": "stream",
     "text": [
      "\n",
      "Pairwise correlations vs. error (Pearson):\n",
      "entropy: r=0.328, p=0.428\n",
      "var_all_eigenvalues: r=0.487, p=0.221\n",
      "var_nonzero_eigenvalues: r=0.490, p=0.217\n",
      "trace_eigenvalues: r=0.331, p=0.423\n",
      "var_nonzero_log: r=0.237, p=0.572\n",
      "var_nonzero_normalized_by_rank: r=0.490, p=0.217\n",
      "trace_normalized_by_rank: r=0.331, p=0.423\n",
      "ipr_deff_raw: r=-0.177, p=0.675\n",
      "ipr_deff_norm: r=-0.177, p=0.675\n",
      "spread_metric_variance: r=-0.186, p=0.659\n",
      "spread_metric_mad: r=-0.296, p=0.476\n",
      "trace_dqfim: r=0.108, p=0.8\n",
      "trace_normalized_by_param_count_dqfim: r=0.108, p=0.8\n",
      "var_all_eigenvalues_dqfim: r=0.176, p=0.676\n",
      "var_nonzero_log_dqfim: r=0.333, p=0.42\n",
      "var_nonzero_eigenvalues_dqfim: r=0.185, p=0.661\n",
      "var_all_normalized_by_param_count_dqfim: r=0.176, p=0.676\n",
      "var_nonzero_normalized_by_rank_dqfim: r=0.185, p=0.661\n",
      "ipr_deff_raw_dqfim: r=-0.578, p=0.133\n",
      "ipr_deff_norm_dqfim: r=-0.578, p=0.133\n",
      "abbas_deff_raw_dqfim: r=-0.087, p=0.838\n",
      "abbas_deff_norm_dqfim: r=-0.510, p=0.197\n",
      "spread_metric_variance_dqfim: r=-0.243, p=0.562\n",
      "spread_metric_mad_dqfim: r=-0.108, p=0.799\n",
      "d_eff: r=-0.326, p=0.431\n",
      "d_eff_dqfim: r=-0.374, p=0.361\n"
     ]
    }
   ],
   "source": [
    "print(f\"\\nPairwise correlations vs. {x_metric} (Pearson):\")\n",
    "for metric, vals in pearson_corrs.items():\n",
    "    # if abs(vals[\"pearson_r\"]) > corr_threshold and vals[\"p_value\"] < p_threshold:\n",
    "    print(f\"{metric}: r={vals['pearson_r']:.3f}, p={vals['p_value']:.3g}\")\n"
   ]
  },
  {
   "cell_type": "code",
   "execution_count": 13,
   "metadata": {},
   "outputs": [
    {
     "data": {
      "image/png": "[encoded data removed]",
      "text/plain": [
       "<Figure size 1000x1000 with 20 Axes>"
      ]
     },
     "metadata": {},
     "output_type": "display_data"
    }
   ],
   "source": [
    "import seaborn as sns\n",
    "import matplotlib.pyplot as plt\n",
    "import pandas as pd\n",
    "# Define the list of columns (metrics) you wish to examine.\n",
    "# Adjust these names if your columns have different names.\n",
    "metrics_to_plot = [\n",
    "    # 'avg_fidelity',         # Averaged fidelity from test results\n",
    "    \"trace_eigenvalues\",\n",
    "    'trace_normalized_by_rank',                # Trace of QFIM\n",
    "    # 'trace_normalized_by_rank_dqfim',\n",
    "    'var_all_eigenvalues',\n",
    "#    'var_all_eigenvalues_dqfim',  \n",
    "   'var_all_normalized_by_rank',\n",
    "#    'var_all_normalized_by_rank_dqfim'\n",
    "    # 'spread_metric_mad',\n",
    "    # 'spread_metric_mad_dqfim', \n",
    "    # 'spread_metric_variance',\n",
    "    # 'spread_metric_variance_dqfim',      \n",
    "     \n",
    "   \n",
    "\n",
    "    # 'ipr_deff_raw_dqfim',  # Effective dimension computed via the paper's formula\n",
    "   \n",
    "]\n",
    "\n",
    "\n",
    "# # 2. Pair Plot\n",
    "sns.pairplot(df_merged[metrics_to_plot])\n",
    "plt.suptitle(\"Pairplot of QFIM Metrics and Fidelity\", y=1.02)\n",
    "plt.show()"
   ]
  },
  {
   "cell_type": "code",
   "execution_count": 14,
   "metadata": {},
   "outputs": [
    {
     "data": {
      "application/vnd.plotly.v1+json": {
       "config": {
        "plotlyServerURL": "https://plot.ly"
       },
       "data": [
        {
         "customdata": [
          [
           "test104"
          ],
          [
           "test122"
          ],
          [
           "test129"
          ],
          [
           "test175"
          ],
          [
           "test18"
          ],
          [
           "test197"
          ],
          [
           "test7"
          ],
          [
           "test79"
          ]
         ],
         "dimensions": [
          {
           "axis": {
            "matches": true
           },
           "label": "error",
           "values": [
            -5.3300042014712385,
            -5.414585229770524,
            -5.51070005712947,
            -5.483841621834328,
            -6.070450022685729,
            -5.730713561831541,
            -6.062832081395495,
            -6.0312196475872275
           ]
          },
          {
           "axis": {
            "matches": true
           },
           "label": "trace_normalized_by_rank",
           "values": [
            5.227453601890253,
            5.464169324667697,
            1.3198327437108068,
            1.6568440768684014,
            1.572443571441545,
            5.375373491297736,
            2.7600320472369577,
            3.5275182281618376
           ]
          },
          {
           "axis": {
            "matches": true
           },
           "label": "var_all_normalized_by_rank",
           "values": [
            9.064317336211165,
            9.849189892654497,
            0.22231943044808994,
            0.24135439218276963,
            0.2543843056820188,
            9.071372852902591,
            1.576695765965766,
            2.290821758018865
           ]
          }
         ],
         "hovertemplate": "%{xaxis.title.text}=%{x}<br>%{yaxis.title.text}=%{y}<br>test_key=%{customdata[0]}<br>avg_fidelity=%{marker.color}<extra></extra>",
         "legendgroup": "",
         "marker": {
          "color": [
           0.9922314216626884,
           0.9907408185956496,
           0.9933308284480394,
           0.994884837752299,
           0.9971930633016309,
           0.9953034540362586,
           0.9952535256069079,
           0.996252251751077
          ],
          "coloraxis": "coloraxis",
          "symbol": "circle"
         },
         "name": "",
         "showlegend": false,
         "type": "splom"
        }
       ],
       "layout": {
        "coloraxis": {
         "colorbar": {
          "title": {
           "text": "avg_fidelity"
          }
         },
         "colorscale": [
          [
           0,
           "#0d0887"
          ],
          [
           0.1111111111111111,
           "#46039f"
          ],
          [
           0.2222222222222222,
           "#7201a8"
          ],
          [
           0.3333333333333333,
           "#9c179e"
          ],
          [
           0.4444444444444444,
           "#bd3786"
          ],
          [
           0.5555555555555556,
           "#d8576b"
          ],
          [
           0.6666666666666666,
           "#ed7953"
          ],
          [
           0.7777777777777778,
           "#fb9f3a"
          ],
          [
           0.8888888888888888,
           "#fdca26"
          ],
          [
           1,
           "#f0f921"
          ]
         ]
        },
        "dragmode": "select",
        "height": 1000,
        "legend": {
         "tracegroupgap": 0
        },
        "template": {
         "data": {
          "bar": [
           {
            "error_x": {
             "color": "#2a3f5f"
            },
            "error_y": {
             "color": "#2a3f5f"
            },
            "marker": {
             "line": {
              "color": "#E5ECF6",
              "width": 0.5
             },
             "pattern": {
              "fillmode": "overlay",
              "size": 10,
              "solidity": 0.2
             }
            },
            "type": "bar"
           }
          ],
          "barpolar": [
           {
            "marker": {
             "line": {
              "color": "#E5ECF6",
              "width": 0.5
             },
             "pattern": {
              "fillmode": "overlay",
              "size": 10,
              "solidity": 0.2
             }
            },
            "type": "barpolar"
           }
          ],
          "carpet": [
           {
            "aaxis": {
             "endlinecolor": "#2a3f5f",
             "gridcolor": "white",
             "linecolor": "white",
             "minorgridcolor": "white",
             "startlinecolor": "#2a3f5f"
            },
            "baxis": {
             "endlinecolor": "#2a3f5f",
             "gridcolor": "white",
             "linecolor": "white",
             "minorgridcolor": "white",
             "startlinecolor": "#2a3f5f"
            },
            "type": "carpet"
           }
          ],
          "choropleth": [
           {
            "colorbar": {
             "outlinewidth": 0,
             "ticks": ""
            },
            "type": "choropleth"
           }
          ],
          "contour": [
           {
            "colorbar": {
             "outlinewidth": 0,
             "ticks": ""
            },
            "colorscale": [
             [
              0,
              "#0d0887"
             ],
             [
              0.1111111111111111,
              "#46039f"
             ],
             [
              0.2222222222222222,
              "#7201a8"
             ],
             [
              0.3333333333333333,
              "#9c179e"
             ],
             [
              0.4444444444444444,
              "#bd3786"
             ],
             [
              0.5555555555555556,
              "#d8576b"
             ],
             [
              0.6666666666666666,
              "#ed7953"
             ],
             [
              0.7777777777777778,
              "#fb9f3a"
             ],
             [
              0.8888888888888888,
              "#fdca26"
             ],
             [
              1,
              "#f0f921"
             ]
            ],
            "type": "contour"
           }
          ],
          "contourcarpet": [
           {
            "colorbar": {
             "outlinewidth": 0,
             "ticks": ""
            },
            "type": "contourcarpet"
           }
          ],
          "heatmap": [
           {
            "colorbar": {
             "outlinewidth": 0,
             "ticks": ""
            },
            "colorscale": [
             [
              0,
              "#0d0887"
             ],
             [
              0.1111111111111111,
              "#46039f"
             ],
             [
              0.2222222222222222,
              "#7201a8"
             ],
             [
              0.3333333333333333,
              "#9c179e"
             ],
             [
              0.4444444444444444,
              "#bd3786"
             ],
             [
              0.5555555555555556,
              "#d8576b"
             ],
             [
              0.6666666666666666,
              "#ed7953"
             ],
             [
              0.7777777777777778,
              "#fb9f3a"
             ],
             [
              0.8888888888888888,
              "#fdca26"
             ],
             [
              1,
              "#f0f921"
             ]
            ],
            "type": "heatmap"
           }
          ],
          "heatmapgl": [
           {
            "colorbar": {
             "outlinewidth": 0,
             "ticks": ""
            },
            "colorscale": [
             [
              0,
              "#0d0887"
             ],
             [
              0.1111111111111111,
              "#46039f"
             ],
             [
              0.2222222222222222,
              "#7201a8"
             ],
             [
              0.3333333333333333,
              "#9c179e"
             ],
             [
              0.4444444444444444,
              "#bd3786"
             ],
             [
              0.5555555555555556,
              "#d8576b"
             ],
             [
              0.6666666666666666,
              "#ed7953"
             ],
             [
              0.7777777777777778,
              "#fb9f3a"
             ],
             [
              0.8888888888888888,
              "#fdca26"
             ],
             [
              1,
              "#f0f921"
             ]
            ],
            "type": "heatmapgl"
           }
          ],
          "histogram": [
           {
            "marker": {
             "pattern": {
              "fillmode": "overlay",
              "size": 10,
              "solidity": 0.2
             }
            },
            "type": "histogram"
           }
          ],
          "histogram2d": [
           {
            "colorbar": {
             "outlinewidth": 0,
             "ticks": ""
            },
            "colorscale": [
             [
              0,
              "#0d0887"
             ],
             [
              0.1111111111111111,
              "#46039f"
             ],
             [
              0.2222222222222222,
              "#7201a8"
             ],
             [
              0.3333333333333333,
              "#9c179e"
             ],
             [
              0.4444444444444444,
              "#bd3786"
             ],
             [
              0.5555555555555556,
              "#d8576b"
             ],
             [
              0.6666666666666666,
              "#ed7953"
             ],
             [
              0.7777777777777778,
              "#fb9f3a"
             ],
             [
              0.8888888888888888,
              "#fdca26"
             ],
             [
              1,
              "#f0f921"
             ]
            ],
            "type": "histogram2d"
           }
          ],
          "histogram2dcontour": [
           {
            "colorbar": {
             "outlinewidth": 0,
             "ticks": ""
            },
            "colorscale": [
             [
              0,
              "#0d0887"
             ],
             [
              0.1111111111111111,
              "#46039f"
             ],
             [
              0.2222222222222222,
              "#7201a8"
             ],
             [
              0.3333333333333333,
              "#9c179e"
             ],
             [
              0.4444444444444444,
              "#bd3786"
             ],
             [
              0.5555555555555556,
              "#d8576b"
             ],
             [
              0.6666666666666666,
              "#ed7953"
             ],
             [
              0.7777777777777778,
              "#fb9f3a"
             ],
             [
              0.8888888888888888,
              "#fdca26"
             ],
             [
              1,
              "#f0f921"
             ]
            ],
            "type": "histogram2dcontour"
           }
          ],
          "mesh3d": [
           {
            "colorbar": {
             "outlinewidth": 0,
             "ticks": ""
            },
            "type": "mesh3d"
           }
          ],
          "parcoords": [
           {
            "line": {
             "colorbar": {
              "outlinewidth": 0,
              "ticks": ""
             }
            },
            "type": "parcoords"
           }
          ],
          "pie": [
           {
            "automargin": true,
            "type": "pie"
           }
          ],
          "scatter": [
           {
            "fillpattern": {
             "fillmode": "overlay",
             "size": 10,
             "solidity": 0.2
            },
            "type": "scatter"
           }
          ],
          "scatter3d": [
           {
            "line": {
             "colorbar": {
              "outlinewidth": 0,
              "ticks": ""
             }
            },
            "marker": {
             "colorbar": {
              "outlinewidth": 0,
              "ticks": ""
             }
            },
            "type": "scatter3d"
           }
          ],
          "scattercarpet": [
           {
            "marker": {
             "colorbar": {
              "outlinewidth": 0,
              "ticks": ""
             }
            },
            "type": "scattercarpet"
           }
          ],
          "scattergeo": [
           {
            "marker": {
             "colorbar": {
              "outlinewidth": 0,
              "ticks": ""
             }
            },
            "type": "scattergeo"
           }
          ],
          "scattergl": [
           {
            "marker": {
             "colorbar": {
              "outlinewidth": 0,
              "ticks": ""
             }
            },
            "type": "scattergl"
           }
          ],
          "scattermapbox": [
           {
            "marker": {
             "colorbar": {
              "outlinewidth": 0,
              "ticks": ""
             }
            },
            "type": "scattermapbox"
           }
          ],
          "scatterpolar": [
           {
            "marker": {
             "colorbar": {
              "outlinewidth": 0,
              "ticks": ""
             }
            },
            "type": "scatterpolar"
           }
          ],
          "scatterpolargl": [
           {
            "marker": {
             "colorbar": {
              "outlinewidth": 0,
              "ticks": ""
             }
            },
            "type": "scatterpolargl"
           }
          ],
          "scatterternary": [
           {
            "marker": {
             "colorbar": {
              "outlinewidth": 0,
              "ticks": ""
             }
            },
            "type": "scatterternary"
           }
          ],
          "surface": [
           {
            "colorbar": {
             "outlinewidth": 0,
             "ticks": ""
            },
            "colorscale": [
             [
              0,
              "#0d0887"
             ],
             [
              0.1111111111111111,
              "#46039f"
             ],
             [
              0.2222222222222222,
              "#7201a8"
             ],
             [
              0.3333333333333333,
              "#9c179e"
             ],
             [
              0.4444444444444444,
              "#bd3786"
             ],
             [
              0.5555555555555556,
              "#d8576b"
             ],
             [
              0.6666666666666666,
              "#ed7953"
             ],
             [
              0.7777777777777778,
              "#fb9f3a"
             ],
             [
              0.8888888888888888,
              "#fdca26"
             ],
             [
              1,
              "#f0f921"
             ]
            ],
            "type": "surface"
           }
          ],
          "table": [
           {
            "cells": {
             "fill": {
              "color": "#EBF0F8"
             },
             "line": {
              "color": "white"
             }
            },
            "header": {
             "fill": {
              "color": "#C8D4E3"
             },
             "line": {
              "color": "white"
             }
            },
            "type": "table"
           }
          ]
         },
         "layout": {
          "annotationdefaults": {
           "arrowcolor": "#2a3f5f",
           "arrowhead": 0,
           "arrowwidth": 1
          },
          "autotypenumbers": "strict",
          "coloraxis": {
           "colorbar": {
            "outlinewidth": 0,
            "ticks": ""
           }
          },
          "colorscale": {
           "diverging": [
            [
             0,
             "#8e0152"
            ],
            [
             0.1,
             "#c51b7d"
            ],
            [
             0.2,
             "#de77ae"
            ],
            [
             0.3,
             "#f1b6da"
            ],
            [
             0.4,
             "#fde0ef"
            ],
            [
             0.5,
             "#f7f7f7"
            ],
            [
             0.6,
             "#e6f5d0"
            ],
            [
             0.7,
             "#b8e186"
            ],
            [
             0.8,
             "#7fbc41"
            ],
            [
             0.9,
             "#4d9221"
            ],
            [
             1,
             "#276419"
            ]
           ],
           "sequential": [
            [
             0,
             "#0d0887"
            ],
            [
             0.1111111111111111,
             "#46039f"
            ],
            [
             0.2222222222222222,
             "#7201a8"
            ],
            [
             0.3333333333333333,
             "#9c179e"
            ],
            [
             0.4444444444444444,
             "#bd3786"
            ],
            [
             0.5555555555555556,
             "#d8576b"
            ],
            [
             0.6666666666666666,
             "#ed7953"
            ],
            [
             0.7777777777777778,
             "#fb9f3a"
            ],
            [
             0.8888888888888888,
             "#fdca26"
            ],
            [
             1,
             "#f0f921"
            ]
           ],
           "sequentialminus": [
            [
             0,
             "#0d0887"
            ],
            [
             0.1111111111111111,
             "#46039f"
            ],
            [
             0.2222222222222222,
             "#7201a8"
            ],
            [
             0.3333333333333333,
             "#9c179e"
            ],
            [
             0.4444444444444444,
             "#bd3786"
            ],
            [
             0.5555555555555556,
             "#d8576b"
            ],
            [
             0.6666666666666666,
             "#ed7953"
            ],
            [
             0.7777777777777778,
             "#fb9f3a"
            ],
            [
             0.8888888888888888,
             "#fdca26"
            ],
            [
             1,
             "#f0f921"
            ]
           ]
          },
          "colorway": [
           "#636efa",
           "#EF553B",
           "#00cc96",
           "#ab63fa",
           "#FFA15A",
           "#19d3f3",
           "#FF6692",
           "#B6E880",
           "#FF97FF",
           "#FECB52"
          ],
          "font": {
           "color": "#2a3f5f"
          },
          "geo": {
           "bgcolor": "white",
           "lakecolor": "white",
           "landcolor": "#E5ECF6",
           "showlakes": true,
           "showland": true,
           "subunitcolor": "white"
          },
          "hoverlabel": {
           "align": "left"
          },
          "hovermode": "closest",
          "mapbox": {
           "style": "light"
          },
          "paper_bgcolor": "white",
          "plot_bgcolor": "#E5ECF6",
          "polar": {
           "angularaxis": {
            "gridcolor": "white",
            "linecolor": "white",
            "ticks": ""
           },
           "bgcolor": "#E5ECF6",
           "radialaxis": {
            "gridcolor": "white",
            "linecolor": "white",
            "ticks": ""
           }
          },
          "scene": {
           "xaxis": {
            "backgroundcolor": "#E5ECF6",
            "gridcolor": "white",
            "gridwidth": 2,
            "linecolor": "white",
            "showbackground": true,
            "ticks": "",
            "zerolinecolor": "white"
           },
           "yaxis": {
            "backgroundcolor": "#E5ECF6",
            "gridcolor": "white",
            "gridwidth": 2,
            "linecolor": "white",
            "showbackground": true,
            "ticks": "",
            "zerolinecolor": "white"
           },
           "zaxis": {
            "backgroundcolor": "#E5ECF6",
            "gridcolor": "white",
            "gridwidth": 2,
            "linecolor": "white",
            "showbackground": true,
            "ticks": "",
            "zerolinecolor": "white"
           }
          },
          "shapedefaults": {
           "line": {
            "color": "#2a3f5f"
           }
          },
          "ternary": {
           "aaxis": {
            "gridcolor": "white",
            "linecolor": "white",
            "ticks": ""
           },
           "baxis": {
            "gridcolor": "white",
            "linecolor": "white",
            "ticks": ""
           },
           "bgcolor": "#E5ECF6",
           "caxis": {
            "gridcolor": "white",
            "linecolor": "white",
            "ticks": ""
           }
          },
          "title": {
           "x": 0.05
          },
          "xaxis": {
           "automargin": true,
           "gridcolor": "white",
           "linecolor": "white",
           "ticks": "",
           "title": {
            "standoff": 15
           },
           "zerolinecolor": "white",
           "zerolinewidth": 2
          },
          "yaxis": {
           "automargin": true,
           "gridcolor": "white",
           "linecolor": "white",
           "ticks": "",
           "title": {
            "standoff": 15
           },
           "zerolinecolor": "white",
           "zerolinewidth": 2
          }
         }
        },
        "title": {
         "text": "Scatter Matrix of Predictors with Fidelity as Color"
        },
        "width": 1000
       }
      }
     },
     "metadata": {},
     "output_type": "display_data"
    }
   ],
   "source": [
    "import plotly.express as px\n",
    "predictor_metrics = [\n",
    " \n",
    "    'error',\n",
    "    'trace_normalized_by_rank',                # Trace of QFIM\n",
    "    # 'trace_normalized_by_rank_dqfim',\n",
    "    'var_all_normalized_by_rank',\n",
    "#    'var_all_eigenvalues_dqfim',  \n",
    "    # 'spread_metric_mad',\n",
    "    # 'spread_metric_mad_dqfim', \n",
    "    # 'spread_metric_variance', \n",
    "    # \"spread_metric_variance_dqfim\", \n",
    "    # \"d_eff\", \"d_eff_dqfim\"\n",
    "\n",
    "]\n",
    "metrics_to_visualize = [\n",
    "    \"test_key\",\n",
    "    'avg_fidelity',\n",
    "    \n",
    "]\n",
    "metrics_to_visualize.extend(predictor_metrics)\n",
    "df_viz = df_merged[metrics_to_visualize].dropna()\n",
    "\n",
    "fig = px.scatter_matrix(\n",
    "    df_viz,\n",
    "    dimensions=predictor_metrics,\n",
    "    color=\"avg_fidelity\",        # Use fidelity as the color dimension\n",
    "    hover_data=[\"test_key\"],      # Show test_key on hover\n",
    "    title=\"Scatter Matrix of Predictors with Fidelity as Color\"\n",
    ")\n",
    "fig.update_layout(width=1000, height=1000)\n",
    "fig.show()"
   ]
  },
  {
   "cell_type": "code",
   "execution_count": null,
   "metadata": {},
   "outputs": [],
   "source": []
  },
  {
   "cell_type": "code",
   "execution_count": 31,
   "metadata": {},
   "outputs": [
    {
     "data": {
      "application/vnd.plotly.v1+json": {
       "config": {
        "plotlyServerURL": "https://plot.ly"
       },
       "data": [
        {
         "customdata": [
          [
           "test0"
          ],
          [
           "test1"
          ],
          [
           "test100"
          ],
          [
           "test109"
          ],
          [
           "test110"
          ],
          [
           "test146"
          ],
          [
           "test152"
          ],
          [
           "test160"
          ],
          [
           "test189"
          ],
          [
           "test192"
          ],
          [
           "test195"
          ],
          [
           "test198"
          ],
          [
           "test199"
          ],
          [
           "test26"
          ],
          [
           "test43"
          ],
          [
           "test62"
          ],
          [
           "test64"
          ],
          [
           "test8"
          ],
          [
           "test80"
          ],
          [
           "test96"
          ]
         ],
         "dimensions": [
          {
           "axis": {
            "matches": true
           },
           "label": "error",
           "values": [
            -3.815638471520879,
            -4.10710709469426,
            -3.997551690061115,
            -3.9974267651357547,
            -3.950189165560304,
            -4.296283834814207,
            -3.999768952664097,
            -3.825230210214769,
            -4.597098550030021,
            -3.70573140787898,
            -3.78952025502139,
            -4.155787365470228,
            -4.254970359520625,
            -4.041287380541516,
            -4.441191689664767,
            -4.154951863168347,
            -4.192751901982245,
            -4.448110913155101,
            -4.055572560615993,
            -4.086187310118112
           ]
          },
          {
           "axis": {
            "matches": true
           },
           "label": "trace_normalized_by_rank_dqfim",
           "values": [
            0.5583202708667765,
            0.4821664999384666,
            0.453150714772346,
            0.24607410308284064,
            0.5719703325373605,
            0.49781996096329145,
            0.25342173864288875,
            0.31747917480145893,
            0.29857348136526224,
            0.41827552059354883,
            0.8225059212185443,
            0.9208426373855522,
            0.7016436606626182,
            0.5372734842317489,
            0.3488913186437761,
            0.35847309600406635,
            0.7034405959459643,
            1.0953556992889693,
            0.5254021312614593,
            0.8203058042718718
           ]
          },
          {
           "axis": {
            "matches": true
           },
           "label": "var_all_normalized_by_rank_dqfim",
           "values": [
            0.07897770586559155,
            0.04217134193294509,
            0.05243328905894488,
            0.007375466988840165,
            0.06522470662642485,
            0.05865368369542103,
            0.008521486738138292,
            0.017374226966654097,
            0.011670852083377434,
            0.023541270375857196,
            0.13165633985418046,
            0.29115769027887534,
            0.1379128667970288,
            0.07040064885334447,
            0.01681552315004026,
            0.01781988916022794,
            0.13413949105427825,
            0.41926043049459705,
            0.07587431254840922,
            0.22182412453565173
           ]
          }
         ],
         "hovertemplate": "%{xaxis.title.text}=%{x}<br>%{yaxis.title.text}=%{y}<br>test_key=%{customdata[0]}<br>avg_fidelity=%{marker.color}<extra></extra>",
         "legendgroup": "",
         "marker": {
          "color": [
           0.9711588305389934,
           0.9816096742254196,
           0.9790599813821766,
           0.978912330756439,
           0.9749344864860535,
           0.9835448892668092,
           0.9783600197006561,
           0.9733344020530065,
           0.984255117273402,
           0.9701533041364601,
           0.9747782851986024,
           0.981923963104491,
           0.9813354969227569,
           0.9798014638790614,
           0.9853591932919258,
           0.9817677887735781,
           0.9824638430457928,
           0.9794759274154868,
           0.9780637012185708,
           0.9802325993475459
          ],
          "coloraxis": "coloraxis",
          "symbol": "circle"
         },
         "name": "",
         "showlegend": false,
         "type": "splom"
        }
       ],
       "layout": {
        "coloraxis": {
         "colorbar": {
          "title": {
           "text": "avg_fidelity"
          }
         },
         "colorscale": [
          [
           0,
           "#0d0887"
          ],
          [
           0.1111111111111111,
           "#46039f"
          ],
          [
           0.2222222222222222,
           "#7201a8"
          ],
          [
           0.3333333333333333,
           "#9c179e"
          ],
          [
           0.4444444444444444,
           "#bd3786"
          ],
          [
           0.5555555555555556,
           "#d8576b"
          ],
          [
           0.6666666666666666,
           "#ed7953"
          ],
          [
           0.7777777777777778,
           "#fb9f3a"
          ],
          [
           0.8888888888888888,
           "#fdca26"
          ],
          [
           1,
           "#f0f921"
          ]
         ]
        },
        "dragmode": "select",
        "height": 1000,
        "legend": {
         "tracegroupgap": 0
        },
        "template": {
         "data": {
          "bar": [
           {
            "error_x": {
             "color": "#2a3f5f"
            },
            "error_y": {
             "color": "#2a3f5f"
            },
            "marker": {
             "line": {
              "color": "#E5ECF6",
              "width": 0.5
             },
             "pattern": {
              "fillmode": "overlay",
              "size": 10,
              "solidity": 0.2
             }
            },
            "type": "bar"
           }
          ],
          "barpolar": [
           {
            "marker": {
             "line": {
              "color": "#E5ECF6",
              "width": 0.5
             },
             "pattern": {
              "fillmode": "overlay",
              "size": 10,
              "solidity": 0.2
             }
            },
            "type": "barpolar"
           }
          ],
          "carpet": [
           {
            "aaxis": {
             "endlinecolor": "#2a3f5f",
             "gridcolor": "white",
             "linecolor": "white",
             "minorgridcolor": "white",
             "startlinecolor": "#2a3f5f"
            },
            "baxis": {
             "endlinecolor": "#2a3f5f",
             "gridcolor": "white",
             "linecolor": "white",
             "minorgridcolor": "white",
             "startlinecolor": "#2a3f5f"
            },
            "type": "carpet"
           }
          ],
          "choropleth": [
           {
            "colorbar": {
             "outlinewidth": 0,
             "ticks": ""
            },
            "type": "choropleth"
           }
          ],
          "contour": [
           {
            "colorbar": {
             "outlinewidth": 0,
             "ticks": ""
            },
            "colorscale": [
             [
              0,
              "#0d0887"
             ],
             [
              0.1111111111111111,
              "#46039f"
             ],
             [
              0.2222222222222222,
              "#7201a8"
             ],
             [
              0.3333333333333333,
              "#9c179e"
             ],
             [
              0.4444444444444444,
              "#bd3786"
             ],
             [
              0.5555555555555556,
              "#d8576b"
             ],
             [
              0.6666666666666666,
              "#ed7953"
             ],
             [
              0.7777777777777778,
              "#fb9f3a"
             ],
             [
              0.8888888888888888,
              "#fdca26"
             ],
             [
              1,
              "#f0f921"
             ]
            ],
            "type": "contour"
           }
          ],
          "contourcarpet": [
           {
            "colorbar": {
             "outlinewidth": 0,
             "ticks": ""
            },
            "type": "contourcarpet"
           }
          ],
          "heatmap": [
           {
            "colorbar": {
             "outlinewidth": 0,
             "ticks": ""
            },
            "colorscale": [
             [
              0,
              "#0d0887"
             ],
             [
              0.1111111111111111,
              "#46039f"
             ],
             [
              0.2222222222222222,
              "#7201a8"
             ],
             [
              0.3333333333333333,
              "#9c179e"
             ],
             [
              0.4444444444444444,
              "#bd3786"
             ],
             [
              0.5555555555555556,
              "#d8576b"
             ],
             [
              0.6666666666666666,
              "#ed7953"
             ],
             [
              0.7777777777777778,
              "#fb9f3a"
             ],
             [
              0.8888888888888888,
              "#fdca26"
             ],
             [
              1,
              "#f0f921"
             ]
            ],
            "type": "heatmap"
           }
          ],
          "heatmapgl": [
           {
            "colorbar": {
             "outlinewidth": 0,
             "ticks": ""
            },
            "colorscale": [
             [
              0,
              "#0d0887"
             ],
             [
              0.1111111111111111,
              "#46039f"
             ],
             [
              0.2222222222222222,
              "#7201a8"
             ],
             [
              0.3333333333333333,
              "#9c179e"
             ],
             [
              0.4444444444444444,
              "#bd3786"
             ],
             [
              0.5555555555555556,
              "#d8576b"
             ],
             [
              0.6666666666666666,
              "#ed7953"
             ],
             [
              0.7777777777777778,
              "#fb9f3a"
             ],
             [
              0.8888888888888888,
              "#fdca26"
             ],
             [
              1,
              "#f0f921"
             ]
            ],
            "type": "heatmapgl"
           }
          ],
          "histogram": [
           {
            "marker": {
             "pattern": {
              "fillmode": "overlay",
              "size": 10,
              "solidity": 0.2
             }
            },
            "type": "histogram"
           }
          ],
          "histogram2d": [
           {
            "colorbar": {
             "outlinewidth": 0,
             "ticks": ""
            },
            "colorscale": [
             [
              0,
              "#0d0887"
             ],
             [
              0.1111111111111111,
              "#46039f"
             ],
             [
              0.2222222222222222,
              "#7201a8"
             ],
             [
              0.3333333333333333,
              "#9c179e"
             ],
             [
              0.4444444444444444,
              "#bd3786"
             ],
             [
              0.5555555555555556,
              "#d8576b"
             ],
             [
              0.6666666666666666,
              "#ed7953"
             ],
             [
              0.7777777777777778,
              "#fb9f3a"
             ],
             [
              0.8888888888888888,
              "#fdca26"
             ],
             [
              1,
              "#f0f921"
             ]
            ],
            "type": "histogram2d"
           }
          ],
          "histogram2dcontour": [
           {
            "colorbar": {
             "outlinewidth": 0,
             "ticks": ""
            },
            "colorscale": [
             [
              0,
              "#0d0887"
             ],
             [
              0.1111111111111111,
              "#46039f"
             ],
             [
              0.2222222222222222,
              "#7201a8"
             ],
             [
              0.3333333333333333,
              "#9c179e"
             ],
             [
              0.4444444444444444,
              "#bd3786"
             ],
             [
              0.5555555555555556,
              "#d8576b"
             ],
             [
              0.6666666666666666,
              "#ed7953"
             ],
             [
              0.7777777777777778,
              "#fb9f3a"
             ],
             [
              0.8888888888888888,
              "#fdca26"
             ],
             [
              1,
              "#f0f921"
             ]
            ],
            "type": "histogram2dcontour"
           }
          ],
          "mesh3d": [
           {
            "colorbar": {
             "outlinewidth": 0,
             "ticks": ""
            },
            "type": "mesh3d"
           }
          ],
          "parcoords": [
           {
            "line": {
             "colorbar": {
              "outlinewidth": 0,
              "ticks": ""
             }
            },
            "type": "parcoords"
           }
          ],
          "pie": [
           {
            "automargin": true,
            "type": "pie"
           }
          ],
          "scatter": [
           {
            "fillpattern": {
             "fillmode": "overlay",
             "size": 10,
             "solidity": 0.2
            },
            "type": "scatter"
           }
          ],
          "scatter3d": [
           {
            "line": {
             "colorbar": {
              "outlinewidth": 0,
              "ticks": ""
             }
            },
            "marker": {
             "colorbar": {
              "outlinewidth": 0,
              "ticks": ""
             }
            },
            "type": "scatter3d"
           }
          ],
          "scattercarpet": [
           {
            "marker": {
             "colorbar": {
              "outlinewidth": 0,
              "ticks": ""
             }
            },
            "type": "scattercarpet"
           }
          ],
          "scattergeo": [
           {
            "marker": {
             "colorbar": {
              "outlinewidth": 0,
              "ticks": ""
             }
            },
            "type": "scattergeo"
           }
          ],
          "scattergl": [
           {
            "marker": {
             "colorbar": {
              "outlinewidth": 0,
              "ticks": ""
             }
            },
            "type": "scattergl"
           }
          ],
          "scattermapbox": [
           {
            "marker": {
             "colorbar": {
              "outlinewidth": 0,
              "ticks": ""
             }
            },
            "type": "scattermapbox"
           }
          ],
          "scatterpolar": [
           {
            "marker": {
             "colorbar": {
              "outlinewidth": 0,
              "ticks": ""
             }
            },
            "type": "scatterpolar"
           }
          ],
          "scatterpolargl": [
           {
            "marker": {
             "colorbar": {
              "outlinewidth": 0,
              "ticks": ""
             }
            },
            "type": "scatterpolargl"
           }
          ],
          "scatterternary": [
           {
            "marker": {
             "colorbar": {
              "outlinewidth": 0,
              "ticks": ""
             }
            },
            "type": "scatterternary"
           }
          ],
          "surface": [
           {
            "colorbar": {
             "outlinewidth": 0,
             "ticks": ""
            },
            "colorscale": [
             [
              0,
              "#0d0887"
             ],
             [
              0.1111111111111111,
              "#46039f"
             ],
             [
              0.2222222222222222,
              "#7201a8"
             ],
             [
              0.3333333333333333,
              "#9c179e"
             ],
             [
              0.4444444444444444,
              "#bd3786"
             ],
             [
              0.5555555555555556,
              "#d8576b"
             ],
             [
              0.6666666666666666,
              "#ed7953"
             ],
             [
              0.7777777777777778,
              "#fb9f3a"
             ],
             [
              0.8888888888888888,
              "#fdca26"
             ],
             [
              1,
              "#f0f921"
             ]
            ],
            "type": "surface"
           }
          ],
          "table": [
           {
            "cells": {
             "fill": {
              "color": "#EBF0F8"
             },
             "line": {
              "color": "white"
             }
            },
            "header": {
             "fill": {
              "color": "#C8D4E3"
             },
             "line": {
              "color": "white"
             }
            },
            "type": "table"
           }
          ]
         },
         "layout": {
          "annotationdefaults": {
           "arrowcolor": "#2a3f5f",
           "arrowhead": 0,
           "arrowwidth": 1
          },
          "autotypenumbers": "strict",
          "coloraxis": {
           "colorbar": {
            "outlinewidth": 0,
            "ticks": ""
           }
          },
          "colorscale": {
           "diverging": [
            [
             0,
             "#8e0152"
            ],
            [
             0.1,
             "#c51b7d"
            ],
            [
             0.2,
             "#de77ae"
            ],
            [
             0.3,
             "#f1b6da"
            ],
            [
             0.4,
             "#fde0ef"
            ],
            [
             0.5,
             "#f7f7f7"
            ],
            [
             0.6,
             "#e6f5d0"
            ],
            [
             0.7,
             "#b8e186"
            ],
            [
             0.8,
             "#7fbc41"
            ],
            [
             0.9,
             "#4d9221"
            ],
            [
             1,
             "#276419"
            ]
           ],
           "sequential": [
            [
             0,
             "#0d0887"
            ],
            [
             0.1111111111111111,
             "#46039f"
            ],
            [
             0.2222222222222222,
             "#7201a8"
            ],
            [
             0.3333333333333333,
             "#9c179e"
            ],
            [
             0.4444444444444444,
             "#bd3786"
            ],
            [
             0.5555555555555556,
             "#d8576b"
            ],
            [
             0.6666666666666666,
             "#ed7953"
            ],
            [
             0.7777777777777778,
             "#fb9f3a"
            ],
            [
             0.8888888888888888,
             "#fdca26"
            ],
            [
             1,
             "#f0f921"
            ]
           ],
           "sequentialminus": [
            [
             0,
             "#0d0887"
            ],
            [
             0.1111111111111111,
             "#46039f"
            ],
            [
             0.2222222222222222,
             "#7201a8"
            ],
            [
             0.3333333333333333,
             "#9c179e"
            ],
            [
             0.4444444444444444,
             "#bd3786"
            ],
            [
             0.5555555555555556,
             "#d8576b"
            ],
            [
             0.6666666666666666,
             "#ed7953"
            ],
            [
             0.7777777777777778,
             "#fb9f3a"
            ],
            [
             0.8888888888888888,
             "#fdca26"
            ],
            [
             1,
             "#f0f921"
            ]
           ]
          },
          "colorway": [
           "#636efa",
           "#EF553B",
           "#00cc96",
           "#ab63fa",
           "#FFA15A",
           "#19d3f3",
           "#FF6692",
           "#B6E880",
           "#FF97FF",
           "#FECB52"
          ],
          "font": {
           "color": "#2a3f5f"
          },
          "geo": {
           "bgcolor": "white",
           "lakecolor": "white",
           "landcolor": "#E5ECF6",
           "showlakes": true,
           "showland": true,
           "subunitcolor": "white"
          },
          "hoverlabel": {
           "align": "left"
          },
          "hovermode": "closest",
          "mapbox": {
           "style": "light"
          },
          "paper_bgcolor": "white",
          "plot_bgcolor": "#E5ECF6",
          "polar": {
           "angularaxis": {
            "gridcolor": "white",
            "linecolor": "white",
            "ticks": ""
           },
           "bgcolor": "#E5ECF6",
           "radialaxis": {
            "gridcolor": "white",
            "linecolor": "white",
            "ticks": ""
           }
          },
          "scene": {
           "xaxis": {
            "backgroundcolor": "#E5ECF6",
            "gridcolor": "white",
            "gridwidth": 2,
            "linecolor": "white",
            "showbackground": true,
            "ticks": "",
            "zerolinecolor": "white"
           },
           "yaxis": {
            "backgroundcolor": "#E5ECF6",
            "gridcolor": "white",
            "gridwidth": 2,
            "linecolor": "white",
            "showbackground": true,
            "ticks": "",
            "zerolinecolor": "white"
           },
           "zaxis": {
            "backgroundcolor": "#E5ECF6",
            "gridcolor": "white",
            "gridwidth": 2,
            "linecolor": "white",
            "showbackground": true,
            "ticks": "",
            "zerolinecolor": "white"
           }
          },
          "shapedefaults": {
           "line": {
            "color": "#2a3f5f"
           }
          },
          "ternary": {
           "aaxis": {
            "gridcolor": "white",
            "linecolor": "white",
            "ticks": ""
           },
           "baxis": {
            "gridcolor": "white",
            "linecolor": "white",
            "ticks": ""
           },
           "bgcolor": "#E5ECF6",
           "caxis": {
            "gridcolor": "white",
            "linecolor": "white",
            "ticks": ""
           }
          },
          "title": {
           "x": 0.05
          },
          "xaxis": {
           "automargin": true,
           "gridcolor": "white",
           "linecolor": "white",
           "ticks": "",
           "title": {
            "standoff": 15
           },
           "zerolinecolor": "white",
           "zerolinewidth": 2
          },
          "yaxis": {
           "automargin": true,
           "gridcolor": "white",
           "linecolor": "white",
           "ticks": "",
           "title": {
            "standoff": 15
           },
           "zerolinecolor": "white",
           "zerolinewidth": 2
          }
         }
        },
        "title": {
         "text": "Scatter Matrix of Predictors with Fidelity as Color"
        },
        "width": 1000
       }
      }
     },
     "metadata": {},
     "output_type": "display_data"
    }
   ],
   "source": [
    "predictor_metrics = [\n",
    " \n",
    "    'error',\n",
    "    'trace_normalized_by_rank_dqfim', \n",
    "    'var_all_normalized_by_rank_dqfim',\n",
    "#    'var_all_eigenvalues_dqfim',  \n",
    "    # 'spread_metric_mad',\n",
    "    # 'spread_metric_mad_dqfim', \n",
    "    # 'spread_metric_variance', \n",
    "    # \"spread_metric_variance_dqfim\", \n",
    "    # \"d_eff\", \"d_eff_dqfim\"\n",
    "\n",
    "]\n",
    "metrics_to_visualize = [\n",
    "    \"test_key\",\n",
    "    'avg_fidelity',\n",
    "    \n",
    "]\n",
    "metrics_to_visualize.extend(predictor_metrics)\n",
    "df_viz = df_merged[metrics_to_visualize].dropna()\n",
    "\n",
    "fig = px.scatter_matrix(\n",
    "    df_viz,\n",
    "    dimensions=predictor_metrics,\n",
    "    color=\"avg_fidelity\",        # Use fidelity as the color dimension\n",
    "    hover_data=[\"test_key\"],      # Show test_key on hover\n",
    "    title=\"Scatter Matrix of Predictors with Fidelity as Color\"\n",
    ")\n",
    "fig.update_layout(width=1000, height=1000)\n",
    "fig.show()"
   ]
  },
  {
   "cell_type": "code",
   "execution_count": null,
   "metadata": {},
   "outputs": [
    {
     "data": {
      "application/vnd.plotly.v1+json": {
       "config": {
        "plotlyServerURL": "https://plot.ly"
       },
       "data": [
        {
         "customdata": [
          [
           "test0"
          ],
          [
           "test100"
          ],
          [
           "test112"
          ],
          [
           "test172"
          ],
          [
           "test182"
          ],
          [
           "test190"
          ],
          [
           "test199"
          ],
          [
           "test20"
          ],
          [
           "test34"
          ],
          [
           "test43"
          ],
          [
           "test46"
          ],
          [
           "test49"
          ]
         ],
         "dimensions": [
          {
           "axis": {
            "matches": true
           },
           "label": "error",
           "values": [
            -7.071867590933122,
            -5.6585954132922085,
            -6.293804422690063,
            -6.2846691851674485,
            -5.908944302124466,
            -7.023425399696336,
            -6.233574094657852,
            -6.230848208447703,
            -5.871947759433557,
            -5.997036673457182,
            -6.574581873042177,
            -6.6679912251357365
           ]
          },
          {
           "axis": {
            "matches": true
           },
           "label": "var_nonzero_eigenvalues_dqfim",
           "values": [
            2.208442647007359,
            1.4670138612916042,
            0.4578621838114542,
            2.1714982459400054,
            0.2187943177837609,
            1.9311540425895426,
            3.883293706337682,
            1.9900915169969764,
            1.3664507296820818,
            0.44163980948185644,
            4.028271906551156,
            4.740761875607324
           ]
          },
          {
           "axis": {
            "matches": true
           },
           "label": "abbas_deff_norm_dqfim",
           "values": [
            2.0617220897556248,
            2.0455850017690387,
            2.3721905838255712,
            2.1162130054195973,
            2.476440045028645,
            2.003386868768592,
            1.9969828874143434,
            2.072310685840678,
            2.1791457365875804,
            2.408644440029838,
            1.8890128762261216,
            2.1682245029958773
           ]
          },
          {
           "axis": {
            "matches": true
           },
           "label": "abbas_deff_raw_dqfim",
           "values": [
            7.627700439674657,
            6.557681392825421,
            7.150685699257009,
            8.008115118942115,
            6.6232817741751795,
            6.821786721274161,
            8.317086483504967,
            7.722955133923068,
            7.783301354596464,
            7.453897764824342,
            7.2998849685986205,
            9.859758398167616
           ]
          }
         ],
         "hovertemplate": "%{xaxis.title.text}=%{x}<br>%{yaxis.title.text}=%{y}<br>test_key=%{customdata[0]}<br>avg_fidelity=%{marker.color}<extra></extra>",
         "legendgroup": "",
         "marker": {
          "color": [
           0.997253034179552,
           0.9950256363810162,
           0.9927418670772202,
           0.9932183170101424,
           0.9948754739220368,
           0.9980499430776255,
           0.9956392609818177,
           0.9939849256435842,
           0.9928823500604,
           0.9933726690941654,
           0.9968490312706922,
           0.9972242493178328
          ],
          "coloraxis": "coloraxis",
          "symbol": "circle"
         },
         "name": "",
         "showlegend": false,
         "type": "splom"
        }
       ],
       "layout": {
        "coloraxis": {
         "colorbar": {
          "title": {
           "text": "avg_fidelity"
          }
         },
         "colorscale": [
          [
           0,
           "#0d0887"
          ],
          [
           0.1111111111111111,
           "#46039f"
          ],
          [
           0.2222222222222222,
           "#7201a8"
          ],
          [
           0.3333333333333333,
           "#9c179e"
          ],
          [
           0.4444444444444444,
           "#bd3786"
          ],
          [
           0.5555555555555556,
           "#d8576b"
          ],
          [
           0.6666666666666666,
           "#ed7953"
          ],
          [
           0.7777777777777778,
           "#fb9f3a"
          ],
          [
           0.8888888888888888,
           "#fdca26"
          ],
          [
           1,
           "#f0f921"
          ]
         ]
        },
        "dragmode": "select",
        "height": 1000,
        "legend": {
         "tracegroupgap": 0
        },
        "template": {
         "data": {
          "bar": [
           {
            "error_x": {
             "color": "#2a3f5f"
            },
            "error_y": {
             "color": "#2a3f5f"
            },
            "marker": {
             "line": {
              "color": "#E5ECF6",
              "width": 0.5
             },
             "pattern": {
              "fillmode": "overlay",
              "size": 10,
              "solidity": 0.2
             }
            },
            "type": "bar"
           }
          ],
          "barpolar": [
           {
            "marker": {
             "line": {
              "color": "#E5ECF6",
              "width": 0.5
             },
             "pattern": {
              "fillmode": "overlay",
              "size": 10,
              "solidity": 0.2
             }
            },
            "type": "barpolar"
           }
          ],
          "carpet": [
           {
            "aaxis": {
             "endlinecolor": "#2a3f5f",
             "gridcolor": "white",
             "linecolor": "white",
             "minorgridcolor": "white",
             "startlinecolor": "#2a3f5f"
            },
            "baxis": {
             "endlinecolor": "#2a3f5f",
             "gridcolor": "white",
             "linecolor": "white",
             "minorgridcolor": "white",
             "startlinecolor": "#2a3f5f"
            },
            "type": "carpet"
           }
          ],
          "choropleth": [
           {
            "colorbar": {
             "outlinewidth": 0,
             "ticks": ""
            },
            "type": "choropleth"
           }
          ],
          "contour": [
           {
            "colorbar": {
             "outlinewidth": 0,
             "ticks": ""
            },
            "colorscale": [
             [
              0,
              "#0d0887"
             ],
             [
              0.1111111111111111,
              "#46039f"
             ],
             [
              0.2222222222222222,
              "#7201a8"
             ],
             [
              0.3333333333333333,
              "#9c179e"
             ],
             [
              0.4444444444444444,
              "#bd3786"
             ],
             [
              0.5555555555555556,
              "#d8576b"
             ],
             [
              0.6666666666666666,
              "#ed7953"
             ],
             [
              0.7777777777777778,
              "#fb9f3a"
             ],
             [
              0.8888888888888888,
              "#fdca26"
             ],
             [
              1,
              "#f0f921"
             ]
            ],
            "type": "contour"
           }
          ],
          "contourcarpet": [
           {
            "colorbar": {
             "outlinewidth": 0,
             "ticks": ""
            },
            "type": "contourcarpet"
           }
          ],
          "heatmap": [
           {
            "colorbar": {
             "outlinewidth": 0,
             "ticks": ""
            },
            "colorscale": [
             [
              0,
              "#0d0887"
             ],
             [
              0.1111111111111111,
              "#46039f"
             ],
             [
              0.2222222222222222,
              "#7201a8"
             ],
             [
              0.3333333333333333,
              "#9c179e"
             ],
             [
              0.4444444444444444,
              "#bd3786"
             ],
             [
              0.5555555555555556,
              "#d8576b"
             ],
             [
              0.6666666666666666,
              "#ed7953"
             ],
             [
              0.7777777777777778,
              "#fb9f3a"
             ],
             [
              0.8888888888888888,
              "#fdca26"
             ],
             [
              1,
              "#f0f921"
             ]
            ],
            "type": "heatmap"
           }
          ],
          "heatmapgl": [
           {
            "colorbar": {
             "outlinewidth": 0,
             "ticks": ""
            },
            "colorscale": [
             [
              0,
              "#0d0887"
             ],
             [
              0.1111111111111111,
              "#46039f"
             ],
             [
              0.2222222222222222,
              "#7201a8"
             ],
             [
              0.3333333333333333,
              "#9c179e"
             ],
             [
              0.4444444444444444,
              "#bd3786"
             ],
             [
              0.5555555555555556,
              "#d8576b"
             ],
             [
              0.6666666666666666,
              "#ed7953"
             ],
             [
              0.7777777777777778,
              "#fb9f3a"
             ],
             [
              0.8888888888888888,
              "#fdca26"
             ],
             [
              1,
              "#f0f921"
             ]
            ],
            "type": "heatmapgl"
           }
          ],
          "histogram": [
           {
            "marker": {
             "pattern": {
              "fillmode": "overlay",
              "size": 10,
              "solidity": 0.2
             }
            },
            "type": "histogram"
           }
          ],
          "histogram2d": [
           {
            "colorbar": {
             "outlinewidth": 0,
             "ticks": ""
            },
            "colorscale": [
             [
              0,
              "#0d0887"
             ],
             [
              0.1111111111111111,
              "#46039f"
             ],
             [
              0.2222222222222222,
              "#7201a8"
             ],
             [
              0.3333333333333333,
              "#9c179e"
             ],
             [
              0.4444444444444444,
              "#bd3786"
             ],
             [
              0.5555555555555556,
              "#d8576b"
             ],
             [
              0.6666666666666666,
              "#ed7953"
             ],
             [
              0.7777777777777778,
              "#fb9f3a"
             ],
             [
              0.8888888888888888,
              "#fdca26"
             ],
             [
              1,
              "#f0f921"
             ]
            ],
            "type": "histogram2d"
           }
          ],
          "histogram2dcontour": [
           {
            "colorbar": {
             "outlinewidth": 0,
             "ticks": ""
            },
            "colorscale": [
             [
              0,
              "#0d0887"
             ],
             [
              0.1111111111111111,
              "#46039f"
             ],
             [
              0.2222222222222222,
              "#7201a8"
             ],
             [
              0.3333333333333333,
              "#9c179e"
             ],
             [
              0.4444444444444444,
              "#bd3786"
             ],
             [
              0.5555555555555556,
              "#d8576b"
             ],
             [
              0.6666666666666666,
              "#ed7953"
             ],
             [
              0.7777777777777778,
              "#fb9f3a"
             ],
             [
              0.8888888888888888,
              "#fdca26"
             ],
             [
              1,
              "#f0f921"
             ]
            ],
            "type": "histogram2dcontour"
           }
          ],
          "mesh3d": [
           {
            "colorbar": {
             "outlinewidth": 0,
             "ticks": ""
            },
            "type": "mesh3d"
           }
          ],
          "parcoords": [
           {
            "line": {
             "colorbar": {
              "outlinewidth": 0,
              "ticks": ""
             }
            },
            "type": "parcoords"
           }
          ],
          "pie": [
           {
            "automargin": true,
            "type": "pie"
           }
          ],
          "scatter": [
           {
            "fillpattern": {
             "fillmode": "overlay",
             "size": 10,
             "solidity": 0.2
            },
            "type": "scatter"
           }
          ],
          "scatter3d": [
           {
            "line": {
             "colorbar": {
              "outlinewidth": 0,
              "ticks": ""
             }
            },
            "marker": {
             "colorbar": {
              "outlinewidth": 0,
              "ticks": ""
             }
            },
            "type": "scatter3d"
           }
          ],
          "scattercarpet": [
           {
            "marker": {
             "colorbar": {
              "outlinewidth": 0,
              "ticks": ""
             }
            },
            "type": "scattercarpet"
           }
          ],
          "scattergeo": [
           {
            "marker": {
             "colorbar": {
              "outlinewidth": 0,
              "ticks": ""
             }
            },
            "type": "scattergeo"
           }
          ],
          "scattergl": [
           {
            "marker": {
             "colorbar": {
              "outlinewidth": 0,
              "ticks": ""
             }
            },
            "type": "scattergl"
           }
          ],
          "scattermapbox": [
           {
            "marker": {
             "colorbar": {
              "outlinewidth": 0,
              "ticks": ""
             }
            },
            "type": "scattermapbox"
           }
          ],
          "scatterpolar": [
           {
            "marker": {
             "colorbar": {
              "outlinewidth": 0,
              "ticks": ""
             }
            },
            "type": "scatterpolar"
           }
          ],
          "scatterpolargl": [
           {
            "marker": {
             "colorbar": {
              "outlinewidth": 0,
              "ticks": ""
             }
            },
            "type": "scatterpolargl"
           }
          ],
          "scatterternary": [
           {
            "marker": {
             "colorbar": {
              "outlinewidth": 0,
              "ticks": ""
             }
            },
            "type": "scatterternary"
           }
          ],
          "surface": [
           {
            "colorbar": {
             "outlinewidth": 0,
             "ticks": ""
            },
            "colorscale": [
             [
              0,
              "#0d0887"
             ],
             [
              0.1111111111111111,
              "#46039f"
             ],
             [
              0.2222222222222222,
              "#7201a8"
             ],
             [
              0.3333333333333333,
              "#9c179e"
             ],
             [
              0.4444444444444444,
              "#bd3786"
             ],
             [
              0.5555555555555556,
              "#d8576b"
             ],
             [
              0.6666666666666666,
              "#ed7953"
             ],
             [
              0.7777777777777778,
              "#fb9f3a"
             ],
             [
              0.8888888888888888,
              "#fdca26"
             ],
             [
              1,
              "#f0f921"
             ]
            ],
            "type": "surface"
           }
          ],
          "table": [
           {
            "cells": {
             "fill": {
              "color": "#EBF0F8"
             },
             "line": {
              "color": "white"
             }
            },
            "header": {
             "fill": {
              "color": "#C8D4E3"
             },
             "line": {
              "color": "white"
             }
            },
            "type": "table"
           }
          ]
         },
         "layout": {
          "annotationdefaults": {
           "arrowcolor": "#2a3f5f",
           "arrowhead": 0,
           "arrowwidth": 1
          },
          "autotypenumbers": "strict",
          "coloraxis": {
           "colorbar": {
            "outlinewidth": 0,
            "ticks": ""
           }
          },
          "colorscale": {
           "diverging": [
            [
             0,
             "#8e0152"
            ],
            [
             0.1,
             "#c51b7d"
            ],
            [
             0.2,
             "#de77ae"
            ],
            [
             0.3,
             "#f1b6da"
            ],
            [
             0.4,
             "#fde0ef"
            ],
            [
             0.5,
             "#f7f7f7"
            ],
            [
             0.6,
             "#e6f5d0"
            ],
            [
             0.7,
             "#b8e186"
            ],
            [
             0.8,
             "#7fbc41"
            ],
            [
             0.9,
             "#4d9221"
            ],
            [
             1,
             "#276419"
            ]
           ],
           "sequential": [
            [
             0,
             "#0d0887"
            ],
            [
             0.1111111111111111,
             "#46039f"
            ],
            [
             0.2222222222222222,
             "#7201a8"
            ],
            [
             0.3333333333333333,
             "#9c179e"
            ],
            [
             0.4444444444444444,
             "#bd3786"
            ],
            [
             0.5555555555555556,
             "#d8576b"
            ],
            [
             0.6666666666666666,
             "#ed7953"
            ],
            [
             0.7777777777777778,
             "#fb9f3a"
            ],
            [
             0.8888888888888888,
             "#fdca26"
            ],
            [
             1,
             "#f0f921"
            ]
           ],
           "sequentialminus": [
            [
             0,
             "#0d0887"
            ],
            [
             0.1111111111111111,
             "#46039f"
            ],
            [
             0.2222222222222222,
             "#7201a8"
            ],
            [
             0.3333333333333333,
             "#9c179e"
            ],
            [
             0.4444444444444444,
             "#bd3786"
            ],
            [
             0.5555555555555556,
             "#d8576b"
            ],
            [
             0.6666666666666666,
             "#ed7953"
            ],
            [
             0.7777777777777778,
             "#fb9f3a"
            ],
            [
             0.8888888888888888,
             "#fdca26"
            ],
            [
             1,
             "#f0f921"
            ]
           ]
          },
          "colorway": [
           "#636efa",
           "#EF553B",
           "#00cc96",
           "#ab63fa",
           "#FFA15A",
           "#19d3f3",
           "#FF6692",
           "#B6E880",
           "#FF97FF",
           "#FECB52"
          ],
          "font": {
           "color": "#2a3f5f"
          },
          "geo": {
           "bgcolor": "white",
           "lakecolor": "white",
           "landcolor": "#E5ECF6",
           "showlakes": true,
           "showland": true,
           "subunitcolor": "white"
          },
          "hoverlabel": {
           "align": "left"
          },
          "hovermode": "closest",
          "mapbox": {
           "style": "light"
          },
          "paper_bgcolor": "white",
          "plot_bgcolor": "#E5ECF6",
          "polar": {
           "angularaxis": {
            "gridcolor": "white",
            "linecolor": "white",
            "ticks": ""
           },
           "bgcolor": "#E5ECF6",
           "radialaxis": {
            "gridcolor": "white",
            "linecolor": "white",
            "ticks": ""
           }
          },
          "scene": {
           "xaxis": {
            "backgroundcolor": "#E5ECF6",
            "gridcolor": "white",
            "gridwidth": 2,
            "linecolor": "white",
            "showbackground": true,
            "ticks": "",
            "zerolinecolor": "white"
           },
           "yaxis": {
            "backgroundcolor": "#E5ECF6",
            "gridcolor": "white",
            "gridwidth": 2,
            "linecolor": "white",
            "showbackground": true,
            "ticks": "",
            "zerolinecolor": "white"
           },
           "zaxis": {
            "backgroundcolor": "#E5ECF6",
            "gridcolor": "white",
            "gridwidth": 2,
            "linecolor": "white",
            "showbackground": true,
            "ticks": "",
            "zerolinecolor": "white"
           }
          },
          "shapedefaults": {
           "line": {
            "color": "#2a3f5f"
           }
          },
          "ternary": {
           "aaxis": {
            "gridcolor": "white",
            "linecolor": "white",
            "ticks": ""
           },
           "baxis": {
            "gridcolor": "white",
            "linecolor": "white",
            "ticks": ""
           },
           "bgcolor": "#E5ECF6",
           "caxis": {
            "gridcolor": "white",
            "linecolor": "white",
            "ticks": ""
           }
          },
          "title": {
           "x": 0.05
          },
          "xaxis": {
           "automargin": true,
           "gridcolor": "white",
           "linecolor": "white",
           "ticks": "",
           "title": {
            "standoff": 15
           },
           "zerolinecolor": "white",
           "zerolinewidth": 2
          },
          "yaxis": {
           "automargin": true,
           "gridcolor": "white",
           "linecolor": "white",
           "ticks": "",
           "title": {
            "standoff": 15
           },
           "zerolinecolor": "white",
           "zerolinewidth": 2
          }
         }
        },
        "title": {
         "text": "Scatter Matrix of Predictors with Fidelity as Color"
        },
        "width": 1000
       }
      }
     },
     "metadata": {},
     "output_type": "display_data"
    }
   ],
   "source": [
    "import plotly.express as px\n",
    "predictor_metrics = [\n",
    "    \n",
    "    # 'trace_normalized_by_rank',\n",
    "    # 'error',\n",
    "    'var_nonzero_eigenvalues_dqfim',\n",
    "    \n",
    "    # 'trace_normalized_by_rank',\n",
    "    # 'spread_metric_variance',\n",
    "    # 'spread_metric_mad',\n",
    "    # 'spread_metric_variance_dqfim',\n",
    "    # \"spread_metric_variance_dqfim\"\n",
    "    # \"trace_normalized_by_rank\"\n",
    "    'abbas_deff_norm_dqfim',\n",
    "    \"abbas_deff_raw_dqfim\",\n",
    "    # \"ipr_deff_raw_dqfim\"\n",
    "]\n",
    "metrics_to_visualize = [\n",
    "    \"test_key\",\n",
    "    'avg_fidelity',\n",
    "    'error',\n",
    "    'trace_eigenvalues',\n",
    "    'trace_normalized_by_rank',\n",
    "    'var_nonzero_eigenvalues_dqfim',\n",
    "    'var_nonzero_normalized_by_rank',\n",
    "    'var_nonzero_log',\n",
    "    'var_nonzero_normalized_by_rank_dqfim',\n",
    "    'spread_metric_mad',\n",
    "    'spread_metric_variance',\n",
    "    'spread_metric_variance_dqfim',\n",
    "    \"spread_metric_mad_dqfim\",\n",
    "    \"abbas_deff_raw_dqfim\",\n",
    "    \"abbas_deff_norm_dqfim\",\n",
    "    \"ipr_deff_raw_dqfim\"\n",
    "]\n",
    "\n",
    "df_viz = df_merged[metrics_to_visualize].dropna()\n",
    "\n",
    "fig = px.scatter_matrix(\n",
    "    df_viz,\n",
    "    dimensions=predictor_metrics,\n",
    "    color=\"avg_fidelity\",        # Use fidelity as the color dimension\n",
    "    hover_data=[\"test_key\"],      # Show test_key on hover\n",
    "    title=\"Scatter Matrix of Predictors with Fidelity as Color\"\n",
    ")\n",
    "fig.update_layout(width=1000, height=1000)\n",
    "fig.show()"
   ]
  },
  {
   "cell_type": "code",
   "execution_count": 12,
   "metadata": {},
   "outputs": [
    {
     "data": {
      "application/vnd.plotly.v1+json": {
       "config": {
        "plotlyServerURL": "https://plot.ly"
       },
       "data": [
        {
         "customdata": [
          [
           "test0"
          ],
          [
           "test100"
          ],
          [
           "test112"
          ],
          [
           "test172"
          ],
          [
           "test182"
          ],
          [
           "test190"
          ],
          [
           "test199"
          ],
          [
           "test20"
          ],
          [
           "test34"
          ],
          [
           "test43"
          ],
          [
           "test46"
          ],
          [
           "test49"
          ]
         ],
         "dimensions": [
          {
           "axis": {
            "matches": true
           },
           "label": "error",
           "values": [
            -7.071867590933122,
            -5.6585954132922085,
            -6.293804422690063,
            -6.2846691851674485,
            -5.908944302124466,
            -7.023425399696336,
            -6.233574094657852,
            -6.230848208447703,
            -5.871947759433557,
            -5.997036673457182,
            -6.574581873042177,
            -6.6679912251357365
           ]
          },
          {
           "axis": {
            "matches": true
           },
           "label": "var_nonzero_normalized_by_rank",
           "values": [
            2.6207214563001258,
            2.38881729764484,
            0.26829288541399793,
            0.5055458746202581,
            6.77703750293072,
            0.22910268337038586,
            2.085785080309775,
            2.233528469503487,
            2.2902558363445467,
            18.986149885447087,
            3.0173860342353254,
            17.233464444812554
           ]
          },
          {
           "axis": {
            "matches": true
           },
           "label": "trace_normalized_by_rank",
           "values": [
            2.725949400410415,
            3.414814826033156,
            1.4270514828422771,
            1.4634195886849133,
            4.2197013194626685,
            1.1307548592230583,
            2.8389138497649884,
            2.589880788228887,
            2.7402020314386997,
            6.545727999519598,
            3.3053454929574704,
            5.370224128475123
           ]
          }
         ],
         "hovertemplate": "%{xaxis.title.text}=%{x}<br>%{yaxis.title.text}=%{y}<br>test_key=%{customdata[0]}<br>avg_fidelity=%{marker.color}<extra></extra>",
         "legendgroup": "",
         "marker": {
          "color": [
           0.997253034179552,
           0.9950256363810162,
           0.9927418670772202,
           0.9932183170101424,
           0.9948754739220368,
           0.9980499430776255,
           0.9956392609818177,
           0.9939849256435842,
           0.9928823500604,
           0.9933726690941654,
           0.9968490312706922,
           0.9972242493178328
          ],
          "coloraxis": "coloraxis",
          "symbol": "circle"
         },
         "name": "",
         "showlegend": false,
         "type": "splom"
        }
       ],
       "layout": {
        "coloraxis": {
         "colorbar": {
          "title": {
           "text": "avg_fidelity"
          }
         },
         "colorscale": [
          [
           0,
           "#0d0887"
          ],
          [
           0.1111111111111111,
           "#46039f"
          ],
          [
           0.2222222222222222,
           "#7201a8"
          ],
          [
           0.3333333333333333,
           "#9c179e"
          ],
          [
           0.4444444444444444,
           "#bd3786"
          ],
          [
           0.5555555555555556,
           "#d8576b"
          ],
          [
           0.6666666666666666,
           "#ed7953"
          ],
          [
           0.7777777777777778,
           "#fb9f3a"
          ],
          [
           0.8888888888888888,
           "#fdca26"
          ],
          [
           1,
           "#f0f921"
          ]
         ]
        },
        "dragmode": "select",
        "height": 1000,
        "legend": {
         "tracegroupgap": 0
        },
        "template": {
         "data": {
          "bar": [
           {
            "error_x": {
             "color": "#2a3f5f"
            },
            "error_y": {
             "color": "#2a3f5f"
            },
            "marker": {
             "line": {
              "color": "#E5ECF6",
              "width": 0.5
             },
             "pattern": {
              "fillmode": "overlay",
              "size": 10,
              "solidity": 0.2
             }
            },
            "type": "bar"
           }
          ],
          "barpolar": [
           {
            "marker": {
             "line": {
              "color": "#E5ECF6",
              "width": 0.5
             },
             "pattern": {
              "fillmode": "overlay",
              "size": 10,
              "solidity": 0.2
             }
            },
            "type": "barpolar"
           }
          ],
          "carpet": [
           {
            "aaxis": {
             "endlinecolor": "#2a3f5f",
             "gridcolor": "white",
             "linecolor": "white",
             "minorgridcolor": "white",
             "startlinecolor": "#2a3f5f"
            },
            "baxis": {
             "endlinecolor": "#2a3f5f",
             "gridcolor": "white",
             "linecolor": "white",
             "minorgridcolor": "white",
             "startlinecolor": "#2a3f5f"
            },
            "type": "carpet"
           }
          ],
          "choropleth": [
           {
            "colorbar": {
             "outlinewidth": 0,
             "ticks": ""
            },
            "type": "choropleth"
           }
          ],
          "contour": [
           {
            "colorbar": {
             "outlinewidth": 0,
             "ticks": ""
            },
            "colorscale": [
             [
              0,
              "#0d0887"
             ],
             [
              0.1111111111111111,
              "#46039f"
             ],
             [
              0.2222222222222222,
              "#7201a8"
             ],
             [
              0.3333333333333333,
              "#9c179e"
             ],
             [
              0.4444444444444444,
              "#bd3786"
             ],
             [
              0.5555555555555556,
              "#d8576b"
             ],
             [
              0.6666666666666666,
              "#ed7953"
             ],
             [
              0.7777777777777778,
              "#fb9f3a"
             ],
             [
              0.8888888888888888,
              "#fdca26"
             ],
             [
              1,
              "#f0f921"
             ]
            ],
            "type": "contour"
           }
          ],
          "contourcarpet": [
           {
            "colorbar": {
             "outlinewidth": 0,
             "ticks": ""
            },
            "type": "contourcarpet"
           }
          ],
          "heatmap": [
           {
            "colorbar": {
             "outlinewidth": 0,
             "ticks": ""
            },
            "colorscale": [
             [
              0,
              "#0d0887"
             ],
             [
              0.1111111111111111,
              "#46039f"
             ],
             [
              0.2222222222222222,
              "#7201a8"
             ],
             [
              0.3333333333333333,
              "#9c179e"
             ],
             [
              0.4444444444444444,
              "#bd3786"
             ],
             [
              0.5555555555555556,
              "#d8576b"
             ],
             [
              0.6666666666666666,
              "#ed7953"
             ],
             [
              0.7777777777777778,
              "#fb9f3a"
             ],
             [
              0.8888888888888888,
              "#fdca26"
             ],
             [
              1,
              "#f0f921"
             ]
            ],
            "type": "heatmap"
           }
          ],
          "heatmapgl": [
           {
            "colorbar": {
             "outlinewidth": 0,
             "ticks": ""
            },
            "colorscale": [
             [
              0,
              "#0d0887"
             ],
             [
              0.1111111111111111,
              "#46039f"
             ],
             [
              0.2222222222222222,
              "#7201a8"
             ],
             [
              0.3333333333333333,
              "#9c179e"
             ],
             [
              0.4444444444444444,
              "#bd3786"
             ],
             [
              0.5555555555555556,
              "#d8576b"
             ],
             [
              0.6666666666666666,
              "#ed7953"
             ],
             [
              0.7777777777777778,
              "#fb9f3a"
             ],
             [
              0.8888888888888888,
              "#fdca26"
             ],
             [
              1,
              "#f0f921"
             ]
            ],
            "type": "heatmapgl"
           }
          ],
          "histogram": [
           {
            "marker": {
             "pattern": {
              "fillmode": "overlay",
              "size": 10,
              "solidity": 0.2
             }
            },
            "type": "histogram"
           }
          ],
          "histogram2d": [
           {
            "colorbar": {
             "outlinewidth": 0,
             "ticks": ""
            },
            "colorscale": [
             [
              0,
              "#0d0887"
             ],
             [
              0.1111111111111111,
              "#46039f"
             ],
             [
              0.2222222222222222,
              "#7201a8"
             ],
             [
              0.3333333333333333,
              "#9c179e"
             ],
             [
              0.4444444444444444,
              "#bd3786"
             ],
             [
              0.5555555555555556,
              "#d8576b"
             ],
             [
              0.6666666666666666,
              "#ed7953"
             ],
             [
              0.7777777777777778,
              "#fb9f3a"
             ],
             [
              0.8888888888888888,
              "#fdca26"
             ],
             [
              1,
              "#f0f921"
             ]
            ],
            "type": "histogram2d"
           }
          ],
          "histogram2dcontour": [
           {
            "colorbar": {
             "outlinewidth": 0,
             "ticks": ""
            },
            "colorscale": [
             [
              0,
              "#0d0887"
             ],
             [
              0.1111111111111111,
              "#46039f"
             ],
             [
              0.2222222222222222,
              "#7201a8"
             ],
             [
              0.3333333333333333,
              "#9c179e"
             ],
             [
              0.4444444444444444,
              "#bd3786"
             ],
             [
              0.5555555555555556,
              "#d8576b"
             ],
             [
              0.6666666666666666,
              "#ed7953"
             ],
             [
              0.7777777777777778,
              "#fb9f3a"
             ],
             [
              0.8888888888888888,
              "#fdca26"
             ],
             [
              1,
              "#f0f921"
             ]
            ],
            "type": "histogram2dcontour"
           }
          ],
          "mesh3d": [
           {
            "colorbar": {
             "outlinewidth": 0,
             "ticks": ""
            },
            "type": "mesh3d"
           }
          ],
          "parcoords": [
           {
            "line": {
             "colorbar": {
              "outlinewidth": 0,
              "ticks": ""
             }
            },
            "type": "parcoords"
           }
          ],
          "pie": [
           {
            "automargin": true,
            "type": "pie"
           }
          ],
          "scatter": [
           {
            "fillpattern": {
             "fillmode": "overlay",
             "size": 10,
             "solidity": 0.2
            },
            "type": "scatter"
           }
          ],
          "scatter3d": [
           {
            "line": {
             "colorbar": {
              "outlinewidth": 0,
              "ticks": ""
             }
            },
            "marker": {
             "colorbar": {
              "outlinewidth": 0,
              "ticks": ""
             }
            },
            "type": "scatter3d"
           }
          ],
          "scattercarpet": [
           {
            "marker": {
             "colorbar": {
              "outlinewidth": 0,
              "ticks": ""
             }
            },
            "type": "scattercarpet"
           }
          ],
          "scattergeo": [
           {
            "marker": {
             "colorbar": {
              "outlinewidth": 0,
              "ticks": ""
             }
            },
            "type": "scattergeo"
           }
          ],
          "scattergl": [
           {
            "marker": {
             "colorbar": {
              "outlinewidth": 0,
              "ticks": ""
             }
            },
            "type": "scattergl"
           }
          ],
          "scattermapbox": [
           {
            "marker": {
             "colorbar": {
              "outlinewidth": 0,
              "ticks": ""
             }
            },
            "type": "scattermapbox"
           }
          ],
          "scatterpolar": [
           {
            "marker": {
             "colorbar": {
              "outlinewidth": 0,
              "ticks": ""
             }
            },
            "type": "scatterpolar"
           }
          ],
          "scatterpolargl": [
           {
            "marker": {
             "colorbar": {
              "outlinewidth": 0,
              "ticks": ""
             }
            },
            "type": "scatterpolargl"
           }
          ],
          "scatterternary": [
           {
            "marker": {
             "colorbar": {
              "outlinewidth": 0,
              "ticks": ""
             }
            },
            "type": "scatterternary"
           }
          ],
          "surface": [
           {
            "colorbar": {
             "outlinewidth": 0,
             "ticks": ""
            },
            "colorscale": [
             [
              0,
              "#0d0887"
             ],
             [
              0.1111111111111111,
              "#46039f"
             ],
             [
              0.2222222222222222,
              "#7201a8"
             ],
             [
              0.3333333333333333,
              "#9c179e"
             ],
             [
              0.4444444444444444,
              "#bd3786"
             ],
             [
              0.5555555555555556,
              "#d8576b"
             ],
             [
              0.6666666666666666,
              "#ed7953"
             ],
             [
              0.7777777777777778,
              "#fb9f3a"
             ],
             [
              0.8888888888888888,
              "#fdca26"
             ],
             [
              1,
              "#f0f921"
             ]
            ],
            "type": "surface"
           }
          ],
          "table": [
           {
            "cells": {
             "fill": {
              "color": "#EBF0F8"
             },
             "line": {
              "color": "white"
             }
            },
            "header": {
             "fill": {
              "color": "#C8D4E3"
             },
             "line": {
              "color": "white"
             }
            },
            "type": "table"
           }
          ]
         },
         "layout": {
          "annotationdefaults": {
           "arrowcolor": "#2a3f5f",
           "arrowhead": 0,
           "arrowwidth": 1
          },
          "autotypenumbers": "strict",
          "coloraxis": {
           "colorbar": {
            "outlinewidth": 0,
            "ticks": ""
           }
          },
          "colorscale": {
           "diverging": [
            [
             0,
             "#8e0152"
            ],
            [
             0.1,
             "#c51b7d"
            ],
            [
             0.2,
             "#de77ae"
            ],
            [
             0.3,
             "#f1b6da"
            ],
            [
             0.4,
             "#fde0ef"
            ],
            [
             0.5,
             "#f7f7f7"
            ],
            [
             0.6,
             "#e6f5d0"
            ],
            [
             0.7,
             "#b8e186"
            ],
            [
             0.8,
             "#7fbc41"
            ],
            [
             0.9,
             "#4d9221"
            ],
            [
             1,
             "#276419"
            ]
           ],
           "sequential": [
            [
             0,
             "#0d0887"
            ],
            [
             0.1111111111111111,
             "#46039f"
            ],
            [
             0.2222222222222222,
             "#7201a8"
            ],
            [
             0.3333333333333333,
             "#9c179e"
            ],
            [
             0.4444444444444444,
             "#bd3786"
            ],
            [
             0.5555555555555556,
             "#d8576b"
            ],
            [
             0.6666666666666666,
             "#ed7953"
            ],
            [
             0.7777777777777778,
             "#fb9f3a"
            ],
            [
             0.8888888888888888,
             "#fdca26"
            ],
            [
             1,
             "#f0f921"
            ]
           ],
           "sequentialminus": [
            [
             0,
             "#0d0887"
            ],
            [
             0.1111111111111111,
             "#46039f"
            ],
            [
             0.2222222222222222,
             "#7201a8"
            ],
            [
             0.3333333333333333,
             "#9c179e"
            ],
            [
             0.4444444444444444,
             "#bd3786"
            ],
            [
             0.5555555555555556,
             "#d8576b"
            ],
            [
             0.6666666666666666,
             "#ed7953"
            ],
            [
             0.7777777777777778,
             "#fb9f3a"
            ],
            [
             0.8888888888888888,
             "#fdca26"
            ],
            [
             1,
             "#f0f921"
            ]
           ]
          },
          "colorway": [
           "#636efa",
           "#EF553B",
           "#00cc96",
           "#ab63fa",
           "#FFA15A",
           "#19d3f3",
           "#FF6692",
           "#B6E880",
           "#FF97FF",
           "#FECB52"
          ],
          "font": {
           "color": "#2a3f5f"
          },
          "geo": {
           "bgcolor": "white",
           "lakecolor": "white",
           "landcolor": "#E5ECF6",
           "showlakes": true,
           "showland": true,
           "subunitcolor": "white"
          },
          "hoverlabel": {
           "align": "left"
          },
          "hovermode": "closest",
          "mapbox": {
           "style": "light"
          },
          "paper_bgcolor": "white",
          "plot_bgcolor": "#E5ECF6",
          "polar": {
           "angularaxis": {
            "gridcolor": "white",
            "linecolor": "white",
            "ticks": ""
           },
           "bgcolor": "#E5ECF6",
           "radialaxis": {
            "gridcolor": "white",
            "linecolor": "white",
            "ticks": ""
           }
          },
          "scene": {
           "xaxis": {
            "backgroundcolor": "#E5ECF6",
            "gridcolor": "white",
            "gridwidth": 2,
            "linecolor": "white",
            "showbackground": true,
            "ticks": "",
            "zerolinecolor": "white"
           },
           "yaxis": {
            "backgroundcolor": "#E5ECF6",
            "gridcolor": "white",
            "gridwidth": 2,
            "linecolor": "white",
            "showbackground": true,
            "ticks": "",
            "zerolinecolor": "white"
           },
           "zaxis": {
            "backgroundcolor": "#E5ECF6",
            "gridcolor": "white",
            "gridwidth": 2,
            "linecolor": "white",
            "showbackground": true,
            "ticks": "",
            "zerolinecolor": "white"
           }
          },
          "shapedefaults": {
           "line": {
            "color": "#2a3f5f"
           }
          },
          "ternary": {
           "aaxis": {
            "gridcolor": "white",
            "linecolor": "white",
            "ticks": ""
           },
           "baxis": {
            "gridcolor": "white",
            "linecolor": "white",
            "ticks": ""
           },
           "bgcolor": "#E5ECF6",
           "caxis": {
            "gridcolor": "white",
            "linecolor": "white",
            "ticks": ""
           }
          },
          "title": {
           "x": 0.05
          },
          "xaxis": {
           "automargin": true,
           "gridcolor": "white",
           "linecolor": "white",
           "ticks": "",
           "title": {
            "standoff": 15
           },
           "zerolinecolor": "white",
           "zerolinewidth": 2
          },
          "yaxis": {
           "automargin": true,
           "gridcolor": "white",
           "linecolor": "white",
           "ticks": "",
           "title": {
            "standoff": 15
           },
           "zerolinecolor": "white",
           "zerolinewidth": 2
          }
         }
        },
        "title": {
         "text": "Scatter Matrix of Predictors with Fidelity as Color"
        },
        "width": 1000
       }
      }
     },
     "metadata": {},
     "output_type": "display_data"
    }
   ],
   "source": [
    "import plotly.express as px\n",
    "predictor_metrics = [\n",
    "    \n",
    "    # 'trace_normalized_by_rank',\n",
    "    'error',\n",
    "    'var_nonzero_normalized_by_rank',\n",
    "    \n",
    "    'trace_normalized_by_rank',\n",
    "    # 'spread_metric_variance',\n",
    "    # 'spread_metric_mad',\n",
    "    # 'spread_metric_variance_dqfim',\n",
    "    # \"spread_metric_variance_dqfim\"\n",
    "    # \"trace_normalized_by_rank\"\n",
    "    # 'spread_metric_variance_dqfim',\n",
    "    # \"abbas_deff_raw_dqfim\",\n",
    "    # \"ipr_deff_raw_dqfim\"\n",
    "]\n",
    "metrics_to_visualize = [\n",
    "    \"test_key\",\n",
    "    'avg_fidelity',\n",
    "    'error',\n",
    "    'trace_eigenvalues',\n",
    "    'trace_normalized_by_rank',\n",
    "    'var_nonzero_normalized_by_rank',\n",
    "    'var_nonzero_log',\n",
    "    'var_nonzero_normalized_by_rank_dqfim',\n",
    "    'spread_metric_mad',\n",
    "    'spread_metric_variance',\n",
    "    'spread_metric_variance_dqfim',\n",
    "    \"spread_metric_mad_dqfim\",\n",
    "    \"abbas_deff_raw_dqfim\",\n",
    "    \"abbas_deff_norm_dqfim\",\n",
    "    \"ipr_deff_raw_dqfim\"\n",
    "]\n",
    "\n",
    "df_viz = df_merged[metrics_to_visualize].dropna()\n",
    "\n",
    "fig = px.scatter_matrix(\n",
    "    df_viz,\n",
    "    dimensions=predictor_metrics,\n",
    "    color=\"avg_fidelity\",        # Use fidelity as the color dimension\n",
    "    hover_data=[\"test_key\"],      # Show test_key on hover\n",
    "    title=\"Scatter Matrix of Predictors with Fidelity as Color\"\n",
    ")\n",
    "fig.update_layout(width=1000, height=1000)\n",
    "fig.show()"
   ]
  },
  {
   "cell_type": "code",
   "execution_count": null,
   "metadata": {},
   "outputs": [],
   "source": []
  }
 ],
 "metadata": {
  "kernelspec": {
   "display_name": "torch env (v3.11.10)",
   "language": "python",
   "name": "torch_en"
  },
  "language_info": {
   "codemirror_mode": {
    "name": "ipython",
    "version": 3
   },
   "file_extension": ".py",
   "mimetype": "text/x-python",
   "name": "python",
   "nbconvert_exporter": "python",
   "pygments_lexer": "ipython3",
   "version": "3.11.10"
  }
 },
 "nbformat": 4,
 "nbformat_minor": 2
}
