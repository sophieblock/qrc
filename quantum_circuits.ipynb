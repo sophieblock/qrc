{
 "cells": [
  {
   "cell_type": "code",
   "execution_count": 1,
   "id": "192d3751",
   "metadata": {},
   "outputs": [],
   "source": [
    "import sys\n",
    "import os\n",
    "import copy\n",
    "current_dir = os.getcwd()\n",
    "sys.path.append(current_dir[:-9])"
   ]
  },
  {
   "cell_type": "code",
   "execution_count": 2,
   "id": "b0f3c37c",
   "metadata": {},
   "outputs": [],
   "source": [
    "import importlib\n",
    "\n",
    "# 1) Tell the helper that we really want console logs\n",
    "os.environ[\"LOG_TO_CONSOLE\"] = \"true\""
   ]
  },
  {
   "cell_type": "markdown",
   "id": "bede36d8",
   "metadata": {},
   "source": [
    "| # | Method (constraint\\_*) | Intention *(informal)* | Key Z3 variables it touches |\n",
    "|---|-------------------------|-----------------------|-----------------------------|\n",
    "| 1 | `constraint_injective_mapping` | At every **timestep** each logical qubit is mapped to **exactly one** available physical qubit, and two logical qubits can **never share** the same physical qubit. | `pi[q][t]` |\n",
    "| 2 | `constraint_avoid_collisions` | Impose a **partial order** on the execution times: if two gates touch a common logical qubit, the one listed earlier in the circuit must **finish no later than** (transition-based mode) **or strictly before** (real-time mode) the later gate. | `time[g]` |\n",
    "| 3 | `constraint_mapping_and_space_consistency` | Tie together the **“where”** and **“when”** coordinates: when gate *g* is scheduled at `time[g] == t`, its `space[g]` must equal the **current physical qubit(s)** that the logical operands map to in `pi[*][t]`. <br>• For 2-qubit gates, `space[g]` indexes an **edge**. <br>• For 1-qubit gates, it indexes a **node**. | `time[g]`, `space[g]`, `pi` |\n",
    "| 4 | `constraint_no_SWAP_before_swap_duration` | A **SWAP** takes `swap_duration` cycles. Therefore **no** `sigma[e][t]` may be true for `t < swap_duration – 1`; the first SWAP can only **finish** at the earliest allowed timestep. | `sigma` |\n",
    "| 5 | `constraint_no_SWAP_overlap_same_edge` | Same edge cannot finish two SWAPs **closer than** `swap_duration` apart (prevents *“queueing”* two swaps on the same wire before the first is done). | `sigma` |\n",
    "| 6 | `constraint_no_SWAP_overlap_adjacent_edge` | Two edges that **share a qubit** cannot host **overlapping SWAPs** (hardware can’t drive two CZ-pulses that touch the same island simultaneously). | `sigma` |\n",
    "| 7 | `constraint_no_SWAP_overlap_gates` <br>*--only when not transition-based--* | A SWAP must **not overlap in time** with **any other gate** that uses either of the same physical qubits. Prevents the router from *“half-swapping”* while, say, applying a single-qubit rotation on one end. | `sigma`, `time`, `space` |\n",
    "| 8 | `constraint_mapping_unchanged` | If **no SWAP finishes** on a physical qubit at timestep *t*, that qubit’s logical payload **stays put** for timestep *t + 1*. | `pi`, `sigma` |\n",
    "| 9 | `constraint_mapping_transformed` | Conversely, when a SWAP on edge *(i, j)* **does finish** at *t*, any logical qubit that was on **i moves to j** (and vice-versa) at *t + 1*. | `pi`, `sigma` |\n",
    "| 10 | `constraint_no_SWAP_outside_gates` <br>*--added only when `hard_island = True`--* | **Intended meaning:** “All SWAPs must stay **inside the initial physical island** — you may not recruit relay qubits that were **not part** of the mapping at *t = 0*.” | `pi`, `sigma` |\n",
    "\n"
   ]
  },
  {
   "cell_type": "markdown",
   "id": "d68df817",
   "metadata": {},
   "source": [
    "- 1-3 guarantee a coherent spacetime embedding of gates\n",
    "- 4-7 prevent physically impossible overlaps\n",
    "- 8-9 update the logical-to-physical mapping consistently\n",
    "- 10 (when fixed) optionally locks routing inside the initial island\n"
   ]
  },
  {
   "cell_type": "code",
   "execution_count": null,
   "id": "512d8539",
   "metadata": {},
   "outputs": [
    {
     "name": "stdout",
     "output_type": "stream",
     "text": [
      "Attempting to get QDevice(line-4,num qubits=4)'s transpiled swap for gates: ('H', 'CX', 'SWAP') - quantum_resources.py - get_transpiled_swap()\n",
      "Quantum Device: line-4\n",
      " - Available Qubits: [0, 1, 2, 3]\n",
      " - connectivity: Graph with 4 nodes and 3 edges\n",
      " - quantum_resources.py - describe()\n"
     ]
    },
    {
     "data": {
      "image/svg+xml": [
       "<svg xmlns=\"http://www.w3.org/2000/svg\" width=\"220.0\" height=\"100.0\"><line x1=\"30.0\" x2=\"190.0\" y1=\"25.0\" y2=\"25.0\" stroke=\"#1967d2\" stroke-width=\"1\" /><line x1=\"30.0\" x2=\"190.0\" y1=\"75.0\" y2=\"75.0\" stroke=\"#1967d2\" stroke-width=\"1\" /><line x1=\"150.0\" x2=\"150.0\" y1=\"25.0\" y2=\"75.0\" stroke=\"black\" stroke-width=\"3\" /><rect x=\"10.0\" y=\"5.0\" width=\"40\" height=\"40\" stroke=\"black\" fill=\"white\" stroke-width=\"0\" /><text x=\"30.0\" y=\"25.0\" dominant-baseline=\"middle\" text-anchor=\"middle\" font-size=\"14px\" font-family=\"sans\\-serif:style=normal:variant=normal:weight=normal:stretch=normal:size=10.0\">0: </text><rect x=\"10.0\" y=\"55.0\" width=\"40\" height=\"40\" stroke=\"black\" fill=\"white\" stroke-width=\"0\" /><text x=\"30.0\" y=\"75.0\" dominant-baseline=\"middle\" text-anchor=\"middle\" font-size=\"14px\" font-family=\"sans\\-serif:style=normal:variant=normal:weight=normal:stretch=normal:size=10.0\">2: </text><rect x=\"70.0\" y=\"5.0\" width=\"40\" height=\"40\" stroke=\"black\" fill=\"white\" stroke-width=\"1\" /><text x=\"90.0\" y=\"25.0\" dominant-baseline=\"middle\" text-anchor=\"middle\" font-size=\"18px\" font-family=\"sans\\-serif:style=normal:variant=normal:weight=normal:stretch=normal:size=10.0\">H</text><circle cx=\"150.0\" cy=\"25.0\" r=\"10.0\" /><rect x=\"130.0\" y=\"55.0\" width=\"40\" height=\"40\" stroke=\"black\" fill=\"white\" stroke-width=\"1\" /><text x=\"150.0\" y=\"75.0\" dominant-baseline=\"middle\" text-anchor=\"middle\" font-size=\"18px\" font-family=\"sans\\-serif:style=normal:variant=normal:weight=normal:stretch=normal:size=10.0\">X</text></svg>"
      ],
      "text/plain": [
       "<cirq.contrib.svg.svg.SVGCircuit at 0x317303a90>"
      ]
     },
     "execution_count": 11,
     "metadata": {},
     "output_type": "execute_result"
    }
   ],
   "source": [
    "import networkx as nx\n",
    "import time\n",
    "from qrew.simulation.refactor.quantum import QuantumCircuit, QuantumInstruction, LayoutSynthesizer\n",
    "from qrew.simulation.refactor.quantum_gates import *\n",
    "from qrew.simulation.refactor.resources import QuantumDevice,QuantumResource\n",
    "\n",
    "g = nx.Graph(); g.add_edges_from([(0,1),(1,2),(2,3)])\n",
    "dev = QuantumDevice(\"line-4\", g, gate_set=(\"H\",\"CX\",\"SWAP\"))\n",
    "\n",
    "\n",
    "qc = QuantumCircuit(3, instructions=[])\n",
    "qc.add_instruction(gate=H(),  indices=(0,))\n",
    " # Should route through q1\n",
    "qc.add_instruction(gate=CX(), indices=(0,2))   \n",
    "print(qc.instructions) \n",
    "qc.draw()"
   ]
  },
  {
   "cell_type": "code",
   "execution_count": null,
   "id": "964f2cd8",
   "metadata": {},
   "outputs": [
    {
     "name": "stdout",
     "output_type": "stream",
     "text": [
      "resource.LS_parameters: {'transition based': False, 'hard_island': True, 'epsilon': 0.3, 'objective': 'depth'} - quantum_resources.py - allocate()\n",
      "Starting layout synthesis (objective=depth, transition_based=False, epsilon=0.3) - quantum_resources.py - allocate()\n",
      "Starting solver with max_attempts=50, max_depth=10000 - quantum.py - solve()\n",
      "Attempting maximal depth 2...\n",
      "Contraint initial island added: relay qubits forbidden - quantum.py - add_constraints()\n",
      "Found solution at depth=2, model depth=2, on attempt #1 - quantum.py - solve()\n",
      "Layout synthesis time completed in 0:00:00.023030 after 1 attempts - quantum.py - solve()\n",
      "Initial qubit mapping: (1, 2, 0) - quantum.py - post_process()\n",
      "Final qubit mapping: (1, 2, 0) - quantum.py - post_process()\n",
      "Objective result: 2 - quantum.py - post_process()\n",
      "Available qubits before allocation: [0, 1, 2, 3] - quantum_resources.py - allocate()\n",
      "Marking qubits (1, 2, 0) as unavailable on device 'line-4' - quantum_resources.py - allocate()\n",
      "Available qubits after allocation: [2, 3] - quantum_resources.py - allocate()\n",
      "Allocation completed: QAllocation(device_name=line-4, qubits=[0, 1]) - quantum_resources.py - allocate()\n",
      "Quantum Device: line-4\n",
      " - Available Qubits: [2, 3]\n",
      " - connectivity: Graph with 4 nodes and 3 edges\n",
      " - quantum_resources.py - describe()\n"
     ]
    }
   ],
   "source": [
    "res_with_constraint = QuantumResource(\n",
    "    quantum_circuit=copy.deepcopy(qc),\n",
    "    LS_parameters={\n",
    "        \"transition based\": False,\n",
    "        \"hard_island\":      True,     \n",
    "        \"epsilon\":          0.3,\n",
    "        \"objective\":        \"depth\",\n",
    "    },\n",
    ")\n",
    "\n",
    "\n",
    "alloc = dev.allocate(res_with_constraint)\n",
    "\n"
   ]
  },
  {
   "cell_type": "code",
   "execution_count": 16,
   "id": "8bde49cc",
   "metadata": {},
   "outputs": [
    {
     "name": "stdout",
     "output_type": "stream",
     "text": [
      "[<QuantumInstruction name='H' qargs=(1,)>, <QuantumInstruction name='CX' qargs=(1, 0)>]\n"
     ]
    },
    {
     "data": {
      "image/svg+xml": [
       "<svg xmlns=\"http://www.w3.org/2000/svg\" width=\"220.0\" height=\"100.0\"><line x1=\"30.0\" x2=\"190.0\" y1=\"25.0\" y2=\"25.0\" stroke=\"#1967d2\" stroke-width=\"1\" /><line x1=\"30.0\" x2=\"190.0\" y1=\"75.0\" y2=\"75.0\" stroke=\"#1967d2\" stroke-width=\"1\" /><line x1=\"150.0\" x2=\"150.0\" y1=\"25.0\" y2=\"75.0\" stroke=\"black\" stroke-width=\"3\" /><rect x=\"10.0\" y=\"5.0\" width=\"40\" height=\"40\" stroke=\"black\" fill=\"white\" stroke-width=\"0\" /><text x=\"30.0\" y=\"25.0\" dominant-baseline=\"middle\" text-anchor=\"middle\" font-size=\"14px\" font-family=\"sans\\-serif:style=normal:variant=normal:weight=normal:stretch=normal:size=10.0\">0: </text><rect x=\"10.0\" y=\"55.0\" width=\"40\" height=\"40\" stroke=\"black\" fill=\"white\" stroke-width=\"0\" /><text x=\"30.0\" y=\"75.0\" dominant-baseline=\"middle\" text-anchor=\"middle\" font-size=\"14px\" font-family=\"sans\\-serif:style=normal:variant=normal:weight=normal:stretch=normal:size=10.0\">1: </text><rect x=\"70.0\" y=\"55.0\" width=\"40\" height=\"40\" stroke=\"black\" fill=\"white\" stroke-width=\"1\" /><text x=\"90.0\" y=\"75.0\" dominant-baseline=\"middle\" text-anchor=\"middle\" font-size=\"18px\" font-family=\"sans\\-serif:style=normal:variant=normal:weight=normal:stretch=normal:size=10.0\">H</text><circle cx=\"150.0\" cy=\"75.0\" r=\"10.0\" /><rect x=\"130.0\" y=\"5.0\" width=\"40\" height=\"40\" stroke=\"black\" fill=\"white\" stroke-width=\"1\" /><text x=\"150.0\" y=\"25.0\" dominant-baseline=\"middle\" text-anchor=\"middle\" font-size=\"18px\" font-family=\"sans\\-serif:style=normal:variant=normal:weight=normal:stretch=normal:size=10.0\">X</text></svg>"
      ],
      "text/plain": [
       "<cirq.contrib.svg.svg.SVGCircuit at 0x322c99bd0>"
      ]
     },
     "execution_count": 16,
     "metadata": {},
     "output_type": "execute_result"
    }
   ],
   "source": [
    "transpiled_circ = alloc.transpiled_circuit\n",
    "assert qc != transpiled_circ\n",
    "print(transpiled_circ.instructions)\n",
    "transpiled_circ.draw()"
   ]
  },
  {
   "cell_type": "code",
   "execution_count": 15,
   "id": "d43ad033",
   "metadata": {},
   "outputs": [
    {
     "data": {
      "text/plain": [
       "[<QuantumInstruction name='H' qargs=(0,)>,\n",
       " <QuantumInstruction name='CX' qargs=(0, 2)>]"
      ]
     },
     "execution_count": 15,
     "metadata": {},
     "output_type": "execute_result"
    }
   ],
   "source": [
    "qc.instructions"
   ]
  },
  {
   "cell_type": "code",
   "execution_count": 17,
   "id": "4b854b35",
   "metadata": {},
   "outputs": [
    {
     "name": "stdout",
     "output_type": "stream",
     "text": [
      "Attempting to get QDevice(line-4,num qubits=4)'s transpiled swap for gates: ('H', 'CX', 'SWAP') - quantum_resources.py - get_transpiled_swap()\n",
      "Quantum Device: line-4\n",
      " - Available Qubits: [0, 1, 2, 3]\n",
      " - connectivity: Graph with 4 nodes and 3 edges\n",
      " - quantum_resources.py - describe()\n",
      "resource.LS_parameters: {'transition based': False, 'hard_island': False, 'epsilon': 0.3, 'objective': 'depth'} - quantum_resources.py - allocate()\n",
      "Starting layout synthesis (objective=depth, transition_based=False, epsilon=0.3) - quantum_resources.py - allocate()\n",
      "Starting solver with max_attempts=50, max_depth=10000 - quantum.py - solve()\n",
      "Attempting maximal depth 2...\n",
      "Found solution at depth=2, model depth=2, on attempt #1 - quantum.py - solve()\n",
      "Layout synthesis time completed in 0:00:00.021444 after 1 attempts - quantum.py - solve()\n",
      "Initial qubit mapping: (0, 2, 1) - quantum.py - post_process()\n",
      "Final qubit mapping: (0, 2, 1) - quantum.py - post_process()\n",
      "Objective result: 2 - quantum.py - post_process()\n",
      "Available qubits before allocation: [0, 1, 2, 3] - quantum_resources.py - allocate()\n",
      "Marking qubits (0, 2, 1) as unavailable on device 'line-4' - quantum_resources.py - allocate()\n",
      "Available qubits after allocation: [2, 3] - quantum_resources.py - allocate()\n",
      "Allocation completed: QAllocation(device_name=line-4, qubits=[0, 1]) - quantum_resources.py - allocate()\n",
      "Quantum Device: line-4\n",
      " - Available Qubits: [2, 3]\n",
      " - connectivity: Graph with 4 nodes and 3 edges\n",
      " - quantum_resources.py - describe()\n"
     ]
    }
   ],
   "source": [
    "# run again with hard_island == False\n",
    "dev2 = QuantumDevice(\"line-4\", g, gate_set=(\"H\",\"CX\",\"SWAP\"))\n",
    "\n",
    "\n",
    "res_no_constraint = QuantumResource(\n",
    "    quantum_circuit=copy.deepcopy(qc),\n",
    "    LS_parameters={\n",
    "        \"transition based\": False,\n",
    "        \"hard_island\":      False,     \n",
    "        \"epsilon\":          0.3,\n",
    "        \"objective\":        \"depth\",\n",
    "    },\n",
    ")\n",
    "\n",
    "\n",
    "alloc = dev2.allocate(res_no_constraint)\n"
   ]
  },
  {
   "cell_type": "code",
   "execution_count": 18,
   "id": "7a4c2a47",
   "metadata": {},
   "outputs": [
    {
     "name": "stdout",
     "output_type": "stream",
     "text": [
      "[<QuantumInstruction name='H' qargs=(0,)>, <QuantumInstruction name='CX' qargs=(0, 1)>]\n"
     ]
    },
    {
     "data": {
      "image/svg+xml": [
       "<svg xmlns=\"http://www.w3.org/2000/svg\" width=\"220.0\" height=\"100.0\"><line x1=\"30.0\" x2=\"190.0\" y1=\"25.0\" y2=\"25.0\" stroke=\"#1967d2\" stroke-width=\"1\" /><line x1=\"30.0\" x2=\"190.0\" y1=\"75.0\" y2=\"75.0\" stroke=\"#1967d2\" stroke-width=\"1\" /><line x1=\"150.0\" x2=\"150.0\" y1=\"25.0\" y2=\"75.0\" stroke=\"black\" stroke-width=\"3\" /><rect x=\"10.0\" y=\"5.0\" width=\"40\" height=\"40\" stroke=\"black\" fill=\"white\" stroke-width=\"0\" /><text x=\"30.0\" y=\"25.0\" dominant-baseline=\"middle\" text-anchor=\"middle\" font-size=\"14px\" font-family=\"sans\\-serif:style=normal:variant=normal:weight=normal:stretch=normal:size=10.0\">0: </text><rect x=\"10.0\" y=\"55.0\" width=\"40\" height=\"40\" stroke=\"black\" fill=\"white\" stroke-width=\"0\" /><text x=\"30.0\" y=\"75.0\" dominant-baseline=\"middle\" text-anchor=\"middle\" font-size=\"14px\" font-family=\"sans\\-serif:style=normal:variant=normal:weight=normal:stretch=normal:size=10.0\">1: </text><rect x=\"70.0\" y=\"5.0\" width=\"40\" height=\"40\" stroke=\"black\" fill=\"white\" stroke-width=\"1\" /><text x=\"90.0\" y=\"25.0\" dominant-baseline=\"middle\" text-anchor=\"middle\" font-size=\"18px\" font-family=\"sans\\-serif:style=normal:variant=normal:weight=normal:stretch=normal:size=10.0\">H</text><circle cx=\"150.0\" cy=\"25.0\" r=\"10.0\" /><rect x=\"130.0\" y=\"55.0\" width=\"40\" height=\"40\" stroke=\"black\" fill=\"white\" stroke-width=\"1\" /><text x=\"150.0\" y=\"75.0\" dominant-baseline=\"middle\" text-anchor=\"middle\" font-size=\"18px\" font-family=\"sans\\-serif:style=normal:variant=normal:weight=normal:stretch=normal:size=10.0\">X</text></svg>"
      ],
      "text/plain": [
       "<cirq.contrib.svg.svg.SVGCircuit at 0x32439f950>"
      ]
     },
     "execution_count": 18,
     "metadata": {},
     "output_type": "execute_result"
    }
   ],
   "source": [
    "transpiled_circ2 = alloc.transpiled_circuit\n",
    "assert qc != transpiled_circ2\n",
    "print(transpiled_circ2.instructions)\n",
    "transpiled_circ2.draw()"
   ]
  },
  {
   "cell_type": "markdown",
   "id": "f041c1e2",
   "metadata": {},
   "source": [
    "1. Initial mapping (chosen by the solver) can be `(0→0, 1→2)`– that’s inside the \"island\" {0, 2}\n",
    "2. To execute the `CX(0,1)` the router inserts a SWAP on edge `(2, 3)` (uses qubit 3, which is outside the island)\n",
    "3. Because `constraint_no_SWAP_outside_gates` is a no-op, the model is still deemed satisfiable even though it clearly violates the intended rule.\n",
    "\n",
    "\n",
    "```python\n",
    "assert ([2, 3], t_swap) in synth.results[\"SWAPs\"]   # <-- proves outside-island SWAP occurred\n",
    "```"
   ]
  },
  {
   "cell_type": "code",
   "execution_count": 4,
   "id": "c6c115f3",
   "metadata": {},
   "outputs": [
    {
     "name": "stdout",
     "output_type": "stream",
     "text": [
      "Logical circuit:\n"
     ]
    },
    {
     "data": {
      "image/svg+xml": [
       "<svg xmlns=\"http://www.w3.org/2000/svg\" width=\"340.0\" height=\"150.0\"><line x1=\"30.0\" x2=\"310.0\" y1=\"25.0\" y2=\"25.0\" stroke=\"#1967d2\" stroke-width=\"1\" /><line x1=\"30.0\" x2=\"310.0\" y1=\"75.0\" y2=\"75.0\" stroke=\"#1967d2\" stroke-width=\"1\" /><line x1=\"30.0\" x2=\"310.0\" y1=\"125.0\" y2=\"125.0\" stroke=\"#1967d2\" stroke-width=\"1\" /><line x1=\"150.0\" x2=\"150.0\" y1=\"25.0\" y2=\"75.0\" stroke=\"black\" stroke-width=\"3\" /><line x1=\"210.0\" x2=\"210.0\" y1=\"25.0\" y2=\"125.0\" stroke=\"black\" stroke-width=\"3\" /><rect x=\"10.0\" y=\"5.0\" width=\"40\" height=\"40\" stroke=\"black\" fill=\"white\" stroke-width=\"0\" /><text x=\"30.0\" y=\"25.0\" dominant-baseline=\"middle\" text-anchor=\"middle\" font-size=\"14px\" font-family=\"sans\\-serif:style=normal:variant=normal:weight=normal:stretch=normal:size=10.0\">0: </text><rect x=\"10.0\" y=\"55.0\" width=\"40\" height=\"40\" stroke=\"black\" fill=\"white\" stroke-width=\"0\" /><text x=\"30.0\" y=\"75.0\" dominant-baseline=\"middle\" text-anchor=\"middle\" font-size=\"14px\" font-family=\"sans\\-serif:style=normal:variant=normal:weight=normal:stretch=normal:size=10.0\">1: </text><rect x=\"10.0\" y=\"105.0\" width=\"40\" height=\"40\" stroke=\"black\" fill=\"white\" stroke-width=\"0\" /><text x=\"30.0\" y=\"125.0\" dominant-baseline=\"middle\" text-anchor=\"middle\" font-size=\"14px\" font-family=\"sans\\-serif:style=normal:variant=normal:weight=normal:stretch=normal:size=10.0\">2: </text><rect x=\"70.0\" y=\"5.0\" width=\"40\" height=\"40\" stroke=\"black\" fill=\"white\" stroke-width=\"1\" /><text x=\"90.0\" y=\"25.0\" dominant-baseline=\"middle\" text-anchor=\"middle\" font-size=\"18px\" font-family=\"sans\\-serif:style=normal:variant=normal:weight=normal:stretch=normal:size=10.0\">H</text><circle cx=\"150.0\" cy=\"25.0\" r=\"10.0\" /><rect x=\"130.0\" y=\"55.0\" width=\"40\" height=\"40\" stroke=\"black\" fill=\"white\" stroke-width=\"1\" /><text x=\"150.0\" y=\"75.0\" dominant-baseline=\"middle\" text-anchor=\"middle\" font-size=\"18px\" font-family=\"sans\\-serif:style=normal:variant=normal:weight=normal:stretch=normal:size=10.0\">X</text><circle cx=\"210.0\" cy=\"25.0\" r=\"10.0\" /><rect x=\"190.0\" y=\"105.0\" width=\"40\" height=\"40\" stroke=\"black\" fill=\"white\" stroke-width=\"1\" /><text x=\"210.0\" y=\"125.0\" dominant-baseline=\"middle\" text-anchor=\"middle\" font-size=\"18px\" font-family=\"sans\\-serif:style=normal:variant=normal:weight=normal:stretch=normal:size=10.0\">X</text><rect x=\"250.0\" y=\"105.0\" width=\"40\" height=\"40\" stroke=\"black\" fill=\"white\" stroke-width=\"1\" /><text x=\"270.0\" y=\"125.0\" dominant-baseline=\"middle\" text-anchor=\"middle\" font-size=\"18px\" font-family=\"sans\\-serif:style=normal:variant=normal:weight=normal:stretch=normal:size=10.0\">H</text></svg>"
      ],
      "text/plain": [
       "<cirq.contrib.svg.svg.SVGCircuit at 0x32740d450>"
      ]
     },
     "execution_count": 4,
     "metadata": {},
     "output_type": "execute_result"
    }
   ],
   "source": [
    "from qrew.simulation.refactor.resources import QuantumDevice,QuantumResource,QuantumAllocation\n",
    "def line4():\n",
    "    g = nx.Graph()\n",
    "    g.add_edges_from([(0,1), (1,2), (2,3)])\n",
    "    return g\n",
    "\n",
    "dev = QuantumDevice(\n",
    "    device_name=\"line-4\",\n",
    "    connectivity=line4(),\n",
    "    gate_set=(\"H\", \"CX\", \"SWAP\"),   # exact .name strings from quantum_gates.py\n",
    ")\n",
    "\n",
    "toy_circ = QuantumCircuit(qubit_count=3, instructions=[])\n",
    "toy_circ.add_instruction(gate=H(),   indices=(0,))\n",
    "toy_circ.add_instruction(gate=CX(),  indices=(0,1))\n",
    "toy_circ.add_instruction(gate=CX(),  indices=(0,2))   # non-adjacent on line-4\n",
    "toy_circ.add_instruction(gate=H(),   indices=(2,))\n",
    "\n",
    "print(\"Logical circuit:\")\n",
    "toy_circ.draw()\n"
   ]
  },
  {
   "cell_type": "code",
   "execution_count": 5,
   "id": "85598654",
   "metadata": {},
   "outputs": [
    {
     "name": "stdout",
     "output_type": "stream",
     "text": [
      "Attempting maximal depth 4...\n",
      "\n",
      "Compiled circuit with ORIGINAL constraint:\n",
      "Physical qubits touched  → {1, 2, 3}\n"
     ]
    }
   ],
   "source": [
    "res = QuantumResource(\n",
    "    quantum_circuit=copy.deepcopy(toy_circ),\n",
    "    LS_parameters={\n",
    "        \"transition based\": False,\n",
    "        \"hard_island\":      True,      # adds *buggy* constraint\n",
    "        \"epsilon\":          0.3,\n",
    "        \"objective\":        \"depth\",\n",
    "    },\n",
    ")\n",
    "\n",
    "allocation_buggy = dev.allocate(res)\n",
    "compiled_buggy   = allocation_buggy.transpiled_circuit\n",
    "\n",
    "print(\"\\nCompiled circuit with ORIGINAL constraint:\")\n",
    "compiled_buggy.draw()\n",
    "buggy_touched = {idx for i in compiled_buggy.instructions for idx in i.gate_indices}\n",
    "print(\"Physical qubits touched  →\", buggy_touched)"
   ]
  },
  {
   "cell_type": "code",
   "execution_count": null,
   "id": "731dee5b",
   "metadata": {},
   "outputs": [],
   "source": [
    "# ─────────────────────────── helpers ────────────────────────────\n",
    "def line_graph(n):\n",
    "    \"\"\"0-1-2-…-(n-1)\"\"\"\n",
    "    g = nx.Graph()\n",
    "    g.add_edges_from([(i, i + 1) for i in range(n - 1)])\n",
    "    return g\n",
    "\n",
    "def build_toy_device():\n",
    "    return QuantumDevice(\n",
    "        device_name=\"line-4\",\n",
    "        connectivity=line_graph(4),\n",
    "        gate_set=(\"H\", \"CX\", \"SWAP\"),\n",
    "    )\n",
    "\n",
    "def build_toy_circuit():\n",
    "    \"\"\"Logical qubits labelled 0,1,2 – but CX(0,2) is *non-adjacent*.\"\"\"\n",
    "    qc = QuantumCircuit(qubit_count=3, instructions=[])\n",
    "    add = qc.add_instruction\n",
    "  \n",
    "    add(QuantumInstruction(H(),(0,)))\n",
    "    add(QuantumInstruction(CX(),(0,1)))\n",
    "    add(QuantumInstruction(CX(),(0,2)))\n",
    "    add(QuantumInstruction(H(),(2)))\n",
    "\n",
    "\n",
    "    return qc\n",
    "\n",
    "toy_device   = build_toy_device()\n",
    "toy_circuit  = build_toy_circuit()\n",
    "\n",
    "print(\"Logical circuit:\")\n",
    "toy_circuit.draw()          # Cirq-style ASCII\n",
    "\n",
    "res = QuantumResource(\n",
    "    quantum_circuit=deepcopy(toy_circuit),\n",
    "    LS_parameters={\n",
    "        \"transition based\": False,   # easier to see scheduling\n",
    "        \"hard_island\":      True,    # will add buggy constraint\n",
    "        \"epsilon\":          0.3,\n",
    "        \"objective\":        \"depth\",\n",
    "    },\n",
    ")\n",
    "\n",
    "allocation = toy_device.allocate(res)          #   <- uses buggy constraint\n",
    "compiled   = allocation.transpiled_circuit\n",
    "\n",
    "print(\"\\nCompiled circuit (BUGGY constraint):\")\n",
    "compiled.draw()\n",
    "\n",
    "# Which physical qubits did it touch?\n",
    "touched = {idx for instr in compiled.instructions for idx in instr.gate_indices}\n",
    "print(\"Touched qubits:\", touched)"
   ]
  },
  {
   "cell_type": "code",
   "execution_count": 12,
   "id": "5442882c",
   "metadata": {},
   "outputs": [
    {
     "name": "stdout",
     "output_type": "stream",
     "text": [
      "Attempting maximal depth 1...\n",
      "Layout synthesis time: 0:00:00.006247\n",
      "violations: []\n"
     ]
    },
    {
     "ename": "AssertionError",
     "evalue": "constraint_no_SWAP_outside_gates correctly blocked out-of-island SWAPs — test should now be updated / removed.",
     "output_type": "error",
     "traceback": [
      "\u001b[31m---------------------------------------------------------------------------\u001b[39m",
      "\u001b[31mAssertionError\u001b[39m                            Traceback (most recent call last)",
      "\u001b[36mCell\u001b[39m\u001b[36m \u001b[39m\u001b[32mIn[12]\u001b[39m\u001b[32m, line 51\u001b[39m\n\u001b[32m     49\u001b[39m \u001b[38;5;66;03m# If the constraint *worked*, `offending` would be empty\u001b[39;00m\n\u001b[32m     50\u001b[39m \u001b[38;5;28mprint\u001b[39m(\u001b[33mf\u001b[39m\u001b[33m\"\u001b[39m\u001b[33mviolations: \u001b[39m\u001b[38;5;132;01m{\u001b[39;00moffending\u001b[38;5;132;01m}\u001b[39;00m\u001b[33m\"\u001b[39m)\n\u001b[32m---> \u001b[39m\u001b[32m51\u001b[39m \u001b[38;5;28;01massert\u001b[39;00m offending, (\n\u001b[32m     52\u001b[39m     \u001b[33m\"\u001b[39m\u001b[33mconstraint_no_SWAP_outside_gates correctly blocked out-of-island SWAPs \u001b[39m\u001b[33m\"\u001b[39m\n\u001b[32m     53\u001b[39m     \u001b[33m\"\u001b[39m\u001b[33m— test should now be updated / removed.\u001b[39m\u001b[33m\"\u001b[39m\n\u001b[32m     54\u001b[39m )\n\u001b[32m     56\u001b[39m \u001b[38;5;28mprint\u001b[39m(\u001b[33m\"\u001b[39m\u001b[38;5;130;01m\\n\u001b[39;00m\u001b[33mInitial mapping:\u001b[39m\u001b[33m\"\u001b[39m, initial_island)\n\u001b[32m     57\u001b[39m \u001b[38;5;28mprint\u001b[39m(\u001b[33m\"\u001b[39m\u001b[33mAll SWAPs:\u001b[39m\u001b[33m\"\u001b[39m, swap_edges)\n",
      "\u001b[31mAssertionError\u001b[39m: constraint_no_SWAP_outside_gates correctly blocked out-of-island SWAPs — test should now be updated / removed."
     ]
    }
   ],
   "source": [
    "from qrew.simulation.refactor.resources import QuantumDevice\n",
    "\n",
    "# 4-qubit line: 0 - 1 - 2 - 3\n",
    "toy_dev_graph = nx.path_graph(4)          # edges: (0,1), (1,2), (2,3)\n",
    "\n",
    "\n",
    "def build_toy_device():\n",
    "    \"\"\"Line-4 topology: 0-1-2-3.\"\"\"\n",
    "    g = nx.path_graph(4)\n",
    "    gate_set = (\"H\", \"CX\", \"SWAP\")           # names only – QuantumDevice handles lookup\n",
    "    return QuantumDevice(\"line4\", g, gate_set=gate_set)\n",
    "def build_toy_circuit():\n",
    "    \"\"\"Two-qubit circuit that *needs* the qubits adjacent.\"\"\"\n",
    "    qc = QuantumCircuit(qubit_count=2, instructions=[\n",
    "        QuantumInstruction(H(),  (0,)),\n",
    "        QuantumInstruction(CX(), (0, 1)),\n",
    "    ])\n",
    "    return qc\n",
    "def run_layout_synthesis(device, circuit):\n",
    "    \"\"\"Convenience wrapper that returns the LS results-dict.\"\"\"\n",
    "    _, init_map, _, _, results = device.layout_synthesis(\n",
    "        circuit,\n",
    "        transition_based=True,   # makes swap_duration = 1 ⟹ simpler schedule\n",
    "        hard_island=True,        # ➟ buggy constraint is *supposed* to fire\n",
    "        epsilon=0.3,\n",
    "        objective=\"depth\",\n",
    "    )\n",
    "    return init_map, results\n",
    "\n",
    "\n",
    "def swap_uses_outside_qubit(edge, initial_island):\n",
    "    \"\"\"True if either endpoint of *edge* is outside the initial mapping.\"\"\"\n",
    "    return any(q not in initial_island for q in edge)\n",
    "\n",
    "\n",
    "\n",
    "device  = build_toy_device()\n",
    "circuit = build_toy_circuit()\n",
    "\n",
    "initial_island, results = run_layout_synthesis(device, circuit)\n",
    "swap_edges = [tuple(edge) for edge, _ in results[\"swaps\"]]\n",
    "\n",
    "# ---- the tell-tale violation -----------------------------------------\n",
    "offending = [\n",
    "    edge for edge in swap_edges\n",
    "    if swap_uses_outside_qubit(edge, initial_island)\n",
    "]\n",
    "\n",
    "# If the constraint *worked*, `offending` would be empty\n",
    "print(f\"violations: {offending}\")\n",
    "assert offending, (\n",
    "    \"constraint_no_SWAP_outside_gates correctly blocked out-of-island SWAPs \"\n",
    "    \"— test should now be updated / removed.\"\n",
    ")\n",
    "\n",
    "print(\"\\nInitial mapping:\", initial_island)\n",
    "print(\"All SWAPs:\", swap_edges)\n",
    "print(\"Outside-island SWAPs (should NOT be allowed):\", offending)\n"
   ]
  },
  {
   "cell_type": "code",
   "execution_count": null,
   "id": "86200847",
   "metadata": {},
   "outputs": [],
   "source": []
  },
  {
   "cell_type": "markdown",
   "id": "4530fd00",
   "metadata": {},
   "source": []
  }
 ],
 "metadata": {
  "kernelspec": {
   "display_name": "torch_env",
   "language": "python",
   "name": "python3"
  },
  "language_info": {
   "codemirror_mode": {
    "name": "ipython",
    "version": 3
   },
   "file_extension": ".py",
   "mimetype": "text/x-python",
   "name": "python",
   "nbconvert_exporter": "python",
   "pygments_lexer": "ipython3",
   "version": "3.11.11"
  }
 },
 "nbformat": 4,
 "nbformat_minor": 5
}
