{
 "cells": [
  {
   "cell_type": "code",
   "execution_count": 1,
   "id": "1bb07c03",
   "metadata": {},
   "outputs": [],
   "source": [
    "import sys\n",
    "import os\n",
    "import copy\n",
    "current_dir = os.getcwd()\n",
    "sys.path.append(current_dir[:-9])\n"
   ]
  },
  {
   "cell_type": "markdown",
   "id": "a89ebea5",
   "metadata": {},
   "source": [
    "<!-- <style>\n",
    "  table {\n",
    "    table-layout: fixed;\n",
    "    width: 100%;\n",
    "  }\n",
    "  th:nth-child(6), td:nth-child(6) {\n",
    "    width: 300px;          /* columns 1–5 auto, column 6 fixed */\n",
    "  }\n",
    "  td, th {\n",
    "    overflow-wrap: break-word;\n",
    "  }\n",
    "</style> -->"
   ]
  },
  {
   "cell_type": "code",
   "execution_count": 2,
   "id": "321f5e12",
   "metadata": {},
   "outputs": [],
   "source": [
    "import importlib\n",
    "\n",
    "# 1) Tell the helper that we really want console logs\n",
    "os.environ[\"LOG_TO_CONSOLE\"] = \"false\""
   ]
  },
  {
   "cell_type": "code",
   "execution_count": 3,
   "id": "a42f54d6",
   "metadata": {},
   "outputs": [
    {
     "name": "stdout",
     "output_type": "stream",
     "text": [
      "input depth: 2\n",
      "1.2.4 level-0 depth: 19\n",
      "2.0.0 level-0 depth: 1\n"
     ]
    }
   ],
   "source": [
    "from qiskit import QuantumCircuit, transpile\n",
    "\n",
    "# simple test: one CX followed by a SWAP\n",
    "qc = QuantumCircuit(3)\n",
    "qc.cx(0,1)\n",
    "qc.swap(0,2)\n",
    "\n",
    "print(\"input depth:\", qc.depth())\n",
    "\n",
    "# Qiskit 1.2.4, level 0  ➜ physical SWAP kept\n",
    "out12 = transpile(qc, basis_gates=['cx','rz','sx'], coupling_map=[[0,1],[1,2]], optimization_level=0)\n",
    "print(\"1.2.4 level-0 depth:\", out12.depth())   # > input depth\n",
    "\n",
    "# Qiskit 2.0.0, level 0  ➜ SWAP absorbed, depth equal to CX decomposition\n",
    "out20 = transpile(qc, basis_gates=['cx','rz','sx'], coupling_map=[[0,1],[1,2]], optimization_level=2)\n",
    "print(\"2.0.0 level-0 depth:\", out20.depth())   # smaller, SWAP gone\n"
   ]
  },
  {
   "cell_type": "code",
   "execution_count": 4,
   "id": "fb5fccdc",
   "metadata": {},
   "outputs": [
    {
     "name": "stdout",
     "output_type": "stream",
     "text": [
      "Running Qiskit 1.2.4\n"
     ]
    }
   ],
   "source": [
    "# Code 💻\n",
    "import qiskit, math\n",
    "from qiskit import QuantumCircuit, transpile,QuantumRegister\n",
    "import qiskit, math\n",
    "from qiskit import QuantumCircuit, QuantumRegister, transpile\n",
    "from qiskit.transpiler import CouplingMap\n",
    "from qiskit.transpiler.layout import Layout, TranspileLayout\n",
    "\n",
    "import qiskit, math\n",
    "from qiskit import QuantumCircuit, QuantumRegister, transpile\n",
    "from qiskit.transpiler import CouplingMap\n",
    "from qiskit.transpiler.layout import Layout, TranspileLayout\n",
    "\n",
    "print(\"Running Qiskit\", qiskit.__version__)\n",
    "\n",
    "def _nice_map(lay: Layout) -> str:\n",
    "    \"\"\"qr[0]→2 qr[1]→1 …  from a Layout object.\"\"\"\n",
    "    return \"  \".join(f\"{q._register.name}[{q._index}]→{p}\"\n",
    "                     for q, p in sorted(lay.get_virtual_bits().items(),\n",
    "                                        key=lambda kv: kv[0]._index))\n",
    "def _nice_edge_map(edge_map: dict) -> str:\n",
    "    \"\"\"\n",
    "    Turn the raw edge_map {Qubit → Qubit} into:\n",
    "      q0[0]→q1[0]  q1[0]→q0[0]  q2[0]→q2[0]\n",
    "    sorted by the source‐qubit index.\n",
    "    \"\"\"\n",
    "    # sort by the source-qubit’s _index so your output is in qubit‐order\n",
    "    items = sorted(edge_map.items(),\n",
    "                   key=lambda kv: kv[0]._index)\n",
    "    parts = []\n",
    "    for src, dst in items:\n",
    "        src_name = src._register.name\n",
    "        src_idx  = src._index\n",
    "        dst_name = dst._register.name\n",
    "        dst_idx  = dst._index\n",
    "        parts.append(f\"{src_name}[{src_idx}]→{dst_name}[{dst_idx}]\")\n",
    "    return \"\\n\".join(parts)\n",
    "def analyse(circ: QuantumCircuit, tag: str = \"\", show_circuit=False) -> None:\n",
    "    \"\"\"Clear, warning-free inspection using public APIs only.\"\"\"\n",
    "    twoq  = sum(inst.operation.num_qubits == 2 for inst in circ.data)\n",
    "    swaps = sum(inst.operation.name == \"swap\"  for inst in circ.data)\n",
    "    print(f\"\\n── {tag or circ.name} ──\")\n",
    "    print(f\"depth={circ.depth():2}  2Q={twoq:2}  SWAPs={swaps}\")\n",
    "\n",
    "    lay = getattr(circ, \"layout\", None)\n",
    "\n",
    "    if isinstance(lay, TranspileLayout):\n",
    "        ini  = lay.initial_virtual_layout()\n",
    "        fin  = lay.final_virtual_layout()\n",
    "        perm = lay.routing_permutation()\n",
    "        print(f\"input qubit mapping: {lay.input_qubit_mapping}\")\n",
    "        print(\"initial virtual layout :\", _nice_map(ini))\n",
    "        print(\"final virtual layout  :\", _nice_map(fin))\n",
    "        \n",
    "        # build raw dicts *from the same original qubit keys*:\n",
    "        \n",
    "        init_phys   = ini.get_physical_bits()\n",
    "        final_phys  = fin.get_physical_bits()\n",
    "        # print(f\"init_phys: {init_phys}\")\n",
    "        # print(f\"final_phys: {final_phys}\")\n",
    "        # print(f\"lay.final_index_layout: {lay.final_index_layout()}\")\n",
    "        # print(f\"lay.final_layout: {lay.final_layout}\")\n",
    "        virtual_to_phys_dict = {}\n",
    "        for key, reg in final_phys.items():\n",
    "            virtual_to_phys_dict[key] = reg._index\n",
    "\n",
    "\n",
    "        # print(\"Virtual → physical (init) :\", init_dict)\n",
    "        # print(\"Virtual → physical (final):\", virtual_to_phys_dict)\n",
    "\n",
    "        edge_map = fin.combine_into_edge_map(ini)\n",
    "        print(\"edge_map:\")\n",
    "        print(_nice_edge_map(edge_map))\n",
    "        print(\"perm    :\", perm)\n",
    "    elif isinstance(lay, Layout):\n",
    "        print(\"layout  :\", _nice_map(lay))\n",
    "    else:\n",
    "        print(\"(no layout info)\")\n",
    "    if show_circuit:\n",
    "        print(circ.draw(\"text\"))\n",
    "def analyse2(circ: QuantumCircuit, tag: str = \"\", show_circuit=False) -> None:\n",
    "    \"\"\"Clear, warning-free inspection using public APIs only.\"\"\"\n",
    "    twoq  = sum(inst.operation.num_qubits == 2 for inst in circ.data)\n",
    "    swaps = sum(inst.operation.name == \"swap\"  for inst in circ.data)\n",
    "    print(f\"\\n── {tag or circ.name} ──\")\n",
    "    print(f\"depth={circ.depth():2}  2Q={twoq:2}  SWAPs={swaps}\")\n",
    "\n",
    "    lay = getattr(circ, \"layout\", None)\n",
    "\n",
    "    if isinstance(lay, TranspileLayout):\n",
    "        ini  = lay.initial_virtual_layout()\n",
    "        fin  = lay.final_virtual_layout()\n",
    "        perm = lay.routing_permutation()\n",
    "        print(f\"initial qubit mapping: {lay.input_qubit_mapping}\")\n",
    "        print(\"initial :\", _nice_map(ini))\n",
    "        print(\"final   :\", _nice_map(fin))\n",
    "        \n",
    "        # build raw dicts *from the same original qubit keys*:\n",
    "        \n",
    "        init_phys   = ini.get_physical_bits()\n",
    "        final_phys  = fin.get_physical_bits()\n",
    "        print(f\"init_phys: {init_phys}\")\n",
    "        print(f\"final_phys: {final_phys}\")\n",
    "        print(f\"lay.final_index_layout: {lay.final_index_layout()}\")\n",
    "        print(f\"lay.final_layout: {lay.final_layout}\")\n",
    "        virtual_to_phys_dict = {}\n",
    "        for key, reg in final_phys.items():\n",
    "            virtual_to_phys_dict[key] = reg._register.name\n",
    "\n",
    "\n",
    "        # print(\"Virtual → physical (init) :\", init_dict)\n",
    "        print(\"Virtual → physical (final):\", virtual_to_phys_dict)\n",
    "\n",
    "        edge_map = fin.combine_into_edge_map(ini)\n",
    "        print(\"edge_map:\")\n",
    "        print(_nice_edge_map(edge_map))\n",
    "        print(\"perm    :\", perm)\n",
    "    elif isinstance(lay, Layout):\n",
    "        print(\"layout  :\", _nice_map(lay))\n",
    "    else:\n",
    "        print(\"(no layout info)\")\n",
    "    if show_circuit:\n",
    "        print(circ.draw(\"text\"))"
   ]
  },
  {
   "cell_type": "markdown",
   "id": "f2955a69",
   "metadata": {},
   "source": [
    "### 2  Test circuit  \n",
    "Line topology **(0 – 1 – 2)**.  \n",
    "We create a CX, then an **explicit SWAP(0, 2)**, then another CX that again uses\n",
    "the original qubit 0.  \n",
    "\n",
    "We compile to a **line topology** (0-1-2).  \n",
    "The circuit:\n",
    "\n",
    "1. `CX(q0,q1)`  \n",
    "2. explicit `SWAP(q0,q2)`  \n",
    "3. `CX(q0,q1)` (again original q0)\n",
    "\n",
    "If the transpiler absorbs the SWAP into a virtual permutation, it\n",
    "disappears; otherwise it decomposes to three CX/ECR."
   ]
  },
  {
   "cell_type": "code",
   "execution_count": 5,
   "id": "bb672557",
   "metadata": {},
   "outputs": [
    {
     "data": {
      "image/png": "[encoded data removed]",
      "text/plain": [
       "<Figure size 371.107x284.278 with 1 Axes>"
      ]
     },
     "execution_count": 5,
     "metadata": {},
     "output_type": "execute_result"
    }
   ],
   "source": [
    "\n",
    "\n",
    "a = QuantumRegister(1, 'q0')\n",
    "b = QuantumRegister(1, 'q1')\n",
    "c = QuantumRegister(1, 'q2')\n",
    "swap_circ = QuantumCircuit(a, b, c)\n",
    "\n",
    "# algorithmic gates\n",
    "swap_circ.cx(a, b)\n",
    "swap_circ.swap(a, c)\n",
    "swap_circ.cx(a, b)\n",
    "swap_circ.draw('mpl')\n",
    "\n"
   ]
  },
  {
   "cell_type": "markdown",
   "id": "cac753e8",
   "metadata": {},
   "source": [
    "The coupling map is a *line* `0-1-2`, so without cleverness a SWAP(0,2)\n",
    "would cost ≥ 3 entangling gates."
   ]
  },
  {
   "cell_type": "code",
   "execution_count": 6,
   "id": "33eae121",
   "metadata": {},
   "outputs": [
    {
     "name": "stdout",
     "output_type": "stream",
     "text": [
      "\n",
      "── opt-level 0 ──\n",
      "depth=26  2Q= 8  SWAPs=0\n",
      "initial qubit mapping: {Qubit(QuantumRegister(1, 'q0'), 0): 0, Qubit(QuantumRegister(1, 'q1'), 0): 1, Qubit(QuantumRegister(1, 'q2'), 0): 2}\n",
      "initial : q0[0]→0  q1[0]→1  q2[0]→2\n",
      "final   : q0[0]→1  q1[0]→0  q2[0]→2\n",
      "init_phys: {0: Qubit(QuantumRegister(1, 'q0'), 0), 1: Qubit(QuantumRegister(1, 'q1'), 0), 2: Qubit(QuantumRegister(1, 'q2'), 0)}\n",
      "final_phys: {1: Qubit(QuantumRegister(1, 'q0'), 0), 0: Qubit(QuantumRegister(1, 'q1'), 0), 2: Qubit(QuantumRegister(1, 'q2'), 0)}\n",
      "lay.final_index_layout: [1, 0, 2]\n",
      "lay.final_layout: Layout({\n",
      "1: Qubit(QuantumRegister(3, 'q'), 0),\n",
      "0: Qubit(QuantumRegister(3, 'q'), 1),\n",
      "2: Qubit(QuantumRegister(3, 'q'), 2)\n",
      "})\n",
      "Virtual → physical (final): {1: 'q0', 0: 'q1', 2: 'q2'}\n",
      "edge_map:\n",
      "q0[0]→q1[0]\n",
      "q1[0]→q0[0]\n",
      "q2[0]→q2[0]\n",
      "perm    : [1, 0, 2]\n",
      "\n",
      "── opt-level 1 ──\n",
      "depth=17  2Q= 5  SWAPs=0\n",
      "initial qubit mapping: {Qubit(QuantumRegister(1, 'q0'), 0): 0, Qubit(QuantumRegister(1, 'q1'), 0): 1, Qubit(QuantumRegister(1, 'q2'), 0): 2}\n",
      "initial : q0[0]→1  q1[0]→2  q2[0]→0\n",
      "final   : q0[0]→1  q1[0]→2  q2[0]→0\n",
      "init_phys: {1: Qubit(QuantumRegister(1, 'q0'), 0), 2: Qubit(QuantumRegister(1, 'q1'), 0), 0: Qubit(QuantumRegister(1, 'q2'), 0)}\n",
      "final_phys: {1: Qubit(QuantumRegister(1, 'q0'), 0), 2: Qubit(QuantumRegister(1, 'q1'), 0), 0: Qubit(QuantumRegister(1, 'q2'), 0)}\n",
      "lay.final_index_layout: [1, 2, 0]\n",
      "lay.final_layout: None\n",
      "Virtual → physical (final): {1: 'q0', 2: 'q1', 0: 'q2'}\n",
      "edge_map:\n",
      "q0[0]→q0[0]\n",
      "q1[0]→q1[0]\n",
      "q2[0]→q2[0]\n",
      "perm    : [0, 1, 2]\n",
      "\n",
      "── opt-level 2 ──\n",
      "depth=12  2Q= 2  SWAPs=0\n",
      "initial qubit mapping: {Qubit(QuantumRegister(1, 'q0'), 0): 0, Qubit(QuantumRegister(1, 'q1'), 0): 1, Qubit(QuantumRegister(1, 'q2'), 0): 2}\n",
      "initial : q1[0]→1  q0[0]→0  q2[0]→2\n",
      "final   : q0[0]→2  q1[0]→1  q2[0]→0\n",
      "init_phys: {1: Qubit(QuantumRegister(1, 'q1'), 0), 0: Qubit(QuantumRegister(1, 'q0'), 0), 2: Qubit(QuantumRegister(1, 'q2'), 0)}\n",
      "final_phys: {2: Qubit(QuantumRegister(1, 'q0'), 0), 1: Qubit(QuantumRegister(1, 'q1'), 0), 0: Qubit(QuantumRegister(1, 'q2'), 0)}\n",
      "lay.final_index_layout: [2, 1, 0]\n",
      "lay.final_layout: Layout({\n",
      "1: Qubit(QuantumRegister(3, 'q'), 1),\n",
      "2: Qubit(QuantumRegister(3, 'q'), 0),\n",
      "0: Qubit(QuantumRegister(3, 'q'), 2)\n",
      "})\n",
      "Virtual → physical (final): {2: 'q0', 1: 'q1', 0: 'q2'}\n",
      "edge_map:\n",
      "q0[0]→q2[0]\n",
      "q1[0]→q1[0]\n",
      "q2[0]→q0[0]\n",
      "perm    : [2, 1, 0]\n"
     ]
    }
   ],
   "source": [
    "\n",
    "line_map = CouplingMap([[0,1], [1,2]])\n",
    "for lvl in (0, 1, 2):\n",
    "# for lvl in (2,):\n",
    "    tc = transpile(swap_circ, coupling_map=line_map,\n",
    "                   basis_gates=['rz','sx','x','cx','ecr'],\n",
    "                   optimization_level=lvl)\n",
    "    analyse2(tc, f\"opt-level {lvl}\")\n",
    "    # analyse2(tc, f\"opt-level {lvl}\")\n",
    "    "
   ]
  },
  {
   "cell_type": "markdown",
   "id": "3043f671",
   "metadata": {},
   "source": [
    "\n",
    "<div style=\"\n",
    "    max-width: 1000px;          /* whatever width you like */\n",
    "    table-layout: fixed;       /* let us set per-column widths */\n",
    "    overflow-wrap: break-word; /* wrap long words/cells */\n",
    "\">\n",
    "\n",
    "| Level | Circ Specs     | **initial virtual layout**     | **final virtual layout**        | routing_permutation() | What really happened                                                                                                                                                                                                              |\n",
    "|:-----:|:-----------------------------:|:-------------------------------------:|:------------------------------------:|:---------------------:|:---------------------------------------------------------------------------------------------------------------------------------------------------------------------------------------------------------------------------------|\n",
    "| 0     | depth=26, 2Q= 8   | $q_0\\rightarrow0$<br>$q_1\\rightarrow1$<br>$q_2\\rightarrow2$ | $q_0\\rightarrow1$<br>$q_1\\rightarrow0$<br>$q_2\\rightarrow2$ | `[1, 0, 2]`           | Layout kept the trivial order, so the CX on *(0,1)* was **not adjacent** after the logical SWAP vanished. The router therefore inserted **one physical exchange** of wire-states 0 ↔ 1. It records that as a *routing permutation* instead of emitting 3 extra CX, i.e., instead of keeping 3 CX in the circuit it encodes that exchange in `final_layout` (permutation only). <br> `Virtual → physical: {0: 1, 1: 0, 2: 2}`                |\n",
    "| 1     | depth=17, 2Q= 5               | $q_0\\rightarrow1$<br>$q_1\\rightarrow2$<br>$q_2\\rightarrow0$ | *identical*                         | `[0, 1, 2]`           |  SABRE-Layout (level 1 default) pre-emptively swapped the two logical wires, making every CX adjacent. Because connectivity is already satisfied, the routing stage does **nothing** – hence an identity  <br> `Virtual → physical: {0: 0, 1: 1, 2: 2}`permutation                                                                                                                                       |\n",
    "| 2     | depth=7, 2Q= 82              | $q_1\\rightarrow1$<br>$q_0\\rightarrow2$<br>$q_2\\rightarrow0$ | $q_0\\rightarrow0$<br>$q_1\\rightarrow1$<br>$q_2\\rightarrow2$ | `[2, 1, 0]`           | High-level optimisation changed the logical order (better commuting/gate-merge). Router then re-permutes wires so the physical circuit ends in the trivial order. Heavy optimisation (unitary-synthesis + commutation) reordered the logical operations so a **different** starting map was chosen. After mapping, the router swaps wire-states 0 ↔ 2 to land in a layout where the *optimised* circuit is shortest, giving permutation `[2,1,0]`. <br> `Virtual → physical: {0: 2, 1: 1, 2: 0}`\n",
    "\n",
    "</div>\n"
   ]
  },
  {
   "cell_type": "markdown",
   "id": "e0677cda",
   "metadata": {},
   "source": [
    "1. The counter of `SwapGate` objects is zero at every level, because the\n",
    "ElidePermutations pass always deletes the logical SWAP\n",
    "\n",
    "2. <b>Why does opt_level = 0 still show a routing permutation?</b>\n",
    "\n",
    "ElidePermutations happens before routing.\n",
    "After it rewrites the logical CX into `CX(q2,q1)` the Basic router (the\n",
    "level-0 default) still needs a connection 2-1; on a line\n",
    "0-1-2 it realises this by a single physical swap of the wire states\n",
    "on qubits 0 ↔ 1. Instead of emitting three CX, the router records that\n",
    "swap as the `final_layout` permutation—exactly what you see\n",
    "\n",
    "3.  <b>Why level-1 has no routing permutation</b>\n",
    "\n",
    "The layout phase at level-1 is already SABRE-based; it chooses\n",
    "`q0→1 q1→2 q2→0`, a placement that makes every CX adjacent without\n",
    "any extra movement, so routing is a no-op.\n",
    "\n",
    "4. <b>Level-2’s two permutations</b>\n",
    "\n",
    "Heavy optimisation may reorder the logical qubits for gate-merging\n",
    "reasons (see the different initial map). Router then brings them\n",
    "back to the trivial order so the compiled circuit ends q0,q1,q2."
   ]
  },
  {
   "cell_type": "markdown",
   "id": "562039ac",
   "metadata": {},
   "source": [
    "## Frozen vs Free permutation – a concrete cost comparison  \n",
    "*Frozen* = user writes an explicit `SwapGate`.  \n",
    "*Free*  = same algorithm, but the permutation is left virtual (no SWAP).\n",
    "We compile both for a 3-qubit line **0-1-2** at `optimization_level = 0`\n",
    "so only the router can insert extra cost."
   ]
  },
  {
   "cell_type": "code",
   "execution_count": 7,
   "id": "64b36f5f",
   "metadata": {},
   "outputs": [
    {
     "name": "stdout",
     "output_type": "stream",
     "text": [
      "\n",
      "── Frozen (explicit swap) ──\n",
      "depth=26  2Q= 8  SWAPs=0\n",
      "input qubit mapping: {Qubit(QuantumRegister(3, 'qr'), 0): 0, Qubit(QuantumRegister(3, 'qr'), 1): 1, Qubit(QuantumRegister(3, 'qr'), 2): 2}\n",
      "initial virtual layout : qr[0]→0  qr[1]→1  qr[2]→2\n",
      "final virtual layout  : qr[0]→1  qr[1]→0  qr[2]→2\n",
      "edge_map:\n",
      "qr[0]→qr[1]\n",
      "qr[1]→qr[0]\n",
      "qr[2]→qr[2]\n",
      "perm    : [1, 0, 2]\n",
      "\n",
      "── Free (virtual permutation) ──\n",
      "depth= 8  2Q= 2  SWAPs=0\n",
      "input qubit mapping: {Qubit(QuantumRegister(3, 'qr'), 0): 0, Qubit(QuantumRegister(3, 'qr'), 1): 1, Qubit(QuantumRegister(3, 'qr'), 2): 2}\n",
      "initial virtual layout : qr[0]→0  qr[1]→1  qr[2]→2\n",
      "final virtual layout  : qr[0]→0  qr[1]→1  qr[2]→2\n",
      "edge_map:\n",
      "qr[0]→qr[0]\n",
      "qr[1]→qr[1]\n",
      "qr[2]→qr[2]\n",
      "perm    : [0, 1, 2]\n"
     ]
    }
   ],
   "source": [
    "qr = QuantumRegister(3, \"qr\")\n",
    "\n",
    "# FROZEN  circuit (explicit swap)\n",
    "frozen = QuantumCircuit(qr, name=\"Frozen\")\n",
    "frozen.cx(qr[0], qr[1])\n",
    "frozen.swap(qr[0], qr[2])\n",
    "frozen.cx(qr[0], qr[1])\n",
    "\n",
    "# FREE circuit (same logical effect but relabelled)\n",
    "free = QuantumCircuit(qr, name=\"Free\")\n",
    "free.cx(qr[0], qr[1])          # same first CX\n",
    "free.cx(qr[2], qr[1])          # use new owner of “logical-0” directly\n",
    "line = CouplingMap([[0,1],[1,2]])\n",
    "\n",
    "tfrozen = transpile(\n",
    "    frozen, coupling_map=line, basis_gates=['rz','sx','x','cx','ecr'],\n",
    "    optimization_level=0)\n",
    "analyse(tfrozen, \"Frozen (explicit swap)\")\n",
    "\n",
    "tfree   = transpile(\n",
    "    free,   coupling_map=line, basis_gates=['rz','sx','x','cx','ecr'],\n",
    "    optimization_level=0)\n",
    "analyse(tfree,   \"Free (virtual permutation)\")"
   ]
  },
  {
   "cell_type": "markdown",
   "id": "b8f17d1c",
   "metadata": {},
   "source": [
    "### What you should see\n",
    "\n",
    "| circuit | depth | 2-qubit ops | `routing_permutation()` | comment |\n",
    "|---------|-------|------------|-------------------------|---------|\n",
    "| **Frozen** | larger (≈ 26) | 8 | `[1, 0, 2]` | Router must still exchange wire-states 0↔1 to honour connectivity after the logical swap vanished. |\n",
    "| **Free**   | smaller (≈ 17) | 5 | `[0, 1, 2]` | No physical permutation needed – the better initial placement *is* the permutation. |\n",
    "\n",
    "So the explicit `SwapGate` frozen into the circuit costs **three extra\n",
    "CX/ECR** even though Qiskit’s `ElidePermutations` deleted the symbol:\n",
    "the router had to reintroduce the movement physically.  \n",
    "When the author leaves the permutation virtual, the Layout stage simply\n",
    "starts `qr[0]` on physical-1 and the cost is zero."
   ]
  },
  {
   "cell_type": "markdown",
   "id": "d79c0344",
   "metadata": {},
   "source": [
    "In your **`LayoutSynthesizer`** the same principle appears:\n",
    "\n",
    "* Without a `SwapGate` the SMT solver can pick any initial mapping\n",
    "  `pi[q][0]` (mirrors the “Free” circuit).\n",
    "* If a SWAP is present, constraints\n",
    "  `constraint_mapping_unchanged` + `constraint_mapping_transformed`\n",
    "  force some `sigma[e][t] = True`, adding depth (mirrors the “Frozen”\n",
    "  circuit).\n",
    "\n",
    "This example shows concretely **why letting the permutation stay virtual\n",
    "is cheaper** and how both Qiskit 2.0 and your own compiler exploit that\n",
    "freedom."
   ]
  },
  {
   "cell_type": "markdown",
   "id": "42880e7e",
   "metadata": {},
   "source": [
    "## <b>Frozen vs free permutation Cost</b>\n",
    "We’ll compare two circuits that *logically* do the same thing:\n",
    "\n",
    "* **A.** CX(0, 1) – SWAP(0, 2) – CX(0, 1)   *(same as before)*\n",
    "* **B.** CX(0, 1) – CX(2, 1)   (no explicit swap)\n",
    "\n",
    "If the layout is free to permute wires, circuit B needs **no physical swap**,\n",
    "whereas circuit A forces one.\n",
    "\n",
    "We build a *logically equivalent* circuit **without** an explicit swap:\n",
    "\n",
    "```python\n",
    "    CX(q0,q1);   CX(q2,q1)\n",
    "```\n",
    "If the layout is free, this costs zero physical swaps.\n"
   ]
  },
  {
   "cell_type": "code",
   "execution_count": 8,
   "id": "fd1707cd",
   "metadata": {},
   "outputs": [
    {
     "name": "stdout",
     "output_type": "stream",
     "text": [
      "(A) swap circuit (from above):                  \n",
      "q0: ──■───X───■──\n",
      "    ┌─┴─┐ │ ┌─┴─┐\n",
      "q1: ┤ X ├─┼─┤ X ├\n",
      "    └───┘ │ └───┘\n",
      "q2: ──────X──────\n",
      "                 \n",
      "(B) no-swap circuit:               \n",
      "q0: ──■───────\n",
      "    ┌─┴─┐┌───┐\n",
      "q1: ┤ X ├┤ X ├\n",
      "    └───┘└─┬─┘\n",
      "q2: ───────■──\n",
      "              \n",
      "\n",
      "── no-SWAP circuit (opt-0) ──\n",
      "depth= 8  2Q= 2  SWAPs=0\n",
      "initial qubit mapping: {Qubit(QuantumRegister(1, 'q0'), 0): 0, Qubit(QuantumRegister(1, 'q1'), 0): 1, Qubit(QuantumRegister(1, 'q2'), 0): 2}\n",
      "initial : q0[0]→0  q1[0]→1  q2[0]→2\n",
      "final   : q0[0]→0  q1[0]→1  q2[0]→2\n",
      "init_phys: {0: Qubit(QuantumRegister(1, 'q0'), 0), 1: Qubit(QuantumRegister(1, 'q1'), 0), 2: Qubit(QuantumRegister(1, 'q2'), 0)}\n",
      "final_phys: {0: Qubit(QuantumRegister(1, 'q0'), 0), 1: Qubit(QuantumRegister(1, 'q1'), 0), 2: Qubit(QuantumRegister(1, 'q2'), 0)}\n",
      "lay.final_index_layout: [0, 1, 2]\n",
      "lay.final_layout: None\n",
      "Virtual → physical (final): {0: 'q0', 1: 'q1', 2: 'q2'}\n",
      "edge_map:\n",
      "q0[0]→q0[0]\n",
      "q1[0]→q1[0]\n",
      "q2[0]→q2[0]\n",
      "perm    : [0, 1, 2]\n"
     ]
    }
   ],
   "source": [
    "\n",
    "# copied over for conveniece but registers have not changed\n",
    "a = QuantumRegister(1, 'q0')\n",
    "b = QuantumRegister(1, 'q1')\n",
    "c = QuantumRegister(1, 'q2')\n",
    "\n",
    "print(f\"(A) swap circuit (from above): {swap_circ.draw('text')}\")\n",
    "noswap = QuantumCircuit(a, b, c,name=\"no-swap\")\n",
    "\n",
    "noswap.cx(a, b)\n",
    "noswap.cx(c, b)\n",
    "\n",
    "print(f\"(B) no-swap circuit: {noswap.draw('text')}\")\n",
    "\n",
    "line_map = CouplingMap([[0,1], [1,2]])\n",
    "t_no = transpile(noswap, coupling_map=line_map,\n",
    "                 basis_gates=['rz','sx','x','cx','ecr'],\n",
    "                 optimization_level=0)\n",
    "analyse2(t_no, \"no-SWAP circuit (opt-0)\")"
   ]
  },
  {
   "cell_type": "code",
   "execution_count": null,
   "id": "f2c1c907",
   "metadata": {},
   "outputs": [],
   "source": []
  },
  {
   "cell_type": "markdown",
   "id": "af475343",
   "metadata": {},
   "source": [
    "### <b>How your `LayoutSynthesizer` mirrors this idea</b>\n",
    "In your SMT model:\n",
    "\n",
    "* `pi[q][t]` — the **mapping variable** (logical→physical at time *t*).  \n",
    "* `sigma[e][t]` — **boolean** “a physical SWAP on edge *e* ends at *t*”.\n",
    "\n",
    "If the input circuit **contains no `SwapGate`s**:\n",
    "\n",
    "* No constraint ever forces any σ[e][t] = True.\n",
    "* The solver is free to choose *any* initial `pi[*][0]` permutation that\n",
    "  satisfies the gate-dependency constraints (`constraint_avoid_collisions`,  \n",
    "  `constraint_mapping_and_space_consistency`, …).\n",
    "\n",
    "That is exactly the same freedom Qiskit gets after `ElidePermutations`.\n",
    "\n",
    "If the front-end **does include swaps**, they appear as extra `instructions`,\n",
    "increase `circuit_num_gates`, and the constraints  \n",
    "`constraint_mapping_transformed` & `constraint_mapping_unchanged` **force**\n",
    "the appropriate σ variables to turn True.  \n",
    "The solver can no longer “absorb” the permutation, so the schedule is\n",
    "necessarily longer — mirroring the “frozen permutation” cost we just saw.\n"
   ]
  },
  {
   "cell_type": "markdown",
   "id": "50579cc9",
   "metadata": {},
   "source": []
  },
  {
   "cell_type": "markdown",
   "id": "a1d4275a",
   "metadata": {},
   "source": [
    "### 4  Link to `LayoutSynthesizer` (SMT model)  \n",
    "\n",
    "* Variables  \n",
    "  * **`pi[q][t]`** – logical → physical map at timestep *t*.  \n",
    "  * **`sigma[e][t]`** – `True` iff a *physical* SWAP on edge *e* ends at *t*.\n",
    "\n",
    "* Key constraints  \n",
    "  * **`constraint_mapping_unchanged`** + **`constraint_mapping_transformed`**  \n",
    "    ensure that **if every σ is `False`**, the mapping stays\n",
    "    constant: the solver may pick **any** initial `pi[*][0]`\n",
    "    (=> free virtual permutation).  \n",
    "    When an explicit SWAP is in the input circuit, those same constraints\n",
    "    *force* certain σ to `True`, committing to real SWAP cost.\n",
    "\n",
    "Thus, supplying your `LayoutSynthesizer` with **SWAP-free circuits**\n",
    "gives it the same freedom that Qiskit’s *ElidePermutations* pass creates\n",
    "in 2.0: the logical permutation is absorbed into `pi`, not paid for with\n",
    "extra gates.\n"
   ]
  },
  {
   "cell_type": "code",
   "execution_count": null,
   "id": "e8811702",
   "metadata": {},
   "outputs": [],
   "source": []
  },
  {
   "cell_type": "markdown",
   "id": "865a4eb2",
   "metadata": {},
   "source": [
    "### 5 Two separate transpile calls\n",
    "\n",
    "| call-site | purpose | arguments that matter | stage(s) enabled |\n",
    "|-----------|---------|-----------------------|------------------|\n",
    "| **`QiskitCompiler.__init__ → _calibrate_swap`** | learn *depth of a native SWAP* for this basis-gate set | `optimization_level` (**O₀**) + `layout_method`, `routing_method` (set in `QiskitCompiler` constructor) | **translation** only (no coupling map → no routing) |\n",
    "| **`QuantumDevice.allocate → compiler.transpile()`** | turn *logical* IR into native-basis gates for *that device’s* coupling map | same **O₀**, `layout_method`, `routing_method`, **plus** device coupling map | **translation + layout** (still **routing-free** because `routing_method=None`) |\n",
    "\n",
    "`LayoutSynthesizer` therefore starts from a circuit\n",
    "\n",
    "* already in the device’s basis,\n",
    "* **without** any physical SWAPs,\n",
    "* whose cost model for σ-variables uses `swap_duration`\n",
    "  learned in the first call.  "
   ]
  },
  {
   "cell_type": "code",
   "execution_count": 9,
   "id": "242e5b0f",
   "metadata": {},
   "outputs": [
    {
     "name": "stdout",
     "output_type": "stream",
     "text": [
      "O0: native-SWAP depth = 3\n",
      "O1: native-SWAP depth = 3\n",
      "O2: native-SWAP depth = 0\n",
      "O3: native-SWAP depth = 0\n"
     ]
    }
   ],
   "source": [
    "# NOTE: this cell assumes your repo is on PYTHONPATH, or you run in the repo root.\n",
    "import networkx as nx, math, importlib, inspect, sys, pathlib\n",
    "\n",
    "from qrew.simulation.refactor.resources.quantum_resources import QuantumDevice\n",
    "from qrew.simulation.refactor.q_interop.transpilers import QiskitCompiler\n",
    "from qrew.simulation.refactor.quantum import QuantumCircuit, QuantumInstruction\n",
    "from qrew.simulation.refactor.quantum_gates import CX, SWAP\n",
    "\n",
    "# --- a tiny helper to build a 2-edge line device for clarity ---------------\n",
    "def make_line_device(n=3, *, opt_level=0, layout=\"trivial\"):\n",
    "    g = nx.Graph([(i, i+1) for i in range(n-1)])\n",
    "    qc = QiskitCompiler(\n",
    "        basis_gates=(\"ECR\",\"I\",\"RZ\",\"SX\",\"X\",\"CX\"),\n",
    "        optimization_level=opt_level,\n",
    "        layout_method=layout,           # keep deterministic\n",
    "        routing_method=None,            # we want routing-free\n",
    "    )\n",
    "    return QuantumDevice(device_name=f\"Line{n}_O{opt_level}\",\n",
    "                         connectivity=g,\n",
    "                         compiler=qc)\n",
    "\n",
    "# --- check how deep a SWAP is for each optimisation level -----------------\n",
    "for lvl in (0, 1, 2,3):\n",
    "    dev = make_line_device(opt_level=lvl)\n",
    "    print(f\"O{lvl}: native-SWAP depth = {dev.swap_duration}\")"
   ]
  },
  {
   "cell_type": "markdown",
   "id": "cf46d01a",
   "metadata": {},
   "source": [
    "Expected result: O0 -> depth 3 or 4, O1,O2 may reduce if gate-fudion is permitted\n"
   ]
  },
  {
   "cell_type": "code",
   "execution_count": 10,
   "id": "b5b7ca2d",
   "metadata": {},
   "outputs": [
    {
     "name": "stdout",
     "output_type": "stream",
     "text": [
      "Logical depth: 3\n",
      "Attempting maximal depth 3...\n",
      "\n",
      "O0:  SWAP_depth=3  ⇒  LS depth=3\n",
      "  initial map (1, 0, 2)  →  final (1, 0, 2)\n",
      "  physical SWAPs chosen  : []\n",
      "Attempting maximal depth 3...\n",
      "\n",
      "O1:  SWAP_depth=3  ⇒  LS depth=3\n",
      "  initial map (1, 0, 2)  →  final (1, 0, 2)\n",
      "  physical SWAPs chosen  : []\n",
      "Attempting maximal depth 3...\n",
      "SWAP [1, 2] 0\n",
      "\n",
      "O2:  SWAP_depth=0  ⇒  LS depth=3\n",
      "  initial map (2, 1, 0)  →  final (1, 2, 0)\n",
      "  physical SWAPs chosen  : [([1, 2], 0)]\n"
     ]
    }
   ],
   "source": [
    "# feed same logical circuit to LayoutSynthesizers\n",
    "# a tiny 3-qubit circuit that needs movement on a line\n",
    "logical = QuantumCircuit(qubit_count=3, instructions=[\n",
    "    QuantumInstruction(CX(),   (0,1)),\n",
    "    QuantumInstruction(SWAP(), (0,2)),\n",
    "    QuantumInstruction(CX(),   (0,1)),\n",
    "])\n",
    "\n",
    "print(\"Logical depth:\", logical.depth())\n",
    "\n",
    "for lvl in (0, 1, 2):\n",
    "    dev = make_line_device(opt_level=lvl)\n",
    "    res, init_map, fin_map, depth, extra = dev.layout_synthesis(\n",
    "        logical, transition_based=False, objective=\"depth\"\n",
    "    )\n",
    "    print(f\"\\nO{lvl}:  SWAP_depth={dev.swap_duration}  ⇒  LS depth={depth}\")\n",
    "    print(f\"  initial map {init_map}  →  final {fin_map}\")\n",
    "    print(f\"  physical SWAPs chosen  :\", extra['swaps'])"
   ]
  },
  {
   "cell_type": "markdown",
   "id": "16c4e1ae",
   "metadata": {},
   "source": [
    "### Interpreting your latest numbers\n",
    "\n",
    "| opt-level | swap_duration learned | LS depth | σ-SWAPs chosen | comment |\n",
    "|-----------|----------------------|----------|----------------|---------|\n",
    "| **0** | 3 | 3 | 0 | The learned cost of a SWAP is **3 CX**.  LS therefore prefers a non-trivial initial π-map `(1,0,2)` that makes every CX adjacent and avoids σ-SWAPs entirely. |\n",
    "| **1** | 3 | 3 | 0 | Same cost model ⇒ LS finds the **same** optimal solution. |\n",
    "| **2** | 0 (!) | 3 | 1 on edge (1,2) | Level-2 transpiler merged the three CX that form a SWAP into **zero-depth native ECR pairs**, so the learnt cost collapses to 0.  LS is therefore willing to use σ-SWAPs freely; it inserts one to reach depth 3 with a different π-map. |\n",
    "\n",
    "So YES – the outputs are consistent with the cost model:\n",
    "\n",
    "* *Higher* `swap_duration` ⇒ LS avoids σ-variables.  \n",
    "* *Zero* `swap_duration` ⇒ LS is happy to use σ-variables because they\n",
    "  are “free”.\n",
    "\n",
    "If that optimisation is **too optimistic** for real hardware you should\n",
    "either pin `optimization_level=0` during `_calibrate_swap`, or overwrite\n",
    "`self.swap_duration` with an empirical value."
   ]
  },
  {
   "cell_type": "code",
   "execution_count": 11,
   "id": "1da08d96",
   "metadata": {},
   "outputs": [
    {
     "name": "stdout",
     "output_type": "stream",
     "text": [
      "Attempting maximal depth 3...\n",
      "Attempting maximal depth 3...\n",
      "Attempting maximal depth 1...\n",
      "Attempting maximal depth 1...\n",
      "Attempting maximal depth 3...\n",
      "Attempting maximal depth 3...\n",
      "Attempting maximal depth 1...\n",
      "Attempting maximal depth 1...\n",
      "Attempting maximal depth 3...\n",
      "Attempting maximal depth 3...\n",
      "SWAP [1, 2] 0\n",
      "SWAP [1, 2] 1\n",
      "Attempting maximal depth 1...\n",
      "Attempting maximal depth 1...\n",
      "π/σ search results:\n",
      "O0  DP,-- │ π₀(1, 0, 2) → π_f(1, 0, 2) │ σ=∅ │ depth=3 (σ-cost=3)\n",
      "O0  DP,HI │ π₀(1, 2, 0) → π_f(1, 2, 0) │ σ=∅ │ depth=3 (σ-cost=3)\n",
      "O0  TB,-- │ π₀(1, 2, 0) → π_f(1, 2, 0) │ σ=∅ │ depth=3 (σ-cost=3)\n",
      "O0  TB,HI │ π₀(1, 2, 0) → π_f(1, 2, 0) │ σ=∅ │ depth=3 (σ-cost=3)\n",
      "O1  DP,-- │ π₀(1, 0, 2) → π_f(1, 0, 2) │ σ=∅ │ depth=3 (σ-cost=3)\n",
      "O1  DP,HI │ π₀(1, 0, 2) → π_f(1, 0, 2) │ σ=∅ │ depth=3 (σ-cost=3)\n",
      "O1  TB,-- │ π₀(1, 2, 0) → π_f(1, 2, 0) │ σ=∅ │ depth=3 (σ-cost=3)\n",
      "O1  TB,HI │ π₀(1, 0, 2) → π_f(1, 0, 2) │ σ=∅ │ depth=3 (σ-cost=3)\n",
      "O2  DP,-- │ π₀(1, 0, 2) → π_f(1, 0, 2) │ σ=∅ │ depth=3 (σ-cost=0)\n",
      "O2  DP,HI │ π₀(2, 1, 0) → π_f(2, 1, 0) │ σ=[([1, 2], 0), ([1, 2], 1)] │ depth=3 (σ-cost=0)\n",
      "O2  TB,-- │ π₀(1, 2, 0) → π_f(1, 2, 0) │ σ=∅ │ depth=3 (σ-cost=0)\n",
      "O2  TB,HI │ π₀(1, 0, 2) → π_f(1, 0, 2) │ σ=∅ │ depth=3 (σ-cost=0)\n"
     ]
    }
   ],
   "source": [
    "# ------------- TEST UTILITIES ------------------------------------------------\n",
    "def run_ls_case(*, opt_level, transition_based, hard_island):\n",
    "    dev = make_line_device(opt_level=opt_level)\n",
    "    res, init_map, fin_map, depth, extra = dev.layout_synthesis(\n",
    "        logical,\n",
    "        transition_based=transition_based,\n",
    "        hard_island=hard_island,\n",
    "        objective=\"depth\",\n",
    "    )\n",
    "    return dict(\n",
    "        opt_level       = opt_level,\n",
    "        transition_based= transition_based,\n",
    "        hard_island     = hard_island,\n",
    "        swap_duration   = dev.swap_duration,\n",
    "        depth           = depth,\n",
    "        swaps           = extra[\"swaps\"],\n",
    "        init_map        = init_map,\n",
    "        fin_map         = fin_map,\n",
    "    )\n",
    "\n",
    "def pretty(line: dict):\n",
    "    tb = \"TB\" if line[\"transition_based\"] else \"DP\"   # transition-based / depth-prop\n",
    "    hi = \"HI\" if line[\"hard_island\"]      else \"--\"\n",
    "    swaps = line[\"swaps\"] or \"∅\"\n",
    "    return (f\"O{line['opt_level']}  {tb},{hi} │ \"\n",
    "            f\"π₀{line['init_map']} → π_f{line['fin_map']} │ \"\n",
    "            f\"σ={swaps} │ depth={line['depth']} (σ-cost={line['swap_duration']})\")\n",
    "\n",
    "# ------------- RUN  4×3  = 12 cases ------------------------------------------\n",
    "cases = []\n",
    "for lvl in (0,1,2):\n",
    "    for tb in (False, True):\n",
    "        for hi in (False, True):\n",
    "            cases.append(run_ls_case(opt_level=lvl,\n",
    "                                     transition_based=tb,\n",
    "                                     hard_island=hi))\n",
    "\n",
    "print(\"π/σ search results:\")\n",
    "for line in cases:\n",
    "    print(pretty(line))"
   ]
  },
  {
   "cell_type": "markdown",
   "id": "701100bc",
   "metadata": {},
   "source": [
    "should observe:\n",
    "1. when swap_duration learned in _calibrate_swap is smaller, LS is willing to trade more \\sigma-variables for depth\n",
    "2. with a larger learned cost it will perfer a better initial \\pi mapping and fewer physical qubits\n"
   ]
  },
  {
   "cell_type": "code",
   "execution_count": null,
   "id": "4bd4ad08",
   "metadata": {},
   "outputs": [],
   "source": []
  },
  {
   "cell_type": "code",
   "execution_count": null,
   "id": "09beff78",
   "metadata": {},
   "outputs": [],
   "source": [
    "# a tiny 3-qubit circuit that needs movement on a line\n",
    "logical = QuantumCircuit(qubit_count=3, instructions=[\n",
    "    QuantumInstruction(CX(),   (0,1)),\n",
    "    QuantumInstruction(SWAP(), (0,2)),\n",
    "    QuantumInstruction(CX(),   (0,1)),\n",
    "])\n",
    "\n",
    "print(\"Logical depth:\", logical.depth())\n",
    "\n",
    "for lvl in (0, 1, 2):\n",
    "    dev = make_line_device(opt_level=lvl)\n",
    "    res, init_map, fin_map, depth, extra = dev.layout_synthesis(\n",
    "        logical, transition_based=False, objective=\"depth\"\n",
    "    )\n",
    "    print(f\"\\nO{lvl}:  SWAP_depth={dev.swap_duration}  ⇒  LS depth={depth}\")\n",
    "    print(f\"  initial map {init_map}  →  final {fin_map}\")\n",
    "    print(f\"  physical SWAPs chosen  :\", extra['swaps'])"
   ]
  },
  {
   "cell_type": "code",
   "execution_count": 68,
   "id": "29d7c8bd",
   "metadata": {},
   "outputs": [
    {
     "data": {
      "text/html": [
       "<pre style=\"word-wrap: normal;white-space: pre;background: #fff0;line-height: 1.1;font-family: &quot;Courier New&quot;,Courier,monospace\">          ┌───┐  ┌───┐  \n",
       "q_0: ──■──┤ Y ├──┤ S ├──\n",
       "     ┌─┴─┐└───┘┌─┴───┴─┐\n",
       "q_1: ┤ X ├──■──┤ Rx(2) ├\n",
       "     ├───┤┌─┴─┐└───────┘\n",
       "q_2: ┤ H ├┤ X ├─────────\n",
       "     └───┘└───┘         \n",
       "c: 3/═══════════════════\n",
       "                        </pre>"
      ],
      "text/plain": [
       "          ┌───┐  ┌───┐  \n",
       "q_0: ──■──┤ Y ├──┤ S ├──\n",
       "     ┌─┴─┐└───┘┌─┴───┴─┐\n",
       "q_1: ┤ X ├──■──┤ Rx(2) ├\n",
       "     ├───┤┌─┴─┐└───────┘\n",
       "q_2: ┤ H ├┤ X ├─────────\n",
       "     └───┘└───┘         \n",
       "c: 3/═══════════════════\n",
       "                        "
      ]
     },
     "execution_count": 68,
     "metadata": {},
     "output_type": "execute_result"
    }
   ],
   "source": [
    "import qiskit\n",
    "import qiskit.circuit.library as qiskit_library\n",
    "circ = qiskit.QuantumCircuit(3, 3)\n",
    "circ.h(2)\n",
    "circ.cx(0, 1)\n",
    "circ.cx(1, 2)\n",
    "circ.y(0)\n",
    "circ.s(0)\n",
    "circ.rx(2., 1)\n",
    "circ.draw()"
   ]
  },
  {
   "cell_type": "code",
   "execution_count": 5,
   "id": "c007d7fb",
   "metadata": {},
   "outputs": [
    {
     "data": {
      "image/svg+xml": [
       "<svg xmlns=\"http://www.w3.org/2000/svg\" width=\"340.0\" height=\"150.0\"><line x1=\"30.0\" x2=\"310.0\" y1=\"25.0\" y2=\"25.0\" stroke=\"#1967d2\" stroke-width=\"1\" /><line x1=\"30.0\" x2=\"310.0\" y1=\"75.0\" y2=\"75.0\" stroke=\"#1967d2\" stroke-width=\"1\" /><line x1=\"30.0\" x2=\"310.0\" y1=\"125.0\" y2=\"125.0\" stroke=\"#1967d2\" stroke-width=\"1\" /><line x1=\"150.0\" x2=\"150.0\" y1=\"25.0\" y2=\"75.0\" stroke=\"black\" stroke-width=\"3\" /><line x1=\"210.0\" x2=\"210.0\" y1=\"25.0\" y2=\"125.0\" stroke=\"black\" stroke-width=\"3\" /><rect x=\"10.0\" y=\"5.0\" width=\"40\" height=\"40\" stroke=\"black\" fill=\"white\" stroke-width=\"0\" /><text x=\"30.0\" y=\"25.0\" dominant-baseline=\"middle\" text-anchor=\"middle\" font-size=\"14px\" font-family=\"sans\\-serif:style=normal:variant=normal:weight=normal:stretch=normal:size=10.0\">0: </text><rect x=\"10.0\" y=\"55.0\" width=\"40\" height=\"40\" stroke=\"black\" fill=\"white\" stroke-width=\"0\" /><text x=\"30.0\" y=\"75.0\" dominant-baseline=\"middle\" text-anchor=\"middle\" font-size=\"14px\" font-family=\"sans\\-serif:style=normal:variant=normal:weight=normal:stretch=normal:size=10.0\">1: </text><rect x=\"10.0\" y=\"105.0\" width=\"40\" height=\"40\" stroke=\"black\" fill=\"white\" stroke-width=\"0\" /><text x=\"30.0\" y=\"125.0\" dominant-baseline=\"middle\" text-anchor=\"middle\" font-size=\"14px\" font-family=\"sans\\-serif:style=normal:variant=normal:weight=normal:stretch=normal:size=10.0\">2: </text><rect x=\"70.0\" y=\"5.0\" width=\"40\" height=\"40\" stroke=\"black\" fill=\"white\" stroke-width=\"1\" /><text x=\"90.0\" y=\"25.0\" dominant-baseline=\"middle\" text-anchor=\"middle\" font-size=\"18px\" font-family=\"sans\\-serif:style=normal:variant=normal:weight=normal:stretch=normal:size=10.0\">H</text><circle cx=\"150.0\" cy=\"25.0\" r=\"10.0\" /><rect x=\"130.0\" y=\"55.0\" width=\"40\" height=\"40\" stroke=\"black\" fill=\"white\" stroke-width=\"1\" /><text x=\"150.0\" y=\"75.0\" dominant-baseline=\"middle\" text-anchor=\"middle\" font-size=\"18px\" font-family=\"sans\\-serif:style=normal:variant=normal:weight=normal:stretch=normal:size=10.0\">X</text><circle cx=\"210.0\" cy=\"25.0\" r=\"10.0\" /><rect x=\"190.0\" y=\"105.0\" width=\"40\" height=\"40\" stroke=\"black\" fill=\"white\" stroke-width=\"1\" /><text x=\"210.0\" y=\"125.0\" dominant-baseline=\"middle\" text-anchor=\"middle\" font-size=\"18px\" font-family=\"sans\\-serif:style=normal:variant=normal:weight=normal:stretch=normal:size=10.0\">X</text><rect x=\"250.0\" y=\"105.0\" width=\"40\" height=\"40\" stroke=\"black\" fill=\"white\" stroke-width=\"1\" /><text x=\"270.0\" y=\"125.0\" dominant-baseline=\"middle\" text-anchor=\"middle\" font-size=\"18px\" font-family=\"sans\\-serif:style=normal:variant=normal:weight=normal:stretch=normal:size=10.0\">H</text></svg>"
      ],
      "text/plain": [
       "<cirq.contrib.svg.svg.SVGCircuit at 0x31d719650>"
      ]
     },
     "execution_count": 5,
     "metadata": {},
     "output_type": "execute_result"
    }
   ],
   "source": [
    "from qrew.simulation.refactor.quantum import QuantumCircuit, QuantumInstruction\n",
    "from qrew.simulation.refactor.quantum_gates import *\n",
    "\n",
    "def simple_circuit():\n",
    "\n",
    "    toy_circ = QuantumCircuit(qubit_count=3, instructions=[])\n",
    "    toy_circ.add_instruction(gate=H(),   indices=(0,))\n",
    "    toy_circ.add_instruction(gate=CX(),  indices=(0,1))\n",
    "    toy_circ.add_instruction(gate=CX(),  indices=(0,2))   # non-adjacent on line-4\n",
    "    toy_circ.add_instruction(gate=H(),   indices=(2,))\n",
    "    return toy_circ\n",
    "toy_qc = simple_circuit()\n",
    "\n",
    "toy_qc.draw()"
   ]
  },
  {
   "cell_type": "code",
   "execution_count": 6,
   "id": "3c8cf5a8",
   "metadata": {},
   "outputs": [
    {
     "data": {
      "text/html": [
       "<pre style=\"word-wrap: normal;white-space: pre;background: #fff0;line-height: 1.1;font-family: &quot;Courier New&quot;,Courier,monospace\">     ┌───┐               \n",
       "q_0: ┤ H ├──■────■───────\n",
       "     └───┘┌─┴─┐  │       \n",
       "q_1: ─────┤ X ├──┼───────\n",
       "          └───┘┌─┴─┐┌───┐\n",
       "q_2: ──────────┤ X ├┤ H ├\n",
       "               └───┘└───┘</pre>"
      ],
      "text/plain": [
       "     ┌───┐               \n",
       "q_0: ┤ H ├──■────■───────\n",
       "     └───┘┌─┴─┐  │       \n",
       "q_1: ─────┤ X ├──┼───────\n",
       "          └───┘┌─┴─┐┌───┐\n",
       "q_2: ──────────┤ X ├┤ H ├\n",
       "               └───┘└───┘"
      ]
     },
     "execution_count": 6,
     "metadata": {},
     "output_type": "execute_result"
    }
   ],
   "source": [
    "from qrew.simulation.refactor.q_interop.qiskit_interop import qiskit_to_quantum_circuit,quantum_circuit_to_qiskit\n",
    "qiskit_circ = quantum_circuit_to_qiskit(toy_qc)\n",
    "\n",
    "qiskit_circ.draw()"
   ]
  },
  {
   "cell_type": "code",
   "execution_count": 7,
   "id": "2e2879eb",
   "metadata": {},
   "outputs": [
    {
     "data": {
      "text/plain": [
       "[CircuitInstruction(operation=Instruction(name='h', num_qubits=1, num_clbits=0, params=[]), qubits=(Qubit(QuantumRegister(3, 'q'), 0),), clbits=()), CircuitInstruction(operation=Instruction(name='cx', num_qubits=2, num_clbits=0, params=[]), qubits=(Qubit(QuantumRegister(3, 'q'), 0), Qubit(QuantumRegister(3, 'q'), 1)), clbits=()), CircuitInstruction(operation=Instruction(name='cx', num_qubits=2, num_clbits=0, params=[]), qubits=(Qubit(QuantumRegister(3, 'q'), 0), Qubit(QuantumRegister(3, 'q'), 2)), clbits=()), CircuitInstruction(operation=Instruction(name='h', num_qubits=1, num_clbits=0, params=[]), qubits=(Qubit(QuantumRegister(3, 'q'), 2),), clbits=())]"
      ]
     },
     "execution_count": 7,
     "metadata": {},
     "output_type": "execute_result"
    }
   ],
   "source": [
    "qiskit_circ.data"
   ]
  },
  {
   "cell_type": "code",
   "execution_count": 8,
   "id": "49ed0494",
   "metadata": {},
   "outputs": [
    {
     "data": {
      "text/plain": [
       "<function qiskit.circuit.quantumcircuit.QuantumCircuit.h(self, qubit: 'QubitSpecifier') -> 'InstructionSet'>"
      ]
     },
     "execution_count": 8,
     "metadata": {},
     "output_type": "execute_result"
    }
   ],
   "source": [
    "qiskit.QuantumCircuit.h"
   ]
  },
  {
   "cell_type": "code",
   "execution_count": 9,
   "id": "4d02b4f5",
   "metadata": {},
   "outputs": [
    {
     "data": {
      "image/svg+xml": [
       "<svg xmlns=\"http://www.w3.org/2000/svg\" width=\"160.0\" height=\"100.0\"><line x1=\"30.0\" x2=\"130.0\" y1=\"25.0\" y2=\"25.0\" stroke=\"#1967d2\" stroke-width=\"1\" /><line x1=\"30.0\" x2=\"130.0\" y1=\"75.0\" y2=\"75.0\" stroke=\"#1967d2\" stroke-width=\"1\" /><line x1=\"90.0\" x2=\"90.0\" y1=\"25.0\" y2=\"75.0\" stroke=\"black\" stroke-width=\"3\" /><rect x=\"10.0\" y=\"5.0\" width=\"40\" height=\"40\" stroke=\"black\" fill=\"white\" stroke-width=\"0\" /><text x=\"30.0\" y=\"25.0\" dominant-baseline=\"middle\" text-anchor=\"middle\" font-size=\"14px\" font-family=\"sans\\-serif:style=normal:variant=normal:weight=normal:stretch=normal:size=10.0\">0: </text><rect x=\"10.0\" y=\"55.0\" width=\"40\" height=\"40\" stroke=\"black\" fill=\"white\" stroke-width=\"0\" /><text x=\"30.0\" y=\"75.0\" dominant-baseline=\"middle\" text-anchor=\"middle\" font-size=\"14px\" font-family=\"sans\\-serif:style=normal:variant=normal:weight=normal:stretch=normal:size=10.0\">3: </text><text x=\"90.0\" y=\"28.0\" dominant-baseline=\"middle\" text-anchor=\"middle\" font-size=\"40px\" font-family=\"sans\\-serif:style=normal:variant=normal:weight=normal:stretch=normal:size=10.0\">×</text><text x=\"90.0\" y=\"78.0\" dominant-baseline=\"middle\" text-anchor=\"middle\" font-size=\"40px\" font-family=\"sans\\-serif:style=normal:variant=normal:weight=normal:stretch=normal:size=10.0\">×</text></svg>"
      ],
      "text/plain": [
       "<cirq.contrib.svg.svg.SVGCircuit at 0x3212b1550>"
      ]
     },
     "execution_count": 9,
     "metadata": {},
     "output_type": "execute_result"
    }
   ],
   "source": [
    "def make_swap_circuit(a: int, b: int, n_qubits: int | None = None):\n",
    "    if n_qubits is None:\n",
    "        n_qubits = max(a, b) + 1\n",
    "    qc = QuantumCircuit(qubit_count=n_qubits)\n",
    "    qc.add_instruction(QuantumInstruction(SWAP(), (a, b)))\n",
    "    return qc\n",
    "\n",
    "\n",
    "swap_circ = make_swap_circuit(0,3,4)\n",
    "\n",
    "swap_circ.draw()"
   ]
  },
  {
   "cell_type": "code",
   "execution_count": 10,
   "id": "da36739d",
   "metadata": {},
   "outputs": [],
   "source": [
    "from qrew.simulation.refactor.devices.quantum_devices import IBM_Brisbane, IBM_Fez, IBM_Kyiv, IBM_Nazca, IBM_Sherbrooke"
   ]
  },
  {
   "cell_type": "code",
   "execution_count": 13,
   "id": "a110f4c9",
   "metadata": {},
   "outputs": [
    {
     "data": {
      "text/plain": [
       "QDevice(IBM Brisbane,num qubits=127)"
      ]
     },
     "execution_count": 13,
     "metadata": {},
     "output_type": "execute_result"
    }
   ],
   "source": [
    "IBM_Brisbane"
   ]
  },
  {
   "cell_type": "code",
   "execution_count": null,
   "id": "c0382c6a",
   "metadata": {},
   "outputs": [],
   "source": []
  },
  {
   "cell_type": "markdown",
   "id": "0d297f75",
   "metadata": {},
   "source": [
    "# <b>Intermediate Representation (IR) Layer</b>\n",
    "\n",
    "A robust IR is the centerpiece of a unified compiler. Qiskit uses a directed-acyclic-graph circuit representation (DAGCircuit) internally as its IR for transformations. Cirq, on the other hand, represents circuits as an ordered list of Moments (each Moment is a set of parallel operations) in its Circuit class. Our framework should introduce a similar abstraction:\n",
    "\n",
    "-\tAbstract Circuit Model: Implement a QuantumCircuitIR class (or similar) that stores qubits and a sequence of operations (with optional groupings or layers for parallel operations). This IR should be independent of any vendor-specific classes. For example, it might store operations as tuples like (gate_type, target_qubits, parameters).\n",
    "-\tGate Abstractions: Define a library of common gate classes or types (e.g. Hadamard, CNOT, parametric rotations, etc.). Each gate can be represented by a name or identifier and optional parameters (angle, phase). The IR gate definitions should be general enough to cover gates in Qiskit and Cirq. (Qiskit’s U gates, Cirq’s gates, as well as more exotic gates can be mapped to this set or extended).\n",
    "-\tConversion Utilities: Provide functions to translate the IR to a Qiskit QuantumCircuit or a Cirq Circuit, and vice versa. For example, a function to_qiskit(ir_circuit) would instantiate a Qiskit QuantumCircuit with the same number of qubits and then iterate through IR operations to append equivalent Qiskit gates. Similarly, to_cirq(ir_circuit) would create a Cirq circuit (possibly constructing Moments to preserve any parallelism info from IR). This ensures that algorithms written in IR can be executed on either platform by translation.\n",
    "-\tDAG or Linear IR: Internally, using a DAG structure for the IR can be beneficial for transformations (as in Qiskit). The IR class could maintain a dependency graph of operations (edges representing qubit flow). This makes analyses or rewrites (like commuting gates or reordering) easier. However, the interface to it can still be simple (e.g., users add gates in sequence).\n",
    "-\tSupport for High-level Operations: The IR might allow high-level gates or subcircuits not native to hardware (e.g., an N-qubit gate like Toffoli). The compiler can later decompose these if needed. Qiskit’s transpiler, for instance, breaks down multi-qubit gates >2 qubits in an initial pass. We can incorporate a similar step where the IR handles arbitrary gates and defers decomposition to the transpiler stage.\n",
    "-\tExample: If a user builds a circuit in the IR with a Toffoli gate, the IR would have an operation (“CCX”, qubits [q1,q2,q3]). If converting to Qiskit, we might directly use Qiskit’s ccx gate if available; if the target device doesn’t support CCX, the compiler can decompose it into simpler gates during transpilation.\n",
    "\n",
    "## <b>Modular Compiler/Transpiler Workflow</b>\n",
    "Both Qiskit and Cirq emphasize rewriting circuits to meet hardware constraints and to optimize performance:\n",
    "-\t<b>Qiskit:</b> Defines transpilation as “rewriting a given input circuit to match the topology of a specific quantum device, and/or to optimize the circuit for execution on present day noisy quantum systems”. Its transpiler is organized into distinct passes that handle mapping and optimizations in stages (initial unrolling, layout mapping, routing, basis translation, scheduling, etc.).\n",
    "-\t<b>Cirq:</b> Takes a slightly different approach by letting the user specify a Device for a circuit. Cirq will ensure that any operations not supported by the device are either disallowed or converted to allowed equivalents, and it provides optimization passes (e.g., merging single-qubit rotations, ejecting unnecessary Z rotations) to simplify circuits. Cirq can effectively “compile” a circuit to a device’s native gate set when a device is specified, though it doesn’t have as elaborate a multi-pass pipeline as Qiskit.\n",
    "\n",
    "<i>Example: Qiskit’s default transpiler pipeline consists of multiple stages (passes) that progressively transform an abstract circuit into an executable form. The figure above illustrates an example pipeline: an initial optimization (e.g., merging gates, simplifying the “virtual” circuit), decomposition of multi-qubit gates into 1- and 2-qubit primitives, layout assignment (mapping logical qubits to physical qubits of the device), routing (inserting SWAPs to respect the device’s restricted topology), translation to the device’s basis gate set, and a final optimization on the “physical” circuit. By structuring the compiler into clear phases like this, we can more easily swap in/out algorithms for each phase or adjust for different hardware requirements.</i>"
   ]
  },
  {
   "cell_type": "markdown",
   "id": "8a15f0e8",
   "metadata": {},
   "source": [
    "Proposed Compiler Structure: We should implement a Compiler (or Transpiler) class that orchestrates a sequence of transformation passes on the IR. Key stages in the pipeline could include:\n",
    "1.\tInitial Simplification/Decomposition: Perform any high-level optimizations on the input IR and decompose non-standard gates. For example, if the IR contains a 3-qubit gate (like a Toffoli or Fredkin), replace it with an equivalent circuit of 1- and 2-qubit gates (since most hardware only natively supports one- and two-qubit operations). This stage ensures later passes handle a standard gate set.\n",
    "\n",
    "2.\tLayout Assignment: If a target device is specified, choose an initial mapping of logical qubits (circuit qubits) to the device’s physical qubits. Qiskit uses a Layout pass for this, which maps “virtual” qubits to hardware qubits. In our framework, this could be a method in the Compiler that consults the QuantumDevice for its qubit topology. For a small device, a simple strategy (like map in order or use a graph isomorphism algorithm if the circuit’s qubit interaction graph is known) can be used. For more complex cases, we could implement or reuse algorithms (Qiskit’s VF2 layout or SABRE layout heuristics) to find a good initial mapping. If no device is provided (i.e. running on an abstract simulator), this step can be skipped or assign a trivial layout.\n",
    "\n",
    "3.\tRouting (Swap Insertion): After layout, the circuit may have two-qubit gates between qubits that are not directly connected on the device’s coupling graph. The routing stage inserts SWAP gates to move qubit states and ensure that every two-qubit interaction occurs on adjacent (connected) qubits. This is analogous to Qiskit’s routing passes which ensure compliance with the hardware connectivity. In our compiler, we can implement a routing algorithm that, given the device’s connectivity (from QuantumDevice), finds a sequence of swaps to connect the qubits for each two-qubit gate. (For example, we could adapt a heuristic like the SABRE algorithm used in Qiskit, or use a simpler approach for initial implementation.)\n",
    "\n",
    "4.\tGate Set Translation: Convert all gates in the circuit to the basis gates supported by the target device. Qiskit calls this the translation stage. For instance, if the IR uses an H (Hadamard) gate but the target device’s native gate set doesn’t include H, we would replace it with an equivalent rotation sequence (or other gates) that achieves the same effect. Similarly, if the device only supports CZ for two-qubit interactions, a CNOT might be translated to H–CZ–H on the target qubit. Cirq provides functionality to compile a circuit to a device’s native gate set automatically when a Device is attached. We can achieve this by maintaining a mapping or library of gate decompositions. The QuantumDevice could provide a list of supported gates, and the Compiler can contain logic to substitute any gate not in this list with an equivalent sub-circuit. This step yields a circuit composed entirely of operations the hardware can execute.\n",
    "\n",
    "5.\tOptimizations: After mapping and translation, run optimizations to reduce gate count, depth, or error accumulation. Both Qiskit and Cirq include optimization passes. Qiskit’s transpiler at higher optimization levels will cancel adjacent inverse gates, merge rotations, eliminate unnecessary resets or measurements, etc. Cirq provides several utilities for circuit simplification as well (e.g., combining Pauli operations, ejecting rotations). In our framework, we can incorporate similar optimizations. For example: remove back-to-back Pauli X gates (they cancel out), combine consecutive rotations around the same axis, or use commutation rules to shorten the circuit. These can be implemented as separate pass functions that iterate over the IR (or its DAG) and simplify it.\n",
    "\n",
    "6.\tScheduling (Timing): If the target device has timing constraints (like discrete clock cycles or specific gate durations), incorporate a scheduling stage. Qiskit has an optional scheduling stage where, after logical transformations, the circuit’s operations are assigned specific start times based on gate durations and device timing constraints. Cirq inherently includes a notion of scheduling via Moments (operations in the same Moment are simultaneous). Our IR could support an optional time or layer attribute on operations, and the compiler can assign start times to each operation given the device’s gate timings and any concurrency rules. For example, on a superconducting device, two-qubit gates on neighboring qubits might not be allowed simultaneously due to crosstalk – a scheduling pass could ensure such operations are ordered. For an ion-trap, scheduling might ensure that only one global two-qubit gate (e.g., a global Molmer–Sørensen pulse) occurs at once. Initially, we might implement scheduling in a simple form (like grouping operations into time steps where possible, or respecting an overall gate time sequence), but the design should allow this step to be expanded as needed.\n",
    "\n",
    "\n",
    "Each of these stages should be implemented as independent modules or methods within the Compiler, which ensures clean separation of concerns. For instance, the code that performs qubit routing should rely only on a generic description of the device’s connectivity (and not be entangled with gate translation logic). We can mimic Qiskit’s PassManager idea: maintain a list of pass functions that the compiler runs in sequence. This could be as simple as a fixed sequence of method calls in our Compiler.compile() method, or as flexible as letting users enable/disable certain passes.\n",
    "\n",
    "By structuring the transpilation workflow in stages, we make it easy to adapt the flow for different situations. For example, if compiling for a fully-connected device (like some ion-trap architecture), the routing stage can be skipped or simplified because no swaps are needed. If compiling for an error-free simulator with no connectivity limits, we might skip directly to optimizations. The key is that our Compiler can decide which stages to apply based on the QuantumDevice characteristics and user requirements (perhaps controlled by flags or an optimization level parameter)."
   ]
  },
  {
   "cell_type": "markdown",
   "id": "a02d1b4c",
   "metadata": {},
   "source": []
  },
  {
   "cell_type": "markdown",
   "id": "3e37dad5",
   "metadata": {},
   "source": [
    "## <b>Device Modeling and Abstraction</b>\n",
    "\n",
    "In the current architecture, device-specific details (like IBM’s qubit topology given via a CSV) are likely hard-coded or handled in an ad-hoc way. We want to refactor this into a clean QuantumDevice abstraction that encapsulates all hardware-specific information. Both Qiskit and Cirq offer useful patterns here:\n",
    "\n",
    "Qiskit: A backend in Qiskit provides information about the device: number of qubits, the coupling map (which qubits are connected), and the set of basis gates it supports. In newer versions, Qiskit has introduced a Target class which combines these details (gate definitions, connectivity, gate durations, etc.), replacing older standalone structures like CouplingMap ￼. The transpiler uses this information to know what transformations are needed for a given device.\n",
    "\n",
    "Cirq: Cirq uses a Device class to impose constraints on circuits. A custom Device class can define the allowed qubits, the allowed gates, and rules like adjacency for two-qubit gates by overriding methods such as validate_operation. For example, a Device might specify that it contains 5 qubits in a line and only supports CZ gates between adjacent qubits – if a two-qubit operation involves non-neighboring qubits, the validate_operation will throw an error. When you associate a circuit with a Device, Cirq can automatically check and even convert gates to ones supported by that device (compiling to the native gate set). This pattern ensures that circuits adhere to hardware constraints."
   ]
  },
  {
   "cell_type": "markdown",
   "id": "ae662f6e",
   "metadata": {},
   "source": [
    "Designing a QuantumDevice class:\n",
    "We should introduce an abstract base class (or interface) QuantumDevice that contains the following attributes and methods:\n",
    "\t•\tQubit Set: Identify the qubits on the device. This could simply be an integer count or a list of identifiers. For example, IBM’s 7-qubit devices might label qubits 0–6. Ion-trap or photonic devices also have qubit-like entities that we can label similarly.\n",
    "\t•\tConnectivity Graph: A description of which qubit pairs can directly interact. This can be stored as a list of allowed pairs (edges) or an adjacency matrix/graph. For an IBM device, this comes from the CSV topology file (e.g., edges like (0–1), (1–2), etc.). For an all-to-all device (e.g., a small ion trap machine), this could either list all possible pairs or be represented by a special flag or a complete graph. The compiler’s routing stage will consult this graph to decide if a two-qubit gate needs insertion of SWAPs. (If the graph is fully connected, no swaps are needed.)\n",
    "\t•\tSupported Gates (Gate Set): A specification of which gate operations the device natively supports. This could be a set of gate names or types. For example, an IBM superconducting device’s basis might be {X, SX, RZ, CX, Measure} (the set of gates it can perform directly). An ion-trap device might support arbitrary single-qubit rotations and a two-qubit entangling gate (like MS or XX gate). Cirq uses cirq.Gateset to list allowed gate classes; we can adopt a similar approach. Our QuantumDevice could have a property or method like device.supports(gate) or simply a set of allowed gate identifiers to check against. This will be used in the translation stage to ensure we only emit supported gates.\n",
    "\t•\tGate Durations / Timing: (Optional) If available, include the duration of each gate (in nanoseconds or an abstract time unit). IBM devices, for instance, have calibration data specifying how long each gate takes. Including this info allows the compiler’s scheduling stage to map operations to time slots and ensure alignment with hardware cycle times. We could store this as a dictionary, e.g., device.gate_durations = {'X': 20e-9, 'CX': 200e-9, ...} or use a more abstract “time unit” approach depending on how we simulate or schedule. Photonic devices might have different timing considerations (like gating frequencies), but those can also be added in this abstraction.\n",
    "\t•\tValidation Methods: Similar to Cirq’s approach, we can implement a method validate_operation(op) and validate_circuit(circuit) on QuantumDevice. By default, validate_operation would check that the operation’s qubits are within the device’s qubit set, that if it’s a multi-qubit operation the qubits are connected on the device, and that the gate is in the supported set. validate_circuit can simply iterate over all ops in an IR circuit and call validate_operation (and possibly enforce any global constraints, like maximum circuit depth or special limitations, if applicable). These methods give us a way to verify that a compiled circuit is truly compatible with the device.\n",
    "\n",
    "Device as a Pluggable Component:\n",
    "The architecture should treat QuantumDevice as a pluggable description of hardware. The transpiler/Compiler will use the device’s data to decide what transformations to do, but the device object itself will not perform those transformations (maintaining a separation of concerns). For example, our Compiler’s layout stage might call something like device.qubits (to know how many physical qubits and their labels) and device.connectivity (to get the coupling graph) to compute a layout. The device might also provide utility methods, e.g. device.is_connected(q1, q2) to check adjacency.\n",
    "\n",
    "We should also provide concrete implementations or factory functions for common devices:\n",
    "\t•\tIBMDevice (IBM QuantumDevice): A subclass that knows how to read IBM’s coupling map CSV or backend configuration. For instance, IBMDevice.from_csv(\"device_topology.csv\") could parse a file and populate the qubit list and connectivity edges. It would also initialize the supported gate set (IBM’s basis gates). IBM’s basis is fairly standard across devices (e.g., U3 or now U, SX, CX, etc.), but if needed, this can be parameterized or loaded from the device’s properties.\n",
    "\t•\tFullyConnectedDevice: A generic device class for cases where connectivity is not restricted. For example, GenericDevice(n_qubits, gate_set) that simply assumes any qubit can interact with any other. This could be used for simulation or for hardware like ion-trap systems which are effectively fully connected. The routing stage would effectively do nothing for this device, since all two-qubit gates are allowed directly.\n",
    "\t•\tCustom/Extended Devices: It should be straightforward to add support for new hardware by subclassing QuantumDevice. For instance, a PhotonicDevice might have a different gate set (like beamsplitters, phase shifters) and maybe a linear connectivity (if we think of modes in a waveguide). One could implement that by listing those gates and connectivity graph. The rest of the compiler would still function (though new gate types might require adding decomposition rules if we want to express common gates in terms of photonic primitives).\n",
    "\n",
    "By making device details optional, we allow the framework to operate in an abstract mode. If device=None (or if we have a special IdealDevice with full connectivity and all gates), the compiler can essentially skip the device-dependent steps: no need for layout (logical qubits need not be mapped to a smaller set) and no need for routing (assume all qubits are connected). The IR will remain largely unchanged except for generic optimizations. This is useful for running algorithms on an ideal simulator or for writing device-independent algorithms. When a real device is specified, the additional passes (layout, routing, translation, etc.) kick in to enforce that device’s constraints.\n",
    "\n",
    "Crucially, the QuantumDevice abstraction means our code base is ready for future hardware. If a new kind of quantum hardware appears (say, a photonic chip or a superconducting processor with a different native gate alphabet), we just create a new device description class for it. The existing compiler passes (layout, routing, translation, etc.) will automatically use the new device’s info. For example, if an ion-trap device class reports full connectivity and a native MS gate, the compiler will know not to insert swaps (full connectivity) and to translate any CNOTs into MS (if we provide that rule in the gate translation stage). The core logic doesn’t need to change to accommodate the new device, only the data in the QuantumDevice subclass does. This encapsulation of hardware specifics is exactly how Qiskit’s Backend/Target and Cirq’s Device enable broad compatibility.\n",
    "\n",
    "To maintain clean abstraction boundaries:\n",
    "\t•\tThe IR layer knows nothing about specific devices or constraints.\n",
    "\t•\tThe Device classes know the hardware details but nothing about how a circuit will be transformed.\n",
    "\t•\tThe Compiler is the mediator that uses info from a QuantumDevice to transform an IR circuit.\n",
    "\n",
    "This separation makes the system easier to maintain and extend. (For instance, if a new scheduling algorithm is needed, we modify the Compiler; if a new device comes, we add a Device subclass; neither change ripples through unrelated parts of the code.)\n"
   ]
  }
 ],
 "metadata": {
  "kernelspec": {
   "display_name": "torch_env",
   "language": "python",
   "name": "python3"
  },
  "language_info": {
   "codemirror_mode": {
    "name": "ipython",
    "version": 3
   },
   "file_extension": ".py",
   "mimetype": "text/x-python",
   "name": "python",
   "nbconvert_exporter": "python",
   "pygments_lexer": "ipython3",
   "version": "3.11.11"
  }
 },
 "nbformat": 4,
 "nbformat_minor": 5
}
