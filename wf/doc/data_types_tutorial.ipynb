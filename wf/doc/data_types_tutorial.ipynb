{
 "cells": [
  {
   "cell_type": "markdown",
   "id": "c1340ab7",
   "metadata": {},
   "source": [
    "# Tutorial: Working with `data_types.py`\n",
    "\n",
    "This Jupyter notebook is an **annotated walkthrough** of the _data‑types_ layer in your\n",
    "workflow / resource‑estimation code‑base.  \n",
    "The goal is to help new contributors **understand**, **experiment** with, and **extend**\n",
    "the fundamental data‑type building blocks that underpin:\n",
    "\n",
    "* **Resource estimation** — e.g. _how many (qu)bits does a register need?_\n",
    "* **Shape & type checking** — reasoning about symbolic tensor shapes and composite\n",
    "  data structures.\n",
    "* **Trace construction** — assembling DAG nodes that manipulate these data objects.\n",
    "\n",
    "> **Prerequisites**  \n",
    "> The notebook assumes the repository is on your Python path (or that the notebook\n",
    "> lives in the repo root).  Adjust `sys.path` below if needed."
   ]
  },
  {
   "cell_type": "code",
   "execution_count": 1,
   "id": "d0748807",
   "metadata": {},
   "outputs": [],
   "source": [
    "sep_str = '-'*60"
   ]
  },
  {
   "cell_type": "code",
   "execution_count": 2,
   "id": "81b1c042",
   "metadata": {},
   "outputs": [],
   "source": [
    "# -- Python path -----------------------------------------------------------------\n",
    "import sys, os, pathlib\n",
    "repo_root = pathlib.Path.cwd()  # adapt if the notebook sits elsewhere\n",
    "# if str(repo_root) not in sys.path:\n",
    "#     sys.path.insert(0, str(repo_root))\n",
    "current_dir = os.getcwd()\n",
    "sys.path.append(current_dir[:-9])\n",
    "\n",
    "# -- Core data‑type imports ------------------------------------------------------\n",
    "from qrew.simulation.data_types import (\n",
    "    BitNumbering,BitStringView,\n",
    "    Dyn,                   # symbolic \"dynamic\" dimension marker\n",
    "    CBit, CUInt, CInt, CFloat,\n",
    "    CFxp, String,Struct,\n",
    "    QBit, QAny, QInt, QUInt, BQUInt, QFxp,\n",
    "    TensorType, MatrixType,\n",
    "    is_classical, is_quantum,\n",
    ")\n"
   ]
  },
  {
   "cell_type": "markdown",
   "id": "eaf93328",
   "metadata": {},
   "source": [
    "| Section | Outcome |\n",
    "|---------|---------|\n",
    "| Classical scalars | Encode bits, signed/unsigned integers, fixed-point, IEEE-754 floats, strings |\n",
    "| Classical scalars | Encode bits, signed/unsigned integers, fixed-point, IEEE-754 floats, strings |\n",
    "| Quantum scalars   | Model qubits, *n*-qubit integers, and fixed-point registers à la Qualtran |\n",
    "| Dyn & symbolics   | Represent unknown or symbolic widths \\(n, m, \\ldots\\) and the sentinel **Dyn** |\n",
    "| Composites        | Build `TensorType` ($\\mathbb R^{s_1\\times\\cdots\\times s_r}$) and `CStruct` (records) |\n",
    "| Consistency engine| Use `check_dtypes_consistent` to check two dtypes compatible under ⟨global, C, Q⟩ ladders |\n",
    "| Resource formulas | Compute qubit/bit counts and memory footprints |"
   ]
  },
  {
   "cell_type": "markdown",
   "id": "e51818f7",
   "metadata": {},
   "source": [
    "\n",
    "# 1. `DataType` — the universal interface for register element types\n",
    "_In-house data types <code class=\"filepath\">./data_types.py</code>._\n",
    "\n",
    "Every concrete dtype (classical *or* quantum) derives from `DataType`. Think of it as the “adapter” that lets high-level operations treat qubits or bits like well-typed scalars.\n",
    "\n",
    "\n",
    "- **Abstract properties/methods**\n",
    "  \n",
    "  - `data_width` → how many fundamental units (bits or qubits) per element\n",
    "  - `to_bits(x)` → `[int, …]` for a single value\n",
    "  - `from_bits(bits)` → reconstruct a single value\n",
    "  - `get_classical_domain()` → iterable of representable classical values (if enumerable)\n",
    "  - `assert_valid_classical_val(val)` → raise if `val` out of domain\n",
    "- **Provided helpers**\n",
    "  \n",
    "  - `to_bits_array(x_array)` and `from_bits_array(bits_array)` via NumPy-vectorization\n",
    "  - `assert_valid_classical_val_array(...)`\n",
    "  - `is_symbolic()` / `iteration_length_or_zero()`\n",
    "  - `__str__` and `__format__` delegate to the class name + width\n"
   ]
  },
  {
   "cell_type": "markdown",
   "id": "30228cd4",
   "metadata": {},
   "source": [
    "\n",
    "\n",
    "## 1.1. Quantum Data Types (`QType`)\n",
    "\n",
    "_All subclasses inherit from `QType` → `DataType` and expose a common bit-level API (`to_bits`, `from_bits`, `assert_valid_classical_val`, …)._\n",
    "\n",
    "| QType&nbsp;(constructor)      | `data_width` / `num_qubits` | Classical domain<sup>†</sup>                               | Purpose & notes                                                                                                   |\n",
    "|-------------------------------|-----------------------------|------------------------------------------------------------|--------------------------------------------------------------------------------------------------------------------|\n",
    "| `QBit()`                      | `1`                         | `{0, 1}`                                                   | Single qubit viewed in the computational basis. Simplest building block for larger registers.                      |\n",
    "| `QInt(n)`                     | `n`                         | $[-2^{\\,n-1},\\,2^{\\,n-1})$                                 | *Signed* two’s-complement integer. High (bit 0) is the sign-bit. Arithmetic wraps mod $2^n$.                       |\n",
    "| `QUInt(n)`                    | `n`                         | $[0,\\,2^{\\,n})$                                            | *Unsigned* integer. Developer manages wrap-around semantics on overflow (C-style).                                 |\n",
    "| `BQUInt(bitsize, L)`          | `bitsize`                   | $[0,\\,L)$ with $L\\le 2^{\\texttt{bitsize}}$                 | Bounded unsigned integer; ideal for coherent for-loop indices. `iteration_length = L` may be symbolic.             |\n",
    "| `QAny(n)`                     | `n`                         | *Ambiguous* — delegates to `QUInt(n)` when coerced        | Opaque register of *n* qubits used when the specific dtype is unknown/irrelevant. Avoid when a precise domain matters. |\n",
    "| `QFxp(w, f, signed=False)`    | `w`                         | Unsigned → $[0,\\,2^{w-f})$  <br>Signed → $[-2^{w-f-1},\\,2^{w-f-1})$  <br>**Step** $2^{-f}$ | Fixed-point real number with `f` fractional bits. Backed by `QUInt` (unsigned) or `QInt` (signed).  `float = int · 2^{-f}`. |\n",
    "\n",
    "<sup>†</sup> “Classical domain” lists the set of classically representable values (i.e. basis states, ignoring superposition).  \n"
   ]
  },
  {
   "cell_type": "code",
   "execution_count": 3,
   "id": "3d2e549d",
   "metadata": {},
   "outputs": [
    {
     "name": "stdout",
     "output_type": "stream",
     "text": [
      "data_width (qubits): 1\n",
      "is_quantum: True | is_classical: False\n"
     ]
    }
   ],
   "source": [
    "# TODO\n",
    "# Make examples of \n",
    "# 1. `QBit()`  one logical qubit  \n",
    "# 2. `QInt(w)`  ($w≥1$) signed integer in two’s-complement  \n",
    "# 3. `QUInt(w)` unsigned integer in $[0,2^w\\!-\\!1]$\n",
    "\n",
    "qbit = QBit()\n",
    "print(\"data_width (qubits):\", qbit.data_width)\n",
    "print(\"is_quantum:\", is_quantum(qbit), \"| is_classical:\", is_classical(qbit))"
   ]
  },
  {
   "cell_type": "markdown",
   "id": "5005bce9",
   "metadata": {},
   "source": [
    "## 1.2 · Classical Data Types (`CType`)\n",
    "\n",
    "_Concrete classical dtypes all derive from `CType` → `NumericType` → `DataType` and therefore share the universal bit-level API (`to_bits`, `from_bits`, `assert_valid_classical_val`, …)._\n",
    "\n",
    "- **Primitive bit and integers**: `CBit`, `CInt`, `CUInt`\n",
    "\n",
    "- **Fixed-point, IEEE float, strings**: `CFxp`, `CFloat`, `String`\n",
    "\n",
    "### a. Scalar / “Atomic” Classical Dtypes\n",
    "\n",
    "| CType&nbsp;(constructor)                   | `data_width` / `bit_width` | Classical domain<sup>†</sup>                             | Purpose & notes                                                                                     |\n",
    "|-------------------------------------------|---------------------------|----------------------------------------------------------|-----------------------------------------------------------------------------------------------------|\n",
    "| `CBit()`                                  | $n=1$                       | `{0, 1}`                                                 | Single classical bit.                                                                               |\n",
    "| `CInt(n)`                                 | $n$                       | $[-2^{\\,n-1},\\,2^{\\,n-1})$                               | Signed two’s-complement integer with $n$ bits. Sign-bit at MSB; wraps mod $2^n$.                                  |\n",
    "| `CUInt(n)`                                | $n$                    | $[0,\\,2^{\\,n})$                                          | Unsigned integer with $n$ bits. Developer handles overflow (wrap or error).                                       |\n",
    "| `CFxp(total, frac, signed=False)`         | `w=total`                   | Unsigned → $[0,\\,2^{\\,\\texttt{total-frac}})$<br>Signed → $[-2^{\\,\\texttt{total-frac-1}},\\,2^{\\,\\texttt{total-frac-1}})$<br>**Step** $2^{-\\texttt{frac}}$ | Fixed-point real number (`frac` fractional bits). Re-uses `CInt`/`CUInt` for raw bit access.        |\n",
    "| `CFloat(n)`                               | $$n\\in\\{8,16,32,64\\}$$       | IEEE-754 range for the chosen width                      | Classical floating-point; (de)serialises via `struct.pack` / `struct.unpack`.                       |\n",
    "| `String(max_len)`                         | `w = 8 × max_len`             | All ASCII strings of length ≤ `max_len`                  | Null-padded byte string. Each char occupies one byte.                                               |\n",
    "\n",
    "<sup>†</sup> *“Classical domain” = set of basis-state values that can be represented exactly; superpositions are a quantum artefact and therefore not listed here.*\n"
   ]
  },
  {
   "cell_type": "code",
   "execution_count": 4,
   "id": "f2071ebf",
   "metadata": {},
   "outputs": [
    {
     "name": "stdout",
     "output_type": "stream",
     "text": [
      "------------------------------------------------------------\n",
      "Primitive bit and integers:\n",
      "    CBit()      width = 1 bits, nbytes=1\n",
      "    CInt(8)     width = 8 bits, nbytes=1\n",
      "    CInt(16)    width = 16 bits, nbytes=2\n",
      "    CUInt(32)   width = 32 bits, nbytes=4\n",
      "    CUInt(64)   width = 64 bits, nbytes=8\n",
      "------------------------------------------------------------\n",
      "Fixed-point, IEEE float, string ...\n",
      "    CFxp(16, 8)      width=16 bits  nbytes=2\n",
      "    CFloat(32)       width=32 bits  nbytes=4\n",
      "    String(32)       width=32 bits  nbytes=4\n"
     ]
    }
   ],
   "source": [
    "cbit  = CBit()\n",
    "cint8 = CInt(8)\n",
    "cint64 = CInt(16)\n",
    "cuint32 = CUInt(32)\n",
    "cuint64 = CUInt(64)\n",
    "print(f\"{sep_str}\\nPrimitive bit and integers:\")\n",
    "for dt in (cbit, cint8, cint64, cuint32,cuint64):\n",
    "    print(f\"    {dt:<10}  width = {dt.data_width} bits, nbytes={dt.nbytes}\")\n",
    "\n",
    "print(f\"{sep_str}\\nFixed-point, IEEE float, string ...\")\n",
    "\n",
    "fxp64  = CFxp(16, 8)     # 16-bit fixed point, 8 frac bits\n",
    "flt32  = CFloat(32)\n",
    "string = String(4)\n",
    "\n",
    "for c in (fxp64, flt32, string):\n",
    "    print(f\"    {c:15}  width={c.data_width} bits  nbytes={c.nbytes}\")\n"
   ]
  },
  {
   "cell_type": "markdown",
   "id": "b14db73b",
   "metadata": {},
   "source": [
    "# 3. Composite / Container Classical Dtypes\n",
    "### `Struct(fields: dict[str, DataType])`\n",
    "Packed **record / struct** akin to a C `struct` or Rust `struct`.\n",
    "\n",
    "#### Main properties\n",
    "* `fields` – ordered mapping `name → dtype` (order preserved)  \n",
    "* `data_width` – sum of field widths  \n",
    "* `nbytes`, `total_bits` – byte / bit totals (recursive if a field is itself composite)\n",
    "* `field_order` – list of keys in declaration order\n",
    "\n",
    "#### Core methods\n",
    "* `to_bits(value_dict)` – concatenates each field’s bitstring\n",
    "* `from_bits(bits)` – slices the concatenation back into a `dict`\n",
    "* `assert_valid_classical_val(value_dict)` – field-wise validation\n",
    "\n"
   ]
  },
  {
   "cell_type": "code",
   "execution_count": 5,
   "id": "92ee3bcc",
   "metadata": {},
   "outputs": [
    {
     "name": "stdout",
     "output_type": "stream",
     "text": [
      "\n",
      "Struct(112)  ––  is_classical: True\n",
      "    - data_width (bits): 112\n",
      "    - nbytes:            14\n",
      "    - total_bits:        112\n"
     ]
    }
   ],
   "source": [
    "\n",
    "# A composite structure {id: uint16, mass: float32, label: 8-char string}\n",
    "particle = Struct(\n",
    "    fields={\n",
    "        \"id\":    CUInt(16),\n",
    "        \"mass\":  CFloat(32),\n",
    "        \"label\": String(8),\n",
    "    }\n",
    ")\n",
    "\n",
    "print(f\"\\n{particle}  ––  is_classical: {is_classical(particle)}\")\n",
    "print(f\"    - data_width (bits): {particle.data_width}\")\n",
    "print(f\"    - nbytes:            {particle.nbytes}\")\n",
    "print(f\"    - total_bits:        {particle.total_bits}\")"
   ]
  },
  {
   "cell_type": "markdown",
   "id": "f5927fd9",
   "metadata": {},
   "source": [
    "---\n",
    "#### <b> N-Dim Data Types </b>\n",
    "### `TensorType(shape: Tuple[int, …], element_type: DataType | type)`\n",
    "Represents an **N-dimensional** array whose **elements** are themselves scalar dtypes\n",
    "(e.g. `CFloat(32)`, `CUInt(8)`). Conceptually similar to a NumPy ndarray that carries a bit-level contract.\n",
    "\n",
    "##### Properties\n",
    "* `shape`, `element_type`, optional **`val: np.ndarray`**\n",
    "* `data_width` – bits **per element**  \n",
    "* `rank` – `len(shape)`\n",
    "* `nelement()` – total number of elements  \n",
    "* `element_size()` / **`bytes_per_element`** – bytes per element (`data_width // 8`)\n",
    "* **`nbytes`** – total bytes (`nelement × bytes_per_element`)\n",
    "* **`total_bits`** – `nelement × data_width` (alias `memory_in_bytes × 8`)\n",
    "##### Methods\n",
    "* `to_bits(x)` / `from_bits(bits)` – naïve flatten ↔ reconstruct\n",
    "* `multiply(other)` – broadcast-style shape multiplication\n",
    "* `assert_valid_classical_val(val)` – validates `val.shape` & `val.dtype`\n",
    "* Standard `DataType` helpers (`to_bits_array`, `__str__`, …) come for free.\n"
   ]
  },
  {
   "cell_type": "code",
   "execution_count": 6,
   "id": "477e1b63",
   "metadata": {},
   "outputs": [
    {
     "name": "stdout",
     "output_type": "stream",
     "text": [
      "TensorType((3, 4, 4))  ––    rank: 3 | is_classical: True \n",
      "    - nelements: 48\n",
      "    - bytes per element: 4\n",
      "    - total bytes = 192\n",
      "    - total bits = 1536\n"
     ]
    }
   ],
   "source": [
    "# A 3×4x4 tensor of 32‑bit floats\n",
    "tensor = TensorType(shape=(3, 4, 4), element_type=CFloat(32))\n",
    "\n",
    "print(f\"{tensor}  ––    rank: {tensor.rank} | is_classical: {is_classical(tensor)} \")\n",
    "print(f\"    - nelements: {tensor.nelement()}\")\n",
    "print(f\"    - bytes per element: {tensor.bytes_per_element}\")\n",
    "print(f\"    - total bytes = {tensor.nbytes}\")\n",
    "print(f\"    - total bits = {tensor.total_bits}\")\n"
   ]
  },
  {
   "cell_type": "code",
   "execution_count": null,
   "id": "c66168dd",
   "metadata": {},
   "outputs": [],
   "source": []
  },
  {
   "cell_type": "markdown",
   "id": "da322d9e",
   "metadata": {},
   "source": [
    "---\n",
    "### `MatrixType(rows, cols, element_type=float)`\n",
    "A **rank-2 convenience subclass** of `TensorType` (will eventually be folded into it).\n",
    "\n",
    "#### Extras on top of `TensorType`\n",
    "* Properties: `rows`, `cols`\n",
    "* `multiply(other)` – checks classic matrix-multiply compatibility (`self.cols == other.rows`)\n",
    "* Inherits all size helpers (`rank == 2`, `nbytes`, …)\n"
   ]
  },
  {
   "cell_type": "code",
   "execution_count": 7,
   "id": "d94344de",
   "metadata": {},
   "outputs": [
    {
     "name": "stdout",
     "output_type": "stream",
     "text": [
      "\n",
      "Matrix(3, 4)  ––    rank: 2 | is_classical: True \n",
      "    - nelements: 12\n",
      "    - bytes per element: 4\n",
      "    - total bytes = 48\n",
      "    - total bits = 384\n"
     ]
    }
   ],
   "source": [
    "\n",
    "# A 4×4 matrix of ...\n",
    "mat = MatrixType(3, 4, element_type=CFloat(32))\n",
    "\n",
    "print(f\"\\n{mat}  ––    rank: {mat.rank} | is_classical: {is_classical(mat)} \")\n",
    "print(f\"    - nelements: {mat.nelement()}\")\n",
    "print(f\"    - bytes per element: {mat.bytes_per_element}\")\n",
    "print(f\"    - total bytes = {mat.nbytes}\")\n",
    "print(f\"    - total bits = {mat.total_bits}\")\n"
   ]
  },
  {
   "cell_type": "markdown",
   "id": "d2c93df1",
   "metadata": {},
   "source": []
  },
  {
   "cell_type": "code",
   "execution_count": 8,
   "id": "70a50e71",
   "metadata": {},
   "outputs": [
    {
     "name": "stdout",
     "output_type": "stream",
     "text": [
      "A: Matrix(2, 3) | B: Matrix(3, 1) | A×B: Matrix(2, 1)\n"
     ]
    }
   ],
   "source": [
    "A = MatrixType(2, 3, element_type=CFloat(32))\n",
    "B = MatrixType(3, 1, element_type=CFloat(32))\n",
    "\n",
    "C = A.multiply(B)\n",
    "print(\"A:\", A, \"| B:\", B, \"| A×B:\", C)"
   ]
  },
  {
   "cell_type": "markdown",
   "id": "05207602",
   "metadata": {},
   "source": [
    "The struct’s data_width is the sum of its fields: 16 (id) + 32 (mass) + 8×8 (label) = 112 bits = 14 bytes"
   ]
  },
  {
   "cell_type": "markdown",
   "id": "736c0a89",
   "metadata": {},
   "source": [
    "## 4. Symbolic & Dynamic shapes\n",
    "\n",
    "A `TensorType` wraps an **element type** (another `DataType`) and a **shape**.\n",
    "\n",
    "* Use concrete integers for fixed shapes, or  \n",
    "* `Dyn` / SymPy symbols for symbolic dimensions."
   ]
  },
  {
   "cell_type": "code",
   "execution_count": 9,
   "id": "491c3ae8",
   "metadata": {},
   "outputs": [
    {
     "name": "stdout",
     "output_type": "stream",
     "text": [
      "TensorType((3, 4))  ––    rank: 2 | is_symbolic: False \n",
      "    - nelements: 12\n",
      "    - bytes per element: 1\n",
      "    - total bytes = 12\n",
      "    - total bits = 96\n",
      "TensorType((m, n))  ––    rank: 2 | is_symbolic: True\n",
      "    - nelements: m*n\n",
      "    - bytes per element: 1\n",
      "    - total bytes = m*n\n",
      "    - total bits = 8*m*n\n"
     ]
    }
   ],
   "source": [
    "# A 3×4 tensor]\n",
    "tensor_int8 = TensorType(shape=(3, 4), element_type=CInt(8))\n",
    "\n",
    "print(f\"{tensor_int8}  ––    rank: {tensor_int8.rank} | is_symbolic: {tensor_int8.is_symbolic()} \")\n",
    "print(f\"    - nelements: {tensor_int8.nelement()}\")\n",
    "print(f\"    - bytes per element: {tensor_int8.bytes_per_element}\")\n",
    "print(f\"    - total bytes = {tensor_int8.nbytes}\")\n",
    "print(f\"    - total bits = {tensor_int8.total_bits}\")\n",
    "\n",
    "# A *symbolic* M×N tensor of ints\n",
    "from sympy import symbols\n",
    "M, N = symbols('m n', positive=True, integer=True)\n",
    "sym_tensor = TensorType(shape=(M, N), element_type=CInt(8))\n",
    "\n",
    "print(f\"{sym_tensor}  ––    rank: {sym_tensor.rank} | is_symbolic: {sym_tensor.is_symbolic()}\")\n",
    "print(f\"    - nelements: {sym_tensor.nelement()}\")\n",
    "print(f\"    - bytes per element: {sym_tensor.bytes_per_element}\")\n",
    "print(f\"    - total bytes = {sym_tensor.nbytes}\")\n",
    "print(f\"    - total bits = {sym_tensor.total_bits}\")"
   ]
  },
  {
   "cell_type": "code",
   "execution_count": 10,
   "id": "2a44212f",
   "metadata": {},
   "outputs": [
    {
     "name": "stdout",
     "output_type": "stream",
     "text": [
      "Matrix(m, n)  ––    rank: 2 | is_symbolic: True\n",
      "    - nelements: m*n\n",
      "    - bytes per element: 1\n",
      "    - total bytes = m*n\n",
      "    - total bits = 8*m*n\n"
     ]
    }
   ],
   "source": [
    "sym_mat =  MatrixType((M, N), element_type=CInt(8))\n",
    "\n",
    "print(f\"{sym_mat}  ––    rank: {sym_mat.rank} | is_symbolic: {sym_mat.is_symbolic()}\")\n",
    "print(f\"    - nelements: {sym_mat.nelement()}\")\n",
    "print(f\"    - bytes per element: {sym_mat.bytes_per_element}\")\n",
    "print(f\"    - total bytes = {sym_mat.nbytes}\")\n",
    "print(f\"    - total bits = {sym_mat.total_bits}\")"
   ]
  },
  {
   "cell_type": "markdown",
   "id": "3e09f13f",
   "metadata": {},
   "source": [
    "--- \n",
    "## Bit-level Utilities\n",
    "\n",
    "These tiny helpers sit **orthogonally** to the `DataType` hierarchy: they let\n",
    "you view any integer (or list of bits) as a *bit-string* with an explicit width\n",
    "and ordering, and they give every classical `DataType` a convenient\n",
    "`to_bitstring` adapter.\n",
    "\n",
    "### `BitNumbering` &nbsp;–&nbsp; bit-ordering enum\n",
    "| Numbering flag | int (example) | `binary()` string ( `nbits = 4` ) | `bits()` → `List[int]` |\n",
    "| -------------- | ------------- | --------------------------------- | ----------------------- |\n",
    "| `MSB` (big-endian) | **13** | `1101` | `[1, 1, 0, 1]` |\n",
    "| `LSB` (little-endian) | **13** | `1011` | `[1, 0, 1, 1]` |\n",
    "\n",
    "*With `MSB` the left-most character is **bit 0** (most significant);  \n",
    "with `LSB` the **right-most** character is bit 0, so the string is reversed.*\n",
    "\n",
    "\n",
    "### class `BitStringView`\n",
    "\n",
    "A tiny, immutable wrapper around:\n",
    "- `integer: int` — underlying Python int\n",
    "- `nbits: int` — declared bit-width (auto-grows when you set a larger integer or to fit dtype)\n",
    "- `numbering: BitNumbering` — ordering of bits (`MSB` or `LSB`)\n",
    "- `dtype: Optional[DataType]` — if set, validates that the integer fits in that dtype\n",
    "\n",
    "#### **Class constructors**  — alternate entry points\n",
    "  - `from_int(int, nbits=?, numbering=?, dtype=?)`:  Quick literal → view (optionally widen). Accepts Python `int` or another bit view obj\n",
    "  - `from_binary(str, nbits=?, numbering=?)`: User CLI / config files. Binary string (`0b…` prefix optional).\n",
    "  - `from_array(Sequence[int], nbits=?, numbering=?, dtype=?)`: Interop with bit-lists from other libs\n",
    "  - `from_bitstring(other, nbits=?, numbering=?, dtype=?)`: Clone while tweaking metadata (Existing `BitStringView`)\n",
    "  - `msb(…) / lsb(…)`: Convenience helper/ Alias to `from_int` with fixed ordering\n",
    "\n",
    "#### **Inspectors**\n",
    "  - `binary()` → Zero-padded, raw bit‐string (ordering respected)\n",
    "  - `bits()` / `array()` → `List[int]` in display order\n",
    "\n",
    "#### **Converters**\n",
    "  - `with_numbering(numbering: BitNumbering)`: *new* `BitStringView` with the same integer/value, nbits and dtype\n",
    "        but a different bit-ordering\n",
    "  - `widen_to_dtype(dtype: DataType)`:  Mutates `nbits` to at least `dtype.data_width`, sets new dtype, validates value\n",
    "\n",
    "**Magic**: `__int__`, `__len__`, `__add__`, `__eq__`, `__hash__`, `__repr__`: Make it behave like an `int` that still “remembers” its width & order\n"
   ]
  },
  {
   "cell_type": "code",
   "execution_count": null,
   "id": "5ec18350",
   "metadata": {},
   "outputs": [],
   "source": [
    "i = 1\n",
    "bita = BitStringView.from_int(integer=i)\n",
    "bita_lsb = BitStringView.from_int(integer=i, numbering=BitNumbering.LSB)\n",
    "bitb = BitStringView.from_int(integer=bita)\n",
    "bitc = BitStringView.from_int(integer=bita_lsb)\n",
    "bitd = BitStringView.from_array(array=bita)\n",
    "bite = BitStringView.from_array(array=bita_lsb)\n",
    "bitf = BitStringView.from_binary(binary=bita)\n",
    "bitg = BitStringView.from_binary(binary=bita_lsb)\n",
    "\n",
    "\n",
    "assert (bita == bitb)\n",
    "assert (bita == bitc)"
   ]
  },
  {
   "cell_type": "code",
   "execution_count": null,
   "id": "7577cbab",
   "metadata": {},
   "outputs": [],
   "source": []
  },
  {
   "cell_type": "code",
   "execution_count": 11,
   "id": "2fbdfa05",
   "metadata": {},
   "outputs": [
    {
     "name": "stdout",
     "output_type": "stream",
     "text": [
      "BitStringView(integer=13, nbits=4, numbering=<BitNumbering.MSB: 0>, dtype=None)\n",
      "bit array: [1, 1, 0, 1]\n",
      "binary(): 1101\n",
      "int(b_msb): 13\n",
      "len(b_msb) = nbits = 4\n",
      "BitStringView(integer=13, nbits=4, numbering=<BitNumbering.LSB: 1>, dtype=None)\n",
      "bit array: [1, 0, 1, 1]\n",
      "binary(): 1011\n",
      "int(b_lsb): 13\n",
      "len(b_lsb) = nbits = 4\n"
     ]
    }
   ],
   "source": [
    "from qrew.simulation.data_types import BitStringView, BitNumbering, CUInt\n",
    "b_msb = BitStringView.from_int(13, nbits=4, numbering=BitNumbering.MSB)\n",
    "print(b_msb)\n",
    "print(f\"bit array: {b_msb.bits()}\")\n",
    "print(f\"binary(): {b_msb.binary()}\")\n",
    "print(f\"int(b_msb): {int(b_msb)}\")\n",
    "print(f\"len(b_msb) = nbits = {len(b_msb)}\")\n",
    "b_lsb = b_msb.with_numbering(BitNumbering.LSB)\n",
    "print(b_lsb)\n",
    "print(f\"bit array: {b_lsb.bits()}\")\n",
    "print(f\"binary(): {b_lsb.binary()}\")\n",
    "print(f\"int(b_lsb): {int(b_lsb)}\")\n",
    "print(f\"len(b_lsb) = nbits = {len(b_lsb)}\")\n"
   ]
  },
  {
   "cell_type": "code",
   "execution_count": 12,
   "id": "e6cd583f",
   "metadata": {},
   "outputs": [
    {
     "data": {
      "text/plain": [
       "BitStringView(integer=165, nbits=8, numbering=<BitNumbering.LSB: 1>, dtype=None)"
      ]
     },
     "execution_count": 12,
     "metadata": {},
     "output_type": "execute_result"
    }
   ],
   "source": [
    "BitStringView.lsb(0xA5, nbits=8)"
   ]
  },
  {
   "cell_type": "markdown",
   "id": "92ce7cf5",
   "metadata": {},
   "source": [
    "\n",
    "`BitStringView` is a **presentation/transport** layer:  \n",
    "it can wrap *any* integer—typed or not—without pulling in the whole\n",
    "`DataType` hierarchy.  That makes it ideal for:\n",
    "\n",
    "* logging & debugging (`logger.debug(\"%s\", bs.binary())`)\n",
    "* CLI/GUI fields that accept `0b…` / `0x…` literals\n",
    "* serialisers/deserialisers that need explicit endianness\n",
    "* teaching examples where you want to show the raw bits\n",
    "\n",
    "*Adopting `BitStringView` consistently throughout the codebase eliminates\n",
    "a whole class of endianness and width-mismatch bugs—treat it as the\n",
    "binary analogue of `str`.*  "
   ]
  },
  {
   "cell_type": "markdown",
   "id": "f66b461f",
   "metadata": {},
   "source": []
  },
  {
   "cell_type": "markdown",
   "id": "44d37303",
   "metadata": {},
   "source": [
    "#### Classical ↔ Quantum helpers\n",
    "\n",
    "`is_classical(dtype)` / `is_quantum(dtype)` make it trivial to branch logic\n",
    "based on the data‑type _domain_."
   ]
  },
  {
   "cell_type": "code",
   "execution_count": 14,
   "id": "a776434b",
   "metadata": {},
   "outputs": [
    {
     "name": "stdout",
     "output_type": "stream",
     "text": [
      "CBit()               | classical=    1 | quantum=    0\n",
      "QBit()               | classical=    0 | quantum=    1\n",
      "TensorType((3, 4))   | classical=    1 | quantum=    0\n",
      "TensorType((m, n))   | classical=    1 | quantum=    0\n"
     ]
    }
   ],
   "source": [
    "for dtype in [CBit(), QBit(), tensor_int8, sym_tensor]:\n",
    "    print(f\"{dtype:20} | classical={is_classical(dtype):5} | quantum={is_quantum(dtype):5}\")"
   ]
  },
  {
   "cell_type": "markdown",
   "id": "4ec2254b",
   "metadata": {},
   "source": [
    "\n",
    "#### Utility Functions & Constants\n",
    "\n",
    "- `is_symbolic(x)`\n",
    "  Detects SymPy or user-defined symbolic widths.\n",
    "- `prod(iterable)`\n",
    "  Product, supports symbolic multiplication.\n",
    "- `Dyn`\n",
    "  A singleton placeholder for “dynamic” (unknown) sizes.\n",
    "- `_bits_for_dtype(dt)`, `_element_type_converter(et)`, `_to_symbolic_int(v)`\n",
    "  Internal converters to unify Python/NumPy/Torch types, default element types, and string → SymPy symbol."
   ]
  },
  {
   "cell_type": "code",
   "execution_count": 15,
   "id": "336616f3",
   "metadata": {},
   "outputs": [],
   "source": [
    "from qrew.simulation.schema import RegisterSpec, Flow, Signature"
   ]
  },
  {
   "cell_type": "markdown",
   "id": "178887a0",
   "metadata": {},
   "source": [
    "\n",
    "# 2. Compilation Layer <code class=\"filepath\">./schema.py</code> — *From Data Types to Wires*\n",
    "**Goal**<br>\n",
    "- Translate *data-type* contracts into concrete **registers** and\n",
    "- **signatures** that the workflow graph compiler can reason about:\n",
    "- resource counts, type-checking, fan-out, and symbolic shapes.\n",
    "\n",
    "---\n",
    "\n"
   ]
  },
  {
   "cell_type": "markdown",
   "id": "8bc9c2aa",
   "metadata": {},
   "source": [
    "\n",
    "## `RegisterSpec`\n",
    "<code class=\"signature\">class RegisterSpec(name: str, dtype: DataType | type | alias, _shape: (), flow: Flow = Flow.THRU, variadic: bool = False)</code>\n",
    "\n",
    "\n",
    "Describes a single **logical wire** (or bundle of wires) in a workflow graph. It stores *all* compile-time information needed for:\n",
    "\n",
    "* **type checking** (matching `Data` at runtime),  \n",
    "* **resource estimation** (qubit / bit counts), and  \n",
    "* **symbolic-shape reasoning** when some dimensions are dynamic.\n",
    "#### Properties\n",
    "\n",
    "| property          | description                                                                  |\n",
    "|-------------------|------------------------------------------------------------------------------|\n",
    "| `shape`           | Tuple of concrete wire dimensions (Public accessor to `_shape`). Could be a tuple of `int` / `Dyn` / sympy  dimensions. An  empty `()` means a scalar wire/register          |\n",
    "| `symbolic_shape`  | Same as `shape` but with  placeholders (`SymInt` for torch‑symbolic sizes)   |\n",
    "| `bitsize`         | Bits *or qubits* **per single payload** (`dtype.data_width`).                |\n",
    "| `domain`          | `\"Q\"` if the register’s dtype (or its element_type) is quantum; else `\"C\"`.  |\n",
    "| `is_symbolic`     | `True` if any dimension or dtype size is symbolic.                           |\n",
    "| `total_bits()`    | `payload_bits × fan_out` — total logical bits conveyed by the wire‑bundle.   |\n",
    "| `all_idxs()`      | Generator over every index tuple given the rectangular `shape`.              |\n",
    "\n",
    "---\n",
    "\n",
    "`Flow` is a tiny `enum.Flag` used **only** to tag a register as input / output:\n",
    "\n",
    "| Enum `Flow` | Meaning | Bitwise Behaviour |\n",
    "|-------------|---------|-------------------|\n",
    "| `Flow.LEFT`   | Register is **input-only** to a process. | `Flow.LEFT` |\n",
    "| `Flow.RIGHT`     | Register is **output-only** from a process. | `Flow.RIGHT` |\n",
    "| `Flow.THRU`      | Register is both input **and** output (pass-through). | `Flow.LEFT \\| Flow.RIGHT` |\n",
    "\n",
    "\n",
    "Internally these flags let the `Signature` split registers into **lefts** (inputs) and **rights** (outputs).\n",
    "\n",
    "#### Behaviour Notes\n",
    "\n",
    "\n",
    "* **Post-init coercion** – if `dtype` is a *class* and `_shape` is non-empty, the class is **instantiated** with that shape so later code always sees a concrete dtype instance.\n",
    "* **Equality** (`__eq__`) – compares name, flow, shape and *compatible* dtypes (with `Dyn` wildcards considered equal for `TensorType`).\n",
    "* **Data matching** – `matches_data()` / `matches_data_list()` validate real `Data` objects against the spec; if `variadic=True` the spec may absorb an arbitrary number of sequential `Data` arguments.\n"
   ]
  },
  {
   "cell_type": "markdown",
   "id": "c0912852",
   "metadata": {},
   "source": [
    "\n",
    "### A. Domain & resource cost\n",
    "$$\n",
    "\\text{total\\_bits} \\;=\\;\n",
    "\\bigl(\\texttt{dtype.total\\_bits} \\text{ or } \\texttt{dtype.data\\_width}\\bigr)\n",
    "\\times\n",
    "\\prod(\\texttt{shape})\n",
    "$$\n"
   ]
  },
  {
   "cell_type": "code",
   "execution_count": 16,
   "id": "8f4b11f4",
   "metadata": {},
   "outputs": [],
   "source": [
    "qbit_reg  = RegisterSpec(\"qb\", QBit(), flow=Flow.THRU)\n",
    "tensor_c  = RegisterSpec(\"tc\",\n",
    "               TensorType((2,3), element_type=CInt(8)),   # 6 × 8 bits\n",
    "               flow=Flow.THRU)\n",
    "\n",
    "assert qbit_reg.domain  == \"Q\"      # quantum\n",
    "assert tensor_c.domain == \"C\"       # classical\n",
    "assert qbit_reg.total_bits()  == 1  # 1 qubit\n",
    "assert tensor_c.total_bits() == 6*8 # 48 bits\n"
   ]
  },
  {
   "cell_type": "markdown",
   "id": "efd9daeb",
   "metadata": {},
   "source": [
    "### B. Wire-shape ≠ Data-shape\n"
   ]
  },
  {
   "cell_type": "code",
   "execution_count": 17,
   "id": "99816df5",
   "metadata": {},
   "outputs": [
    {
     "name": "stdout",
     "output_type": "stream",
     "text": [
      "Spec: scalar8x4: TensorType((3,)) (shape=(2,)) Flow.LEFT \n",
      "__str__: InSpec(name=scalar8x4, dtype=TensorType((3,)), shape=(2,))\n",
      "   – bitsize:            8\n",
      "   – total_bits():       48\n",
      "   – shape:              (2,)\n",
      "   – dtype:              TensorType((3,))\n",
      "   – dtype.shape:        (3,)\n"
     ]
    }
   ],
   "source": [
    "reg = RegisterSpec(\n",
    "    \"scalar8x4\",\n",
    "    dtype=TensorType((3,), element_type=CInt(8)),\n",
    "    shape=(2,),                 # fan-out\n",
    "    flow=Flow.LEFT\n",
    ")\n",
    "\n",
    "print(f\"Spec: {repr(reg)}\")\n",
    "print(f\"__str__: {str(reg)}\")\n",
    "print(f\"   – bitsize:            {reg.bitsize}\")\n",
    "print(f\"   – total_bits():       {reg.total_bits()}\")\n",
    "print(f\"   – shape:              {reg.shape}\")\n",
    "print(f\"   – dtype:              {reg.dtype}\")\n",
    "print(f\"   – dtype.shape:        {reg.dtype.shape}\")\n"
   ]
  },
  {
   "cell_type": "markdown",
   "id": "ac89541b",
   "metadata": {},
   "source": [
    "> **To Do:** add example when `shape == ()`, a dtype *class* is **not** auto-instantiated.\n",
    "> Scalars stay scalar."
   ]
  },
  {
   "cell_type": "markdown",
   "id": "cbef6c85",
   "metadata": {},
   "source": [
    "\n",
    "---\n",
    "\n",
    "## class `Signature` \n",
    "\n",
    "An **ordered collection** of `RegisterSpec`s that partitions a process interface\n",
    "into **inputs** (`Flow.LEFT`), **outputs** (`Flow.RIGHT`), and **through‑wires**\n",
    "(`Flow.THRU`), i.e., a `Signature` defines the inputs/outputs of an operational schema. It is functional and does not access \"states\" like parameters (i.e. no raw data like Data). Should be a property of all `Process` subclasses & `CompositeMod` instances.\n",
    "\n",
    "#### Construction Helpers\n",
    "\n",
    "| classmethod                               | purpose                                                 |\n",
    "|-------------------------------------------|---------------------------------------------------------|\n",
    "| build(**kwargs)                           | Quick ad-hoc signature from keyword args or specs.      |\n",
    "| build_from_dtypes(**types)                | Like `build` but forces each value to a concrete dtype. |\n",
    "| build_from_properties(inp_props, out_props)| Convert Process property dicts to a signature.         |\n",
    "| build_from_data(inputs, out_props)        | Infer from runtime `Data` + output metadata.            |\n",
    "\n",
    "\n",
    "#### Core API\n",
    "\n",
    "| member                              | description                                   |\n",
    "|-------------------------------------|-----------------------------------------------|\n",
    "| lefts() / rights()                  | Iterate over input- or output-flow specs.     |\n",
    "| get_left(name) / get_right(name)    | Dict-style access by register name.           |\n",
    "| groups()                            | Yield `(name, [spec…])` grouped by identifier |\n",
    "| validate_data_with_register_specs() | Runtime check of `Data` against left specs.   |\n",
    "| Sequence helpers                    | `sig[i]`, `len(sig)`, iteration, membership.  |\n",
    "\n",
    "A `Signature` is pure **metadata**; it never contains actual payloads,\n",
    "only the rules that payloads must satisfy.\n"
   ]
  },
  {
   "cell_type": "code",
   "execution_count": 22,
   "id": "6ac64c53",
   "metadata": {},
   "outputs": [
    {
     "name": "stdout",
     "output_type": "stream",
     "text": [
      "ThruSpec(name=a, dtype=CBit(), shape=())\n",
      "ThruSpec(name=b, dtype=CUInt(8), shape=())\n",
      "OutSpec(name=c, dtype=QBit(), shape=())\n"
     ]
    }
   ],
   "source": [
    "#  two classical pass-through wires\n",
    "a_reg = RegisterSpec(\"a\", CBit())          # THRU  (default flow)\n",
    "b_reg = RegisterSpec(\"b\", CUInt(8))        # THRU\n",
    "\n",
    "#  one output-only quantum wire\n",
    "c_reg = RegisterSpec(\"c\", QBit(), flow=Flow.RIGHT)\n",
    "\n",
    "print(a_reg)   # OutSpec(name=a, dtype=CBit(), shape=())\n",
    "print(b_reg)   # OutSpec(name=b, dtype=CUInt(8), shape=())\n",
    "print(c_reg)   # OutSpec(name=c, dtype=QBit(), shape=())\n",
    "\n",
    "sig = Signature([a_reg, b_reg, c_reg])\n",
    "\n",
    "assert [r.name for r in sig.lefts()]  == [\"a\", \"b\"]     # inputs\n",
    "assert [r.name for r in sig.rights()] == [\"a\", \"b\", \"c\"]  # outputs"
   ]
  },
  {
   "cell_type": "markdown",
   "id": "51eb6a0c",
   "metadata": {},
   "source": [
    "*Key point*: registers with `Flow.THRU` appear on **both** sides.\n",
    "\n",
    "### C. Variadic registers\n"
   ]
  },
  {
   "cell_type": "code",
   "execution_count": 24,
   "id": "0f5e722b",
   "metadata": {},
   "outputs": [
    {
     "data": {
      "text/plain": [
       "Signature((args: CBit()  Flow.THRU  (variadic), ret: CBit()  Flow.RIGHT ))"
      ]
     },
     "execution_count": 24,
     "metadata": {},
     "output_type": "execute_result"
    }
   ],
   "source": [
    "var_reg = RegisterSpec(\"args\", CBit(), variadic=True)\n",
    "ret_reg = RegisterSpec(\"ret\",  CBit(), flow=Flow.RIGHT)\n",
    "\n",
    "sig = Signature([var_reg, ret_reg])\n",
    "sig"
   ]
  },
  {
   "cell_type": "code",
   "execution_count": null,
   "id": "296761b3",
   "metadata": {},
   "outputs": [],
   "source": []
  },
  {
   "cell_type": "code",
   "execution_count": null,
   "id": "30c17be0",
   "metadata": {},
   "outputs": [],
   "source": []
  },
  {
   "cell_type": "markdown",
   "id": "cced2348",
   "metadata": {},
   "source": [
    "---\n",
    "\n",
    "### Helper Utilities\n",
    "\n",
    "* `_sanitize_name(name)` — strips spaces/illegal chars, ensures no leading digit.  \n",
    "* `canonicalize_dtype(value)` — normalises builtin / NumPy / torch dtypes\n",
    "  to in‑house `DataType` objects (`TensorType`, etc.).  \n",
    "* `get_shape(v)` — converts any “shape‑like” value into a canonical `tuple`.  \n",
    "* `qubit_count_for(reg)` — returns `int(reg.total_bits())` for quantum regs,\n",
    "  else `0`.|"
   ]
  },
  {
   "cell_type": "markdown",
   "id": "67f1cff3",
   "metadata": {},
   "source": [
    "### 5 · Register equivalence (advanced)\n",
    "\n",
    "<pre style=\"background:#272822;color:#f8f8f2;padding:0.8em;\">\n",
    "import numpy as np, torch\n",
    "reg_np  = RegisterSpec(\"x\", np.ndarray, shape=(2,2))\n",
    "reg_tt  = RegisterSpec(\"x\", TensorType, shape=(2,2))\n",
    "reg_pt  = RegisterSpec(\"x\", torch.Tensor, shape=(2,2))\n",
    "\n",
    "assert reg_np == reg_tt == reg_pt\n",
    "</pre>\n",
    "\n",
    "`__eq__` honours `Dyn` wildcards, dtype subclasses, and falls back to\n",
    "`check_dtypes_consistent`.\n",
    "---\n",
    "\n",
    "### 6 · Compiler smoke test (adapted from <code class=\"filepath\">test_schema.py</code>)\n",
    "\n",
    "<pre style=\"background:#272822;color:#f8f8f2;padding:0.8em;\">\n",
    "import torch, sympy, numpy as np\n",
    "from qrew.simulation.schema import *\n",
    "\n",
    "# Domain tagging\n",
    "qb  = RegisterSpec(\"qb\", QBit())\n",
    "tc  = RegisterSpec(\"tc\", TensorType((2,3), element_type=CInt(8)))\n",
    "assert qb.domain == \"Q\" and tc.domain == \"C\"\n",
    "\n",
    "# Resource cross-check with a real torch tensor\n",
    "t   = torch.ones((2,2,2), dtype=torch.int8)\n",
    "dt  = TensorType(t.shape, element_type=torch.int8)\n",
    "reg = RegisterSpec(\"torch\", dt)\n",
    "assert reg.total_bits() == t.nbytes * 8\n",
    "</pre>"
   ]
  },
  {
   "cell_type": "code",
   "execution_count": 70,
   "id": "c3faa9d8",
   "metadata": {},
   "outputs": [
    {
     "ename": "NameError",
     "evalue": "name 'np' is not defined",
     "output_type": "error",
     "traceback": [
      "\u001b[31m---------------------------------------------------------------------------\u001b[39m",
      "\u001b[31mNameError\u001b[39m                                 Traceback (most recent call last)",
      "\u001b[36mCell\u001b[39m\u001b[36m \u001b[39m\u001b[32mIn[70]\u001b[39m\u001b[32m, line 1\u001b[39m\n\u001b[32m----> \u001b[39m\u001b[32m1\u001b[39m reg_np  = RegisterSpec(\u001b[33m\"\u001b[39m\u001b[33mx\u001b[39m\u001b[33m\"\u001b[39m, \u001b[43mnp\u001b[49m.ndarray, shape=(\u001b[32m2\u001b[39m,\u001b[32m2\u001b[39m))\n\u001b[32m      2\u001b[39m reg_tt  = RegisterSpec(\u001b[33m\"\u001b[39m\u001b[33mx\u001b[39m\u001b[33m\"\u001b[39m, TensorType, shape=(\u001b[32m2\u001b[39m,\u001b[32m2\u001b[39m))\n\u001b[32m      3\u001b[39m reg_pt  = RegisterSpec(\u001b[33m\"\u001b[39m\u001b[33mx\u001b[39m\u001b[33m\"\u001b[39m, torch.Tensor, shape=(\u001b[32m2\u001b[39m,\u001b[32m2\u001b[39m))\n",
      "\u001b[31mNameError\u001b[39m: name 'np' is not defined"
     ]
    }
   ],
   "source": [
    "reg_np  = RegisterSpec(\"x\", np.ndarray, shape=(2,2))\n",
    "reg_tt  = RegisterSpec(\"x\", TensorType, shape=(2,2))\n",
    "reg_pt  = RegisterSpec(\"x\", torch.Tensor, shape=(2,2))\n",
    "\n",
    "assert reg_np == reg_tt == reg_pt"
   ]
  },
  {
   "cell_type": "markdown",
   "id": "06c062f8",
   "metadata": {},
   "source": [
    "---\n",
    "\n",
    "### 4.5 Helper shortcuts vs. explicit construction\n",
    "\n",
    "| use-case                            | idiomatic call                           |\n",
    "|------------------------------------|------------------------------------------|\n",
    "| quick literals → dtypes            | `Signature.build(x=1, y=8)` → `CBit`, `CUInt(8)` |\n",
    "| need custom `flow`, `variadic`     | build `RegisterSpec`s, then `Signature([...])` |\n",
    "| copy registers from another sig    | `Signature([*other_sig])`                |\n",
    "\n",
    "> **Rule of thumb**: **`Signature.build` is for simple literals.**  \n",
    "> For anything with shape, flow, or symbolic dims, create `RegisterSpec`s\n",
    "> explicitly.\n",
    "\n",
    "---\n",
    "\n",
    "### 4.6 Common gotchas\n",
    "\n",
    "| pattern                                     | what happens / fix                                               |\n",
    "|---------------------------------------------|------------------------------------------------------------------|\n",
    "| `Signature.build(c=RegisterSpec(...))`      | ❌ `convert_value` treats the whole object as a literal → error.  |\n",
    "| symbolic **and** `Dyn` mixed in `shape`     | ❌ converter rejects SymPy symbols in shape. Use symbolic *dtype* |\n",
    "| arithmetic with raw `Dyn`                   | ❌ `TypeError`. Keep `Dyn` unevaluated; combine only at runtime.  |\n",
    "\n",
    "---\n",
    "\n",
    "### 4.7 End-to-end sanity check\n",
    "\n",
    "<pre style=\"background:#272822;color:#f8f8f2;padding:0.8em;\">\n",
    "from qrew.simulation.data import Data\n",
    "import numpy as np\n",
    "\n",
    "sig = Signature.build(img = TensorType((32, 32, 3), element_type=CUInt(8)))  # THRU\n",
    "img_reg = sig[0]\n",
    "\n",
    "# a concrete NumPy value\n",
    "img_val = np.zeros((32, 32, 3), dtype=np.uint8)\n",
    "datum   = Data(img_val, {\"Usage\": \"Image\"})\n",
    "\n",
    "# verify the data matches the register spec\n",
    "assert img_reg.total_bits() == 32*32*3*8\n",
    "img_reg.dtype.assert_valid_classical_val(img_val)\n",
    "</pre>\n",
    "\n",
    "With these building blocks you can define process signatures, perform static\n",
    "resource estimation, and rely on the compiler layer to catch mismatches long\n",
    "before execution.\n"
   ]
  },
  {
   "cell_type": "markdown",
   "id": "a56eda4f",
   "metadata": {},
   "source": []
  }
 ],
 "metadata": {
  "kernelspec": {
   "display_name": "wf_env",
   "language": "python",
   "name": "python3"
  },
  "language_info": {
   "codemirror_mode": {
    "name": "ipython",
    "version": 3
   },
   "file_extension": ".py",
   "mimetype": "text/x-python",
   "name": "python",
   "nbconvert_exporter": "python",
   "pygments_lexer": "ipython3",
   "version": "3.12.10"
  }
 },
 "nbformat": 4,
 "nbformat_minor": 5
}
