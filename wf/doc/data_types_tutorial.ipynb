{
 "cells": [
  {
   "cell_type": "markdown",
   "id": "c1340ab7",
   "metadata": {},
   "source": [
    "# Tutorial: Working with `data_types.py`\n",
    "\n",
    "This Jupyter notebook is an **annotated walkthrough** of the _data‑types_ layer in your\n",
    "workflow / resource‑estimation code‑base.  \n",
    "The goal is to help new contributors **understand**, **experiment** with, and **extend**\n",
    "the fundamental data‑type building blocks that underpin:\n",
    "\n",
    "* **Resource estimation** — e.g. _how many (qu)bits does a register need?_\n",
    "* **Shape & type checking** — reasoning about symbolic tensor shapes and composite\n",
    "  data structures.\n",
    "* **Trace construction** — assembling DAG nodes that manipulate these data objects.\n",
    "\n",
    "> **Prerequisites**  \n",
    "> The notebook assumes the repository is on your Python path (or that the notebook\n",
    "> lives in the repo root).  Adjust `sys.path` below if needed."
   ]
  },
  {
   "cell_type": "code",
   "execution_count": 8,
   "id": "d0748807",
   "metadata": {},
   "outputs": [],
   "source": [
    "sep_str = '-'*60"
   ]
  },
  {
   "cell_type": "code",
   "execution_count": 35,
   "id": "81b1c042",
   "metadata": {},
   "outputs": [],
   "source": [
    "# -- Python path -----------------------------------------------------------------\n",
    "import sys, os, pathlib\n",
    "repo_root = pathlib.Path.cwd()  # adapt if the notebook sits elsewhere\n",
    "# if str(repo_root) not in sys.path:\n",
    "#     sys.path.insert(0, str(repo_root))\n",
    "current_dir = os.getcwd()\n",
    "sys.path.append(current_dir[:-9])\n",
    "\n",
    "# -- Core data‑type imports ------------------------------------------------------\n",
    "from qrew.simulation.data_types import (\n",
    "    BitNumbering,BitStringView,\n",
    "    Dyn,                   # symbolic \"dynamic\" dimension marker\n",
    "    CBit, CUInt, CInt, CFloat,\n",
    "    CFxp, String,Struct,\n",
    "    QBit, QAny, QInt, QUInt, BQUInt, QFxp,\n",
    "    TensorType, MatrixType,\n",
    "    is_classical, is_quantum,\n",
    ")\n"
   ]
  },
  {
   "cell_type": "markdown",
   "id": "eaf93328",
   "metadata": {},
   "source": [
    "| Section | Outcome |\n",
    "|---------|---------|\n",
    "| Classical scalars | Encode bits, signed/unsigned integers, fixed-point, IEEE-754 floats, strings |\n",
    "| Classical scalars | Encode bits, signed/unsigned integers, fixed-point, IEEE-754 floats, strings |\n",
    "| Quantum scalars   | Model qubits, *n*-qubit integers, and fixed-point registers à la Qualtran |\n",
    "| Dyn & symbolics   | Represent unknown or symbolic widths \\(n, m, \\ldots\\) and the sentinel **Dyn** |\n",
    "| Composites        | Build `TensorType` ($\\mathbb R^{s_1\\times\\cdots\\times s_r}$) and `CStruct` (records) |\n",
    "| Consistency engine| Use `check_dtypes_consistent` to check two dtypes compatible under ⟨global, C, Q⟩ ladders |\n",
    "| Resource formulas | Compute qubit/bit counts and memory footprints |"
   ]
  },
  {
   "cell_type": "markdown",
   "id": "e51818f7",
   "metadata": {},
   "source": [
    "\n",
    "# 1. `DataType` — the universal interface for register element types\n",
    "Every concrete dtype (classical *or* quantum) derives from `DataType`. Think of it as the “adapter” that lets high-level operations treat qubits or bits like well-typed scalars.\n",
    "\n",
    "\n",
    "#### 🔑 **What you *must* implement**\n",
    "\n",
    "| Method / Property | Descr. |\n",
    "|-------------------|---------|\n",
    "| `data_width` | **int** — number of fundamental units (**bits or qubits**) needed to store one value. |\n",
    "| `to_bits(x)` | Convert a single value `x` → list of `int` bits **[MSB … LSB]**. |\n",
    "| `from_bits(bits)` | Inverse of `to_bits`: reconstruct the value encoded by `bits`. |\n",
    "| `get_classical_domain()` | Iterable of all representable classical values (raise if the domain is huge or ambiguous). |\n",
    "| `assert_valid_classical_val(val, debug_str='val')` | Raise a clear `ValueError` if `val` is outside the domain. |\n",
    "\n",
    "\n",
    "#### 🛠 **Convenience utilities included for free**\n",
    "\n",
    "| Helper | What it does |\n",
    "|--------|--------------|\n",
    "| `to_bits_array(x_array)` / `from_bits_array(bits_array)` | NumPy-vectorized versions of `to_bits` / `from_bits`. |\n",
    "| `assert_valid_classical_val_array(...)` | Batch validation analogue of `assert_valid_classical_val`. |\n",
    "| `is_symbolic()` | Returns **True** when the dtype’s width contains SymPy symbols (handy for circuit templates). |\n",
    "| `iteration_length_or_zero()` | Safe helper for bounded types (`BQUInt` etc.); returns the concrete iteration length or `0` if symbolic. |\n",
    "\n",
    "\n",
    "> **Tip:**  When implementing a new dtype, nail down `to_bits`, `from_bits`, and `assert_valid_classical_val` first — the array helpers will then “just work.”\n",
    "---\n",
    "\n",
    "\n",
    "## 1.1. Quantum Data Types (`QType`)\n",
    "\n",
    "_All subclasses inherit from `QType` → `DataType` and expose a common bit-level API (`to_bits`, `from_bits`, `assert_valid_classical_val`, …)._\n",
    "\n",
    "| QType&nbsp;(constructor)      | `data_width` / `num_qubits` | Classical domain<sup>†</sup>                               | Purpose & notes                                                                                                   |\n",
    "|-------------------------------|-----------------------------|------------------------------------------------------------|--------------------------------------------------------------------------------------------------------------------|\n",
    "| `QBit()`                      | `1`                         | `{0, 1}`                                                   | Single qubit viewed in the computational basis. Simplest building block for larger registers.                      |\n",
    "| `QInt(n)`                     | `n`                         | $[-2^{\\,n-1},\\,2^{\\,n-1})$                                 | *Signed* two’s-complement integer. High (bit 0) is the sign-bit. Arithmetic wraps mod $2^n$.                       |\n",
    "| `QUInt(n)`                    | `n`                         | $[0,\\,2^{\\,n})$                                            | *Unsigned* integer. Developer manages wrap-around semantics on overflow (C-style).                                 |\n",
    "| `BQUInt(bitsize, L)`          | `bitsize`                   | $[0,\\,L)$ with $L\\le 2^{\\texttt{bitsize}}$                 | Bounded unsigned integer; ideal for coherent for-loop indices. `iteration_length = L` may be symbolic.             |\n",
    "| `QAny(n)`                     | `n`                         | *Ambiguous* — delegates to `QUInt(n)` when coerced        | Opaque register of *n* qubits used when the specific dtype is unknown/irrelevant. Avoid when a precise domain matters. |\n",
    "| `QFxp(w, f, signed=False)`    | `w`                         | Unsigned → $[0,\\,2^{w-f})$  <br>Signed → $[-2^{w-f-1},\\,2^{w-f-1})$  <br>**Step** $2^{-f}$ | Fixed-point real number with `f` fractional bits. Backed by `QUInt` (unsigned) or `QInt` (signed).  `float = int · 2^{-f}`. |\n",
    "\n",
    "<sup>†</sup> “Classical domain” lists the set of classically representable values (i.e. basis states, ignoring superposition).  \n"
   ]
  },
  {
   "cell_type": "code",
   "execution_count": null,
   "id": "3d2e549d",
   "metadata": {},
   "outputs": [
    {
     "name": "stdout",
     "output_type": "stream",
     "text": [
      "data_width (qubits): 1\n",
      "is_quantum: True | is_classical: False\n"
     ]
    }
   ],
   "source": [
    "# TODO\n",
    "# Make examples of \n",
    "# 1. `QBit()`  one logical qubit  \n",
    "# 2. `QInt(w)`  ($w≥1$) signed integer in two’s-complement  \n",
    "# 3. `QUInt(w)` unsigned integer in $[0,2^w\\!-\\!1]$\n",
    "\n",
    "qbit = QBit()\n",
    "print(\"data_width (qubits):\", qbit.data_width)\n",
    "print(\"is_quantum:\", is_quantum(qbit), \"| is_classical:\", is_classical(qbit))"
   ]
  },
  {
   "cell_type": "markdown",
   "id": "5005bce9",
   "metadata": {},
   "source": [
    "## 1.2 · Classical Data Types (`CType`)\n",
    "\n",
    "_Concrete classical dtypes all derive from `CType` → `NumericType` → `DataType` and therefore share the universal bit-level API (`to_bits`, `from_bits`, `assert_valid_classical_val`, …)._\n",
    "\n",
    "- **Primitive bit and integers**: `CBit`, `CInt`, `CUInt`\n",
    "\n",
    "- **Fixed-point, IEEE float, strings**: `CFxp`, `CFloat`, `String`\n",
    "\n",
    "### a. Scalar / “Atomic” Classical Dtypes\n",
    "\n",
    "| CType&nbsp;(constructor)                   | `data_width` / `bit_width` | Classical domain<sup>†</sup>                             | Purpose & notes                                                                                     |\n",
    "|-------------------------------------------|---------------------------|----------------------------------------------------------|-----------------------------------------------------------------------------------------------------|\n",
    "| `CBit()`                                  | $n=1$                       | `{0, 1}`                                                 | Single classical bit.                                                                               |\n",
    "| `CInt(n)`                                 | $n$                       | $[-2^{\\,n-1},\\,2^{\\,n-1})$                               | Signed two’s-complement integer with $n$ bits. Sign-bit at MSB; wraps mod $2^n$.                                  |\n",
    "| `CUInt(n)`                                | $n$                    | $[0,\\,2^{\\,n})$                                          | Unsigned integer with $n$ bits. Developer handles overflow (wrap or error).                                       |\n",
    "| `CFxp(total, frac, signed=False)`         | `w=total`                   | Unsigned → $[0,\\,2^{\\,\\texttt{total-frac}})$<br>Signed → $[-2^{\\,\\texttt{total-frac-1}},\\,2^{\\,\\texttt{total-frac-1}})$<br>**Step** $2^{-\\texttt{frac}}$ | Fixed-point real number (`frac` fractional bits). Re-uses `CInt`/`CUInt` for raw bit access.        |\n",
    "| `CFloat(n)`                               | $$n\\in\\{8,16,32,64\\}$$       | IEEE-754 range for the chosen width                      | Classical floating-point; (de)serialises via `struct.pack` / `struct.unpack`.                       |\n",
    "| `String(max_len)`                         | `w = 8 × max_len`             | All ASCII strings of length ≤ `max_len`                  | Null-padded byte string. Each char occupies one byte.                                               |\n",
    "\n",
    "<sup>†</sup> *“Classical domain” = set of basis-state values that can be represented exactly; superpositions are a quantum artefact and therefore not listed here.*\n"
   ]
  },
  {
   "cell_type": "code",
   "execution_count": 33,
   "id": "f2071ebf",
   "metadata": {},
   "outputs": [
    {
     "name": "stdout",
     "output_type": "stream",
     "text": [
      "------------------------------------------------------------\n",
      "Primitive bit and integers:\n",
      "    CBit()      width = 1 bits, nbytes=1\n",
      "    CInt(8)     width = 8 bits, nbytes=1\n",
      "    CInt(16)    width = 16 bits, nbytes=2\n",
      "    CUInt(32)   width = 32 bits, nbytes=4\n",
      "    CUInt(64)   width = 64 bits, nbytes=8\n",
      "------------------------------------------------------------\n",
      "Fixed-point, IEEE float, string ...\n",
      "    CFxp(16, 8)      width=16 bits  nbytes=2\n",
      "    CFloat(32)       width=32 bits  nbytes=4\n",
      "    String(32)       width=32 bits  nbytes=4\n"
     ]
    }
   ],
   "source": [
    "cbit  = CBit()\n",
    "cint8 = CInt(8)\n",
    "cint64 = CInt(16)\n",
    "cuint32 = CUInt(32)\n",
    "cuint64 = CUInt(64)\n",
    "print(f\"{sep_str}\\nPrimitive bit and integers:\")\n",
    "for dt in (cbit, cint8, cint64, cuint32,cuint64):\n",
    "    print(f\"    {dt:<10}  width = {dt.data_width} bits, nbytes={dt.nbytes}\")\n",
    "\n",
    "print(f\"{sep_str}\\nFixed-point, IEEE float, string ...\")\n",
    "\n",
    "fxp64  = CFxp(16, 8)     # 16-bit fixed point, 8 frac bits\n",
    "flt32  = CFloat(32)\n",
    "string = String(4)\n",
    "\n",
    "for c in (fxp64, flt32, string):\n",
    "    print(f\"    {c:15}  width={c.data_width} bits  nbytes={c.nbytes}\")\n"
   ]
  },
  {
   "cell_type": "markdown",
   "id": "b14db73b",
   "metadata": {},
   "source": [
    "# 3. Composite / Container Classical Dtypes\n",
    "### `Struct(fields: dict[str, DataType])`\n",
    "Packed **record / struct** akin to a C `struct` or Rust `struct`.\n",
    "\n",
    "#### Main properties\n",
    "* `fields` – ordered mapping `name → dtype` (order preserved)  \n",
    "* `data_width` – sum of field widths  \n",
    "* `nbytes`, `total_bits` – byte / bit totals (recursive if a field is itself composite)\n",
    "* `field_order` – list of keys in declaration order\n",
    "\n",
    "#### Core methods\n",
    "* `to_bits(value_dict)` – concatenates each field’s bitstring\n",
    "* `from_bits(bits)` – slices the concatenation back into a `dict`\n",
    "* `assert_valid_classical_val(value_dict)` – field-wise validation\n",
    "\n"
   ]
  },
  {
   "cell_type": "code",
   "execution_count": 48,
   "id": "92ee3bcc",
   "metadata": {},
   "outputs": [
    {
     "name": "stdout",
     "output_type": "stream",
     "text": [
      "\n",
      "Struct(112)  ––  is_classical: True\n",
      "    - data_width (bits): 112\n",
      "    - nbytes:            14\n",
      "    - total_bits:        112\n"
     ]
    }
   ],
   "source": [
    "\n",
    "# A composite structure {id: uint16, mass: float32, label: 8-char string}\n",
    "particle = Struct(\n",
    "    fields={\n",
    "        \"id\":    CUInt(16),\n",
    "        \"mass\":  CFloat(32),\n",
    "        \"label\": String(8),\n",
    "    }\n",
    ")\n",
    "\n",
    "print(f\"\\n{particle}  ––  is_classical: {is_classical(particle)}\")\n",
    "print(f\"    - data_width (bits): {particle.data_width}\")\n",
    "print(f\"    - nbytes:            {particle.nbytes}\")\n",
    "print(f\"    - total_bits:        {particle.total_bits}\")"
   ]
  },
  {
   "cell_type": "markdown",
   "id": "f5927fd9",
   "metadata": {},
   "source": [
    "---\n",
    "#### <b> N-Dim Data Types </b>\n",
    "### `TensorType(shape: Tuple[int, …], element_type: DataType | type)`\n",
    "Represents an **N-dimensional** array whose **elements** are themselves scalar dtypes\n",
    "(e.g. `CFloat(32)`, `CUInt(8)`). Conceptually similar to a NumPy ndarray that carries a bit-level contract.\n",
    "\n",
    "##### Properties\n",
    "* `shape`, `element_type`, optional **`val: np.ndarray`**\n",
    "* `data_width` – bits **per element**  \n",
    "* `rank` – `len(shape)`\n",
    "* `nelement()` – total number of elements  \n",
    "* `element_size()` / **`bytes_per_element`** – bytes per element (`data_width // 8`)\n",
    "* **`nbytes`** – total bytes (`nelement × bytes_per_element`)\n",
    "* **`total_bits`** – `nelement × data_width` (alias `memory_in_bytes × 8`)\n",
    "##### Methods\n",
    "* `to_bits(x)` / `from_bits(bits)` – naïve flatten ↔ reconstruct\n",
    "* `multiply(other)` – broadcast-style shape multiplication\n",
    "* `assert_valid_classical_val(val)` – validates `val.shape` & `val.dtype`\n",
    "* Standard `DataType` helpers (`to_bits_array`, `__str__`, …) come for free.\n"
   ]
  },
  {
   "cell_type": "code",
   "execution_count": 42,
   "id": "477e1b63",
   "metadata": {},
   "outputs": [
    {
     "name": "stdout",
     "output_type": "stream",
     "text": [
      "TensorType((3, 4, 4))  ––    rank: 3 | is_classical: True \n",
      "    - nelements: 48\n",
      "    - bytes per element: 4\n",
      "    - total bytes = 192\n",
      "    - total bits = 1536\n"
     ]
    }
   ],
   "source": [
    "# A 3×4x4 tensor of 32‑bit floats\n",
    "tensor = TensorType(shape=(3, 4, 4), element_type=CFloat(32))\n",
    "\n",
    "print(f\"{tensor}  ––    rank: {tensor.rank} | is_classical: {is_classical(tensor)} \")\n",
    "print(f\"    - nelements: {tensor.nelement()}\")\n",
    "print(f\"    - bytes per element: {tensor.bytes_per_element}\")\n",
    "print(f\"    - total bytes = {tensor.nbytes}\")\n",
    "print(f\"    - total bits = {tensor.total_bits}\")\n"
   ]
  },
  {
   "cell_type": "code",
   "execution_count": null,
   "id": "c66168dd",
   "metadata": {},
   "outputs": [],
   "source": []
  },
  {
   "cell_type": "markdown",
   "id": "da322d9e",
   "metadata": {},
   "source": [
    "---\n",
    "### `MatrixType(rows, cols, element_type=float)`\n",
    "A **rank-2 convenience subclass** of `TensorType` (will eventually be folded into it).\n",
    "\n",
    "#### Extras on top of `TensorType`\n",
    "* Properties: `rows`, `cols`\n",
    "* `multiply(other)` – checks classic matrix-multiply compatibility (`self.cols == other.rows`)\n",
    "* Inherits all size helpers (`rank == 2`, `nbytes`, …)\n"
   ]
  },
  {
   "cell_type": "code",
   "execution_count": 43,
   "id": "d94344de",
   "metadata": {},
   "outputs": [
    {
     "name": "stdout",
     "output_type": "stream",
     "text": [
      "\n",
      "Matrix(3, 4)  ––    rank: 2 | is_classical: True \n",
      "    - nelements: 12\n",
      "    - bytes per element: 4\n",
      "    - total bytes = 48\n",
      "    - total bits = 384\n"
     ]
    }
   ],
   "source": [
    "\n",
    "# A 4×4 matrix of ...\n",
    "mat = MatrixType(3, 4, element_type=CFloat(32))\n",
    "\n",
    "print(f\"\\n{mat}  ––    rank: {mat.rank} | is_classical: {is_classical(mat)} \")\n",
    "print(f\"    - nelements: {mat.nelement()}\")\n",
    "print(f\"    - bytes per element: {mat.bytes_per_element}\")\n",
    "print(f\"    - total bytes = {mat.nbytes}\")\n",
    "print(f\"    - total bits = {mat.total_bits}\")\n"
   ]
  },
  {
   "cell_type": "markdown",
   "id": "d2c93df1",
   "metadata": {},
   "source": []
  },
  {
   "cell_type": "code",
   "execution_count": 49,
   "id": "70a50e71",
   "metadata": {},
   "outputs": [
    {
     "name": "stdout",
     "output_type": "stream",
     "text": [
      "A: Matrix(2, 3) | B: Matrix(3, 1) | A×B: Matrix(2, 1)\n"
     ]
    }
   ],
   "source": [
    "A = MatrixType(2, 3, element_type=CFloat(32))\n",
    "B = MatrixType(3, 1, element_type=CFloat(32))\n",
    "\n",
    "C = A.multiply(B)\n",
    "print(\"A:\", A, \"| B:\", B, \"| A×B:\", C)"
   ]
  },
  {
   "cell_type": "markdown",
   "id": "05207602",
   "metadata": {},
   "source": [
    "The struct’s data_width is the sum of its fields: 16 (id) + 32 (mass) + 8×8 (label) = 112 bits = 14 bytes"
   ]
  },
  {
   "cell_type": "markdown",
   "id": "736c0a89",
   "metadata": {},
   "source": [
    "## 4. Symbolic & Dynamic shapes\n",
    "\n",
    "A `TensorType` wraps an **element type** (another `DataType`) and a **shape**.\n",
    "\n",
    "* Use concrete integers for fixed shapes, or  \n",
    "* `Dyn` / SymPy symbols for symbolic dimensions."
   ]
  },
  {
   "cell_type": "code",
   "execution_count": 47,
   "id": "491c3ae8",
   "metadata": {},
   "outputs": [
    {
     "name": "stdout",
     "output_type": "stream",
     "text": [
      "TensorType((3, 4))  ––    rank: 2 | is_symbolic: False \n",
      "    - nelements: 12\n",
      "    - bytes per element: 1\n",
      "    - total bytes = 12\n",
      "    - total bits = 96\n",
      "TensorType((m, n))  ––    rank: 2 | is_symbolic: False\n",
      "    - nelements: m*n\n",
      "    - bytes per element: 1\n",
      "    - total bytes = m*n\n",
      "    - total bits = 8*m*n\n"
     ]
    }
   ],
   "source": [
    "# A 3×4 tensor]\n",
    "tensor_int8 = TensorType(shape=(3, 4), element_type=CInt(8))\n",
    "\n",
    "print(f\"{tensor_int8}  ––    rank: {tensor_int8.rank} | is_symbolic: {tensor_int8.is_symbolic()} \")\n",
    "print(f\"    - nelements: {tensor_int8.nelement()}\")\n",
    "print(f\"    - bytes per element: {tensor_int8.bytes_per_element}\")\n",
    "print(f\"    - total bytes = {tensor_int8.nbytes}\")\n",
    "print(f\"    - total bits = {tensor_int8.total_bits}\")\n",
    "\n",
    "# A *symbolic* M×N tensor of ints\n",
    "from sympy import symbols\n",
    "M, N = symbols('m n', positive=True, integer=True)\n",
    "sym_tensor = TensorType(shape=(M, N), element_type=CInt(8))\n",
    "\n",
    "print(f\"{sym_tensor}  ––    rank: {sym_tensor.rank} | is_symbolic: {sym_tensor.is_symbolic()}\")\n",
    "print(f\"    - nelements: {sym_tensor.nelement()}\")\n",
    "print(f\"    - bytes per element: {sym_tensor.bytes_per_element}\")\n",
    "print(f\"    - total bytes = {sym_tensor.nbytes}\")\n",
    "print(f\"    - total bits = {sym_tensor.total_bits}\")"
   ]
  },
  {
   "cell_type": "code",
   "execution_count": null,
   "id": "d9d5e5a1",
   "metadata": {},
   "outputs": [],
   "source": [
    "\n"
   ]
  },
  {
   "cell_type": "markdown",
   "id": "0dd51301",
   "metadata": {},
   "source": [
    "## 4. `MatrixType` – matrix‑specific helpers\n",
    "\n",
    "`MatrixType(r, c)` specialises `TensorType` and provides helpers like\n",
    "`.rows`, `.cols`, and a `.multiply()` method that enforces shape rules."
   ]
  },
  {
   "cell_type": "code",
   "execution_count": null,
   "id": "110bcf3c",
   "metadata": {},
   "outputs": [
    {
     "name": "stdout",
     "output_type": "stream",
     "text": [
      "A: Matrix(2, 3) | B: Matrix(3, 1) | A×B: Matrix(2, 1)\n"
     ]
    }
   ],
   "source": []
  },
  {
   "cell_type": "markdown",
   "id": "44d37303",
   "metadata": {},
   "source": [
    "## 5. Classical ↔ Quantum helpers\n",
    "\n",
    "`is_classical(dtype)` / `is_quantum(dtype)` make it trivial to branch logic\n",
    "based on the data‑type _domain_."
   ]
  },
  {
   "cell_type": "code",
   "execution_count": null,
   "id": "a776434b",
   "metadata": {},
   "outputs": [],
   "source": [
    "for dtype in [CBit(), QBit(), vec, sym_tensor]:\n",
    "    print(f\"{dtype:20} | classical={is_classical(dtype):5} | quantum={is_quantum(dtype):5}\")"
   ]
  },
  {
   "cell_type": "markdown",
   "id": "178887a0",
   "metadata": {},
   "source": [
    "---\n",
    "# Compilation Layer <code class=\"filepath\">./schema.py</code>\n",
    "\n",
    "## `RegisterSpec`\n",
    "\n",
    "```python\n",
    "class RegisterSpec(\n",
    "    name: str,\n",
    "    dtype: DataType | type | GenericAlias,\n",
    "    _shape: Tuple[int | Dyn, …] = (),\n",
    "    flow: Flow = Flow.THRU,\n",
    "    variadic: bool = False\n",
    ")\n",
    "```\n",
    "\n",
    "Represents **one logical wire** (or bundle of wires) in a workflow graph.  \n",
    "It stores *all* compile-time information needed for:\n",
    "\n",
    "* **type checking** (matching `Data` at runtime),  \n",
    "* **resource estimation** (qubit / bit counts), and  \n",
    "* **symbolic-shape reasoning** when some dimensions are dynamic.\n",
    "\n",
    "### Key properties\n",
    "\n",
    "| Property           | Meaning |\n",
    "|--------------------|---------|\n",
    "| `shape`            | Tuple of concrete wire dimensions (empty `()` ⇢ scalar wire). |\n",
    "| `symbolic_shape`   | Same as `shape` but may contain `SymInt` placeholders. |\n",
    "| `bitsize`          | Bits / qubits **per payload** (`dtype.data_width`). |\n",
    "| `total_bits()`     | `payload_bits × prod(shape)` – total logical bits on the bundle. |\n",
    "| `domain`           | `\"Q\"` if the (possibly nested) dtype is quantum, else `\"C\"`. |\n",
    "| `is_symbolic`      | `True` if any dimension or dtype size is symbolic. |\n",
    "| `all_idxs()`       | Generator over every index tuple within `shape`. |\n",
    "\n",
    "### Flow flags\n",
    "`Flow` is a tiny `enum.Flag` used **only** to tag a register as input / output:\n",
    "\n",
    "| Flag            | Typical direction |\n",
    "|-----------------|-------------------|\n",
    "| `Flow.LEFT`     | input-only |\n",
    "| `Flow.RIGHT`    | output-only |\n",
    "| `Flow.THRU`     | input **and** output (`LEFT \\| RIGHT`) |\n",
    "\n",
    "Internally these flags let the `Signature` split registers into **lefts** (inputs) and **rights** (outputs).\n",
    "\n",
    "### Behaviour notes\n",
    "\n",
    "* **Post-init coercion** – if `dtype` is a *class* and `_shape` is non-empty, the class is **instantiated** with that shape so later code always sees a concrete dtype instance.\n",
    "* **Equality** (`__eq__`) – compares name, flow, shape and *compatible* dtypes (with `Dyn` wildcards considered equal for `TensorType`).\n",
    "* **Data matching** – `matches_data()` / `matches_data_list()` validate real `Data` objects against the spec; if `variadic=True` the spec may absorb an arbitrary number of sequential `Data` arguments.\n"
   ]
  },
  {
   "cell_type": "markdown",
   "id": "ac89541b",
   "metadata": {},
   "source": []
  },
  {
   "cell_type": "markdown",
   "id": "cbef6c85",
   "metadata": {},
   "source": [
    "---\n",
    "\n",
    "## `Signature`\n",
    "An **ordered collection** of `RegisterSpec`s that defines the public interface of a `Process` or `CompositeMod`.\n",
    "\n",
    "```python\n",
    "sig = Signature.build(\n",
    "    x       = QBit(),                 # LEFT (default)\n",
    "    y       = QBit(),\n",
    "    result  = RegisterSpec(\"result\", QBit(), flow=Flow.RIGHT)\n",
    ")\n",
    "```"
   ]
  },
  {
   "cell_type": "markdown",
   "id": "06c062f8",
   "metadata": {},
   "source": []
  }
 ],
 "metadata": {
  "kernelspec": {
   "display_name": "wf_env",
   "language": "python",
   "name": "python3"
  },
  "language_info": {
   "codemirror_mode": {
    "name": "ipython",
    "version": 3
   },
   "file_extension": ".py",
   "mimetype": "text/x-python",
   "name": "python",
   "nbconvert_exporter": "python",
   "pygments_lexer": "ipython3",
   "version": "3.12.10"
  }
 },
 "nbformat": 4,
 "nbformat_minor": 5
}
