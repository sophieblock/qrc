{
 "cells": [
  {
   "cell_type": "code",
   "execution_count": 1,
   "id": "99799a7e",
   "metadata": {},
   "outputs": [],
   "source": [
    "import sys\n",
    "import os\n",
    "from attrs import define, frozen, field\n",
    "from functools import cached_property\n",
    "from IPython.display import Image, SVG, display\n",
    "current_dir = os.getcwd()\n",
    "sys.path.append(current_dir[:-9])"
   ]
  },
  {
   "cell_type": "code",
   "execution_count": 2,
   "id": "9c57e571",
   "metadata": {},
   "outputs": [
    {
     "data": {
      "text/plain": [
       "'/Users/sophieblock/torch_wf/notebooks'"
      ]
     },
     "execution_count": 2,
     "metadata": {},
     "output_type": "execute_result"
    }
   ],
   "source": [
    "current_dir"
   ]
  },
  {
   "cell_type": "code",
   "execution_count": 3,
   "id": "f9d7aec0",
   "metadata": {},
   "outputs": [
    {
     "ename": "ModuleNotFoundError",
     "evalue": "No module named 'test.test_chemistry_network'",
     "output_type": "error",
     "traceback": [
      "\u001b[31m---------------------------------------------------------------------------\u001b[39m",
      "\u001b[31mModuleNotFoundError\u001b[39m                       Traceback (most recent call last)",
      "\u001b[36mCell\u001b[39m\u001b[36m \u001b[39m\u001b[32mIn[3]\u001b[39m\u001b[32m, line 1\u001b[39m\n\u001b[32m----> \u001b[39m\u001b[32m1\u001b[39m \u001b[38;5;28;01mfrom\u001b[39;00m\u001b[38;5;250m \u001b[39m\u001b[34;01mtest\u001b[39;00m\u001b[34;01m.\u001b[39;00m\u001b[34;01mtest_chemistry_network\u001b[39;00m\u001b[38;5;250m \u001b[39m\u001b[38;5;28;01mimport\u001b[39;00m test_construct_ref_circuit_network_BK\n",
      "\u001b[31mModuleNotFoundError\u001b[39m: No module named 'test.test_chemistry_network'"
     ]
    }
   ],
   "source": [
    "from test.test_chemistry_network import test_construct_ref_circuit_network_BK\n"
   ]
  },
  {
   "cell_type": "markdown",
   "id": "d120dcab",
   "metadata": {},
   "source": [
    "| Section | Outcome |\n",
    "|---------|---------|\n",
    "| 1 Classical scalars | Encode bits, signed/unsigned integers, fixed-point, IEEE-754 floats, strings |\n",
    "| 2 Quantum scalars   | Model qubits, *n*-qubit integers, and fixed-point registers à la Qualtran |\n",
    "| 3 Dyn & symbolics   | Represent unknown or symbolic widths \\(n, m, \\ldots\\) and the sentinel **Dyn** |\n",
    "| 4 Composites        | Build `TensorType` ($\\mathbb R^{s_1\\times\\cdots\\times s_r}$) and `CStruct` (records) |\n",
    "| 5 Consistency engine| Use `check_dtypes_consistent` to check two dtypes compatible under ⟨global, C, Q⟩ ladders |\n",
    "| 6 Resource formulas | Compute qubit/bit counts and memory footprints |"
   ]
  },
  {
   "cell_type": "markdown",
   "id": "dcb5e6b4",
   "metadata": {},
   "source": [
    "To do:\n",
    "1. A collection of qubits must obey reversibility and no-cloning; encoding schemes (two’s-complement, fixed-point) must be unitary. The classical analogue `CInt`, `CUInt`, `CFxp`, `CFloat` impose no unitarity constraints; they may overflow or lose precision in place.\n",
    "2. Classical bit is already implicit, but the qubit is the constrained resource driving algorithm design. `CBit` exists but storage-wise is rarely a limiting resource; we track it only for completeness.\n",
    "\n"
   ]
  },
  {
   "cell_type": "markdown",
   "id": "4861ca45",
   "metadata": {},
   "source": [
    "## Why the current classical layer is not yet enough\n",
    "\n",
    "| | Current support in `dtypes.py` | Gap |\n",
    "|-----------------|---------------------------------|-----|\n",
    "| **G-1** Precise modelling of scalar encodings (signed, unsigned, fxp, float, string) | ✔️ bit-width parametric classes (`CInt`, `CUInt`, `CFxp`, `CFloat`, `CString`) | no explicit *endianness*, no overflow / saturation policy, no distinction between storage-width and arithmetic-width |\n",
    "| **G-2** Composite layouts for memory-centric cost models | ✔️ `TensorType` (n-D), `CStruct` (records) | no padding / alignment, no pointer / indirection, no cache-line notion |\n",
    "| **G-3** Hierarchical resource formulas & architecture plug-ins | partly: every dtype now has `total_bits`, `nbytes` | missing: *access pattern* (sequential vs random), *parallelism factor*, CPU-cycle / energy tables |\n",
    "| **G-4** Tight Q ⇄ C integration | checker handles `QBit⇄CBit` bridge, `RegisterSpec` tags `domain='Q'/'C'` | no *round-trip latency* model, no *measurement / classical-control* cost hooks |\n",
    "\n",
    "Below is a **road-map** that keeps your existing design but makes it granular enough to hit G-1 ... G-4 without breaking the test-suite.\n"
   ]
  },
  {
   "cell_type": "markdown",
   "id": "5bc34161",
   "metadata": {},
   "source": [
    "## 1. Richer scalar meta-data\n",
    "\n",
    "```python\n",
    "# ----------------------------------------------------------------\n",
    "# Shared enums\n",
    "# ----------------------------------------------------------------\n",
    "class BitNumbering(Enum):\n",
    "    MSB = \"msb\"          # bit-0 is most-significant (big-endian bit order)\n",
    "    LSB = \"lsb\"          # bit-0 is least-significant (little-endian bit order)\n",
    "\n",
    "class Endian(str, Enum):\n",
    "    LITTLE = \"little\"\n",
    "    BIG    = \"big\"        # ← Qualtran assumes big-endian qubits\n",
    "\n",
    "class Overflow(str, Enum):\n",
    "    WRAP   = \"wrap\"       # modulo 2^w        (current default)\n",
    "    SAT    = \"saturate\"   # clamp to min/max\n",
    "    ERROR  = \"error\"      # raise on overflow\n"
   ]
  },
  {
   "cell_type": "markdown",
   "id": "68ea66b4",
   "metadata": {},
   "source": [
    "\n",
    "---\n",
    "### 1.1 Add to `CUInt` & `CInt`\n",
    "\n",
    "```python\n",
    "@frozen\n",
    "class CUInt(CType):\n",
    "    bit_width : SymbolicInt = 32\n",
    "    endian    : Endian      = Endian.BIG\n",
    "    overflow  : Overflow    = Overflow.WRAP\n",
    "    …\n",
    "```\n",
    "Same for `CInt`. Update `to_bits` / `from_bits` to honour endian and check range according to overflow.\n",
    "### 1.2 CFxp needs rounding mode\n",
    "\n",
    "```python\n",
    "class Rounding(str, Enum):\n",
    "    TRUNC = \"trunc\"\n",
    "    ROUND = \"round_away0\"\n",
    "    STCH  = \"stochastic\"\n",
    "\n",
    "@frozen\n",
    "class CFxp(CType):\n",
    "    bit_width : int\n",
    "    num_frac  : int\n",
    "    signed    : bool       = False\n",
    "    rounding  : Rounding   = Rounding.TRUNC\n",
    "    overflow  : Overflow   = Overflow.WRAP\n",
    "```\n",
    "\n",
    "## 2 Alignment-aware composites\n",
    "\n",
    "### 2.1 Tensor layout descriptor\n",
    "1. **Row Major Order:** In this format, the matrix is stored in row order, with each row stored before the next row in memory. I.e. row N comes before row N+1.\n",
    "2. **Col Major Order:**  In this format, the matrix is stored in column-order, with each column stored before the next column in memory. I.e. column N comes before column N+1.\n",
    "\n",
    "```python\n",
    "@frozen\n",
    "class TensorLayout(Enum):\n",
    "    ROW_MAJOR = 0   # C   (inner-most stride = 1)\n",
    "    COL_MAJOR = 1   # Fortran\n",
    "    NHWC      = 2   # hardware accelerator typical\n",
    "\n",
    "\n",
    "```\n",
    "Classical accelerators (CUDA, TPU) pay a penalty when a tensor is not laid out in its preferred order; modelling the layout lets you map architecture-agnostic size → architecture-specific latency & energy."
   ]
  },
  {
   "cell_type": "markdown",
   "id": "48634815",
   "metadata": {},
   "source": [
    "\n",
    "### 2.2 Struct padding\n",
    "\n",
    "Add optional field `align: int | None` to `CStruct`. Change `total_bits`:\n",
    "```python\n",
    "payload = 0\n",
    "for ft in self.fields.values():\n",
    "    payload = math.ceil(payload / self.align) * self.align if self.align else payload\n",
    "    payload += getattr(ft,\"total_bits\",ft.data_width)\n",
    "if self.align:\n",
    "    payload = math.ceil(payload / self.align) * self.align\n",
    "return payload\n",
    "\n",
    "```\n",
    "## 3 Cost-model plug-in interface\n",
    "\n",
    "Create `workflow/simulation/refactor/cost_models.py`:\n",
    "\n",
    "```python\n",
    "class CostModel(abc.ABC):\n",
    "    \"\"\"Maps logical {total_bits, layout, …} → architecture metrics.\"\"\"\n",
    "\n",
    "    @abc.abstractmethod\n",
    "    def classical_mem(self, nbytes:int, *, layout=None)->dict:\n",
    "        \"\"\"Return {'energy_pJ':…, 'latency_ns':…}\"\"\"\n",
    "\n",
    "    @abc.abstractmethod\n",
    "    def quantum_qubits(self, nqubits:int)->dict:\n",
    "        \"\"\"Return {'physical_qubits':…, 'surface_cycles':…}\"\"\"\n",
    "```"
   ]
  },
  {
   "cell_type": "markdown",
   "id": "db33b323",
   "metadata": {},
   "source": [
    "## 1. Classical Scalar Types\n",
    "\n",
    "#### 1.1 **Primitive bit and integers**: `CBit`, `CInt`, `CUInt`, `CFloat`"
   ]
  },
  {
   "cell_type": "code",
   "execution_count": 3,
   "id": "73bc8099",
   "metadata": {},
   "outputs": [
    {
     "name": "stdout",
     "output_type": "stream",
     "text": [
      "CBit()      width = 1 bits, nbytes=1\n",
      "CInt(8)     width = 8 bits, nbytes=1\n",
      "CInt(16)    width = 16 bits, nbytes=2\n",
      "CUInt(32)   width = 32 bits, nbytes=4\n",
      "CUInt(64)   width = 64 bits, nbytes=8\n"
     ]
    }
   ],
   "source": [
    "from workflow.simulation.refactor.dtypes import CBit, CInt, CFloat, CUInt\n",
    "cbit  = CBit()\n",
    "cint8 = CInt(8)\n",
    "cint64 = CInt(16)\n",
    "cuint32 = CUInt(32)\n",
    "cuint64 = CUInt(64)\n",
    "\n",
    "for dt in (cbit, cint8, cint64, cuint32,cuint64):\n",
    "    print(f\"{dt:<10}  width = {dt.data_width} bits, nbytes={dt.nbytes}\")"
   ]
  },
  {
   "cell_type": "markdown",
   "id": "b2c75bd7",
   "metadata": {},
   "source": [
    "#### 1.2 **Fixed-point, IEEE float, strings**"
   ]
  },
  {
   "cell_type": "code",
   "execution_count": 4,
   "id": "1e21d717",
   "metadata": {},
   "outputs": [
    {
     "name": "stdout",
     "output_type": "stream",
     "text": [
      "CFxp(16, 8)      width=16 bits  nbytes=2\n",
      "CFloat(32)       width=32 bits  nbytes=4\n",
      "CString(32)      width=32 bits  nbytes=4\n"
     ]
    }
   ],
   "source": [
    "# print(f'CScalar Types - \\n')\n",
    "from workflow.simulation.refactor.dtypes import CFxp, CString\n",
    "fxp64  = CFxp(16, 8)     # 16-bit fixed point, 8 frac bits\n",
    "flt32  = CFloat(32)\n",
    "string = CString(4)\n",
    "\n",
    "for c in (fxp64, flt32, string):\n",
    "    print(f\"{c:15}  width={c.data_width} bits  nbytes={c.nbytes}\")\n",
    "\n"
   ]
  },
  {
   "cell_type": "code",
   "execution_count": 8,
   "id": "e17a8628",
   "metadata": {},
   "outputs": [
    {
     "name": "stdout",
     "output_type": "stream",
     "text": [
      "TensorType(2,)             width=32,  nbytes= 8, total_bits=64 \n",
      "TensorType(3, 4)           width=16,  nbytes= 24, total_bits=192 \n",
      "TensorType(3, 4, 5)        width=16,  nbytes= 120, total_bits=960 \n",
      "CStruct(17)                width=17,  nbytes= 3, total_bits=17 \n"
     ]
    }
   ],
   "source": [
    "\n",
    "from workflow.simulation.refactor.dtypes import TensorType, MatrixType, CStruct\n",
    "\n",
    "vec2   = TensorType((2,), element_type=CFloat(32))\n",
    "mat34  = TensorType((3,4), element_type=CInt(16))\n",
    "tensor34  = TensorType((3,4,5), element_type=CInt(16))\n",
    "record = CStruct(fields={\"id\": CUInt(16), \"flag\": CBit()})\n",
    "\n",
    "for dt in (vec2, mat34,tensor34, record):\n",
    "    print(f\"{dt:25}  width={dt.data_width},  nbytes= {dt.nbytes}, total_bits={dt.total_bits} \")\n"
   ]
  },
  {
   "cell_type": "code",
   "execution_count": null,
   "id": "f3c97a07",
   "metadata": {},
   "outputs": [],
   "source": []
  },
  {
   "cell_type": "markdown",
   "id": "9cdb9ada",
   "metadata": {},
   "source": [
    "* `QBit()`  one logical qubit  \n",
    "* `QInt(w)`  ($w≥1$) signed integer in two’s-complement  \n",
    "* `QUInt(w)` unsigned integer in $[0,2^w\\!-\\!1]$"
   ]
  },
  {
   "cell_type": "code",
   "execution_count": null,
   "id": "b30078e6",
   "metadata": {},
   "outputs": [],
   "source": []
  },
  {
   "cell_type": "markdown",
   "id": "7433a1f4",
   "metadata": {},
   "source": [
    "### Bit-roundtrip "
   ]
  },
  {
   "cell_type": "code",
   "execution_count": 5,
   "id": "047cf6e3",
   "metadata": {},
   "outputs": [
    {
     "name": "stdout",
     "output_type": "stream",
     "text": [
      "✔ CInt(4)\n",
      "✔ CUInt(4)\n",
      "✔ QInt(4)\n"
     ]
    }
   ],
   "source": [
    "def roundtrip(dtype, samples):\n",
    "    for x in samples:\n",
    "        assert dtype.from_bits(dtype.to_bits(x)) == x\n",
    "    print(\"✔\", dtype)\n",
    "\n",
    "roundtrip(CInt(4),  list(range(-8,8)))\n",
    "roundtrip(CUInt(4), list(range(16)))\n",
    "roundtrip(QInt(4),  list(range(-8,8)))"
   ]
  },
  {
   "cell_type": "markdown",
   "id": "59bd882d",
   "metadata": {},
   "source": [
    "#### `check_dtypes_consistent()` — global severities\n",
    "Three global rungs:\n",
    "\n",
    "| Global `DTypeCheckingSeverity` | Classical `C_PromoLevel` | Quantum  `Q_PromoLevel` |\n",
    "|----------|-------------------|-----------------|\n",
    "| `STRICT` | `STRICT`: | `STRICT`: Require exact dtype match, (same class, same num qubits) |\n",
    "| `ANY`    | `PROMOTE`:           | `ANY`: allow single-qbit or `QAny` conversions if dimensions match |\n",
    "| `LOOSE`  | `CAST`:               | `LOOSE`: Allow a broad range of QType conversions between, i.e., `QInt` <-> `QFxp`|"
   ]
  },
  {
   "cell_type": "code",
   "execution_count": 10,
   "id": "e6e38bae",
   "metadata": {},
   "outputs": [
    {
     "name": "stdout",
     "output_type": "stream",
     "text": [
      "CInt(8)     vs  CInt(8)     → [True, True, True]\n",
      "CInt(8)     vs  CFloat(8)   → [False, True, True]\n",
      "CInt(8)     vs  CUInt(8)    → [False, False, True]\n",
      "QInt(4)     vs  QUInt(4)    → [False, False, True]\n"
     ]
    }
   ],
   "source": [
    "from workflow.simulation.refactor.dtypes import DTypeCheckingSeverity,C_PromoLevel, check_dtypes_consistent\n",
    "pairs = [\n",
    "    (CInt(8),  CInt(8)),\n",
    "    (CInt(8),  CFloat(8)),\n",
    "    (CInt(8),  CUInt(8)),\n",
    "    (QInt(4),  QUInt(4)),\n",
    "]\n",
    "for a,b in pairs:\n",
    "    print(f\"{a:10}  vs  {b:10}  →\",\n",
    "          [check_dtypes_consistent(a,b,s) for s in DTypeCheckingSeverity])"
   ]
  },
  {
   "cell_type": "code",
   "execution_count": 20,
   "id": "8c6f9c49",
   "metadata": {},
   "outputs": [
    {
     "name": "stdout",
     "output_type": "stream",
     "text": [
      "C_PromoLevel.STRICT --> False\n",
      "C_PromoLevel.PROMOTE --> False\n",
      "C_PromoLevel.CAST --> True\n"
     ]
    }
   ],
   "source": [
    "dtype_a = CUInt(8)\n",
    "dtype_b = CFxp(8,0)\n",
    "\n",
    "for clvl in C_PromoLevel:\n",
    "    res = check_dtypes_consistent(\n",
    "            dtype_a, dtype_b,\n",
    "            classical_level=clvl\n",
    "        )\n",
    "    print(f\"{clvl} --> {res}\")\n",
    "# print(f\"C_PromoLevel.STRICT: {dtype_a} to {dtype_b} --> {res_strict}\")"
   ]
  },
  {
   "cell_type": "markdown",
   "id": "287f9277",
   "metadata": {},
   "source": [
    "\n",
    "## 3. Dyn & symbolics\n",
    "`Dyn` behaves like an existential variable **∃ w · w ∈ ℕ**,  \n",
    "but **compares equal to itself** and never participates in arithmetic.\n",
    "Formally, for any width $w\\in\\mathbb N\\$\n",
    "\n",
    "\\begin{equation}\n",
    "w = \\mathcal D \\;\\lor\\; \\mathcal D = w \\quad\\Longrightarrow\\quad\n",
    "\\text{“width matches” in consistency tests}.\n",
    "\\end{equation}\n",
    "\n",
    "In the global ladder (STRICT, ANY, LOOSE) we treat\n",
    "\n",
    "* `Dyn` ↔ concrete width: **False** under `STRICT`, **True** otherwise  \n",
    "  (matches unit-test `test_symbolic_int_cases`)."
   ]
  },
  {
   "cell_type": "code",
   "execution_count": null,
   "id": "a9d009bf",
   "metadata": {},
   "outputs": [],
   "source": []
  },
  {
   "cell_type": "code",
   "execution_count": 22,
   "id": "01dd5d30",
   "metadata": {},
   "outputs": [
    {
     "name": "stdout",
     "output_type": "stream",
     "text": [
      "symbolic equal? -> True\n",
      "Dyn vs concrete ANY -> True\n"
     ]
    }
   ],
   "source": [
    "import sympy\n",
    "from workflow.simulation.refactor.dtypes import Dyn\n",
    "\n",
    "n = sympy.symbols(\"n\", positive=True, integer=True)\n",
    "sym_ci = CInt(n)\n",
    "other  = CInt(\"n\")\n",
    "dyn_ci = CInt(Dyn)\n",
    "\n",
    "print(\"symbolic equal? ->\", check_dtypes_consistent(sym_ci, other, DTypeCheckingSeverity.ANY))\n",
    "print(\"Dyn vs concrete ANY ->\",\n",
    "      check_dtypes_consistent(dyn_ci, CInt(8), DTypeCheckingSeverity.ANY))"
   ]
  },
  {
   "cell_type": "code",
   "execution_count": 36,
   "id": "3f6c0c95",
   "metadata": {},
   "outputs": [
    {
     "name": "stdout",
     "output_type": "stream",
     "text": [
      "Matrix == Tensor same shape? False\n",
      "C_PromoLevel.STRICT:\n",
      "TensorType((2, 3), dtype=CInt(8)) & TensorType((2, 3), dtype=CInt(Dyn)) --> True\n",
      "TensorType((2, 3), dtype=CInt(8)) & TensorType((Dyn, 3), dtype=CInt(8)) --> True\n",
      "TensorType((2, 3), dtype=CInt(Dyn)) & TensorType((Dyn, 3), dtype=CInt(8)) --> True\n",
      "\n",
      "C_PromoLevel.PROMOTE:\n",
      "TensorType((2, 3), dtype=CInt(8)) & TensorType((2, 3), dtype=CInt(Dyn)) --> True\n",
      "TensorType((2, 3), dtype=CInt(8)) & TensorType((Dyn, 3), dtype=CInt(8)) --> True\n",
      "TensorType((2, 3), dtype=CInt(Dyn)) & TensorType((Dyn, 3), dtype=CInt(8)) --> True\n",
      "\n",
      "C_PromoLevel.CAST:\n",
      "TensorType((2, 3), dtype=CInt(8)) & TensorType((2, 3), dtype=CInt(Dyn)) --> True\n",
      "TensorType((2, 3), dtype=CInt(8)) & TensorType((Dyn, 3), dtype=CInt(8)) --> True\n",
      "TensorType((2, 3), dtype=CInt(Dyn)) & TensorType((Dyn, 3), dtype=CInt(8)) --> True\n",
      "\n"
     ]
    }
   ],
   "source": [
    "t1 = TensorType((2,3), element_type=CInt(8))\n",
    "\n",
    "t2= TensorType((2,3), element_type=CInt(Dyn))\n",
    "t3 = TensorType((Dyn,3), element_type=CInt(8))\n",
    "print(\"Matrix == Tensor same shape?\",\n",
    "      check_dtypes_consistent(t1,t2,DTypeCheckingSeverity.STRICT))\n",
    "\n",
    "\n",
    "for clvl in C_PromoLevel:\n",
    "    print(f'{clvl}:')\n",
    "    res = check_dtypes_consistent(\n",
    "            t1, t2,\n",
    "            classical_level=clvl\n",
    "        )\n",
    "    print(f\"{repr(t1)} & {repr(t2)} --> {res}\")\n",
    "    res = check_dtypes_consistent(\n",
    "            t1, t3,\n",
    "            classical_level=clvl\n",
    "        )\n",
    "    print(f\"{repr(t1)} & {repr(t3)} --> {res}\")\n",
    "    res = check_dtypes_consistent(\n",
    "            t2, t3,\n",
    "            classical_level=clvl\n",
    "        )\n",
    "    print(f\"{repr(t2)} & {repr(t3)} --> {res}\\n\")"
   ]
  },
  {
   "cell_type": "markdown",
   "id": "ccf80902",
   "metadata": {},
   "source": [
    "### Resource Tracking"
   ]
  },
  {
   "cell_type": "code",
   "execution_count": 37,
   "id": "7648920d",
   "metadata": {},
   "outputs": [
    {
     "name": "stdout",
     "output_type": "stream",
     "text": [
      "Torch bits: 64   vs  dtypes: 64\n"
     ]
    }
   ],
   "source": [
    "import torch\n",
    "def bits_of(torch_tensor):\n",
    "    return torch_tensor.nelement() * torch_tensor.element_size() * 8\n",
    "\n",
    "torch_tensor = torch.ones((2,2,2), dtype=torch.int8)\n",
    "dt = TensorType(torch_tensor.shape, element_type=torch.int8)\n",
    "print(\"Torch bits:\", bits_of(torch_tensor), \"  vs  dtypes:\", dt.total_bits)"
   ]
  },
  {
   "cell_type": "code",
   "execution_count": 8,
   "id": "1de62476",
   "metadata": {},
   "outputs": [
    {
     "name": "stdout",
     "output_type": "stream",
     "text": [
      "InSpec(name=x, dtype=TensorType(2,), shape=())\n",
      "total_bits on wire: 64  (fan-out ())\n"
     ]
    }
   ],
   "source": [
    "\n",
    "from workflow.simulation.refactor.builder import ProcessBuilder\n",
    "from workflow.simulation.refactor.register import Signature, RegisterSpec, Flow\n",
    "q4  = QInt(4)\n",
    "f64  = CFloat(64)\n",
    "vec2   = TensorType((2,), element_type=CFloat(32))\n",
    "\n",
    "rx = RegisterSpec(\"x\", dtype=vec2,           flow=Flow.LEFT)\n",
    "rq = RegisterSpec(\"psi\", dtype=q4,           flow=Flow.LEFT)\n",
    "ry = RegisterSpec(\"y\", dtype=f64,     flow=Flow.RIGHT)\n",
    "\n",
    "print(rx)\n",
    "print(f\"total_bits on wire: {rx.total_bits()}  (fan-out {rx.shape})\")\n",
    "\n"
   ]
  },
  {
   "cell_type": "code",
   "execution_count": null,
   "id": "b1795148",
   "metadata": {},
   "outputs": [],
   "source": [
    "from workflow.simulation.refactor.builder import Split\n",
    "\n",
    "from workflow.visualization_tools import ModuleDrawer,display_mod\n",
    "# from workflow.simulation.refactor.process import Process,ClassicalProcess\n",
    "\n",
    "split = Split(CInt(4)).as_composite()\n",
    "\n",
    "display_mod(split,  show_bookkeeping=False)"
   ]
  },
  {
   "cell_type": "code",
   "execution_count": 10,
   "id": "42f90435",
   "metadata": {},
   "outputs": [
    {
     "name": "stdout",
     "output_type": "stream",
     "text": [
      "CInt(4), output dtype: CBit(), fan_out: 4 - builder.py - signature()\n"
     ]
    },
    {
     "data": {
      "image/png": "[encoded data removed]",
      "image/svg+xml": [
       "<?xml version=\"1.0\" encoding=\"UTF-8\" standalone=\"no\"?>\n",
       "<!DOCTYPE svg PUBLIC \"-//W3C//DTD SVG 1.1//EN\"\n",
       " \"http://www.w3.org/Graphics/SVG/1.1/DTD/svg11.dtd\">\n",
       "<!-- Generated by graphviz version 12.2.1 (20241206.2353)\n",
       " -->\n",
       "<!-- Title: my_graph Pages: 1 -->\n",
       "<svg width=\"274pt\" height=\"206pt\"\n",
       " viewBox=\"0.00 0.00 274.25 206.00\" xmlns=\"http://www.w3.org/2000/svg\" xmlns:xlink=\"http://www.w3.org/1999/xlink\">\n",
       "<g id=\"graph0\" class=\"graph\" transform=\"scale(1 1) rotate(0) translate(4 202)\">\n",
       "<title>my_graph</title>\n",
       "<polygon fill=\"white\" stroke=\"none\" points=\"-4,4 -4,-202 270.25,-202 270.25,4 -4,4\"/>\n",
       "<!-- arg_G7 -->\n",
       "<g id=\"node1\" class=\"node\">\n",
       "<title>arg_G7</title>\n",
       "<text text-anchor=\"middle\" x=\"27\" y=\"-93.95\" font-family=\"Times,serif\" font-size=\"14.00\">arg</text>\n",
       "</g>\n",
       "<!-- Split -->\n",
       "<g id=\"node2\" class=\"node\">\n",
       "<title>Split</title>\n",
       "<polygon fill=\"none\" stroke=\"black\" points=\"129.75,-111 129.75,-117 141.75,-117 141.75,-111 129.75,-111\"/>\n",
       "<polygon fill=\"none\" stroke=\"black\" points=\"129.75,-87 129.75,-111 135.75,-111 135.75,-87 129.75,-87\"/>\n",
       "<polygon fill=\"none\" stroke=\"black\" points=\"135.75,-105 135.75,-111 141.75,-111 141.75,-105 135.75,-105\"/>\n",
       "<polygon fill=\"none\" stroke=\"black\" points=\"135.75,-99 135.75,-105 141.75,-105 141.75,-99 135.75,-99\"/>\n",
       "<polygon fill=\"none\" stroke=\"black\" points=\"135.75,-93 135.75,-99 141.75,-99 141.75,-93 135.75,-93\"/>\n",
       "<polygon fill=\"none\" stroke=\"black\" points=\"135.75,-87 135.75,-93 141.75,-93 141.75,-87 135.75,-87\"/>\n",
       "</g>\n",
       "<!-- arg_G7&#45;&gt;Split -->\n",
       "<g id=\"edge1\" class=\"edge\">\n",
       "<title>arg_G7:e&#45;&gt;Split:w</title>\n",
       "<path fill=\"none\" stroke=\"black\" d=\"M54,-99C83.59,-99 93.67,-99 118.54,-99\"/>\n",
       "<polygon fill=\"black\" stroke=\"black\" points=\"118.24,-102.5 128.24,-99 118.24,-95.5 118.24,-102.5\"/>\n",
       "<text text-anchor=\"middle\" x=\"91.88\" y=\"-102.2\" font-family=\"Times,serif\" font-size=\"14.00\">CInt(4)</text>\n",
       "</g>\n",
       "<!-- arg_G1 -->\n",
       "<g id=\"node3\" class=\"node\">\n",
       "<title>arg_G1</title>\n",
       "<text text-anchor=\"middle\" x=\"239.25\" y=\"-174.95\" font-family=\"Times,serif\" font-size=\"14.00\">arg[0]</text>\n",
       "</g>\n",
       "<!-- Split&#45;&gt;arg_G1 -->\n",
       "<g id=\"edge2\" class=\"edge\">\n",
       "<title>Split:e&#45;&gt;arg_G1:w</title>\n",
       "<path fill=\"none\" stroke=\"black\" d=\"M141.75,-108C159.64,-108 148,-130.51 159.75,-144 175.58,-162.17 182,-175.5 201.03,-179.06\"/>\n",
       "<polygon fill=\"black\" stroke=\"black\" points=\"200.48,-182.52 210.74,-179.87 201.07,-175.55 200.48,-182.52\"/>\n",
       "<text text-anchor=\"middle\" x=\"177\" y=\"-180.37\" font-family=\"Times,serif\" font-size=\"14.00\">CBit()</text>\n",
       "</g>\n",
       "<!-- arg_G2 -->\n",
       "<g id=\"node4\" class=\"node\">\n",
       "<title>arg_G2</title>\n",
       "<text text-anchor=\"middle\" x=\"239.25\" y=\"-120.95\" font-family=\"Times,serif\" font-size=\"14.00\">arg[1]</text>\n",
       "</g>\n",
       "<!-- Split&#45;&gt;arg_G2 -->\n",
       "<g id=\"edge3\" class=\"edge\">\n",
       "<title>Split:e&#45;&gt;arg_G2:w</title>\n",
       "<path fill=\"none\" stroke=\"black\" d=\"M141.75,-102C170.71,-102 177.63,-120.38 201.08,-124.97\"/>\n",
       "<polygon fill=\"black\" stroke=\"black\" points=\"200.46,-128.43 210.74,-125.86 201.11,-121.46 200.46,-128.43\"/>\n",
       "<text text-anchor=\"middle\" x=\"177\" y=\"-126.23\" font-family=\"Times,serif\" font-size=\"14.00\">CBit()</text>\n",
       "</g>\n",
       "<!-- arg_G3 -->\n",
       "<g id=\"node5\" class=\"node\">\n",
       "<title>arg_G3</title>\n",
       "<text text-anchor=\"middle\" x=\"239.25\" y=\"-66.95\" font-family=\"Times,serif\" font-size=\"14.00\">arg[2]</text>\n",
       "</g>\n",
       "<!-- Split&#45;&gt;arg_G3 -->\n",
       "<g id=\"edge4\" class=\"edge\">\n",
       "<title>Split:e&#45;&gt;arg_G3:w</title>\n",
       "<path fill=\"none\" stroke=\"black\" d=\"M141.75,-96C151.24,-96 151.01,-88.21 159.75,-84.5 177.86,-76.82 185.45,-73.33 200.83,-72.32\"/>\n",
       "<polygon fill=\"black\" stroke=\"black\" points=\"200.84,-75.82 210.74,-72.04 200.64,-68.83 200.84,-75.82\"/>\n",
       "<text text-anchor=\"middle\" x=\"177\" y=\"-87.7\" font-family=\"Times,serif\" font-size=\"14.00\">CBit()</text>\n",
       "</g>\n",
       "<!-- arg_G4 -->\n",
       "<g id=\"node6\" class=\"node\">\n",
       "<title>arg_G4</title>\n",
       "<text text-anchor=\"middle\" x=\"239.25\" y=\"-12.95\" font-family=\"Times,serif\" font-size=\"14.00\">arg[3]</text>\n",
       "</g>\n",
       "<!-- Split&#45;&gt;arg_G4 -->\n",
       "<g id=\"edge5\" class=\"edge\">\n",
       "<title>Split:e&#45;&gt;arg_G4:w</title>\n",
       "<path fill=\"none\" stroke=\"black\" d=\"M141.75,-90C160.24,-90 147.58,-66.42 159.75,-52.5 175.33,-34.68 182.16,-22.28 200.88,-18.92\"/>\n",
       "<polygon fill=\"black\" stroke=\"black\" points=\"201.06,-22.42 210.74,-18.12 200.49,-15.44 201.06,-22.42\"/>\n",
       "<text text-anchor=\"middle\" x=\"177\" y=\"-55.7\" font-family=\"Times,serif\" font-size=\"14.00\">CBit()</text>\n",
       "</g>\n",
       "</g>\n",
       "</svg>\n"
      ],
      "text/plain": [
       "<workflow.visualization_tools.ModuleDrawer at 0x176ad2e10>"
      ]
     },
     "metadata": {},
     "output_type": "display_data"
    },
    {
     "data": {
      "image/png": "[encoded data removed]",
      "image/svg+xml": [
       "<?xml version=\"1.0\" encoding=\"UTF-8\" standalone=\"no\"?>\n",
       "<!DOCTYPE svg PUBLIC \"-//W3C//DTD SVG 1.1//EN\"\n",
       " \"http://www.w3.org/Graphics/SVG/1.1/DTD/svg11.dtd\">\n",
       "<!-- Generated by graphviz version 12.2.1 (20241206.2353)\n",
       " -->\n",
       "<!-- Title: my_graph Pages: 1 -->\n",
       "<svg width=\"700pt\" height=\"215pt\"\n",
       " viewBox=\"0.00 0.00 700.25 215.17\" xmlns=\"http://www.w3.org/2000/svg\" xmlns:xlink=\"http://www.w3.org/1999/xlink\">\n",
       "<g id=\"graph0\" class=\"graph\" transform=\"scale(1 1) rotate(0) translate(4 211.17)\">\n",
       "<title>my_graph</title>\n",
       "<polygon fill=\"white\" stroke=\"none\" points=\"-4,4 -4,-211.17 696.25,-211.17 696.25,4 -4,4\"/>\n",
       "<!-- arg_G7 -->\n",
       "<g id=\"node1\" class=\"node\">\n",
       "<title>arg_G7</title>\n",
       "<text text-anchor=\"middle\" x=\"27\" y=\"-94.54\" font-family=\"Times,serif\" font-size=\"14.00\">arg</text>\n",
       "</g>\n",
       "<!-- Split -->\n",
       "<g id=\"node2\" class=\"node\">\n",
       "<title>Split</title>\n",
       "<polygon fill=\"none\" stroke=\"black\" points=\"333,-111.59 333,-117.59 345,-117.59 345,-111.59 333,-111.59\"/>\n",
       "<polygon fill=\"none\" stroke=\"black\" points=\"333,-87.59 333,-111.59 339,-111.59 339,-87.59 333,-87.59\"/>\n",
       "<polygon fill=\"none\" stroke=\"black\" points=\"339,-105.59 339,-111.59 345,-111.59 345,-105.59 339,-105.59\"/>\n",
       "<polygon fill=\"none\" stroke=\"black\" points=\"339,-99.59 339,-105.59 345,-105.59 345,-99.59 339,-99.59\"/>\n",
       "<polygon fill=\"none\" stroke=\"black\" points=\"339,-93.59 339,-99.59 345,-99.59 345,-93.59 339,-93.59\"/>\n",
       "<polygon fill=\"none\" stroke=\"black\" points=\"339,-87.59 339,-93.59 345,-93.59 345,-87.59 339,-87.59\"/>\n",
       "</g>\n",
       "<!-- arg_G7&#45;&gt;Split -->\n",
       "<g id=\"edge1\" class=\"edge\">\n",
       "<title>arg_G7:e&#45;&gt;Split:w</title>\n",
       "<path fill=\"none\" stroke=\"black\" d=\"M54,-99.59C174.12,-99.59 206.97,-99.59 321.64,-99.59\"/>\n",
       "<polygon fill=\"black\" stroke=\"black\" points=\"321.49,-103.09 331.49,-99.59 321.49,-96.09 321.49,-103.09\"/>\n",
       "<text text-anchor=\"middle\" x=\"193.5\" y=\"-102.79\" font-family=\"Times,serif\" font-size=\"14.00\">InSpec(name=arg, dtype=CInt(4), shape=())</text>\n",
       "</g>\n",
       "<!-- arg_G1 -->\n",
       "<g id=\"node3\" class=\"node\">\n",
       "<title>arg_G1</title>\n",
       "<text text-anchor=\"middle\" x=\"665.25\" y=\"-175.54\" font-family=\"Times,serif\" font-size=\"14.00\">arg[0]</text>\n",
       "</g>\n",
       "<!-- Split&#45;&gt;arg_G1 -->\n",
       "<g id=\"edge2\" class=\"edge\">\n",
       "<title>Split:e&#45;&gt;arg_G1:w</title>\n",
       "<path fill=\"none\" stroke=\"black\" d=\"M345,-108.59C363.69,-108.59 347.85,-135.64 363,-146.59 459.79,-216.52 511.69,-182.87 626.9,-180.69\"/>\n",
       "<polygon fill=\"black\" stroke=\"black\" points=\"626.77,-184.19 636.74,-180.6 626.7,-177.2 626.77,-184.19\"/>\n",
       "<text text-anchor=\"middle\" x=\"491.62\" y=\"-193.87\" font-family=\"Times,serif\" font-size=\"14.00\">OutSpec(name=arg, dtype=CBit(), shape=(4,))</text>\n",
       "</g>\n",
       "<!-- arg_G2 -->\n",
       "<g id=\"node4\" class=\"node\">\n",
       "<title>arg_G2</title>\n",
       "<text text-anchor=\"middle\" x=\"665.25\" y=\"-121.54\" font-family=\"Times,serif\" font-size=\"14.00\">arg[1]</text>\n",
       "</g>\n",
       "<!-- Split&#45;&gt;arg_G2 -->\n",
       "<g id=\"edge3\" class=\"edge\">\n",
       "<title>Split:e&#45;&gt;arg_G2:w</title>\n",
       "<path fill=\"none\" stroke=\"black\" d=\"M345,-102.59C471.94,-102.59 505.54,-125.2 627.01,-126.53\"/>\n",
       "<polygon fill=\"black\" stroke=\"black\" points=\"626.72,-130.02 636.74,-126.58 626.76,-123.02 626.72,-130.02\"/>\n",
       "<text text-anchor=\"middle\" x=\"491.62\" y=\"-129.54\" font-family=\"Times,serif\" font-size=\"14.00\">OutSpec(name=arg, dtype=CBit(), shape=(4,))</text>\n",
       "</g>\n",
       "<!-- arg_G3 -->\n",
       "<g id=\"node5\" class=\"node\">\n",
       "<title>arg_G3</title>\n",
       "<text text-anchor=\"middle\" x=\"665.25\" y=\"-67.54\" font-family=\"Times,serif\" font-size=\"14.00\">arg[2]</text>\n",
       "</g>\n",
       "<!-- Split&#45;&gt;arg_G3 -->\n",
       "<g id=\"edge4\" class=\"edge\">\n",
       "<title>Split:e&#45;&gt;arg_G3:w</title>\n",
       "<path fill=\"none\" stroke=\"black\" d=\"M345,-96.59C355.27,-96.59 353.37,-85.67 363,-82.09 474.13,-40.72 513.39,-70.59 627.02,-72.49\"/>\n",
       "<polygon fill=\"black\" stroke=\"black\" points=\"626.71,-75.99 636.74,-72.57 626.77,-68.99 626.71,-75.99\"/>\n",
       "<text text-anchor=\"middle\" x=\"491.62\" y=\"-85.29\" font-family=\"Times,serif\" font-size=\"14.00\">OutSpec(name=arg, dtype=CBit(), shape=(4,))</text>\n",
       "</g>\n",
       "<!-- arg_G4 -->\n",
       "<g id=\"node6\" class=\"node\">\n",
       "<title>arg_G4</title>\n",
       "<text text-anchor=\"middle\" x=\"665.25\" y=\"-13.54\" font-family=\"Times,serif\" font-size=\"14.00\">arg[3]</text>\n",
       "</g>\n",
       "<!-- Split&#45;&gt;arg_G4 -->\n",
       "<g id=\"edge5\" class=\"edge\">\n",
       "<title>Split:e&#45;&gt;arg_G4:w</title>\n",
       "<path fill=\"none\" stroke=\"black\" d=\"M345,-90.59C368.83,-90.59 344.08,-54.57 363,-40.09 457.4,32.15 512.06,-15.39 626.94,-18.44\"/>\n",
       "<polygon fill=\"black\" stroke=\"black\" points=\"626.69,-21.93 636.74,-18.57 626.78,-14.93 626.69,-21.93\"/>\n",
       "<text text-anchor=\"middle\" x=\"491.62\" y=\"-43.29\" font-family=\"Times,serif\" font-size=\"14.00\">OutSpec(name=arg, dtype=CBit(), shape=(4,))</text>\n",
       "</g>\n",
       "</g>\n",
       "</svg>\n"
      ],
      "text/plain": [
       "<workflow.visualization_tools.ModuleDrawer at 0x17d1d7c10>"
      ]
     },
     "metadata": {},
     "output_type": "display_data"
    }
   ],
   "source": [
    "from workflow.simulation.refactor.builder import Split\n",
    "\n",
    "split = Split(CInt(4)).as_composite()\n",
    "display_mod(split,type='dtype',show_bookkeeping=False )\n",
    "\n",
    "display_mod(split,type='shape',show_bookkeeping=False )\n"
   ]
  },
  {
   "cell_type": "code",
   "execution_count": 13,
   "id": "e2c8b79e",
   "metadata": {},
   "outputs": [
    {
     "name": "stdout",
     "output_type": "stream",
     "text": [
      "TensorType((2,), dtype=CInt(2)) with element dtype: CInt(2) output dtype: CInt(2), elem_width: 2, n_elems: 2, fan_out: 2 - builder.py - signature()\n",
      "in_ports: {'arg': LeftDangle.V} - builder.py - add()\n",
      "in_ports: {'arg': array([Split<0>.arg[0], Split<0>.arg[1]], dtype=object)} - builder.py - add()\n",
      "Split<0>\n",
      "  LeftDangle.V -> arg\n",
      "  arg[0] -> Join<1>.arg[0]\n",
      "  arg[1] -> Join<1>.arg[1]\n",
      "--------------------\n",
      "Join<1>\n",
      "  Split<0>.arg[0] -> arg[0]\n",
      "  Split<0>.arg[1] -> arg[1]\n",
      "  arg -> RightDangle.a_tensor\n"
     ]
    },
    {
     "data": {
      "image/png": "[encoded data removed]",
      "image/svg+xml": [
       "<?xml version=\"1.0\" encoding=\"UTF-8\" standalone=\"no\"?>\n",
       "<!DOCTYPE svg PUBLIC \"-//W3C//DTD SVG 1.1//EN\"\n",
       " \"http://www.w3.org/Graphics/SVG/1.1/DTD/svg11.dtd\">\n",
       "<!-- Generated by graphviz version 12.2.1 (20241206.2353)\n",
       " -->\n",
       "<!-- Title: my_graph Pages: 1 -->\n",
       "<svg width=\"654pt\" height=\"49pt\"\n",
       " viewBox=\"0.00 0.00 654.00 49.41\" xmlns=\"http://www.w3.org/2000/svg\" xmlns:xlink=\"http://www.w3.org/1999/xlink\">\n",
       "<g id=\"graph0\" class=\"graph\" transform=\"scale(1 1) rotate(0) translate(4 45.41)\">\n",
       "<title>my_graph</title>\n",
       "<polygon fill=\"white\" stroke=\"none\" points=\"-4,4 -4,-45.41 650,-45.41 650,4 -4,4\"/>\n",
       "<!-- V -->\n",
       "<g id=\"node1\" class=\"node\">\n",
       "<title>V</title>\n",
       "<text text-anchor=\"middle\" x=\"27\" y=\"-16.86\" font-family=\"Times,serif\" font-size=\"14.00\">V</text>\n",
       "</g>\n",
       "<!-- Split -->\n",
       "<g id=\"node2\" class=\"node\">\n",
       "<title>Split</title>\n",
       "<polygon fill=\"none\" stroke=\"black\" points=\"269.25,-27.91 269.25,-33.91 281.25,-33.91 281.25,-27.91 269.25,-27.91\"/>\n",
       "<polygon fill=\"none\" stroke=\"black\" points=\"269.25,-15.91 269.25,-27.91 275.25,-27.91 275.25,-15.91 269.25,-15.91\"/>\n",
       "<polygon fill=\"none\" stroke=\"black\" points=\"275.25,-21.91 275.25,-27.91 281.25,-27.91 281.25,-21.91 275.25,-21.91\"/>\n",
       "<polygon fill=\"none\" stroke=\"black\" points=\"275.25,-15.91 275.25,-21.91 281.25,-21.91 281.25,-15.91 275.25,-15.91\"/>\n",
       "</g>\n",
       "<!-- V&#45;&gt;Split -->\n",
       "<g id=\"edge1\" class=\"edge\">\n",
       "<title>V:e&#45;&gt;Split:w</title>\n",
       "<path fill=\"none\" stroke=\"black\" d=\"M54,-21.91C145.74,-21.91 171.5,-21.91 257.83,-21.91\"/>\n",
       "<polygon fill=\"black\" stroke=\"black\" points=\"257.74,-25.41 267.74,-21.91 257.74,-18.41 257.74,-25.41\"/>\n",
       "<text text-anchor=\"middle\" x=\"161.62\" y=\"-25.11\" font-family=\"Times,serif\" font-size=\"14.00\">TensorType((2,), dtype=CInt(2))</text>\n",
       "</g>\n",
       "<!-- Join -->\n",
       "<g id=\"node3\" class=\"node\">\n",
       "<title>Join</title>\n",
       "<polygon fill=\"none\" stroke=\"black\" points=\"357,-27.91 357,-33.91 369,-33.91 369,-27.91 357,-27.91\"/>\n",
       "<polygon fill=\"none\" stroke=\"black\" points=\"357,-21.91 357,-27.91 363,-27.91 363,-21.91 357,-21.91\"/>\n",
       "<polygon fill=\"none\" stroke=\"black\" points=\"363,-15.91 363,-27.91 369,-27.91 369,-15.91 363,-15.91\"/>\n",
       "<polygon fill=\"none\" stroke=\"black\" points=\"357,-15.91 357,-21.91 363,-21.91 363,-15.91 357,-15.91\"/>\n",
       "</g>\n",
       "<!-- Split&#45;&gt;Join -->\n",
       "<g id=\"edge2\" class=\"edge\">\n",
       "<title>Split:e&#45;&gt;Join:w</title>\n",
       "<path fill=\"none\" stroke=\"black\" d=\"M281.25,-24.91C310.84,-24.91 320.92,-24.91 345.79,-24.91\"/>\n",
       "<polygon fill=\"black\" stroke=\"black\" points=\"345.49,-28.41 355.49,-24.91 345.49,-21.41 345.49,-28.41\"/>\n",
       "<text text-anchor=\"middle\" x=\"319.12\" y=\"-28.11\" font-family=\"Times,serif\" font-size=\"14.00\">CInt(2)</text>\n",
       "</g>\n",
       "<!-- Split&#45;&gt;Join -->\n",
       "<g id=\"edge3\" class=\"edge\">\n",
       "<title>Split:e&#45;&gt;Join:w</title>\n",
       "<path fill=\"none\" stroke=\"black\" d=\"M281.25,-18.91C291.52,-18.91 289.56,-7.82 299.25,-4.41 315.91,1.47 322.34,1.47 339,-4.41 343.69,-6.06 345.65,-9.52 347.59,-12.64\"/>\n",
       "<polygon fill=\"black\" stroke=\"black\" points=\"345.48,-15.43 355.74,-18.07 349.36,-9.61 345.48,-15.43\"/>\n",
       "<text text-anchor=\"middle\" x=\"319.12\" y=\"-7.61\" font-family=\"Times,serif\" font-size=\"14.00\">CInt(2)</text>\n",
       "</g>\n",
       "<!-- a_tensor -->\n",
       "<g id=\"node4\" class=\"node\">\n",
       "<title>a_tensor</title>\n",
       "<text text-anchor=\"middle\" x=\"615.12\" y=\"-16.86\" font-family=\"Times,serif\" font-size=\"14.00\">a_tensor</text>\n",
       "</g>\n",
       "<!-- Join&#45;&gt;a_tensor -->\n",
       "<g id=\"edge4\" class=\"edge\">\n",
       "<title>Join:e&#45;&gt;a_tensor:w</title>\n",
       "<path fill=\"none\" stroke=\"black\" d=\"M369,-21.91C460.74,-21.91 486.5,-21.91 572.83,-21.91\"/>\n",
       "<polygon fill=\"black\" stroke=\"black\" points=\"572.74,-25.41 582.74,-21.91 572.74,-18.41 572.74,-25.41\"/>\n",
       "<text text-anchor=\"middle\" x=\"476.62\" y=\"-25.11\" font-family=\"Times,serif\" font-size=\"14.00\">TensorType((2,), dtype=CInt(2))</text>\n",
       "</g>\n",
       "</g>\n",
       "</svg>\n"
      ],
      "text/plain": [
       "<workflow.visualization_tools.ModuleDrawer at 0x17d799690>"
      ]
     },
     "metadata": {},
     "output_type": "display_data"
    },
    {
     "ename": "UnboundLocalError",
     "evalue": "cannot access local variable 'cxn_label' where it is not associated with a value",
     "output_type": "error",
     "traceback": [
      "\u001b[31m---------------------------------------------------------------------------\u001b[39m",
      "\u001b[31mUnboundLocalError\u001b[39m                         Traceback (most recent call last)",
      "\u001b[36mFile \u001b[39m\u001b[32m~/miniforge3/envs/torch_env/lib/python3.11/site-packages/IPython/core/formatters.py:406\u001b[39m, in \u001b[36mBaseFormatter.__call__\u001b[39m\u001b[34m(self, obj)\u001b[39m\n\u001b[32m    404\u001b[39m     method = get_real_method(obj, \u001b[38;5;28mself\u001b[39m.print_method)\n\u001b[32m    405\u001b[39m     \u001b[38;5;28;01mif\u001b[39;00m method \u001b[38;5;129;01mis\u001b[39;00m \u001b[38;5;129;01mnot\u001b[39;00m \u001b[38;5;28;01mNone\u001b[39;00m:\n\u001b[32m--> \u001b[39m\u001b[32m406\u001b[39m         \u001b[38;5;28;01mreturn\u001b[39;00m \u001b[43mmethod\u001b[49m\u001b[43m(\u001b[49m\u001b[43m)\u001b[49m\n\u001b[32m    407\u001b[39m     \u001b[38;5;28;01mreturn\u001b[39;00m \u001b[38;5;28;01mNone\u001b[39;00m\n\u001b[32m    408\u001b[39m \u001b[38;5;28;01melse\u001b[39;00m:\n",
      "\u001b[36mFile \u001b[39m\u001b[32m~/workflow_tool/workflow/visualization_tools.py:129\u001b[39m, in \u001b[36mModuleDrawer._repr_svg_\u001b[39m\u001b[34m(self)\u001b[39m\n\u001b[32m    127\u001b[39m \u001b[38;5;28;01mdef\u001b[39;00m\u001b[38;5;250m \u001b[39m\u001b[34m_repr_svg_\u001b[39m(\u001b[38;5;28mself\u001b[39m):\n\u001b[32m    128\u001b[39m     \u001b[38;5;66;03m# Jupyter will call this automatically and render the SVG inline\u001b[39;00m\n\u001b[32m--> \u001b[39m\u001b[32m129\u001b[39m     \u001b[38;5;28;01mreturn\u001b[39;00m \u001b[38;5;28;43mself\u001b[39;49m\u001b[43m.\u001b[49m\u001b[43mget_svg_bytes\u001b[49m\u001b[43m(\u001b[49m\u001b[43m)\u001b[49m.decode(\u001b[33m'\u001b[39m\u001b[33mutf-8\u001b[39m\u001b[33m'\u001b[39m)\n",
      "\u001b[36mFile \u001b[39m\u001b[32m~/workflow_tool/workflow/visualization_tools.py:383\u001b[39m, in \u001b[36mModuleDrawer.get_svg_bytes\u001b[39m\u001b[34m(self)\u001b[39m\n\u001b[32m    381\u001b[39m \u001b[38;5;28;01mdef\u001b[39;00m\u001b[38;5;250m \u001b[39m\u001b[34mget_svg_bytes\u001b[39m(\u001b[38;5;28mself\u001b[39m) -> \u001b[38;5;28mbytes\u001b[39m:\n\u001b[32m    382\u001b[39m \u001b[38;5;250m    \u001b[39m\u001b[33;03m\"\"\"Generate the SVG representation of the network.\"\"\"\u001b[39;00m\n\u001b[32m--> \u001b[39m\u001b[32m383\u001b[39m     graph = \u001b[38;5;28;43mself\u001b[39;49m\u001b[43m.\u001b[49m\u001b[43mget_graph\u001b[49m\u001b[43m(\u001b[49m\u001b[43m)\u001b[49m\n\u001b[32m    384\u001b[39m     \u001b[38;5;28;01mreturn\u001b[39;00m graph.create(prog=\u001b[33m'\u001b[39m\u001b[33mdot\u001b[39m\u001b[33m'\u001b[39m, \u001b[38;5;28mformat\u001b[39m=\u001b[33m'\u001b[39m\u001b[33msvg\u001b[39m\u001b[33m'\u001b[39m)\n",
      "\u001b[36mFile \u001b[39m\u001b[32m~/workflow_tool/workflow/visualization_tools.py:376\u001b[39m, in \u001b[36mModuleDrawer.get_graph\u001b[39m\u001b[34m(self)\u001b[39m\n\u001b[32m    373\u001b[39m graph = \u001b[38;5;28mself\u001b[39m.add_dangles(graph, \u001b[38;5;28mself\u001b[39m._cnode.signature, RightDangle)\n\u001b[32m    375\u001b[39m \u001b[38;5;28;01mfor\u001b[39;00m cxn \u001b[38;5;129;01min\u001b[39;00m \u001b[38;5;28mself\u001b[39m._cnode.connections:\n\u001b[32m--> \u001b[39m\u001b[32m376\u001b[39m     graph = \u001b[38;5;28;43mself\u001b[39;49m\u001b[43m.\u001b[49m\u001b[43madd_cxn\u001b[49m\u001b[43m(\u001b[49m\u001b[43mgraph\u001b[49m\u001b[43m,\u001b[49m\u001b[43m \u001b[49m\u001b[43mcxn\u001b[49m\u001b[43m)\u001b[49m\n\u001b[32m    378\u001b[39m \u001b[38;5;28;01mreturn\u001b[39;00m graph\n",
      "\u001b[36mFile \u001b[39m\u001b[32m~/workflow_tool/workflow/visualization_tools.py:359\u001b[39m, in \u001b[36mModuleDrawer.add_cxn\u001b[39m\u001b[34m(self, graph, cxn)\u001b[39m\n\u001b[32m    356\u001b[39m \u001b[38;5;28;01melse\u001b[39;00m:\n\u001b[32m    357\u001b[39m     right = \u001b[33mf\u001b[39m\u001b[33m'\u001b[39m\u001b[38;5;132;01m{\u001b[39;00m\u001b[38;5;28mself\u001b[39m.ids[cxn.right.process_instance]\u001b[38;5;132;01m}\u001b[39;00m\u001b[33m:\u001b[39m\u001b[38;5;132;01m{\u001b[39;00m\u001b[38;5;28mself\u001b[39m.ids[cxn.right]\u001b[38;5;132;01m}\u001b[39;00m\u001b[33m:w\u001b[39m\u001b[33m'\u001b[39m\n\u001b[32m--> \u001b[39m\u001b[32m359\u001b[39m graph.add_edge(\u001b[38;5;28;43mself\u001b[39;49m\u001b[43m.\u001b[49m\u001b[43mcxn_edge\u001b[49m\u001b[43m(\u001b[49m\u001b[43mleft\u001b[49m\u001b[43m,\u001b[49m\u001b[43m \u001b[49m\u001b[43mright\u001b[49m\u001b[43m,\u001b[49m\u001b[43m \u001b[49m\u001b[43mcxn\u001b[49m\u001b[43m)\u001b[49m)\n\u001b[32m    360\u001b[39m \u001b[38;5;28;01mreturn\u001b[39;00m graph\n",
      "\u001b[36mFile \u001b[39m\u001b[32m~/workflow_tool/workflow/visualization_tools.py:335\u001b[39m, in \u001b[36mModuleDrawer.cxn_edge\u001b[39m\u001b[34m(self, left_id, right_id, cxn)\u001b[39m\n\u001b[32m    332\u001b[39m     cxn_label =\u001b[38;5;28mself\u001b[39m.cxn_label(cxn)\n\u001b[32m    333\u001b[39m \u001b[38;5;66;03m# print(cxn_label,self.label_type)\u001b[39;00m\n\u001b[32m    334\u001b[39m \u001b[38;5;66;03m# logger.debug(f\"cxn label: {cxn_label}, shape: {cxn.shape}\")\u001b[39;00m\n\u001b[32m--> \u001b[39m\u001b[32m335\u001b[39m \u001b[38;5;28;01massert\u001b[39;00m \u001b[43mcxn_label\u001b[49m \u001b[38;5;129;01mis\u001b[39;00m \u001b[38;5;129;01mnot\u001b[39;00m \u001b[38;5;28;01mNone\u001b[39;00m, \u001b[33mf\u001b[39m\u001b[33m\"\u001b[39m\u001b[33mcxn_label cannot be None for label_type=\u001b[39m\u001b[38;5;132;01m{\u001b[39;00m\u001b[38;5;28mself\u001b[39m.label_type\u001b[38;5;132;01m}\u001b[39;00m\u001b[33m. cxn label: \u001b[39m\u001b[38;5;132;01m{\u001b[39;00mcxn_label\u001b[38;5;132;01m}\u001b[39;00m\u001b[33m, shape: \u001b[39m\u001b[38;5;132;01m{\u001b[39;00mcxn.shape\u001b[38;5;132;01m}\u001b[39;00m\u001b[33m\"\u001b[39m\n\u001b[32m    336\u001b[39m \u001b[38;5;28;01mreturn\u001b[39;00m pydot.Edge(left_id, right_id, label=cxn_label)\n",
      "\u001b[31mUnboundLocalError\u001b[39m: cannot access local variable 'cxn_label' where it is not associated with a value"
     ]
    },
    {
     "ename": "UnboundLocalError",
     "evalue": "cannot access local variable 'cxn_label' where it is not associated with a value",
     "output_type": "error",
     "traceback": [
      "\u001b[31m---------------------------------------------------------------------------\u001b[39m",
      "\u001b[31mUnboundLocalError\u001b[39m                         Traceback (most recent call last)",
      "\u001b[36mFile \u001b[39m\u001b[32m~/miniforge3/envs/torch_env/lib/python3.11/site-packages/IPython/core/formatters.py:406\u001b[39m, in \u001b[36mBaseFormatter.__call__\u001b[39m\u001b[34m(self, obj)\u001b[39m\n\u001b[32m    404\u001b[39m     method = get_real_method(obj, \u001b[38;5;28mself\u001b[39m.print_method)\n\u001b[32m    405\u001b[39m     \u001b[38;5;28;01mif\u001b[39;00m method \u001b[38;5;129;01mis\u001b[39;00m \u001b[38;5;129;01mnot\u001b[39;00m \u001b[38;5;28;01mNone\u001b[39;00m:\n\u001b[32m--> \u001b[39m\u001b[32m406\u001b[39m         \u001b[38;5;28;01mreturn\u001b[39;00m \u001b[43mmethod\u001b[49m\u001b[43m(\u001b[49m\u001b[43m)\u001b[49m\n\u001b[32m    407\u001b[39m     \u001b[38;5;28;01mreturn\u001b[39;00m \u001b[38;5;28;01mNone\u001b[39;00m\n\u001b[32m    408\u001b[39m \u001b[38;5;28;01melse\u001b[39;00m:\n",
      "\u001b[36mFile \u001b[39m\u001b[32m~/workflow_tool/workflow/visualization_tools.py:132\u001b[39m, in \u001b[36mModuleDrawer._repr_png_\u001b[39m\u001b[34m(self)\u001b[39m\n\u001b[32m    130\u001b[39m \u001b[38;5;28;01mdef\u001b[39;00m\u001b[38;5;250m \u001b[39m\u001b[34m_repr_png_\u001b[39m(\u001b[38;5;28mself\u001b[39m):\n\u001b[32m    131\u001b[39m     \u001b[38;5;66;03m# Fallback if the notebook prefers PNG\u001b[39;00m\n\u001b[32m--> \u001b[39m\u001b[32m132\u001b[39m     \u001b[38;5;28;01mreturn\u001b[39;00m \u001b[38;5;28;43mself\u001b[39;49m\u001b[43m.\u001b[49m\u001b[43mget_graph\u001b[49m\u001b[43m(\u001b[49m\u001b[43m)\u001b[49m.create(\u001b[38;5;28mformat\u001b[39m=\u001b[33m'\u001b[39m\u001b[33mpng\u001b[39m\u001b[33m'\u001b[39m)\n",
      "\u001b[36mFile \u001b[39m\u001b[32m~/workflow_tool/workflow/visualization_tools.py:376\u001b[39m, in \u001b[36mModuleDrawer.get_graph\u001b[39m\u001b[34m(self)\u001b[39m\n\u001b[32m    373\u001b[39m graph = \u001b[38;5;28mself\u001b[39m.add_dangles(graph, \u001b[38;5;28mself\u001b[39m._cnode.signature, RightDangle)\n\u001b[32m    375\u001b[39m \u001b[38;5;28;01mfor\u001b[39;00m cxn \u001b[38;5;129;01min\u001b[39;00m \u001b[38;5;28mself\u001b[39m._cnode.connections:\n\u001b[32m--> \u001b[39m\u001b[32m376\u001b[39m     graph = \u001b[38;5;28;43mself\u001b[39;49m\u001b[43m.\u001b[49m\u001b[43madd_cxn\u001b[49m\u001b[43m(\u001b[49m\u001b[43mgraph\u001b[49m\u001b[43m,\u001b[49m\u001b[43m \u001b[49m\u001b[43mcxn\u001b[49m\u001b[43m)\u001b[49m\n\u001b[32m    378\u001b[39m \u001b[38;5;28;01mreturn\u001b[39;00m graph\n",
      "\u001b[36mFile \u001b[39m\u001b[32m~/workflow_tool/workflow/visualization_tools.py:359\u001b[39m, in \u001b[36mModuleDrawer.add_cxn\u001b[39m\u001b[34m(self, graph, cxn)\u001b[39m\n\u001b[32m    356\u001b[39m \u001b[38;5;28;01melse\u001b[39;00m:\n\u001b[32m    357\u001b[39m     right = \u001b[33mf\u001b[39m\u001b[33m'\u001b[39m\u001b[38;5;132;01m{\u001b[39;00m\u001b[38;5;28mself\u001b[39m.ids[cxn.right.process_instance]\u001b[38;5;132;01m}\u001b[39;00m\u001b[33m:\u001b[39m\u001b[38;5;132;01m{\u001b[39;00m\u001b[38;5;28mself\u001b[39m.ids[cxn.right]\u001b[38;5;132;01m}\u001b[39;00m\u001b[33m:w\u001b[39m\u001b[33m'\u001b[39m\n\u001b[32m--> \u001b[39m\u001b[32m359\u001b[39m graph.add_edge(\u001b[38;5;28;43mself\u001b[39;49m\u001b[43m.\u001b[49m\u001b[43mcxn_edge\u001b[49m\u001b[43m(\u001b[49m\u001b[43mleft\u001b[49m\u001b[43m,\u001b[49m\u001b[43m \u001b[49m\u001b[43mright\u001b[49m\u001b[43m,\u001b[49m\u001b[43m \u001b[49m\u001b[43mcxn\u001b[49m\u001b[43m)\u001b[49m)\n\u001b[32m    360\u001b[39m \u001b[38;5;28;01mreturn\u001b[39;00m graph\n",
      "\u001b[36mFile \u001b[39m\u001b[32m~/workflow_tool/workflow/visualization_tools.py:335\u001b[39m, in \u001b[36mModuleDrawer.cxn_edge\u001b[39m\u001b[34m(self, left_id, right_id, cxn)\u001b[39m\n\u001b[32m    332\u001b[39m     cxn_label =\u001b[38;5;28mself\u001b[39m.cxn_label(cxn)\n\u001b[32m    333\u001b[39m \u001b[38;5;66;03m# print(cxn_label,self.label_type)\u001b[39;00m\n\u001b[32m    334\u001b[39m \u001b[38;5;66;03m# logger.debug(f\"cxn label: {cxn_label}, shape: {cxn.shape}\")\u001b[39;00m\n\u001b[32m--> \u001b[39m\u001b[32m335\u001b[39m \u001b[38;5;28;01massert\u001b[39;00m \u001b[43mcxn_label\u001b[49m \u001b[38;5;129;01mis\u001b[39;00m \u001b[38;5;129;01mnot\u001b[39;00m \u001b[38;5;28;01mNone\u001b[39;00m, \u001b[33mf\u001b[39m\u001b[33m\"\u001b[39m\u001b[33mcxn_label cannot be None for label_type=\u001b[39m\u001b[38;5;132;01m{\u001b[39;00m\u001b[38;5;28mself\u001b[39m.label_type\u001b[38;5;132;01m}\u001b[39;00m\u001b[33m. cxn label: \u001b[39m\u001b[38;5;132;01m{\u001b[39;00mcxn_label\u001b[38;5;132;01m}\u001b[39;00m\u001b[33m, shape: \u001b[39m\u001b[38;5;132;01m{\u001b[39;00mcxn.shape\u001b[38;5;132;01m}\u001b[39;00m\u001b[33m\"\u001b[39m\n\u001b[32m    336\u001b[39m \u001b[38;5;28;01mreturn\u001b[39;00m pydot.Edge(left_id, right_id, label=cxn_label)\n",
      "\u001b[31mUnboundLocalError\u001b[39m: cannot access local variable 'cxn_label' where it is not associated with a value"
     ]
    },
    {
     "data": {
      "text/plain": [
       "<workflow.visualization_tools.ModuleDrawer at 0x17d799690>"
      ]
     },
     "metadata": {},
     "output_type": "display_data"
    }
   ],
   "source": [
    "from workflow.simulation.refactor.dtypes import TensorType\n",
    "from workflow.simulation.refactor.builder import Split, Join\n",
    "builder = ProcessBuilder()\n",
    "atomic_reg = RegisterSpec(name=\"V\", dtype=TensorType((2,),element_type=CInt(2)), flow=Flow.LEFT)\n",
    "\n",
    "\n",
    "in_port = builder.add_register(atomic_reg)  # returns a single Port\n",
    "split_out= builder.add(Split(dtype=in_port.reg.dtype), arg=in_port)\n",
    "join_process = Join(dtype=atomic_reg.dtype)\n",
    "joined_out = builder.add(join_process, arg=split_out)\n",
    "composite_mod = builder.finalize(a_tensor=joined_out)\n",
    "print(composite_mod.debug_text())\n",
    "display_mod(composite_mod,type='dtype',show_bookkeeping=False)\n",
    "display_mod(composite_mod,type='shape',show_bookkeeping=False)\n"
   ]
  },
  {
   "cell_type": "code",
   "execution_count": null,
   "id": "829f84ee",
   "metadata": {},
   "outputs": [],
   "source": [
    "composite_mod.print_tabular()"
   ]
  },
  {
   "cell_type": "code",
   "execution_count": 5,
   "id": "ba92d6ae",
   "metadata": {},
   "outputs": [
    {
     "name": "stdout",
     "output_type": "stream",
     "text": [
      "InSpec(name=arg, dtype=CInt(4), shape=())\n"
     ]
    },
    {
     "data": {
      "image/png": "[encoded data removed]",
      "image/svg+xml": [
       "<?xml version=\"1.0\" encoding=\"UTF-8\" standalone=\"no\"?>\n",
       "<!DOCTYPE svg PUBLIC \"-//W3C//DTD SVG 1.1//EN\"\n",
       " \"http://www.w3.org/Graphics/SVG/1.1/DTD/svg11.dtd\">\n",
       "<!-- Generated by graphviz version 12.2.1 (20241206.2353)\n",
       " -->\n",
       "<!-- Title: my_graph Pages: 1 -->\n",
       "<svg width=\"274pt\" height=\"206pt\"\n",
       " viewBox=\"0.00 0.00 274.25 206.00\" xmlns=\"http://www.w3.org/2000/svg\" xmlns:xlink=\"http://www.w3.org/1999/xlink\">\n",
       "<g id=\"graph0\" class=\"graph\" transform=\"scale(1 1) rotate(0) translate(4 202)\">\n",
       "<title>my_graph</title>\n",
       "<polygon fill=\"white\" stroke=\"none\" points=\"-4,4 -4,-202 270.25,-202 270.25,4 -4,4\"/>\n",
       "<!-- arg_G2 -->\n",
       "<g id=\"node1\" class=\"node\">\n",
       "<title>arg_G2</title>\n",
       "<text text-anchor=\"middle\" x=\"27\" y=\"-93.95\" font-family=\"Times,serif\" font-size=\"14.00\">arg</text>\n",
       "</g>\n",
       "<!-- Split -->\n",
       "<g id=\"node2\" class=\"node\">\n",
       "<title>Split</title>\n",
       "<polygon fill=\"none\" stroke=\"black\" points=\"129.75,-111 129.75,-117 141.75,-117 141.75,-111 129.75,-111\"/>\n",
       "<polygon fill=\"none\" stroke=\"black\" points=\"129.75,-87 129.75,-111 135.75,-111 135.75,-87 129.75,-87\"/>\n",
       "<polygon fill=\"none\" stroke=\"black\" points=\"135.75,-105 135.75,-111 141.75,-111 141.75,-105 135.75,-105\"/>\n",
       "<polygon fill=\"none\" stroke=\"black\" points=\"135.75,-99 135.75,-105 141.75,-105 141.75,-99 135.75,-99\"/>\n",
       "<polygon fill=\"none\" stroke=\"black\" points=\"135.75,-93 135.75,-99 141.75,-99 141.75,-93 135.75,-93\"/>\n",
       "<polygon fill=\"none\" stroke=\"black\" points=\"135.75,-87 135.75,-93 141.75,-93 141.75,-87 135.75,-87\"/>\n",
       "</g>\n",
       "<!-- arg_G2&#45;&gt;Split -->\n",
       "<g id=\"edge1\" class=\"edge\">\n",
       "<title>arg_G2:e&#45;&gt;Split:w</title>\n",
       "<path fill=\"none\" stroke=\"black\" d=\"M54,-99C83.59,-99 93.67,-99 118.54,-99\"/>\n",
       "<polygon fill=\"black\" stroke=\"black\" points=\"118.24,-102.5 128.24,-99 118.24,-95.5 118.24,-102.5\"/>\n",
       "<text text-anchor=\"middle\" x=\"91.88\" y=\"-102.2\" font-family=\"Times,serif\" font-size=\"14.00\">CInt(4)</text>\n",
       "</g>\n",
       "<!-- arg_G8 -->\n",
       "<g id=\"node3\" class=\"node\">\n",
       "<title>arg_G8</title>\n",
       "<text text-anchor=\"middle\" x=\"239.25\" y=\"-174.95\" font-family=\"Times,serif\" font-size=\"14.00\">arg[0]</text>\n",
       "</g>\n",
       "<!-- Split&#45;&gt;arg_G8 -->\n",
       "<g id=\"edge2\" class=\"edge\">\n",
       "<title>Split:e&#45;&gt;arg_G8:w</title>\n",
       "<path fill=\"none\" stroke=\"black\" d=\"M141.75,-108C159.64,-108 148,-130.51 159.75,-144 175.58,-162.17 182,-175.5 201.03,-179.06\"/>\n",
       "<polygon fill=\"black\" stroke=\"black\" points=\"200.48,-182.52 210.74,-179.87 201.07,-175.55 200.48,-182.52\"/>\n",
       "<text text-anchor=\"middle\" x=\"177\" y=\"-180.37\" font-family=\"Times,serif\" font-size=\"14.00\">CBit()</text>\n",
       "</g>\n",
       "<!-- arg_G6 -->\n",
       "<g id=\"node4\" class=\"node\">\n",
       "<title>arg_G6</title>\n",
       "<text text-anchor=\"middle\" x=\"239.25\" y=\"-120.95\" font-family=\"Times,serif\" font-size=\"14.00\">arg[1]</text>\n",
       "</g>\n",
       "<!-- Split&#45;&gt;arg_G6 -->\n",
       "<g id=\"edge3\" class=\"edge\">\n",
       "<title>Split:e&#45;&gt;arg_G6:w</title>\n",
       "<path fill=\"none\" stroke=\"black\" d=\"M141.75,-102C170.71,-102 177.63,-120.38 201.08,-124.97\"/>\n",
       "<polygon fill=\"black\" stroke=\"black\" points=\"200.46,-128.43 210.74,-125.86 201.11,-121.46 200.46,-128.43\"/>\n",
       "<text text-anchor=\"middle\" x=\"177\" y=\"-126.23\" font-family=\"Times,serif\" font-size=\"14.00\">CBit()</text>\n",
       "</g>\n",
       "<!-- arg_G0 -->\n",
       "<g id=\"node5\" class=\"node\">\n",
       "<title>arg_G0</title>\n",
       "<text text-anchor=\"middle\" x=\"239.25\" y=\"-66.95\" font-family=\"Times,serif\" font-size=\"14.00\">arg[2]</text>\n",
       "</g>\n",
       "<!-- Split&#45;&gt;arg_G0 -->\n",
       "<g id=\"edge4\" class=\"edge\">\n",
       "<title>Split:e&#45;&gt;arg_G0:w</title>\n",
       "<path fill=\"none\" stroke=\"black\" d=\"M141.75,-96C151.24,-96 151.01,-88.21 159.75,-84.5 177.86,-76.82 185.45,-73.33 200.83,-72.32\"/>\n",
       "<polygon fill=\"black\" stroke=\"black\" points=\"200.84,-75.82 210.74,-72.04 200.64,-68.83 200.84,-75.82\"/>\n",
       "<text text-anchor=\"middle\" x=\"177\" y=\"-87.7\" font-family=\"Times,serif\" font-size=\"14.00\">CBit()</text>\n",
       "</g>\n",
       "<!-- arg_G5 -->\n",
       "<g id=\"node6\" class=\"node\">\n",
       "<title>arg_G5</title>\n",
       "<text text-anchor=\"middle\" x=\"239.25\" y=\"-12.95\" font-family=\"Times,serif\" font-size=\"14.00\">arg[3]</text>\n",
       "</g>\n",
       "<!-- Split&#45;&gt;arg_G5 -->\n",
       "<g id=\"edge5\" class=\"edge\">\n",
       "<title>Split:e&#45;&gt;arg_G5:w</title>\n",
       "<path fill=\"none\" stroke=\"black\" d=\"M141.75,-90C160.24,-90 147.58,-66.42 159.75,-52.5 175.33,-34.68 182.16,-22.28 200.88,-18.92\"/>\n",
       "<polygon fill=\"black\" stroke=\"black\" points=\"201.06,-22.42 210.74,-18.12 200.49,-15.44 201.06,-22.42\"/>\n",
       "<text text-anchor=\"middle\" x=\"177\" y=\"-55.7\" font-family=\"Times,serif\" font-size=\"14.00\">CBit()</text>\n",
       "</g>\n",
       "</g>\n",
       "</svg>\n"
      ],
      "text/plain": [
       "<workflow.visualization_tools.ModuleDrawer at 0x16c23af50>"
      ]
     },
     "execution_count": 5,
     "metadata": {},
     "output_type": "execute_result"
    }
   ],
   "source": [
    "from workflow.simulation.refactor.builder import Split, Join\n",
    "from workflow.simulation.refactor.dtypes import TensorType, CInt\n",
    "split = Split(CInt(4)).as_composite()\n",
    "drawer = ModuleDrawer(split, show_bookkeeping=False)\n",
    "drawer\n"
   ]
  },
  {
   "cell_type": "code",
   "execution_count": null,
   "id": "67f7bb94",
   "metadata": {},
   "outputs": [],
   "source": [
    "\n",
    "builder = ProcessBuilder()\n",
    "atomic_reg = RegisterSpec(name=\"a_tensor\", dtype=TensorType((2,),element_type=int), flow=Flow.LEFT)"
   ]
  }
 ],
 "metadata": {
  "kernelspec": {
   "display_name": "torch_env",
   "language": "python",
   "name": "python3"
  },
  "language_info": {
   "codemirror_mode": {
    "name": "ipython",
    "version": 3
   },
   "file_extension": ".py",
   "mimetype": "text/x-python",
   "name": "python",
   "nbconvert_exporter": "python",
   "pygments_lexer": "ipython3",
   "version": "3.11.11"
  }
 },
 "nbformat": 4,
 "nbformat_minor": 5
}
