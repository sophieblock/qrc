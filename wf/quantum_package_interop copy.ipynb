{
 "cells": [
  {
   "cell_type": "code",
   "execution_count": 1,
   "id": "1bb07c03",
   "metadata": {},
   "outputs": [],
   "source": [
    "import sys\n",
    "import os\n",
    "import copy\n",
    "current_dir = os.getcwd()\n",
    "sys.path.append(current_dir[:-9])\n"
   ]
  },
  {
   "cell_type": "markdown",
   "id": "a89ebea5",
   "metadata": {},
   "source": [
    "<!-- <style>\n",
    "  table {\n",
    "    table-layout: fixed;\n",
    "    width: 100%;\n",
    "  }\n",
    "  th:nth-child(6), td:nth-child(6) {\n",
    "    width: 300px;          /* columns 1–5 auto, column 6 fixed */\n",
    "  }\n",
    "  td, th {\n",
    "    overflow-wrap: break-word;\n",
    "  }\n",
    "</style> -->"
   ]
  },
  {
   "cell_type": "code",
   "execution_count": 2,
   "id": "321f5e12",
   "metadata": {},
   "outputs": [],
   "source": [
    "import importlib\n",
    "\n",
    "# 1) Tell the helper that we really want console logs\n",
    "os.environ[\"LOG_TO_CONSOLE\"] = \"false\""
   ]
  },
  {
   "cell_type": "code",
   "execution_count": 3,
   "id": "a42f54d6",
   "metadata": {},
   "outputs": [
    {
     "name": "stdout",
     "output_type": "stream",
     "text": [
      "input depth: 2\n",
      "1.2.4 level-0 depth: 25\n",
      "2.0.0 level-0 depth: 7\n"
     ]
    }
   ],
   "source": [
    "from qiskit import QuantumCircuit, transpile\n",
    "\n",
    "# simple test: one CX followed by a SWAP\n",
    "qc = QuantumCircuit(3)\n",
    "qc.cx(0,1)\n",
    "qc.swap(0,2)\n",
    "\n",
    "print(\"input depth:\", qc.depth())\n",
    "\n",
    "# Qiskit 1.2.4, level 0  ➜ physical SWAP kept\n",
    "out12 = transpile(qc, basis_gates=['cx','rz','sx'], coupling_map=[[0,1],[1,2]], optimization_level=0)\n",
    "print(\"1.2.4 level-0 depth:\", out12.depth())   # > input depth\n",
    "\n",
    "# Qiskit 2.0.0, level 0  ➜ SWAP absorbed, depth equal to CX decomposition\n",
    "out20 = transpile(qc, basis_gates=['cx','rz','sx'], coupling_map=[[0,1],[1,2]], optimization_level=2)\n",
    "print(\"2.0.0 level-0 depth:\", out20.depth())   # smaller, SWAP gone\n"
   ]
  },
  {
   "cell_type": "markdown",
   "id": "7472588d",
   "metadata": {},
   "source": [
    "## 5 Where (and how) `qiskit.transpile` is called in our pipeline  \n",
    "  \n",
    "There are **two distinct invocations** of Qiskit’s transpiler:\n",
    "\n",
    "| call-site | purpose | `coupling_map` | optimisation level etc. |\n",
    "|-----------|---------|----------------|-------------------------|\n",
    "| **(A)** `QiskitCompiler.__init__ → _calibrate_swap` | learn depth of a 2-qubit SWAP in the *native* basis | **None** (no device constraints yet) | taken from the compiler constructor |\n",
    "| **(B)** `QuantumDevice.allocate → compiler.transpile` | convert the *logical* circuit to native basis **and** to the device’s topology | **device.connectivity** | same compiler instance ⇒ same optimisation level / passes |\n",
    "\n",
    "Because (A) runs **without** a coupling-map, its depth is a **lower\n",
    "bound**; if later (B) finds the same SWAP takes more depth on a real\n",
    "device, `_calibrate_swap` is run again and `swap_duration` is updated."
   ]
  },
  {
   "cell_type": "markdown",
   "id": "7f07d610",
   "metadata": {},
   "source": []
  },
  {
   "cell_type": "code",
   "execution_count": 12,
   "id": "8f625fe4",
   "metadata": {},
   "outputs": [
    {
     "name": "stdout",
     "output_type": "stream",
     "text": [
      "Fast SWAP depth  : 6\n",
      "Light SWAP depth  : 3\n",
      "Heavy SWAP depth : 0\n"
     ]
    }
   ],
   "source": [
    "import networkx as nx\n",
    "from qiskit.transpiler import CouplingMap\n",
    "from qiskit import QuantumCircuit\n",
    "from pathlib import Path\n",
    "\n",
    "# ---- helpers from your repo (assume these are import-able) --------------\n",
    "from qrew.simulation.refactor.resources.quantum_resources import QuantumDevice\n",
    "from qrew.simulation.refactor.q_interop.transpilers import QiskitCompiler\n",
    "from qrew.simulation.refactor.quantum import QuantumCircuit as MyCircuit\n",
    "from qrew.simulation.refactor.quantum import QuantumInstruction, CX, SWAP\n",
    "# -------------------------------------------------------------------------\n",
    "\n",
    "# simple 3-line topology  0—1—2\n",
    "def line_graph(n=3):\n",
    "    g = nx.Graph()\n",
    "    g.add_nodes_from(range(n))\n",
    "    g.add_edges_from([(i, i+1) for i in range(n-1)])\n",
    "    return g\n",
    "\n",
    "# we'll build two compilers: fast (opt-0) vs heavy (opt-2)\n",
    "fast_compiler  = QiskitCompiler(basis_gates=(\"ECR\",\"RZ\",\"SX\",\"X\"),\n",
    "                                optimization_level=0)\n",
    "light_compiler = QiskitCompiler(basis_gates=(\"ECR\",\"I\",\"RZ\",\"SX\",\"X\",\"CX\"),\n",
    "                                optimization_level=1)\n",
    "heavy_compiler = QiskitCompiler(basis_gates=(\"ECR\",\"RZ\",\"SX\",\"X\"),\n",
    "                                optimization_level=2)\n",
    "best_compiler = QiskitCompiler(basis_gates=(\"ECR\",\"RZ\",\"SX\",\"X\"),\n",
    "                                optimization_level=3)\n",
    "\n",
    "fast_dev  = QuantumDevice(\"Line-fast\",  line_graph(), compiler=fast_compiler)\n",
    "light_dev = QuantumDevice(\"Line-light\", line_graph(), compiler=light_compiler)\n",
    "heavy_dev = QuantumDevice(\"Line-heavy\", line_graph(), compiler=heavy_compiler)\n",
    "best_dev = QuantumDevice(\"Line-best\", line_graph(), compiler=best_compiler)\n",
    "print(\"Fast SWAP depth  :\", fast_dev.swap_duration)\n",
    "print(\"Light SWAP depth  :\", light_dev.swap_duration)\n",
    "print(\"Heavy SWAP depth :\", heavy_dev.swap_duration)\n"
   ]
  },
  {
   "cell_type": "markdown",
   "id": "ec37762c",
   "metadata": {},
   "source": [
    "* The constructor of each `QiskitCompiler` ran a **calibration\n",
    "  transpile** of a 2-qubit SWAP.  \n",
    "  *It used `optimization_level` 0 / 2 but **no** coupling map.*\n",
    "* On a basis of `{ECR,RZ,SX,X}` the lower-bound depths are  \n",
    "  typically 1 for opt-0 vs 3+ for opt-2 (depends on the basis)."
   ]
  },
  {
   "cell_type": "markdown",
   "id": "eabd6a6b",
   "metadata": {},
   "source": [
    "### Allocate a logical circuit on both devices"
   ]
  },
  {
   "cell_type": "code",
   "execution_count": 11,
   "id": "e1c173e5",
   "metadata": {},
   "outputs": [
    {
     "name": "stdout",
     "output_type": "stream",
     "text": [
      "job LS config: {'transition based': True, 'epsilon': 0.3, 'objective': 'depth', 'hard_island': False}\n",
      "Attempting maximal depth 1...\n",
      "Attempting maximal depth 1...\n",
      "Attempting maximal depth 1...\n",
      "\n",
      "— Fast compiler result —\n",
      "<QuantumCircuit 3 qubits, 70 instructions (ECR:8, RZ:40, SX:20, X:2), depth=40>\n",
      "\n",
      "— Heavy compiler result —\n",
      "<QuantumCircuit 3 qubits, 20 instructions (ECR:2, RZ:11, SX:6, X:1), depth=13>\n",
      "\n",
      "— Best compiler result —\n",
      "<QuantumCircuit 3 qubits, 20 instructions (ECR:2, RZ:11, SX:6, X:1), depth=13>\n"
     ]
    }
   ],
   "source": [
    "# our logical circuit:  CX – SWAP – CX  on logical qubits 0,1,2\n",
    "log_circ = MyCircuit(qubit_count=3)\n",
    "log_circ.add_instruction(QuantumInstruction(CX(),   (0,1)))\n",
    "log_circ.add_instruction(QuantumInstruction(SWAP(), (0,2)))\n",
    "log_circ.add_instruction(QuantumInstruction(CX(),   (0,1)))\n",
    "\n",
    "from qrew.simulation.refactor.resources.quantum_resources import QuantumResource\n",
    "job = QuantumResource(log_circ)\n",
    "print(f\"job LS config: {job.LS_parameters}\")\n",
    "alloc_fast  = fast_dev.allocate(job)\n",
    "alloc_heavy = heavy_dev.allocate(job)\n",
    "alloc_best= best_dev.allocate(job)\n",
    "\n",
    "print(\"\\n— Fast compiler result —\")\n",
    "print(alloc_fast.transpiled_circuit)\n",
    "print(\"\\n— Heavy compiler result —\")\n",
    "print(alloc_heavy.transpiled_circuit)\n",
    "print(\"\\n— Best compiler result —\")\n",
    "print(alloc_best.transpiled_circuit)"
   ]
  },
  {
   "cell_type": "markdown",
   "id": "1e84ea86",
   "metadata": {},
   "source": []
  },
  {
   "cell_type": "markdown",
   "id": "2aabbfe1",
   "metadata": {},
   "source": []
  },
  {
   "cell_type": "markdown",
   "id": "1df8eeea",
   "metadata": {},
   "source": []
  },
  {
   "cell_type": "code",
   "execution_count": 1,
   "id": "33049236",
   "metadata": {},
   "outputs": [
    {
     "ename": "NameError",
     "evalue": "name 'make_line_device' is not defined",
     "output_type": "error",
     "traceback": [
      "\u001b[31m---------------------------------------------------------------------------\u001b[39m",
      "\u001b[31mNameError\u001b[39m                                 Traceback (most recent call last)",
      "\u001b[36mCell\u001b[39m\u001b[36m \u001b[39m\u001b[32mIn[1]\u001b[39m\u001b[32m, line 34\u001b[39m\n\u001b[32m     32\u001b[39m     \u001b[38;5;28;01mfor\u001b[39;00m tb \u001b[38;5;129;01min\u001b[39;00m (\u001b[38;5;28;01mFalse\u001b[39;00m, \u001b[38;5;28;01mTrue\u001b[39;00m):\n\u001b[32m     33\u001b[39m         \u001b[38;5;28;01mfor\u001b[39;00m hi \u001b[38;5;129;01min\u001b[39;00m (\u001b[38;5;28;01mFalse\u001b[39;00m, \u001b[38;5;28;01mTrue\u001b[39;00m):\n\u001b[32m---> \u001b[39m\u001b[32m34\u001b[39m             cases.append(\u001b[43mrun_ls_case\u001b[49m\u001b[43m(\u001b[49m\u001b[43mopt_level\u001b[49m\u001b[43m=\u001b[49m\u001b[43mlvl\u001b[49m\u001b[43m,\u001b[49m\n\u001b[32m     35\u001b[39m \u001b[43m                                     \u001b[49m\u001b[43mtransition_based\u001b[49m\u001b[43m=\u001b[49m\u001b[43mtb\u001b[49m\u001b[43m,\u001b[49m\n\u001b[32m     36\u001b[39m \u001b[43m                                     \u001b[49m\u001b[43mhard_island\u001b[49m\u001b[43m=\u001b[49m\u001b[43mhi\u001b[49m\u001b[43m)\u001b[49m)\n\u001b[32m     38\u001b[39m \u001b[38;5;28mprint\u001b[39m(\u001b[33m\"\u001b[39m\u001b[33mπ/σ search results:\u001b[39m\u001b[33m\"\u001b[39m)\n\u001b[32m     39\u001b[39m \u001b[38;5;28;01mfor\u001b[39;00m line \u001b[38;5;129;01min\u001b[39;00m cases:\n",
      "\u001b[36mCell\u001b[39m\u001b[36m \u001b[39m\u001b[32mIn[1]\u001b[39m\u001b[32m, line 3\u001b[39m, in \u001b[36mrun_ls_case\u001b[39m\u001b[34m(opt_level, transition_based, hard_island)\u001b[39m\n\u001b[32m      2\u001b[39m \u001b[38;5;28;01mdef\u001b[39;00m\u001b[38;5;250m \u001b[39m\u001b[34mrun_ls_case\u001b[39m(*, opt_level, transition_based, hard_island):\n\u001b[32m----> \u001b[39m\u001b[32m3\u001b[39m     dev = \u001b[43mmake_line_device\u001b[49m(opt_level=opt_level)\n\u001b[32m      4\u001b[39m     res, init_map, fin_map, depth, extra = dev.layout_synthesis(\n\u001b[32m      5\u001b[39m         logical,\n\u001b[32m      6\u001b[39m         transition_based=transition_based,\n\u001b[32m      7\u001b[39m         hard_island=hard_island,\n\u001b[32m      8\u001b[39m         objective=\u001b[33m\"\u001b[39m\u001b[33mdepth\u001b[39m\u001b[33m\"\u001b[39m,\n\u001b[32m      9\u001b[39m     )\n\u001b[32m     10\u001b[39m     \u001b[38;5;28;01mreturn\u001b[39;00m \u001b[38;5;28mdict\u001b[39m(\n\u001b[32m     11\u001b[39m         opt_level       = opt_level,\n\u001b[32m     12\u001b[39m         transition_based= transition_based,\n\u001b[32m   (...)\u001b[39m\u001b[32m     18\u001b[39m         fin_map         = fin_map,\n\u001b[32m     19\u001b[39m     )\n",
      "\u001b[31mNameError\u001b[39m: name 'make_line_device' is not defined"
     ]
    }
   ],
   "source": [
    "# ------------- TEST UTILITIES ------------------------------------------------\n",
    "def run_ls_case(*, opt_level, transition_based, hard_island):\n",
    "    dev = make_line_device(opt_level=opt_level)\n",
    "    res, init_map, fin_map, depth, extra = dev.layout_synthesis(\n",
    "        logical,\n",
    "        transition_based=transition_based,\n",
    "        hard_island=hard_island,\n",
    "        objective=\"depth\",\n",
    "    )\n",
    "    return dict(\n",
    "        opt_level       = opt_level,\n",
    "        transition_based= transition_based,\n",
    "        hard_island     = hard_island,\n",
    "        swap_duration   = dev.swap_duration,\n",
    "        depth           = depth,\n",
    "        swaps           = extra[\"swaps\"],\n",
    "        init_map        = init_map,\n",
    "        fin_map         = fin_map,\n",
    "    )\n",
    "\n",
    "def pretty(line: dict):\n",
    "    tb = \"TB\" if line[\"transition_based\"] else \"DP\"   # transition-based / depth-prop\n",
    "    hi = \"HI\" if line[\"hard_island\"]      else \"--\"\n",
    "    swaps = line[\"swaps\"] or \"∅\"\n",
    "    return (f\"O{line['opt_level']}  {tb},{hi} │ \"\n",
    "            f\"π₀{line['init_map']} → π_f{line['fin_map']} │ \"\n",
    "            f\"σ={swaps} │ depth={line['depth']} (σ-cost={line['swap_duration']})\")\n",
    "\n",
    "# ------------- RUN  4×3  = 12 cases ------------------------------------------\n",
    "cases = []\n",
    "for lvl in (0,1,2):\n",
    "    for tb in (False, True):\n",
    "        for hi in (False, True):\n",
    "            cases.append(run_ls_case(opt_level=lvl,\n",
    "                                     transition_based=tb,\n",
    "                                     hard_island=hi))\n",
    "\n",
    "print(\"π/σ search results:\")\n",
    "for line in cases:\n",
    "    print(pretty(line))"
   ]
  },
  {
   "cell_type": "markdown",
   "id": "2cd5606d",
   "metadata": {},
   "source": [
    "| device | compiler opt-level | depth after `allocate` | SWAPs inserted | notes |\n",
    "|--------|-------------------|------------------------|----------------|-------|\n",
    "| Line-fast  | 0 | (likely ~26) | 1 physical swap (encoded as σ≠0) | router uses `swap_duration` learned at opt-0 calibration |\n",
    "| Line-heavy | 2 | (smaller, ~13) | **0** | higher-level passes merged gates and the solver found a “free” permutation |\n",
    "\n",
    "* Because **both** calibration and allocation used `optimization_level=0`\n",
    "  in the “fast” compiler, the router assumed a SWAP cost of 1 and happily\n",
    "  emitted one σ-edge.  \n",
    "* In the “heavy” compiler the larger calibrated `swap_duration`\n",
    "  discouraged physical swaps, so the solver found a permutation that\n",
    "  needs none."
   ]
  },
  {
   "cell_type": "code",
   "execution_count": null,
   "id": "2fa0ee22",
   "metadata": {},
   "outputs": [],
   "source": []
  },
  {
   "cell_type": "markdown",
   "id": "257148fc",
   "metadata": {},
   "source": [
    "## Take away\n",
    "* **If you want different pass-sets for calibration vs real circuits, you\n",
    "  need two compiler instances** (or expose those options separately).  \n",
    "  For example, keep calibration at opt-0 to learn a *lower* bound, while\n",
    "  letting user circuits compile at opt-2.\n",
    "* `LayoutSynthesizer` already adapts:  \n",
    "  * `swap_duration` is read from the `QuantumDevice` → affects\n",
    "    `constraint_no_SWAP_before_swap_duration`.  \n",
    "  * A larger `swap_duration` makes σ-solutions more expensive, so the SMT\n",
    "    solver prefers *virtual* permutations (free case).  \n",
    "  * If optimisation level is low and the calibrated SWAP is cheap,\n",
    "    σ-solutions become acceptable, reproducing the “frozen” cost."
   ]
  },
  {
   "cell_type": "markdown",
   "id": "5109933a",
   "metadata": {},
   "source": []
  }
 ],
 "metadata": {
  "kernelspec": {
   "display_name": "torch_env",
   "language": "python",
   "name": "python3"
  },
  "language_info": {
   "codemirror_mode": {
    "name": "ipython",
    "version": 3
   },
   "file_extension": ".py",
   "mimetype": "text/x-python",
   "name": "python",
   "nbconvert_exporter": "python",
   "pygments_lexer": "ipython3",
   "version": "3.11.11"
  }
 },
 "nbformat": 4,
 "nbformat_minor": 5
}
