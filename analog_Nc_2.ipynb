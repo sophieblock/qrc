{
 "cells": [
  {
   "cell_type": "code",
   "execution_count": 1,
   "metadata": {},
   "outputs": [],
   "source": [
    "import pickle\n",
    "from pathlib import Path\n",
    "import numpy as np\n",
    "import statistics\n",
    "import numpy as np\n",
    "import sympy\n",
    "import matplotlib.pyplot as plt\n",
    "import base64\n",
    "import pickle\n",
    "from sympy import symbols, MatrixSymbol, lambdify, Matrix, pprint\n",
    "\n",
    "from scipy.optimize import minimize\n",
    "from matplotlib.ticker import FuncFormatter\n",
    "from sympy import symbols, MatrixSymbol, lambdify\n",
    "from matplotlib import cm\n",
    "import random\n",
    "import matplotlib.colors as mcolors\n",
    "import scipy\n",
    "import time\n",
    "from pathlib import Path\n",
    "import os\n",
    "import ast\n",
    "import pandas as pd\n",
    "from pathlib import Path\n",
    "from matplotlib.ticker import ScalarFormatter\n",
    "\n",
    "\n",
    "import pennylane as qml\n",
    "from functools import partial\n",
    "from qiskit.circuit.library import *\n",
    "from qiskit import *\n",
    "from qiskit.quantum_info import *\n",
    "import pickle\n",
    "from pathlib import Path\n",
    "import numpy as np\n",
    "import statistics\n",
    "from pennylane.wires import Wires\n",
    "import matplotlib.cm as cm\n",
    "import base64\n",
    "from qiskit import *\n",
    "from qiskit.quantum_info import *\n",
    "import math"
   ]
  },
  {
   "cell_type": "code",
   "execution_count": 2,
   "metadata": {},
   "outputs": [],
   "source": [
    "from ANALYSIS_SPECIFIC_CONFIG import is_valid_pickle_file,spread_per_sample_vectorized,spread_pooling_vectorized, load_and_clean_pickle, extract_Nr, extract_trotter_step\n",
    "\n",
    "def compute_single_draw_stats(\n",
    "    eigvals,\n",
    "    full_qfim_mat,\n",
    "    threshold=1e-10,\n",
    "    spread_methods=(\"variance\", \"mad\"),\n",
    "    ddof=1,\n",
    "    scale=\"normal\",\n",
    "    gamma=1.0,\n",
    "    n=1,\n",
    "    V_theta=1.0,\n",
    "    n_ctrl=None,\n",
    "    n_reserv=None,\n",
    "    trotter_step=None,\n",
    "):\n",
    "    \"\"\"\n",
    "    Compute QFIM (or DQFIM) statistics for a SINGLE set of eigenvalues (one draw),\n",
    "    and also compute an effective dimension from the provided full QFIM matrix.\n",
    "    \n",
    "    Returned dictionary includes:\n",
    "      - \"draw_rank\"\n",
    "      - \"var_all_eigenvalues\"\n",
    "      - \"var_nonzero_eigenvalues\"\n",
    "      - \"trace_eigenvalues\"\n",
    "      - \"var_all_normalized_by_param_count\"\n",
    "      - \"trace_normalized_by_rank\"\n",
    "      - \"var_nonzero_log\"\n",
    "      - \"trace_normalized_by_param_count\"\n",
    "      - \"ipr_deff_raw\"        (raw IPR measure)\n",
    "      - \"ipr_deff_norm\"       (IPR computed on trace-normalized eigenvalues)\n",
    "      - \"abbas_deff_raw\"      (sum(log(1 + alpha*λ)) on raw eigenvalues)\n",
    "      - \"abbas_deff_norm\"     (sum(log(1 + alpha*λ)) on trace-normalized eigenvalues)\n",
    "      - \"effective_dimension\" (computed from the trace-normalized full QFIM)\n",
    "      - \"spread_metric_{method}\" for each method in spread_methods.\n",
    "    \n",
    "    Parameters\n",
    "    ----------\n",
    "    eigvals : array-like\n",
    "        Eigenvalues for this single QFIM (or DQFIM) draw.\n",
    "    full_qfim_mat : array-like (2D)\n",
    "        The full QFIM matrix for this draw.\n",
    "    threshold : float\n",
    "        Zero out eigenvalues below this threshold.\n",
    "    spread_methods : tuple of str\n",
    "        Methods for \"spread-of-log\" metrics.\n",
    "    ddof : int\n",
    "        Degrees of freedom for variance computations.\n",
    "    scale : str\n",
    "        Scale indicator for spread metrics.\n",
    "    gamma : float\n",
    "        Scaling parameter in the Abbas formula (typically in (0,1]).\n",
    "    n : int\n",
    "        Number of data samples used in the Abbas formula.\n",
    "    V_theta : float\n",
    "        Volume factor (typically 1.0).\n",
    "    n_ctrl, n_reserv, trotter_step : optional\n",
    "        Additional metadata.\n",
    "    \n",
    "    Returns\n",
    "    -------\n",
    "    stats_dict : dict\n",
    "        Dictionary of computed statistics.\n",
    "    \"\"\"\n",
    "    # Ensure eigvals is a 1D NumPy array.\n",
    "    arr = np.array(eigvals, dtype=float)\n",
    "    if arr.ndim != 1:\n",
    "        arr = arr.flatten()\n",
    "    # Zero out small eigenvalues.\n",
    "    arr = np.where(arr < threshold, 0.0, arr)\n",
    "    \n",
    "    # --- 1) Basic stats ---\n",
    "    draw_rank = np.count_nonzero(arr)\n",
    "    var_all_eigenvalues = np.var(arr, ddof=ddof)\n",
    "    # Variance on nonzero values using Boolean indexing.\n",
    "    nonzero = arr[arr > threshold]\n",
    "    var_nonzero_eigenvalues = np.var(nonzero, ddof=ddof) if nonzero.size > 1 else 0.0\n",
    "    var_nonzero_log = np.log(var_nonzero_eigenvalues) if var_nonzero_eigenvalues > 0 else -np.inf\n",
    "    trace_eigenvalues = np.sum(arr)\n",
    "    min_nonzero_eigenvalue = np.min(nonzero) \n",
    "    \n",
    "    var_normalized_by_param_count = var_all_eigenvalues / len(arr)\n",
    "    var_nonzero_normalized_by_rank = var_nonzero_eigenvalues / draw_rank\n",
    "    var_normalized_by_rank = var_all_eigenvalues / draw_rank\n",
    "    trace_normalized_by_rank = (trace_eigenvalues / draw_rank) if draw_rank > 0 else 0.0\n",
    "    trace_normalized_by_param_count = trace_eigenvalues / len(arr)\n",
    "    \n",
    "    # --- 2) IPR-based dimensions ---\n",
    "    # Raw IPR: (trace^2) / (sum of squares)\n",
    "    sum_of_squares = np.sum(arr**2)\n",
    "    ipr_deff_raw = (trace_eigenvalues**2) / sum_of_squares if sum_of_squares > 0 else 0.0\n",
    "    \n",
    "    # Normalized IPR: using normalized eigenvalues (p = λ/trace)\n",
    "    if trace_eigenvalues > 0:\n",
    "        arr_norm = arr / trace_eigenvalues\n",
    "        sum_norm_sq = np.sum(arr_norm**2)\n",
    "        ipr_deff_norm = 1.0 / sum_norm_sq if sum_norm_sq > 0 else 0.0\n",
    "    else:\n",
    "        arr_norm = None\n",
    "        ipr_deff_norm = 0.0\n",
    "    \n",
    "    # --- 3) Abbas-based dimensions ---\n",
    "    # Compute alpha = (gamma * n) / (2*log(n)) if n>1, else use limit.\n",
    "    if n > 1 and math.log(n) != 0.0:\n",
    "        alpha = (gamma * n) / (2.0 * math.log(n))\n",
    "    else:\n",
    "        alpha = 0.0\n",
    "    # Raw Abbas: computed on original eigenvalues.\n",
    "    abbas_deff_raw = np.sum(np.log(np.maximum(1.0 + alpha * arr, 1e-15)))\n",
    "    # Normalized Abbas: computed on trace-normalized eigenvalues.\n",
    "    if arr_norm is not None:\n",
    "        abbas_deff_norm = np.sum(np.log(np.maximum(1.0 + alpha * arr_norm, 1e-15)))\n",
    "    else:\n",
    "        abbas_deff_norm = 0.0\n",
    "    \n",
    "    # --- 4) Effective dimension from the full QFIM ---\n",
    "    # Normalize the full QFIM by its trace BEFORE diagonalizing.\n",
    "    F = np.array(full_qfim_mat, dtype=complex)\n",
    "    trF = np.trace(F)\n",
    "    if trF > 0:\n",
    "        F_hat = F / trF\n",
    "        eigs_F = np.linalg.eigvalsh(F_hat)  # Eigenvalues of the normalized full QFIM.\n",
    "        eps = 1e-12\n",
    "        # Here, effective dimension is computed from the normalized spectrum p_i.\n",
    "        # If n > 1, use the standard formula; if n == 1, use the limit:\n",
    "        if n > 1 and math.log(n) != 0.0:\n",
    "            z = 0.5 * np.sum(np.log(1.0 + n * eigs_F + eps))\n",
    "            effective_dimension = (2.0 / np.log(n)) * z\n",
    "        else:\n",
    "            # For n == 1, define effective dimension as the sum_i p_i/(1+p_i)\n",
    "            effective_dimension = np.sum(eigs_F / (1.0 + eigs_F))\n",
    "    else:\n",
    "        effective_dimension = 0.0\n",
    "    \n",
    "    # --- 5) Spread-of-log metrics ---\n",
    "    # Reshape arr into a 1-row 2D array for external functions.\n",
    "    arr_2d = arr.reshape(1, -1)\n",
    "    spread_metrics = {}\n",
    "    for method in spread_methods:\n",
    "        per_draw = spread_per_sample_vectorized(arr_2d, method=method, threshold=threshold, ddof=ddof, scale=scale)\n",
    "        spread_metrics[f\"spread_metric_{method}\"] = per_draw[0] if per_draw.size > 0 else 0.0\n",
    "    \n",
    "    # --- 6) Build final dictionary ---\n",
    "    stats_dict = {\n",
    "        # Basic stats\n",
    "        \"draw_rank\": draw_rank,\n",
    "        \"var_all_eigenvalues\": var_all_eigenvalues,\n",
    "        \"var_nonzero_eigenvalues\": var_nonzero_eigenvalues,\n",
    "        \"trace_eigenvalues\": trace_eigenvalues,\n",
    "        \"var_all_normalized_by_param_count\": var_normalized_by_param_count,\n",
    "        \"var_all_normalized_by_rank\": var_normalized_by_rank,\n",
    "        \"var_nonzero_normalized_by_rank\":var_nonzero_normalized_by_rank,\n",
    "        \"trace_normalized_by_rank\": trace_normalized_by_rank,\n",
    "        \"trace_normalized_by_param_count\": trace_normalized_by_param_count,\n",
    "        \"var_nonzero_log\": var_nonzero_log,\n",
    "        \n",
    "        # IPR-based dimensions\n",
    "        \"ipr_deff_raw\": ipr_deff_raw,\n",
    "        \"ipr_deff_norm\": ipr_deff_norm,\n",
    "        \n",
    "        # Abbas-based dimensions\n",
    "        \"abbas_deff_raw\": abbas_deff_raw,\n",
    "        \"abbas_deff_norm\": abbas_deff_norm,\n",
    "        \n",
    "        # Effective dimension computed from the full QFIM (trace-normalized)\n",
    "        \"d_eff\": effective_dimension,\n",
    "        # Minimum nonzero eigenvalue (above threshold)\n",
    "        \"min_nonzero_eigenvalue\": min_nonzero_eigenvalue,\n",
    "    }\n",
    "    stats_dict.update(spread_metrics)\n",
    "    \n",
    "    return stats_dict\n"
   ]
  },
  {
   "cell_type": "markdown",
   "metadata": {},
   "source": [
    "## <b>QFIM</b>, T = 2"
   ]
  },
  {
   "cell_type": "code",
   "execution_count": 7,
   "metadata": {},
   "outputs": [
    {
     "ename": "FileNotFoundError",
     "evalue": "[Errno 2] No such file or directory: '/Users/sophieblock/QRCCapstone/parameter_analysis_directory/QFIM_global_results/analog_model_DQFIM/Nc_2/sample_normal_.5pi/1xK/Nr_2/trotter_step_10/L_10/data.pickle'",
     "output_type": "error",
     "traceback": [
      "\u001b[0;31m---------------------------------------------------------------------------\u001b[0m",
      "\u001b[0;31mFileNotFoundError\u001b[0m                         Traceback (most recent call last)",
      "Cell \u001b[0;32mIn[7], line 8\u001b[0m\n\u001b[1;32m      5\u001b[0m \u001b[38;5;66;03m# file_path = f'/Users/sophieblock/QRCCapstone/parameter_analysis_directory/QFIM_results/analog/Nc_{Nc}/sample_{sample_range_label}/1xK/Nr_{Nr}/trotter_step_{T}/data.pickle'\u001b[39;00m\n\u001b[1;32m      6\u001b[0m file_path \u001b[38;5;241m=\u001b[39m \u001b[38;5;124mf\u001b[39m\u001b[38;5;124m'\u001b[39m\u001b[38;5;124m/Users/sophieblock/QRCCapstone/parameter_analysis_directory/QFIM_global_results/analog_model_DQFIM/Nc_\u001b[39m\u001b[38;5;132;01m{\u001b[39;00mNc\u001b[38;5;132;01m}\u001b[39;00m\u001b[38;5;124m/sample_\u001b[39m\u001b[38;5;132;01m{\u001b[39;00msample_range_label\u001b[38;5;132;01m}\u001b[39;00m\u001b[38;5;124m/1xK/Nr_\u001b[39m\u001b[38;5;132;01m{\u001b[39;00mNr\u001b[38;5;132;01m}\u001b[39;00m\u001b[38;5;124m/trotter_step_\u001b[39m\u001b[38;5;132;01m{\u001b[39;00mT\u001b[38;5;132;01m}\u001b[39;00m\u001b[38;5;124m/L_10/data.pickle\u001b[39m\u001b[38;5;124m'\u001b[39m\n\u001b[0;32m----> 8\u001b[0m \u001b[38;5;28;01mwith\u001b[39;00m \u001b[38;5;28;43mopen\u001b[39;49m\u001b[43m(\u001b[49m\u001b[43mfile_path\u001b[49m\u001b[43m,\u001b[49m\u001b[43m \u001b[49m\u001b[38;5;124;43m'\u001b[39;49m\u001b[38;5;124;43mrb\u001b[39;49m\u001b[38;5;124;43m'\u001b[39;49m\u001b[43m)\u001b[49m \u001b[38;5;28;01mas\u001b[39;00m f:\n\u001b[1;32m      9\u001b[0m     all_tests_data \u001b[38;5;241m=\u001b[39m pickle\u001b[38;5;241m.\u001b[39mload(f)\n\u001b[1;32m     10\u001b[0m fixed_params_dict \u001b[38;5;241m=\u001b[39m \u001b[38;5;124m'\u001b[39m\u001b[38;5;124mfixed_params0\u001b[39m\u001b[38;5;124m'\u001b[39m\n",
      "File \u001b[0;32m~/opt/anaconda3/envs/jit_env/lib/python3.12/site-packages/IPython/core/interactiveshell.py:324\u001b[0m, in \u001b[0;36m_modified_open\u001b[0;34m(file, *args, **kwargs)\u001b[0m\n\u001b[1;32m    317\u001b[0m \u001b[38;5;28;01mif\u001b[39;00m file \u001b[38;5;129;01min\u001b[39;00m {\u001b[38;5;241m0\u001b[39m, \u001b[38;5;241m1\u001b[39m, \u001b[38;5;241m2\u001b[39m}:\n\u001b[1;32m    318\u001b[0m     \u001b[38;5;28;01mraise\u001b[39;00m \u001b[38;5;167;01mValueError\u001b[39;00m(\n\u001b[1;32m    319\u001b[0m         \u001b[38;5;124mf\u001b[39m\u001b[38;5;124m\"\u001b[39m\u001b[38;5;124mIPython won\u001b[39m\u001b[38;5;124m'\u001b[39m\u001b[38;5;124mt let you open fd=\u001b[39m\u001b[38;5;132;01m{\u001b[39;00mfile\u001b[38;5;132;01m}\u001b[39;00m\u001b[38;5;124m by default \u001b[39m\u001b[38;5;124m\"\u001b[39m\n\u001b[1;32m    320\u001b[0m         \u001b[38;5;124m\"\u001b[39m\u001b[38;5;124mas it is likely to crash IPython. If you know what you are doing, \u001b[39m\u001b[38;5;124m\"\u001b[39m\n\u001b[1;32m    321\u001b[0m         \u001b[38;5;124m\"\u001b[39m\u001b[38;5;124myou can use builtins\u001b[39m\u001b[38;5;124m'\u001b[39m\u001b[38;5;124m open.\u001b[39m\u001b[38;5;124m\"\u001b[39m\n\u001b[1;32m    322\u001b[0m     )\n\u001b[0;32m--> 324\u001b[0m \u001b[38;5;28;01mreturn\u001b[39;00m \u001b[43mio_open\u001b[49m\u001b[43m(\u001b[49m\u001b[43mfile\u001b[49m\u001b[43m,\u001b[49m\u001b[43m \u001b[49m\u001b[38;5;241;43m*\u001b[39;49m\u001b[43margs\u001b[49m\u001b[43m,\u001b[49m\u001b[43m \u001b[49m\u001b[38;5;241;43m*\u001b[39;49m\u001b[38;5;241;43m*\u001b[39;49m\u001b[43mkwargs\u001b[49m\u001b[43m)\u001b[49m\n",
      "\u001b[0;31mFileNotFoundError\u001b[0m: [Errno 2] No such file or directory: '/Users/sophieblock/QRCCapstone/parameter_analysis_directory/QFIM_global_results/analog_model_DQFIM/Nc_2/sample_normal_.5pi/1xK/Nr_2/trotter_step_10/L_10/data.pickle'"
     ]
    }
   ],
   "source": [
    "T = 10\n",
    "sample_range_label ='normal_.5pi'\n",
    "Nc = 2\n",
    "Nr = 2\n",
    "# file_path = f'/Users/sophieblock/QRCCapstone/parameter_analysis_directory/QFIM_results/analog/Nc_{Nc}/sample_{sample_range_label}/1xK/Nr_{Nr}/trotter_step_{T}/data.pickle'\n",
    "file_path = f'/Users/sophieblock/QRCCapstone/parameter_analysis_directory/QFIM_global_results/analog_model_DQFIM/Nc_{Nc}/sample_{sample_range_label}/1xK/Nr_{Nr}/trotter_step_{T}/L_10/data.pickle'\n",
    "\n",
    "with open(file_path, 'rb') as f:\n",
    "    all_tests_data = pickle.load(f)\n",
    "fixed_params_dict = 'fixed_params0'\n",
    "test_data = all_tests_data[fixed_params_dict]"
   ]
  },
  {
   "cell_type": "code",
   "execution_count": 75,
   "metadata": {},
   "outputs": [
    {
     "data": {
      "text/plain": [
       "200"
      ]
     },
     "execution_count": 75,
     "metadata": {},
     "output_type": "execute_result"
    }
   ],
   "source": [
    "number_of_tests"
   ]
  },
  {
   "cell_type": "code",
   "execution_count": 3,
   "metadata": {},
   "outputs": [
    {
     "name": "stdout",
     "output_type": "stream",
     "text": [
      "/Users/so714f/Documents/offline/qrc/param_initialization_final/analog_results/Nc_2/epochs_1500/reservoirs_1/trotter_10/trainsize_20/sample_.5pi/fixed_params0\n",
      "Index(['Gate', 'opt_description', 'specs', 'epochs', 'trotter_step',\n",
      "       'time_steps', 'controls', 'reservoirs', 'N_train', 'fixed_params',\n",
      "       'init_params', 'testing_results', 'infidelities', 'avg_fidelity',\n",
      "       'costs', 'params_per_epoch', 'training_states', 'opt_params', 'opt_lr',\n",
      "       'grads_per_epoch', 'init_grads', 'target DQFIM stats',\n",
      "       'DQFIM_stats_local', 'test_key', 'QFIM Results',\n",
      "       'DQFIM_stats_20_L_states', 'QFIM_basis_state'],\n",
      "      dtype='object')\n",
      "Index(['Gate', 'opt_description', 'specs', 'epochs', 'trotter_step',\n",
      "       'time_steps', 'controls', 'reservoirs', 'N_train', 'fixed_params',\n",
      "       'init_params', 'testing_results', 'infidelities', 'avg_fidelity',\n",
      "       'costs', 'params_per_epoch', 'training_states', 'opt_params', 'opt_lr',\n",
      "       'grads_per_epoch', 'init_grads', 'target DQFIM stats',\n",
      "       'DQFIM_stats_local', 'test_key', 'QFIM Results',\n",
      "       'DQFIM_stats_20_L_states', 'QFIM_basis_state'],\n",
      "      dtype='object')\n",
      "Index(['Gate', 'opt_description', 'specs', 'epochs', 'trotter_step',\n",
      "       'time_steps', 'controls', 'reservoirs', 'N_train', 'fixed_params',\n",
      "       'init_params', 'testing_results', 'infidelities', 'avg_fidelity',\n",
      "       'costs', 'params_per_epoch', 'training_states', 'opt_params', 'opt_lr',\n",
      "       'grads_per_epoch', 'init_grads', 'target DQFIM stats',\n",
      "       'DQFIM_stats_local', 'test_key', 'QFIM Results',\n",
      "       'DQFIM_stats_20_L_states', 'QFIM_basis_state'],\n",
      "      dtype='object')\n",
      "Index(['Gate', 'opt_description', 'specs', 'epochs', 'trotter_step',\n",
      "       'time_steps', 'controls', 'reservoirs', 'N_train', 'fixed_params',\n",
      "       'init_params', 'testing_results', 'infidelities', 'avg_fidelity',\n",
      "       'costs', 'params_per_epoch', 'training_states', 'opt_params', 'opt_lr',\n",
      "       'grads_per_epoch', 'init_grads', 'target DQFIM stats',\n",
      "       'DQFIM_stats_local', 'test_key', 'QFIM Results',\n",
      "       'DQFIM_stats_20_L_states', 'QFIM_basis_state'],\n",
      "      dtype='object')\n",
      "Index(['Gate', 'opt_description', 'specs', 'epochs', 'trotter_step',\n",
      "       'time_steps', 'controls', 'reservoirs', 'N_train', 'fixed_params',\n",
      "       'init_params', 'testing_results', 'infidelities', 'avg_fidelity',\n",
      "       'costs', 'params_per_epoch', 'training_states', 'opt_params', 'opt_lr',\n",
      "       'grads_per_epoch', 'init_grads', 'target DQFIM stats',\n",
      "       'DQFIM_stats_local', 'test_key', 'QFIM Results',\n",
      "       'DQFIM_stats_20_L_states', 'QFIM_basis_state'],\n",
      "      dtype='object')\n",
      "Index(['Gate', 'opt_description', 'specs', 'epochs', 'trotter_step',\n",
      "       'time_steps', 'controls', 'reservoirs', 'N_train', 'fixed_params',\n",
      "       'init_params', 'testing_results', 'infidelities', 'avg_fidelity',\n",
      "       'costs', 'params_per_epoch', 'training_states', 'opt_params', 'opt_lr',\n",
      "       'grads_per_epoch', 'init_grads', 'target DQFIM stats',\n",
      "       'DQFIM_stats_local', 'test_key', 'QFIM Results',\n",
      "       'DQFIM_stats_20_L_states', 'QFIM_basis_state'],\n",
      "      dtype='object')\n",
      "Index(['Gate', 'opt_description', 'specs', 'epochs', 'trotter_step',\n",
      "       'time_steps', 'controls', 'reservoirs', 'N_train', 'fixed_params',\n",
      "       'init_params', 'testing_results', 'infidelities', 'avg_fidelity',\n",
      "       'costs', 'params_per_epoch', 'training_states', 'opt_params', 'opt_lr',\n",
      "       'grads_per_epoch', 'init_grads', 'target DQFIM stats',\n",
      "       'DQFIM_stats_local', 'test_key', 'QFIM Results',\n",
      "       'DQFIM_stats_20_L_states', 'QFIM_basis_state'],\n",
      "      dtype='object')\n",
      "Index(['Gate', 'opt_description', 'specs', 'epochs', 'trotter_step',\n",
      "       'time_steps', 'controls', 'reservoirs', 'N_train', 'fixed_params',\n",
      "       'init_params', 'testing_results', 'infidelities', 'avg_fidelity',\n",
      "       'costs', 'params_per_epoch', 'training_states', 'opt_params', 'opt_lr',\n",
      "       'grads_per_epoch', 'init_grads', 'target DQFIM stats',\n",
      "       'DQFIM_stats_local', 'test_key', 'QFIM Results',\n",
      "       'DQFIM_stats_20_L_states', 'QFIM_basis_state'],\n",
      "      dtype='object')\n",
      "Index(['Gate', 'opt_description', 'specs', 'epochs', 'trotter_step',\n",
      "       'time_steps', 'controls', 'reservoirs', 'N_train', 'fixed_params',\n",
      "       'init_params', 'testing_results', 'infidelities', 'avg_fidelity',\n",
      "       'costs', 'params_per_epoch', 'training_states', 'opt_params', 'opt_lr',\n",
      "       'grads_per_epoch', 'init_grads', 'target DQFIM stats',\n",
      "       'DQFIM_stats_local', 'test_key', 'QFIM Results',\n",
      "       'DQFIM_stats_20_L_states', 'QFIM_basis_state'],\n",
      "      dtype='object')\n",
      "Index(['Gate', 'opt_description', 'specs', 'epochs', 'trotter_step',\n",
      "       'time_steps', 'controls', 'reservoirs', 'N_train', 'fixed_params',\n",
      "       'init_params', 'testing_results', 'infidelities', 'avg_fidelity',\n",
      "       'costs', 'params_per_epoch', 'training_states', 'opt_params', 'opt_lr',\n",
      "       'grads_per_epoch', 'init_grads', 'target DQFIM stats',\n",
      "       'DQFIM_stats_local', 'test_key', 'QFIM Results',\n",
      "       'DQFIM_stats_20_L_states', 'QFIM_basis_state'],\n",
      "      dtype='object')\n",
      "Index(['Gate', 'opt_description', 'specs', 'epochs', 'trotter_step',\n",
      "       'time_steps', 'controls', 'reservoirs', 'N_train', 'fixed_params',\n",
      "       'init_params', 'testing_results', 'infidelities', 'avg_fidelity',\n",
      "       'costs', 'params_per_epoch', 'training_states', 'opt_params', 'opt_lr',\n",
      "       'grads_per_epoch', 'init_grads', 'target DQFIM stats',\n",
      "       'DQFIM_stats_local', 'test_key', 'QFIM Results',\n",
      "       'DQFIM_stats_20_L_states', 'QFIM_basis_state'],\n",
      "      dtype='object')\n",
      "Index(['Gate', 'opt_description', 'specs', 'epochs', 'trotter_step',\n",
      "       'time_steps', 'controls', 'reservoirs', 'N_train', 'fixed_params',\n",
      "       'init_params', 'testing_results', 'infidelities', 'avg_fidelity',\n",
      "       'costs', 'params_per_epoch', 'training_states', 'opt_params', 'opt_lr',\n",
      "       'grads_per_epoch', 'init_grads', 'target DQFIM stats',\n",
      "       'DQFIM_stats_local', 'test_key', 'QFIM Results',\n",
      "       'DQFIM_stats_20_L_states', 'QFIM_basis_state'],\n",
      "      dtype='object')\n",
      "Index(['Gate', 'opt_description', 'specs', 'epochs', 'trotter_step',\n",
      "       'time_steps', 'controls', 'reservoirs', 'N_train', 'fixed_params',\n",
      "       'init_params', 'testing_results', 'infidelities', 'avg_fidelity',\n",
      "       'costs', 'params_per_epoch', 'training_states', 'opt_params', 'opt_lr',\n",
      "       'grads_per_epoch', 'init_grads', 'target DQFIM stats',\n",
      "       'DQFIM_stats_local', 'test_key', 'QFIM Results',\n",
      "       'DQFIM_stats_20_L_states', 'QFIM_basis_state'],\n",
      "      dtype='object')\n",
      "Index(['Gate', 'opt_description', 'specs', 'epochs', 'trotter_step',\n",
      "       'time_steps', 'controls', 'reservoirs', 'N_train', 'fixed_params',\n",
      "       'init_params', 'testing_results', 'infidelities', 'avg_fidelity',\n",
      "       'costs', 'params_per_epoch', 'training_states', 'opt_params', 'opt_lr',\n",
      "       'grads_per_epoch', 'init_grads', 'target DQFIM stats',\n",
      "       'DQFIM_stats_local', 'test_key', 'QFIM Results',\n",
      "       'DQFIM_stats_20_L_states', 'QFIM_basis_state'],\n",
      "      dtype='object')\n",
      "Index(['Gate', 'opt_description', 'specs', 'epochs', 'trotter_step',\n",
      "       'time_steps', 'controls', 'reservoirs', 'N_train', 'fixed_params',\n",
      "       'init_params', 'testing_results', 'infidelities', 'avg_fidelity',\n",
      "       'costs', 'params_per_epoch', 'training_states', 'opt_params', 'opt_lr',\n",
      "       'grads_per_epoch', 'init_grads', 'target DQFIM stats',\n",
      "       'DQFIM_stats_local', 'test_key', 'QFIM Results',\n",
      "       'DQFIM_stats_20_L_states', 'QFIM_basis_state'],\n",
      "      dtype='object')\n",
      "Index(['Gate', 'opt_description', 'specs', 'epochs', 'trotter_step',\n",
      "       'time_steps', 'controls', 'reservoirs', 'N_train', 'fixed_params',\n",
      "       'init_params', 'testing_results', 'infidelities', 'avg_fidelity',\n",
      "       'costs', 'params_per_epoch', 'training_states', 'opt_params', 'opt_lr',\n",
      "       'grads_per_epoch', 'init_grads', 'target DQFIM stats',\n",
      "       'DQFIM_stats_local', 'test_key', 'QFIM Results',\n",
      "       'DQFIM_stats_20_L_states', 'QFIM_basis_state'],\n",
      "      dtype='object')\n",
      "Index(['Gate', 'opt_description', 'specs', 'epochs', 'trotter_step',\n",
      "       'time_steps', 'controls', 'reservoirs', 'N_train', 'fixed_params',\n",
      "       'init_params', 'testing_results', 'infidelities', 'avg_fidelity',\n",
      "       'costs', 'params_per_epoch', 'training_states', 'opt_params', 'opt_lr',\n",
      "       'grads_per_epoch', 'init_grads', 'target DQFIM stats',\n",
      "       'DQFIM_stats_local', 'test_key', 'QFIM Results',\n",
      "       'DQFIM_stats_20_L_states', 'QFIM_basis_state'],\n",
      "      dtype='object')\n",
      "Index(['Gate', 'opt_description', 'specs', 'epochs', 'trotter_step',\n",
      "       'time_steps', 'controls', 'reservoirs', 'N_train', 'fixed_params',\n",
      "       'init_params', 'testing_results', 'infidelities', 'avg_fidelity',\n",
      "       'costs', 'params_per_epoch', 'training_states', 'opt_params', 'opt_lr',\n",
      "       'grads_per_epoch', 'init_grads', 'target DQFIM stats',\n",
      "       'DQFIM_stats_local', 'test_key', 'QFIM Results',\n",
      "       'DQFIM_stats_20_L_states', 'QFIM_basis_state'],\n",
      "      dtype='object')\n",
      "Index(['Gate', 'opt_description', 'specs', 'epochs', 'trotter_step',\n",
      "       'time_steps', 'controls', 'reservoirs', 'N_train', 'fixed_params',\n",
      "       'init_params', 'testing_results', 'infidelities', 'avg_fidelity',\n",
      "       'costs', 'params_per_epoch', 'training_states', 'opt_params', 'opt_lr',\n",
      "       'grads_per_epoch', 'init_grads', 'target DQFIM stats',\n",
      "       'DQFIM_stats_local', 'test_key', 'QFIM Results',\n",
      "       'DQFIM_stats_20_L_states', 'QFIM_basis_state'],\n",
      "      dtype='object')\n",
      "Index(['Gate', 'opt_description', 'specs', 'epochs', 'trotter_step',\n",
      "       'time_steps', 'controls', 'reservoirs', 'N_train', 'fixed_params',\n",
      "       'init_params', 'testing_results', 'infidelities', 'avg_fidelity',\n",
      "       'costs', 'params_per_epoch', 'training_states', 'opt_params', 'opt_lr',\n",
      "       'grads_per_epoch', 'init_grads', 'target DQFIM stats',\n",
      "       'DQFIM_stats_local', 'test_key', 'QFIM Results',\n",
      "       'DQFIM_stats_20_L_states', 'QFIM_basis_state'],\n",
      "      dtype='object')\n",
      "Index(['Gate', 'opt_description', 'specs', 'epochs', 'trotter_step',\n",
      "       'time_steps', 'controls', 'reservoirs', 'N_train', 'fixed_params',\n",
      "       'init_params', 'testing_results', 'infidelities', 'avg_fidelity',\n",
      "       'costs', 'params_per_epoch', 'training_states', 'opt_params', 'opt_lr',\n",
      "       'grads_per_epoch', 'init_grads', 'target DQFIM stats',\n",
      "       'DQFIM_stats_local', 'test_key', 'QFIM Results',\n",
      "       'DQFIM_stats_20_L_states', 'QFIM_basis_state'],\n",
      "      dtype='object')\n",
      "Index(['Gate', 'opt_description', 'specs', 'epochs', 'trotter_step',\n",
      "       'time_steps', 'controls', 'reservoirs', 'N_train', 'fixed_params',\n",
      "       'init_params', 'testing_results', 'infidelities', 'avg_fidelity',\n",
      "       'costs', 'params_per_epoch', 'training_states', 'opt_params', 'opt_lr',\n",
      "       'grads_per_epoch', 'init_grads', 'target DQFIM stats',\n",
      "       'DQFIM_stats_local', 'test_key', 'QFIM Results',\n",
      "       'DQFIM_stats_20_L_states', 'QFIM_basis_state'],\n",
      "      dtype='object')\n",
      "Index(['Gate', 'opt_description', 'specs', 'epochs', 'trotter_step',\n",
      "       'time_steps', 'controls', 'reservoirs', 'N_train', 'fixed_params',\n",
      "       'init_params', 'testing_results', 'infidelities', 'avg_fidelity',\n",
      "       'costs', 'params_per_epoch', 'training_states', 'opt_params', 'opt_lr',\n",
      "       'grads_per_epoch', 'init_grads', 'target DQFIM stats',\n",
      "       'DQFIM_stats_local', 'test_key', 'QFIM Results',\n",
      "       'DQFIM_stats_20_L_states', 'QFIM_basis_state'],\n",
      "      dtype='object')\n",
      "Index(['Gate', 'opt_description', 'specs', 'epochs', 'trotter_step',\n",
      "       'time_steps', 'controls', 'reservoirs', 'N_train', 'fixed_params',\n",
      "       'init_params', 'testing_results', 'infidelities', 'avg_fidelity',\n",
      "       'costs', 'params_per_epoch', 'training_states', 'opt_params', 'opt_lr',\n",
      "       'grads_per_epoch', 'init_grads', 'target DQFIM stats',\n",
      "       'DQFIM_stats_local', 'test_key', 'QFIM Results',\n",
      "       'DQFIM_stats_20_L_states', 'QFIM_basis_state'],\n",
      "      dtype='object')\n",
      "Index(['Gate', 'opt_description', 'specs', 'epochs', 'trotter_step',\n",
      "       'time_steps', 'controls', 'reservoirs', 'N_train', 'fixed_params',\n",
      "       'init_params', 'testing_results', 'infidelities', 'avg_fidelity',\n",
      "       'costs', 'params_per_epoch', 'training_states', 'opt_params', 'opt_lr',\n",
      "       'grads_per_epoch', 'init_grads', 'target DQFIM stats',\n",
      "       'DQFIM_stats_local', 'test_key', 'QFIM Results',\n",
      "       'DQFIM_stats_20_L_states', 'QFIM_basis_state'],\n",
      "      dtype='object')\n",
      "Index(['Gate', 'opt_description', 'specs', 'epochs', 'trotter_step',\n",
      "       'time_steps', 'controls', 'reservoirs', 'N_train', 'fixed_params',\n",
      "       'init_params', 'testing_results', 'infidelities', 'avg_fidelity',\n",
      "       'costs', 'params_per_epoch', 'training_states', 'opt_params', 'opt_lr',\n",
      "       'grads_per_epoch', 'init_grads', 'target DQFIM stats',\n",
      "       'DQFIM_stats_local', 'test_key', 'QFIM Results',\n",
      "       'DQFIM_stats_20_L_states', 'QFIM_basis_state'],\n",
      "      dtype='object')\n",
      "Index(['Gate', 'opt_description', 'specs', 'epochs', 'trotter_step',\n",
      "       'time_steps', 'controls', 'reservoirs', 'N_train', 'fixed_params',\n",
      "       'init_params', 'testing_results', 'infidelities', 'avg_fidelity',\n",
      "       'costs', 'params_per_epoch', 'training_states', 'opt_params', 'opt_lr',\n",
      "       'grads_per_epoch', 'init_grads', 'target DQFIM stats',\n",
      "       'DQFIM_stats_local', 'test_key', 'QFIM Results',\n",
      "       'DQFIM_stats_20_L_states', 'QFIM_basis_state'],\n",
      "      dtype='object')\n",
      "Index(['Gate', 'opt_description', 'specs', 'epochs', 'trotter_step',\n",
      "       'time_steps', 'controls', 'reservoirs', 'N_train', 'fixed_params',\n",
      "       'init_params', 'testing_results', 'infidelities', 'avg_fidelity',\n",
      "       'costs', 'params_per_epoch', 'training_states', 'opt_params', 'opt_lr',\n",
      "       'grads_per_epoch', 'init_grads', 'target DQFIM stats',\n",
      "       'DQFIM_stats_local', 'test_key', 'QFIM Results',\n",
      "       'DQFIM_stats_20_L_states', 'QFIM_basis_state'],\n",
      "      dtype='object')\n",
      "Index(['Gate', 'opt_description', 'specs', 'epochs', 'trotter_step',\n",
      "       'time_steps', 'controls', 'reservoirs', 'N_train', 'fixed_params',\n",
      "       'init_params', 'testing_results', 'infidelities', 'avg_fidelity',\n",
      "       'costs', 'params_per_epoch', 'training_states', 'opt_params', 'opt_lr',\n",
      "       'grads_per_epoch', 'init_grads', 'target DQFIM stats',\n",
      "       'DQFIM_stats_local', 'test_key', 'QFIM Results',\n",
      "       'DQFIM_stats_20_L_states', 'QFIM_basis_state'],\n",
      "      dtype='object')\n",
      "Index(['Gate', 'opt_description', 'specs', 'epochs', 'trotter_step',\n",
      "       'time_steps', 'controls', 'reservoirs', 'N_train', 'fixed_params',\n",
      "       'init_params', 'testing_results', 'infidelities', 'avg_fidelity',\n",
      "       'costs', 'params_per_epoch', 'training_states', 'opt_params', 'opt_lr',\n",
      "       'grads_per_epoch', 'init_grads', 'target DQFIM stats',\n",
      "       'DQFIM_stats_local', 'test_key', 'QFIM Results',\n",
      "       'DQFIM_stats_20_L_states', 'QFIM_basis_state'],\n",
      "      dtype='object')\n",
      "Index(['Gate', 'opt_description', 'specs', 'epochs', 'trotter_step',\n",
      "       'time_steps', 'controls', 'reservoirs', 'N_train', 'fixed_params',\n",
      "       'init_params', 'testing_results', 'infidelities', 'avg_fidelity',\n",
      "       'costs', 'params_per_epoch', 'training_states', 'opt_params', 'opt_lr',\n",
      "       'grads_per_epoch', 'init_grads', 'target DQFIM stats',\n",
      "       'DQFIM_stats_local', 'test_key', 'QFIM Results',\n",
      "       'DQFIM_stats_20_L_states', 'QFIM_basis_state'],\n",
      "      dtype='object')\n",
      "Index(['Gate', 'opt_description', 'specs', 'epochs', 'trotter_step',\n",
      "       'time_steps', 'controls', 'reservoirs', 'N_train', 'fixed_params',\n",
      "       'init_params', 'testing_results', 'infidelities', 'avg_fidelity',\n",
      "       'costs', 'params_per_epoch', 'training_states', 'opt_params', 'opt_lr',\n",
      "       'grads_per_epoch', 'init_grads', 'target DQFIM stats',\n",
      "       'DQFIM_stats_local', 'test_key', 'QFIM Results',\n",
      "       'DQFIM_stats_20_L_states', 'QFIM_basis_state'],\n",
      "      dtype='object')\n",
      "Index(['Gate', 'opt_description', 'specs', 'epochs', 'trotter_step',\n",
      "       'time_steps', 'controls', 'reservoirs', 'N_train', 'fixed_params',\n",
      "       'init_params', 'testing_results', 'infidelities', 'avg_fidelity',\n",
      "       'costs', 'params_per_epoch', 'training_states', 'opt_params', 'opt_lr',\n",
      "       'grads_per_epoch', 'init_grads', 'target DQFIM stats',\n",
      "       'DQFIM_stats_local', 'test_key', 'QFIM Results',\n",
      "       'DQFIM_stats_20_L_states', 'QFIM_basis_state'],\n",
      "      dtype='object')\n",
      "Index(['Gate', 'opt_description', 'specs', 'epochs', 'trotter_step',\n",
      "       'time_steps', 'controls', 'reservoirs', 'N_train', 'fixed_params',\n",
      "       'init_params', 'testing_results', 'infidelities', 'avg_fidelity',\n",
      "       'costs', 'params_per_epoch', 'training_states', 'opt_params', 'opt_lr',\n",
      "       'grads_per_epoch', 'init_grads', 'target DQFIM stats',\n",
      "       'DQFIM_stats_local', 'test_key', 'QFIM Results',\n",
      "       'DQFIM_stats_20_L_states', 'QFIM_basis_state'],\n",
      "      dtype='object')\n",
      "Index(['Gate', 'opt_description', 'specs', 'epochs', 'trotter_step',\n",
      "       'time_steps', 'controls', 'reservoirs', 'N_train', 'fixed_params',\n",
      "       'init_params', 'testing_results', 'infidelities', 'avg_fidelity',\n",
      "       'costs', 'params_per_epoch', 'training_states', 'opt_params', 'opt_lr',\n",
      "       'grads_per_epoch', 'init_grads', 'target DQFIM stats',\n",
      "       'DQFIM_stats_local', 'test_key', 'QFIM Results',\n",
      "       'DQFIM_stats_20_L_states', 'QFIM_basis_state'],\n",
      "      dtype='object')\n",
      "Index(['Gate', 'opt_description', 'specs', 'epochs', 'trotter_step',\n",
      "       'time_steps', 'controls', 'reservoirs', 'N_train', 'fixed_params',\n",
      "       'init_params', 'testing_results', 'infidelities', 'avg_fidelity',\n",
      "       'costs', 'params_per_epoch', 'training_states', 'opt_params', 'opt_lr',\n",
      "       'grads_per_epoch', 'init_grads', 'target DQFIM stats',\n",
      "       'DQFIM_stats_local', 'test_key', 'QFIM Results',\n",
      "       'DQFIM_stats_20_L_states', 'QFIM_basis_state'],\n",
      "      dtype='object')\n",
      "Index(['Gate', 'opt_description', 'specs', 'epochs', 'trotter_step',\n",
      "       'time_steps', 'controls', 'reservoirs', 'N_train', 'fixed_params',\n",
      "       'init_params', 'testing_results', 'infidelities', 'avg_fidelity',\n",
      "       'costs', 'params_per_epoch', 'training_states', 'opt_params', 'opt_lr',\n",
      "       'grads_per_epoch', 'init_grads', 'target DQFIM stats',\n",
      "       'DQFIM_stats_local', 'test_key', 'QFIM Results',\n",
      "       'DQFIM_stats_20_L_states', 'QFIM_basis_state'],\n",
      "      dtype='object')\n",
      "Index(['Gate', 'opt_description', 'specs', 'epochs', 'trotter_step',\n",
      "       'time_steps', 'controls', 'reservoirs', 'N_train', 'fixed_params',\n",
      "       'init_params', 'testing_results', 'infidelities', 'avg_fidelity',\n",
      "       'costs', 'params_per_epoch', 'training_states', 'opt_params', 'opt_lr',\n",
      "       'grads_per_epoch', 'init_grads', 'target DQFIM stats',\n",
      "       'DQFIM_stats_local', 'test_key', 'QFIM Results',\n",
      "       'DQFIM_stats_20_L_states', 'QFIM_basis_state'],\n",
      "      dtype='object')\n",
      "Index(['Gate', 'opt_description', 'specs', 'epochs', 'trotter_step',\n",
      "       'time_steps', 'controls', 'reservoirs', 'N_train', 'fixed_params',\n",
      "       'init_params', 'testing_results', 'infidelities', 'avg_fidelity',\n",
      "       'costs', 'params_per_epoch', 'training_states', 'opt_params', 'opt_lr',\n",
      "       'grads_per_epoch', 'init_grads', 'target DQFIM stats',\n",
      "       'DQFIM_stats_local', 'test_key', 'QFIM Results',\n",
      "       'DQFIM_stats_20_L_states', 'QFIM_basis_state'],\n",
      "      dtype='object')\n",
      "Index(['Gate', 'opt_description', 'specs', 'epochs', 'trotter_step',\n",
      "       'time_steps', 'controls', 'reservoirs', 'N_train', 'fixed_params',\n",
      "       'init_params', 'testing_results', 'infidelities', 'avg_fidelity',\n",
      "       'costs', 'params_per_epoch', 'training_states', 'opt_params', 'opt_lr',\n",
      "       'grads_per_epoch', 'init_grads', 'target DQFIM stats',\n",
      "       'DQFIM_stats_local', 'test_key', 'QFIM Results',\n",
      "       'DQFIM_stats_20_L_states', 'QFIM_basis_state'],\n",
      "      dtype='object')\n",
      "Index(['Gate', 'opt_description', 'specs', 'epochs', 'trotter_step',\n",
      "       'time_steps', 'controls', 'reservoirs', 'N_train', 'fixed_params',\n",
      "       'init_params', 'testing_results', 'infidelities', 'avg_fidelity',\n",
      "       'costs', 'params_per_epoch', 'training_states', 'opt_params', 'opt_lr',\n",
      "       'grads_per_epoch', 'init_grads', 'target DQFIM stats',\n",
      "       'DQFIM_stats_local', 'test_key', 'QFIM Results',\n",
      "       'DQFIM_stats_20_L_states', 'QFIM_basis_state'],\n",
      "      dtype='object')\n",
      "Index(['Gate', 'opt_description', 'specs', 'epochs', 'trotter_step',\n",
      "       'time_steps', 'controls', 'reservoirs', 'N_train', 'fixed_params',\n",
      "       'init_params', 'testing_results', 'infidelities', 'avg_fidelity',\n",
      "       'costs', 'params_per_epoch', 'training_states', 'opt_params', 'opt_lr',\n",
      "       'grads_per_epoch', 'init_grads', 'target DQFIM stats',\n",
      "       'DQFIM_stats_local', 'test_key', 'QFIM Results',\n",
      "       'DQFIM_stats_20_L_states', 'QFIM_basis_state'],\n",
      "      dtype='object')\n",
      "Index(['Gate', 'opt_description', 'specs', 'epochs', 'trotter_step',\n",
      "       'time_steps', 'controls', 'reservoirs', 'N_train', 'fixed_params',\n",
      "       'init_params', 'testing_results', 'infidelities', 'avg_fidelity',\n",
      "       'costs', 'params_per_epoch', 'training_states', 'opt_params', 'opt_lr',\n",
      "       'grads_per_epoch', 'init_grads', 'target DQFIM stats',\n",
      "       'DQFIM_stats_local', 'test_key', 'QFIM Results',\n",
      "       'DQFIM_stats_20_L_states', 'QFIM_basis_state'],\n",
      "      dtype='object')\n",
      "Index(['Gate', 'opt_description', 'specs', 'epochs', 'trotter_step',\n",
      "       'time_steps', 'controls', 'reservoirs', 'N_train', 'fixed_params',\n",
      "       'init_params', 'testing_results', 'infidelities', 'avg_fidelity',\n",
      "       'costs', 'params_per_epoch', 'training_states', 'opt_params', 'opt_lr',\n",
      "       'grads_per_epoch', 'init_grads', 'target DQFIM stats',\n",
      "       'DQFIM_stats_local', 'test_key', 'QFIM Results',\n",
      "       'DQFIM_stats_20_L_states', 'QFIM_basis_state'],\n",
      "      dtype='object')\n",
      "Index(['Gate', 'opt_description', 'specs', 'epochs', 'trotter_step',\n",
      "       'time_steps', 'controls', 'reservoirs', 'N_train', 'fixed_params',\n",
      "       'init_params', 'testing_results', 'infidelities', 'avg_fidelity',\n",
      "       'costs', 'params_per_epoch', 'training_states', 'opt_params', 'opt_lr',\n",
      "       'grads_per_epoch', 'init_grads', 'target DQFIM stats',\n",
      "       'DQFIM_stats_local', 'test_key', 'QFIM Results',\n",
      "       'DQFIM_stats_20_L_states', 'QFIM_basis_state'],\n",
      "      dtype='object')\n",
      "Index(['Gate', 'opt_description', 'specs', 'epochs', 'trotter_step',\n",
      "       'time_steps', 'controls', 'reservoirs', 'N_train', 'fixed_params',\n",
      "       'init_params', 'testing_results', 'infidelities', 'avg_fidelity',\n",
      "       'costs', 'params_per_epoch', 'training_states', 'opt_params', 'opt_lr',\n",
      "       'grads_per_epoch', 'init_grads', 'target DQFIM stats',\n",
      "       'DQFIM_stats_local', 'test_key', 'QFIM Results',\n",
      "       'DQFIM_stats_20_L_states', 'QFIM_basis_state'],\n",
      "      dtype='object')\n",
      "Index(['Gate', 'opt_description', 'specs', 'epochs', 'trotter_step',\n",
      "       'time_steps', 'controls', 'reservoirs', 'N_train', 'fixed_params',\n",
      "       'init_params', 'testing_results', 'infidelities', 'avg_fidelity',\n",
      "       'costs', 'params_per_epoch', 'training_states', 'opt_params', 'opt_lr',\n",
      "       'grads_per_epoch', 'init_grads', 'target DQFIM stats',\n",
      "       'DQFIM_stats_local', 'test_key', 'QFIM Results',\n",
      "       'DQFIM_stats_20_L_states', 'QFIM_basis_state'],\n",
      "      dtype='object')\n",
      "Index(['Gate', 'opt_description', 'specs', 'epochs', 'trotter_step',\n",
      "       'time_steps', 'controls', 'reservoirs', 'N_train', 'fixed_params',\n",
      "       'init_params', 'testing_results', 'infidelities', 'avg_fidelity',\n",
      "       'costs', 'params_per_epoch', 'training_states', 'opt_params', 'opt_lr',\n",
      "       'grads_per_epoch', 'init_grads', 'target DQFIM stats',\n",
      "       'DQFIM_stats_local', 'test_key', 'QFIM Results',\n",
      "       'DQFIM_stats_20_L_states', 'QFIM_basis_state'],\n",
      "      dtype='object')\n",
      "Index(['Gate', 'opt_description', 'specs', 'epochs', 'trotter_step',\n",
      "       'time_steps', 'controls', 'reservoirs', 'N_train', 'fixed_params',\n",
      "       'init_params', 'testing_results', 'infidelities', 'avg_fidelity',\n",
      "       'costs', 'params_per_epoch', 'training_states', 'opt_params', 'opt_lr',\n",
      "       'grads_per_epoch', 'init_grads', 'target DQFIM stats',\n",
      "       'DQFIM_stats_local', 'test_key', 'QFIM Results',\n",
      "       'DQFIM_stats_20_L_states', 'QFIM_basis_state'],\n",
      "      dtype='object')\n",
      "Index(['Gate', 'opt_description', 'specs', 'epochs', 'trotter_step',\n",
      "       'time_steps', 'controls', 'reservoirs', 'N_train', 'fixed_params',\n",
      "       'init_params', 'testing_results', 'infidelities', 'avg_fidelity',\n",
      "       'costs', 'params_per_epoch', 'training_states', 'opt_params', 'opt_lr',\n",
      "       'grads_per_epoch', 'init_grads', 'target DQFIM stats',\n",
      "       'DQFIM_stats_local', 'test_key', 'QFIM Results',\n",
      "       'DQFIM_stats_20_L_states', 'QFIM_basis_state'],\n",
      "      dtype='object')\n",
      "Index(['Gate', 'opt_description', 'specs', 'epochs', 'trotter_step',\n",
      "       'time_steps', 'controls', 'reservoirs', 'N_train', 'fixed_params',\n",
      "       'init_params', 'testing_results', 'infidelities', 'avg_fidelity',\n",
      "       'costs', 'params_per_epoch', 'training_states', 'opt_params', 'opt_lr',\n",
      "       'grads_per_epoch', 'init_grads', 'target DQFIM stats',\n",
      "       'DQFIM_stats_local', 'test_key', 'QFIM Results',\n",
      "       'DQFIM_stats_20_L_states', 'QFIM_basis_state'],\n",
      "      dtype='object')\n",
      "Index(['Gate', 'opt_description', 'specs', 'epochs', 'trotter_step',\n",
      "       'time_steps', 'controls', 'reservoirs', 'N_train', 'fixed_params',\n",
      "       'init_params', 'testing_results', 'infidelities', 'avg_fidelity',\n",
      "       'costs', 'params_per_epoch', 'training_states', 'opt_params', 'opt_lr',\n",
      "       'grads_per_epoch', 'init_grads', 'target DQFIM stats',\n",
      "       'DQFIM_stats_local', 'test_key', 'QFIM Results',\n",
      "       'DQFIM_stats_20_L_states', 'QFIM_basis_state'],\n",
      "      dtype='object')\n",
      "Index(['Gate', 'opt_description', 'specs', 'epochs', 'trotter_step',\n",
      "       'time_steps', 'controls', 'reservoirs', 'N_train', 'fixed_params',\n",
      "       'init_params', 'testing_results', 'infidelities', 'avg_fidelity',\n",
      "       'costs', 'params_per_epoch', 'training_states', 'opt_params', 'opt_lr',\n",
      "       'grads_per_epoch', 'init_grads', 'target DQFIM stats',\n",
      "       'DQFIM_stats_local', 'test_key', 'QFIM Results',\n",
      "       'DQFIM_stats_20_L_states', 'QFIM_basis_state'],\n",
      "      dtype='object')\n",
      "Index(['Gate', 'opt_description', 'specs', 'epochs', 'trotter_step',\n",
      "       'time_steps', 'controls', 'reservoirs', 'N_train', 'fixed_params',\n",
      "       'init_params', 'testing_results', 'infidelities', 'avg_fidelity',\n",
      "       'costs', 'params_per_epoch', 'training_states', 'opt_params', 'opt_lr',\n",
      "       'grads_per_epoch', 'init_grads', 'target DQFIM stats',\n",
      "       'DQFIM_stats_local', 'test_key', 'QFIM Results',\n",
      "       'DQFIM_stats_20_L_states', 'QFIM_basis_state'],\n",
      "      dtype='object')\n",
      "Index(['Gate', 'opt_description', 'specs', 'epochs', 'trotter_step',\n",
      "       'time_steps', 'controls', 'reservoirs', 'N_train', 'fixed_params',\n",
      "       'init_params', 'testing_results', 'infidelities', 'avg_fidelity',\n",
      "       'costs', 'params_per_epoch', 'training_states', 'opt_params', 'opt_lr',\n",
      "       'grads_per_epoch', 'init_grads', 'target DQFIM stats',\n",
      "       'DQFIM_stats_local', 'test_key', 'QFIM Results',\n",
      "       'DQFIM_stats_20_L_states', 'QFIM_basis_state'],\n",
      "      dtype='object')\n",
      "Index(['Gate', 'opt_description', 'specs', 'epochs', 'trotter_step',\n",
      "       'time_steps', 'controls', 'reservoirs', 'N_train', 'fixed_params',\n",
      "       'init_params', 'testing_results', 'infidelities', 'avg_fidelity',\n",
      "       'costs', 'params_per_epoch', 'training_states', 'opt_params', 'opt_lr',\n",
      "       'grads_per_epoch', 'init_grads', 'target DQFIM stats',\n",
      "       'DQFIM_stats_local', 'test_key', 'QFIM Results',\n",
      "       'DQFIM_stats_20_L_states', 'QFIM_basis_state'],\n",
      "      dtype='object')\n",
      "Index(['Gate', 'opt_description', 'specs', 'epochs', 'trotter_step',\n",
      "       'time_steps', 'controls', 'reservoirs', 'N_train', 'fixed_params',\n",
      "       'init_params', 'testing_results', 'infidelities', 'avg_fidelity',\n",
      "       'costs', 'params_per_epoch', 'training_states', 'opt_params', 'opt_lr',\n",
      "       'grads_per_epoch', 'init_grads', 'target DQFIM stats',\n",
      "       'DQFIM_stats_local', 'test_key', 'QFIM Results',\n",
      "       'DQFIM_stats_20_L_states', 'QFIM_basis_state'],\n",
      "      dtype='object')\n",
      "Index(['Gate', 'opt_description', 'specs', 'epochs', 'trotter_step',\n",
      "       'time_steps', 'controls', 'reservoirs', 'N_train', 'fixed_params',\n",
      "       'init_params', 'testing_results', 'infidelities', 'avg_fidelity',\n",
      "       'costs', 'params_per_epoch', 'training_states', 'opt_params', 'opt_lr',\n",
      "       'grads_per_epoch', 'init_grads', 'target DQFIM stats',\n",
      "       'DQFIM_stats_local', 'test_key', 'QFIM Results',\n",
      "       'DQFIM_stats_20_L_states', 'QFIM_basis_state'],\n",
      "      dtype='object')\n",
      "Index(['Gate', 'opt_description', 'specs', 'epochs', 'trotter_step',\n",
      "       'time_steps', 'controls', 'reservoirs', 'N_train', 'fixed_params',\n",
      "       'init_params', 'testing_results', 'infidelities', 'avg_fidelity',\n",
      "       'costs', 'params_per_epoch', 'training_states', 'opt_params', 'opt_lr',\n",
      "       'grads_per_epoch', 'init_grads', 'target DQFIM stats',\n",
      "       'DQFIM_stats_local', 'test_key', 'QFIM Results',\n",
      "       'DQFIM_stats_20_L_states', 'QFIM_basis_state'],\n",
      "      dtype='object')\n",
      "Index(['Gate', 'opt_description', 'specs', 'epochs', 'trotter_step',\n",
      "       'time_steps', 'controls', 'reservoirs', 'N_train', 'fixed_params',\n",
      "       'init_params', 'testing_results', 'infidelities', 'avg_fidelity',\n",
      "       'costs', 'params_per_epoch', 'training_states', 'opt_params', 'opt_lr',\n",
      "       'grads_per_epoch', 'init_grads', 'target DQFIM stats',\n",
      "       'DQFIM_stats_local', 'test_key', 'QFIM Results',\n",
      "       'DQFIM_stats_20_L_states', 'QFIM_basis_state'],\n",
      "      dtype='object')\n",
      "Index(['Gate', 'opt_description', 'specs', 'epochs', 'trotter_step',\n",
      "       'time_steps', 'controls', 'reservoirs', 'N_train', 'fixed_params',\n",
      "       'init_params', 'testing_results', 'infidelities', 'avg_fidelity',\n",
      "       'costs', 'params_per_epoch', 'training_states', 'opt_params', 'opt_lr',\n",
      "       'grads_per_epoch', 'init_grads', 'target DQFIM stats',\n",
      "       'DQFIM_stats_local', 'test_key', 'QFIM Results',\n",
      "       'DQFIM_stats_20_L_states', 'QFIM_basis_state'],\n",
      "      dtype='object')\n",
      "Index(['Gate', 'opt_description', 'specs', 'epochs', 'trotter_step',\n",
      "       'time_steps', 'controls', 'reservoirs', 'N_train', 'fixed_params',\n",
      "       'init_params', 'testing_results', 'infidelities', 'avg_fidelity',\n",
      "       'costs', 'params_per_epoch', 'training_states', 'opt_params', 'opt_lr',\n",
      "       'grads_per_epoch', 'init_grads', 'target DQFIM stats',\n",
      "       'DQFIM_stats_local', 'test_key', 'QFIM Results',\n",
      "       'DQFIM_stats_20_L_states', 'QFIM_basis_state'],\n",
      "      dtype='object')\n",
      "Index(['Gate', 'opt_description', 'specs', 'epochs', 'trotter_step',\n",
      "       'time_steps', 'controls', 'reservoirs', 'N_train', 'fixed_params',\n",
      "       'init_params', 'testing_results', 'infidelities', 'avg_fidelity',\n",
      "       'costs', 'params_per_epoch', 'training_states', 'opt_params', 'opt_lr',\n",
      "       'grads_per_epoch', 'init_grads', 'target DQFIM stats',\n",
      "       'DQFIM_stats_local', 'test_key', 'QFIM Results',\n",
      "       'DQFIM_stats_20_L_states', 'QFIM_basis_state'],\n",
      "      dtype='object')\n",
      "Index(['Gate', 'opt_description', 'specs', 'epochs', 'trotter_step',\n",
      "       'time_steps', 'controls', 'reservoirs', 'N_train', 'fixed_params',\n",
      "       'init_params', 'testing_results', 'infidelities', 'avg_fidelity',\n",
      "       'costs', 'params_per_epoch', 'training_states', 'opt_params', 'opt_lr',\n",
      "       'grads_per_epoch', 'init_grads', 'target DQFIM stats',\n",
      "       'DQFIM_stats_local', 'test_key', 'QFIM Results',\n",
      "       'DQFIM_stats_20_L_states', 'QFIM_basis_state'],\n",
      "      dtype='object')\n",
      "Index(['Gate', 'opt_description', 'specs', 'epochs', 'trotter_step',\n",
      "       'time_steps', 'controls', 'reservoirs', 'N_train', 'fixed_params',\n",
      "       'init_params', 'testing_results', 'infidelities', 'avg_fidelity',\n",
      "       'costs', 'params_per_epoch', 'training_states', 'opt_params', 'opt_lr',\n",
      "       'grads_per_epoch', 'init_grads', 'target DQFIM stats',\n",
      "       'DQFIM_stats_local', 'test_key', 'QFIM Results',\n",
      "       'DQFIM_stats_20_L_states', 'QFIM_basis_state'],\n",
      "      dtype='object')\n",
      "Index(['Gate', 'opt_description', 'specs', 'epochs', 'trotter_step',\n",
      "       'time_steps', 'controls', 'reservoirs', 'N_train', 'fixed_params',\n",
      "       'init_params', 'testing_results', 'infidelities', 'avg_fidelity',\n",
      "       'costs', 'params_per_epoch', 'training_states', 'opt_params', 'opt_lr',\n",
      "       'grads_per_epoch', 'init_grads', 'target DQFIM stats',\n",
      "       'DQFIM_stats_local', 'test_key', 'QFIM Results',\n",
      "       'DQFIM_stats_20_L_states', 'QFIM_basis_state'],\n",
      "      dtype='object')\n",
      "Index(['Gate', 'opt_description', 'specs', 'epochs', 'trotter_step',\n",
      "       'time_steps', 'controls', 'reservoirs', 'N_train', 'fixed_params',\n",
      "       'init_params', 'testing_results', 'infidelities', 'avg_fidelity',\n",
      "       'costs', 'params_per_epoch', 'training_states', 'opt_params', 'opt_lr',\n",
      "       'grads_per_epoch', 'init_grads', 'target DQFIM stats',\n",
      "       'DQFIM_stats_local', 'test_key', 'QFIM Results',\n",
      "       'DQFIM_stats_20_L_states', 'QFIM_basis_state'],\n",
      "      dtype='object')\n",
      "Index(['Gate', 'opt_description', 'specs', 'epochs', 'trotter_step',\n",
      "       'time_steps', 'controls', 'reservoirs', 'N_train', 'fixed_params',\n",
      "       'init_params', 'testing_results', 'infidelities', 'avg_fidelity',\n",
      "       'costs', 'params_per_epoch', 'training_states', 'opt_params', 'opt_lr',\n",
      "       'grads_per_epoch', 'init_grads', 'target DQFIM stats',\n",
      "       'DQFIM_stats_local', 'test_key', 'QFIM Results',\n",
      "       'DQFIM_stats_20_L_states', 'QFIM_basis_state'],\n",
      "      dtype='object')\n",
      "Index(['Gate', 'opt_description', 'specs', 'epochs', 'trotter_step',\n",
      "       'time_steps', 'controls', 'reservoirs', 'N_train', 'fixed_params',\n",
      "       'init_params', 'testing_results', 'infidelities', 'avg_fidelity',\n",
      "       'costs', 'params_per_epoch', 'training_states', 'opt_params', 'opt_lr',\n",
      "       'grads_per_epoch', 'init_grads', 'target DQFIM stats',\n",
      "       'DQFIM_stats_local', 'test_key', 'QFIM Results',\n",
      "       'DQFIM_stats_20_L_states', 'QFIM_basis_state'],\n",
      "      dtype='object')\n",
      "Index(['Gate', 'opt_description', 'specs', 'epochs', 'trotter_step',\n",
      "       'time_steps', 'controls', 'reservoirs', 'N_train', 'fixed_params',\n",
      "       'init_params', 'testing_results', 'infidelities', 'avg_fidelity',\n",
      "       'costs', 'params_per_epoch', 'training_states', 'opt_params', 'opt_lr',\n",
      "       'grads_per_epoch', 'init_grads', 'target DQFIM stats',\n",
      "       'DQFIM_stats_local', 'test_key', 'QFIM Results',\n",
      "       'DQFIM_stats_20_L_states', 'QFIM_basis_state'],\n",
      "      dtype='object')\n",
      "Index(['Gate', 'opt_description', 'specs', 'epochs', 'trotter_step',\n",
      "       'time_steps', 'controls', 'reservoirs', 'N_train', 'fixed_params',\n",
      "       'init_params', 'testing_results', 'infidelities', 'avg_fidelity',\n",
      "       'costs', 'params_per_epoch', 'training_states', 'opt_params', 'opt_lr',\n",
      "       'grads_per_epoch', 'init_grads', 'target DQFIM stats',\n",
      "       'DQFIM_stats_local', 'test_key', 'QFIM Results',\n",
      "       'DQFIM_stats_20_L_states', 'QFIM_basis_state'],\n",
      "      dtype='object')\n",
      "Index(['Gate', 'opt_description', 'specs', 'epochs', 'trotter_step',\n",
      "       'time_steps', 'controls', 'reservoirs', 'N_train', 'fixed_params',\n",
      "       'init_params', 'testing_results', 'infidelities', 'avg_fidelity',\n",
      "       'costs', 'params_per_epoch', 'training_states', 'opt_params', 'opt_lr',\n",
      "       'grads_per_epoch', 'init_grads', 'target DQFIM stats',\n",
      "       'DQFIM_stats_local', 'test_key', 'QFIM Results',\n",
      "       'DQFIM_stats_20_L_states', 'QFIM_basis_state'],\n",
      "      dtype='object')\n",
      "Index(['Gate', 'opt_description', 'specs', 'epochs', 'trotter_step',\n",
      "       'time_steps', 'controls', 'reservoirs', 'N_train', 'fixed_params',\n",
      "       'init_params', 'testing_results', 'infidelities', 'avg_fidelity',\n",
      "       'costs', 'params_per_epoch', 'training_states', 'opt_params', 'opt_lr',\n",
      "       'grads_per_epoch', 'init_grads', 'target DQFIM stats',\n",
      "       'DQFIM_stats_local', 'test_key', 'QFIM Results',\n",
      "       'DQFIM_stats_20_L_states', 'QFIM_basis_state'],\n",
      "      dtype='object')\n",
      "Index(['Gate', 'opt_description', 'specs', 'epochs', 'trotter_step',\n",
      "       'time_steps', 'controls', 'reservoirs', 'N_train', 'fixed_params',\n",
      "       'init_params', 'testing_results', 'infidelities', 'avg_fidelity',\n",
      "       'costs', 'params_per_epoch', 'training_states', 'opt_params', 'opt_lr',\n",
      "       'grads_per_epoch', 'init_grads', 'target DQFIM stats',\n",
      "       'DQFIM_stats_local', 'test_key', 'QFIM Results',\n",
      "       'DQFIM_stats_20_L_states', 'QFIM_basis_state'],\n",
      "      dtype='object')\n",
      "Index(['Gate', 'opt_description', 'specs', 'epochs', 'trotter_step',\n",
      "       'time_steps', 'controls', 'reservoirs', 'N_train', 'fixed_params',\n",
      "       'init_params', 'testing_results', 'infidelities', 'avg_fidelity',\n",
      "       'costs', 'params_per_epoch', 'training_states', 'opt_params', 'opt_lr',\n",
      "       'grads_per_epoch', 'init_grads', 'target DQFIM stats',\n",
      "       'DQFIM_stats_local', 'test_key', 'QFIM Results',\n",
      "       'DQFIM_stats_20_L_states', 'QFIM_basis_state'],\n",
      "      dtype='object')\n",
      "Index(['Gate', 'opt_description', 'specs', 'epochs', 'trotter_step',\n",
      "       'time_steps', 'controls', 'reservoirs', 'N_train', 'fixed_params',\n",
      "       'init_params', 'testing_results', 'infidelities', 'avg_fidelity',\n",
      "       'costs', 'params_per_epoch', 'training_states', 'opt_params', 'opt_lr',\n",
      "       'grads_per_epoch', 'init_grads', 'target DQFIM stats',\n",
      "       'DQFIM_stats_local', 'test_key', 'QFIM Results',\n",
      "       'DQFIM_stats_20_L_states', 'QFIM_basis_state'],\n",
      "      dtype='object')\n",
      "Index(['Gate', 'opt_description', 'specs', 'epochs', 'trotter_step',\n",
      "       'time_steps', 'controls', 'reservoirs', 'N_train', 'fixed_params',\n",
      "       'init_params', 'testing_results', 'infidelities', 'avg_fidelity',\n",
      "       'costs', 'params_per_epoch', 'training_states', 'opt_params', 'opt_lr',\n",
      "       'grads_per_epoch', 'init_grads', 'target DQFIM stats',\n",
      "       'DQFIM_stats_local', 'test_key', 'QFIM Results',\n",
      "       'DQFIM_stats_20_L_states', 'QFIM_basis_state'],\n",
      "      dtype='object')\n",
      "Index(['Gate', 'opt_description', 'specs', 'epochs', 'trotter_step',\n",
      "       'time_steps', 'controls', 'reservoirs', 'N_train', 'fixed_params',\n",
      "       'init_params', 'testing_results', 'infidelities', 'avg_fidelity',\n",
      "       'costs', 'params_per_epoch', 'training_states', 'opt_params', 'opt_lr',\n",
      "       'grads_per_epoch', 'init_grads', 'target DQFIM stats',\n",
      "       'DQFIM_stats_local', 'test_key', 'QFIM Results',\n",
      "       'DQFIM_stats_20_L_states', 'QFIM_basis_state'],\n",
      "      dtype='object')\n",
      "Index(['Gate', 'opt_description', 'specs', 'epochs', 'trotter_step',\n",
      "       'time_steps', 'controls', 'reservoirs', 'N_train', 'fixed_params',\n",
      "       'init_params', 'testing_results', 'infidelities', 'avg_fidelity',\n",
      "       'costs', 'params_per_epoch', 'training_states', 'opt_params', 'opt_lr',\n",
      "       'grads_per_epoch', 'init_grads', 'target DQFIM stats',\n",
      "       'DQFIM_stats_local', 'test_key', 'QFIM Results',\n",
      "       'DQFIM_stats_20_L_states', 'QFIM_basis_state'],\n",
      "      dtype='object')\n",
      "Index(['Gate', 'opt_description', 'specs', 'epochs', 'trotter_step',\n",
      "       'time_steps', 'controls', 'reservoirs', 'N_train', 'fixed_params',\n",
      "       'init_params', 'testing_results', 'infidelities', 'avg_fidelity',\n",
      "       'costs', 'params_per_epoch', 'training_states', 'opt_params', 'opt_lr',\n",
      "       'grads_per_epoch', 'init_grads', 'target DQFIM stats',\n",
      "       'DQFIM_stats_local', 'test_key', 'QFIM Results',\n",
      "       'DQFIM_stats_20_L_states', 'QFIM_basis_state'],\n",
      "      dtype='object')\n",
      "Index(['Gate', 'opt_description', 'specs', 'epochs', 'trotter_step',\n",
      "       'time_steps', 'controls', 'reservoirs', 'N_train', 'fixed_params',\n",
      "       'init_params', 'testing_results', 'infidelities', 'avg_fidelity',\n",
      "       'costs', 'params_per_epoch', 'training_states', 'opt_params', 'opt_lr',\n",
      "       'grads_per_epoch', 'init_grads', 'target DQFIM stats',\n",
      "       'DQFIM_stats_local', 'test_key', 'QFIM Results',\n",
      "       'DQFIM_stats_20_L_states', 'QFIM_basis_state'],\n",
      "      dtype='object')\n",
      "Index(['Gate', 'opt_description', 'specs', 'epochs', 'trotter_step',\n",
      "       'time_steps', 'controls', 'reservoirs', 'N_train', 'fixed_params',\n",
      "       'init_params', 'testing_results', 'infidelities', 'avg_fidelity',\n",
      "       'costs', 'params_per_epoch', 'training_states', 'opt_params', 'opt_lr',\n",
      "       'grads_per_epoch', 'init_grads', 'target DQFIM stats',\n",
      "       'DQFIM_stats_local', 'test_key', 'QFIM Results',\n",
      "       'DQFIM_stats_20_L_states', 'QFIM_basis_state'],\n",
      "      dtype='object')\n",
      "Index(['Gate', 'opt_description', 'specs', 'epochs', 'trotter_step',\n",
      "       'time_steps', 'controls', 'reservoirs', 'N_train', 'fixed_params',\n",
      "       'init_params', 'testing_results', 'infidelities', 'avg_fidelity',\n",
      "       'costs', 'params_per_epoch', 'training_states', 'opt_params', 'opt_lr',\n",
      "       'grads_per_epoch', 'init_grads', 'target DQFIM stats',\n",
      "       'DQFIM_stats_local', 'test_key', 'QFIM Results',\n",
      "       'DQFIM_stats_20_L_states', 'QFIM_basis_state'],\n",
      "      dtype='object')\n",
      "Index(['Gate', 'opt_description', 'specs', 'epochs', 'trotter_step',\n",
      "       'time_steps', 'controls', 'reservoirs', 'N_train', 'fixed_params',\n",
      "       'init_params', 'testing_results', 'infidelities', 'avg_fidelity',\n",
      "       'costs', 'params_per_epoch', 'training_states', 'opt_params', 'opt_lr',\n",
      "       'grads_per_epoch', 'init_grads', 'target DQFIM stats',\n",
      "       'DQFIM_stats_local', 'test_key', 'QFIM Results',\n",
      "       'DQFIM_stats_20_L_states', 'QFIM_basis_state'],\n",
      "      dtype='object')\n",
      "Index(['Gate', 'opt_description', 'specs', 'epochs', 'trotter_step',\n",
      "       'time_steps', 'controls', 'reservoirs', 'N_train', 'fixed_params',\n",
      "       'init_params', 'testing_results', 'infidelities', 'avg_fidelity',\n",
      "       'costs', 'params_per_epoch', 'training_states', 'opt_params', 'opt_lr',\n",
      "       'grads_per_epoch', 'init_grads', 'target DQFIM stats',\n",
      "       'DQFIM_stats_local', 'test_key', 'QFIM Results',\n",
      "       'DQFIM_stats_20_L_states', 'QFIM_basis_state'],\n",
      "      dtype='object')\n",
      "Index(['Gate', 'opt_description', 'specs', 'epochs', 'trotter_step',\n",
      "       'time_steps', 'controls', 'reservoirs', 'N_train', 'fixed_params',\n",
      "       'init_params', 'testing_results', 'infidelities', 'avg_fidelity',\n",
      "       'costs', 'params_per_epoch', 'training_states', 'opt_params', 'opt_lr',\n",
      "       'grads_per_epoch', 'init_grads', 'target DQFIM stats',\n",
      "       'DQFIM_stats_local', 'test_key', 'QFIM Results',\n",
      "       'DQFIM_stats_20_L_states', 'QFIM_basis_state'],\n",
      "      dtype='object')\n",
      "Index(['Gate', 'opt_description', 'specs', 'epochs', 'trotter_step',\n",
      "       'time_steps', 'controls', 'reservoirs', 'N_train', 'fixed_params',\n",
      "       'init_params', 'testing_results', 'infidelities', 'avg_fidelity',\n",
      "       'costs', 'params_per_epoch', 'training_states', 'opt_params', 'opt_lr',\n",
      "       'grads_per_epoch', 'init_grads', 'target DQFIM stats',\n",
      "       'DQFIM_stats_local', 'test_key', 'QFIM Results',\n",
      "       'DQFIM_stats_20_L_states', 'QFIM_basis_state'],\n",
      "      dtype='object')\n",
      "Index(['Gate', 'opt_description', 'specs', 'epochs', 'trotter_step',\n",
      "       'time_steps', 'controls', 'reservoirs', 'N_train', 'fixed_params',\n",
      "       'init_params', 'testing_results', 'infidelities', 'avg_fidelity',\n",
      "       'costs', 'params_per_epoch', 'training_states', 'opt_params', 'opt_lr',\n",
      "       'grads_per_epoch', 'init_grads', 'target DQFIM stats',\n",
      "       'DQFIM_stats_local', 'test_key', 'QFIM Results',\n",
      "       'DQFIM_stats_20_L_states', 'QFIM_basis_state'],\n",
      "      dtype='object')\n",
      "Index(['Gate', 'opt_description', 'specs', 'epochs', 'trotter_step',\n",
      "       'time_steps', 'controls', 'reservoirs', 'N_train', 'fixed_params',\n",
      "       'init_params', 'testing_results', 'infidelities', 'avg_fidelity',\n",
      "       'costs', 'params_per_epoch', 'training_states', 'opt_params', 'opt_lr',\n",
      "       'grads_per_epoch', 'init_grads', 'target DQFIM stats',\n",
      "       'DQFIM_stats_local', 'test_key', 'QFIM Results',\n",
      "       'DQFIM_stats_20_L_states', 'QFIM_basis_state'],\n",
      "      dtype='object')\n",
      "Index(['Gate', 'opt_description', 'specs', 'epochs', 'trotter_step',\n",
      "       'time_steps', 'controls', 'reservoirs', 'N_train', 'fixed_params',\n",
      "       'init_params', 'testing_results', 'infidelities', 'avg_fidelity',\n",
      "       'costs', 'params_per_epoch', 'training_states', 'opt_params', 'opt_lr',\n",
      "       'grads_per_epoch', 'init_grads', 'target DQFIM stats',\n",
      "       'DQFIM_stats_local', 'test_key', 'QFIM Results',\n",
      "       'DQFIM_stats_20_L_states', 'QFIM_basis_state'],\n",
      "      dtype='object')\n",
      "Index(['Gate', 'opt_description', 'specs', 'epochs', 'trotter_step',\n",
      "       'time_steps', 'controls', 'reservoirs', 'N_train', 'fixed_params',\n",
      "       'init_params', 'testing_results', 'infidelities', 'avg_fidelity',\n",
      "       'costs', 'params_per_epoch', 'training_states', 'opt_params', 'opt_lr',\n",
      "       'grads_per_epoch', 'init_grads', 'target DQFIM stats',\n",
      "       'DQFIM_stats_local', 'test_key', 'QFIM Results',\n",
      "       'DQFIM_stats_20_L_states', 'QFIM_basis_state'],\n",
      "      dtype='object')\n",
      "Index(['Gate', 'opt_description', 'specs', 'epochs', 'trotter_step',\n",
      "       'time_steps', 'controls', 'reservoirs', 'N_train', 'fixed_params',\n",
      "       'init_params', 'testing_results', 'infidelities', 'avg_fidelity',\n",
      "       'costs', 'params_per_epoch', 'training_states', 'opt_params', 'opt_lr',\n",
      "       'grads_per_epoch', 'init_grads', 'target DQFIM stats',\n",
      "       'DQFIM_stats_local', 'test_key', 'QFIM Results',\n",
      "       'DQFIM_stats_20_L_states', 'QFIM_basis_state'],\n",
      "      dtype='object')\n",
      "Index(['Gate', 'opt_description', 'specs', 'epochs', 'trotter_step',\n",
      "       'time_steps', 'controls', 'reservoirs', 'N_train', 'fixed_params',\n",
      "       'init_params', 'testing_results', 'infidelities', 'avg_fidelity',\n",
      "       'costs', 'params_per_epoch', 'training_states', 'opt_params', 'opt_lr',\n",
      "       'grads_per_epoch', 'init_grads', 'target DQFIM stats',\n",
      "       'DQFIM_stats_local', 'test_key', 'QFIM Results',\n",
      "       'DQFIM_stats_20_L_states', 'QFIM_basis_state'],\n",
      "      dtype='object')\n",
      "Index(['Gate', 'opt_description', 'specs', 'epochs', 'trotter_step',\n",
      "       'time_steps', 'controls', 'reservoirs', 'N_train', 'fixed_params',\n",
      "       'init_params', 'testing_results', 'infidelities', 'avg_fidelity',\n",
      "       'costs', 'params_per_epoch', 'training_states', 'opt_params', 'opt_lr',\n",
      "       'grads_per_epoch', 'init_grads', 'target DQFIM stats',\n",
      "       'DQFIM_stats_local', 'test_key', 'QFIM Results',\n",
      "       'DQFIM_stats_20_L_states', 'QFIM_basis_state'],\n",
      "      dtype='object')\n",
      "Index(['Gate', 'opt_description', 'specs', 'epochs', 'trotter_step',\n",
      "       'time_steps', 'controls', 'reservoirs', 'N_train', 'fixed_params',\n",
      "       'init_params', 'testing_results', 'infidelities', 'avg_fidelity',\n",
      "       'costs', 'params_per_epoch', 'training_states', 'opt_params', 'opt_lr',\n",
      "       'grads_per_epoch', 'init_grads', 'target DQFIM stats',\n",
      "       'DQFIM_stats_local', 'test_key', 'QFIM Results',\n",
      "       'DQFIM_stats_20_L_states', 'QFIM_basis_state'],\n",
      "      dtype='object')\n",
      "Index(['Gate', 'opt_description', 'specs', 'epochs', 'trotter_step',\n",
      "       'time_steps', 'controls', 'reservoirs', 'N_train', 'fixed_params',\n",
      "       'init_params', 'testing_results', 'infidelities', 'avg_fidelity',\n",
      "       'costs', 'params_per_epoch', 'training_states', 'opt_params', 'opt_lr',\n",
      "       'grads_per_epoch', 'init_grads', 'target DQFIM stats',\n",
      "       'DQFIM_stats_local', 'test_key', 'QFIM Results',\n",
      "       'DQFIM_stats_20_L_states', 'QFIM_basis_state'],\n",
      "      dtype='object')\n",
      "Index(['Gate', 'opt_description', 'specs', 'epochs', 'trotter_step',\n",
      "       'time_steps', 'controls', 'reservoirs', 'N_train', 'fixed_params',\n",
      "       'init_params', 'testing_results', 'infidelities', 'avg_fidelity',\n",
      "       'costs', 'params_per_epoch', 'training_states', 'opt_params', 'opt_lr',\n",
      "       'grads_per_epoch', 'init_grads', 'target DQFIM stats',\n",
      "       'DQFIM_stats_local', 'test_key', 'QFIM Results',\n",
      "       'DQFIM_stats_20_L_states', 'QFIM_basis_state'],\n",
      "      dtype='object')\n",
      "Index(['Gate', 'opt_description', 'specs', 'epochs', 'trotter_step',\n",
      "       'time_steps', 'controls', 'reservoirs', 'N_train', 'fixed_params',\n",
      "       'init_params', 'testing_results', 'infidelities', 'avg_fidelity',\n",
      "       'costs', 'params_per_epoch', 'training_states', 'opt_params', 'opt_lr',\n",
      "       'grads_per_epoch', 'init_grads', 'target DQFIM stats',\n",
      "       'DQFIM_stats_local', 'test_key', 'QFIM Results',\n",
      "       'DQFIM_stats_20_L_states', 'QFIM_basis_state'],\n",
      "      dtype='object')\n",
      "Index(['Gate', 'opt_description', 'specs', 'epochs', 'trotter_step',\n",
      "       'time_steps', 'controls', 'reservoirs', 'N_train', 'fixed_params',\n",
      "       'init_params', 'testing_results', 'infidelities', 'avg_fidelity',\n",
      "       'costs', 'params_per_epoch', 'training_states', 'opt_params', 'opt_lr',\n",
      "       'grads_per_epoch', 'init_grads', 'target DQFIM stats',\n",
      "       'DQFIM_stats_local', 'test_key', 'QFIM Results',\n",
      "       'DQFIM_stats_20_L_states', 'QFIM_basis_state'],\n",
      "      dtype='object')\n",
      "Index(['Gate', 'opt_description', 'specs', 'epochs', 'trotter_step',\n",
      "       'time_steps', 'controls', 'reservoirs', 'N_train', 'fixed_params',\n",
      "       'init_params', 'testing_results', 'infidelities', 'avg_fidelity',\n",
      "       'costs', 'params_per_epoch', 'training_states', 'opt_params', 'opt_lr',\n",
      "       'grads_per_epoch', 'init_grads', 'target DQFIM stats',\n",
      "       'DQFIM_stats_local', 'test_key', 'QFIM Results',\n",
      "       'DQFIM_stats_20_L_states', 'QFIM_basis_state'],\n",
      "      dtype='object')\n",
      "Index(['Gate', 'opt_description', 'specs', 'epochs', 'trotter_step',\n",
      "       'time_steps', 'controls', 'reservoirs', 'N_train', 'fixed_params',\n",
      "       'init_params', 'testing_results', 'infidelities', 'avg_fidelity',\n",
      "       'costs', 'params_per_epoch', 'training_states', 'opt_params', 'opt_lr',\n",
      "       'grads_per_epoch', 'init_grads', 'target DQFIM stats',\n",
      "       'DQFIM_stats_local', 'test_key', 'QFIM Results',\n",
      "       'DQFIM_stats_20_L_states', 'QFIM_basis_state'],\n",
      "      dtype='object')\n",
      "Index(['Gate', 'opt_description', 'specs', 'epochs', 'trotter_step',\n",
      "       'time_steps', 'controls', 'reservoirs', 'N_train', 'fixed_params',\n",
      "       'init_params', 'testing_results', 'infidelities', 'avg_fidelity',\n",
      "       'costs', 'params_per_epoch', 'training_states', 'opt_params', 'opt_lr',\n",
      "       'grads_per_epoch', 'init_grads', 'target DQFIM stats',\n",
      "       'DQFIM_stats_local', 'test_key', 'QFIM Results',\n",
      "       'DQFIM_stats_20_L_states', 'QFIM_basis_state'],\n",
      "      dtype='object')\n",
      "Index(['Gate', 'opt_description', 'specs', 'epochs', 'trotter_step',\n",
      "       'time_steps', 'controls', 'reservoirs', 'N_train', 'fixed_params',\n",
      "       'init_params', 'testing_results', 'infidelities', 'avg_fidelity',\n",
      "       'costs', 'params_per_epoch', 'training_states', 'opt_params', 'opt_lr',\n",
      "       'grads_per_epoch', 'init_grads', 'target DQFIM stats',\n",
      "       'DQFIM_stats_local', 'test_key', 'QFIM Results',\n",
      "       'DQFIM_stats_20_L_states', 'QFIM_basis_state'],\n",
      "      dtype='object')\n",
      "Index(['Gate', 'opt_description', 'specs', 'epochs', 'trotter_step',\n",
      "       'time_steps', 'controls', 'reservoirs', 'N_train', 'fixed_params',\n",
      "       'init_params', 'testing_results', 'infidelities', 'avg_fidelity',\n",
      "       'costs', 'params_per_epoch', 'training_states', 'opt_params', 'opt_lr',\n",
      "       'grads_per_epoch', 'init_grads', 'target DQFIM stats',\n",
      "       'DQFIM_stats_local', 'test_key', 'QFIM Results',\n",
      "       'DQFIM_stats_20_L_states', 'QFIM_basis_state'],\n",
      "      dtype='object')\n",
      "Index(['Gate', 'opt_description', 'specs', 'epochs', 'trotter_step',\n",
      "       'time_steps', 'controls', 'reservoirs', 'N_train', 'fixed_params',\n",
      "       'init_params', 'testing_results', 'infidelities', 'avg_fidelity',\n",
      "       'costs', 'params_per_epoch', 'training_states', 'opt_params', 'opt_lr',\n",
      "       'grads_per_epoch', 'init_grads', 'target DQFIM stats',\n",
      "       'DQFIM_stats_local', 'test_key', 'QFIM Results',\n",
      "       'DQFIM_stats_20_L_states', 'QFIM_basis_state'],\n",
      "      dtype='object')\n",
      "Index(['Gate', 'opt_description', 'specs', 'epochs', 'trotter_step',\n",
      "       'time_steps', 'controls', 'reservoirs', 'N_train', 'fixed_params',\n",
      "       'init_params', 'testing_results', 'infidelities', 'avg_fidelity',\n",
      "       'costs', 'params_per_epoch', 'training_states', 'opt_params', 'opt_lr',\n",
      "       'grads_per_epoch', 'init_grads', 'target DQFIM stats',\n",
      "       'DQFIM_stats_local', 'test_key', 'QFIM Results',\n",
      "       'DQFIM_stats_20_L_states', 'QFIM_basis_state'],\n",
      "      dtype='object')\n",
      "Index(['Gate', 'opt_description', 'specs', 'epochs', 'trotter_step',\n",
      "       'time_steps', 'controls', 'reservoirs', 'N_train', 'fixed_params',\n",
      "       'init_params', 'testing_results', 'infidelities', 'avg_fidelity',\n",
      "       'costs', 'params_per_epoch', 'training_states', 'opt_params', 'opt_lr',\n",
      "       'grads_per_epoch', 'init_grads', 'target DQFIM stats',\n",
      "       'DQFIM_stats_local', 'test_key', 'QFIM Results',\n",
      "       'DQFIM_stats_20_L_states', 'QFIM_basis_state'],\n",
      "      dtype='object')\n",
      "Index(['Gate', 'opt_description', 'specs', 'epochs', 'trotter_step',\n",
      "       'time_steps', 'controls', 'reservoirs', 'N_train', 'fixed_params',\n",
      "       'init_params', 'testing_results', 'infidelities', 'avg_fidelity',\n",
      "       'costs', 'params_per_epoch', 'training_states', 'opt_params', 'opt_lr',\n",
      "       'grads_per_epoch', 'init_grads', 'target DQFIM stats',\n",
      "       'DQFIM_stats_local', 'test_key', 'QFIM Results',\n",
      "       'DQFIM_stats_20_L_states', 'QFIM_basis_state'],\n",
      "      dtype='object')\n",
      "Index(['Gate', 'opt_description', 'specs', 'epochs', 'trotter_step',\n",
      "       'time_steps', 'controls', 'reservoirs', 'N_train', 'fixed_params',\n",
      "       'init_params', 'testing_results', 'infidelities', 'avg_fidelity',\n",
      "       'costs', 'params_per_epoch', 'training_states', 'opt_params', 'opt_lr',\n",
      "       'grads_per_epoch', 'init_grads', 'target DQFIM stats',\n",
      "       'DQFIM_stats_local', 'test_key', 'QFIM Results',\n",
      "       'DQFIM_stats_20_L_states', 'QFIM_basis_state'],\n",
      "      dtype='object')\n",
      "Index(['Gate', 'opt_description', 'specs', 'epochs', 'trotter_step',\n",
      "       'time_steps', 'controls', 'reservoirs', 'N_train', 'fixed_params',\n",
      "       'init_params', 'testing_results', 'infidelities', 'avg_fidelity',\n",
      "       'costs', 'params_per_epoch', 'training_states', 'opt_params', 'opt_lr',\n",
      "       'grads_per_epoch', 'init_grads', 'target DQFIM stats',\n",
      "       'DQFIM_stats_local', 'test_key', 'QFIM Results',\n",
      "       'DQFIM_stats_20_L_states', 'QFIM_basis_state'],\n",
      "      dtype='object')\n",
      "Index(['Gate', 'opt_description', 'specs', 'epochs', 'trotter_step',\n",
      "       'time_steps', 'controls', 'reservoirs', 'N_train', 'fixed_params',\n",
      "       'init_params', 'testing_results', 'infidelities', 'avg_fidelity',\n",
      "       'costs', 'params_per_epoch', 'training_states', 'opt_params', 'opt_lr',\n",
      "       'grads_per_epoch', 'init_grads', 'target DQFIM stats',\n",
      "       'DQFIM_stats_local', 'test_key', 'QFIM Results',\n",
      "       'DQFIM_stats_20_L_states', 'QFIM_basis_state'],\n",
      "      dtype='object')\n",
      "Index(['Gate', 'opt_description', 'specs', 'epochs', 'trotter_step',\n",
      "       'time_steps', 'controls', 'reservoirs', 'N_train', 'fixed_params',\n",
      "       'init_params', 'testing_results', 'infidelities', 'avg_fidelity',\n",
      "       'costs', 'params_per_epoch', 'training_states', 'opt_params', 'opt_lr',\n",
      "       'grads_per_epoch', 'init_grads', 'target DQFIM stats',\n",
      "       'DQFIM_stats_local', 'test_key', 'QFIM Results',\n",
      "       'DQFIM_stats_20_L_states', 'QFIM_basis_state'],\n",
      "      dtype='object')\n",
      "Index(['Gate', 'opt_description', 'specs', 'epochs', 'trotter_step',\n",
      "       'time_steps', 'controls', 'reservoirs', 'N_train', 'fixed_params',\n",
      "       'init_params', 'testing_results', 'infidelities', 'avg_fidelity',\n",
      "       'costs', 'params_per_epoch', 'training_states', 'opt_params', 'opt_lr',\n",
      "       'grads_per_epoch', 'init_grads', 'target DQFIM stats',\n",
      "       'DQFIM_stats_local', 'test_key', 'QFIM Results',\n",
      "       'DQFIM_stats_20_L_states', 'QFIM_basis_state'],\n",
      "      dtype='object')\n",
      "Index(['Gate', 'opt_description', 'specs', 'epochs', 'trotter_step',\n",
      "       'time_steps', 'controls', 'reservoirs', 'N_train', 'fixed_params',\n",
      "       'init_params', 'testing_results', 'infidelities', 'avg_fidelity',\n",
      "       'costs', 'params_per_epoch', 'training_states', 'opt_params', 'opt_lr',\n",
      "       'grads_per_epoch', 'init_grads', 'target DQFIM stats',\n",
      "       'DQFIM_stats_local', 'test_key', 'QFIM Results',\n",
      "       'DQFIM_stats_20_L_states', 'QFIM_basis_state'],\n",
      "      dtype='object')\n",
      "Index(['Gate', 'opt_description', 'specs', 'epochs', 'trotter_step',\n",
      "       'time_steps', 'controls', 'reservoirs', 'N_train', 'fixed_params',\n",
      "       'init_params', 'testing_results', 'infidelities', 'avg_fidelity',\n",
      "       'costs', 'params_per_epoch', 'training_states', 'opt_params', 'opt_lr',\n",
      "       'grads_per_epoch', 'init_grads', 'target DQFIM stats',\n",
      "       'DQFIM_stats_local', 'test_key', 'QFIM Results',\n",
      "       'DQFIM_stats_20_L_states', 'QFIM_basis_state'],\n",
      "      dtype='object')\n",
      "Index(['Gate', 'opt_description', 'specs', 'epochs', 'trotter_step',\n",
      "       'time_steps', 'controls', 'reservoirs', 'N_train', 'fixed_params',\n",
      "       'init_params', 'testing_results', 'infidelities', 'avg_fidelity',\n",
      "       'costs', 'params_per_epoch', 'training_states', 'opt_params', 'opt_lr',\n",
      "       'grads_per_epoch', 'init_grads', 'target DQFIM stats',\n",
      "       'DQFIM_stats_local', 'test_key', 'QFIM Results',\n",
      "       'DQFIM_stats_20_L_states', 'QFIM_basis_state'],\n",
      "      dtype='object')\n",
      "Index(['Gate', 'opt_description', 'specs', 'epochs', 'trotter_step',\n",
      "       'time_steps', 'controls', 'reservoirs', 'N_train', 'fixed_params',\n",
      "       'init_params', 'testing_results', 'infidelities', 'avg_fidelity',\n",
      "       'costs', 'params_per_epoch', 'training_states', 'opt_params', 'opt_lr',\n",
      "       'grads_per_epoch', 'init_grads', 'target DQFIM stats',\n",
      "       'DQFIM_stats_local', 'test_key', 'QFIM Results',\n",
      "       'DQFIM_stats_20_L_states', 'QFIM_basis_state'],\n",
      "      dtype='object')\n",
      "Index(['Gate', 'opt_description', 'specs', 'epochs', 'trotter_step',\n",
      "       'time_steps', 'controls', 'reservoirs', 'N_train', 'fixed_params',\n",
      "       'init_params', 'testing_results', 'infidelities', 'avg_fidelity',\n",
      "       'costs', 'params_per_epoch', 'training_states', 'opt_params', 'opt_lr',\n",
      "       'grads_per_epoch', 'init_grads', 'target DQFIM stats',\n",
      "       'DQFIM_stats_local', 'test_key', 'QFIM Results',\n",
      "       'DQFIM_stats_20_L_states', 'QFIM_basis_state'],\n",
      "      dtype='object')\n",
      "Index(['Gate', 'opt_description', 'specs', 'epochs', 'trotter_step',\n",
      "       'time_steps', 'controls', 'reservoirs', 'N_train', 'fixed_params',\n",
      "       'init_params', 'testing_results', 'infidelities', 'avg_fidelity',\n",
      "       'costs', 'params_per_epoch', 'training_states', 'opt_params', 'opt_lr',\n",
      "       'grads_per_epoch', 'init_grads', 'target DQFIM stats',\n",
      "       'DQFIM_stats_local', 'test_key', 'QFIM Results',\n",
      "       'DQFIM_stats_20_L_states', 'QFIM_basis_state'],\n",
      "      dtype='object')\n",
      "Index(['Gate', 'opt_description', 'specs', 'epochs', 'trotter_step',\n",
      "       'time_steps', 'controls', 'reservoirs', 'N_train', 'fixed_params',\n",
      "       'init_params', 'testing_results', 'infidelities', 'avg_fidelity',\n",
      "       'costs', 'params_per_epoch', 'training_states', 'opt_params', 'opt_lr',\n",
      "       'grads_per_epoch', 'init_grads', 'target DQFIM stats',\n",
      "       'DQFIM_stats_local', 'test_key', 'QFIM Results',\n",
      "       'DQFIM_stats_20_L_states', 'QFIM_basis_state'],\n",
      "      dtype='object')\n",
      "Index(['Gate', 'opt_description', 'specs', 'epochs', 'trotter_step',\n",
      "       'time_steps', 'controls', 'reservoirs', 'N_train', 'fixed_params',\n",
      "       'init_params', 'testing_results', 'infidelities', 'avg_fidelity',\n",
      "       'costs', 'params_per_epoch', 'training_states', 'opt_params', 'opt_lr',\n",
      "       'grads_per_epoch', 'init_grads', 'target DQFIM stats',\n",
      "       'DQFIM_stats_local', 'test_key', 'QFIM Results',\n",
      "       'DQFIM_stats_20_L_states', 'QFIM_basis_state'],\n",
      "      dtype='object')\n",
      "Index(['Gate', 'opt_description', 'specs', 'epochs', 'trotter_step',\n",
      "       'time_steps', 'controls', 'reservoirs', 'N_train', 'fixed_params',\n",
      "       'init_params', 'testing_results', 'infidelities', 'avg_fidelity',\n",
      "       'costs', 'params_per_epoch', 'training_states', 'opt_params', 'opt_lr',\n",
      "       'grads_per_epoch', 'init_grads', 'target DQFIM stats',\n",
      "       'DQFIM_stats_local', 'test_key', 'QFIM Results',\n",
      "       'DQFIM_stats_20_L_states', 'QFIM_basis_state'],\n",
      "      dtype='object')\n",
      "Index(['Gate', 'opt_description', 'specs', 'epochs', 'trotter_step',\n",
      "       'time_steps', 'controls', 'reservoirs', 'N_train', 'fixed_params',\n",
      "       'init_params', 'testing_results', 'infidelities', 'avg_fidelity',\n",
      "       'costs', 'params_per_epoch', 'training_states', 'opt_params', 'opt_lr',\n",
      "       'grads_per_epoch', 'init_grads', 'target DQFIM stats',\n",
      "       'DQFIM_stats_local', 'test_key', 'QFIM Results',\n",
      "       'DQFIM_stats_20_L_states', 'QFIM_basis_state'],\n",
      "      dtype='object')\n",
      "Index(['Gate', 'opt_description', 'specs', 'epochs', 'trotter_step',\n",
      "       'time_steps', 'controls', 'reservoirs', 'N_train', 'fixed_params',\n",
      "       'init_params', 'testing_results', 'infidelities', 'avg_fidelity',\n",
      "       'costs', 'params_per_epoch', 'training_states', 'opt_params', 'opt_lr',\n",
      "       'grads_per_epoch', 'init_grads', 'target DQFIM stats',\n",
      "       'DQFIM_stats_local', 'test_key', 'QFIM Results',\n",
      "       'DQFIM_stats_20_L_states', 'QFIM_basis_state'],\n",
      "      dtype='object')\n",
      "Index(['Gate', 'opt_description', 'specs', 'epochs', 'trotter_step',\n",
      "       'time_steps', 'controls', 'reservoirs', 'N_train', 'fixed_params',\n",
      "       'init_params', 'testing_results', 'infidelities', 'avg_fidelity',\n",
      "       'costs', 'params_per_epoch', 'training_states', 'opt_params', 'opt_lr',\n",
      "       'grads_per_epoch', 'init_grads', 'target DQFIM stats',\n",
      "       'DQFIM_stats_local', 'test_key', 'QFIM Results',\n",
      "       'DQFIM_stats_20_L_states', 'QFIM_basis_state'],\n",
      "      dtype='object')\n",
      "Index(['Gate', 'opt_description', 'specs', 'epochs', 'trotter_step',\n",
      "       'time_steps', 'controls', 'reservoirs', 'N_train', 'fixed_params',\n",
      "       'init_params', 'testing_results', 'infidelities', 'avg_fidelity',\n",
      "       'costs', 'params_per_epoch', 'training_states', 'opt_params', 'opt_lr',\n",
      "       'grads_per_epoch', 'init_grads', 'target DQFIM stats',\n",
      "       'DQFIM_stats_local', 'test_key', 'QFIM Results',\n",
      "       'DQFIM_stats_20_L_states', 'QFIM_basis_state'],\n",
      "      dtype='object')\n",
      "Index(['Gate', 'opt_description', 'specs', 'epochs', 'trotter_step',\n",
      "       'time_steps', 'controls', 'reservoirs', 'N_train', 'fixed_params',\n",
      "       'init_params', 'testing_results', 'infidelities', 'avg_fidelity',\n",
      "       'costs', 'params_per_epoch', 'training_states', 'opt_params', 'opt_lr',\n",
      "       'grads_per_epoch', 'init_grads', 'target DQFIM stats',\n",
      "       'DQFIM_stats_local', 'test_key', 'QFIM Results',\n",
      "       'DQFIM_stats_20_L_states', 'QFIM_basis_state'],\n",
      "      dtype='object')\n",
      "Index(['Gate', 'opt_description', 'specs', 'epochs', 'trotter_step',\n",
      "       'time_steps', 'controls', 'reservoirs', 'N_train', 'fixed_params',\n",
      "       'init_params', 'testing_results', 'infidelities', 'avg_fidelity',\n",
      "       'costs', 'params_per_epoch', 'training_states', 'opt_params', 'opt_lr',\n",
      "       'grads_per_epoch', 'init_grads', 'target DQFIM stats',\n",
      "       'DQFIM_stats_local', 'test_key', 'QFIM Results',\n",
      "       'DQFIM_stats_20_L_states', 'QFIM_basis_state'],\n",
      "      dtype='object')\n",
      "Index(['Gate', 'opt_description', 'specs', 'epochs', 'trotter_step',\n",
      "       'time_steps', 'controls', 'reservoirs', 'N_train', 'fixed_params',\n",
      "       'init_params', 'testing_results', 'infidelities', 'avg_fidelity',\n",
      "       'costs', 'params_per_epoch', 'training_states', 'opt_params', 'opt_lr',\n",
      "       'grads_per_epoch', 'init_grads', 'target DQFIM stats',\n",
      "       'DQFIM_stats_local', 'test_key', 'QFIM Results',\n",
      "       'DQFIM_stats_20_L_states', 'QFIM_basis_state'],\n",
      "      dtype='object')\n",
      "Index(['Gate', 'opt_description', 'specs', 'epochs', 'trotter_step',\n",
      "       'time_steps', 'controls', 'reservoirs', 'N_train', 'fixed_params',\n",
      "       'init_params', 'testing_results', 'infidelities', 'avg_fidelity',\n",
      "       'costs', 'params_per_epoch', 'training_states', 'opt_params', 'opt_lr',\n",
      "       'grads_per_epoch', 'init_grads', 'target DQFIM stats',\n",
      "       'DQFIM_stats_local', 'test_key', 'QFIM Results',\n",
      "       'DQFIM_stats_20_L_states', 'QFIM_basis_state'],\n",
      "      dtype='object')\n",
      "Index(['Gate', 'opt_description', 'specs', 'epochs', 'trotter_step',\n",
      "       'time_steps', 'controls', 'reservoirs', 'N_train', 'fixed_params',\n",
      "       'init_params', 'testing_results', 'infidelities', 'avg_fidelity',\n",
      "       'costs', 'params_per_epoch', 'training_states', 'opt_params', 'opt_lr',\n",
      "       'grads_per_epoch', 'init_grads', 'target DQFIM stats',\n",
      "       'DQFIM_stats_local', 'test_key', 'QFIM Results',\n",
      "       'DQFIM_stats_20_L_states', 'QFIM_basis_state'],\n",
      "      dtype='object')\n",
      "Index(['Gate', 'opt_description', 'specs', 'epochs', 'trotter_step',\n",
      "       'time_steps', 'controls', 'reservoirs', 'N_train', 'fixed_params',\n",
      "       'init_params', 'testing_results', 'infidelities', 'avg_fidelity',\n",
      "       'costs', 'params_per_epoch', 'training_states', 'opt_params', 'opt_lr',\n",
      "       'grads_per_epoch', 'init_grads', 'target DQFIM stats',\n",
      "       'DQFIM_stats_local', 'test_key', 'QFIM Results',\n",
      "       'DQFIM_stats_20_L_states', 'QFIM_basis_state'],\n",
      "      dtype='object')\n",
      "Index(['Gate', 'opt_description', 'specs', 'epochs', 'trotter_step',\n",
      "       'time_steps', 'controls', 'reservoirs', 'N_train', 'fixed_params',\n",
      "       'init_params', 'testing_results', 'infidelities', 'avg_fidelity',\n",
      "       'costs', 'params_per_epoch', 'training_states', 'opt_params', 'opt_lr',\n",
      "       'grads_per_epoch', 'init_grads', 'target DQFIM stats',\n",
      "       'DQFIM_stats_local', 'test_key', 'QFIM Results',\n",
      "       'DQFIM_stats_20_L_states', 'QFIM_basis_state'],\n",
      "      dtype='object')\n",
      "Index(['Gate', 'opt_description', 'specs', 'epochs', 'trotter_step',\n",
      "       'time_steps', 'controls', 'reservoirs', 'N_train', 'fixed_params',\n",
      "       'init_params', 'testing_results', 'infidelities', 'avg_fidelity',\n",
      "       'costs', 'params_per_epoch', 'training_states', 'opt_params', 'opt_lr',\n",
      "       'grads_per_epoch', 'init_grads', 'target DQFIM stats',\n",
      "       'DQFIM_stats_local', 'test_key', 'QFIM Results',\n",
      "       'DQFIM_stats_20_L_states', 'QFIM_basis_state'],\n",
      "      dtype='object')\n",
      "Index(['Gate', 'opt_description', 'specs', 'epochs', 'trotter_step',\n",
      "       'time_steps', 'controls', 'reservoirs', 'N_train', 'fixed_params',\n",
      "       'init_params', 'testing_results', 'infidelities', 'avg_fidelity',\n",
      "       'costs', 'params_per_epoch', 'training_states', 'opt_params', 'opt_lr',\n",
      "       'grads_per_epoch', 'init_grads', 'target DQFIM stats',\n",
      "       'DQFIM_stats_local', 'test_key', 'QFIM Results',\n",
      "       'DQFIM_stats_20_L_states', 'QFIM_basis_state'],\n",
      "      dtype='object')\n",
      "Index(['Gate', 'opt_description', 'specs', 'epochs', 'trotter_step',\n",
      "       'time_steps', 'controls', 'reservoirs', 'N_train', 'fixed_params',\n",
      "       'init_params', 'testing_results', 'infidelities', 'avg_fidelity',\n",
      "       'costs', 'params_per_epoch', 'training_states', 'opt_params', 'opt_lr',\n",
      "       'grads_per_epoch', 'init_grads', 'target DQFIM stats',\n",
      "       'DQFIM_stats_local', 'test_key', 'QFIM Results',\n",
      "       'DQFIM_stats_20_L_states', 'QFIM_basis_state'],\n",
      "      dtype='object')\n",
      "Index(['Gate', 'opt_description', 'specs', 'epochs', 'trotter_step',\n",
      "       'time_steps', 'controls', 'reservoirs', 'N_train', 'fixed_params',\n",
      "       'init_params', 'testing_results', 'infidelities', 'avg_fidelity',\n",
      "       'costs', 'params_per_epoch', 'training_states', 'opt_params', 'opt_lr',\n",
      "       'grads_per_epoch', 'init_grads', 'target DQFIM stats',\n",
      "       'DQFIM_stats_local', 'test_key', 'QFIM Results',\n",
      "       'DQFIM_stats_20_L_states', 'QFIM_basis_state'],\n",
      "      dtype='object')\n",
      "Index(['Gate', 'opt_description', 'specs', 'epochs', 'trotter_step',\n",
      "       'time_steps', 'controls', 'reservoirs', 'N_train', 'fixed_params',\n",
      "       'init_params', 'testing_results', 'infidelities', 'avg_fidelity',\n",
      "       'costs', 'params_per_epoch', 'training_states', 'opt_params', 'opt_lr',\n",
      "       'grads_per_epoch', 'init_grads', 'target DQFIM stats',\n",
      "       'DQFIM_stats_local', 'test_key', 'QFIM Results',\n",
      "       'DQFIM_stats_20_L_states', 'QFIM_basis_state'],\n",
      "      dtype='object')\n",
      "Index(['Gate', 'opt_description', 'specs', 'epochs', 'trotter_step',\n",
      "       'time_steps', 'controls', 'reservoirs', 'N_train', 'fixed_params',\n",
      "       'init_params', 'testing_results', 'infidelities', 'avg_fidelity',\n",
      "       'costs', 'params_per_epoch', 'training_states', 'opt_params', 'opt_lr',\n",
      "       'grads_per_epoch', 'init_grads', 'target DQFIM stats',\n",
      "       'DQFIM_stats_local', 'test_key', 'QFIM Results',\n",
      "       'DQFIM_stats_20_L_states', 'QFIM_basis_state'],\n",
      "      dtype='object')\n",
      "Index(['Gate', 'opt_description', 'specs', 'epochs', 'trotter_step',\n",
      "       'time_steps', 'controls', 'reservoirs', 'N_train', 'fixed_params',\n",
      "       'init_params', 'testing_results', 'infidelities', 'avg_fidelity',\n",
      "       'costs', 'params_per_epoch', 'training_states', 'opt_params', 'opt_lr',\n",
      "       'grads_per_epoch', 'init_grads', 'target DQFIM stats',\n",
      "       'DQFIM_stats_local', 'test_key', 'QFIM Results',\n",
      "       'DQFIM_stats_20_L_states', 'QFIM_basis_state'],\n",
      "      dtype='object')\n",
      "Index(['Gate', 'opt_description', 'specs', 'epochs', 'trotter_step',\n",
      "       'time_steps', 'controls', 'reservoirs', 'N_train', 'fixed_params',\n",
      "       'init_params', 'testing_results', 'infidelities', 'avg_fidelity',\n",
      "       'costs', 'params_per_epoch', 'training_states', 'opt_params', 'opt_lr',\n",
      "       'grads_per_epoch', 'init_grads', 'target DQFIM stats',\n",
      "       'DQFIM_stats_local', 'test_key', 'QFIM Results',\n",
      "       'DQFIM_stats_20_L_states', 'QFIM_basis_state'],\n",
      "      dtype='object')\n",
      "Index(['Gate', 'opt_description', 'specs', 'epochs', 'trotter_step',\n",
      "       'time_steps', 'controls', 'reservoirs', 'N_train', 'fixed_params',\n",
      "       'init_params', 'testing_results', 'infidelities', 'avg_fidelity',\n",
      "       'costs', 'params_per_epoch', 'training_states', 'opt_params', 'opt_lr',\n",
      "       'grads_per_epoch', 'init_grads', 'target DQFIM stats',\n",
      "       'DQFIM_stats_local', 'test_key', 'QFIM Results',\n",
      "       'DQFIM_stats_20_L_states', 'QFIM_basis_state'],\n",
      "      dtype='object')\n",
      "Index(['Gate', 'opt_description', 'specs', 'epochs', 'trotter_step',\n",
      "       'time_steps', 'controls', 'reservoirs', 'N_train', 'fixed_params',\n",
      "       'init_params', 'testing_results', 'infidelities', 'avg_fidelity',\n",
      "       'costs', 'params_per_epoch', 'training_states', 'opt_params', 'opt_lr',\n",
      "       'grads_per_epoch', 'init_grads', 'target DQFIM stats',\n",
      "       'DQFIM_stats_local', 'test_key', 'QFIM Results',\n",
      "       'DQFIM_stats_20_L_states', 'QFIM_basis_state'],\n",
      "      dtype='object')\n",
      "Index(['Gate', 'opt_description', 'specs', 'epochs', 'trotter_step',\n",
      "       'time_steps', 'controls', 'reservoirs', 'N_train', 'fixed_params',\n",
      "       'init_params', 'testing_results', 'infidelities', 'avg_fidelity',\n",
      "       'costs', 'params_per_epoch', 'training_states', 'opt_params', 'opt_lr',\n",
      "       'grads_per_epoch', 'init_grads', 'target DQFIM stats',\n",
      "       'DQFIM_stats_local', 'test_key', 'QFIM Results',\n",
      "       'DQFIM_stats_20_L_states', 'QFIM_basis_state'],\n",
      "      dtype='object')\n",
      "Index(['Gate', 'opt_description', 'specs', 'epochs', 'trotter_step',\n",
      "       'time_steps', 'controls', 'reservoirs', 'N_train', 'fixed_params',\n",
      "       'init_params', 'testing_results', 'infidelities', 'avg_fidelity',\n",
      "       'costs', 'params_per_epoch', 'training_states', 'opt_params', 'opt_lr',\n",
      "       'grads_per_epoch', 'init_grads', 'target DQFIM stats',\n",
      "       'DQFIM_stats_local', 'test_key', 'QFIM Results',\n",
      "       'DQFIM_stats_20_L_states', 'QFIM_basis_state'],\n",
      "      dtype='object')\n",
      "Index(['Gate', 'opt_description', 'specs', 'epochs', 'trotter_step',\n",
      "       'time_steps', 'controls', 'reservoirs', 'N_train', 'fixed_params',\n",
      "       'init_params', 'testing_results', 'infidelities', 'avg_fidelity',\n",
      "       'costs', 'params_per_epoch', 'training_states', 'opt_params', 'opt_lr',\n",
      "       'grads_per_epoch', 'init_grads', 'target DQFIM stats',\n",
      "       'DQFIM_stats_local', 'test_key', 'QFIM Results',\n",
      "       'DQFIM_stats_20_L_states', 'QFIM_basis_state'],\n",
      "      dtype='object')\n",
      "Index(['Gate', 'opt_description', 'specs', 'epochs', 'trotter_step',\n",
      "       'time_steps', 'controls', 'reservoirs', 'N_train', 'fixed_params',\n",
      "       'init_params', 'testing_results', 'infidelities', 'avg_fidelity',\n",
      "       'costs', 'params_per_epoch', 'training_states', 'opt_params', 'opt_lr',\n",
      "       'grads_per_epoch', 'init_grads', 'target DQFIM stats',\n",
      "       'DQFIM_stats_local', 'test_key', 'QFIM Results',\n",
      "       'DQFIM_stats_20_L_states', 'QFIM_basis_state'],\n",
      "      dtype='object')\n",
      "Index(['Gate', 'opt_description', 'specs', 'epochs', 'trotter_step',\n",
      "       'time_steps', 'controls', 'reservoirs', 'N_train', 'fixed_params',\n",
      "       'init_params', 'testing_results', 'infidelities', 'avg_fidelity',\n",
      "       'costs', 'params_per_epoch', 'training_states', 'opt_params', 'opt_lr',\n",
      "       'grads_per_epoch', 'init_grads', 'target DQFIM stats',\n",
      "       'DQFIM_stats_local', 'test_key', 'QFIM Results',\n",
      "       'DQFIM_stats_20_L_states', 'QFIM_basis_state'],\n",
      "      dtype='object')\n",
      "Index(['Gate', 'opt_description', 'specs', 'epochs', 'trotter_step',\n",
      "       'time_steps', 'controls', 'reservoirs', 'N_train', 'fixed_params',\n",
      "       'init_params', 'testing_results', 'infidelities', 'avg_fidelity',\n",
      "       'costs', 'params_per_epoch', 'training_states', 'opt_params', 'opt_lr',\n",
      "       'grads_per_epoch', 'init_grads', 'target DQFIM stats',\n",
      "       'DQFIM_stats_local', 'test_key', 'QFIM Results',\n",
      "       'DQFIM_stats_20_L_states', 'QFIM_basis_state'],\n",
      "      dtype='object')\n",
      "Index(['Gate', 'opt_description', 'specs', 'epochs', 'trotter_step',\n",
      "       'time_steps', 'controls', 'reservoirs', 'N_train', 'fixed_params',\n",
      "       'init_params', 'testing_results', 'infidelities', 'avg_fidelity',\n",
      "       'costs', 'params_per_epoch', 'training_states', 'opt_params', 'opt_lr',\n",
      "       'grads_per_epoch', 'init_grads', 'target DQFIM stats',\n",
      "       'DQFIM_stats_local', 'test_key', 'QFIM Results',\n",
      "       'DQFIM_stats_20_L_states', 'QFIM_basis_state'],\n",
      "      dtype='object')\n",
      "Index(['Gate', 'opt_description', 'specs', 'epochs', 'trotter_step',\n",
      "       'time_steps', 'controls', 'reservoirs', 'N_train', 'fixed_params',\n",
      "       'init_params', 'testing_results', 'infidelities', 'avg_fidelity',\n",
      "       'costs', 'params_per_epoch', 'training_states', 'opt_params', 'opt_lr',\n",
      "       'grads_per_epoch', 'init_grads', 'target DQFIM stats',\n",
      "       'DQFIM_stats_local', 'test_key', 'QFIM Results',\n",
      "       'DQFIM_stats_20_L_states', 'QFIM_basis_state'],\n",
      "      dtype='object')\n",
      "Index(['Gate', 'opt_description', 'specs', 'epochs', 'trotter_step',\n",
      "       'time_steps', 'controls', 'reservoirs', 'N_train', 'fixed_params',\n",
      "       'init_params', 'testing_results', 'infidelities', 'avg_fidelity',\n",
      "       'costs', 'params_per_epoch', 'training_states', 'opt_params', 'opt_lr',\n",
      "       'grads_per_epoch', 'init_grads', 'target DQFIM stats',\n",
      "       'DQFIM_stats_local', 'test_key', 'QFIM Results',\n",
      "       'DQFIM_stats_20_L_states', 'QFIM_basis_state'],\n",
      "      dtype='object')\n",
      "Index(['Gate', 'opt_description', 'specs', 'epochs', 'trotter_step',\n",
      "       'time_steps', 'controls', 'reservoirs', 'N_train', 'fixed_params',\n",
      "       'init_params', 'testing_results', 'infidelities', 'avg_fidelity',\n",
      "       'costs', 'params_per_epoch', 'training_states', 'opt_params', 'opt_lr',\n",
      "       'grads_per_epoch', 'init_grads', 'target DQFIM stats',\n",
      "       'DQFIM_stats_local', 'test_key', 'QFIM Results',\n",
      "       'DQFIM_stats_20_L_states', 'QFIM_basis_state'],\n",
      "      dtype='object')\n",
      "Index(['Gate', 'opt_description', 'specs', 'epochs', 'trotter_step',\n",
      "       'time_steps', 'controls', 'reservoirs', 'N_train', 'fixed_params',\n",
      "       'init_params', 'testing_results', 'infidelities', 'avg_fidelity',\n",
      "       'costs', 'params_per_epoch', 'training_states', 'opt_params', 'opt_lr',\n",
      "       'grads_per_epoch', 'init_grads', 'target DQFIM stats',\n",
      "       'DQFIM_stats_local', 'test_key', 'QFIM Results',\n",
      "       'DQFIM_stats_20_L_states', 'QFIM_basis_state'],\n",
      "      dtype='object')\n",
      "Index(['Gate', 'opt_description', 'specs', 'epochs', 'trotter_step',\n",
      "       'time_steps', 'controls', 'reservoirs', 'N_train', 'fixed_params',\n",
      "       'init_params', 'testing_results', 'infidelities', 'avg_fidelity',\n",
      "       'costs', 'params_per_epoch', 'training_states', 'opt_params', 'opt_lr',\n",
      "       'grads_per_epoch', 'init_grads', 'target DQFIM stats',\n",
      "       'DQFIM_stats_local', 'test_key', 'QFIM Results',\n",
      "       'DQFIM_stats_20_L_states', 'QFIM_basis_state'],\n",
      "      dtype='object')\n",
      "Index(['Gate', 'opt_description', 'specs', 'epochs', 'trotter_step',\n",
      "       'time_steps', 'controls', 'reservoirs', 'N_train', 'fixed_params',\n",
      "       'init_params', 'testing_results', 'infidelities', 'avg_fidelity',\n",
      "       'costs', 'params_per_epoch', 'training_states', 'opt_params', 'opt_lr',\n",
      "       'grads_per_epoch', 'init_grads', 'target DQFIM stats',\n",
      "       'DQFIM_stats_local', 'test_key', 'QFIM Results',\n",
      "       'DQFIM_stats_20_L_states', 'QFIM_basis_state'],\n",
      "      dtype='object')\n",
      "Index(['Gate', 'opt_description', 'specs', 'epochs', 'trotter_step',\n",
      "       'time_steps', 'controls', 'reservoirs', 'N_train', 'fixed_params',\n",
      "       'init_params', 'testing_results', 'infidelities', 'avg_fidelity',\n",
      "       'costs', 'params_per_epoch', 'training_states', 'opt_params', 'opt_lr',\n",
      "       'grads_per_epoch', 'init_grads', 'target DQFIM stats',\n",
      "       'DQFIM_stats_local', 'test_key', 'QFIM Results',\n",
      "       'DQFIM_stats_20_L_states', 'QFIM_basis_state'],\n",
      "      dtype='object')\n",
      "Index(['Gate', 'opt_description', 'specs', 'epochs', 'trotter_step',\n",
      "       'time_steps', 'controls', 'reservoirs', 'N_train', 'fixed_params',\n",
      "       'init_params', 'testing_results', 'infidelities', 'avg_fidelity',\n",
      "       'costs', 'params_per_epoch', 'training_states', 'opt_params', 'opt_lr',\n",
      "       'grads_per_epoch', 'init_grads', 'target DQFIM stats',\n",
      "       'DQFIM_stats_local', 'test_key', 'QFIM Results',\n",
      "       'DQFIM_stats_20_L_states', 'QFIM_basis_state'],\n",
      "      dtype='object')\n",
      "Index(['Gate', 'opt_description', 'specs', 'epochs', 'trotter_step',\n",
      "       'time_steps', 'controls', 'reservoirs', 'N_train', 'fixed_params',\n",
      "       'init_params', 'testing_results', 'infidelities', 'avg_fidelity',\n",
      "       'costs', 'params_per_epoch', 'training_states', 'opt_params', 'opt_lr',\n",
      "       'grads_per_epoch', 'init_grads', 'target DQFIM stats',\n",
      "       'DQFIM_stats_local', 'test_key', 'QFIM Results',\n",
      "       'DQFIM_stats_20_L_states', 'QFIM_basis_state'],\n",
      "      dtype='object')\n",
      "Index(['Gate', 'opt_description', 'specs', 'epochs', 'trotter_step',\n",
      "       'time_steps', 'controls', 'reservoirs', 'N_train', 'fixed_params',\n",
      "       'init_params', 'testing_results', 'infidelities', 'avg_fidelity',\n",
      "       'costs', 'params_per_epoch', 'training_states', 'opt_params', 'opt_lr',\n",
      "       'grads_per_epoch', 'init_grads', 'target DQFIM stats',\n",
      "       'DQFIM_stats_local', 'test_key', 'QFIM Results',\n",
      "       'DQFIM_stats_20_L_states', 'QFIM_basis_state'],\n",
      "      dtype='object')\n",
      "Index(['Gate', 'opt_description', 'specs', 'epochs', 'trotter_step',\n",
      "       'time_steps', 'controls', 'reservoirs', 'N_train', 'fixed_params',\n",
      "       'init_params', 'testing_results', 'infidelities', 'avg_fidelity',\n",
      "       'costs', 'params_per_epoch', 'training_states', 'opt_params', 'opt_lr',\n",
      "       'grads_per_epoch', 'init_grads', 'target DQFIM stats',\n",
      "       'DQFIM_stats_local', 'test_key', 'QFIM Results',\n",
      "       'DQFIM_stats_20_L_states', 'QFIM_basis_state'],\n",
      "      dtype='object')\n",
      "Index(['Gate', 'opt_description', 'specs', 'epochs', 'trotter_step',\n",
      "       'time_steps', 'controls', 'reservoirs', 'N_train', 'fixed_params',\n",
      "       'init_params', 'testing_results', 'infidelities', 'avg_fidelity',\n",
      "       'costs', 'params_per_epoch', 'training_states', 'opt_params', 'opt_lr',\n",
      "       'grads_per_epoch', 'init_grads', 'target DQFIM stats',\n",
      "       'DQFIM_stats_local', 'test_key', 'QFIM Results',\n",
      "       'DQFIM_stats_20_L_states', 'QFIM_basis_state'],\n",
      "      dtype='object')\n",
      "test131 gate U2_11 has 3 data runs stored. Picking latest one: data_run_0_.pickle\n",
      "Index(['Gate', 'opt_description', 'specs', 'epochs', 'trotter_step',\n",
      "       'time_steps', 'controls', 'reservoirs', 'N_train', 'fixed_params',\n",
      "       'init_params', 'testing_results', 'infidelities', 'avg_fidelity',\n",
      "       'costs', 'params_per_epoch', 'training_states', 'opt_params', 'opt_lr',\n",
      "       'grads_per_epoch', 'init_grads', 'target DQFIM stats',\n",
      "       'DQFIM_stats_local', 'test_key', 'QFIM Results',\n",
      "       'DQFIM_stats_20_L_states', 'QFIM_basis_state'],\n",
      "      dtype='object')\n",
      "Index(['Gate', 'opt_description', 'specs', 'epochs', 'trotter_step',\n",
      "       'time_steps', 'controls', 'reservoirs', 'N_train', 'fixed_params',\n",
      "       'init_params', 'testing_results', 'infidelities', 'avg_fidelity',\n",
      "       'costs', 'params_per_epoch', 'training_states', 'opt_params', 'opt_lr',\n",
      "       'grads_per_epoch', 'init_grads', 'target DQFIM stats',\n",
      "       'DQFIM_stats_local', 'test_key', 'QFIM Results',\n",
      "       'DQFIM_stats_20_L_states', 'QFIM_basis_state'],\n",
      "      dtype='object')\n",
      "Index(['Gate', 'opt_description', 'specs', 'epochs', 'trotter_step',\n",
      "       'time_steps', 'controls', 'reservoirs', 'N_train', 'fixed_params',\n",
      "       'init_params', 'testing_results', 'infidelities', 'avg_fidelity',\n",
      "       'costs', 'params_per_epoch', 'training_states', 'opt_params', 'opt_lr',\n",
      "       'grads_per_epoch', 'init_grads', 'target DQFIM stats',\n",
      "       'DQFIM_stats_local', 'test_key', 'QFIM Results',\n",
      "       'DQFIM_stats_20_L_states', 'QFIM_basis_state'],\n",
      "      dtype='object')\n",
      "Index(['Gate', 'opt_description', 'specs', 'epochs', 'trotter_step',\n",
      "       'time_steps', 'controls', 'reservoirs', 'N_train', 'fixed_params',\n",
      "       'init_params', 'testing_results', 'infidelities', 'avg_fidelity',\n",
      "       'costs', 'params_per_epoch', 'training_states', 'opt_params', 'opt_lr',\n",
      "       'grads_per_epoch', 'init_grads', 'target DQFIM stats',\n",
      "       'DQFIM_stats_local', 'test_key', 'QFIM Results',\n",
      "       'DQFIM_stats_20_L_states', 'QFIM_basis_state'],\n",
      "      dtype='object')\n",
      "Index(['Gate', 'opt_description', 'specs', 'epochs', 'trotter_step',\n",
      "       'time_steps', 'controls', 'reservoirs', 'N_train', 'fixed_params',\n",
      "       'init_params', 'testing_results', 'infidelities', 'avg_fidelity',\n",
      "       'costs', 'params_per_epoch', 'training_states', 'opt_params', 'opt_lr',\n",
      "       'grads_per_epoch', 'init_grads', 'target DQFIM stats',\n",
      "       'DQFIM_stats_local', 'test_key', 'QFIM Results',\n",
      "       'DQFIM_stats_20_L_states', 'QFIM_basis_state'],\n",
      "      dtype='object')\n",
      "test131 gate U2_10 has 3 data runs stored. Picking latest one: data_run_0_.pickle\n",
      "Index(['Gate', 'opt_description', 'specs', 'epochs', 'trotter_step',\n",
      "       'time_steps', 'controls', 'reservoirs', 'N_train', 'fixed_params',\n",
      "       'init_params', 'testing_results', 'infidelities', 'avg_fidelity',\n",
      "       'costs', 'params_per_epoch', 'training_states', 'opt_params', 'opt_lr',\n",
      "       'grads_per_epoch', 'init_grads', 'target DQFIM stats',\n",
      "       'DQFIM_stats_local', 'test_key', 'QFIM Results',\n",
      "       'DQFIM_stats_20_L_states', 'QFIM_basis_state'],\n",
      "      dtype='object')\n",
      "test131 gate U2_3 has 3 data runs stored. Picking latest one: data_run_0_.pickle\n",
      "Index(['Gate', 'opt_description', 'specs', 'epochs', 'trotter_step',\n",
      "       'time_steps', 'controls', 'reservoirs', 'N_train', 'fixed_params',\n",
      "       'init_params', 'testing_results', 'infidelities', 'avg_fidelity',\n",
      "       'costs', 'params_per_epoch', 'training_states', 'opt_params', 'opt_lr',\n",
      "       'grads_per_epoch', 'init_grads', 'target DQFIM stats',\n",
      "       'DQFIM_stats_local', 'test_key', 'QFIM Results',\n",
      "       'DQFIM_stats_20_L_states', 'QFIM_basis_state'],\n",
      "      dtype='object')\n",
      "test131 gate U2_4 has 3 data runs stored. Picking latest one: data_run_0_.pickle\n",
      "Index(['Gate', 'opt_description', 'specs', 'epochs', 'trotter_step',\n",
      "       'time_steps', 'controls', 'reservoirs', 'N_train', 'fixed_params',\n",
      "       'init_params', 'testing_results', 'infidelities', 'avg_fidelity',\n",
      "       'costs', 'params_per_epoch', 'training_states', 'opt_params', 'opt_lr',\n",
      "       'grads_per_epoch', 'init_grads', 'target DQFIM stats',\n",
      "       'DQFIM_stats_local', 'test_key', 'QFIM Results',\n",
      "       'DQFIM_stats_20_L_states', 'QFIM_basis_state'],\n",
      "      dtype='object')\n",
      "test131 gate U2_5 has 3 data runs stored. Picking latest one: data_run_0_.pickle\n",
      "Index(['Gate', 'opt_description', 'specs', 'epochs', 'trotter_step',\n",
      "       'time_steps', 'controls', 'reservoirs', 'N_train', 'fixed_params',\n",
      "       'init_params', 'testing_results', 'infidelities', 'avg_fidelity',\n",
      "       'costs', 'params_per_epoch', 'training_states', 'opt_params', 'opt_lr',\n",
      "       'grads_per_epoch', 'init_grads', 'target DQFIM stats',\n",
      "       'DQFIM_stats_local', 'test_key', 'QFIM Results',\n",
      "       'DQFIM_stats_20_L_states', 'QFIM_basis_state'],\n",
      "      dtype='object')\n",
      "test131 gate U2_2 has 3 data runs stored. Picking latest one: data_run_0_.pickle\n",
      "Index(['Gate', 'opt_description', 'specs', 'epochs', 'trotter_step',\n",
      "       'time_steps', 'controls', 'reservoirs', 'N_train', 'fixed_params',\n",
      "       'init_params', 'testing_results', 'infidelities', 'avg_fidelity',\n",
      "       'costs', 'params_per_epoch', 'training_states', 'opt_params', 'opt_lr',\n",
      "       'grads_per_epoch', 'init_grads', 'target DQFIM stats',\n",
      "       'DQFIM_stats_local', 'test_key', 'QFIM Results',\n",
      "       'DQFIM_stats_20_L_states', 'QFIM_basis_state'],\n",
      "      dtype='object')\n",
      "Index(['Gate', 'opt_description', 'specs', 'epochs', 'trotter_step',\n",
      "       'time_steps', 'controls', 'reservoirs', 'N_train', 'fixed_params',\n",
      "       'init_params', 'testing_results', 'infidelities', 'avg_fidelity',\n",
      "       'costs', 'params_per_epoch', 'training_states', 'opt_params', 'opt_lr',\n",
      "       'grads_per_epoch', 'init_grads', 'target DQFIM stats',\n",
      "       'DQFIM_stats_local', 'test_key', 'QFIM Results',\n",
      "       'DQFIM_stats_20_L_states', 'QFIM_basis_state'],\n",
      "      dtype='object')\n",
      "test131 gate U2_12 has 3 data runs stored. Picking latest one: data_run_0_.pickle\n",
      "Index(['Gate', 'opt_description', 'specs', 'epochs', 'trotter_step',\n",
      "       'time_steps', 'controls', 'reservoirs', 'N_train', 'fixed_params',\n",
      "       'init_params', 'testing_results', 'infidelities', 'avg_fidelity',\n",
      "       'costs', 'params_per_epoch', 'training_states', 'opt_params', 'opt_lr',\n",
      "       'grads_per_epoch', 'init_grads', 'target DQFIM stats',\n",
      "       'DQFIM_stats_local', 'test_key', 'QFIM Results',\n",
      "       'DQFIM_stats_20_L_states', 'QFIM_basis_state'],\n",
      "      dtype='object')\n",
      "test131 gate U2_13 has 3 data runs stored. Picking latest one: data_run_0_.pickle\n",
      "Index(['Gate', 'opt_description', 'specs', 'epochs', 'trotter_step',\n",
      "       'time_steps', 'controls', 'reservoirs', 'N_train', 'fixed_params',\n",
      "       'init_params', 'testing_results', 'infidelities', 'avg_fidelity',\n",
      "       'costs', 'params_per_epoch', 'training_states', 'opt_params', 'opt_lr',\n",
      "       'grads_per_epoch', 'init_grads', 'target DQFIM stats',\n",
      "       'DQFIM_stats_local', 'test_key', 'QFIM Results',\n",
      "       'DQFIM_stats_20_L_states', 'QFIM_basis_state'],\n",
      "      dtype='object')\n",
      "test131 gate U2_14 has 3 data runs stored. Picking latest one: data_run_0_.pickle\n",
      "Index(['Gate', 'opt_description', 'specs', 'epochs', 'trotter_step',\n",
      "       'time_steps', 'controls', 'reservoirs', 'N_train', 'fixed_params',\n",
      "       'init_params', 'testing_results', 'infidelities', 'avg_fidelity',\n",
      "       'costs', 'params_per_epoch', 'training_states', 'opt_params', 'opt_lr',\n",
      "       'grads_per_epoch', 'init_grads', 'target DQFIM stats',\n",
      "       'DQFIM_stats_local', 'test_key', 'QFIM Results',\n",
      "       'DQFIM_stats_20_L_states', 'QFIM_basis_state'],\n",
      "      dtype='object')\n",
      "test131 gate U2_9 has 3 data runs stored. Picking latest one: data_run_0_.pickle\n",
      "Index(['Gate', 'opt_description', 'specs', 'epochs', 'trotter_step',\n",
      "       'time_steps', 'controls', 'reservoirs', 'N_train', 'fixed_params',\n",
      "       'init_params', 'testing_results', 'infidelities', 'avg_fidelity',\n",
      "       'costs', 'params_per_epoch', 'training_states', 'opt_params', 'opt_lr',\n",
      "       'grads_per_epoch', 'init_grads', 'target DQFIM stats',\n",
      "       'DQFIM_stats_local', 'test_key', 'QFIM Results',\n",
      "       'DQFIM_stats_20_L_states', 'QFIM_basis_state'],\n",
      "      dtype='object')\n",
      "test131 gate U2_7 has 3 data runs stored. Picking latest one: data_run_0_.pickle\n",
      "Index(['Gate', 'opt_description', 'specs', 'epochs', 'trotter_step',\n",
      "       'time_steps', 'controls', 'reservoirs', 'N_train', 'fixed_params',\n",
      "       'init_params', 'testing_results', 'infidelities', 'avg_fidelity',\n",
      "       'costs', 'params_per_epoch', 'training_states', 'opt_params', 'opt_lr',\n",
      "       'grads_per_epoch', 'init_grads', 'target DQFIM stats',\n",
      "       'DQFIM_stats_local', 'test_key', 'QFIM Results',\n",
      "       'DQFIM_stats_20_L_states', 'QFIM_basis_state'],\n",
      "      dtype='object')\n",
      "test131 gate U2_0 has 4 data runs stored. Picking latest one: data_run_0_.pickle\n",
      "Index(['Gate', 'opt_description', 'specs', 'epochs', 'trotter_step',\n",
      "       'time_steps', 'controls', 'reservoirs', 'N_train', 'fixed_params',\n",
      "       'init_params', 'testing_results', 'infidelities', 'avg_fidelity',\n",
      "       'costs', 'params_per_epoch', 'training_states', 'opt_params', 'opt_lr',\n",
      "       'grads_per_epoch', 'init_grads', 'target DQFIM stats',\n",
      "       'DQFIM_stats_local', 'test_key', 'QFIM Results',\n",
      "       'DQFIM_stats_20_L_states', 'QFIM_basis_state'],\n",
      "      dtype='object')\n",
      "test131 gate U2_1 has 3 data runs stored. Picking latest one: data_run_0_.pickle\n",
      "Index(['Gate', 'opt_description', 'specs', 'epochs', 'trotter_step',\n",
      "       'time_steps', 'controls', 'reservoirs', 'N_train', 'fixed_params',\n",
      "       'init_params', 'testing_results', 'infidelities', 'avg_fidelity',\n",
      "       'costs', 'params_per_epoch', 'training_states', 'opt_params', 'opt_lr',\n",
      "       'grads_per_epoch', 'init_grads', 'target DQFIM stats',\n",
      "       'DQFIM_stats_local', 'test_key', 'QFIM Results',\n",
      "       'DQFIM_stats_20_L_states', 'QFIM_basis_state'],\n",
      "      dtype='object')\n",
      "test131 gate U2_6 has 3 data runs stored. Picking latest one: data_run_0_.pickle\n",
      "Index(['Gate', 'opt_description', 'specs', 'epochs', 'trotter_step',\n",
      "       'time_steps', 'controls', 'reservoirs', 'N_train', 'fixed_params',\n",
      "       'init_params', 'testing_results', 'infidelities', 'avg_fidelity',\n",
      "       'costs', 'params_per_epoch', 'training_states', 'opt_params', 'opt_lr',\n",
      "       'grads_per_epoch', 'init_grads', 'target DQFIM stats',\n",
      "       'DQFIM_stats_local', 'test_key', 'QFIM Results',\n",
      "       'DQFIM_stats_20_L_states', 'QFIM_basis_state'],\n",
      "      dtype='object')\n",
      "test131 gate U2_8 has 3 data runs stored. Picking latest one: data_run_0_.pickle\n",
      "Index(['Gate', 'opt_description', 'specs', 'epochs', 'trotter_step',\n",
      "       'time_steps', 'controls', 'reservoirs', 'N_train', 'fixed_params',\n",
      "       'init_params', 'testing_results', 'infidelities', 'avg_fidelity',\n",
      "       'costs', 'params_per_epoch', 'training_states', 'opt_params', 'opt_lr',\n",
      "       'grads_per_epoch', 'init_grads', 'target DQFIM stats',\n",
      "       'DQFIM_stats_local', 'test_key', 'QFIM Results',\n",
      "       'DQFIM_stats_20_L_states', 'QFIM_basis_state'],\n",
      "      dtype='object')\n",
      "Index(['Gate', 'opt_description', 'specs', 'epochs', 'trotter_step',\n",
      "       'time_steps', 'controls', 'reservoirs', 'N_train', 'fixed_params',\n",
      "       'init_params', 'testing_results', 'infidelities', 'avg_fidelity',\n",
      "       'costs', 'params_per_epoch', 'training_states', 'opt_params', 'opt_lr',\n",
      "       'grads_per_epoch', 'init_grads', 'target DQFIM stats',\n",
      "       'DQFIM_stats_local', 'test_key', 'QFIM Results',\n",
      "       'DQFIM_stats_20_L_states', 'QFIM_basis_state'],\n",
      "      dtype='object')\n",
      "Index(['Gate', 'opt_description', 'specs', 'epochs', 'trotter_step',\n",
      "       'time_steps', 'controls', 'reservoirs', 'N_train', 'fixed_params',\n",
      "       'init_params', 'testing_results', 'infidelities', 'avg_fidelity',\n",
      "       'costs', 'params_per_epoch', 'training_states', 'opt_params', 'opt_lr',\n",
      "       'grads_per_epoch', 'init_grads', 'target DQFIM stats',\n",
      "       'DQFIM_stats_local', 'test_key', 'QFIM Results',\n",
      "       'DQFIM_stats_20_L_states', 'QFIM_basis_state'],\n",
      "      dtype='object')\n",
      "Index(['Gate', 'opt_description', 'specs', 'epochs', 'trotter_step',\n",
      "       'time_steps', 'controls', 'reservoirs', 'N_train', 'fixed_params',\n",
      "       'init_params', 'testing_results', 'infidelities', 'avg_fidelity',\n",
      "       'costs', 'params_per_epoch', 'training_states', 'opt_params', 'opt_lr',\n",
      "       'grads_per_epoch', 'init_grads', 'target DQFIM stats',\n",
      "       'DQFIM_stats_local', 'test_key', 'QFIM Results',\n",
      "       'DQFIM_stats_20_L_states', 'QFIM_basis_state'],\n",
      "      dtype='object')\n",
      "Index(['Gate', 'opt_description', 'specs', 'epochs', 'trotter_step',\n",
      "       'time_steps', 'controls', 'reservoirs', 'N_train', 'fixed_params',\n",
      "       'init_params', 'testing_results', 'infidelities', 'avg_fidelity',\n",
      "       'costs', 'params_per_epoch', 'training_states', 'opt_params', 'opt_lr',\n",
      "       'grads_per_epoch', 'init_grads', 'target DQFIM stats',\n",
      "       'DQFIM_stats_local', 'test_key', 'QFIM Results',\n",
      "       'DQFIM_stats_20_L_states', 'QFIM_basis_state'],\n",
      "      dtype='object')\n",
      "Index(['Gate', 'opt_description', 'specs', 'epochs', 'trotter_step',\n",
      "       'time_steps', 'controls', 'reservoirs', 'N_train', 'fixed_params',\n",
      "       'init_params', 'testing_results', 'infidelities', 'avg_fidelity',\n",
      "       'costs', 'params_per_epoch', 'training_states', 'opt_params', 'opt_lr',\n",
      "       'grads_per_epoch', 'init_grads', 'target DQFIM stats',\n",
      "       'DQFIM_stats_local', 'test_key', 'QFIM Results',\n",
      "       'DQFIM_stats_20_L_states', 'QFIM_basis_state'],\n",
      "      dtype='object')\n",
      "Index(['Gate', 'opt_description', 'specs', 'epochs', 'trotter_step',\n",
      "       'time_steps', 'controls', 'reservoirs', 'N_train', 'fixed_params',\n",
      "       'init_params', 'testing_results', 'infidelities', 'avg_fidelity',\n",
      "       'costs', 'params_per_epoch', 'training_states', 'opt_params', 'opt_lr',\n",
      "       'grads_per_epoch', 'init_grads', 'target DQFIM stats',\n",
      "       'DQFIM_stats_local', 'test_key', 'QFIM Results',\n",
      "       'DQFIM_stats_20_L_states', 'QFIM_basis_state'],\n",
      "      dtype='object')\n",
      "Index(['Gate', 'opt_description', 'specs', 'epochs', 'trotter_step',\n",
      "       'time_steps', 'controls', 'reservoirs', 'N_train', 'fixed_params',\n",
      "       'init_params', 'testing_results', 'infidelities', 'avg_fidelity',\n",
      "       'costs', 'params_per_epoch', 'training_states', 'opt_params', 'opt_lr',\n",
      "       'grads_per_epoch', 'init_grads', 'target DQFIM stats',\n",
      "       'DQFIM_stats_local', 'test_key', 'QFIM Results',\n",
      "       'DQFIM_stats_20_L_states', 'QFIM_basis_state'],\n",
      "      dtype='object')\n",
      "Index(['Gate', 'opt_description', 'specs', 'epochs', 'trotter_step',\n",
      "       'time_steps', 'controls', 'reservoirs', 'N_train', 'fixed_params',\n",
      "       'init_params', 'testing_results', 'infidelities', 'avg_fidelity',\n",
      "       'costs', 'params_per_epoch', 'training_states', 'opt_params', 'opt_lr',\n",
      "       'grads_per_epoch', 'init_grads', 'target DQFIM stats',\n",
      "       'DQFIM_stats_local', 'test_key', 'QFIM Results',\n",
      "       'DQFIM_stats_20_L_states', 'QFIM_basis_state'],\n",
      "      dtype='object')\n",
      "Index(['Gate', 'opt_description', 'specs', 'epochs', 'trotter_step',\n",
      "       'time_steps', 'controls', 'reservoirs', 'N_train', 'fixed_params',\n",
      "       'init_params', 'testing_results', 'infidelities', 'avg_fidelity',\n",
      "       'costs', 'params_per_epoch', 'training_states', 'opt_params', 'opt_lr',\n",
      "       'grads_per_epoch', 'init_grads', 'target DQFIM stats',\n",
      "       'DQFIM_stats_local', 'test_key', 'QFIM Results',\n",
      "       'DQFIM_stats_20_L_states', 'QFIM_basis_state'],\n",
      "      dtype='object')\n",
      "Index(['Gate', 'opt_description', 'specs', 'epochs', 'trotter_step',\n",
      "       'time_steps', 'controls', 'reservoirs', 'N_train', 'fixed_params',\n",
      "       'init_params', 'testing_results', 'infidelities', 'avg_fidelity',\n",
      "       'costs', 'params_per_epoch', 'training_states', 'opt_params', 'opt_lr',\n",
      "       'grads_per_epoch', 'init_grads', 'target DQFIM stats',\n",
      "       'DQFIM_stats_local', 'test_key', 'QFIM Results',\n",
      "       'DQFIM_stats_20_L_states', 'QFIM_basis_state'],\n",
      "      dtype='object')\n",
      "Index(['Gate', 'opt_description', 'specs', 'epochs', 'trotter_step',\n",
      "       'time_steps', 'controls', 'reservoirs', 'N_train', 'fixed_params',\n",
      "       'init_params', 'testing_results', 'infidelities', 'avg_fidelity',\n",
      "       'costs', 'params_per_epoch', 'training_states', 'opt_params', 'opt_lr',\n",
      "       'grads_per_epoch', 'init_grads', 'target DQFIM stats',\n",
      "       'DQFIM_stats_local', 'test_key', 'QFIM Results',\n",
      "       'DQFIM_stats_20_L_states', 'QFIM_basis_state'],\n",
      "      dtype='object')\n",
      "Index(['Gate', 'opt_description', 'specs', 'epochs', 'trotter_step',\n",
      "       'time_steps', 'controls', 'reservoirs', 'N_train', 'fixed_params',\n",
      "       'init_params', 'testing_results', 'infidelities', 'avg_fidelity',\n",
      "       'costs', 'params_per_epoch', 'training_states', 'opt_params', 'opt_lr',\n",
      "       'grads_per_epoch', 'init_grads', 'target DQFIM stats',\n",
      "       'DQFIM_stats_local', 'test_key', 'QFIM Results',\n",
      "       'DQFIM_stats_20_L_states', 'QFIM_basis_state'],\n",
      "      dtype='object')\n",
      "Index(['Gate', 'opt_description', 'specs', 'epochs', 'trotter_step',\n",
      "       'time_steps', 'controls', 'reservoirs', 'N_train', 'fixed_params',\n",
      "       'init_params', 'testing_results', 'infidelities', 'avg_fidelity',\n",
      "       'costs', 'params_per_epoch', 'training_states', 'opt_params', 'opt_lr',\n",
      "       'grads_per_epoch', 'init_grads', 'target DQFIM stats',\n",
      "       'DQFIM_stats_local', 'test_key', 'QFIM Results',\n",
      "       'DQFIM_stats_20_L_states', 'QFIM_basis_state'],\n",
      "      dtype='object')\n",
      "Index(['Gate', 'opt_description', 'specs', 'epochs', 'trotter_step',\n",
      "       'time_steps', 'controls', 'reservoirs', 'N_train', 'fixed_params',\n",
      "       'init_params', 'testing_results', 'infidelities', 'avg_fidelity',\n",
      "       'costs', 'params_per_epoch', 'training_states', 'opt_params', 'opt_lr',\n",
      "       'grads_per_epoch', 'init_grads', 'target DQFIM stats',\n",
      "       'DQFIM_stats_local', 'test_key', 'QFIM Results',\n",
      "       'DQFIM_stats_20_L_states', 'QFIM_basis_state'],\n",
      "      dtype='object')\n",
      "Index(['Gate', 'opt_description', 'specs', 'epochs', 'trotter_step',\n",
      "       'time_steps', 'controls', 'reservoirs', 'N_train', 'fixed_params',\n",
      "       'init_params', 'testing_results', 'infidelities', 'avg_fidelity',\n",
      "       'costs', 'params_per_epoch', 'training_states', 'opt_params', 'opt_lr',\n",
      "       'grads_per_epoch', 'init_grads', 'target DQFIM stats',\n",
      "       'DQFIM_stats_local', 'test_key', 'QFIM Results',\n",
      "       'DQFIM_stats_20_L_states', 'QFIM_basis_state'],\n",
      "      dtype='object')\n",
      "Index(['Gate', 'opt_description', 'specs', 'epochs', 'trotter_step',\n",
      "       'time_steps', 'controls', 'reservoirs', 'N_train', 'fixed_params',\n",
      "       'init_params', 'testing_results', 'infidelities', 'avg_fidelity',\n",
      "       'costs', 'params_per_epoch', 'training_states', 'opt_params', 'opt_lr',\n",
      "       'grads_per_epoch', 'init_grads', 'target DQFIM stats',\n",
      "       'DQFIM_stats_local', 'test_key', 'QFIM Results',\n",
      "       'DQFIM_stats_20_L_states', 'QFIM_basis_state'],\n",
      "      dtype='object')\n",
      "Index(['Gate', 'opt_description', 'specs', 'epochs', 'trotter_step',\n",
      "       'time_steps', 'controls', 'reservoirs', 'N_train', 'fixed_params',\n",
      "       'init_params', 'testing_results', 'infidelities', 'avg_fidelity',\n",
      "       'costs', 'params_per_epoch', 'training_states', 'opt_params', 'opt_lr',\n",
      "       'grads_per_epoch', 'init_grads', 'target DQFIM stats',\n",
      "       'DQFIM_stats_local', 'test_key', 'QFIM Results',\n",
      "       'DQFIM_stats_20_L_states', 'QFIM_basis_state'],\n",
      "      dtype='object')\n",
      "Index(['Gate', 'opt_description', 'specs', 'epochs', 'trotter_step',\n",
      "       'time_steps', 'controls', 'reservoirs', 'N_train', 'fixed_params',\n",
      "       'init_params', 'testing_results', 'infidelities', 'avg_fidelity',\n",
      "       'costs', 'params_per_epoch', 'training_states', 'opt_params', 'opt_lr',\n",
      "       'grads_per_epoch', 'init_grads', 'target DQFIM stats',\n",
      "       'DQFIM_stats_local', 'test_key', 'QFIM Results',\n",
      "       'DQFIM_stats_20_L_states', 'QFIM_basis_state'],\n",
      "      dtype='object')\n",
      "Index(['Gate', 'opt_description', 'specs', 'epochs', 'trotter_step',\n",
      "       'time_steps', 'controls', 'reservoirs', 'N_train', 'fixed_params',\n",
      "       'init_params', 'testing_results', 'infidelities', 'avg_fidelity',\n",
      "       'costs', 'params_per_epoch', 'training_states', 'opt_params', 'opt_lr',\n",
      "       'grads_per_epoch', 'init_grads', 'target DQFIM stats',\n",
      "       'DQFIM_stats_local', 'test_key', 'QFIM Results',\n",
      "       'DQFIM_stats_20_L_states', 'QFIM_basis_state'],\n",
      "      dtype='object')\n",
      "Index(['Gate', 'opt_description', 'specs', 'epochs', 'trotter_step',\n",
      "       'time_steps', 'controls', 'reservoirs', 'N_train', 'fixed_params',\n",
      "       'init_params', 'testing_results', 'infidelities', 'avg_fidelity',\n",
      "       'costs', 'params_per_epoch', 'training_states', 'opt_params', 'opt_lr',\n",
      "       'grads_per_epoch', 'init_grads', 'target DQFIM stats',\n",
      "       'DQFIM_stats_local', 'test_key', 'QFIM Results',\n",
      "       'DQFIM_stats_20_L_states', 'QFIM_basis_state'],\n",
      "      dtype='object')\n",
      "Index(['Gate', 'opt_description', 'specs', 'epochs', 'trotter_step',\n",
      "       'time_steps', 'controls', 'reservoirs', 'N_train', 'fixed_params',\n",
      "       'init_params', 'testing_results', 'infidelities', 'avg_fidelity',\n",
      "       'costs', 'params_per_epoch', 'training_states', 'opt_params', 'opt_lr',\n",
      "       'grads_per_epoch', 'init_grads', 'target DQFIM stats',\n",
      "       'DQFIM_stats_local', 'test_key', 'QFIM Results',\n",
      "       'DQFIM_stats_20_L_states', 'QFIM_basis_state'],\n",
      "      dtype='object')\n",
      "Index(['Gate', 'opt_description', 'specs', 'epochs', 'trotter_step',\n",
      "       'time_steps', 'controls', 'reservoirs', 'N_train', 'fixed_params',\n",
      "       'init_params', 'testing_results', 'infidelities', 'avg_fidelity',\n",
      "       'costs', 'params_per_epoch', 'training_states', 'opt_params', 'opt_lr',\n",
      "       'grads_per_epoch', 'init_grads', 'target DQFIM stats',\n",
      "       'DQFIM_stats_local', 'test_key', 'QFIM Results',\n",
      "       'DQFIM_stats_20_L_states', 'QFIM_basis_state'],\n",
      "      dtype='object')\n",
      "test64 gate U2_11 has 3 data runs stored. Picking latest one: data_run_0_.pickle\n",
      "Index(['Gate', 'opt_description', 'specs', 'epochs', 'trotter_step',\n",
      "       'time_steps', 'controls', 'reservoirs', 'N_train', 'fixed_params',\n",
      "       'init_params', 'testing_results', 'infidelities', 'avg_fidelity',\n",
      "       'costs', 'params_per_epoch', 'training_states', 'opt_params', 'opt_lr',\n",
      "       'grads_per_epoch', 'init_grads', 'target DQFIM stats',\n",
      "       'DQFIM_stats_local', 'test_key', 'QFIM Results',\n",
      "       'DQFIM_stats_20_L_states', 'QFIM_basis_state'],\n",
      "      dtype='object')\n",
      "Index(['Gate', 'opt_description', 'specs', 'epochs', 'trotter_step',\n",
      "       'time_steps', 'controls', 'reservoirs', 'N_train', 'fixed_params',\n",
      "       'init_params', 'testing_results', 'infidelities', 'avg_fidelity',\n",
      "       'costs', 'params_per_epoch', 'training_states', 'opt_params', 'opt_lr',\n",
      "       'grads_per_epoch', 'init_grads', 'target DQFIM stats',\n",
      "       'DQFIM_stats_local', 'test_key', 'QFIM Results',\n",
      "       'DQFIM_stats_20_L_states', 'QFIM_basis_state'],\n",
      "      dtype='object')\n",
      "Index(['Gate', 'opt_description', 'specs', 'epochs', 'trotter_step',\n",
      "       'time_steps', 'controls', 'reservoirs', 'N_train', 'fixed_params',\n",
      "       'init_params', 'testing_results', 'infidelities', 'avg_fidelity',\n",
      "       'costs', 'params_per_epoch', 'training_states', 'opt_params', 'opt_lr',\n",
      "       'grads_per_epoch', 'init_grads', 'target DQFIM stats',\n",
      "       'DQFIM_stats_local', 'test_key', 'QFIM Results',\n",
      "       'DQFIM_stats_20_L_states', 'QFIM_basis_state'],\n",
      "      dtype='object')\n",
      "Index(['Gate', 'opt_description', 'specs', 'epochs', 'trotter_step',\n",
      "       'time_steps', 'controls', 'reservoirs', 'N_train', 'fixed_params',\n",
      "       'init_params', 'testing_results', 'infidelities', 'avg_fidelity',\n",
      "       'costs', 'params_per_epoch', 'training_states', 'opt_params', 'opt_lr',\n",
      "       'grads_per_epoch', 'init_grads', 'target DQFIM stats',\n",
      "       'DQFIM_stats_local', 'test_key', 'QFIM Results',\n",
      "       'DQFIM_stats_20_L_states', 'QFIM_basis_state'],\n",
      "      dtype='object')\n",
      "Index(['Gate', 'opt_description', 'specs', 'epochs', 'trotter_step',\n",
      "       'time_steps', 'controls', 'reservoirs', 'N_train', 'fixed_params',\n",
      "       'init_params', 'testing_results', 'infidelities', 'avg_fidelity',\n",
      "       'costs', 'params_per_epoch', 'training_states', 'opt_params', 'opt_lr',\n",
      "       'grads_per_epoch', 'init_grads', 'target DQFIM stats',\n",
      "       'DQFIM_stats_local', 'test_key', 'QFIM Results',\n",
      "       'DQFIM_stats_20_L_states', 'QFIM_basis_state'],\n",
      "      dtype='object')\n",
      "test64 gate U2_10 has 3 data runs stored. Picking latest one: data_run_0_.pickle\n",
      "Index(['Gate', 'opt_description', 'specs', 'epochs', 'trotter_step',\n",
      "       'time_steps', 'controls', 'reservoirs', 'N_train', 'fixed_params',\n",
      "       'init_params', 'testing_results', 'infidelities', 'avg_fidelity',\n",
      "       'costs', 'params_per_epoch', 'training_states', 'opt_params', 'opt_lr',\n",
      "       'grads_per_epoch', 'init_grads', 'target DQFIM stats',\n",
      "       'DQFIM_stats_local', 'test_key', 'QFIM Results',\n",
      "       'DQFIM_stats_20_L_states', 'QFIM_basis_state'],\n",
      "      dtype='object')\n",
      "test64 gate U2_3 has 3 data runs stored. Picking latest one: data_run_0_.pickle\n",
      "Index(['Gate', 'opt_description', 'specs', 'epochs', 'trotter_step',\n",
      "       'time_steps', 'controls', 'reservoirs', 'N_train', 'fixed_params',\n",
      "       'init_params', 'testing_results', 'infidelities', 'avg_fidelity',\n",
      "       'costs', 'params_per_epoch', 'training_states', 'opt_params', 'opt_lr',\n",
      "       'grads_per_epoch', 'init_grads', 'target DQFIM stats',\n",
      "       'DQFIM_stats_local', 'test_key', 'QFIM Results',\n",
      "       'DQFIM_stats_20_L_states', 'QFIM_basis_state'],\n",
      "      dtype='object')\n",
      "test64 gate U2_4 has 3 data runs stored. Picking latest one: data_run_0_.pickle\n",
      "Index(['Gate', 'opt_description', 'specs', 'epochs', 'trotter_step',\n",
      "       'time_steps', 'controls', 'reservoirs', 'N_train', 'fixed_params',\n",
      "       'init_params', 'testing_results', 'infidelities', 'avg_fidelity',\n",
      "       'costs', 'params_per_epoch', 'training_states', 'opt_params', 'opt_lr',\n",
      "       'grads_per_epoch', 'init_grads', 'target DQFIM stats',\n",
      "       'DQFIM_stats_local', 'test_key', 'QFIM Results',\n",
      "       'DQFIM_stats_20_L_states', 'QFIM_basis_state'],\n",
      "      dtype='object')\n",
      "test64 gate U2_5 has 3 data runs stored. Picking latest one: data_run_0_.pickle\n",
      "Index(['Gate', 'opt_description', 'specs', 'epochs', 'trotter_step',\n",
      "       'time_steps', 'controls', 'reservoirs', 'N_train', 'fixed_params',\n",
      "       'init_params', 'testing_results', 'infidelities', 'avg_fidelity',\n",
      "       'costs', 'params_per_epoch', 'training_states', 'opt_params', 'opt_lr',\n",
      "       'grads_per_epoch', 'init_grads', 'target DQFIM stats',\n",
      "       'DQFIM_stats_local', 'test_key', 'QFIM Results',\n",
      "       'DQFIM_stats_20_L_states', 'QFIM_basis_state'],\n",
      "      dtype='object')\n",
      "test64 gate U2_2 has 3 data runs stored. Picking latest one: data_run_0_.pickle\n",
      "Index(['Gate', 'opt_description', 'specs', 'epochs', 'trotter_step',\n",
      "       'time_steps', 'controls', 'reservoirs', 'N_train', 'fixed_params',\n",
      "       'init_params', 'testing_results', 'infidelities', 'avg_fidelity',\n",
      "       'costs', 'params_per_epoch', 'training_states', 'opt_params', 'opt_lr',\n",
      "       'grads_per_epoch', 'init_grads', 'target DQFIM stats',\n",
      "       'DQFIM_stats_local', 'test_key', 'QFIM Results',\n",
      "       'DQFIM_stats_20_L_states', 'QFIM_basis_state'],\n",
      "      dtype='object')\n",
      "Index(['Gate', 'opt_description', 'specs', 'epochs', 'trotter_step',\n",
      "       'time_steps', 'controls', 'reservoirs', 'N_train', 'fixed_params',\n",
      "       'init_params', 'testing_results', 'infidelities', 'avg_fidelity',\n",
      "       'costs', 'params_per_epoch', 'training_states', 'opt_params', 'opt_lr',\n",
      "       'grads_per_epoch', 'init_grads', 'target DQFIM stats',\n",
      "       'DQFIM_stats_local', 'test_key', 'QFIM Results',\n",
      "       'DQFIM_stats_20_L_states', 'QFIM_basis_state'],\n",
      "      dtype='object')\n",
      "test64 gate U2_12 has 3 data runs stored. Picking latest one: data_run_0_.pickle\n",
      "Index(['Gate', 'opt_description', 'specs', 'epochs', 'trotter_step',\n",
      "       'time_steps', 'controls', 'reservoirs', 'N_train', 'fixed_params',\n",
      "       'init_params', 'testing_results', 'infidelities', 'avg_fidelity',\n",
      "       'costs', 'params_per_epoch', 'training_states', 'opt_params', 'opt_lr',\n",
      "       'grads_per_epoch', 'init_grads', 'target DQFIM stats',\n",
      "       'DQFIM_stats_local', 'test_key', 'QFIM Results',\n",
      "       'DQFIM_stats_20_L_states', 'QFIM_basis_state'],\n",
      "      dtype='object')\n",
      "test64 gate U2_13 has 3 data runs stored. Picking latest one: data_run_0_.pickle\n",
      "Index(['Gate', 'opt_description', 'specs', 'epochs', 'trotter_step',\n",
      "       'time_steps', 'controls', 'reservoirs', 'N_train', 'fixed_params',\n",
      "       'init_params', 'testing_results', 'infidelities', 'avg_fidelity',\n",
      "       'costs', 'params_per_epoch', 'training_states', 'opt_params', 'opt_lr',\n",
      "       'grads_per_epoch', 'init_grads', 'target DQFIM stats',\n",
      "       'DQFIM_stats_local', 'test_key', 'QFIM Results',\n",
      "       'DQFIM_stats_20_L_states', 'QFIM_basis_state'],\n",
      "      dtype='object')\n",
      "Index(['Gate', 'opt_description', 'specs', 'epochs', 'trotter_step',\n",
      "       'time_steps', 'controls', 'reservoirs', 'N_train', 'fixed_params',\n",
      "       'init_params', 'testing_results', 'infidelities', 'avg_fidelity',\n",
      "       'costs', 'params_per_epoch', 'training_states', 'opt_params', 'opt_lr',\n",
      "       'grads_per_epoch', 'init_grads', 'target DQFIM stats',\n",
      "       'DQFIM_stats_local', 'test_key', 'QFIM Results',\n",
      "       'DQFIM_stats_20_L_states', 'QFIM_basis_state'],\n",
      "      dtype='object')\n",
      "test64 gate U2_9 has 3 data runs stored. Picking latest one: data_run_0_.pickle\n",
      "Index(['Gate', 'opt_description', 'specs', 'epochs', 'trotter_step',\n",
      "       'time_steps', 'controls', 'reservoirs', 'N_train', 'fixed_params',\n",
      "       'init_params', 'testing_results', 'infidelities', 'avg_fidelity',\n",
      "       'costs', 'params_per_epoch', 'training_states', 'opt_params', 'opt_lr',\n",
      "       'grads_per_epoch', 'init_grads', 'target DQFIM stats',\n",
      "       'DQFIM_stats_local', 'test_key', 'QFIM Results',\n",
      "       'DQFIM_stats_20_L_states', 'QFIM_basis_state'],\n",
      "      dtype='object')\n",
      "test64 gate U2_7 has 3 data runs stored. Picking latest one: data_run_0_.pickle\n",
      "Index(['Gate', 'opt_description', 'specs', 'epochs', 'trotter_step',\n",
      "       'time_steps', 'controls', 'reservoirs', 'N_train', 'fixed_params',\n",
      "       'init_params', 'testing_results', 'infidelities', 'avg_fidelity',\n",
      "       'costs', 'params_per_epoch', 'training_states', 'opt_params', 'opt_lr',\n",
      "       'grads_per_epoch', 'init_grads', 'target DQFIM stats',\n",
      "       'DQFIM_stats_local', 'test_key', 'QFIM Results',\n",
      "       'DQFIM_stats_20_L_states', 'QFIM_basis_state'],\n",
      "      dtype='object')\n",
      "test64 gate U2_0 has 4 data runs stored. Picking latest one: data_run_0_.pickle\n",
      "Index(['Gate', 'opt_description', 'specs', 'epochs', 'trotter_step',\n",
      "       'time_steps', 'controls', 'reservoirs', 'N_train', 'fixed_params',\n",
      "       'init_params', 'testing_results', 'infidelities', 'avg_fidelity',\n",
      "       'costs', 'params_per_epoch', 'training_states', 'opt_params', 'opt_lr',\n",
      "       'grads_per_epoch', 'init_grads', 'target DQFIM stats',\n",
      "       'DQFIM_stats_local', 'test_key', 'QFIM Results',\n",
      "       'DQFIM_stats_20_L_states', 'QFIM_basis_state'],\n",
      "      dtype='object')\n",
      "test64 gate U2_1 has 3 data runs stored. Picking latest one: data_run_0_.pickle\n",
      "Index(['Gate', 'opt_description', 'specs', 'epochs', 'trotter_step',\n",
      "       'time_steps', 'controls', 'reservoirs', 'N_train', 'fixed_params',\n",
      "       'init_params', 'testing_results', 'infidelities', 'avg_fidelity',\n",
      "       'costs', 'params_per_epoch', 'training_states', 'opt_params', 'opt_lr',\n",
      "       'grads_per_epoch', 'init_grads', 'target DQFIM stats',\n",
      "       'DQFIM_stats_local', 'test_key', 'QFIM Results',\n",
      "       'DQFIM_stats_20_L_states', 'QFIM_basis_state'],\n",
      "      dtype='object')\n",
      "test64 gate U2_6 has 3 data runs stored. Picking latest one: data_run_0_.pickle\n",
      "Index(['Gate', 'opt_description', 'specs', 'epochs', 'trotter_step',\n",
      "       'time_steps', 'controls', 'reservoirs', 'N_train', 'fixed_params',\n",
      "       'init_params', 'testing_results', 'infidelities', 'avg_fidelity',\n",
      "       'costs', 'params_per_epoch', 'training_states', 'opt_params', 'opt_lr',\n",
      "       'grads_per_epoch', 'init_grads', 'target DQFIM stats',\n",
      "       'DQFIM_stats_local', 'test_key', 'QFIM Results',\n",
      "       'DQFIM_stats_20_L_states', 'QFIM_basis_state'],\n",
      "      dtype='object')\n",
      "test64 gate U2_8 has 3 data runs stored. Picking latest one: data_run_0_.pickle\n",
      "Index(['Gate', 'opt_description', 'specs', 'epochs', 'trotter_step',\n",
      "       'time_steps', 'controls', 'reservoirs', 'N_train', 'fixed_params',\n",
      "       'init_params', 'testing_results', 'infidelities', 'avg_fidelity',\n",
      "       'costs', 'params_per_epoch', 'training_states', 'opt_params', 'opt_lr',\n",
      "       'grads_per_epoch', 'init_grads', 'target DQFIM stats',\n",
      "       'DQFIM_stats_local', 'test_key', 'QFIM Results',\n",
      "       'DQFIM_stats_20_L_states', 'QFIM_basis_state'],\n",
      "      dtype='object')\n",
      "df_results shape: (224, 28)\n",
      "13\n"
     ]
    }
   ],
   "source": [
    "import math\n",
    "import numpy as np\n",
    "import pandas as pd\n",
    "\n",
    "# ----------------------------------------------------------------------\n",
    "# 1. Compute single-draw QFIM/DQFIM statistics (unchanged)\n",
    "# ----------------------------------------------------------------------\n",
    "def compute_single_draw_stats(\n",
    "    eigvals,\n",
    "    full_qfim_mat,\n",
    "    threshold=1e-10,\n",
    "    spread_methods=(\"variance\", \"mad\"),\n",
    "    ddof=1,\n",
    "    scale=\"normal\",\n",
    "    gamma=1.0,\n",
    "    n=1,\n",
    "    V_theta=1.0,\n",
    "    n_ctrl=None,\n",
    "    n_reserv=None,\n",
    "    trotter_step=None,\n",
    "):\n",
    "    \"\"\"\n",
    "    Compute QFIM (or DQFIM) statistics for a SINGLE set of eigenvalues.\n",
    "    (This function is unchanged.)\n",
    "    \"\"\"\n",
    "    arr = np.array(eigvals)\n",
    "    if arr.ndim != 1:\n",
    "        arr = arr.flatten()\n",
    "    arr = np.where(arr < threshold, 0.0, arr)\n",
    "    \n",
    "    draw_rank = np.count_nonzero(arr)\n",
    "    var_all_eigenvalues = np.var(arr, ddof=1)\n",
    "    var_all_eigenvalues_doff_0 = np.var(arr, ddof=0)\n",
    "    nonzero = arr[arr > threshold]\n",
    "    var_nonzero_eigenvalues = np.var(nonzero, ddof=1) if nonzero.size > 1 else 0.0\n",
    "    var_nonzero_eigenvalues_doff_0 = np.var(nonzero, ddof=0) if nonzero.size > 1 else 0.0\n",
    "    var_nonzero_log = np.log(var_nonzero_eigenvalues) if var_nonzero_eigenvalues > 0 else -np.inf\n",
    "    trace_eigenvalues = np.sum(arr)\n",
    "    min_nonzero_eigenvalue = np.min(nonzero)\n",
    "    \n",
    "    var_normalized_by_param_count = var_all_eigenvalues / len(arr)\n",
    "    var_nonzero_normalized_by_rank = var_nonzero_eigenvalues / draw_rank if draw_rank > 0 else 0.0\n",
    "    var_normalized_by_rank = var_all_eigenvalues / draw_rank if draw_rank > 0 else 0.0\n",
    "    trace_normalized_by_rank = (trace_eigenvalues / draw_rank) if draw_rank > 0 else 0.0\n",
    "    trace_normalized_by_param_count = trace_eigenvalues / len(arr)\n",
    "    \n",
    "    sum_of_squares = np.sum(arr**2)\n",
    "    ipr_deff_raw = (trace_eigenvalues**2) / sum_of_squares if sum_of_squares > 0 else 0.0\n",
    "    \n",
    "    if trace_eigenvalues > 0:\n",
    "        arr_norm = arr / trace_eigenvalues\n",
    "        sum_norm_sq = np.sum(arr_norm**2)\n",
    "        ipr_deff_norm = 1.0 / sum_norm_sq if sum_norm_sq > 0 else 0.0\n",
    "    else:\n",
    "        arr_norm = None\n",
    "        ipr_deff_norm = 0.0\n",
    "\n",
    "    if n > 1 and math.log(n) != 0.0:\n",
    "        alpha = (gamma * n) / (2.0 * math.log(n))\n",
    "    else:\n",
    "        alpha = 0.0\n",
    "    abbas_deff_raw = np.sum(np.log(np.maximum(1.0 + alpha * arr, 1e-15)))\n",
    "    if arr_norm is not None:\n",
    "        abbas_deff_norm = np.sum(np.log(np.maximum(1.0 + alpha * arr_norm, 1e-15)))\n",
    "    else:\n",
    "        abbas_deff_norm = 0.0\n",
    "\n",
    "    F = np.array(full_qfim_mat, dtype=complex)\n",
    "    trF = np.trace(F)\n",
    "    if trF > 0:\n",
    "        F_hat = F / trF\n",
    "        eigs_F = np.linalg.eigvalsh(F_hat)\n",
    "        eps = 1e-12\n",
    "        if n > 1 and math.log(n) != 0.0:\n",
    "            z = 0.5 * np.sum(np.log(1.0 + n * eigs_F + eps))\n",
    "            effective_dimension = (2.0 / np.log(n)) * z\n",
    "        else:\n",
    "            effective_dimension = np.sum(eigs_F / (1.0 + eigs_F))\n",
    "    else:\n",
    "        effective_dimension = 0.0\n",
    "\n",
    "    arr_2d = arr.reshape(1, -1)\n",
    "    spread_metrics = {}\n",
    "    # (Assuming spread_per_sample_vectorized is defined elsewhere.)\n",
    "    for method in spread_methods:\n",
    "        per_draw = spread_per_sample_vectorized(arr_2d, method=method, threshold=threshold, ddof=ddof, scale=scale)\n",
    "        spread_metrics[f\"spread_metric_{method}\"] = per_draw[0] if per_draw.size > 0 else 0.0\n",
    "    \n",
    "    stats_dict = {\n",
    "        \"draw_rank\": draw_rank,\n",
    "        \"var_all_eigenvalues\": var_all_eigenvalues,\n",
    "        \"var_all_eigenvalues_doff_0\":var_all_eigenvalues_doff_0,\n",
    "        \"var_nonzero_eigenvalues\": var_nonzero_eigenvalues,\n",
    "        \"var_nonzero_eigenvalues_doff_0\":var_nonzero_eigenvalues_doff_0,\n",
    "        \"trace_eigenvalues\": trace_eigenvalues,\n",
    "        # \"var_all_normalized_by_param_count\": var_normalized_by_param_count,\n",
    "        \"var_all_normalized_by_rank\": var_normalized_by_rank,\n",
    "        \"var_nonzero_normalized_by_rank\": var_nonzero_normalized_by_rank,\n",
    "        \"trace_normalized_by_rank\": trace_normalized_by_rank,\n",
    "        # \"trace_normalized_by_param_count\": trace_normalized_by_param_count,\n",
    "        \"var_nonzero_log\": var_nonzero_log,\n",
    "        # \"ipr_deff_raw\": ipr_deff_raw,\n",
    "        \"ipr_deff_norm\": ipr_deff_norm,\n",
    "        \"abbas_deff_raw\": abbas_deff_raw,\n",
    "        \"abbas_deff_norm\": abbas_deff_norm,\n",
    "        \"d_eff\": effective_dimension,\n",
    "        # Minimum nonzero eigenvalue (above threshold)\n",
    "        \"min_nonzero_eigenvalue\": min_nonzero_eigenvalue,\n",
    "    }\n",
    "    stats_dict.update(spread_metrics)\n",
    "    \n",
    "    return stats_dict\n",
    "\n",
    "# ----------------------------------------------------------------------\n",
    "# 2. clean_array (unchanged)\n",
    "# ----------------------------------------------------------------------\n",
    "def clean_array(data):\n",
    "    if isinstance(data, np.ndarray):\n",
    "        return np.array(data)\n",
    "    elif isinstance(data, dict):\n",
    "        return {k: clean_array(v) for k, v in data.items()}\n",
    "    elif isinstance(data, list):\n",
    "        return [clean_array(v) for v in data]\n",
    "    else:\n",
    "        return data\n",
    "\n",
    "# ----------------------------------------------------------------------\n",
    "# 3. Updated read_jax_file\n",
    "# ----------------------------------------------------------------------\n",
    "def read_jax_file(file_path, gate_name, test_key,num_L):\n",
    "    \"\"\"\n",
    "    Read the pickle file and extract fields using the updated keys.\n",
    "    Now extracts:\n",
    "      - QFIM Results (GHZ)\n",
    "      - QFIM_basis_state\n",
    "      - Computed training DQFIM from \"DQFIM_stats_local\"\n",
    "      - Original (file-stored) DQFIM from \"DQFIM_stats_{NUM_L}_L_states\"\n",
    "      - Computed target DQFIM from \"target DQFIM stats\"\n",
    "    \"\"\"\n",
    "    with open(file_path, 'rb') as f:\n",
    "        df = pickle.load(f)\n",
    "    df = clean_array(df)\n",
    "    print(df.keys())\n",
    "    \n",
    "    try:\n",
    "        costs = np.asarray([float(i) for i in df['costs'][0]], dtype=np.float64)\n",
    "        N_train = float(df['N_train'][0])\n",
    "    except Exception as e:\n",
    "        print(f\"Error reading costs/N_train from {file_path}: {e}\")\n",
    "        costs = None\n",
    "        N_train= None\n",
    "        \n",
    "    try:\n",
    "        grads_per_epoch = [np.asarray(i, dtype=np.float64) for i in df['grads_per_epoch'][0]]\n",
    "    except Exception as e:\n",
    "        print(f\"Error reading grads_per_epoch from {file_path}: {e}\")\n",
    "        grads_per_epoch = None\n",
    "        \n",
    "    try:\n",
    "        fidelity = float(df['avg_fidelity'][0])\n",
    "    except Exception as e:\n",
    "        print(f\"Error reading avg_fidelity from {file_path}: {e}\")\n",
    "        fidelity = None\n",
    "        \n",
    "    try:\n",
    "        num_params = 3 + int(df['controls'][0]) * int(df['reservoirs'][0]) * int(df['trotter_step'][0]) + int(df['trotter_step'][0])\n",
    "    except Exception as e:\n",
    "        print(f\"Error computing num_params from {file_path}: {e}\")\n",
    "        num_params = None\n",
    "        \n",
    "    try:\n",
    "        test_results = np.asarray(df['testing_results'][0], dtype=np.float64)\n",
    "    except Exception as e:\n",
    "        print(f\"Error reading testing_results from {file_path}: {e}\")\n",
    "        test_results = None\n",
    "        \n",
    "    # QFIM Results (GHZ)\n",
    "    qfim_stats_dict_GHZ = df.get('QFIM Results', [None])[0]\n",
    "    if qfim_stats_dict_GHZ is None:\n",
    "        print(f\"Warning: 'QFIM Results' not found in {file_path}\")\n",
    "        qfim_eigvals_GHZ = qfim_full_GHZ = entropy_GHZ = None\n",
    "    else:\n",
    "        qfim_eigvals_GHZ = qfim_stats_dict_GHZ.get('qfim_eigvals', None)\n",
    "        qfim_full_GHZ = qfim_stats_dict_GHZ.get('qfim', None)\n",
    "        entropy_GHZ = qfim_stats_dict_GHZ.get('entropy', None)\n",
    "    \n",
    "    # QFIM Results (GHZ)\n",
    "    qfim_stats_dict_GHZ = df['QFIM Results'][0]\n",
    "    qfim_eigvals_GHZ = qfim_stats_dict_GHZ['qfim_eigvals']\n",
    "    qfim_full_GHZ = qfim_stats_dict_GHZ['qfim']\n",
    "    entropy_GHZ = qfim_stats_dict_GHZ['entropy']\n",
    "    \n",
    "    # QFIM Basis State\n",
    "    qfim_stats_dict_basis = df['QFIM_basis_state'][0]\n",
    "    qfim_eigvals_basis = qfim_stats_dict_basis['qfim_eigvals']\n",
    "    qfim_full_basis = qfim_stats_dict_basis['qfim']\n",
    "    entropy_basis = qfim_stats_dict_basis['entropy']\n",
    "    \n",
    "    # Computed Training DQFIM stats (new key)\n",
    "    dqfim_stats_local = df['DQFIM_stats_local'][0]\n",
    "    dqfim_eigvals_train = dqfim_stats_local['eigvals_train']\n",
    "    dqfim_train = dqfim_stats_local['DQFIM_train']\n",
    "    dqfim_entropies = dqfim_stats_local['entropies_train']\n",
    "    \n",
    "    # Original (file-stored) DQFIM stats (new key) – stored under key like \"DQFIM_stats_{NUM_L}_L_states\"\n",
    "    key_name = f'DQFIM_stats_{num_L}_L_states'\n",
    "    dqfim_stats_dict_random = df[key_name][0]\n",
    "    dqfim_eigvals_random = dqfim_stats_dict_random['dqfim_eigvals']\n",
    "    dqfim_full_random = dqfim_stats_dict_random['dqfim']\n",
    "    L = dqfim_stats_dict_random.get('L', None)\n",
    "    dqfim_entropies_random = dqfim_stats_dict_random.get('entropies', None)\n",
    "    # Computed Target DQFIM stats (new key) target_dqfim_entropies\n",
    "    computed_target = df[\"target DQFIM stats\"][0]\n",
    "    try:\n",
    "        target_dqfim_eigvals = computed_target['eigvals_target']\n",
    "        target_dqfim_full = computed_target['DQFIM_target']\n",
    "        target_dqfim_entropies = computed_target['entropies_target']\n",
    "    except KeyError:\n",
    "        target_dqfim_eigvals = computed_target['dqfim_eigvals']\n",
    "        target_dqfim_full = computed_target['DQFIM']\n",
    "        target_dqfim_entropies = computed_target['entropies']\n",
    "                                             \n",
    "    readin_test_key = df.get(\"test_key\", [None])[0]\n",
    "    assert readin_test_key == test_key, f'Got: {readin_test_key}. Expected: {test_key}'\n",
    "    result = {\n",
    "        \"costs\": costs,\n",
    "        \"fidelity\": fidelity,\n",
    "        \"num_params\": num_params,\n",
    "        \"test_results\": test_results,\n",
    "        \"qfim_eigvals_GHZ\": qfim_eigvals_GHZ,\n",
    "        \"qfim_full_GHZ\": qfim_full_GHZ,\n",
    "        \"entropy_GHZ\": entropy_GHZ,\n",
    "        \"qfim_eigvals_basis\": qfim_eigvals_basis,\n",
    "        \"qfim_full_basis\": qfim_full_basis,\n",
    "        \"entropy_basis\": entropy_basis,\n",
    "        \"dqfim_eigvals_train\": dqfim_eigvals_train,\n",
    "        \"dqfim_train\": dqfim_train,\n",
    "        \"dqfim_entropies\": dqfim_entropies,\n",
    "        \"dqfim_eigvals_random\": dqfim_eigvals_random,\n",
    "        \"dqfim_full_random\": dqfim_full_random,\n",
    "        \"dqfim_entropies_random\":dqfim_entropies_random,\n",
    "        \"num_sampled_states\": num_L,\n",
    "        \"target_dqfim_eigvals\": target_dqfim_eigvals,\n",
    "        \"target_dqfim_full\": target_dqfim_full,\n",
    "        \"target_dqfim_entropies\": target_dqfim_entropies,\n",
    "        \"N_ctrl\": df.get('controls', [None])[0],\n",
    "        \"Trotter_Step\": df.get('trotter_step', [None])[0],\n",
    "        \"N_R\": df.get('reservoirs', [None])[0],\n",
    "        \"gate\": gate_name,\n",
    "        'N_train':N_train,\n",
    "        \"test_key\": readin_test_key\n",
    "    }\n",
    "    return result\n",
    "import glob\n",
    "import os\n",
    "\n",
    "def listdir_nohidden(path):\n",
    "    return glob.glob(os.path.join(path, '*'))\n",
    "# ----------------------------------------------------------------------\n",
    "# 4. Build and aggregate DataFrame results (updated)\n",
    "# ----------------------------------------------------------------------\n",
    "def build_df_results(fixed_param_folder, base_folder, N_C, N_R, T,num_L):\n",
    "    \"\"\"\n",
    "    Build a DataFrame by scanning the results folder.\n",
    "    Updated to include new keys (e.g., 'DQFIM_stats_local' and original file DQFIM stats).\n",
    "    \"\"\"\n",
    "\n",
    "    rows = []\n",
    "    full_path = os.path.join(base_folder, fixed_param_folder)\n",
    "    print(full_path)\n",
    "    for test_key in os.listdir(full_path):\n",
    "        test_key_path = os.path.join(full_path, test_key)\n",
    "        if not os.path.isdir(test_key_path):\n",
    "            continue\n",
    "        for gate_folder in os.listdir(test_key_path):\n",
    "            if not gate_folder.startswith(f\"U{N_C}_\"):\n",
    "                continue\n",
    "            gate_folder_path = os.path.join(test_key_path, gate_folder)\n",
    "            if not os.path.isdir(gate_folder_path):\n",
    "                continue\n",
    "            datarun_files_in_folder = listdir_nohidden(gate_folder_path)\n",
    "            if len(datarun_files_in_folder) > 1:\n",
    "                \n",
    "                file_name = f\"data_run_0_.pickle\"\n",
    "                print(f'{test_key} gate {gate_folder} has {len(datarun_files_in_folder)} data runs stored. Picking latest one: {file_name}')\n",
    "            else:\n",
    "                file_name = \"data_run_0.pickle\"\n",
    "            pickle_file = os.path.join(gate_folder_path, file_name)\n",
    "            if os.path.isfile(pickle_file):\n",
    "                try:\n",
    "                    data = read_jax_file(pickle_file, gate_folder, test_key, num_L)\n",
    "                    data[\"test_key\"] = test_key\n",
    "                    data[\"gate_folder\"] = gate_folder\n",
    "                    data[\"file_path\"] = pickle_file\n",
    "                    rows.append(data)\n",
    "                except Exception as ex:\n",
    "                    print(f\"Error processing {pickle_file}: {ex}\")\n",
    "                    raise  # Break out immediately on error.\n",
    "            else:\n",
    "                print(f\"Pickle file does not exist: {pickle_file}\")\n",
    "    df_results = pd.DataFrame(rows)\n",
    "    return df_results\n",
    "\n",
    "# Example usage in post-processing:\n",
    "# df_results = build_df_results(fixed_param_folder, base_folder, N_C=2)\n",
    "# df_agg = aggregate_results(df_results)\n",
    "# df_final = update_with_all_qfim_metrics(df_agg)\n",
    "# print(df_final.shape)\n",
    "\n",
    "trotter_Step = 10\n",
    "N_ctrl = 2\n",
    "num_L = 20\n",
    "N_reserv = 1\n",
    "fixed_param_folder = \"fixed_params0\"\n",
    "num_epochs = 1500\n",
    "train_size = 20\n",
    "Nc = N_ctrl\n",
    "Nr = N_reserv\n",
    "sample_range_label = '.5pi'\n",
    "base_folder = f\"/Users/so714f/Documents/offline/qrc/param_initialization_final/analog_results/Nc_{Nc}/epochs_{num_epochs}/reservoirs_{Nr}/trotter_{trotter_Step}/trainsize_{train_size}/sample_.5pi\"\n",
    "\n",
    "# base_folder = f\"/Users/sophieblock/QRCCapstone/parameter_analysis_directory/param_initialization_final/analog_results/Nc_{N_ctrl}/epochs_{num_epochs}/reservoirs_{N_reserv}/trotter_{trotter_Step}/trainsize_{train_size}/sample_{sample_range_label}\"\n",
    "df_results = build_df_results(fixed_param_folder, base_folder, N_C=N_ctrl, N_R=N_reserv, T=trotter_Step,num_L=num_L)\n",
    "\n",
    "print(\"df_results shape:\", df_results.shape)\n",
    "print(len(df_results['test_key'].unique()))\n",
    "\n",
    "# /Users/so714f/Documents/offline/qrc/param_initialization_final/analog_results/Nc_2/epochs_1500/reservoirs_1/trotter_10/trainsize_10/sample_.5pi/fixed_params0"
   ]
  },
  {
   "cell_type": "code",
   "execution_count": 5,
   "metadata": {},
   "outputs": [
    {
     "data": {
      "text/plain": [
       "'/Users/so714f/Documents/offline/qrc/param_initialization_final/analog_results/Nc_2/epochs_1500/reservoirs_1/trotter_10/trainsize_20/sample_.5pi'"
      ]
     },
     "execution_count": 5,
     "metadata": {},
     "output_type": "execute_result"
    }
   ],
   "source": [
    "base_folder\n",
    "# /Users/so714f/Documents/offline/qrc/param_initialization_final/analog_results/Nc_2/epochs_1500/reservoirs_1/trotter_10/trainsize_10/sample_.5pi"
   ]
  },
  {
   "cell_type": "code",
   "execution_count": 4,
   "metadata": {},
   "outputs": [],
   "source": [
    "\n",
    "def aggregate_results(df):\n",
    "    \"\"\"\n",
    "    Aggregate the DataFrame by test_key and gate.\n",
    "    Now also includes the original DQFIM file stats.\n",
    "    \"\"\"\n",
    "    aggregated = df.groupby([\"test_key\", \"gate\"]).agg(\n",
    "        fidelities_list=(\"fidelity\", list),\n",
    "        avg_fidelity=(\"fidelity\", \"mean\"),\n",
    "        error=(\"fidelity\", lambda x: np.mean(np.log(1 - x))),\n",
    "        avg_infidelity=(\"fidelity\", lambda x: np.mean(1 - x)),\n",
    "        qfim_eigvals_GHZ=(\"qfim_eigvals_GHZ\", \"first\"),\n",
    "        qfim_full_GHZ=(\"qfim_full_GHZ\", \"first\"),\n",
    "        entropy_GHZ=(\"entropy_GHZ\", \"first\"),\n",
    "        qfim_eigvals_basis=(\"qfim_eigvals_basis\", \"first\"),\n",
    "        qfim_full_basis=(\"qfim_full_basis\", \"first\"),\n",
    "        entropy_basis=(\"entropy_basis\", \"first\"),\n",
    "        dqfim_eigvals_train=(\"dqfim_eigvals_train\", \"first\"),\n",
    "        dqfim_train=(\"dqfim_train\", \"first\"),\n",
    "        dqfim_eigvals_random=(\"dqfim_eigvals_random\", \"first\"),\n",
    "        dqfim_full_random=(\"dqfim_full_random\", \"first\"),\n",
    "        target_dqfim_eigvals=(\"target_dqfim_eigvals\", \"first\"),\n",
    "        target_dqfim_full=(\"target_dqfim_full\", \"first\"),\n",
    "        target_dqfim_entropies=(\"target_dqfim_entropies\", \"first\"),\n",
    "        N_ctrl=(\"N_ctrl\", \"first\"),\n",
    "        N_R=(\"N_R\", \"first\"),\n",
    "        Trotter_Step=(\"Trotter_Step\", \"first\"),\n",
    "        num_sampled_states=(\"num_sampled_states\", \"first\"),\n",
    "        num_train = (\"N_train\",\"first\")\n",
    "    ).reset_index()\n",
    "    return aggregated\n",
    "\n",
    "def update_with_all_qfim_metrics(df, threshold=1e-10, spread_methods=(\"variance\", \"mad\"),\n",
    "                                 ddof=1, scale=\"normal\", gamma=0.1, n=1, V_theta=1.0):\n",
    "    \"\"\"\n",
    "    For each row, compute derived metrics for each QFIM variant:\n",
    "      - GHZ QFIM (from \"qfim_eigvals_GHZ\" and \"qfim_full_GHZ\")\n",
    "      - Basis QFIM (from \"qfim_eigvals\" and \"qfim_full\")\n",
    "      - Computed Training DQFIM (from \"dqfim_eigvals_train\" and \"dqfim_train\")\n",
    "      - Original file-stored DQFIM (from \"dqfim_eigvals_file\" and \"dqfim_full_file\")\n",
    "      - Computed Target DQFIM (from \"target_dqfim_eigvals\" and \"target_dqfim_full\")\n",
    "    \"\"\"\n",
    "    new_rows = []\n",
    "    for _, row in df.iterrows():\n",
    "        ghz_stats = compute_single_draw_stats(\n",
    "            row[\"qfim_eigvals_GHZ\"],\n",
    "            row[\"qfim_full_GHZ\"],\n",
    "            threshold=threshold,\n",
    "            spread_methods=spread_methods,\n",
    "            ddof=ddof,\n",
    "            scale=scale,\n",
    "            gamma=gamma,\n",
    "            n=1,\n",
    "            V_theta=V_theta,\n",
    "            n_ctrl=row[\"N_ctrl\"],\n",
    "            n_reserv=row[\"N_R\"],\n",
    "            trotter_step=row[\"Trotter_Step\"]\n",
    "        )\n",
    "        basis_stats = compute_single_draw_stats(\n",
    "            row[\"qfim_eigvals_basis\"],\n",
    "            row[\"qfim_full_basis\"],\n",
    "            threshold=threshold,\n",
    "            spread_methods=spread_methods,\n",
    "            ddof=ddof,\n",
    "            scale=scale,\n",
    "            gamma=gamma,\n",
    "            n=1,\n",
    "            V_theta=V_theta,\n",
    "            n_ctrl=row[\"N_ctrl\"],\n",
    "            n_reserv=row[\"N_R\"],\n",
    "            trotter_step=row[\"Trotter_Step\"]\n",
    "        )\n",
    "        dqfim_stats_train = compute_single_draw_stats(\n",
    "            row[\"dqfim_eigvals_train\"],\n",
    "            row[\"dqfim_train\"],\n",
    "            threshold=threshold,\n",
    "            spread_methods=spread_methods,\n",
    "            ddof=ddof,\n",
    "            scale=scale,\n",
    "            gamma=gamma,\n",
    "            n=row['num_train'] if 'num_train' in row else 1,\n",
    "            V_theta=V_theta,\n",
    "            n_ctrl=row[\"N_ctrl\"],\n",
    "            n_reserv=row[\"N_R\"],\n",
    "            trotter_step=row[\"Trotter_Step\"]\n",
    "        )\n",
    "        file_dqfim_stats = compute_single_draw_stats(\n",
    "            row[\"dqfim_eigvals_random\"],\n",
    "            row[\"dqfim_full_random\"],\n",
    "            threshold=threshold,\n",
    "            spread_methods=spread_methods,\n",
    "            ddof=ddof,\n",
    "            scale=scale,\n",
    "            gamma=gamma,\n",
    "            n=row['num_sampled_states'] if 'num_sampled_states' in row else 1,\n",
    "            V_theta=V_theta,\n",
    "            n_ctrl=row[\"N_ctrl\"],\n",
    "            n_reserv=row[\"N_R\"],\n",
    "            trotter_step=row[\"Trotter_Step\"]\n",
    "        )\n",
    "        dqfim_stats_targ = compute_single_draw_stats(\n",
    "            row[\"target_dqfim_eigvals\"],\n",
    "            row[\"target_dqfim_full\"],\n",
    "            threshold=threshold,\n",
    "            spread_methods=spread_methods,\n",
    "            ddof=ddof,\n",
    "            scale=scale,\n",
    "            gamma=gamma,\n",
    "            n=row['num_train'] if 'num_train' in row else 1,\n",
    "            V_theta=V_theta,\n",
    "            n_ctrl=row[\"N_ctrl\"],\n",
    "            n_reserv=row[\"N_R\"],\n",
    "            trotter_step=row[\"Trotter_Step\"]\n",
    "        )\n",
    "        updated_row = row.to_dict()\n",
    "        updated_row.update({f\"GHZ_{k}\": v for k, v in ghz_stats.items()})\n",
    "        updated_row.update({f\"basis_{k}\": v for k, v in basis_stats.items()})\n",
    "        updated_row.update({f\"dqfim_{k}\": v for k, v in dqfim_stats_train.items()})\n",
    "        updated_row.update({f\"random_sample_dqfim_{k}\": v for k, v in file_dqfim_stats.items()})\n",
    "        updated_row.update({f\"tdqfim_{k}\": v for k, v in dqfim_stats_targ.items()})\n",
    "        new_rows.append(updated_row)\n",
    "    return pd.DataFrame(new_rows)\n"
   ]
  },
  {
   "cell_type": "code",
   "execution_count": 23,
   "metadata": {},
   "outputs": [
    {
     "name": "stdout",
     "output_type": "stream",
     "text": [
      "11\n"
     ]
    }
   ],
   "source": [
    "a =['test326', 'test43', 'test346', 'test64', 'test164', 'test169', 'test150', 'test58', 'test131', 'test286', 'test56']\n",
    "print(len(a))"
   ]
  },
  {
   "cell_type": "code",
   "execution_count": 5,
   "metadata": {},
   "outputs": [
    {
     "name": "stdout",
     "output_type": "stream",
     "text": [
      "Aggregated DataFrame shape: (224, 24)\n",
      "13 ['test0' 'test131' 'test150' 'test164' 'test169' 'test248' 'test286'\n",
      " 'test326' 'test346' 'test43' 'test56' 'test58' 'test64']\n"
     ]
    },
    {
     "data": {
      "text/plain": [
       "Index(['test_key', 'gate', 'fidelities_list', 'avg_fidelity', 'error',\n",
       "       'avg_infidelity', 'qfim_eigvals_GHZ', 'qfim_full_GHZ', 'entropy_GHZ',\n",
       "       'qfim_eigvals_basis',\n",
       "       ...\n",
       "       'tdqfim_var_nonzero_normalized_by_rank',\n",
       "       'tdqfim_trace_normalized_by_rank', 'tdqfim_var_nonzero_log',\n",
       "       'tdqfim_ipr_deff_norm', 'tdqfim_abbas_deff_raw',\n",
       "       'tdqfim_abbas_deff_norm', 'tdqfim_d_eff',\n",
       "       'tdqfim_min_nonzero_eigenvalue', 'tdqfim_spread_metric_variance',\n",
       "       'tdqfim_spread_metric_mad'],\n",
       "      dtype='object', length=109)"
      ]
     },
     "metadata": {},
     "output_type": "display_data"
    }
   ],
   "source": [
    "df_agg = aggregate_results(df_results)\n",
    "print(\"Aggregated DataFrame shape:\", df_agg.shape)\n",
    "# display(df_agg.keys())\n",
    "\n",
    "df_final = update_with_all_qfim_metrics(df_agg)\n",
    "print(len(df_final['test_key'].unique()),df_final['test_key'].unique())\n",
    "\n",
    "df_final.shape\n",
    "display(df_final.keys())\n"
   ]
  },
  {
   "cell_type": "code",
   "execution_count": null,
   "metadata": {},
   "outputs": [],
   "source": []
  },
  {
   "cell_type": "code",
   "execution_count": 13,
   "metadata": {},
   "outputs": [
    {
     "name": "stdout",
     "output_type": "stream",
     "text": [
      "test131\n",
      "True\n",
      "test150\n",
      "True\n",
      "test164\n",
      "True\n",
      "test169\n",
      "True\n",
      "test286\n",
      "True\n",
      "test326\n",
      "True\n",
      "test346\n",
      "True\n",
      "test43\n",
      "True\n",
      "test56\n",
      "True\n",
      "test58\n",
      "True\n",
      "test64\n",
      "True\n"
     ]
    }
   ],
   "source": [
    "expected = ['test326', 'test43', 'test346', 'test64', 'test164', 'test169', 'test150', 'test58', 'test131', 'test286', 'test56']\n",
    "\n",
    "for key in df_final['test_key'].unique():\n",
    "    print(key)\n",
    "    print(key in expected)"
   ]
  },
  {
   "cell_type": "code",
   "execution_count": 6,
   "metadata": {},
   "outputs": [],
   "source": [
    "numeric_cols = []\n",
    "for col in df_final.columns:\n",
    "    if pd.api.types.is_numeric_dtype(df_final[col]):\n",
    "        numeric_cols.append(col)\n",
    "\n",
    "# 2) Group by test_key and compute the mean for these numeric columns.\n",
    "#    numeric_only=True ensures that Pandas only attempts to average numeric data.\n",
    "df_agg_by_test_key = (\n",
    "    df_final\n",
    "    .groupby(\"test_key\")[numeric_cols]\n",
    "    .mean(numeric_only=True)  # or just .mean() if you're on older Pandas versions\n",
    "    .reset_index()\n",
    ")\n"
   ]
  },
  {
   "cell_type": "code",
   "execution_count": 7,
   "metadata": {},
   "outputs": [
    {
     "name": "stdout",
     "output_type": "stream",
     "text": [
      "\n",
      "Pairwise correlations vs. avg_fidelity (Pearson):\n",
      "GHZ_var_all_eigenvalues: r = 0.233, p = 0.000432\n",
      "GHZ_var_nonzero_eigenvalues: r = 0.232, p = 0.000468\n",
      "GHZ_var_all_eigenvalues_doff_0: r = 0.233, p = 0.000432\n",
      "GHZ_var_nonzero_eigenvalues_doff_0: r = 0.232, p = 0.000468\n",
      "GHZ_trace_eigenvalues: r = 0.224, p = 0.000746\n",
      "GHZ_var_nonzero_log: r = 0.231, p = 0.000483\n",
      "GHZ_ipr_deff_norm: r = -0.196, p = 0.00322\n",
      "GHZ_d_eff: r = -0.193, p = 0.00374\n",
      "\n",
      "Pairwise correlations vs. avg_fidelity (Spearman):\n",
      "GHZ_var_all_eigenvalues: rho = 0.364, p = 2.1e-08\n",
      "GHZ_var_nonzero_eigenvalues: rho = 0.348, p = 8.86e-08\n",
      "GHZ_var_all_eigenvalues_doff_0: rho = 0.364, p = 2.1e-08\n",
      "GHZ_var_nonzero_eigenvalues_doff_0: rho = 0.348, p = 8.86e-08\n",
      "GHZ_trace_eigenvalues: rho = 0.335, p = 2.87e-07\n",
      "GHZ_var_nonzero_log: rho = 0.348, p = 8.86e-08\n",
      "GHZ_ipr_deff_norm: rho = -0.297, p = 6.23e-06\n",
      "GHZ_d_eff: rho = -0.319, p = 1.11e-06\n"
     ]
    }
   ],
   "source": [
    "import pingouin as pg\n",
    "import warnings\n",
    "from scipy.stats import ConstantInputWarning\n",
    "def analyze_correlations(df_merged, x_metric, metrics_of_interest, corr_threshold=0.2, p_threshold=0.05,\n",
    "                         print_all_pearson=False, print_all_spearman=False):\n",
    "    \"\"\"\n",
    "    Analyze pairwise correlations between a given x_metric and each metric in metrics_of_interest.\n",
    "    \n",
    "    Parameters\n",
    "    ----------\n",
    "    df_merged : pd.DataFrame\n",
    "        The merged DataFrame containing the columns of interest.\n",
    "    x_metric : str\n",
    "        The column name for the independent variable (e.g., \"avg_fidelity\").\n",
    "    metrics_of_interest : list of str\n",
    "        List of column names whose correlations with x_metric will be computed.\n",
    "    corr_threshold : float, optional\n",
    "        Minimum absolute correlation coefficient to report (default 0.2).\n",
    "    p_threshold : float, optional\n",
    "        Maximum p-value threshold to report (default 0.05).\n",
    "    print_all_pearson : bool, optional\n",
    "        If True, print Pearson correlation results for every metric.\n",
    "    print_all_spearman : bool, optional\n",
    "        If True, print Spearman correlation results for every metric.\n",
    "        \n",
    "    Returns\n",
    "    -------\n",
    "    pearson_results : dict\n",
    "        Dictionary mapping each metric to its Pearson correlation coefficient and p-value.\n",
    "    spearman_results : dict\n",
    "        Dictionary mapping each metric to its Spearman correlation coefficient and p-value.\n",
    "    \"\"\"\n",
    "    # Create a new DataFrame with the columns of interest and drop rows with NaN values.\n",
    "    df_corr = df_merged[[x_metric] + metrics_of_interest].copy()\n",
    "    df_corr = df_corr.dropna(subset=[x_metric] + metrics_of_interest)\n",
    "    \n",
    "    # Ensure that each metric column contains float values.\n",
    "    for col in metrics_of_interest:\n",
    "        df_corr[col] = df_corr[col].apply(\n",
    "            lambda val: float(val.item()) if hasattr(val, \"item\") else float(val)\n",
    "        )\n",
    "    \n",
    "    # Compute Pearson correlations.\n",
    "    pearson_results = {}\n",
    "    for col in metrics_of_interest:\n",
    "        try:\n",
    "            with warnings.catch_warnings(record=True) as w:\n",
    "                warnings.simplefilter(\"error\", category=ConstantInputWarning)\n",
    "                res_df = pg.corr(x=df_corr[x_metric], y=df_corr[col], method=\"pearson\")\n",
    "            r_val = res_df[\"r\"].iloc[0]\n",
    "            p_val = res_df[\"p-val\"].iloc[0]\n",
    "            pearson_results[col] = {\"pearson_r\": r_val, \"p_value\": p_val}\n",
    "        except ConstantInputWarning as cie:\n",
    "            print(f\"ConstantInputWarning for {col} (Pearson): {cie}\")\n",
    "            pearson_results[col] = {\"pearson_r\": None, \"p_value\": None}\n",
    "    \n",
    "    # Compute Spearman correlations.\n",
    "    spearman_results = {}\n",
    "    for col in metrics_of_interest:\n",
    "        try:\n",
    "            with warnings.catch_warnings(record=True) as w:\n",
    "                warnings.simplefilter(\"error\", category=ConstantInputWarning)\n",
    "                sp_df = pg.corr(x=df_corr[x_metric], y=df_corr[col], method=\"spearman\")\n",
    "            rho_val = sp_df[\"r\"].iloc[0]\n",
    "            p_val = sp_df[\"p-val\"].iloc[0]\n",
    "            spearman_results[col] = {\"spearman_rho\": rho_val, \"p_value\": p_val}\n",
    "        except ConstantInputWarning as cie:\n",
    "            print(f\"ConstantInputWarning for {col} (Spearman): {cie}\")\n",
    "            spearman_results[col] = {\"spearman_rho\": None, \"p_value\": None}\n",
    "    \n",
    "    # Print out the Pearson correlations.\n",
    "    print(f\"\\nPairwise correlations vs. {x_metric} (Pearson):\")\n",
    "    for metric, vals in pearson_results.items():\n",
    "        if print_all_pearson or (vals[\"pearson_r\"] is not None and abs(vals[\"pearson_r\"]) > corr_threshold and vals[\"p_value\"] < p_threshold):\n",
    "            if vals[\"pearson_r\"] is not None:\n",
    "                print(f\"{metric}: r = {vals['pearson_r']:.3f}, p = {vals['p_value']:.3g}\")\n",
    "            else:\n",
    "                print(f\"{metric}: r = None, p = None\")\n",
    "    \n",
    "    # Print out the Spearman correlations.\n",
    "    print(f\"\\nPairwise correlations vs. {x_metric} (Spearman):\")\n",
    "    for metric, vals in spearman_results.items():\n",
    "        if print_all_spearman or (vals[\"spearman_rho\"] is not None and abs(vals[\"spearman_rho\"]) > corr_threshold and vals[\"p_value\"] < p_threshold):\n",
    "            if vals[\"spearman_rho\"] is not None:\n",
    "                print(f\"{metric}: rho = {vals['spearman_rho']:.3f}, p = {vals['p_value']:.3g}\")\n",
    "            else:\n",
    "                print(f\"{metric}: rho = None, p = None\")\n",
    "    \n",
    "    return pearson_results, spearman_results\n",
    "\n",
    "\n",
    "\n",
    "CORR_THRESHOLD = 0.1\n",
    "P_THRESHOLD = 0.05\n",
    "x_metric = \"avg_fidelity\"\n",
    "metrics_of_interest_ghz = [\n",
    "\n",
    "  \n",
    "       'GHZ_var_all_eigenvalues', 'GHZ_var_nonzero_eigenvalues',\n",
    "       'GHZ_var_all_eigenvalues_doff_0', 'GHZ_var_nonzero_eigenvalues_doff_0',\n",
    "       'GHZ_trace_eigenvalues', \n",
    "       'GHZ_var_nonzero_log',  'GHZ_ipr_deff_norm', 'GHZ_d_eff',\n",
    "    #    'GHZ_spread_variance_doff_0', 'GHZ_spread_mad_normal',\n",
    "    #     'GHZ_spread_mad_1.0',\n",
    "\n",
    "]\n",
    "# Now you can use these common thresholds in your calls:\n",
    "pearson_corrs_ghz, spearman_corrs_ghz = analyze_correlations(\n",
    "    df_final, x_metric, metrics_of_interest_ghz,\n",
    "    corr_threshold=CORR_THRESHOLD, p_threshold=P_THRESHOLD\n",
    ")\n",
    "\n",
    "# for metric, vals in pearson_corrss\n",
    "# on_r']:.3f}, p={vals['p_value']:.3g}\")\n",
    "    "
   ]
  },
  {
   "cell_type": "code",
   "execution_count": 8,
   "metadata": {},
   "outputs": [],
   "source": [
    "numeric_cols = []\n",
    "for col in df_final.columns:\n",
    "    if pd.api.types.is_numeric_dtype(df_final[col]):\n",
    "        numeric_cols.append(col)\n",
    "\n",
    "# 2) Group by test_key and compute the mean for these numeric columns.\n",
    "#    numeric_only=True ensures that Pandas only attempts to average numeric data.\n",
    "df_agg_by_test_key = (\n",
    "    df_final\n",
    "    .groupby(\"test_key\")[numeric_cols]\n",
    "    .mean(numeric_only=True)  # or just .mean() if you're on older Pandas versions\n",
    "    .reset_index()\n",
    ")"
   ]
  },
  {
   "cell_type": "code",
   "execution_count": 9,
   "metadata": {},
   "outputs": [
    {
     "name": "stdout",
     "output_type": "stream",
     "text": [
      "\n",
      "Pairwise correlations vs. avg_fidelity (Pearson):\n",
      "GHZ_var_all_eigenvalues: r = 0.233, p = 0.000432\n",
      "GHZ_var_nonzero_eigenvalues: r = 0.232, p = 0.000468\n",
      "GHZ_trace_eigenvalues: r = 0.224, p = 0.000746\n",
      "GHZ_var_nonzero_log: r = 0.231, p = 0.000483\n",
      "GHZ_ipr_deff_norm: r = -0.196, p = 0.00322\n",
      "GHZ_d_eff: r = -0.193, p = 0.00374\n",
      "\n",
      "Pairwise correlations vs. avg_fidelity (Spearman):\n",
      "GHZ_var_all_eigenvalues: rho = 0.364, p = 2.1e-08\n",
      "GHZ_var_nonzero_eigenvalues: rho = 0.348, p = 8.86e-08\n",
      "GHZ_trace_eigenvalues: rho = 0.335, p = 2.87e-07\n",
      "GHZ_var_nonzero_log: rho = 0.348, p = 8.86e-08\n",
      "GHZ_ipr_deff_norm: rho = -0.297, p = 6.23e-06\n",
      "GHZ_d_eff: rho = -0.319, p = 1.11e-06\n",
      "GHZ_spread_metric_variance: rho = -0.175, p = 0.00867\n",
      "GHZ_spread_metric_mad: rho = -0.136, p = 0.0424\n"
     ]
    }
   ],
   "source": [
    "import pingouin as pg\n",
    "import warnings\n",
    "from scipy.stats import ConstantInputWarning\n",
    "def analyze_correlations(df_merged, x_metric, metrics_of_interest, corr_threshold=0.2, p_threshold=0.05,\n",
    "                         print_all_pearson=False, print_all_spearman=False):\n",
    "    \"\"\"\n",
    "    Analyze pairwise correlations between a given x_metric and each metric in metrics_of_interest.\n",
    "    \n",
    "    Parameters\n",
    "    ----------\n",
    "    df_merged : pd.DataFrame\n",
    "        The merged DataFrame containing the columns of interest.\n",
    "    x_metric : str\n",
    "        The column name for the independent variable (e.g., \"avg_fidelity\").\n",
    "    metrics_of_interest : list of str\n",
    "        List of column names whose correlations with x_metric will be computed.\n",
    "    corr_threshold : float, optional\n",
    "        Minimum absolute correlation coefficient to report (default 0.2).\n",
    "    p_threshold : float, optional\n",
    "        Maximum p-value threshold to report (default 0.05).\n",
    "    print_all_pearson : bool, optional\n",
    "        If True, print Pearson correlation results for every metric.\n",
    "    print_all_spearman : bool, optional\n",
    "        If True, print Spearman correlation results for every metric.\n",
    "        \n",
    "    Returns\n",
    "    -------\n",
    "    pearson_results : dict\n",
    "        Dictionary mapping each metric to its Pearson correlation coefficient and p-value.\n",
    "    spearman_results : dict\n",
    "        Dictionary mapping each metric to its Spearman correlation coefficient and p-value.\n",
    "    \"\"\"\n",
    "    # Create a new DataFrame with the columns of interest and drop rows with NaN values.\n",
    "    df_corr = df_merged[[x_metric] + metrics_of_interest].copy()\n",
    "    df_corr = df_corr.dropna(subset=[x_metric] + metrics_of_interest)\n",
    "    \n",
    "    # Ensure that each metric column contains float values.\n",
    "    for col in metrics_of_interest:\n",
    "        df_corr[col] = df_corr[col].apply(\n",
    "            lambda val: float(val.item()) if hasattr(val, \"item\") else float(val)\n",
    "        )\n",
    "    \n",
    "    # Compute Pearson correlations.\n",
    "    pearson_results = {}\n",
    "    for col in metrics_of_interest:\n",
    "        try:\n",
    "            with warnings.catch_warnings(record=True) as w:\n",
    "                warnings.simplefilter(\"error\", category=ConstantInputWarning)\n",
    "                res_df = pg.corr(x=df_corr[x_metric], y=df_corr[col], method=\"pearson\")\n",
    "            r_val = res_df[\"r\"].iloc[0]\n",
    "            p_val = res_df[\"p-val\"].iloc[0]\n",
    "            pearson_results[col] = {\"pearson_r\": r_val, \"p_value\": p_val}\n",
    "        except ConstantInputWarning as cie:\n",
    "            print(f\"ConstantInputWarning for {col} (Pearson): {cie}\")\n",
    "            pearson_results[col] = {\"pearson_r\": None, \"p_value\": None}\n",
    "    \n",
    "    # Compute Spearman correlations.\n",
    "    spearman_results = {}\n",
    "    for col in metrics_of_interest:\n",
    "        try:\n",
    "            with warnings.catch_warnings(record=True) as w:\n",
    "                warnings.simplefilter(\"error\", category=ConstantInputWarning)\n",
    "                sp_df = pg.corr(x=df_corr[x_metric], y=df_corr[col], method=\"spearman\")\n",
    "            rho_val = sp_df[\"r\"].iloc[0]\n",
    "            p_val = sp_df[\"p-val\"].iloc[0]\n",
    "            spearman_results[col] = {\"spearman_rho\": rho_val, \"p_value\": p_val}\n",
    "        except ConstantInputWarning as cie:\n",
    "            print(f\"ConstantInputWarning for {col} (Spearman): {cie}\")\n",
    "            spearman_results[col] = {\"spearman_rho\": None, \"p_value\": None}\n",
    "    \n",
    "    # Print out the Pearson correlations.\n",
    "    print(f\"\\nPairwise correlations vs. {x_metric} (Pearson):\")\n",
    "    for metric, vals in pearson_results.items():\n",
    "        if print_all_pearson or (vals[\"pearson_r\"] is not None and abs(vals[\"pearson_r\"]) > corr_threshold and vals[\"p_value\"] < p_threshold):\n",
    "            if vals[\"pearson_r\"] is not None:\n",
    "                print(f\"{metric}: r = {vals['pearson_r']:.3f}, p = {vals['p_value']:.3g}\")\n",
    "            else:\n",
    "                print(f\"{metric}: r = None, p = None\")\n",
    "    \n",
    "    # Print out the Spearman correlations.\n",
    "    print(f\"\\nPairwise correlations vs. {x_metric} (Spearman):\")\n",
    "    for metric, vals in spearman_results.items():\n",
    "        if print_all_spearman or (vals[\"spearman_rho\"] is not None and abs(vals[\"spearman_rho\"]) > corr_threshold and vals[\"p_value\"] < p_threshold):\n",
    "            if vals[\"spearman_rho\"] is not None:\n",
    "                print(f\"{metric}: rho = {vals['spearman_rho']:.3f}, p = {vals['p_value']:.3g}\")\n",
    "            else:\n",
    "                print(f\"{metric}: rho = None, p = None\")\n",
    "    \n",
    "    return pearson_results, spearman_results\n",
    "\n",
    "\n",
    "\n",
    "CORR_THRESHOLD = 0.1\n",
    "P_THRESHOLD = 0.05\n",
    "x_metric = \"avg_fidelity\"\n",
    "metrics_of_interest_ghz = [\n",
    "\n",
    "  \n",
    "       'GHZ_var_all_eigenvalues', 'GHZ_var_nonzero_eigenvalues',\n",
    "       'GHZ_trace_eigenvalues', \n",
    "       'GHZ_var_nonzero_log',  'GHZ_ipr_deff_norm', 'GHZ_d_eff',\n",
    "       'GHZ_spread_metric_variance', 'GHZ_spread_metric_mad',\n",
    "]\n",
    "# Now you can use these common thresholds in your calls:\n",
    "pearson_corrs_ghz, spearman_corrs_ghz = analyze_correlations(\n",
    "    df_final, x_metric, metrics_of_interest_ghz,\n",
    "    corr_threshold=CORR_THRESHOLD, p_threshold=P_THRESHOLD\n",
    ")\n",
    "\n",
    "# for metric, vals in pearson_corrss\n",
    "# on_r']:.3f}, p={vals['p_value']:.3g}\")\n",
    "    "
   ]
  },
  {
   "cell_type": "code",
   "execution_count": 10,
   "metadata": {},
   "outputs": [
    {
     "name": "stdout",
     "output_type": "stream",
     "text": [
      "Target dQFIM metric keys: ['random_sample_dqfim_draw_rank', 'random_sample_dqfim_var_all_eigenvalues', 'random_sample_dqfim_var_all_eigenvalues_doff_0', 'random_sample_dqfim_var_nonzero_eigenvalues', 'random_sample_dqfim_var_nonzero_eigenvalues_doff_0', 'random_sample_dqfim_trace_eigenvalues', 'random_sample_dqfim_var_all_normalized_by_rank', 'random_sample_dqfim_var_nonzero_normalized_by_rank', 'random_sample_dqfim_trace_normalized_by_rank', 'random_sample_dqfim_var_nonzero_log', 'random_sample_dqfim_ipr_deff_norm', 'random_sample_dqfim_abbas_deff_raw', 'random_sample_dqfim_abbas_deff_norm', 'random_sample_dqfim_d_eff', 'random_sample_dqfim_min_nonzero_eigenvalue', 'random_sample_dqfim_spread_metric_variance', 'random_sample_dqfim_spread_metric_mad']\n"
     ]
    }
   ],
   "source": [
    "dqfim_metrics = [key for key in df_final.keys() if key.startswith('random_sample_dqfim_')]\n",
    "print(\"Target dQFIM metric keys:\", dqfim_metrics)"
   ]
  },
  {
   "cell_type": "code",
   "execution_count": 11,
   "metadata": {},
   "outputs": [
    {
     "name": "stdout",
     "output_type": "stream",
     "text": [
      "\n",
      "Pairwise correlations vs. error (Pearson):\n",
      "random_sample_dqfim_var_all_eigenvalues: r = -0.168, p = 0.0117\n",
      "random_sample_dqfim_var_nonzero_eigenvalues: r = -0.168, p = 0.0117\n",
      "random_sample_dqfim_trace_eigenvalues: r = -0.147, p = 0.028\n",
      "random_sample_dqfim_abbas_deff_raw: r = -0.155, p = 0.0205\n",
      "random_sample_dqfim_spread_metric_mad: r = 0.157, p = 0.0185\n",
      "\n",
      "Pairwise correlations vs. error (Spearman):\n",
      "random_sample_dqfim_abbas_deff_raw: rho = -0.136, p = 0.0416\n",
      "random_sample_dqfim_spread_metric_variance: rho = 0.149, p = 0.0258\n",
      "random_sample_dqfim_spread_metric_mad: rho = 0.163, p = 0.0143\n"
     ]
    }
   ],
   "source": [
    "x_metric = 'error'\n",
    "metrics_of_interest_targ_dqfim = [\n",
    "    'random_sample_dqfim_var_all_eigenvalues', 'random_sample_dqfim_var_nonzero_eigenvalues', 'random_sample_dqfim_trace_eigenvalues',\n",
    "    'random_sample_dqfim_ipr_deff_norm', 'random_sample_dqfim_abbas_deff_raw', 'random_sample_dqfim_abbas_deff_norm', 'random_sample_dqfim_d_eff',\n",
    "    'random_sample_dqfim_min_nonzero_eigenvalue', 'random_sample_dqfim_spread_metric_variance', 'random_sample_dqfim_spread_metric_mad']\n",
    "pearson_corrs_targ, spearman_corrs_targ = analyze_correlations(\n",
    "    df_final, x_metric, metrics_of_interest_targ_dqfim,\n",
    "    corr_threshold=CORR_THRESHOLD, p_threshold=P_THRESHOLD, print_all_pearson=False\n",
    ")"
   ]
  },
  {
   "cell_type": "code",
   "execution_count": 12,
   "metadata": {},
   "outputs": [],
   "source": [
    "n_colors = 100\n",
    "import plotly.express as px\n",
    "import seaborn as sns\n",
    "import matplotlib.colors as mcolors\n",
    "from matplotlib.colors import LinearSegmentedColormap, PowerNorm\n",
    "def plot_metric_vs_error_plotly(\n",
    "    df,\n",
    "    qfim_type,\n",
    "    x_metric,\n",
    "    error_col=\"error\",\n",
    "    title=None,\n",
    "    add_trendline=False,\n",
    "    n_colors=100,\n",
    "    width=800,\n",
    "    height=600,\n",
    "    log_x = False,\n",
    "    log_y = False,\n",
    "):\n",
    "    \"\"\"\n",
    "    Plot a scatter of one QFIM metric vs. error, with the points colored by the same error.\n",
    "    This is useful to visualize how error changes with the metric, and the color scale \n",
    "    helps distinguish overlapping points.\n",
    "\n",
    "    Parameters\n",
    "    ----------\n",
    "    df : pd.DataFrame\n",
    "        DataFrame with columns for the QFIM metrics and an error column.\n",
    "    qfim_type : str\n",
    "        The QFIM type (e.g. \"GHZ\", \"basis\", \"dqfim\", \"target\").\n",
    "        If None, x_metric is assumed to be a direct column name in df.\n",
    "    x_metric : str\n",
    "        The base name of the metric for the x-axis (without prefix if qfim_type is None).\n",
    "    error_col : str, default \"error\"\n",
    "        The column name for the error values (y-axis and color).\n",
    "    title : str, optional\n",
    "        Plot title. If None, a default is generated.\n",
    "    add_trendline : bool, optional\n",
    "        If True, add an OLS trendline across all points.\n",
    "    n_colors : int, optional\n",
    "        Number of color steps in the custom colormap.\n",
    "    width, height : int\n",
    "        Plot width and height in pixels.\n",
    "\n",
    "    Returns\n",
    "    -------\n",
    "    fig : plotly.graph_objects.Figure\n",
    "        A scatter plot with a bounding box, black marker borders, \n",
    "        and a color bar for the error values.\n",
    "    \"\"\"\n",
    "    import plotly.express as px\n",
    "    import numpy as np\n",
    "    import seaborn as sns\n",
    "    import matplotlib.colors as mcolors\n",
    "    from matplotlib.colors import LinearSegmentedColormap\n",
    "\n",
    "    # 1) Construct x_col\n",
    "    if qfim_type is not None:\n",
    "        x_col = f\"{qfim_type}_{x_metric}\"\n",
    "    else:\n",
    "        x_col = x_metric\n",
    "\n",
    "    # Check columns\n",
    "    for col in [x_col, error_col]:\n",
    "        if col not in df.columns:\n",
    "            raise ValueError(f\"Column '{col}' not found in the DataFrame.\")\n",
    "\n",
    "    # 2) Build a custom color scale from the error range\n",
    "    data_min = df[error_col].min()\n",
    "    data_max = df[error_col].max()\n",
    "    if np.isclose(data_min, data_max):\n",
    "        data_max = data_min + 1e-12\n",
    "\n",
    "    values = np.linspace(data_min, data_max, n_colors) ** 4\n",
    "    base_colormap = plt.cm.viridis\n",
    "    # base_colormap = sns.color_palette(\"Spectral\", as_cmap=True).reversed()\n",
    "    # base_colormap = sns.color_palette(\"YlGn\", as_cmap=True).reversed()\n",
    "    colors_rgba = base_colormap((values - values.min()) / (values.max() - values.min()))\n",
    "    # 'YlGn'\n",
    "    custom_cmap = LinearSegmentedColormap.from_list('vibrant', colors_rgba, N=n_colors)\n",
    "    plotly_color_scale = [mcolors.to_hex(custom_cmap(i)) for i in np.linspace(0, 1, n_colors)]\n",
    "\n",
    "    # 3) Trend line options\n",
    "    trendline_option = \"ols\" if add_trendline else None\n",
    "\n",
    "    # 4) Create the scatter plot\n",
    "    fig = px.scatter(\n",
    "        df,\n",
    "        x=x_col,\n",
    "        y=error_col,\n",
    "        color=error_col,\n",
    "        color_continuous_scale=plotly_color_scale,\n",
    "        title=title if title else f\"{x_col} vs {error_col} colored by {error_col}\",\n",
    "        hover_data=[\"test_key\"],\n",
    "        template=\"plotly_white\",\n",
    "        trendline=trendline_option,\n",
    "        trendline_scope=\"overall\",\n",
    "        trendline_color_override=\"red\",\n",
    "        width=width,\n",
    "        height=height,\n",
    "        log_x = log_x,\n",
    "        log_y = log_y,\n",
    "    )\n",
    "\n",
    "    # 5) Marker styling\n",
    "    fig.update_traces(\n",
    "        marker=dict(\n",
    "            size=12,\n",
    "            line=dict(width=1, color=\"black\"),\n",
    "            symbol=\"circle\"\n",
    "        )\n",
    "    )\n",
    "\n",
    "    # 6) Adjust color bar and bounding box\n",
    "    fig.update_layout(\n",
    "        coloraxis_colorbar=dict(\n",
    "            title=error_col,\n",
    "            len=0.9,\n",
    "            thickness=30,\n",
    "            y=0.5,\n",
    "            yanchor=\"middle\",\n",
    "            x=1.03\n",
    "        ),\n",
    "        shapes=[\n",
    "            dict(\n",
    "                type=\"rect\",\n",
    "                xref=\"paper\", yref=\"paper\",\n",
    "                x0=0, y0=0, x1=1, y1=1,\n",
    "                line=dict(color=\"black\", width=2),\n",
    "                layer=\"below\"\n",
    "            )\n",
    "        ]\n",
    "    )\n",
    "\n",
    "    return fig\n",
    "\n",
    "def plot_two_metrics_with_color(\n",
    "    df,\n",
    "    x_qfim_type,\n",
    "    x_metric,\n",
    "    y_qfim_type,\n",
    "    y_metric,\n",
    "    color_metric,\n",
    "    log_x = False,\n",
    "    log_y = False,\n",
    "    title=None,\n",
    "    add_trendline=True,\n",
    "    n_colors=100,\n",
    "    gamma=0.7,\n",
    "    cmap_name=\"Spectral\",\n",
    "    width=1000,\n",
    "    height=600,\n",
    "    scale_factor=0.05\n",
    "):\n",
    "    \"\"\"\n",
    "    Create a scatter plot comparing two metrics (x and y axes), potentially from \n",
    "    different QFIM types, with points colored by a third metric.\n",
    "    \n",
    "    If x_qfim_type or y_qfim_type is None, we assume that x_metric or y_metric\n",
    "    is already a column in df (e.g. \"error\", \"avg_fidelity\").\n",
    "\n",
    "    Parameters\n",
    "    ----------\n",
    "    df : pd.DataFrame\n",
    "        DataFrame with one row per test_key (or per gate) containing QFIM metrics.\n",
    "    x_qfim_type : str or None\n",
    "        QFIM type for the x-axis metric (e.g. \"GHZ\", \"basis\", \"dqfim\", \"target\") \n",
    "        or None if x_metric is already a column in df with no prefix.\n",
    "    x_metric : str\n",
    "        The metric name for the x-axis (no prefix if x_qfim_type is None).\n",
    "    y_qfim_type : str or None\n",
    "        QFIM type for the y-axis metric, or None if y_metric is already a column in df.\n",
    "    y_metric : str\n",
    "        The metric name for the y-axis (no prefix if y_qfim_type is None).\n",
    "    color_metric : str\n",
    "        The column name (or QFIM metric name) used for coloring the points.\n",
    "        (If you want to color by a QFIM metric with a prefix, pass the full col name.)\n",
    "    title : str, optional\n",
    "        Custom title for the plot. If None, a default is generated.\n",
    "    add_trendline : bool, optional\n",
    "        If True, add an Ordinary Least Squares (OLS) trendline across all points.\n",
    "    n_colors : int, optional\n",
    "        Number of steps in the custom colormap.\n",
    "    width, height : int\n",
    "        Plot width and height in pixels.\n",
    "\n",
    "    Returns\n",
    "    -------\n",
    "    fig : plotly.graph_objects.Figure\n",
    "        Scatter plot with custom color scale, bounding box, black marker borders, \n",
    "        and optional OLS trend line.\n",
    "    \"\"\"\n",
    "    # 1) Construct the full column names for x and y\n",
    "    if x_qfim_type is not None:\n",
    "        x_col = f\"{x_qfim_type}_{x_metric}\"\n",
    "    else:\n",
    "        x_col = x_metric  # no prefix\n",
    "\n",
    "    if y_qfim_type is not None:\n",
    "        y_col = f\"{y_qfim_type}_{y_metric}\"\n",
    "    else:\n",
    "        y_col = y_metric  # no prefix\n",
    "\n",
    "    color_col = color_metric  # e.g., \"avg_fidelity\", or \"target_abbas_deff_norm\", etc.\n",
    "\n",
    "    # Ensure required columns exist.\n",
    "    for col in [x_col, y_col, color_col]:\n",
    "        if col not in df.columns:\n",
    "            raise ValueError(f\"Column '{col}' not found in the DataFrame.\")\n",
    "\n",
    "    # 2. Subset the DataFrame to only rows that have non-null x and y values.\n",
    "    df_plot = df[[x_col, y_col, color_col, \"test_key\"]].dropna()\n",
    "\n",
    "    # 3. Compute the min and max for the color metric from only the plotted rows.\n",
    "    data_min = df_plot[color_col].min()\n",
    "    data_max = df_plot[color_col].max()\n",
    "    if np.isclose(data_min, data_max):\n",
    "        data_max = data_min + 1e-12\n",
    "     # Print the rows corresponding to the minimum and maximum values.\n",
    "    min_rows = df_plot[df_plot[color_col] == data_min]\n",
    "    max_rows = df_plot[df_plot[color_col] == data_max]\n",
    "    print(f\"Color column '{color_col}' minimum value: {data_min}\")\n",
    "    print(\"test corresponding to minimum value:\")\n",
    "    print(min_rows.get('test_key', None))\n",
    "    print(f\"Color column '{color_col}' maximum value: {data_max}\")\n",
    "    print(\"test corresponding to maximum value:\")\n",
    "    print(max_rows.get('test_key', None))\n",
    "    # Optionally adjust the lower bound.\n",
    "    if color_col == \"error\":\n",
    "        scale_factor = 0.0\n",
    "        # data_max =  np.log(0.75)\n",
    "        # data_max *= 1e-\n",
    "    adj_min = data_min - scale_factor * abs(data_min)\n",
    "    adj_max = data_max \n",
    "\n",
    "    print(f\"\\nadj_min: {adj_min}, adj_max: {adj_max}\")\n",
    "\n",
    "    # Create a PowerNorm based on the adjusted min and data_max.\n",
    "    norm = PowerNorm(gamma=gamma, vmin=adj_min, vmax=data_max)\n",
    "    # Create n_colors evenly spaced values between data_min and data_max.\n",
    "    values = np.linspace(data_min, data_max, n_colors)\n",
    "    normed_values = norm(values)\n",
    "    # Use a reversed Spectral palette from seaborn.\n",
    "    base_colormap = sns.color_palette(cmap_name, as_cmap=True).reversed()\n",
    "    colors_rgba = base_colormap(normed_values)\n",
    "    # Build a Matplotlib colormap and convert to a list of hex strings for Plotly.\n",
    "    custom_cmap = LinearSegmentedColormap.from_list('vibrant', colors_rgba, N=n_colors)\n",
    "    plotly_color_scale = [mcolors.to_hex(custom_cmap(i)) for i in np.linspace(0, 1, n_colors)]\n",
    "\n",
    "    # 3) Trend line options\n",
    "    trendline_option = \"ols\" if add_trendline else None\n",
    "    # 4. Create the scatter plot\n",
    "    #    trendline_scope=\"overall\" forces a single line across the entire dataset.\n",
    "    fig = px.scatter(\n",
    "        df,\n",
    "        x=x_col,\n",
    "        y=y_col,\n",
    "        color=color_col,\n",
    "        log_x=log_x,\n",
    "        log_y=log_y,\n",
    "        # color_continuous_scale=\"plasma_r\",\n",
    "        color_continuous_scale=plotly_color_scale,\n",
    "        range_color=[adj_min, data_max],\n",
    "        title=title if title else f\"{x_col} vs {y_col} colored by {color_col}\",\n",
    "        hover_data=[\"test_key\"],\n",
    "        template=\"plotly_white\",\n",
    "        trendline=trendline_option,\n",
    "        trendline_scope=\"overall\",\n",
    "        trendline_color_override=\"red\",\n",
    "        width=width,\n",
    "        height=height\n",
    "    )\n",
    "\n",
    "\n",
    "    # 5. Marker styling: bigger, black border\n",
    "    fig.update_traces(\n",
    "        marker=dict(\n",
    "            size=12,\n",
    "            line=dict(width=0.75, color=\"black\"),\n",
    "            symbol=\"circle\"\n",
    "        )\n",
    "    )\n",
    "\n",
    "    # 6. Adjust color bar: make it the full height of the plot\n",
    "    fig.update_layout(\n",
    "        coloraxis_colorbar=dict(\n",
    "            title=color_col,\n",
    "            len=1.1,            # 100% of plot height\n",
    "            thickness=35,       # adjust width of the color bar\n",
    "            yanchor=\"middle\",   # center it vertically\n",
    "            x=1.0,             # shift slightly to the right\n",
    "            y=0.53\n",
    "        ),\n",
    "        shapes=[\n",
    "            dict(\n",
    "                type=\"rect\",\n",
    "                xref=\"paper\", yref=\"paper\",\n",
    "                x0=0, y0=0, x1=1, y1=1,\n",
    "                line=dict(color=\"black\", width=2),\n",
    "                layer=\"below\"\n",
    "            )\n",
    "        ]\n",
    "    )\n",
    "    fig.update_xaxes(showgrid=True,gridwidth=1,gridcolor=\"lightgray\", ticklabelstandoff=10)\n",
    "    fig.update_yaxes(showgrid=True,gridwidth=1,gridcolor=\"lightgray\", ticklabelstandoff=10)\n",
    "\n",
    "    return fig\n",
    "\n"
   ]
  },
  {
   "cell_type": "code",
   "execution_count": 21,
   "metadata": {},
   "outputs": [
    {
     "name": "stdout",
     "output_type": "stream",
     "text": [
      "Color column 'dqfim_var_all_eigenvalues' minimum value: 5.359255313873291\n",
      "test corresponding to minimum value:\n",
      "184    test58\n",
      "Name: test_key, dtype: object\n",
      "Color column 'dqfim_var_all_eigenvalues' maximum value: 101.6332778930664\n",
      "test corresponding to maximum value:\n",
      "98    test286\n",
      "Name: test_key, dtype: object\n",
      "\n",
      "adj_min: 5.091292381286621, adj_max: 101.6332778930664\n"
     ]
    },
    {
     "data": {
      "application/vnd.plotly.v1+json": {
       "config": {
        "plotlyServerURL": "https://plot.ly"
       },
       "data": [
        {
         "customdata": [
          [
           "test0"
          ],
          [
           "test0"
          ],
          [
           "test131"
          ],
          [
           "test131"
          ],
          [
           "test131"
          ],
          [
           "test131"
          ],
          [
           "test131"
          ],
          [
           "test131"
          ],
          [
           "test131"
          ],
          [
           "test131"
          ],
          [
           "test131"
          ],
          [
           "test131"
          ],
          [
           "test131"
          ],
          [
           "test131"
          ],
          [
           "test131"
          ],
          [
           "test131"
          ],
          [
           "test131"
          ],
          [
           "test131"
          ],
          [
           "test131"
          ],
          [
           "test131"
          ],
          [
           "test131"
          ],
          [
           "test131"
          ],
          [
           "test150"
          ],
          [
           "test150"
          ],
          [
           "test150"
          ],
          [
           "test150"
          ],
          [
           "test150"
          ],
          [
           "test150"
          ],
          [
           "test150"
          ],
          [
           "test150"
          ],
          [
           "test150"
          ],
          [
           "test150"
          ],
          [
           "test150"
          ],
          [
           "test150"
          ],
          [
           "test150"
          ],
          [
           "test150"
          ],
          [
           "test150"
          ],
          [
           "test150"
          ],
          [
           "test150"
          ],
          [
           "test150"
          ],
          [
           "test150"
          ],
          [
           "test150"
          ],
          [
           "test164"
          ],
          [
           "test164"
          ],
          [
           "test164"
          ],
          [
           "test164"
          ],
          [
           "test164"
          ],
          [
           "test164"
          ],
          [
           "test164"
          ],
          [
           "test164"
          ],
          [
           "test164"
          ],
          [
           "test164"
          ],
          [
           "test164"
          ],
          [
           "test164"
          ],
          [
           "test164"
          ],
          [
           "test164"
          ],
          [
           "test164"
          ],
          [
           "test164"
          ],
          [
           "test164"
          ],
          [
           "test164"
          ],
          [
           "test164"
          ],
          [
           "test164"
          ],
          [
           "test169"
          ],
          [
           "test169"
          ],
          [
           "test169"
          ],
          [
           "test169"
          ],
          [
           "test169"
          ],
          [
           "test169"
          ],
          [
           "test169"
          ],
          [
           "test169"
          ],
          [
           "test169"
          ],
          [
           "test169"
          ],
          [
           "test169"
          ],
          [
           "test169"
          ],
          [
           "test169"
          ],
          [
           "test169"
          ],
          [
           "test169"
          ],
          [
           "test169"
          ],
          [
           "test169"
          ],
          [
           "test169"
          ],
          [
           "test169"
          ],
          [
           "test169"
          ],
          [
           "test248"
          ],
          [
           "test248"
          ],
          [
           "test286"
          ],
          [
           "test286"
          ],
          [
           "test286"
          ],
          [
           "test286"
          ],
          [
           "test286"
          ],
          [
           "test286"
          ],
          [
           "test286"
          ],
          [
           "test286"
          ],
          [
           "test286"
          ],
          [
           "test286"
          ],
          [
           "test286"
          ],
          [
           "test286"
          ],
          [
           "test286"
          ],
          [
           "test286"
          ],
          [
           "test286"
          ],
          [
           "test286"
          ],
          [
           "test286"
          ],
          [
           "test286"
          ],
          [
           "test286"
          ],
          [
           "test286"
          ],
          [
           "test326"
          ],
          [
           "test326"
          ],
          [
           "test326"
          ],
          [
           "test326"
          ],
          [
           "test326"
          ],
          [
           "test326"
          ],
          [
           "test326"
          ],
          [
           "test326"
          ],
          [
           "test326"
          ],
          [
           "test326"
          ],
          [
           "test326"
          ],
          [
           "test326"
          ],
          [
           "test326"
          ],
          [
           "test326"
          ],
          [
           "test326"
          ],
          [
           "test326"
          ],
          [
           "test326"
          ],
          [
           "test326"
          ],
          [
           "test326"
          ],
          [
           "test326"
          ],
          [
           "test346"
          ],
          [
           "test346"
          ],
          [
           "test346"
          ],
          [
           "test346"
          ],
          [
           "test346"
          ],
          [
           "test346"
          ],
          [
           "test346"
          ],
          [
           "test346"
          ],
          [
           "test346"
          ],
          [
           "test346"
          ],
          [
           "test346"
          ],
          [
           "test346"
          ],
          [
           "test346"
          ],
          [
           "test346"
          ],
          [
           "test346"
          ],
          [
           "test346"
          ],
          [
           "test346"
          ],
          [
           "test346"
          ],
          [
           "test346"
          ],
          [
           "test346"
          ],
          [
           "test43"
          ],
          [
           "test43"
          ],
          [
           "test43"
          ],
          [
           "test43"
          ],
          [
           "test43"
          ],
          [
           "test43"
          ],
          [
           "test43"
          ],
          [
           "test43"
          ],
          [
           "test43"
          ],
          [
           "test43"
          ],
          [
           "test43"
          ],
          [
           "test43"
          ],
          [
           "test43"
          ],
          [
           "test43"
          ],
          [
           "test43"
          ],
          [
           "test43"
          ],
          [
           "test43"
          ],
          [
           "test43"
          ],
          [
           "test43"
          ],
          [
           "test43"
          ],
          [
           "test56"
          ],
          [
           "test56"
          ],
          [
           "test56"
          ],
          [
           "test56"
          ],
          [
           "test56"
          ],
          [
           "test56"
          ],
          [
           "test56"
          ],
          [
           "test56"
          ],
          [
           "test56"
          ],
          [
           "test56"
          ],
          [
           "test56"
          ],
          [
           "test56"
          ],
          [
           "test56"
          ],
          [
           "test56"
          ],
          [
           "test56"
          ],
          [
           "test56"
          ],
          [
           "test56"
          ],
          [
           "test56"
          ],
          [
           "test56"
          ],
          [
           "test56"
          ],
          [
           "test58"
          ],
          [
           "test58"
          ],
          [
           "test58"
          ],
          [
           "test58"
          ],
          [
           "test58"
          ],
          [
           "test58"
          ],
          [
           "test58"
          ],
          [
           "test58"
          ],
          [
           "test58"
          ],
          [
           "test58"
          ],
          [
           "test58"
          ],
          [
           "test58"
          ],
          [
           "test58"
          ],
          [
           "test58"
          ],
          [
           "test58"
          ],
          [
           "test58"
          ],
          [
           "test58"
          ],
          [
           "test58"
          ],
          [
           "test58"
          ],
          [
           "test58"
          ],
          [
           "test64"
          ],
          [
           "test64"
          ],
          [
           "test64"
          ],
          [
           "test64"
          ],
          [
           "test64"
          ],
          [
           "test64"
          ],
          [
           "test64"
          ],
          [
           "test64"
          ],
          [
           "test64"
          ],
          [
           "test64"
          ],
          [
           "test64"
          ],
          [
           "test64"
          ],
          [
           "test64"
          ],
          [
           "test64"
          ],
          [
           "test64"
          ],
          [
           "test64"
          ],
          [
           "test64"
          ],
          [
           "test64"
          ],
          [
           "test64"
          ],
          [
           "test64"
          ]
         ],
         "hovertemplate": "dqfim_trace_eigenvalues=%{x}<br>error=%{y}<br>test_key=%{customdata[0]}<br>dqfim_var_all_eigenvalues=%{marker.color}<extra></extra>",
         "legendgroup": "",
         "marker": {
          "color": {
           "bdata": "PbVlQYOuFkFTUedAMsnwQCAHHkGAPMxAMsEyQUg3xEDXvA5BV63SQAUsS0HM8sFATVgHQUhKLUHr/+BA1GQrQZ1pyEB24BlBLpKrQJpGkEF6MVdBQUYoQYimAEJgFWFC/rjwQYv0tUJADQFCnjV6QvKmYkIG9kFCruK1QpWVhUKpsT1CO6viQZojQkIi7fBBDF1xQk5hXUKOfAVCsJluQn8vKkIECzBCCiaYQQYHMkHkk8ZBAe0TQQGXjkGSL1dBHAtuQWZPc0F9WJFBG/oEQQOxiEHfbhxC5o1ZQe3CuUFo3WRBRqCZQZbCmEHcFr9BkP64QdqQ0kHGAgdBatjEQCEuDUGuYjpBLzTEQCbR50CodjBBYiAUQa4shkGPUypB/Ib7QMxexEB65gFB/Cz4QLbMBkEjo0NBxFTfQIsyTEF5+zJBV08FQVTLp0EXIjJBrw2HQlC2S0ITQmtCalSJQjq5g0LnI3RCYNepQnc0TEL3ZLRC0YscQgKgi0KOpaFCEBw0Qjo0a0I9RMtCa/rBQiqCjEKHWCpC5zg6QhUgQ0LggjdBh0YYQaonW0H4R59BUwMrQXhnqkFn8XxB/HFPQdW11UGSwUJBMQdDQboSX0Hiq1pBikxQQfoqZkFeEJVBScprQZ6NbUGStGVBYAY+QQ5eKkKoIgNCEutNQj2hJUI22yNCQKoXQgbSgUJSGohClFMmQjpXfEJbRW9CrnFyQvD7fULQhTlCJgMHQrKLaEKOFohClW+BQidPLEIevZdCRGP0QBp44kCNJTJB1FwZQRwpIkFjlitB1znxQASCv0ColXJBbhsHQdHA6kAu1HxBmmk8Qfn57kBZ2A9B8MoNQRz2FkEG135BOhYVQVs2LUFUlCFCSz8EQvT5BkJG+CtCqsLeQbG2WkK68wRC2HvWQcsPRUKO3iNC/wHzQdvu/kF0NA5CPk/YQW7TB0KvdxdCnDO1QSdfM0I6lxZCL/MgQgV/q0AY9QhBc6hUQefDsECY2gZBSCkdQZVcGUHWU3xBZXkVQdYJbEEVAVBB2itzQbT1yUFChfZAxIgUQXonCkFSqDhBJFNhQdqTzUC0FENBQSF/QViXeEFZ8ohBtSAcQefXB0IBSwhC1+I9QbEkuUA9iYxB7uyOQTc0jUFk5GNCIL3KQc4qmUEIacRB7UYDQkEZpEFoAS5CASbMQVLFAkI=",
           "dtype": "f4"
          },
          "coloraxis": "coloraxis",
          "line": {
           "color": "black",
           "width": 0.75
          },
          "size": 12,
          "symbol": "circle"
         },
         "mode": "markers",
         "name": "",
         "orientation": "v",
         "showlegend": false,
         "type": "scatter",
         "x": {
          "bdata": "XhAoQtPVE0Lgn8pBRJrMQYaQ6EGaX81BMgfiQZLW1EHiLOBBusPAQSmeFkKeR8NBocfdQRab8kG+tNRBv1PsQQD10kGM5+hBOSO2QWTTFUJ6fP9Bf2z0QfTDX0JqaYBCTE5uQqtvn0KuBFdCoy+NQh6XgkIUXXFCaAypQq2bkEJ20nRCMqpaQsRWeEIes0tC3AuRQnV4hEIi7lZCxWeSQr4FcULQ7n5C2h09QuJuBULWyEVC9ssDQvbAK0Jh6iRCZJ0gQuAjJEJkqyxC6mcBQiQ9NkLEE3dCeiQXQt2TQkLyIyVCGWA5QsrXLkLOwEVCwpE9Qop+ZEIARcRBPrqfQcw9zEGS/txByiSvQXL7tkEMWeBBH+vTQUptDUKFd9FB+M/IQairxkHK6cdByrXJQWy22EFe+uhBNVzGQZDk/0EVgeJBHb/OQbkPRULw0RNCvR2RQqo1eEJWCI9CfAyOQuo2kUJmQZNCH7mVQpwpcULeJqxCdMFtQnoOjEKQxqtCINl9Qnq9kkKUX6NCgE+qQg9OlkIjN4BCNXmEQmEoikJyUARCdO3mQdERB0IZey5CDDoHQpjxLUJH+yRCfTwOQrx7PUIWTAJCo04QQibNHkLOjg5CM2gMQsu3FkJlcSpCOScUQkw/FUIuIxJCrKEEQkIwh0JOEnJCAjOSQtAthUJ1hoNCcuOAQkLsn0KEOqpCm46TQlOUlELys6FCmmiaQqwdmELmXJFC9mF6Qiqum0LCZahCWFKiQiIxiUJyFrBC4OzrQZR52UEwOgxCmA8TQq5Y/EFBZAdCLeUBQsIx3EE9ly1ChHv2QdpL9UHwNihCM5cQQrwo40E0ZQdCIDvsQSJ4BkJCWixCV/4IQnDOD0JSfF5CnUU+QnYBTEIWVmRC8kFBQkRBeEKkBVdCtmk+QobMfEKJ8FlCTMlDQuaYUEK6hU9CqfQ8QsE/VEKam2pCWMowQjyNdEJcNmRCx5BgQvwEv0GtXORBVVMRQu7hwEGOo+5Bqhf2QR+25UGSvwxCedAEQuDICUJ+sv5BU+4hQlqYM0KNmuhBNDf0QZhW/UGouQxC+lwbQqiY30FCBghCkPkOQiT6+UHauBFCxFzpQeBkMEI9aDBCOsb+QZiQykEtyBRCnCwJQmw4DkJ3rmNClOQgQvCQFEJpAyNCvHU5QqCbGEKGkUxCsVgiQhYWM0I=",
          "dtype": "f4"
         },
         "xaxis": "x",
         "y": {
          "bdata": "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",
          "dtype": "f8"
         },
         "yaxis": "y"
        },
        {
         "hovertemplate": "<b>OLS trendline</b><br>error = -0.0226324 * dqfim_trace_eigenvalues + -2.83425<br>R<sup>2</sup>=0.117438<br><br>dqfim_trace_eigenvalues=%{x}<br>error=%{y} <b>(trend)</b><extra></extra>",
         "legendgroup": "Overall Trendline",
         "line": {
          "color": "red"
         },
         "marker": {
          "line": {
           "color": "black",
           "width": 0.75
          },
          "size": 12,
          "symbol": "circle"
         },
         "mode": "lines",
         "name": "Overall Trendline",
         "showlegend": true,
         "type": "scatter",
         "x": {
          "bdata": "PrqfQcokr0E5I7ZBcvu2QfwEv0G6w8BB7uHAQZ5Hw0EARcRBNVzGQairxkHK6cdB+M/IQcq1yUGYkMpB4J/KQcw9zEFEmsxBml/NQR2/zkGFd9FBAPXSQR/r00G+tNRBktbUQWy22EGUedlBwjHcQZL+3EGhx91BqJjfQeIs4EEMWeBBMgfiQRWB4kG8KONBrVzkQR+25UF07eZBhpDoQY2a6EGM5+hBXvroQcRc6UHg7OtBIDvsQb9T7EGOo+5BFpvyQTQ39EF/bPRB2kv1QaoX9kGEe/ZBJPr5Qa5Y/EGYVv1BfrL+QTrG/kF6fP9BkOT/QepnAUIt5QFCFkwCQvbLA0JyUARCrKEEQnnQBELibgVCIngGQtERB0IMOgdCQWQHQjRlB0JCBghCV/4IQpwsCULgyAlCMDoMQjNoDEKouQxCkr8MQkptDUJsOA5CfTwOQs6ODkKQ+Q5CcM4PQqNOEEIzlxBCVVMRQtq4EUIuIxJCmA8TQvDRE0LT1RNCOScUQvCQFEItyBRCTD8VQmTTFUIpnhZCy7cWQnokF0KgmxhC+lwbQibNHkJknSBClOQgQlPuIUKxWCJCaQMjQuAjJEJh6iRCR/skQvIjJUJeEChC8DYoQmVxKkL2wCtCQlosQmSrLEI9ly1CmPEtQhl7LkLK1y5C4GQwQj1oMEJYyjBCFhYzQlqYM0IkPTZCGWA5Qrx1OUKp9DxC2h09Qrx7PULCkT1CnUU+QrZpPkLyQUFC3ZNCQkzJQ0K5D0VCzsBFQtbIRUIes0tCdgFMQoaRTEK6hU9C5phQQsE/VEIi7lZCrgRXQqQFV0KJ8FlCMqpaQlJ8XkL0w19Cx5BgQneuY0JcNmRCFlZkQop+ZEKam2pCdMFtQkxObkK+BXFCnClxQhRdcUJOEnJCPI10QnbSdELEE3dCqjV4QkRBeELEVnhC9mF6QobMfEIg2X1C0O5+QiM3gEJqaYBCcuOAQh6XgkJ1hoNCdXiEQjV5hELQLYVCQjCHQiIxiUJhKIpCeg6MQqMvjUJ8DI5CVgiPQq2bkELcC5FCvR2RQuo2kULmXJFCAjOSQsVnkkJ6vZJCZkGTQpuOk0JTlJRCH7mVQg9OlkKsHZhCmmiaQiqum0Krb59CQuyfQvKzoUJYUqJClF+jQsJlqEJoDKlChDqqQoBPqkKQxqtC3iasQnIWsEI=",
          "dtype": "f4"
         },
         "xaxis": "x",
         "y": {
          "bdata": "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",
          "dtype": "f8"
         },
         "yaxis": "y"
        }
       ],
       "layout": {
        "coloraxis": {
         "cmax": 101.6332778930664,
         "cmin": 5.091292381286621,
         "colorbar": {
          "len": 1.1,
          "thickness": 35,
          "title": {
           "text": "dqfim_var_all_eigenvalues"
          },
          "x": 1,
          "y": 0.53,
          "yanchor": "middle"
         },
         "colorscale": [
          [
           0,
           "#f0f921"
          ],
          [
           0.010101010101010102,
           "#f0f724"
          ],
          [
           0.020202020202020204,
           "#f1f525"
          ],
          [
           0.030303030303030304,
           "#f2f227"
          ],
          [
           0.04040404040404041,
           "#f3f027"
          ],
          [
           0.050505050505050504,
           "#f4ed27"
          ],
          [
           0.06060606060606061,
           "#f5e926"
          ],
          [
           0.0707070707070707,
           "#f6e626"
          ],
          [
           0.08080808080808081,
           "#f7e425"
          ],
          [
           0.09090909090909091,
           "#f8e125"
          ],
          [
           0.10101010101010101,
           "#f9dd25"
          ],
          [
           0.1111111111111111,
           "#fada24"
          ],
          [
           0.12121212121212122,
           "#fbd724"
          ],
          [
           0.13131313131313133,
           "#fbd324"
          ],
          [
           0.1414141414141414,
           "#fcd025"
          ],
          [
           0.15151515151515152,
           "#fdcb26"
          ],
          [
           0.16161616161616163,
           "#fdc827"
          ],
          [
           0.1717171717171717,
           "#fdc527"
          ],
          [
           0.18181818181818182,
           "#fdc229"
          ],
          [
           0.1919191919191919,
           "#febe2a"
          ],
          [
           0.20202020202020202,
           "#feba2c"
          ],
          [
           0.21212121212121213,
           "#feb72d"
          ],
          [
           0.2222222222222222,
           "#fdb42f"
          ],
          [
           0.23232323232323232,
           "#fdb130"
          ],
          [
           0.24242424242424243,
           "#fdac33"
          ],
          [
           0.25252525252525254,
           "#fca934"
          ],
          [
           0.26262626262626265,
           "#fca636"
          ],
          [
           0.2727272727272727,
           "#fba238"
          ],
          [
           0.2828282828282828,
           "#fb9f3a"
          ],
          [
           0.29292929292929293,
           "#fa9b3d"
          ],
          [
           0.30303030303030304,
           "#f9983e"
          ],
          [
           0.31313131313131315,
           "#f89441"
          ],
          [
           0.32323232323232326,
           "#f79143"
          ],
          [
           0.3333333333333333,
           "#f68f44"
          ],
          [
           0.3434343434343434,
           "#f58b47"
          ],
          [
           0.35353535353535354,
           "#f48849"
          ],
          [
           0.36363636363636365,
           "#f2844b"
          ],
          [
           0.37373737373737376,
           "#f0804e"
          ],
          [
           0.3838383838383838,
           "#ef7e50"
          ],
          [
           0.3939393939393939,
           "#ed7a52"
          ],
          [
           0.40404040404040403,
           "#ec7754"
          ],
          [
           0.41414141414141414,
           "#ea7457"
          ],
          [
           0.42424242424242425,
           "#e97158"
          ],
          [
           0.43434343434343436,
           "#e76e5b"
          ],
          [
           0.4444444444444444,
           "#e56a5d"
          ],
          [
           0.45454545454545453,
           "#e3685f"
          ],
          [
           0.46464646464646464,
           "#e16462"
          ],
          [
           0.47474747474747475,
           "#de6164"
          ],
          [
           0.48484848484848486,
           "#dd5e66"
          ],
          [
           0.494949494949495,
           "#da5b69"
          ],
          [
           0.5050505050505051,
           "#d8576b"
          ],
          [
           0.5151515151515151,
           "#d6556d"
          ],
          [
           0.5252525252525253,
           "#d45270"
          ],
          [
           0.5353535353535354,
           "#d14e72"
          ],
          [
           0.5454545454545454,
           "#ce4b75"
          ],
          [
           0.5555555555555556,
           "#cc4977"
          ],
          [
           0.5656565656565656,
           "#ca457a"
          ],
          [
           0.5757575757575758,
           "#c7427c"
          ],
          [
           0.5858585858585859,
           "#c43e7f"
          ],
          [
           0.5959595959595959,
           "#c23c81"
          ],
          [
           0.6060606060606061,
           "#bf3984"
          ],
          [
           0.6161616161616161,
           "#bc3587"
          ],
          [
           0.6262626262626263,
           "#b83289"
          ],
          [
           0.6363636363636364,
           "#b52f8c"
          ],
          [
           0.6464646464646465,
           "#b32c8e"
          ],
          [
           0.6565656565656566,
           "#b02991"
          ],
          [
           0.6666666666666666,
           "#ac2694"
          ],
          [
           0.6767676767676768,
           "#a82296"
          ],
          [
           0.6868686868686869,
           "#a51f99"
          ],
          [
           0.696969696969697,
           "#a11b9b"
          ],
          [
           0.7070707070707071,
           "#9d189d"
          ],
          [
           0.7171717171717171,
           "#99159f"
          ],
          [
           0.7272727272727273,
           "#9613a1"
          ],
          [
           0.7373737373737373,
           "#920fa3"
          ],
          [
           0.7474747474747475,
           "#8e0ca4"
          ],
          [
           0.7575757575757576,
           "#8a09a5"
          ],
          [
           0.7676767676767676,
           "#8606a6"
          ],
          [
           0.7777777777777778,
           "#8104a7"
          ],
          [
           0.7878787878787878,
           "#7d03a8"
          ],
          [
           0.797979797979798,
           "#7801a8"
          ],
          [
           0.8080808080808081,
           "#7401a8"
          ],
          [
           0.8181818181818182,
           "#6f00a8"
          ],
          [
           0.8282828282828283,
           "#6a00a8"
          ],
          [
           0.8383838383838383,
           "#6600a7"
          ],
          [
           0.8484848484848485,
           "#6100a7"
          ],
          [
           0.8585858585858586,
           "#5c01a6"
          ],
          [
           0.8686868686868687,
           "#5801a4"
          ],
          [
           0.8787878787878788,
           "#5302a3"
          ],
          [
           0.8888888888888888,
           "#4e02a2"
          ],
          [
           0.898989898989899,
           "#4903a0"
          ],
          [
           0.9090909090909091,
           "#44039e"
          ],
          [
           0.9191919191919192,
           "#3f049c"
          ],
          [
           0.9292929292929293,
           "#3a049a"
          ],
          [
           0.9393939393939394,
           "#350498"
          ],
          [
           0.9494949494949495,
           "#2f0596"
          ],
          [
           0.9595959595959596,
           "#2a0593"
          ],
          [
           0.9696969696969697,
           "#240691"
          ],
          [
           0.9797979797979798,
           "#1d068e"
          ],
          [
           0.98989898989899,
           "#16078a"
          ],
          [
           1,
           "#0d0887"
          ]
         ]
        },
        "height": 600,
        "legend": {
         "tracegroupgap": 0
        },
        "shapes": [
         {
          "layer": "below",
          "line": {
           "color": "black",
           "width": 2
          },
          "type": "rect",
          "x0": 0,
          "x1": 1,
          "xref": "paper",
          "y0": 0,
          "y1": 1,
          "yref": "paper"
         }
        ],
        "template": {
         "data": {
          "bar": [
           {
            "error_x": {
             "color": "#2a3f5f"
            },
            "error_y": {
             "color": "#2a3f5f"
            },
            "marker": {
             "line": {
              "color": "white",
              "width": 0.5
             },
             "pattern": {
              "fillmode": "overlay",
              "size": 10,
              "solidity": 0.2
             }
            },
            "type": "bar"
           }
          ],
          "barpolar": [
           {
            "marker": {
             "line": {
              "color": "white",
              "width": 0.5
             },
             "pattern": {
              "fillmode": "overlay",
              "size": 10,
              "solidity": 0.2
             }
            },
            "type": "barpolar"
           }
          ],
          "carpet": [
           {
            "aaxis": {
             "endlinecolor": "#2a3f5f",
             "gridcolor": "#C8D4E3",
             "linecolor": "#C8D4E3",
             "minorgridcolor": "#C8D4E3",
             "startlinecolor": "#2a3f5f"
            },
            "baxis": {
             "endlinecolor": "#2a3f5f",
             "gridcolor": "#C8D4E3",
             "linecolor": "#C8D4E3",
             "minorgridcolor": "#C8D4E3",
             "startlinecolor": "#2a3f5f"
            },
            "type": "carpet"
           }
          ],
          "choropleth": [
           {
            "colorbar": {
             "outlinewidth": 0,
             "ticks": ""
            },
            "type": "choropleth"
           }
          ],
          "contour": [
           {
            "colorbar": {
             "outlinewidth": 0,
             "ticks": ""
            },
            "colorscale": [
             [
              0,
              "#0d0887"
             ],
             [
              0.1111111111111111,
              "#46039f"
             ],
             [
              0.2222222222222222,
              "#7201a8"
             ],
             [
              0.3333333333333333,
              "#9c179e"
             ],
             [
              0.4444444444444444,
              "#bd3786"
             ],
             [
              0.5555555555555556,
              "#d8576b"
             ],
             [
              0.6666666666666666,
              "#ed7953"
             ],
             [
              0.7777777777777778,
              "#fb9f3a"
             ],
             [
              0.8888888888888888,
              "#fdca26"
             ],
             [
              1,
              "#f0f921"
             ]
            ],
            "type": "contour"
           }
          ],
          "contourcarpet": [
           {
            "colorbar": {
             "outlinewidth": 0,
             "ticks": ""
            },
            "type": "contourcarpet"
           }
          ],
          "heatmap": [
           {
            "colorbar": {
             "outlinewidth": 0,
             "ticks": ""
            },
            "colorscale": [
             [
              0,
              "#0d0887"
             ],
             [
              0.1111111111111111,
              "#46039f"
             ],
             [
              0.2222222222222222,
              "#7201a8"
             ],
             [
              0.3333333333333333,
              "#9c179e"
             ],
             [
              0.4444444444444444,
              "#bd3786"
             ],
             [
              0.5555555555555556,
              "#d8576b"
             ],
             [
              0.6666666666666666,
              "#ed7953"
             ],
             [
              0.7777777777777778,
              "#fb9f3a"
             ],
             [
              0.8888888888888888,
              "#fdca26"
             ],
             [
              1,
              "#f0f921"
             ]
            ],
            "type": "heatmap"
           }
          ],
          "histogram": [
           {
            "marker": {
             "pattern": {
              "fillmode": "overlay",
              "size": 10,
              "solidity": 0.2
             }
            },
            "type": "histogram"
           }
          ],
          "histogram2d": [
           {
            "colorbar": {
             "outlinewidth": 0,
             "ticks": ""
            },
            "colorscale": [
             [
              0,
              "#0d0887"
             ],
             [
              0.1111111111111111,
              "#46039f"
             ],
             [
              0.2222222222222222,
              "#7201a8"
             ],
             [
              0.3333333333333333,
              "#9c179e"
             ],
             [
              0.4444444444444444,
              "#bd3786"
             ],
             [
              0.5555555555555556,
              "#d8576b"
             ],
             [
              0.6666666666666666,
              "#ed7953"
             ],
             [
              0.7777777777777778,
              "#fb9f3a"
             ],
             [
              0.8888888888888888,
              "#fdca26"
             ],
             [
              1,
              "#f0f921"
             ]
            ],
            "type": "histogram2d"
           }
          ],
          "histogram2dcontour": [
           {
            "colorbar": {
             "outlinewidth": 0,
             "ticks": ""
            },
            "colorscale": [
             [
              0,
              "#0d0887"
             ],
             [
              0.1111111111111111,
              "#46039f"
             ],
             [
              0.2222222222222222,
              "#7201a8"
             ],
             [
              0.3333333333333333,
              "#9c179e"
             ],
             [
              0.4444444444444444,
              "#bd3786"
             ],
             [
              0.5555555555555556,
              "#d8576b"
             ],
             [
              0.6666666666666666,
              "#ed7953"
             ],
             [
              0.7777777777777778,
              "#fb9f3a"
             ],
             [
              0.8888888888888888,
              "#fdca26"
             ],
             [
              1,
              "#f0f921"
             ]
            ],
            "type": "histogram2dcontour"
           }
          ],
          "mesh3d": [
           {
            "colorbar": {
             "outlinewidth": 0,
             "ticks": ""
            },
            "type": "mesh3d"
           }
          ],
          "parcoords": [
           {
            "line": {
             "colorbar": {
              "outlinewidth": 0,
              "ticks": ""
             }
            },
            "type": "parcoords"
           }
          ],
          "pie": [
           {
            "automargin": true,
            "type": "pie"
           }
          ],
          "scatter": [
           {
            "fillpattern": {
             "fillmode": "overlay",
             "size": 10,
             "solidity": 0.2
            },
            "type": "scatter"
           }
          ],
          "scatter3d": [
           {
            "line": {
             "colorbar": {
              "outlinewidth": 0,
              "ticks": ""
             }
            },
            "marker": {
             "colorbar": {
              "outlinewidth": 0,
              "ticks": ""
             }
            },
            "type": "scatter3d"
           }
          ],
          "scattercarpet": [
           {
            "marker": {
             "colorbar": {
              "outlinewidth": 0,
              "ticks": ""
             }
            },
            "type": "scattercarpet"
           }
          ],
          "scattergeo": [
           {
            "marker": {
             "colorbar": {
              "outlinewidth": 0,
              "ticks": ""
             }
            },
            "type": "scattergeo"
           }
          ],
          "scattergl": [
           {
            "marker": {
             "colorbar": {
              "outlinewidth": 0,
              "ticks": ""
             }
            },
            "type": "scattergl"
           }
          ],
          "scattermap": [
           {
            "marker": {
             "colorbar": {
              "outlinewidth": 0,
              "ticks": ""
             }
            },
            "type": "scattermap"
           }
          ],
          "scattermapbox": [
           {
            "marker": {
             "colorbar": {
              "outlinewidth": 0,
              "ticks": ""
             }
            },
            "type": "scattermapbox"
           }
          ],
          "scatterpolar": [
           {
            "marker": {
             "colorbar": {
              "outlinewidth": 0,
              "ticks": ""
             }
            },
            "type": "scatterpolar"
           }
          ],
          "scatterpolargl": [
           {
            "marker": {
             "colorbar": {
              "outlinewidth": 0,
              "ticks": ""
             }
            },
            "type": "scatterpolargl"
           }
          ],
          "scatterternary": [
           {
            "marker": {
             "colorbar": {
              "outlinewidth": 0,
              "ticks": ""
             }
            },
            "type": "scatterternary"
           }
          ],
          "surface": [
           {
            "colorbar": {
             "outlinewidth": 0,
             "ticks": ""
            },
            "colorscale": [
             [
              0,
              "#0d0887"
             ],
             [
              0.1111111111111111,
              "#46039f"
             ],
             [
              0.2222222222222222,
              "#7201a8"
             ],
             [
              0.3333333333333333,
              "#9c179e"
             ],
             [
              0.4444444444444444,
              "#bd3786"
             ],
             [
              0.5555555555555556,
              "#d8576b"
             ],
             [
              0.6666666666666666,
              "#ed7953"
             ],
             [
              0.7777777777777778,
              "#fb9f3a"
             ],
             [
              0.8888888888888888,
              "#fdca26"
             ],
             [
              1,
              "#f0f921"
             ]
            ],
            "type": "surface"
           }
          ],
          "table": [
           {
            "cells": {
             "fill": {
              "color": "#EBF0F8"
             },
             "line": {
              "color": "white"
             }
            },
            "header": {
             "fill": {
              "color": "#C8D4E3"
             },
             "line": {
              "color": "white"
             }
            },
            "type": "table"
           }
          ]
         },
         "layout": {
          "annotationdefaults": {
           "arrowcolor": "#2a3f5f",
           "arrowhead": 0,
           "arrowwidth": 1
          },
          "autotypenumbers": "strict",
          "coloraxis": {
           "colorbar": {
            "outlinewidth": 0,
            "ticks": ""
           }
          },
          "colorscale": {
           "diverging": [
            [
             0,
             "#8e0152"
            ],
            [
             0.1,
             "#c51b7d"
            ],
            [
             0.2,
             "#de77ae"
            ],
            [
             0.3,
             "#f1b6da"
            ],
            [
             0.4,
             "#fde0ef"
            ],
            [
             0.5,
             "#f7f7f7"
            ],
            [
             0.6,
             "#e6f5d0"
            ],
            [
             0.7,
             "#b8e186"
            ],
            [
             0.8,
             "#7fbc41"
            ],
            [
             0.9,
             "#4d9221"
            ],
            [
             1,
             "#276419"
            ]
           ],
           "sequential": [
            [
             0,
             "#0d0887"
            ],
            [
             0.1111111111111111,
             "#46039f"
            ],
            [
             0.2222222222222222,
             "#7201a8"
            ],
            [
             0.3333333333333333,
             "#9c179e"
            ],
            [
             0.4444444444444444,
             "#bd3786"
            ],
            [
             0.5555555555555556,
             "#d8576b"
            ],
            [
             0.6666666666666666,
             "#ed7953"
            ],
            [
             0.7777777777777778,
             "#fb9f3a"
            ],
            [
             0.8888888888888888,
             "#fdca26"
            ],
            [
             1,
             "#f0f921"
            ]
           ],
           "sequentialminus": [
            [
             0,
             "#0d0887"
            ],
            [
             0.1111111111111111,
             "#46039f"
            ],
            [
             0.2222222222222222,
             "#7201a8"
            ],
            [
             0.3333333333333333,
             "#9c179e"
            ],
            [
             0.4444444444444444,
             "#bd3786"
            ],
            [
             0.5555555555555556,
             "#d8576b"
            ],
            [
             0.6666666666666666,
             "#ed7953"
            ],
            [
             0.7777777777777778,
             "#fb9f3a"
            ],
            [
             0.8888888888888888,
             "#fdca26"
            ],
            [
             1,
             "#f0f921"
            ]
           ]
          },
          "colorway": [
           "#636efa",
           "#EF553B",
           "#00cc96",
           "#ab63fa",
           "#FFA15A",
           "#19d3f3",
           "#FF6692",
           "#B6E880",
           "#FF97FF",
           "#FECB52"
          ],
          "font": {
           "color": "#2a3f5f"
          },
          "geo": {
           "bgcolor": "white",
           "lakecolor": "white",
           "landcolor": "white",
           "showlakes": true,
           "showland": true,
           "subunitcolor": "#C8D4E3"
          },
          "hoverlabel": {
           "align": "left"
          },
          "hovermode": "closest",
          "mapbox": {
           "style": "light"
          },
          "paper_bgcolor": "white",
          "plot_bgcolor": "white",
          "polar": {
           "angularaxis": {
            "gridcolor": "#EBF0F8",
            "linecolor": "#EBF0F8",
            "ticks": ""
           },
           "bgcolor": "white",
           "radialaxis": {
            "gridcolor": "#EBF0F8",
            "linecolor": "#EBF0F8",
            "ticks": ""
           }
          },
          "scene": {
           "xaxis": {
            "backgroundcolor": "white",
            "gridcolor": "#DFE8F3",
            "gridwidth": 2,
            "linecolor": "#EBF0F8",
            "showbackground": true,
            "ticks": "",
            "zerolinecolor": "#EBF0F8"
           },
           "yaxis": {
            "backgroundcolor": "white",
            "gridcolor": "#DFE8F3",
            "gridwidth": 2,
            "linecolor": "#EBF0F8",
            "showbackground": true,
            "ticks": "",
            "zerolinecolor": "#EBF0F8"
           },
           "zaxis": {
            "backgroundcolor": "white",
            "gridcolor": "#DFE8F3",
            "gridwidth": 2,
            "linecolor": "#EBF0F8",
            "showbackground": true,
            "ticks": "",
            "zerolinecolor": "#EBF0F8"
           }
          },
          "shapedefaults": {
           "line": {
            "color": "#2a3f5f"
           }
          },
          "ternary": {
           "aaxis": {
            "gridcolor": "#DFE8F3",
            "linecolor": "#A2B1C6",
            "ticks": ""
           },
           "baxis": {
            "gridcolor": "#DFE8F3",
            "linecolor": "#A2B1C6",
            "ticks": ""
           },
           "bgcolor": "white",
           "caxis": {
            "gridcolor": "#DFE8F3",
            "linecolor": "#A2B1C6",
            "ticks": ""
           }
          },
          "title": {
           "x": 0.05
          },
          "xaxis": {
           "automargin": true,
           "gridcolor": "#EBF0F8",
           "linecolor": "#EBF0F8",
           "ticks": "",
           "title": {
            "standoff": 15
           },
           "zerolinecolor": "#EBF0F8",
           "zerolinewidth": 2
          },
          "yaxis": {
           "automargin": true,
           "gridcolor": "#EBF0F8",
           "linecolor": "#EBF0F8",
           "ticks": "",
           "title": {
            "standoff": 15
           },
           "zerolinecolor": "#EBF0F8",
           "zerolinewidth": 2
          }
         }
        },
        "title": {
         "text": "dqfim_trace_eigenvalues vs error colored by dqfim_var_all_eigenvalues"
        },
        "width": 1000,
        "xaxis": {
         "anchor": "y",
         "domain": [
          0,
          1
         ],
         "gridcolor": "lightgray",
         "gridwidth": 1,
         "showgrid": true,
         "ticklabelstandoff": 10,
         "title": {
          "text": "dqfim_trace_eigenvalues"
         }
        },
        "yaxis": {
         "anchor": "x",
         "domain": [
          0,
          1
         ],
         "gridcolor": "lightgray",
         "gridwidth": 1,
         "showgrid": true,
         "ticklabelstandoff": 10,
         "title": {
          "text": "error"
         }
        }
       }
      }
     },
     "metadata": {},
     "output_type": "display_data"
    },
    {
     "name": "stdout",
     "output_type": "stream",
     "text": [
      "Color column 'dqfim_abbas_deff_raw' minimum value: 3.2057175636291504\n",
      "test corresponding to minimum value:\n",
      "63    test169\n",
      "Name: test_key, dtype: object\n",
      "Color column 'dqfim_abbas_deff_raw' maximum value: 8.829816818237305\n",
      "test corresponding to maximum value:\n",
      "143    test346\n",
      "Name: test_key, dtype: object\n",
      "\n",
      "adj_min: 3.045431613922119, adj_max: 8.829816818237305\n"
     ]
    },
    {
     "data": {
      "application/vnd.plotly.v1+json": {
       "config": {
        "plotlyServerURL": "https://plot.ly"
       },
       "data": [
        {
         "customdata": [
          [
           "test0"
          ],
          [
           "test0"
          ],
          [
           "test131"
          ],
          [
           "test131"
          ],
          [
           "test131"
          ],
          [
           "test131"
          ],
          [
           "test131"
          ],
          [
           "test131"
          ],
          [
           "test131"
          ],
          [
           "test131"
          ],
          [
           "test131"
          ],
          [
           "test131"
          ],
          [
           "test131"
          ],
          [
           "test131"
          ],
          [
           "test131"
          ],
          [
           "test131"
          ],
          [
           "test131"
          ],
          [
           "test131"
          ],
          [
           "test131"
          ],
          [
           "test131"
          ],
          [
           "test131"
          ],
          [
           "test131"
          ],
          [
           "test150"
          ],
          [
           "test150"
          ],
          [
           "test150"
          ],
          [
           "test150"
          ],
          [
           "test150"
          ],
          [
           "test150"
          ],
          [
           "test150"
          ],
          [
           "test150"
          ],
          [
           "test150"
          ],
          [
           "test150"
          ],
          [
           "test150"
          ],
          [
           "test150"
          ],
          [
           "test150"
          ],
          [
           "test150"
          ],
          [
           "test150"
          ],
          [
           "test150"
          ],
          [
           "test150"
          ],
          [
           "test150"
          ],
          [
           "test150"
          ],
          [
           "test150"
          ],
          [
           "test164"
          ],
          [
           "test164"
          ],
          [
           "test164"
          ],
          [
           "test164"
          ],
          [
           "test164"
          ],
          [
           "test164"
          ],
          [
           "test164"
          ],
          [
           "test164"
          ],
          [
           "test164"
          ],
          [
           "test164"
          ],
          [
           "test164"
          ],
          [
           "test164"
          ],
          [
           "test164"
          ],
          [
           "test164"
          ],
          [
           "test164"
          ],
          [
           "test164"
          ],
          [
           "test164"
          ],
          [
           "test164"
          ],
          [
           "test164"
          ],
          [
           "test164"
          ],
          [
           "test169"
          ],
          [
           "test169"
          ],
          [
           "test169"
          ],
          [
           "test169"
          ],
          [
           "test169"
          ],
          [
           "test169"
          ],
          [
           "test169"
          ],
          [
           "test169"
          ],
          [
           "test169"
          ],
          [
           "test169"
          ],
          [
           "test169"
          ],
          [
           "test169"
          ],
          [
           "test169"
          ],
          [
           "test169"
          ],
          [
           "test169"
          ],
          [
           "test169"
          ],
          [
           "test169"
          ],
          [
           "test169"
          ],
          [
           "test169"
          ],
          [
           "test169"
          ],
          [
           "test248"
          ],
          [
           "test248"
          ],
          [
           "test286"
          ],
          [
           "test286"
          ],
          [
           "test286"
          ],
          [
           "test286"
          ],
          [
           "test286"
          ],
          [
           "test286"
          ],
          [
           "test286"
          ],
          [
           "test286"
          ],
          [
           "test286"
          ],
          [
           "test286"
          ],
          [
           "test286"
          ],
          [
           "test286"
          ],
          [
           "test286"
          ],
          [
           "test286"
          ],
          [
           "test286"
          ],
          [
           "test286"
          ],
          [
           "test286"
          ],
          [
           "test286"
          ],
          [
           "test286"
          ],
          [
           "test286"
          ],
          [
           "test326"
          ],
          [
           "test326"
          ],
          [
           "test326"
          ],
          [
           "test326"
          ],
          [
           "test326"
          ],
          [
           "test326"
          ],
          [
           "test326"
          ],
          [
           "test326"
          ],
          [
           "test326"
          ],
          [
           "test326"
          ],
          [
           "test326"
          ],
          [
           "test326"
          ],
          [
           "test326"
          ],
          [
           "test326"
          ],
          [
           "test326"
          ],
          [
           "test326"
          ],
          [
           "test326"
          ],
          [
           "test326"
          ],
          [
           "test326"
          ],
          [
           "test326"
          ],
          [
           "test346"
          ],
          [
           "test346"
          ],
          [
           "test346"
          ],
          [
           "test346"
          ],
          [
           "test346"
          ],
          [
           "test346"
          ],
          [
           "test346"
          ],
          [
           "test346"
          ],
          [
           "test346"
          ],
          [
           "test346"
          ],
          [
           "test346"
          ],
          [
           "test346"
          ],
          [
           "test346"
          ],
          [
           "test346"
          ],
          [
           "test346"
          ],
          [
           "test346"
          ],
          [
           "test346"
          ],
          [
           "test346"
          ],
          [
           "test346"
          ],
          [
           "test346"
          ],
          [
           "test43"
          ],
          [
           "test43"
          ],
          [
           "test43"
          ],
          [
           "test43"
          ],
          [
           "test43"
          ],
          [
           "test43"
          ],
          [
           "test43"
          ],
          [
           "test43"
          ],
          [
           "test43"
          ],
          [
           "test43"
          ],
          [
           "test43"
          ],
          [
           "test43"
          ],
          [
           "test43"
          ],
          [
           "test43"
          ],
          [
           "test43"
          ],
          [
           "test43"
          ],
          [
           "test43"
          ],
          [
           "test43"
          ],
          [
           "test43"
          ],
          [
           "test43"
          ],
          [
           "test56"
          ],
          [
           "test56"
          ],
          [
           "test56"
          ],
          [
           "test56"
          ],
          [
           "test56"
          ],
          [
           "test56"
          ],
          [
           "test56"
          ],
          [
           "test56"
          ],
          [
           "test56"
          ],
          [
           "test56"
          ],
          [
           "test56"
          ],
          [
           "test56"
          ],
          [
           "test56"
          ],
          [
           "test56"
          ],
          [
           "test56"
          ],
          [
           "test56"
          ],
          [
           "test56"
          ],
          [
           "test56"
          ],
          [
           "test56"
          ],
          [
           "test56"
          ],
          [
           "test58"
          ],
          [
           "test58"
          ],
          [
           "test58"
          ],
          [
           "test58"
          ],
          [
           "test58"
          ],
          [
           "test58"
          ],
          [
           "test58"
          ],
          [
           "test58"
          ],
          [
           "test58"
          ],
          [
           "test58"
          ],
          [
           "test58"
          ],
          [
           "test58"
          ],
          [
           "test58"
          ],
          [
           "test58"
          ],
          [
           "test58"
          ],
          [
           "test58"
          ],
          [
           "test58"
          ],
          [
           "test58"
          ],
          [
           "test58"
          ],
          [
           "test58"
          ],
          [
           "test64"
          ],
          [
           "test64"
          ],
          [
           "test64"
          ],
          [
           "test64"
          ],
          [
           "test64"
          ],
          [
           "test64"
          ],
          [
           "test64"
          ],
          [
           "test64"
          ],
          [
           "test64"
          ],
          [
           "test64"
          ],
          [
           "test64"
          ],
          [
           "test64"
          ],
          [
           "test64"
          ],
          [
           "test64"
          ],
          [
           "test64"
          ],
          [
           "test64"
          ],
          [
           "test64"
          ],
          [
           "test64"
          ],
          [
           "test64"
          ],
          [
           "test64"
          ]
         ],
         "hovertemplate": "dqfim_trace_eigenvalues=%{x}<br>error=%{y}<br>test_key=%{customdata[0]}<br>dqfim_abbas_deff_raw=%{marker.color}<extra></extra>",
         "legendgroup": "",
         "marker": {
          "color": {
           "bdata": "9efJQKTtwUBkp4VA0i+FQHOKj0AAKI5AU2CHQCe4lECwAZFAwP6EQAE5s0BkxYVAOcWRQH7tlUAeYY5AFCKRQGTtkkCgtpFA7Q+CQEYxokDUuJRAtYyXQPCq4UC2sdlAseL0QHpw8kDMf9VAEA/qQCj540BUQNpA9NcBQere7EDsXeBA1/joQPoU3UAd49BArqD5QD6250DEf9ZALhX/QFmH4ECkSe1AlLnKQG+XoUCup85AhuKrQIgpu0DM5cdAaAq5QDhlu0DIBMVAGq2rQEG5zkDMoutA3GO2QHYDyUDqbcBA8fDRQCfuxEDTTdJATjrLQB9D6EAKzXFAeipNQJC2gECWQYBA5u5pQNgJaUAad4RATW6EQDYcn0BGgHZALFWAQIUHi0BfS39Amg+DQKaUjEBtDoVA8n2EQAKQlUB2G4RAty6FQJqM3UC0E71A2nHzQL4W3EBHTPxAvk7sQO2y9UC1//pAdyvqQKy11kDgXglBRI3gQBJ56kAtlwtBPC/oQOPb/EBSY/JARSMCQfwo+UCQkvdA6CjwQPbG/0DpdaVAs76QQBuOoUBl6b5AaJGoQFbAvUDze71AjMerQAhnw0BybJ5AF2uxQCfRvUBs1qdAkSKrQDzYtEDYlrtAVH2uQBb4rkBe56xAr0mpQBC970A43eZA0q37QGCL8EALhu9Amm34QCp5/kCSbQVBEnYKQZar9kAGVQRBHoQCQWIz+UDuqAFBx9brQEAeAkHCNgpBytgHQRRC+UDuRg1BWM6iQCzukkB6YbNAJunAQAMbo0BjJKxAHiGzQHx9n0DqL9NAqVmiQHoVq0AsrctA5EGzQHOymUDAnbhAC1CdQPPSskBCp8xAip+0QMO1uUDWZ8VALFOsQPZdv0DKL8lA7dW+QJil0EAiYc1AuAi+QC5m20BjY79At6q6QPjUzkBGqcFAtaa7QH1cy0BgbtlA9O+4QAwy2UBMSNNAqbrMQBpmiEBf45BAJlqsQEtgiUByUJhAH1icQOhhk0B0rZ1A7KSrQGkinkCMdJdAOgS+QJCttUDIHJtA9p6dQKFIpkC4fapAQpC4QLqXm0CAyaJA8ZGgQL5Ci0DEB6RAFjaWQNhwoUCSDaRAaFecQJaGkkALFqlAxMuVQGoynUAwlbdAutShQIRToUCbH6lAWm2tQHgPpEDGlLNA23uhQBDyqUA=",
           "dtype": "f4"
          },
          "coloraxis": "coloraxis",
          "line": {
           "color": "black",
           "width": 0.75
          },
          "size": 12,
          "symbol": "circle"
         },
         "mode": "markers",
         "name": "",
         "orientation": "v",
         "showlegend": false,
         "type": "scatter",
         "x": {
          "bdata": "XhAoQtPVE0Lgn8pBRJrMQYaQ6EGaX81BMgfiQZLW1EHiLOBBusPAQSmeFkKeR8NBocfdQRab8kG+tNRBv1PsQQD10kGM5+hBOSO2QWTTFUJ6fP9Bf2z0QfTDX0JqaYBCTE5uQqtvn0KuBFdCoy+NQh6XgkIUXXFCaAypQq2bkEJ20nRCMqpaQsRWeEIes0tC3AuRQnV4hEIi7lZCxWeSQr4FcULQ7n5C2h09QuJuBULWyEVC9ssDQvbAK0Jh6iRCZJ0gQuAjJEJkqyxC6mcBQiQ9NkLEE3dCeiQXQt2TQkLyIyVCGWA5QsrXLkLOwEVCwpE9Qop+ZEIARcRBPrqfQcw9zEGS/txByiSvQXL7tkEMWeBBH+vTQUptDUKFd9FB+M/IQairxkHK6cdByrXJQWy22EFe+uhBNVzGQZDk/0EVgeJBHb/OQbkPRULw0RNCvR2RQqo1eEJWCI9CfAyOQuo2kUJmQZNCH7mVQpwpcULeJqxCdMFtQnoOjEKQxqtCINl9Qnq9kkKUX6NCgE+qQg9OlkIjN4BCNXmEQmEoikJyUARCdO3mQdERB0IZey5CDDoHQpjxLUJH+yRCfTwOQrx7PUIWTAJCo04QQibNHkLOjg5CM2gMQsu3FkJlcSpCOScUQkw/FUIuIxJCrKEEQkIwh0JOEnJCAjOSQtAthUJ1hoNCcuOAQkLsn0KEOqpCm46TQlOUlELys6FCmmiaQqwdmELmXJFC9mF6Qiqum0LCZahCWFKiQiIxiUJyFrBC4OzrQZR52UEwOgxCmA8TQq5Y/EFBZAdCLeUBQsIx3EE9ly1ChHv2QdpL9UHwNihCM5cQQrwo40E0ZQdCIDvsQSJ4BkJCWixCV/4IQnDOD0JSfF5CnUU+QnYBTEIWVmRC8kFBQkRBeEKkBVdCtmk+QobMfEKJ8FlCTMlDQuaYUEK6hU9CqfQ8QsE/VEKam2pCWMowQjyNdEJcNmRCx5BgQvwEv0GtXORBVVMRQu7hwEGOo+5Bqhf2QR+25UGSvwxCedAEQuDICUJ+sv5BU+4hQlqYM0KNmuhBNDf0QZhW/UGouQxC+lwbQqiY30FCBghCkPkOQiT6+UHauBFCxFzpQeBkMEI9aDBCOsb+QZiQykEtyBRCnCwJQmw4DkJ3rmNClOQgQvCQFEJpAyNCvHU5QqCbGEKGkUxCsVgiQhYWM0I=",
          "dtype": "f4"
         },
         "xaxis": "x",
         "y": {
          "bdata": "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",
          "dtype": "f8"
         },
         "yaxis": "y"
        },
        {
         "hovertemplate": "<b>OLS trendline</b><br>error = -0.0226324 * dqfim_trace_eigenvalues + -2.83425<br>R<sup>2</sup>=0.117438<br><br>dqfim_trace_eigenvalues=%{x}<br>error=%{y} <b>(trend)</b><extra></extra>",
         "legendgroup": "Overall Trendline",
         "line": {
          "color": "red"
         },
         "marker": {
          "line": {
           "color": "black",
           "width": 0.75
          },
          "size": 12,
          "symbol": "circle"
         },
         "mode": "lines",
         "name": "Overall Trendline",
         "showlegend": true,
         "type": "scatter",
         "x": {
          "bdata": "PrqfQcokr0E5I7ZBcvu2QfwEv0G6w8BB7uHAQZ5Hw0EARcRBNVzGQairxkHK6cdB+M/IQcq1yUGYkMpB4J/KQcw9zEFEmsxBml/NQR2/zkGFd9FBAPXSQR/r00G+tNRBktbUQWy22EGUedlBwjHcQZL+3EGhx91BqJjfQeIs4EEMWeBBMgfiQRWB4kG8KONBrVzkQR+25UF07eZBhpDoQY2a6EGM5+hBXvroQcRc6UHg7OtBIDvsQb9T7EGOo+5BFpvyQTQ39EF/bPRB2kv1QaoX9kGEe/ZBJPr5Qa5Y/EGYVv1BfrL+QTrG/kF6fP9BkOT/QepnAUIt5QFCFkwCQvbLA0JyUARCrKEEQnnQBELibgVCIngGQtERB0IMOgdCQWQHQjRlB0JCBghCV/4IQpwsCULgyAlCMDoMQjNoDEKouQxCkr8MQkptDUJsOA5CfTwOQs6ODkKQ+Q5CcM4PQqNOEEIzlxBCVVMRQtq4EUIuIxJCmA8TQvDRE0LT1RNCOScUQvCQFEItyBRCTD8VQmTTFUIpnhZCy7cWQnokF0KgmxhC+lwbQibNHkJknSBClOQgQlPuIUKxWCJCaQMjQuAjJEJh6iRCR/skQvIjJUJeEChC8DYoQmVxKkL2wCtCQlosQmSrLEI9ly1CmPEtQhl7LkLK1y5C4GQwQj1oMEJYyjBCFhYzQlqYM0IkPTZCGWA5Qrx1OUKp9DxC2h09Qrx7PULCkT1CnUU+QrZpPkLyQUFC3ZNCQkzJQ0K5D0VCzsBFQtbIRUIes0tCdgFMQoaRTEK6hU9C5phQQsE/VEIi7lZCrgRXQqQFV0KJ8FlCMqpaQlJ8XkL0w19Cx5BgQneuY0JcNmRCFlZkQop+ZEKam2pCdMFtQkxObkK+BXFCnClxQhRdcUJOEnJCPI10QnbSdELEE3dCqjV4QkRBeELEVnhC9mF6QobMfEIg2X1C0O5+QiM3gEJqaYBCcuOAQh6XgkJ1hoNCdXiEQjV5hELQLYVCQjCHQiIxiUJhKIpCeg6MQqMvjUJ8DI5CVgiPQq2bkELcC5FCvR2RQuo2kULmXJFCAjOSQsVnkkJ6vZJCZkGTQpuOk0JTlJRCH7mVQg9OlkKsHZhCmmiaQiqum0Krb59CQuyfQvKzoUJYUqJClF+jQsJlqEJoDKlChDqqQoBPqkKQxqtC3iasQnIWsEI=",
          "dtype": "f4"
         },
         "xaxis": "x",
         "y": {
          "bdata": "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",
          "dtype": "f8"
         },
         "yaxis": "y"
        }
       ],
       "layout": {
        "coloraxis": {
         "cmax": 8.829816818237305,
         "cmin": 3.045431613922119,
         "colorbar": {
          "len": 1.1,
          "thickness": 35,
          "title": {
           "text": "dqfim_abbas_deff_raw"
          },
          "x": 1,
          "y": 0.53,
          "yanchor": "middle"
         },
         "colorscale": [
          [
           0,
           "#f1f426"
          ],
          [
           0.010101010101010102,
           "#f2f227"
          ],
          [
           0.020202020202020204,
           "#f3ee27"
          ],
          [
           0.030303030303030304,
           "#f5eb27"
          ],
          [
           0.04040404040404041,
           "#f5e926"
          ],
          [
           0.050505050505050504,
           "#f6e626"
          ],
          [
           0.06060606060606061,
           "#f7e225"
          ],
          [
           0.0707070707070707,
           "#f8df25"
          ],
          [
           0.08080808080808081,
           "#f9dc24"
          ],
          [
           0.09090909090909091,
           "#fad824"
          ],
          [
           0.10101010101010101,
           "#fbd524"
          ],
          [
           0.1111111111111111,
           "#fcd225"
          ],
          [
           0.12121212121212122,
           "#fcce25"
          ],
          [
           0.13131313131313133,
           "#fdcb26"
          ],
          [
           0.1414141414141414,
           "#fdc827"
          ],
          [
           0.15151515151515152,
           "#fdc527"
          ],
          [
           0.16161616161616163,
           "#fdc229"
          ],
          [
           0.1717171717171717,
           "#febe2a"
          ],
          [
           0.18181818181818182,
           "#feba2c"
          ],
          [
           0.1919191919191919,
           "#feb72d"
          ],
          [
           0.20202020202020202,
           "#fdb42f"
          ],
          [
           0.21212121212121213,
           "#fdb130"
          ],
          [
           0.2222222222222222,
           "#fdac33"
          ],
          [
           0.23232323232323232,
           "#fca934"
          ],
          [
           0.24242424242424243,
           "#fca636"
          ],
          [
           0.25252525252525254,
           "#fca338"
          ],
          [
           0.26262626262626265,
           "#fb9f3a"
          ],
          [
           0.2727272727272727,
           "#fa9c3c"
          ],
          [
           0.2828282828282828,
           "#f9983e"
          ],
          [
           0.29292929292929293,
           "#f89540"
          ],
          [
           0.30303030303030304,
           "#f79342"
          ],
          [
           0.31313131313131315,
           "#f68f44"
          ],
          [
           0.32323232323232326,
           "#f58c46"
          ],
          [
           0.3333333333333333,
           "#f48849"
          ],
          [
           0.3434343434343434,
           "#f3854b"
          ],
          [
           0.35353535353535354,
           "#f1814d"
          ],
          [
           0.36363636363636365,
           "#f07f4f"
          ],
          [
           0.37373737373737376,
           "#ef7c51"
          ],
          [
           0.3838383838383838,
           "#ed7953"
          ],
          [
           0.3939393939393939,
           "#eb7556"
          ],
          [
           0.40404040404040403,
           "#e97257"
          ],
          [
           0.41414141414141414,
           "#e76f5a"
          ],
          [
           0.42424242424242425,
           "#e66c5c"
          ],
          [
           0.43434343434343436,
           "#e4695e"
          ],
          [
           0.4444444444444444,
           "#e26660"
          ],
          [
           0.45454545454545453,
           "#e06363"
          ],
          [
           0.46464646464646464,
           "#de6164"
          ],
          [
           0.47474747474747475,
           "#dc5d67"
          ],
          [
           0.48484848484848486,
           "#da5a6a"
          ],
          [
           0.494949494949495,
           "#d8576b"
          ],
          [
           0.5050505050505051,
           "#d5546e"
          ],
          [
           0.5151515151515151,
           "#d35171"
          ],
          [
           0.5252525252525253,
           "#d14e72"
          ],
          [
           0.5353535353535354,
           "#ce4b75"
          ],
          [
           0.5454545454545454,
           "#cc4778"
          ],
          [
           0.5555555555555556,
           "#ca457a"
          ],
          [
           0.5656565656565656,
           "#c7427c"
          ],
          [
           0.5757575757575758,
           "#c43e7f"
          ],
          [
           0.5858585858585859,
           "#c23c81"
          ],
          [
           0.5959595959595959,
           "#bf3984"
          ],
          [
           0.6060606060606061,
           "#bc3587"
          ],
          [
           0.6161616161616161,
           "#b83289"
          ],
          [
           0.6262626262626263,
           "#b6308b"
          ],
          [
           0.6363636363636364,
           "#b32c8e"
          ],
          [
           0.6464646464646465,
           "#b02991"
          ],
          [
           0.6565656565656566,
           "#ac2694"
          ],
          [
           0.6666666666666666,
           "#aa2395"
          ],
          [
           0.6767676767676768,
           "#a62098"
          ],
          [
           0.6868686868686869,
           "#a21d9a"
          ],
          [
           0.696969696969697,
           "#9e199d"
          ],
          [
           0.7070707070707071,
           "#9a169f"
          ],
          [
           0.7171717171717171,
           "#9613a1"
          ],
          [
           0.7272727272727273,
           "#9410a2"
          ],
          [
           0.7373737373737373,
           "#8f0da4"
          ],
          [
           0.7474747474747475,
           "#8b0aa5"
          ],
          [
           0.7575757575757576,
           "#8707a6"
          ],
          [
           0.7676767676767676,
           "#8305a7"
          ],
          [
           0.7777777777777778,
           "#7e03a8"
          ],
          [
           0.7878787878787878,
           "#7a02a8"
          ],
          [
           0.797979797979798,
           "#7701a8"
          ],
          [
           0.8080808080808081,
           "#7201a8"
          ],
          [
           0.8181818181818182,
           "#6e00a8"
          ],
          [
           0.8282828282828283,
           "#6900a8"
          ],
          [
           0.8383838383838383,
           "#6400a7"
          ],
          [
           0.8484848484848485,
           "#6001a6"
          ],
          [
           0.8585858585858586,
           "#5b01a5"
          ],
          [
           0.8686868686868687,
           "#5601a4"
          ],
          [
           0.8787878787878788,
           "#5102a3"
          ],
          [
           0.8888888888888888,
           "#4c02a1"
          ],
          [
           0.898989898989899,
           "#48039f"
          ],
          [
           0.9090909090909091,
           "#43039e"
          ],
          [
           0.9191919191919192,
           "#3e049c"
          ],
          [
           0.9292929292929293,
           "#38049a"
          ],
          [
           0.9393939393939394,
           "#330597"
          ],
          [
           0.9494949494949495,
           "#2f0596"
          ],
          [
           0.9595959595959596,
           "#2a0593"
          ],
          [
           0.9696969696969697,
           "#240691"
          ],
          [
           0.9797979797979798,
           "#1d068e"
          ],
          [
           0.98989898989899,
           "#16078a"
          ],
          [
           1,
           "#0d0887"
          ]
         ]
        },
        "height": 600,
        "legend": {
         "tracegroupgap": 0
        },
        "shapes": [
         {
          "layer": "below",
          "line": {
           "color": "black",
           "width": 2
          },
          "type": "rect",
          "x0": 0,
          "x1": 1,
          "xref": "paper",
          "y0": 0,
          "y1": 1,
          "yref": "paper"
         }
        ],
        "template": {
         "data": {
          "bar": [
           {
            "error_x": {
             "color": "#2a3f5f"
            },
            "error_y": {
             "color": "#2a3f5f"
            },
            "marker": {
             "line": {
              "color": "white",
              "width": 0.5
             },
             "pattern": {
              "fillmode": "overlay",
              "size": 10,
              "solidity": 0.2
             }
            },
            "type": "bar"
           }
          ],
          "barpolar": [
           {
            "marker": {
             "line": {
              "color": "white",
              "width": 0.5
             },
             "pattern": {
              "fillmode": "overlay",
              "size": 10,
              "solidity": 0.2
             }
            },
            "type": "barpolar"
           }
          ],
          "carpet": [
           {
            "aaxis": {
             "endlinecolor": "#2a3f5f",
             "gridcolor": "#C8D4E3",
             "linecolor": "#C8D4E3",
             "minorgridcolor": "#C8D4E3",
             "startlinecolor": "#2a3f5f"
            },
            "baxis": {
             "endlinecolor": "#2a3f5f",
             "gridcolor": "#C8D4E3",
             "linecolor": "#C8D4E3",
             "minorgridcolor": "#C8D4E3",
             "startlinecolor": "#2a3f5f"
            },
            "type": "carpet"
           }
          ],
          "choropleth": [
           {
            "colorbar": {
             "outlinewidth": 0,
             "ticks": ""
            },
            "type": "choropleth"
           }
          ],
          "contour": [
           {
            "colorbar": {
             "outlinewidth": 0,
             "ticks": ""
            },
            "colorscale": [
             [
              0,
              "#0d0887"
             ],
             [
              0.1111111111111111,
              "#46039f"
             ],
             [
              0.2222222222222222,
              "#7201a8"
             ],
             [
              0.3333333333333333,
              "#9c179e"
             ],
             [
              0.4444444444444444,
              "#bd3786"
             ],
             [
              0.5555555555555556,
              "#d8576b"
             ],
             [
              0.6666666666666666,
              "#ed7953"
             ],
             [
              0.7777777777777778,
              "#fb9f3a"
             ],
             [
              0.8888888888888888,
              "#fdca26"
             ],
             [
              1,
              "#f0f921"
             ]
            ],
            "type": "contour"
           }
          ],
          "contourcarpet": [
           {
            "colorbar": {
             "outlinewidth": 0,
             "ticks": ""
            },
            "type": "contourcarpet"
           }
          ],
          "heatmap": [
           {
            "colorbar": {
             "outlinewidth": 0,
             "ticks": ""
            },
            "colorscale": [
             [
              0,
              "#0d0887"
             ],
             [
              0.1111111111111111,
              "#46039f"
             ],
             [
              0.2222222222222222,
              "#7201a8"
             ],
             [
              0.3333333333333333,
              "#9c179e"
             ],
             [
              0.4444444444444444,
              "#bd3786"
             ],
             [
              0.5555555555555556,
              "#d8576b"
             ],
             [
              0.6666666666666666,
              "#ed7953"
             ],
             [
              0.7777777777777778,
              "#fb9f3a"
             ],
             [
              0.8888888888888888,
              "#fdca26"
             ],
             [
              1,
              "#f0f921"
             ]
            ],
            "type": "heatmap"
           }
          ],
          "histogram": [
           {
            "marker": {
             "pattern": {
              "fillmode": "overlay",
              "size": 10,
              "solidity": 0.2
             }
            },
            "type": "histogram"
           }
          ],
          "histogram2d": [
           {
            "colorbar": {
             "outlinewidth": 0,
             "ticks": ""
            },
            "colorscale": [
             [
              0,
              "#0d0887"
             ],
             [
              0.1111111111111111,
              "#46039f"
             ],
             [
              0.2222222222222222,
              "#7201a8"
             ],
             [
              0.3333333333333333,
              "#9c179e"
             ],
             [
              0.4444444444444444,
              "#bd3786"
             ],
             [
              0.5555555555555556,
              "#d8576b"
             ],
             [
              0.6666666666666666,
              "#ed7953"
             ],
             [
              0.7777777777777778,
              "#fb9f3a"
             ],
             [
              0.8888888888888888,
              "#fdca26"
             ],
             [
              1,
              "#f0f921"
             ]
            ],
            "type": "histogram2d"
           }
          ],
          "histogram2dcontour": [
           {
            "colorbar": {
             "outlinewidth": 0,
             "ticks": ""
            },
            "colorscale": [
             [
              0,
              "#0d0887"
             ],
             [
              0.1111111111111111,
              "#46039f"
             ],
             [
              0.2222222222222222,
              "#7201a8"
             ],
             [
              0.3333333333333333,
              "#9c179e"
             ],
             [
              0.4444444444444444,
              "#bd3786"
             ],
             [
              0.5555555555555556,
              "#d8576b"
             ],
             [
              0.6666666666666666,
              "#ed7953"
             ],
             [
              0.7777777777777778,
              "#fb9f3a"
             ],
             [
              0.8888888888888888,
              "#fdca26"
             ],
             [
              1,
              "#f0f921"
             ]
            ],
            "type": "histogram2dcontour"
           }
          ],
          "mesh3d": [
           {
            "colorbar": {
             "outlinewidth": 0,
             "ticks": ""
            },
            "type": "mesh3d"
           }
          ],
          "parcoords": [
           {
            "line": {
             "colorbar": {
              "outlinewidth": 0,
              "ticks": ""
             }
            },
            "type": "parcoords"
           }
          ],
          "pie": [
           {
            "automargin": true,
            "type": "pie"
           }
          ],
          "scatter": [
           {
            "fillpattern": {
             "fillmode": "overlay",
             "size": 10,
             "solidity": 0.2
            },
            "type": "scatter"
           }
          ],
          "scatter3d": [
           {
            "line": {
             "colorbar": {
              "outlinewidth": 0,
              "ticks": ""
             }
            },
            "marker": {
             "colorbar": {
              "outlinewidth": 0,
              "ticks": ""
             }
            },
            "type": "scatter3d"
           }
          ],
          "scattercarpet": [
           {
            "marker": {
             "colorbar": {
              "outlinewidth": 0,
              "ticks": ""
             }
            },
            "type": "scattercarpet"
           }
          ],
          "scattergeo": [
           {
            "marker": {
             "colorbar": {
              "outlinewidth": 0,
              "ticks": ""
             }
            },
            "type": "scattergeo"
           }
          ],
          "scattergl": [
           {
            "marker": {
             "colorbar": {
              "outlinewidth": 0,
              "ticks": ""
             }
            },
            "type": "scattergl"
           }
          ],
          "scattermap": [
           {
            "marker": {
             "colorbar": {
              "outlinewidth": 0,
              "ticks": ""
             }
            },
            "type": "scattermap"
           }
          ],
          "scattermapbox": [
           {
            "marker": {
             "colorbar": {
              "outlinewidth": 0,
              "ticks": ""
             }
            },
            "type": "scattermapbox"
           }
          ],
          "scatterpolar": [
           {
            "marker": {
             "colorbar": {
              "outlinewidth": 0,
              "ticks": ""
             }
            },
            "type": "scatterpolar"
           }
          ],
          "scatterpolargl": [
           {
            "marker": {
             "colorbar": {
              "outlinewidth": 0,
              "ticks": ""
             }
            },
            "type": "scatterpolargl"
           }
          ],
          "scatterternary": [
           {
            "marker": {
             "colorbar": {
              "outlinewidth": 0,
              "ticks": ""
             }
            },
            "type": "scatterternary"
           }
          ],
          "surface": [
           {
            "colorbar": {
             "outlinewidth": 0,
             "ticks": ""
            },
            "colorscale": [
             [
              0,
              "#0d0887"
             ],
             [
              0.1111111111111111,
              "#46039f"
             ],
             [
              0.2222222222222222,
              "#7201a8"
             ],
             [
              0.3333333333333333,
              "#9c179e"
             ],
             [
              0.4444444444444444,
              "#bd3786"
             ],
             [
              0.5555555555555556,
              "#d8576b"
             ],
             [
              0.6666666666666666,
              "#ed7953"
             ],
             [
              0.7777777777777778,
              "#fb9f3a"
             ],
             [
              0.8888888888888888,
              "#fdca26"
             ],
             [
              1,
              "#f0f921"
             ]
            ],
            "type": "surface"
           }
          ],
          "table": [
           {
            "cells": {
             "fill": {
              "color": "#EBF0F8"
             },
             "line": {
              "color": "white"
             }
            },
            "header": {
             "fill": {
              "color": "#C8D4E3"
             },
             "line": {
              "color": "white"
             }
            },
            "type": "table"
           }
          ]
         },
         "layout": {
          "annotationdefaults": {
           "arrowcolor": "#2a3f5f",
           "arrowhead": 0,
           "arrowwidth": 1
          },
          "autotypenumbers": "strict",
          "coloraxis": {
           "colorbar": {
            "outlinewidth": 0,
            "ticks": ""
           }
          },
          "colorscale": {
           "diverging": [
            [
             0,
             "#8e0152"
            ],
            [
             0.1,
             "#c51b7d"
            ],
            [
             0.2,
             "#de77ae"
            ],
            [
             0.3,
             "#f1b6da"
            ],
            [
             0.4,
             "#fde0ef"
            ],
            [
             0.5,
             "#f7f7f7"
            ],
            [
             0.6,
             "#e6f5d0"
            ],
            [
             0.7,
             "#b8e186"
            ],
            [
             0.8,
             "#7fbc41"
            ],
            [
             0.9,
             "#4d9221"
            ],
            [
             1,
             "#276419"
            ]
           ],
           "sequential": [
            [
             0,
             "#0d0887"
            ],
            [
             0.1111111111111111,
             "#46039f"
            ],
            [
             0.2222222222222222,
             "#7201a8"
            ],
            [
             0.3333333333333333,
             "#9c179e"
            ],
            [
             0.4444444444444444,
             "#bd3786"
            ],
            [
             0.5555555555555556,
             "#d8576b"
            ],
            [
             0.6666666666666666,
             "#ed7953"
            ],
            [
             0.7777777777777778,
             "#fb9f3a"
            ],
            [
             0.8888888888888888,
             "#fdca26"
            ],
            [
             1,
             "#f0f921"
            ]
           ],
           "sequentialminus": [
            [
             0,
             "#0d0887"
            ],
            [
             0.1111111111111111,
             "#46039f"
            ],
            [
             0.2222222222222222,
             "#7201a8"
            ],
            [
             0.3333333333333333,
             "#9c179e"
            ],
            [
             0.4444444444444444,
             "#bd3786"
            ],
            [
             0.5555555555555556,
             "#d8576b"
            ],
            [
             0.6666666666666666,
             "#ed7953"
            ],
            [
             0.7777777777777778,
             "#fb9f3a"
            ],
            [
             0.8888888888888888,
             "#fdca26"
            ],
            [
             1,
             "#f0f921"
            ]
           ]
          },
          "colorway": [
           "#636efa",
           "#EF553B",
           "#00cc96",
           "#ab63fa",
           "#FFA15A",
           "#19d3f3",
           "#FF6692",
           "#B6E880",
           "#FF97FF",
           "#FECB52"
          ],
          "font": {
           "color": "#2a3f5f"
          },
          "geo": {
           "bgcolor": "white",
           "lakecolor": "white",
           "landcolor": "white",
           "showlakes": true,
           "showland": true,
           "subunitcolor": "#C8D4E3"
          },
          "hoverlabel": {
           "align": "left"
          },
          "hovermode": "closest",
          "mapbox": {
           "style": "light"
          },
          "paper_bgcolor": "white",
          "plot_bgcolor": "white",
          "polar": {
           "angularaxis": {
            "gridcolor": "#EBF0F8",
            "linecolor": "#EBF0F8",
            "ticks": ""
           },
           "bgcolor": "white",
           "radialaxis": {
            "gridcolor": "#EBF0F8",
            "linecolor": "#EBF0F8",
            "ticks": ""
           }
          },
          "scene": {
           "xaxis": {
            "backgroundcolor": "white",
            "gridcolor": "#DFE8F3",
            "gridwidth": 2,
            "linecolor": "#EBF0F8",
            "showbackground": true,
            "ticks": "",
            "zerolinecolor": "#EBF0F8"
           },
           "yaxis": {
            "backgroundcolor": "white",
            "gridcolor": "#DFE8F3",
            "gridwidth": 2,
            "linecolor": "#EBF0F8",
            "showbackground": true,
            "ticks": "",
            "zerolinecolor": "#EBF0F8"
           },
           "zaxis": {
            "backgroundcolor": "white",
            "gridcolor": "#DFE8F3",
            "gridwidth": 2,
            "linecolor": "#EBF0F8",
            "showbackground": true,
            "ticks": "",
            "zerolinecolor": "#EBF0F8"
           }
          },
          "shapedefaults": {
           "line": {
            "color": "#2a3f5f"
           }
          },
          "ternary": {
           "aaxis": {
            "gridcolor": "#DFE8F3",
            "linecolor": "#A2B1C6",
            "ticks": ""
           },
           "baxis": {
            "gridcolor": "#DFE8F3",
            "linecolor": "#A2B1C6",
            "ticks": ""
           },
           "bgcolor": "white",
           "caxis": {
            "gridcolor": "#DFE8F3",
            "linecolor": "#A2B1C6",
            "ticks": ""
           }
          },
          "title": {
           "x": 0.05
          },
          "xaxis": {
           "automargin": true,
           "gridcolor": "#EBF0F8",
           "linecolor": "#EBF0F8",
           "ticks": "",
           "title": {
            "standoff": 15
           },
           "zerolinecolor": "#EBF0F8",
           "zerolinewidth": 2
          },
          "yaxis": {
           "automargin": true,
           "gridcolor": "#EBF0F8",
           "linecolor": "#EBF0F8",
           "ticks": "",
           "title": {
            "standoff": 15
           },
           "zerolinecolor": "#EBF0F8",
           "zerolinewidth": 2
          }
         }
        },
        "title": {
         "text": "dqfim_trace_eigenvalues vs error colored by dqfim_abbas_deff_raw"
        },
        "width": 1000,
        "xaxis": {
         "anchor": "y",
         "domain": [
          0,
          1
         ],
         "gridcolor": "lightgray",
         "gridwidth": 1,
         "showgrid": true,
         "ticklabelstandoff": 10,
         "title": {
          "text": "dqfim_trace_eigenvalues"
         }
        },
        "yaxis": {
         "anchor": "x",
         "domain": [
          0,
          1
         ],
         "gridcolor": "lightgray",
         "gridwidth": 1,
         "showgrid": true,
         "ticklabelstandoff": 10,
         "title": {
          "text": "error"
         }
        }
       }
      }
     },
     "metadata": {},
     "output_type": "display_data"
    },
    {
     "name": "stdout",
     "output_type": "stream",
     "text": [
      "Color column 'dqfim_abbas_deff_raw' minimum value: 3.2057175636291504\n",
      "test corresponding to minimum value:\n",
      "63    test169\n",
      "Name: test_key, dtype: object\n",
      "Color column 'dqfim_abbas_deff_raw' maximum value: 8.829816818237305\n",
      "test corresponding to maximum value:\n",
      "143    test346\n",
      "Name: test_key, dtype: object\n",
      "\n",
      "adj_min: 3.045431613922119, adj_max: 8.829816818237305\n"
     ]
    },
    {
     "data": {
      "application/vnd.plotly.v1+json": {
       "config": {
        "plotlyServerURL": "https://plot.ly"
       },
       "data": [
        {
         "customdata": [
          [
           "test0"
          ],
          [
           "test0"
          ],
          [
           "test131"
          ],
          [
           "test131"
          ],
          [
           "test131"
          ],
          [
           "test131"
          ],
          [
           "test131"
          ],
          [
           "test131"
          ],
          [
           "test131"
          ],
          [
           "test131"
          ],
          [
           "test131"
          ],
          [
           "test131"
          ],
          [
           "test131"
          ],
          [
           "test131"
          ],
          [
           "test131"
          ],
          [
           "test131"
          ],
          [
           "test131"
          ],
          [
           "test131"
          ],
          [
           "test131"
          ],
          [
           "test131"
          ],
          [
           "test131"
          ],
          [
           "test131"
          ],
          [
           "test150"
          ],
          [
           "test150"
          ],
          [
           "test150"
          ],
          [
           "test150"
          ],
          [
           "test150"
          ],
          [
           "test150"
          ],
          [
           "test150"
          ],
          [
           "test150"
          ],
          [
           "test150"
          ],
          [
           "test150"
          ],
          [
           "test150"
          ],
          [
           "test150"
          ],
          [
           "test150"
          ],
          [
           "test150"
          ],
          [
           "test150"
          ],
          [
           "test150"
          ],
          [
           "test150"
          ],
          [
           "test150"
          ],
          [
           "test150"
          ],
          [
           "test150"
          ],
          [
           "test164"
          ],
          [
           "test164"
          ],
          [
           "test164"
          ],
          [
           "test164"
          ],
          [
           "test164"
          ],
          [
           "test164"
          ],
          [
           "test164"
          ],
          [
           "test164"
          ],
          [
           "test164"
          ],
          [
           "test164"
          ],
          [
           "test164"
          ],
          [
           "test164"
          ],
          [
           "test164"
          ],
          [
           "test164"
          ],
          [
           "test164"
          ],
          [
           "test164"
          ],
          [
           "test164"
          ],
          [
           "test164"
          ],
          [
           "test164"
          ],
          [
           "test164"
          ],
          [
           "test169"
          ],
          [
           "test169"
          ],
          [
           "test169"
          ],
          [
           "test169"
          ],
          [
           "test169"
          ],
          [
           "test169"
          ],
          [
           "test169"
          ],
          [
           "test169"
          ],
          [
           "test169"
          ],
          [
           "test169"
          ],
          [
           "test169"
          ],
          [
           "test169"
          ],
          [
           "test169"
          ],
          [
           "test169"
          ],
          [
           "test169"
          ],
          [
           "test169"
          ],
          [
           "test169"
          ],
          [
           "test169"
          ],
          [
           "test169"
          ],
          [
           "test169"
          ],
          [
           "test248"
          ],
          [
           "test248"
          ],
          [
           "test286"
          ],
          [
           "test286"
          ],
          [
           "test286"
          ],
          [
           "test286"
          ],
          [
           "test286"
          ],
          [
           "test286"
          ],
          [
           "test286"
          ],
          [
           "test286"
          ],
          [
           "test286"
          ],
          [
           "test286"
          ],
          [
           "test286"
          ],
          [
           "test286"
          ],
          [
           "test286"
          ],
          [
           "test286"
          ],
          [
           "test286"
          ],
          [
           "test286"
          ],
          [
           "test286"
          ],
          [
           "test286"
          ],
          [
           "test286"
          ],
          [
           "test286"
          ],
          [
           "test326"
          ],
          [
           "test326"
          ],
          [
           "test326"
          ],
          [
           "test326"
          ],
          [
           "test326"
          ],
          [
           "test326"
          ],
          [
           "test326"
          ],
          [
           "test326"
          ],
          [
           "test326"
          ],
          [
           "test326"
          ],
          [
           "test326"
          ],
          [
           "test326"
          ],
          [
           "test326"
          ],
          [
           "test326"
          ],
          [
           "test326"
          ],
          [
           "test326"
          ],
          [
           "test326"
          ],
          [
           "test326"
          ],
          [
           "test326"
          ],
          [
           "test326"
          ],
          [
           "test346"
          ],
          [
           "test346"
          ],
          [
           "test346"
          ],
          [
           "test346"
          ],
          [
           "test346"
          ],
          [
           "test346"
          ],
          [
           "test346"
          ],
          [
           "test346"
          ],
          [
           "test346"
          ],
          [
           "test346"
          ],
          [
           "test346"
          ],
          [
           "test346"
          ],
          [
           "test346"
          ],
          [
           "test346"
          ],
          [
           "test346"
          ],
          [
           "test346"
          ],
          [
           "test346"
          ],
          [
           "test346"
          ],
          [
           "test346"
          ],
          [
           "test346"
          ],
          [
           "test43"
          ],
          [
           "test43"
          ],
          [
           "test43"
          ],
          [
           "test43"
          ],
          [
           "test43"
          ],
          [
           "test43"
          ],
          [
           "test43"
          ],
          [
           "test43"
          ],
          [
           "test43"
          ],
          [
           "test43"
          ],
          [
           "test43"
          ],
          [
           "test43"
          ],
          [
           "test43"
          ],
          [
           "test43"
          ],
          [
           "test43"
          ],
          [
           "test43"
          ],
          [
           "test43"
          ],
          [
           "test43"
          ],
          [
           "test43"
          ],
          [
           "test43"
          ],
          [
           "test56"
          ],
          [
           "test56"
          ],
          [
           "test56"
          ],
          [
           "test56"
          ],
          [
           "test56"
          ],
          [
           "test56"
          ],
          [
           "test56"
          ],
          [
           "test56"
          ],
          [
           "test56"
          ],
          [
           "test56"
          ],
          [
           "test56"
          ],
          [
           "test56"
          ],
          [
           "test56"
          ],
          [
           "test56"
          ],
          [
           "test56"
          ],
          [
           "test56"
          ],
          [
           "test56"
          ],
          [
           "test56"
          ],
          [
           "test56"
          ],
          [
           "test56"
          ],
          [
           "test58"
          ],
          [
           "test58"
          ],
          [
           "test58"
          ],
          [
           "test58"
          ],
          [
           "test58"
          ],
          [
           "test58"
          ],
          [
           "test58"
          ],
          [
           "test58"
          ],
          [
           "test58"
          ],
          [
           "test58"
          ],
          [
           "test58"
          ],
          [
           "test58"
          ],
          [
           "test58"
          ],
          [
           "test58"
          ],
          [
           "test58"
          ],
          [
           "test58"
          ],
          [
           "test58"
          ],
          [
           "test58"
          ],
          [
           "test58"
          ],
          [
           "test58"
          ],
          [
           "test64"
          ],
          [
           "test64"
          ],
          [
           "test64"
          ],
          [
           "test64"
          ],
          [
           "test64"
          ],
          [
           "test64"
          ],
          [
           "test64"
          ],
          [
           "test64"
          ],
          [
           "test64"
          ],
          [
           "test64"
          ],
          [
           "test64"
          ],
          [
           "test64"
          ],
          [
           "test64"
          ],
          [
           "test64"
          ],
          [
           "test64"
          ],
          [
           "test64"
          ],
          [
           "test64"
          ],
          [
           "test64"
          ],
          [
           "test64"
          ],
          [
           "test64"
          ]
         ],
         "hovertemplate": "dqfim_var_nonzero_eigenvalues=%{x}<br>error=%{y}<br>test_key=%{customdata[0]}<br>dqfim_abbas_deff_raw=%{marker.color}<extra></extra>",
         "legendgroup": "",
         "marker": {
          "color": {
           "bdata": "9efJQKTtwUBkp4VA0i+FQHOKj0AAKI5AU2CHQCe4lECwAZFAwP6EQAE5s0BkxYVAOcWRQH7tlUAeYY5AFCKRQGTtkkCgtpFA7Q+CQEYxokDUuJRAtYyXQPCq4UC2sdlAseL0QHpw8kDMf9VAEA/qQCj540BUQNpA9NcBQere7EDsXeBA1/joQPoU3UAd49BArqD5QD6250DEf9ZALhX/QFmH4ECkSe1AlLnKQG+XoUCup85AhuKrQIgpu0DM5cdAaAq5QDhlu0DIBMVAGq2rQEG5zkDMoutA3GO2QHYDyUDqbcBA8fDRQCfuxEDTTdJATjrLQB9D6EAKzXFAeipNQJC2gECWQYBA5u5pQNgJaUAad4RATW6EQDYcn0BGgHZALFWAQIUHi0BfS39Amg+DQKaUjEBtDoVA8n2EQAKQlUB2G4RAty6FQJqM3UC0E71A2nHzQL4W3EBHTPxAvk7sQO2y9UC1//pAdyvqQKy11kDgXglBRI3gQBJ56kAtlwtBPC/oQOPb/EBSY/JARSMCQfwo+UCQkvdA6CjwQPbG/0DpdaVAs76QQBuOoUBl6b5AaJGoQFbAvUDze71AjMerQAhnw0BybJ5AF2uxQCfRvUBs1qdAkSKrQDzYtEDYlrtAVH2uQBb4rkBe56xAr0mpQBC970A43eZA0q37QGCL8EALhu9Amm34QCp5/kCSbQVBEnYKQZar9kAGVQRBHoQCQWIz+UDuqAFBx9brQEAeAkHCNgpBytgHQRRC+UDuRg1BWM6iQCzukkB6YbNAJunAQAMbo0BjJKxAHiGzQHx9n0DqL9NAqVmiQHoVq0AsrctA5EGzQHOymUDAnbhAC1CdQPPSskBCp8xAip+0QMO1uUDWZ8VALFOsQPZdv0DKL8lA7dW+QJil0EAiYc1AuAi+QC5m20BjY79At6q6QPjUzkBGqcFAtaa7QH1cy0BgbtlA9O+4QAwy2UBMSNNAqbrMQBpmiEBf45BAJlqsQEtgiUByUJhAH1icQOhhk0B0rZ1A7KSrQGkinkCMdJdAOgS+QJCttUDIHJtA9p6dQKFIpkC4fapAQpC4QLqXm0CAyaJA8ZGgQL5Ci0DEB6RAFjaWQNhwoUCSDaRAaFecQJaGkkALFqlAxMuVQGoynUAwlbdAutShQIRToUCbH6lAWm2tQHgPpEDGlLNA23uhQBDyqUA=",
           "dtype": "f4"
          },
          "coloraxis": "coloraxis",
          "line": {
           "color": "black",
           "width": 0.75
          },
          "size": 12,
          "symbol": "circle"
         },
         "mode": "markers",
         "name": "",
         "orientation": "v",
         "showlegend": false,
         "type": "scatter",
         "x": {
          "bdata": "SdfhQf7Sj0Hus21BKQB4QfIKo0FDBk5BLbS7QcfUQkH1z5JBKKVYQQm8ykGS5ERB2rWKQa/vskFrw2NB0r6xQRslSEFTP55BHoouQWdPFkIZvuBBo+qsQbnFgkLA0utCMzxuQkJxP0MieoRCcggCQxri7EJbwcpC+E89Q8AWC0MyVcVCewBkQovZyUKFZnhCdYX4QjU35kLFjolCW9n0QgOjr0JTF7RC9qgWQltWtEFQi0lCxn+SQe7ND0IOm9JB/4vuQUMU80HDvxJCyzmCQTqnBkLO9Z5CRffaQc62O0J7JOJBIkIZQne7GkJ5/kBCNRY8Qou+TkKCyo1BOmZQQRvOk0HCJ8VBX1BMQRsxc0G+VLlB2LSaQbNaDELDabRBG6OCQRjLRkFUe4dBypqAQf7OikFi9s1Biq9lQcAb1EHg5LtB6nmKQWmMJkIBNK9BHawMQ7HP1EISTPJChdgPQyHZCEMu2/pCP4wzQ4J+1kKx6zpDho6gQnvVEkMrlCVD+Oq4Qg/X8EIR+VZDwdpKQ0jpEUPTVK1Cxgi+Qhk2xkKb/bpBCrecQQHF4kFbRCJC67GrQb8ZL0J9uv1BV87SQRPtXEKqh8hBKdjDQbcw3kFbhN9BB3TUQT+M6UGgfhdCBfjwQaiP8kEAyepBYFPCQX34qkLu14JCj5PPQrJBpkJZzKRC1cGXQkLCA0O2ughDh8+hQhfcAUOFfu9CgB32QrobAkN6lbhCBvKFQmpK6kJ6HQlDQtECQyp7rEIISBlDLihzQVIcZEEYD7JBRS+TQcmmpEEpS6xBhdxnQcphO0HVGu5B166GQb43ZUHwMvxBZi28Qc6bb0E2loxBKO6PQU4LlUHOqvxBDQOSQXUZq0E/l6hCpmKLQgy/jELzm7NCwFRmQtLy5UIb74hCqpRdQtl2zEKi26tCBdV8QmmMg0KeiZRCvgZgQmSajEJAPJtCzco6QjCUuUK/MZtCy5GnQkNNLEFWl4tBG5zXQfXbMUEDoYdBN/OfQWIjnkHMUgNCReuTQVUa9UE/qNhBItvzQeXdUULhmnZBrWOWQYMNiUF1UblBlSriQTV7SkGO68ZBv4MEQmjoA0K4uA5CJsCgQbclkULgqJFCIvDDQanyOEEWPRJC7h8XQuU9FEINnvNCWuRWQkC3IEKlNk9CFd2KQiBrLEK/RrlCrjJYQhUKi0I=",
          "dtype": "f4"
         },
         "xaxis": "x",
         "y": {
          "bdata": "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",
          "dtype": "f8"
         },
         "yaxis": "y"
        },
        {
         "hovertemplate": "<b>OLS trendline</b><br>error = -0.00887646 * dqfim_var_nonzero_eigenvalues + -3.37516<br>R<sup>2</sup>=0.120383<br><br>dqfim_var_nonzero_eigenvalues=%{x}<br>error=%{y} <b>(trend)</b><extra></extra>",
         "legendgroup": "Overall Trendline",
         "line": {
          "color": "red"
         },
         "marker": {
          "line": {
           "color": "black",
           "width": 0.75
          },
          "size": 12,
          "symbol": "circle"
         },
         "mode": "lines",
         "name": "Overall Trendline",
         "showlegend": true,
         "type": "scatter",
         "x": {
          "bdata": "Q00sQR6KLkH12zFBqfI4QcphO0HH1EJBkuREQRjLRkEbJUhBNXtKQV9QTEFDBk5BOmZQQSilWEFrw2NBUhxkQb43ZUGKr2VBhdxnQe6zbUHOm29BLihzQRsxc0HhmnZBKQB4QcqagEHLOYJBG6OCQdeuhkFUe4dBA6GHQYMNiUHqeYpB2rWKQf7OikFWl4tBNpaMQYLKjUH+0o9BKO6PQQ0DkkHGf5JB9c+SQUUvk0EbzpNBReuTQU4LlUGtY5ZB2LSaQQq3nEFiI55BUz+eQTfzn0EmwKBB8gqjQcmmpEF1GatB67GrQSlLrEGj6qxBATSvQdK+sUEYD7JBr++yQVtWtEHDabRBdVG5Qb5UuUGb/bpBLbS7QeDku0FmLbxBYFPCQSnYw0Ei8MNBwifFQY7rxkGqh8hBCbzKQWL2zUEOm9JBV87SQcAb1EEHdNRBG5zXQT+o2EFF99pBtzDeQVuE30EZvuBBSdfhQXsk4kGVKuJBAcXiQT+M6UEAyepB1RruQf+L7kEF+PBBqI/yQUMU80Ei2/NBVRr1QfAy/EHOqvxBfbr9QcxSA0Jo6ANCv4MEQjqnBkKzWgxCuLgOQu7ND0IWPRJCw78SQuU9FEJnTxZC9qgWQu4fF0KgfhdCIkIZQne7GkJAtyBCW0QiQmmMJkIgayxCvxkvQs3KOkLOtjtCNRY8Qnn+QEJQi0lCi75OQqU2T0Ll3VFCWuRWQq4yWEIT7VxCqpRdQr4GYEJ7AGRCwFRmQjM8bkKFZnhCBdV8QrnFgkLu14JCaYyDQiJ6hEIG8oVCG++IQsWOiUIV3YpCFQqLQqZii0JkmoxCDL+MQrclkULgqJFCnomUQtXBl0K/MZtCQDybQs71nkKGjqBCh8+hQlnMpEKyQaZCy5GnQj+XqEJ9+KpCoturQip7rELTVK1CA6OvQvObs0JTF7RCepW4QvjquEK/RrlCMJS5QsYIvkIyVcVCGTbGQovZyUJbwcpC2XbMQo+Tz0Kxz9RCgn7WQtLy5UI1N+ZCakrqQsDS60Ia4uxChX7vQg/X8EISTPJCDZ7zQlvZ9EKAHfZCdYX4Qi7b+kIX3AFDcggCQ7obAkNC0QJDQsIDQ7a6CEMh2QhDeh0JQ8AWC0MdrAxDhdgPQ0jpEUN71RJDCEgZQyuUJUM/jDNDses6Q/hPPUNCcT9DwdpKQxH5VkM=",
          "dtype": "f4"
         },
         "xaxis": "x",
         "y": {
          "bdata": "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",
          "dtype": "f8"
         },
         "yaxis": "y"
        }
       ],
       "layout": {
        "coloraxis": {
         "cmax": 8.829816818237305,
         "cmin": 3.045431613922119,
         "colorbar": {
          "len": 1.1,
          "thickness": 35,
          "title": {
           "text": "dqfim_abbas_deff_raw"
          },
          "x": 1,
          "y": 0.53,
          "yanchor": "middle"
         },
         "colorscale": [
          [
           0,
           "#f1f426"
          ],
          [
           0.010101010101010102,
           "#f2f227"
          ],
          [
           0.020202020202020204,
           "#f3ee27"
          ],
          [
           0.030303030303030304,
           "#f5eb27"
          ],
          [
           0.04040404040404041,
           "#f5e926"
          ],
          [
           0.050505050505050504,
           "#f6e626"
          ],
          [
           0.06060606060606061,
           "#f7e225"
          ],
          [
           0.0707070707070707,
           "#f8df25"
          ],
          [
           0.08080808080808081,
           "#f9dc24"
          ],
          [
           0.09090909090909091,
           "#fad824"
          ],
          [
           0.10101010101010101,
           "#fbd524"
          ],
          [
           0.1111111111111111,
           "#fcd225"
          ],
          [
           0.12121212121212122,
           "#fcce25"
          ],
          [
           0.13131313131313133,
           "#fdcb26"
          ],
          [
           0.1414141414141414,
           "#fdc827"
          ],
          [
           0.15151515151515152,
           "#fdc527"
          ],
          [
           0.16161616161616163,
           "#fdc229"
          ],
          [
           0.1717171717171717,
           "#febe2a"
          ],
          [
           0.18181818181818182,
           "#feba2c"
          ],
          [
           0.1919191919191919,
           "#feb72d"
          ],
          [
           0.20202020202020202,
           "#fdb42f"
          ],
          [
           0.21212121212121213,
           "#fdb130"
          ],
          [
           0.2222222222222222,
           "#fdac33"
          ],
          [
           0.23232323232323232,
           "#fca934"
          ],
          [
           0.24242424242424243,
           "#fca636"
          ],
          [
           0.25252525252525254,
           "#fca338"
          ],
          [
           0.26262626262626265,
           "#fb9f3a"
          ],
          [
           0.2727272727272727,
           "#fa9c3c"
          ],
          [
           0.2828282828282828,
           "#f9983e"
          ],
          [
           0.29292929292929293,
           "#f89540"
          ],
          [
           0.30303030303030304,
           "#f79342"
          ],
          [
           0.31313131313131315,
           "#f68f44"
          ],
          [
           0.32323232323232326,
           "#f58c46"
          ],
          [
           0.3333333333333333,
           "#f48849"
          ],
          [
           0.3434343434343434,
           "#f3854b"
          ],
          [
           0.35353535353535354,
           "#f1814d"
          ],
          [
           0.36363636363636365,
           "#f07f4f"
          ],
          [
           0.37373737373737376,
           "#ef7c51"
          ],
          [
           0.3838383838383838,
           "#ed7953"
          ],
          [
           0.3939393939393939,
           "#eb7556"
          ],
          [
           0.40404040404040403,
           "#e97257"
          ],
          [
           0.41414141414141414,
           "#e76f5a"
          ],
          [
           0.42424242424242425,
           "#e66c5c"
          ],
          [
           0.43434343434343436,
           "#e4695e"
          ],
          [
           0.4444444444444444,
           "#e26660"
          ],
          [
           0.45454545454545453,
           "#e06363"
          ],
          [
           0.46464646464646464,
           "#de6164"
          ],
          [
           0.47474747474747475,
           "#dc5d67"
          ],
          [
           0.48484848484848486,
           "#da5a6a"
          ],
          [
           0.494949494949495,
           "#d8576b"
          ],
          [
           0.5050505050505051,
           "#d5546e"
          ],
          [
           0.5151515151515151,
           "#d35171"
          ],
          [
           0.5252525252525253,
           "#d14e72"
          ],
          [
           0.5353535353535354,
           "#ce4b75"
          ],
          [
           0.5454545454545454,
           "#cc4778"
          ],
          [
           0.5555555555555556,
           "#ca457a"
          ],
          [
           0.5656565656565656,
           "#c7427c"
          ],
          [
           0.5757575757575758,
           "#c43e7f"
          ],
          [
           0.5858585858585859,
           "#c23c81"
          ],
          [
           0.5959595959595959,
           "#bf3984"
          ],
          [
           0.6060606060606061,
           "#bc3587"
          ],
          [
           0.6161616161616161,
           "#b83289"
          ],
          [
           0.6262626262626263,
           "#b6308b"
          ],
          [
           0.6363636363636364,
           "#b32c8e"
          ],
          [
           0.6464646464646465,
           "#b02991"
          ],
          [
           0.6565656565656566,
           "#ac2694"
          ],
          [
           0.6666666666666666,
           "#aa2395"
          ],
          [
           0.6767676767676768,
           "#a62098"
          ],
          [
           0.6868686868686869,
           "#a21d9a"
          ],
          [
           0.696969696969697,
           "#9e199d"
          ],
          [
           0.7070707070707071,
           "#9a169f"
          ],
          [
           0.7171717171717171,
           "#9613a1"
          ],
          [
           0.7272727272727273,
           "#9410a2"
          ],
          [
           0.7373737373737373,
           "#8f0da4"
          ],
          [
           0.7474747474747475,
           "#8b0aa5"
          ],
          [
           0.7575757575757576,
           "#8707a6"
          ],
          [
           0.7676767676767676,
           "#8305a7"
          ],
          [
           0.7777777777777778,
           "#7e03a8"
          ],
          [
           0.7878787878787878,
           "#7a02a8"
          ],
          [
           0.797979797979798,
           "#7701a8"
          ],
          [
           0.8080808080808081,
           "#7201a8"
          ],
          [
           0.8181818181818182,
           "#6e00a8"
          ],
          [
           0.8282828282828283,
           "#6900a8"
          ],
          [
           0.8383838383838383,
           "#6400a7"
          ],
          [
           0.8484848484848485,
           "#6001a6"
          ],
          [
           0.8585858585858586,
           "#5b01a5"
          ],
          [
           0.8686868686868687,
           "#5601a4"
          ],
          [
           0.8787878787878788,
           "#5102a3"
          ],
          [
           0.8888888888888888,
           "#4c02a1"
          ],
          [
           0.898989898989899,
           "#48039f"
          ],
          [
           0.9090909090909091,
           "#43039e"
          ],
          [
           0.9191919191919192,
           "#3e049c"
          ],
          [
           0.9292929292929293,
           "#38049a"
          ],
          [
           0.9393939393939394,
           "#330597"
          ],
          [
           0.9494949494949495,
           "#2f0596"
          ],
          [
           0.9595959595959596,
           "#2a0593"
          ],
          [
           0.9696969696969697,
           "#240691"
          ],
          [
           0.9797979797979798,
           "#1d068e"
          ],
          [
           0.98989898989899,
           "#16078a"
          ],
          [
           1,
           "#0d0887"
          ]
         ]
        },
        "height": 600,
        "legend": {
         "tracegroupgap": 0
        },
        "shapes": [
         {
          "layer": "below",
          "line": {
           "color": "black",
           "width": 2
          },
          "type": "rect",
          "x0": 0,
          "x1": 1,
          "xref": "paper",
          "y0": 0,
          "y1": 1,
          "yref": "paper"
         }
        ],
        "template": {
         "data": {
          "bar": [
           {
            "error_x": {
             "color": "#2a3f5f"
            },
            "error_y": {
             "color": "#2a3f5f"
            },
            "marker": {
             "line": {
              "color": "white",
              "width": 0.5
             },
             "pattern": {
              "fillmode": "overlay",
              "size": 10,
              "solidity": 0.2
             }
            },
            "type": "bar"
           }
          ],
          "barpolar": [
           {
            "marker": {
             "line": {
              "color": "white",
              "width": 0.5
             },
             "pattern": {
              "fillmode": "overlay",
              "size": 10,
              "solidity": 0.2
             }
            },
            "type": "barpolar"
           }
          ],
          "carpet": [
           {
            "aaxis": {
             "endlinecolor": "#2a3f5f",
             "gridcolor": "#C8D4E3",
             "linecolor": "#C8D4E3",
             "minorgridcolor": "#C8D4E3",
             "startlinecolor": "#2a3f5f"
            },
            "baxis": {
             "endlinecolor": "#2a3f5f",
             "gridcolor": "#C8D4E3",
             "linecolor": "#C8D4E3",
             "minorgridcolor": "#C8D4E3",
             "startlinecolor": "#2a3f5f"
            },
            "type": "carpet"
           }
          ],
          "choropleth": [
           {
            "colorbar": {
             "outlinewidth": 0,
             "ticks": ""
            },
            "type": "choropleth"
           }
          ],
          "contour": [
           {
            "colorbar": {
             "outlinewidth": 0,
             "ticks": ""
            },
            "colorscale": [
             [
              0,
              "#0d0887"
             ],
             [
              0.1111111111111111,
              "#46039f"
             ],
             [
              0.2222222222222222,
              "#7201a8"
             ],
             [
              0.3333333333333333,
              "#9c179e"
             ],
             [
              0.4444444444444444,
              "#bd3786"
             ],
             [
              0.5555555555555556,
              "#d8576b"
             ],
             [
              0.6666666666666666,
              "#ed7953"
             ],
             [
              0.7777777777777778,
              "#fb9f3a"
             ],
             [
              0.8888888888888888,
              "#fdca26"
             ],
             [
              1,
              "#f0f921"
             ]
            ],
            "type": "contour"
           }
          ],
          "contourcarpet": [
           {
            "colorbar": {
             "outlinewidth": 0,
             "ticks": ""
            },
            "type": "contourcarpet"
           }
          ],
          "heatmap": [
           {
            "colorbar": {
             "outlinewidth": 0,
             "ticks": ""
            },
            "colorscale": [
             [
              0,
              "#0d0887"
             ],
             [
              0.1111111111111111,
              "#46039f"
             ],
             [
              0.2222222222222222,
              "#7201a8"
             ],
             [
              0.3333333333333333,
              "#9c179e"
             ],
             [
              0.4444444444444444,
              "#bd3786"
             ],
             [
              0.5555555555555556,
              "#d8576b"
             ],
             [
              0.6666666666666666,
              "#ed7953"
             ],
             [
              0.7777777777777778,
              "#fb9f3a"
             ],
             [
              0.8888888888888888,
              "#fdca26"
             ],
             [
              1,
              "#f0f921"
             ]
            ],
            "type": "heatmap"
           }
          ],
          "histogram": [
           {
            "marker": {
             "pattern": {
              "fillmode": "overlay",
              "size": 10,
              "solidity": 0.2
             }
            },
            "type": "histogram"
           }
          ],
          "histogram2d": [
           {
            "colorbar": {
             "outlinewidth": 0,
             "ticks": ""
            },
            "colorscale": [
             [
              0,
              "#0d0887"
             ],
             [
              0.1111111111111111,
              "#46039f"
             ],
             [
              0.2222222222222222,
              "#7201a8"
             ],
             [
              0.3333333333333333,
              "#9c179e"
             ],
             [
              0.4444444444444444,
              "#bd3786"
             ],
             [
              0.5555555555555556,
              "#d8576b"
             ],
             [
              0.6666666666666666,
              "#ed7953"
             ],
             [
              0.7777777777777778,
              "#fb9f3a"
             ],
             [
              0.8888888888888888,
              "#fdca26"
             ],
             [
              1,
              "#f0f921"
             ]
            ],
            "type": "histogram2d"
           }
          ],
          "histogram2dcontour": [
           {
            "colorbar": {
             "outlinewidth": 0,
             "ticks": ""
            },
            "colorscale": [
             [
              0,
              "#0d0887"
             ],
             [
              0.1111111111111111,
              "#46039f"
             ],
             [
              0.2222222222222222,
              "#7201a8"
             ],
             [
              0.3333333333333333,
              "#9c179e"
             ],
             [
              0.4444444444444444,
              "#bd3786"
             ],
             [
              0.5555555555555556,
              "#d8576b"
             ],
             [
              0.6666666666666666,
              "#ed7953"
             ],
             [
              0.7777777777777778,
              "#fb9f3a"
             ],
             [
              0.8888888888888888,
              "#fdca26"
             ],
             [
              1,
              "#f0f921"
             ]
            ],
            "type": "histogram2dcontour"
           }
          ],
          "mesh3d": [
           {
            "colorbar": {
             "outlinewidth": 0,
             "ticks": ""
            },
            "type": "mesh3d"
           }
          ],
          "parcoords": [
           {
            "line": {
             "colorbar": {
              "outlinewidth": 0,
              "ticks": ""
             }
            },
            "type": "parcoords"
           }
          ],
          "pie": [
           {
            "automargin": true,
            "type": "pie"
           }
          ],
          "scatter": [
           {
            "fillpattern": {
             "fillmode": "overlay",
             "size": 10,
             "solidity": 0.2
            },
            "type": "scatter"
           }
          ],
          "scatter3d": [
           {
            "line": {
             "colorbar": {
              "outlinewidth": 0,
              "ticks": ""
             }
            },
            "marker": {
             "colorbar": {
              "outlinewidth": 0,
              "ticks": ""
             }
            },
            "type": "scatter3d"
           }
          ],
          "scattercarpet": [
           {
            "marker": {
             "colorbar": {
              "outlinewidth": 0,
              "ticks": ""
             }
            },
            "type": "scattercarpet"
           }
          ],
          "scattergeo": [
           {
            "marker": {
             "colorbar": {
              "outlinewidth": 0,
              "ticks": ""
             }
            },
            "type": "scattergeo"
           }
          ],
          "scattergl": [
           {
            "marker": {
             "colorbar": {
              "outlinewidth": 0,
              "ticks": ""
             }
            },
            "type": "scattergl"
           }
          ],
          "scattermap": [
           {
            "marker": {
             "colorbar": {
              "outlinewidth": 0,
              "ticks": ""
             }
            },
            "type": "scattermap"
           }
          ],
          "scattermapbox": [
           {
            "marker": {
             "colorbar": {
              "outlinewidth": 0,
              "ticks": ""
             }
            },
            "type": "scattermapbox"
           }
          ],
          "scatterpolar": [
           {
            "marker": {
             "colorbar": {
              "outlinewidth": 0,
              "ticks": ""
             }
            },
            "type": "scatterpolar"
           }
          ],
          "scatterpolargl": [
           {
            "marker": {
             "colorbar": {
              "outlinewidth": 0,
              "ticks": ""
             }
            },
            "type": "scatterpolargl"
           }
          ],
          "scatterternary": [
           {
            "marker": {
             "colorbar": {
              "outlinewidth": 0,
              "ticks": ""
             }
            },
            "type": "scatterternary"
           }
          ],
          "surface": [
           {
            "colorbar": {
             "outlinewidth": 0,
             "ticks": ""
            },
            "colorscale": [
             [
              0,
              "#0d0887"
             ],
             [
              0.1111111111111111,
              "#46039f"
             ],
             [
              0.2222222222222222,
              "#7201a8"
             ],
             [
              0.3333333333333333,
              "#9c179e"
             ],
             [
              0.4444444444444444,
              "#bd3786"
             ],
             [
              0.5555555555555556,
              "#d8576b"
             ],
             [
              0.6666666666666666,
              "#ed7953"
             ],
             [
              0.7777777777777778,
              "#fb9f3a"
             ],
             [
              0.8888888888888888,
              "#fdca26"
             ],
             [
              1,
              "#f0f921"
             ]
            ],
            "type": "surface"
           }
          ],
          "table": [
           {
            "cells": {
             "fill": {
              "color": "#EBF0F8"
             },
             "line": {
              "color": "white"
             }
            },
            "header": {
             "fill": {
              "color": "#C8D4E3"
             },
             "line": {
              "color": "white"
             }
            },
            "type": "table"
           }
          ]
         },
         "layout": {
          "annotationdefaults": {
           "arrowcolor": "#2a3f5f",
           "arrowhead": 0,
           "arrowwidth": 1
          },
          "autotypenumbers": "strict",
          "coloraxis": {
           "colorbar": {
            "outlinewidth": 0,
            "ticks": ""
           }
          },
          "colorscale": {
           "diverging": [
            [
             0,
             "#8e0152"
            ],
            [
             0.1,
             "#c51b7d"
            ],
            [
             0.2,
             "#de77ae"
            ],
            [
             0.3,
             "#f1b6da"
            ],
            [
             0.4,
             "#fde0ef"
            ],
            [
             0.5,
             "#f7f7f7"
            ],
            [
             0.6,
             "#e6f5d0"
            ],
            [
             0.7,
             "#b8e186"
            ],
            [
             0.8,
             "#7fbc41"
            ],
            [
             0.9,
             "#4d9221"
            ],
            [
             1,
             "#276419"
            ]
           ],
           "sequential": [
            [
             0,
             "#0d0887"
            ],
            [
             0.1111111111111111,
             "#46039f"
            ],
            [
             0.2222222222222222,
             "#7201a8"
            ],
            [
             0.3333333333333333,
             "#9c179e"
            ],
            [
             0.4444444444444444,
             "#bd3786"
            ],
            [
             0.5555555555555556,
             "#d8576b"
            ],
            [
             0.6666666666666666,
             "#ed7953"
            ],
            [
             0.7777777777777778,
             "#fb9f3a"
            ],
            [
             0.8888888888888888,
             "#fdca26"
            ],
            [
             1,
             "#f0f921"
            ]
           ],
           "sequentialminus": [
            [
             0,
             "#0d0887"
            ],
            [
             0.1111111111111111,
             "#46039f"
            ],
            [
             0.2222222222222222,
             "#7201a8"
            ],
            [
             0.3333333333333333,
             "#9c179e"
            ],
            [
             0.4444444444444444,
             "#bd3786"
            ],
            [
             0.5555555555555556,
             "#d8576b"
            ],
            [
             0.6666666666666666,
             "#ed7953"
            ],
            [
             0.7777777777777778,
             "#fb9f3a"
            ],
            [
             0.8888888888888888,
             "#fdca26"
            ],
            [
             1,
             "#f0f921"
            ]
           ]
          },
          "colorway": [
           "#636efa",
           "#EF553B",
           "#00cc96",
           "#ab63fa",
           "#FFA15A",
           "#19d3f3",
           "#FF6692",
           "#B6E880",
           "#FF97FF",
           "#FECB52"
          ],
          "font": {
           "color": "#2a3f5f"
          },
          "geo": {
           "bgcolor": "white",
           "lakecolor": "white",
           "landcolor": "white",
           "showlakes": true,
           "showland": true,
           "subunitcolor": "#C8D4E3"
          },
          "hoverlabel": {
           "align": "left"
          },
          "hovermode": "closest",
          "mapbox": {
           "style": "light"
          },
          "paper_bgcolor": "white",
          "plot_bgcolor": "white",
          "polar": {
           "angularaxis": {
            "gridcolor": "#EBF0F8",
            "linecolor": "#EBF0F8",
            "ticks": ""
           },
           "bgcolor": "white",
           "radialaxis": {
            "gridcolor": "#EBF0F8",
            "linecolor": "#EBF0F8",
            "ticks": ""
           }
          },
          "scene": {
           "xaxis": {
            "backgroundcolor": "white",
            "gridcolor": "#DFE8F3",
            "gridwidth": 2,
            "linecolor": "#EBF0F8",
            "showbackground": true,
            "ticks": "",
            "zerolinecolor": "#EBF0F8"
           },
           "yaxis": {
            "backgroundcolor": "white",
            "gridcolor": "#DFE8F3",
            "gridwidth": 2,
            "linecolor": "#EBF0F8",
            "showbackground": true,
            "ticks": "",
            "zerolinecolor": "#EBF0F8"
           },
           "zaxis": {
            "backgroundcolor": "white",
            "gridcolor": "#DFE8F3",
            "gridwidth": 2,
            "linecolor": "#EBF0F8",
            "showbackground": true,
            "ticks": "",
            "zerolinecolor": "#EBF0F8"
           }
          },
          "shapedefaults": {
           "line": {
            "color": "#2a3f5f"
           }
          },
          "ternary": {
           "aaxis": {
            "gridcolor": "#DFE8F3",
            "linecolor": "#A2B1C6",
            "ticks": ""
           },
           "baxis": {
            "gridcolor": "#DFE8F3",
            "linecolor": "#A2B1C6",
            "ticks": ""
           },
           "bgcolor": "white",
           "caxis": {
            "gridcolor": "#DFE8F3",
            "linecolor": "#A2B1C6",
            "ticks": ""
           }
          },
          "title": {
           "x": 0.05
          },
          "xaxis": {
           "automargin": true,
           "gridcolor": "#EBF0F8",
           "linecolor": "#EBF0F8",
           "ticks": "",
           "title": {
            "standoff": 15
           },
           "zerolinecolor": "#EBF0F8",
           "zerolinewidth": 2
          },
          "yaxis": {
           "automargin": true,
           "gridcolor": "#EBF0F8",
           "linecolor": "#EBF0F8",
           "ticks": "",
           "title": {
            "standoff": 15
           },
           "zerolinecolor": "#EBF0F8",
           "zerolinewidth": 2
          }
         }
        },
        "title": {
         "text": "dqfim_var_nonzero_eigenvalues vs error colored by dqfim_abbas_deff_raw"
        },
        "width": 1000,
        "xaxis": {
         "anchor": "y",
         "domain": [
          0,
          1
         ],
         "gridcolor": "lightgray",
         "gridwidth": 1,
         "showgrid": true,
         "ticklabelstandoff": 10,
         "title": {
          "text": "dqfim_var_nonzero_eigenvalues"
         },
         "type": "log"
        },
        "yaxis": {
         "anchor": "x",
         "domain": [
          0,
          1
         ],
         "gridcolor": "lightgray",
         "gridwidth": 1,
         "showgrid": true,
         "ticklabelstandoff": 10,
         "title": {
          "text": "error"
         }
        }
       }
      }
     },
     "metadata": {},
     "output_type": "display_data"
    },
    {
     "name": "stdout",
     "output_type": "stream",
     "text": [
      "Color column 'error' minimum value: -4.971550399060236\n",
      "test corresponding to minimum value:\n",
      "0    test0\n",
      "Name: test_key, dtype: object\n",
      "Color column 'error' maximum value: -3.092023919708461\n",
      "test corresponding to maximum value:\n",
      "12    test64\n",
      "Name: test_key, dtype: object\n",
      "\n",
      "adj_min: -4.971550399060236, adj_max: -3.092023919708461\n"
     ]
    },
    {
     "data": {
      "application/vnd.plotly.v1+json": {
       "config": {
        "plotlyServerURL": "https://plot.ly"
       },
       "data": [
        {
         "customdata": [
          [
           "test0"
          ],
          [
           "test131"
          ],
          [
           "test150"
          ],
          [
           "test164"
          ],
          [
           "test169"
          ],
          [
           "test248"
          ],
          [
           "test286"
          ],
          [
           "test326"
          ],
          [
           "test346"
          ],
          [
           "test43"
          ],
          [
           "test56"
          ],
          [
           "test58"
          ],
          [
           "test64"
          ]
         ],
         "hovertemplate": "dqfim_trace_eigenvalues=%{x}<br>dqfim_var_all_eigenvalues=%{y}<br>test_key=%{customdata[0]}<br>error=%{marker.color}<extra></extra>",
         "legendgroup": "",
         "marker": {
          "color": {
           "bdata": "koSZG97iE8AGUGssVMwJwBNHbkNmRBLAu++NKB7QCcBj2+qipOYPwPfWhPItXBHAUk2bh1O5EsAqsZFH9rsLwL1fZheeORLAuNuQYIaBDMAK7jwe3rEQwEjbpiJFIA/A08dsCXe8CMA=",
           "dtype": "f8"
          },
          "coloraxis": "coloraxis",
          "line": {
           "color": "black",
           "width": 0.75
          },
          "size": 12,
          "symbol": "circle"
         },
         "mode": "markers",
         "name": "",
         "orientation": "v",
         "showlegend": false,
         "type": "scatter",
         "x": {
          "bdata": "GPMdQsPS4kFVe4BClZcwQvVP0kHUcCxCadKPQlbYFELKCZRCjSAHQjA7VkIA5QFCOzYcQg==",
          "dtype": "f4"
         },
         "xaxis": "x",
         "y": {
          "bdata": "4DE+QfRIEkEeYEtC5mWUQX69FEEwboBBqvCBQnC3bEEqvFNCVlQfQaUBEUIx/jJBTka/QQ==",
          "dtype": "f4"
         },
         "yaxis": "y"
        },
        {
         "hovertemplate": "<b>OLS trendline</b><br>dqfim_var_all_eigenvalues = 1.16693 * dqfim_trace_eigenvalues + -27.3811<br>R<sup>2</sup>=0.926084<br><br>dqfim_trace_eigenvalues=%{x}<br>dqfim_var_all_eigenvalues=%{y} <b>(trend)</b><extra></extra>",
         "legendgroup": "Overall Trendline",
         "line": {
          "color": "red"
         },
         "marker": {
          "line": {
           "color": "black",
           "width": 0.75
          },
          "size": 12,
          "symbol": "circle"
         },
         "mode": "lines",
         "name": "Overall Trendline",
         "showlegend": true,
         "type": "scatter",
         "x": {
          "bdata": "9U/SQcPS4kEA5QFCjSAHQlbYFEI7NhxCGPMdQtRwLEKVlzBCMDtWQlV7gEJp0o9CygmUQg==",
          "dtype": "f4"
         },
         "xaxis": "x",
         "y": {
          "bdata": "qC7KuDJfCkBAXKwtzdEWQIz4WR7pBiVA1P9lpn4UKECqe4PYwAowQJY686XuMDJAWK55vLayMkBiUjrc9+w2QOxg9mACIzhAkA+XFgWPQUBcqLcFuspHQOiBDzVjRExArA0fWEd/TUA=",
          "dtype": "f8"
         },
         "yaxis": "y"
        }
       ],
       "layout": {
        "coloraxis": {
         "cmax": -3.092023919708461,
         "cmin": -4.971550399060236,
         "colorbar": {
          "len": 1.1,
          "thickness": 35,
          "title": {
           "text": "error"
          },
          "x": 1,
          "y": 0.53,
          "yanchor": "middle"
         },
         "colorscale": [
          [
           0,
           "#f0f921"
          ],
          [
           0.010101010101010102,
           "#f0f724"
          ],
          [
           0.020202020202020204,
           "#f1f525"
          ],
          [
           0.030303030303030304,
           "#f1f426"
          ],
          [
           0.04040404040404041,
           "#f3f027"
          ],
          [
           0.050505050505050504,
           "#f4ed27"
          ],
          [
           0.06060606060606061,
           "#f5eb27"
          ],
          [
           0.0707070707070707,
           "#f6e826"
          ],
          [
           0.08080808080808081,
           "#f7e425"
          ],
          [
           0.09090909090909091,
           "#f8e125"
          ],
          [
           0.10101010101010101,
           "#f9dd25"
          ],
          [
           0.1111111111111111,
           "#fada24"
          ],
          [
           0.12121212121212122,
           "#fbd724"
          ],
          [
           0.13131313131313133,
           "#fbd324"
          ],
          [
           0.1414141414141414,
           "#fcd025"
          ],
          [
           0.15151515151515152,
           "#fccd25"
          ],
          [
           0.16161616161616163,
           "#fdca26"
          ],
          [
           0.1717171717171717,
           "#fdc627"
          ],
          [
           0.18181818181818182,
           "#fdc229"
          ],
          [
           0.1919191919191919,
           "#febe2a"
          ],
          [
           0.20202020202020202,
           "#febb2b"
          ],
          [
           0.21212121212121213,
           "#feb82c"
          ],
          [
           0.2222222222222222,
           "#fdb42f"
          ],
          [
           0.23232323232323232,
           "#fdb130"
          ],
          [
           0.24242424242424243,
           "#fdae32"
          ],
          [
           0.25252525252525254,
           "#fca934"
          ],
          [
           0.26262626262626265,
           "#fca636"
          ],
          [
           0.2727272727272727,
           "#fca338"
          ],
          [
           0.2828282828282828,
           "#fb9f3a"
          ],
          [
           0.29292929292929293,
           "#fa9c3c"
          ],
          [
           0.30303030303030304,
           "#f9983e"
          ],
          [
           0.31313131313131315,
           "#f89540"
          ],
          [
           0.32323232323232326,
           "#f79143"
          ],
          [
           0.3333333333333333,
           "#f68f44"
          ],
          [
           0.3434343434343434,
           "#f58c46"
          ],
          [
           0.35353535353535354,
           "#f48849"
          ],
          [
           0.36363636363636365,
           "#f2844b"
          ],
          [
           0.37373737373737376,
           "#f1814d"
          ],
          [
           0.3838383838383838,
           "#ef7e50"
          ],
          [
           0.3939393939393939,
           "#ee7b51"
          ],
          [
           0.40404040404040403,
           "#ec7754"
          ],
          [
           0.41414141414141414,
           "#eb7556"
          ],
          [
           0.42424242424242425,
           "#e97158"
          ],
          [
           0.43434343434343436,
           "#e76e5b"
          ],
          [
           0.4444444444444444,
           "#e56b5d"
          ],
          [
           0.45454545454545453,
           "#e3685f"
          ],
          [
           0.46464646464646464,
           "#e16462"
          ],
          [
           0.47474747474747475,
           "#df6263"
          ],
          [
           0.48484848484848486,
           "#dd5e66"
          ],
          [
           0.494949494949495,
           "#da5b69"
          ],
          [
           0.5050505050505051,
           "#d9586a"
          ],
          [
           0.5151515151515151,
           "#d6556d"
          ],
          [
           0.5252525252525253,
           "#d45270"
          ],
          [
           0.5353535353535354,
           "#d24f71"
          ],
          [
           0.5454545454545454,
           "#cf4c74"
          ],
          [
           0.5555555555555556,
           "#cc4977"
          ],
          [
           0.5656565656565656,
           "#ca457a"
          ],
          [
           0.5757575757575758,
           "#c8437b"
          ],
          [
           0.5858585858585859,
           "#c5407e"
          ],
          [
           0.5959595959595959,
           "#c23c81"
          ],
          [
           0.6060606060606061,
           "#bf3984"
          ],
          [
           0.6161616161616161,
           "#bc3587"
          ],
          [
           0.6262626262626263,
           "#ba3388"
          ],
          [
           0.6363636363636364,
           "#b6308b"
          ],
          [
           0.6464646464646465,
           "#b32c8e"
          ],
          [
           0.6565656565656566,
           "#b02991"
          ],
          [
           0.6666666666666666,
           "#ac2694"
          ],
          [
           0.6767676767676768,
           "#a82296"
          ],
          [
           0.6868686868686869,
           "#a51f99"
          ],
          [
           0.696969696969697,
           "#a21d9a"
          ],
          [
           0.7070707070707071,
           "#9e199d"
          ],
          [
           0.7171717171717171,
           "#9a169f"
          ],
          [
           0.7272727272727273,
           "#9613a1"
          ],
          [
           0.7373737373737373,
           "#920fa3"
          ],
          [
           0.7474747474747475,
           "#8e0ca4"
          ],
          [
           0.7575757575757576,
           "#8a09a5"
          ],
          [
           0.7676767676767676,
           "#8606a6"
          ],
          [
           0.7777777777777778,
           "#8104a7"
          ],
          [
           0.7878787878787878,
           "#7d03a8"
          ],
          [
           0.797979797979798,
           "#7801a8"
          ],
          [
           0.8080808080808081,
           "#7401a8"
          ],
          [
           0.8181818181818182,
           "#6f00a8"
          ],
          [
           0.8282828282828283,
           "#6a00a8"
          ],
          [
           0.8383838383838383,
           "#6600a7"
          ],
          [
           0.8484848484848485,
           "#6100a7"
          ],
          [
           0.8585858585858586,
           "#5c01a6"
          ],
          [
           0.8686868686868687,
           "#5801a4"
          ],
          [
           0.8787878787878788,
           "#5302a3"
          ],
          [
           0.8888888888888888,
           "#4e02a2"
          ],
          [
           0.898989898989899,
           "#4903a0"
          ],
          [
           0.9090909090909091,
           "#44039e"
          ],
          [
           0.9191919191919192,
           "#3f049c"
          ],
          [
           0.9292929292929293,
           "#3a049a"
          ],
          [
           0.9393939393939394,
           "#350498"
          ],
          [
           0.9494949494949495,
           "#2f0596"
          ],
          [
           0.9595959595959596,
           "#2a0593"
          ],
          [
           0.9696969696969697,
           "#240691"
          ],
          [
           0.9797979797979798,
           "#1d068e"
          ],
          [
           0.98989898989899,
           "#16078a"
          ],
          [
           1,
           "#0d0887"
          ]
         ]
        },
        "height": 600,
        "legend": {
         "tracegroupgap": 0
        },
        "shapes": [
         {
          "layer": "below",
          "line": {
           "color": "black",
           "width": 2
          },
          "type": "rect",
          "x0": 0,
          "x1": 1,
          "xref": "paper",
          "y0": 0,
          "y1": 1,
          "yref": "paper"
         }
        ],
        "template": {
         "data": {
          "bar": [
           {
            "error_x": {
             "color": "#2a3f5f"
            },
            "error_y": {
             "color": "#2a3f5f"
            },
            "marker": {
             "line": {
              "color": "white",
              "width": 0.5
             },
             "pattern": {
              "fillmode": "overlay",
              "size": 10,
              "solidity": 0.2
             }
            },
            "type": "bar"
           }
          ],
          "barpolar": [
           {
            "marker": {
             "line": {
              "color": "white",
              "width": 0.5
             },
             "pattern": {
              "fillmode": "overlay",
              "size": 10,
              "solidity": 0.2
             }
            },
            "type": "barpolar"
           }
          ],
          "carpet": [
           {
            "aaxis": {
             "endlinecolor": "#2a3f5f",
             "gridcolor": "#C8D4E3",
             "linecolor": "#C8D4E3",
             "minorgridcolor": "#C8D4E3",
             "startlinecolor": "#2a3f5f"
            },
            "baxis": {
             "endlinecolor": "#2a3f5f",
             "gridcolor": "#C8D4E3",
             "linecolor": "#C8D4E3",
             "minorgridcolor": "#C8D4E3",
             "startlinecolor": "#2a3f5f"
            },
            "type": "carpet"
           }
          ],
          "choropleth": [
           {
            "colorbar": {
             "outlinewidth": 0,
             "ticks": ""
            },
            "type": "choropleth"
           }
          ],
          "contour": [
           {
            "colorbar": {
             "outlinewidth": 0,
             "ticks": ""
            },
            "colorscale": [
             [
              0,
              "#0d0887"
             ],
             [
              0.1111111111111111,
              "#46039f"
             ],
             [
              0.2222222222222222,
              "#7201a8"
             ],
             [
              0.3333333333333333,
              "#9c179e"
             ],
             [
              0.4444444444444444,
              "#bd3786"
             ],
             [
              0.5555555555555556,
              "#d8576b"
             ],
             [
              0.6666666666666666,
              "#ed7953"
             ],
             [
              0.7777777777777778,
              "#fb9f3a"
             ],
             [
              0.8888888888888888,
              "#fdca26"
             ],
             [
              1,
              "#f0f921"
             ]
            ],
            "type": "contour"
           }
          ],
          "contourcarpet": [
           {
            "colorbar": {
             "outlinewidth": 0,
             "ticks": ""
            },
            "type": "contourcarpet"
           }
          ],
          "heatmap": [
           {
            "colorbar": {
             "outlinewidth": 0,
             "ticks": ""
            },
            "colorscale": [
             [
              0,
              "#0d0887"
             ],
             [
              0.1111111111111111,
              "#46039f"
             ],
             [
              0.2222222222222222,
              "#7201a8"
             ],
             [
              0.3333333333333333,
              "#9c179e"
             ],
             [
              0.4444444444444444,
              "#bd3786"
             ],
             [
              0.5555555555555556,
              "#d8576b"
             ],
             [
              0.6666666666666666,
              "#ed7953"
             ],
             [
              0.7777777777777778,
              "#fb9f3a"
             ],
             [
              0.8888888888888888,
              "#fdca26"
             ],
             [
              1,
              "#f0f921"
             ]
            ],
            "type": "heatmap"
           }
          ],
          "histogram": [
           {
            "marker": {
             "pattern": {
              "fillmode": "overlay",
              "size": 10,
              "solidity": 0.2
             }
            },
            "type": "histogram"
           }
          ],
          "histogram2d": [
           {
            "colorbar": {
             "outlinewidth": 0,
             "ticks": ""
            },
            "colorscale": [
             [
              0,
              "#0d0887"
             ],
             [
              0.1111111111111111,
              "#46039f"
             ],
             [
              0.2222222222222222,
              "#7201a8"
             ],
             [
              0.3333333333333333,
              "#9c179e"
             ],
             [
              0.4444444444444444,
              "#bd3786"
             ],
             [
              0.5555555555555556,
              "#d8576b"
             ],
             [
              0.6666666666666666,
              "#ed7953"
             ],
             [
              0.7777777777777778,
              "#fb9f3a"
             ],
             [
              0.8888888888888888,
              "#fdca26"
             ],
             [
              1,
              "#f0f921"
             ]
            ],
            "type": "histogram2d"
           }
          ],
          "histogram2dcontour": [
           {
            "colorbar": {
             "outlinewidth": 0,
             "ticks": ""
            },
            "colorscale": [
             [
              0,
              "#0d0887"
             ],
             [
              0.1111111111111111,
              "#46039f"
             ],
             [
              0.2222222222222222,
              "#7201a8"
             ],
             [
              0.3333333333333333,
              "#9c179e"
             ],
             [
              0.4444444444444444,
              "#bd3786"
             ],
             [
              0.5555555555555556,
              "#d8576b"
             ],
             [
              0.6666666666666666,
              "#ed7953"
             ],
             [
              0.7777777777777778,
              "#fb9f3a"
             ],
             [
              0.8888888888888888,
              "#fdca26"
             ],
             [
              1,
              "#f0f921"
             ]
            ],
            "type": "histogram2dcontour"
           }
          ],
          "mesh3d": [
           {
            "colorbar": {
             "outlinewidth": 0,
             "ticks": ""
            },
            "type": "mesh3d"
           }
          ],
          "parcoords": [
           {
            "line": {
             "colorbar": {
              "outlinewidth": 0,
              "ticks": ""
             }
            },
            "type": "parcoords"
           }
          ],
          "pie": [
           {
            "automargin": true,
            "type": "pie"
           }
          ],
          "scatter": [
           {
            "fillpattern": {
             "fillmode": "overlay",
             "size": 10,
             "solidity": 0.2
            },
            "type": "scatter"
           }
          ],
          "scatter3d": [
           {
            "line": {
             "colorbar": {
              "outlinewidth": 0,
              "ticks": ""
             }
            },
            "marker": {
             "colorbar": {
              "outlinewidth": 0,
              "ticks": ""
             }
            },
            "type": "scatter3d"
           }
          ],
          "scattercarpet": [
           {
            "marker": {
             "colorbar": {
              "outlinewidth": 0,
              "ticks": ""
             }
            },
            "type": "scattercarpet"
           }
          ],
          "scattergeo": [
           {
            "marker": {
             "colorbar": {
              "outlinewidth": 0,
              "ticks": ""
             }
            },
            "type": "scattergeo"
           }
          ],
          "scattergl": [
           {
            "marker": {
             "colorbar": {
              "outlinewidth": 0,
              "ticks": ""
             }
            },
            "type": "scattergl"
           }
          ],
          "scattermap": [
           {
            "marker": {
             "colorbar": {
              "outlinewidth": 0,
              "ticks": ""
             }
            },
            "type": "scattermap"
           }
          ],
          "scattermapbox": [
           {
            "marker": {
             "colorbar": {
              "outlinewidth": 0,
              "ticks": ""
             }
            },
            "type": "scattermapbox"
           }
          ],
          "scatterpolar": [
           {
            "marker": {
             "colorbar": {
              "outlinewidth": 0,
              "ticks": ""
             }
            },
            "type": "scatterpolar"
           }
          ],
          "scatterpolargl": [
           {
            "marker": {
             "colorbar": {
              "outlinewidth": 0,
              "ticks": ""
             }
            },
            "type": "scatterpolargl"
           }
          ],
          "scatterternary": [
           {
            "marker": {
             "colorbar": {
              "outlinewidth": 0,
              "ticks": ""
             }
            },
            "type": "scatterternary"
           }
          ],
          "surface": [
           {
            "colorbar": {
             "outlinewidth": 0,
             "ticks": ""
            },
            "colorscale": [
             [
              0,
              "#0d0887"
             ],
             [
              0.1111111111111111,
              "#46039f"
             ],
             [
              0.2222222222222222,
              "#7201a8"
             ],
             [
              0.3333333333333333,
              "#9c179e"
             ],
             [
              0.4444444444444444,
              "#bd3786"
             ],
             [
              0.5555555555555556,
              "#d8576b"
             ],
             [
              0.6666666666666666,
              "#ed7953"
             ],
             [
              0.7777777777777778,
              "#fb9f3a"
             ],
             [
              0.8888888888888888,
              "#fdca26"
             ],
             [
              1,
              "#f0f921"
             ]
            ],
            "type": "surface"
           }
          ],
          "table": [
           {
            "cells": {
             "fill": {
              "color": "#EBF0F8"
             },
             "line": {
              "color": "white"
             }
            },
            "header": {
             "fill": {
              "color": "#C8D4E3"
             },
             "line": {
              "color": "white"
             }
            },
            "type": "table"
           }
          ]
         },
         "layout": {
          "annotationdefaults": {
           "arrowcolor": "#2a3f5f",
           "arrowhead": 0,
           "arrowwidth": 1
          },
          "autotypenumbers": "strict",
          "coloraxis": {
           "colorbar": {
            "outlinewidth": 0,
            "ticks": ""
           }
          },
          "colorscale": {
           "diverging": [
            [
             0,
             "#8e0152"
            ],
            [
             0.1,
             "#c51b7d"
            ],
            [
             0.2,
             "#de77ae"
            ],
            [
             0.3,
             "#f1b6da"
            ],
            [
             0.4,
             "#fde0ef"
            ],
            [
             0.5,
             "#f7f7f7"
            ],
            [
             0.6,
             "#e6f5d0"
            ],
            [
             0.7,
             "#b8e186"
            ],
            [
             0.8,
             "#7fbc41"
            ],
            [
             0.9,
             "#4d9221"
            ],
            [
             1,
             "#276419"
            ]
           ],
           "sequential": [
            [
             0,
             "#0d0887"
            ],
            [
             0.1111111111111111,
             "#46039f"
            ],
            [
             0.2222222222222222,
             "#7201a8"
            ],
            [
             0.3333333333333333,
             "#9c179e"
            ],
            [
             0.4444444444444444,
             "#bd3786"
            ],
            [
             0.5555555555555556,
             "#d8576b"
            ],
            [
             0.6666666666666666,
             "#ed7953"
            ],
            [
             0.7777777777777778,
             "#fb9f3a"
            ],
            [
             0.8888888888888888,
             "#fdca26"
            ],
            [
             1,
             "#f0f921"
            ]
           ],
           "sequentialminus": [
            [
             0,
             "#0d0887"
            ],
            [
             0.1111111111111111,
             "#46039f"
            ],
            [
             0.2222222222222222,
             "#7201a8"
            ],
            [
             0.3333333333333333,
             "#9c179e"
            ],
            [
             0.4444444444444444,
             "#bd3786"
            ],
            [
             0.5555555555555556,
             "#d8576b"
            ],
            [
             0.6666666666666666,
             "#ed7953"
            ],
            [
             0.7777777777777778,
             "#fb9f3a"
            ],
            [
             0.8888888888888888,
             "#fdca26"
            ],
            [
             1,
             "#f0f921"
            ]
           ]
          },
          "colorway": [
           "#636efa",
           "#EF553B",
           "#00cc96",
           "#ab63fa",
           "#FFA15A",
           "#19d3f3",
           "#FF6692",
           "#B6E880",
           "#FF97FF",
           "#FECB52"
          ],
          "font": {
           "color": "#2a3f5f"
          },
          "geo": {
           "bgcolor": "white",
           "lakecolor": "white",
           "landcolor": "white",
           "showlakes": true,
           "showland": true,
           "subunitcolor": "#C8D4E3"
          },
          "hoverlabel": {
           "align": "left"
          },
          "hovermode": "closest",
          "mapbox": {
           "style": "light"
          },
          "paper_bgcolor": "white",
          "plot_bgcolor": "white",
          "polar": {
           "angularaxis": {
            "gridcolor": "#EBF0F8",
            "linecolor": "#EBF0F8",
            "ticks": ""
           },
           "bgcolor": "white",
           "radialaxis": {
            "gridcolor": "#EBF0F8",
            "linecolor": "#EBF0F8",
            "ticks": ""
           }
          },
          "scene": {
           "xaxis": {
            "backgroundcolor": "white",
            "gridcolor": "#DFE8F3",
            "gridwidth": 2,
            "linecolor": "#EBF0F8",
            "showbackground": true,
            "ticks": "",
            "zerolinecolor": "#EBF0F8"
           },
           "yaxis": {
            "backgroundcolor": "white",
            "gridcolor": "#DFE8F3",
            "gridwidth": 2,
            "linecolor": "#EBF0F8",
            "showbackground": true,
            "ticks": "",
            "zerolinecolor": "#EBF0F8"
           },
           "zaxis": {
            "backgroundcolor": "white",
            "gridcolor": "#DFE8F3",
            "gridwidth": 2,
            "linecolor": "#EBF0F8",
            "showbackground": true,
            "ticks": "",
            "zerolinecolor": "#EBF0F8"
           }
          },
          "shapedefaults": {
           "line": {
            "color": "#2a3f5f"
           }
          },
          "ternary": {
           "aaxis": {
            "gridcolor": "#DFE8F3",
            "linecolor": "#A2B1C6",
            "ticks": ""
           },
           "baxis": {
            "gridcolor": "#DFE8F3",
            "linecolor": "#A2B1C6",
            "ticks": ""
           },
           "bgcolor": "white",
           "caxis": {
            "gridcolor": "#DFE8F3",
            "linecolor": "#A2B1C6",
            "ticks": ""
           }
          },
          "title": {
           "x": 0.05
          },
          "xaxis": {
           "automargin": true,
           "gridcolor": "#EBF0F8",
           "linecolor": "#EBF0F8",
           "ticks": "",
           "title": {
            "standoff": 15
           },
           "zerolinecolor": "#EBF0F8",
           "zerolinewidth": 2
          },
          "yaxis": {
           "automargin": true,
           "gridcolor": "#EBF0F8",
           "linecolor": "#EBF0F8",
           "ticks": "",
           "title": {
            "standoff": 15
           },
           "zerolinecolor": "#EBF0F8",
           "zerolinewidth": 2
          }
         }
        },
        "title": {
         "text": "dqfim_trace_eigenvalues vs dqfim_var_all_eigenvalues colored by error"
        },
        "width": 1000,
        "xaxis": {
         "anchor": "y",
         "domain": [
          0,
          1
         ],
         "gridcolor": "lightgray",
         "gridwidth": 1,
         "showgrid": true,
         "ticklabelstandoff": 10,
         "title": {
          "text": "dqfim_trace_eigenvalues"
         }
        },
        "yaxis": {
         "anchor": "x",
         "domain": [
          0,
          1
         ],
         "gridcolor": "lightgray",
         "gridwidth": 1,
         "showgrid": true,
         "ticklabelstandoff": 10,
         "title": {
          "text": "dqfim_var_all_eigenvalues"
         }
        }
       }
      }
     },
     "metadata": {},
     "output_type": "display_data"
    }
   ],
   "source": [
    "\n",
    "fig = plot_two_metrics_with_color(\n",
    "    df_final,\n",
    "    x_qfim_type=None,\n",
    "   \n",
    "    x_metric=\"dqfim_trace_eigenvalues\",\n",
    "    y_qfim_type=None,\n",
    "    y_metric=\"error\",\n",
    "    # color_metric=\"target_abbas_deff_norm\",\n",
    "    color_metric=\"dqfim_var_all_eigenvalues\",\n",
    "    add_trendline=True,\n",
    "gamma=1.2,\n",
    "    cmap_name=\"plasma\",\n",
    "    # log_x=True,\n",
    "    # log_y=True,\n",
    ")\n",
    "fig.show() \n",
    "\n",
    "fig = plot_two_metrics_with_color(\n",
    "    df_final,\n",
    "    x_qfim_type=None,\n",
    "   \n",
    "    x_metric=\"dqfim_trace_eigenvalues\",\n",
    "    y_qfim_type=None,\n",
    "    y_metric=\"error\",\n",
    "    # color_metric=\"target_abbas_deff_norm\",\n",
    "    color_metric=\"dqfim_abbas_deff_raw\",\n",
    "    add_trendline=True,\n",
    "gamma=1.2,\n",
    "    cmap_name=\"plasma\",\n",
    "    # log_x=True,\n",
    "    # log_y=True,\n",
    ")\n",
    "fig.show() \n",
    "\n",
    "fig = plot_two_metrics_with_color(\n",
    "    df_final,\n",
    "    x_qfim_type=None,\n",
    "   \n",
    "    x_metric=\"dqfim_var_nonzero_eigenvalues\",\n",
    "    y_qfim_type=None,\n",
    "    y_metric=\"error\",\n",
    "    # color_metric=\"target_abbas_deff_norm\",\n",
    "    color_metric=\"dqfim_abbas_deff_raw\",\n",
    "    add_trendline=True,\n",
    "gamma=1.2,\n",
    "    cmap_name=\"plasma\",\n",
    "    log_x=True,\n",
    "    # log_y=True,\n",
    ")\n",
    "fig.show() \n",
    "\n",
    "\n",
    "fig = plot_two_metrics_with_color(\n",
    "    df_agg_by_test_key,\n",
    "    x_qfim_type=None,\n",
    "   \n",
    "    x_metric=\"dqfim_trace_eigenvalues\",\n",
    "    y_qfim_type=None,\n",
    "    y_metric=\"dqfim_var_all_eigenvalues\",\n",
    "    color_metric=\"error\",\n",
    "    # color_metric=\"dqfim_abbas_deff_raw\",\n",
    "    add_trendline=True,\n",
    "    cmap_name=\"plasma\",\n",
    "    gamma=1.2,\n",
    "    # log_x=True,\n",
    "    # log_y=True,\n",
    ")\n",
    "fig.show() \n"
   ]
  },
  {
   "cell_type": "code",
   "execution_count": 58,
   "metadata": {},
   "outputs": [
    {
     "name": "stdout",
     "output_type": "stream",
     "text": [
      "Color column 'error' minimum value: -6.781865475886515\n",
      "test corresponding to minimum value:\n",
      "37    test150\n",
      "Name: test_key, dtype: object\n",
      "Color column 'error' maximum value: -0.4844408324953334\n",
      "test corresponding to maximum value:\n",
      "19    test131\n",
      "Name: test_key, dtype: object\n",
      "\n",
      "adj_min: -6.781865475886515, adj_max: -0.4844408324953334\n"
     ]
    },
    {
     "data": {
      "application/vnd.plotly.v1+json": {
       "config": {
        "plotlyServerURL": "https://plot.ly"
       },
       "data": [
        {
         "customdata": [
          [
           "test131"
          ],
          [
           "test131"
          ],
          [
           "test131"
          ],
          [
           "test131"
          ],
          [
           "test131"
          ],
          [
           "test131"
          ],
          [
           "test131"
          ],
          [
           "test131"
          ],
          [
           "test131"
          ],
          [
           "test131"
          ],
          [
           "test131"
          ],
          [
           "test131"
          ],
          [
           "test131"
          ],
          [
           "test131"
          ],
          [
           "test131"
          ],
          [
           "test131"
          ],
          [
           "test131"
          ],
          [
           "test131"
          ],
          [
           "test131"
          ],
          [
           "test131"
          ],
          [
           "test150"
          ],
          [
           "test150"
          ],
          [
           "test150"
          ],
          [
           "test150"
          ],
          [
           "test150"
          ],
          [
           "test150"
          ],
          [
           "test150"
          ],
          [
           "test150"
          ],
          [
           "test150"
          ],
          [
           "test150"
          ],
          [
           "test150"
          ],
          [
           "test150"
          ],
          [
           "test150"
          ],
          [
           "test150"
          ],
          [
           "test150"
          ],
          [
           "test150"
          ],
          [
           "test150"
          ],
          [
           "test150"
          ],
          [
           "test150"
          ],
          [
           "test150"
          ],
          [
           "test164"
          ],
          [
           "test164"
          ],
          [
           "test164"
          ],
          [
           "test164"
          ],
          [
           "test164"
          ],
          [
           "test164"
          ],
          [
           "test164"
          ],
          [
           "test164"
          ],
          [
           "test164"
          ],
          [
           "test164"
          ],
          [
           "test164"
          ],
          [
           "test164"
          ],
          [
           "test164"
          ],
          [
           "test164"
          ],
          [
           "test164"
          ],
          [
           "test164"
          ],
          [
           "test164"
          ],
          [
           "test164"
          ],
          [
           "test164"
          ],
          [
           "test164"
          ],
          [
           "test169"
          ],
          [
           "test169"
          ],
          [
           "test169"
          ],
          [
           "test169"
          ],
          [
           "test169"
          ],
          [
           "test169"
          ],
          [
           "test169"
          ],
          [
           "test169"
          ],
          [
           "test169"
          ],
          [
           "test169"
          ],
          [
           "test169"
          ],
          [
           "test169"
          ],
          [
           "test169"
          ],
          [
           "test169"
          ],
          [
           "test169"
          ],
          [
           "test169"
          ],
          [
           "test169"
          ],
          [
           "test169"
          ],
          [
           "test169"
          ],
          [
           "test169"
          ],
          [
           "test286"
          ],
          [
           "test286"
          ],
          [
           "test286"
          ],
          [
           "test286"
          ],
          [
           "test286"
          ],
          [
           "test286"
          ],
          [
           "test286"
          ],
          [
           "test286"
          ],
          [
           "test286"
          ],
          [
           "test286"
          ],
          [
           "test286"
          ],
          [
           "test286"
          ],
          [
           "test286"
          ],
          [
           "test286"
          ],
          [
           "test286"
          ],
          [
           "test286"
          ],
          [
           "test286"
          ],
          [
           "test286"
          ],
          [
           "test286"
          ],
          [
           "test286"
          ],
          [
           "test326"
          ],
          [
           "test326"
          ],
          [
           "test326"
          ],
          [
           "test326"
          ],
          [
           "test326"
          ],
          [
           "test326"
          ],
          [
           "test326"
          ],
          [
           "test326"
          ],
          [
           "test326"
          ],
          [
           "test326"
          ],
          [
           "test326"
          ],
          [
           "test326"
          ],
          [
           "test326"
          ],
          [
           "test326"
          ],
          [
           "test326"
          ],
          [
           "test326"
          ],
          [
           "test326"
          ],
          [
           "test326"
          ],
          [
           "test326"
          ],
          [
           "test326"
          ],
          [
           "test346"
          ],
          [
           "test346"
          ],
          [
           "test346"
          ],
          [
           "test346"
          ],
          [
           "test346"
          ],
          [
           "test346"
          ],
          [
           "test346"
          ],
          [
           "test346"
          ],
          [
           "test346"
          ],
          [
           "test346"
          ],
          [
           "test346"
          ],
          [
           "test346"
          ],
          [
           "test346"
          ],
          [
           "test346"
          ],
          [
           "test346"
          ],
          [
           "test346"
          ],
          [
           "test346"
          ],
          [
           "test346"
          ],
          [
           "test346"
          ],
          [
           "test346"
          ],
          [
           "test43"
          ],
          [
           "test43"
          ],
          [
           "test43"
          ],
          [
           "test43"
          ],
          [
           "test43"
          ],
          [
           "test43"
          ],
          [
           "test43"
          ],
          [
           "test43"
          ],
          [
           "test43"
          ],
          [
           "test43"
          ],
          [
           "test43"
          ],
          [
           "test43"
          ],
          [
           "test43"
          ],
          [
           "test43"
          ],
          [
           "test43"
          ],
          [
           "test43"
          ],
          [
           "test43"
          ],
          [
           "test43"
          ],
          [
           "test43"
          ],
          [
           "test43"
          ],
          [
           "test56"
          ],
          [
           "test56"
          ],
          [
           "test56"
          ],
          [
           "test56"
          ],
          [
           "test56"
          ],
          [
           "test56"
          ],
          [
           "test56"
          ],
          [
           "test56"
          ],
          [
           "test56"
          ],
          [
           "test56"
          ],
          [
           "test56"
          ],
          [
           "test56"
          ],
          [
           "test56"
          ],
          [
           "test56"
          ],
          [
           "test56"
          ],
          [
           "test56"
          ],
          [
           "test56"
          ],
          [
           "test56"
          ],
          [
           "test56"
          ],
          [
           "test56"
          ],
          [
           "test58"
          ],
          [
           "test58"
          ],
          [
           "test58"
          ],
          [
           "test58"
          ],
          [
           "test58"
          ],
          [
           "test58"
          ],
          [
           "test58"
          ],
          [
           "test58"
          ],
          [
           "test58"
          ],
          [
           "test58"
          ],
          [
           "test58"
          ],
          [
           "test58"
          ],
          [
           "test58"
          ],
          [
           "test58"
          ],
          [
           "test58"
          ],
          [
           "test58"
          ],
          [
           "test58"
          ],
          [
           "test58"
          ],
          [
           "test58"
          ],
          [
           "test58"
          ],
          [
           "test64"
          ],
          [
           "test64"
          ],
          [
           "test64"
          ],
          [
           "test64"
          ],
          [
           "test64"
          ],
          [
           "test64"
          ],
          [
           "test64"
          ],
          [
           "test64"
          ],
          [
           "test64"
          ],
          [
           "test64"
          ],
          [
           "test64"
          ],
          [
           "test64"
          ],
          [
           "test64"
          ],
          [
           "test64"
          ],
          [
           "test64"
          ],
          [
           "test64"
          ],
          [
           "test64"
          ],
          [
           "test64"
          ],
          [
           "test64"
          ],
          [
           "test64"
          ]
         ],
         "hovertemplate": "dqfim_trace_normalized_by_rank=%{x}<br>dqfim_var_all_eigenvalues=%{y}<br>test_key=%{customdata[0]}<br>error=%{marker.color}<extra></extra>",
         "legendgroup": "",
         "marker": {
          "color": {
           "bdata": "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",
           "dtype": "f8"
          },
          "coloraxis": "coloraxis",
          "line": {
           "color": "black",
           "width": 0.75
          },
          "size": 12,
          "symbol": "circle"
         },
         "mode": "markers",
         "name": "",
         "orientation": "v",
         "showlegend": false,
         "type": "scatter",
         "x": {
          "bdata": "ACLYPyY+2j+gEfg/pBDbP74Y8T8CB+M/zx7vP5OdzT+0qCBAZEzQP6yQ7D/HYwFA7eLiPxAV/D9VBeE/c274P7RHwj9r0B9AY0IIQP9bAkDirm5A+viIQGIxfkC2EKpAU1plQDaZlkDcS4tALbqAQIBRtECnP5pAYZKCQBM+aUCLcoRAl0dZQFG3mkBKTY1ARkJlQGwqnECZi4BA1faHQHG5SUAkVA5AXPhSQEuVDEA6NDdA8OgvQI1SK0AzFS9ASS44QHEICkBaY0JARsaDQPo3IUCnjE9AVyYwQNa7RUDGfzpAy+9SQBM1SkAtunNAq1rRP0Jgqj+E29k/NbrrP+nRuj9XLsM/603vP90L4j/62hZAbG7fPysz1j9N6tM/pD3VP08o1z/8KOc/hoL4P46V0z/meQhAwZrxP5aH3D9jyppA42CEQG2RmEDJhJdAPuWaQI8SnUBltJ9Aup6AQO2gt0Amm31AxmSVQDM6t0C8YodA14WcQNFDrkAiqrVAQ1OgQFnDiEAWTo1ARV6TQJwiDUCeUvY/ARMQQOccOkDrPRBAPIo5QPb6L0D9txdAlR1KQNP7CkB77RlAXGMpQMsPGEB7xBVADMQgQErONUC0Bx5AczIfQELhG0BAeQ1AejOQQNQagUAk8ptAvA6OQCdLjEAke4lAnJWqQMCTtUDqZJ1AFHyeQK17rEDXs6RAyUGiQMINm0CUiYVAHA+mQL6fs0CiJK1Ai1aSQK3Tu0BVp/s/JvnnP2aTFUBv3RxAspUGQPBqEEAOjgpAvt/qP9spOUATdQNAH9MCQM1tM0DhOhpAlU3yP/NrEEDN+vs/E28PQL7XN0BdIBJAvGQZQGlRbUDs9EpAKZtZQAaPc0A1JE5AE2eEQFpbZUBtG0tAe9OGQAp4aEC31lBA9YBeQHFbXUCBjUlAI2ZiQJM/ekCRkzxAdW2CQC9tc0BdiW9ADcHLPw6W8z+OAxtAy73NP1OM/j/SPwNAhwb1P60hFkAsqw1AZvgSQKrWB0DyuSxAcZE/QFIc+D+TPwJAHh0HQF4bFkCCuCVAs4DuP74XEUCrgRhANVIFQNdvG0B86/g/VSc8QOwqPEAw4QdAsxHYP2OzHkC3URJAprMXQDvcckB8nitAd3geQIHhLUDr0kVAIsgiQNM0WkBnKy1AfgY/QA==",
          "dtype": "f4"
         },
         "xaxis": "x",
         "y": {
          "bdata": "U1HnQDLJ8EAgBx5BgDzMQDLBMkFIN8RA17wOQVet0kAFLEtBzPLBQE1YB0FISi1B6//gQNRkK0GdachAduAZQS6Sq0CaRpBBejFXQUFGKEGIpgBCYBVhQv648EGL9LVCQA0BQp41ekLypmJCBvZBQq7itUKVlYVCqbE9Qjur4kGaI0JCIu3wQQxdcUJOYV1CjnwFQrCZbkJ/LypCBAswQgommEEGBzJB5JPGQQHtE0EBl45Bki9XQRwLbkFmT3NBfViRQRv6BEEDsYhB324cQuaNWUHtwrlBaN1kQUagmUGWwphB3Ba/QZD+uEHakNJBxgIHQWrYxEAhLg1BrmI6QS80xEAm0edAqHYwQWIgFEGuLIZBj1MqQfyG+0DMXsRAeuYBQfws+EC2zAZBI6NDQcRU30CLMkxBefsyQVdPBUGvDYdCULZLQhNCa0JqVIlCOrmDQucjdEJg16lCdzRMQvdktELRixxCAqCLQo6loUIQHDRCOjRrQj1Ey0Jr+sFCKoKMQodYKkLnODpCFSBDQuCCN0GHRhhBqidbQfhHn0FTAytBeGeqQWfxfEH8cU9B1bXVQZLBQkExB0NBuhJfQeKrWkGKTFBB+ipmQV4QlUFJymtBno1tQZK0ZUFgBj5BDl4qQqgiA0IS601CPaElQjbbI0JAqhdCBtKBQlIaiEKUUyZCOld8QltFb0KucXJC8Pt9QtCFOUImAwdCsotoQo4WiEKVb4FCJ08sQh69l0JEY/RAGnjiQI0lMkHUXBlBHCkiQWOWK0HXOfFABIK/QKiVckFuGwdB0cDqQC7UfEGaaTxB+fnuQFnYD0Hwyg1BHPYWQQbXfkE6FhVBWzYtQVSUIUJLPwRC9PkGQkb4K0Kqwt5BsbZaQrrzBELYe9ZByw9FQo7eI0L/AfNB2+7+QXQ0DkI+T9hBbtMHQq93F0KcM7VBJ18zQjqXFkIv8yBCBX+rQBj1CEFzqFRB58OwQJjaBkFIKR1BlVwZQdZTfEFleRVB1glsQRUBUEHaK3NBtPXJQUKF9kDEiBRBeicKQVKoOEEkU2FB2pPNQLQUQ0FBIX9BWJd4QVnyiEG1IBxB59cHQgFLCELX4j1BsSS5QD2JjEHu7I5BNzSNQWTkY0IgvcpBziqZQQhpxEHtRgNCQRmkQWgBLkIBJsxBUsUCQg==",
          "dtype": "f4"
         },
         "yaxis": "y"
        }
       ],
       "layout": {
        "coloraxis": {
         "cmax": -0.4844408324953334,
         "cmin": -6.781865475886515,
         "colorbar": {
          "len": 1.1,
          "thickness": 35,
          "title": {
           "text": "error"
          },
          "x": 1,
          "y": 0.53,
          "yanchor": "middle"
         },
         "colorscale": [
          [
           0,
           "#5e4fa2"
          ],
          [
           0.010101010101010102,
           "#5c51a3"
          ],
          [
           0.020202020202020204,
           "#5b53a4"
          ],
          [
           0.030303030303030304,
           "#5956a5"
          ],
          [
           0.04040404040404041,
           "#555aa7"
          ],
          [
           0.050505050505050504,
           "#525fa9"
          ],
          [
           0.06060606060606061,
           "#5061aa"
          ],
          [
           0.0707070707070707,
           "#4d65ad"
          ],
          [
           0.08080808080808081,
           "#496aaf"
          ],
          [
           0.09090909090909091,
           "#466eb1"
          ],
          [
           0.10101010101010101,
           "#4273b3"
          ],
          [
           0.1111111111111111,
           "#3f77b5"
          ],
          [
           0.12121212121212122,
           "#3b7cb7"
          ],
          [
           0.13131313131313133,
           "#3880b9"
          ],
          [
           0.1414141414141414,
           "#3585bb"
          ],
          [
           0.15151515151515152,
           "#3389bd"
          ],
          [
           0.16161616161616163,
           "#378ebb"
          ],
          [
           0.1717171717171717,
           "#3b92b9"
          ],
          [
           0.18181818181818182,
           "#4199b6"
          ],
          [
           0.1919191919191919,
           "#459eb4"
          ],
          [
           0.20202020202020202,
           "#49a2b2"
          ],
          [
           0.21212121212121213,
           "#4ea7b0"
          ],
          [
           0.2222222222222222,
           "#54aead"
          ],
          [
           0.23232323232323232,
           "#58b2ac"
          ],
          [
           0.24242424242424243,
           "#5cb7aa"
          ],
          [
           0.25252525252525254,
           "#62bda7"
          ],
          [
           0.26262626262626265,
           "#66c2a5"
          ],
          [
           0.2727272727272727,
           "#6bc4a5"
          ],
          [
           0.2828282828282828,
           "#74c7a5"
          ],
          [
           0.29292929292929293,
           "#79c9a5"
          ],
          [
           0.30303030303030304,
           "#81cda5"
          ],
          [
           0.31313131313131315,
           "#86cfa5"
          ],
          [
           0.32323232323232326,
           "#8fd2a4"
          ],
          [
           0.3333333333333333,
           "#94d4a4"
          ],
          [
           0.3434343434343434,
           "#99d6a4"
          ],
          [
           0.35353535353535354,
           "#a2d9a4"
          ],
          [
           0.36363636363636365,
           "#aadca4"
          ],
          [
           0.37373737373737376,
           "#aedea3"
          ],
          [
           0.3838383838383838,
           "#b5e1a2"
          ],
          [
           0.3939393939393939,
           "#bae3a1"
          ],
          [
           0.40404040404040403,
           "#c1e6a0"
          ],
          [
           0.41414141414141414,
           "#c6e89f"
          ],
          [
           0.42424242424242425,
           "#cdeb9d"
          ],
          [
           0.43434343434343436,
           "#d3ed9c"
          ],
          [
           0.4444444444444444,
           "#d8ef9b"
          ],
          [
           0.45454545454545453,
           "#dff299"
          ],
          [
           0.46464646464646464,
           "#e6f598"
          ],
          [
           0.47474747474747475,
           "#e8f69b"
          ],
          [
           0.48484848484848486,
           "#ebf7a0"
          ],
          [
           0.494949494949495,
           "#eef8a4"
          ],
          [
           0.5050505050505051,
           "#f0f9a7"
          ],
          [
           0.5151515151515151,
           "#f3faac"
          ],
          [
           0.5252525252525253,
           "#f6fbb0"
          ],
          [
           0.5353535353535354,
           "#f8fcb4"
          ],
          [
           0.5454545454545454,
           "#fbfdb8"
          ],
          [
           0.5555555555555556,
           "#fefebd"
          ],
          [
           0.5656565656565656,
           "#fffdbc"
          ],
          [
           0.5757575757575758,
           "#fffbb8"
          ],
          [
           0.5858585858585859,
           "#fff7b2"
          ],
          [
           0.5959595959595959,
           "#fff3ac"
          ],
          [
           0.6060606060606061,
           "#fff0a6"
          ],
          [
           0.6161616161616161,
           "#feec9f"
          ],
          [
           0.6262626262626263,
           "#feea9b"
          ],
          [
           0.6363636363636364,
           "#fee695"
          ],
          [
           0.6464646464646465,
           "#fee28f"
          ],
          [
           0.6565656565656566,
           "#fede89"
          ],
          [
           0.6666666666666666,
           "#fed884"
          ],
          [
           0.6767676767676768,
           "#fed27f"
          ],
          [
           0.6868686868686869,
           "#fecc7b"
          ],
          [
           0.696969696969697,
           "#fec877"
          ],
          [
           0.7070707070707071,
           "#fdc372"
          ],
          [
           0.7171717171717171,
           "#fdbd6d"
          ],
          [
           0.7272727272727273,
           "#fdb768"
          ],
          [
           0.7373737373737373,
           "#fdb163"
          ],
          [
           0.7474747474747475,
           "#fcaa5f"
          ],
          [
           0.7575757575757576,
           "#fba35c"
          ],
          [
           0.7676767676767676,
           "#fa9b58"
          ],
          [
           0.7777777777777778,
           "#f99355"
          ],
          [
           0.7878787878787878,
           "#f88c51"
          ],
          [
           0.797979797979798,
           "#f7844e"
          ],
          [
           0.8080808080808081,
           "#f67c4a"
          ],
          [
           0.8181818181818182,
           "#f57547"
          ],
          [
           0.8282828282828283,
           "#f46d43"
          ],
          [
           0.8383838383838383,
           "#f06744"
          ],
          [
           0.8484848484848485,
           "#ed6246"
          ],
          [
           0.8585858585858586,
           "#e95c47"
          ],
          [
           0.8686868686868687,
           "#e55749"
          ],
          [
           0.8787878787878788,
           "#e2514a"
          ],
          [
           0.8888888888888888,
           "#de4c4b"
          ],
          [
           0.898989898989899,
           "#da464d"
          ],
          [
           0.9090909090909091,
           "#d7414e"
          ],
          [
           0.9191919191919192,
           "#d23a4e"
          ],
          [
           0.9292929292929293,
           "#cb334d"
          ],
          [
           0.9393939393939394,
           "#c52c4b"
          ],
          [
           0.9494949494949495,
           "#be254a"
          ],
          [
           0.9595959595959596,
           "#b81e48"
          ],
          [
           0.9696969696969697,
           "#b11747"
          ],
          [
           0.9797979797979798,
           "#ab0f45"
          ],
          [
           0.98989898989899,
           "#a40844"
          ],
          [
           1,
           "#9e0142"
          ]
         ]
        },
        "height": 600,
        "legend": {
         "tracegroupgap": 0
        },
        "shapes": [
         {
          "layer": "below",
          "line": {
           "color": "black",
           "width": 2
          },
          "type": "rect",
          "x0": 0,
          "x1": 1,
          "xref": "paper",
          "y0": 0,
          "y1": 1,
          "yref": "paper"
         }
        ],
        "template": {
         "data": {
          "bar": [
           {
            "error_x": {
             "color": "#2a3f5f"
            },
            "error_y": {
             "color": "#2a3f5f"
            },
            "marker": {
             "line": {
              "color": "white",
              "width": 0.5
             },
             "pattern": {
              "fillmode": "overlay",
              "size": 10,
              "solidity": 0.2
             }
            },
            "type": "bar"
           }
          ],
          "barpolar": [
           {
            "marker": {
             "line": {
              "color": "white",
              "width": 0.5
             },
             "pattern": {
              "fillmode": "overlay",
              "size": 10,
              "solidity": 0.2
             }
            },
            "type": "barpolar"
           }
          ],
          "carpet": [
           {
            "aaxis": {
             "endlinecolor": "#2a3f5f",
             "gridcolor": "#C8D4E3",
             "linecolor": "#C8D4E3",
             "minorgridcolor": "#C8D4E3",
             "startlinecolor": "#2a3f5f"
            },
            "baxis": {
             "endlinecolor": "#2a3f5f",
             "gridcolor": "#C8D4E3",
             "linecolor": "#C8D4E3",
             "minorgridcolor": "#C8D4E3",
             "startlinecolor": "#2a3f5f"
            },
            "type": "carpet"
           }
          ],
          "choropleth": [
           {
            "colorbar": {
             "outlinewidth": 0,
             "ticks": ""
            },
            "type": "choropleth"
           }
          ],
          "contour": [
           {
            "colorbar": {
             "outlinewidth": 0,
             "ticks": ""
            },
            "colorscale": [
             [
              0,
              "#0d0887"
             ],
             [
              0.1111111111111111,
              "#46039f"
             ],
             [
              0.2222222222222222,
              "#7201a8"
             ],
             [
              0.3333333333333333,
              "#9c179e"
             ],
             [
              0.4444444444444444,
              "#bd3786"
             ],
             [
              0.5555555555555556,
              "#d8576b"
             ],
             [
              0.6666666666666666,
              "#ed7953"
             ],
             [
              0.7777777777777778,
              "#fb9f3a"
             ],
             [
              0.8888888888888888,
              "#fdca26"
             ],
             [
              1,
              "#f0f921"
             ]
            ],
            "type": "contour"
           }
          ],
          "contourcarpet": [
           {
            "colorbar": {
             "outlinewidth": 0,
             "ticks": ""
            },
            "type": "contourcarpet"
           }
          ],
          "heatmap": [
           {
            "colorbar": {
             "outlinewidth": 0,
             "ticks": ""
            },
            "colorscale": [
             [
              0,
              "#0d0887"
             ],
             [
              0.1111111111111111,
              "#46039f"
             ],
             [
              0.2222222222222222,
              "#7201a8"
             ],
             [
              0.3333333333333333,
              "#9c179e"
             ],
             [
              0.4444444444444444,
              "#bd3786"
             ],
             [
              0.5555555555555556,
              "#d8576b"
             ],
             [
              0.6666666666666666,
              "#ed7953"
             ],
             [
              0.7777777777777778,
              "#fb9f3a"
             ],
             [
              0.8888888888888888,
              "#fdca26"
             ],
             [
              1,
              "#f0f921"
             ]
            ],
            "type": "heatmap"
           }
          ],
          "histogram": [
           {
            "marker": {
             "pattern": {
              "fillmode": "overlay",
              "size": 10,
              "solidity": 0.2
             }
            },
            "type": "histogram"
           }
          ],
          "histogram2d": [
           {
            "colorbar": {
             "outlinewidth": 0,
             "ticks": ""
            },
            "colorscale": [
             [
              0,
              "#0d0887"
             ],
             [
              0.1111111111111111,
              "#46039f"
             ],
             [
              0.2222222222222222,
              "#7201a8"
             ],
             [
              0.3333333333333333,
              "#9c179e"
             ],
             [
              0.4444444444444444,
              "#bd3786"
             ],
             [
              0.5555555555555556,
              "#d8576b"
             ],
             [
              0.6666666666666666,
              "#ed7953"
             ],
             [
              0.7777777777777778,
              "#fb9f3a"
             ],
             [
              0.8888888888888888,
              "#fdca26"
             ],
             [
              1,
              "#f0f921"
             ]
            ],
            "type": "histogram2d"
           }
          ],
          "histogram2dcontour": [
           {
            "colorbar": {
             "outlinewidth": 0,
             "ticks": ""
            },
            "colorscale": [
             [
              0,
              "#0d0887"
             ],
             [
              0.1111111111111111,
              "#46039f"
             ],
             [
              0.2222222222222222,
              "#7201a8"
             ],
             [
              0.3333333333333333,
              "#9c179e"
             ],
             [
              0.4444444444444444,
              "#bd3786"
             ],
             [
              0.5555555555555556,
              "#d8576b"
             ],
             [
              0.6666666666666666,
              "#ed7953"
             ],
             [
              0.7777777777777778,
              "#fb9f3a"
             ],
             [
              0.8888888888888888,
              "#fdca26"
             ],
             [
              1,
              "#f0f921"
             ]
            ],
            "type": "histogram2dcontour"
           }
          ],
          "mesh3d": [
           {
            "colorbar": {
             "outlinewidth": 0,
             "ticks": ""
            },
            "type": "mesh3d"
           }
          ],
          "parcoords": [
           {
            "line": {
             "colorbar": {
              "outlinewidth": 0,
              "ticks": ""
             }
            },
            "type": "parcoords"
           }
          ],
          "pie": [
           {
            "automargin": true,
            "type": "pie"
           }
          ],
          "scatter": [
           {
            "fillpattern": {
             "fillmode": "overlay",
             "size": 10,
             "solidity": 0.2
            },
            "type": "scatter"
           }
          ],
          "scatter3d": [
           {
            "line": {
             "colorbar": {
              "outlinewidth": 0,
              "ticks": ""
             }
            },
            "marker": {
             "colorbar": {
              "outlinewidth": 0,
              "ticks": ""
             }
            },
            "type": "scatter3d"
           }
          ],
          "scattercarpet": [
           {
            "marker": {
             "colorbar": {
              "outlinewidth": 0,
              "ticks": ""
             }
            },
            "type": "scattercarpet"
           }
          ],
          "scattergeo": [
           {
            "marker": {
             "colorbar": {
              "outlinewidth": 0,
              "ticks": ""
             }
            },
            "type": "scattergeo"
           }
          ],
          "scattergl": [
           {
            "marker": {
             "colorbar": {
              "outlinewidth": 0,
              "ticks": ""
             }
            },
            "type": "scattergl"
           }
          ],
          "scattermap": [
           {
            "marker": {
             "colorbar": {
              "outlinewidth": 0,
              "ticks": ""
             }
            },
            "type": "scattermap"
           }
          ],
          "scattermapbox": [
           {
            "marker": {
             "colorbar": {
              "outlinewidth": 0,
              "ticks": ""
             }
            },
            "type": "scattermapbox"
           }
          ],
          "scatterpolar": [
           {
            "marker": {
             "colorbar": {
              "outlinewidth": 0,
              "ticks": ""
             }
            },
            "type": "scatterpolar"
           }
          ],
          "scatterpolargl": [
           {
            "marker": {
             "colorbar": {
              "outlinewidth": 0,
              "ticks": ""
             }
            },
            "type": "scatterpolargl"
           }
          ],
          "scatterternary": [
           {
            "marker": {
             "colorbar": {
              "outlinewidth": 0,
              "ticks": ""
             }
            },
            "type": "scatterternary"
           }
          ],
          "surface": [
           {
            "colorbar": {
             "outlinewidth": 0,
             "ticks": ""
            },
            "colorscale": [
             [
              0,
              "#0d0887"
             ],
             [
              0.1111111111111111,
              "#46039f"
             ],
             [
              0.2222222222222222,
              "#7201a8"
             ],
             [
              0.3333333333333333,
              "#9c179e"
             ],
             [
              0.4444444444444444,
              "#bd3786"
             ],
             [
              0.5555555555555556,
              "#d8576b"
             ],
             [
              0.6666666666666666,
              "#ed7953"
             ],
             [
              0.7777777777777778,
              "#fb9f3a"
             ],
             [
              0.8888888888888888,
              "#fdca26"
             ],
             [
              1,
              "#f0f921"
             ]
            ],
            "type": "surface"
           }
          ],
          "table": [
           {
            "cells": {
             "fill": {
              "color": "#EBF0F8"
             },
             "line": {
              "color": "white"
             }
            },
            "header": {
             "fill": {
              "color": "#C8D4E3"
             },
             "line": {
              "color": "white"
             }
            },
            "type": "table"
           }
          ]
         },
         "layout": {
          "annotationdefaults": {
           "arrowcolor": "#2a3f5f",
           "arrowhead": 0,
           "arrowwidth": 1
          },
          "autotypenumbers": "strict",
          "coloraxis": {
           "colorbar": {
            "outlinewidth": 0,
            "ticks": ""
           }
          },
          "colorscale": {
           "diverging": [
            [
             0,
             "#8e0152"
            ],
            [
             0.1,
             "#c51b7d"
            ],
            [
             0.2,
             "#de77ae"
            ],
            [
             0.3,
             "#f1b6da"
            ],
            [
             0.4,
             "#fde0ef"
            ],
            [
             0.5,
             "#f7f7f7"
            ],
            [
             0.6,
             "#e6f5d0"
            ],
            [
             0.7,
             "#b8e186"
            ],
            [
             0.8,
             "#7fbc41"
            ],
            [
             0.9,
             "#4d9221"
            ],
            [
             1,
             "#276419"
            ]
           ],
           "sequential": [
            [
             0,
             "#0d0887"
            ],
            [
             0.1111111111111111,
             "#46039f"
            ],
            [
             0.2222222222222222,
             "#7201a8"
            ],
            [
             0.3333333333333333,
             "#9c179e"
            ],
            [
             0.4444444444444444,
             "#bd3786"
            ],
            [
             0.5555555555555556,
             "#d8576b"
            ],
            [
             0.6666666666666666,
             "#ed7953"
            ],
            [
             0.7777777777777778,
             "#fb9f3a"
            ],
            [
             0.8888888888888888,
             "#fdca26"
            ],
            [
             1,
             "#f0f921"
            ]
           ],
           "sequentialminus": [
            [
             0,
             "#0d0887"
            ],
            [
             0.1111111111111111,
             "#46039f"
            ],
            [
             0.2222222222222222,
             "#7201a8"
            ],
            [
             0.3333333333333333,
             "#9c179e"
            ],
            [
             0.4444444444444444,
             "#bd3786"
            ],
            [
             0.5555555555555556,
             "#d8576b"
            ],
            [
             0.6666666666666666,
             "#ed7953"
            ],
            [
             0.7777777777777778,
             "#fb9f3a"
            ],
            [
             0.8888888888888888,
             "#fdca26"
            ],
            [
             1,
             "#f0f921"
            ]
           ]
          },
          "colorway": [
           "#636efa",
           "#EF553B",
           "#00cc96",
           "#ab63fa",
           "#FFA15A",
           "#19d3f3",
           "#FF6692",
           "#B6E880",
           "#FF97FF",
           "#FECB52"
          ],
          "font": {
           "color": "#2a3f5f"
          },
          "geo": {
           "bgcolor": "white",
           "lakecolor": "white",
           "landcolor": "white",
           "showlakes": true,
           "showland": true,
           "subunitcolor": "#C8D4E3"
          },
          "hoverlabel": {
           "align": "left"
          },
          "hovermode": "closest",
          "mapbox": {
           "style": "light"
          },
          "paper_bgcolor": "white",
          "plot_bgcolor": "white",
          "polar": {
           "angularaxis": {
            "gridcolor": "#EBF0F8",
            "linecolor": "#EBF0F8",
            "ticks": ""
           },
           "bgcolor": "white",
           "radialaxis": {
            "gridcolor": "#EBF0F8",
            "linecolor": "#EBF0F8",
            "ticks": ""
           }
          },
          "scene": {
           "xaxis": {
            "backgroundcolor": "white",
            "gridcolor": "#DFE8F3",
            "gridwidth": 2,
            "linecolor": "#EBF0F8",
            "showbackground": true,
            "ticks": "",
            "zerolinecolor": "#EBF0F8"
           },
           "yaxis": {
            "backgroundcolor": "white",
            "gridcolor": "#DFE8F3",
            "gridwidth": 2,
            "linecolor": "#EBF0F8",
            "showbackground": true,
            "ticks": "",
            "zerolinecolor": "#EBF0F8"
           },
           "zaxis": {
            "backgroundcolor": "white",
            "gridcolor": "#DFE8F3",
            "gridwidth": 2,
            "linecolor": "#EBF0F8",
            "showbackground": true,
            "ticks": "",
            "zerolinecolor": "#EBF0F8"
           }
          },
          "shapedefaults": {
           "line": {
            "color": "#2a3f5f"
           }
          },
          "ternary": {
           "aaxis": {
            "gridcolor": "#DFE8F3",
            "linecolor": "#A2B1C6",
            "ticks": ""
           },
           "baxis": {
            "gridcolor": "#DFE8F3",
            "linecolor": "#A2B1C6",
            "ticks": ""
           },
           "bgcolor": "white",
           "caxis": {
            "gridcolor": "#DFE8F3",
            "linecolor": "#A2B1C6",
            "ticks": ""
           }
          },
          "title": {
           "x": 0.05
          },
          "xaxis": {
           "automargin": true,
           "gridcolor": "#EBF0F8",
           "linecolor": "#EBF0F8",
           "ticks": "",
           "title": {
            "standoff": 15
           },
           "zerolinecolor": "#EBF0F8",
           "zerolinewidth": 2
          },
          "yaxis": {
           "automargin": true,
           "gridcolor": "#EBF0F8",
           "linecolor": "#EBF0F8",
           "ticks": "",
           "title": {
            "standoff": 15
           },
           "zerolinecolor": "#EBF0F8",
           "zerolinewidth": 2
          }
         }
        },
        "title": {
         "text": "dqfim_trace_normalized_by_rank vs dqfim_var_all_eigenvalues colored by error"
        },
        "width": 1000,
        "xaxis": {
         "anchor": "y",
         "domain": [
          0,
          1
         ],
         "gridcolor": "lightgray",
         "gridwidth": 1,
         "showgrid": true,
         "ticklabelstandoff": 10,
         "title": {
          "text": "dqfim_trace_normalized_by_rank"
         }
        },
        "yaxis": {
         "anchor": "x",
         "domain": [
          0,
          1
         ],
         "gridcolor": "lightgray",
         "gridwidth": 1,
         "showgrid": true,
         "ticklabelstandoff": 10,
         "title": {
          "text": "dqfim_var_all_eigenvalues"
         }
        }
       }
      }
     },
     "metadata": {},
     "output_type": "display_data"
    }
   ],
   "source": [
    "\n",
    "\n",
    "fig = plot_two_metrics_with_color(\n",
    "    df_final,\n",
    "    x_qfim_type='dqfim',\n",
    "   \n",
    "    x_metric=\"trace_normalized_by_rank\",\n",
    "    y_qfim_type=None,\n",
    "    y_metric=\"dqfim_var_all_eigenvalues\",\n",
    "    color_metric=\"error\",\n",
    "    add_trendline=False,\n",
    "    # cmap_name=\"viridis\",\n",
    "    gamma=1.2,\n",
    "    # log_x=True,\n",
    "    # log_y=True,\n",
    ")\n",
    "fig.show() "
   ]
  },
  {
   "cell_type": "code",
   "execution_count": 16,
   "metadata": {},
   "outputs": [
    {
     "name": "stdout",
     "output_type": "stream",
     "text": [
      "Color column 'error' minimum value: -4.971550399060236\n",
      "test corresponding to minimum value:\n",
      "0    test0\n",
      "Name: test_key, dtype: object\n",
      "Color column 'error' maximum value: -3.092023919708461\n",
      "test corresponding to maximum value:\n",
      "12    test64\n",
      "Name: test_key, dtype: object\n",
      "\n",
      "adj_min: -4.971550399060236, adj_max: -3.092023919708461\n"
     ]
    },
    {
     "data": {
      "application/vnd.plotly.v1+json": {
       "config": {
        "plotlyServerURL": "https://plot.ly"
       },
       "data": [
        {
         "customdata": [
          [
           "test0"
          ],
          [
           "test131"
          ],
          [
           "test150"
          ],
          [
           "test164"
          ],
          [
           "test169"
          ],
          [
           "test248"
          ],
          [
           "test286"
          ],
          [
           "test326"
          ],
          [
           "test346"
          ],
          [
           "test43"
          ],
          [
           "test56"
          ],
          [
           "test58"
          ],
          [
           "test64"
          ]
         ],
         "hovertemplate": "dqfim_trace_normalized_by_rank=%{x}<br>dqfim_var_all_normalized_by_rank=%{y}<br>test_key=%{customdata[0]}<br>error=%{marker.color}<extra></extra>",
         "legendgroup": "",
         "marker": {
          "color": {
           "bdata": "koSZG97iE8AGUGssVMwJwBNHbkNmRBLAu++NKB7QCcBj2+qipOYPwPfWhPItXBHAUk2bh1O5EsAqsZFH9rsLwL1fZheeORLAuNuQYIaBDMAK7jwe3rEQwEjbpiJFIA/A08dsCXe8CMA=",
           "dtype": "f8"
          },
          "coloraxis": "coloraxis",
          "line": {
           "color": "black",
           "width": 0.75
          },
          "size": 12,
          "symbol": "circle"
         },
         "mode": "markers",
         "name": "",
         "orientation": "v",
         "showlegend": false,
         "type": "scatter",
         "x": {
          "bdata": "xXooQOLx8T8WDIlAa108QEhV4D/S7zdA+GiZQJ/EHkBP6J1AuSIQQGaDZEDejQpAP6AmQA==",
          "dtype": "f4"
         },
         "xaxis": "x",
         "y": {
          "bdata": "3t9KP40JHD8Q71hAj0qeP/6nHj8R/og/TpqKQGZ/fD/G2WFAj/MpP2usGkAB7T4/ugbMPw==",
          "dtype": "f4"
         },
         "yaxis": "y"
        }
       ],
       "layout": {
        "coloraxis": {
         "cmax": -3.092023919708461,
         "cmin": -4.971550399060236,
         "colorbar": {
          "len": 1.1,
          "thickness": 35,
          "title": {
           "text": "error"
          },
          "x": 1,
          "y": 0.53,
          "yanchor": "middle"
         },
         "colorscale": [
          [
           0,
           "#f0f921"
          ],
          [
           0.010101010101010102,
           "#f0f724"
          ],
          [
           0.020202020202020204,
           "#f1f525"
          ],
          [
           0.030303030303030304,
           "#f1f426"
          ],
          [
           0.04040404040404041,
           "#f3f027"
          ],
          [
           0.050505050505050504,
           "#f4ed27"
          ],
          [
           0.06060606060606061,
           "#f5eb27"
          ],
          [
           0.0707070707070707,
           "#f6e826"
          ],
          [
           0.08080808080808081,
           "#f7e425"
          ],
          [
           0.09090909090909091,
           "#f8e125"
          ],
          [
           0.10101010101010101,
           "#f9dd25"
          ],
          [
           0.1111111111111111,
           "#fada24"
          ],
          [
           0.12121212121212122,
           "#fbd724"
          ],
          [
           0.13131313131313133,
           "#fbd324"
          ],
          [
           0.1414141414141414,
           "#fcd025"
          ],
          [
           0.15151515151515152,
           "#fccd25"
          ],
          [
           0.16161616161616163,
           "#fdca26"
          ],
          [
           0.1717171717171717,
           "#fdc627"
          ],
          [
           0.18181818181818182,
           "#fdc229"
          ],
          [
           0.1919191919191919,
           "#febe2a"
          ],
          [
           0.20202020202020202,
           "#febb2b"
          ],
          [
           0.21212121212121213,
           "#feb82c"
          ],
          [
           0.2222222222222222,
           "#fdb42f"
          ],
          [
           0.23232323232323232,
           "#fdb130"
          ],
          [
           0.24242424242424243,
           "#fdae32"
          ],
          [
           0.25252525252525254,
           "#fca934"
          ],
          [
           0.26262626262626265,
           "#fca636"
          ],
          [
           0.2727272727272727,
           "#fca338"
          ],
          [
           0.2828282828282828,
           "#fb9f3a"
          ],
          [
           0.29292929292929293,
           "#fa9c3c"
          ],
          [
           0.30303030303030304,
           "#f9983e"
          ],
          [
           0.31313131313131315,
           "#f89540"
          ],
          [
           0.32323232323232326,
           "#f79143"
          ],
          [
           0.3333333333333333,
           "#f68f44"
          ],
          [
           0.3434343434343434,
           "#f58c46"
          ],
          [
           0.35353535353535354,
           "#f48849"
          ],
          [
           0.36363636363636365,
           "#f2844b"
          ],
          [
           0.37373737373737376,
           "#f1814d"
          ],
          [
           0.3838383838383838,
           "#ef7e50"
          ],
          [
           0.3939393939393939,
           "#ee7b51"
          ],
          [
           0.40404040404040403,
           "#ec7754"
          ],
          [
           0.41414141414141414,
           "#eb7556"
          ],
          [
           0.42424242424242425,
           "#e97158"
          ],
          [
           0.43434343434343436,
           "#e76e5b"
          ],
          [
           0.4444444444444444,
           "#e56b5d"
          ],
          [
           0.45454545454545453,
           "#e3685f"
          ],
          [
           0.46464646464646464,
           "#e16462"
          ],
          [
           0.47474747474747475,
           "#df6263"
          ],
          [
           0.48484848484848486,
           "#dd5e66"
          ],
          [
           0.494949494949495,
           "#da5b69"
          ],
          [
           0.5050505050505051,
           "#d9586a"
          ],
          [
           0.5151515151515151,
           "#d6556d"
          ],
          [
           0.5252525252525253,
           "#d45270"
          ],
          [
           0.5353535353535354,
           "#d24f71"
          ],
          [
           0.5454545454545454,
           "#cf4c74"
          ],
          [
           0.5555555555555556,
           "#cc4977"
          ],
          [
           0.5656565656565656,
           "#ca457a"
          ],
          [
           0.5757575757575758,
           "#c8437b"
          ],
          [
           0.5858585858585859,
           "#c5407e"
          ],
          [
           0.5959595959595959,
           "#c23c81"
          ],
          [
           0.6060606060606061,
           "#bf3984"
          ],
          [
           0.6161616161616161,
           "#bc3587"
          ],
          [
           0.6262626262626263,
           "#ba3388"
          ],
          [
           0.6363636363636364,
           "#b6308b"
          ],
          [
           0.6464646464646465,
           "#b32c8e"
          ],
          [
           0.6565656565656566,
           "#b02991"
          ],
          [
           0.6666666666666666,
           "#ac2694"
          ],
          [
           0.6767676767676768,
           "#a82296"
          ],
          [
           0.6868686868686869,
           "#a51f99"
          ],
          [
           0.696969696969697,
           "#a21d9a"
          ],
          [
           0.7070707070707071,
           "#9e199d"
          ],
          [
           0.7171717171717171,
           "#9a169f"
          ],
          [
           0.7272727272727273,
           "#9613a1"
          ],
          [
           0.7373737373737373,
           "#920fa3"
          ],
          [
           0.7474747474747475,
           "#8e0ca4"
          ],
          [
           0.7575757575757576,
           "#8a09a5"
          ],
          [
           0.7676767676767676,
           "#8606a6"
          ],
          [
           0.7777777777777778,
           "#8104a7"
          ],
          [
           0.7878787878787878,
           "#7d03a8"
          ],
          [
           0.797979797979798,
           "#7801a8"
          ],
          [
           0.8080808080808081,
           "#7401a8"
          ],
          [
           0.8181818181818182,
           "#6f00a8"
          ],
          [
           0.8282828282828283,
           "#6a00a8"
          ],
          [
           0.8383838383838383,
           "#6600a7"
          ],
          [
           0.8484848484848485,
           "#6100a7"
          ],
          [
           0.8585858585858586,
           "#5c01a6"
          ],
          [
           0.8686868686868687,
           "#5801a4"
          ],
          [
           0.8787878787878788,
           "#5302a3"
          ],
          [
           0.8888888888888888,
           "#4e02a2"
          ],
          [
           0.898989898989899,
           "#4903a0"
          ],
          [
           0.9090909090909091,
           "#44039e"
          ],
          [
           0.9191919191919192,
           "#3f049c"
          ],
          [
           0.9292929292929293,
           "#3a049a"
          ],
          [
           0.9393939393939394,
           "#350498"
          ],
          [
           0.9494949494949495,
           "#2f0596"
          ],
          [
           0.9595959595959596,
           "#2a0593"
          ],
          [
           0.9696969696969697,
           "#240691"
          ],
          [
           0.9797979797979798,
           "#1d068e"
          ],
          [
           0.98989898989899,
           "#16078a"
          ],
          [
           1,
           "#0d0887"
          ]
         ]
        },
        "height": 600,
        "legend": {
         "tracegroupgap": 0
        },
        "shapes": [
         {
          "layer": "below",
          "line": {
           "color": "black",
           "width": 2
          },
          "type": "rect",
          "x0": 0,
          "x1": 1,
          "xref": "paper",
          "y0": 0,
          "y1": 1,
          "yref": "paper"
         }
        ],
        "template": {
         "data": {
          "bar": [
           {
            "error_x": {
             "color": "#2a3f5f"
            },
            "error_y": {
             "color": "#2a3f5f"
            },
            "marker": {
             "line": {
              "color": "white",
              "width": 0.5
             },
             "pattern": {
              "fillmode": "overlay",
              "size": 10,
              "solidity": 0.2
             }
            },
            "type": "bar"
           }
          ],
          "barpolar": [
           {
            "marker": {
             "line": {
              "color": "white",
              "width": 0.5
             },
             "pattern": {
              "fillmode": "overlay",
              "size": 10,
              "solidity": 0.2
             }
            },
            "type": "barpolar"
           }
          ],
          "carpet": [
           {
            "aaxis": {
             "endlinecolor": "#2a3f5f",
             "gridcolor": "#C8D4E3",
             "linecolor": "#C8D4E3",
             "minorgridcolor": "#C8D4E3",
             "startlinecolor": "#2a3f5f"
            },
            "baxis": {
             "endlinecolor": "#2a3f5f",
             "gridcolor": "#C8D4E3",
             "linecolor": "#C8D4E3",
             "minorgridcolor": "#C8D4E3",
             "startlinecolor": "#2a3f5f"
            },
            "type": "carpet"
           }
          ],
          "choropleth": [
           {
            "colorbar": {
             "outlinewidth": 0,
             "ticks": ""
            },
            "type": "choropleth"
           }
          ],
          "contour": [
           {
            "colorbar": {
             "outlinewidth": 0,
             "ticks": ""
            },
            "colorscale": [
             [
              0,
              "#0d0887"
             ],
             [
              0.1111111111111111,
              "#46039f"
             ],
             [
              0.2222222222222222,
              "#7201a8"
             ],
             [
              0.3333333333333333,
              "#9c179e"
             ],
             [
              0.4444444444444444,
              "#bd3786"
             ],
             [
              0.5555555555555556,
              "#d8576b"
             ],
             [
              0.6666666666666666,
              "#ed7953"
             ],
             [
              0.7777777777777778,
              "#fb9f3a"
             ],
             [
              0.8888888888888888,
              "#fdca26"
             ],
             [
              1,
              "#f0f921"
             ]
            ],
            "type": "contour"
           }
          ],
          "contourcarpet": [
           {
            "colorbar": {
             "outlinewidth": 0,
             "ticks": ""
            },
            "type": "contourcarpet"
           }
          ],
          "heatmap": [
           {
            "colorbar": {
             "outlinewidth": 0,
             "ticks": ""
            },
            "colorscale": [
             [
              0,
              "#0d0887"
             ],
             [
              0.1111111111111111,
              "#46039f"
             ],
             [
              0.2222222222222222,
              "#7201a8"
             ],
             [
              0.3333333333333333,
              "#9c179e"
             ],
             [
              0.4444444444444444,
              "#bd3786"
             ],
             [
              0.5555555555555556,
              "#d8576b"
             ],
             [
              0.6666666666666666,
              "#ed7953"
             ],
             [
              0.7777777777777778,
              "#fb9f3a"
             ],
             [
              0.8888888888888888,
              "#fdca26"
             ],
             [
              1,
              "#f0f921"
             ]
            ],
            "type": "heatmap"
           }
          ],
          "histogram": [
           {
            "marker": {
             "pattern": {
              "fillmode": "overlay",
              "size": 10,
              "solidity": 0.2
             }
            },
            "type": "histogram"
           }
          ],
          "histogram2d": [
           {
            "colorbar": {
             "outlinewidth": 0,
             "ticks": ""
            },
            "colorscale": [
             [
              0,
              "#0d0887"
             ],
             [
              0.1111111111111111,
              "#46039f"
             ],
             [
              0.2222222222222222,
              "#7201a8"
             ],
             [
              0.3333333333333333,
              "#9c179e"
             ],
             [
              0.4444444444444444,
              "#bd3786"
             ],
             [
              0.5555555555555556,
              "#d8576b"
             ],
             [
              0.6666666666666666,
              "#ed7953"
             ],
             [
              0.7777777777777778,
              "#fb9f3a"
             ],
             [
              0.8888888888888888,
              "#fdca26"
             ],
             [
              1,
              "#f0f921"
             ]
            ],
            "type": "histogram2d"
           }
          ],
          "histogram2dcontour": [
           {
            "colorbar": {
             "outlinewidth": 0,
             "ticks": ""
            },
            "colorscale": [
             [
              0,
              "#0d0887"
             ],
             [
              0.1111111111111111,
              "#46039f"
             ],
             [
              0.2222222222222222,
              "#7201a8"
             ],
             [
              0.3333333333333333,
              "#9c179e"
             ],
             [
              0.4444444444444444,
              "#bd3786"
             ],
             [
              0.5555555555555556,
              "#d8576b"
             ],
             [
              0.6666666666666666,
              "#ed7953"
             ],
             [
              0.7777777777777778,
              "#fb9f3a"
             ],
             [
              0.8888888888888888,
              "#fdca26"
             ],
             [
              1,
              "#f0f921"
             ]
            ],
            "type": "histogram2dcontour"
           }
          ],
          "mesh3d": [
           {
            "colorbar": {
             "outlinewidth": 0,
             "ticks": ""
            },
            "type": "mesh3d"
           }
          ],
          "parcoords": [
           {
            "line": {
             "colorbar": {
              "outlinewidth": 0,
              "ticks": ""
             }
            },
            "type": "parcoords"
           }
          ],
          "pie": [
           {
            "automargin": true,
            "type": "pie"
           }
          ],
          "scatter": [
           {
            "fillpattern": {
             "fillmode": "overlay",
             "size": 10,
             "solidity": 0.2
            },
            "type": "scatter"
           }
          ],
          "scatter3d": [
           {
            "line": {
             "colorbar": {
              "outlinewidth": 0,
              "ticks": ""
             }
            },
            "marker": {
             "colorbar": {
              "outlinewidth": 0,
              "ticks": ""
             }
            },
            "type": "scatter3d"
           }
          ],
          "scattercarpet": [
           {
            "marker": {
             "colorbar": {
              "outlinewidth": 0,
              "ticks": ""
             }
            },
            "type": "scattercarpet"
           }
          ],
          "scattergeo": [
           {
            "marker": {
             "colorbar": {
              "outlinewidth": 0,
              "ticks": ""
             }
            },
            "type": "scattergeo"
           }
          ],
          "scattergl": [
           {
            "marker": {
             "colorbar": {
              "outlinewidth": 0,
              "ticks": ""
             }
            },
            "type": "scattergl"
           }
          ],
          "scattermap": [
           {
            "marker": {
             "colorbar": {
              "outlinewidth": 0,
              "ticks": ""
             }
            },
            "type": "scattermap"
           }
          ],
          "scattermapbox": [
           {
            "marker": {
             "colorbar": {
              "outlinewidth": 0,
              "ticks": ""
             }
            },
            "type": "scattermapbox"
           }
          ],
          "scatterpolar": [
           {
            "marker": {
             "colorbar": {
              "outlinewidth": 0,
              "ticks": ""
             }
            },
            "type": "scatterpolar"
           }
          ],
          "scatterpolargl": [
           {
            "marker": {
             "colorbar": {
              "outlinewidth": 0,
              "ticks": ""
             }
            },
            "type": "scatterpolargl"
           }
          ],
          "scatterternary": [
           {
            "marker": {
             "colorbar": {
              "outlinewidth": 0,
              "ticks": ""
             }
            },
            "type": "scatterternary"
           }
          ],
          "surface": [
           {
            "colorbar": {
             "outlinewidth": 0,
             "ticks": ""
            },
            "colorscale": [
             [
              0,
              "#0d0887"
             ],
             [
              0.1111111111111111,
              "#46039f"
             ],
             [
              0.2222222222222222,
              "#7201a8"
             ],
             [
              0.3333333333333333,
              "#9c179e"
             ],
             [
              0.4444444444444444,
              "#bd3786"
             ],
             [
              0.5555555555555556,
              "#d8576b"
             ],
             [
              0.6666666666666666,
              "#ed7953"
             ],
             [
              0.7777777777777778,
              "#fb9f3a"
             ],
             [
              0.8888888888888888,
              "#fdca26"
             ],
             [
              1,
              "#f0f921"
             ]
            ],
            "type": "surface"
           }
          ],
          "table": [
           {
            "cells": {
             "fill": {
              "color": "#EBF0F8"
             },
             "line": {
              "color": "white"
             }
            },
            "header": {
             "fill": {
              "color": "#C8D4E3"
             },
             "line": {
              "color": "white"
             }
            },
            "type": "table"
           }
          ]
         },
         "layout": {
          "annotationdefaults": {
           "arrowcolor": "#2a3f5f",
           "arrowhead": 0,
           "arrowwidth": 1
          },
          "autotypenumbers": "strict",
          "coloraxis": {
           "colorbar": {
            "outlinewidth": 0,
            "ticks": ""
           }
          },
          "colorscale": {
           "diverging": [
            [
             0,
             "#8e0152"
            ],
            [
             0.1,
             "#c51b7d"
            ],
            [
             0.2,
             "#de77ae"
            ],
            [
             0.3,
             "#f1b6da"
            ],
            [
             0.4,
             "#fde0ef"
            ],
            [
             0.5,
             "#f7f7f7"
            ],
            [
             0.6,
             "#e6f5d0"
            ],
            [
             0.7,
             "#b8e186"
            ],
            [
             0.8,
             "#7fbc41"
            ],
            [
             0.9,
             "#4d9221"
            ],
            [
             1,
             "#276419"
            ]
           ],
           "sequential": [
            [
             0,
             "#0d0887"
            ],
            [
             0.1111111111111111,
             "#46039f"
            ],
            [
             0.2222222222222222,
             "#7201a8"
            ],
            [
             0.3333333333333333,
             "#9c179e"
            ],
            [
             0.4444444444444444,
             "#bd3786"
            ],
            [
             0.5555555555555556,
             "#d8576b"
            ],
            [
             0.6666666666666666,
             "#ed7953"
            ],
            [
             0.7777777777777778,
             "#fb9f3a"
            ],
            [
             0.8888888888888888,
             "#fdca26"
            ],
            [
             1,
             "#f0f921"
            ]
           ],
           "sequentialminus": [
            [
             0,
             "#0d0887"
            ],
            [
             0.1111111111111111,
             "#46039f"
            ],
            [
             0.2222222222222222,
             "#7201a8"
            ],
            [
             0.3333333333333333,
             "#9c179e"
            ],
            [
             0.4444444444444444,
             "#bd3786"
            ],
            [
             0.5555555555555556,
             "#d8576b"
            ],
            [
             0.6666666666666666,
             "#ed7953"
            ],
            [
             0.7777777777777778,
             "#fb9f3a"
            ],
            [
             0.8888888888888888,
             "#fdca26"
            ],
            [
             1,
             "#f0f921"
            ]
           ]
          },
          "colorway": [
           "#636efa",
           "#EF553B",
           "#00cc96",
           "#ab63fa",
           "#FFA15A",
           "#19d3f3",
           "#FF6692",
           "#B6E880",
           "#FF97FF",
           "#FECB52"
          ],
          "font": {
           "color": "#2a3f5f"
          },
          "geo": {
           "bgcolor": "white",
           "lakecolor": "white",
           "landcolor": "white",
           "showlakes": true,
           "showland": true,
           "subunitcolor": "#C8D4E3"
          },
          "hoverlabel": {
           "align": "left"
          },
          "hovermode": "closest",
          "mapbox": {
           "style": "light"
          },
          "paper_bgcolor": "white",
          "plot_bgcolor": "white",
          "polar": {
           "angularaxis": {
            "gridcolor": "#EBF0F8",
            "linecolor": "#EBF0F8",
            "ticks": ""
           },
           "bgcolor": "white",
           "radialaxis": {
            "gridcolor": "#EBF0F8",
            "linecolor": "#EBF0F8",
            "ticks": ""
           }
          },
          "scene": {
           "xaxis": {
            "backgroundcolor": "white",
            "gridcolor": "#DFE8F3",
            "gridwidth": 2,
            "linecolor": "#EBF0F8",
            "showbackground": true,
            "ticks": "",
            "zerolinecolor": "#EBF0F8"
           },
           "yaxis": {
            "backgroundcolor": "white",
            "gridcolor": "#DFE8F3",
            "gridwidth": 2,
            "linecolor": "#EBF0F8",
            "showbackground": true,
            "ticks": "",
            "zerolinecolor": "#EBF0F8"
           },
           "zaxis": {
            "backgroundcolor": "white",
            "gridcolor": "#DFE8F3",
            "gridwidth": 2,
            "linecolor": "#EBF0F8",
            "showbackground": true,
            "ticks": "",
            "zerolinecolor": "#EBF0F8"
           }
          },
          "shapedefaults": {
           "line": {
            "color": "#2a3f5f"
           }
          },
          "ternary": {
           "aaxis": {
            "gridcolor": "#DFE8F3",
            "linecolor": "#A2B1C6",
            "ticks": ""
           },
           "baxis": {
            "gridcolor": "#DFE8F3",
            "linecolor": "#A2B1C6",
            "ticks": ""
           },
           "bgcolor": "white",
           "caxis": {
            "gridcolor": "#DFE8F3",
            "linecolor": "#A2B1C6",
            "ticks": ""
           }
          },
          "title": {
           "x": 0.05
          },
          "xaxis": {
           "automargin": true,
           "gridcolor": "#EBF0F8",
           "linecolor": "#EBF0F8",
           "ticks": "",
           "title": {
            "standoff": 15
           },
           "zerolinecolor": "#EBF0F8",
           "zerolinewidth": 2
          },
          "yaxis": {
           "automargin": true,
           "gridcolor": "#EBF0F8",
           "linecolor": "#EBF0F8",
           "ticks": "",
           "title": {
            "standoff": 15
           },
           "zerolinecolor": "#EBF0F8",
           "zerolinewidth": 2
          }
         }
        },
        "title": {
         "text": "dqfim_trace_normalized_by_rank vs dqfim_var_all_normalized_by_rank colored by error"
        },
        "width": 1000,
        "xaxis": {
         "anchor": "y",
         "domain": [
          0,
          1
         ],
         "gridcolor": "lightgray",
         "gridwidth": 1,
         "showgrid": true,
         "ticklabelstandoff": 10,
         "title": {
          "text": "dqfim_trace_normalized_by_rank"
         }
        },
        "yaxis": {
         "anchor": "x",
         "domain": [
          0,
          1
         ],
         "gridcolor": "lightgray",
         "gridwidth": 1,
         "showgrid": true,
         "ticklabelstandoff": 10,
         "title": {
          "text": "dqfim_var_all_normalized_by_rank"
         }
        }
       }
      }
     },
     "metadata": {},
     "output_type": "display_data"
    },
    {
     "name": "stdout",
     "output_type": "stream",
     "text": [
      "Color column 'error' minimum value: -4.971550399060236\n",
      "test corresponding to minimum value:\n",
      "0    test0\n",
      "Name: test_key, dtype: object\n",
      "Color column 'error' maximum value: -3.092023919708461\n",
      "test corresponding to maximum value:\n",
      "12    test64\n",
      "Name: test_key, dtype: object\n",
      "\n",
      "adj_min: -4.971550399060236, adj_max: -3.092023919708461\n"
     ]
    },
    {
     "data": {
      "application/vnd.plotly.v1+json": {
       "config": {
        "plotlyServerURL": "https://plot.ly"
       },
       "data": [
        {
         "customdata": [
          [
           "test0"
          ],
          [
           "test131"
          ],
          [
           "test150"
          ],
          [
           "test164"
          ],
          [
           "test169"
          ],
          [
           "test248"
          ],
          [
           "test286"
          ],
          [
           "test326"
          ],
          [
           "test346"
          ],
          [
           "test43"
          ],
          [
           "test56"
          ],
          [
           "test58"
          ],
          [
           "test64"
          ]
         ],
         "hovertemplate": "dqfim_trace_normalized_by_rank=%{x}<br>dqfim_abbas_deff_raw=%{y}<br>test_key=%{customdata[0]}<br>error=%{marker.color}<extra></extra>",
         "legendgroup": "",
         "marker": {
          "color": {
           "bdata": "koSZG97iE8AGUGssVMwJwBNHbkNmRBLAu++NKB7QCcBj2+qipOYPwPfWhPItXBHAUk2bh1O5EsAqsZFH9rsLwL1fZheeORLAuNuQYIaBDMAK7jwe3rEQwEjbpiJFIA/A08dsCXe8CMA=",
           "dtype": "f8"
          },
          "coloraxis": "coloraxis",
          "line": {
           "color": "black",
           "width": 0.75
          },
          "size": 12,
          "symbol": "circle"
         },
         "mode": "markers",
         "name": "",
         "orientation": "v",
         "showlegend": false,
         "type": "scatter",
         "x": {
          "bdata": "xXooQOLx8T8WDIlAa108QEhV4D/S7zdA+GiZQJ/EHkBP6J1AuSIQQGaDZEDejQpAP6AmQA==",
          "dtype": "f4"
         },
         "xaxis": "x",
         "y": {
          "bdata": "zOrFQOLMkEC7DedAYhjFQI9pgkAnUM1AUI30QGIer0DaS/9AwHGwQPYVx0B0gaBAySSiQA==",
          "dtype": "f4"
         },
         "yaxis": "y"
        }
       ],
       "layout": {
        "coloraxis": {
         "cmax": -3.092023919708461,
         "cmin": -4.971550399060236,
         "colorbar": {
          "len": 1.1,
          "thickness": 35,
          "title": {
           "text": "error"
          },
          "x": 1,
          "y": 0.53,
          "yanchor": "middle"
         },
         "colorscale": [
          [
           0,
           "#f0f921"
          ],
          [
           0.010101010101010102,
           "#f0f724"
          ],
          [
           0.020202020202020204,
           "#f1f525"
          ],
          [
           0.030303030303030304,
           "#f1f426"
          ],
          [
           0.04040404040404041,
           "#f3f027"
          ],
          [
           0.050505050505050504,
           "#f4ed27"
          ],
          [
           0.06060606060606061,
           "#f5eb27"
          ],
          [
           0.0707070707070707,
           "#f6e826"
          ],
          [
           0.08080808080808081,
           "#f7e425"
          ],
          [
           0.09090909090909091,
           "#f8e125"
          ],
          [
           0.10101010101010101,
           "#f9dd25"
          ],
          [
           0.1111111111111111,
           "#fada24"
          ],
          [
           0.12121212121212122,
           "#fbd724"
          ],
          [
           0.13131313131313133,
           "#fbd324"
          ],
          [
           0.1414141414141414,
           "#fcd025"
          ],
          [
           0.15151515151515152,
           "#fccd25"
          ],
          [
           0.16161616161616163,
           "#fdca26"
          ],
          [
           0.1717171717171717,
           "#fdc627"
          ],
          [
           0.18181818181818182,
           "#fdc229"
          ],
          [
           0.1919191919191919,
           "#febe2a"
          ],
          [
           0.20202020202020202,
           "#febb2b"
          ],
          [
           0.21212121212121213,
           "#feb82c"
          ],
          [
           0.2222222222222222,
           "#fdb42f"
          ],
          [
           0.23232323232323232,
           "#fdb130"
          ],
          [
           0.24242424242424243,
           "#fdae32"
          ],
          [
           0.25252525252525254,
           "#fca934"
          ],
          [
           0.26262626262626265,
           "#fca636"
          ],
          [
           0.2727272727272727,
           "#fca338"
          ],
          [
           0.2828282828282828,
           "#fb9f3a"
          ],
          [
           0.29292929292929293,
           "#fa9c3c"
          ],
          [
           0.30303030303030304,
           "#f9983e"
          ],
          [
           0.31313131313131315,
           "#f89540"
          ],
          [
           0.32323232323232326,
           "#f79143"
          ],
          [
           0.3333333333333333,
           "#f68f44"
          ],
          [
           0.3434343434343434,
           "#f58c46"
          ],
          [
           0.35353535353535354,
           "#f48849"
          ],
          [
           0.36363636363636365,
           "#f2844b"
          ],
          [
           0.37373737373737376,
           "#f1814d"
          ],
          [
           0.3838383838383838,
           "#ef7e50"
          ],
          [
           0.3939393939393939,
           "#ee7b51"
          ],
          [
           0.40404040404040403,
           "#ec7754"
          ],
          [
           0.41414141414141414,
           "#eb7556"
          ],
          [
           0.42424242424242425,
           "#e97158"
          ],
          [
           0.43434343434343436,
           "#e76e5b"
          ],
          [
           0.4444444444444444,
           "#e56b5d"
          ],
          [
           0.45454545454545453,
           "#e3685f"
          ],
          [
           0.46464646464646464,
           "#e16462"
          ],
          [
           0.47474747474747475,
           "#df6263"
          ],
          [
           0.48484848484848486,
           "#dd5e66"
          ],
          [
           0.494949494949495,
           "#da5b69"
          ],
          [
           0.5050505050505051,
           "#d9586a"
          ],
          [
           0.5151515151515151,
           "#d6556d"
          ],
          [
           0.5252525252525253,
           "#d45270"
          ],
          [
           0.5353535353535354,
           "#d24f71"
          ],
          [
           0.5454545454545454,
           "#cf4c74"
          ],
          [
           0.5555555555555556,
           "#cc4977"
          ],
          [
           0.5656565656565656,
           "#ca457a"
          ],
          [
           0.5757575757575758,
           "#c8437b"
          ],
          [
           0.5858585858585859,
           "#c5407e"
          ],
          [
           0.5959595959595959,
           "#c23c81"
          ],
          [
           0.6060606060606061,
           "#bf3984"
          ],
          [
           0.6161616161616161,
           "#bc3587"
          ],
          [
           0.6262626262626263,
           "#ba3388"
          ],
          [
           0.6363636363636364,
           "#b6308b"
          ],
          [
           0.6464646464646465,
           "#b32c8e"
          ],
          [
           0.6565656565656566,
           "#b02991"
          ],
          [
           0.6666666666666666,
           "#ac2694"
          ],
          [
           0.6767676767676768,
           "#a82296"
          ],
          [
           0.6868686868686869,
           "#a51f99"
          ],
          [
           0.696969696969697,
           "#a21d9a"
          ],
          [
           0.7070707070707071,
           "#9e199d"
          ],
          [
           0.7171717171717171,
           "#9a169f"
          ],
          [
           0.7272727272727273,
           "#9613a1"
          ],
          [
           0.7373737373737373,
           "#920fa3"
          ],
          [
           0.7474747474747475,
           "#8e0ca4"
          ],
          [
           0.7575757575757576,
           "#8a09a5"
          ],
          [
           0.7676767676767676,
           "#8606a6"
          ],
          [
           0.7777777777777778,
           "#8104a7"
          ],
          [
           0.7878787878787878,
           "#7d03a8"
          ],
          [
           0.797979797979798,
           "#7801a8"
          ],
          [
           0.8080808080808081,
           "#7401a8"
          ],
          [
           0.8181818181818182,
           "#6f00a8"
          ],
          [
           0.8282828282828283,
           "#6a00a8"
          ],
          [
           0.8383838383838383,
           "#6600a7"
          ],
          [
           0.8484848484848485,
           "#6100a7"
          ],
          [
           0.8585858585858586,
           "#5c01a6"
          ],
          [
           0.8686868686868687,
           "#5801a4"
          ],
          [
           0.8787878787878788,
           "#5302a3"
          ],
          [
           0.8888888888888888,
           "#4e02a2"
          ],
          [
           0.898989898989899,
           "#4903a0"
          ],
          [
           0.9090909090909091,
           "#44039e"
          ],
          [
           0.9191919191919192,
           "#3f049c"
          ],
          [
           0.9292929292929293,
           "#3a049a"
          ],
          [
           0.9393939393939394,
           "#350498"
          ],
          [
           0.9494949494949495,
           "#2f0596"
          ],
          [
           0.9595959595959596,
           "#2a0593"
          ],
          [
           0.9696969696969697,
           "#240691"
          ],
          [
           0.9797979797979798,
           "#1d068e"
          ],
          [
           0.98989898989899,
           "#16078a"
          ],
          [
           1,
           "#0d0887"
          ]
         ]
        },
        "height": 600,
        "legend": {
         "tracegroupgap": 0
        },
        "shapes": [
         {
          "layer": "below",
          "line": {
           "color": "black",
           "width": 2
          },
          "type": "rect",
          "x0": 0,
          "x1": 1,
          "xref": "paper",
          "y0": 0,
          "y1": 1,
          "yref": "paper"
         }
        ],
        "template": {
         "data": {
          "bar": [
           {
            "error_x": {
             "color": "#2a3f5f"
            },
            "error_y": {
             "color": "#2a3f5f"
            },
            "marker": {
             "line": {
              "color": "white",
              "width": 0.5
             },
             "pattern": {
              "fillmode": "overlay",
              "size": 10,
              "solidity": 0.2
             }
            },
            "type": "bar"
           }
          ],
          "barpolar": [
           {
            "marker": {
             "line": {
              "color": "white",
              "width": 0.5
             },
             "pattern": {
              "fillmode": "overlay",
              "size": 10,
              "solidity": 0.2
             }
            },
            "type": "barpolar"
           }
          ],
          "carpet": [
           {
            "aaxis": {
             "endlinecolor": "#2a3f5f",
             "gridcolor": "#C8D4E3",
             "linecolor": "#C8D4E3",
             "minorgridcolor": "#C8D4E3",
             "startlinecolor": "#2a3f5f"
            },
            "baxis": {
             "endlinecolor": "#2a3f5f",
             "gridcolor": "#C8D4E3",
             "linecolor": "#C8D4E3",
             "minorgridcolor": "#C8D4E3",
             "startlinecolor": "#2a3f5f"
            },
            "type": "carpet"
           }
          ],
          "choropleth": [
           {
            "colorbar": {
             "outlinewidth": 0,
             "ticks": ""
            },
            "type": "choropleth"
           }
          ],
          "contour": [
           {
            "colorbar": {
             "outlinewidth": 0,
             "ticks": ""
            },
            "colorscale": [
             [
              0,
              "#0d0887"
             ],
             [
              0.1111111111111111,
              "#46039f"
             ],
             [
              0.2222222222222222,
              "#7201a8"
             ],
             [
              0.3333333333333333,
              "#9c179e"
             ],
             [
              0.4444444444444444,
              "#bd3786"
             ],
             [
              0.5555555555555556,
              "#d8576b"
             ],
             [
              0.6666666666666666,
              "#ed7953"
             ],
             [
              0.7777777777777778,
              "#fb9f3a"
             ],
             [
              0.8888888888888888,
              "#fdca26"
             ],
             [
              1,
              "#f0f921"
             ]
            ],
            "type": "contour"
           }
          ],
          "contourcarpet": [
           {
            "colorbar": {
             "outlinewidth": 0,
             "ticks": ""
            },
            "type": "contourcarpet"
           }
          ],
          "heatmap": [
           {
            "colorbar": {
             "outlinewidth": 0,
             "ticks": ""
            },
            "colorscale": [
             [
              0,
              "#0d0887"
             ],
             [
              0.1111111111111111,
              "#46039f"
             ],
             [
              0.2222222222222222,
              "#7201a8"
             ],
             [
              0.3333333333333333,
              "#9c179e"
             ],
             [
              0.4444444444444444,
              "#bd3786"
             ],
             [
              0.5555555555555556,
              "#d8576b"
             ],
             [
              0.6666666666666666,
              "#ed7953"
             ],
             [
              0.7777777777777778,
              "#fb9f3a"
             ],
             [
              0.8888888888888888,
              "#fdca26"
             ],
             [
              1,
              "#f0f921"
             ]
            ],
            "type": "heatmap"
           }
          ],
          "histogram": [
           {
            "marker": {
             "pattern": {
              "fillmode": "overlay",
              "size": 10,
              "solidity": 0.2
             }
            },
            "type": "histogram"
           }
          ],
          "histogram2d": [
           {
            "colorbar": {
             "outlinewidth": 0,
             "ticks": ""
            },
            "colorscale": [
             [
              0,
              "#0d0887"
             ],
             [
              0.1111111111111111,
              "#46039f"
             ],
             [
              0.2222222222222222,
              "#7201a8"
             ],
             [
              0.3333333333333333,
              "#9c179e"
             ],
             [
              0.4444444444444444,
              "#bd3786"
             ],
             [
              0.5555555555555556,
              "#d8576b"
             ],
             [
              0.6666666666666666,
              "#ed7953"
             ],
             [
              0.7777777777777778,
              "#fb9f3a"
             ],
             [
              0.8888888888888888,
              "#fdca26"
             ],
             [
              1,
              "#f0f921"
             ]
            ],
            "type": "histogram2d"
           }
          ],
          "histogram2dcontour": [
           {
            "colorbar": {
             "outlinewidth": 0,
             "ticks": ""
            },
            "colorscale": [
             [
              0,
              "#0d0887"
             ],
             [
              0.1111111111111111,
              "#46039f"
             ],
             [
              0.2222222222222222,
              "#7201a8"
             ],
             [
              0.3333333333333333,
              "#9c179e"
             ],
             [
              0.4444444444444444,
              "#bd3786"
             ],
             [
              0.5555555555555556,
              "#d8576b"
             ],
             [
              0.6666666666666666,
              "#ed7953"
             ],
             [
              0.7777777777777778,
              "#fb9f3a"
             ],
             [
              0.8888888888888888,
              "#fdca26"
             ],
             [
              1,
              "#f0f921"
             ]
            ],
            "type": "histogram2dcontour"
           }
          ],
          "mesh3d": [
           {
            "colorbar": {
             "outlinewidth": 0,
             "ticks": ""
            },
            "type": "mesh3d"
           }
          ],
          "parcoords": [
           {
            "line": {
             "colorbar": {
              "outlinewidth": 0,
              "ticks": ""
             }
            },
            "type": "parcoords"
           }
          ],
          "pie": [
           {
            "automargin": true,
            "type": "pie"
           }
          ],
          "scatter": [
           {
            "fillpattern": {
             "fillmode": "overlay",
             "size": 10,
             "solidity": 0.2
            },
            "type": "scatter"
           }
          ],
          "scatter3d": [
           {
            "line": {
             "colorbar": {
              "outlinewidth": 0,
              "ticks": ""
             }
            },
            "marker": {
             "colorbar": {
              "outlinewidth": 0,
              "ticks": ""
             }
            },
            "type": "scatter3d"
           }
          ],
          "scattercarpet": [
           {
            "marker": {
             "colorbar": {
              "outlinewidth": 0,
              "ticks": ""
             }
            },
            "type": "scattercarpet"
           }
          ],
          "scattergeo": [
           {
            "marker": {
             "colorbar": {
              "outlinewidth": 0,
              "ticks": ""
             }
            },
            "type": "scattergeo"
           }
          ],
          "scattergl": [
           {
            "marker": {
             "colorbar": {
              "outlinewidth": 0,
              "ticks": ""
             }
            },
            "type": "scattergl"
           }
          ],
          "scattermap": [
           {
            "marker": {
             "colorbar": {
              "outlinewidth": 0,
              "ticks": ""
             }
            },
            "type": "scattermap"
           }
          ],
          "scattermapbox": [
           {
            "marker": {
             "colorbar": {
              "outlinewidth": 0,
              "ticks": ""
             }
            },
            "type": "scattermapbox"
           }
          ],
          "scatterpolar": [
           {
            "marker": {
             "colorbar": {
              "outlinewidth": 0,
              "ticks": ""
             }
            },
            "type": "scatterpolar"
           }
          ],
          "scatterpolargl": [
           {
            "marker": {
             "colorbar": {
              "outlinewidth": 0,
              "ticks": ""
             }
            },
            "type": "scatterpolargl"
           }
          ],
          "scatterternary": [
           {
            "marker": {
             "colorbar": {
              "outlinewidth": 0,
              "ticks": ""
             }
            },
            "type": "scatterternary"
           }
          ],
          "surface": [
           {
            "colorbar": {
             "outlinewidth": 0,
             "ticks": ""
            },
            "colorscale": [
             [
              0,
              "#0d0887"
             ],
             [
              0.1111111111111111,
              "#46039f"
             ],
             [
              0.2222222222222222,
              "#7201a8"
             ],
             [
              0.3333333333333333,
              "#9c179e"
             ],
             [
              0.4444444444444444,
              "#bd3786"
             ],
             [
              0.5555555555555556,
              "#d8576b"
             ],
             [
              0.6666666666666666,
              "#ed7953"
             ],
             [
              0.7777777777777778,
              "#fb9f3a"
             ],
             [
              0.8888888888888888,
              "#fdca26"
             ],
             [
              1,
              "#f0f921"
             ]
            ],
            "type": "surface"
           }
          ],
          "table": [
           {
            "cells": {
             "fill": {
              "color": "#EBF0F8"
             },
             "line": {
              "color": "white"
             }
            },
            "header": {
             "fill": {
              "color": "#C8D4E3"
             },
             "line": {
              "color": "white"
             }
            },
            "type": "table"
           }
          ]
         },
         "layout": {
          "annotationdefaults": {
           "arrowcolor": "#2a3f5f",
           "arrowhead": 0,
           "arrowwidth": 1
          },
          "autotypenumbers": "strict",
          "coloraxis": {
           "colorbar": {
            "outlinewidth": 0,
            "ticks": ""
           }
          },
          "colorscale": {
           "diverging": [
            [
             0,
             "#8e0152"
            ],
            [
             0.1,
             "#c51b7d"
            ],
            [
             0.2,
             "#de77ae"
            ],
            [
             0.3,
             "#f1b6da"
            ],
            [
             0.4,
             "#fde0ef"
            ],
            [
             0.5,
             "#f7f7f7"
            ],
            [
             0.6,
             "#e6f5d0"
            ],
            [
             0.7,
             "#b8e186"
            ],
            [
             0.8,
             "#7fbc41"
            ],
            [
             0.9,
             "#4d9221"
            ],
            [
             1,
             "#276419"
            ]
           ],
           "sequential": [
            [
             0,
             "#0d0887"
            ],
            [
             0.1111111111111111,
             "#46039f"
            ],
            [
             0.2222222222222222,
             "#7201a8"
            ],
            [
             0.3333333333333333,
             "#9c179e"
            ],
            [
             0.4444444444444444,
             "#bd3786"
            ],
            [
             0.5555555555555556,
             "#d8576b"
            ],
            [
             0.6666666666666666,
             "#ed7953"
            ],
            [
             0.7777777777777778,
             "#fb9f3a"
            ],
            [
             0.8888888888888888,
             "#fdca26"
            ],
            [
             1,
             "#f0f921"
            ]
           ],
           "sequentialminus": [
            [
             0,
             "#0d0887"
            ],
            [
             0.1111111111111111,
             "#46039f"
            ],
            [
             0.2222222222222222,
             "#7201a8"
            ],
            [
             0.3333333333333333,
             "#9c179e"
            ],
            [
             0.4444444444444444,
             "#bd3786"
            ],
            [
             0.5555555555555556,
             "#d8576b"
            ],
            [
             0.6666666666666666,
             "#ed7953"
            ],
            [
             0.7777777777777778,
             "#fb9f3a"
            ],
            [
             0.8888888888888888,
             "#fdca26"
            ],
            [
             1,
             "#f0f921"
            ]
           ]
          },
          "colorway": [
           "#636efa",
           "#EF553B",
           "#00cc96",
           "#ab63fa",
           "#FFA15A",
           "#19d3f3",
           "#FF6692",
           "#B6E880",
           "#FF97FF",
           "#FECB52"
          ],
          "font": {
           "color": "#2a3f5f"
          },
          "geo": {
           "bgcolor": "white",
           "lakecolor": "white",
           "landcolor": "white",
           "showlakes": true,
           "showland": true,
           "subunitcolor": "#C8D4E3"
          },
          "hoverlabel": {
           "align": "left"
          },
          "hovermode": "closest",
          "mapbox": {
           "style": "light"
          },
          "paper_bgcolor": "white",
          "plot_bgcolor": "white",
          "polar": {
           "angularaxis": {
            "gridcolor": "#EBF0F8",
            "linecolor": "#EBF0F8",
            "ticks": ""
           },
           "bgcolor": "white",
           "radialaxis": {
            "gridcolor": "#EBF0F8",
            "linecolor": "#EBF0F8",
            "ticks": ""
           }
          },
          "scene": {
           "xaxis": {
            "backgroundcolor": "white",
            "gridcolor": "#DFE8F3",
            "gridwidth": 2,
            "linecolor": "#EBF0F8",
            "showbackground": true,
            "ticks": "",
            "zerolinecolor": "#EBF0F8"
           },
           "yaxis": {
            "backgroundcolor": "white",
            "gridcolor": "#DFE8F3",
            "gridwidth": 2,
            "linecolor": "#EBF0F8",
            "showbackground": true,
            "ticks": "",
            "zerolinecolor": "#EBF0F8"
           },
           "zaxis": {
            "backgroundcolor": "white",
            "gridcolor": "#DFE8F3",
            "gridwidth": 2,
            "linecolor": "#EBF0F8",
            "showbackground": true,
            "ticks": "",
            "zerolinecolor": "#EBF0F8"
           }
          },
          "shapedefaults": {
           "line": {
            "color": "#2a3f5f"
           }
          },
          "ternary": {
           "aaxis": {
            "gridcolor": "#DFE8F3",
            "linecolor": "#A2B1C6",
            "ticks": ""
           },
           "baxis": {
            "gridcolor": "#DFE8F3",
            "linecolor": "#A2B1C6",
            "ticks": ""
           },
           "bgcolor": "white",
           "caxis": {
            "gridcolor": "#DFE8F3",
            "linecolor": "#A2B1C6",
            "ticks": ""
           }
          },
          "title": {
           "x": 0.05
          },
          "xaxis": {
           "automargin": true,
           "gridcolor": "#EBF0F8",
           "linecolor": "#EBF0F8",
           "ticks": "",
           "title": {
            "standoff": 15
           },
           "zerolinecolor": "#EBF0F8",
           "zerolinewidth": 2
          },
          "yaxis": {
           "automargin": true,
           "gridcolor": "#EBF0F8",
           "linecolor": "#EBF0F8",
           "ticks": "",
           "title": {
            "standoff": 15
           },
           "zerolinecolor": "#EBF0F8",
           "zerolinewidth": 2
          }
         }
        },
        "title": {
         "text": "dqfim_trace_normalized_by_rank vs dqfim_abbas_deff_raw colored by error"
        },
        "width": 1000,
        "xaxis": {
         "anchor": "y",
         "domain": [
          0,
          1
         ],
         "gridcolor": "lightgray",
         "gridwidth": 1,
         "showgrid": true,
         "ticklabelstandoff": 10,
         "title": {
          "text": "dqfim_trace_normalized_by_rank"
         }
        },
        "yaxis": {
         "anchor": "x",
         "domain": [
          0,
          1
         ],
         "gridcolor": "lightgray",
         "gridwidth": 1,
         "showgrid": true,
         "ticklabelstandoff": 10,
         "title": {
          "text": "dqfim_abbas_deff_raw"
         }
        }
       }
      }
     },
     "metadata": {},
     "output_type": "display_data"
    },
    {
     "name": "stdout",
     "output_type": "stream",
     "text": [
      "Color column 'error' minimum value: -4.971550399060236\n",
      "test corresponding to minimum value:\n",
      "0    test0\n",
      "Name: test_key, dtype: object\n",
      "Color column 'error' maximum value: -3.092023919708461\n",
      "test corresponding to maximum value:\n",
      "12    test64\n",
      "Name: test_key, dtype: object\n",
      "\n",
      "adj_min: -4.971550399060236, adj_max: -3.092023919708461\n"
     ]
    },
    {
     "data": {
      "application/vnd.plotly.v1+json": {
       "config": {
        "plotlyServerURL": "https://plot.ly"
       },
       "data": [
        {
         "customdata": [
          [
           "test0"
          ],
          [
           "test131"
          ],
          [
           "test150"
          ],
          [
           "test164"
          ],
          [
           "test169"
          ],
          [
           "test248"
          ],
          [
           "test286"
          ],
          [
           "test326"
          ],
          [
           "test346"
          ],
          [
           "test43"
          ],
          [
           "test56"
          ],
          [
           "test58"
          ],
          [
           "test64"
          ]
         ],
         "hovertemplate": "dqfim_trace_normalized_by_rank=%{x}<br>dqfim_var_all_normalized_by_rank=%{y}<br>test_key=%{customdata[0]}<br>error=%{marker.color}<extra></extra>",
         "legendgroup": "",
         "marker": {
          "color": {
           "bdata": "koSZG97iE8AGUGssVMwJwBNHbkNmRBLAu++NKB7QCcBj2+qipOYPwPfWhPItXBHAUk2bh1O5EsAqsZFH9rsLwL1fZheeORLAuNuQYIaBDMAK7jwe3rEQwEjbpiJFIA/A08dsCXe8CMA=",
           "dtype": "f8"
          },
          "coloraxis": "coloraxis",
          "line": {
           "color": "black",
           "width": 0.75
          },
          "size": 12,
          "symbol": "circle"
         },
         "mode": "markers",
         "name": "",
         "orientation": "v",
         "showlegend": false,
         "type": "scatter",
         "x": {
          "bdata": "xXooQOLx8T8WDIlAa108QEhV4D/S7zdA+GiZQJ/EHkBP6J1AuSIQQGaDZEDejQpAP6AmQA==",
          "dtype": "f4"
         },
         "xaxis": "x",
         "y": {
          "bdata": "3t9KP40JHD8Q71hAj0qeP/6nHj8R/og/TpqKQGZ/fD/G2WFAj/MpP2usGkAB7T4/ugbMPw==",
          "dtype": "f4"
         },
         "yaxis": "y"
        }
       ],
       "layout": {
        "coloraxis": {
         "cmax": -3.092023919708461,
         "cmin": -4.971550399060236,
         "colorbar": {
          "len": 1.1,
          "thickness": 35,
          "title": {
           "text": "error"
          },
          "x": 1,
          "y": 0.53,
          "yanchor": "middle"
         },
         "colorscale": [
          [
           0,
           "#f0f921"
          ],
          [
           0.010101010101010102,
           "#f0f921"
          ],
          [
           0.020202020202020204,
           "#f0f921"
          ],
          [
           0.030303030303030304,
           "#f0f724"
          ],
          [
           0.04040404040404041,
           "#f1f525"
          ],
          [
           0.050505050505050504,
           "#f1f525"
          ],
          [
           0.06060606060606061,
           "#f1f426"
          ],
          [
           0.0707070707070707,
           "#f2f227"
          ],
          [
           0.08080808080808081,
           "#f3f027"
          ],
          [
           0.09090909090909091,
           "#f4ed27"
          ],
          [
           0.10101010101010101,
           "#f5eb27"
          ],
          [
           0.1111111111111111,
           "#f5e926"
          ],
          [
           0.12121212121212122,
           "#f6e826"
          ],
          [
           0.13131313131313133,
           "#f7e425"
          ],
          [
           0.1414141414141414,
           "#f7e225"
          ],
          [
           0.15151515151515152,
           "#f8df25"
          ],
          [
           0.16161616161616163,
           "#f9dd25"
          ],
          [
           0.1717171717171717,
           "#fada24"
          ],
          [
           0.18181818181818182,
           "#fad824"
          ],
          [
           0.1919191919191919,
           "#fbd524"
          ],
          [
           0.20202020202020202,
           "#fcd225"
          ],
          [
           0.21212121212121213,
           "#fcce25"
          ],
          [
           0.2222222222222222,
           "#fccd25"
          ],
          [
           0.23232323232323232,
           "#fdca26"
          ],
          [
           0.24242424242424243,
           "#fdc627"
          ],
          [
           0.25252525252525254,
           "#fdc328"
          ],
          [
           0.26262626262626265,
           "#fec029"
          ],
          [
           0.2727272727272727,
           "#febd2a"
          ],
          [
           0.2828282828282828,
           "#feba2c"
          ],
          [
           0.29292929292929293,
           "#feb72d"
          ],
          [
           0.30303030303030304,
           "#fdb42f"
          ],
          [
           0.31313131313131315,
           "#fdb130"
          ],
          [
           0.32323232323232326,
           "#fdac33"
          ],
          [
           0.3333333333333333,
           "#fca934"
          ],
          [
           0.3434343434343434,
           "#fca636"
          ],
          [
           0.35353535353535354,
           "#fca338"
          ],
          [
           0.36363636363636365,
           "#fb9f3a"
          ],
          [
           0.37373737373737376,
           "#fa9c3c"
          ],
          [
           0.3838383838383838,
           "#f99a3e"
          ],
          [
           0.3939393939393939,
           "#f89540"
          ],
          [
           0.40404040404040403,
           "#f79342"
          ],
          [
           0.41414141414141414,
           "#f68f44"
          ],
          [
           0.42424242424242425,
           "#f58c46"
          ],
          [
           0.43434343434343436,
           "#f48849"
          ],
          [
           0.4444444444444444,
           "#f3854b"
          ],
          [
           0.45454545454545453,
           "#f1814d"
          ],
          [
           0.46464646464646464,
           "#ef7e50"
          ],
          [
           0.47474747474747475,
           "#ee7b51"
          ],
          [
           0.48484848484848486,
           "#ec7754"
          ],
          [
           0.494949494949495,
           "#ea7457"
          ],
          [
           0.5050505050505051,
           "#e97158"
          ],
          [
           0.5151515151515151,
           "#e76e5b"
          ],
          [
           0.5252525252525253,
           "#e56a5d"
          ],
          [
           0.5353535353535354,
           "#e26660"
          ],
          [
           0.5454545454545454,
           "#e06363"
          ],
          [
           0.5555555555555556,
           "#de5f65"
          ],
          [
           0.5656565656565656,
           "#dc5d67"
          ],
          [
           0.5757575757575758,
           "#da5a6a"
          ],
          [
           0.5858585858585859,
           "#d7566c"
          ],
          [
           0.5959595959595959,
           "#d5536f"
          ],
          [
           0.6060606060606061,
           "#d24f71"
          ],
          [
           0.6161616161616161,
           "#cf4c74"
          ],
          [
           0.6262626262626263,
           "#cc4977"
          ],
          [
           0.6363636363636364,
           "#ca457a"
          ],
          [
           0.6464646464646465,
           "#c6417d"
          ],
          [
           0.6565656565656566,
           "#c33d80"
          ],
          [
           0.6666666666666666,
           "#c03a83"
          ],
          [
           0.6767676767676768,
           "#bd3786"
          ],
          [
           0.6868686868686869,
           "#ba3388"
          ],
          [
           0.696969696969697,
           "#b6308b"
          ],
          [
           0.7070707070707071,
           "#b22b8f"
          ],
          [
           0.7171717171717171,
           "#ae2892"
          ],
          [
           0.7272727272727273,
           "#ab2494"
          ],
          [
           0.7373737373737373,
           "#a62098"
          ],
          [
           0.7474747474747475,
           "#a21d9a"
          ],
          [
           0.7575757575757576,
           "#9e199d"
          ],
          [
           0.7676767676767676,
           "#99159f"
          ],
          [
           0.7777777777777778,
           "#9511a1"
          ],
          [
           0.7878787878787878,
           "#8f0da4"
          ],
          [
           0.797979797979798,
           "#8b0aa5"
          ],
          [
           0.8080808080808081,
           "#8707a6"
          ],
          [
           0.8181818181818182,
           "#8104a7"
          ],
          [
           0.8282828282828283,
           "#7d03a8"
          ],
          [
           0.8383838383838383,
           "#7701a8"
          ],
          [
           0.8484848484848485,
           "#7100a8"
          ],
          [
           0.8585858585858586,
           "#6c00a8"
          ],
          [
           0.8686868686868687,
           "#6600a7"
          ],
          [
           0.8787878787878788,
           "#6100a7"
          ],
          [
           0.8888888888888888,
           "#5b01a5"
          ],
          [
           0.898989898989899,
           "#5502a4"
          ],
          [
           0.9090909090909091,
           "#5002a2"
          ],
          [
           0.9191919191919192,
           "#4903a0"
          ],
          [
           0.9292929292929293,
           "#43039e"
          ],
          [
           0.9393939393939394,
           "#3c049b"
          ],
          [
           0.9494949494949495,
           "#370499"
          ],
          [
           0.9595959595959596,
           "#2f0596"
          ],
          [
           0.9696969696969697,
           "#280592"
          ],
          [
           0.9797979797979798,
           "#20068f"
          ],
          [
           0.98989898989899,
           "#16078a"
          ],
          [
           1,
           "#0d0887"
          ]
         ]
        },
        "height": 600,
        "legend": {
         "tracegroupgap": 0
        },
        "shapes": [
         {
          "layer": "below",
          "line": {
           "color": "black",
           "width": 2
          },
          "type": "rect",
          "x0": 0,
          "x1": 1,
          "xref": "paper",
          "y0": 0,
          "y1": 1,
          "yref": "paper"
         }
        ],
        "template": {
         "data": {
          "bar": [
           {
            "error_x": {
             "color": "#2a3f5f"
            },
            "error_y": {
             "color": "#2a3f5f"
            },
            "marker": {
             "line": {
              "color": "white",
              "width": 0.5
             },
             "pattern": {
              "fillmode": "overlay",
              "size": 10,
              "solidity": 0.2
             }
            },
            "type": "bar"
           }
          ],
          "barpolar": [
           {
            "marker": {
             "line": {
              "color": "white",
              "width": 0.5
             },
             "pattern": {
              "fillmode": "overlay",
              "size": 10,
              "solidity": 0.2
             }
            },
            "type": "barpolar"
           }
          ],
          "carpet": [
           {
            "aaxis": {
             "endlinecolor": "#2a3f5f",
             "gridcolor": "#C8D4E3",
             "linecolor": "#C8D4E3",
             "minorgridcolor": "#C8D4E3",
             "startlinecolor": "#2a3f5f"
            },
            "baxis": {
             "endlinecolor": "#2a3f5f",
             "gridcolor": "#C8D4E3",
             "linecolor": "#C8D4E3",
             "minorgridcolor": "#C8D4E3",
             "startlinecolor": "#2a3f5f"
            },
            "type": "carpet"
           }
          ],
          "choropleth": [
           {
            "colorbar": {
             "outlinewidth": 0,
             "ticks": ""
            },
            "type": "choropleth"
           }
          ],
          "contour": [
           {
            "colorbar": {
             "outlinewidth": 0,
             "ticks": ""
            },
            "colorscale": [
             [
              0,
              "#0d0887"
             ],
             [
              0.1111111111111111,
              "#46039f"
             ],
             [
              0.2222222222222222,
              "#7201a8"
             ],
             [
              0.3333333333333333,
              "#9c179e"
             ],
             [
              0.4444444444444444,
              "#bd3786"
             ],
             [
              0.5555555555555556,
              "#d8576b"
             ],
             [
              0.6666666666666666,
              "#ed7953"
             ],
             [
              0.7777777777777778,
              "#fb9f3a"
             ],
             [
              0.8888888888888888,
              "#fdca26"
             ],
             [
              1,
              "#f0f921"
             ]
            ],
            "type": "contour"
           }
          ],
          "contourcarpet": [
           {
            "colorbar": {
             "outlinewidth": 0,
             "ticks": ""
            },
            "type": "contourcarpet"
           }
          ],
          "heatmap": [
           {
            "colorbar": {
             "outlinewidth": 0,
             "ticks": ""
            },
            "colorscale": [
             [
              0,
              "#0d0887"
             ],
             [
              0.1111111111111111,
              "#46039f"
             ],
             [
              0.2222222222222222,
              "#7201a8"
             ],
             [
              0.3333333333333333,
              "#9c179e"
             ],
             [
              0.4444444444444444,
              "#bd3786"
             ],
             [
              0.5555555555555556,
              "#d8576b"
             ],
             [
              0.6666666666666666,
              "#ed7953"
             ],
             [
              0.7777777777777778,
              "#fb9f3a"
             ],
             [
              0.8888888888888888,
              "#fdca26"
             ],
             [
              1,
              "#f0f921"
             ]
            ],
            "type": "heatmap"
           }
          ],
          "histogram": [
           {
            "marker": {
             "pattern": {
              "fillmode": "overlay",
              "size": 10,
              "solidity": 0.2
             }
            },
            "type": "histogram"
           }
          ],
          "histogram2d": [
           {
            "colorbar": {
             "outlinewidth": 0,
             "ticks": ""
            },
            "colorscale": [
             [
              0,
              "#0d0887"
             ],
             [
              0.1111111111111111,
              "#46039f"
             ],
             [
              0.2222222222222222,
              "#7201a8"
             ],
             [
              0.3333333333333333,
              "#9c179e"
             ],
             [
              0.4444444444444444,
              "#bd3786"
             ],
             [
              0.5555555555555556,
              "#d8576b"
             ],
             [
              0.6666666666666666,
              "#ed7953"
             ],
             [
              0.7777777777777778,
              "#fb9f3a"
             ],
             [
              0.8888888888888888,
              "#fdca26"
             ],
             [
              1,
              "#f0f921"
             ]
            ],
            "type": "histogram2d"
           }
          ],
          "histogram2dcontour": [
           {
            "colorbar": {
             "outlinewidth": 0,
             "ticks": ""
            },
            "colorscale": [
             [
              0,
              "#0d0887"
             ],
             [
              0.1111111111111111,
              "#46039f"
             ],
             [
              0.2222222222222222,
              "#7201a8"
             ],
             [
              0.3333333333333333,
              "#9c179e"
             ],
             [
              0.4444444444444444,
              "#bd3786"
             ],
             [
              0.5555555555555556,
              "#d8576b"
             ],
             [
              0.6666666666666666,
              "#ed7953"
             ],
             [
              0.7777777777777778,
              "#fb9f3a"
             ],
             [
              0.8888888888888888,
              "#fdca26"
             ],
             [
              1,
              "#f0f921"
             ]
            ],
            "type": "histogram2dcontour"
           }
          ],
          "mesh3d": [
           {
            "colorbar": {
             "outlinewidth": 0,
             "ticks": ""
            },
            "type": "mesh3d"
           }
          ],
          "parcoords": [
           {
            "line": {
             "colorbar": {
              "outlinewidth": 0,
              "ticks": ""
             }
            },
            "type": "parcoords"
           }
          ],
          "pie": [
           {
            "automargin": true,
            "type": "pie"
           }
          ],
          "scatter": [
           {
            "fillpattern": {
             "fillmode": "overlay",
             "size": 10,
             "solidity": 0.2
            },
            "type": "scatter"
           }
          ],
          "scatter3d": [
           {
            "line": {
             "colorbar": {
              "outlinewidth": 0,
              "ticks": ""
             }
            },
            "marker": {
             "colorbar": {
              "outlinewidth": 0,
              "ticks": ""
             }
            },
            "type": "scatter3d"
           }
          ],
          "scattercarpet": [
           {
            "marker": {
             "colorbar": {
              "outlinewidth": 0,
              "ticks": ""
             }
            },
            "type": "scattercarpet"
           }
          ],
          "scattergeo": [
           {
            "marker": {
             "colorbar": {
              "outlinewidth": 0,
              "ticks": ""
             }
            },
            "type": "scattergeo"
           }
          ],
          "scattergl": [
           {
            "marker": {
             "colorbar": {
              "outlinewidth": 0,
              "ticks": ""
             }
            },
            "type": "scattergl"
           }
          ],
          "scattermap": [
           {
            "marker": {
             "colorbar": {
              "outlinewidth": 0,
              "ticks": ""
             }
            },
            "type": "scattermap"
           }
          ],
          "scattermapbox": [
           {
            "marker": {
             "colorbar": {
              "outlinewidth": 0,
              "ticks": ""
             }
            },
            "type": "scattermapbox"
           }
          ],
          "scatterpolar": [
           {
            "marker": {
             "colorbar": {
              "outlinewidth": 0,
              "ticks": ""
             }
            },
            "type": "scatterpolar"
           }
          ],
          "scatterpolargl": [
           {
            "marker": {
             "colorbar": {
              "outlinewidth": 0,
              "ticks": ""
             }
            },
            "type": "scatterpolargl"
           }
          ],
          "scatterternary": [
           {
            "marker": {
             "colorbar": {
              "outlinewidth": 0,
              "ticks": ""
             }
            },
            "type": "scatterternary"
           }
          ],
          "surface": [
           {
            "colorbar": {
             "outlinewidth": 0,
             "ticks": ""
            },
            "colorscale": [
             [
              0,
              "#0d0887"
             ],
             [
              0.1111111111111111,
              "#46039f"
             ],
             [
              0.2222222222222222,
              "#7201a8"
             ],
             [
              0.3333333333333333,
              "#9c179e"
             ],
             [
              0.4444444444444444,
              "#bd3786"
             ],
             [
              0.5555555555555556,
              "#d8576b"
             ],
             [
              0.6666666666666666,
              "#ed7953"
             ],
             [
              0.7777777777777778,
              "#fb9f3a"
             ],
             [
              0.8888888888888888,
              "#fdca26"
             ],
             [
              1,
              "#f0f921"
             ]
            ],
            "type": "surface"
           }
          ],
          "table": [
           {
            "cells": {
             "fill": {
              "color": "#EBF0F8"
             },
             "line": {
              "color": "white"
             }
            },
            "header": {
             "fill": {
              "color": "#C8D4E3"
             },
             "line": {
              "color": "white"
             }
            },
            "type": "table"
           }
          ]
         },
         "layout": {
          "annotationdefaults": {
           "arrowcolor": "#2a3f5f",
           "arrowhead": 0,
           "arrowwidth": 1
          },
          "autotypenumbers": "strict",
          "coloraxis": {
           "colorbar": {
            "outlinewidth": 0,
            "ticks": ""
           }
          },
          "colorscale": {
           "diverging": [
            [
             0,
             "#8e0152"
            ],
            [
             0.1,
             "#c51b7d"
            ],
            [
             0.2,
             "#de77ae"
            ],
            [
             0.3,
             "#f1b6da"
            ],
            [
             0.4,
             "#fde0ef"
            ],
            [
             0.5,
             "#f7f7f7"
            ],
            [
             0.6,
             "#e6f5d0"
            ],
            [
             0.7,
             "#b8e186"
            ],
            [
             0.8,
             "#7fbc41"
            ],
            [
             0.9,
             "#4d9221"
            ],
            [
             1,
             "#276419"
            ]
           ],
           "sequential": [
            [
             0,
             "#0d0887"
            ],
            [
             0.1111111111111111,
             "#46039f"
            ],
            [
             0.2222222222222222,
             "#7201a8"
            ],
            [
             0.3333333333333333,
             "#9c179e"
            ],
            [
             0.4444444444444444,
             "#bd3786"
            ],
            [
             0.5555555555555556,
             "#d8576b"
            ],
            [
             0.6666666666666666,
             "#ed7953"
            ],
            [
             0.7777777777777778,
             "#fb9f3a"
            ],
            [
             0.8888888888888888,
             "#fdca26"
            ],
            [
             1,
             "#f0f921"
            ]
           ],
           "sequentialminus": [
            [
             0,
             "#0d0887"
            ],
            [
             0.1111111111111111,
             "#46039f"
            ],
            [
             0.2222222222222222,
             "#7201a8"
            ],
            [
             0.3333333333333333,
             "#9c179e"
            ],
            [
             0.4444444444444444,
             "#bd3786"
            ],
            [
             0.5555555555555556,
             "#d8576b"
            ],
            [
             0.6666666666666666,
             "#ed7953"
            ],
            [
             0.7777777777777778,
             "#fb9f3a"
            ],
            [
             0.8888888888888888,
             "#fdca26"
            ],
            [
             1,
             "#f0f921"
            ]
           ]
          },
          "colorway": [
           "#636efa",
           "#EF553B",
           "#00cc96",
           "#ab63fa",
           "#FFA15A",
           "#19d3f3",
           "#FF6692",
           "#B6E880",
           "#FF97FF",
           "#FECB52"
          ],
          "font": {
           "color": "#2a3f5f"
          },
          "geo": {
           "bgcolor": "white",
           "lakecolor": "white",
           "landcolor": "white",
           "showlakes": true,
           "showland": true,
           "subunitcolor": "#C8D4E3"
          },
          "hoverlabel": {
           "align": "left"
          },
          "hovermode": "closest",
          "mapbox": {
           "style": "light"
          },
          "paper_bgcolor": "white",
          "plot_bgcolor": "white",
          "polar": {
           "angularaxis": {
            "gridcolor": "#EBF0F8",
            "linecolor": "#EBF0F8",
            "ticks": ""
           },
           "bgcolor": "white",
           "radialaxis": {
            "gridcolor": "#EBF0F8",
            "linecolor": "#EBF0F8",
            "ticks": ""
           }
          },
          "scene": {
           "xaxis": {
            "backgroundcolor": "white",
            "gridcolor": "#DFE8F3",
            "gridwidth": 2,
            "linecolor": "#EBF0F8",
            "showbackground": true,
            "ticks": "",
            "zerolinecolor": "#EBF0F8"
           },
           "yaxis": {
            "backgroundcolor": "white",
            "gridcolor": "#DFE8F3",
            "gridwidth": 2,
            "linecolor": "#EBF0F8",
            "showbackground": true,
            "ticks": "",
            "zerolinecolor": "#EBF0F8"
           },
           "zaxis": {
            "backgroundcolor": "white",
            "gridcolor": "#DFE8F3",
            "gridwidth": 2,
            "linecolor": "#EBF0F8",
            "showbackground": true,
            "ticks": "",
            "zerolinecolor": "#EBF0F8"
           }
          },
          "shapedefaults": {
           "line": {
            "color": "#2a3f5f"
           }
          },
          "ternary": {
           "aaxis": {
            "gridcolor": "#DFE8F3",
            "linecolor": "#A2B1C6",
            "ticks": ""
           },
           "baxis": {
            "gridcolor": "#DFE8F3",
            "linecolor": "#A2B1C6",
            "ticks": ""
           },
           "bgcolor": "white",
           "caxis": {
            "gridcolor": "#DFE8F3",
            "linecolor": "#A2B1C6",
            "ticks": ""
           }
          },
          "title": {
           "x": 0.05
          },
          "xaxis": {
           "automargin": true,
           "gridcolor": "#EBF0F8",
           "linecolor": "#EBF0F8",
           "ticks": "",
           "title": {
            "standoff": 15
           },
           "zerolinecolor": "#EBF0F8",
           "zerolinewidth": 2
          },
          "yaxis": {
           "automargin": true,
           "gridcolor": "#EBF0F8",
           "linecolor": "#EBF0F8",
           "ticks": "",
           "title": {
            "standoff": 15
           },
           "zerolinecolor": "#EBF0F8",
           "zerolinewidth": 2
          }
         }
        },
        "title": {
         "text": "dqfim_trace_normalized_by_rank vs dqfim_var_all_normalized_by_rank colored by error"
        },
        "width": 1000,
        "xaxis": {
         "anchor": "y",
         "domain": [
          0,
          1
         ],
         "gridcolor": "lightgray",
         "gridwidth": 1,
         "showgrid": true,
         "ticklabelstandoff": 10,
         "title": {
          "text": "dqfim_trace_normalized_by_rank"
         }
        },
        "yaxis": {
         "anchor": "x",
         "domain": [
          0,
          1
         ],
         "gridcolor": "lightgray",
         "gridwidth": 1,
         "showgrid": true,
         "ticklabelstandoff": 10,
         "title": {
          "text": "dqfim_var_all_normalized_by_rank"
         }
        }
       }
      }
     },
     "metadata": {},
     "output_type": "display_data"
    },
    {
     "name": "stdout",
     "output_type": "stream",
     "text": [
      "Color column 'error' minimum value: -4.971550399060236\n",
      "test corresponding to minimum value:\n",
      "0    test0\n",
      "Name: test_key, dtype: object\n",
      "Color column 'error' maximum value: -3.092023919708461\n",
      "test corresponding to maximum value:\n",
      "12    test64\n",
      "Name: test_key, dtype: object\n",
      "\n",
      "adj_min: -4.971550399060236, adj_max: -3.092023919708461\n"
     ]
    },
    {
     "data": {
      "application/vnd.plotly.v1+json": {
       "config": {
        "plotlyServerURL": "https://plot.ly"
       },
       "data": [
        {
         "customdata": [
          [
           "test0"
          ],
          [
           "test131"
          ],
          [
           "test150"
          ],
          [
           "test164"
          ],
          [
           "test169"
          ],
          [
           "test248"
          ],
          [
           "test286"
          ],
          [
           "test326"
          ],
          [
           "test346"
          ],
          [
           "test43"
          ],
          [
           "test56"
          ],
          [
           "test58"
          ],
          [
           "test64"
          ]
         ],
         "hovertemplate": "GHZ_trace_normalized_by_rank=%{x}<br>GHZ_var_all_normalized_by_rank=%{y}<br>test_key=%{customdata[0]}<br>error=%{marker.color}<extra></extra>",
         "legendgroup": "",
         "marker": {
          "color": {
           "bdata": "koSZG97iE8AGUGssVMwJwBNHbkNmRBLAu++NKB7QCcBj2+qipOYPwPfWhPItXBHAUk2bh1O5EsAqsZFH9rsLwL1fZheeORLAuNuQYIaBDMAK7jwe3rEQwEjbpiJFIA/A08dsCXe8CMA=",
           "dtype": "f8"
          },
          "coloraxis": "coloraxis",
          "line": {
           "color": "black",
           "width": 0.75
          },
          "size": 12,
          "symbol": "circle"
         },
         "mode": "markers",
         "name": "",
         "orientation": "v",
         "showlegend": false,
         "type": "scatter",
         "x": {
          "bdata": "kzNPQYYqzECE9K1B89xSQe4KzkAa0qxBwKudQYba70CApLFBXWGHQbEEFUECPZBBi/rOQA==",
          "dtype": "f4"
         },
         "xaxis": "x",
         "y": {
          "bdata": "Fyx9QduwikDL2nlClY2LQQeEw0Cu2mNCzvaSQg3ynECC5YJCUs3nQWIbE0HdXX1CS8OJQA==",
          "dtype": "f4"
         },
         "yaxis": "y"
        }
       ],
       "layout": {
        "coloraxis": {
         "cmax": -3.092023919708461,
         "cmin": -4.971550399060236,
         "colorbar": {
          "len": 1.1,
          "thickness": 35,
          "title": {
           "text": "error"
          },
          "x": 1,
          "y": 0.53,
          "yanchor": "middle"
         },
         "colorscale": [
          [
           0,
           "#fde725"
          ],
          [
           0.010101010101010102,
           "#fde725"
          ],
          [
           0.020202020202020204,
           "#fde725"
          ],
          [
           0.030303030303030304,
           "#fbe723"
          ],
          [
           0.04040404040404041,
           "#f8e621"
          ],
          [
           0.050505050505050504,
           "#f8e621"
          ],
          [
           0.06060606060606061,
           "#f6e620"
          ],
          [
           0.0707070707070707,
           "#f4e61e"
          ],
          [
           0.08080808080808081,
           "#f1e51d"
          ],
          [
           0.09090909090909091,
           "#ece51b"
          ],
          [
           0.10101010101010101,
           "#eae51a"
          ],
          [
           0.1111111111111111,
           "#e7e419"
          ],
          [
           0.12121212121212122,
           "#e5e419"
          ],
          [
           0.13131313131313133,
           "#dfe318"
          ],
          [
           0.1414141414141414,
           "#dde318"
          ],
          [
           0.15151515151515152,
           "#d8e219"
          ],
          [
           0.16161616161616163,
           "#d5e21a"
          ],
          [
           0.1717171717171717,
           "#d0e11c"
          ],
          [
           0.18181818181818182,
           "#cde11d"
          ],
          [
           0.1919191919191919,
           "#c8e020"
          ],
          [
           0.20202020202020202,
           "#c2df23"
          ],
          [
           0.21212121212121213,
           "#bddf26"
          ],
          [
           0.2222222222222222,
           "#bade28"
          ],
          [
           0.23232323232323232,
           "#b5de2b"
          ],
          [
           0.24242424242424243,
           "#b0dd2f"
          ],
          [
           0.25252525252525254,
           "#aadc32"
          ],
          [
           0.26262626262626265,
           "#a5db36"
          ],
          [
           0.2727272727272727,
           "#a0da39"
          ],
          [
           0.2828282828282828,
           "#9bd93c"
          ],
          [
           0.29292929292929293,
           "#95d840"
          ],
          [
           0.30303030303030304,
           "#90d743"
          ],
          [
           0.31313131313131315,
           "#8bd646"
          ],
          [
           0.32323232323232326,
           "#84d44b"
          ],
          [
           0.3333333333333333,
           "#7fd34e"
          ],
          [
           0.3434343434343434,
           "#7ad151"
          ],
          [
           0.35353535353535354,
           "#75d054"
          ],
          [
           0.36363636363636365,
           "#6ece58"
          ],
          [
           0.37373737373737376,
           "#69cd5b"
          ],
          [
           0.3838383838383838,
           "#65cb5e"
          ],
          [
           0.3939393939393939,
           "#5ec962"
          ],
          [
           0.40404040404040403,
           "#5ac864"
          ],
          [
           0.41414141414141414,
           "#54c568"
          ],
          [
           0.42424242424242425,
           "#50c46a"
          ],
          [
           0.43434343434343436,
           "#4ac16d"
          ],
          [
           0.4444444444444444,
           "#46c06f"
          ],
          [
           0.45454545454545453,
           "#40bd72"
          ],
          [
           0.46464646464646464,
           "#3bbb75"
          ],
          [
           0.47474747474747475,
           "#38b977"
          ],
          [
           0.48484848484848486,
           "#34b679"
          ],
          [
           0.494949494949495,
           "#2fb47c"
          ],
          [
           0.5050505050505051,
           "#2db27d"
          ],
          [
           0.5151515151515151,
           "#29af7f"
          ],
          [
           0.5252525252525253,
           "#26ad81"
          ],
          [
           0.5353535353535354,
           "#24aa83"
          ],
          [
           0.5454545454545454,
           "#22a785"
          ],
          [
           0.5555555555555556,
           "#20a486"
          ],
          [
           0.5656565656565656,
           "#1fa287"
          ],
          [
           0.5757575757575758,
           "#1fa088"
          ],
          [
           0.5858585858585859,
           "#1e9d89"
          ],
          [
           0.5959595959595959,
           "#1f9a8a"
          ],
          [
           0.6060606060606061,
           "#1f978b"
          ],
          [
           0.6161616161616161,
           "#1f948c"
          ],
          [
           0.6262626262626263,
           "#20928c"
          ],
          [
           0.6363636363636364,
           "#218f8d"
          ],
          [
           0.6464646464646465,
           "#228b8d"
          ],
          [
           0.6565656565656566,
           "#23888e"
          ],
          [
           0.6666666666666666,
           "#25858e"
          ],
          [
           0.6767676767676768,
           "#26828e"
          ],
          [
           0.6868686868686869,
           "#27808e"
          ],
          [
           0.696969696969697,
           "#287d8e"
          ],
          [
           0.7070707070707071,
           "#29798e"
          ],
          [
           0.7171717171717171,
           "#2a768e"
          ],
          [
           0.7272727272727273,
           "#2c738e"
          ],
          [
           0.7373737373737373,
           "#2d708e"
          ],
          [
           0.7474747474747475,
           "#2e6d8e"
          ],
          [
           0.7575757575757576,
           "#306a8e"
          ],
          [
           0.7676767676767676,
           "#31668e"
          ],
          [
           0.7777777777777778,
           "#33638d"
          ],
          [
           0.7878787878787878,
           "#355f8d"
          ],
          [
           0.797979797979798,
           "#365c8d"
          ],
          [
           0.8080808080808081,
           "#38598c"
          ],
          [
           0.8181818181818182,
           "#3a548c"
          ],
          [
           0.8282828282828283,
           "#3b518b"
          ],
          [
           0.8383838383838383,
           "#3d4d8a"
          ],
          [
           0.8484848484848485,
           "#3f4889"
          ],
          [
           0.8585858585858586,
           "#404588"
          ],
          [
           0.8686868686868687,
           "#424086"
          ],
          [
           0.8787878787878788,
           "#433d84"
          ],
          [
           0.8888888888888888,
           "#453882"
          ],
          [
           0.898989898989899,
           "#46337f"
          ],
          [
           0.9090909090909091,
           "#472f7d"
          ],
          [
           0.9191919191919192,
           "#472a7a"
          ],
          [
           0.9292929292929293,
           "#482576"
          ],
          [
           0.9393939393939394,
           "#482071"
          ],
          [
           0.9494949494949495,
           "#481c6e"
          ],
          [
           0.9595959595959596,
           "#481769"
          ],
          [
           0.9696969696969697,
           "#471164"
          ],
          [
           0.9797979797979798,
           "#460b5e"
          ],
          [
           0.98989898989899,
           "#450559"
          ],
          [
           1,
           "#440154"
          ]
         ]
        },
        "height": 600,
        "legend": {
         "tracegroupgap": 0
        },
        "shapes": [
         {
          "layer": "below",
          "line": {
           "color": "black",
           "width": 2
          },
          "type": "rect",
          "x0": 0,
          "x1": 1,
          "xref": "paper",
          "y0": 0,
          "y1": 1,
          "yref": "paper"
         }
        ],
        "template": {
         "data": {
          "bar": [
           {
            "error_x": {
             "color": "#2a3f5f"
            },
            "error_y": {
             "color": "#2a3f5f"
            },
            "marker": {
             "line": {
              "color": "white",
              "width": 0.5
             },
             "pattern": {
              "fillmode": "overlay",
              "size": 10,
              "solidity": 0.2
             }
            },
            "type": "bar"
           }
          ],
          "barpolar": [
           {
            "marker": {
             "line": {
              "color": "white",
              "width": 0.5
             },
             "pattern": {
              "fillmode": "overlay",
              "size": 10,
              "solidity": 0.2
             }
            },
            "type": "barpolar"
           }
          ],
          "carpet": [
           {
            "aaxis": {
             "endlinecolor": "#2a3f5f",
             "gridcolor": "#C8D4E3",
             "linecolor": "#C8D4E3",
             "minorgridcolor": "#C8D4E3",
             "startlinecolor": "#2a3f5f"
            },
            "baxis": {
             "endlinecolor": "#2a3f5f",
             "gridcolor": "#C8D4E3",
             "linecolor": "#C8D4E3",
             "minorgridcolor": "#C8D4E3",
             "startlinecolor": "#2a3f5f"
            },
            "type": "carpet"
           }
          ],
          "choropleth": [
           {
            "colorbar": {
             "outlinewidth": 0,
             "ticks": ""
            },
            "type": "choropleth"
           }
          ],
          "contour": [
           {
            "colorbar": {
             "outlinewidth": 0,
             "ticks": ""
            },
            "colorscale": [
             [
              0,
              "#0d0887"
             ],
             [
              0.1111111111111111,
              "#46039f"
             ],
             [
              0.2222222222222222,
              "#7201a8"
             ],
             [
              0.3333333333333333,
              "#9c179e"
             ],
             [
              0.4444444444444444,
              "#bd3786"
             ],
             [
              0.5555555555555556,
              "#d8576b"
             ],
             [
              0.6666666666666666,
              "#ed7953"
             ],
             [
              0.7777777777777778,
              "#fb9f3a"
             ],
             [
              0.8888888888888888,
              "#fdca26"
             ],
             [
              1,
              "#f0f921"
             ]
            ],
            "type": "contour"
           }
          ],
          "contourcarpet": [
           {
            "colorbar": {
             "outlinewidth": 0,
             "ticks": ""
            },
            "type": "contourcarpet"
           }
          ],
          "heatmap": [
           {
            "colorbar": {
             "outlinewidth": 0,
             "ticks": ""
            },
            "colorscale": [
             [
              0,
              "#0d0887"
             ],
             [
              0.1111111111111111,
              "#46039f"
             ],
             [
              0.2222222222222222,
              "#7201a8"
             ],
             [
              0.3333333333333333,
              "#9c179e"
             ],
             [
              0.4444444444444444,
              "#bd3786"
             ],
             [
              0.5555555555555556,
              "#d8576b"
             ],
             [
              0.6666666666666666,
              "#ed7953"
             ],
             [
              0.7777777777777778,
              "#fb9f3a"
             ],
             [
              0.8888888888888888,
              "#fdca26"
             ],
             [
              1,
              "#f0f921"
             ]
            ],
            "type": "heatmap"
           }
          ],
          "histogram": [
           {
            "marker": {
             "pattern": {
              "fillmode": "overlay",
              "size": 10,
              "solidity": 0.2
             }
            },
            "type": "histogram"
           }
          ],
          "histogram2d": [
           {
            "colorbar": {
             "outlinewidth": 0,
             "ticks": ""
            },
            "colorscale": [
             [
              0,
              "#0d0887"
             ],
             [
              0.1111111111111111,
              "#46039f"
             ],
             [
              0.2222222222222222,
              "#7201a8"
             ],
             [
              0.3333333333333333,
              "#9c179e"
             ],
             [
              0.4444444444444444,
              "#bd3786"
             ],
             [
              0.5555555555555556,
              "#d8576b"
             ],
             [
              0.6666666666666666,
              "#ed7953"
             ],
             [
              0.7777777777777778,
              "#fb9f3a"
             ],
             [
              0.8888888888888888,
              "#fdca26"
             ],
             [
              1,
              "#f0f921"
             ]
            ],
            "type": "histogram2d"
           }
          ],
          "histogram2dcontour": [
           {
            "colorbar": {
             "outlinewidth": 0,
             "ticks": ""
            },
            "colorscale": [
             [
              0,
              "#0d0887"
             ],
             [
              0.1111111111111111,
              "#46039f"
             ],
             [
              0.2222222222222222,
              "#7201a8"
             ],
             [
              0.3333333333333333,
              "#9c179e"
             ],
             [
              0.4444444444444444,
              "#bd3786"
             ],
             [
              0.5555555555555556,
              "#d8576b"
             ],
             [
              0.6666666666666666,
              "#ed7953"
             ],
             [
              0.7777777777777778,
              "#fb9f3a"
             ],
             [
              0.8888888888888888,
              "#fdca26"
             ],
             [
              1,
              "#f0f921"
             ]
            ],
            "type": "histogram2dcontour"
           }
          ],
          "mesh3d": [
           {
            "colorbar": {
             "outlinewidth": 0,
             "ticks": ""
            },
            "type": "mesh3d"
           }
          ],
          "parcoords": [
           {
            "line": {
             "colorbar": {
              "outlinewidth": 0,
              "ticks": ""
             }
            },
            "type": "parcoords"
           }
          ],
          "pie": [
           {
            "automargin": true,
            "type": "pie"
           }
          ],
          "scatter": [
           {
            "fillpattern": {
             "fillmode": "overlay",
             "size": 10,
             "solidity": 0.2
            },
            "type": "scatter"
           }
          ],
          "scatter3d": [
           {
            "line": {
             "colorbar": {
              "outlinewidth": 0,
              "ticks": ""
             }
            },
            "marker": {
             "colorbar": {
              "outlinewidth": 0,
              "ticks": ""
             }
            },
            "type": "scatter3d"
           }
          ],
          "scattercarpet": [
           {
            "marker": {
             "colorbar": {
              "outlinewidth": 0,
              "ticks": ""
             }
            },
            "type": "scattercarpet"
           }
          ],
          "scattergeo": [
           {
            "marker": {
             "colorbar": {
              "outlinewidth": 0,
              "ticks": ""
             }
            },
            "type": "scattergeo"
           }
          ],
          "scattergl": [
           {
            "marker": {
             "colorbar": {
              "outlinewidth": 0,
              "ticks": ""
             }
            },
            "type": "scattergl"
           }
          ],
          "scattermap": [
           {
            "marker": {
             "colorbar": {
              "outlinewidth": 0,
              "ticks": ""
             }
            },
            "type": "scattermap"
           }
          ],
          "scattermapbox": [
           {
            "marker": {
             "colorbar": {
              "outlinewidth": 0,
              "ticks": ""
             }
            },
            "type": "scattermapbox"
           }
          ],
          "scatterpolar": [
           {
            "marker": {
             "colorbar": {
              "outlinewidth": 0,
              "ticks": ""
             }
            },
            "type": "scatterpolar"
           }
          ],
          "scatterpolargl": [
           {
            "marker": {
             "colorbar": {
              "outlinewidth": 0,
              "ticks": ""
             }
            },
            "type": "scatterpolargl"
           }
          ],
          "scatterternary": [
           {
            "marker": {
             "colorbar": {
              "outlinewidth": 0,
              "ticks": ""
             }
            },
            "type": "scatterternary"
           }
          ],
          "surface": [
           {
            "colorbar": {
             "outlinewidth": 0,
             "ticks": ""
            },
            "colorscale": [
             [
              0,
              "#0d0887"
             ],
             [
              0.1111111111111111,
              "#46039f"
             ],
             [
              0.2222222222222222,
              "#7201a8"
             ],
             [
              0.3333333333333333,
              "#9c179e"
             ],
             [
              0.4444444444444444,
              "#bd3786"
             ],
             [
              0.5555555555555556,
              "#d8576b"
             ],
             [
              0.6666666666666666,
              "#ed7953"
             ],
             [
              0.7777777777777778,
              "#fb9f3a"
             ],
             [
              0.8888888888888888,
              "#fdca26"
             ],
             [
              1,
              "#f0f921"
             ]
            ],
            "type": "surface"
           }
          ],
          "table": [
           {
            "cells": {
             "fill": {
              "color": "#EBF0F8"
             },
             "line": {
              "color": "white"
             }
            },
            "header": {
             "fill": {
              "color": "#C8D4E3"
             },
             "line": {
              "color": "white"
             }
            },
            "type": "table"
           }
          ]
         },
         "layout": {
          "annotationdefaults": {
           "arrowcolor": "#2a3f5f",
           "arrowhead": 0,
           "arrowwidth": 1
          },
          "autotypenumbers": "strict",
          "coloraxis": {
           "colorbar": {
            "outlinewidth": 0,
            "ticks": ""
           }
          },
          "colorscale": {
           "diverging": [
            [
             0,
             "#8e0152"
            ],
            [
             0.1,
             "#c51b7d"
            ],
            [
             0.2,
             "#de77ae"
            ],
            [
             0.3,
             "#f1b6da"
            ],
            [
             0.4,
             "#fde0ef"
            ],
            [
             0.5,
             "#f7f7f7"
            ],
            [
             0.6,
             "#e6f5d0"
            ],
            [
             0.7,
             "#b8e186"
            ],
            [
             0.8,
             "#7fbc41"
            ],
            [
             0.9,
             "#4d9221"
            ],
            [
             1,
             "#276419"
            ]
           ],
           "sequential": [
            [
             0,
             "#0d0887"
            ],
            [
             0.1111111111111111,
             "#46039f"
            ],
            [
             0.2222222222222222,
             "#7201a8"
            ],
            [
             0.3333333333333333,
             "#9c179e"
            ],
            [
             0.4444444444444444,
             "#bd3786"
            ],
            [
             0.5555555555555556,
             "#d8576b"
            ],
            [
             0.6666666666666666,
             "#ed7953"
            ],
            [
             0.7777777777777778,
             "#fb9f3a"
            ],
            [
             0.8888888888888888,
             "#fdca26"
            ],
            [
             1,
             "#f0f921"
            ]
           ],
           "sequentialminus": [
            [
             0,
             "#0d0887"
            ],
            [
             0.1111111111111111,
             "#46039f"
            ],
            [
             0.2222222222222222,
             "#7201a8"
            ],
            [
             0.3333333333333333,
             "#9c179e"
            ],
            [
             0.4444444444444444,
             "#bd3786"
            ],
            [
             0.5555555555555556,
             "#d8576b"
            ],
            [
             0.6666666666666666,
             "#ed7953"
            ],
            [
             0.7777777777777778,
             "#fb9f3a"
            ],
            [
             0.8888888888888888,
             "#fdca26"
            ],
            [
             1,
             "#f0f921"
            ]
           ]
          },
          "colorway": [
           "#636efa",
           "#EF553B",
           "#00cc96",
           "#ab63fa",
           "#FFA15A",
           "#19d3f3",
           "#FF6692",
           "#B6E880",
           "#FF97FF",
           "#FECB52"
          ],
          "font": {
           "color": "#2a3f5f"
          },
          "geo": {
           "bgcolor": "white",
           "lakecolor": "white",
           "landcolor": "white",
           "showlakes": true,
           "showland": true,
           "subunitcolor": "#C8D4E3"
          },
          "hoverlabel": {
           "align": "left"
          },
          "hovermode": "closest",
          "mapbox": {
           "style": "light"
          },
          "paper_bgcolor": "white",
          "plot_bgcolor": "white",
          "polar": {
           "angularaxis": {
            "gridcolor": "#EBF0F8",
            "linecolor": "#EBF0F8",
            "ticks": ""
           },
           "bgcolor": "white",
           "radialaxis": {
            "gridcolor": "#EBF0F8",
            "linecolor": "#EBF0F8",
            "ticks": ""
           }
          },
          "scene": {
           "xaxis": {
            "backgroundcolor": "white",
            "gridcolor": "#DFE8F3",
            "gridwidth": 2,
            "linecolor": "#EBF0F8",
            "showbackground": true,
            "ticks": "",
            "zerolinecolor": "#EBF0F8"
           },
           "yaxis": {
            "backgroundcolor": "white",
            "gridcolor": "#DFE8F3",
            "gridwidth": 2,
            "linecolor": "#EBF0F8",
            "showbackground": true,
            "ticks": "",
            "zerolinecolor": "#EBF0F8"
           },
           "zaxis": {
            "backgroundcolor": "white",
            "gridcolor": "#DFE8F3",
            "gridwidth": 2,
            "linecolor": "#EBF0F8",
            "showbackground": true,
            "ticks": "",
            "zerolinecolor": "#EBF0F8"
           }
          },
          "shapedefaults": {
           "line": {
            "color": "#2a3f5f"
           }
          },
          "ternary": {
           "aaxis": {
            "gridcolor": "#DFE8F3",
            "linecolor": "#A2B1C6",
            "ticks": ""
           },
           "baxis": {
            "gridcolor": "#DFE8F3",
            "linecolor": "#A2B1C6",
            "ticks": ""
           },
           "bgcolor": "white",
           "caxis": {
            "gridcolor": "#DFE8F3",
            "linecolor": "#A2B1C6",
            "ticks": ""
           }
          },
          "title": {
           "x": 0.05
          },
          "xaxis": {
           "automargin": true,
           "gridcolor": "#EBF0F8",
           "linecolor": "#EBF0F8",
           "ticks": "",
           "title": {
            "standoff": 15
           },
           "zerolinecolor": "#EBF0F8",
           "zerolinewidth": 2
          },
          "yaxis": {
           "automargin": true,
           "gridcolor": "#EBF0F8",
           "linecolor": "#EBF0F8",
           "ticks": "",
           "title": {
            "standoff": 15
           },
           "zerolinecolor": "#EBF0F8",
           "zerolinewidth": 2
          }
         }
        },
        "title": {
         "text": "GHZ_trace_normalized_by_rank vs GHZ_var_all_normalized_by_rank colored by error"
        },
        "width": 1000,
        "xaxis": {
         "anchor": "y",
         "domain": [
          0,
          1
         ],
         "gridcolor": "lightgray",
         "gridwidth": 1,
         "showgrid": true,
         "ticklabelstandoff": 10,
         "title": {
          "text": "GHZ_trace_normalized_by_rank"
         }
        },
        "yaxis": {
         "anchor": "x",
         "domain": [
          0,
          1
         ],
         "gridcolor": "lightgray",
         "gridwidth": 1,
         "showgrid": true,
         "ticklabelstandoff": 10,
         "title": {
          "text": "GHZ_var_all_normalized_by_rank"
         }
        }
       }
      }
     },
     "metadata": {},
     "output_type": "display_data"
    },
    {
     "name": "stdout",
     "output_type": "stream",
     "text": [
      "Color column 'error' minimum value: -4.971550399060236\n",
      "test corresponding to minimum value:\n",
      "0    test0\n",
      "Name: test_key, dtype: object\n",
      "Color column 'error' maximum value: -3.092023919708461\n",
      "test corresponding to maximum value:\n",
      "12    test64\n",
      "Name: test_key, dtype: object\n",
      "\n",
      "adj_min: -4.971550399060236, adj_max: -3.092023919708461\n"
     ]
    },
    {
     "data": {
      "application/vnd.plotly.v1+json": {
       "config": {
        "plotlyServerURL": "https://plot.ly"
       },
       "data": [
        {
         "customdata": [
          [
           "test0"
          ],
          [
           "test131"
          ],
          [
           "test150"
          ],
          [
           "test164"
          ],
          [
           "test169"
          ],
          [
           "test248"
          ],
          [
           "test286"
          ],
          [
           "test326"
          ],
          [
           "test346"
          ],
          [
           "test43"
          ],
          [
           "test56"
          ],
          [
           "test58"
          ],
          [
           "test64"
          ]
         ],
         "hovertemplate": "GHZ_trace_normalized_by_rank=%{x}<br>GHZ_var_all_normalized_by_rank=%{y}<br>test_key=%{customdata[0]}<br>error=%{marker.color}<extra></extra>",
         "legendgroup": "",
         "marker": {
          "color": {
           "bdata": "koSZG97iE8AGUGssVMwJwBNHbkNmRBLAu++NKB7QCcBj2+qipOYPwPfWhPItXBHAUk2bh1O5EsAqsZFH9rsLwL1fZheeORLAuNuQYIaBDMAK7jwe3rEQwEjbpiJFIA/A08dsCXe8CMA=",
           "dtype": "f8"
          },
          "coloraxis": "coloraxis",
          "line": {
           "color": "black",
           "width": 0.75
          },
          "size": 12,
          "symbol": "circle"
         },
         "mode": "markers",
         "name": "",
         "orientation": "v",
         "showlegend": false,
         "type": "scatter",
         "x": {
          "bdata": "kzNPQYYqzECE9K1B89xSQe4KzkAa0qxBwKudQYba70CApLFBXWGHQbEEFUECPZBBi/rOQA==",
          "dtype": "f4"
         },
         "xaxis": "x",
         "y": {
          "bdata": "Fyx9QduwikDL2nlClY2LQQeEw0Cu2mNCzvaSQg3ynECC5YJCUs3nQWIbE0HdXX1CS8OJQA==",
          "dtype": "f4"
         },
         "yaxis": "y"
        }
       ],
       "layout": {
        "coloraxis": {
         "cmax": -3.092023919708461,
         "cmin": -4.971550399060236,
         "colorbar": {
          "len": 1.1,
          "thickness": 35,
          "title": {
           "text": "error"
          },
          "x": 1,
          "y": 0.53,
          "yanchor": "middle"
         },
         "colorscale": [
          [
           0,
           "#fde725"
          ],
          [
           0.010101010101010102,
           "#fde725"
          ],
          [
           0.020202020202020204,
           "#fde725"
          ],
          [
           0.030303030303030304,
           "#fbe723"
          ],
          [
           0.04040404040404041,
           "#f8e621"
          ],
          [
           0.050505050505050504,
           "#f8e621"
          ],
          [
           0.06060606060606061,
           "#f6e620"
          ],
          [
           0.0707070707070707,
           "#f4e61e"
          ],
          [
           0.08080808080808081,
           "#f1e51d"
          ],
          [
           0.09090909090909091,
           "#ece51b"
          ],
          [
           0.10101010101010101,
           "#eae51a"
          ],
          [
           0.1111111111111111,
           "#e7e419"
          ],
          [
           0.12121212121212122,
           "#e5e419"
          ],
          [
           0.13131313131313133,
           "#dfe318"
          ],
          [
           0.1414141414141414,
           "#dde318"
          ],
          [
           0.15151515151515152,
           "#d8e219"
          ],
          [
           0.16161616161616163,
           "#d5e21a"
          ],
          [
           0.1717171717171717,
           "#d0e11c"
          ],
          [
           0.18181818181818182,
           "#cde11d"
          ],
          [
           0.1919191919191919,
           "#c8e020"
          ],
          [
           0.20202020202020202,
           "#c2df23"
          ],
          [
           0.21212121212121213,
           "#bddf26"
          ],
          [
           0.2222222222222222,
           "#bade28"
          ],
          [
           0.23232323232323232,
           "#b5de2b"
          ],
          [
           0.24242424242424243,
           "#b0dd2f"
          ],
          [
           0.25252525252525254,
           "#aadc32"
          ],
          [
           0.26262626262626265,
           "#a5db36"
          ],
          [
           0.2727272727272727,
           "#a0da39"
          ],
          [
           0.2828282828282828,
           "#9bd93c"
          ],
          [
           0.29292929292929293,
           "#95d840"
          ],
          [
           0.30303030303030304,
           "#90d743"
          ],
          [
           0.31313131313131315,
           "#8bd646"
          ],
          [
           0.32323232323232326,
           "#84d44b"
          ],
          [
           0.3333333333333333,
           "#7fd34e"
          ],
          [
           0.3434343434343434,
           "#7ad151"
          ],
          [
           0.35353535353535354,
           "#75d054"
          ],
          [
           0.36363636363636365,
           "#6ece58"
          ],
          [
           0.37373737373737376,
           "#69cd5b"
          ],
          [
           0.3838383838383838,
           "#65cb5e"
          ],
          [
           0.3939393939393939,
           "#5ec962"
          ],
          [
           0.40404040404040403,
           "#5ac864"
          ],
          [
           0.41414141414141414,
           "#54c568"
          ],
          [
           0.42424242424242425,
           "#50c46a"
          ],
          [
           0.43434343434343436,
           "#4ac16d"
          ],
          [
           0.4444444444444444,
           "#46c06f"
          ],
          [
           0.45454545454545453,
           "#40bd72"
          ],
          [
           0.46464646464646464,
           "#3bbb75"
          ],
          [
           0.47474747474747475,
           "#38b977"
          ],
          [
           0.48484848484848486,
           "#34b679"
          ],
          [
           0.494949494949495,
           "#2fb47c"
          ],
          [
           0.5050505050505051,
           "#2db27d"
          ],
          [
           0.5151515151515151,
           "#29af7f"
          ],
          [
           0.5252525252525253,
           "#26ad81"
          ],
          [
           0.5353535353535354,
           "#24aa83"
          ],
          [
           0.5454545454545454,
           "#22a785"
          ],
          [
           0.5555555555555556,
           "#20a486"
          ],
          [
           0.5656565656565656,
           "#1fa287"
          ],
          [
           0.5757575757575758,
           "#1fa088"
          ],
          [
           0.5858585858585859,
           "#1e9d89"
          ],
          [
           0.5959595959595959,
           "#1f9a8a"
          ],
          [
           0.6060606060606061,
           "#1f978b"
          ],
          [
           0.6161616161616161,
           "#1f948c"
          ],
          [
           0.6262626262626263,
           "#20928c"
          ],
          [
           0.6363636363636364,
           "#218f8d"
          ],
          [
           0.6464646464646465,
           "#228b8d"
          ],
          [
           0.6565656565656566,
           "#23888e"
          ],
          [
           0.6666666666666666,
           "#25858e"
          ],
          [
           0.6767676767676768,
           "#26828e"
          ],
          [
           0.6868686868686869,
           "#27808e"
          ],
          [
           0.696969696969697,
           "#287d8e"
          ],
          [
           0.7070707070707071,
           "#29798e"
          ],
          [
           0.7171717171717171,
           "#2a768e"
          ],
          [
           0.7272727272727273,
           "#2c738e"
          ],
          [
           0.7373737373737373,
           "#2d708e"
          ],
          [
           0.7474747474747475,
           "#2e6d8e"
          ],
          [
           0.7575757575757576,
           "#306a8e"
          ],
          [
           0.7676767676767676,
           "#31668e"
          ],
          [
           0.7777777777777778,
           "#33638d"
          ],
          [
           0.7878787878787878,
           "#355f8d"
          ],
          [
           0.797979797979798,
           "#365c8d"
          ],
          [
           0.8080808080808081,
           "#38598c"
          ],
          [
           0.8181818181818182,
           "#3a548c"
          ],
          [
           0.8282828282828283,
           "#3b518b"
          ],
          [
           0.8383838383838383,
           "#3d4d8a"
          ],
          [
           0.8484848484848485,
           "#3f4889"
          ],
          [
           0.8585858585858586,
           "#404588"
          ],
          [
           0.8686868686868687,
           "#424086"
          ],
          [
           0.8787878787878788,
           "#433d84"
          ],
          [
           0.8888888888888888,
           "#453882"
          ],
          [
           0.898989898989899,
           "#46337f"
          ],
          [
           0.9090909090909091,
           "#472f7d"
          ],
          [
           0.9191919191919192,
           "#472a7a"
          ],
          [
           0.9292929292929293,
           "#482576"
          ],
          [
           0.9393939393939394,
           "#482071"
          ],
          [
           0.9494949494949495,
           "#481c6e"
          ],
          [
           0.9595959595959596,
           "#481769"
          ],
          [
           0.9696969696969697,
           "#471164"
          ],
          [
           0.9797979797979798,
           "#460b5e"
          ],
          [
           0.98989898989899,
           "#450559"
          ],
          [
           1,
           "#440154"
          ]
         ]
        },
        "height": 600,
        "legend": {
         "tracegroupgap": 0
        },
        "shapes": [
         {
          "layer": "below",
          "line": {
           "color": "black",
           "width": 2
          },
          "type": "rect",
          "x0": 0,
          "x1": 1,
          "xref": "paper",
          "y0": 0,
          "y1": 1,
          "yref": "paper"
         }
        ],
        "template": {
         "data": {
          "bar": [
           {
            "error_x": {
             "color": "#2a3f5f"
            },
            "error_y": {
             "color": "#2a3f5f"
            },
            "marker": {
             "line": {
              "color": "white",
              "width": 0.5
             },
             "pattern": {
              "fillmode": "overlay",
              "size": 10,
              "solidity": 0.2
             }
            },
            "type": "bar"
           }
          ],
          "barpolar": [
           {
            "marker": {
             "line": {
              "color": "white",
              "width": 0.5
             },
             "pattern": {
              "fillmode": "overlay",
              "size": 10,
              "solidity": 0.2
             }
            },
            "type": "barpolar"
           }
          ],
          "carpet": [
           {
            "aaxis": {
             "endlinecolor": "#2a3f5f",
             "gridcolor": "#C8D4E3",
             "linecolor": "#C8D4E3",
             "minorgridcolor": "#C8D4E3",
             "startlinecolor": "#2a3f5f"
            },
            "baxis": {
             "endlinecolor": "#2a3f5f",
             "gridcolor": "#C8D4E3",
             "linecolor": "#C8D4E3",
             "minorgridcolor": "#C8D4E3",
             "startlinecolor": "#2a3f5f"
            },
            "type": "carpet"
           }
          ],
          "choropleth": [
           {
            "colorbar": {
             "outlinewidth": 0,
             "ticks": ""
            },
            "type": "choropleth"
           }
          ],
          "contour": [
           {
            "colorbar": {
             "outlinewidth": 0,
             "ticks": ""
            },
            "colorscale": [
             [
              0,
              "#0d0887"
             ],
             [
              0.1111111111111111,
              "#46039f"
             ],
             [
              0.2222222222222222,
              "#7201a8"
             ],
             [
              0.3333333333333333,
              "#9c179e"
             ],
             [
              0.4444444444444444,
              "#bd3786"
             ],
             [
              0.5555555555555556,
              "#d8576b"
             ],
             [
              0.6666666666666666,
              "#ed7953"
             ],
             [
              0.7777777777777778,
              "#fb9f3a"
             ],
             [
              0.8888888888888888,
              "#fdca26"
             ],
             [
              1,
              "#f0f921"
             ]
            ],
            "type": "contour"
           }
          ],
          "contourcarpet": [
           {
            "colorbar": {
             "outlinewidth": 0,
             "ticks": ""
            },
            "type": "contourcarpet"
           }
          ],
          "heatmap": [
           {
            "colorbar": {
             "outlinewidth": 0,
             "ticks": ""
            },
            "colorscale": [
             [
              0,
              "#0d0887"
             ],
             [
              0.1111111111111111,
              "#46039f"
             ],
             [
              0.2222222222222222,
              "#7201a8"
             ],
             [
              0.3333333333333333,
              "#9c179e"
             ],
             [
              0.4444444444444444,
              "#bd3786"
             ],
             [
              0.5555555555555556,
              "#d8576b"
             ],
             [
              0.6666666666666666,
              "#ed7953"
             ],
             [
              0.7777777777777778,
              "#fb9f3a"
             ],
             [
              0.8888888888888888,
              "#fdca26"
             ],
             [
              1,
              "#f0f921"
             ]
            ],
            "type": "heatmap"
           }
          ],
          "histogram": [
           {
            "marker": {
             "pattern": {
              "fillmode": "overlay",
              "size": 10,
              "solidity": 0.2
             }
            },
            "type": "histogram"
           }
          ],
          "histogram2d": [
           {
            "colorbar": {
             "outlinewidth": 0,
             "ticks": ""
            },
            "colorscale": [
             [
              0,
              "#0d0887"
             ],
             [
              0.1111111111111111,
              "#46039f"
             ],
             [
              0.2222222222222222,
              "#7201a8"
             ],
             [
              0.3333333333333333,
              "#9c179e"
             ],
             [
              0.4444444444444444,
              "#bd3786"
             ],
             [
              0.5555555555555556,
              "#d8576b"
             ],
             [
              0.6666666666666666,
              "#ed7953"
             ],
             [
              0.7777777777777778,
              "#fb9f3a"
             ],
             [
              0.8888888888888888,
              "#fdca26"
             ],
             [
              1,
              "#f0f921"
             ]
            ],
            "type": "histogram2d"
           }
          ],
          "histogram2dcontour": [
           {
            "colorbar": {
             "outlinewidth": 0,
             "ticks": ""
            },
            "colorscale": [
             [
              0,
              "#0d0887"
             ],
             [
              0.1111111111111111,
              "#46039f"
             ],
             [
              0.2222222222222222,
              "#7201a8"
             ],
             [
              0.3333333333333333,
              "#9c179e"
             ],
             [
              0.4444444444444444,
              "#bd3786"
             ],
             [
              0.5555555555555556,
              "#d8576b"
             ],
             [
              0.6666666666666666,
              "#ed7953"
             ],
             [
              0.7777777777777778,
              "#fb9f3a"
             ],
             [
              0.8888888888888888,
              "#fdca26"
             ],
             [
              1,
              "#f0f921"
             ]
            ],
            "type": "histogram2dcontour"
           }
          ],
          "mesh3d": [
           {
            "colorbar": {
             "outlinewidth": 0,
             "ticks": ""
            },
            "type": "mesh3d"
           }
          ],
          "parcoords": [
           {
            "line": {
             "colorbar": {
              "outlinewidth": 0,
              "ticks": ""
             }
            },
            "type": "parcoords"
           }
          ],
          "pie": [
           {
            "automargin": true,
            "type": "pie"
           }
          ],
          "scatter": [
           {
            "fillpattern": {
             "fillmode": "overlay",
             "size": 10,
             "solidity": 0.2
            },
            "type": "scatter"
           }
          ],
          "scatter3d": [
           {
            "line": {
             "colorbar": {
              "outlinewidth": 0,
              "ticks": ""
             }
            },
            "marker": {
             "colorbar": {
              "outlinewidth": 0,
              "ticks": ""
             }
            },
            "type": "scatter3d"
           }
          ],
          "scattercarpet": [
           {
            "marker": {
             "colorbar": {
              "outlinewidth": 0,
              "ticks": ""
             }
            },
            "type": "scattercarpet"
           }
          ],
          "scattergeo": [
           {
            "marker": {
             "colorbar": {
              "outlinewidth": 0,
              "ticks": ""
             }
            },
            "type": "scattergeo"
           }
          ],
          "scattergl": [
           {
            "marker": {
             "colorbar": {
              "outlinewidth": 0,
              "ticks": ""
             }
            },
            "type": "scattergl"
           }
          ],
          "scattermap": [
           {
            "marker": {
             "colorbar": {
              "outlinewidth": 0,
              "ticks": ""
             }
            },
            "type": "scattermap"
           }
          ],
          "scattermapbox": [
           {
            "marker": {
             "colorbar": {
              "outlinewidth": 0,
              "ticks": ""
             }
            },
            "type": "scattermapbox"
           }
          ],
          "scatterpolar": [
           {
            "marker": {
             "colorbar": {
              "outlinewidth": 0,
              "ticks": ""
             }
            },
            "type": "scatterpolar"
           }
          ],
          "scatterpolargl": [
           {
            "marker": {
             "colorbar": {
              "outlinewidth": 0,
              "ticks": ""
             }
            },
            "type": "scatterpolargl"
           }
          ],
          "scatterternary": [
           {
            "marker": {
             "colorbar": {
              "outlinewidth": 0,
              "ticks": ""
             }
            },
            "type": "scatterternary"
           }
          ],
          "surface": [
           {
            "colorbar": {
             "outlinewidth": 0,
             "ticks": ""
            },
            "colorscale": [
             [
              0,
              "#0d0887"
             ],
             [
              0.1111111111111111,
              "#46039f"
             ],
             [
              0.2222222222222222,
              "#7201a8"
             ],
             [
              0.3333333333333333,
              "#9c179e"
             ],
             [
              0.4444444444444444,
              "#bd3786"
             ],
             [
              0.5555555555555556,
              "#d8576b"
             ],
             [
              0.6666666666666666,
              "#ed7953"
             ],
             [
              0.7777777777777778,
              "#fb9f3a"
             ],
             [
              0.8888888888888888,
              "#fdca26"
             ],
             [
              1,
              "#f0f921"
             ]
            ],
            "type": "surface"
           }
          ],
          "table": [
           {
            "cells": {
             "fill": {
              "color": "#EBF0F8"
             },
             "line": {
              "color": "white"
             }
            },
            "header": {
             "fill": {
              "color": "#C8D4E3"
             },
             "line": {
              "color": "white"
             }
            },
            "type": "table"
           }
          ]
         },
         "layout": {
          "annotationdefaults": {
           "arrowcolor": "#2a3f5f",
           "arrowhead": 0,
           "arrowwidth": 1
          },
          "autotypenumbers": "strict",
          "coloraxis": {
           "colorbar": {
            "outlinewidth": 0,
            "ticks": ""
           }
          },
          "colorscale": {
           "diverging": [
            [
             0,
             "#8e0152"
            ],
            [
             0.1,
             "#c51b7d"
            ],
            [
             0.2,
             "#de77ae"
            ],
            [
             0.3,
             "#f1b6da"
            ],
            [
             0.4,
             "#fde0ef"
            ],
            [
             0.5,
             "#f7f7f7"
            ],
            [
             0.6,
             "#e6f5d0"
            ],
            [
             0.7,
             "#b8e186"
            ],
            [
             0.8,
             "#7fbc41"
            ],
            [
             0.9,
             "#4d9221"
            ],
            [
             1,
             "#276419"
            ]
           ],
           "sequential": [
            [
             0,
             "#0d0887"
            ],
            [
             0.1111111111111111,
             "#46039f"
            ],
            [
             0.2222222222222222,
             "#7201a8"
            ],
            [
             0.3333333333333333,
             "#9c179e"
            ],
            [
             0.4444444444444444,
             "#bd3786"
            ],
            [
             0.5555555555555556,
             "#d8576b"
            ],
            [
             0.6666666666666666,
             "#ed7953"
            ],
            [
             0.7777777777777778,
             "#fb9f3a"
            ],
            [
             0.8888888888888888,
             "#fdca26"
            ],
            [
             1,
             "#f0f921"
            ]
           ],
           "sequentialminus": [
            [
             0,
             "#0d0887"
            ],
            [
             0.1111111111111111,
             "#46039f"
            ],
            [
             0.2222222222222222,
             "#7201a8"
            ],
            [
             0.3333333333333333,
             "#9c179e"
            ],
            [
             0.4444444444444444,
             "#bd3786"
            ],
            [
             0.5555555555555556,
             "#d8576b"
            ],
            [
             0.6666666666666666,
             "#ed7953"
            ],
            [
             0.7777777777777778,
             "#fb9f3a"
            ],
            [
             0.8888888888888888,
             "#fdca26"
            ],
            [
             1,
             "#f0f921"
            ]
           ]
          },
          "colorway": [
           "#636efa",
           "#EF553B",
           "#00cc96",
           "#ab63fa",
           "#FFA15A",
           "#19d3f3",
           "#FF6692",
           "#B6E880",
           "#FF97FF",
           "#FECB52"
          ],
          "font": {
           "color": "#2a3f5f"
          },
          "geo": {
           "bgcolor": "white",
           "lakecolor": "white",
           "landcolor": "white",
           "showlakes": true,
           "showland": true,
           "subunitcolor": "#C8D4E3"
          },
          "hoverlabel": {
           "align": "left"
          },
          "hovermode": "closest",
          "mapbox": {
           "style": "light"
          },
          "paper_bgcolor": "white",
          "plot_bgcolor": "white",
          "polar": {
           "angularaxis": {
            "gridcolor": "#EBF0F8",
            "linecolor": "#EBF0F8",
            "ticks": ""
           },
           "bgcolor": "white",
           "radialaxis": {
            "gridcolor": "#EBF0F8",
            "linecolor": "#EBF0F8",
            "ticks": ""
           }
          },
          "scene": {
           "xaxis": {
            "backgroundcolor": "white",
            "gridcolor": "#DFE8F3",
            "gridwidth": 2,
            "linecolor": "#EBF0F8",
            "showbackground": true,
            "ticks": "",
            "zerolinecolor": "#EBF0F8"
           },
           "yaxis": {
            "backgroundcolor": "white",
            "gridcolor": "#DFE8F3",
            "gridwidth": 2,
            "linecolor": "#EBF0F8",
            "showbackground": true,
            "ticks": "",
            "zerolinecolor": "#EBF0F8"
           },
           "zaxis": {
            "backgroundcolor": "white",
            "gridcolor": "#DFE8F3",
            "gridwidth": 2,
            "linecolor": "#EBF0F8",
            "showbackground": true,
            "ticks": "",
            "zerolinecolor": "#EBF0F8"
           }
          },
          "shapedefaults": {
           "line": {
            "color": "#2a3f5f"
           }
          },
          "ternary": {
           "aaxis": {
            "gridcolor": "#DFE8F3",
            "linecolor": "#A2B1C6",
            "ticks": ""
           },
           "baxis": {
            "gridcolor": "#DFE8F3",
            "linecolor": "#A2B1C6",
            "ticks": ""
           },
           "bgcolor": "white",
           "caxis": {
            "gridcolor": "#DFE8F3",
            "linecolor": "#A2B1C6",
            "ticks": ""
           }
          },
          "title": {
           "x": 0.05
          },
          "xaxis": {
           "automargin": true,
           "gridcolor": "#EBF0F8",
           "linecolor": "#EBF0F8",
           "ticks": "",
           "title": {
            "standoff": 15
           },
           "zerolinecolor": "#EBF0F8",
           "zerolinewidth": 2
          },
          "yaxis": {
           "automargin": true,
           "gridcolor": "#EBF0F8",
           "linecolor": "#EBF0F8",
           "ticks": "",
           "title": {
            "standoff": 15
           },
           "zerolinecolor": "#EBF0F8",
           "zerolinewidth": 2
          }
         }
        },
        "title": {
         "text": "GHZ_trace_normalized_by_rank vs GHZ_var_all_normalized_by_rank colored by error"
        },
        "width": 1000,
        "xaxis": {
         "anchor": "y",
         "domain": [
          0,
          1
         ],
         "gridcolor": "lightgray",
         "gridwidth": 1,
         "showgrid": true,
         "ticklabelstandoff": 10,
         "title": {
          "text": "GHZ_trace_normalized_by_rank"
         }
        },
        "yaxis": {
         "anchor": "x",
         "domain": [
          0,
          1
         ],
         "gridcolor": "lightgray",
         "gridwidth": 1,
         "showgrid": true,
         "ticklabelstandoff": 10,
         "title": {
          "text": "GHZ_var_all_normalized_by_rank"
         }
        }
       }
      }
     },
     "metadata": {},
     "output_type": "display_data"
    }
   ],
   "source": [
    "\n",
    "\n",
    "fig = plot_two_metrics_with_color(\n",
    "    df_agg_by_test_key,\n",
    "    x_qfim_type='dqfim',\n",
    "   \n",
    "    x_metric=\"trace_normalized_by_rank\",\n",
    "    y_qfim_type=\"dqfim\",\n",
    "    y_metric=\"var_all_normalized_by_rank\",\n",
    "    color_metric=\"error\",\n",
    "    add_trendline=False,\n",
    "\n",
    "    cmap_name=\"plasma\",\n",
    "    gamma=1.2,\n",
    "    # log_x=True,\n",
    "    # log_y=True,\n",
    ")\n",
    "fig.show() \n",
    "\n",
    "fig = plot_two_metrics_with_color(\n",
    "    df_agg_by_test_key,\n",
    "    x_qfim_type='dqfim',\n",
    "   \n",
    "    x_metric=\"trace_normalized_by_rank\",\n",
    "    y_qfim_type=\"dqfim\",\n",
    "    y_metric=\"abbas_deff_raw\",\n",
    "    color_metric=\"error\",\n",
    "    add_trendline=False,\n",
    "\n",
    "    cmap_name=\"plasma\",\n",
    "    gamma=1.2,\n",
    "    # log_x=True,\n",
    "    # log_y=True,\n",
    ")\n",
    "fig.show() \n",
    "fig = plot_two_metrics_with_color(\n",
    "    df_agg_by_test_key,\n",
    "    x_qfim_type='dqfim',\n",
    "   \n",
    "    x_metric=\"trace_normalized_by_rank\",\n",
    "    y_qfim_type=\"dqfim\",\n",
    "    # y_metric=\"dqfim_var_nonzero_log\",\n",
    "    y_metric=\"var_all_normalized_by_rank\",\n",
    "    color_metric=\"error\",\n",
    "    add_trendline=False,\n",
    "    cmap_name=\"plasma\",\n",
    "    gamma=1.5,\n",
    "    # log_x=True,\n",
    "    # log_y=True,\n",
    ")\n",
    "fig.show() \n",
    "fig = plot_two_metrics_with_color(\n",
    "    df_agg_by_test_key,\n",
    "    x_qfim_type='GHZ',\n",
    "   \n",
    "    x_metric=\"trace_normalized_by_rank\",\n",
    "    y_qfim_type=\"GHZ\",\n",
    "    # y_metric=\"dqfim_var_nonzero_log\",\n",
    "    y_metric=\"var_all_normalized_by_rank\",\n",
    "    color_metric=\"error\",\n",
    "    add_trendline=False,\n",
    "    cmap_name=\"viridis\",\n",
    "    gamma=1.5,\n",
    "    # log_x=True,\n",
    "    # log_y=True,\n",
    ")\n",
    "fig.show() \n",
    "fig = plot_two_metrics_with_color(\n",
    "    df_agg_by_test_key,\n",
    "    x_qfim_type='GHZ',\n",
    "   \n",
    "    x_metric=\"trace_normalized_by_rank\",\n",
    "    y_qfim_type=\"GHZ\",\n",
    "    # y_metric=\"dqfim_var_nonzero_log\",\n",
    "    y_metric=\"var_all_normalized_by_rank\",\n",
    "    color_metric=\"error\",\n",
    "    add_trendline=False,\n",
    "    cmap_name=\"viridis\",\n",
    "    gamma=1.5,\n",
    "    # log_x=True,\n",
    "    # log_y=True,\n",
    ")\n",
    "fig.show() "
   ]
  },
  {
   "cell_type": "code",
   "execution_count": 61,
   "metadata": {},
   "outputs": [
    {
     "name": "stdout",
     "output_type": "stream",
     "text": [
      "\n",
      "Pairwise correlations vs. error (Pearson):\n",
      "dqfim_var_all_normalized_by_rank: r = -0.361, p = 3.45e-08\n",
      "dqfim_var_nonzero_normalized_by_rank: r = -0.360, p = 4.1e-08\n",
      "dqfim_trace_normalized_by_rank: r = -0.350, p = 9.94e-08\n",
      "dqfim_var_nonzero_log: r = -0.316, p = 1.78e-06\n",
      "dqfim_ipr_deff_norm: r = 0.043, p = 0.524\n",
      "dqfim_abbas_deff_raw: r = -0.328, p = 6.26e-07\n",
      "dqfim_abbas_deff_norm: r = 0.030, p = 0.66\n",
      "dqfim_d_eff: r = 0.015, p = 0.828\n",
      "dqfim_spread_metric_variance: r = 0.088, p = 0.194\n",
      "dqfim_spread_metric_mad: r = 0.033, p = 0.625\n",
      "\n",
      "Pairwise correlations vs. error (Spearman):\n",
      "dqfim_var_all_normalized_by_rank: rho = -0.286, p = 1.6e-05\n",
      "dqfim_var_nonzero_normalized_by_rank: rho = -0.286, p = 1.63e-05\n",
      "dqfim_trace_normalized_by_rank: rho = -0.298, p = 6.72e-06\n",
      "dqfim_var_nonzero_log: rho = -0.286, p = 1.63e-05\n",
      "dqfim_abbas_deff_raw: rho = -0.302, p = 5.24e-06\n",
      "dqfim_spread_metric_variance: rho = 0.142, p = 0.0354\n"
     ]
    }
   ],
   "source": [
    "x_metric = \"error\"\n",
    "metrics_of_interest_dqfim = [\n",
    "\n",
    "     \n",
    "       'dqfim_var_all_normalized_by_rank',\n",
    "       'dqfim_var_nonzero_normalized_by_rank',\n",
    "       'dqfim_trace_normalized_by_rank',\n",
    "       'dqfim_var_nonzero_log',\n",
    "     'dqfim_ipr_deff_norm', 'dqfim_abbas_deff_raw',\n",
    "       'dqfim_abbas_deff_norm', 'dqfim_d_eff', 'dqfim_spread_metric_variance',\n",
    "       'dqfim_spread_metric_mad'\n",
    "]\n",
    "\n",
    "pearson_corrs_dqfim, spearman_corrs_dqfim = analyze_correlations(\n",
    "    df_final, x_metric, metrics_of_interest_dqfim,\n",
    "    corr_threshold=CORR_THRESHOLD, p_threshold=P_THRESHOLD, print_all_pearson=True\n",
    ")"
   ]
  },
  {
   "cell_type": "code",
   "execution_count": null,
   "metadata": {},
   "outputs": [],
   "source": []
  },
  {
   "cell_type": "code",
   "execution_count": 17,
   "metadata": {},
   "outputs": [
    {
     "data": {
      "application/vnd.plotly.v1+json": {
       "config": {
        "plotlyServerURL": "https://plot.ly"
       },
       "data": [
        {
         "customdata": [
          [
           "test0"
          ],
          [
           "test131"
          ],
          [
           "test150"
          ],
          [
           "test164"
          ],
          [
           "test169"
          ],
          [
           "test248"
          ],
          [
           "test286"
          ],
          [
           "test326"
          ],
          [
           "test346"
          ],
          [
           "test43"
          ],
          [
           "test56"
          ],
          [
           "test58"
          ],
          [
           "test64"
          ]
         ],
         "hovertemplate": "GHZ_trace_eigenvalues=%{x}<br>error=%{marker.color}<br>test_key=%{customdata[0]}<extra></extra>",
         "legendgroup": "",
         "marker": {
          "color": {
           "bdata": "koSZG97iE8AGUGssVMwJwBNHbkNmRBLAu++NKB7QCcBj2+qipOYPwPfWhPItXBHAUk2bh1O5EsAqsZFH9rsLwL1fZheeORLAuNuQYIaBDMAK7jwe3rEQwEjbpiJFIA/A08dsCXe8CMA=",
           "dtype": "f8"
          },
          "coloraxis": "coloraxis",
          "line": {
           "color": "black",
           "width": 1
          },
          "size": 12,
          "symbol": "circle"
         },
         "mode": "markers",
         "name": "",
         "orientation": "v",
         "showlegend": false,
         "type": "scatter",
         "x": {
          "bdata": "WkBCQ95nv0I8FaNDJK9FQ0AqwUL4BKJDBNGTQ97c4EI4iqZDjtZ9Q2a0C0MyOYdD4grCQg==",
          "dtype": "f4"
         },
         "xaxis": "x",
         "y": {
          "bdata": "koSZG97iE8AGUGssVMwJwBNHbkNmRBLAu++NKB7QCcBj2+qipOYPwPfWhPItXBHAUk2bh1O5EsAqsZFH9rsLwL1fZheeORLAuNuQYIaBDMAK7jwe3rEQwEjbpiJFIA/A08dsCXe8CMA=",
          "dtype": "f8"
         },
         "yaxis": "y"
        }
       ],
       "layout": {
        "coloraxis": {
         "colorbar": {
          "len": 0.9,
          "thickness": 30,
          "title": {
           "text": "error"
          },
          "x": 1.03,
          "y": 0.5,
          "yanchor": "middle"
         },
         "colorscale": [
          [
           0,
           "#fde725"
          ],
          [
           0.010101010101010102,
           "#f4e61e"
          ],
          [
           0.020202020202020204,
           "#e7e419"
          ],
          [
           0.030303030303030304,
           "#dde318"
          ],
          [
           0.04040404040404041,
           "#d2e21b"
          ],
          [
           0.050505050505050504,
           "#c5e021"
          ],
          [
           0.06060606060606061,
           "#bade28"
          ],
          [
           0.0707070707070707,
           "#b0dd2f"
          ],
          [
           0.08080808080808081,
           "#a2da37"
          ],
          [
           0.09090909090909091,
           "#98d83e"
          ],
          [
           0.10101010101010101,
           "#8ed645"
          ],
          [
           0.1111111111111111,
           "#84d44b"
          ],
          [
           0.12121212121212122,
           "#7ad151"
          ],
          [
           0.13131313131313133,
           "#70cf57"
          ],
          [
           0.1414141414141414,
           "#67cc5c"
          ],
          [
           0.15151515151515152,
           "#5ec962"
          ],
          [
           0.16161616161616163,
           "#56c667"
          ],
          [
           0.1717171717171717,
           "#50c46a"
          ],
          [
           0.18181818181818182,
           "#48c16e"
          ],
          [
           0.1919191919191919,
           "#40bd72"
          ],
          [
           0.20202020202020202,
           "#3bbb75"
          ],
          [
           0.21212121212121213,
           "#35b779"
          ],
          [
           0.2222222222222222,
           "#2fb47c"
          ],
          [
           0.23232323232323232,
           "#2cb17e"
          ],
          [
           0.24242424242424243,
           "#27ad81"
          ],
          [
           0.25252525252525254,
           "#25ab82"
          ],
          [
           0.26262626262626265,
           "#22a884"
          ],
          [
           0.2727272727272727,
           "#20a486"
          ],
          [
           0.2828282828282828,
           "#1fa187"
          ],
          [
           0.29292929292929293,
           "#1f9f88"
          ],
          [
           0.30303030303030304,
           "#1e9b8a"
          ],
          [
           0.31313131313131315,
           "#1f988b"
          ],
          [
           0.32323232323232326,
           "#1f958b"
          ],
          [
           0.3333333333333333,
           "#20928c"
          ],
          [
           0.3434343434343434,
           "#21908d"
          ],
          [
           0.35353535353535354,
           "#228d8d"
          ],
          [
           0.36363636363636365,
           "#238a8d"
          ],
          [
           0.37373737373737376,
           "#24878e"
          ],
          [
           0.3838383838383838,
           "#25848e"
          ],
          [
           0.3939393939393939,
           "#26828e"
          ],
          [
           0.40404040404040403,
           "#27808e"
          ],
          [
           0.41414141414141414,
           "#287d8e"
          ],
          [
           0.42424242424242425,
           "#297a8e"
          ],
          [
           0.43434343434343436,
           "#2a778e"
          ],
          [
           0.4444444444444444,
           "#2b758e"
          ],
          [
           0.45454545454545453,
           "#2c728e"
          ],
          [
           0.46464646464646464,
           "#2d708e"
          ],
          [
           0.47474747474747475,
           "#2e6e8e"
          ],
          [
           0.48484848484848486,
           "#2f6b8e"
          ],
          [
           0.494949494949495,
           "#30698e"
          ],
          [
           0.5050505050505051,
           "#31668e"
          ],
          [
           0.5151515151515151,
           "#32648e"
          ],
          [
           0.5252525252525253,
           "#33628d"
          ],
          [
           0.5353535353535354,
           "#355f8d"
          ],
          [
           0.5454545454545454,
           "#365d8d"
          ],
          [
           0.5555555555555556,
           "#375b8d"
          ],
          [
           0.5656565656565656,
           "#38588c"
          ],
          [
           0.5757575757575758,
           "#39558c"
          ],
          [
           0.5858585858585859,
           "#3a538b"
          ],
          [
           0.5959595959595959,
           "#3b518b"
          ],
          [
           0.6060606060606061,
           "#3c4f8a"
          ],
          [
           0.6161616161616161,
           "#3d4d8a"
          ],
          [
           0.6262626262626263,
           "#3e4a89"
          ],
          [
           0.6363636363636364,
           "#3f4889"
          ],
          [
           0.6464646464646465,
           "#404688"
          ],
          [
           0.6565656565656566,
           "#414487"
          ],
          [
           0.6666666666666666,
           "#424186"
          ],
          [
           0.6767676767676768,
           "#423f85"
          ],
          [
           0.6868686868686869,
           "#433d84"
          ],
          [
           0.696969696969697,
           "#443a83"
          ],
          [
           0.7070707070707071,
           "#453882"
          ],
          [
           0.7171717171717171,
           "#453581"
          ],
          [
           0.7272727272727273,
           "#463480"
          ],
          [
           0.7373737373737373,
           "#46327e"
          ],
          [
           0.7474747474747475,
           "#472f7d"
          ],
          [
           0.7575757575757576,
           "#472e7c"
          ],
          [
           0.7676767676767676,
           "#472c7a"
          ],
          [
           0.7777777777777778,
           "#482979"
          ],
          [
           0.7878787878787878,
           "#482878"
          ],
          [
           0.797979797979798,
           "#482576"
          ],
          [
           0.8080808080808081,
           "#482374"
          ],
          [
           0.8181818181818182,
           "#482173"
          ],
          [
           0.8282828282828283,
           "#481f70"
          ],
          [
           0.8383838383838383,
           "#481d6f"
          ],
          [
           0.8484848484848485,
           "#481c6e"
          ],
          [
           0.8585858585858586,
           "#481a6c"
          ],
          [
           0.8686868686868687,
           "#48186a"
          ],
          [
           0.8787878787878788,
           "#481668"
          ],
          [
           0.8888888888888888,
           "#481467"
          ],
          [
           0.898989898989899,
           "#471365"
          ],
          [
           0.9090909090909091,
           "#471063"
          ],
          [
           0.9191919191919192,
           "#470e61"
          ],
          [
           0.9292929292929293,
           "#470d60"
          ],
          [
           0.9393939393939394,
           "#460b5e"
          ],
          [
           0.9494949494949495,
           "#46085c"
          ],
          [
           0.9595959595959596,
           "#46075a"
          ],
          [
           0.9696969696969697,
           "#450559"
          ],
          [
           0.9797979797979798,
           "#450457"
          ],
          [
           0.98989898989899,
           "#440256"
          ],
          [
           1,
           "#440154"
          ]
         ]
        },
        "height": 600,
        "legend": {
         "tracegroupgap": 0
        },
        "shapes": [
         {
          "layer": "below",
          "line": {
           "color": "black",
           "width": 2
          },
          "type": "rect",
          "x0": 0,
          "x1": 1,
          "xref": "paper",
          "y0": 0,
          "y1": 1,
          "yref": "paper"
         }
        ],
        "template": {
         "data": {
          "bar": [
           {
            "error_x": {
             "color": "#2a3f5f"
            },
            "error_y": {
             "color": "#2a3f5f"
            },
            "marker": {
             "line": {
              "color": "white",
              "width": 0.5
             },
             "pattern": {
              "fillmode": "overlay",
              "size": 10,
              "solidity": 0.2
             }
            },
            "type": "bar"
           }
          ],
          "barpolar": [
           {
            "marker": {
             "line": {
              "color": "white",
              "width": 0.5
             },
             "pattern": {
              "fillmode": "overlay",
              "size": 10,
              "solidity": 0.2
             }
            },
            "type": "barpolar"
           }
          ],
          "carpet": [
           {
            "aaxis": {
             "endlinecolor": "#2a3f5f",
             "gridcolor": "#C8D4E3",
             "linecolor": "#C8D4E3",
             "minorgridcolor": "#C8D4E3",
             "startlinecolor": "#2a3f5f"
            },
            "baxis": {
             "endlinecolor": "#2a3f5f",
             "gridcolor": "#C8D4E3",
             "linecolor": "#C8D4E3",
             "minorgridcolor": "#C8D4E3",
             "startlinecolor": "#2a3f5f"
            },
            "type": "carpet"
           }
          ],
          "choropleth": [
           {
            "colorbar": {
             "outlinewidth": 0,
             "ticks": ""
            },
            "type": "choropleth"
           }
          ],
          "contour": [
           {
            "colorbar": {
             "outlinewidth": 0,
             "ticks": ""
            },
            "colorscale": [
             [
              0,
              "#0d0887"
             ],
             [
              0.1111111111111111,
              "#46039f"
             ],
             [
              0.2222222222222222,
              "#7201a8"
             ],
             [
              0.3333333333333333,
              "#9c179e"
             ],
             [
              0.4444444444444444,
              "#bd3786"
             ],
             [
              0.5555555555555556,
              "#d8576b"
             ],
             [
              0.6666666666666666,
              "#ed7953"
             ],
             [
              0.7777777777777778,
              "#fb9f3a"
             ],
             [
              0.8888888888888888,
              "#fdca26"
             ],
             [
              1,
              "#f0f921"
             ]
            ],
            "type": "contour"
           }
          ],
          "contourcarpet": [
           {
            "colorbar": {
             "outlinewidth": 0,
             "ticks": ""
            },
            "type": "contourcarpet"
           }
          ],
          "heatmap": [
           {
            "colorbar": {
             "outlinewidth": 0,
             "ticks": ""
            },
            "colorscale": [
             [
              0,
              "#0d0887"
             ],
             [
              0.1111111111111111,
              "#46039f"
             ],
             [
              0.2222222222222222,
              "#7201a8"
             ],
             [
              0.3333333333333333,
              "#9c179e"
             ],
             [
              0.4444444444444444,
              "#bd3786"
             ],
             [
              0.5555555555555556,
              "#d8576b"
             ],
             [
              0.6666666666666666,
              "#ed7953"
             ],
             [
              0.7777777777777778,
              "#fb9f3a"
             ],
             [
              0.8888888888888888,
              "#fdca26"
             ],
             [
              1,
              "#f0f921"
             ]
            ],
            "type": "heatmap"
           }
          ],
          "histogram": [
           {
            "marker": {
             "pattern": {
              "fillmode": "overlay",
              "size": 10,
              "solidity": 0.2
             }
            },
            "type": "histogram"
           }
          ],
          "histogram2d": [
           {
            "colorbar": {
             "outlinewidth": 0,
             "ticks": ""
            },
            "colorscale": [
             [
              0,
              "#0d0887"
             ],
             [
              0.1111111111111111,
              "#46039f"
             ],
             [
              0.2222222222222222,
              "#7201a8"
             ],
             [
              0.3333333333333333,
              "#9c179e"
             ],
             [
              0.4444444444444444,
              "#bd3786"
             ],
             [
              0.5555555555555556,
              "#d8576b"
             ],
             [
              0.6666666666666666,
              "#ed7953"
             ],
             [
              0.7777777777777778,
              "#fb9f3a"
             ],
             [
              0.8888888888888888,
              "#fdca26"
             ],
             [
              1,
              "#f0f921"
             ]
            ],
            "type": "histogram2d"
           }
          ],
          "histogram2dcontour": [
           {
            "colorbar": {
             "outlinewidth": 0,
             "ticks": ""
            },
            "colorscale": [
             [
              0,
              "#0d0887"
             ],
             [
              0.1111111111111111,
              "#46039f"
             ],
             [
              0.2222222222222222,
              "#7201a8"
             ],
             [
              0.3333333333333333,
              "#9c179e"
             ],
             [
              0.4444444444444444,
              "#bd3786"
             ],
             [
              0.5555555555555556,
              "#d8576b"
             ],
             [
              0.6666666666666666,
              "#ed7953"
             ],
             [
              0.7777777777777778,
              "#fb9f3a"
             ],
             [
              0.8888888888888888,
              "#fdca26"
             ],
             [
              1,
              "#f0f921"
             ]
            ],
            "type": "histogram2dcontour"
           }
          ],
          "mesh3d": [
           {
            "colorbar": {
             "outlinewidth": 0,
             "ticks": ""
            },
            "type": "mesh3d"
           }
          ],
          "parcoords": [
           {
            "line": {
             "colorbar": {
              "outlinewidth": 0,
              "ticks": ""
             }
            },
            "type": "parcoords"
           }
          ],
          "pie": [
           {
            "automargin": true,
            "type": "pie"
           }
          ],
          "scatter": [
           {
            "fillpattern": {
             "fillmode": "overlay",
             "size": 10,
             "solidity": 0.2
            },
            "type": "scatter"
           }
          ],
          "scatter3d": [
           {
            "line": {
             "colorbar": {
              "outlinewidth": 0,
              "ticks": ""
             }
            },
            "marker": {
             "colorbar": {
              "outlinewidth": 0,
              "ticks": ""
             }
            },
            "type": "scatter3d"
           }
          ],
          "scattercarpet": [
           {
            "marker": {
             "colorbar": {
              "outlinewidth": 0,
              "ticks": ""
             }
            },
            "type": "scattercarpet"
           }
          ],
          "scattergeo": [
           {
            "marker": {
             "colorbar": {
              "outlinewidth": 0,
              "ticks": ""
             }
            },
            "type": "scattergeo"
           }
          ],
          "scattergl": [
           {
            "marker": {
             "colorbar": {
              "outlinewidth": 0,
              "ticks": ""
             }
            },
            "type": "scattergl"
           }
          ],
          "scattermap": [
           {
            "marker": {
             "colorbar": {
              "outlinewidth": 0,
              "ticks": ""
             }
            },
            "type": "scattermap"
           }
          ],
          "scattermapbox": [
           {
            "marker": {
             "colorbar": {
              "outlinewidth": 0,
              "ticks": ""
             }
            },
            "type": "scattermapbox"
           }
          ],
          "scatterpolar": [
           {
            "marker": {
             "colorbar": {
              "outlinewidth": 0,
              "ticks": ""
             }
            },
            "type": "scatterpolar"
           }
          ],
          "scatterpolargl": [
           {
            "marker": {
             "colorbar": {
              "outlinewidth": 0,
              "ticks": ""
             }
            },
            "type": "scatterpolargl"
           }
          ],
          "scatterternary": [
           {
            "marker": {
             "colorbar": {
              "outlinewidth": 0,
              "ticks": ""
             }
            },
            "type": "scatterternary"
           }
          ],
          "surface": [
           {
            "colorbar": {
             "outlinewidth": 0,
             "ticks": ""
            },
            "colorscale": [
             [
              0,
              "#0d0887"
             ],
             [
              0.1111111111111111,
              "#46039f"
             ],
             [
              0.2222222222222222,
              "#7201a8"
             ],
             [
              0.3333333333333333,
              "#9c179e"
             ],
             [
              0.4444444444444444,
              "#bd3786"
             ],
             [
              0.5555555555555556,
              "#d8576b"
             ],
             [
              0.6666666666666666,
              "#ed7953"
             ],
             [
              0.7777777777777778,
              "#fb9f3a"
             ],
             [
              0.8888888888888888,
              "#fdca26"
             ],
             [
              1,
              "#f0f921"
             ]
            ],
            "type": "surface"
           }
          ],
          "table": [
           {
            "cells": {
             "fill": {
              "color": "#EBF0F8"
             },
             "line": {
              "color": "white"
             }
            },
            "header": {
             "fill": {
              "color": "#C8D4E3"
             },
             "line": {
              "color": "white"
             }
            },
            "type": "table"
           }
          ]
         },
         "layout": {
          "annotationdefaults": {
           "arrowcolor": "#2a3f5f",
           "arrowhead": 0,
           "arrowwidth": 1
          },
          "autotypenumbers": "strict",
          "coloraxis": {
           "colorbar": {
            "outlinewidth": 0,
            "ticks": ""
           }
          },
          "colorscale": {
           "diverging": [
            [
             0,
             "#8e0152"
            ],
            [
             0.1,
             "#c51b7d"
            ],
            [
             0.2,
             "#de77ae"
            ],
            [
             0.3,
             "#f1b6da"
            ],
            [
             0.4,
             "#fde0ef"
            ],
            [
             0.5,
             "#f7f7f7"
            ],
            [
             0.6,
             "#e6f5d0"
            ],
            [
             0.7,
             "#b8e186"
            ],
            [
             0.8,
             "#7fbc41"
            ],
            [
             0.9,
             "#4d9221"
            ],
            [
             1,
             "#276419"
            ]
           ],
           "sequential": [
            [
             0,
             "#0d0887"
            ],
            [
             0.1111111111111111,
             "#46039f"
            ],
            [
             0.2222222222222222,
             "#7201a8"
            ],
            [
             0.3333333333333333,
             "#9c179e"
            ],
            [
             0.4444444444444444,
             "#bd3786"
            ],
            [
             0.5555555555555556,
             "#d8576b"
            ],
            [
             0.6666666666666666,
             "#ed7953"
            ],
            [
             0.7777777777777778,
             "#fb9f3a"
            ],
            [
             0.8888888888888888,
             "#fdca26"
            ],
            [
             1,
             "#f0f921"
            ]
           ],
           "sequentialminus": [
            [
             0,
             "#0d0887"
            ],
            [
             0.1111111111111111,
             "#46039f"
            ],
            [
             0.2222222222222222,
             "#7201a8"
            ],
            [
             0.3333333333333333,
             "#9c179e"
            ],
            [
             0.4444444444444444,
             "#bd3786"
            ],
            [
             0.5555555555555556,
             "#d8576b"
            ],
            [
             0.6666666666666666,
             "#ed7953"
            ],
            [
             0.7777777777777778,
             "#fb9f3a"
            ],
            [
             0.8888888888888888,
             "#fdca26"
            ],
            [
             1,
             "#f0f921"
            ]
           ]
          },
          "colorway": [
           "#636efa",
           "#EF553B",
           "#00cc96",
           "#ab63fa",
           "#FFA15A",
           "#19d3f3",
           "#FF6692",
           "#B6E880",
           "#FF97FF",
           "#FECB52"
          ],
          "font": {
           "color": "#2a3f5f"
          },
          "geo": {
           "bgcolor": "white",
           "lakecolor": "white",
           "landcolor": "white",
           "showlakes": true,
           "showland": true,
           "subunitcolor": "#C8D4E3"
          },
          "hoverlabel": {
           "align": "left"
          },
          "hovermode": "closest",
          "mapbox": {
           "style": "light"
          },
          "paper_bgcolor": "white",
          "plot_bgcolor": "white",
          "polar": {
           "angularaxis": {
            "gridcolor": "#EBF0F8",
            "linecolor": "#EBF0F8",
            "ticks": ""
           },
           "bgcolor": "white",
           "radialaxis": {
            "gridcolor": "#EBF0F8",
            "linecolor": "#EBF0F8",
            "ticks": ""
           }
          },
          "scene": {
           "xaxis": {
            "backgroundcolor": "white",
            "gridcolor": "#DFE8F3",
            "gridwidth": 2,
            "linecolor": "#EBF0F8",
            "showbackground": true,
            "ticks": "",
            "zerolinecolor": "#EBF0F8"
           },
           "yaxis": {
            "backgroundcolor": "white",
            "gridcolor": "#DFE8F3",
            "gridwidth": 2,
            "linecolor": "#EBF0F8",
            "showbackground": true,
            "ticks": "",
            "zerolinecolor": "#EBF0F8"
           },
           "zaxis": {
            "backgroundcolor": "white",
            "gridcolor": "#DFE8F3",
            "gridwidth": 2,
            "linecolor": "#EBF0F8",
            "showbackground": true,
            "ticks": "",
            "zerolinecolor": "#EBF0F8"
           }
          },
          "shapedefaults": {
           "line": {
            "color": "#2a3f5f"
           }
          },
          "ternary": {
           "aaxis": {
            "gridcolor": "#DFE8F3",
            "linecolor": "#A2B1C6",
            "ticks": ""
           },
           "baxis": {
            "gridcolor": "#DFE8F3",
            "linecolor": "#A2B1C6",
            "ticks": ""
           },
           "bgcolor": "white",
           "caxis": {
            "gridcolor": "#DFE8F3",
            "linecolor": "#A2B1C6",
            "ticks": ""
           }
          },
          "title": {
           "x": 0.05
          },
          "xaxis": {
           "automargin": true,
           "gridcolor": "#EBF0F8",
           "linecolor": "#EBF0F8",
           "ticks": "",
           "title": {
            "standoff": 15
           },
           "zerolinecolor": "#EBF0F8",
           "zerolinewidth": 2
          },
          "yaxis": {
           "automargin": true,
           "gridcolor": "#EBF0F8",
           "linecolor": "#EBF0F8",
           "ticks": "",
           "title": {
            "standoff": 15
           },
           "zerolinecolor": "#EBF0F8",
           "zerolinewidth": 2
          }
         }
        },
        "title": {
         "text": "GHZ_trace_eigenvalues vs error colored by error"
        },
        "width": 800,
        "xaxis": {
         "anchor": "y",
         "domain": [
          0,
          1
         ],
         "title": {
          "text": "GHZ_trace_eigenvalues"
         }
        },
        "yaxis": {
         "anchor": "x",
         "domain": [
          0,
          1
         ],
         "title": {
          "text": "error"
         }
        }
       }
      }
     },
     "metadata": {},
     "output_type": "display_data"
    },
    {
     "data": {
      "application/vnd.plotly.v1+json": {
       "config": {
        "plotlyServerURL": "https://plot.ly"
       },
       "data": [
        {
         "customdata": [
          [
           "test0"
          ],
          [
           "test131"
          ],
          [
           "test150"
          ],
          [
           "test164"
          ],
          [
           "test169"
          ],
          [
           "test248"
          ],
          [
           "test286"
          ],
          [
           "test326"
          ],
          [
           "test346"
          ],
          [
           "test43"
          ],
          [
           "test56"
          ],
          [
           "test58"
          ],
          [
           "test64"
          ]
         ],
         "hovertemplate": "GHZ_var_nonzero_eigenvalues=%{x}<br>error=%{marker.color}<br>test_key=%{customdata[0]}<extra></extra>",
         "legendgroup": "",
         "marker": {
          "color": {
           "bdata": "koSZG97iE8AGUGssVMwJwBNHbkNmRBLAu++NKB7QCcBj2+qipOYPwPfWhPItXBHAUk2bh1O5EsAqsZFH9rsLwL1fZheeORLAuNuQYIaBDMAK7jwe3rEQwEjbpiJFIA/A08dsCXe8CMA=",
           "dtype": "f8"
          },
          "coloraxis": "coloraxis",
          "line": {
           "color": "black",
           "width": 1
          },
          "size": 12,
          "symbol": "circle"
         },
         "mode": "markers",
         "name": "",
         "orientation": "v",
         "showlegend": false,
         "type": "scatter",
         "x": {
          "bdata": "VUDeQ36d+UI9KelETkr4Q4lAOUPJCdJE/UUPRZhSB0PqePRE6oRORHBEhEOSt/dEiE72Qg==",
          "dtype": "f4"
         },
         "xaxis": "x",
         "y": {
          "bdata": "koSZG97iE8AGUGssVMwJwBNHbkNmRBLAu++NKB7QCcBj2+qipOYPwPfWhPItXBHAUk2bh1O5EsAqsZFH9rsLwL1fZheeORLAuNuQYIaBDMAK7jwe3rEQwEjbpiJFIA/A08dsCXe8CMA=",
          "dtype": "f8"
         },
         "yaxis": "y"
        }
       ],
       "layout": {
        "coloraxis": {
         "colorbar": {
          "len": 0.9,
          "thickness": 30,
          "title": {
           "text": "error"
          },
          "x": 1.03,
          "y": 0.5,
          "yanchor": "middle"
         },
         "colorscale": [
          [
           0,
           "#fde725"
          ],
          [
           0.010101010101010102,
           "#f4e61e"
          ],
          [
           0.020202020202020204,
           "#e7e419"
          ],
          [
           0.030303030303030304,
           "#dde318"
          ],
          [
           0.04040404040404041,
           "#d2e21b"
          ],
          [
           0.050505050505050504,
           "#c5e021"
          ],
          [
           0.06060606060606061,
           "#bade28"
          ],
          [
           0.0707070707070707,
           "#b0dd2f"
          ],
          [
           0.08080808080808081,
           "#a2da37"
          ],
          [
           0.09090909090909091,
           "#98d83e"
          ],
          [
           0.10101010101010101,
           "#8ed645"
          ],
          [
           0.1111111111111111,
           "#84d44b"
          ],
          [
           0.12121212121212122,
           "#7ad151"
          ],
          [
           0.13131313131313133,
           "#70cf57"
          ],
          [
           0.1414141414141414,
           "#67cc5c"
          ],
          [
           0.15151515151515152,
           "#5ec962"
          ],
          [
           0.16161616161616163,
           "#56c667"
          ],
          [
           0.1717171717171717,
           "#50c46a"
          ],
          [
           0.18181818181818182,
           "#48c16e"
          ],
          [
           0.1919191919191919,
           "#40bd72"
          ],
          [
           0.20202020202020202,
           "#3bbb75"
          ],
          [
           0.21212121212121213,
           "#35b779"
          ],
          [
           0.2222222222222222,
           "#2fb47c"
          ],
          [
           0.23232323232323232,
           "#2cb17e"
          ],
          [
           0.24242424242424243,
           "#27ad81"
          ],
          [
           0.25252525252525254,
           "#25ab82"
          ],
          [
           0.26262626262626265,
           "#22a884"
          ],
          [
           0.2727272727272727,
           "#20a486"
          ],
          [
           0.2828282828282828,
           "#1fa187"
          ],
          [
           0.29292929292929293,
           "#1f9f88"
          ],
          [
           0.30303030303030304,
           "#1e9b8a"
          ],
          [
           0.31313131313131315,
           "#1f988b"
          ],
          [
           0.32323232323232326,
           "#1f958b"
          ],
          [
           0.3333333333333333,
           "#20928c"
          ],
          [
           0.3434343434343434,
           "#21908d"
          ],
          [
           0.35353535353535354,
           "#228d8d"
          ],
          [
           0.36363636363636365,
           "#238a8d"
          ],
          [
           0.37373737373737376,
           "#24878e"
          ],
          [
           0.3838383838383838,
           "#25848e"
          ],
          [
           0.3939393939393939,
           "#26828e"
          ],
          [
           0.40404040404040403,
           "#27808e"
          ],
          [
           0.41414141414141414,
           "#287d8e"
          ],
          [
           0.42424242424242425,
           "#297a8e"
          ],
          [
           0.43434343434343436,
           "#2a778e"
          ],
          [
           0.4444444444444444,
           "#2b758e"
          ],
          [
           0.45454545454545453,
           "#2c728e"
          ],
          [
           0.46464646464646464,
           "#2d708e"
          ],
          [
           0.47474747474747475,
           "#2e6e8e"
          ],
          [
           0.48484848484848486,
           "#2f6b8e"
          ],
          [
           0.494949494949495,
           "#30698e"
          ],
          [
           0.5050505050505051,
           "#31668e"
          ],
          [
           0.5151515151515151,
           "#32648e"
          ],
          [
           0.5252525252525253,
           "#33628d"
          ],
          [
           0.5353535353535354,
           "#355f8d"
          ],
          [
           0.5454545454545454,
           "#365d8d"
          ],
          [
           0.5555555555555556,
           "#375b8d"
          ],
          [
           0.5656565656565656,
           "#38588c"
          ],
          [
           0.5757575757575758,
           "#39558c"
          ],
          [
           0.5858585858585859,
           "#3a538b"
          ],
          [
           0.5959595959595959,
           "#3b518b"
          ],
          [
           0.6060606060606061,
           "#3c4f8a"
          ],
          [
           0.6161616161616161,
           "#3d4d8a"
          ],
          [
           0.6262626262626263,
           "#3e4a89"
          ],
          [
           0.6363636363636364,
           "#3f4889"
          ],
          [
           0.6464646464646465,
           "#404688"
          ],
          [
           0.6565656565656566,
           "#414487"
          ],
          [
           0.6666666666666666,
           "#424186"
          ],
          [
           0.6767676767676768,
           "#423f85"
          ],
          [
           0.6868686868686869,
           "#433d84"
          ],
          [
           0.696969696969697,
           "#443a83"
          ],
          [
           0.7070707070707071,
           "#453882"
          ],
          [
           0.7171717171717171,
           "#453581"
          ],
          [
           0.7272727272727273,
           "#463480"
          ],
          [
           0.7373737373737373,
           "#46327e"
          ],
          [
           0.7474747474747475,
           "#472f7d"
          ],
          [
           0.7575757575757576,
           "#472e7c"
          ],
          [
           0.7676767676767676,
           "#472c7a"
          ],
          [
           0.7777777777777778,
           "#482979"
          ],
          [
           0.7878787878787878,
           "#482878"
          ],
          [
           0.797979797979798,
           "#482576"
          ],
          [
           0.8080808080808081,
           "#482374"
          ],
          [
           0.8181818181818182,
           "#482173"
          ],
          [
           0.8282828282828283,
           "#481f70"
          ],
          [
           0.8383838383838383,
           "#481d6f"
          ],
          [
           0.8484848484848485,
           "#481c6e"
          ],
          [
           0.8585858585858586,
           "#481a6c"
          ],
          [
           0.8686868686868687,
           "#48186a"
          ],
          [
           0.8787878787878788,
           "#481668"
          ],
          [
           0.8888888888888888,
           "#481467"
          ],
          [
           0.898989898989899,
           "#471365"
          ],
          [
           0.9090909090909091,
           "#471063"
          ],
          [
           0.9191919191919192,
           "#470e61"
          ],
          [
           0.9292929292929293,
           "#470d60"
          ],
          [
           0.9393939393939394,
           "#460b5e"
          ],
          [
           0.9494949494949495,
           "#46085c"
          ],
          [
           0.9595959595959596,
           "#46075a"
          ],
          [
           0.9696969696969697,
           "#450559"
          ],
          [
           0.9797979797979798,
           "#450457"
          ],
          [
           0.98989898989899,
           "#440256"
          ],
          [
           1,
           "#440154"
          ]
         ]
        },
        "height": 600,
        "legend": {
         "tracegroupgap": 0
        },
        "shapes": [
         {
          "layer": "below",
          "line": {
           "color": "black",
           "width": 2
          },
          "type": "rect",
          "x0": 0,
          "x1": 1,
          "xref": "paper",
          "y0": 0,
          "y1": 1,
          "yref": "paper"
         }
        ],
        "template": {
         "data": {
          "bar": [
           {
            "error_x": {
             "color": "#2a3f5f"
            },
            "error_y": {
             "color": "#2a3f5f"
            },
            "marker": {
             "line": {
              "color": "white",
              "width": 0.5
             },
             "pattern": {
              "fillmode": "overlay",
              "size": 10,
              "solidity": 0.2
             }
            },
            "type": "bar"
           }
          ],
          "barpolar": [
           {
            "marker": {
             "line": {
              "color": "white",
              "width": 0.5
             },
             "pattern": {
              "fillmode": "overlay",
              "size": 10,
              "solidity": 0.2
             }
            },
            "type": "barpolar"
           }
          ],
          "carpet": [
           {
            "aaxis": {
             "endlinecolor": "#2a3f5f",
             "gridcolor": "#C8D4E3",
             "linecolor": "#C8D4E3",
             "minorgridcolor": "#C8D4E3",
             "startlinecolor": "#2a3f5f"
            },
            "baxis": {
             "endlinecolor": "#2a3f5f",
             "gridcolor": "#C8D4E3",
             "linecolor": "#C8D4E3",
             "minorgridcolor": "#C8D4E3",
             "startlinecolor": "#2a3f5f"
            },
            "type": "carpet"
           }
          ],
          "choropleth": [
           {
            "colorbar": {
             "outlinewidth": 0,
             "ticks": ""
            },
            "type": "choropleth"
           }
          ],
          "contour": [
           {
            "colorbar": {
             "outlinewidth": 0,
             "ticks": ""
            },
            "colorscale": [
             [
              0,
              "#0d0887"
             ],
             [
              0.1111111111111111,
              "#46039f"
             ],
             [
              0.2222222222222222,
              "#7201a8"
             ],
             [
              0.3333333333333333,
              "#9c179e"
             ],
             [
              0.4444444444444444,
              "#bd3786"
             ],
             [
              0.5555555555555556,
              "#d8576b"
             ],
             [
              0.6666666666666666,
              "#ed7953"
             ],
             [
              0.7777777777777778,
              "#fb9f3a"
             ],
             [
              0.8888888888888888,
              "#fdca26"
             ],
             [
              1,
              "#f0f921"
             ]
            ],
            "type": "contour"
           }
          ],
          "contourcarpet": [
           {
            "colorbar": {
             "outlinewidth": 0,
             "ticks": ""
            },
            "type": "contourcarpet"
           }
          ],
          "heatmap": [
           {
            "colorbar": {
             "outlinewidth": 0,
             "ticks": ""
            },
            "colorscale": [
             [
              0,
              "#0d0887"
             ],
             [
              0.1111111111111111,
              "#46039f"
             ],
             [
              0.2222222222222222,
              "#7201a8"
             ],
             [
              0.3333333333333333,
              "#9c179e"
             ],
             [
              0.4444444444444444,
              "#bd3786"
             ],
             [
              0.5555555555555556,
              "#d8576b"
             ],
             [
              0.6666666666666666,
              "#ed7953"
             ],
             [
              0.7777777777777778,
              "#fb9f3a"
             ],
             [
              0.8888888888888888,
              "#fdca26"
             ],
             [
              1,
              "#f0f921"
             ]
            ],
            "type": "heatmap"
           }
          ],
          "histogram": [
           {
            "marker": {
             "pattern": {
              "fillmode": "overlay",
              "size": 10,
              "solidity": 0.2
             }
            },
            "type": "histogram"
           }
          ],
          "histogram2d": [
           {
            "colorbar": {
             "outlinewidth": 0,
             "ticks": ""
            },
            "colorscale": [
             [
              0,
              "#0d0887"
             ],
             [
              0.1111111111111111,
              "#46039f"
             ],
             [
              0.2222222222222222,
              "#7201a8"
             ],
             [
              0.3333333333333333,
              "#9c179e"
             ],
             [
              0.4444444444444444,
              "#bd3786"
             ],
             [
              0.5555555555555556,
              "#d8576b"
             ],
             [
              0.6666666666666666,
              "#ed7953"
             ],
             [
              0.7777777777777778,
              "#fb9f3a"
             ],
             [
              0.8888888888888888,
              "#fdca26"
             ],
             [
              1,
              "#f0f921"
             ]
            ],
            "type": "histogram2d"
           }
          ],
          "histogram2dcontour": [
           {
            "colorbar": {
             "outlinewidth": 0,
             "ticks": ""
            },
            "colorscale": [
             [
              0,
              "#0d0887"
             ],
             [
              0.1111111111111111,
              "#46039f"
             ],
             [
              0.2222222222222222,
              "#7201a8"
             ],
             [
              0.3333333333333333,
              "#9c179e"
             ],
             [
              0.4444444444444444,
              "#bd3786"
             ],
             [
              0.5555555555555556,
              "#d8576b"
             ],
             [
              0.6666666666666666,
              "#ed7953"
             ],
             [
              0.7777777777777778,
              "#fb9f3a"
             ],
             [
              0.8888888888888888,
              "#fdca26"
             ],
             [
              1,
              "#f0f921"
             ]
            ],
            "type": "histogram2dcontour"
           }
          ],
          "mesh3d": [
           {
            "colorbar": {
             "outlinewidth": 0,
             "ticks": ""
            },
            "type": "mesh3d"
           }
          ],
          "parcoords": [
           {
            "line": {
             "colorbar": {
              "outlinewidth": 0,
              "ticks": ""
             }
            },
            "type": "parcoords"
           }
          ],
          "pie": [
           {
            "automargin": true,
            "type": "pie"
           }
          ],
          "scatter": [
           {
            "fillpattern": {
             "fillmode": "overlay",
             "size": 10,
             "solidity": 0.2
            },
            "type": "scatter"
           }
          ],
          "scatter3d": [
           {
            "line": {
             "colorbar": {
              "outlinewidth": 0,
              "ticks": ""
             }
            },
            "marker": {
             "colorbar": {
              "outlinewidth": 0,
              "ticks": ""
             }
            },
            "type": "scatter3d"
           }
          ],
          "scattercarpet": [
           {
            "marker": {
             "colorbar": {
              "outlinewidth": 0,
              "ticks": ""
             }
            },
            "type": "scattercarpet"
           }
          ],
          "scattergeo": [
           {
            "marker": {
             "colorbar": {
              "outlinewidth": 0,
              "ticks": ""
             }
            },
            "type": "scattergeo"
           }
          ],
          "scattergl": [
           {
            "marker": {
             "colorbar": {
              "outlinewidth": 0,
              "ticks": ""
             }
            },
            "type": "scattergl"
           }
          ],
          "scattermap": [
           {
            "marker": {
             "colorbar": {
              "outlinewidth": 0,
              "ticks": ""
             }
            },
            "type": "scattermap"
           }
          ],
          "scattermapbox": [
           {
            "marker": {
             "colorbar": {
              "outlinewidth": 0,
              "ticks": ""
             }
            },
            "type": "scattermapbox"
           }
          ],
          "scatterpolar": [
           {
            "marker": {
             "colorbar": {
              "outlinewidth": 0,
              "ticks": ""
             }
            },
            "type": "scatterpolar"
           }
          ],
          "scatterpolargl": [
           {
            "marker": {
             "colorbar": {
              "outlinewidth": 0,
              "ticks": ""
             }
            },
            "type": "scatterpolargl"
           }
          ],
          "scatterternary": [
           {
            "marker": {
             "colorbar": {
              "outlinewidth": 0,
              "ticks": ""
             }
            },
            "type": "scatterternary"
           }
          ],
          "surface": [
           {
            "colorbar": {
             "outlinewidth": 0,
             "ticks": ""
            },
            "colorscale": [
             [
              0,
              "#0d0887"
             ],
             [
              0.1111111111111111,
              "#46039f"
             ],
             [
              0.2222222222222222,
              "#7201a8"
             ],
             [
              0.3333333333333333,
              "#9c179e"
             ],
             [
              0.4444444444444444,
              "#bd3786"
             ],
             [
              0.5555555555555556,
              "#d8576b"
             ],
             [
              0.6666666666666666,
              "#ed7953"
             ],
             [
              0.7777777777777778,
              "#fb9f3a"
             ],
             [
              0.8888888888888888,
              "#fdca26"
             ],
             [
              1,
              "#f0f921"
             ]
            ],
            "type": "surface"
           }
          ],
          "table": [
           {
            "cells": {
             "fill": {
              "color": "#EBF0F8"
             },
             "line": {
              "color": "white"
             }
            },
            "header": {
             "fill": {
              "color": "#C8D4E3"
             },
             "line": {
              "color": "white"
             }
            },
            "type": "table"
           }
          ]
         },
         "layout": {
          "annotationdefaults": {
           "arrowcolor": "#2a3f5f",
           "arrowhead": 0,
           "arrowwidth": 1
          },
          "autotypenumbers": "strict",
          "coloraxis": {
           "colorbar": {
            "outlinewidth": 0,
            "ticks": ""
           }
          },
          "colorscale": {
           "diverging": [
            [
             0,
             "#8e0152"
            ],
            [
             0.1,
             "#c51b7d"
            ],
            [
             0.2,
             "#de77ae"
            ],
            [
             0.3,
             "#f1b6da"
            ],
            [
             0.4,
             "#fde0ef"
            ],
            [
             0.5,
             "#f7f7f7"
            ],
            [
             0.6,
             "#e6f5d0"
            ],
            [
             0.7,
             "#b8e186"
            ],
            [
             0.8,
             "#7fbc41"
            ],
            [
             0.9,
             "#4d9221"
            ],
            [
             1,
             "#276419"
            ]
           ],
           "sequential": [
            [
             0,
             "#0d0887"
            ],
            [
             0.1111111111111111,
             "#46039f"
            ],
            [
             0.2222222222222222,
             "#7201a8"
            ],
            [
             0.3333333333333333,
             "#9c179e"
            ],
            [
             0.4444444444444444,
             "#bd3786"
            ],
            [
             0.5555555555555556,
             "#d8576b"
            ],
            [
             0.6666666666666666,
             "#ed7953"
            ],
            [
             0.7777777777777778,
             "#fb9f3a"
            ],
            [
             0.8888888888888888,
             "#fdca26"
            ],
            [
             1,
             "#f0f921"
            ]
           ],
           "sequentialminus": [
            [
             0,
             "#0d0887"
            ],
            [
             0.1111111111111111,
             "#46039f"
            ],
            [
             0.2222222222222222,
             "#7201a8"
            ],
            [
             0.3333333333333333,
             "#9c179e"
            ],
            [
             0.4444444444444444,
             "#bd3786"
            ],
            [
             0.5555555555555556,
             "#d8576b"
            ],
            [
             0.6666666666666666,
             "#ed7953"
            ],
            [
             0.7777777777777778,
             "#fb9f3a"
            ],
            [
             0.8888888888888888,
             "#fdca26"
            ],
            [
             1,
             "#f0f921"
            ]
           ]
          },
          "colorway": [
           "#636efa",
           "#EF553B",
           "#00cc96",
           "#ab63fa",
           "#FFA15A",
           "#19d3f3",
           "#FF6692",
           "#B6E880",
           "#FF97FF",
           "#FECB52"
          ],
          "font": {
           "color": "#2a3f5f"
          },
          "geo": {
           "bgcolor": "white",
           "lakecolor": "white",
           "landcolor": "white",
           "showlakes": true,
           "showland": true,
           "subunitcolor": "#C8D4E3"
          },
          "hoverlabel": {
           "align": "left"
          },
          "hovermode": "closest",
          "mapbox": {
           "style": "light"
          },
          "paper_bgcolor": "white",
          "plot_bgcolor": "white",
          "polar": {
           "angularaxis": {
            "gridcolor": "#EBF0F8",
            "linecolor": "#EBF0F8",
            "ticks": ""
           },
           "bgcolor": "white",
           "radialaxis": {
            "gridcolor": "#EBF0F8",
            "linecolor": "#EBF0F8",
            "ticks": ""
           }
          },
          "scene": {
           "xaxis": {
            "backgroundcolor": "white",
            "gridcolor": "#DFE8F3",
            "gridwidth": 2,
            "linecolor": "#EBF0F8",
            "showbackground": true,
            "ticks": "",
            "zerolinecolor": "#EBF0F8"
           },
           "yaxis": {
            "backgroundcolor": "white",
            "gridcolor": "#DFE8F3",
            "gridwidth": 2,
            "linecolor": "#EBF0F8",
            "showbackground": true,
            "ticks": "",
            "zerolinecolor": "#EBF0F8"
           },
           "zaxis": {
            "backgroundcolor": "white",
            "gridcolor": "#DFE8F3",
            "gridwidth": 2,
            "linecolor": "#EBF0F8",
            "showbackground": true,
            "ticks": "",
            "zerolinecolor": "#EBF0F8"
           }
          },
          "shapedefaults": {
           "line": {
            "color": "#2a3f5f"
           }
          },
          "ternary": {
           "aaxis": {
            "gridcolor": "#DFE8F3",
            "linecolor": "#A2B1C6",
            "ticks": ""
           },
           "baxis": {
            "gridcolor": "#DFE8F3",
            "linecolor": "#A2B1C6",
            "ticks": ""
           },
           "bgcolor": "white",
           "caxis": {
            "gridcolor": "#DFE8F3",
            "linecolor": "#A2B1C6",
            "ticks": ""
           }
          },
          "title": {
           "x": 0.05
          },
          "xaxis": {
           "automargin": true,
           "gridcolor": "#EBF0F8",
           "linecolor": "#EBF0F8",
           "ticks": "",
           "title": {
            "standoff": 15
           },
           "zerolinecolor": "#EBF0F8",
           "zerolinewidth": 2
          },
          "yaxis": {
           "automargin": true,
           "gridcolor": "#EBF0F8",
           "linecolor": "#EBF0F8",
           "ticks": "",
           "title": {
            "standoff": 15
           },
           "zerolinecolor": "#EBF0F8",
           "zerolinewidth": 2
          }
         }
        },
        "title": {
         "text": "GHZ_var_nonzero_eigenvalues vs error colored by error"
        },
        "width": 800,
        "xaxis": {
         "anchor": "y",
         "domain": [
          0,
          1
         ],
         "title": {
          "text": "GHZ_var_nonzero_eigenvalues"
         }
        },
        "yaxis": {
         "anchor": "x",
         "domain": [
          0,
          1
         ],
         "title": {
          "text": "error"
         }
        }
       }
      }
     },
     "metadata": {},
     "output_type": "display_data"
    },
    {
     "data": {
      "application/vnd.plotly.v1+json": {
       "config": {
        "plotlyServerURL": "https://plot.ly"
       },
       "data": [
        {
         "customdata": [
          [
           "test0"
          ],
          [
           "test131"
          ],
          [
           "test150"
          ],
          [
           "test164"
          ],
          [
           "test169"
          ],
          [
           "test248"
          ],
          [
           "test286"
          ],
          [
           "test326"
          ],
          [
           "test346"
          ],
          [
           "test43"
          ],
          [
           "test56"
          ],
          [
           "test58"
          ],
          [
           "test64"
          ]
         ],
         "hovertemplate": "GHZ_d_eff=%{x}<br>error=%{marker.color}<br>test_key=%{customdata[0]}<extra></extra>",
         "legendgroup": "",
         "marker": {
          "color": {
           "bdata": "koSZG97iE8AGUGssVMwJwBNHbkNmRBLAu++NKB7QCcBj2+qipOYPwPfWhPItXBHAUk2bh1O5EsAqsZFH9rsLwL1fZheeORLAuNuQYIaBDMAK7jwe3rEQwEjbpiJFIA/A08dsCXe8CMA=",
           "dtype": "f8"
          },
          "coloraxis": "coloraxis",
          "line": {
           "color": "black",
           "width": 1
          },
          "size": 12,
          "symbol": "circle"
         },
         "mode": "markers",
         "name": "",
         "orientation": "v",
         "showlegend": false,
         "type": "scatter",
         "x": {
          "bdata": "PBWadX5D6j+2lkbyddjpP2f0A67+3Og/9SAVFtn36T8cO/qYLjToP9IxnJzwTuk/jiEiFsM+5z/bsNb51XfqPyQx6QoNuOg/miIyZwfu6T/SgxBGt7/pP+bump559uY/Br+RKhDs6T8=",
          "dtype": "f8"
         },
         "xaxis": "x",
         "y": {
          "bdata": "koSZG97iE8AGUGssVMwJwBNHbkNmRBLAu++NKB7QCcBj2+qipOYPwPfWhPItXBHAUk2bh1O5EsAqsZFH9rsLwL1fZheeORLAuNuQYIaBDMAK7jwe3rEQwEjbpiJFIA/A08dsCXe8CMA=",
          "dtype": "f8"
         },
         "yaxis": "y"
        }
       ],
       "layout": {
        "coloraxis": {
         "colorbar": {
          "len": 0.9,
          "thickness": 30,
          "title": {
           "text": "error"
          },
          "x": 1.03,
          "y": 0.5,
          "yanchor": "middle"
         },
         "colorscale": [
          [
           0,
           "#fde725"
          ],
          [
           0.010101010101010102,
           "#f4e61e"
          ],
          [
           0.020202020202020204,
           "#e7e419"
          ],
          [
           0.030303030303030304,
           "#dde318"
          ],
          [
           0.04040404040404041,
           "#d2e21b"
          ],
          [
           0.050505050505050504,
           "#c5e021"
          ],
          [
           0.06060606060606061,
           "#bade28"
          ],
          [
           0.0707070707070707,
           "#b0dd2f"
          ],
          [
           0.08080808080808081,
           "#a2da37"
          ],
          [
           0.09090909090909091,
           "#98d83e"
          ],
          [
           0.10101010101010101,
           "#8ed645"
          ],
          [
           0.1111111111111111,
           "#84d44b"
          ],
          [
           0.12121212121212122,
           "#7ad151"
          ],
          [
           0.13131313131313133,
           "#70cf57"
          ],
          [
           0.1414141414141414,
           "#67cc5c"
          ],
          [
           0.15151515151515152,
           "#5ec962"
          ],
          [
           0.16161616161616163,
           "#56c667"
          ],
          [
           0.1717171717171717,
           "#50c46a"
          ],
          [
           0.18181818181818182,
           "#48c16e"
          ],
          [
           0.1919191919191919,
           "#40bd72"
          ],
          [
           0.20202020202020202,
           "#3bbb75"
          ],
          [
           0.21212121212121213,
           "#35b779"
          ],
          [
           0.2222222222222222,
           "#2fb47c"
          ],
          [
           0.23232323232323232,
           "#2cb17e"
          ],
          [
           0.24242424242424243,
           "#27ad81"
          ],
          [
           0.25252525252525254,
           "#25ab82"
          ],
          [
           0.26262626262626265,
           "#22a884"
          ],
          [
           0.2727272727272727,
           "#20a486"
          ],
          [
           0.2828282828282828,
           "#1fa187"
          ],
          [
           0.29292929292929293,
           "#1f9f88"
          ],
          [
           0.30303030303030304,
           "#1e9b8a"
          ],
          [
           0.31313131313131315,
           "#1f988b"
          ],
          [
           0.32323232323232326,
           "#1f958b"
          ],
          [
           0.3333333333333333,
           "#20928c"
          ],
          [
           0.3434343434343434,
           "#21908d"
          ],
          [
           0.35353535353535354,
           "#228d8d"
          ],
          [
           0.36363636363636365,
           "#238a8d"
          ],
          [
           0.37373737373737376,
           "#24878e"
          ],
          [
           0.3838383838383838,
           "#25848e"
          ],
          [
           0.3939393939393939,
           "#26828e"
          ],
          [
           0.40404040404040403,
           "#27808e"
          ],
          [
           0.41414141414141414,
           "#287d8e"
          ],
          [
           0.42424242424242425,
           "#297a8e"
          ],
          [
           0.43434343434343436,
           "#2a778e"
          ],
          [
           0.4444444444444444,
           "#2b758e"
          ],
          [
           0.45454545454545453,
           "#2c728e"
          ],
          [
           0.46464646464646464,
           "#2d708e"
          ],
          [
           0.47474747474747475,
           "#2e6e8e"
          ],
          [
           0.48484848484848486,
           "#2f6b8e"
          ],
          [
           0.494949494949495,
           "#30698e"
          ],
          [
           0.5050505050505051,
           "#31668e"
          ],
          [
           0.5151515151515151,
           "#32648e"
          ],
          [
           0.5252525252525253,
           "#33628d"
          ],
          [
           0.5353535353535354,
           "#355f8d"
          ],
          [
           0.5454545454545454,
           "#365d8d"
          ],
          [
           0.5555555555555556,
           "#375b8d"
          ],
          [
           0.5656565656565656,
           "#38588c"
          ],
          [
           0.5757575757575758,
           "#39558c"
          ],
          [
           0.5858585858585859,
           "#3a538b"
          ],
          [
           0.5959595959595959,
           "#3b518b"
          ],
          [
           0.6060606060606061,
           "#3c4f8a"
          ],
          [
           0.6161616161616161,
           "#3d4d8a"
          ],
          [
           0.6262626262626263,
           "#3e4a89"
          ],
          [
           0.6363636363636364,
           "#3f4889"
          ],
          [
           0.6464646464646465,
           "#404688"
          ],
          [
           0.6565656565656566,
           "#414487"
          ],
          [
           0.6666666666666666,
           "#424186"
          ],
          [
           0.6767676767676768,
           "#423f85"
          ],
          [
           0.6868686868686869,
           "#433d84"
          ],
          [
           0.696969696969697,
           "#443a83"
          ],
          [
           0.7070707070707071,
           "#453882"
          ],
          [
           0.7171717171717171,
           "#453581"
          ],
          [
           0.7272727272727273,
           "#463480"
          ],
          [
           0.7373737373737373,
           "#46327e"
          ],
          [
           0.7474747474747475,
           "#472f7d"
          ],
          [
           0.7575757575757576,
           "#472e7c"
          ],
          [
           0.7676767676767676,
           "#472c7a"
          ],
          [
           0.7777777777777778,
           "#482979"
          ],
          [
           0.7878787878787878,
           "#482878"
          ],
          [
           0.797979797979798,
           "#482576"
          ],
          [
           0.8080808080808081,
           "#482374"
          ],
          [
           0.8181818181818182,
           "#482173"
          ],
          [
           0.8282828282828283,
           "#481f70"
          ],
          [
           0.8383838383838383,
           "#481d6f"
          ],
          [
           0.8484848484848485,
           "#481c6e"
          ],
          [
           0.8585858585858586,
           "#481a6c"
          ],
          [
           0.8686868686868687,
           "#48186a"
          ],
          [
           0.8787878787878788,
           "#481668"
          ],
          [
           0.8888888888888888,
           "#481467"
          ],
          [
           0.898989898989899,
           "#471365"
          ],
          [
           0.9090909090909091,
           "#471063"
          ],
          [
           0.9191919191919192,
           "#470e61"
          ],
          [
           0.9292929292929293,
           "#470d60"
          ],
          [
           0.9393939393939394,
           "#460b5e"
          ],
          [
           0.9494949494949495,
           "#46085c"
          ],
          [
           0.9595959595959596,
           "#46075a"
          ],
          [
           0.9696969696969697,
           "#450559"
          ],
          [
           0.9797979797979798,
           "#450457"
          ],
          [
           0.98989898989899,
           "#440256"
          ],
          [
           1,
           "#440154"
          ]
         ]
        },
        "height": 600,
        "legend": {
         "tracegroupgap": 0
        },
        "shapes": [
         {
          "layer": "below",
          "line": {
           "color": "black",
           "width": 2
          },
          "type": "rect",
          "x0": 0,
          "x1": 1,
          "xref": "paper",
          "y0": 0,
          "y1": 1,
          "yref": "paper"
         }
        ],
        "template": {
         "data": {
          "bar": [
           {
            "error_x": {
             "color": "#2a3f5f"
            },
            "error_y": {
             "color": "#2a3f5f"
            },
            "marker": {
             "line": {
              "color": "white",
              "width": 0.5
             },
             "pattern": {
              "fillmode": "overlay",
              "size": 10,
              "solidity": 0.2
             }
            },
            "type": "bar"
           }
          ],
          "barpolar": [
           {
            "marker": {
             "line": {
              "color": "white",
              "width": 0.5
             },
             "pattern": {
              "fillmode": "overlay",
              "size": 10,
              "solidity": 0.2
             }
            },
            "type": "barpolar"
           }
          ],
          "carpet": [
           {
            "aaxis": {
             "endlinecolor": "#2a3f5f",
             "gridcolor": "#C8D4E3",
             "linecolor": "#C8D4E3",
             "minorgridcolor": "#C8D4E3",
             "startlinecolor": "#2a3f5f"
            },
            "baxis": {
             "endlinecolor": "#2a3f5f",
             "gridcolor": "#C8D4E3",
             "linecolor": "#C8D4E3",
             "minorgridcolor": "#C8D4E3",
             "startlinecolor": "#2a3f5f"
            },
            "type": "carpet"
           }
          ],
          "choropleth": [
           {
            "colorbar": {
             "outlinewidth": 0,
             "ticks": ""
            },
            "type": "choropleth"
           }
          ],
          "contour": [
           {
            "colorbar": {
             "outlinewidth": 0,
             "ticks": ""
            },
            "colorscale": [
             [
              0,
              "#0d0887"
             ],
             [
              0.1111111111111111,
              "#46039f"
             ],
             [
              0.2222222222222222,
              "#7201a8"
             ],
             [
              0.3333333333333333,
              "#9c179e"
             ],
             [
              0.4444444444444444,
              "#bd3786"
             ],
             [
              0.5555555555555556,
              "#d8576b"
             ],
             [
              0.6666666666666666,
              "#ed7953"
             ],
             [
              0.7777777777777778,
              "#fb9f3a"
             ],
             [
              0.8888888888888888,
              "#fdca26"
             ],
             [
              1,
              "#f0f921"
             ]
            ],
            "type": "contour"
           }
          ],
          "contourcarpet": [
           {
            "colorbar": {
             "outlinewidth": 0,
             "ticks": ""
            },
            "type": "contourcarpet"
           }
          ],
          "heatmap": [
           {
            "colorbar": {
             "outlinewidth": 0,
             "ticks": ""
            },
            "colorscale": [
             [
              0,
              "#0d0887"
             ],
             [
              0.1111111111111111,
              "#46039f"
             ],
             [
              0.2222222222222222,
              "#7201a8"
             ],
             [
              0.3333333333333333,
              "#9c179e"
             ],
             [
              0.4444444444444444,
              "#bd3786"
             ],
             [
              0.5555555555555556,
              "#d8576b"
             ],
             [
              0.6666666666666666,
              "#ed7953"
             ],
             [
              0.7777777777777778,
              "#fb9f3a"
             ],
             [
              0.8888888888888888,
              "#fdca26"
             ],
             [
              1,
              "#f0f921"
             ]
            ],
            "type": "heatmap"
           }
          ],
          "histogram": [
           {
            "marker": {
             "pattern": {
              "fillmode": "overlay",
              "size": 10,
              "solidity": 0.2
             }
            },
            "type": "histogram"
           }
          ],
          "histogram2d": [
           {
            "colorbar": {
             "outlinewidth": 0,
             "ticks": ""
            },
            "colorscale": [
             [
              0,
              "#0d0887"
             ],
             [
              0.1111111111111111,
              "#46039f"
             ],
             [
              0.2222222222222222,
              "#7201a8"
             ],
             [
              0.3333333333333333,
              "#9c179e"
             ],
             [
              0.4444444444444444,
              "#bd3786"
             ],
             [
              0.5555555555555556,
              "#d8576b"
             ],
             [
              0.6666666666666666,
              "#ed7953"
             ],
             [
              0.7777777777777778,
              "#fb9f3a"
             ],
             [
              0.8888888888888888,
              "#fdca26"
             ],
             [
              1,
              "#f0f921"
             ]
            ],
            "type": "histogram2d"
           }
          ],
          "histogram2dcontour": [
           {
            "colorbar": {
             "outlinewidth": 0,
             "ticks": ""
            },
            "colorscale": [
             [
              0,
              "#0d0887"
             ],
             [
              0.1111111111111111,
              "#46039f"
             ],
             [
              0.2222222222222222,
              "#7201a8"
             ],
             [
              0.3333333333333333,
              "#9c179e"
             ],
             [
              0.4444444444444444,
              "#bd3786"
             ],
             [
              0.5555555555555556,
              "#d8576b"
             ],
             [
              0.6666666666666666,
              "#ed7953"
             ],
             [
              0.7777777777777778,
              "#fb9f3a"
             ],
             [
              0.8888888888888888,
              "#fdca26"
             ],
             [
              1,
              "#f0f921"
             ]
            ],
            "type": "histogram2dcontour"
           }
          ],
          "mesh3d": [
           {
            "colorbar": {
             "outlinewidth": 0,
             "ticks": ""
            },
            "type": "mesh3d"
           }
          ],
          "parcoords": [
           {
            "line": {
             "colorbar": {
              "outlinewidth": 0,
              "ticks": ""
             }
            },
            "type": "parcoords"
           }
          ],
          "pie": [
           {
            "automargin": true,
            "type": "pie"
           }
          ],
          "scatter": [
           {
            "fillpattern": {
             "fillmode": "overlay",
             "size": 10,
             "solidity": 0.2
            },
            "type": "scatter"
           }
          ],
          "scatter3d": [
           {
            "line": {
             "colorbar": {
              "outlinewidth": 0,
              "ticks": ""
             }
            },
            "marker": {
             "colorbar": {
              "outlinewidth": 0,
              "ticks": ""
             }
            },
            "type": "scatter3d"
           }
          ],
          "scattercarpet": [
           {
            "marker": {
             "colorbar": {
              "outlinewidth": 0,
              "ticks": ""
             }
            },
            "type": "scattercarpet"
           }
          ],
          "scattergeo": [
           {
            "marker": {
             "colorbar": {
              "outlinewidth": 0,
              "ticks": ""
             }
            },
            "type": "scattergeo"
           }
          ],
          "scattergl": [
           {
            "marker": {
             "colorbar": {
              "outlinewidth": 0,
              "ticks": ""
             }
            },
            "type": "scattergl"
           }
          ],
          "scattermap": [
           {
            "marker": {
             "colorbar": {
              "outlinewidth": 0,
              "ticks": ""
             }
            },
            "type": "scattermap"
           }
          ],
          "scattermapbox": [
           {
            "marker": {
             "colorbar": {
              "outlinewidth": 0,
              "ticks": ""
             }
            },
            "type": "scattermapbox"
           }
          ],
          "scatterpolar": [
           {
            "marker": {
             "colorbar": {
              "outlinewidth": 0,
              "ticks": ""
             }
            },
            "type": "scatterpolar"
           }
          ],
          "scatterpolargl": [
           {
            "marker": {
             "colorbar": {
              "outlinewidth": 0,
              "ticks": ""
             }
            },
            "type": "scatterpolargl"
           }
          ],
          "scatterternary": [
           {
            "marker": {
             "colorbar": {
              "outlinewidth": 0,
              "ticks": ""
             }
            },
            "type": "scatterternary"
           }
          ],
          "surface": [
           {
            "colorbar": {
             "outlinewidth": 0,
             "ticks": ""
            },
            "colorscale": [
             [
              0,
              "#0d0887"
             ],
             [
              0.1111111111111111,
              "#46039f"
             ],
             [
              0.2222222222222222,
              "#7201a8"
             ],
             [
              0.3333333333333333,
              "#9c179e"
             ],
             [
              0.4444444444444444,
              "#bd3786"
             ],
             [
              0.5555555555555556,
              "#d8576b"
             ],
             [
              0.6666666666666666,
              "#ed7953"
             ],
             [
              0.7777777777777778,
              "#fb9f3a"
             ],
             [
              0.8888888888888888,
              "#fdca26"
             ],
             [
              1,
              "#f0f921"
             ]
            ],
            "type": "surface"
           }
          ],
          "table": [
           {
            "cells": {
             "fill": {
              "color": "#EBF0F8"
             },
             "line": {
              "color": "white"
             }
            },
            "header": {
             "fill": {
              "color": "#C8D4E3"
             },
             "line": {
              "color": "white"
             }
            },
            "type": "table"
           }
          ]
         },
         "layout": {
          "annotationdefaults": {
           "arrowcolor": "#2a3f5f",
           "arrowhead": 0,
           "arrowwidth": 1
          },
          "autotypenumbers": "strict",
          "coloraxis": {
           "colorbar": {
            "outlinewidth": 0,
            "ticks": ""
           }
          },
          "colorscale": {
           "diverging": [
            [
             0,
             "#8e0152"
            ],
            [
             0.1,
             "#c51b7d"
            ],
            [
             0.2,
             "#de77ae"
            ],
            [
             0.3,
             "#f1b6da"
            ],
            [
             0.4,
             "#fde0ef"
            ],
            [
             0.5,
             "#f7f7f7"
            ],
            [
             0.6,
             "#e6f5d0"
            ],
            [
             0.7,
             "#b8e186"
            ],
            [
             0.8,
             "#7fbc41"
            ],
            [
             0.9,
             "#4d9221"
            ],
            [
             1,
             "#276419"
            ]
           ],
           "sequential": [
            [
             0,
             "#0d0887"
            ],
            [
             0.1111111111111111,
             "#46039f"
            ],
            [
             0.2222222222222222,
             "#7201a8"
            ],
            [
             0.3333333333333333,
             "#9c179e"
            ],
            [
             0.4444444444444444,
             "#bd3786"
            ],
            [
             0.5555555555555556,
             "#d8576b"
            ],
            [
             0.6666666666666666,
             "#ed7953"
            ],
            [
             0.7777777777777778,
             "#fb9f3a"
            ],
            [
             0.8888888888888888,
             "#fdca26"
            ],
            [
             1,
             "#f0f921"
            ]
           ],
           "sequentialminus": [
            [
             0,
             "#0d0887"
            ],
            [
             0.1111111111111111,
             "#46039f"
            ],
            [
             0.2222222222222222,
             "#7201a8"
            ],
            [
             0.3333333333333333,
             "#9c179e"
            ],
            [
             0.4444444444444444,
             "#bd3786"
            ],
            [
             0.5555555555555556,
             "#d8576b"
            ],
            [
             0.6666666666666666,
             "#ed7953"
            ],
            [
             0.7777777777777778,
             "#fb9f3a"
            ],
            [
             0.8888888888888888,
             "#fdca26"
            ],
            [
             1,
             "#f0f921"
            ]
           ]
          },
          "colorway": [
           "#636efa",
           "#EF553B",
           "#00cc96",
           "#ab63fa",
           "#FFA15A",
           "#19d3f3",
           "#FF6692",
           "#B6E880",
           "#FF97FF",
           "#FECB52"
          ],
          "font": {
           "color": "#2a3f5f"
          },
          "geo": {
           "bgcolor": "white",
           "lakecolor": "white",
           "landcolor": "white",
           "showlakes": true,
           "showland": true,
           "subunitcolor": "#C8D4E3"
          },
          "hoverlabel": {
           "align": "left"
          },
          "hovermode": "closest",
          "mapbox": {
           "style": "light"
          },
          "paper_bgcolor": "white",
          "plot_bgcolor": "white",
          "polar": {
           "angularaxis": {
            "gridcolor": "#EBF0F8",
            "linecolor": "#EBF0F8",
            "ticks": ""
           },
           "bgcolor": "white",
           "radialaxis": {
            "gridcolor": "#EBF0F8",
            "linecolor": "#EBF0F8",
            "ticks": ""
           }
          },
          "scene": {
           "xaxis": {
            "backgroundcolor": "white",
            "gridcolor": "#DFE8F3",
            "gridwidth": 2,
            "linecolor": "#EBF0F8",
            "showbackground": true,
            "ticks": "",
            "zerolinecolor": "#EBF0F8"
           },
           "yaxis": {
            "backgroundcolor": "white",
            "gridcolor": "#DFE8F3",
            "gridwidth": 2,
            "linecolor": "#EBF0F8",
            "showbackground": true,
            "ticks": "",
            "zerolinecolor": "#EBF0F8"
           },
           "zaxis": {
            "backgroundcolor": "white",
            "gridcolor": "#DFE8F3",
            "gridwidth": 2,
            "linecolor": "#EBF0F8",
            "showbackground": true,
            "ticks": "",
            "zerolinecolor": "#EBF0F8"
           }
          },
          "shapedefaults": {
           "line": {
            "color": "#2a3f5f"
           }
          },
          "ternary": {
           "aaxis": {
            "gridcolor": "#DFE8F3",
            "linecolor": "#A2B1C6",
            "ticks": ""
           },
           "baxis": {
            "gridcolor": "#DFE8F3",
            "linecolor": "#A2B1C6",
            "ticks": ""
           },
           "bgcolor": "white",
           "caxis": {
            "gridcolor": "#DFE8F3",
            "linecolor": "#A2B1C6",
            "ticks": ""
           }
          },
          "title": {
           "x": 0.05
          },
          "xaxis": {
           "automargin": true,
           "gridcolor": "#EBF0F8",
           "linecolor": "#EBF0F8",
           "ticks": "",
           "title": {
            "standoff": 15
           },
           "zerolinecolor": "#EBF0F8",
           "zerolinewidth": 2
          },
          "yaxis": {
           "automargin": true,
           "gridcolor": "#EBF0F8",
           "linecolor": "#EBF0F8",
           "ticks": "",
           "title": {
            "standoff": 15
           },
           "zerolinecolor": "#EBF0F8",
           "zerolinewidth": 2
          }
         }
        },
        "title": {
         "text": "GHZ_d_eff vs error colored by error"
        },
        "width": 800,
        "xaxis": {
         "anchor": "y",
         "domain": [
          0,
          1
         ],
         "title": {
          "text": "GHZ_d_eff"
         }
        },
        "yaxis": {
         "anchor": "x",
         "domain": [
          0,
          1
         ],
         "title": {
          "text": "error"
         }
        }
       }
      }
     },
     "metadata": {},
     "output_type": "display_data"
    }
   ],
   "source": [
    "fig =plot_metric_vs_error_plotly(df_agg_by_test_key, qfim_type=\"GHZ\", x_metric=\"trace_eigenvalues\")\n",
    "fig.show()\n",
    "fig =plot_metric_vs_error_plotly(df_agg_by_test_key, qfim_type=\"GHZ\", x_metric=\"var_nonzero_eigenvalues\")\n",
    "fig.show()\n",
    "fig =plot_metric_vs_error_plotly(df_agg_by_test_key, qfim_type=\"GHZ\", x_metric=\"d_eff\")\n",
    "fig.show()\n",
    "\n",
    "\n",
    "# fig = plot_two_metrics_with_color(\n",
    "#     df_final,\n",
    "#     x_qfim_type=None,\n",
    "   \n",
    "#     x_metric=\"dqfim_trace_eigenvalues\",\n",
    "#     y_qfim_type=None,\n",
    "#     y_metric=\"dqfim_var_all_eigenvalues\",\n",
    "#     color_metric=\"error\",\n",
    "#     # color_metric=\"dqfim_abbas_deff_raw\",\n",
    "#     add_trendline=True,\n",
    "#     cmap_name=\"plasma\",\n",
    "#     # log_x=True,\n",
    "#     # log_y=True,\n",
    "#     gamma=1.2,\n",
    "# )\n",
    "# fig.show() \n"
   ]
  },
  {
   "cell_type": "code",
   "execution_count": 40,
   "metadata": {},
   "outputs": [
    {
     "data": {
      "text/plain": [
       "Index(['test_key', 'avg_fidelity', 'error', 'avg_infidelity', 'N_ctrl', 'N_R',\n",
       "       'Trotter_Step', 'num_sampled_states', 'num_train', 'GHZ_draw_rank',\n",
       "       'GHZ_var_all_eigenvalues', 'GHZ_var_all_eigenvalues_doff_0',\n",
       "       'GHZ_var_nonzero_eigenvalues', 'GHZ_var_nonzero_eigenvalues_doff_0',\n",
       "       'GHZ_trace_eigenvalues', 'GHZ_var_all_normalized_by_rank',\n",
       "       'GHZ_var_nonzero_normalized_by_rank', 'GHZ_trace_normalized_by_rank',\n",
       "       'GHZ_var_nonzero_log', 'GHZ_ipr_deff_norm', 'GHZ_abbas_deff_raw',\n",
       "       'GHZ_abbas_deff_norm', 'GHZ_d_eff', 'GHZ_min_nonzero_eigenvalue',\n",
       "       'GHZ_spread_metric_variance', 'GHZ_spread_metric_mad',\n",
       "       'basis_draw_rank', 'basis_var_all_eigenvalues',\n",
       "       'basis_var_all_eigenvalues_doff_0', 'basis_var_nonzero_eigenvalues',\n",
       "       'basis_var_nonzero_eigenvalues_doff_0', 'basis_trace_eigenvalues',\n",
       "       'basis_var_all_normalized_by_rank',\n",
       "       'basis_var_nonzero_normalized_by_rank',\n",
       "       'basis_trace_normalized_by_rank', 'basis_var_nonzero_log',\n",
       "       'basis_ipr_deff_norm', 'basis_abbas_deff_raw', 'basis_abbas_deff_norm',\n",
       "       'basis_d_eff', 'basis_min_nonzero_eigenvalue',\n",
       "       'basis_spread_metric_variance', 'basis_spread_metric_mad',\n",
       "       'dqfim_draw_rank', 'dqfim_var_all_eigenvalues',\n",
       "       'dqfim_var_all_eigenvalues_doff_0', 'dqfim_var_nonzero_eigenvalues',\n",
       "       'dqfim_var_nonzero_eigenvalues_doff_0', 'dqfim_trace_eigenvalues',\n",
       "       'dqfim_var_all_normalized_by_rank',\n",
       "       'dqfim_var_nonzero_normalized_by_rank',\n",
       "       'dqfim_trace_normalized_by_rank', 'dqfim_var_nonzero_log',\n",
       "       'dqfim_ipr_deff_norm', 'dqfim_abbas_deff_raw', 'dqfim_abbas_deff_norm',\n",
       "       'dqfim_d_eff', 'dqfim_min_nonzero_eigenvalue',\n",
       "       'dqfim_spread_metric_variance', 'dqfim_spread_metric_mad',\n",
       "       'random_sample_dqfim_draw_rank',\n",
       "       'random_sample_dqfim_var_all_eigenvalues',\n",
       "       'random_sample_dqfim_var_all_eigenvalues_doff_0',\n",
       "       'random_sample_dqfim_var_nonzero_eigenvalues',\n",
       "       'random_sample_dqfim_var_nonzero_eigenvalues_doff_0',\n",
       "       'random_sample_dqfim_trace_eigenvalues',\n",
       "       'random_sample_dqfim_var_all_normalized_by_rank',\n",
       "       'random_sample_dqfim_var_nonzero_normalized_by_rank',\n",
       "       'random_sample_dqfim_trace_normalized_by_rank',\n",
       "       'random_sample_dqfim_var_nonzero_log',\n",
       "       'random_sample_dqfim_ipr_deff_norm',\n",
       "       'random_sample_dqfim_abbas_deff_raw',\n",
       "       'random_sample_dqfim_abbas_deff_norm', 'random_sample_dqfim_d_eff',\n",
       "       'random_sample_dqfim_min_nonzero_eigenvalue',\n",
       "       'random_sample_dqfim_spread_metric_variance',\n",
       "       'random_sample_dqfim_spread_metric_mad', 'tdqfim_draw_rank',\n",
       "       'tdqfim_var_all_eigenvalues', 'tdqfim_var_all_eigenvalues_doff_0',\n",
       "       'tdqfim_var_nonzero_eigenvalues',\n",
       "       'tdqfim_var_nonzero_eigenvalues_doff_0', 'tdqfim_trace_eigenvalues',\n",
       "       'tdqfim_var_all_normalized_by_rank',\n",
       "       'tdqfim_var_nonzero_normalized_by_rank',\n",
       "       'tdqfim_trace_normalized_by_rank', 'tdqfim_var_nonzero_log',\n",
       "       'tdqfim_ipr_deff_norm', 'tdqfim_abbas_deff_raw',\n",
       "       'tdqfim_abbas_deff_norm', 'tdqfim_d_eff',\n",
       "       'tdqfim_min_nonzero_eigenvalue', 'tdqfim_spread_metric_variance',\n",
       "       'tdqfim_spread_metric_mad'],\n",
       "      dtype='object')"
      ]
     },
     "execution_count": 40,
     "metadata": {},
     "output_type": "execute_result"
    }
   ],
   "source": [
    "df_agg_by_test_key.columns"
   ]
  },
  {
   "cell_type": "code",
   "execution_count": 20,
   "metadata": {},
   "outputs": [
    {
     "name": "stdout",
     "output_type": "stream",
     "text": [
      "Color column 'GHZ_var_nonzero_eigenvalues' minimum value: 123.15338134765625\n",
      "test corresponding to minimum value:\n",
      "12    test64\n",
      "Name: test_key, dtype: object\n",
      "Color column 'GHZ_var_nonzero_eigenvalues' maximum value: 2292.374267578125\n",
      "test corresponding to maximum value:\n",
      "6    test286\n",
      "Name: test_key, dtype: object\n",
      "\n",
      "adj_min: 116.99571228027344, adj_max: 2292.374267578125\n"
     ]
    },
    {
     "data": {
      "application/vnd.plotly.v1+json": {
       "config": {
        "plotlyServerURL": "https://plot.ly"
       },
       "data": [
        {
         "customdata": [
          [
           "test0"
          ],
          [
           "test131"
          ],
          [
           "test150"
          ],
          [
           "test164"
          ],
          [
           "test169"
          ],
          [
           "test248"
          ],
          [
           "test286"
          ],
          [
           "test326"
          ],
          [
           "test346"
          ],
          [
           "test43"
          ],
          [
           "test56"
          ],
          [
           "test58"
          ],
          [
           "test64"
          ]
         ],
         "hovertemplate": "GHZ_trace_eigenvalues=%{x}<br>error=%{y}<br>test_key=%{customdata[0]}<br>GHZ_var_nonzero_eigenvalues=%{marker.color}<extra></extra>",
         "legendgroup": "",
         "marker": {
          "color": {
           "bdata": "VUDeQ36d+UI9KelETkr4Q4lAOUPJCdJE/UUPRZhSB0PqePRE6oRORHBEhEOSt/dEiE72Qg==",
           "dtype": "f4"
          },
          "coloraxis": "coloraxis",
          "line": {
           "color": "black",
           "width": 0.75
          },
          "size": 12,
          "symbol": "circle"
         },
         "mode": "markers",
         "name": "",
         "orientation": "v",
         "showlegend": false,
         "type": "scatter",
         "x": {
          "bdata": "WkBCQ95nv0I8FaNDJK9FQ0AqwUL4BKJDBNGTQ97c4EI4iqZDjtZ9Q2a0C0MyOYdD4grCQg==",
          "dtype": "f4"
         },
         "xaxis": "x",
         "y": {
          "bdata": "koSZG97iE8AGUGssVMwJwBNHbkNmRBLAu++NKB7QCcBj2+qipOYPwPfWhPItXBHAUk2bh1O5EsAqsZFH9rsLwL1fZheeORLAuNuQYIaBDMAK7jwe3rEQwEjbpiJFIA/A08dsCXe8CMA=",
          "dtype": "f8"
         },
         "yaxis": "y"
        },
        {
         "hovertemplate": "<b>OLS trendline</b><br>error = -0.0039999 * GHZ_trace_eigenvalues + -3.13808<br>R<sup>2</sup>=0.368812<br><br>GHZ_trace_eigenvalues=%{x}<br>error=%{y} <b>(trend)</b><extra></extra>",
         "legendgroup": "Overall Trendline",
         "line": {
          "color": "red"
         },
         "marker": {
          "line": {
           "color": "black",
           "width": 0.75
          },
          "size": 12,
          "symbol": "circle"
         },
         "mode": "lines",
         "name": "Overall Trendline",
         "showlegend": true,
         "type": "scatter",
         "x": {
          "bdata": "3me/QkAqwULiCsJC3tzgQma0C0NaQEJDJK9FQ47WfUMyOYdDBNGTQ/gEokM8FaNDOIqmQw==",
          "dtype": "f4"
         },
         "xaxis": "x",
         "y": {
          "bdata": "435/2MUqDMD1Gu2Q+jEMwMpobaOSNQzAZOpPLs+zDMANqjf2OZMNwMW/LbcPUg/As1PjkS5uD8DQglx2F50QwC5pf4ge4RDAHyVZY0dIEcCYVA9ZoLwRwP7ku7BWxRHAVMOeS6jhEcA=",
          "dtype": "f8"
         },
         "yaxis": "y"
        }
       ],
       "layout": {
        "coloraxis": {
         "cmax": 2292.374267578125,
         "cmin": 116.99571228027344,
         "colorbar": {
          "len": 1.1,
          "thickness": 35,
          "title": {
           "text": "GHZ_var_nonzero_eigenvalues"
          },
          "x": 1,
          "y": 0.53,
          "yanchor": "middle"
         },
         "colorscale": [
          [
           0,
           "#f0f921"
          ],
          [
           0.010101010101010102,
           "#f0f724"
          ],
          [
           0.020202020202020204,
           "#f1f525"
          ],
          [
           0.030303030303030304,
           "#f2f227"
          ],
          [
           0.04040404040404041,
           "#f3f027"
          ],
          [
           0.050505050505050504,
           "#f4ed27"
          ],
          [
           0.06060606060606061,
           "#f5e926"
          ],
          [
           0.0707070707070707,
           "#f6e626"
          ],
          [
           0.08080808080808081,
           "#f7e425"
          ],
          [
           0.09090909090909091,
           "#f8e125"
          ],
          [
           0.10101010101010101,
           "#f9dd25"
          ],
          [
           0.1111111111111111,
           "#fada24"
          ],
          [
           0.12121212121212122,
           "#fbd724"
          ],
          [
           0.13131313131313133,
           "#fbd324"
          ],
          [
           0.1414141414141414,
           "#fcd025"
          ],
          [
           0.15151515151515152,
           "#fdcb26"
          ],
          [
           0.16161616161616163,
           "#fdc827"
          ],
          [
           0.1717171717171717,
           "#fdc527"
          ],
          [
           0.18181818181818182,
           "#fdc229"
          ],
          [
           0.1919191919191919,
           "#febe2a"
          ],
          [
           0.20202020202020202,
           "#feba2c"
          ],
          [
           0.21212121212121213,
           "#feb72d"
          ],
          [
           0.2222222222222222,
           "#fdb42f"
          ],
          [
           0.23232323232323232,
           "#fdb130"
          ],
          [
           0.24242424242424243,
           "#fdac33"
          ],
          [
           0.25252525252525254,
           "#fca934"
          ],
          [
           0.26262626262626265,
           "#fca636"
          ],
          [
           0.2727272727272727,
           "#fba238"
          ],
          [
           0.2828282828282828,
           "#fb9f3a"
          ],
          [
           0.29292929292929293,
           "#fa9b3d"
          ],
          [
           0.30303030303030304,
           "#f9983e"
          ],
          [
           0.31313131313131315,
           "#f89441"
          ],
          [
           0.32323232323232326,
           "#f79143"
          ],
          [
           0.3333333333333333,
           "#f68f44"
          ],
          [
           0.3434343434343434,
           "#f58b47"
          ],
          [
           0.35353535353535354,
           "#f48849"
          ],
          [
           0.36363636363636365,
           "#f2844b"
          ],
          [
           0.37373737373737376,
           "#f0804e"
          ],
          [
           0.3838383838383838,
           "#ef7e50"
          ],
          [
           0.3939393939393939,
           "#ed7a52"
          ],
          [
           0.40404040404040403,
           "#ec7754"
          ],
          [
           0.41414141414141414,
           "#ea7457"
          ],
          [
           0.42424242424242425,
           "#e97158"
          ],
          [
           0.43434343434343436,
           "#e76e5b"
          ],
          [
           0.4444444444444444,
           "#e56a5d"
          ],
          [
           0.45454545454545453,
           "#e3685f"
          ],
          [
           0.46464646464646464,
           "#e16462"
          ],
          [
           0.47474747474747475,
           "#de6164"
          ],
          [
           0.48484848484848486,
           "#dd5e66"
          ],
          [
           0.494949494949495,
           "#da5b69"
          ],
          [
           0.5050505050505051,
           "#d8576b"
          ],
          [
           0.5151515151515151,
           "#d6556d"
          ],
          [
           0.5252525252525253,
           "#d45270"
          ],
          [
           0.5353535353535354,
           "#d14e72"
          ],
          [
           0.5454545454545454,
           "#ce4b75"
          ],
          [
           0.5555555555555556,
           "#cc4977"
          ],
          [
           0.5656565656565656,
           "#ca457a"
          ],
          [
           0.5757575757575758,
           "#c7427c"
          ],
          [
           0.5858585858585859,
           "#c43e7f"
          ],
          [
           0.5959595959595959,
           "#c23c81"
          ],
          [
           0.6060606060606061,
           "#bf3984"
          ],
          [
           0.6161616161616161,
           "#bc3587"
          ],
          [
           0.6262626262626263,
           "#b83289"
          ],
          [
           0.6363636363636364,
           "#b52f8c"
          ],
          [
           0.6464646464646465,
           "#b32c8e"
          ],
          [
           0.6565656565656566,
           "#b02991"
          ],
          [
           0.6666666666666666,
           "#ac2694"
          ],
          [
           0.6767676767676768,
           "#a82296"
          ],
          [
           0.6868686868686869,
           "#a51f99"
          ],
          [
           0.696969696969697,
           "#a11b9b"
          ],
          [
           0.7070707070707071,
           "#9d189d"
          ],
          [
           0.7171717171717171,
           "#99159f"
          ],
          [
           0.7272727272727273,
           "#9613a1"
          ],
          [
           0.7373737373737373,
           "#920fa3"
          ],
          [
           0.7474747474747475,
           "#8e0ca4"
          ],
          [
           0.7575757575757576,
           "#8a09a5"
          ],
          [
           0.7676767676767676,
           "#8606a6"
          ],
          [
           0.7777777777777778,
           "#8104a7"
          ],
          [
           0.7878787878787878,
           "#7d03a8"
          ],
          [
           0.797979797979798,
           "#7801a8"
          ],
          [
           0.8080808080808081,
           "#7401a8"
          ],
          [
           0.8181818181818182,
           "#6f00a8"
          ],
          [
           0.8282828282828283,
           "#6a00a8"
          ],
          [
           0.8383838383838383,
           "#6600a7"
          ],
          [
           0.8484848484848485,
           "#6100a7"
          ],
          [
           0.8585858585858586,
           "#5c01a6"
          ],
          [
           0.8686868686868687,
           "#5801a4"
          ],
          [
           0.8787878787878788,
           "#5302a3"
          ],
          [
           0.8888888888888888,
           "#4e02a2"
          ],
          [
           0.898989898989899,
           "#4903a0"
          ],
          [
           0.9090909090909091,
           "#44039e"
          ],
          [
           0.9191919191919192,
           "#3f049c"
          ],
          [
           0.9292929292929293,
           "#3a049a"
          ],
          [
           0.9393939393939394,
           "#350498"
          ],
          [
           0.9494949494949495,
           "#2f0596"
          ],
          [
           0.9595959595959596,
           "#2a0593"
          ],
          [
           0.9696969696969697,
           "#240691"
          ],
          [
           0.9797979797979798,
           "#1d068e"
          ],
          [
           0.98989898989899,
           "#16078a"
          ],
          [
           1,
           "#0d0887"
          ]
         ]
        },
        "height": 600,
        "legend": {
         "tracegroupgap": 0
        },
        "shapes": [
         {
          "layer": "below",
          "line": {
           "color": "black",
           "width": 2
          },
          "type": "rect",
          "x0": 0,
          "x1": 1,
          "xref": "paper",
          "y0": 0,
          "y1": 1,
          "yref": "paper"
         }
        ],
        "template": {
         "data": {
          "bar": [
           {
            "error_x": {
             "color": "#2a3f5f"
            },
            "error_y": {
             "color": "#2a3f5f"
            },
            "marker": {
             "line": {
              "color": "white",
              "width": 0.5
             },
             "pattern": {
              "fillmode": "overlay",
              "size": 10,
              "solidity": 0.2
             }
            },
            "type": "bar"
           }
          ],
          "barpolar": [
           {
            "marker": {
             "line": {
              "color": "white",
              "width": 0.5
             },
             "pattern": {
              "fillmode": "overlay",
              "size": 10,
              "solidity": 0.2
             }
            },
            "type": "barpolar"
           }
          ],
          "carpet": [
           {
            "aaxis": {
             "endlinecolor": "#2a3f5f",
             "gridcolor": "#C8D4E3",
             "linecolor": "#C8D4E3",
             "minorgridcolor": "#C8D4E3",
             "startlinecolor": "#2a3f5f"
            },
            "baxis": {
             "endlinecolor": "#2a3f5f",
             "gridcolor": "#C8D4E3",
             "linecolor": "#C8D4E3",
             "minorgridcolor": "#C8D4E3",
             "startlinecolor": "#2a3f5f"
            },
            "type": "carpet"
           }
          ],
          "choropleth": [
           {
            "colorbar": {
             "outlinewidth": 0,
             "ticks": ""
            },
            "type": "choropleth"
           }
          ],
          "contour": [
           {
            "colorbar": {
             "outlinewidth": 0,
             "ticks": ""
            },
            "colorscale": [
             [
              0,
              "#0d0887"
             ],
             [
              0.1111111111111111,
              "#46039f"
             ],
             [
              0.2222222222222222,
              "#7201a8"
             ],
             [
              0.3333333333333333,
              "#9c179e"
             ],
             [
              0.4444444444444444,
              "#bd3786"
             ],
             [
              0.5555555555555556,
              "#d8576b"
             ],
             [
              0.6666666666666666,
              "#ed7953"
             ],
             [
              0.7777777777777778,
              "#fb9f3a"
             ],
             [
              0.8888888888888888,
              "#fdca26"
             ],
             [
              1,
              "#f0f921"
             ]
            ],
            "type": "contour"
           }
          ],
          "contourcarpet": [
           {
            "colorbar": {
             "outlinewidth": 0,
             "ticks": ""
            },
            "type": "contourcarpet"
           }
          ],
          "heatmap": [
           {
            "colorbar": {
             "outlinewidth": 0,
             "ticks": ""
            },
            "colorscale": [
             [
              0,
              "#0d0887"
             ],
             [
              0.1111111111111111,
              "#46039f"
             ],
             [
              0.2222222222222222,
              "#7201a8"
             ],
             [
              0.3333333333333333,
              "#9c179e"
             ],
             [
              0.4444444444444444,
              "#bd3786"
             ],
             [
              0.5555555555555556,
              "#d8576b"
             ],
             [
              0.6666666666666666,
              "#ed7953"
             ],
             [
              0.7777777777777778,
              "#fb9f3a"
             ],
             [
              0.8888888888888888,
              "#fdca26"
             ],
             [
              1,
              "#f0f921"
             ]
            ],
            "type": "heatmap"
           }
          ],
          "histogram": [
           {
            "marker": {
             "pattern": {
              "fillmode": "overlay",
              "size": 10,
              "solidity": 0.2
             }
            },
            "type": "histogram"
           }
          ],
          "histogram2d": [
           {
            "colorbar": {
             "outlinewidth": 0,
             "ticks": ""
            },
            "colorscale": [
             [
              0,
              "#0d0887"
             ],
             [
              0.1111111111111111,
              "#46039f"
             ],
             [
              0.2222222222222222,
              "#7201a8"
             ],
             [
              0.3333333333333333,
              "#9c179e"
             ],
             [
              0.4444444444444444,
              "#bd3786"
             ],
             [
              0.5555555555555556,
              "#d8576b"
             ],
             [
              0.6666666666666666,
              "#ed7953"
             ],
             [
              0.7777777777777778,
              "#fb9f3a"
             ],
             [
              0.8888888888888888,
              "#fdca26"
             ],
             [
              1,
              "#f0f921"
             ]
            ],
            "type": "histogram2d"
           }
          ],
          "histogram2dcontour": [
           {
            "colorbar": {
             "outlinewidth": 0,
             "ticks": ""
            },
            "colorscale": [
             [
              0,
              "#0d0887"
             ],
             [
              0.1111111111111111,
              "#46039f"
             ],
             [
              0.2222222222222222,
              "#7201a8"
             ],
             [
              0.3333333333333333,
              "#9c179e"
             ],
             [
              0.4444444444444444,
              "#bd3786"
             ],
             [
              0.5555555555555556,
              "#d8576b"
             ],
             [
              0.6666666666666666,
              "#ed7953"
             ],
             [
              0.7777777777777778,
              "#fb9f3a"
             ],
             [
              0.8888888888888888,
              "#fdca26"
             ],
             [
              1,
              "#f0f921"
             ]
            ],
            "type": "histogram2dcontour"
           }
          ],
          "mesh3d": [
           {
            "colorbar": {
             "outlinewidth": 0,
             "ticks": ""
            },
            "type": "mesh3d"
           }
          ],
          "parcoords": [
           {
            "line": {
             "colorbar": {
              "outlinewidth": 0,
              "ticks": ""
             }
            },
            "type": "parcoords"
           }
          ],
          "pie": [
           {
            "automargin": true,
            "type": "pie"
           }
          ],
          "scatter": [
           {
            "fillpattern": {
             "fillmode": "overlay",
             "size": 10,
             "solidity": 0.2
            },
            "type": "scatter"
           }
          ],
          "scatter3d": [
           {
            "line": {
             "colorbar": {
              "outlinewidth": 0,
              "ticks": ""
             }
            },
            "marker": {
             "colorbar": {
              "outlinewidth": 0,
              "ticks": ""
             }
            },
            "type": "scatter3d"
           }
          ],
          "scattercarpet": [
           {
            "marker": {
             "colorbar": {
              "outlinewidth": 0,
              "ticks": ""
             }
            },
            "type": "scattercarpet"
           }
          ],
          "scattergeo": [
           {
            "marker": {
             "colorbar": {
              "outlinewidth": 0,
              "ticks": ""
             }
            },
            "type": "scattergeo"
           }
          ],
          "scattergl": [
           {
            "marker": {
             "colorbar": {
              "outlinewidth": 0,
              "ticks": ""
             }
            },
            "type": "scattergl"
           }
          ],
          "scattermap": [
           {
            "marker": {
             "colorbar": {
              "outlinewidth": 0,
              "ticks": ""
             }
            },
            "type": "scattermap"
           }
          ],
          "scattermapbox": [
           {
            "marker": {
             "colorbar": {
              "outlinewidth": 0,
              "ticks": ""
             }
            },
            "type": "scattermapbox"
           }
          ],
          "scatterpolar": [
           {
            "marker": {
             "colorbar": {
              "outlinewidth": 0,
              "ticks": ""
             }
            },
            "type": "scatterpolar"
           }
          ],
          "scatterpolargl": [
           {
            "marker": {
             "colorbar": {
              "outlinewidth": 0,
              "ticks": ""
             }
            },
            "type": "scatterpolargl"
           }
          ],
          "scatterternary": [
           {
            "marker": {
             "colorbar": {
              "outlinewidth": 0,
              "ticks": ""
             }
            },
            "type": "scatterternary"
           }
          ],
          "surface": [
           {
            "colorbar": {
             "outlinewidth": 0,
             "ticks": ""
            },
            "colorscale": [
             [
              0,
              "#0d0887"
             ],
             [
              0.1111111111111111,
              "#46039f"
             ],
             [
              0.2222222222222222,
              "#7201a8"
             ],
             [
              0.3333333333333333,
              "#9c179e"
             ],
             [
              0.4444444444444444,
              "#bd3786"
             ],
             [
              0.5555555555555556,
              "#d8576b"
             ],
             [
              0.6666666666666666,
              "#ed7953"
             ],
             [
              0.7777777777777778,
              "#fb9f3a"
             ],
             [
              0.8888888888888888,
              "#fdca26"
             ],
             [
              1,
              "#f0f921"
             ]
            ],
            "type": "surface"
           }
          ],
          "table": [
           {
            "cells": {
             "fill": {
              "color": "#EBF0F8"
             },
             "line": {
              "color": "white"
             }
            },
            "header": {
             "fill": {
              "color": "#C8D4E3"
             },
             "line": {
              "color": "white"
             }
            },
            "type": "table"
           }
          ]
         },
         "layout": {
          "annotationdefaults": {
           "arrowcolor": "#2a3f5f",
           "arrowhead": 0,
           "arrowwidth": 1
          },
          "autotypenumbers": "strict",
          "coloraxis": {
           "colorbar": {
            "outlinewidth": 0,
            "ticks": ""
           }
          },
          "colorscale": {
           "diverging": [
            [
             0,
             "#8e0152"
            ],
            [
             0.1,
             "#c51b7d"
            ],
            [
             0.2,
             "#de77ae"
            ],
            [
             0.3,
             "#f1b6da"
            ],
            [
             0.4,
             "#fde0ef"
            ],
            [
             0.5,
             "#f7f7f7"
            ],
            [
             0.6,
             "#e6f5d0"
            ],
            [
             0.7,
             "#b8e186"
            ],
            [
             0.8,
             "#7fbc41"
            ],
            [
             0.9,
             "#4d9221"
            ],
            [
             1,
             "#276419"
            ]
           ],
           "sequential": [
            [
             0,
             "#0d0887"
            ],
            [
             0.1111111111111111,
             "#46039f"
            ],
            [
             0.2222222222222222,
             "#7201a8"
            ],
            [
             0.3333333333333333,
             "#9c179e"
            ],
            [
             0.4444444444444444,
             "#bd3786"
            ],
            [
             0.5555555555555556,
             "#d8576b"
            ],
            [
             0.6666666666666666,
             "#ed7953"
            ],
            [
             0.7777777777777778,
             "#fb9f3a"
            ],
            [
             0.8888888888888888,
             "#fdca26"
            ],
            [
             1,
             "#f0f921"
            ]
           ],
           "sequentialminus": [
            [
             0,
             "#0d0887"
            ],
            [
             0.1111111111111111,
             "#46039f"
            ],
            [
             0.2222222222222222,
             "#7201a8"
            ],
            [
             0.3333333333333333,
             "#9c179e"
            ],
            [
             0.4444444444444444,
             "#bd3786"
            ],
            [
             0.5555555555555556,
             "#d8576b"
            ],
            [
             0.6666666666666666,
             "#ed7953"
            ],
            [
             0.7777777777777778,
             "#fb9f3a"
            ],
            [
             0.8888888888888888,
             "#fdca26"
            ],
            [
             1,
             "#f0f921"
            ]
           ]
          },
          "colorway": [
           "#636efa",
           "#EF553B",
           "#00cc96",
           "#ab63fa",
           "#FFA15A",
           "#19d3f3",
           "#FF6692",
           "#B6E880",
           "#FF97FF",
           "#FECB52"
          ],
          "font": {
           "color": "#2a3f5f"
          },
          "geo": {
           "bgcolor": "white",
           "lakecolor": "white",
           "landcolor": "white",
           "showlakes": true,
           "showland": true,
           "subunitcolor": "#C8D4E3"
          },
          "hoverlabel": {
           "align": "left"
          },
          "hovermode": "closest",
          "mapbox": {
           "style": "light"
          },
          "paper_bgcolor": "white",
          "plot_bgcolor": "white",
          "polar": {
           "angularaxis": {
            "gridcolor": "#EBF0F8",
            "linecolor": "#EBF0F8",
            "ticks": ""
           },
           "bgcolor": "white",
           "radialaxis": {
            "gridcolor": "#EBF0F8",
            "linecolor": "#EBF0F8",
            "ticks": ""
           }
          },
          "scene": {
           "xaxis": {
            "backgroundcolor": "white",
            "gridcolor": "#DFE8F3",
            "gridwidth": 2,
            "linecolor": "#EBF0F8",
            "showbackground": true,
            "ticks": "",
            "zerolinecolor": "#EBF0F8"
           },
           "yaxis": {
            "backgroundcolor": "white",
            "gridcolor": "#DFE8F3",
            "gridwidth": 2,
            "linecolor": "#EBF0F8",
            "showbackground": true,
            "ticks": "",
            "zerolinecolor": "#EBF0F8"
           },
           "zaxis": {
            "backgroundcolor": "white",
            "gridcolor": "#DFE8F3",
            "gridwidth": 2,
            "linecolor": "#EBF0F8",
            "showbackground": true,
            "ticks": "",
            "zerolinecolor": "#EBF0F8"
           }
          },
          "shapedefaults": {
           "line": {
            "color": "#2a3f5f"
           }
          },
          "ternary": {
           "aaxis": {
            "gridcolor": "#DFE8F3",
            "linecolor": "#A2B1C6",
            "ticks": ""
           },
           "baxis": {
            "gridcolor": "#DFE8F3",
            "linecolor": "#A2B1C6",
            "ticks": ""
           },
           "bgcolor": "white",
           "caxis": {
            "gridcolor": "#DFE8F3",
            "linecolor": "#A2B1C6",
            "ticks": ""
           }
          },
          "title": {
           "x": 0.05
          },
          "xaxis": {
           "automargin": true,
           "gridcolor": "#EBF0F8",
           "linecolor": "#EBF0F8",
           "ticks": "",
           "title": {
            "standoff": 15
           },
           "zerolinecolor": "#EBF0F8",
           "zerolinewidth": 2
          },
          "yaxis": {
           "automargin": true,
           "gridcolor": "#EBF0F8",
           "linecolor": "#EBF0F8",
           "ticks": "",
           "title": {
            "standoff": 15
           },
           "zerolinecolor": "#EBF0F8",
           "zerolinewidth": 2
          }
         }
        },
        "title": {
         "text": "GHZ_trace_eigenvalues vs error colored by GHZ_var_nonzero_eigenvalues"
        },
        "width": 1000,
        "xaxis": {
         "anchor": "y",
         "domain": [
          0,
          1
         ],
         "gridcolor": "lightgray",
         "gridwidth": 1,
         "showgrid": true,
         "ticklabelstandoff": 10,
         "title": {
          "text": "GHZ_trace_eigenvalues"
         }
        },
        "yaxis": {
         "anchor": "x",
         "domain": [
          0,
          1
         ],
         "gridcolor": "lightgray",
         "gridwidth": 1,
         "showgrid": true,
         "ticklabelstandoff": 10,
         "title": {
          "text": "error"
         }
        }
       }
      }
     },
     "metadata": {},
     "output_type": "display_data"
    },
    {
     "name": "stdout",
     "output_type": "stream",
     "text": [
      "Color column 'GHZ_trace_eigenvalues' minimum value: 95.70286560058594\n",
      "test corresponding to minimum value:\n",
      "1    test131\n",
      "Name: test_key, dtype: object\n",
      "Color column 'GHZ_trace_eigenvalues' maximum value: 333.079833984375\n",
      "test corresponding to maximum value:\n",
      "8    test346\n",
      "Name: test_key, dtype: object\n",
      "\n",
      "adj_min: 90.917724609375, adj_max: 333.079833984375\n"
     ]
    },
    {
     "data": {
      "application/vnd.plotly.v1+json": {
       "config": {
        "plotlyServerURL": "https://plot.ly"
       },
       "data": [
        {
         "customdata": [
          [
           "test0"
          ],
          [
           "test131"
          ],
          [
           "test150"
          ],
          [
           "test164"
          ],
          [
           "test169"
          ],
          [
           "test248"
          ],
          [
           "test286"
          ],
          [
           "test326"
          ],
          [
           "test346"
          ],
          [
           "test43"
          ],
          [
           "test56"
          ],
          [
           "test58"
          ],
          [
           "test64"
          ]
         ],
         "hovertemplate": "GHZ_var_nonzero_eigenvalues=%{x}<br>error=%{y}<br>test_key=%{customdata[0]}<br>GHZ_trace_eigenvalues=%{marker.color}<extra></extra>",
         "legendgroup": "",
         "marker": {
          "color": {
           "bdata": "WkBCQ95nv0I8FaNDJK9FQ0AqwUL4BKJDBNGTQ97c4EI4iqZDjtZ9Q2a0C0MyOYdD4grCQg==",
           "dtype": "f4"
          },
          "coloraxis": "coloraxis",
          "line": {
           "color": "black",
           "width": 0.75
          },
          "size": 12,
          "symbol": "circle"
         },
         "mode": "markers",
         "name": "",
         "orientation": "v",
         "showlegend": false,
         "type": "scatter",
         "x": {
          "bdata": "VUDeQ36d+UI9KelETkr4Q4lAOUPJCdJE/UUPRZhSB0PqePRE6oRORHBEhEOSt/dEiE72Qg==",
          "dtype": "f4"
         },
         "xaxis": "x",
         "y": {
          "bdata": "koSZG97iE8AGUGssVMwJwBNHbkNmRBLAu++NKB7QCcBj2+qipOYPwPfWhPItXBHAUk2bh1O5EsAqsZFH9rsLwL1fZheeORLAuNuQYIaBDMAK7jwe3rEQwEjbpiJFIA/A08dsCXe8CMA=",
          "dtype": "f8"
         },
         "yaxis": "y"
        },
        {
         "hovertemplate": "<b>OLS trendline</b><br>error = -0.000426569 * GHZ_var_nonzero_eigenvalues + -3.574<br>R<sup>2</sup>=0.341778<br><br>GHZ_var_nonzero_eigenvalues=%{x}<br>error=%{y} <b>(trend)</b><extra></extra>",
         "legendgroup": "Overall Trendline",
         "line": {
          "color": "red"
         },
         "marker": {
          "line": {
           "color": "black",
           "width": 0.75
          },
          "size": 12,
          "symbol": "circle"
         },
         "mode": "lines",
         "name": "Overall Trendline",
         "showlegend": true,
         "type": "scatter",
         "x": {
          "bdata": "iE72Qn6d+UKYUgdDiUA5Q3BEhENVQN5DTkr4Q+qETkTJCdJEPSnpROp49ESSt/dE/UUPRQ==",
          "dtype": "f4"
         },
         "xaxis": "x",
         "y": {
          "bdata": "ipUBHyUDDcCcK1YUlwQNwBi+3bbGDQ3Af5BjMWU5DcAsBEdaqH4NwL0yAEzhGw7AbkozRGBJDsAc2D1+OmkPwBY9iU+/KRHAMTo0kox6EcBSHfdgE6IRwLtEwRFqrRHAdtU5Xho1EsA=",
          "dtype": "f8"
         },
         "yaxis": "y"
        }
       ],
       "layout": {
        "coloraxis": {
         "cmax": 333.079833984375,
         "cmin": 90.917724609375,
         "colorbar": {
          "len": 1.1,
          "thickness": 35,
          "title": {
           "text": "GHZ_trace_eigenvalues"
          },
          "x": 1,
          "y": 0.53,
          "yanchor": "middle"
         },
         "colorscale": [
          [
           0,
           "#f1f525"
          ],
          [
           0.010101010101010102,
           "#f1f426"
          ],
          [
           0.020202020202020204,
           "#f3f027"
          ],
          [
           0.030303030303030304,
           "#f3ee27"
          ],
          [
           0.04040404040404041,
           "#f5eb27"
          ],
          [
           0.050505050505050504,
           "#f6e826"
          ],
          [
           0.06060606060606061,
           "#f7e425"
          ],
          [
           0.0707070707070707,
           "#f8e125"
          ],
          [
           0.08080808080808081,
           "#f8df25"
          ],
          [
           0.09090909090909091,
           "#f9dc24"
          ],
          [
           0.10101010101010101,
           "#fad824"
          ],
          [
           0.1111111111111111,
           "#fbd524"
          ],
          [
           0.12121212121212122,
           "#fcd225"
          ],
          [
           0.13131313131313133,
           "#fcce25"
          ],
          [
           0.1414141414141414,
           "#fdca26"
          ],
          [
           0.15151515151515152,
           "#fdc627"
          ],
          [
           0.16161616161616163,
           "#fdc328"
          ],
          [
           0.1717171717171717,
           "#fec029"
          ],
          [
           0.18181818181818182,
           "#febd2a"
          ],
          [
           0.1919191919191919,
           "#feba2c"
          ],
          [
           0.20202020202020202,
           "#fdb52e"
          ],
          [
           0.21212121212121213,
           "#fdb22f"
          ],
          [
           0.2222222222222222,
           "#fdaf31"
          ],
          [
           0.23232323232323232,
           "#fdac33"
          ],
          [
           0.24242424242424243,
           "#fca835"
          ],
          [
           0.25252525252525254,
           "#fca537"
          ],
          [
           0.26262626262626265,
           "#fba238"
          ],
          [
           0.2727272727272727,
           "#fa9e3b"
          ],
          [
           0.2828282828282828,
           "#fa9b3d"
          ],
          [
           0.29292929292929293,
           "#f9973f"
          ],
          [
           0.30303030303030304,
           "#f89441"
          ],
          [
           0.31313131313131315,
           "#f79143"
          ],
          [
           0.32323232323232326,
           "#f68d45"
          ],
          [
           0.3333333333333333,
           "#f58b47"
          ],
          [
           0.3434343434343434,
           "#f3874a"
          ],
          [
           0.35353535353535354,
           "#f2844b"
          ],
          [
           0.36363636363636365,
           "#f0804e"
          ],
          [
           0.37373737373737376,
           "#ef7e50"
          ],
          [
           0.3838383838383838,
           "#ed7a52"
          ],
          [
           0.3939393939393939,
           "#ec7754"
          ],
          [
           0.40404040404040403,
           "#ea7457"
          ],
          [
           0.41414141414141414,
           "#e97158"
          ],
          [
           0.42424242424242425,
           "#e76e5b"
          ],
          [
           0.43434343434343436,
           "#e56a5d"
          ],
          [
           0.4444444444444444,
           "#e3685f"
          ],
          [
           0.45454545454545453,
           "#e16462"
          ],
          [
           0.46464646464646464,
           "#df6263"
          ],
          [
           0.47474747474747475,
           "#dd5e66"
          ],
          [
           0.48484848484848486,
           "#da5b69"
          ],
          [
           0.494949494949495,
           "#d9586a"
          ],
          [
           0.5050505050505051,
           "#d6556d"
          ],
          [
           0.5151515151515151,
           "#d45270"
          ],
          [
           0.5252525252525253,
           "#d24f71"
          ],
          [
           0.5353535353535354,
           "#cf4c74"
          ],
          [
           0.5454545454545454,
           "#cc4977"
          ],
          [
           0.5555555555555556,
           "#cb4679"
          ],
          [
           0.5656565656565656,
           "#c8437b"
          ],
          [
           0.5757575757575758,
           "#c5407e"
          ],
          [
           0.5858585858585859,
           "#c23c81"
          ],
          [
           0.5959595959595959,
           "#c03a83"
          ],
          [
           0.6060606060606061,
           "#bd3786"
          ],
          [
           0.6161616161616161,
           "#ba3388"
          ],
          [
           0.6262626262626263,
           "#b6308b"
          ],
          [
           0.6363636363636364,
           "#b42e8d"
          ],
          [
           0.6464646464646465,
           "#b12a90"
          ],
          [
           0.6565656565656566,
           "#ad2793"
          ],
          [
           0.6666666666666666,
           "#aa2395"
          ],
          [
           0.6767676767676768,
           "#a62098"
          ],
          [
           0.6868686868686869,
           "#a31e9a"
          ],
          [
           0.696969696969697,
           "#a01a9c"
          ],
          [
           0.7070707070707071,
           "#9c179e"
          ],
          [
           0.7171717171717171,
           "#9814a0"
          ],
          [
           0.7272727272727273,
           "#9410a2"
          ],
          [
           0.7373737373737373,
           "#8f0da4"
          ],
          [
           0.7474747474747475,
           "#8d0ba5"
          ],
          [
           0.7575757575757576,
           "#8808a6"
          ],
          [
           0.7676767676767676,
           "#8405a7"
          ],
          [
           0.7777777777777778,
           "#8004a8"
          ],
          [
           0.7878787878787878,
           "#7b02a8"
          ],
          [
           0.797979797979798,
           "#7701a8"
          ],
          [
           0.8080808080808081,
           "#7201a8"
          ],
          [
           0.8181818181818182,
           "#6e00a8"
          ],
          [
           0.8282828282828283,
           "#6900a8"
          ],
          [
           0.8383838383838383,
           "#6400a7"
          ],
          [
           0.8484848484848485,
           "#6001a6"
          ],
          [
           0.8585858585858586,
           "#5b01a5"
          ],
          [
           0.8686868686868687,
           "#5801a4"
          ],
          [
           0.8787878787878788,
           "#5302a3"
          ],
          [
           0.8888888888888888,
           "#4e02a2"
          ],
          [
           0.898989898989899,
           "#4903a0"
          ],
          [
           0.9090909090909091,
           "#44039e"
          ],
          [
           0.9191919191919192,
           "#3f049c"
          ],
          [
           0.9292929292929293,
           "#3a049a"
          ],
          [
           0.9393939393939394,
           "#350498"
          ],
          [
           0.9494949494949495,
           "#2f0596"
          ],
          [
           0.9595959595959596,
           "#2a0593"
          ],
          [
           0.9696969696969697,
           "#240691"
          ],
          [
           0.9797979797979798,
           "#1d068e"
          ],
          [
           0.98989898989899,
           "#16078a"
          ],
          [
           1,
           "#0d0887"
          ]
         ]
        },
        "height": 600,
        "legend": {
         "tracegroupgap": 0
        },
        "shapes": [
         {
          "layer": "below",
          "line": {
           "color": "black",
           "width": 2
          },
          "type": "rect",
          "x0": 0,
          "x1": 1,
          "xref": "paper",
          "y0": 0,
          "y1": 1,
          "yref": "paper"
         }
        ],
        "template": {
         "data": {
          "bar": [
           {
            "error_x": {
             "color": "#2a3f5f"
            },
            "error_y": {
             "color": "#2a3f5f"
            },
            "marker": {
             "line": {
              "color": "white",
              "width": 0.5
             },
             "pattern": {
              "fillmode": "overlay",
              "size": 10,
              "solidity": 0.2
             }
            },
            "type": "bar"
           }
          ],
          "barpolar": [
           {
            "marker": {
             "line": {
              "color": "white",
              "width": 0.5
             },
             "pattern": {
              "fillmode": "overlay",
              "size": 10,
              "solidity": 0.2
             }
            },
            "type": "barpolar"
           }
          ],
          "carpet": [
           {
            "aaxis": {
             "endlinecolor": "#2a3f5f",
             "gridcolor": "#C8D4E3",
             "linecolor": "#C8D4E3",
             "minorgridcolor": "#C8D4E3",
             "startlinecolor": "#2a3f5f"
            },
            "baxis": {
             "endlinecolor": "#2a3f5f",
             "gridcolor": "#C8D4E3",
             "linecolor": "#C8D4E3",
             "minorgridcolor": "#C8D4E3",
             "startlinecolor": "#2a3f5f"
            },
            "type": "carpet"
           }
          ],
          "choropleth": [
           {
            "colorbar": {
             "outlinewidth": 0,
             "ticks": ""
            },
            "type": "choropleth"
           }
          ],
          "contour": [
           {
            "colorbar": {
             "outlinewidth": 0,
             "ticks": ""
            },
            "colorscale": [
             [
              0,
              "#0d0887"
             ],
             [
              0.1111111111111111,
              "#46039f"
             ],
             [
              0.2222222222222222,
              "#7201a8"
             ],
             [
              0.3333333333333333,
              "#9c179e"
             ],
             [
              0.4444444444444444,
              "#bd3786"
             ],
             [
              0.5555555555555556,
              "#d8576b"
             ],
             [
              0.6666666666666666,
              "#ed7953"
             ],
             [
              0.7777777777777778,
              "#fb9f3a"
             ],
             [
              0.8888888888888888,
              "#fdca26"
             ],
             [
              1,
              "#f0f921"
             ]
            ],
            "type": "contour"
           }
          ],
          "contourcarpet": [
           {
            "colorbar": {
             "outlinewidth": 0,
             "ticks": ""
            },
            "type": "contourcarpet"
           }
          ],
          "heatmap": [
           {
            "colorbar": {
             "outlinewidth": 0,
             "ticks": ""
            },
            "colorscale": [
             [
              0,
              "#0d0887"
             ],
             [
              0.1111111111111111,
              "#46039f"
             ],
             [
              0.2222222222222222,
              "#7201a8"
             ],
             [
              0.3333333333333333,
              "#9c179e"
             ],
             [
              0.4444444444444444,
              "#bd3786"
             ],
             [
              0.5555555555555556,
              "#d8576b"
             ],
             [
              0.6666666666666666,
              "#ed7953"
             ],
             [
              0.7777777777777778,
              "#fb9f3a"
             ],
             [
              0.8888888888888888,
              "#fdca26"
             ],
             [
              1,
              "#f0f921"
             ]
            ],
            "type": "heatmap"
           }
          ],
          "histogram": [
           {
            "marker": {
             "pattern": {
              "fillmode": "overlay",
              "size": 10,
              "solidity": 0.2
             }
            },
            "type": "histogram"
           }
          ],
          "histogram2d": [
           {
            "colorbar": {
             "outlinewidth": 0,
             "ticks": ""
            },
            "colorscale": [
             [
              0,
              "#0d0887"
             ],
             [
              0.1111111111111111,
              "#46039f"
             ],
             [
              0.2222222222222222,
              "#7201a8"
             ],
             [
              0.3333333333333333,
              "#9c179e"
             ],
             [
              0.4444444444444444,
              "#bd3786"
             ],
             [
              0.5555555555555556,
              "#d8576b"
             ],
             [
              0.6666666666666666,
              "#ed7953"
             ],
             [
              0.7777777777777778,
              "#fb9f3a"
             ],
             [
              0.8888888888888888,
              "#fdca26"
             ],
             [
              1,
              "#f0f921"
             ]
            ],
            "type": "histogram2d"
           }
          ],
          "histogram2dcontour": [
           {
            "colorbar": {
             "outlinewidth": 0,
             "ticks": ""
            },
            "colorscale": [
             [
              0,
              "#0d0887"
             ],
             [
              0.1111111111111111,
              "#46039f"
             ],
             [
              0.2222222222222222,
              "#7201a8"
             ],
             [
              0.3333333333333333,
              "#9c179e"
             ],
             [
              0.4444444444444444,
              "#bd3786"
             ],
             [
              0.5555555555555556,
              "#d8576b"
             ],
             [
              0.6666666666666666,
              "#ed7953"
             ],
             [
              0.7777777777777778,
              "#fb9f3a"
             ],
             [
              0.8888888888888888,
              "#fdca26"
             ],
             [
              1,
              "#f0f921"
             ]
            ],
            "type": "histogram2dcontour"
           }
          ],
          "mesh3d": [
           {
            "colorbar": {
             "outlinewidth": 0,
             "ticks": ""
            },
            "type": "mesh3d"
           }
          ],
          "parcoords": [
           {
            "line": {
             "colorbar": {
              "outlinewidth": 0,
              "ticks": ""
             }
            },
            "type": "parcoords"
           }
          ],
          "pie": [
           {
            "automargin": true,
            "type": "pie"
           }
          ],
          "scatter": [
           {
            "fillpattern": {
             "fillmode": "overlay",
             "size": 10,
             "solidity": 0.2
            },
            "type": "scatter"
           }
          ],
          "scatter3d": [
           {
            "line": {
             "colorbar": {
              "outlinewidth": 0,
              "ticks": ""
             }
            },
            "marker": {
             "colorbar": {
              "outlinewidth": 0,
              "ticks": ""
             }
            },
            "type": "scatter3d"
           }
          ],
          "scattercarpet": [
           {
            "marker": {
             "colorbar": {
              "outlinewidth": 0,
              "ticks": ""
             }
            },
            "type": "scattercarpet"
           }
          ],
          "scattergeo": [
           {
            "marker": {
             "colorbar": {
              "outlinewidth": 0,
              "ticks": ""
             }
            },
            "type": "scattergeo"
           }
          ],
          "scattergl": [
           {
            "marker": {
             "colorbar": {
              "outlinewidth": 0,
              "ticks": ""
             }
            },
            "type": "scattergl"
           }
          ],
          "scattermap": [
           {
            "marker": {
             "colorbar": {
              "outlinewidth": 0,
              "ticks": ""
             }
            },
            "type": "scattermap"
           }
          ],
          "scattermapbox": [
           {
            "marker": {
             "colorbar": {
              "outlinewidth": 0,
              "ticks": ""
             }
            },
            "type": "scattermapbox"
           }
          ],
          "scatterpolar": [
           {
            "marker": {
             "colorbar": {
              "outlinewidth": 0,
              "ticks": ""
             }
            },
            "type": "scatterpolar"
           }
          ],
          "scatterpolargl": [
           {
            "marker": {
             "colorbar": {
              "outlinewidth": 0,
              "ticks": ""
             }
            },
            "type": "scatterpolargl"
           }
          ],
          "scatterternary": [
           {
            "marker": {
             "colorbar": {
              "outlinewidth": 0,
              "ticks": ""
             }
            },
            "type": "scatterternary"
           }
          ],
          "surface": [
           {
            "colorbar": {
             "outlinewidth": 0,
             "ticks": ""
            },
            "colorscale": [
             [
              0,
              "#0d0887"
             ],
             [
              0.1111111111111111,
              "#46039f"
             ],
             [
              0.2222222222222222,
              "#7201a8"
             ],
             [
              0.3333333333333333,
              "#9c179e"
             ],
             [
              0.4444444444444444,
              "#bd3786"
             ],
             [
              0.5555555555555556,
              "#d8576b"
             ],
             [
              0.6666666666666666,
              "#ed7953"
             ],
             [
              0.7777777777777778,
              "#fb9f3a"
             ],
             [
              0.8888888888888888,
              "#fdca26"
             ],
             [
              1,
              "#f0f921"
             ]
            ],
            "type": "surface"
           }
          ],
          "table": [
           {
            "cells": {
             "fill": {
              "color": "#EBF0F8"
             },
             "line": {
              "color": "white"
             }
            },
            "header": {
             "fill": {
              "color": "#C8D4E3"
             },
             "line": {
              "color": "white"
             }
            },
            "type": "table"
           }
          ]
         },
         "layout": {
          "annotationdefaults": {
           "arrowcolor": "#2a3f5f",
           "arrowhead": 0,
           "arrowwidth": 1
          },
          "autotypenumbers": "strict",
          "coloraxis": {
           "colorbar": {
            "outlinewidth": 0,
            "ticks": ""
           }
          },
          "colorscale": {
           "diverging": [
            [
             0,
             "#8e0152"
            ],
            [
             0.1,
             "#c51b7d"
            ],
            [
             0.2,
             "#de77ae"
            ],
            [
             0.3,
             "#f1b6da"
            ],
            [
             0.4,
             "#fde0ef"
            ],
            [
             0.5,
             "#f7f7f7"
            ],
            [
             0.6,
             "#e6f5d0"
            ],
            [
             0.7,
             "#b8e186"
            ],
            [
             0.8,
             "#7fbc41"
            ],
            [
             0.9,
             "#4d9221"
            ],
            [
             1,
             "#276419"
            ]
           ],
           "sequential": [
            [
             0,
             "#0d0887"
            ],
            [
             0.1111111111111111,
             "#46039f"
            ],
            [
             0.2222222222222222,
             "#7201a8"
            ],
            [
             0.3333333333333333,
             "#9c179e"
            ],
            [
             0.4444444444444444,
             "#bd3786"
            ],
            [
             0.5555555555555556,
             "#d8576b"
            ],
            [
             0.6666666666666666,
             "#ed7953"
            ],
            [
             0.7777777777777778,
             "#fb9f3a"
            ],
            [
             0.8888888888888888,
             "#fdca26"
            ],
            [
             1,
             "#f0f921"
            ]
           ],
           "sequentialminus": [
            [
             0,
             "#0d0887"
            ],
            [
             0.1111111111111111,
             "#46039f"
            ],
            [
             0.2222222222222222,
             "#7201a8"
            ],
            [
             0.3333333333333333,
             "#9c179e"
            ],
            [
             0.4444444444444444,
             "#bd3786"
            ],
            [
             0.5555555555555556,
             "#d8576b"
            ],
            [
             0.6666666666666666,
             "#ed7953"
            ],
            [
             0.7777777777777778,
             "#fb9f3a"
            ],
            [
             0.8888888888888888,
             "#fdca26"
            ],
            [
             1,
             "#f0f921"
            ]
           ]
          },
          "colorway": [
           "#636efa",
           "#EF553B",
           "#00cc96",
           "#ab63fa",
           "#FFA15A",
           "#19d3f3",
           "#FF6692",
           "#B6E880",
           "#FF97FF",
           "#FECB52"
          ],
          "font": {
           "color": "#2a3f5f"
          },
          "geo": {
           "bgcolor": "white",
           "lakecolor": "white",
           "landcolor": "white",
           "showlakes": true,
           "showland": true,
           "subunitcolor": "#C8D4E3"
          },
          "hoverlabel": {
           "align": "left"
          },
          "hovermode": "closest",
          "mapbox": {
           "style": "light"
          },
          "paper_bgcolor": "white",
          "plot_bgcolor": "white",
          "polar": {
           "angularaxis": {
            "gridcolor": "#EBF0F8",
            "linecolor": "#EBF0F8",
            "ticks": ""
           },
           "bgcolor": "white",
           "radialaxis": {
            "gridcolor": "#EBF0F8",
            "linecolor": "#EBF0F8",
            "ticks": ""
           }
          },
          "scene": {
           "xaxis": {
            "backgroundcolor": "white",
            "gridcolor": "#DFE8F3",
            "gridwidth": 2,
            "linecolor": "#EBF0F8",
            "showbackground": true,
            "ticks": "",
            "zerolinecolor": "#EBF0F8"
           },
           "yaxis": {
            "backgroundcolor": "white",
            "gridcolor": "#DFE8F3",
            "gridwidth": 2,
            "linecolor": "#EBF0F8",
            "showbackground": true,
            "ticks": "",
            "zerolinecolor": "#EBF0F8"
           },
           "zaxis": {
            "backgroundcolor": "white",
            "gridcolor": "#DFE8F3",
            "gridwidth": 2,
            "linecolor": "#EBF0F8",
            "showbackground": true,
            "ticks": "",
            "zerolinecolor": "#EBF0F8"
           }
          },
          "shapedefaults": {
           "line": {
            "color": "#2a3f5f"
           }
          },
          "ternary": {
           "aaxis": {
            "gridcolor": "#DFE8F3",
            "linecolor": "#A2B1C6",
            "ticks": ""
           },
           "baxis": {
            "gridcolor": "#DFE8F3",
            "linecolor": "#A2B1C6",
            "ticks": ""
           },
           "bgcolor": "white",
           "caxis": {
            "gridcolor": "#DFE8F3",
            "linecolor": "#A2B1C6",
            "ticks": ""
           }
          },
          "title": {
           "x": 0.05
          },
          "xaxis": {
           "automargin": true,
           "gridcolor": "#EBF0F8",
           "linecolor": "#EBF0F8",
           "ticks": "",
           "title": {
            "standoff": 15
           },
           "zerolinecolor": "#EBF0F8",
           "zerolinewidth": 2
          },
          "yaxis": {
           "automargin": true,
           "gridcolor": "#EBF0F8",
           "linecolor": "#EBF0F8",
           "ticks": "",
           "title": {
            "standoff": 15
           },
           "zerolinecolor": "#EBF0F8",
           "zerolinewidth": 2
          }
         }
        },
        "title": {
         "text": "GHZ_var_nonzero_eigenvalues vs error colored by GHZ_trace_eigenvalues"
        },
        "width": 1000,
        "xaxis": {
         "anchor": "y",
         "domain": [
          0,
          1
         ],
         "gridcolor": "lightgray",
         "gridwidth": 1,
         "showgrid": true,
         "ticklabelstandoff": 10,
         "title": {
          "text": "GHZ_var_nonzero_eigenvalues"
         }
        },
        "yaxis": {
         "anchor": "x",
         "domain": [
          0,
          1
         ],
         "gridcolor": "lightgray",
         "gridwidth": 1,
         "showgrid": true,
         "ticklabelstandoff": 10,
         "title": {
          "text": "error"
         }
        }
       }
      }
     },
     "metadata": {},
     "output_type": "display_data"
    },
    {
     "name": "stdout",
     "output_type": "stream",
     "text": [
      "Color column 'error' minimum value: -4.971550399060236\n",
      "test corresponding to minimum value:\n",
      "0    test0\n",
      "Name: test_key, dtype: object\n",
      "Color column 'error' maximum value: -3.092023919708461\n",
      "test corresponding to maximum value:\n",
      "12    test64\n",
      "Name: test_key, dtype: object\n",
      "\n",
      "adj_min: -4.971550399060236, adj_max: -3.092023919708461\n"
     ]
    },
    {
     "data": {
      "application/vnd.plotly.v1+json": {
       "config": {
        "plotlyServerURL": "https://plot.ly"
       },
       "data": [
        {
         "customdata": [
          [
           "test0"
          ],
          [
           "test131"
          ],
          [
           "test150"
          ],
          [
           "test164"
          ],
          [
           "test169"
          ],
          [
           "test248"
          ],
          [
           "test286"
          ],
          [
           "test326"
          ],
          [
           "test346"
          ],
          [
           "test43"
          ],
          [
           "test56"
          ],
          [
           "test58"
          ],
          [
           "test64"
          ]
         ],
         "hovertemplate": "GHZ_trace_eigenvalues=%{x}<br>GHZ_var_nonzero_eigenvalues=%{y}<br>test_key=%{customdata[0]}<br>error=%{marker.color}<extra></extra>",
         "legendgroup": "",
         "marker": {
          "color": {
           "bdata": "koSZG97iE8AGUGssVMwJwBNHbkNmRBLAu++NKB7QCcBj2+qipOYPwPfWhPItXBHAUk2bh1O5EsAqsZFH9rsLwL1fZheeORLAuNuQYIaBDMAK7jwe3rEQwEjbpiJFIA/A08dsCXe8CMA=",
           "dtype": "f8"
          },
          "coloraxis": "coloraxis",
          "line": {
           "color": "black",
           "width": 0.75
          },
          "size": 12,
          "symbol": "circle"
         },
         "mode": "markers",
         "name": "",
         "orientation": "v",
         "showlegend": false,
         "type": "scatter",
         "x": {
          "bdata": "WkBCQ95nv0I8FaNDJK9FQ0AqwUL4BKJDBNGTQ97c4EI4iqZDjtZ9Q2a0C0MyOYdD4grCQg==",
          "dtype": "f4"
         },
         "xaxis": "x",
         "y": {
          "bdata": "VUDeQ36d+UI9KelETkr4Q4lAOUPJCdJE/UUPRZhSB0PqePRE6oRORHBEhEOSt/dEiE72Qg==",
          "dtype": "f4"
         },
         "yaxis": "y"
        },
        {
         "hovertemplate": "<b>OLS trendline</b><br>GHZ_var_nonzero_eigenvalues = 8.33404 * GHZ_trace_eigenvalues + -802.39<br>R<sup>2</sup>=0.852420<br><br>GHZ_trace_eigenvalues=%{x}<br>GHZ_var_nonzero_eigenvalues=%{y} <b>(trend)</b><extra></extra>",
         "legendgroup": "Overall Trendline",
         "line": {
          "color": "red"
         },
         "marker": {
          "line": {
           "color": "black",
           "width": 0.75
          },
          "size": 12,
          "symbol": "circle"
         },
         "mode": "lines",
         "name": "Overall Trendline",
         "showlegend": true,
         "type": "scatter",
         "x": {
          "bdata": "3me/QkAqwULiCsJC3tzgQma0C0NaQEJDJK9FQ47WfUMyOYdDBNGTQ/gEokM8FaNDOIqmQw==",
          "dtype": "f4"
         },
         "xaxis": "x",
         "y": {
          "bdata": "AMpF7x0xE8AAuZAvzkMEQAC3ABIawhhA8OCCWMjTYECY6asepJ52QPwmyZEThIlAMLhjf/JoikDlSVmJboSUQMH/Y3karpZAvefrIrb1mUCJMvSop6idQE1Ucj+Q751AP/5jOwzWnkA=",
          "dtype": "f8"
         },
         "yaxis": "y"
        }
       ],
       "layout": {
        "coloraxis": {
         "cmax": -3.092023919708461,
         "cmin": -4.971550399060236,
         "colorbar": {
          "len": 1.1,
          "thickness": 35,
          "title": {
           "text": "error"
          },
          "x": 1,
          "y": 0.53,
          "yanchor": "middle"
         },
         "colorscale": [
          [
           0,
           "#f0f921"
          ],
          [
           0.010101010101010102,
           "#f0f724"
          ],
          [
           0.020202020202020204,
           "#f1f525"
          ],
          [
           0.030303030303030304,
           "#f1f426"
          ],
          [
           0.04040404040404041,
           "#f3f027"
          ],
          [
           0.050505050505050504,
           "#f4ed27"
          ],
          [
           0.06060606060606061,
           "#f5eb27"
          ],
          [
           0.0707070707070707,
           "#f6e826"
          ],
          [
           0.08080808080808081,
           "#f7e425"
          ],
          [
           0.09090909090909091,
           "#f8e125"
          ],
          [
           0.10101010101010101,
           "#f9dd25"
          ],
          [
           0.1111111111111111,
           "#fada24"
          ],
          [
           0.12121212121212122,
           "#fbd724"
          ],
          [
           0.13131313131313133,
           "#fbd324"
          ],
          [
           0.1414141414141414,
           "#fcd025"
          ],
          [
           0.15151515151515152,
           "#fccd25"
          ],
          [
           0.16161616161616163,
           "#fdca26"
          ],
          [
           0.1717171717171717,
           "#fdc627"
          ],
          [
           0.18181818181818182,
           "#fdc229"
          ],
          [
           0.1919191919191919,
           "#febe2a"
          ],
          [
           0.20202020202020202,
           "#febb2b"
          ],
          [
           0.21212121212121213,
           "#feb82c"
          ],
          [
           0.2222222222222222,
           "#fdb42f"
          ],
          [
           0.23232323232323232,
           "#fdb130"
          ],
          [
           0.24242424242424243,
           "#fdae32"
          ],
          [
           0.25252525252525254,
           "#fca934"
          ],
          [
           0.26262626262626265,
           "#fca636"
          ],
          [
           0.2727272727272727,
           "#fca338"
          ],
          [
           0.2828282828282828,
           "#fb9f3a"
          ],
          [
           0.29292929292929293,
           "#fa9c3c"
          ],
          [
           0.30303030303030304,
           "#f9983e"
          ],
          [
           0.31313131313131315,
           "#f89540"
          ],
          [
           0.32323232323232326,
           "#f79143"
          ],
          [
           0.3333333333333333,
           "#f68f44"
          ],
          [
           0.3434343434343434,
           "#f58c46"
          ],
          [
           0.35353535353535354,
           "#f48849"
          ],
          [
           0.36363636363636365,
           "#f2844b"
          ],
          [
           0.37373737373737376,
           "#f1814d"
          ],
          [
           0.3838383838383838,
           "#ef7e50"
          ],
          [
           0.3939393939393939,
           "#ee7b51"
          ],
          [
           0.40404040404040403,
           "#ec7754"
          ],
          [
           0.41414141414141414,
           "#eb7556"
          ],
          [
           0.42424242424242425,
           "#e97158"
          ],
          [
           0.43434343434343436,
           "#e76e5b"
          ],
          [
           0.4444444444444444,
           "#e56b5d"
          ],
          [
           0.45454545454545453,
           "#e3685f"
          ],
          [
           0.46464646464646464,
           "#e16462"
          ],
          [
           0.47474747474747475,
           "#df6263"
          ],
          [
           0.48484848484848486,
           "#dd5e66"
          ],
          [
           0.494949494949495,
           "#da5b69"
          ],
          [
           0.5050505050505051,
           "#d9586a"
          ],
          [
           0.5151515151515151,
           "#d6556d"
          ],
          [
           0.5252525252525253,
           "#d45270"
          ],
          [
           0.5353535353535354,
           "#d24f71"
          ],
          [
           0.5454545454545454,
           "#cf4c74"
          ],
          [
           0.5555555555555556,
           "#cc4977"
          ],
          [
           0.5656565656565656,
           "#ca457a"
          ],
          [
           0.5757575757575758,
           "#c8437b"
          ],
          [
           0.5858585858585859,
           "#c5407e"
          ],
          [
           0.5959595959595959,
           "#c23c81"
          ],
          [
           0.6060606060606061,
           "#bf3984"
          ],
          [
           0.6161616161616161,
           "#bc3587"
          ],
          [
           0.6262626262626263,
           "#ba3388"
          ],
          [
           0.6363636363636364,
           "#b6308b"
          ],
          [
           0.6464646464646465,
           "#b32c8e"
          ],
          [
           0.6565656565656566,
           "#b02991"
          ],
          [
           0.6666666666666666,
           "#ac2694"
          ],
          [
           0.6767676767676768,
           "#a82296"
          ],
          [
           0.6868686868686869,
           "#a51f99"
          ],
          [
           0.696969696969697,
           "#a21d9a"
          ],
          [
           0.7070707070707071,
           "#9e199d"
          ],
          [
           0.7171717171717171,
           "#9a169f"
          ],
          [
           0.7272727272727273,
           "#9613a1"
          ],
          [
           0.7373737373737373,
           "#920fa3"
          ],
          [
           0.7474747474747475,
           "#8e0ca4"
          ],
          [
           0.7575757575757576,
           "#8a09a5"
          ],
          [
           0.7676767676767676,
           "#8606a6"
          ],
          [
           0.7777777777777778,
           "#8104a7"
          ],
          [
           0.7878787878787878,
           "#7d03a8"
          ],
          [
           0.797979797979798,
           "#7801a8"
          ],
          [
           0.8080808080808081,
           "#7401a8"
          ],
          [
           0.8181818181818182,
           "#6f00a8"
          ],
          [
           0.8282828282828283,
           "#6a00a8"
          ],
          [
           0.8383838383838383,
           "#6600a7"
          ],
          [
           0.8484848484848485,
           "#6100a7"
          ],
          [
           0.8585858585858586,
           "#5c01a6"
          ],
          [
           0.8686868686868687,
           "#5801a4"
          ],
          [
           0.8787878787878788,
           "#5302a3"
          ],
          [
           0.8888888888888888,
           "#4e02a2"
          ],
          [
           0.898989898989899,
           "#4903a0"
          ],
          [
           0.9090909090909091,
           "#44039e"
          ],
          [
           0.9191919191919192,
           "#3f049c"
          ],
          [
           0.9292929292929293,
           "#3a049a"
          ],
          [
           0.9393939393939394,
           "#350498"
          ],
          [
           0.9494949494949495,
           "#2f0596"
          ],
          [
           0.9595959595959596,
           "#2a0593"
          ],
          [
           0.9696969696969697,
           "#240691"
          ],
          [
           0.9797979797979798,
           "#1d068e"
          ],
          [
           0.98989898989899,
           "#16078a"
          ],
          [
           1,
           "#0d0887"
          ]
         ]
        },
        "height": 600,
        "legend": {
         "tracegroupgap": 0
        },
        "shapes": [
         {
          "layer": "below",
          "line": {
           "color": "black",
           "width": 2
          },
          "type": "rect",
          "x0": 0,
          "x1": 1,
          "xref": "paper",
          "y0": 0,
          "y1": 1,
          "yref": "paper"
         }
        ],
        "template": {
         "data": {
          "bar": [
           {
            "error_x": {
             "color": "#2a3f5f"
            },
            "error_y": {
             "color": "#2a3f5f"
            },
            "marker": {
             "line": {
              "color": "white",
              "width": 0.5
             },
             "pattern": {
              "fillmode": "overlay",
              "size": 10,
              "solidity": 0.2
             }
            },
            "type": "bar"
           }
          ],
          "barpolar": [
           {
            "marker": {
             "line": {
              "color": "white",
              "width": 0.5
             },
             "pattern": {
              "fillmode": "overlay",
              "size": 10,
              "solidity": 0.2
             }
            },
            "type": "barpolar"
           }
          ],
          "carpet": [
           {
            "aaxis": {
             "endlinecolor": "#2a3f5f",
             "gridcolor": "#C8D4E3",
             "linecolor": "#C8D4E3",
             "minorgridcolor": "#C8D4E3",
             "startlinecolor": "#2a3f5f"
            },
            "baxis": {
             "endlinecolor": "#2a3f5f",
             "gridcolor": "#C8D4E3",
             "linecolor": "#C8D4E3",
             "minorgridcolor": "#C8D4E3",
             "startlinecolor": "#2a3f5f"
            },
            "type": "carpet"
           }
          ],
          "choropleth": [
           {
            "colorbar": {
             "outlinewidth": 0,
             "ticks": ""
            },
            "type": "choropleth"
           }
          ],
          "contour": [
           {
            "colorbar": {
             "outlinewidth": 0,
             "ticks": ""
            },
            "colorscale": [
             [
              0,
              "#0d0887"
             ],
             [
              0.1111111111111111,
              "#46039f"
             ],
             [
              0.2222222222222222,
              "#7201a8"
             ],
             [
              0.3333333333333333,
              "#9c179e"
             ],
             [
              0.4444444444444444,
              "#bd3786"
             ],
             [
              0.5555555555555556,
              "#d8576b"
             ],
             [
              0.6666666666666666,
              "#ed7953"
             ],
             [
              0.7777777777777778,
              "#fb9f3a"
             ],
             [
              0.8888888888888888,
              "#fdca26"
             ],
             [
              1,
              "#f0f921"
             ]
            ],
            "type": "contour"
           }
          ],
          "contourcarpet": [
           {
            "colorbar": {
             "outlinewidth": 0,
             "ticks": ""
            },
            "type": "contourcarpet"
           }
          ],
          "heatmap": [
           {
            "colorbar": {
             "outlinewidth": 0,
             "ticks": ""
            },
            "colorscale": [
             [
              0,
              "#0d0887"
             ],
             [
              0.1111111111111111,
              "#46039f"
             ],
             [
              0.2222222222222222,
              "#7201a8"
             ],
             [
              0.3333333333333333,
              "#9c179e"
             ],
             [
              0.4444444444444444,
              "#bd3786"
             ],
             [
              0.5555555555555556,
              "#d8576b"
             ],
             [
              0.6666666666666666,
              "#ed7953"
             ],
             [
              0.7777777777777778,
              "#fb9f3a"
             ],
             [
              0.8888888888888888,
              "#fdca26"
             ],
             [
              1,
              "#f0f921"
             ]
            ],
            "type": "heatmap"
           }
          ],
          "histogram": [
           {
            "marker": {
             "pattern": {
              "fillmode": "overlay",
              "size": 10,
              "solidity": 0.2
             }
            },
            "type": "histogram"
           }
          ],
          "histogram2d": [
           {
            "colorbar": {
             "outlinewidth": 0,
             "ticks": ""
            },
            "colorscale": [
             [
              0,
              "#0d0887"
             ],
             [
              0.1111111111111111,
              "#46039f"
             ],
             [
              0.2222222222222222,
              "#7201a8"
             ],
             [
              0.3333333333333333,
              "#9c179e"
             ],
             [
              0.4444444444444444,
              "#bd3786"
             ],
             [
              0.5555555555555556,
              "#d8576b"
             ],
             [
              0.6666666666666666,
              "#ed7953"
             ],
             [
              0.7777777777777778,
              "#fb9f3a"
             ],
             [
              0.8888888888888888,
              "#fdca26"
             ],
             [
              1,
              "#f0f921"
             ]
            ],
            "type": "histogram2d"
           }
          ],
          "histogram2dcontour": [
           {
            "colorbar": {
             "outlinewidth": 0,
             "ticks": ""
            },
            "colorscale": [
             [
              0,
              "#0d0887"
             ],
             [
              0.1111111111111111,
              "#46039f"
             ],
             [
              0.2222222222222222,
              "#7201a8"
             ],
             [
              0.3333333333333333,
              "#9c179e"
             ],
             [
              0.4444444444444444,
              "#bd3786"
             ],
             [
              0.5555555555555556,
              "#d8576b"
             ],
             [
              0.6666666666666666,
              "#ed7953"
             ],
             [
              0.7777777777777778,
              "#fb9f3a"
             ],
             [
              0.8888888888888888,
              "#fdca26"
             ],
             [
              1,
              "#f0f921"
             ]
            ],
            "type": "histogram2dcontour"
           }
          ],
          "mesh3d": [
           {
            "colorbar": {
             "outlinewidth": 0,
             "ticks": ""
            },
            "type": "mesh3d"
           }
          ],
          "parcoords": [
           {
            "line": {
             "colorbar": {
              "outlinewidth": 0,
              "ticks": ""
             }
            },
            "type": "parcoords"
           }
          ],
          "pie": [
           {
            "automargin": true,
            "type": "pie"
           }
          ],
          "scatter": [
           {
            "fillpattern": {
             "fillmode": "overlay",
             "size": 10,
             "solidity": 0.2
            },
            "type": "scatter"
           }
          ],
          "scatter3d": [
           {
            "line": {
             "colorbar": {
              "outlinewidth": 0,
              "ticks": ""
             }
            },
            "marker": {
             "colorbar": {
              "outlinewidth": 0,
              "ticks": ""
             }
            },
            "type": "scatter3d"
           }
          ],
          "scattercarpet": [
           {
            "marker": {
             "colorbar": {
              "outlinewidth": 0,
              "ticks": ""
             }
            },
            "type": "scattercarpet"
           }
          ],
          "scattergeo": [
           {
            "marker": {
             "colorbar": {
              "outlinewidth": 0,
              "ticks": ""
             }
            },
            "type": "scattergeo"
           }
          ],
          "scattergl": [
           {
            "marker": {
             "colorbar": {
              "outlinewidth": 0,
              "ticks": ""
             }
            },
            "type": "scattergl"
           }
          ],
          "scattermap": [
           {
            "marker": {
             "colorbar": {
              "outlinewidth": 0,
              "ticks": ""
             }
            },
            "type": "scattermap"
           }
          ],
          "scattermapbox": [
           {
            "marker": {
             "colorbar": {
              "outlinewidth": 0,
              "ticks": ""
             }
            },
            "type": "scattermapbox"
           }
          ],
          "scatterpolar": [
           {
            "marker": {
             "colorbar": {
              "outlinewidth": 0,
              "ticks": ""
             }
            },
            "type": "scatterpolar"
           }
          ],
          "scatterpolargl": [
           {
            "marker": {
             "colorbar": {
              "outlinewidth": 0,
              "ticks": ""
             }
            },
            "type": "scatterpolargl"
           }
          ],
          "scatterternary": [
           {
            "marker": {
             "colorbar": {
              "outlinewidth": 0,
              "ticks": ""
             }
            },
            "type": "scatterternary"
           }
          ],
          "surface": [
           {
            "colorbar": {
             "outlinewidth": 0,
             "ticks": ""
            },
            "colorscale": [
             [
              0,
              "#0d0887"
             ],
             [
              0.1111111111111111,
              "#46039f"
             ],
             [
              0.2222222222222222,
              "#7201a8"
             ],
             [
              0.3333333333333333,
              "#9c179e"
             ],
             [
              0.4444444444444444,
              "#bd3786"
             ],
             [
              0.5555555555555556,
              "#d8576b"
             ],
             [
              0.6666666666666666,
              "#ed7953"
             ],
             [
              0.7777777777777778,
              "#fb9f3a"
             ],
             [
              0.8888888888888888,
              "#fdca26"
             ],
             [
              1,
              "#f0f921"
             ]
            ],
            "type": "surface"
           }
          ],
          "table": [
           {
            "cells": {
             "fill": {
              "color": "#EBF0F8"
             },
             "line": {
              "color": "white"
             }
            },
            "header": {
             "fill": {
              "color": "#C8D4E3"
             },
             "line": {
              "color": "white"
             }
            },
            "type": "table"
           }
          ]
         },
         "layout": {
          "annotationdefaults": {
           "arrowcolor": "#2a3f5f",
           "arrowhead": 0,
           "arrowwidth": 1
          },
          "autotypenumbers": "strict",
          "coloraxis": {
           "colorbar": {
            "outlinewidth": 0,
            "ticks": ""
           }
          },
          "colorscale": {
           "diverging": [
            [
             0,
             "#8e0152"
            ],
            [
             0.1,
             "#c51b7d"
            ],
            [
             0.2,
             "#de77ae"
            ],
            [
             0.3,
             "#f1b6da"
            ],
            [
             0.4,
             "#fde0ef"
            ],
            [
             0.5,
             "#f7f7f7"
            ],
            [
             0.6,
             "#e6f5d0"
            ],
            [
             0.7,
             "#b8e186"
            ],
            [
             0.8,
             "#7fbc41"
            ],
            [
             0.9,
             "#4d9221"
            ],
            [
             1,
             "#276419"
            ]
           ],
           "sequential": [
            [
             0,
             "#0d0887"
            ],
            [
             0.1111111111111111,
             "#46039f"
            ],
            [
             0.2222222222222222,
             "#7201a8"
            ],
            [
             0.3333333333333333,
             "#9c179e"
            ],
            [
             0.4444444444444444,
             "#bd3786"
            ],
            [
             0.5555555555555556,
             "#d8576b"
            ],
            [
             0.6666666666666666,
             "#ed7953"
            ],
            [
             0.7777777777777778,
             "#fb9f3a"
            ],
            [
             0.8888888888888888,
             "#fdca26"
            ],
            [
             1,
             "#f0f921"
            ]
           ],
           "sequentialminus": [
            [
             0,
             "#0d0887"
            ],
            [
             0.1111111111111111,
             "#46039f"
            ],
            [
             0.2222222222222222,
             "#7201a8"
            ],
            [
             0.3333333333333333,
             "#9c179e"
            ],
            [
             0.4444444444444444,
             "#bd3786"
            ],
            [
             0.5555555555555556,
             "#d8576b"
            ],
            [
             0.6666666666666666,
             "#ed7953"
            ],
            [
             0.7777777777777778,
             "#fb9f3a"
            ],
            [
             0.8888888888888888,
             "#fdca26"
            ],
            [
             1,
             "#f0f921"
            ]
           ]
          },
          "colorway": [
           "#636efa",
           "#EF553B",
           "#00cc96",
           "#ab63fa",
           "#FFA15A",
           "#19d3f3",
           "#FF6692",
           "#B6E880",
           "#FF97FF",
           "#FECB52"
          ],
          "font": {
           "color": "#2a3f5f"
          },
          "geo": {
           "bgcolor": "white",
           "lakecolor": "white",
           "landcolor": "white",
           "showlakes": true,
           "showland": true,
           "subunitcolor": "#C8D4E3"
          },
          "hoverlabel": {
           "align": "left"
          },
          "hovermode": "closest",
          "mapbox": {
           "style": "light"
          },
          "paper_bgcolor": "white",
          "plot_bgcolor": "white",
          "polar": {
           "angularaxis": {
            "gridcolor": "#EBF0F8",
            "linecolor": "#EBF0F8",
            "ticks": ""
           },
           "bgcolor": "white",
           "radialaxis": {
            "gridcolor": "#EBF0F8",
            "linecolor": "#EBF0F8",
            "ticks": ""
           }
          },
          "scene": {
           "xaxis": {
            "backgroundcolor": "white",
            "gridcolor": "#DFE8F3",
            "gridwidth": 2,
            "linecolor": "#EBF0F8",
            "showbackground": true,
            "ticks": "",
            "zerolinecolor": "#EBF0F8"
           },
           "yaxis": {
            "backgroundcolor": "white",
            "gridcolor": "#DFE8F3",
            "gridwidth": 2,
            "linecolor": "#EBF0F8",
            "showbackground": true,
            "ticks": "",
            "zerolinecolor": "#EBF0F8"
           },
           "zaxis": {
            "backgroundcolor": "white",
            "gridcolor": "#DFE8F3",
            "gridwidth": 2,
            "linecolor": "#EBF0F8",
            "showbackground": true,
            "ticks": "",
            "zerolinecolor": "#EBF0F8"
           }
          },
          "shapedefaults": {
           "line": {
            "color": "#2a3f5f"
           }
          },
          "ternary": {
           "aaxis": {
            "gridcolor": "#DFE8F3",
            "linecolor": "#A2B1C6",
            "ticks": ""
           },
           "baxis": {
            "gridcolor": "#DFE8F3",
            "linecolor": "#A2B1C6",
            "ticks": ""
           },
           "bgcolor": "white",
           "caxis": {
            "gridcolor": "#DFE8F3",
            "linecolor": "#A2B1C6",
            "ticks": ""
           }
          },
          "title": {
           "x": 0.05
          },
          "xaxis": {
           "automargin": true,
           "gridcolor": "#EBF0F8",
           "linecolor": "#EBF0F8",
           "ticks": "",
           "title": {
            "standoff": 15
           },
           "zerolinecolor": "#EBF0F8",
           "zerolinewidth": 2
          },
          "yaxis": {
           "automargin": true,
           "gridcolor": "#EBF0F8",
           "linecolor": "#EBF0F8",
           "ticks": "",
           "title": {
            "standoff": 15
           },
           "zerolinecolor": "#EBF0F8",
           "zerolinewidth": 2
          }
         }
        },
        "title": {
         "text": "GHZ_trace_eigenvalues vs GHZ_var_nonzero_eigenvalues colored by error"
        },
        "width": 1000,
        "xaxis": {
         "anchor": "y",
         "domain": [
          0,
          1
         ],
         "gridcolor": "lightgray",
         "gridwidth": 1,
         "showgrid": true,
         "ticklabelstandoff": 10,
         "title": {
          "text": "GHZ_trace_eigenvalues"
         }
        },
        "yaxis": {
         "anchor": "x",
         "domain": [
          0,
          1
         ],
         "gridcolor": "lightgray",
         "gridwidth": 1,
         "showgrid": true,
         "ticklabelstandoff": 10,
         "title": {
          "text": "GHZ_var_nonzero_eigenvalues"
         }
        }
       }
      }
     },
     "metadata": {},
     "output_type": "display_data"
    },
    {
     "name": "stdout",
     "output_type": "stream",
     "text": [
      "Color column 'error' minimum value: -4.971550399060236\n",
      "test corresponding to minimum value:\n",
      "0    test0\n",
      "Name: test_key, dtype: object\n",
      "Color column 'error' maximum value: -3.092023919708461\n",
      "test corresponding to maximum value:\n",
      "12    test64\n",
      "Name: test_key, dtype: object\n",
      "\n",
      "adj_min: -4.971550399060236, adj_max: -3.092023919708461\n"
     ]
    },
    {
     "data": {
      "application/vnd.plotly.v1+json": {
       "config": {
        "plotlyServerURL": "https://plot.ly"
       },
       "data": [
        {
         "customdata": [
          [
           "test0"
          ],
          [
           "test131"
          ],
          [
           "test150"
          ],
          [
           "test164"
          ],
          [
           "test169"
          ],
          [
           "test248"
          ],
          [
           "test286"
          ],
          [
           "test326"
          ],
          [
           "test346"
          ],
          [
           "test43"
          ],
          [
           "test56"
          ],
          [
           "test58"
          ],
          [
           "test64"
          ]
         ],
         "hovertemplate": "GHZ_trace_normalized_by_rank=%{x}<br>GHZ_d_eff=%{y}<br>test_key=%{customdata[0]}<br>error=%{marker.color}<extra></extra>",
         "legendgroup": "",
         "marker": {
          "color": {
           "bdata": "koSZG97iE8AGUGssVMwJwBNHbkNmRBLAu++NKB7QCcBj2+qipOYPwPfWhPItXBHAUk2bh1O5EsAqsZFH9rsLwL1fZheeORLAuNuQYIaBDMAK7jwe3rEQwEjbpiJFIA/A08dsCXe8CMA=",
           "dtype": "f8"
          },
          "coloraxis": "coloraxis",
          "line": {
           "color": "black",
           "width": 0.75
          },
          "size": 12,
          "symbol": "circle"
         },
         "mode": "markers",
         "name": "",
         "orientation": "v",
         "showlegend": false,
         "type": "scatter",
         "x": {
          "bdata": "kzNPQYYqzECE9K1B89xSQe4KzkAa0qxBwKudQYba70CApLFBXWGHQbEEFUECPZBBi/rOQA==",
          "dtype": "f4"
         },
         "xaxis": "x",
         "y": {
          "bdata": "PBWadX5D6j+2lkbyddjpP2f0A67+3Og/9SAVFtn36T8cO/qYLjToP9IxnJzwTuk/jiEiFsM+5z/bsNb51XfqPyQx6QoNuOg/miIyZwfu6T/SgxBGt7/pP+bump559uY/Br+RKhDs6T8=",
          "dtype": "f8"
         },
         "yaxis": "y"
        },
        {
         "hovertemplate": "<b>OLS trendline</b><br>GHZ_d_eff = -0.00254716 * GHZ_trace_normalized_by_rank + 0.822882<br>R<sup>2</sup>=0.208973<br><br>GHZ_trace_normalized_by_rank=%{x}<br>GHZ_d_eff=%{y} <b>(trend)</b><extra></extra>",
         "legendgroup": "Overall Trendline",
         "line": {
          "color": "red"
         },
         "marker": {
          "line": {
           "color": "black",
           "width": 0.75
          },
          "size": 12,
          "symbol": "circle"
         },
         "mode": "lines",
         "name": "Overall Trendline",
         "showlegend": true,
         "type": "scatter",
         "x": {
          "bdata": "hirMQO4KzkCL+s5AhtrvQLEEFUGTM09B89xSQV1hh0ECPZBBwKudQRrSrEGE9K1BgKSxQQ==",
          "dtype": "f4"
         },
         "xaxis": "x",
         "y": {
          "bdata": "WmQHuuvP6T+/OpV3ss7pP5Wm0jgWzuk/ua8pZaa46T9Q+CLftZLpPw5fQsvURuk/dHtXUg5C6T9z+7bc8PPoPwL1wDDW3Og/nH439cy56D8yHt0YSZLoP546B51Tj+g/Lfb3bbWF6D8=",
          "dtype": "f8"
         },
         "yaxis": "y"
        }
       ],
       "layout": {
        "coloraxis": {
         "cmax": -3.092023919708461,
         "cmin": -4.971550399060236,
         "colorbar": {
          "len": 1.1,
          "thickness": 35,
          "title": {
           "text": "error"
          },
          "x": 1,
          "y": 0.53,
          "yanchor": "middle"
         },
         "colorscale": [
          [
           0,
           "#f0f921"
          ],
          [
           0.010101010101010102,
           "#f0f724"
          ],
          [
           0.020202020202020204,
           "#f1f525"
          ],
          [
           0.030303030303030304,
           "#f1f426"
          ],
          [
           0.04040404040404041,
           "#f3f027"
          ],
          [
           0.050505050505050504,
           "#f4ed27"
          ],
          [
           0.06060606060606061,
           "#f5eb27"
          ],
          [
           0.0707070707070707,
           "#f6e826"
          ],
          [
           0.08080808080808081,
           "#f7e425"
          ],
          [
           0.09090909090909091,
           "#f8e125"
          ],
          [
           0.10101010101010101,
           "#f9dd25"
          ],
          [
           0.1111111111111111,
           "#fada24"
          ],
          [
           0.12121212121212122,
           "#fbd724"
          ],
          [
           0.13131313131313133,
           "#fbd324"
          ],
          [
           0.1414141414141414,
           "#fcd025"
          ],
          [
           0.15151515151515152,
           "#fccd25"
          ],
          [
           0.16161616161616163,
           "#fdca26"
          ],
          [
           0.1717171717171717,
           "#fdc627"
          ],
          [
           0.18181818181818182,
           "#fdc229"
          ],
          [
           0.1919191919191919,
           "#febe2a"
          ],
          [
           0.20202020202020202,
           "#febb2b"
          ],
          [
           0.21212121212121213,
           "#feb82c"
          ],
          [
           0.2222222222222222,
           "#fdb42f"
          ],
          [
           0.23232323232323232,
           "#fdb130"
          ],
          [
           0.24242424242424243,
           "#fdae32"
          ],
          [
           0.25252525252525254,
           "#fca934"
          ],
          [
           0.26262626262626265,
           "#fca636"
          ],
          [
           0.2727272727272727,
           "#fca338"
          ],
          [
           0.2828282828282828,
           "#fb9f3a"
          ],
          [
           0.29292929292929293,
           "#fa9c3c"
          ],
          [
           0.30303030303030304,
           "#f9983e"
          ],
          [
           0.31313131313131315,
           "#f89540"
          ],
          [
           0.32323232323232326,
           "#f79143"
          ],
          [
           0.3333333333333333,
           "#f68f44"
          ],
          [
           0.3434343434343434,
           "#f58c46"
          ],
          [
           0.35353535353535354,
           "#f48849"
          ],
          [
           0.36363636363636365,
           "#f2844b"
          ],
          [
           0.37373737373737376,
           "#f1814d"
          ],
          [
           0.3838383838383838,
           "#ef7e50"
          ],
          [
           0.3939393939393939,
           "#ee7b51"
          ],
          [
           0.40404040404040403,
           "#ec7754"
          ],
          [
           0.41414141414141414,
           "#eb7556"
          ],
          [
           0.42424242424242425,
           "#e97158"
          ],
          [
           0.43434343434343436,
           "#e76e5b"
          ],
          [
           0.4444444444444444,
           "#e56b5d"
          ],
          [
           0.45454545454545453,
           "#e3685f"
          ],
          [
           0.46464646464646464,
           "#e16462"
          ],
          [
           0.47474747474747475,
           "#df6263"
          ],
          [
           0.48484848484848486,
           "#dd5e66"
          ],
          [
           0.494949494949495,
           "#da5b69"
          ],
          [
           0.5050505050505051,
           "#d9586a"
          ],
          [
           0.5151515151515151,
           "#d6556d"
          ],
          [
           0.5252525252525253,
           "#d45270"
          ],
          [
           0.5353535353535354,
           "#d24f71"
          ],
          [
           0.5454545454545454,
           "#cf4c74"
          ],
          [
           0.5555555555555556,
           "#cc4977"
          ],
          [
           0.5656565656565656,
           "#ca457a"
          ],
          [
           0.5757575757575758,
           "#c8437b"
          ],
          [
           0.5858585858585859,
           "#c5407e"
          ],
          [
           0.5959595959595959,
           "#c23c81"
          ],
          [
           0.6060606060606061,
           "#bf3984"
          ],
          [
           0.6161616161616161,
           "#bc3587"
          ],
          [
           0.6262626262626263,
           "#ba3388"
          ],
          [
           0.6363636363636364,
           "#b6308b"
          ],
          [
           0.6464646464646465,
           "#b32c8e"
          ],
          [
           0.6565656565656566,
           "#b02991"
          ],
          [
           0.6666666666666666,
           "#ac2694"
          ],
          [
           0.6767676767676768,
           "#a82296"
          ],
          [
           0.6868686868686869,
           "#a51f99"
          ],
          [
           0.696969696969697,
           "#a21d9a"
          ],
          [
           0.7070707070707071,
           "#9e199d"
          ],
          [
           0.7171717171717171,
           "#9a169f"
          ],
          [
           0.7272727272727273,
           "#9613a1"
          ],
          [
           0.7373737373737373,
           "#920fa3"
          ],
          [
           0.7474747474747475,
           "#8e0ca4"
          ],
          [
           0.7575757575757576,
           "#8a09a5"
          ],
          [
           0.7676767676767676,
           "#8606a6"
          ],
          [
           0.7777777777777778,
           "#8104a7"
          ],
          [
           0.7878787878787878,
           "#7d03a8"
          ],
          [
           0.797979797979798,
           "#7801a8"
          ],
          [
           0.8080808080808081,
           "#7401a8"
          ],
          [
           0.8181818181818182,
           "#6f00a8"
          ],
          [
           0.8282828282828283,
           "#6a00a8"
          ],
          [
           0.8383838383838383,
           "#6600a7"
          ],
          [
           0.8484848484848485,
           "#6100a7"
          ],
          [
           0.8585858585858586,
           "#5c01a6"
          ],
          [
           0.8686868686868687,
           "#5801a4"
          ],
          [
           0.8787878787878788,
           "#5302a3"
          ],
          [
           0.8888888888888888,
           "#4e02a2"
          ],
          [
           0.898989898989899,
           "#4903a0"
          ],
          [
           0.9090909090909091,
           "#44039e"
          ],
          [
           0.9191919191919192,
           "#3f049c"
          ],
          [
           0.9292929292929293,
           "#3a049a"
          ],
          [
           0.9393939393939394,
           "#350498"
          ],
          [
           0.9494949494949495,
           "#2f0596"
          ],
          [
           0.9595959595959596,
           "#2a0593"
          ],
          [
           0.9696969696969697,
           "#240691"
          ],
          [
           0.9797979797979798,
           "#1d068e"
          ],
          [
           0.98989898989899,
           "#16078a"
          ],
          [
           1,
           "#0d0887"
          ]
         ]
        },
        "height": 600,
        "legend": {
         "tracegroupgap": 0
        },
        "shapes": [
         {
          "layer": "below",
          "line": {
           "color": "black",
           "width": 2
          },
          "type": "rect",
          "x0": 0,
          "x1": 1,
          "xref": "paper",
          "y0": 0,
          "y1": 1,
          "yref": "paper"
         }
        ],
        "template": {
         "data": {
          "bar": [
           {
            "error_x": {
             "color": "#2a3f5f"
            },
            "error_y": {
             "color": "#2a3f5f"
            },
            "marker": {
             "line": {
              "color": "white",
              "width": 0.5
             },
             "pattern": {
              "fillmode": "overlay",
              "size": 10,
              "solidity": 0.2
             }
            },
            "type": "bar"
           }
          ],
          "barpolar": [
           {
            "marker": {
             "line": {
              "color": "white",
              "width": 0.5
             },
             "pattern": {
              "fillmode": "overlay",
              "size": 10,
              "solidity": 0.2
             }
            },
            "type": "barpolar"
           }
          ],
          "carpet": [
           {
            "aaxis": {
             "endlinecolor": "#2a3f5f",
             "gridcolor": "#C8D4E3",
             "linecolor": "#C8D4E3",
             "minorgridcolor": "#C8D4E3",
             "startlinecolor": "#2a3f5f"
            },
            "baxis": {
             "endlinecolor": "#2a3f5f",
             "gridcolor": "#C8D4E3",
             "linecolor": "#C8D4E3",
             "minorgridcolor": "#C8D4E3",
             "startlinecolor": "#2a3f5f"
            },
            "type": "carpet"
           }
          ],
          "choropleth": [
           {
            "colorbar": {
             "outlinewidth": 0,
             "ticks": ""
            },
            "type": "choropleth"
           }
          ],
          "contour": [
           {
            "colorbar": {
             "outlinewidth": 0,
             "ticks": ""
            },
            "colorscale": [
             [
              0,
              "#0d0887"
             ],
             [
              0.1111111111111111,
              "#46039f"
             ],
             [
              0.2222222222222222,
              "#7201a8"
             ],
             [
              0.3333333333333333,
              "#9c179e"
             ],
             [
              0.4444444444444444,
              "#bd3786"
             ],
             [
              0.5555555555555556,
              "#d8576b"
             ],
             [
              0.6666666666666666,
              "#ed7953"
             ],
             [
              0.7777777777777778,
              "#fb9f3a"
             ],
             [
              0.8888888888888888,
              "#fdca26"
             ],
             [
              1,
              "#f0f921"
             ]
            ],
            "type": "contour"
           }
          ],
          "contourcarpet": [
           {
            "colorbar": {
             "outlinewidth": 0,
             "ticks": ""
            },
            "type": "contourcarpet"
           }
          ],
          "heatmap": [
           {
            "colorbar": {
             "outlinewidth": 0,
             "ticks": ""
            },
            "colorscale": [
             [
              0,
              "#0d0887"
             ],
             [
              0.1111111111111111,
              "#46039f"
             ],
             [
              0.2222222222222222,
              "#7201a8"
             ],
             [
              0.3333333333333333,
              "#9c179e"
             ],
             [
              0.4444444444444444,
              "#bd3786"
             ],
             [
              0.5555555555555556,
              "#d8576b"
             ],
             [
              0.6666666666666666,
              "#ed7953"
             ],
             [
              0.7777777777777778,
              "#fb9f3a"
             ],
             [
              0.8888888888888888,
              "#fdca26"
             ],
             [
              1,
              "#f0f921"
             ]
            ],
            "type": "heatmap"
           }
          ],
          "histogram": [
           {
            "marker": {
             "pattern": {
              "fillmode": "overlay",
              "size": 10,
              "solidity": 0.2
             }
            },
            "type": "histogram"
           }
          ],
          "histogram2d": [
           {
            "colorbar": {
             "outlinewidth": 0,
             "ticks": ""
            },
            "colorscale": [
             [
              0,
              "#0d0887"
             ],
             [
              0.1111111111111111,
              "#46039f"
             ],
             [
              0.2222222222222222,
              "#7201a8"
             ],
             [
              0.3333333333333333,
              "#9c179e"
             ],
             [
              0.4444444444444444,
              "#bd3786"
             ],
             [
              0.5555555555555556,
              "#d8576b"
             ],
             [
              0.6666666666666666,
              "#ed7953"
             ],
             [
              0.7777777777777778,
              "#fb9f3a"
             ],
             [
              0.8888888888888888,
              "#fdca26"
             ],
             [
              1,
              "#f0f921"
             ]
            ],
            "type": "histogram2d"
           }
          ],
          "histogram2dcontour": [
           {
            "colorbar": {
             "outlinewidth": 0,
             "ticks": ""
            },
            "colorscale": [
             [
              0,
              "#0d0887"
             ],
             [
              0.1111111111111111,
              "#46039f"
             ],
             [
              0.2222222222222222,
              "#7201a8"
             ],
             [
              0.3333333333333333,
              "#9c179e"
             ],
             [
              0.4444444444444444,
              "#bd3786"
             ],
             [
              0.5555555555555556,
              "#d8576b"
             ],
             [
              0.6666666666666666,
              "#ed7953"
             ],
             [
              0.7777777777777778,
              "#fb9f3a"
             ],
             [
              0.8888888888888888,
              "#fdca26"
             ],
             [
              1,
              "#f0f921"
             ]
            ],
            "type": "histogram2dcontour"
           }
          ],
          "mesh3d": [
           {
            "colorbar": {
             "outlinewidth": 0,
             "ticks": ""
            },
            "type": "mesh3d"
           }
          ],
          "parcoords": [
           {
            "line": {
             "colorbar": {
              "outlinewidth": 0,
              "ticks": ""
             }
            },
            "type": "parcoords"
           }
          ],
          "pie": [
           {
            "automargin": true,
            "type": "pie"
           }
          ],
          "scatter": [
           {
            "fillpattern": {
             "fillmode": "overlay",
             "size": 10,
             "solidity": 0.2
            },
            "type": "scatter"
           }
          ],
          "scatter3d": [
           {
            "line": {
             "colorbar": {
              "outlinewidth": 0,
              "ticks": ""
             }
            },
            "marker": {
             "colorbar": {
              "outlinewidth": 0,
              "ticks": ""
             }
            },
            "type": "scatter3d"
           }
          ],
          "scattercarpet": [
           {
            "marker": {
             "colorbar": {
              "outlinewidth": 0,
              "ticks": ""
             }
            },
            "type": "scattercarpet"
           }
          ],
          "scattergeo": [
           {
            "marker": {
             "colorbar": {
              "outlinewidth": 0,
              "ticks": ""
             }
            },
            "type": "scattergeo"
           }
          ],
          "scattergl": [
           {
            "marker": {
             "colorbar": {
              "outlinewidth": 0,
              "ticks": ""
             }
            },
            "type": "scattergl"
           }
          ],
          "scattermap": [
           {
            "marker": {
             "colorbar": {
              "outlinewidth": 0,
              "ticks": ""
             }
            },
            "type": "scattermap"
           }
          ],
          "scattermapbox": [
           {
            "marker": {
             "colorbar": {
              "outlinewidth": 0,
              "ticks": ""
             }
            },
            "type": "scattermapbox"
           }
          ],
          "scatterpolar": [
           {
            "marker": {
             "colorbar": {
              "outlinewidth": 0,
              "ticks": ""
             }
            },
            "type": "scatterpolar"
           }
          ],
          "scatterpolargl": [
           {
            "marker": {
             "colorbar": {
              "outlinewidth": 0,
              "ticks": ""
             }
            },
            "type": "scatterpolargl"
           }
          ],
          "scatterternary": [
           {
            "marker": {
             "colorbar": {
              "outlinewidth": 0,
              "ticks": ""
             }
            },
            "type": "scatterternary"
           }
          ],
          "surface": [
           {
            "colorbar": {
             "outlinewidth": 0,
             "ticks": ""
            },
            "colorscale": [
             [
              0,
              "#0d0887"
             ],
             [
              0.1111111111111111,
              "#46039f"
             ],
             [
              0.2222222222222222,
              "#7201a8"
             ],
             [
              0.3333333333333333,
              "#9c179e"
             ],
             [
              0.4444444444444444,
              "#bd3786"
             ],
             [
              0.5555555555555556,
              "#d8576b"
             ],
             [
              0.6666666666666666,
              "#ed7953"
             ],
             [
              0.7777777777777778,
              "#fb9f3a"
             ],
             [
              0.8888888888888888,
              "#fdca26"
             ],
             [
              1,
              "#f0f921"
             ]
            ],
            "type": "surface"
           }
          ],
          "table": [
           {
            "cells": {
             "fill": {
              "color": "#EBF0F8"
             },
             "line": {
              "color": "white"
             }
            },
            "header": {
             "fill": {
              "color": "#C8D4E3"
             },
             "line": {
              "color": "white"
             }
            },
            "type": "table"
           }
          ]
         },
         "layout": {
          "annotationdefaults": {
           "arrowcolor": "#2a3f5f",
           "arrowhead": 0,
           "arrowwidth": 1
          },
          "autotypenumbers": "strict",
          "coloraxis": {
           "colorbar": {
            "outlinewidth": 0,
            "ticks": ""
           }
          },
          "colorscale": {
           "diverging": [
            [
             0,
             "#8e0152"
            ],
            [
             0.1,
             "#c51b7d"
            ],
            [
             0.2,
             "#de77ae"
            ],
            [
             0.3,
             "#f1b6da"
            ],
            [
             0.4,
             "#fde0ef"
            ],
            [
             0.5,
             "#f7f7f7"
            ],
            [
             0.6,
             "#e6f5d0"
            ],
            [
             0.7,
             "#b8e186"
            ],
            [
             0.8,
             "#7fbc41"
            ],
            [
             0.9,
             "#4d9221"
            ],
            [
             1,
             "#276419"
            ]
           ],
           "sequential": [
            [
             0,
             "#0d0887"
            ],
            [
             0.1111111111111111,
             "#46039f"
            ],
            [
             0.2222222222222222,
             "#7201a8"
            ],
            [
             0.3333333333333333,
             "#9c179e"
            ],
            [
             0.4444444444444444,
             "#bd3786"
            ],
            [
             0.5555555555555556,
             "#d8576b"
            ],
            [
             0.6666666666666666,
             "#ed7953"
            ],
            [
             0.7777777777777778,
             "#fb9f3a"
            ],
            [
             0.8888888888888888,
             "#fdca26"
            ],
            [
             1,
             "#f0f921"
            ]
           ],
           "sequentialminus": [
            [
             0,
             "#0d0887"
            ],
            [
             0.1111111111111111,
             "#46039f"
            ],
            [
             0.2222222222222222,
             "#7201a8"
            ],
            [
             0.3333333333333333,
             "#9c179e"
            ],
            [
             0.4444444444444444,
             "#bd3786"
            ],
            [
             0.5555555555555556,
             "#d8576b"
            ],
            [
             0.6666666666666666,
             "#ed7953"
            ],
            [
             0.7777777777777778,
             "#fb9f3a"
            ],
            [
             0.8888888888888888,
             "#fdca26"
            ],
            [
             1,
             "#f0f921"
            ]
           ]
          },
          "colorway": [
           "#636efa",
           "#EF553B",
           "#00cc96",
           "#ab63fa",
           "#FFA15A",
           "#19d3f3",
           "#FF6692",
           "#B6E880",
           "#FF97FF",
           "#FECB52"
          ],
          "font": {
           "color": "#2a3f5f"
          },
          "geo": {
           "bgcolor": "white",
           "lakecolor": "white",
           "landcolor": "white",
           "showlakes": true,
           "showland": true,
           "subunitcolor": "#C8D4E3"
          },
          "hoverlabel": {
           "align": "left"
          },
          "hovermode": "closest",
          "mapbox": {
           "style": "light"
          },
          "paper_bgcolor": "white",
          "plot_bgcolor": "white",
          "polar": {
           "angularaxis": {
            "gridcolor": "#EBF0F8",
            "linecolor": "#EBF0F8",
            "ticks": ""
           },
           "bgcolor": "white",
           "radialaxis": {
            "gridcolor": "#EBF0F8",
            "linecolor": "#EBF0F8",
            "ticks": ""
           }
          },
          "scene": {
           "xaxis": {
            "backgroundcolor": "white",
            "gridcolor": "#DFE8F3",
            "gridwidth": 2,
            "linecolor": "#EBF0F8",
            "showbackground": true,
            "ticks": "",
            "zerolinecolor": "#EBF0F8"
           },
           "yaxis": {
            "backgroundcolor": "white",
            "gridcolor": "#DFE8F3",
            "gridwidth": 2,
            "linecolor": "#EBF0F8",
            "showbackground": true,
            "ticks": "",
            "zerolinecolor": "#EBF0F8"
           },
           "zaxis": {
            "backgroundcolor": "white",
            "gridcolor": "#DFE8F3",
            "gridwidth": 2,
            "linecolor": "#EBF0F8",
            "showbackground": true,
            "ticks": "",
            "zerolinecolor": "#EBF0F8"
           }
          },
          "shapedefaults": {
           "line": {
            "color": "#2a3f5f"
           }
          },
          "ternary": {
           "aaxis": {
            "gridcolor": "#DFE8F3",
            "linecolor": "#A2B1C6",
            "ticks": ""
           },
           "baxis": {
            "gridcolor": "#DFE8F3",
            "linecolor": "#A2B1C6",
            "ticks": ""
           },
           "bgcolor": "white",
           "caxis": {
            "gridcolor": "#DFE8F3",
            "linecolor": "#A2B1C6",
            "ticks": ""
           }
          },
          "title": {
           "x": 0.05
          },
          "xaxis": {
           "automargin": true,
           "gridcolor": "#EBF0F8",
           "linecolor": "#EBF0F8",
           "ticks": "",
           "title": {
            "standoff": 15
           },
           "zerolinecolor": "#EBF0F8",
           "zerolinewidth": 2
          },
          "yaxis": {
           "automargin": true,
           "gridcolor": "#EBF0F8",
           "linecolor": "#EBF0F8",
           "ticks": "",
           "title": {
            "standoff": 15
           },
           "zerolinecolor": "#EBF0F8",
           "zerolinewidth": 2
          }
         }
        },
        "title": {
         "text": "GHZ_trace_normalized_by_rank vs GHZ_d_eff colored by error"
        },
        "width": 1000,
        "xaxis": {
         "anchor": "y",
         "domain": [
          0,
          1
         ],
         "gridcolor": "lightgray",
         "gridwidth": 1,
         "showgrid": true,
         "ticklabelstandoff": 10,
         "title": {
          "text": "GHZ_trace_normalized_by_rank"
         }
        },
        "yaxis": {
         "anchor": "x",
         "domain": [
          0,
          1
         ],
         "gridcolor": "lightgray",
         "gridwidth": 1,
         "showgrid": true,
         "ticklabelstandoff": 10,
         "title": {
          "text": "GHZ_d_eff"
         }
        }
       }
      }
     },
     "metadata": {},
     "output_type": "display_data"
    }
   ],
   "source": [
    "fig = plot_two_metrics_with_color(\n",
    "    df_agg_by_test_key,\n",
    "    x_qfim_type=None,\n",
    "   \n",
    "    x_metric=\"GHZ_trace_eigenvalues\",\n",
    "    y_qfim_type=None,\n",
    "    y_metric=\"error\",\n",
    "    # color_metric=\"target_abbas_deff_norm\",\n",
    "    color_metric=\"GHZ_var_nonzero_eigenvalues\",\n",
    "    add_trendline=True,\n",
    "gamma=1.2,\n",
    "    cmap_name=\"plasma\",\n",
    "    # log_x=True,\n",
    "    # log_y=True,\n",
    ")\n",
    "fig.show() \n",
    "fig = plot_two_metrics_with_color(\n",
    "    df_agg_by_test_key,\n",
    "    x_qfim_type=None,\n",
    "   \n",
    "    x_metric=\"GHZ_var_nonzero_eigenvalues\", \n",
    "    y_qfim_type=None,\n",
    "    y_metric=\"error\",\n",
    "    # color_metric=\"target_abbas_deff_norm\",\n",
    "    color_metric=\"GHZ_trace_eigenvalues\",\n",
    "    add_trendline=True,\n",
    "gamma=1.2,\n",
    "    cmap_name=\"plasma\",\n",
    "    # log_x=True,\n",
    "    # log_y=True,\n",
    ")\n",
    "fig.show() \n",
    "fig = plot_two_metrics_with_color(\n",
    "    df_agg_by_test_key,\n",
    "    x_qfim_type=None,\n",
    "   \n",
    "    x_metric=\"GHZ_trace_eigenvalues\",\n",
    "    y_qfim_type=None,\n",
    "    y_metric=\"GHZ_var_nonzero_eigenvalues\",\n",
    "    # color_metric=\"target_abbas_deff_norm\",\n",
    "    color_metric=\"error\",\n",
    "    # add_trendline=True,\n",
    "gamma=1.2,\n",
    "    cmap_name=\"plasma\",\n",
    "    # log_x=True,\n",
    "    # log_y=True,\n",
    ")\n",
    "fig.show() \n",
    "fig = plot_two_metrics_with_color(\n",
    "    df_agg_by_test_key,\n",
    "    x_qfim_type=None,\n",
    "   \n",
    "    x_metric=\"GHZ_trace_normalized_by_rank\",\n",
    "    y_qfim_type=None,\n",
    "    y_metric=\"GHZ_d_eff\",\n",
    "    # color_metric=\"target_abbas_deff_norm\",\n",
    "    color_metric=\"error\",\n",
    "    # add_trendline=True,\n",
    "gamma=1.2,\n",
    "    cmap_name=\"plasma\",\n",
    "    # log_x=True,\n",
    "    # log_y=True,\n",
    ")\n",
    "fig.show() "
   ]
  },
  {
   "cell_type": "code",
   "execution_count": 67,
   "metadata": {},
   "outputs": [
    {
     "data": {
      "text/plain": [
       "True"
      ]
     },
     "execution_count": 67,
     "metadata": {},
     "output_type": "execute_result"
    }
   ],
   "source": [
    "'test169' in df_agg_by_test_key['test_key'].unique()"
   ]
  },
  {
   "cell_type": "markdown",
   "metadata": {},
   "source": [
    "updated_row.update({f\"GHZ_{k}\": v for k, v in ghz_stats.items()})\n",
    "updated_row.update({f\"basis_{k}\": v for k, v in basis_stats.items()})\n",
    "updated_row.update({f\"dqfim_{k}\": v for k, v in dqfim_stats_train.items()})\n",
    "updated_row.update({f\"random_dample_dqfim_{k}\": v for k, v in file_dqfim_stats.items()})\n",
    "updated_row.update({f\"tdqfim_{k}\": v for k, v in dqfim_stats_targ.items()})"
   ]
  },
  {
   "cell_type": "code",
   "execution_count": null,
   "metadata": {},
   "outputs": [
    {
     "name": "stdout",
     "output_type": "stream",
     "text": [
      "\n",
      "Pairwise correlations vs. avg_fidelity (Pearson):\n",
      "tdqfim_var_all_eigenvalues: r = -0.125, p = 0.0536\n",
      "tdqfim_var_nonzero_eigenvalues: r = -0.117, p = 0.0692\n",
      "tdqfim_var_all_normalized_by_rank: r = -0.125, p = 0.0536\n",
      "tdqfim_var_nonzero_log: r = -0.112, p = 0.0827\n",
      "tdqfim_ipr_deff_raw: r = 0.068, p = 0.293\n",
      "tdqfim_abbas_deff_raw: r = -0.111, p = 0.0855\n",
      "tdqfim_abbas_deff_norm: r = 0.036, p = 0.579\n",
      "tdqfim_d_eff: r = 0.011, p = 0.866\n",
      "tdqfim_min_nonzero_eigenvalue: r = -0.114, p = 0.0771\n",
      "tdqfim_spread_metric_variance: r = -0.003, p = 0.966\n",
      "tdqfim_spread_metric_mad: r = 0.007, p = 0.911\n",
      "\n",
      "Pairwise correlations vs. avg_fidelity (Spearman):\n"
     ]
    }
   ],
   "source": [
    "x_metric = 'avg_fidelity'\n",
    "metrics_of_interest_targ_dqfim = [\n",
    "    \n",
    "       'tdqfim_var_all_eigenvalues',\n",
    "       'tdqfim_var_nonzero_eigenvalues',\n",
    "       'tdqfim_var_all_normalized_by_rank',\n",
    "       'tdqfim_var_nonzero_log',\n",
    "      'tdqfim_ipr_deff_raw', 'tdqfim_abbas_deff_raw', \n",
    "      'tdqfim_abbas_deff_norm', 'tdqfim_d_eff', 'tdqfim_min_nonzero_eigenvalue',\n",
    "      'tdqfim_spread_metric_variance', 'tdqfim_spread_metric_mad']\n",
    "pearson_corrs_targ, spearman_corrs_targ = analyze_correlations(\n",
    "    df_final, x_metric, metrics_of_interest_targ_dqfim,\n",
    "    corr_threshold=CORR_THRESHOLD, p_threshold=P_THRESHOLD, print_all_pearson=True\n",
    ")"
   ]
  },
  {
   "cell_type": "code",
   "execution_count": null,
   "metadata": {},
   "outputs": [
    {
     "name": "stdout",
     "output_type": "stream",
     "text": [
      "\n",
      "Pairwise correlations vs. avg_fidelity (Pearson):\n",
      "dqfim_var_all_normalized_by_rank: r = -0.028, p = 0.671\n",
      "dqfim_var_nonzero_normalized_by_rank: r = -0.023, p = 0.722\n",
      "dqfim_trace_normalized_by_rank: r = -0.064, p = 0.327\n",
      "dqfim_var_nonzero_log: r = -0.095, p = 0.144\n",
      "dqfim_ipr_deff_norm: r = -0.052, p = 0.426\n",
      "dqfim_abbas_deff_raw: r = -0.074, p = 0.256\n",
      "dqfim_abbas_deff_norm: r = -0.062, p = 0.341\n",
      "dqfim_d_eff: r = -0.061, p = 0.346\n",
      "dqfim_spread_metric_variance: r = 0.062, p = 0.34\n",
      "dqfim_spread_metric_mad: r = 0.057, p = 0.38\n",
      "\n",
      "Pairwise correlations vs. avg_fidelity (Spearman):\n"
     ]
    }
   ],
   "source": [
    "\n",
    "metrics_of_interest_dqfim = [\n",
    "\n",
    "     \n",
    "       'dqfim_var_all_normalized_by_rank',\n",
    "       'dqfim_var_nonzero_normalized_by_rank',\n",
    "       'dqfim_trace_normalized_by_rank',\n",
    "       'dqfim_var_nonzero_log',\n",
    "     'dqfim_ipr_deff_norm', 'dqfim_abbas_deff_raw',\n",
    "       'dqfim_abbas_deff_norm', 'dqfim_d_eff', 'dqfim_spread_metric_variance',\n",
    "       'dqfim_spread_metric_mad'\n",
    "]\n",
    "pearson_corrs_dqfim, spearman_corrs_dqfim = analyze_correlations(\n",
    "    df_final, x_metric, metrics_of_interest_dqfim,\n",
    "    corr_threshold=CORR_THRESHOLD, p_threshold=P_THRESHOLD, print_all_pearson=True\n",
    ")"
   ]
  },
  {
   "cell_type": "code",
   "execution_count": 26,
   "metadata": {},
   "outputs": [],
   "source": [
    "n_colors = 100\n",
    "import plotly.express as px\n",
    "import seaborn as sns\n",
    "import matplotlib.colors as mcolors\n",
    "from matplotlib.colors import LinearSegmentedColormap, PowerNorm\n",
    "def plot_two_metrics_with_color(\n",
    "    df,\n",
    "    x_qfim_type,\n",
    "    x_metric,\n",
    "    y_qfim_type,\n",
    "    y_metric,\n",
    "    color_metric,\n",
    "    log_x = False,\n",
    "    log_y = False,\n",
    "    title=None,\n",
    "    add_trendline=True,\n",
    "    n_colors=100,\n",
    "    gamma=0.7,\n",
    "    cmap_name=\"Spectral\",\n",
    "    width=1000,\n",
    "    height=600,\n",
    "    scale_factor=0.05\n",
    "):\n",
    "    \"\"\"\n",
    "    Create a scatter plot comparing two metrics (x and y axes), potentially from \n",
    "    different QFIM types, with points colored by a third metric.\n",
    "    \n",
    "    If x_qfim_type or y_qfim_type is None, we assume that x_metric or y_metric\n",
    "    is already a column in df (e.g. \"error\", \"avg_fidelity\").\n",
    "\n",
    "    Parameters\n",
    "    ----------\n",
    "    df : pd.DataFrame\n",
    "        DataFrame with one row per test_key (or per gate) containing QFIM metrics.\n",
    "    x_qfim_type : str or None\n",
    "        QFIM type for the x-axis metric (e.g. \"GHZ\", \"basis\", \"dqfim\", \"target\") \n",
    "        or None if x_metric is already a column in df with no prefix.\n",
    "    x_metric : str\n",
    "        The metric name for the x-axis (no prefix if x_qfim_type is None).\n",
    "    y_qfim_type : str or None\n",
    "        QFIM type for the y-axis metric, or None if y_metric is already a column in df.\n",
    "    y_metric : str\n",
    "        The metric name for the y-axis (no prefix if y_qfim_type is None).\n",
    "    color_metric : str\n",
    "        The column name (or QFIM metric name) used for coloring the points.\n",
    "        (If you want to color by a QFIM metric with a prefix, pass the full col name.)\n",
    "    title : str, optional\n",
    "        Custom title for the plot. If None, a default is generated.\n",
    "    add_trendline : bool, optional\n",
    "        If True, add an Ordinary Least Squares (OLS) trendline across all points.\n",
    "    n_colors : int, optional\n",
    "        Number of steps in the custom colormap.\n",
    "    width, height : int\n",
    "        Plot width and height in pixels.\n",
    "\n",
    "    Returns\n",
    "    -------\n",
    "    fig : plotly.graph_objects.Figure\n",
    "        Scatter plot with custom color scale, bounding box, black marker borders, \n",
    "        and optional OLS trend line.\n",
    "    \"\"\"\n",
    "    # 1) Construct the full column names for x and y\n",
    "    if x_qfim_type is not None:\n",
    "        x_col = f\"{x_qfim_type}_{x_metric}\"\n",
    "    else:\n",
    "        x_col = x_metric  # no prefix\n",
    "\n",
    "    if y_qfim_type is not None:\n",
    "        y_col = f\"{y_qfim_type}_{y_metric}\"\n",
    "    else:\n",
    "        y_col = y_metric  # no prefix\n",
    "\n",
    "    color_col = color_metric  # e.g., \"avg_fidelity\", or \"target_abbas_deff_norm\", etc.\n",
    "\n",
    "    # Ensure required columns exist.\n",
    "    for col in [x_col, y_col, color_col]:\n",
    "        if col not in df.columns:\n",
    "            raise ValueError(f\"Column '{col}' not found in the DataFrame.\")\n",
    "\n",
    "    # 2. Subset the DataFrame to only rows that have non-null x and y values.\n",
    "    df_plot = df[[x_col, y_col, color_col, \"test_key\"]].dropna()\n",
    "\n",
    "    # 3. Compute the min and max for the color metric from only the plotted rows.\n",
    "    data_min = df_plot[color_col].min()\n",
    "    data_max = df_plot[color_col].max()\n",
    "    if np.isclose(data_min, data_max):\n",
    "        data_max = data_min + 1e-12\n",
    "     # Print the rows corresponding to the minimum and maximum values.\n",
    "    min_rows = df_plot[df_plot[color_col] == data_min]\n",
    "    max_rows = df_plot[df_plot[color_col] == data_max]\n",
    "    print(f\"Color column '{color_col}' minimum value: {data_min}\")\n",
    "    print(\"test corresponding to minimum value:\")\n",
    "    print(min_rows.get('test_key', None))\n",
    "    print(f\"Color column '{color_col}' maximum value: {data_max}\")\n",
    "    print(\"test corresponding to maximum value:\")\n",
    "    print(max_rows.get('test_key', None))\n",
    "    # Optionally adjust the lower bound.\n",
    "    if color_col == \"error\":\n",
    "        scale_factor = 0.0\n",
    "        # data_max =  np.log(0.75)\n",
    "        # data_max *= 1e-\n",
    "    adj_min = data_min - scale_factor * abs(data_min)\n",
    "    adj_max = data_max \n",
    "\n",
    "    print(f\"\\nadj_min: {adj_min}, adj_max: {adj_max}\")\n",
    "\n",
    "    # Create a PowerNorm based on the adjusted min and data_max.\n",
    "    norm = PowerNorm(gamma=gamma, vmin=adj_min, vmax=data_max)\n",
    "    # Create n_colors evenly spaced values between data_min and data_max.\n",
    "    values = np.linspace(data_min, data_max, n_colors)\n",
    "    normed_values = norm(values)\n",
    "    # Use a reversed Spectral palette from seaborn.\n",
    "    base_colormap = sns.color_palette(cmap_name, as_cmap=True).reversed()\n",
    "    colors_rgba = base_colormap(normed_values)\n",
    "    # Build a Matplotlib colormap and convert to a list of hex strings for Plotly.\n",
    "    custom_cmap = LinearSegmentedColormap.from_list('vibrant', colors_rgba, N=n_colors)\n",
    "    plotly_color_scale = [mcolors.to_hex(custom_cmap(i)) for i in np.linspace(0, 1, n_colors)]\n",
    "\n",
    "    # 3) Trend line options\n",
    "    trendline_option = \"ols\" if add_trendline else None\n",
    "    # 4. Create the scatter plot\n",
    "    #    trendline_scope=\"overall\" forces a single line across the entire dataset.\n",
    "    fig = px.scatter(\n",
    "        df,\n",
    "        x=x_col,\n",
    "        y=y_col,\n",
    "        color=color_col,\n",
    "        log_x=log_x,\n",
    "        log_y=log_y,\n",
    "        # color_continuous_scale=\"plasma_r\",\n",
    "        color_continuous_scale=plotly_color_scale,\n",
    "        range_color=[adj_min, data_max],\n",
    "        title=title if title else f\"{x_col} vs {y_col} colored by {color_col}\",\n",
    "        hover_data=[\"test_key\"],\n",
    "        template=\"plotly_white\",\n",
    "        trendline=trendline_option,\n",
    "        trendline_scope=\"overall\",\n",
    "        trendline_color_override=\"red\",\n",
    "        width=width,\n",
    "        height=height\n",
    "    )\n",
    "\n",
    "\n",
    "    # 5. Marker styling: bigger, black border\n",
    "    fig.update_traces(\n",
    "        marker=dict(\n",
    "            size=12,\n",
    "            line=dict(width=0.75, color=\"black\"),\n",
    "            symbol=\"circle\"\n",
    "        )\n",
    "    )\n",
    "\n",
    "    # 6. Adjust color bar: make it the full height of the plot\n",
    "    fig.update_layout(\n",
    "        coloraxis_colorbar=dict(\n",
    "            title=color_col,\n",
    "            len=1.1,            # 100% of plot height\n",
    "            thickness=35,       # adjust width of the color bar\n",
    "            yanchor=\"middle\",   # center it vertically\n",
    "            x=1.0,             # shift slightly to the right\n",
    "            y=0.53\n",
    "        ),\n",
    "        shapes=[\n",
    "            dict(\n",
    "                type=\"rect\",\n",
    "                xref=\"paper\", yref=\"paper\",\n",
    "                x0=0, y0=0, x1=1, y1=1,\n",
    "                line=dict(color=\"black\", width=2),\n",
    "                layer=\"below\"\n",
    "            )\n",
    "        ]\n",
    "    )\n",
    "    fig.update_xaxes(showgrid=True,gridwidth=1,gridcolor=\"lightgray\", ticklabelstandoff=10)\n",
    "    fig.update_yaxes(showgrid=True,gridwidth=1,gridcolor=\"lightgray\", ticklabelstandoff=10)\n",
    "\n",
    "    return fig\n",
    "\n"
   ]
  },
  {
   "cell_type": "code",
   "execution_count": 27,
   "metadata": {},
   "outputs": [
    {
     "data": {
      "text/plain": [
       "array(['test131', 'test150', 'test164', 'test169', 'test286', 'test326',\n",
       "       'test346', 'test43', 'test56', 'test58', 'test64'], dtype=object)"
      ]
     },
     "execution_count": 27,
     "metadata": {},
     "output_type": "execute_result"
    }
   ],
   "source": [
    "df_final['test_key'].unique()"
   ]
  },
  {
   "cell_type": "code",
   "execution_count": 28,
   "metadata": {},
   "outputs": [
    {
     "name": "stdout",
     "output_type": "stream",
     "text": [
      "Color column 'tdqfim_abbas_deff_raw' minimum value: 3.4690494537353516\n",
      "test corresponding to minimum value:\n",
      "61    test169\n",
      "Name: test_key, dtype: object\n",
      "Color column 'tdqfim_abbas_deff_raw' maximum value: 8.90238094329834\n",
      "test corresponding to maximum value:\n",
      "131    test346\n",
      "Name: test_key, dtype: object\n",
      "\n",
      "adj_min: 3.2955970764160156, adj_max: 8.90238094329834\n"
     ]
    },
    {
     "data": {
      "application/vnd.plotly.v1+json": {
       "config": {
        "plotlyServerURL": "https://plot.ly"
       },
       "data": [
        {
         "customdata": [
          [
           "test131"
          ],
          [
           "test131"
          ],
          [
           "test131"
          ],
          [
           "test131"
          ],
          [
           "test131"
          ],
          [
           "test131"
          ],
          [
           "test131"
          ],
          [
           "test131"
          ],
          [
           "test131"
          ],
          [
           "test131"
          ],
          [
           "test131"
          ],
          [
           "test131"
          ],
          [
           "test131"
          ],
          [
           "test131"
          ],
          [
           "test131"
          ],
          [
           "test131"
          ],
          [
           "test131"
          ],
          [
           "test131"
          ],
          [
           "test131"
          ],
          [
           "test131"
          ],
          [
           "test150"
          ],
          [
           "test150"
          ],
          [
           "test150"
          ],
          [
           "test150"
          ],
          [
           "test150"
          ],
          [
           "test150"
          ],
          [
           "test150"
          ],
          [
           "test150"
          ],
          [
           "test150"
          ],
          [
           "test150"
          ],
          [
           "test150"
          ],
          [
           "test150"
          ],
          [
           "test150"
          ],
          [
           "test150"
          ],
          [
           "test150"
          ],
          [
           "test150"
          ],
          [
           "test150"
          ],
          [
           "test150"
          ],
          [
           "test150"
          ],
          [
           "test150"
          ],
          [
           "test164"
          ],
          [
           "test164"
          ],
          [
           "test164"
          ],
          [
           "test164"
          ],
          [
           "test164"
          ],
          [
           "test164"
          ],
          [
           "test164"
          ],
          [
           "test164"
          ],
          [
           "test164"
          ],
          [
           "test164"
          ],
          [
           "test164"
          ],
          [
           "test164"
          ],
          [
           "test164"
          ],
          [
           "test164"
          ],
          [
           "test164"
          ],
          [
           "test164"
          ],
          [
           "test164"
          ],
          [
           "test164"
          ],
          [
           "test164"
          ],
          [
           "test164"
          ],
          [
           "test169"
          ],
          [
           "test169"
          ],
          [
           "test169"
          ],
          [
           "test169"
          ],
          [
           "test169"
          ],
          [
           "test169"
          ],
          [
           "test169"
          ],
          [
           "test169"
          ],
          [
           "test169"
          ],
          [
           "test169"
          ],
          [
           "test169"
          ],
          [
           "test169"
          ],
          [
           "test169"
          ],
          [
           "test169"
          ],
          [
           "test169"
          ],
          [
           "test169"
          ],
          [
           "test169"
          ],
          [
           "test169"
          ],
          [
           "test169"
          ],
          [
           "test169"
          ],
          [
           "test286"
          ],
          [
           "test286"
          ],
          [
           "test286"
          ],
          [
           "test286"
          ],
          [
           "test286"
          ],
          [
           "test286"
          ],
          [
           "test286"
          ],
          [
           "test286"
          ],
          [
           "test286"
          ],
          [
           "test286"
          ],
          [
           "test286"
          ],
          [
           "test286"
          ],
          [
           "test286"
          ],
          [
           "test286"
          ],
          [
           "test286"
          ],
          [
           "test286"
          ],
          [
           "test286"
          ],
          [
           "test286"
          ],
          [
           "test286"
          ],
          [
           "test286"
          ],
          [
           "test326"
          ],
          [
           "test326"
          ],
          [
           "test326"
          ],
          [
           "test326"
          ],
          [
           "test326"
          ],
          [
           "test326"
          ],
          [
           "test326"
          ],
          [
           "test326"
          ],
          [
           "test326"
          ],
          [
           "test326"
          ],
          [
           "test326"
          ],
          [
           "test326"
          ],
          [
           "test326"
          ],
          [
           "test326"
          ],
          [
           "test326"
          ],
          [
           "test326"
          ],
          [
           "test326"
          ],
          [
           "test326"
          ],
          [
           "test326"
          ],
          [
           "test326"
          ],
          [
           "test346"
          ],
          [
           "test346"
          ],
          [
           "test346"
          ],
          [
           "test346"
          ],
          [
           "test346"
          ],
          [
           "test346"
          ],
          [
           "test346"
          ],
          [
           "test346"
          ],
          [
           "test346"
          ],
          [
           "test346"
          ],
          [
           "test346"
          ],
          [
           "test346"
          ],
          [
           "test346"
          ],
          [
           "test346"
          ],
          [
           "test346"
          ],
          [
           "test346"
          ],
          [
           "test346"
          ],
          [
           "test346"
          ],
          [
           "test346"
          ],
          [
           "test346"
          ],
          [
           "test43"
          ],
          [
           "test43"
          ],
          [
           "test43"
          ],
          [
           "test43"
          ],
          [
           "test43"
          ],
          [
           "test43"
          ],
          [
           "test43"
          ],
          [
           "test43"
          ],
          [
           "test43"
          ],
          [
           "test43"
          ],
          [
           "test43"
          ],
          [
           "test43"
          ],
          [
           "test43"
          ],
          [
           "test43"
          ],
          [
           "test43"
          ],
          [
           "test43"
          ],
          [
           "test43"
          ],
          [
           "test43"
          ],
          [
           "test43"
          ],
          [
           "test43"
          ],
          [
           "test56"
          ],
          [
           "test56"
          ],
          [
           "test56"
          ],
          [
           "test56"
          ],
          [
           "test56"
          ],
          [
           "test56"
          ],
          [
           "test56"
          ],
          [
           "test56"
          ],
          [
           "test56"
          ],
          [
           "test56"
          ],
          [
           "test56"
          ],
          [
           "test56"
          ],
          [
           "test56"
          ],
          [
           "test56"
          ],
          [
           "test56"
          ],
          [
           "test56"
          ],
          [
           "test56"
          ],
          [
           "test56"
          ],
          [
           "test56"
          ],
          [
           "test56"
          ],
          [
           "test58"
          ],
          [
           "test58"
          ],
          [
           "test58"
          ],
          [
           "test58"
          ],
          [
           "test58"
          ],
          [
           "test58"
          ],
          [
           "test58"
          ],
          [
           "test58"
          ],
          [
           "test58"
          ],
          [
           "test58"
          ],
          [
           "test58"
          ],
          [
           "test58"
          ],
          [
           "test58"
          ],
          [
           "test58"
          ],
          [
           "test58"
          ],
          [
           "test58"
          ],
          [
           "test58"
          ],
          [
           "test58"
          ],
          [
           "test58"
          ],
          [
           "test58"
          ],
          [
           "test64"
          ],
          [
           "test64"
          ],
          [
           "test64"
          ],
          [
           "test64"
          ],
          [
           "test64"
          ],
          [
           "test64"
          ],
          [
           "test64"
          ],
          [
           "test64"
          ],
          [
           "test64"
          ],
          [
           "test64"
          ],
          [
           "test64"
          ],
          [
           "test64"
          ],
          [
           "test64"
          ],
          [
           "test64"
          ],
          [
           "test64"
          ],
          [
           "test64"
          ],
          [
           "test64"
          ],
          [
           "test64"
          ],
          [
           "test64"
          ],
          [
           "test64"
          ]
         ],
         "hovertemplate": "tdqfim_trace_eigenvalues=%{x}<br>error=%{y}<br>test_key=%{customdata[0]}<br>tdqfim_abbas_deff_raw=%{marker.color}<extra></extra>",
         "legendgroup": "",
         "marker": {
          "color": {
           "bdata": "AOmAQCt1hEBx9o1ASpKVQIYmhUBpM5RA4d6QQLn8gkAER4NAooqEQGiSiEB0+aRAKOCNQH3Bj0CMtpFA14SQQLpynkDDz6NAeLqCQPweoUBgB85AjJ/RQFDJ80CnWddAssbJQDYw9ED+rehAePnbQAwmBkGMa+dArIvdQBXXBkFE5+pAfw3oQCBL/kD2HQNB9fDhQNVF8EBS0vZA+NzkQEfvvUAvArdAGojOQAgqzUD3l8RADofLQGTUykD2GMpAJkfIQK+3t0Am4sRA3o7aQGjPwUBvILpAOGK/QEj9uEBnUNNA/F3lQDCOykCU59xAllRtQOgEXkBQi3FAydRyQJhSd0BWq4VASoxrQPQQbUDVpYtALr1qQBDDf0Dy4Z1A+j+AQE/1ckDkJIpAs7iQQBXgj0CwR21AzVh+QNBzjUBo1txAQEfeQKNuAkERD+1A02DyQL8/80B91+9AaDDzQGZi/UDJud9AhRXwQJ9oBEGJOfRA4G/bQLx26kDrtvNAxwQCQUeZ/kCmSfBAZd8CQaT+qEA2R6BA4nKqQH28tEDy2q9A8CCoQDB4rEAo7JxAvwCzQHoHjEC676hAyMq6QAgYtUBu4adA/X6dQAZJpUAAhsBANyOoQOaApUAyaLJAU7H2QGu140DAFwBBT9n4QBx770D0pgRBM7j4QAhtAUH+JvZAmsv5QF2eBUEncA5BShvxQBK990AVZwBBwVsAQZNMAEGbKAZB4l7xQJ6rBkHd555A/6SRQKM7rUBnyJ1ATsqsQErNr0Dbq6dAVo6nQIjGxkBPmaNAP52iQIXfzUAiWrNA2e6jQBE9qUD6zKdAKCS5QCQ2wkDCdppAUJnKQMmMtEDdQbNAbwS3QGkHzEByO8ZADBrEQMTmxEDaosNA9OrSQDPjuEDIncxAfOnkQDzjyEBDt8VABPTPQBh6z0B6ReRA6iPSQMqAu0DxBc9ArxeTQNUAhEDUrZ9AyQaLQIizkkB/0ZpAfMSVQJolrkAmGKBAdPeRQPZBoUApJ65A/xKdQJw5o0ATyKVADBqhQJIKrkC51blAGpydQGC6uEBp8o9ArfWZQML4oUCkYZ5A6oyZQI+OokARgaNAKq+ZQJ6InkA55I9A3repQDoXrkBsZaFAid2SQEi1okD+1ZZAKCGsQACQqkCdEZpAhve7QA==",
           "dtype": "f4"
          },
          "coloraxis": "coloraxis",
          "line": {
           "color": "black",
           "width": 0.75
          },
          "size": 12,
          "symbol": "circle"
         },
         "mode": "markers",
         "name": "",
         "orientation": "v",
         "showlegend": false,
         "type": "scatter",
         "x": {
          "bdata": "c0etQWBOwEGjx9xBm+rfQcQvzUGKBOpBkLHnQSxOvEGwW6BBuHnCQZzxy0HKz/5Btx3dQSK3x0FmuNBBNL/NQY1hEkJwJgRCzxm0QbeTDkKoplNC0qh5QrRnc0J53XNCiC1SQk/El0JtPINCzh1SQkxvnEK53HhC2FhvQoRMqEIOP4lCak6YQqARlkLuqqhC+Id5QhyujEItE4ZCH3mDQujwJEIf0CBCKqJJQjLsPEJCWShCZBYyQsa6KkLQajhC2D0lQuDGGEKwcjNCihksQm0kJkI7wR9CGEQbQtF2D0Lq/UVCzoJVQgw5KUIiLE9Cs223QT/DskEBTrBBtQ/EQTuuwkHRG+tB4oe4QVw3rUHgA89Bjb2yQdxF3kG43ghCdKLTQb0XyEHYFt9BZq38QZDc+0Hbp6xB3gSzQbA27kEmCnNClziIQqZQqkIAgo9CJHaHQoGqikIMRI1CHR+JQrRcqkItJ4NCTOGQQv19n0KJVo9C/k19QoFXlkK1G49COPagQmRxmEJOCKFCvlGSQgeIB0JkFQpClGcMQvl9HkKM8g5CbMUOQrZtCUIgjuhBFgccQn0n2UHOlQ1CYjIiQkgaI0I8pwdCrOf9QXcwBUKM6yJCvkkNQop3BEJ9viBCSr+EQtOpaEK+VYlCQy+DQqlIg0LTUJFCk32PQgp0jULXxYBC3/+JQiQKlkI3165CESV3QiALgUKgvYVC2puCQgy9oEIqDotCxJ9zQo6um0IBV99BBk/cQRj7A0IGzeBBahABQiLzA0IgVfZBSgoIQi9HEUKw+vBBjx/sQbhJGUJ0AQ9CwEvjQeuW7EGlbu9BaK4JQmSEIkKoO99BpKwpQiJKQULcZ15CWgNAQoIWY0LoZ1RCkvVmQjCbWELAy0JCKLlSQlZlQULualtCedGFQtQgaELwpGRC5BVmQuSUdUJrynhCxHhgQlItPkL0jXhCJhbrQe9NuEHjSetBti3TQQDM0UGYevBBQOTqQeWOE0LoL/5BIILrQSaq90FCaxBCr2jiQbCKCEKR6gVCZLHwQZprCELWxTNC8Gb2QfEFDkL0StBBhAUcQuweG0LdvA1Cz1giQux2GUJMdC9CzBMAQl0e70GKRt1Bqa8gQgTuJEI1QTFC1t/aQUw3CULqyfVBlhQ2QmOpMUKp0xFCdBBmQg==",
          "dtype": "f4"
         },
         "xaxis": "x",
         "y": {
          "bdata": "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",
          "dtype": "f8"
         },
         "yaxis": "y"
        },
        {
         "hovertemplate": "<b>OLS trendline</b><br>error = -0.0223457 * tdqfim_trace_eigenvalues + -2.84537<br>R<sup>2</sup>=0.117454<br><br>tdqfim_trace_eigenvalues=%{x}<br>error=%{y} <b>(trend)</b><extra></extra>",
         "legendgroup": "Overall Trendline",
         "line": {
          "color": "red"
         },
         "marker": {
          "line": {
           "color": "black",
           "width": 0.75
          },
          "size": 12,
          "symbol": "circle"
         },
         "mode": "lines",
         "name": "Overall Trendline",
         "showlegend": true,
         "type": "scatter",
         "x": {
          "bdata": "sFugQdunrEFcN61Bc0etQQFOsEGNvbJBP8OyQd4Es0HPGbRBs223Qe9NuEHih7hBLE68QWBOwEG4ecJBO67CQbUPxEEit8dBvRfIQZzxy0HEL81BNL/NQeADz0H0StBBZrjQQQDM0UG2LdNBdKLTQX0n2UHW39pBBk/cQaPH3EG3Hd1BikbdQdxF3kHYFt9BqDvfQQFX30Gb6t9BBs3gQa9o4kHAS+NBkLHnQSCO6EGKBOpBQOTqQSYW60HRG+tB40nrQSCC60GPH+xB65bsQbA27kFdHu9BpW7vQZh68EFksfBBsPrwQerJ9UEgVfZB8Gb2QSaq90GQ3PtBZq38Qazn/UHoL/5Bys/+QcwTAEJqEAFCIvMDQhj7A0JwJgRCincEQncwBUKR6gVCB4gHQjynB0JKCghCmmsIQrCKCEK43ghCTDcJQrZtCUJorglCZBUKQpRnDEK+SQ1CzpUNQt28DULxBQ5Ct5MOQmzFDkKM8g5CdAEPQtF2D0JCaxBCL0cRQqnTEUKNYRJC5Y4TQuDGGEK4SRlC7HYZQuweG0IYRBtChAUcQhYHHEL5fR5CO8EfQqmvIEJ9viBCH9AgQmIyIkLPWCJCZIQiQozrIkJIGiNCBO4kQujwJELYPSVCbSQmQkJZKEIMOSlCpKwpQsa6KkKKGSxCTHQvQjVBMUJjqTFCZBYyQrByM0LWxTNClhQ2QtBqOEIy7DxCUi0+QloDQEIiSkFCVmVBQsDLQkLq/UVCKqJJQiIsT0LOHVJCiC1SQii5UkKoplNC6GdUQs6CVUIwm1hC7mpbQtxnXkLEeGBCghZjQvCkZEJ0EGZC5BVmQpL1ZkLUIGhC06loQthYb0ImCnNCtGdzQsSfc0J53XNC5JR1QhEld0L0jXhCa8p4QrnceEL4h3lC0qh5Qv5NfULXxYBCIAuBQtqbgkItJ4NCQy+DQm08g0KpSINCH3mDQkq/hEKgvYVCedGFQi0ThkIkdodClziIQh0fiUIOP4lCvlWJQt//iUKBqopCKg6LQhyujEIMRI1CCnSNQrUbj0KJVo9Ck32PQgCCj0JM4ZBC01CRQr5RkkIkCpZCoBGWQoFXlkJPxJdCak6YQmRxmEKOrptCTG+cQv19n0IMvaBCOPagQk4IoUKETKhC7qqoQqZQqkK0XKpCN9euQg==",
          "dtype": "f4"
         },
         "xaxis": "x",
         "y": {
          "bdata": "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",
          "dtype": "f8"
         },
         "yaxis": "y"
        }
       ],
       "layout": {
        "coloraxis": {
         "cmax": 8.90238094329834,
         "cmin": 3.2955970764160156,
         "colorbar": {
          "len": 1.1,
          "thickness": 35,
          "title": {
           "text": "tdqfim_abbas_deff_raw"
          },
          "x": 1,
          "y": 0.53,
          "yanchor": "middle"
         },
         "colorscale": [
          [
           0,
           "#fbd324"
          ],
          [
           0.010101010101010102,
           "#fdcb26"
          ],
          [
           0.020202020202020204,
           "#fdc527"
          ],
          [
           0.030303030303030304,
           "#febe2a"
          ],
          [
           0.04040404040404041,
           "#feb82c"
          ],
          [
           0.050505050505050504,
           "#fdb22f"
          ],
          [
           0.06060606060606061,
           "#fdac33"
          ],
          [
           0.0707070707070707,
           "#fca835"
          ],
          [
           0.08080808080808081,
           "#fba238"
          ],
          [
           0.09090909090909091,
           "#fa9e3b"
          ],
          [
           0.10101010101010101,
           "#f99a3e"
          ],
          [
           0.1111111111111111,
           "#f89441"
          ],
          [
           0.12121212121212122,
           "#f79044"
          ],
          [
           0.13131313131313133,
           "#f58c46"
          ],
          [
           0.1414141414141414,
           "#f48849"
          ],
          [
           0.15151515151515152,
           "#f2844b"
          ],
          [
           0.16161616161616163,
           "#f0804e"
          ],
          [
           0.1717171717171717,
           "#ef7c51"
          ],
          [
           0.18181818181818182,
           "#ed7953"
          ],
          [
           0.1919191919191919,
           "#eb7655"
          ],
          [
           0.20202020202020202,
           "#e97257"
          ],
          [
           0.21212121212121213,
           "#e76f5a"
          ],
          [
           0.2222222222222222,
           "#e66c5c"
          ],
          [
           0.23232323232323232,
           "#e4695e"
          ],
          [
           0.24242424242424243,
           "#e26561"
          ],
          [
           0.25252525252525254,
           "#e06363"
          ],
          [
           0.26262626262626265,
           "#de5f65"
          ],
          [
           0.2727272727272727,
           "#dc5d67"
          ],
          [
           0.2828282828282828,
           "#da5a6a"
          ],
          [
           0.29292929292929293,
           "#d8576b"
          ],
          [
           0.30303030303030304,
           "#d5546e"
          ],
          [
           0.31313131313131315,
           "#d45270"
          ],
          [
           0.32323232323232326,
           "#d14e72"
          ],
          [
           0.3333333333333333,
           "#cf4c74"
          ],
          [
           0.3434343434343434,
           "#cc4977"
          ],
          [
           0.35353535353535354,
           "#cb4679"
          ],
          [
           0.36363636363636365,
           "#c9447a"
          ],
          [
           0.37373737373737376,
           "#c6417d"
          ],
          [
           0.3838383838383838,
           "#c43e7f"
          ],
          [
           0.3939393939393939,
           "#c23c81"
          ],
          [
           0.40404040404040403,
           "#bf3984"
          ],
          [
           0.41414141414141414,
           "#bd3786"
          ],
          [
           0.42424242424242425,
           "#bb3488"
          ],
          [
           0.43434343434343436,
           "#b83289"
          ],
          [
           0.4444444444444444,
           "#b52f8c"
          ],
          [
           0.45454545454545453,
           "#b32c8e"
          ],
          [
           0.46464646464646464,
           "#b12a90"
          ],
          [
           0.47474747474747475,
           "#ae2892"
          ],
          [
           0.48484848484848486,
           "#ac2694"
          ],
          [
           0.494949494949495,
           "#aa2395"
          ],
          [
           0.5050505050505051,
           "#a62098"
          ],
          [
           0.5151515151515151,
           "#a31e9a"
          ],
          [
           0.5252525252525253,
           "#a11b9b"
          ],
          [
           0.5353535353535354,
           "#9e199d"
          ],
          [
           0.5454545454545454,
           "#9c179e"
          ],
          [
           0.5555555555555556,
           "#99159f"
          ],
          [
           0.5656565656565656,
           "#9613a1"
          ],
          [
           0.5757575757575758,
           "#9410a2"
          ],
          [
           0.5858585858585859,
           "#910ea3"
          ],
          [
           0.5959595959595959,
           "#8e0ca4"
          ],
          [
           0.6060606060606061,
           "#8b0aa5"
          ],
          [
           0.6161616161616161,
           "#8808a6"
          ],
          [
           0.6262626262626263,
           "#8606a6"
          ],
          [
           0.6363636363636364,
           "#8305a7"
          ],
          [
           0.6464646464646465,
           "#8004a8"
          ],
          [
           0.6565656565656566,
           "#7d03a8"
          ],
          [
           0.6666666666666666,
           "#7a02a8"
          ],
          [
           0.6767676767676768,
           "#7701a8"
          ],
          [
           0.6868686868686869,
           "#7401a8"
          ],
          [
           0.696969696969697,
           "#7100a8"
          ],
          [
           0.7070707070707071,
           "#6e00a8"
          ],
          [
           0.7171717171717171,
           "#6a00a8"
          ],
          [
           0.7272727272727273,
           "#6700a8"
          ],
          [
           0.7373737373737373,
           "#6400a7"
          ],
          [
           0.7474747474747475,
           "#6100a7"
          ],
          [
           0.7575757575757576,
           "#5e01a6"
          ],
          [
           0.7676767676767676,
           "#5b01a5"
          ],
          [
           0.7777777777777778,
           "#5801a4"
          ],
          [
           0.7878787878787878,
           "#5601a4"
          ],
          [
           0.797979797979798,
           "#5302a3"
          ],
          [
           0.8080808080808081,
           "#5002a2"
          ],
          [
           0.8181818181818182,
           "#4c02a1"
          ],
          [
           0.8282828282828283,
           "#4903a0"
          ],
          [
           0.8383838383838383,
           "#46039f"
          ],
          [
           0.8484848484848485,
           "#43039e"
          ],
          [
           0.8585858585858586,
           "#41049d"
          ],
          [
           0.8686868686868687,
           "#3e049c"
          ],
          [
           0.8787878787878788,
           "#3a049a"
          ],
          [
           0.8888888888888888,
           "#370499"
          ],
          [
           0.898989898989899,
           "#330597"
          ],
          [
           0.9090909090909091,
           "#310597"
          ],
          [
           0.9191919191919192,
           "#2e0595"
          ],
          [
           0.9292929292929293,
           "#2a0593"
          ],
          [
           0.9393939393939394,
           "#260591"
          ],
          [
           0.9494949494949495,
           "#220690"
          ],
          [
           0.9595959595959596,
           "#20068f"
          ],
          [
           0.9696969696969697,
           "#1b068d"
          ],
          [
           0.9797979797979798,
           "#16078a"
          ],
          [
           0.98989898989899,
           "#100788"
          ],
          [
           1,
           "#0d0887"
          ]
         ]
        },
        "height": 600,
        "legend": {
         "tracegroupgap": 0
        },
        "shapes": [
         {
          "layer": "below",
          "line": {
           "color": "black",
           "width": 2
          },
          "type": "rect",
          "x0": 0,
          "x1": 1,
          "xref": "paper",
          "y0": 0,
          "y1": 1,
          "yref": "paper"
         }
        ],
        "template": {
         "data": {
          "bar": [
           {
            "error_x": {
             "color": "#2a3f5f"
            },
            "error_y": {
             "color": "#2a3f5f"
            },
            "marker": {
             "line": {
              "color": "white",
              "width": 0.5
             },
             "pattern": {
              "fillmode": "overlay",
              "size": 10,
              "solidity": 0.2
             }
            },
            "type": "bar"
           }
          ],
          "barpolar": [
           {
            "marker": {
             "line": {
              "color": "white",
              "width": 0.5
             },
             "pattern": {
              "fillmode": "overlay",
              "size": 10,
              "solidity": 0.2
             }
            },
            "type": "barpolar"
           }
          ],
          "carpet": [
           {
            "aaxis": {
             "endlinecolor": "#2a3f5f",
             "gridcolor": "#C8D4E3",
             "linecolor": "#C8D4E3",
             "minorgridcolor": "#C8D4E3",
             "startlinecolor": "#2a3f5f"
            },
            "baxis": {
             "endlinecolor": "#2a3f5f",
             "gridcolor": "#C8D4E3",
             "linecolor": "#C8D4E3",
             "minorgridcolor": "#C8D4E3",
             "startlinecolor": "#2a3f5f"
            },
            "type": "carpet"
           }
          ],
          "choropleth": [
           {
            "colorbar": {
             "outlinewidth": 0,
             "ticks": ""
            },
            "type": "choropleth"
           }
          ],
          "contour": [
           {
            "colorbar": {
             "outlinewidth": 0,
             "ticks": ""
            },
            "colorscale": [
             [
              0,
              "#0d0887"
             ],
             [
              0.1111111111111111,
              "#46039f"
             ],
             [
              0.2222222222222222,
              "#7201a8"
             ],
             [
              0.3333333333333333,
              "#9c179e"
             ],
             [
              0.4444444444444444,
              "#bd3786"
             ],
             [
              0.5555555555555556,
              "#d8576b"
             ],
             [
              0.6666666666666666,
              "#ed7953"
             ],
             [
              0.7777777777777778,
              "#fb9f3a"
             ],
             [
              0.8888888888888888,
              "#fdca26"
             ],
             [
              1,
              "#f0f921"
             ]
            ],
            "type": "contour"
           }
          ],
          "contourcarpet": [
           {
            "colorbar": {
             "outlinewidth": 0,
             "ticks": ""
            },
            "type": "contourcarpet"
           }
          ],
          "heatmap": [
           {
            "colorbar": {
             "outlinewidth": 0,
             "ticks": ""
            },
            "colorscale": [
             [
              0,
              "#0d0887"
             ],
             [
              0.1111111111111111,
              "#46039f"
             ],
             [
              0.2222222222222222,
              "#7201a8"
             ],
             [
              0.3333333333333333,
              "#9c179e"
             ],
             [
              0.4444444444444444,
              "#bd3786"
             ],
             [
              0.5555555555555556,
              "#d8576b"
             ],
             [
              0.6666666666666666,
              "#ed7953"
             ],
             [
              0.7777777777777778,
              "#fb9f3a"
             ],
             [
              0.8888888888888888,
              "#fdca26"
             ],
             [
              1,
              "#f0f921"
             ]
            ],
            "type": "heatmap"
           }
          ],
          "histogram": [
           {
            "marker": {
             "pattern": {
              "fillmode": "overlay",
              "size": 10,
              "solidity": 0.2
             }
            },
            "type": "histogram"
           }
          ],
          "histogram2d": [
           {
            "colorbar": {
             "outlinewidth": 0,
             "ticks": ""
            },
            "colorscale": [
             [
              0,
              "#0d0887"
             ],
             [
              0.1111111111111111,
              "#46039f"
             ],
             [
              0.2222222222222222,
              "#7201a8"
             ],
             [
              0.3333333333333333,
              "#9c179e"
             ],
             [
              0.4444444444444444,
              "#bd3786"
             ],
             [
              0.5555555555555556,
              "#d8576b"
             ],
             [
              0.6666666666666666,
              "#ed7953"
             ],
             [
              0.7777777777777778,
              "#fb9f3a"
             ],
             [
              0.8888888888888888,
              "#fdca26"
             ],
             [
              1,
              "#f0f921"
             ]
            ],
            "type": "histogram2d"
           }
          ],
          "histogram2dcontour": [
           {
            "colorbar": {
             "outlinewidth": 0,
             "ticks": ""
            },
            "colorscale": [
             [
              0,
              "#0d0887"
             ],
             [
              0.1111111111111111,
              "#46039f"
             ],
             [
              0.2222222222222222,
              "#7201a8"
             ],
             [
              0.3333333333333333,
              "#9c179e"
             ],
             [
              0.4444444444444444,
              "#bd3786"
             ],
             [
              0.5555555555555556,
              "#d8576b"
             ],
             [
              0.6666666666666666,
              "#ed7953"
             ],
             [
              0.7777777777777778,
              "#fb9f3a"
             ],
             [
              0.8888888888888888,
              "#fdca26"
             ],
             [
              1,
              "#f0f921"
             ]
            ],
            "type": "histogram2dcontour"
           }
          ],
          "mesh3d": [
           {
            "colorbar": {
             "outlinewidth": 0,
             "ticks": ""
            },
            "type": "mesh3d"
           }
          ],
          "parcoords": [
           {
            "line": {
             "colorbar": {
              "outlinewidth": 0,
              "ticks": ""
             }
            },
            "type": "parcoords"
           }
          ],
          "pie": [
           {
            "automargin": true,
            "type": "pie"
           }
          ],
          "scatter": [
           {
            "fillpattern": {
             "fillmode": "overlay",
             "size": 10,
             "solidity": 0.2
            },
            "type": "scatter"
           }
          ],
          "scatter3d": [
           {
            "line": {
             "colorbar": {
              "outlinewidth": 0,
              "ticks": ""
             }
            },
            "marker": {
             "colorbar": {
              "outlinewidth": 0,
              "ticks": ""
             }
            },
            "type": "scatter3d"
           }
          ],
          "scattercarpet": [
           {
            "marker": {
             "colorbar": {
              "outlinewidth": 0,
              "ticks": ""
             }
            },
            "type": "scattercarpet"
           }
          ],
          "scattergeo": [
           {
            "marker": {
             "colorbar": {
              "outlinewidth": 0,
              "ticks": ""
             }
            },
            "type": "scattergeo"
           }
          ],
          "scattergl": [
           {
            "marker": {
             "colorbar": {
              "outlinewidth": 0,
              "ticks": ""
             }
            },
            "type": "scattergl"
           }
          ],
          "scattermap": [
           {
            "marker": {
             "colorbar": {
              "outlinewidth": 0,
              "ticks": ""
             }
            },
            "type": "scattermap"
           }
          ],
          "scattermapbox": [
           {
            "marker": {
             "colorbar": {
              "outlinewidth": 0,
              "ticks": ""
             }
            },
            "type": "scattermapbox"
           }
          ],
          "scatterpolar": [
           {
            "marker": {
             "colorbar": {
              "outlinewidth": 0,
              "ticks": ""
             }
            },
            "type": "scatterpolar"
           }
          ],
          "scatterpolargl": [
           {
            "marker": {
             "colorbar": {
              "outlinewidth": 0,
              "ticks": ""
             }
            },
            "type": "scatterpolargl"
           }
          ],
          "scatterternary": [
           {
            "marker": {
             "colorbar": {
              "outlinewidth": 0,
              "ticks": ""
             }
            },
            "type": "scatterternary"
           }
          ],
          "surface": [
           {
            "colorbar": {
             "outlinewidth": 0,
             "ticks": ""
            },
            "colorscale": [
             [
              0,
              "#0d0887"
             ],
             [
              0.1111111111111111,
              "#46039f"
             ],
             [
              0.2222222222222222,
              "#7201a8"
             ],
             [
              0.3333333333333333,
              "#9c179e"
             ],
             [
              0.4444444444444444,
              "#bd3786"
             ],
             [
              0.5555555555555556,
              "#d8576b"
             ],
             [
              0.6666666666666666,
              "#ed7953"
             ],
             [
              0.7777777777777778,
              "#fb9f3a"
             ],
             [
              0.8888888888888888,
              "#fdca26"
             ],
             [
              1,
              "#f0f921"
             ]
            ],
            "type": "surface"
           }
          ],
          "table": [
           {
            "cells": {
             "fill": {
              "color": "#EBF0F8"
             },
             "line": {
              "color": "white"
             }
            },
            "header": {
             "fill": {
              "color": "#C8D4E3"
             },
             "line": {
              "color": "white"
             }
            },
            "type": "table"
           }
          ]
         },
         "layout": {
          "annotationdefaults": {
           "arrowcolor": "#2a3f5f",
           "arrowhead": 0,
           "arrowwidth": 1
          },
          "autotypenumbers": "strict",
          "coloraxis": {
           "colorbar": {
            "outlinewidth": 0,
            "ticks": ""
           }
          },
          "colorscale": {
           "diverging": [
            [
             0,
             "#8e0152"
            ],
            [
             0.1,
             "#c51b7d"
            ],
            [
             0.2,
             "#de77ae"
            ],
            [
             0.3,
             "#f1b6da"
            ],
            [
             0.4,
             "#fde0ef"
            ],
            [
             0.5,
             "#f7f7f7"
            ],
            [
             0.6,
             "#e6f5d0"
            ],
            [
             0.7,
             "#b8e186"
            ],
            [
             0.8,
             "#7fbc41"
            ],
            [
             0.9,
             "#4d9221"
            ],
            [
             1,
             "#276419"
            ]
           ],
           "sequential": [
            [
             0,
             "#0d0887"
            ],
            [
             0.1111111111111111,
             "#46039f"
            ],
            [
             0.2222222222222222,
             "#7201a8"
            ],
            [
             0.3333333333333333,
             "#9c179e"
            ],
            [
             0.4444444444444444,
             "#bd3786"
            ],
            [
             0.5555555555555556,
             "#d8576b"
            ],
            [
             0.6666666666666666,
             "#ed7953"
            ],
            [
             0.7777777777777778,
             "#fb9f3a"
            ],
            [
             0.8888888888888888,
             "#fdca26"
            ],
            [
             1,
             "#f0f921"
            ]
           ],
           "sequentialminus": [
            [
             0,
             "#0d0887"
            ],
            [
             0.1111111111111111,
             "#46039f"
            ],
            [
             0.2222222222222222,
             "#7201a8"
            ],
            [
             0.3333333333333333,
             "#9c179e"
            ],
            [
             0.4444444444444444,
             "#bd3786"
            ],
            [
             0.5555555555555556,
             "#d8576b"
            ],
            [
             0.6666666666666666,
             "#ed7953"
            ],
            [
             0.7777777777777778,
             "#fb9f3a"
            ],
            [
             0.8888888888888888,
             "#fdca26"
            ],
            [
             1,
             "#f0f921"
            ]
           ]
          },
          "colorway": [
           "#636efa",
           "#EF553B",
           "#00cc96",
           "#ab63fa",
           "#FFA15A",
           "#19d3f3",
           "#FF6692",
           "#B6E880",
           "#FF97FF",
           "#FECB52"
          ],
          "font": {
           "color": "#2a3f5f"
          },
          "geo": {
           "bgcolor": "white",
           "lakecolor": "white",
           "landcolor": "white",
           "showlakes": true,
           "showland": true,
           "subunitcolor": "#C8D4E3"
          },
          "hoverlabel": {
           "align": "left"
          },
          "hovermode": "closest",
          "mapbox": {
           "style": "light"
          },
          "paper_bgcolor": "white",
          "plot_bgcolor": "white",
          "polar": {
           "angularaxis": {
            "gridcolor": "#EBF0F8",
            "linecolor": "#EBF0F8",
            "ticks": ""
           },
           "bgcolor": "white",
           "radialaxis": {
            "gridcolor": "#EBF0F8",
            "linecolor": "#EBF0F8",
            "ticks": ""
           }
          },
          "scene": {
           "xaxis": {
            "backgroundcolor": "white",
            "gridcolor": "#DFE8F3",
            "gridwidth": 2,
            "linecolor": "#EBF0F8",
            "showbackground": true,
            "ticks": "",
            "zerolinecolor": "#EBF0F8"
           },
           "yaxis": {
            "backgroundcolor": "white",
            "gridcolor": "#DFE8F3",
            "gridwidth": 2,
            "linecolor": "#EBF0F8",
            "showbackground": true,
            "ticks": "",
            "zerolinecolor": "#EBF0F8"
           },
           "zaxis": {
            "backgroundcolor": "white",
            "gridcolor": "#DFE8F3",
            "gridwidth": 2,
            "linecolor": "#EBF0F8",
            "showbackground": true,
            "ticks": "",
            "zerolinecolor": "#EBF0F8"
           }
          },
          "shapedefaults": {
           "line": {
            "color": "#2a3f5f"
           }
          },
          "ternary": {
           "aaxis": {
            "gridcolor": "#DFE8F3",
            "linecolor": "#A2B1C6",
            "ticks": ""
           },
           "baxis": {
            "gridcolor": "#DFE8F3",
            "linecolor": "#A2B1C6",
            "ticks": ""
           },
           "bgcolor": "white",
           "caxis": {
            "gridcolor": "#DFE8F3",
            "linecolor": "#A2B1C6",
            "ticks": ""
           }
          },
          "title": {
           "x": 0.05
          },
          "xaxis": {
           "automargin": true,
           "gridcolor": "#EBF0F8",
           "linecolor": "#EBF0F8",
           "ticks": "",
           "title": {
            "standoff": 15
           },
           "zerolinecolor": "#EBF0F8",
           "zerolinewidth": 2
          },
          "yaxis": {
           "automargin": true,
           "gridcolor": "#EBF0F8",
           "linecolor": "#EBF0F8",
           "ticks": "",
           "title": {
            "standoff": 15
           },
           "zerolinecolor": "#EBF0F8",
           "zerolinewidth": 2
          }
         }
        },
        "title": {
         "text": "tdqfim_trace_eigenvalues vs error colored by tdqfim_abbas_deff_raw"
        },
        "width": 1000,
        "xaxis": {
         "anchor": "y",
         "domain": [
          0,
          1
         ],
         "gridcolor": "lightgray",
         "gridwidth": 1,
         "showgrid": true,
         "ticklabelstandoff": 10,
         "title": {
          "text": "tdqfim_trace_eigenvalues"
         }
        },
        "yaxis": {
         "anchor": "x",
         "domain": [
          0,
          1
         ],
         "gridcolor": "lightgray",
         "gridwidth": 1,
         "showgrid": true,
         "ticklabelstandoff": 10,
         "title": {
          "text": "error"
         }
        }
       }
      }
     },
     "metadata": {},
     "output_type": "display_data"
    }
   ],
   "source": [
    "\n",
    "fig = plot_two_metrics_with_color(\n",
    "    df_final,\n",
    "    x_qfim_type=None,\n",
    "   \n",
    "    x_metric=\"tdqfim_trace_eigenvalues\",\n",
    "    y_qfim_type=None,\n",
    "    y_metric=\"error\",\n",
    "    # color_metric=\"target_abbas_deff_norm\",\n",
    "    color_metric=\"tdqfim_abbas_deff_raw\",\n",
    "    add_trendline=True,\n",
    "    cmap_name=\"plasma\",\n",
    "    # log_x=True,\n",
    "    # log_y=True,\n",
    ")\n",
    "fig.show() "
   ]
  },
  {
   "cell_type": "code",
   "execution_count": null,
   "metadata": {},
   "outputs": [
    {
     "name": "stdout",
     "output_type": "stream",
     "text": [
      "Color column 'error' minimum value: -4.680982703069576\n",
      "test corresponding to minimum value:\n",
      "4    test286\n",
      "Name: test_key, dtype: object\n",
      "Color column 'error' maximum value: -3.092023919708461\n",
      "test corresponding to maximum value:\n",
      "10    test64\n",
      "Name: test_key, dtype: object\n",
      "\n",
      "adj_min: -4.680982703069576, adj_max: -3.092023919708461\n"
     ]
    },
    {
     "data": {
      "application/vnd.plotly.v1+json": {
       "config": {
        "plotlyServerURL": "https://plot.ly"
       },
       "data": [
        {
         "customdata": [
          [
           "test131"
          ],
          [
           "test150"
          ],
          [
           "test164"
          ],
          [
           "test169"
          ],
          [
           "test286"
          ],
          [
           "test326"
          ],
          [
           "test346"
          ],
          [
           "test43"
          ],
          [
           "test56"
          ],
          [
           "test58"
          ],
          [
           "test64"
          ]
         ],
         "hovertemplate": "dqfim_d_eff=%{x}<br>dqfim_var_nonzero_log=%{y}<br>test_key=%{customdata[0]}<br>error=%{marker.color}<extra></extra>",
         "legendgroup": "",
         "marker": {
          "color": {
           "bdata": "BlBrLFTMCcATR25DZkQSwLvvjSge0AnAY9vqoqTmD8BSTZuHU7kSwCqxkUf2uwvAvV9mF545EsC425BghoEMwAruPB7esRDASNumIkUgD8DTx2wJd7wIwA==",
           "dtype": "f8"
          },
          "coloraxis": "coloraxis",
          "line": {
           "color": "black",
           "width": 0.75
          },
          "size": 12,
          "symbol": "circle"
         },
         "mode": "markers",
         "name": "",
         "orientation": "v",
         "showlegend": false,
         "type": "scatter",
         "x": {
          "bdata": "ajZvo2mfAkAM+B+VdKoCQDOdpxOojQNAZlVdrvRvAUB+vz4KKIgCQDic3TesNgNAWtH11HkjA0COqnPk+60EQGS1LgbGrAFAjttF5ioWA0DzK5xGD3YBQA==",
          "dtype": "f8"
         },
         "xaxis": "x",
         "y": {
          "bdata": "sz04QAIEk0B7K2NAAHU7QMqwm0BuBVhACWCUQDWIPEDOjolAMTRDQFWjckA=",
          "dtype": "f4"
         },
         "yaxis": "y"
        }
       ],
       "layout": {
        "coloraxis": {
         "cmax": -3.092023919708461,
         "cmin": -4.680982703069576,
         "colorbar": {
          "len": 1.1,
          "thickness": 35,
          "title": {
           "text": "error"
          },
          "x": 1,
          "y": 0.53,
          "yanchor": "middle"
         },
         "colorscale": [
          [
           0,
           "#fde725"
          ],
          [
           0.010101010101010102,
           "#fde725"
          ],
          [
           0.020202020202020204,
           "#fde725"
          ],
          [
           0.030303030303030304,
           "#fbe723"
          ],
          [
           0.04040404040404041,
           "#f8e621"
          ],
          [
           0.050505050505050504,
           "#f8e621"
          ],
          [
           0.06060606060606061,
           "#f6e620"
          ],
          [
           0.0707070707070707,
           "#f4e61e"
          ],
          [
           0.08080808080808081,
           "#f1e51d"
          ],
          [
           0.09090909090909091,
           "#ece51b"
          ],
          [
           0.10101010101010101,
           "#eae51a"
          ],
          [
           0.1111111111111111,
           "#e7e419"
          ],
          [
           0.12121212121212122,
           "#e5e419"
          ],
          [
           0.13131313131313133,
           "#dfe318"
          ],
          [
           0.1414141414141414,
           "#dde318"
          ],
          [
           0.15151515151515152,
           "#d8e219"
          ],
          [
           0.16161616161616163,
           "#d5e21a"
          ],
          [
           0.1717171717171717,
           "#d0e11c"
          ],
          [
           0.18181818181818182,
           "#cde11d"
          ],
          [
           0.1919191919191919,
           "#c8e020"
          ],
          [
           0.20202020202020202,
           "#c2df23"
          ],
          [
           0.21212121212121213,
           "#bddf26"
          ],
          [
           0.2222222222222222,
           "#bade28"
          ],
          [
           0.23232323232323232,
           "#b5de2b"
          ],
          [
           0.24242424242424243,
           "#b0dd2f"
          ],
          [
           0.25252525252525254,
           "#aadc32"
          ],
          [
           0.26262626262626265,
           "#a5db36"
          ],
          [
           0.2727272727272727,
           "#a0da39"
          ],
          [
           0.2828282828282828,
           "#9bd93c"
          ],
          [
           0.29292929292929293,
           "#95d840"
          ],
          [
           0.30303030303030304,
           "#90d743"
          ],
          [
           0.31313131313131315,
           "#8bd646"
          ],
          [
           0.32323232323232326,
           "#84d44b"
          ],
          [
           0.3333333333333333,
           "#7fd34e"
          ],
          [
           0.3434343434343434,
           "#7ad151"
          ],
          [
           0.35353535353535354,
           "#75d054"
          ],
          [
           0.36363636363636365,
           "#6ece58"
          ],
          [
           0.37373737373737376,
           "#69cd5b"
          ],
          [
           0.3838383838383838,
           "#65cb5e"
          ],
          [
           0.3939393939393939,
           "#5ec962"
          ],
          [
           0.40404040404040403,
           "#5ac864"
          ],
          [
           0.41414141414141414,
           "#54c568"
          ],
          [
           0.42424242424242425,
           "#50c46a"
          ],
          [
           0.43434343434343436,
           "#4ac16d"
          ],
          [
           0.4444444444444444,
           "#46c06f"
          ],
          [
           0.45454545454545453,
           "#40bd72"
          ],
          [
           0.46464646464646464,
           "#3bbb75"
          ],
          [
           0.47474747474747475,
           "#38b977"
          ],
          [
           0.48484848484848486,
           "#34b679"
          ],
          [
           0.494949494949495,
           "#2fb47c"
          ],
          [
           0.5050505050505051,
           "#2db27d"
          ],
          [
           0.5151515151515151,
           "#29af7f"
          ],
          [
           0.5252525252525253,
           "#26ad81"
          ],
          [
           0.5353535353535354,
           "#24aa83"
          ],
          [
           0.5454545454545454,
           "#22a785"
          ],
          [
           0.5555555555555556,
           "#20a486"
          ],
          [
           0.5656565656565656,
           "#1fa287"
          ],
          [
           0.5757575757575758,
           "#1fa088"
          ],
          [
           0.5858585858585859,
           "#1e9d89"
          ],
          [
           0.5959595959595959,
           "#1f9a8a"
          ],
          [
           0.6060606060606061,
           "#1f978b"
          ],
          [
           0.6161616161616161,
           "#1f948c"
          ],
          [
           0.6262626262626263,
           "#20928c"
          ],
          [
           0.6363636363636364,
           "#218f8d"
          ],
          [
           0.6464646464646465,
           "#228b8d"
          ],
          [
           0.6565656565656566,
           "#23888e"
          ],
          [
           0.6666666666666666,
           "#25858e"
          ],
          [
           0.6767676767676768,
           "#26828e"
          ],
          [
           0.6868686868686869,
           "#27808e"
          ],
          [
           0.696969696969697,
           "#287d8e"
          ],
          [
           0.7070707070707071,
           "#29798e"
          ],
          [
           0.7171717171717171,
           "#2a768e"
          ],
          [
           0.7272727272727273,
           "#2c738e"
          ],
          [
           0.7373737373737373,
           "#2d708e"
          ],
          [
           0.7474747474747475,
           "#2e6d8e"
          ],
          [
           0.7575757575757576,
           "#306a8e"
          ],
          [
           0.7676767676767676,
           "#31668e"
          ],
          [
           0.7777777777777778,
           "#33638d"
          ],
          [
           0.7878787878787878,
           "#355f8d"
          ],
          [
           0.797979797979798,
           "#365c8d"
          ],
          [
           0.8080808080808081,
           "#38598c"
          ],
          [
           0.8181818181818182,
           "#3a548c"
          ],
          [
           0.8282828282828283,
           "#3b518b"
          ],
          [
           0.8383838383838383,
           "#3d4d8a"
          ],
          [
           0.8484848484848485,
           "#3f4889"
          ],
          [
           0.8585858585858586,
           "#404588"
          ],
          [
           0.8686868686868687,
           "#424086"
          ],
          [
           0.8787878787878788,
           "#433d84"
          ],
          [
           0.8888888888888888,
           "#453882"
          ],
          [
           0.898989898989899,
           "#46337f"
          ],
          [
           0.9090909090909091,
           "#472f7d"
          ],
          [
           0.9191919191919192,
           "#472a7a"
          ],
          [
           0.9292929292929293,
           "#482576"
          ],
          [
           0.9393939393939394,
           "#482071"
          ],
          [
           0.9494949494949495,
           "#481c6e"
          ],
          [
           0.9595959595959596,
           "#481769"
          ],
          [
           0.9696969696969697,
           "#471164"
          ],
          [
           0.9797979797979798,
           "#460b5e"
          ],
          [
           0.98989898989899,
           "#450559"
          ],
          [
           1,
           "#440154"
          ]
         ]
        },
        "height": 600,
        "legend": {
         "tracegroupgap": 0
        },
        "shapes": [
         {
          "layer": "below",
          "line": {
           "color": "black",
           "width": 2
          },
          "type": "rect",
          "x0": 0,
          "x1": 1,
          "xref": "paper",
          "y0": 0,
          "y1": 1,
          "yref": "paper"
         }
        ],
        "template": {
         "data": {
          "bar": [
           {
            "error_x": {
             "color": "#2a3f5f"
            },
            "error_y": {
             "color": "#2a3f5f"
            },
            "marker": {
             "line": {
              "color": "white",
              "width": 0.5
             },
             "pattern": {
              "fillmode": "overlay",
              "size": 10,
              "solidity": 0.2
             }
            },
            "type": "bar"
           }
          ],
          "barpolar": [
           {
            "marker": {
             "line": {
              "color": "white",
              "width": 0.5
             },
             "pattern": {
              "fillmode": "overlay",
              "size": 10,
              "solidity": 0.2
             }
            },
            "type": "barpolar"
           }
          ],
          "carpet": [
           {
            "aaxis": {
             "endlinecolor": "#2a3f5f",
             "gridcolor": "#C8D4E3",
             "linecolor": "#C8D4E3",
             "minorgridcolor": "#C8D4E3",
             "startlinecolor": "#2a3f5f"
            },
            "baxis": {
             "endlinecolor": "#2a3f5f",
             "gridcolor": "#C8D4E3",
             "linecolor": "#C8D4E3",
             "minorgridcolor": "#C8D4E3",
             "startlinecolor": "#2a3f5f"
            },
            "type": "carpet"
           }
          ],
          "choropleth": [
           {
            "colorbar": {
             "outlinewidth": 0,
             "ticks": ""
            },
            "type": "choropleth"
           }
          ],
          "contour": [
           {
            "colorbar": {
             "outlinewidth": 0,
             "ticks": ""
            },
            "colorscale": [
             [
              0,
              "#0d0887"
             ],
             [
              0.1111111111111111,
              "#46039f"
             ],
             [
              0.2222222222222222,
              "#7201a8"
             ],
             [
              0.3333333333333333,
              "#9c179e"
             ],
             [
              0.4444444444444444,
              "#bd3786"
             ],
             [
              0.5555555555555556,
              "#d8576b"
             ],
             [
              0.6666666666666666,
              "#ed7953"
             ],
             [
              0.7777777777777778,
              "#fb9f3a"
             ],
             [
              0.8888888888888888,
              "#fdca26"
             ],
             [
              1,
              "#f0f921"
             ]
            ],
            "type": "contour"
           }
          ],
          "contourcarpet": [
           {
            "colorbar": {
             "outlinewidth": 0,
             "ticks": ""
            },
            "type": "contourcarpet"
           }
          ],
          "heatmap": [
           {
            "colorbar": {
             "outlinewidth": 0,
             "ticks": ""
            },
            "colorscale": [
             [
              0,
              "#0d0887"
             ],
             [
              0.1111111111111111,
              "#46039f"
             ],
             [
              0.2222222222222222,
              "#7201a8"
             ],
             [
              0.3333333333333333,
              "#9c179e"
             ],
             [
              0.4444444444444444,
              "#bd3786"
             ],
             [
              0.5555555555555556,
              "#d8576b"
             ],
             [
              0.6666666666666666,
              "#ed7953"
             ],
             [
              0.7777777777777778,
              "#fb9f3a"
             ],
             [
              0.8888888888888888,
              "#fdca26"
             ],
             [
              1,
              "#f0f921"
             ]
            ],
            "type": "heatmap"
           }
          ],
          "histogram": [
           {
            "marker": {
             "pattern": {
              "fillmode": "overlay",
              "size": 10,
              "solidity": 0.2
             }
            },
            "type": "histogram"
           }
          ],
          "histogram2d": [
           {
            "colorbar": {
             "outlinewidth": 0,
             "ticks": ""
            },
            "colorscale": [
             [
              0,
              "#0d0887"
             ],
             [
              0.1111111111111111,
              "#46039f"
             ],
             [
              0.2222222222222222,
              "#7201a8"
             ],
             [
              0.3333333333333333,
              "#9c179e"
             ],
             [
              0.4444444444444444,
              "#bd3786"
             ],
             [
              0.5555555555555556,
              "#d8576b"
             ],
             [
              0.6666666666666666,
              "#ed7953"
             ],
             [
              0.7777777777777778,
              "#fb9f3a"
             ],
             [
              0.8888888888888888,
              "#fdca26"
             ],
             [
              1,
              "#f0f921"
             ]
            ],
            "type": "histogram2d"
           }
          ],
          "histogram2dcontour": [
           {
            "colorbar": {
             "outlinewidth": 0,
             "ticks": ""
            },
            "colorscale": [
             [
              0,
              "#0d0887"
             ],
             [
              0.1111111111111111,
              "#46039f"
             ],
             [
              0.2222222222222222,
              "#7201a8"
             ],
             [
              0.3333333333333333,
              "#9c179e"
             ],
             [
              0.4444444444444444,
              "#bd3786"
             ],
             [
              0.5555555555555556,
              "#d8576b"
             ],
             [
              0.6666666666666666,
              "#ed7953"
             ],
             [
              0.7777777777777778,
              "#fb9f3a"
             ],
             [
              0.8888888888888888,
              "#fdca26"
             ],
             [
              1,
              "#f0f921"
             ]
            ],
            "type": "histogram2dcontour"
           }
          ],
          "mesh3d": [
           {
            "colorbar": {
             "outlinewidth": 0,
             "ticks": ""
            },
            "type": "mesh3d"
           }
          ],
          "parcoords": [
           {
            "line": {
             "colorbar": {
              "outlinewidth": 0,
              "ticks": ""
             }
            },
            "type": "parcoords"
           }
          ],
          "pie": [
           {
            "automargin": true,
            "type": "pie"
           }
          ],
          "scatter": [
           {
            "fillpattern": {
             "fillmode": "overlay",
             "size": 10,
             "solidity": 0.2
            },
            "type": "scatter"
           }
          ],
          "scatter3d": [
           {
            "line": {
             "colorbar": {
              "outlinewidth": 0,
              "ticks": ""
             }
            },
            "marker": {
             "colorbar": {
              "outlinewidth": 0,
              "ticks": ""
             }
            },
            "type": "scatter3d"
           }
          ],
          "scattercarpet": [
           {
            "marker": {
             "colorbar": {
              "outlinewidth": 0,
              "ticks": ""
             }
            },
            "type": "scattercarpet"
           }
          ],
          "scattergeo": [
           {
            "marker": {
             "colorbar": {
              "outlinewidth": 0,
              "ticks": ""
             }
            },
            "type": "scattergeo"
           }
          ],
          "scattergl": [
           {
            "marker": {
             "colorbar": {
              "outlinewidth": 0,
              "ticks": ""
             }
            },
            "type": "scattergl"
           }
          ],
          "scattermap": [
           {
            "marker": {
             "colorbar": {
              "outlinewidth": 0,
              "ticks": ""
             }
            },
            "type": "scattermap"
           }
          ],
          "scattermapbox": [
           {
            "marker": {
             "colorbar": {
              "outlinewidth": 0,
              "ticks": ""
             }
            },
            "type": "scattermapbox"
           }
          ],
          "scatterpolar": [
           {
            "marker": {
             "colorbar": {
              "outlinewidth": 0,
              "ticks": ""
             }
            },
            "type": "scatterpolar"
           }
          ],
          "scatterpolargl": [
           {
            "marker": {
             "colorbar": {
              "outlinewidth": 0,
              "ticks": ""
             }
            },
            "type": "scatterpolargl"
           }
          ],
          "scatterternary": [
           {
            "marker": {
             "colorbar": {
              "outlinewidth": 0,
              "ticks": ""
             }
            },
            "type": "scatterternary"
           }
          ],
          "surface": [
           {
            "colorbar": {
             "outlinewidth": 0,
             "ticks": ""
            },
            "colorscale": [
             [
              0,
              "#0d0887"
             ],
             [
              0.1111111111111111,
              "#46039f"
             ],
             [
              0.2222222222222222,
              "#7201a8"
             ],
             [
              0.3333333333333333,
              "#9c179e"
             ],
             [
              0.4444444444444444,
              "#bd3786"
             ],
             [
              0.5555555555555556,
              "#d8576b"
             ],
             [
              0.6666666666666666,
              "#ed7953"
             ],
             [
              0.7777777777777778,
              "#fb9f3a"
             ],
             [
              0.8888888888888888,
              "#fdca26"
             ],
             [
              1,
              "#f0f921"
             ]
            ],
            "type": "surface"
           }
          ],
          "table": [
           {
            "cells": {
             "fill": {
              "color": "#EBF0F8"
             },
             "line": {
              "color": "white"
             }
            },
            "header": {
             "fill": {
              "color": "#C8D4E3"
             },
             "line": {
              "color": "white"
             }
            },
            "type": "table"
           }
          ]
         },
         "layout": {
          "annotationdefaults": {
           "arrowcolor": "#2a3f5f",
           "arrowhead": 0,
           "arrowwidth": 1
          },
          "autotypenumbers": "strict",
          "coloraxis": {
           "colorbar": {
            "outlinewidth": 0,
            "ticks": ""
           }
          },
          "colorscale": {
           "diverging": [
            [
             0,
             "#8e0152"
            ],
            [
             0.1,
             "#c51b7d"
            ],
            [
             0.2,
             "#de77ae"
            ],
            [
             0.3,
             "#f1b6da"
            ],
            [
             0.4,
             "#fde0ef"
            ],
            [
             0.5,
             "#f7f7f7"
            ],
            [
             0.6,
             "#e6f5d0"
            ],
            [
             0.7,
             "#b8e186"
            ],
            [
             0.8,
             "#7fbc41"
            ],
            [
             0.9,
             "#4d9221"
            ],
            [
             1,
             "#276419"
            ]
           ],
           "sequential": [
            [
             0,
             "#0d0887"
            ],
            [
             0.1111111111111111,
             "#46039f"
            ],
            [
             0.2222222222222222,
             "#7201a8"
            ],
            [
             0.3333333333333333,
             "#9c179e"
            ],
            [
             0.4444444444444444,
             "#bd3786"
            ],
            [
             0.5555555555555556,
             "#d8576b"
            ],
            [
             0.6666666666666666,
             "#ed7953"
            ],
            [
             0.7777777777777778,
             "#fb9f3a"
            ],
            [
             0.8888888888888888,
             "#fdca26"
            ],
            [
             1,
             "#f0f921"
            ]
           ],
           "sequentialminus": [
            [
             0,
             "#0d0887"
            ],
            [
             0.1111111111111111,
             "#46039f"
            ],
            [
             0.2222222222222222,
             "#7201a8"
            ],
            [
             0.3333333333333333,
             "#9c179e"
            ],
            [
             0.4444444444444444,
             "#bd3786"
            ],
            [
             0.5555555555555556,
             "#d8576b"
            ],
            [
             0.6666666666666666,
             "#ed7953"
            ],
            [
             0.7777777777777778,
             "#fb9f3a"
            ],
            [
             0.8888888888888888,
             "#fdca26"
            ],
            [
             1,
             "#f0f921"
            ]
           ]
          },
          "colorway": [
           "#636efa",
           "#EF553B",
           "#00cc96",
           "#ab63fa",
           "#FFA15A",
           "#19d3f3",
           "#FF6692",
           "#B6E880",
           "#FF97FF",
           "#FECB52"
          ],
          "font": {
           "color": "#2a3f5f"
          },
          "geo": {
           "bgcolor": "white",
           "lakecolor": "white",
           "landcolor": "white",
           "showlakes": true,
           "showland": true,
           "subunitcolor": "#C8D4E3"
          },
          "hoverlabel": {
           "align": "left"
          },
          "hovermode": "closest",
          "mapbox": {
           "style": "light"
          },
          "paper_bgcolor": "white",
          "plot_bgcolor": "white",
          "polar": {
           "angularaxis": {
            "gridcolor": "#EBF0F8",
            "linecolor": "#EBF0F8",
            "ticks": ""
           },
           "bgcolor": "white",
           "radialaxis": {
            "gridcolor": "#EBF0F8",
            "linecolor": "#EBF0F8",
            "ticks": ""
           }
          },
          "scene": {
           "xaxis": {
            "backgroundcolor": "white",
            "gridcolor": "#DFE8F3",
            "gridwidth": 2,
            "linecolor": "#EBF0F8",
            "showbackground": true,
            "ticks": "",
            "zerolinecolor": "#EBF0F8"
           },
           "yaxis": {
            "backgroundcolor": "white",
            "gridcolor": "#DFE8F3",
            "gridwidth": 2,
            "linecolor": "#EBF0F8",
            "showbackground": true,
            "ticks": "",
            "zerolinecolor": "#EBF0F8"
           },
           "zaxis": {
            "backgroundcolor": "white",
            "gridcolor": "#DFE8F3",
            "gridwidth": 2,
            "linecolor": "#EBF0F8",
            "showbackground": true,
            "ticks": "",
            "zerolinecolor": "#EBF0F8"
           }
          },
          "shapedefaults": {
           "line": {
            "color": "#2a3f5f"
           }
          },
          "ternary": {
           "aaxis": {
            "gridcolor": "#DFE8F3",
            "linecolor": "#A2B1C6",
            "ticks": ""
           },
           "baxis": {
            "gridcolor": "#DFE8F3",
            "linecolor": "#A2B1C6",
            "ticks": ""
           },
           "bgcolor": "white",
           "caxis": {
            "gridcolor": "#DFE8F3",
            "linecolor": "#A2B1C6",
            "ticks": ""
           }
          },
          "title": {
           "x": 0.05
          },
          "xaxis": {
           "automargin": true,
           "gridcolor": "#EBF0F8",
           "linecolor": "#EBF0F8",
           "ticks": "",
           "title": {
            "standoff": 15
           },
           "zerolinecolor": "#EBF0F8",
           "zerolinewidth": 2
          },
          "yaxis": {
           "automargin": true,
           "gridcolor": "#EBF0F8",
           "linecolor": "#EBF0F8",
           "ticks": "",
           "title": {
            "standoff": 15
           },
           "zerolinecolor": "#EBF0F8",
           "zerolinewidth": 2
          }
         }
        },
        "title": {
         "text": "dqfim_d_eff vs dqfim_var_nonzero_log colored by error"
        },
        "width": 1000,
        "xaxis": {
         "anchor": "y",
         "domain": [
          0,
          1
         ],
         "gridcolor": "lightgray",
         "gridwidth": 1,
         "showgrid": true,
         "ticklabelstandoff": 10,
         "title": {
          "text": "dqfim_d_eff"
         }
        },
        "yaxis": {
         "anchor": "x",
         "domain": [
          0,
          1
         ],
         "gridcolor": "lightgray",
         "gridwidth": 1,
         "showgrid": true,
         "ticklabelstandoff": 10,
         "title": {
          "text": "dqfim_var_nonzero_log"
         }
        }
       }
      }
     },
     "metadata": {},
     "output_type": "display_data"
    }
   ],
   "source": [
    "fig = plot_two_metrics_with_color(\n",
    "    df_agg_by_test_key,\n",
    "    x_qfim_type='dqfim',\n",
    "   \n",
    "    x_metric=\"d_eff\",\n",
    "    y_qfim_type=None,\n",
    "    y_metric=\"dqfim_var_nonzero_log\",\n",
    "    color_metric=\"error\",\n",
    "    add_trendline=False,\n",
    "    cmap_name=\"viridis\",\n",
    "    gamma=1.5,\n",
    "    # log_x=True,\n",
    "    # log_y=True,\n",
    ")\n",
    "fig.show() "
   ]
  },
  {
   "cell_type": "code",
   "execution_count": null,
   "metadata": {},
   "outputs": [],
   "source": []
  },
  {
   "cell_type": "code",
   "execution_count": null,
   "metadata": {},
   "outputs": [],
   "source": []
  },
  {
   "cell_type": "code",
   "execution_count": null,
   "metadata": {},
   "outputs": [],
   "source": []
  },
  {
   "cell_type": "code",
   "execution_count": null,
   "metadata": {},
   "outputs": [],
   "source": []
  },
  {
   "cell_type": "code",
   "execution_count": null,
   "metadata": {},
   "outputs": [],
   "source": []
  },
  {
   "cell_type": "code",
   "execution_count": null,
   "metadata": {},
   "outputs": [],
   "source": []
  }
 ],
 "metadata": {
  "kernelspec": {
   "display_name": "jit_env",
   "language": "python",
   "name": "python3"
  },
  "language_info": {
   "codemirror_mode": {
    "name": "ipython",
    "version": 3
   },
   "file_extension": ".py",
   "mimetype": "text/x-python",
   "name": "python",
   "nbconvert_exporter": "python",
   "pygments_lexer": "ipython3",
   "version": "3.12.7"
  }
 },
 "nbformat": 4,
 "nbformat_minor": 2
}
